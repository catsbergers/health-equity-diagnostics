{
 "cells": [
  {
   "cell_type": "code",
   "execution_count": 1,
   "metadata": {},
   "outputs": [],
   "source": [
    "import os, sys\n",
    "import geopandas as gpd\n",
    "import pandas as pd\n",
    "import rasterio as rio\n",
    "import numpy as np\n",
    "from shapely.geometry import Point\n",
    "import skimage.graph as graph"
   ]
  },
  {
   "cell_type": "code",
   "execution_count": 2,
   "metadata": {},
   "outputs": [],
   "source": [
    "sys.path.append('/home/wb514197/Repos/gostrocks/src') # gostrocks is used for some basic raster operations (clip and standardize)\n",
    "sys.path.append('/home/wb514197/Repos/GOSTNets_Raster/src') # gostnets_raster has functions to work with friction surface\n",
    "sys.path.append('/home/wb514197/Repos/GOSTnets') # it also depends on gostnets for some reason\n",
    "sys.path.append('/home/wb514197/Repos/INFRA_SAP') # only used to save some raster results\n",
    "# sys.path.append('/home/wb514197/Repos/HospitalAccessibility/src') # only used to save some raster results"
   ]
  },
  {
   "cell_type": "code",
   "execution_count": 3,
   "metadata": {},
   "outputs": [
    {
     "name": "stdout",
     "output_type": "stream",
     "text": [
      "no xarray\n"
     ]
    }
   ],
   "source": [
    "import GOSTRocks.rasterMisc as rMisc\n",
    "import GOSTNetsRaster.market_access as ma\n",
    "from infrasap import aggregator"
   ]
  },
  {
   "cell_type": "code",
   "execution_count": 4,
   "metadata": {},
   "outputs": [],
   "source": [
    "iso3 = 'LBR'"
   ]
  },
  {
   "cell_type": "code",
   "execution_count": 5,
   "metadata": {},
   "outputs": [],
   "source": [
    "input_dir = \"/home/public/Data/PROJECTS/Health\" #\n",
    "out_folder = os.path.join(input_dir, \"output\", iso3)\n",
    "if not os.path.exists(out_folder):\n",
    "    os.mkdir(out_folder)"
   ]
  },
  {
   "cell_type": "markdown",
   "metadata": {},
   "source": [
    "### Destinations"
   ]
  },
  {
   "cell_type": "code",
   "execution_count": 48,
   "metadata": {},
   "outputs": [],
   "source": [
    "lbr_master = pd.read_csv(os.path.join(input_dir, \"from_tashrik\", \"master lists\", \"Liberia MFL Adjusted.csv\"), index_col=0)\n",
    "lbr_geocoded = pd.read_csv(os.path.join(input_dir, \"from_tashrik\", \"master lists\", \"Liberia MFL Adjusted Geocoded_Validated.csv\"), index_col=0)"
   ]
  },
  {
   "cell_type": "code",
   "execution_count": 49,
   "metadata": {},
   "outputs": [
    {
     "data": {
      "text/plain": [
       "873"
      ]
     },
     "execution_count": 49,
     "metadata": {},
     "output_type": "execute_result"
    }
   ],
   "source": [
    "len(lbr_master)"
   ]
  },
  {
   "cell_type": "code",
   "execution_count": 50,
   "metadata": {},
   "outputs": [],
   "source": [
    "lbr = lbr_master.loc[lbr_master.functional==\"functional\"].copy()"
   ]
  },
  {
   "cell_type": "code",
   "execution_count": 51,
   "metadata": {},
   "outputs": [
    {
     "data": {
      "text/plain": [
       "872"
      ]
     },
     "execution_count": 51,
     "metadata": {},
     "output_type": "execute_result"
    }
   ],
   "source": [
    "len(lbr)"
   ]
  },
  {
   "cell_type": "code",
   "execution_count": 37,
   "metadata": {},
   "outputs": [],
   "source": [
    "lbr = lbr.loc[~(lbr.latitude.isna())].copy()"
   ]
  },
  {
   "cell_type": "code",
   "execution_count": 38,
   "metadata": {},
   "outputs": [
    {
     "data": {
      "text/plain": [
       "clinic           696\n",
       "health center     86\n",
       "hospital          24\n",
       "health post        6\n",
       "schoold based      4\n",
       "SDP                1\n",
       "Name: facilitytype, dtype: int64"
      ]
     },
     "execution_count": 38,
     "metadata": {},
     "output_type": "execute_result"
    }
   ],
   "source": [
    "lbr.facilitytype.value_counts()"
   ]
  },
  {
   "cell_type": "code",
   "execution_count": 39,
   "metadata": {},
   "outputs": [
    {
     "data": {
      "text/plain": [
       "(817, 55)"
      ]
     },
     "execution_count": 39,
     "metadata": {},
     "output_type": "execute_result"
    }
   ],
   "source": [
    "len(lbr), len(lbr_geocoded)"
   ]
  },
  {
   "cell_type": "code",
   "execution_count": 40,
   "metadata": {},
   "outputs": [
    {
     "data": {
      "text/plain": [
       "Location from old Master List     43\n",
       "District name and county query     8\n",
       "Location from Health Sites IO      2\n",
       "Fuzzy match to OSM by Tashrik      2\n",
       "Name: geocoding_method, dtype: int64"
      ]
     },
     "execution_count": 40,
     "metadata": {},
     "output_type": "execute_result"
    }
   ],
   "source": [
    "lbr_geocoded.geocoding_method.value_counts()"
   ]
  },
  {
   "cell_type": "code",
   "execution_count": 41,
   "metadata": {},
   "outputs": [],
   "source": [
    "lbr_geocoded = lbr_geocoded.loc[lbr_geocoded.geocoding_method!=\"District name and county query\"].copy()"
   ]
  },
  {
   "cell_type": "code",
   "execution_count": 47,
   "metadata": {},
   "outputs": [
    {
     "data": {
      "text/plain": [
       "8"
      ]
     },
     "execution_count": 47,
     "metadata": {},
     "output_type": "execute_result"
    }
   ],
   "source": [
    "55-47"
   ]
  },
  {
   "cell_type": "code",
   "execution_count": 42,
   "metadata": {},
   "outputs": [
    {
     "data": {
      "text/plain": [
       "(817, 47)"
      ]
     },
     "execution_count": 42,
     "metadata": {},
     "output_type": "execute_result"
    }
   ],
   "source": [
    "len(lbr), len(lbr_geocoded)"
   ]
  },
  {
   "cell_type": "code",
   "execution_count": 43,
   "metadata": {},
   "outputs": [],
   "source": [
    "lbr = pd.concat([lbr, lbr_geocoded])"
   ]
  },
  {
   "cell_type": "code",
   "execution_count": 44,
   "metadata": {},
   "outputs": [],
   "source": [
    "lbr.reset_index(drop=True, inplace=True)"
   ]
  },
  {
   "cell_type": "code",
   "execution_count": 45,
   "metadata": {},
   "outputs": [
    {
     "data": {
      "text/plain": [
       "Index(['admin_county', 'admin_district', 'today', 'latitude', 'longitude',\n",
       "       '_getcoordinate_altitude', 'precision', 'facilitytype', 'ownership',\n",
       "       'opendate', 'functional', 'offer_anc', 'offer_obstetric', 'offer_emonc',\n",
       "       'offer_postpartum', 'offer_newborncare', 'offer_maternalnewboen',\n",
       "       'offer_csection', 'offer_childimmune', 'offer_imci',\n",
       "       'offer_essentialnutrition', 'offer_fpcouple', 'offer_fpcounsel',\n",
       "       'offer_adolescentsrhr', 'offer_sexgender', 'offer_detectmanage',\n",
       "       'offer_precenttreat', 'dup', 'update_date', 'geocoding_method',\n",
       "       'facility'],\n",
       "      dtype='object')"
      ]
     },
     "execution_count": 45,
     "metadata": {},
     "output_type": "execute_result"
    }
   ],
   "source": [
    "lbr.columns"
   ]
  },
  {
   "cell_type": "code",
   "execution_count": 31,
   "metadata": {},
   "outputs": [
    {
     "data": {
      "text/plain": [
       "clinic           741\n",
       "health center     88\n",
       "hospital          24\n",
       "health post        6\n",
       "schoold based      4\n",
       "SDP                1\n",
       "Name: facilitytype, dtype: int64"
      ]
     },
     "execution_count": 31,
     "metadata": {},
     "output_type": "execute_result"
    }
   ],
   "source": [
    "lbr.facilitytype.value_counts()"
   ]
  },
  {
   "cell_type": "code",
   "execution_count": 46,
   "metadata": {},
   "outputs": [
    {
     "data": {
      "text/plain": [
       "864"
      ]
     },
     "execution_count": 46,
     "metadata": {},
     "output_type": "execute_result"
    }
   ],
   "source": [
    "len(lbr)"
   ]
  },
  {
   "cell_type": "code",
   "execution_count": 17,
   "metadata": {},
   "outputs": [],
   "source": [
    "geoms = [Point(xy) for xy in zip(lbr.longitude, lbr.latitude)]\n",
    "lbr_geo = gpd.GeoDataFrame(lbr, crs='EPSG:4326', geometry=geoms)"
   ]
  },
  {
   "cell_type": "code",
   "execution_count": 18,
   "metadata": {},
   "outputs": [
    {
     "data": {
      "text/html": [
       "<div>\n",
       "<style scoped>\n",
       "    .dataframe tbody tr th:only-of-type {\n",
       "        vertical-align: middle;\n",
       "    }\n",
       "\n",
       "    .dataframe tbody tr th {\n",
       "        vertical-align: top;\n",
       "    }\n",
       "\n",
       "    .dataframe thead th {\n",
       "        text-align: right;\n",
       "    }\n",
       "</style>\n",
       "<table border=\"1\" class=\"dataframe\">\n",
       "  <thead>\n",
       "    <tr style=\"text-align: right;\">\n",
       "      <th></th>\n",
       "      <th>admin_county</th>\n",
       "      <th>admin_district</th>\n",
       "      <th>today</th>\n",
       "      <th>latitude</th>\n",
       "      <th>longitude</th>\n",
       "      <th>_getcoordinate_altitude</th>\n",
       "      <th>precision</th>\n",
       "      <th>facilitytype</th>\n",
       "      <th>ownership</th>\n",
       "      <th>opendate</th>\n",
       "      <th>...</th>\n",
       "      <th>offer_fpcounsel</th>\n",
       "      <th>offer_adolescentsrhr</th>\n",
       "      <th>offer_sexgender</th>\n",
       "      <th>offer_detectmanage</th>\n",
       "      <th>offer_precenttreat</th>\n",
       "      <th>dup</th>\n",
       "      <th>update_date</th>\n",
       "      <th>geocoding_method</th>\n",
       "      <th>facility</th>\n",
       "      <th>geometry</th>\n",
       "    </tr>\n",
       "  </thead>\n",
       "  <tbody>\n",
       "    <tr>\n",
       "      <th>0</th>\n",
       "      <td>Montserrado</td>\n",
       "      <td>Somalia Drive</td>\n",
       "      <td>2021-08-07</td>\n",
       "      <td>6.331593</td>\n",
       "      <td>-10.743366</td>\n",
       "      <td>4.009424</td>\n",
       "      <td>4.983</td>\n",
       "      <td>clinic</td>\n",
       "      <td>Private (non-faith based)</td>\n",
       "      <td>2013</td>\n",
       "      <td>...</td>\n",
       "      <td>1.0</td>\n",
       "      <td>0.0</td>\n",
       "      <td>0.0</td>\n",
       "      <td>0.0</td>\n",
       "      <td>0.0</td>\n",
       "      <td>0</td>\n",
       "      <td>07aug2021</td>\n",
       "      <td>NaN</td>\n",
       "      <td>NaN</td>\n",
       "      <td>POINT (-10.74337 6.33159)</td>\n",
       "    </tr>\n",
       "    <tr>\n",
       "      <th>1</th>\n",
       "      <td>Montserrado</td>\n",
       "      <td>Central Monrovia</td>\n",
       "      <td>2021-10-19</td>\n",
       "      <td>6.304997</td>\n",
       "      <td>-10.799709</td>\n",
       "      <td>2.900000</td>\n",
       "      <td>4.978</td>\n",
       "      <td>clinic</td>\n",
       "      <td>Private, (faith based)</td>\n",
       "      <td>1988</td>\n",
       "      <td>...</td>\n",
       "      <td>NaN</td>\n",
       "      <td>NaN</td>\n",
       "      <td>NaN</td>\n",
       "      <td>NaN</td>\n",
       "      <td>NaN</td>\n",
       "      <td>0</td>\n",
       "      <td>19oct2021</td>\n",
       "      <td>NaN</td>\n",
       "      <td>NaN</td>\n",
       "      <td>POINT (-10.79971 6.30500)</td>\n",
       "    </tr>\n",
       "    <tr>\n",
       "      <th>2</th>\n",
       "      <td>Montserrado</td>\n",
       "      <td>St Paul River</td>\n",
       "      <td>2021-11-18</td>\n",
       "      <td>6.412980</td>\n",
       "      <td>-10.778231</td>\n",
       "      <td>-2.712283</td>\n",
       "      <td>4.933</td>\n",
       "      <td>clinic</td>\n",
       "      <td>Private (non-faith based)</td>\n",
       "      <td>2018</td>\n",
       "      <td>...</td>\n",
       "      <td>NaN</td>\n",
       "      <td>NaN</td>\n",
       "      <td>NaN</td>\n",
       "      <td>NaN</td>\n",
       "      <td>NaN</td>\n",
       "      <td>0</td>\n",
       "      <td>18nov2021</td>\n",
       "      <td>NaN</td>\n",
       "      <td>NaN</td>\n",
       "      <td>POINT (-10.77823 6.41298)</td>\n",
       "    </tr>\n",
       "    <tr>\n",
       "      <th>3</th>\n",
       "      <td>Montserrado</td>\n",
       "      <td>St Paul River</td>\n",
       "      <td>2021-08-23</td>\n",
       "      <td>6.413318</td>\n",
       "      <td>-10.778419</td>\n",
       "      <td>17.595896</td>\n",
       "      <td>4.966</td>\n",
       "      <td>clinic</td>\n",
       "      <td>Public</td>\n",
       "      <td>1950</td>\n",
       "      <td>...</td>\n",
       "      <td>1.0</td>\n",
       "      <td>1.0</td>\n",
       "      <td>0.0</td>\n",
       "      <td>0.0</td>\n",
       "      <td>0.0</td>\n",
       "      <td>0</td>\n",
       "      <td>23aug2021</td>\n",
       "      <td>NaN</td>\n",
       "      <td>NaN</td>\n",
       "      <td>POINT (-10.77842 6.41332)</td>\n",
       "    </tr>\n",
       "    <tr>\n",
       "      <th>4</th>\n",
       "      <td>Montserrado</td>\n",
       "      <td>Commonwealth</td>\n",
       "      <td>2021-11-17</td>\n",
       "      <td>6.311818</td>\n",
       "      <td>-10.654602</td>\n",
       "      <td>22.641799</td>\n",
       "      <td>4.950</td>\n",
       "      <td>clinic</td>\n",
       "      <td>Private, (faith based)</td>\n",
       "      <td>2013</td>\n",
       "      <td>...</td>\n",
       "      <td>0.0</td>\n",
       "      <td>0.0</td>\n",
       "      <td>0.0</td>\n",
       "      <td>0.0</td>\n",
       "      <td>0.0</td>\n",
       "      <td>0</td>\n",
       "      <td>17nov2021</td>\n",
       "      <td>NaN</td>\n",
       "      <td>NaN</td>\n",
       "      <td>POINT (-10.65460 6.31182)</td>\n",
       "    </tr>\n",
       "    <tr>\n",
       "      <th>...</th>\n",
       "      <td>...</td>\n",
       "      <td>...</td>\n",
       "      <td>...</td>\n",
       "      <td>...</td>\n",
       "      <td>...</td>\n",
       "      <td>...</td>\n",
       "      <td>...</td>\n",
       "      <td>...</td>\n",
       "      <td>...</td>\n",
       "      <td>...</td>\n",
       "      <td>...</td>\n",
       "      <td>...</td>\n",
       "      <td>...</td>\n",
       "      <td>...</td>\n",
       "      <td>...</td>\n",
       "      <td>...</td>\n",
       "      <td>...</td>\n",
       "      <td>...</td>\n",
       "      <td>...</td>\n",
       "      <td>...</td>\n",
       "      <td>...</td>\n",
       "    </tr>\n",
       "    <tr>\n",
       "      <th>859</th>\n",
       "      <td>Grand Cape Mount</td>\n",
       "      <td>Garwula</td>\n",
       "      <td>6/10/2021</td>\n",
       "      <td>6.894938</td>\n",
       "      <td>-11.138828</td>\n",
       "      <td>NaN</td>\n",
       "      <td>NaN</td>\n",
       "      <td>clinic</td>\n",
       "      <td>Public</td>\n",
       "      <td>2007</td>\n",
       "      <td>...</td>\n",
       "      <td>1.0</td>\n",
       "      <td>1.0</td>\n",
       "      <td>1.0</td>\n",
       "      <td>0.0</td>\n",
       "      <td>0.0</td>\n",
       "      <td>0</td>\n",
       "      <td>10-Jun-21</td>\n",
       "      <td>Location from old Master List</td>\n",
       "      <td>Zaway Clinic</td>\n",
       "      <td>POINT (-11.13883 6.89494)</td>\n",
       "    </tr>\n",
       "    <tr>\n",
       "      <th>860</th>\n",
       "      <td>Sinoe</td>\n",
       "      <td>Butaw</td>\n",
       "      <td>6/12/2021</td>\n",
       "      <td>5.119427</td>\n",
       "      <td>-9.070022</td>\n",
       "      <td>NaN</td>\n",
       "      <td>NaN</td>\n",
       "      <td>clinic</td>\n",
       "      <td>Public</td>\n",
       "      <td>1974</td>\n",
       "      <td>...</td>\n",
       "      <td>1.0</td>\n",
       "      <td>1.0</td>\n",
       "      <td>1.0</td>\n",
       "      <td>0.0</td>\n",
       "      <td>0.0</td>\n",
       "      <td>1</td>\n",
       "      <td>12-Jun-21</td>\n",
       "      <td>Location from old Master List</td>\n",
       "      <td>Butaw Clinic</td>\n",
       "      <td>POINT (-9.07002 5.11943)</td>\n",
       "    </tr>\n",
       "    <tr>\n",
       "      <th>861</th>\n",
       "      <td>Bong</td>\n",
       "      <td>Fuamah</td>\n",
       "      <td>8/8/2021</td>\n",
       "      <td>7.097913</td>\n",
       "      <td>-10.166629</td>\n",
       "      <td>NaN</td>\n",
       "      <td>NaN</td>\n",
       "      <td>clinic</td>\n",
       "      <td>Public</td>\n",
       "      <td>1978</td>\n",
       "      <td>...</td>\n",
       "      <td>1.0</td>\n",
       "      <td>1.0</td>\n",
       "      <td>1.0</td>\n",
       "      <td>0.0</td>\n",
       "      <td>0.0</td>\n",
       "      <td>1</td>\n",
       "      <td>8-Aug-21</td>\n",
       "      <td>Location from old Master List</td>\n",
       "      <td>Degei Clinic</td>\n",
       "      <td>POINT (-10.16663 7.09791)</td>\n",
       "    </tr>\n",
       "    <tr>\n",
       "      <th>862</th>\n",
       "      <td>Lofa</td>\n",
       "      <td>Kolahun</td>\n",
       "      <td>9/7/2021</td>\n",
       "      <td>8.221433</td>\n",
       "      <td>-10.173505</td>\n",
       "      <td>NaN</td>\n",
       "      <td>NaN</td>\n",
       "      <td>clinic</td>\n",
       "      <td>Public</td>\n",
       "      <td>1973</td>\n",
       "      <td>...</td>\n",
       "      <td>1.0</td>\n",
       "      <td>1.0</td>\n",
       "      <td>1.0</td>\n",
       "      <td>0.0</td>\n",
       "      <td>0.0</td>\n",
       "      <td>1</td>\n",
       "      <td>7-Sep-21</td>\n",
       "      <td>Location from old Master List</td>\n",
       "      <td>Fangoda Clinic</td>\n",
       "      <td>POINT (-10.17351 8.22143)</td>\n",
       "    </tr>\n",
       "    <tr>\n",
       "      <th>863</th>\n",
       "      <td>Lofa</td>\n",
       "      <td>Foya</td>\n",
       "      <td>9/12/2021</td>\n",
       "      <td>8.436316</td>\n",
       "      <td>-10.107498</td>\n",
       "      <td>NaN</td>\n",
       "      <td>NaN</td>\n",
       "      <td>clinic</td>\n",
       "      <td>Public</td>\n",
       "      <td>1979</td>\n",
       "      <td>...</td>\n",
       "      <td>1.0</td>\n",
       "      <td>1.0</td>\n",
       "      <td>0.0</td>\n",
       "      <td>0.0</td>\n",
       "      <td>0.0</td>\n",
       "      <td>1</td>\n",
       "      <td>12-Sep-21</td>\n",
       "      <td>Location from old Master List</td>\n",
       "      <td>Porluma Clinic</td>\n",
       "      <td>POINT (-10.10750 8.43632)</td>\n",
       "    </tr>\n",
       "  </tbody>\n",
       "</table>\n",
       "<p>864 rows × 32 columns</p>\n",
       "</div>"
      ],
      "text/plain": [
       "         admin_county    admin_district       today  latitude  longitude  \\\n",
       "0         Montserrado     Somalia Drive  2021-08-07  6.331593 -10.743366   \n",
       "1         Montserrado  Central Monrovia  2021-10-19  6.304997 -10.799709   \n",
       "2         Montserrado     St Paul River  2021-11-18  6.412980 -10.778231   \n",
       "3         Montserrado     St Paul River  2021-08-23  6.413318 -10.778419   \n",
       "4         Montserrado      Commonwealth  2021-11-17  6.311818 -10.654602   \n",
       "..                ...               ...         ...       ...        ...   \n",
       "859  Grand Cape Mount           Garwula   6/10/2021  6.894938 -11.138828   \n",
       "860             Sinoe             Butaw   6/12/2021  5.119427  -9.070022   \n",
       "861              Bong            Fuamah    8/8/2021  7.097913 -10.166629   \n",
       "862              Lofa           Kolahun    9/7/2021  8.221433 -10.173505   \n",
       "863              Lofa              Foya   9/12/2021  8.436316 -10.107498   \n",
       "\n",
       "     _getcoordinate_altitude  precision facilitytype  \\\n",
       "0                   4.009424      4.983       clinic   \n",
       "1                   2.900000      4.978       clinic   \n",
       "2                  -2.712283      4.933       clinic   \n",
       "3                  17.595896      4.966       clinic   \n",
       "4                  22.641799      4.950       clinic   \n",
       "..                       ...        ...          ...   \n",
       "859                      NaN        NaN       clinic   \n",
       "860                      NaN        NaN       clinic   \n",
       "861                      NaN        NaN       clinic   \n",
       "862                      NaN        NaN       clinic   \n",
       "863                      NaN        NaN       clinic   \n",
       "\n",
       "                     ownership  opendate  ... offer_fpcounsel  \\\n",
       "0    Private (non-faith based)      2013  ...             1.0   \n",
       "1       Private, (faith based)      1988  ...             NaN   \n",
       "2    Private (non-faith based)      2018  ...             NaN   \n",
       "3                       Public      1950  ...             1.0   \n",
       "4       Private, (faith based)      2013  ...             0.0   \n",
       "..                         ...       ...  ...             ...   \n",
       "859                     Public      2007  ...             1.0   \n",
       "860                     Public      1974  ...             1.0   \n",
       "861                     Public      1978  ...             1.0   \n",
       "862                     Public      1973  ...             1.0   \n",
       "863                     Public      1979  ...             1.0   \n",
       "\n",
       "     offer_adolescentsrhr  offer_sexgender  offer_detectmanage  \\\n",
       "0                     0.0              0.0                 0.0   \n",
       "1                     NaN              NaN                 NaN   \n",
       "2                     NaN              NaN                 NaN   \n",
       "3                     1.0              0.0                 0.0   \n",
       "4                     0.0              0.0                 0.0   \n",
       "..                    ...              ...                 ...   \n",
       "859                   1.0              1.0                 0.0   \n",
       "860                   1.0              1.0                 0.0   \n",
       "861                   1.0              1.0                 0.0   \n",
       "862                   1.0              1.0                 0.0   \n",
       "863                   1.0              0.0                 0.0   \n",
       "\n",
       "     offer_precenttreat  dup  update_date               geocoding_method  \\\n",
       "0                   0.0    0    07aug2021                            NaN   \n",
       "1                   NaN    0    19oct2021                            NaN   \n",
       "2                   NaN    0    18nov2021                            NaN   \n",
       "3                   0.0    0    23aug2021                            NaN   \n",
       "4                   0.0    0    17nov2021                            NaN   \n",
       "..                  ...  ...          ...                            ...   \n",
       "859                 0.0    0    10-Jun-21  Location from old Master List   \n",
       "860                 0.0    1    12-Jun-21  Location from old Master List   \n",
       "861                 0.0    1     8-Aug-21  Location from old Master List   \n",
       "862                 0.0    1     7-Sep-21  Location from old Master List   \n",
       "863                 0.0    1    12-Sep-21  Location from old Master List   \n",
       "\n",
       "           facility                   geometry  \n",
       "0               NaN  POINT (-10.74337 6.33159)  \n",
       "1               NaN  POINT (-10.79971 6.30500)  \n",
       "2               NaN  POINT (-10.77823 6.41298)  \n",
       "3               NaN  POINT (-10.77842 6.41332)  \n",
       "4               NaN  POINT (-10.65460 6.31182)  \n",
       "..              ...                        ...  \n",
       "859    Zaway Clinic  POINT (-11.13883 6.89494)  \n",
       "860    Butaw Clinic   POINT (-9.07002 5.11943)  \n",
       "861    Degei Clinic  POINT (-10.16663 7.09791)  \n",
       "862  Fangoda Clinic  POINT (-10.17351 8.22143)  \n",
       "863  Porluma Clinic  POINT (-10.10750 8.43632)  \n",
       "\n",
       "[864 rows x 32 columns]"
      ]
     },
     "execution_count": 18,
     "metadata": {},
     "output_type": "execute_result"
    }
   ],
   "source": [
    "lbr_geo"
   ]
  },
  {
   "cell_type": "markdown",
   "metadata": {},
   "source": [
    "### Admin Boundaries"
   ]
  },
  {
   "cell_type": "code",
   "execution_count": 24,
   "metadata": {},
   "outputs": [],
   "source": [
    "global_admin = '/home/public/Data/GLOBAL/ADMIN/g2015_0_simplified.shp'\n",
    "adm0 = gpd.read_file(global_admin)\n",
    "aoi = adm0.loc[adm0.ISO3166_1_==iso3]"
   ]
  },
  {
   "cell_type": "code",
   "execution_count": 25,
   "metadata": {},
   "outputs": [],
   "source": [
    "global_admin2 = '/home/public/Data/GLOBAL/ADMIN/Admin2_Polys.shp'\n",
    "adm2 = gpd.read_file(global_admin2)\n",
    "adm2 = adm2.loc[adm2.ISO3==iso3].copy()\n",
    "adm2 = adm2.to_crs(\"EPSG:4326\")"
   ]
  },
  {
   "cell_type": "markdown",
   "metadata": {},
   "source": [
    "### Friction and Population"
   ]
  },
  {
   "cell_type": "code",
   "execution_count": 26,
   "metadata": {},
   "outputs": [],
   "source": [
    "global_friction_surface = \"/home/public/Data/GLOBAL/INFRA/FRICTION_2020/2020_motorized_friction_surface.geotiff\"\n",
    "global_population = \"/home/public/Data/GLOBAL/Population/WorldPop_PPP_2020/ppp_2020_1km_Aggregated.tif\""
   ]
  },
  {
   "cell_type": "code",
   "execution_count": 27,
   "metadata": {},
   "outputs": [],
   "source": [
    "inG = rio.open(global_friction_surface)"
   ]
  },
  {
   "cell_type": "code",
   "execution_count": 28,
   "metadata": {},
   "outputs": [
    {
     "name": "stderr",
     "output_type": "stream",
     "text": [
      "/home/wb514197/Repos/gostrocks/src/GOSTRocks/rasterMisc.py:73: UserWarning: Geometry is in a geographic CRS. Results from 'buffer' are likely incorrect. Use 'GeoSeries.to_crs()' to re-project geometries to a projected CRS before this operation.\n",
      "\n",
      "  inD = inD.buffer(buff)\n"
     ]
    }
   ],
   "source": [
    "# Clip the travel raster to AOI\n",
    "out_travel_surface = os.path.join(out_folder, \"travel_surface.tif\")\n",
    "rMisc.clipRaster(inG, aoi, out_travel_surface, bbox=False, buff=0.1)"
   ]
  },
  {
   "cell_type": "code",
   "execution_count": 29,
   "metadata": {},
   "outputs": [],
   "source": [
    "inP = rio.open(global_population)"
   ]
  },
  {
   "cell_type": "code",
   "execution_count": 30,
   "metadata": {},
   "outputs": [
    {
     "name": "stderr",
     "output_type": "stream",
     "text": [
      "/home/wb514197/Repos/gostrocks/src/GOSTRocks/rasterMisc.py:73: UserWarning: Geometry is in a geographic CRS. Results from 'buffer' are likely incorrect. Use 'GeoSeries.to_crs()' to re-project geometries to a projected CRS before this operation.\n",
      "\n",
      "  inD = inD.buffer(buff)\n"
     ]
    }
   ],
   "source": [
    "# Clip the pop raster to AOI\n",
    "out_pop = os.path.join(out_folder, \"WP_2020_1km.tif\")\n",
    "rMisc.clipRaster(inP, aoi, out_pop, bbox=False, buff=0.1)"
   ]
  },
  {
   "cell_type": "code",
   "execution_count": 31,
   "metadata": {},
   "outputs": [],
   "source": [
    "travel_surf = rio.open(out_travel_surface)\n",
    "pop_surf = rio.open(out_pop)"
   ]
  },
  {
   "cell_type": "code",
   "execution_count": 32,
   "metadata": {
    "scrolled": true
   },
   "outputs": [
    {
     "data": {
      "text/plain": [
       "[array([[[0., 0., 0., ..., 0., 0., 0.],\n",
       "         [0., 0., 0., ..., 0., 0., 0.],\n",
       "         [0., 0., 0., ..., 0., 0., 0.],\n",
       "         ...,\n",
       "         [0., 0., 0., ..., 0., 0., 0.],\n",
       "         [0., 0., 0., ..., 0., 0., 0.],\n",
       "         [0., 0., 0., ..., 0., 0., 0.]]], dtype=float32),\n",
       " {'driver': 'GTiff',\n",
       "  'dtype': 'float32',\n",
       "  'nodata': -3.4028234663852886e+38,\n",
       "  'width': 521,\n",
       "  'height': 528,\n",
       "  'count': 1,\n",
       "  'crs': CRS.from_epsg(4326),\n",
       "  'transform': Affine(0.008333333333333333, 0.0, -11.599999999999994,\n",
       "         0.0, -0.008333333333333333, 8.658333333333331)}]"
      ]
     },
     "execution_count": 32,
     "metadata": {},
     "output_type": "execute_result"
    }
   ],
   "source": [
    "# standardize so that they have the same number of pixels and dimensions\n",
    "out_pop_surface_std = os.path.join(out_folder, \"WP_2020_1km_STD.tif\")\n",
    "rMisc.standardizeInputRasters(pop_surf, travel_surf, out_pop_surface_std, resampling_type=\"nearest\")"
   ]
  },
  {
   "cell_type": "code",
   "execution_count": 33,
   "metadata": {},
   "outputs": [
    {
     "name": "stderr",
     "output_type": "stream",
     "text": [
      "/home/wb514197/.conda/envs/graph/lib/python3.7/site-packages/pandas/core/dtypes/cast.py:121: ShapelyDeprecationWarning: The array interface is deprecated and will no longer work in Shapely 2.0. Convert the '.coords' to a numpy array instead.\n",
      "  arr = construct_1d_object_array_from_listlike(values)\n"
     ]
    }
   ],
   "source": [
    "# create a data frame of all points\n",
    "pop_surf = rio.open(out_pop_surface_std)\n",
    "pop = pop_surf.read(1, masked=True)\n",
    "indices = list(np.ndindex(pop.shape))\n",
    "xys = [Point(pop_surf.xy(ind[0], ind[1])) for ind in indices]\n",
    "res_df = pd.DataFrame({\n",
    "    'spatial_index': indices, \n",
    "    'xy': xys, \n",
    "    'pop': pop.flatten()\n",
    "})\n",
    "res_df['pointid'] = res_df.index"
   ]
  },
  {
   "cell_type": "code",
   "execution_count": 34,
   "metadata": {},
   "outputs": [],
   "source": [
    "# create MCP object\n",
    "inG_data = travel_surf.read(1) * 1000 # minutes to travel 1 meter, convert to km\n",
    "# Correct no data values\n",
    "inG_data[inG_data < 0] = 9999999999 # untraversable\n",
    "# inG_data[inG_data < 0] = np.nan\n",
    "mcp = graph.MCP_Geometric(inG_data)"
   ]
  },
  {
   "cell_type": "markdown",
   "metadata": {},
   "source": [
    "Separate destinations"
   ]
  },
  {
   "cell_type": "code",
   "execution_count": 35,
   "metadata": {},
   "outputs": [],
   "source": [
    "lbr_geo_filt = lbr_geo.loc[lbr_geo.intersects(aoi.unary_union)]"
   ]
  },
  {
   "cell_type": "code",
   "execution_count": 36,
   "metadata": {},
   "outputs": [],
   "source": [
    "lbr_geo_filt.reset_index(inplace=True, drop=True)"
   ]
  },
  {
   "cell_type": "code",
   "execution_count": 37,
   "metadata": {
    "scrolled": true
   },
   "outputs": [
    {
     "data": {
      "text/plain": [
       "(864, 857)"
      ]
     },
     "execution_count": 37,
     "metadata": {},
     "output_type": "execute_result"
    }
   ],
   "source": [
    "len(lbr_geo), len(lbr_geo_filt)"
   ]
  },
  {
   "cell_type": "code",
   "execution_count": 46,
   "metadata": {},
   "outputs": [
    {
     "data": {
      "text/plain": [
       "clinic           735\n",
       "health center     87\n",
       "hospital          24\n",
       "health post        6\n",
       "schoold based      4\n",
       "SDP                1\n",
       "Name: facilitytype, dtype: int64"
      ]
     },
     "execution_count": 46,
     "metadata": {},
     "output_type": "execute_result"
    }
   ],
   "source": [
    "lbr_geo_filt.facilitytype.value_counts()"
   ]
  },
  {
   "cell_type": "code",
   "execution_count": 43,
   "metadata": {},
   "outputs": [],
   "source": [
    "hospitals = lbr_geo_filt.loc[lbr_geo_filt.facilitytype==\"hospital\"].copy()"
   ]
  },
  {
   "cell_type": "code",
   "execution_count": 44,
   "metadata": {},
   "outputs": [],
   "source": [
    "hospitals.reset_index(inplace=True, drop=True)"
   ]
  },
  {
   "cell_type": "code",
   "execution_count": 45,
   "metadata": {
    "scrolled": true
   },
   "outputs": [
    {
     "data": {
      "text/plain": [
       "(857, 24)"
      ]
     },
     "execution_count": 45,
     "metadata": {},
     "output_type": "execute_result"
    }
   ],
   "source": [
    "len(lbr_geo_filt), len(hospitals)"
   ]
  },
  {
   "cell_type": "code",
   "execution_count": 47,
   "metadata": {
    "scrolled": true
   },
   "outputs": [],
   "source": [
    "res_health = ma.calculate_travel_time(travel_surf, mcp, lbr_geo_filt)[0]\n",
    "res_hospital = ma.calculate_travel_time(travel_surf, mcp, hospitals)[0]"
   ]
  },
  {
   "cell_type": "code",
   "execution_count": 48,
   "metadata": {},
   "outputs": [
    {
     "data": {
      "text/plain": [
       "339020541282.76245"
      ]
     },
     "execution_count": 48,
     "metadata": {},
     "output_type": "execute_result"
    }
   ],
   "source": [
    "res_health.mean()"
   ]
  },
  {
   "cell_type": "code",
   "execution_count": 49,
   "metadata": {},
   "outputs": [
    {
     "data": {
      "text/plain": [
       "339020541331.23004"
      ]
     },
     "execution_count": 49,
     "metadata": {},
     "output_type": "execute_result"
    }
   ],
   "source": [
    "res_hospital.mean()"
   ]
  },
  {
   "cell_type": "code",
   "execution_count": 50,
   "metadata": {},
   "outputs": [],
   "source": [
    "res_df.loc[:, f\"tt_health\"] = res_health.flatten()\n",
    "res_df.loc[:, f\"tt_hospital\"] = res_hospital.flatten()"
   ]
  },
  {
   "cell_type": "code",
   "execution_count": 51,
   "metadata": {},
   "outputs": [],
   "source": [
    "res_df = res_df.loc[res_df['pop']>0].copy()\n",
    "res_df = res_df.loc[~(res_df['pop'].isna())].copy()"
   ]
  },
  {
   "cell_type": "code",
   "execution_count": 52,
   "metadata": {},
   "outputs": [],
   "source": [
    "res_df.loc[:,'xy'] = res_df['xy'].apply(Point)\n",
    "res_gdf = gpd.GeoDataFrame(res_df, geometry='xy', crs='EPSG:4326')"
   ]
  },
  {
   "cell_type": "code",
   "execution_count": 53,
   "metadata": {},
   "outputs": [],
   "source": [
    "res_gdf.loc[:, 'geometry'] = res_gdf.loc[:, 'xy']"
   ]
  },
  {
   "cell_type": "code",
   "execution_count": 54,
   "metadata": {},
   "outputs": [],
   "source": [
    "raster_path = out_pop_surface_std"
   ]
  },
  {
   "cell_type": "code",
   "execution_count": 55,
   "metadata": {
    "scrolled": true
   },
   "outputs": [],
   "source": [
    "aggregator.rasterize_gdf(res_gdf, 'tt_health', raster_path, os.path.join(out_folder, \"tt_health.tif\"), nodata=-1)\n",
    "aggregator.rasterize_gdf(res_gdf, 'tt_hospital', raster_path, os.path.join(out_folder, \"tt_hospital.tif\"), nodata=-1)"
   ]
  }
 ],
 "metadata": {
  "kernelspec": {
   "display_name": "Python (Graph)",
   "language": "python",
   "name": "graph"
  },
  "language_info": {
   "codemirror_mode": {
    "name": "ipython",
    "version": 3
   },
   "file_extension": ".py",
   "mimetype": "text/x-python",
   "name": "python",
   "nbconvert_exporter": "python",
   "pygments_lexer": "ipython3",
   "version": "3.7.10"
  }
 },
 "nbformat": 4,
 "nbformat_minor": 2
}
