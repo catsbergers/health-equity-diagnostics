{
 "cells": [
  {
   "cell_type": "code",
   "execution_count": 1,
   "metadata": {},
   "outputs": [],
   "source": [
    "import os, sys\n",
    "import geopandas as gpd\n",
    "import pandas as pd\n",
    "from geopy.geocoders import GeoNames, Nominatim\n",
    "from shapely.geometry import Point"
   ]
  },
  {
   "cell_type": "code",
   "execution_count": 2,
   "metadata": {},
   "outputs": [],
   "source": [
    "iso3 = 'LBR'"
   ]
  },
  {
   "cell_type": "code",
   "execution_count": 3,
   "metadata": {},
   "outputs": [],
   "source": [
    "input_dir = \"/home/public/Data/PROJECTS/Health\" #\n",
    "out_folder = os.path.join(input_dir, \"output\", iso3)\n",
    "# out_folder = r\"C:\\repos\\health-equity-access\\notebooks\\output\"\n",
    "if not os.path.exists(out_folder):\n",
    "    os.mkdir(out_folder)"
   ]
  },
  {
   "cell_type": "markdown",
   "metadata": {},
   "source": [
    "### Destinations\n"
   ]
  },
  {
   "cell_type": "code",
   "execution_count": 4,
   "metadata": {},
   "outputs": [],
   "source": [
    "# lbr_master = pd.read_excel(os.path.join(input_dir, \"from_tashrik\", \"master lists\", \"Liberia.xlsx\"))\n",
    "lbr_master = pd.read_csv(os.path.join(input_dir, \"from_tashrik\", \"master lists\", \"LIberia MFL Adjusted.csv\"))"
   ]
  },
  {
   "cell_type": "code",
   "execution_count": 5,
   "metadata": {},
   "outputs": [
    {
     "data": {
      "text/html": [
       "<div>\n",
       "<style scoped>\n",
       "    .dataframe tbody tr th:only-of-type {\n",
       "        vertical-align: middle;\n",
       "    }\n",
       "\n",
       "    .dataframe tbody tr th {\n",
       "        vertical-align: top;\n",
       "    }\n",
       "\n",
       "    .dataframe thead th {\n",
       "        text-align: right;\n",
       "    }\n",
       "</style>\n",
       "<table border=\"1\" class=\"dataframe\">\n",
       "  <thead>\n",
       "    <tr style=\"text-align: right;\">\n",
       "      <th></th>\n",
       "      <th>facility</th>\n",
       "      <th>admin_county</th>\n",
       "      <th>admin_district</th>\n",
       "      <th>today</th>\n",
       "      <th>latitude</th>\n",
       "      <th>longitude</th>\n",
       "      <th>_getcoordinate_altitude</th>\n",
       "      <th>precision</th>\n",
       "      <th>facilitytype</th>\n",
       "      <th>ownership</th>\n",
       "      <th>...</th>\n",
       "      <th>offer_imci</th>\n",
       "      <th>offer_essentialnutrition</th>\n",
       "      <th>offer_fpcouple</th>\n",
       "      <th>offer_fpcounsel</th>\n",
       "      <th>offer_adolescentsrhr</th>\n",
       "      <th>offer_sexgender</th>\n",
       "      <th>offer_detectmanage</th>\n",
       "      <th>offer_precenttreat</th>\n",
       "      <th>dup</th>\n",
       "      <th>update_date</th>\n",
       "    </tr>\n",
       "  </thead>\n",
       "  <tbody>\n",
       "    <tr>\n",
       "      <th>0</th>\n",
       "      <td>Abc Clinic</td>\n",
       "      <td>Montserrado</td>\n",
       "      <td>Somalia Drive</td>\n",
       "      <td>2021-08-07</td>\n",
       "      <td>6.331593</td>\n",
       "      <td>-10.743366</td>\n",
       "      <td>4.009424</td>\n",
       "      <td>4.983</td>\n",
       "      <td>clinic</td>\n",
       "      <td>Private (non-faith based)</td>\n",
       "      <td>...</td>\n",
       "      <td>1.0</td>\n",
       "      <td>0.0</td>\n",
       "      <td>1.0</td>\n",
       "      <td>1.0</td>\n",
       "      <td>0.0</td>\n",
       "      <td>0.0</td>\n",
       "      <td>0.0</td>\n",
       "      <td>0.0</td>\n",
       "      <td>0</td>\n",
       "      <td>07aug2021</td>\n",
       "    </tr>\n",
       "    <tr>\n",
       "      <th>1</th>\n",
       "      <td>Acfi Medical Clinic</td>\n",
       "      <td>Montserrado</td>\n",
       "      <td>Central Monrovia</td>\n",
       "      <td>2021-10-19</td>\n",
       "      <td>6.304997</td>\n",
       "      <td>-10.799709</td>\n",
       "      <td>2.900000</td>\n",
       "      <td>4.978</td>\n",
       "      <td>clinic</td>\n",
       "      <td>Private, (faith based)</td>\n",
       "      <td>...</td>\n",
       "      <td>0.0</td>\n",
       "      <td>0.0</td>\n",
       "      <td>NaN</td>\n",
       "      <td>NaN</td>\n",
       "      <td>NaN</td>\n",
       "      <td>NaN</td>\n",
       "      <td>NaN</td>\n",
       "      <td>NaN</td>\n",
       "      <td>0</td>\n",
       "      <td>19oct2021</td>\n",
       "    </tr>\n",
       "    <tr>\n",
       "      <th>2</th>\n",
       "      <td>Acres Clinic</td>\n",
       "      <td>Montserrado</td>\n",
       "      <td>St Paul River</td>\n",
       "      <td>2021-11-18</td>\n",
       "      <td>6.412980</td>\n",
       "      <td>-10.778231</td>\n",
       "      <td>-2.712283</td>\n",
       "      <td>4.933</td>\n",
       "      <td>clinic</td>\n",
       "      <td>Private (non-faith based)</td>\n",
       "      <td>...</td>\n",
       "      <td>NaN</td>\n",
       "      <td>NaN</td>\n",
       "      <td>NaN</td>\n",
       "      <td>NaN</td>\n",
       "      <td>NaN</td>\n",
       "      <td>NaN</td>\n",
       "      <td>NaN</td>\n",
       "      <td>NaN</td>\n",
       "      <td>0</td>\n",
       "      <td>18nov2021</td>\n",
       "    </tr>\n",
       "  </tbody>\n",
       "</table>\n",
       "<p>3 rows × 30 columns</p>\n",
       "</div>"
      ],
      "text/plain": [
       "              facility admin_county    admin_district       today  latitude  \\\n",
       "0           Abc Clinic  Montserrado     Somalia Drive  2021-08-07  6.331593   \n",
       "1  Acfi Medical Clinic  Montserrado  Central Monrovia  2021-10-19  6.304997   \n",
       "2         Acres Clinic  Montserrado     St Paul River  2021-11-18  6.412980   \n",
       "\n",
       "   longitude  _getcoordinate_altitude  precision facilitytype  \\\n",
       "0 -10.743366                 4.009424      4.983       clinic   \n",
       "1 -10.799709                 2.900000      4.978       clinic   \n",
       "2 -10.778231                -2.712283      4.933       clinic   \n",
       "\n",
       "                   ownership  ...  offer_imci offer_essentialnutrition  \\\n",
       "0  Private (non-faith based)  ...         1.0                      0.0   \n",
       "1     Private, (faith based)  ...         0.0                      0.0   \n",
       "2  Private (non-faith based)  ...         NaN                      NaN   \n",
       "\n",
       "   offer_fpcouple  offer_fpcounsel  offer_adolescentsrhr  offer_sexgender  \\\n",
       "0             1.0              1.0                   0.0              0.0   \n",
       "1             NaN              NaN                   NaN              NaN   \n",
       "2             NaN              NaN                   NaN              NaN   \n",
       "\n",
       "   offer_detectmanage  offer_precenttreat  dup  update_date  \n",
       "0                 0.0                 0.0    0    07aug2021  \n",
       "1                 NaN                 NaN    0    19oct2021  \n",
       "2                 NaN                 NaN    0    18nov2021  \n",
       "\n",
       "[3 rows x 30 columns]"
      ]
     },
     "execution_count": 5,
     "metadata": {},
     "output_type": "execute_result"
    }
   ],
   "source": [
    "lbr_master[:3]"
   ]
  },
  {
   "cell_type": "code",
   "execution_count": 6,
   "metadata": {},
   "outputs": [
    {
     "data": {
      "text/plain": [
       "functional                     872\n",
       "Can't confirm at the moment      1\n",
       "Name: functional, dtype: int64"
      ]
     },
     "execution_count": 6,
     "metadata": {},
     "output_type": "execute_result"
    }
   ],
   "source": [
    "lbr_master.functional.value_counts()"
   ]
  },
  {
   "cell_type": "code",
   "execution_count": 7,
   "metadata": {},
   "outputs": [
    {
     "data": {
      "text/plain": [
       "Index(['facility', 'admin_county', 'admin_district', 'today', 'latitude',\n",
       "       'longitude', '_getcoordinate_altitude', 'precision', 'facilitytype',\n",
       "       'ownership', 'opendate', 'functional', 'offer_anc', 'offer_obstetric',\n",
       "       'offer_emonc', 'offer_postpartum', 'offer_newborncare',\n",
       "       'offer_maternalnewboen', 'offer_csection', 'offer_childimmune',\n",
       "       'offer_imci', 'offer_essentialnutrition', 'offer_fpcouple',\n",
       "       'offer_fpcounsel', 'offer_adolescentsrhr', 'offer_sexgender',\n",
       "       'offer_detectmanage', 'offer_precenttreat', 'dup', 'update_date'],\n",
       "      dtype='object')"
      ]
     },
     "execution_count": 7,
     "metadata": {},
     "output_type": "execute_result"
    }
   ],
   "source": [
    "lbr_master.columns"
   ]
  },
  {
   "cell_type": "code",
   "execution_count": 8,
   "metadata": {},
   "outputs": [
    {
     "data": {
      "text/plain": [
       "clinic           750\n",
       "health center     88\n",
       "hospital          24\n",
       "health post        6\n",
       "schoold based      4\n",
       "SDP                1\n",
       "Name: facilitytype, dtype: int64"
      ]
     },
     "execution_count": 8,
     "metadata": {},
     "output_type": "execute_result"
    }
   ],
   "source": [
    "lbr_master.facilitytype.value_counts()"
   ]
  },
  {
   "cell_type": "code",
   "execution_count": 9,
   "metadata": {},
   "outputs": [],
   "source": [
    "lbr = lbr_master.loc[lbr_master.functional==\"functional\"].copy()"
   ]
  },
  {
   "cell_type": "code",
   "execution_count": 10,
   "metadata": {},
   "outputs": [
    {
     "data": {
      "text/plain": [
       "872"
      ]
     },
     "execution_count": 10,
     "metadata": {},
     "output_type": "execute_result"
    }
   ],
   "source": [
    "len(lbr)"
   ]
  },
  {
   "cell_type": "code",
   "execution_count": 11,
   "metadata": {},
   "outputs": [],
   "source": [
    "lbr_missing = lbr.loc[lbr.latitude.isna()].copy()"
   ]
  },
  {
   "cell_type": "code",
   "execution_count": 12,
   "metadata": {},
   "outputs": [],
   "source": [
    "lbr_non_missing = lbr.loc[~(lbr.latitude.isna())].copy()"
   ]
  },
  {
   "cell_type": "code",
   "execution_count": 13,
   "metadata": {},
   "outputs": [
    {
     "data": {
      "text/plain": [
       "(55, 817)"
      ]
     },
     "execution_count": 13,
     "metadata": {},
     "output_type": "execute_result"
    }
   ],
   "source": [
    "len(lbr_missing), len(lbr_non_missing)"
   ]
  },
  {
   "cell_type": "code",
   "execution_count": 14,
   "metadata": {},
   "outputs": [],
   "source": [
    "lbr_master_old = pd.read_excel(os.path.join(input_dir, \"from_tashrik\", \"master lists\", \"Liberia.xlsx\"))\n",
    "lbr_old = lbr_master_old.loc[lbr_master_old.Status!=\"non-functional\"].copy()\n",
    "lbr_old = lbr_old.loc[~(lbr_old.Lat.isna())].copy()"
   ]
  },
  {
   "cell_type": "code",
   "execution_count": 16,
   "metadata": {},
   "outputs": [],
   "source": [
    "# lbr_old.loc[lbr_old['HF Name']==\"Bellemu Clinic\", \"Lat\"]"
   ]
  },
  {
   "cell_type": "code",
   "execution_count": 17,
   "metadata": {
    "scrolled": true
   },
   "outputs": [],
   "source": [
    "for idx, row in lbr_missing.iterrows():\n",
    "#     print(f\"Geocoding {idx}, {i} of {len(lbr_missing)}\")\n",
    "    # Check if there ia another entry with location\n",
    "    lbr_copy = lbr_old.loc[lbr_old['HF Name']==row.facility,['Lat', 'Long']]\n",
    "    if len(lbr_copy)>0:\n",
    "        res = lbr_copy.iloc[0]\n",
    "        lbr_missing.loc[idx, \"longitude\"] = res.Long\n",
    "        lbr_missing.loc[idx, \"latitude\"] = res.Lat\n",
    "#         print(\"\\tSuccess for Another facility with same Location\")\n",
    "        lbr_missing.loc[idx, \"geocoding_method\"] = \"Location from old Master List\"\n",
    "    else:\n",
    "        lbr_missing.loc[idx, \"geocoding_method\"] = \"None\""
   ]
  },
  {
   "cell_type": "code",
   "execution_count": 18,
   "metadata": {},
   "outputs": [
    {
     "data": {
      "text/plain": [
       "Location from old Master List    43\n",
       "None                             12\n",
       "Name: geocoding_method, dtype: int64"
      ]
     },
     "execution_count": 18,
     "metadata": {},
     "output_type": "execute_result"
    }
   ],
   "source": [
    "lbr_missing.geocoding_method.value_counts()"
   ]
  },
  {
   "cell_type": "code",
   "execution_count": 20,
   "metadata": {},
   "outputs": [],
   "source": [
    "# lbr_missing.loc[lbr_missing.geocoding_method==\"None\"]"
   ]
  },
  {
   "cell_type": "code",
   "execution_count": 21,
   "metadata": {},
   "outputs": [],
   "source": [
    "lbr_io = gpd.read_file(os.path.join(input_dir, \"healthsitesio\", \"Liberia-node.shp\"))"
   ]
  },
  {
   "cell_type": "code",
   "execution_count": 22,
   "metadata": {},
   "outputs": [
    {
     "data": {
      "text/plain": [
       "-8.013713282055647"
      ]
     },
     "execution_count": 22,
     "metadata": {},
     "output_type": "execute_result"
    }
   ],
   "source": [
    "lbr_io.loc[lbr_io.name==\"Gbeapo Health Center\"].geometry.iloc[0].x"
   ]
  },
  {
   "cell_type": "code",
   "execution_count": 23,
   "metadata": {},
   "outputs": [],
   "source": [
    "for idx, row in lbr_missing.loc[lbr_missing.geocoding_method==\"None\"].iterrows():\n",
    "#     print(f\"Geocoding {idx}, {i} of {len(lbr_missing)}\")\n",
    "    # Check if there ia another entry with location\n",
    "    lbr_copy = lbr_io.loc[lbr_io['name']==row.facility,['geometry']]\n",
    "    if len(lbr_copy)>0:\n",
    "        res = lbr_copy.iloc[0]\n",
    "        lbr_missing.loc[idx, \"longitude\"] = res.geometry.x\n",
    "        lbr_missing.loc[idx, \"latitude\"] = res.geometry.y\n",
    "#         print(\"\\tSuccess for Another facility with same Location\")\n",
    "        lbr_missing.loc[idx, \"geocoding_method\"] = \"Location from Health Sites IO\"\n",
    "    else:\n",
    "        lbr_missing.loc[idx, \"geocoding_method\"] = \"None\""
   ]
  },
  {
   "cell_type": "code",
   "execution_count": 24,
   "metadata": {},
   "outputs": [
    {
     "data": {
      "text/plain": [
       "Location from old Master List    43\n",
       "None                             10\n",
       "Location from Health Sites IO     2\n",
       "Name: geocoding_method, dtype: int64"
      ]
     },
     "execution_count": 24,
     "metadata": {},
     "output_type": "execute_result"
    }
   ],
   "source": [
    "lbr_missing.geocoding_method.value_counts()"
   ]
  },
  {
   "cell_type": "code",
   "execution_count": 25,
   "metadata": {},
   "outputs": [],
   "source": [
    "# counties_gpd = gpd.read_file(r\"C:\\repos\\health-equity-access\\notebooks\\input\\lbr_admbnda_adm1_ocha_2019.shp\")\n",
    "counties_gpd = gpd.read_file(os.path.join(input_dir, 'gadm', 'LBR', 'lbr_admbnda_adm1_ocha_20191104.shp'))"
   ]
  },
  {
   "cell_type": "code",
   "execution_count": 26,
   "metadata": {},
   "outputs": [],
   "source": [
    "geolocator = Nominatim(user_agent=\"health-equity\")\n",
    "\n",
    "df = lbr_missing.loc[lbr_missing.geocoding_method==\"None\"].copy()\n",
    "df.loc[:, \"location\"] = df.loc[:, \"facility\"]\n",
    "county_array = lbr_missing['admin_county'].values\n",
    "\n",
    "for idx, row in df.iterrows():\n",
    "    \n",
    "    if \"Community\" in row['location']:\n",
    "        df.loc[idx, \"location\"] = row['location'].replace(\" Community\", \"\")\n",
    "    if \"Clinic\" in row['location']:\n",
    "        df.loc[idx, \"location\"] = row['location'].replace(\" Clinic\", \"\")\n",
    "        \n",
    "    try:\n",
    "        res = geolocator.geocode(row['location'] + ', ' + row['admin_county'], country_codes='lr')\n",
    "        # if within county\n",
    "        if counties_gpd.loc[counties_gpd['ADM1_EN'] == row['admin_county']].contains(Point(res.longitude,res.latitude)).values[0] == True:\n",
    "            lbr_missing.loc[idx, \"longitude\"] = res.longitude\n",
    "            lbr_missing.loc[idx, \"latitude\"] = res.latitude\n",
    "            print(\"\\tSuccess for Facility name and County query\")\n",
    "            lbr_missing.loc[idx, \"geocoding_method\"] = \"Facility name and county query\"\n",
    "    except:\n",
    "        lbr_missing.loc[idx, \"geocoding_method\"] = \"None\""
   ]
  },
  {
   "cell_type": "code",
   "execution_count": 27,
   "metadata": {},
   "outputs": [
    {
     "data": {
      "text/plain": [
       "Location from old Master List    43\n",
       "None                             10\n",
       "Location from Health Sites IO     2\n",
       "Name: geocoding_method, dtype: int64"
      ]
     },
     "execution_count": 27,
     "metadata": {},
     "output_type": "execute_result"
    }
   ],
   "source": [
    "lbr_missing.geocoding_method.value_counts()"
   ]
  },
  {
   "cell_type": "code",
   "execution_count": 31,
   "metadata": {},
   "outputs": [
    {
     "data": {
      "text/plain": [
       "55"
      ]
     },
     "execution_count": 31,
     "metadata": {},
     "output_type": "execute_result"
    }
   ],
   "source": [
    "len(lbr_missing)"
   ]
  },
  {
   "cell_type": "code",
   "execution_count": 28,
   "metadata": {},
   "outputs": [
    {
     "name": "stdout",
     "output_type": "stream",
     "text": [
      "\tSuccess for District name and County query\n",
      "\tSuccess for District name and County query\n",
      "\tSuccess for District name and County query\n",
      "\tSuccess for District name and County query\n",
      "\tSuccess for District name and County query\n",
      "\tSuccess for District name and County query\n",
      "\tSuccess for District name and County query\n",
      "\tSuccess for District name and County query\n",
      "\tSuccess for District name and County query\n",
      "\tSuccess for District name and County query\n"
     ]
    }
   ],
   "source": [
    "geolocator = Nominatim(user_agent=\"health-equity\")\n",
    "\n",
    "df = lbr_missing.loc[lbr_missing.geocoding_method==\"None\"].copy()\n",
    "df.loc[:, \"location\"] = df.loc[:, \"facility\"]\n",
    "county_array = lbr_missing['admin_county'].values\n",
    "\n",
    "for idx, row in df.iterrows():\n",
    "    \n",
    "    if \"Community\" in row['location']:\n",
    "        df.loc[idx, \"location\"] = row['location'].replace(\" Community\", \"\")\n",
    "    if \"Clinic\" in row['location']:\n",
    "        df.loc[idx, \"location\"] = row['location'].replace(\" Clinic\", \"\")\n",
    "        \n",
    "    try:\n",
    "        res = geolocator.geocode(row['admin_district'] + ', ' + row['admin_county'], country_codes='lr')\n",
    "        # if within county\n",
    "        if counties_gpd.loc[counties_gpd['ADM1_EN'] == row['admin_county']].contains(Point(res.longitude,res.latitude)).values[0] == True:\n",
    "            lbr_missing.loc[idx, \"longitude\"] = res.longitude\n",
    "            lbr_missing.loc[idx, \"latitude\"] = res.latitude\n",
    "#             print(\"\\tSuccess for District name and County query\")\n",
    "            lbr_missing.loc[idx, \"geocoding_method\"] = \"District name and county query\"\n",
    "    except:\n",
    "        lbr_missing.loc[idx, \"geocoding_method\"] = \"None\""
   ]
  },
  {
   "cell_type": "code",
   "execution_count": 29,
   "metadata": {},
   "outputs": [
    {
     "data": {
      "text/plain": [
       "Location from old Master List     43\n",
       "District name and county query    10\n",
       "Location from Health Sites IO      2\n",
       "Name: geocoding_method, dtype: int64"
      ]
     },
     "execution_count": 29,
     "metadata": {},
     "output_type": "execute_result"
    }
   ],
   "source": [
    "lbr_missing.geocoding_method.value_counts()"
   ]
  },
  {
   "cell_type": "code",
   "execution_count": 30,
   "metadata": {},
   "outputs": [],
   "source": [
    "lbr_missing.to_csv(os.path.join(out_folder, \"Liberia MFL Adjusted Geocoded.csv\"))"
   ]
  }
 ],
 "metadata": {
  "kernelspec": {
   "display_name": "GEO",
   "language": "python",
   "name": "geo"
  },
  "language_info": {
   "codemirror_mode": {
    "name": "ipython",
    "version": 3
   },
   "file_extension": ".py",
   "mimetype": "text/x-python",
   "name": "python",
   "nbconvert_exporter": "python",
   "pygments_lexer": "ipython3",
   "version": "3.7.6"
  }
 },
 "nbformat": 4,
 "nbformat_minor": 2
}
