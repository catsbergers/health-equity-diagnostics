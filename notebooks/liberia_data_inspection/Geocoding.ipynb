{
 "cells": [
  {
   "cell_type": "code",
   "execution_count": 1,
   "metadata": {},
   "outputs": [],
   "source": [
    "import os, sys\n",
    "import geopandas as gpd\n",
    "import pandas as pd\n",
    "# import rasterio as rio\n",
    "# import numpy as np\n",
    "# from shapely.geometry import Point\n",
    "# import skimage.graph as graph\n",
    "from geopy.geocoders import GeoNames, Nominatim"
   ]
  },
  {
   "cell_type": "code",
   "execution_count": 2,
   "metadata": {},
   "outputs": [],
   "source": [
    "# sys.path.append('/home/wb514197/Repos/gostrocks/src') # gostrocks is used for some basic raster operations (clip and standardize)\n",
    "# sys.path.append('/home/wb514197/Repos/GOSTNets_Raster/src') # gostnets_raster has functions to work with friction surface\n",
    "# sys.path.append('/home/wb514197/Repos/GOSTnets') # it also depends on gostnets for some reason\n",
    "# sys.path.append('/home/wb514197/Repos/INFRA_SAP') # only used to save some raster results\n",
    "# sys.path.append('/home/wb514197/Repos/HospitalAccessibility/src') # only used to save some raster results"
   ]
  },
  {
   "cell_type": "code",
   "execution_count": 3,
   "metadata": {},
   "outputs": [],
   "source": [
    "# import GOSTRocks.rasterMisc as rMisc\n",
    "# import GOSTNetsRaster.market_access as ma\n",
    "# from infrasap import aggregator"
   ]
  },
  {
   "cell_type": "code",
   "execution_count": 4,
   "metadata": {},
   "outputs": [],
   "source": [
    "iso3 = 'LBR'"
   ]
  },
  {
   "cell_type": "code",
   "execution_count": 5,
   "metadata": {},
   "outputs": [],
   "source": [
    "input_dir = \"/home/public/Data/PROJECTS/Health\" #\n",
    "out_folder = os.path.join(input_dir, \"output\", iso3)\n",
    "if not os.path.exists(out_folder):\n",
    "    os.mkdir(out_folder)"
   ]
  },
  {
   "cell_type": "markdown",
   "metadata": {},
   "source": [
    "### Destinations"
   ]
  },
  {
   "cell_type": "code",
   "execution_count": 6,
   "metadata": {},
   "outputs": [],
   "source": [
    "lbr_master = pd.read_excel(os.path.join(input_dir, \"from_tashrik\", \"master lists\", \"Liberia.xlsx\"))"
   ]
  },
  {
   "cell_type": "code",
   "execution_count": 7,
   "metadata": {},
   "outputs": [],
   "source": [
    "lbr_master['status'] = lbr_master['Status'].apply(lambda x: x.lower())\n",
    "lbr_master['hf_type'] = lbr_master['HF Type'].apply(lambda x: x.lower())"
   ]
  },
  {
   "cell_type": "code",
   "execution_count": 8,
   "metadata": {},
   "outputs": [],
   "source": [
    "lbr = lbr_master.loc[lbr_master.Status!=\"non-functional\"].copy()"
   ]
  },
  {
   "cell_type": "code",
   "execution_count": 9,
   "metadata": {},
   "outputs": [],
   "source": [
    "lbr_missing = lbr.loc[lbr.Lat.isna()].copy()"
   ]
  },
  {
   "cell_type": "code",
   "execution_count": 10,
   "metadata": {},
   "outputs": [],
   "source": [
    "lbr_non_missing = lbr.loc[~(lbr.Lat.isna())].copy()"
   ]
  },
  {
   "cell_type": "code",
   "execution_count": 11,
   "metadata": {},
   "outputs": [],
   "source": [
    "# row = lbr_missing.iloc[0]\n",
    "# idx = row.name"
   ]
  },
  {
   "cell_type": "code",
   "execution_count": 14,
   "metadata": {},
   "outputs": [
    {
     "data": {
      "text/plain": [
       "['County',\n",
       " 'District',\n",
       " 'health district',\n",
       " 'Location',\n",
       " 'New HF ID',\n",
       " 'UUID Validated (DHIS2)',\n",
       " 'HF_name validated (DHIS2)',\n",
       " 'UUID',\n",
       " 'HF Name',\n",
       " 'Population (2011)',\n",
       " 'Unnamed: 10',\n",
       " 'Unnamed: 11',\n",
       " 'Unnamed: 12',\n",
       " 'F_Type by EPHS classification',\n",
       " 'HF Type',\n",
       " 'Owership',\n",
       " 'Status',\n",
       " 'Established by',\n",
       " 'Locality Type',\n",
       " 'Lat',\n",
       " 'Long',\n",
       " 'Q008_Manag_Authority',\n",
       " 'facility_contact_person',\n",
       " 'facility_contact_position',\n",
       " 'facility_person_contact',\n",
       " 'number available?',\n",
       " 'facility_person_contact2',\n",
       " '# of inpatient beds',\n",
       " '# of dedicated maternity inpatient beds',\n",
       " 'Vehicle or Functional Ambulance',\n",
       " 'Access to ambulance',\n",
       " 'Water source',\n",
       " 'On premise water available',\n",
       " 'Function Refrigerator for Vaccine storage',\n",
       " 'Functional Incinerator',\n",
       " 'Functional Pit',\n",
       " 'Means of waste disposal',\n",
       " 'Functional Computer',\n",
       " 'Functional Triage',\n",
       " 'Dedicated Isolation room',\n",
       " 'Functional landline for communication',\n",
       " 'Cellular Network',\n",
       " 'Access to phone',\n",
       " 'Functional Short Wave Radio',\n",
       " 'Access to Internet',\n",
       " 'Family Planing Services Offered',\n",
       " 'ANC Services Offered',\n",
       " 'PMTCT Services Offered',\n",
       " 'Obstertic and Newborn servoces offered',\n",
       " 'Immunization Services Offered',\n",
       " 'Child Health Services',\n",
       " 'Adolescent Health Services',\n",
       " 'HCT services',\n",
       " 'ART services',\n",
       " 'HIV Care and Support',\n",
       " 'STI services offered',\n",
       " 'TB Services offerred',\n",
       " 'TB Case Identification and referral',\n",
       " 'TB Diagnostic service provided',\n",
       " 'TB case management and followup services',\n",
       " 'Malaria Case management services (dx & rx)',\n",
       " 'Malaria diagnosis services',\n",
       " 'Malaria Treatment servoces',\n",
       " 'NCD services offerred',\n",
       " 'Dibetic case management services offerred',\n",
       " 'Cardiovascular Disease (Hypertension) management',\n",
       " 'Manages Chronic respiratory disease',\n",
       " 'Manages cervical cancer',\n",
       " 'NTD_Lymphatic Filiariasis',\n",
       " 'NTD_Buruli Ulcer',\n",
       " 'NTD_Onchocerciasis \\n ',\n",
       " 'NTD_Schistosomiasis',\n",
       " 'NTD_soil Transmitted Helminths\\n ',\n",
       " 'NTD_Leprosy',\n",
       " 'Offer Mental Health services',\n",
       " 'Mental Health disgnostic',\n",
       " 'Mental Health treatment',\n",
       " 'Mental Health Followup',\n",
       " 'Surgical services',\n",
       " 'Incision and drainage of abscesses ',\n",
       " 'Wound debridement ',\n",
       " 'Acute burn management ',\n",
       " 'Suturing ',\n",
       " 'non-functional repair of fracture ',\n",
       " 'Cricothyroidotomy ',\n",
       " 'Male circumcision ',\n",
       " 'Hydrocele reduction ',\n",
       " 'Chest tube insertion ',\n",
       " ' \\nnon-functional repair of dislocated joint ',\n",
       " 'Biopsy of lymph node or mass or other ',\n",
       " 'Removal of foreign body (throat, eye, ear or nose) ',\n",
       " 'Tracheostomy ',\n",
       " 'Tubal ligation ',\n",
       " 'Vasectomy ',\n",
       " 'Dilatation & Curettage ',\n",
       " 'Obstetric fistula repair ',\n",
       " 'Episiotomy, cervical and vaginal laceration ',\n",
       " 'Appendectomy ',\n",
       " 'Hernia repair (strangulated) ',\n",
       " 'Hernia repair (elective) ',\n",
       " 'Cystostomy ',\n",
       " 'Urethral stricture dilatation ',\n",
       " 'Laparotomy (uterine rupture, ectopic pregnancy, acute abdomen, intestinal obstruction, perforation, injuries) ',\n",
       " 'Congenital hernia repair ',\n",
       " 'Neonatal surgery (abdominal wall defect, colostomy imperforate anus, intussusceptions) ',\n",
       " 'Cleft palate repair ',\n",
       " 'Contracture release ',\n",
       " 'Skin grafting ',\n",
       " 'Open reduction and fixation for fracture ',\n",
       " 'Amputation ',\n",
       " 'Cataract surgery ',\n",
       " 'Club foot repair (casting or open club foot release) ',\n",
       " 'Drainage of osteomyelitisHseptic arthritis ',\n",
       " 'Blood Transfusion services',\n",
       " 'Provide any diagnostic service',\n",
       " 'Rapid syphillis testing',\n",
       " 'HIV rapid testing',\n",
       " 'Urine (rapid) testing',\n",
       " 'Urine (protein) testing',\n",
       " 'Urine (glucose) testing',\n",
       " 'urine (ketone) testing',\n",
       " 'Dry blood spot collection for HIV viral load oe EID',\n",
       " 'Unnamed: 122',\n",
       " 'Unnamed: 123',\n",
       " 'Unnamed: 124',\n",
       " 'status',\n",
       " 'hf_type']"
      ]
     },
     "execution_count": 14,
     "metadata": {},
     "output_type": "execute_result"
    }
   ],
   "source": [
    "list(lbr_missing.columns)"
   ]
  },
  {
   "cell_type": "markdown",
   "metadata": {},
   "source": [
    "### 1 Check if location already exists in master list"
   ]
  },
  {
   "cell_type": "code",
   "execution_count": 1,
   "metadata": {},
   "outputs": [
    {
     "ename": "NameError",
     "evalue": "name 'lbr_non_missing' is not defined",
     "output_type": "error",
     "traceback": [
      "\u001b[0;31m---------------------------------------------------------------------------\u001b[0m",
      "\u001b[0;31mNameError\u001b[0m                                 Traceback (most recent call last)",
      "\u001b[0;32m/tmp/ipykernel_21371/181006853.py\u001b[0m in \u001b[0;36m<module>\u001b[0;34m\u001b[0m\n\u001b[0;32m----> 1\u001b[0;31m \u001b[0mlbr_non_missing\u001b[0m\u001b[0;34m.\u001b[0m\u001b[0mloc\u001b[0m\u001b[0;34m[\u001b[0m\u001b[0mlbr_non_missing\u001b[0m\u001b[0;34m.\u001b[0m\u001b[0mLocation\u001b[0m\u001b[0;34m==\u001b[0m\u001b[0mrow\u001b[0m\u001b[0;34m.\u001b[0m\u001b[0mLocation\u001b[0m\u001b[0;34m,\u001b[0m\u001b[0;34m[\u001b[0m\u001b[0;34m'Lat'\u001b[0m\u001b[0;34m,\u001b[0m \u001b[0;34m'Long'\u001b[0m\u001b[0;34m]\u001b[0m\u001b[0;34m]\u001b[0m\u001b[0;34m\u001b[0m\u001b[0;34m\u001b[0m\u001b[0m\n\u001b[0m\u001b[1;32m      2\u001b[0m \u001b[0;31m# lbr.loc[lbr[\"health district\"]==\"Klay\",['Lat', 'Long']]\u001b[0m\u001b[0;34m\u001b[0m\u001b[0;34m\u001b[0m\u001b[0;34m\u001b[0m\u001b[0m\n",
      "\u001b[0;31mNameError\u001b[0m: name 'lbr_non_missing' is not defined"
     ]
    }
   ],
   "source": [
    "lbr_non_missing.loc[lbr_non_missing.Location==row.Location,['Lat', 'Long']]\n",
    "# lbr.loc[lbr[\"health district\"]==\"Klay\",['Lat', 'Long']]"
   ]
  },
  {
   "cell_type": "code",
   "execution_count": 16,
   "metadata": {},
   "outputs": [],
   "source": [
    "lbr_copy = lbr_non_missing.loc[lbr_non_missing.Location==row.Location, ['Lat', 'Long']]"
   ]
  },
  {
   "cell_type": "code",
   "execution_count": 17,
   "metadata": {},
   "outputs": [
    {
     "data": {
      "text/plain": [
       "0"
      ]
     },
     "execution_count": 17,
     "metadata": {},
     "output_type": "execute_result"
    }
   ],
   "source": [
    "len(lbr_copy)"
   ]
  },
  {
   "cell_type": "markdown",
   "metadata": {},
   "source": [
    "### 2 Geocode"
   ]
  },
  {
   "cell_type": "code",
   "execution_count": 18,
   "metadata": {},
   "outputs": [],
   "source": [
    "geolocator = Nominatim(user_agent=\"health-equity\")\n",
    "# from geopy.extra.rate_limiter import RateLimiter\n",
    "# geocode = RateLimiter(geolocator.geocode, min_delay_seconds=1)"
   ]
  },
  {
   "cell_type": "code",
   "execution_count": 19,
   "metadata": {},
   "outputs": [],
   "source": [
    "# copied from docs\n",
    "# import pandas as pd\n",
    "# df = pd.DataFrame({'name': ['paris', 'berlin', 'london']})\n",
    "\n",
    "# from geopy.geocoders import Nominatim\n",
    "# geolocator = Nominatim(user_agent=\"specify_your_app_name_here\")\n",
    "\n",
    "# from geopy.extra.rate_limiter import RateLimiter\n",
    "# geocode = RateLimiter(geolocator.geocode, min_delay_seconds=1)\n",
    "# df['location'] = df['name'].apply(geocode)\n",
    "\n",
    "# df['point'] = df['location'].apply(lambda loc: tuple(loc.point) if loc else None)"
   ]
  },
  {
   "cell_type": "code",
   "execution_count": 20,
   "metadata": {},
   "outputs": [],
   "source": [
    "lbr_missing.Location = lbr_missing.Location.astype(str)"
   ]
  },
  {
   "cell_type": "code",
   "execution_count": 21,
   "metadata": {
    "scrolled": true
   },
   "outputs": [
    {
     "name": "stdout",
     "output_type": "stream",
     "text": [
      "Geocoding 3, 1 of 72\n",
      "\tSuccess for health district\n",
      "Geocoding 88, 2 of 72\n",
      "\tSuccess for Location\n",
      "Geocoding 115, 3 of 72\n",
      "\tSuccess for health district\n",
      "Geocoding 157, 4 of 72\n",
      "\tSuccess for health district\n",
      "Geocoding 159, 5 of 72\n",
      "\tSuccess for Location\n",
      "Geocoding 170, 6 of 72\n",
      "\tSuccess for Location\n",
      "Geocoding 173, 7 of 72\n",
      "\tSuccess for Another facility with same Location\n",
      "Geocoding 175, 8 of 72\n",
      "\tSuccess for Another facility with same Location\n",
      "Geocoding 176, 9 of 72\n",
      "\tSuccess for health district\n",
      "Geocoding 178, 10 of 72\n",
      "\tSuccess for Another facility with same Location\n",
      "Geocoding 181, 11 of 72\n",
      "\tSuccess for Another facility with same Location\n",
      "Geocoding 182, 12 of 72\n",
      "\tSuccess for Another facility with same Location\n",
      "Geocoding 184, 13 of 72\n",
      "\tSuccess for Location\n",
      "Geocoding 188, 14 of 72\n",
      "\tSuccess for health district\n",
      "Geocoding 193, 15 of 72\n",
      "\tSuccess for Another facility with same Location\n",
      "Geocoding 198, 16 of 72\n",
      "\tSuccess for Location\n",
      "Geocoding 240, 17 of 72\n",
      "\tSuccess for health district\n",
      "Geocoding 244, 18 of 72\n",
      "\tSuccess for Location\n",
      "Geocoding 255, 19 of 72\n",
      "\tSuccess for Another facility with same Location\n",
      "Geocoding 269, 20 of 72\n",
      "\tSuccess for Location\n",
      "Geocoding 276, 21 of 72\n",
      "\tSuccess for health district\n",
      "Geocoding 277, 22 of 72\n",
      "\tSuccess for health district\n",
      "Geocoding 291, 23 of 72\n",
      "\tSuccess for health district\n",
      "Geocoding 292, 24 of 72\n",
      "\tSuccess for health district\n",
      "Geocoding 295, 25 of 72\n",
      "\tSuccess for health district\n",
      "Geocoding 316, 26 of 72\n",
      "\tSuccess for Location\n",
      "Geocoding 324, 27 of 72\n",
      "\tSuccess for Location\n",
      "Geocoding 385, 28 of 72\n",
      "\tSuccess for health district\n",
      "Geocoding 391, 29 of 72\n",
      "\tSuccess for health district\n",
      "Geocoding 399, 30 of 72\n",
      "\tSuccess for Location\n",
      "Geocoding 405, 31 of 72\n",
      "\tSuccess for Location\n",
      "Geocoding 427, 32 of 72\n",
      "\tSuccess for health district\n",
      "Geocoding 432, 33 of 72\n",
      "\tSuccess for Another facility with same Location\n",
      "Geocoding 434, 34 of 72\n",
      "\tSuccess for Location\n",
      "Geocoding 448, 35 of 72\n",
      "\tSuccess for Location\n",
      "Geocoding 454, 36 of 72\n",
      "\tSuccess for Location\n",
      "Geocoding 455, 37 of 72\n",
      "\tSuccess for Another facility with same Location\n",
      "Geocoding 457, 38 of 72\n",
      "\tSuccess for health district\n",
      "Geocoding 458, 39 of 72\n",
      "\tSuccess for Location\n",
      "Geocoding 459, 40 of 72\n",
      "\tSuccess for Location\n",
      "Geocoding 471, 41 of 72\n",
      "\tSuccess for health district\n",
      "Geocoding 477, 42 of 72\n",
      "\tSuccess for Location\n",
      "Geocoding 485, 43 of 72\n",
      "\tSuccess for Location\n",
      "Geocoding 490, 44 of 72\n",
      "\tSuccess for health district\n",
      "Geocoding 491, 45 of 72\n",
      "\tSuccess for health district\n",
      "Geocoding 505, 46 of 72\n",
      "\tSuccess for Another facility with same Location\n",
      "Geocoding 514, 47 of 72\n",
      "\tSuccess for Location\n",
      "Geocoding 515, 48 of 72\n",
      "\tSuccess for Location\n",
      "Geocoding 516, 49 of 72\n",
      "\tSuccess for Location\n",
      "Geocoding 522, 50 of 72\n",
      "\tSuccess for health district\n",
      "Geocoding 526, 51 of 72\n",
      "\tSuccess for Another facility with same Location\n",
      "Geocoding 528, 52 of 72\n",
      "\tSuccess for health district\n",
      "Geocoding 529, 53 of 72\n",
      "\tSuccess for health district\n",
      "Geocoding 532, 54 of 72\n",
      "\tSuccess for Location\n",
      "Geocoding 535, 55 of 72\n",
      "\tSuccess for Location\n",
      "Geocoding 555, 56 of 72\n",
      "\tSuccess for health district\n",
      "Geocoding 557, 57 of 72\n",
      "\tSuccess for Location\n",
      "Geocoding 571, 58 of 72\n",
      "\tSuccess for Another facility with same Location\n",
      "Geocoding 577, 59 of 72\n",
      "\tSuccess for Location\n",
      "Geocoding 582, 60 of 72\n",
      "\tSuccess for health district\n",
      "Geocoding 599, 61 of 72\n",
      "\tSuccess for Location\n",
      "Geocoding 604, 62 of 72\n",
      "\tSuccess for Location\n",
      "Geocoding 609, 63 of 72\n",
      "\tSuccess for Location\n",
      "Geocoding 616, 64 of 72\n",
      "\tSuccess for Another facility with same Location\n",
      "Geocoding 622, 65 of 72\n",
      "\tSuccess for health district\n",
      "Geocoding 633, 66 of 72\n",
      "\tSuccess for health district\n",
      "Geocoding 645, 67 of 72\n",
      "\tSuccess for Another facility with same Location\n",
      "Geocoding 647, 68 of 72\n",
      "\tSuccess for Location\n",
      "Geocoding 648, 69 of 72\n",
      "\tSuccess for Location\n",
      "Geocoding 661, 70 of 72\n",
      "\tSuccess for health district\n",
      "Geocoding 662, 71 of 72\n",
      "\tSuccess for health district\n",
      "Geocoding 729, 72 of 72\n",
      "\tSuccess for Location\n"
     ]
    }
   ],
   "source": [
    "i = 1\n",
    "for idx, row in lbr_missing.iterrows():\n",
    "    print(f\"Geocoding {idx}, {i} of {len(lbr_missing)}\")\n",
    "    # Check if there ia another entry with location\n",
    "    lbr_copy = lbr_non_missing.loc[lbr_non_missing.Location==row.Location,['Lat', 'Long']]\n",
    "    if len(lbr_copy)>0:\n",
    "        res = lbr_copy.iloc[0]\n",
    "        lbr_missing.loc[idx, \"Long\"] = res.Long\n",
    "        lbr_missing.loc[idx, \"Lat\"] = res.Lat\n",
    "        print(\"\\tSuccess for Another facility with same Location\")\n",
    "        lbr_missing.loc[idx, \"geocoding_method\"] = \"Another facility with same Location\"\n",
    "    else:\n",
    "        if \"Community\" in row['Location']:\n",
    "            lbr_missing.loc[idx, \"Location\"] = row['Location'].replace(\" Community\", \"\")\n",
    "        try:\n",
    "            res = geolocator.geocode(row['Location'], country_codes='LBR')\n",
    "            lbr_missing.loc[idx, \"Long\"] = res.longitude\n",
    "            lbr_missing.loc[idx, \"Lat\"] = res.latitude\n",
    "            print(\"\\tSuccess for Location\")\n",
    "            lbr_missing.loc[idx, \"geocoding_method\"] = \"Location name\"\n",
    "        except:\n",
    "            try:\n",
    "                res = geolocator.geocode(row['health district'], country_codes='LBR')\n",
    "                lbr_missing.loc[idx, \"Long\"] = res.longitude\n",
    "                lbr_missing.loc[idx, \"Lat\"] = res.latitude\n",
    "                print(\"\\tSuccess for health district\")\n",
    "                lbr_missing.loc[idx, \"geocoding_method\"] = \"Health District name\"\n",
    "            except:\n",
    "                print('\\tFailed')\n",
    "                lbr_missing.loc[idx, \"geocoding_method\"] = \"Failed\"\n",
    "    i += 1"
   ]
  },
  {
   "cell_type": "code",
   "execution_count": 22,
   "metadata": {},
   "outputs": [
    {
     "data": {
      "text/plain": [
       "Location name                          31\n",
       "Health District                        27\n",
       "Another facility with same Location    14\n",
       "Name: geocoding_method, dtype: int64"
      ]
     },
     "execution_count": 22,
     "metadata": {},
     "output_type": "execute_result"
    }
   ],
   "source": [
    "lbr_missing.geocoding_method.value_counts()"
   ]
  },
  {
   "cell_type": "code",
   "execution_count": 23,
   "metadata": {},
   "outputs": [],
   "source": [
    "lbr_missing.to_csv(os.path.join(out_folder, \"health_geocoded.csv\"))"
   ]
  },
  {
   "cell_type": "code",
   "execution_count": 24,
   "metadata": {},
   "outputs": [],
   "source": [
    "# geoms = [Point(xy) for xy in zip(lbr.Long, lbr.Lat)]\n",
    "# lbr_geo = gpd.GeoDataFrame(lbr, crs='EPSG:4326', geometry=geoms)"
   ]
  }
 ],
 "metadata": {
  "kernelspec": {
   "display_name": "Python (Graph)",
   "language": "python",
   "name": "graph"
  },
  "language_info": {
   "codemirror_mode": {
    "name": "ipython",
    "version": 3
   },
   "file_extension": ".py",
   "mimetype": "text/x-python",
   "name": "python",
   "nbconvert_exporter": "python",
   "pygments_lexer": "ipython3",
   "version": "3.7.10"
  }
 },
 "nbformat": 4,
 "nbformat_minor": 2
}
