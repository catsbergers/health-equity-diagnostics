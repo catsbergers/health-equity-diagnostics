{
 "cells": [
  {
   "cell_type": "markdown",
   "metadata": {
    "toc": true,
    "pycharm": {
     "name": "#%% md\n"
    }
   },
   "source": [
    "<h1>Phonetic Search Example<span class=\"tocSkip\"></span></h1>\n",
    "<div class=\"toc\">\n",
    "    <ul class=\"toc-item\">\n",
    "        <li>\n",
    "        <span><a href=\"#Packages-and-functions\" data-toc-modified-id=\"Packages-and-functions-1\">\n",
    "        <span class=\"toc-item-num\">1&nbsp;&nbsp;</span>Packages and functions</a></span>\n",
    "        </li>\n",
    "        <li>\n",
    "            <span><a href=\"#Prepare-and-match-admin-boundary-data\" data-toc-modified-id=\"Prepare-and-match-admin-boundary-data-2\">\n",
    "            <span class=\"toc-item-num\">2&nbsp;&nbsp;</span>Prepare and match admin boundary data</a></span>\n",
    "            <ul class=\"toc-item\">\n",
    "                <li>\n",
    "                <span><a href=\"#Match-health-list-admin-names-to-shapefile-admin-names\" data-toc-modified-id=\"Match-health-list-admin-names-to-shapefile-admin-names-2.1\"><span class=\"toc-item-num\">2.1&nbsp;&nbsp;</span>Match health list admin names to shapefile admin names</a></span>\n",
    "                <ul class=\"toc-item\">\n",
    "                <li>\n",
    "                <span><a href=\"#Match-orgunitlevel4-to-Geob-Adm-3\" data-toc-modified-id=\"Match-orgunitlevel4-to-Geob-Adm-3-2.1.1\"><span class=\"toc-item-num\">2.1.1&nbsp;&nbsp;</span>Match orgunitlevel4 to Geob Adm 3</a></span>\n",
    "                </li>\n",
    "                <li>\n",
    "                <span><a href=\"#Match-orgunitlevel3-to-Geob-Adm-2\" data-toc-modified-id=\"Match-orgunitlevel3-to-Geob-Adm-2-2.1.2\"><span class=\"toc-item-num\">2.1.2&nbsp;&nbsp;</span>Match orgunitlevel3 to Geob Adm 2</a></span>\n",
    "                </li>\n",
    "                <li>\n",
    "                <span><a href=\"#Match-orgunitlevel2-to-Geob-Adm-1\" data-toc-modified-id=\"Match-orgunitlevel2-to-Geob-Adm-1-2.1.3\"><span class=\"toc-item-num\">2.1.3&nbsp;&nbsp;</span>Match orgunitlevel2 to Geob Adm 1</a></span>\n",
    "                </li>\n",
    "                </ul>\n",
    "            </li>\n",
    "        </ul>\n",
    "    </li>\n",
    "</div>"
   ]
  },
  {
   "cell_type": "markdown",
   "metadata": {
    "pycharm": {
     "name": "#%% md\n"
    }
   },
   "source": [
    "Version: April 11, 2023\n",
    "\n",
    "This notebook works with health facilities from the HMIS Database and attempts to geolocate them, by joining them to administrative shapefiles, other sources of geo-located health facilities, and running queries with geocoding APIs.\n",
    "\n",
    "**Data Sources**\n",
    "- Health facilities (hierarchy list)\n",
    "- Geoboundaries (Adm1 through 4)\n",
    "- FEWS Admin-2 boundaries (updated post 2017)"
   ]
  },
  {
   "cell_type": "markdown",
   "source": [],
   "metadata": {
    "collapsed": false,
    "pycharm": {
     "name": "#%% md\n"
    }
   }
  },
  {
   "cell_type": "markdown",
   "metadata": {
    "pycharm": {
     "name": "#%% md\n"
    }
   },
   "source": [
    "# Packages and functions"
   ]
  },
  {
   "cell_type": "code",
   "execution_count": 1,
   "metadata": {
    "pycharm": {
     "name": "#%%\n"
    }
   },
   "outputs": [],
   "source": [
    "import os\n",
    "import geopandas as gpd\n",
    "import jellyfish\n",
    "from os.path import join\n",
    "import pandas as pd\n",
    "import regex as re\n",
    "from string import ascii_uppercase\n",
    "from thefuzz import fuzz\n"
   ]
  },
  {
   "cell_type": "code",
   "execution_count": 2,
   "outputs": [
    {
     "data": {
      "text/plain": "'/usr/lib/libc.dylib'"
     },
     "execution_count": 2,
     "metadata": {},
     "output_type": "execute_result"
    }
   ],
   "source": [
    "from ctypes.util import find_library\n",
    "find_library('c')"
   ],
   "metadata": {
    "collapsed": false,
    "pycharm": {
     "name": "#%%\n"
    }
   }
  },
  {
   "cell_type": "markdown",
   "metadata": {
    "pycharm": {
     "name": "#%% md\n"
    }
   },
   "source": [
    "# Prepare and match admin boundary data"
   ]
  },
  {
   "cell_type": "code",
   "execution_count": 3,
   "outputs": [],
   "source": [
    "def remove_words(data_frame, column_name, words_to_remove = ['community', 'clinic', 'centre', 'center', 'hospital', 'health', 'government']):\n",
    "    \"\"\" Remove words from strings in a specified column\n",
    "\n",
    "    Args:\n",
    "        data_frame: Pandas data frame\n",
    "        column_name: Column name to remove words from\n",
    "        words_to_remove: List of words\n",
    "\n",
    "    Returns:\n",
    "        Removes words in place\n",
    "\n",
    "    \"\"\"\n",
    "    for word in words_to_remove:\n",
    "        data_frame[column_name] = data_frame[column_name].str.replace(word, \"\")\n",
    "    data_frame[column_name] = data_frame[column_name].str.strip()\n",
    "\n",
    "def report_geocoding(records):\n",
    "    \"\"\" Report value counts and % from geocoding_method column.\n",
    "\n",
    "    Args:\n",
    "        records: Pandas data frame\n",
    "\n",
    "    Returns:\n",
    "        Table with count stats\n",
    "    \"\"\"\n",
    "    table = records[['NAME', 'geocoding_method']].groupby('geocoding_method').count().rename(columns={'NAME':'count'})\n",
    "    table.loc[:, \"pct\"] = table/(table['count'].sum())\n",
    "    table = table.style.format({\n",
    "        'pct': '{:,.1%}'.format,\n",
    "    })\n",
    "    return(table)\n",
    "\n",
    "def match_name(name, list_names, min_score=0, phonetic_threshold=75):\n",
    "    \"\"\" Uses fuzzy matching between one string and a list of candidate names.\n",
    "\n",
    "    Args:\n",
    "        name: string\n",
    "        list_names: list of candidate names to match\n",
    "        min_score: minimum score allowed\n",
    "\n",
    "    Returns:\n",
    "        Returns name with the highest match, and match score\n",
    "        If no match is higher than min score, returns \"\" and -1\n",
    "    \"\"\"\n",
    "    # -1 score incase we don't get any matches\n",
    "    max_score = -1\n",
    "    # Returning empty name for no match as well\n",
    "    max_name = \"\"\n",
    "    # Iterating over all names in the other\n",
    "    for name2 in list_names:\n",
    "\n",
    "        # First try string matching - if we get an exact match, stop\n",
    "        # special_char_regex = r\"[^\\w\\s\\d]\"\n",
    "        # multiple_spaces_regex = r\"[\\s]{2,}\"\n",
    "        #\n",
    "        # regex_name = re.sub(multiple_spaces_regex, '', re.sub(special_char_regex, '', name.lower()))\n",
    "        # regex_name2 = re.sub(multiple_spaces_regex, '', re.sub(special_char_regex, '', name2.lower()))\n",
    "\n",
    "        special_char_regex = r\"[^\\w\\d]\"\n",
    "\n",
    "        regex_name = re.sub(special_char_regex, '', name.lower())\n",
    "        regex_name2 = re.sub(special_char_regex, '', name2.lower())\n",
    "\n",
    "        if  regex_name == regex_name2:\n",
    "            max_name = name2\n",
    "            max_score = 100\n",
    "            #print(f\"Exact Match! [{regex_name}] == [{regex_name2}]\")\n",
    "            break\n",
    "        # Finding fuzzy match score\n",
    "        else:\n",
    "            # get the phonetic score\n",
    "            phon1 = jellyfish.metaphone(name) #.soundex(name)\n",
    "            phon2 = jellyfish.metaphone(name2) #.soundex(name2)\n",
    "            phon_score = fuzz.ratio(phon1, phon2)\n",
    "\n",
    "            # get the fuzzy score\n",
    "            fuzzy_score = fuzz.ratio(name, name2)\n",
    "\n",
    "            #print(f\"{name} vs {name2}: phon: {phon_score}, fuzzy: {fuzzy_score}\")\n",
    "            winning_score = phon_score if (phon_score >= fuzzy_score and phon_score > phonetic_threshold) else fuzzy_score\n",
    "            # Checking if we are above our threshold and have a better score\n",
    "            if (winning_score > min_score) & (winning_score > max_score):\n",
    "                max_name = name2\n",
    "                max_score = winning_score\n",
    "\n",
    "    return (max_name, max_score)\n",
    "\n"
   ],
   "metadata": {
    "collapsed": false,
    "pycharm": {
     "name": "#%%\n"
    }
   }
  },
  {
   "cell_type": "code",
   "execution_count": 4,
   "outputs": [],
   "source": [
    "iso3 = \"LBR\"\n",
    "country = \"Liberia\"\n",
    "input_dir = \"/Users/dianaholcomb/Documents/GWU/6501_Capstone/workspace/data\"\n",
    "output_dir = join(input_dir, \"output\", iso3)\n",
    "# if not os.path.exists(out_folder):\n",
    "#     os.mkdir(out_folder)"
   ],
   "metadata": {
    "collapsed": false,
    "pycharm": {
     "name": "#%%\n"
    }
   }
  },
  {
   "cell_type": "code",
   "execution_count": 5,
   "metadata": {
    "pycharm": {
     "name": "#%%\n"
    }
   },
   "outputs": [],
   "source": [
    "geob2 = gpd.read_file(f\"https://github.com/wmgeolab/geoBoundaries/raw/b7dd6a5/releaseData/gbOpen/{iso3}/ADM2/geoBoundaries-{iso3}-ADM2.geojson\")\n",
    "geob1 = gpd.read_file(f\"https://github.com/wmgeolab/geoBoundaries/raw/b7dd6a5/releaseData/gbOpen/{iso3}/ADM1/geoBoundaries-{iso3}-ADM1.geojson\")"
   ]
  },
  {
   "cell_type": "code",
   "execution_count": 6,
   "metadata": {
    "pycharm": {
     "name": "#%%\n"
    }
   },
   "outputs": [],
   "source": [
    "master_table = pd.read_csv(os.path.join(input_dir, \"liberia2022-11-15.csv\"), low_memory=False)"
   ]
  },
  {
   "cell_type": "code",
   "execution_count": 7,
   "metadata": {
    "pycharm": {
     "name": "#%%\n"
    }
   },
   "outputs": [
    {
     "data": {
      "text/plain": "72008"
     },
     "execution_count": 7,
     "metadata": {},
     "output_type": "execute_result"
    }
   ],
   "source": [
    "len(master_table)"
   ]
  },
  {
   "cell_type": "code",
   "execution_count": 8,
   "metadata": {
    "pycharm": {
     "name": "#%%\n"
    }
   },
   "outputs": [
    {
     "data": {
      "text/plain": "  orgunitlevel1 orgunitlevel2      orgunitlevel3       orgunitlevel4  \\\n0       Liberia         Sinoe  Tarjuwon District  Gbason Town Clinic   \n1       Liberia         Sinoe  Tarjuwon District  Gbason Town Clinic   \n\n  organisationunitid organisationunitname organisationunitcode  \\\n0        DAmhVvbzEl6   Gbason Town Clinic               LR5GZ3   \n1        DAmhVvbzEl6   Gbason Town Clinic               LR5GZ3   \n\n  organisationunitdescription  periodid   periodname  periodcode  \\\n0                         NaN    202207    July 2022      202207   \n1                         NaN    202208  August 2022      202208   \n\n   perioddescription       dataid             dataname datacode  \\\n0                NaN  OEkmu8lM1lr  OPD new cases total      NaN   \n1                NaN  OEkmu8lM1lr  OPD new cases total      NaN   \n\n  datadescription  Total date_downloaded  \n0             NaN   20.0      2022-11-15  \n1             NaN   93.0      2022-11-15  ",
      "text/html": "<div>\n<style scoped>\n    .dataframe tbody tr th:only-of-type {\n        vertical-align: middle;\n    }\n\n    .dataframe tbody tr th {\n        vertical-align: top;\n    }\n\n    .dataframe thead th {\n        text-align: right;\n    }\n</style>\n<table border=\"1\" class=\"dataframe\">\n  <thead>\n    <tr style=\"text-align: right;\">\n      <th></th>\n      <th>orgunitlevel1</th>\n      <th>orgunitlevel2</th>\n      <th>orgunitlevel3</th>\n      <th>orgunitlevel4</th>\n      <th>organisationunitid</th>\n      <th>organisationunitname</th>\n      <th>organisationunitcode</th>\n      <th>organisationunitdescription</th>\n      <th>periodid</th>\n      <th>periodname</th>\n      <th>periodcode</th>\n      <th>perioddescription</th>\n      <th>dataid</th>\n      <th>dataname</th>\n      <th>datacode</th>\n      <th>datadescription</th>\n      <th>Total</th>\n      <th>date_downloaded</th>\n    </tr>\n  </thead>\n  <tbody>\n    <tr>\n      <th>0</th>\n      <td>Liberia</td>\n      <td>Sinoe</td>\n      <td>Tarjuwon District</td>\n      <td>Gbason Town Clinic</td>\n      <td>DAmhVvbzEl6</td>\n      <td>Gbason Town Clinic</td>\n      <td>LR5GZ3</td>\n      <td>NaN</td>\n      <td>202207</td>\n      <td>July 2022</td>\n      <td>202207</td>\n      <td>NaN</td>\n      <td>OEkmu8lM1lr</td>\n      <td>OPD new cases total</td>\n      <td>NaN</td>\n      <td>NaN</td>\n      <td>20.0</td>\n      <td>2022-11-15</td>\n    </tr>\n    <tr>\n      <th>1</th>\n      <td>Liberia</td>\n      <td>Sinoe</td>\n      <td>Tarjuwon District</td>\n      <td>Gbason Town Clinic</td>\n      <td>DAmhVvbzEl6</td>\n      <td>Gbason Town Clinic</td>\n      <td>LR5GZ3</td>\n      <td>NaN</td>\n      <td>202208</td>\n      <td>August 2022</td>\n      <td>202208</td>\n      <td>NaN</td>\n      <td>OEkmu8lM1lr</td>\n      <td>OPD new cases total</td>\n      <td>NaN</td>\n      <td>NaN</td>\n      <td>93.0</td>\n      <td>2022-11-15</td>\n    </tr>\n  </tbody>\n</table>\n</div>"
     },
     "execution_count": 8,
     "metadata": {},
     "output_type": "execute_result"
    }
   ],
   "source": [
    "master_table.head(2)"
   ]
  },
  {
   "cell_type": "code",
   "execution_count": 9,
   "metadata": {
    "scrolled": true,
    "pycharm": {
     "name": "#%%\n"
    }
   },
   "outputs": [],
   "source": [
    "master_table.drop(['periodid','periodname','periodcode','perioddescription','dataid','dataname',\n",
    "                                  'datacode','datadescription','Total','date_downloaded'], axis=1, inplace=True)"
   ]
  },
  {
   "cell_type": "code",
   "execution_count": 10,
   "metadata": {
    "pycharm": {
     "name": "#%%\n"
    }
   },
   "outputs": [],
   "source": [
    "master_table.drop_duplicates(subset=['orgunitlevel2','orgunitlevel3','orgunitlevel4','organisationunitid',\n",
    "                                      'organisationunitname'], keep='first', inplace=True)\n",
    "master_table.reset_index(inplace=True)"
   ]
  },
  {
   "cell_type": "code",
   "execution_count": 11,
   "metadata": {
    "pycharm": {
     "name": "#%%\n"
    }
   },
   "outputs": [
    {
     "data": {
      "text/plain": "848"
     },
     "execution_count": 11,
     "metadata": {},
     "output_type": "execute_result"
    }
   ],
   "source": [
    "len(master_table)"
   ]
  },
  {
   "cell_type": "code",
   "execution_count": 12,
   "metadata": {
    "pycharm": {
     "name": "#%%\n"
    }
   },
   "outputs": [
    {
     "name": "stdout",
     "output_type": "stream",
     "text": [
      "Unique Level 2: 15\n",
      "Unique Level 3: 93\n",
      "Unique Level 4: 846\n",
      "Unique Level 5: 846\n"
     ]
    }
   ],
   "source": [
    "print(f\"Unique Level 2: {len(master_table.orgunitlevel2.unique())}\")\n",
    "print(f\"Unique Level 3: {len(master_table.orgunitlevel3.unique())}\")\n",
    "print(f\"Unique Level 4: {len(master_table.orgunitlevel4.unique())}\")\n",
    "print(f\"Unique Level 5: {len(master_table.organisationunitname.unique())}\")"
   ]
  },
  {
   "cell_type": "code",
   "execution_count": 13,
   "metadata": {
    "pycharm": {
     "name": "#%%\n"
    }
   },
   "outputs": [
    {
     "name": "stdout",
     "output_type": "stream",
     "text": [
      "Unique Geoboundaries Adm 1: 15\n",
      "Unique Geoboundaries Adm 2: 136\n"
     ]
    }
   ],
   "source": [
    "print(f\"Unique Geoboundaries Adm 1: {len(geob1)}\")\n",
    "print(f\"Unique Geoboundaries Adm 2: {len(geob2)}\")"
   ]
  },
  {
   "cell_type": "markdown",
   "metadata": {
    "pycharm": {
     "name": "#%% md\n"
    }
   },
   "source": [
    "## Match health list admin names to shapefile admin names\n",
    "### Match orgunitlevel4 to Geob Adm 3\n",
    "Try using fuzzy matching  "
   ]
  },
  {
   "cell_type": "code",
   "execution_count": 14,
   "metadata": {
    "pycharm": {
     "name": "#%%\n"
    }
   },
   "outputs": [],
   "source": [
    "level4_list = list(master_table.orgunitlevel4.unique())\n",
    "level4_list.sort()\n",
    "level3_list = list(master_table.orgunitlevel3.unique())\n",
    "level3_list.sort()\n",
    "geob2_list = list(geob2.shapeName)\n",
    "geob2_list.sort()"
   ]
  },
  {
   "cell_type": "markdown",
   "metadata": {
    "pycharm": {
     "name": "#%% md\n"
    }
   },
   "source": [
    "Print names to inspect"
   ]
  },
  {
   "cell_type": "code",
   "execution_count": 15,
   "metadata": {
    "scrolled": true,
    "pycharm": {
     "name": "#%%\n"
    }
   },
   "outputs": [
    {
     "name": "stdout",
     "output_type": "stream",
     "text": [
      "\n",
      "\n",
      "Master list level 4 (11)\n",
      "\t[\"B'Hai District\", 'Barclayville District', 'Barrobo Farjah District', 'Barrobo Whojah District', 'Belleh District', 'Bokomu District', 'Bopolu District', 'Buah District', 'Buchanan District', 'Bushrod District', 'Butaw District']\n",
      "Geoboundaries adm3(15)\n",
      "\t[\"B'hai\", 'Barclayville', 'Beawor', 'Belleh', 'Bleebo', 'Bodae', 'Boe & Quilla', 'Boinsen', 'Bokomu', 'Bokon', 'Bolloh', 'Bopolu', 'Buah', 'Butaw', 'Buu-Yao']\n",
      "\n",
      "\n",
      "Master list level 4 (8)\n",
      "\t['Campwood District', 'Careysburg District', 'Cavalla District', 'Central C District', 'Central Monrovia district', 'Chedepo District', 'Commonwealth District', 'Commonwealth-C District']\n",
      "Geoboundaries adm3(7)\n",
      "\t['Careysburg', 'Cavala', 'Central Rivercess', 'Chedepo', 'Commonwealth', 'Commonwealth 1', 'Commonwealth 2']\n",
      "\n",
      "\n",
      "Master list level 4 (9)\n",
      "\t['District # 1', 'District # 2', 'District # 3 A&B', 'District # 3 C', 'District # 4', 'Doedian District', 'Dorbor District', 'Dowein', 'Dugbe River District']\n",
      "Geoboundaries adm3(10)\n",
      "\t['District #1', 'District #2', 'District #3', 'District #4', 'Doe', 'Doedain', 'Dorbor', 'Dowein', 'Dugbe River', 'Dweh']\n",
      "\n",
      "\n",
      "\n",
      "\n",
      "Master list level 4 (3)\n",
      "\t['Firestone District', 'Foya District', 'Fuamah']\n",
      "Geoboundaries adm3(7)\n",
      "\t['Felo-Jekwi', 'Fen River', 'Fenetoe', 'Firestone', 'Forpoh', 'Foya', 'Fuamah']\n",
      "\n",
      "\n",
      "Master list level 4 (9)\n",
      "\t['Garwula District', 'Gbao District', 'Gbarma District', 'Gbeapo District', 'Gbehlay-Geh District', 'Gblonee District', 'Gibi District', 'Gola konneh District', 'Greenville District']\n",
      "Geoboundaries adm3(20)\n",
      "\t['Garr-Bain', 'Garraway', 'Garwula', 'Gbao', 'Gbarma', 'Gbeapo', 'Gbehlay-Geh', 'Gbi & Doru', 'Gboe-Ploe', 'Gbor', 'Gee', 'Gibi', 'Glaro', 'Glio-Twarbo', 'Golakonneh', 'Gounwolaila', 'Grand Cess Wedabo', 'Greater Monrovia', 'Greenville', 'Gwelekpoken']\n",
      "\n",
      "\n",
      "Master list level 4 (1)\n",
      "\t['Harper District']\n",
      "Geoboundaries adm3(1)\n",
      "\t['Harper']\n",
      "\n",
      "\n",
      "\n",
      "\n",
      "Master list level 4 (6)\n",
      "\t['Jeade District', 'Jedepo District', 'Joe River District', 'Jorquelleh', 'Jowein District', 'Jraoh District']\n",
      "Geoboundaries adm3(5)\n",
      "\t['Jaedae', 'Jeadepo', 'Jo River', 'Jorquelleh', 'Juarzon']\n",
      "\n",
      "\n",
      "Master list level 4 (10)\n",
      "\t['Kakata District', 'Karluway 1 District', 'Karluway 2 District', 'Klay', 'Kokoyah', 'Kolahun District', 'Kongba District', 'Konobo District', 'Kpaai', 'Kpanyan District']\n",
      "Geoboundaries adm3(14)\n",
      "\t['Kakata', 'Karforh', 'Karluway #1', 'Karluway #2', 'Klay', 'Kokoyah', 'Kolahun', 'Kongba', 'Konobo', 'Kpaai', 'Kparblee', 'Kpayan', 'Kpi', 'Kulu Shaw Boe']\n",
      "\n",
      "\n",
      "Geoboundaries adm3(2)\n",
      "\t['Leewehpea-Mahn', 'Lower Jloh']\n",
      "\n",
      "\n",
      "Master list level 4 (1)\n",
      "\t['Mambah-Kaba District']\n",
      "Geoboundaries adm3(2)\n",
      "\t['Mambah Kaba', 'Meinpea-Mahn']\n",
      "\n",
      "\n",
      "Geoboundaries adm3(7)\n",
      "\t['Nanee', 'Neekreen', 'Norwein', 'Nrokwia-Wesldow', 'Nyenawliken', 'Nyenebo', 'Nyorken']\n",
      "\n",
      "\n",
      "Master list level 4 (1)\n",
      "\t['Owensgrove District']\n",
      "Geoboundaries adm3(1)\n",
      "\t['Owensgrove']\n",
      "\n",
      "\n",
      "Master list level 4 (6)\n",
      "\t['Panta', 'Pleebo District', 'Porkpa District', 'Potupo District', 'Putu District', 'Pynes Town District']\n",
      "Geoboundaries adm3(7)\n",
      "\t['Panta', 'Plahn Nyarn', 'Pleebo/Sodoken', 'Porkpa', 'Potupo', 'Putu', 'Pynes Town']\n",
      "\n",
      "\n",
      "Geoboundaries adm3(1)\n",
      "\t['Quardu Boundi']\n",
      "\n",
      "\n",
      "\n",
      "\n",
      "Master list level 4 (11)\n",
      "\t['Saclepea Mah District', 'Salala', 'Salayea District', 'Sanniquelleh Mahn District', 'Sanoyea', 'Sarbo District', 'Senjeh', 'Somalia Drive District', 'St Paul River District', 'Suakoko', 'Suehn Mecca']\n",
      "Geoboundaries adm3(15)\n",
      "\t['Salala', 'Salayea', 'Sam Gbalor', 'Sanniquellie Mahn', 'Sanoyeah', 'Sanquin Dist #1', 'Sanquin Dist #2', 'Sanquin Dist #3', 'Sarbo', 'Seekon', 'Senjeh', 'St. John River City', 'St. Paul River', 'Suakoko', 'Suehn Mecca']\n",
      "\n",
      "\n",
      "Master list level 4 (9)\n",
      "\t['Tappita District', 'Tarjuwon District', 'Tarsue District', 'Tchien District', 'Tewor District', 'Tienpo District', 'Timbo District', 'Todee District', 'Trehn District']\n",
      "Geoboundaries adm3(7)\n",
      "\t['Tchien', 'Tewor', 'Todee', 'Trenbo', 'Tukpahblee', 'Tuobo', 'Twan River']\n",
      "\n",
      "\n",
      "Geoboundaries adm3(1)\n",
      "\t['Upper Jloh']\n",
      "\n",
      "\n",
      "Master list level 4 (2)\n",
      "\t['Vahun District', 'Voinjama District']\n",
      "Geoboundaries adm3(2)\n",
      "\t['Vahun', 'Voinjama']\n",
      "\n",
      "\n",
      "Master list level 4 (1)\n",
      "\t['Webbo District']\n",
      "Geoboundaries adm3(4)\n",
      "\t['Wedjah', 'Wee-Gbehyi-Mahn', 'Whojah', 'Wlogba']\n",
      "\n",
      "\n",
      "\n",
      "\n",
      "Master list level 4 (2)\n",
      "\t['Yarnie District', 'Yarwein Mehnsohnneh District']\n",
      "Geoboundaries adm3(4)\n",
      "\t['Yarmein', 'Yarpea Mahn', 'Yarwein Mehnsonnoh', 'Yeallequelleh']\n",
      "\n",
      "\n",
      "Master list level 4 (3)\n",
      "\t['Zoe-Geh District', 'Zorzor District', 'Zota']\n",
      "Geoboundaries adm3(4)\n",
      "\t['Zarflahn', 'Zoe-Gbao', 'Zorzor', 'Zota']\n",
      "\n",
      "\n"
     ]
    }
   ],
   "source": [
    "for letter in ascii_uppercase:\n",
    "    level3_sublist = [name for name in level3_list if name[0]==letter]\n",
    "    geob2_sublist = [name for name in geob2_list if name[0]==letter]\n",
    "\n",
    "    if len(level3_sublist)>0:\n",
    "        print(f\"Master list level 4 ({len(level3_sublist)})\")\n",
    "        print(\"\\t\"+str(level3_sublist))\n",
    "    if len(geob2_sublist) >0:\n",
    "        print(f\"Geoboundaries adm3({len(geob2_sublist)})\")\n",
    "        print(\"\\t\"+str(geob2_sublist))\n",
    "        \n",
    "    print(\"\\n\")"
   ]
  },
  {
   "cell_type": "markdown",
   "metadata": {
    "pycharm": {
     "name": "#%% md\n"
    }
   },
   "source": [
    "### Match orgunitlevel3 to Geob Adm 2"
   ]
  },
  {
   "cell_type": "code",
   "execution_count": 16,
   "outputs": [],
   "source": [
    "master_table.loc[:, \"orgunitlevel3_edit\"] = master_table.orgunitlevel3"
   ],
   "metadata": {
    "collapsed": false,
    "pycharm": {
     "name": "#%%\n"
    }
   }
  },
  {
   "cell_type": "code",
   "execution_count": 17,
   "metadata": {
    "pycharm": {
     "name": "#%%\n"
    }
   },
   "outputs": [],
   "source": [
    "remove_words(geob2, \"shapeName\", [\" City Council\", \" District Council\", \" Municipal Council\", \" District\"])\n",
    "remove_words(master_table, \"orgunitlevel3_edit\", [\" District\"])"
   ]
  },
  {
   "cell_type": "code",
   "execution_count": 18,
   "metadata": {
    "pycharm": {
     "name": "#%%\n"
    }
   },
   "outputs": [],
   "source": [
    "master_table.loc[master_table.orgunitlevel3_edit == \"Chattogram\", \"orgunitlevel3_edit\"] = \"Chittagong\""
   ]
  },
  {
   "cell_type": "code",
   "execution_count": 19,
   "metadata": {
    "code_folding": [],
    "pycharm": {
     "name": "#%%\n"
    }
   },
   "outputs": [],
   "source": [
    "level3_list = list(master_table.orgunitlevel3_edit.unique())\n",
    "level3_list.sort()\n",
    "geob2_list = list(geob2.shapeName)\n",
    "geob2_list.sort()"
   ]
  },
  {
   "cell_type": "code",
   "execution_count": 20,
   "metadata": {
    "scrolled": true,
    "pycharm": {
     "name": "#%%\n"
    }
   },
   "outputs": [
    {
     "name": "stdout",
     "output_type": "stream",
     "text": [
      "Master list level 3\n",
      "\t[\"B'Hai\", 'Barclayville', 'Barrobo Farjah', 'Barrobo Whojah', 'Belleh', 'Bokomu', 'Bopolu', 'Buah', 'Buchanan', 'Bushrod', 'Butaw']\n",
      "Geoboundaries adm2\n",
      "\t[\"B'hai\", 'Barclayville', 'Beawor', 'Belleh', 'Bleebo', 'Bodae', 'Boe & Quilla', 'Boinsen', 'Bokomu', 'Bokon', 'Bolloh', 'Bopolu', 'Buah', 'Butaw', 'Buu-Yao']\n",
      "Master list level 3\n",
      "\t['Campwood', 'Careysburg', 'Cavalla', 'Central C', 'Central Monrovia district', 'Chedepo', 'Commonwealth', 'Commonwealth-C']\n",
      "Geoboundaries adm2\n",
      "\t['Careysburg', 'Cavala', 'Central Rivercess', 'Chedepo', 'Commonwealth', 'Commonwealth 1', 'Commonwealth 2']\n",
      "Master list level 3\n",
      "\t['District # 1', 'District # 2', 'District # 3 A&B', 'District # 3 C', 'District # 4', 'Doedian', 'Dorbor', 'Dowein', 'Dugbe River']\n",
      "Geoboundaries adm2\n",
      "\t['District #1', 'District #2', 'District #3', 'District #4', 'Doe', 'Doedain', 'Dorbor', 'Dowein', 'Dugbe River', 'Dweh']\n",
      "Master list level 3\n",
      "\t['Firestone', 'Foya', 'Fuamah']\n",
      "Geoboundaries adm2\n",
      "\t['Felo-Jekwi', 'Fen River', 'Fenetoe', 'Firestone', 'Forpoh', 'Foya', 'Fuamah']\n",
      "Master list level 3\n",
      "\t['Garwula', 'Gbao', 'Gbarma', 'Gbeapo', 'Gbehlay-Geh', 'Gblonee', 'Gibi', 'Gola konneh', 'Greenville']\n",
      "Geoboundaries adm2\n",
      "\t['Garr-Bain', 'Garraway', 'Garwula', 'Gbao', 'Gbarma', 'Gbeapo', 'Gbehlay-Geh', 'Gbi & Doru', 'Gboe-Ploe', 'Gbor', 'Gee', 'Gibi', 'Glaro', 'Glio-Twarbo', 'Golakonneh', 'Gounwolaila', 'Grand Cess Wedabo', 'Greater Monrovia', 'Greenville', 'Gwelekpoken']\n",
      "Master list level 3\n",
      "\t['Harper']\n",
      "Geoboundaries adm2\n",
      "\t['Harper']\n",
      "Master list level 3\n",
      "\t['Jeade', 'Jedepo', 'Joe River', 'Jorquelleh', 'Jowein', 'Jraoh']\n",
      "Geoboundaries adm2\n",
      "\t['Jaedae', 'Jeadepo', 'Jo River', 'Jorquelleh', 'Juarzon']\n",
      "Master list level 3\n",
      "\t['Kakata', 'Karluway 1', 'Karluway 2', 'Klay', 'Kokoyah', 'Kolahun', 'Kongba', 'Konobo', 'Kpaai', 'Kpanyan']\n",
      "Geoboundaries adm2\n",
      "\t['Kakata', 'Karforh', 'Karluway #1', 'Karluway #2', 'Klay', 'Kokoyah', 'Kolahun', 'Kongba', 'Konobo', 'Kpaai', 'Kparblee', 'Kpayan', 'Kpi', 'Kulu Shaw Boe']\n",
      "Geoboundaries adm2\n",
      "\t['Leewehpea-Mahn', 'Lower Jloh']\n",
      "Master list level 3\n",
      "\t['Mambah-Kaba']\n",
      "Geoboundaries adm2\n",
      "\t['Mambah Kaba', 'Meinpea-Mahn']\n",
      "Geoboundaries adm2\n",
      "\t['Nanee', 'Neekreen', 'Norwein', 'Nrokwia-Wesldow', 'Nyenawliken', 'Nyenebo', 'Nyorken']\n",
      "Master list level 3\n",
      "\t['Owensgrove']\n",
      "Geoboundaries adm2\n",
      "\t['Owensgrove']\n",
      "Master list level 3\n",
      "\t['Panta', 'Pleebo', 'Porkpa', 'Potupo', 'Putu', 'Pynes Town']\n",
      "Geoboundaries adm2\n",
      "\t['Panta', 'Plahn Nyarn', 'Pleebo/Sodoken', 'Porkpa', 'Potupo', 'Putu', 'Pynes Town']\n",
      "Geoboundaries adm2\n",
      "\t['Quardu Boundi']\n",
      "Master list level 3\n",
      "\t['Saclepea Mah', 'Salala', 'Salayea', 'Sanniquelleh Mahn', 'Sanoyea', 'Sarbo', 'Senjeh', 'Somalia Drive', 'St Paul River', 'Suakoko', 'Suehn Mecca']\n",
      "Geoboundaries adm2\n",
      "\t['Salala', 'Salayea', 'Sam Gbalor', 'Sanniquellie Mahn', 'Sanoyeah', 'Sanquin Dist #1', 'Sanquin Dist #2', 'Sanquin Dist #3', 'Sarbo', 'Seekon', 'Senjeh', 'St. John River City', 'St. Paul River', 'Suakoko', 'Suehn Mecca']\n",
      "Master list level 3\n",
      "\t['Tappita', 'Tarjuwon', 'Tarsue', 'Tchien', 'Tewor', 'Tienpo', 'Timbo', 'Todee', 'Trehn']\n",
      "Geoboundaries adm2\n",
      "\t['Tchien', 'Tewor', 'Todee', 'Trenbo', 'Tukpahblee', 'Tuobo', 'Twan River']\n",
      "Geoboundaries adm2\n",
      "\t['Upper Jloh']\n",
      "Master list level 3\n",
      "\t['Vahun', 'Voinjama']\n",
      "Geoboundaries adm2\n",
      "\t['Vahun', 'Voinjama']\n",
      "Master list level 3\n",
      "\t['Webbo']\n",
      "Geoboundaries adm2\n",
      "\t['Wedjah', 'Wee-Gbehyi-Mahn', 'Whojah', 'Wlogba']\n",
      "Master list level 3\n",
      "\t['Yarnie', 'Yarwein Mehnsohnneh']\n",
      "Geoboundaries adm2\n",
      "\t['Yarmein', 'Yarpea Mahn', 'Yarwein Mehnsonnoh', 'Yeallequelleh']\n",
      "Master list level 3\n",
      "\t['Zoe-Geh', 'Zorzor', 'Zota']\n",
      "Geoboundaries adm2\n",
      "\t['Zarflahn', 'Zoe-Gbao', 'Zorzor', 'Zota']\n"
     ]
    }
   ],
   "source": [
    "for letter in ascii_uppercase:\n",
    "    level3_sublist = [name for name in level3_list if name[0]==letter]\n",
    "    geob2_sublist = [name for name in geob2_list if name[0]==letter]\n",
    "    if len(level3_sublist)>0:\n",
    "        print(\"Master list level 3\")\n",
    "        print(\"\\t\"+str(level3_sublist))\n",
    "    if len(geob2_sublist) >0:\n",
    "        print(\"Geoboundaries adm2\")\n",
    "        print(\"\\t\"+str(geob2_sublist))"
   ]
  },
  {
   "cell_type": "code",
   "execution_count": null,
   "metadata": {
    "pycharm": {
     "name": "#%%\n"
    }
   },
   "outputs": [],
   "source": [
    "# List for dicts for easy dataframe creation\n",
    "dict_list = []\n",
    "# iterating over our players without salaries found above\n",
    "already_found = []\n",
    "search_list = geob2_list\n",
    "for name in level3_list:\n",
    "    \n",
    "    # Use our method to find best match, we can set a threshold here\n",
    "\n",
    "    match = match_name(name, search_list, 30)\n",
    "    #print(f\"{name}: {match}\")\n",
    "\n",
    "    # If the score is 100, remove it from the search list and add it to the found list\n",
    "    if match[1] == 100:\n",
    "        already_found.append(match[0])\n",
    "        search_list.remove(match[0])\n",
    "\n",
    "    # Maybe a closer match has already been found\n",
    "    # if match[1] < 60:\n",
    "    #     match2 = match_name(name, already_found, 30)\n",
    "    #     print(f\"{name}: {match2}\")\n",
    "    #     if match2[1] > match[1]:\n",
    "    #         match = match2\n",
    "\n",
    "    # New dict for storing data\n",
    "    dict_ = {}\n",
    "    dict_.update({\"name_level3\" : name})\n",
    "    dict_.update({\"name_geob2\" : match[0]})\n",
    "    dict_.update({\"score\" : match[1]})\n",
    "    dict_list.append(dict_)\n",
    "\n",
    "table_adm2 = pd.DataFrame(dict_list)\n",
    "table_adm2_matches = table_adm2[table_adm2.score >= 80]"
   ]
  },
  {
   "cell_type": "code",
   "execution_count": null,
   "metadata": {
    "pycharm": {
     "name": "#%%\n"
    }
   },
   "outputs": [],
   "source": [
    "matches_pct = (len(table_adm2_matches) / len(level3_list))\n",
    "'{:.2f}%'.format(matches_pct*100)\n",
    "# old val was 77.42%"
   ]
  },
  {
   "cell_type": "code",
   "execution_count": null,
   "outputs": [],
   "source": [
    "dict_list"
   ],
   "metadata": {
    "collapsed": false,
    "pycharm": {
     "name": "#%%\n"
    }
   }
  },
  {
   "cell_type": "markdown",
   "metadata": {
    "pycharm": {
     "name": "#%% md\n"
    }
   },
   "source": [
    "### Match orgunitlevel2 to Geob Adm 1"
   ]
  },
  {
   "cell_type": "code",
   "execution_count": null,
   "metadata": {
    "pycharm": {
     "name": "#%%\n"
    }
   },
   "outputs": [],
   "source": [
    "master_table.loc[:, \"orgunitlevel2_edit\"] = master_table.orgunitlevel2"
   ]
  },
  {
   "cell_type": "code",
   "execution_count": null,
   "metadata": {
    "pycharm": {
     "name": "#%%\n"
    }
   },
   "outputs": [],
   "source": [
    "remove_words(master_table, \"orgunitlevel2_edit\", [\" District\"])\n",
    "remove_words(geob1, \"shapeName\", [\" City Council\", \" District Council\", \" Municipal Council\", \"Region\"])"
   ]
  },
  {
   "cell_type": "code",
   "execution_count": null,
   "metadata": {
    "pycharm": {
     "name": "#%%\n"
    }
   },
   "outputs": [],
   "source": [
    "master_table.loc[master_table.orgunitlevel2_edit == \"Chattogram\", \"orgunitlevel2_edit\"] = \"Chittagong\""
   ]
  },
  {
   "cell_type": "code",
   "execution_count": null,
   "metadata": {
    "pycharm": {
     "name": "#%%\n"
    }
   },
   "outputs": [],
   "source": [
    "level2_list = list(master_table.orgunitlevel2_edit.unique())\n",
    "level2_list.sort()\n",
    "geob1_list = list(geob1.shapeName)\n",
    "geob1_list.sort()"
   ]
  },
  {
   "cell_type": "code",
   "execution_count": null,
   "metadata": {
    "scrolled": true,
    "pycharm": {
     "name": "#%%\n"
    }
   },
   "outputs": [],
   "source": [
    "for letter in ascii_uppercase:\n",
    "    level2_sublist = [name for name in level2_list if name[0]==letter]\n",
    "    geob1_sublist = [name for name in geob1_list if name[0]==letter]\n",
    "    if len(level2_sublist)>0:\n",
    "        print(\"Master list level 2\")\n",
    "        print(\"\\t\"+str(level2_sublist))\n",
    "    if len(geob1_sublist) > 0:\n",
    "        print(\"Geoboundaries adm1\")\n",
    "        print(\"\\t\"+str(geob1_sublist))\n",
    "    print(\"\\n\")"
   ]
  },
  {
   "cell_type": "code",
   "execution_count": null,
   "metadata": {
    "pycharm": {
     "name": "#%%\n"
    }
   },
   "outputs": [],
   "source": [
    "# List for dicts for easy dataframe creation\n",
    "dict_list = []\n",
    "\n",
    "for name in level2_list:\n",
    "    \n",
    "    # Use our method to find best match, we can set a threshold here\n",
    "    match = match_name(name, geob1_list, 30)\n",
    "\n",
    "    # New dict for storing data\n",
    "    dict_ = {}\n",
    "    dict_.update({\"name_level2\" : name})\n",
    "    dict_.update({\"name_geob1\" : match[0]})\n",
    "    dict_.update({\"score\" : match[1]})\n",
    "    dict_list.append(dict_)\n",
    "\n",
    "table_adm1 = pd.DataFrame(dict_list)\n",
    "table_adm1_matches = table_adm1[table_adm1.score >= 80]"
   ]
  },
  {
   "cell_type": "code",
   "execution_count": null,
   "metadata": {
    "pycharm": {
     "name": "#%%\n"
    }
   },
   "outputs": [],
   "source": [
    "matches_pct = (len(table_adm1_matches) / len(level2_list))\n",
    "'{:.2f}%'.format(matches_pct*100)"
   ]
  },
  {
   "cell_type": "markdown",
   "metadata": {
    "pycharm": {
     "name": "#%% md\n"
    }
   },
   "source": [
    "Loop through each row in master table, and add new attribute names (adm3 and adm2), if the names produced matches in the lookup tables"
   ]
  },
  {
   "cell_type": "code",
   "execution_count": null,
   "metadata": {
    "pycharm": {
     "name": "#%%\n"
    }
   },
   "outputs": [],
   "source": [
    "master_table_copy = master_table.copy()"
   ]
  },
  {
   "cell_type": "code",
   "execution_count": null,
   "metadata": {
    "pycharm": {
     "name": "#%%\n"
    }
   },
   "outputs": [],
   "source": [
    "for idx, row in master_table_copy.iterrows():\n",
    "    \n",
    "    # if row.orgunitlevel4_edit in list(table_adm3_matches.name_level4):\n",
    "    #\n",
    "    #     match = table_adm3_matches.loc[table_adm3_matches.name_level4==row.orgunitlevel4_edit, \"name_geob3\"].iloc[0]\n",
    "    #     master_table_copy.loc[idx, 'adm3'] = match\n",
    "        \n",
    "    if row.orgunitlevel3_edit in list(table_adm2_matches.name_level3):\n",
    "        \n",
    "        match = table_adm2_matches.loc[table_adm2_matches.name_level3==row.orgunitlevel3_edit, \"name_geob2\"].iloc[0]\n",
    "        master_table_copy.loc[idx, 'adm2'] = match\n",
    "        \n",
    "    if row.orgunitlevel2_edit in list(table_adm1_matches.name_level2):\n",
    "        \n",
    "        match = table_adm1_matches.loc[table_adm1_matches.name_level2==row.orgunitlevel2_edit, \"name_geob1\"].iloc[0]\n",
    "        master_table_copy.loc[idx, 'adm1'] = match"
   ]
  },
  {
   "cell_type": "code",
   "execution_count": null,
   "metadata": {
    "pycharm": {
     "name": "#%%\n"
    }
   },
   "outputs": [],
   "source": [
    "master_table_copy.adm2.isna().sum()"
   ]
  },
  {
   "cell_type": "code",
   "execution_count": null,
   "metadata": {
    "pycharm": {
     "name": "#%%\n"
    }
   },
   "outputs": [],
   "source": [
    "master_table_copy.adm1.isna().sum()"
   ]
  },
  {
   "cell_type": "code",
   "execution_count": null,
   "metadata": {
    "pycharm": {
     "name": "#%%\n"
    }
   },
   "outputs": [],
   "source": [
    "master_table_copy.head(2)"
   ]
  },
  {
   "cell_type": "code",
   "execution_count": null,
   "outputs": [],
   "source": [],
   "metadata": {
    "collapsed": false,
    "pycharm": {
     "name": "#%%\n"
    }
   }
  }
 ],
 "metadata": {
  "kernelspec": {
   "name": "health",
   "language": "python",
   "display_name": "health"
  },
  "language_info": {
   "codemirror_mode": {
    "name": "ipython",
    "version": 3
   },
   "file_extension": ".py",
   "mimetype": "text/x-python",
   "name": "python",
   "nbconvert_exporter": "python",
   "pygments_lexer": "ipython3",
   "version": "3.7.6"
  },
  "toc": {
   "base_numbering": 1,
   "nav_menu": {
    "height": "146px",
    "width": "280px"
   },
   "number_sections": true,
   "sideBar": true,
   "skip_h1_title": false,
   "title_cell": "Geocoding Notebook - Bangladesh",
   "title_sidebar": "Contents",
   "toc_cell": true,
   "toc_position": {
    "height": "calc(100% - 180px)",
    "left": "10px",
    "top": "150px",
    "width": "405px"
   },
   "toc_section_display": true,
   "toc_window_display": true
  }
 },
 "nbformat": 4,
 "nbformat_minor": 2
}