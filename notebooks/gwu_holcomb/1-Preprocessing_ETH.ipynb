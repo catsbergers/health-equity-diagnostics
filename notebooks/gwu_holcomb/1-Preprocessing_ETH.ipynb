{
 "cells": [
  {
   "cell_type": "markdown",
   "metadata": {
    "toc": true,
    "pycharm": {
     "name": "#%% md\n"
    }
   },
   "source": [
    "<h1>Preprocessing Site Names<span class=\"tocSkip\"></span></h1>\n",
    "<div class=\"toc\">\n",
    "    <ul class=\"toc-item\">\n",
    "        <li>\n",
    "        <span><a href=\"#Packages-and-functions\" data-toc-modified-id=\"Packages-and-functions-1\">\n",
    "        <span class=\"toc-item-num\">1&nbsp;&nbsp;</span>Packages and functions</a></span>\n",
    "        </li>\n",
    "        <li>\n",
    "            <span><a href=\"#Prepare-and-match-admin-boundary-data\" data-toc-modified-id=\"Prepare-and-match-admin-boundary-data-2\">\n",
    "            <span class=\"toc-item-num\">2&nbsp;&nbsp;</span>Prepare and match admin boundary data</a></span>\n",
    "            <ul class=\"toc-item\">\n",
    "                <li>\n",
    "                <span><a href=\"#Match-health-list-admin-names-to-shapefile-admin-names\" data-toc-modified-id=\"Match-health-list-admin-names-to-shapefile-admin-names-2.1\"><span class=\"toc-item-num\">2.1&nbsp;&nbsp;</span>Match health list admin names to shapefile admin names</a></span>\n",
    "                <ul class=\"toc-item\">\n",
    "                <li>\n",
    "                <span><a href=\"#Match-orgunitlevel4-to-Geob-Adm-3\" data-toc-modified-id=\"Match-orgunitlevel4-to-Geob-Adm-3-2.1.1\"><span class=\"toc-item-num\">2.1.1&nbsp;&nbsp;</span>Match orgunitlevel4 to Geob Adm 3</a></span>\n",
    "                </li>\n",
    "                <li>\n",
    "                <span><a href=\"#Match-orgunitlevel3-to-Geob-Adm-2\" data-toc-modified-id=\"Match-orgunitlevel3-to-Geob-Adm-2-2.1.2\"><span class=\"toc-item-num\">2.1.2&nbsp;&nbsp;</span>Match orgunitlevel3 to Geob Adm 2</a></span>\n",
    "                </li>\n",
    "                <li>\n",
    "                <span><a href=\"#Match-orgunitlevel2-to-Geob-Adm-1\" data-toc-modified-id=\"Match-orgunitlevel2-to-Geob-Adm-1-2.1.3\"><span class=\"toc-item-num\">2.1.3&nbsp;&nbsp;</span>Match orgunitlevel2 to Geob Adm 1</a></span>\n",
    "                </li>\n",
    "                </ul>\n",
    "            </li>\n",
    "        </ul>\n",
    "    </li>\n",
    "</div>"
   ]
  },
  {
   "cell_type": "markdown",
   "metadata": {
    "pycharm": {
     "name": "#%% md\n"
    }
   },
   "source": [
    "Version: April 11, 2023\n",
    "\n",
    "This notebook works with health facilities from the HMIS Database and attempts to geolocate them, by joining them to administrative shapefiles, other sources of geo-located health facilities, and running queries with geocoding APIs.\n",
    "\n",
    "**Data Sources**\n",
    "- Health facilities (hierarchy list)\n",
    "- Geoboundaries (Adm1 through 4)\n",
    "- FEWS Admin-2 boundaries (updated post 2017)"
   ]
  },
  {
   "cell_type": "markdown",
   "source": [],
   "metadata": {
    "collapsed": false,
    "pycharm": {
     "name": "#%% md\n"
    }
   }
  },
  {
   "cell_type": "markdown",
   "metadata": {
    "pycharm": {
     "name": "#%% md\n"
    }
   },
   "source": [
    "# Packages and functions"
   ]
  },
  {
   "cell_type": "code",
   "execution_count": 1,
   "metadata": {
    "pycharm": {
     "name": "#%%\n"
    }
   },
   "outputs": [],
   "source": [
    "from os.path import join\n",
    "import pandas as pd\n",
    "import matplotlib.pyplot as plt\n",
    "\n",
    "# local imports\n",
    "import preprocessing_utils as ppu\n",
    "import search_utils as ssu"
   ]
  },
  {
   "cell_type": "code",
   "execution_count": 2,
   "outputs": [
    {
     "data": {
      "text/plain": "'/usr/lib/libc.dylib'"
     },
     "execution_count": 2,
     "metadata": {},
     "output_type": "execute_result"
    }
   ],
   "source": [
    "from ctypes.util import find_library\n",
    "find_library('c')"
   ],
   "metadata": {
    "collapsed": false,
    "pycharm": {
     "name": "#%%\n"
    }
   }
  },
  {
   "cell_type": "markdown",
   "metadata": {
    "pycharm": {
     "name": "#%% md\n"
    }
   },
   "source": [
    "# Prepare and match admin boundary data"
   ]
  },
  {
   "cell_type": "code",
   "execution_count": 3,
   "outputs": [],
   "source": [
    "iso3 = \"ETH\"\n",
    "country = \"Ethiopia\"\n",
    "input_dir = \"/Users/dianaholcomb/Documents/GWU/6501_Capstone/workspace/data\"\n",
    "input_filename = f\"hierarchy/{country}_health_facilities.csv\"\n",
    "output_dir = join(input_dir, \"output\", iso3)\n",
    "num_admin_levels = 3\n",
    "num_org_levels = 4\n",
    "COLS_TO_DROP = []\n",
    "CHECK_DUPLICATE_COLS = ['orgunitlevel2', 'orgunitlevel3', 'orgunitlevel4', 'orgunitlevel5', 'orgunitlevel6']\n",
    "geoboundary_words_to_remove = [\" City Council\", \" District Council\", \" Municipal Council\", \" District\"]\n",
    "org_level_words_to_remove = [\n",
    "    # 5+ words\n",
    "    \" Gynie And Internal Medicine Speciality Clinic\", \" Internal Medicine And Obstetric And Gayni Speciality Clinic\",\n",
    "    \" Maternal And Child Health Specialty Center Speciality Clinic\", \" Obstatric And Gyencology Speciality Clinic\",\n",
    "    \" Obstetric And Gynacology Speciality Clinic\", \" Obstetrics And Gynecology Specialty Clinic\",\n",
    "    \" Specailty Surgucal Center Speciality Center\",\n",
    "    \" Specialized Internal Medicine And Surgical Center\", \" Surgical And Medical Speciality Center\",\n",
    "    # 4 words\n",
    "    \" Gyne And Obste Clinic\", \" Gyn Obs Spe Clinic\", \" Interanal Medicine Specialty Clinic\",\n",
    "    \" Internal Medicine Medical Center\", \" Internal Medicine Specialty Clinic\", \" Internal Medicine  Specialty Clinic\",\n",
    "    \" Maternal And Child Health Clinic\",\n",
    "    \" Mothers A And Childrens\", \" Obstetrics And  Gynecology Clinic\", \" Ped Atric Specalty Clinic\",\n",
    "    \" Police Commission Primary Clinic\", \" Surgical Special Higher Clinic\",\n",
    "    # 3 words\n",
    "    \" Al Health Bureau\", \" Dental Speciality Clinic\", \" Dental Specialty Clinic\", \" Dental Specility Clinic\",\n",
    "    \" Dermatology Speciality Clinic\",\n",
    "    \" Eye Speciality Clinic\",\n",
    "    \" Eye Specialty Clinic\",\n",
    "    \" Gyne And Obste\", \" Interanal Medicinespecialty Clinic\", \" Internal Medicine Center\",\n",
    "    \" Internal Specality Clinic\", \" Maternal And Child\", \" Mch Specality Center\", \" Mch Specialist Clinic\",\n",
    "    \" Mch Speciality Centre\",\n",
    "    \" Medium Dental Clinic\", \" Medium Primary Clinic\", \" Memoreal General Hospital\", \" Memorial Referral Hospital\",\n",
    "    \" Mothers And Pdiatrics Center\", \" Obstetrics  And Gynecology\", \" Od And Imsc\", \" Pediatric Specialty Clinic\",\n",
    "    \" Pediatrics Speciality Clinic\", \" Regional Health Bureau\", \" Special Dental Clinic\", \" Special  Eye Clinic\",\n",
    "    \" Speciality Dental Clinic\", \" Specialized Eye Clinic\",\n",
    "    \" Specialized Referral Hospital\", \" Surgery Specialty Clinic\", \" Surgical Specialty Clinic\",\n",
    "    # 2 words\n",
    "    \" Administration Ho\", \" Bygyn Sp.Clinic\", \" City Admin\", \" Comprehensive And\", \" Dental Clinic\", \" Dental Small\",\n",
    "    \" General Hospital\", \"health Center\", # no space intentional here\n",
    "    \" Health Center\", \" Helth Center\", \" Health Clinic\", \" Health Office\", \" Health Post\", \" Healthcare Foundation\",\n",
    "    \" Higher Obsgyn\", \"  Higher Pediatric\", \" Internalanddermatology Sp.Clinic\", \" Internal Medicine\",\n",
    "    \" Internalspecality Clinic\", \" Lower Clinic\", \" Maternity Hospital\", \" Mch Center\", \" Mch Hospital\",\n",
    "    \" Medical Center\", \" Medicinespecialty Clinic\", \" Mediu Clinic\", \" Mediu, Cli\", \" Medium Cilinic\",\n",
    "    \" Medium Clinc\", \" Medium Clinic\", \" Medium Clininc\", \" Midium Clinic\", \" Middium Clinic\", \" Obygyn Sp.Clinic\",\n",
    "    \" Optamology,Dermatology Andinternal\", \" Pediatric Clinic\", \" Pediatric Sp.Clinic\",\n",
    "    \" Penediatric,Obey-Gayneand Internal\", \" Primary Clinic\",  \" Primary Hospital\", \" Primary Hosp\",\n",
    "    \" Referal Hospital\", \" Referral Hospital\", \" Specality Clinic\", \" Specalty Clinic\", \" Speciaility  Clinic\",\n",
    "    \" Special Clinic\", \" Speciality Center\", \" Specialty Clinic\", \" Speciality Clinic\",\n",
    "    \" Specialized Hospital\", \" Sub City\",\n",
    "    # 1 word\n",
    "    \" Administration\", \" Adminstration\", \" Center\", \" Centre\", \" Clinic\", \" Clinin\", \" Comprehensive\", \" Dent\", \" Dental\",\n",
    "    \" Dental\", \" Dermatology\", \" District\", \" Dm\", \" Genaral\", \" General\", \" Gynecology\", \" Hc\", \" Higher\", \" Hospital\",\n",
    "    \" Interanal\",\n",
    "    \" International\", \" Mclinic\", \" Medium\", \" Memorial\", \" Midium\", \" Opclinic\", \" Operational\", \" Pediatrics\",\n",
    "    \" Pediatric\", \" Phcu\", \" PHCU\",  \" Primary\", \" Primiry\", \" Rural\", \" Sp.Clinic\", \" Specialized\", \" Subcity\",\n",
    "    \" Surgery\", \" Surgical\",\n",
    "    \" Town\", \" Worho\", \" WorHO\", \" Zhd\", \" ZHD\"\n",
    "]"
   ],
   "metadata": {
    "collapsed": false,
    "pycharm": {
     "name": "#%%\n"
    }
   }
  },
  {
   "cell_type": "code",
   "execution_count": 4,
   "outputs": [],
   "source": [
    "geob_arr = ppu.get_geoboundaries(num_admin_levels, iso3)"
   ],
   "metadata": {
    "collapsed": false,
    "pycharm": {
     "name": "#%%\n"
    }
   }
  },
  {
   "cell_type": "code",
   "execution_count": 5,
   "outputs": [
    {
     "name": "stdout",
     "output_type": "stream",
     "text": [
      "Len of original data: 27910\n",
      "Len of clean data: 27908\n",
      "\n",
      "Unique Level 2: 15\n",
      "Unique Level 3: 218\n",
      "Unique Level 4: 2572\n"
     ]
    }
   ],
   "source": [
    "master_table = ppu.process_masterDF(input_dir, input_filename, num_org_levels, check_dupe_cols=CHECK_DUPLICATE_COLS,\n",
    "                                    cols_to_drop=COLS_TO_DROP)"
   ],
   "metadata": {
    "collapsed": false,
    "pycharm": {
     "name": "#%%\n"
    }
   }
  },
  {
   "cell_type": "code",
   "execution_count": 6,
   "metadata": {
    "pycharm": {
     "name": "#%%\n"
    }
   },
   "outputs": [
    {
     "name": "stdout",
     "output_type": "stream",
     "text": [
      "Unique Geoboundaries Adm 1: 11\n",
      "Unique Geoboundaries Adm 2: 74\n",
      "Unique Geoboundaries Adm 3: 690\n"
     ]
    }
   ],
   "source": [
    "geobList_arr = []\n",
    "for idx, geob in enumerate(geob_arr):\n",
    "    admIdx = idx+1\n",
    "    print(f\"Unique Geoboundaries Adm {admIdx}: {len(geob)}\")\n",
    "    geob_list = list(geob.shapeName)\n",
    "    geob_list.sort()\n",
    "    geobList_arr.append(geob_list)"
   ]
  },
  {
   "cell_type": "code",
   "execution_count": 7,
   "outputs": [
    {
     "data": {
      "text/plain": "<Figure size 1000x1000 with 3 Axes>",
      "image/png": "[encoded data removed]"
     },
     "metadata": {},
     "output_type": "display_data"
    }
   ],
   "source": [
    "fig, ax = plt.subplots(1, num_admin_levels, figsize=(10,10))\n",
    "for idx, geob in enumerate(geob_arr):\n",
    "    geob.boundary.plot(ax=ax[idx], color='black').set_axis_off()"
   ],
   "metadata": {
    "collapsed": false,
    "pycharm": {
     "name": "#%%\n"
    }
   }
  },
  {
   "cell_type": "markdown",
   "metadata": {
    "pycharm": {
     "name": "#%% md\n"
    }
   },
   "source": [
    "## Match health list admin names to shapefile admin names\n",
    "### Match highest Geob Adm to orgunitlevel\n",
    "Try using fuzzy matching  "
   ]
  },
  {
   "cell_type": "code",
   "execution_count": 8,
   "metadata": {
    "pycharm": {
     "name": "#%%\n"
    }
   },
   "outputs": [
    {
     "name": "stdout",
     "output_type": "stream",
     "text": [
      "Org Unit Level: 4\n"
     ]
    }
   ],
   "source": [
    "if num_admin_levels == 2:\n",
    "    org_unit_level = 3\n",
    "elif  num_admin_levels > 2:\n",
    "    org_unit_level = 4\n",
    "else:\n",
    "    org_unit_level = 1\n",
    "\n",
    "print(f\"Org Unit Level: {org_unit_level}\")"
   ]
  },
  {
   "cell_type": "markdown",
   "metadata": {
    "pycharm": {
     "name": "#%% md\n"
    }
   },
   "source": [
    "# Do Matching"
   ]
  },
  {
   "cell_type": "code",
   "execution_count": 9,
   "outputs": [
    {
     "name": "stdout",
     "output_type": "stream",
     "text": [
      "-----Master list level: 4, Geoboundaries level: 3-----\n"
     ]
    },
    {
     "name": "stderr",
     "output_type": "stream",
     "text": [
      "/Users/dianaholcomb/Documents/GWU/6501_Capstone/workspace/health-equity-diagnostics/notebooks/gwu_holcomb/preprocessing_utils.py:27: FutureWarning: The default value of regex will change from True to False in a future version.\n",
      "  data_frame[column_name] = data_frame[column_name].str.replace(word, \"\")\n"
     ]
    },
    {
     "name": "stdout",
     "output_type": "stream",
     "text": [
      "['Aa Termusena Berchekomedium' 'Aids' 'Abebe Bikila' ... 'Setit Humra'\n",
      " 'Tsegede' 'Welkayit']\n",
      "Master list level 4 (292)\n",
      "\t['Aa Termusena Berchekomedium', 'Aids', 'Abebe Bikila', 'Abisiniya', 'Abuderda', 'Addis Ketema', 'Addis Raey', 'Adot', 'Africa No 5', 'Ale-Huhuwa', 'Alemtena', 'Alroe', 'Amede', 'Ami', 'Ayub', 'Aberash', 'Abo', 'Abrak', 'Aetel', 'Akaki', 'Akaki Kela', 'Addis', 'Abebech Gobena', 'Abware', 'Afinchober', 'Ananiya', 'Arada Giorgis', 'Arada', 'Awash', 'Adm', 'Abawoldetensay', 'Abbich Liju', 'Abigiya', 'Addis Hiwot', 'Adenew', 'Airport', 'Anbessa City Bus', 'Arsho', 'Ayat', 'Adisu Gebeya', 'Adonai Etiopia', 'Adera', 'A-Hop Ethiopa', 'Aa Koda Fabirica', 'Abdi', 'Abebaal', 'Abed', 'Admas No.1', 'Admas No.2', 'Afran', 'Alafeya', 'Ale-Feewze', 'Alem Bank', 'Aresema', 'Arfan', 'Aye', 'Ayer Tena', 'Ayinalem', 'Ajora', 'American', 'Amoraw', 'Abenet No 3', 'Abnet', 'Amin', 'Abay', 'Amesoda', 'Asfaw Beyene', 'Awash Wine', 'Asefa Gobeze Metasebiya No', 'Adaar', 'Afambo', 'Aysita', 'Ayssaita', \"Aba'Ala\", 'Abala', 'Afdera', 'Amibara', 'Argoba Special', 'Awash Fenteale', 'Awura', 'Agew Gimjabet', 'Ankasha Guagusa', 'Ayehu Guagusa', 'Agmas', 'Abenet', 'Addis Alem', 'Adinas', 'Afilas', 'Africa', 'Alefa', 'Arbaya', 'Aykel', 'Ansas Or Dr Tekile', 'Atse Minilik Metasebia', 'Ayere Tena', 'Ayu Or Dr Ayanaw', 'Abema', 'Adis Vision', 'Amanuael', 'Amhara Polic College', 'Abdu Ali', 'Aneded', 'Awabel', 'Aa And Ga', 'Adame', 'Arsema', 'Adisalem', 'Amare', 'Areyam', 'Azezo', 'Aziza', 'Ali Adem', 'Adi Arkay', 'Alem Ketema (Enat)', 'Angolala Tera', 'Ankober', 'Antsokia Gemza', 'Areriti', 'Asagirt', 'Ataye', 'Angot', 'Artuma Fursi', 'Addis Zemen', 'Anbessamie', 'Andabet', 'Akesta', 'Albuko', 'Ambasel', 'Argoba', 'Abergele', 'Amdework', 'Adet', 'Abrihajira', 'Adagn Ager Chako', 'Asosa 1', 'Assosa', 'Agalo Meti', 'Aleburak', 'Assosa Cluster', 'Assosa Zone Prizion', 'Abrahamo Woreda', 'Abobo', 'Akobo', 'Abadir', 'Aboker', 'Addis Zaman', 'Ayyo', 'Amir Nur', 'Arategna', 'Adama Confidential Fgae', 'Adama', 'Adama Teaching', 'Anole', 'Abayine', 'Agape', 'Amaro', 'Ambo', 'Araada', 'Abomsa', 'Amigna', 'Aseko', 'Afiya', 'Asela', 'Asella Rehoboth', 'Assela', 'Agarfa', 'Abosa', 'Addisu Poly', 'Africn Services', 'Aluto', 'Abyssinia', 'Addisu', 'Adea', 'Airforce', 'Amanuel', 'Asad', 'Asaffa', 'Asfaw', 'Arero', 'Adeba', 'Ane Dima', 'Alem', 'Amen', 'Aweday', 'Adaa', 'Adami Tulu Jido Kombolcha', 'Arjo', 'Adola', 'Adola Rede', 'Aga Wayyu', 'Anna Sorra', \"Arda Jila Me'E Boko\", 'Abenezer', 'Adis', 'Adonia', 'Abay Chomen', 'Abe Dengoro', 'Amuru', 'Ale', 'Alge Sachi', 'Abajifar', 'Abdo', 'Asfew', 'Agaro', 'Anfilo', 'Abyssiniya', 'Aba Sena', 'Adventist', 'Abichu Gna', 'Aleltu', 'Aayyoo', 'Addisalem', 'Akil', 'Alemegena', 'Alemgena', 'Amanuel Solomon', 'Ansariya', 'Ayik Textile', 'Abosto', 'Adoni', 'Awasho', 'Amaya', 'Ameya', 'Abreham', 'Alemu (Mhy)', 'Adaba', 'Arsi Negele', 'Abaya', 'Anchar', 'Asabot', 'Abuna Gindeberet', 'Ada Berga', 'Ambo University', 'Ayira', 'Alfacho', 'Arguba', 'Arba Minch', 'Arbaminch', 'Arbaminch Zuria', 'Abeshge', 'Ameka', 'Ann Lemo', 'Atotii Ulo', 'Adilo Zuria', 'Angacha', 'Alemgebeya', 'Alicho Wiriro', 'Abala Abaya', 'Areka', 'Aleta Wondo', 'Anteneh', 'Alo', 'Awaye Kararo', 'Abay Teka', 'Aposto Police College', 'Abera Doko', 'Abem', 'Adare', 'Alamura', 'Alatiyon', 'Ashiko', 'Abaya Zuria', 'Argada Haro Dimtu', 'Alawo Ano', 'Asarado Mero', 'Agara Gidire', 'Aruma', 'Awbare', 'Ararso', 'Aware', 'Ayun', 'Abaqaraw', 'Adadle', 'Afdam', 'Ayisha', 'Adiyo', 'Anderacha', 'Awurada', 'Ameya Admin', 'Ameya Zuriya Woreda', 'Abi Adi', 'Abiadi', 'Adwa', 'Ahferom', 'Aksum University', 'Axum', 'Adigrat', 'Atsbi Wenberta', 'Adi Haki', 'Ayder', 'Asegede Tsimbila', 'Alamata']\n",
      "Geoboundaries adm3 (85)\n",
      "\t['Ab Ala', 'Ababo', 'Abay Chomen', 'Abaya', 'Abe Dongoro', 'Abergele', 'Abeshege', \"Abichuna Gne'a\", 'Abobo', 'Abuna G/Beret', \"Ada'a\", \"Adaa'r\", 'Adaba', 'Adadle', 'Adama', 'Adami Tulu Jido Kombolcha', 'Adda Berga', 'Addi Arekay', 'Addis Ketema', 'Adola', 'Adwa', 'Afambo', 'Afdem', 'Afder', 'Afdera', 'Afele Kola (Dima)', 'Agalometi', 'Agarfa', 'Ahferom', 'Akaki', 'Akaki - Kalit', 'Akobo', 'Alaba SP Woreda', 'Alaje', 'Alamata', 'Albuko', 'Ale', 'Aleltu', 'Alem Gena', 'Aleta Wendo', 'Alfa', 'Alge Sachi', 'Alicho Woriro', 'Alle', 'Amaro', 'Ambasel', 'Ambo Zuria', 'Ameya', 'Amibara', 'Amigna', 'Amuru', 'Ana Sora', 'Analemmo', 'Anchar', 'Anderacha', 'Aneded', 'Anfilo', 'Angolelana Tera', 'Anigacha', 'Ankasha', 'Ankober', 'Antsokiya', 'Arada', 'Arba Minch Zuria', 'Arbe Gonna', 'Arero', 'Argoba', 'Argoba Special', 'Aroresa', 'Arsi Negele', 'Artuma Fursi', 'Aseko', 'Asgede Tsimbila', 'Assagirt', 'Assosa', 'Atsbi Wenberta', 'Aw-bare', 'Awabel', 'Aware', 'Awash Fentale', 'Awra', 'Ayida', 'Ayira', 'Ayisha', 'Aysaita']\n",
      "\n",
      "\n",
      "Master list level 4 (195)\n",
      "\t['Begonet', 'Beyan', 'Beyane', 'Bilal', 'Bitaniya', 'Basha Wolde Chelot', 'Beata', 'Bgm Mothers And', 'Berehan', 'Bethab', 'Betsega', 'Bole 1720', 'Bole 17Bole', 'Bole Kotebe', 'Brass', 'Bulbula', 'Bethezata', 'Bethezatha', 'Biham', 'Birhan', 'Bama', 'Bekur', 'Bethel', 'Bewketu Bireda', 'Biruk', 'Bole Arabesa', 'Betel No.2', 'Beteseyida', 'Brook', 'Bezalem', 'Bete Sahel', 'Biniyam', 'Berahle', 'Bidu', 'Buremedaytu Woreda', 'Banja', 'Bahirdar', 'Bule Nile', 'Bahir Dar', 'Belaynesh', 'Bete_Beza', 'Bezawit', 'Bayu Yeayin Liyu Kefitegna', 'Birdlibis Fabrica', 'Betemarkos', 'Bati', 'Betelehem', 'Boru Silassie', 'Borumeda', 'Buambua Wuha', 'Baso Liben', 'Bibugn', 'Bichena', 'Berhan Tesfa', 'Berihun', 'Bilajig', 'Biraro', 'Beyeda', 'Basona Werana', 'Berehet', 'Bugina', 'Bati Woreda', 'Borena', 'Bahir Dar Zuria', 'Bure Zuria', 'Burie', 'Bambasi', 'Belo Jeganfoy', 'Bulen', 'Benishangul Gumuz', 'Buldigilu', 'Beles', 'Biya', 'Bole', 'Biyoawale', 'Bete Raey', 'Betel', 'Betelihem', 'Baziel', 'Bishan Dima', 'Boledia', 'Biftu', 'Bokushenen', 'Bonsalower', 'Bale Gasgar', 'Belegesgar', 'Bokeji', 'Bokoji', 'Berbere', 'Batu', 'Bishan Guracha', 'Babogaya', 'Beteseb No2', 'Beteseb Number 1', 'Biruk No2', 'Bishoftu', 'Blue Nile', 'Bedale', 'Bedele', 'Borecha', 'Beka', 'Burayu', 'Biruk N1', 'Biruk N2', 'Babile', 'Bedeno', 'Bisidimo', 'Bora', 'Boset', 'Boneya Bushe', 'Berek', 'Bore', 'Betesab', 'Beteseb', 'Becho', 'Billo Nopha', 'Bure', 'Bacho Bore', 'Betethata', 'Botor Tolay', 'Bete Fiker', 'Bale', 'Bereka', 'Bmet', 'Basufked', 'Blen', 'Bachore', 'Bereket', 'Bulchana', 'Bantu', 'Berhanu', 'Birbirsa Kojowa', 'Bule Hora', 'Bedesa', 'Boke', 'Burka Dhimtu', 'Burka Dhintu', 'Bako', 'Bako Tibe', 'Babo Gembel', 'Begi', 'Boji Choqorsa', 'Boji Dirmeji', 'Bube', 'Bereke', 'Burji Kale Hiwot', 'Busa Kila', 'Birbir', 'Bonke', 'Boreda', 'Bule', 'Beto', 'Bulki', 'Buee', 'Butajira', 'Bonosha', 'Baka Dawula', 'Bena Tsemay', 'Bayira Koysha', 'Bele Hawassa', 'Bodit', 'Boloso Sore', 'Bolosso Bombe', 'Belesito', 'Bergo', 'Bethesayida Rda', 'Bochesa', 'Bombe', 'Balela', 'Bona (Werancha)', 'Bura', 'Bursa', 'Bubisa', 'Beratedecho', 'Boa Bedegelo', 'Banko Markos', 'Bensadaye', 'Bete Abrham', 'Bulecha', 'Bbc', 'Bokaso', 'Babo Chorore', 'Bare', 'Bokh', 'Babili', 'Bilcilbur', 'Birqod', 'Bodalay', 'Bokolmanyo', 'Bercano', 'Bita', 'Bonga', 'Bero', 'Bachuma', 'Ben Meskerem']\n",
      "Geoboundaries adm3 (59)\n",
      "\t['Babile', 'Babile', 'Babo', 'Badele Zuria', 'Bahirdar Zuria', 'Bako Tibe', 'Bambasi', 'Banja', 'Bare', 'Basketo SP Woreda', 'Baso Liben', 'Basona Worena', 'Bati', 'Becho', 'Becho', 'Bedeno', 'Begi', 'Bele Gesgar', 'Bena Tsemay', 'Bensa', 'Berahile', 'Berbere', 'Bereh', 'Berehet', 'Bero', 'Beyeda', 'Bibugn', 'Bidu', 'Bila Seyo', 'Bilidigilu', 'Bilo Nopha', 'Bio Jiganifado', 'Bio Jiganifado', 'Bita (Big)', 'Boh', 'Boji Chekorsa', 'Boji Dirmeji', 'Boke', 'Bole', 'Boloso Bombe', 'Boloso sore', 'Bona Zuria', 'Boneya Boshe', 'Bonke', 'Bora', 'Bore', 'Borecha', 'Boreda', 'Boricha', 'Boset', 'Bugna', 'Bule', 'Bule Hora', 'Bulen', 'Bure', 'Bure', 'Bure Mudaytu', 'Burji', 'Bursa']\n",
      "\n",
      "\n",
      "Master list level 4 (52)\n",
      "\t['Cherchel', 'Choice Special', 'Cosmodent Specialty', 'Care', 'Cmc', 'Chifra', 'Chagni', 'Coca Cola', 'Crown', 'Central Armacho', 'Chilga', 'Chacha', 'Chorkos', 'Chafe', 'Chancho Arsi', 'Chole', 'Catholic', 'Chilalo Ber', 'Chilaloo Shede', 'C And E', 'Chaleleka', 'Chewaka', 'Chora', 'Chelenko', 'Chinaksen', 'Chancho', 'Chomen Guduru', 'Charity Of Mession', 'Chora Botor', 'Catolec', 'Cheleleki', 'Chemos', 'Community', 'Catholic Church', 'Chiro', 'Chiro Zurya', 'Chelia', 'Chobi', 'Chencha', 'Chencha Zuria', 'Chelekleketu', 'Chorso', 'Cheha', 'Chuko', 'Chebe', 'Chire', 'Chirone', 'Charite', 'Chareti', 'Chena', 'Cheta', 'Chida Admin']\n",
      "Geoboundaries adm3 (16)\n",
      "\t['Cheha', 'Cheliya', 'Chena', 'Chencha', 'Chereti/Weyib', 'Cheta', 'Chifra', 'Chilga', 'Chinaksen', 'Chire', 'Chiro Zuria', 'Chole', 'Chora', 'Chora', 'Chuko', 'Chwaka']\n",
      "\n",
      "\n",
      "Master list level 4 (255)\n",
      "\t['Dr.Mekonin', 'Dashen', 'Dilfre', 'Dr Aklilu', 'Dr Bekele', 'Dr Kamila', 'Dr Wendemu', 'Dr Yared', 'Dr Yeshi Workal', 'Dr. Belete Lemma', 'Dr. Fanti', 'Dr.S.A.R.A.Y', 'Dr Zenit', 'Debub Hibret', 'Dildiy', 'Dr Hana', 'Dr Kalid', 'Dr Misbah', 'Dr Shemse', 'Dr Abduraman', 'Dr Henok', 'Dr Assefa', 'Dr Worku', 'Dinberua', 'Dubti', 'Dalol', 'Dulecha', 'Dalifaghe', 'Dewe', 'Dangla', 'Dangla Zuria', 'D.R Abdu', 'Dalole', 'Dengel', 'Dr Askal', 'Dr Firew', 'Dr. Mekides', 'Dr. Mekuriaw', 'Dream Care', 'Delgi', 'Dembia', 'Dagim Or Dr Tarekegn', 'Debre Birhan', 'Debre-Birhan', 'Debrebirhan Universty', 'Deberemarkos University', 'Debre Markos', 'Debre-Markos', 'Dmu', 'Docter Habtamhu', 'Dr. Abenet', 'Dr.Belay', 'Dr.Tebekew', 'Dessie', 'Dessie Maremia Betoch', 'Dr Abdu Seid', 'Dr Demisew', 'Dr Kedir Ali', 'Dr Minase Eshete', 'Dr. Dereje', 'Dr.Misganaw Special Obsgyn', 'Debay Tilatgin', 'Debre Elias', 'Debrework', 'Dejen', 'Dr Zenahebezu', 'Danaal', 'Dent Fana', 'Docter Getaneh', 'Docter Wossen', 'Docter Yared', 'Doctor Mihritie', 'Dr Ermias', 'Dr Kibur', 'Dr. Fiseha', 'Desalegn', 'Dr Kemal', 'Dabat', 'Debark', 'Debark Zuria', 'Debere Birhan', 'Debresina', 'Deneba', 'Dawunt', 'Dawa Chefa', 'Dawa Harewa', 'Debre-Tabor', 'Debretabor', 'Dera', 'Dr. Ambachew', 'Delanta', 'Dellanta', 'Dessie Zuriya', 'Dehana', 'Debub Achefer', 'Debub Mecha', 'Dega Damot', 'Dembecha', 'Durbete', 'Dangur', 'Dibate', 'Dr. Solomon', 'Doctor Kussa Teferi', 'Dambe', 'Diredawa (Nemberwan)', 'Dechatu', 'Dimma', 'Dong Fung', 'Dozer Ulami', 'Dr Tekeste', 'Dr. Muluken', 'Duos Megala', 'Dr. Fozi', 'Dr. Leta', 'Dr Ababe Alemayeu', 'Dr Dawit', 'Dr Kebede', 'Dr Mahamed', 'Dr. Fikru', 'Dembel', 'Drbedesa', 'Deksis', 'Digeluna Tijo', 'Dodota', 'Dr Asheber Surafel', 'Dr Bonge', 'Dr Tilahun Zeleke', 'Debir Qidus', 'Dr Asafa Lamma', 'Dr Birhanu', 'Dr Girma', 'Dr Zewdu Hurisa', 'Dr.Desta Garoma', 'Dr.Hirpo Teno', 'Dr.Jemal', 'Dello Manna', 'Dello Menna', 'Dinsho', 'Danbi Maranatha', 'Debele', 'Dejen Aviation', 'Das', 'Dilo', 'Dire', 'Dubluki', 'Dabo Hana', 'Dedesa', 'Dedessa', 'Dega', 'Dire Gefarsa', 'Dr Gemechis', 'Dukam', 'Dukem', 'Dawe Serer', 'Dawe Kachen', 'Dedar', 'Deder', 'Dugda', 'Diga', 'Dawa', 'Dereje', 'Dama', 'Darimu', 'Didu', 'Doranii', 'Dagim', 'Dr Alelign', 'Dr Belete', 'Dr.Demisew', 'Dedo', 'Dimtu', 'Dale Sadi', 'Dale Wabera', 'Dambi Dollo', 'Dr Alemayehu St Georges', \"Dr Na'Ol\", 'Dr Tewederos', 'Dr Workineh', 'Debre Libanos', 'Degem', 'Derra', 'Dewa', 'Donsa', 'Dagemaweyabirahanu', 'Daleti', 'Dirre', 'Dosha', 'Dr Zelalem', 'Dida Boke', 'Doctor Gerammu', 'Dr . Teha', 'Dr Fraol', 'Dr Mezgebe', 'Dawo', 'Dodola', 'Dugda Dawa', 'Daro Lebu', 'Dero Lebu (Mechara)', 'Doba', 'Dano', 'Dendi', 'Dega Mashile', 'Derba', 'Daramalo', 'Dita', 'Dilla', 'Dilla Zuria', 'Denba Gofa', 'Duna', 'Demboya', 'Doyo Gena', 'Dr. Bogalech Gebere', 'Durame', 'Dalocha', 'Dasenech', 'Damot Gale', 'Damot Pulassa', 'Damot Sore', 'Damot Woyide', 'Dubbo', 'Duguna Fango', 'Deri', 'Dongor Alecho', 'Dangora', 'Dikicha', 'Dila Anole', 'Dila Olka', 'Daela', 'Dama Banko', 'Derara', 'Daye', 'Dr Samson Niguse', 'Dr. Araya', 'Dorebafano', 'Dolecha', 'Dobe Toga', 'Dollo Bay', 'Danot', 'Daratole', 'Doollo', 'Daroor', 'Degahbur', 'Dhagahmadaw', 'Dig', 'Dhoboweyn', 'Dekasuftu', 'Dollo Addo', 'Dolo Ado', 'Duhun', 'Dhanan', 'Danbal', 'Disa', 'Decha', 'Deka', 'Degua Tembien']\n",
      "Geoboundaries adm3 (87)\n",
      "\t['Dabat', 'Dabo Hana', 'Dale', 'Dale Sadi', 'Dale Wabera', 'Dalfagi', 'Dalocha', 'Dalul', 'Damot Gale', 'Damot Pulasa', 'Damot Sore', 'Damot Weydie', 'Dangila', 'Dangura', 'Daniboya', 'Dano', 'Danot', 'Dara', 'Daramalo', 'Darimu', 'Daro Lebu', 'Dasenech (Kuraz)', 'Dawe Kachen', 'Dawo', 'Dawunt', 'Debark', 'Debay Telatgen', 'Debeweyin', 'Debre Elias', 'Debre Libanos', 'Debresina', 'Debub Achefer', 'Debub Bench', 'Decha', 'Deder', 'Dedesa', 'Dedo', 'Dega', 'Dega Damot', 'Degehabur', 'Degehamedo', 'Degeluna Tijo', 'Degem', 'Degua Temben', 'Dehana', 'Dehas', 'Dejen', 'Delanta', 'Dembecha', 'Dembel', 'Dembia', 'Denan', 'Dendi', 'Denibu Gofa', 'Dera', 'Dera', 'Derashe', 'Dessie Zuria', 'Dewa Cheffa', 'Dewa Harewa', 'Dewe', 'Dibat', 'Didu', 'Diga', 'Diguna Fango', 'Dihun', 'Diksis', 'Dila Zuria', 'Dillo', 'Dima', 'Dinsho', 'Dire', 'Dire Dawa', 'Dire Dawa/Town', 'Dita', 'Doba', 'Dodola', 'Dodota', 'Dolo Odo', 'Dolobay', 'Dorani', 'Doya Gena', 'Dubti', 'Dugda', 'Dugda Dawa', 'Dulecha', 'Dune']\n",
      "\n",
      "\n",
      "Master list level 4 (78)\n",
      "\t['Eregebe', 'Ethi Tebib', 'Ethio_Sudan', 'Ethiopia', 'Edna', 'Edna No 2', 'Elshaday', 'Empire', 'Ethio Chine Friendship Specify', 'Eyerusalem', 'Entoto Fana', 'Eca', 'Efoyeta', 'Elnathan', 'Ethio Agri Cefet', 'Entoto No 1', 'Entoto No. 2', 'Elidar', 'Erabti', 'Ewa', 'Ethipia', 'Eyasta', 'East Belesa', 'East Dembia', 'Endris', 'Ethio', 'Enarge Enawga', 'Enebse Sar Midir', 'Enemay', 'Enat', 'Etegie Mintwab', 'Eshetu', 'Efratana Gidim', 'Ensaro', 'Ebinat', 'Ebnat', 'Estie', 'Erkiya', 'Eyob', 'Elia', 'Erer', 'Eba', 'Enkelo Wabe', 'East Africa', 'Edom', 'Elwaye', 'Ebantu', 'Ermiyas', 'Emebet', 'Ethiojapan Nylon Textile Share Company', 'Eka Tafo', 'Eferata', 'Ejere', 'Ejersa Lafo', 'Elfata', 'Etate', 'East Meskan', 'Emdibir', 'Enemor Ena Enen', 'Enidguagn', 'Enor Enner', 'Ezha', 'East Badawacho', 'East Azernet Berbere', 'East Silti', 'Enyat', 'Elala Shafamo', 'Erda', 'Elkari', 'El-Ogaden', 'Elwayne', 'East Imey', 'Elele', 'Ela Hanchano Woreda', 'Erop', 'Enderta', 'Emba Alaje', 'Endamehoni']\n",
      "Geoboundaries adm3 (22)\n",
      "\t['East Belesa', 'East Esite', 'East Imi', 'Ebenat', 'Eferatana Gidem', 'Ejere (Addis Alem)', 'Ela (Konta) SP Woreda', 'Elidar', 'Enarj Enawga', 'Enbise Sar Midir', 'Endamehoni', 'Enderta', 'Endiguagn', 'Enemay', 'Enemorina Eaner', 'Ensaro', 'Erebti', 'Erer', 'Erob', 'Esira', 'Ewa', 'Ezha']\n",
      "\n",
      "\n",
      "Master list level 4 (67)\n",
      "\t['Fgae', 'Fekadu', 'Felege Meles', 'Fikadu', 'Fga Ngo', 'Family Guydance Associationmedium', 'Fanti', 'Feben', 'Fekereselam', 'Feven', 'Florence', 'Finfine', 'Family Guidance Association Of Ethiopia', 'Felege Hiwot', 'Ferese Meda', 'Filuha Dirjit', 'Feisel', 'Fewes', 'Finot', 'Familiy Guidance Association Of Ethiopia Saris Srh-2', 'Family Guidance Association', 'Ferency Acababi', 'Fagitalekoma', 'Fana Hiwot', 'Fana', 'Fasilo', 'Felege-Hiwot', 'Filwuha', 'Fgae Dessie', 'Fentaw', 'Fga', 'Farta', 'Fogera', 'Feresbet', 'Finote Selam', 'Family Guidance Association 1', 'Family Guidanse Nazret', 'Family Guidance Association Ethiopia', 'Fitsum', 'Family', 'Fedis', 'Fentale', 'Firaol', 'Ferenj Arada', 'Fgae M.', 'Fgae Youth', 'Fromsis', 'Fitche', 'Fenet', 'Furi', 'Fayya', 'Fikir', 'Feya', 'Family Guide', 'Fonko', 'Fofa', 'Futahe', 'Fulasa Aldada', 'Fullasa', 'Fechuna', 'Foka', 'Fga Confidencial', 'Family Planning Ethiopia', 'Fura', 'Fik', 'Filtu', 'Ferfer']\n",
      "Geoboundaries adm3 (8)\n",
      "\t['Fagta Lakoma', 'Farta', 'Fedis', 'Fentale', 'Ferfer', 'Fik', 'Filtu', 'Fogera']\n",
      "\n",
      "\n",
      "Master list level 4 (190)\n",
      "\t['Ght', 'Getachew', 'Gibe', 'Ginbot 20', 'Girum', 'Gelan', 'Gby Ebor', 'Galatcy', 'Geremew', 'Gergi', 'Gerji', 'Grace', 'Gurd Shola Orsolin Catolic', 'Guto Meda', 'Gotera Masalecha', 'Gefea', 'Germet', 'Geta', 'Goro', 'General Jagema Kelo', 'Goh', 'Gedera Akababi', 'Gereni', 'Galalo', 'Gewane', 'Gulina', 'Guagusa Shikuda', 'Guangua', 'Gamby', 'Ghion Non Art Dic', 'Gizewa', 'Gohalla', 'Gondar Zuriya', 'Goshebado', 'Gozamen', 'Gerado', 'Goncha', 'Gozamin', 'Gebereal', 'Gondar', 'Guzara', 'Gishe', 'Gazo', 'Gidan', 'Guba Lafto', 'Guna Begemider', 'Gazgibla', 'Gonji Kollela', 'Gendawuha', 'Gilgel Beles', 'Guba', 'Grand Assosa', 'Gelgel Beles', 'Gendekore', 'Gendegerada', 'Gambella Zuria', 'Gog', 'Gambella Maremiya Bete', 'Gambella', 'Godere', 'Geda', 'Gende 09', 'Gelana', 'Gobessa', 'Gololcha', 'Guna', 'Gasera', 'Goba', 'Guradhamole', 'Gada Tokuma', 'Gadisa', 'Galata', 'Gomole', 'Guchi', 'Gechi', 'Gefarsa', 'Ginnir', 'Gara Muleta', 'Girawa', 'Gola Oda', 'Goro Gutu', 'Goro Muti', 'Gursum', 'Gimbichu', 'Gida Ayana', 'Gobu Seyo', 'Gudeya Bila', 'Guto Gida', 'Gelane', 'Girja', 'Goro Dola', 'Gumi Eldalo', 'Ghm Holeta', 'Gudruu', 'Guduru', 'Gera', 'Gomma', 'Gumay', 'Gawo Kebe', 'Gidami', 'Gewasa', 'Gebra Guracha', 'Girar Jarso', 'Gundo Meskel', 'Gafarsa Guje', 'Galan Guda', 'Galan', 'Gizawu', 'Gambo', 'Gedeb Hasasa', 'Galamso', 'Gemechis', 'Guba Qoricha', 'Gumbi Bordode', 'Gedo', 'Ginchi', 'Gindabarat', 'Gindebert', 'Gojo', 'Guder', 'Ganji', 'Genji', 'Gimbi Adventist', 'Gimbi', 'Guliso', 'Gewada', 'Gocho', 'Gallo', 'Gato', 'Gidole Maremiya', 'Gidole', 'Gacho Baba', 'Garda Martha', 'Gerese', 'Gerese Zuria', 'Gedeb Woreda', 'Gedeb', 'Geze Gofa', 'Gedebano Gutazer Welene', 'Gumer', 'Gimbichau', 'Gombora', 'Gelila', 'Gesuba', 'Gununo Hamus', 'Gesie', 'Gamebela', 'Gerbicholela', 'Gordama', 'Gowadamo(Hommacho)', 'Gonjebe', 'Gasaru Kowe', 'Gobacho', 'Gnama', 'Gidamo', 'Goyda', 'Gemesso Kenera', 'Galako Heriye', 'Gase Abala', 'Gatamo', 'Gorbasala', 'Guguma', 'Gojaba', 'Gudumo', 'God-God', 'Galadi', 'Galhamur', 'Goljano', 'Gashamo', 'Gunagado', 'Goglo', 'Gorabaqaqsa', 'Gura Damole', 'Garbo', 'Godey City', 'Godey', 'Gablalu', 'Gota-Biki', 'Gide Bench', 'Guraferda', 'Gena', 'Gesha', 'Gewata', 'Gimbo', 'Gachit', 'Gorigesha', 'Gessa', 'Gebre Tsadik Shawo', 'Ganta Afeshum', 'Gulomekeda']\n",
      "Geoboundaries adm3 (77)\n",
      "\t['Gaji', 'Gambela Zuria', 'Gambella Wild Life Reserve', 'Ganta Afeshum', 'Gasera', 'Gashamo', 'Gawo Kebe', 'Gaz Gibla', 'Gechi', 'Gedeb Asasa', 'Geladin', 'Gelana', 'Gelila', 'Gembora', 'Gemechis', 'Gena Bosa', 'Gera', 'Gerar Jarso', 'Gerbo', 'Gesha (Deka)', 'Geta', 'Getawa', 'Gewane', 'Geze Gofa', 'Gibe', 'Gida Ayana', 'Gidami', 'Gidan', 'Gimbi', 'Gimbichu', 'Gimbo', 'Ginde Beret', 'Ginir', 'Girawa', 'Girja (Harenfema)', 'Gishe Rabel', 'Gnangatom', 'Goba', 'Goba Koricha', 'Gobu Seyo', 'Gode', 'Godere', 'Gog', 'Golo Oda', 'Gololcha Arsi', 'Gololcha Bale', 'Goma', 'Goncha Siso Enese', 'Gonder Zuria', 'Gonje', 'Gorche', 'Goro', 'Goro', 'Goro Baqaqsa', 'Goro Dola', 'Goro Gutu', 'Guagusa Shikudad', 'Guangua', 'Guba', 'Guba Lafto', 'Gudetu Kondole', 'Guduru', 'Gulele', 'Gulina', 'Guliso', 'Gulomekeda', 'Gumay', 'Gumer', 'Guna', 'Gunagado', 'Gura Damole', 'Guradamole', 'Gurafereda', 'Gursum', 'Gursum', 'Guto Gida', 'Guzamn']\n",
      "\n",
      "\n",
      "Master list level 4 (114)\n",
      "\t['Hibret', 'Hiwot Fana', 'Hulegeb Shemachoch 18', 'Hemen', 'Hareg', 'Hayat', 'Hidase', 'Hewan', 'Hiwote Integrated Dev Org Richie', 'Howot Amba', 'Hallelujah', 'Hamad', 'Hanaba', 'Haya', 'Harere', 'Harot', 'Harar', 'Healthnet Specialty_', 'Hyay', 'Hanruka', 'Hadeleala', 'Habtie', 'Han', 'Hulet Eju Nese', 'Hiwot', 'Hagere Mariam', 'Habru', 'Hayik', 'Homosha', 'Harar Abdal', 'Hassenge', 'Harar Beer', 'Harari Prison Commission', 'Harawe', 'Hangatu', 'Hawas', 'Hibiret', 'Hawetan', 'Hawii', 'Hitosa', 'Huruta', 'Halila', 'Harena Bulluk', 'Habtamu Cilinic', 'Heyi', 'Hachalu Hundessa', 'Haromaya', 'Haro Limu', 'Haro Walabu', 'Holeta', 'Holota', 'Hababo Guduru', 'Horo Bulluq', 'Horo', 'Halu', 'Hurrumuu', 'Hawa Gelan', 'Hachaltu Gudina', 'Hidabu Abote', 'Hawi', 'Hop', 'Hora', 'Hundaaf', 'Harabate', 'Heben Arsi', 'Hambela Wamena', 'Habro', 'Hawi Gudina', 'Hirna', 'Haru', 'Homa', 'Hayibena', 'Holte', 'Homecho', 'Hosaena', 'Halaba', 'Halaba Kulito', 'Hadero', 'Hadero Tunto Zuriya', 'Hulbarag', 'Hamer', 'Hobicha', 'Humbo', 'Hure', 'Hallo (Sanitarian)', 'Hare Chafa', 'Hache', 'Hamasho Borena', 'Hatesa', 'Hida Kaliti', 'Hare Welbato', 'Haro Shefa', 'Hawassa', 'Habela Lida', 'Hyisa Wita', 'Hulla', 'Hullamekane Iyesuse', 'Hantate', 'Haro', 'Hunkute', 'Hargele', 'Hudhet', 'Hamaro', 'Harawo', 'Harorays', 'Harshin', 'Higloley', 'Hararey', 'Horashagah', 'Hadagala', 'Hawzien', 'Hadnet', 'Hawelti', 'Hintalo Wajerat']\n",
      "Geoboundaries adm3 (32)\n",
      "\t['Habro', 'Habru', 'Hadelela', 'Hadero Tubito', 'Hagere Mariam', 'Halu (Huka)', 'Hambela Wamena', 'Hamer', 'Hamero', 'Harar', 'Harena Buluk', 'Hareshen', 'Hargele', 'Haro Limu', 'Haro Maya', 'Haru', 'Hawa Galan', 'Hawasa Town', 'Hawassa Zuria', 'Hawi Gudina\\n', 'Hawzen', 'Hidabu Abote', 'Hintalo Wejirat', 'Hitosa', 'Homa', 'Homosha', 'Horo', 'Hudet', 'Hulet Ej Enese', 'Hulla', 'Humbo', 'Hurumu']\n",
      "\n",
      "\n",
      "Master list level 4 (13)\n",
      "\t['Ishdo', 'Icmc', 'Injibara', 'Ibex', 'Iman', 'Industry Mender', 'Itang', 'Iyob', 'Inteprize Sfb', 'Ilu', 'Ilu Galane', 'Inchini', 'Issara']\n",
      "Geoboundaries adm3 (5)\n",
      "\t['Ibantu', 'Ifata', 'Ilu', 'Inkolo Wabe', 'Itang']\n",
      "\n",
      "\n",
      "Master list level 4 (45)\n",
      "\t['Jeremaabo', 'Janmeda', 'Jby Ebor', 'Jeremet', 'Jemo', 'Jemo 1', 'Joy', 'Jawi', 'Jerusalem', 'Jantekel', 'Janamora', 'Jile Timuga', 'Jama', 'Jamma', 'Jabi Tehnan', 'Jelobelina', 'Jeldesa', 'Jor', 'Jikawo', 'Jinela', 'Jeju', 'Joy Tech', 'Jarso', 'Jima Arjo', 'Jardga Jarte', 'Jimma Geneti', 'Jimma Rare', 'Jima', 'Jimma Afia', 'Jimma Ethio-Africa', 'Jimma', 'Jimma Two', 'Jimma Universal', 'Jimma University', 'Jimma Horo', 'Jalene Zebene', 'Jida', 'Jeldu', 'Jibat', 'Jejolla', 'Jajura', 'Jinka', 'Jara Dado', 'Jigjiga', 'Jemu']\n",
      "Geoboundaries adm3 (19)\n",
      "\t['Jabi Tehnan', 'Jama', 'Janamora', 'Jarso', 'Jarso', 'Jarte Jardega', 'Jawi', 'Jeju', 'Jeldu', 'Jibat', 'Jida', 'Jijiga', 'Jikawo', 'Jille Timuga', 'Jimma Arjo', 'Jimma Genete', 'Jimma Horo', 'Jimma Rare', 'Jore']\n",
      "\n",
      "\n",
      "Master list level 4 (137)\n",
      "\t['Kedus', 'Kidus Raguel', 'Kolfe', 'Kality', 'Klinto', 'Kebena', 'Kind', 'Konjit', 'Kadisco', 'Kadisko', 'Kamila Nida', 'Kazanchis', 'Kiko', 'Koria', 'Kirkos', 'Kirkos Woreda 9 Dic', 'Kedst Aresema', 'Keranyo', 'Kidus Gebriel', 'Kidus Kirkos', 'Kabgar', 'Kotebe_', 'Kori', 'Koneba', 'Kidanemihiret H.Clinic', 'Kasma Dermato Venorology', 'Kassa _Yeniew', 'Kinfaze Begela', 'Keyit', 'Kidstsilassie Or Dr Gezahagn', 'Kidistbetel', 'Kidiste Mariam', 'Kurkur', 'Keneanan', 'Kalu', 'Kombolcha Abatoir And Agro Processing Plant', 'Kombolcha Agriculture Trainig College', 'Kombolcha Beza Postretiy Dic', 'Kombolcha', 'Kombolcha Tannery Share Company', 'Kewet', 'Kidus Lalibela', 'Kobo', 'Kemisie', 'Kemissie', 'Kelela', 'Kutaber', 'Kallu', 'Kurmuk', 'Kamashi', 'Kiya', 'Kamash', 'Kamashi Zone Police', 'Kalecha', 'Kidist Arsema', 'Kidus Gebriel Clnic', 'Kumi Meles Zenawi', 'Kulube', 'Keti', 'Kidane Mihret', 'Kersa', 'Kidus', 'Kidani Mihirat', 'Kajima Dhibayu', 'Kalkidan', 'Kebede', 'Kegna', 'Kera Hora Mch', 'Keta', 'Kidus Michael', 'Kurkuradambi', 'Kumbi', 'Kurfa Chale', 'Kiramu', 'Ketema', 'Keetumaa', 'Kidanemihiret', 'Kidus Gebriel Samll', 'Kidus Geneme', 'Kake', 'Kidist Mariyam', 'Kebron', 'Kimbibit', 'Kuyu', 'Koye Fache', 'Kura Jida', 'Kaleb', 'Kebebush', 'Kenteri', 'Kenya', 'Kibnash', 'Kidan Mhirt', 'Kersana Mamila', 'Kofele', 'Kokosa', 'Kercha', 'Kiltu Kara', 'Kelle', 'Kereda', 'Kiwi', 'Kola Mashele', 'Kamba Zuria', 'Kemba', 'Kogota', 'Kutcha Alpha', 'Kutcha Zuria', 'Kochore', 'Kacha Birra', 'Kedida Gamela', 'Karat', 'Karat Zuria', 'Kena', 'Kibet', 'Kawo Koysha', 'Kindo Didaye', 'Kindo Koyisha', 'Kadela', 'Konsorie Chefa', 'Kebado', 'Kibiru', 'Kankicha', 'Kotayo (Felka)', 'Kadadumo', 'Karamara', 'Koran Mula', 'Kebridahar', 'Karsasula', 'Kechi', 'Konta Koysha Woreda', 'Kidist Mariam', 'Kola Tembien', 'Klite Awlaelo', 'Kay Kalkidan', 'Karl Lemlem', 'Korem', 'Kafta Humera', 'Kahsay Abera']\n",
      "Geoboundaries adm3 (43)\n",
      "\t['Kacha Bira', 'Kafta Humera', 'Kalu', 'Kamashi', 'Kebena', 'Kebribeyah', 'Kebridehar', 'Kediada Gambela', 'Kelafo', 'Kelela', 'Kelete Awelallo', 'Kemba', 'Kembibit', 'Kercha', 'Kersa', 'Kersa', 'Kersana Malima', 'Kewet', 'Kiltu Kara', 'Kindo Dida', 'Kindo Koysha', 'Kiremu', 'Kirkos', 'Kobo', 'Kochere', 'Kochere Gedeb', 'Kofele', 'Kokir Gedbano', 'Kokosa', 'Kola Temben', 'Kolfe - Keran', 'Kombolcha', 'Kondaltiti', 'Koneba', 'Konso', 'Kore', 'Kucha', 'Kuni', 'Kurfa Chele', 'Kurmuk', 'Kurri', 'Kutaber', 'Kuyu']\n",
      "\n",
      "\n",
      "Master list level 4 (62)\n",
      "\t['Lomi Meda', 'Lbeza Physcatri', 'Lalibela', 'Lanct', 'Leku', 'Landmark', 'Lema Family', 'Leyu', 'Lidiya', 'Liyat', 'Legehar', 'Lideta', 'Loza Mariyam', 'Lay Armacho', 'Lumamie', 'Legesse Rehu', 'Legesse Ruhu', 'Lasta', 'Lay Gayint', 'Libo Kemkem', 'Legahida', 'Legambo', 'Liben', 'Legehare', 'Lege Oda Gudenfeta', 'Lare', 'Letan', 'Limuna Bilbilo', 'Lode Hetosa', 'Lense', 'Laga Hidha', 'Lume', 'Leqa Dulecha', 'Limu', 'Limmu Genat', 'Limu Genet', 'Limu Kosa', 'Limu Seka', 'Lalo Kile', 'Lega Dadhi', 'Lega Tafo', 'Lami', 'Lafto Roses', 'Lammii', 'Leman', 'Lemlem', 'Loke Ada', 'Liban Jawi', 'Lalo Asabi', 'Leta Sibu', 'Laska', 'Laska Beteseb', 'Laha', 'Lemo', 'Lanfuro', 'Loko', 'Lehelyuub', 'Lagahida', 'Lasdhankeyre', 'Loma', 'Laelay Maychew', 'Lailay Adeyabo']\n",
      "Geoboundaries adm3 (27)\n",
      "\t['Laelay Adiyabo', 'Laelay Maychew', 'Lagahida', 'Lalo Asabi', 'Lalo Kile', 'Lanfero', 'Lare', 'Lasta', 'Lay Armacho', 'Lay Gayint', 'Legambo', 'Lege Hida', 'Legehida', 'Leka Dulecha', 'Liben', 'Liben Chukala', 'Libo Kemkem', 'Lideta', 'Limu', 'Limu', 'Limu Bilbilo', 'Limu Kosa', 'Limu Seka', 'Loka Abaya', 'Loma Bosa', 'Lome', 'Lude Hitosa']\n",
      "\n",
      "\n",
      "Master list level 4 (217)\n",
      "\t['Marie Stopes No1', 'Marie Stops No 2', 'Mam', 'Mamo', 'Marry Joy', 'Meherabe-Bere', 'Mikililand', 'Millennium', 'Missionaries Of Charity', 'Mestazewudamedium', 'Mariestops', 'M.S.M.C', 'Mth Gyn Obs', 'Mth Gynacological And Obststics Speciaily', 'Marti', 'Mekdim Ent', 'Meskerem', 'Mestad Dennatology', 'Mesye', 'Mikasal Servci Plc', 'Mint', 'Model', 'Maychew', 'Mercycare', 'Marie Stopes Mch', 'Meshualekia', 'Maristopes', 'Meba', 'Memu', 'Meron', 'Metie', 'Meri', 'Maichew Meduim', 'Mulugetae_', 'Mekuriya', 'Mesetewat Obey-Gayne', 'Mulugetae', 'Migbare Senay', 'Minilik', 'Mille', 'Magale', 'Marie Stopes Intrnational', 'Medihanealem', 'Melkamu', 'Meshenty', 'Mulugeta', 'Maremiabet', 'Maristops', 'Marimia Betoch', 'Maristopies', 'Markos', 'Mahilet', \"Marie' Stopes\", 'Meseret', 'Metero', 'Machakel', 'Mertolemariam', 'Motta', 'Marmia', 'Mekedla', 'Mty Abyssinia', 'Mahibere Hiwot Gondar Drop In', 'Maraki', 'Mulu Gondar', 'Medina', 'Mesoud', 'Mohammed Liben', 'Mekane Birhan', 'Mehal Meda', 'Menz Gera Midir', 'Menz Keya Gebreal', 'Menz Lalo Midir', 'Menz Mama Midir', 'Merhabete', 'Mida Woremo', 'Midda Weremo', 'Minjarina Shenkora', 'Mojana Wodera', 'Molalie', 'Moretna Jiru', 'Mekete', 'Mersa', 'Mekane Eyesus', 'Mena Meketewa', 'Migbaru Kebede Metasebia', 'Mehal Saint', 'Mekane-Selam', 'Mekdela', 'Merawi', 'Metema', 'Mirab Armacho', 'Menge', 'Mao Komo Special', 'Mandura', 'Medanialem', 'Mitiku', 'Muhaba', 'Metekel', 'Metekel Zone Prison', 'Mizhiga', 'Mimi Yakobo', 'Melkaqero', 'Melkajebdu', 'Mengeshi', 'Makuey', 'Mery Obstetrics And', 'Mariestopes', 'Medhanialem Private For Profit', 'Medhin', 'Mejashi Sd Cenetr', 'Misiker', 'Maris Stops', 'Merti', 'Munesa', 'Marie Stopes', 'Menaharia', 'Meda Welabu', 'Medawelabu', 'Maskele Cilinic', 'Management Institute', 'Mati', 'Mega', 'Miyo', 'Moyale', 'Meko', 'Mame Afiye', 'Miliyon', 'Melkabello', 'Meta', 'Meye Muluke', 'Midaga Tola', 'Midega Tola', 'Meki', 'Metehara Sugar E', 'Metehara', 'Mulo', 'Medenalem', 'Mattu Karl', 'Metu', 'Metu Zuriya', 'May', 'Mendera Kochi', 'Mana', 'Mencho', 'Modjo', 'Mojoo', 'Mayo', 'Mekane Yesusenter', 'Muke Turi', 'Medawalabu Meium', 'Malka Nono', 'Mana Abichu', 'Mabirate Tafara', 'Matif', 'Melka Oda', 'Mezan', 'Madda Walabu', 'Melka Soda', 'Mesela', 'Mieso', 'Meta Robi', 'Meta Welkite', 'Mida Kegni', 'Mendi', 'Mendi Twon', 'Mene Sibu', 'Merobsi', 'Medayne', 'Metsa', 'Melese Metasebiya', 'Melka Jewa(Chelusse)', 'Mirab Abaya', 'Melekoza', 'Melo Gada', 'Mareko', 'Meskan', 'Milhurna Aklil', 'Mirab Soro', 'Misha', 'Mudula', 'Mitto', 'Malie', 'Mirdicha', 'Muchucho', 'Mejo', 'Malgano Kawado', 'Megara', 'Mesenkela', 'Mike', 'Motto', 'Morancho Goriche', 'Makira', 'Mary Joy', 'Merry', 'Millenium', 'Motite Furra', 'Meki Basa', 'Moricho Negash', 'Mubarak', 'Mayumuluqo', 'Marsin', 'Mustahil', 'Maeso', 'Mareka', 'Mari Mansa', 'Masha', 'Maji', 'Menit Goldia', 'Menit Shasha', 'Mizan Aman', 'Mizan Teppi Teaching', 'Maji-Tumi', 'Merb Leke', 'Mekele', 'Medebay Zana', 'Maichew', 'Meareg']\n",
      "Geoboundaries adm3 (66)\n",
      "\t['Maji', 'Male', 'Malga', 'Malka Balo', 'Mana Sibu', 'Mandura', 'Maokomo Special', 'Mareka', 'Mareko', 'Masha', 'Mecha', 'Meda Welabu', 'Medebay Zana', 'Megale', 'Mehal Sayint', 'Mekdela', 'Meket', 'Meko', 'Melekoza', 'Melka Soda', 'Mena', 'Mena', 'Menge', 'Mengesh', 'Menit Goldiye', 'Menit Shasha', 'Menjiwo', 'Menz Gera Midir', 'Menz Keya Gabriel', 'Menz Lalo Midir', 'Menz Mama Midir', 'Merahbete', 'Mereb Leke', 'Merti', 'Mesela', 'Meskan', 'Meta', 'Meta Robi', 'Metema', 'Metu Zuria', 'Meyu', 'Meyumuluka', 'Michakel', 'Mida Kegn', 'Midega Tola', 'Mierab Azenet Berbere', 'Mierab Badawacho', 'Mieso', 'Miesso', 'Mile', 'Mimo Weremo', 'Minjar Shenkora', 'Mirab Abaya', 'Mirab Armacho', 'Misha', 'Misrak Azenet Berbere', 'Misrak Badawacho', 'Miyo', 'Mojan Wedera', 'Moretna Jiru', 'Moyale', 'Moyale', 'Muhur Na Aklil', 'Mulo', 'Munessa', 'Mustahil']\n",
      "\n",
      "\n",
      "Master list level 4 (39)\n",
      "\t['Noh Clini', 'Nol', 'Nole', 'Nejashe', 'Nova Internal Medicene', 'Naine', 'Nifas Silk Lafto No 01', 'National', 'Nebaru Chilga', 'Nour', 'Nuor', 'Nebuy', 'Nifas Mewucha', 'Nati', 'Nyinenyang', 'Nea', 'Nure', 'Noh', 'Nunu Kumba', 'Negele', 'Negelle', 'Nono Benja', 'Nekamte', 'Nekemte', 'National Alcohol', 'Nurselam', 'Nusra', 'Nardose', 'Nansebo', 'Negelle Arsi And Medical College', 'Nonoo', 'Nedjo', 'Nole Kaba', 'Nigist Eleni Mohammed', 'Ngangatom', 'North Ari', 'Naol', 'North Bench', 'Naedier Adet']\n",
      "Geoboundaries adm3 (7)\n",
      "\t['Naeder Adet', 'Nefas Silk', 'Nejo', 'Nenesebo (Wereka)', 'Nole Kaba', 'Nono', 'Nunu Kumba']\n",
      "\n",
      "\n",
      "Master list level 4 (24)\n",
      "\t['Omega', 'Oda Bilidigilu', 'Ozon', 'Ondulu', 'Oura Woreda', 'Oda', 'Oromiya', 'Oliyad Cilinic', 'Olenchiti', 'Odo Shakiso', 'Oda Hulle', 'Ossa M.', 'Omo Beyem', 'Omo Nada', 'Oromia', 'Ossa', 'Obsinan', 'Oda Bultum', 'Obicha Mendita', 'Oyida', 'Offa', 'Olonso Keka', 'Odolla', 'Ofla']\n",
      "Geoboundaries adm3 (4)\n",
      "\t['Odo Shakiso', 'Ofa', 'Ofla', 'Omo Nada']\n",
      "\n",
      "\n",
      "Master list level 4 (11)\n",
      "\t['Proppide', 'Perfect Smile', 'Pommy', 'Petroyale', 'Palowus Mekibeb Physiothrapy', 'Police Comition', 'Pawi', 'Pugniwudo', \"Phini'El\", 'Piliphos Beteseb', 'Polly']\n",
      "Geoboundaries adm3 (1)\n",
      "\t['Pawe Special']\n",
      "\n",
      "\n",
      "Master list level 4 (10)\n",
      "\t['Quarit', 'Quara', 'Qore', 'Qondala', 'Qooxle', 'Qubi', 'Qabribayah', 'Qalafo', 'Qedamay Woyane', 'Quiha']\n",
      "Geoboundaries adm3 (2)\n",
      "\t['Quara', 'Quarit']\n",
      "\n",
      "\n",
      "Master list level 4 (33)\n",
      "\t['Real', 'Rediet', 'Ring Road', 'Ruh', 'Ras Emeru', 'Rufael', 'Roha', 'Remeda', 'Repy', 'Raey', 'Rekik', 'Rosa Gatorno', 'Raya Kobo', 'Ras Teeth', 'Rifty Valley', 'Robe', 'Robe Didea', 'Robera', 'Rohobot', 'Rayitu', 'Roba', 'Robsan', 'Roobot', 'Robel', 'Rohoboth', 'Rape', 'Rufo Chancho', 'Rama', 'Raaso', 'Raso', 'Rural Adwa', 'Raya Alamata', 'Raya Azebo']\n",
      "Geoboundaries adm3 (3)\n",
      "\t['Raya Azebo', 'Rayitu', 'Robe']\n",
      "\n",
      "\n",
      "Master list level 4 (202)\n",
      "\t['Soliana', 'Saris Abo', 'Saris', 'Selam Frea', 'Serti', 'St.Gebriel Catholic', 'Semen', 'Senayit', 'Sheger', 'Simegn Kebede Health Cente', 'Sahelselase', 'Salem D K M Tal Speclal P L C', 'Salem Primery', 'Salem', 'Sefera', 'Selam', 'Selasse', 'Semah Gyn And Obs', 'Semit', 'St Gebriel', 'St Michael Clinlc', 'St Raphael', 'St Yared', 'St.George', 'Summit', 'Swetral', 'Semayawi', 'Shegole', 'Shromeda', 'Suisse', 'St George', 'Sekina', 'Selihome', 'Senehiwot', 'Sentayehu', 'Sihamme', 'Sitota Psychiatry', 'Santago', 'Selam Childrens Village', 'Sumit', 'Sam Vision Special Eye', 'Shewaye', 'Shewayirga', 'St Kirkos', 'Semera Logia Kentiba', 'Semirobi', 'Shimbit', 'Shumabo', 'St.John', 'St_Lideta', 'Sanja', 'Shahura', 'Sehlam Or Dr Kefelegn', 'Shewapoly', 'Segno Gebeya', 'Sedie', 'Shebel Berenta', 'Shegaw Motta', 'Sinan', 'Selema', 'Semian And Obstetrics', 'Seid', 'Saya Deberna Wayu', 'Shewarobit', 'Shediho Meket', 'Sedie Muja', 'Simada', 'Sayint', 'Sehala', 'Sekota', 'Sekota Zuria', 'Sekela', 'Semen Achefer', 'Semen Mecha', 'Sherkole', 'Sedal', 'Selga Alu', 'Sintayehu', 'Salam', 'St Anthony', 'Shenkor', 'Siloam Ethiopia', 'Sofi', 'Sister Aklisiya Private For Profit', 'St Franciso', 'Sinbo', 'Seru', 'Shanan Kolu', 'Shirka', 'Sire', 'Sude', 'Sikko And Mendo', 'Sinana', 'Sher', 'Shalom', 'Shifa', 'Stadium', 'Shoa', 'Solomon', 'St Mikael', 'Sewena', 'Sasiga', 'Sibu Sire', 'Sirre', 'Sebeta Hawas', 'Senadafa', 'Sendafa', 'Sululta', 'Saba Boru', 'Shakiso', 'Seglen Waji', 'Shambu', 'Sele Nono', 'Selhom', 'Seka Chekorsa', 'Setema', 'Shabe Sombo', 'Shenan Gibe', 'Sigmo', 'Sokoru', 'Saden Chanka', 'Seyo', 'Seble', 'Sama Sanbate', 'Shitaye', 'St Gebreal', 'Sheno', 'Shaya', 'Sikomando', 'Sofumar', 'Sabata', 'Sagni', 'Salihom', 'Sebeta', 'Shawul Nigatu', 'Siwaya', 'Shashamane', 'Shashemane Poly', 'Saden Sodo', 'Sodo Dacha', 'St.Luke', 'Saron', 'Seden', 'Shala', 'Shashemene Zuria', 'Siraro', 'Suro Barguda', 'Seyo Nole', 'Soyama', 'Semalehu', 'Selamber', 'Sawla', 'Sodo', 'South Sodo', 'Shashago', 'Shone', 'Siraro Badewacho', 'Soro', 'Shinshicho', 'Segen', 'Segen Zuria', 'Sankura', 'Silti', 'Salamago', 'South Ari', 'Sodo Christian', 'Sodo Zuriya', 'Saja', 'Seamunama', 'Sunbura Gedebe', 'Sabo', 'Shamena Godo', 'Semen Kege', 'Shafina', 'Shoye(Dagiya)', 'Seka Sonicho', 'Snnp Police', 'Shemena Sefra', 'Shafamo', 'Salahad', 'Shabeley', 'Shaykosh', 'Shilabo', 'Sagag', 'Shiniile', 'Shinile', 'Sitti', 'Shebench', 'Sheko', 'Siz', 'South Bench', 'Saylem', 'Shishoende', 'Shishinda', 'Surma', 'Saesie Tseada Emba', 'Sheraro Maiani', 'Sheraro', 'Shire Endasilase', 'Suhul', 'Seharti Samre', 'Setit Humra']\n",
      "Geoboundaries adm3 (57)\n",
      "\t['Saba Boru', 'Saesie Tsaedaemba', 'Saharti Samre', 'Sahla', 'Sale Nono', 'Sankura', 'Sasiga', 'Sayilem', 'Sayint', 'Sayo', 'Sayo Nole', 'Seden Sodo', 'Segeg', 'Seka Chekorsa', 'Sekela', 'Sekoru', 'Sekota', 'Selahad', 'Selamgo', 'Selti', 'Semen Achefer', 'Semen Bench', 'Senan', 'Serer/Elkere', 'Seru', 'Setema', 'Seweyna', 'Shalla', 'Shashemene Zuria', 'Shashogo', 'Shay Bench', 'Shebe Dino', 'Shebe Sambo', 'Shebel Bereta', 'Sheka', 'Shekosh', 'Sherkole', 'Shilabo', 'Shinile', 'Shirka', 'Sibu Sire', 'Sigmo', 'Simada', \"Simurobi Gele'alo\", 'Sinana', 'Siraro', 'Sirba Abay', 'Sire', 'Siya Debirna Wayu', 'Sodo', 'Sodo Daci', 'Sodo Zuria', 'Soro', 'South Ari (Bako Gazer)', 'Sude', 'Sululta', 'Surma']\n",
      "\n",
      "\n",
      "Master list level 4 (105)\n",
      "\t['Terro', 'Tinsae', 'Tsedey', 'Tulu Dimtu', 'Tekelhaimanot', 'Tsenu', 'Twins', 'Tibeb Bekechene', 'T.G.Ech', 'Tzna', 'Tekure Abaye Shoe Factory', 'Tesfa Kokeb', 'Tesfatsihon', 'Tsehaye-Sedek', 'Tad', 'Teklehaymanot', 'Tena', 'Tesfakokob', 'Tsionobey-Gayne', 'Tenaye Jemo 1', 'Tsion', 'Teru', 'Telalak', 'Textile', 'Tana', 'Tayitu  Special', 'Tibebe Ghion', 'Tis Abay', 'Toyiba', 'Tach Armacho', 'Takusa', 'Tegede', 'Tebasie', 'Tita', 'Tossa', 'Tayitu', 'Teda', 'Textil', 'Tuaif', 'Telemt', 'Taremaber', 'Tach Gayint', 'Tehulederie', 'Tenta', 'Tefera Hailu Metasebia', 'Tsagibji', 'Tsitsika', 'Tongo', 'Tsotsora', 'Top', 'Tiyo', 'Tsion Cilinic', 'Tedila', 'Tokuma', 'Taltale', 'Teltele', 'Tadecha', 'Taddasa', 'Tamaam', 'Tokkummaa', 'Tiro Afeta', 'Toni', 'Tuludimtu', 'Tas', 'Tekwa', 'Tesfa', 'Teshoma', 'Tole', 'Tulu Bolo', 'Tulu Gudo', 'Tulo', 'Tikur Enchini', 'Toke Kutaye', 'Tigisit', 'Tosho', 'Tembaro', 'Tora', 'Turmi', 'Tebela', 'Toba', 'Toshine', 'Tugo', 'Teretu', 'Teferi Kela', 'Tulla Herecha', 'Tabor', 'Tilte', 'Tula', 'Tankro', 'Tankaro', 'Telamo', 'Teticha', 'Togwajale', 'Tuliguled', 'Tercha', 'Tercha Zuria', 'Tocha', 'Tello', 'Teppi', 'Tahtay Maychew', 'Tanqua Abergele', 'Tahtay Adyabo', 'Tahtay Qoraro', 'Tselemti', 'Tsegede']\n",
      "Geoboundaries adm3 (27)\n",
      "\t['Tach Armacho', 'Tach Gayint', 'Tahtay Adiyabo', 'Tahtay Koraro', 'Tahtay Maychew', 'Takusa', 'Tanqua Abergele', 'Tarema Ber', 'Telalak', 'Teltele', 'Tembaro', 'Tena', 'Tenta', 'Teru', 'Thehulederie', 'Tikur Enchini', 'Tiro Afeta', 'Tiyo', 'Tocha', 'Toke Kutaye', 'Tole', 'Tsegede', 'Tsegede', 'Tselemt', 'Tselemti', 'Tulo', 'Tulo']\n",
      "\n",
      "\n",
      "Master list level 4 (10)\n",
      "\t['Union', 'University Of Gondar Spcialized', 'Urji', 'Universal', 'Uraga', 'Univarsal Lakk. 2Ffaa', 'Universa', 'Urjii', 'Uba Debretsehay', 'Unbolo Tankaka']\n",
      "Geoboundaries adm3 (2)\n",
      "\t['Ubadebretsehay', 'Uraga']\n",
      "\n",
      "\n",
      "Master list level 4 (3)\n",
      "\t['Vission', 'Vision Eye Especiality', 'Vision']\n",
      "\n",
      "\n",
      "Master list level 4 (99)\n",
      "\t['Wabe', 'Weliso', 'Wolo', 'Worda 03', 'Woreda 9(7)Kuas Meda', 'Woreda11', 'Woreda 10', 'Wondiye', 'Washengten', 'Wabi-Egezere', 'Walta', 'Woreda 01', 'Woreda 03', 'Woreda 05', 'Woreda 06', 'Woreda9', 'Woybela', 'Wub-Abissinya', 'Woreda 13', 'Woreda 14 Hidase', 'Wro Beletshachew', 'Woreda 04Health', 'Woreda 1', 'Woreda 2', 'Woreda 02', 'Woreda 06Health', 'Woreda 11', 'Woreda 12Health', 'Woreda 12', 'Woreda 7', 'Woreda 8', 'West Belesa', 'West Dembia', 'Wogera', 'Wallelign', 'Wuseta', 'Wollo University', 'Woleka', 'Wadila', 'Wodila', 'Woldia', 'Wogeda', 'Woreta', 'Wegidi', 'Werebabo', 'Wereilu', 'Wogidi', 'Woreilu', 'Wenberma', 'Wembera', 'Wahil', 'Wanthoa', 'Walin', 'Wedessa', 'Wachile', 'Wama Hagalo', 'Wayu Tuqa', 'Wollega University', 'Welmera', 'Wadara', 'Wada', 'Wollega Prision', 'Were Jarso', 'Wuchale', 'Walate', 'Wazema', 'Woliso', 'Wonchi', 'Weserbi', 'Wondo', 'Waliso 03', 'Waliso', 'Welgano', 'Wada Balansa', 'Wenago', 'Welkite University Teaching', 'Wolkite', 'West Badewacho', 'Weeraa Dijjoo', 'Weeraa', 'Werabe', 'West Azernet', 'Worabe', 'Woba Ari', 'Wicho', 'Werancha Wacho', 'Wele Magado', 'Wejigra', 'Weteraresa', 'Wondo Genet Kella', 'Wondogent', 'Woshana Soyama', 'West Imay', 'Warder', 'Wangey', 'Wacha', 'Weri Leke', 'Wukro', 'Welkayit']\n",
      "Geoboundaries adm3 (26)\n",
      "\t['Wadera', 'Wadla', 'Waliso', 'Walmara', 'Wama Hagalo', 'Wantawo', 'Wara Jarso', 'Warder', 'Wayu Tuka', 'Wegde', 'Wegera', 'Welkait', 'Wemberma', 'Wenago', 'Wenbera', 'Wenchi', 'Were Ilu', 'Werei Leke', 'West Belesa', 'West Esite', 'West Imi', 'Wilbareg', 'Wondo-Genet', 'Wonosho', 'Worebabu', 'Wuchale']\n",
      "\n",
      "\n",
      "\n",
      "\n",
      "Master list level 4 (36)\n",
      "\t['Yafet', 'Yeju', 'Yohanes', 'Yad', 'Yeka Abado', 'Yerer Primery', 'Yehulueshet', 'Yemeserach No 1', 'Yemserach No 2', 'Yeka', 'Yeka St Michael', 'Yekoriya Zemachoch Metasebiya', 'Yetsehay Menegesha Metasebiya', 'Yallo', 'Yejubie', 'Yilmana Densa', 'Yaso', 'Yerosan', 'Yabalo', 'Yabelo', 'Yididiya', 'Yayo', 'Yemalogi Welel', 'Yomiyu', 'Yaya Gulele', 'Yubdo', 'Yirgachefe', 'Yaye', 'Yirba Gangissa', 'Yirba', 'Yanet Trauma And', 'Yirgalem', 'Yahoob', 'Yocale', 'Yusuf Abdulahi', 'Yeki']\n",
      "Geoboundaries adm3 (12)\n",
      "\t['Yabelo', 'Yalo', 'Yama Logi Welel', 'Yaso', 'Yaya Gulele', 'Yayu', 'Yeka', 'Yeki', 'Yem SP Woreda', 'Yilmana Densa', 'Yirgachefe', 'Yubdo']\n",
      "\n",
      "\n",
      "Master list level 4 (25)\n",
      "\t['Zakspecialty', 'Zenebech', 'Zewi Abeyssinia', 'Zgora Gebrel Medical', 'Zenbaba', 'Zerihun Gemechu', 'Zigem', 'Zagra', 'Zegie', 'Zenzelma', 'Zoneplice', 'Zembaba', 'Ziquala', 'Zay', 'Zemen', 'Ziway Dugda', 'Zuqualla Steel Production Factory', 'Zelalem', 'Ziquala Abo', 'Zada 2', 'Zada', 'Zodiac', 'Zalla', 'Zoe', 'Zaba']\n",
      "Geoboundaries adm3 (3)\n",
      "\t['Zala', 'Ziquala', 'Ziway Dugda']\n",
      "\n",
      "\n",
      "Matches for Org level 4, Geob level 3: 47.37%\n",
      "Num not found: 7461\n",
      "Matches 80% or less:\n",
      "     name_level4    name_geob3  score\n",
      "1           Aids         Ada'a     80\n",
      "6     Addis Raey  Dessie Zuria     80\n",
      "11         Alroe          Lare     80\n",
      "13           Ami         Ameya     80\n",
      "18         Bilal          Bole     80\n",
      "...          ...           ...    ...\n",
      "2224       Chena         Cheta     80\n",
      "2226       Decha         Dehas     80\n",
      "2232       Tello       Dolobay     80\n",
      "2236        Bero         Burji     80\n",
      "2249       Wacha       Wonosho     80\n",
      "\n",
      "[334 rows x 3 columns]\n",
      "------------------------------------------\n",
      "-----Master list level: 3, Geoboundaries level: 2-----\n"
     ]
    },
    {
     "name": "stderr",
     "output_type": "stream",
     "text": [
      "/Users/dianaholcomb/Documents/GWU/6501_Capstone/workspace/health-equity-diagnostics/notebooks/gwu_holcomb/preprocessing_utils.py:27: FutureWarning: The default value of regex will change from True to False in a future version.\n",
      "  data_frame[column_name] = data_frame[column_name].str.replace(word, \"\")\n"
     ]
    },
    {
     "name": "stdout",
     "output_type": "stream",
     "text": [
      "['Addis Ketema' 'Akaki Kality' 'Alert' 'Amanuel' 'Arada' 'Bole'\n",
      " 'Dagmawi Menilik' 'Gandhi' 'Gulele' 'Kirkos' 'Kolfe' 'Lemi Kura' 'Lideta'\n",
      " 'Nifas Silk Lafto' 'Ras Desta Damtew' 'St. Paul' 'St. Peter Tb'\n",
      " 'Tikur Anbessa' 'Tirunesh Beijing' 'Yeka Kotebe' 'Yeka'\n",
      " 'Yekatit 12 Medical College' 'Zewditu' 'Abala' 'Ayssaita' 'Barbara May'\n",
      " 'Berahlae' 'Chifra' 'Dalifaghe' 'Dubti' 'Kelewan' 'Logia' 'Mohammed Akle'\n",
      " 'Zone 1' 'Zone 2' 'Zone 3' 'Zone 4' 'Zone 5' 'Awi' 'Bahirdar Tho'\n",
      " 'Central Gondar' 'Debere Birhan Tho' 'Debre Markos Tho' 'Dessie Tho'\n",
      " 'East Gojjam' 'Gondar Tho' 'Kombolcha Tho' 'North Gondar' 'North Shewa'\n",
      " 'North Wollo' 'Oromia Special' 'South Gondar' 'South Wollo' 'Waghimera'\n",
      " 'West Gojjam' 'West Gondar' 'Assosa' 'Kamashi' 'Mao Komo Special'\n",
      " 'Metekel' 'Asosa' 'Gilgel Beles' 'Biyoawale' 'Dilchora' 'Dire Dawa'\n",
      " 'Gende Kore' 'Goro' 'Jeldessa' 'Legehare' 'Melkajebdu' 'Sabiyan' 'Wahil'\n",
      " 'Agniwa' 'Gambella' 'Itang Special' 'Majang' 'Nuer' 'Abadir' 'Aboker'\n",
      " 'Amir Nur' 'Dire Teyara' 'Erer' 'Hakim' 'Harar Federal Police' 'Harar'\n",
      " 'Hiwot Fana University' 'Jinela' 'Jugel' 'Shenkor' 'Sofi' 'Yemaj'\n",
      " 'Adama Special' 'Ambo' 'Arsi' 'Asalla' 'Bale' 'Batu' 'Bishan Guracha'\n",
      " 'Bishoft' 'Borena' 'Buno Bedele' 'Burayu' 'Dukem Special' 'East Bale'\n",
      " 'East Hararge' 'East Shewa' 'East Wellega' 'Finifine Special'\n",
      " 'Gelan Special' 'Guji' 'Holota' 'Horo Gudru Wellega' 'Ilu Aba Bora'\n",
      " 'Jimma Special' 'Jimma' 'Kelem Wellega' 'Lega Tafo Lega Dadhi' 'Mojo'\n",
      " 'Nekemte' 'Robe' 'Sheger City' 'Sebeta' 'Shashemene' 'South West Shewa'\n",
      " 'Sululta' 'West Arsi' 'West Guji' 'West Hararge' 'West Shewa'\n",
      " 'West Wellega' 'Woliso' 'Ale Special' 'Amaro Special' 'Basketo Special'\n",
      " 'Burji  Special' 'Derashe Special' 'Gamo' 'Gedeo' 'Goffa' 'Gurage'\n",
      " 'Hadiya' 'Halaba' 'Kembata Tembaro' 'Konso' 'Silte' 'South Omo'\n",
      " 'Wolayita' 'Yem Special' 'Aleta Chuko' 'Aleta Wondo' 'Arbegona'\n",
      " 'Aroressa' 'Bensa' 'Bilate Zuria' 'Bona' 'Bona Zuria' 'Borricha' 'Bura'\n",
      " 'Bursa' 'Chabe Gambeltu' 'Chire' 'Chirone' 'Daela' 'Dale' 'Dara Otilcho'\n",
      " 'Dara' 'Darara' 'Daye' 'Gorche' 'Hawassaistration' 'Hawassa Zuriya'\n",
      " 'Hawella' 'Hoko' 'Hulla' 'Leku' 'Loka Abaya' 'Melga' 'Shafamoworho'\n",
      " 'Shebedino' 'Teticha' 'Wensho' 'Wondo Genet' 'Wondogenet' 'Yirgalem'\n",
      " 'Afder' 'Dawa' 'Dollo' 'Erar' 'Fafan' 'Jarar' 'Korahay' 'Liben' 'Nogob'\n",
      " 'Shebelle' 'Sitti' 'Sultan Sheikh Hassan' 'Bench Sheko' 'Dawro' 'Kaffa'\n",
      " 'Sheka' 'West Omo' 'Konta' 'Central' 'Eastern' 'Mekelle' 'North Western'\n",
      " 'South Eastern' 'Southern' 'Western']\n",
      "Master list level 3 (25)\n",
      "\t['Addis Ketema', 'Akaki Kality', 'Alert', 'Amanuel', 'Arada', 'Abala', 'Ayssaita', 'Awi', 'Assosa', 'Asosa', 'Agniwa', 'Abadir', 'Aboker', 'Amir Nur', 'Adama Special', 'Ambo', 'Arsi', 'Asalla', 'Ale Special', 'Amaro Special', 'Aleta Chuko', 'Aleta Wondo', 'Arbegona', 'Aroressa', 'Afder']\n",
      "Geoboundaries adm2 (6)\n",
      "\t['Afder', 'Agnuak', 'Alaba', 'Arsi', 'Asosa', 'Awi/Agew']\n",
      "\n",
      "\n",
      "Master list level 3 (22)\n",
      "\t['Bole', 'Barbara May', 'Berahlae', 'Bahirdar Tho', 'Biyoawale', 'Bale', 'Batu', 'Bishan Guracha', 'Bishoft', 'Borena', 'Buno Bedele', 'Burayu', 'Basketo Special', 'Burji  Special', 'Bensa', 'Bilate Zuria', 'Bona', 'Bona Zuria', 'Borricha', 'Bura', 'Bursa', 'Bench Sheko']\n",
      "Geoboundaries adm2 (4)\n",
      "\t['Bale', 'Basketo', 'Bench Maji', 'Borena']\n",
      "\n",
      "\n",
      "Master list level 3 (6)\n",
      "\t['Chifra', 'Central Gondar', 'Chabe Gambeltu', 'Chire', 'Chirone', 'Central']\n",
      "Geoboundaries adm2 (1)\n",
      "\t['Central']\n",
      "\n",
      "\n",
      "Master list level 3 (20)\n",
      "\t['Dagmawi Menilik', 'Dalifaghe', 'Dubti', 'Debere Birhan Tho', 'Debre Markos Tho', 'Dessie Tho', 'Dilchora', 'Dire Dawa', 'Dire Teyara', 'Dukem Special', 'Derashe Special', 'Daela', 'Dale', 'Dara Otilcho', 'Dara', 'Darara', 'Daye', 'Dawa', 'Dollo', 'Dawro']\n",
      "Geoboundaries adm2 (3)\n",
      "\t['Dawro', 'Dire Dawa', 'Doolo']\n",
      "\n",
      "\n",
      "Master list level 3 (8)\n",
      "\t['East Gojjam', 'Erer', 'East Bale', 'East Hararge', 'East Shewa', 'East Wellega', 'Erar', 'Eastern']\n",
      "Geoboundaries adm2 (5)\n",
      "\t['East Gojam', 'East Harerge', 'East Shewa', 'East Wellega', 'Eastern\\n']\n",
      "\n",
      "\n",
      "Master list level 3 (2)\n",
      "\t['Finifine Special', 'Fafan']\n",
      "Geoboundaries adm2 (1)\n",
      "\t['Fafan']\n",
      "\n",
      "\n",
      "Master list level 3 (14)\n",
      "\t['Gandhi', 'Gulele', 'Gondar Tho', 'Gilgel Beles', 'Gende Kore', 'Goro', 'Gambella', 'Gelan Special', 'Guji', 'Gamo', 'Gedeo', 'Goffa', 'Gurage', 'Gorche']\n",
      "Geoboundaries adm2 (4)\n",
      "\t['Gamo Gofa', 'Gedio', 'Guji', 'Gurage']\n",
      "\n",
      "\n",
      "Master list level 3 (13)\n",
      "\t['Hakim', 'Harar Federal Police', 'Harar', 'Hiwot Fana University', 'Holota', 'Horo Gudru Wellega', 'Hadiya', 'Halaba', 'Hawassaistration', 'Hawassa Zuriya', 'Hawella', 'Hoko', 'Hulla']\n",
      "Geoboundaries adm2 (3)\n",
      "\t['Hadiya', 'Hareri', 'Horo Guduru']\n",
      "\n",
      "\n",
      "Master list level 3 (2)\n",
      "\t['Itang Special', 'Ilu Aba Bora']\n",
      "Geoboundaries adm2 (1)\n",
      "\t['Ilubabor']\n",
      "\n",
      "\n",
      "Master list level 3 (6)\n",
      "\t['Jeldessa', 'Jinela', 'Jugel', 'Jimma Special', 'Jimma', 'Jarar']\n",
      "Geoboundaries adm2 (2)\n",
      "\t['Jarar', 'Jimma']\n",
      "\n",
      "\n",
      "Master list level 3 (11)\n",
      "\t['Kirkos', 'Kolfe', 'Kelewan', 'Kombolcha Tho', 'Kamashi', 'Kelem Wellega', 'Kembata Tembaro', 'Konso', 'Korahay', 'Kaffa', 'Konta']\n",
      "Geoboundaries adm2 (6)\n",
      "\t['KT', 'Keffa', 'Kelem Wellega', 'Kemashi', 'Konta', 'Korahe']\n",
      "\n",
      "\n",
      "Master list level 3 (8)\n",
      "\t['Lemi Kura', 'Lideta', 'Logia', 'Legehare', 'Lega Tafo Lega Dadhi', 'Leku', 'Loka Abaya', 'Liben']\n",
      "Geoboundaries adm2 (1)\n",
      "\t['Liben']\n",
      "\n",
      "\n",
      "Master list level 3 (8)\n",
      "\t['Mohammed Akle', 'Mao Komo Special', 'Metekel', 'Melkajebdu', 'Majang', 'Mojo', 'Melga', 'Mekelle']\n",
      "Geoboundaries adm2 (2)\n",
      "\t['Majang', 'Metekel']\n",
      "\n",
      "\n",
      "Master list level 3 (8)\n",
      "\t['Nifas Silk Lafto', 'North Gondar', 'North Shewa', 'North Wollo', 'Nuer', 'Nekemte', 'Nogob', 'North Western']\n",
      "Geoboundaries adm2 (7)\n",
      "\t['Nogob', 'North Gonder', 'North Shewa(R3)', 'North Shewa(R4)', 'North Western', 'North Wollo', 'Nuer']\n",
      "\n",
      "\n",
      "Master list level 3 (1)\n",
      "\t['Oromia Special']\n",
      "Geoboundaries adm2 (1)\n",
      "\t['Oromia']\n",
      "\n",
      "\n",
      "\n",
      "\n",
      "\n",
      "\n",
      "Master list level 3 (2)\n",
      "\t['Ras Desta Damtew', 'Robe']\n",
      "Geoboundaries adm2 (1)\n",
      "\t['Region 14']\n",
      "\n",
      "\n",
      "Master list level 3 (22)\n",
      "\t['St. Paul', 'St. Peter Tb', 'South Gondar', 'South Wollo', 'Sabiyan', 'Shenkor', 'Sofi', 'Sheger City', 'Sebeta', 'Shashemene', 'South West Shewa', 'Sululta', 'Silte', 'South Omo', 'Shafamoworho', 'Shebedino', 'Shebelle', 'Sitti', 'Sultan Sheikh Hassan', 'Sheka', 'South Eastern', 'Southern']\n",
      "Geoboundaries adm2 (12)\n",
      "\t[\"Segen Peoples'\", 'Selti', 'Shabelle', 'Sheka', 'Sidama', 'Siti', 'South Gonder', 'South Omo', 'South West Shewa', 'South Wollo', 'Southern', 'Special Woreda']\n",
      "\n",
      "\n",
      "Master list level 3 (3)\n",
      "\t['Tikur Anbessa', 'Tirunesh Beijing', 'Teticha']\n",
      "\n",
      "\n",
      "\n",
      "\n",
      "\n",
      "\n",
      "Master list level 3 (16)\n",
      "\t['Waghimera', 'West Gojjam', 'West Gondar', 'Wahil', 'West Arsi', 'West Guji', 'West Hararge', 'West Shewa', 'West Wellega', 'Woliso', 'Wolayita', 'Wensho', 'Wondo Genet', 'Wondogenet', 'West Omo', 'Western']\n",
      "Geoboundaries adm2 (8)\n",
      "\t['Wag Himra', 'West Arsi', 'West Gojam', 'West Harerge', 'West Shewa', 'West Wellega', 'Western', 'Wolayita']\n",
      "\n",
      "\n",
      "\n",
      "\n",
      "Master list level 3 (6)\n",
      "\t['Yeka Kotebe', 'Yeka', 'Yekatit 12 Medical College', 'Yemaj', 'Yem Special', 'Yirgalem']\n",
      "Geoboundaries adm2 (1)\n",
      "\t['Yem']\n",
      "\n",
      "\n",
      "Master list level 3 (6)\n",
      "\t['Zewditu', 'Zone 1', 'Zone 2', 'Zone 3', 'Zone 4', 'Zone 5']\n",
      "Geoboundaries adm2 (5)\n",
      "\t['Zone 1', 'Zone 2', 'Zone 3', 'Zone 4', 'Zone 5']\n",
      "\n",
      "\n",
      "Matches for Org level 3, Geob level 2: 33.01%\n",
      "Num not found: 7969\n",
      "Matches 80% or less:\n",
      "    name_level3 name_geob2  score\n",
      "10        Kolfe      Keffa     80\n",
      "22      Zewditu       Siti     80\n",
      "24     Ayssaita       Siti     80\n",
      "38          Awi   Awi/Agew     80\n",
      "66         Goro     Gurage     80\n",
      "90        Yemaj        Yem     80\n",
      "95         Bale   Shabelle     80\n",
      "121      Sebeta       Siti     80\n",
      "154        Bona      Liben     80\n",
      "------------------------------------------\n",
      "-----Master list level: 2, Geoboundaries level: 1-----\n"
     ]
    },
    {
     "name": "stderr",
     "output_type": "stream",
     "text": [
      "/Users/dianaholcomb/Documents/GWU/6501_Capstone/workspace/health-equity-diagnostics/notebooks/gwu_holcomb/preprocessing_utils.py:27: FutureWarning: The default value of regex will change from True to False in a future version.\n",
      "  data_frame[column_name] = data_frame[column_name].str.replace(word, \"\")\n"
     ]
    },
    {
     "name": "stdout",
     "output_type": "stream",
     "text": [
      "['Addis Ababa' 'Afar' 'Amhara' 'Beneshangul Gumuz' 'Benishangul Gumuz'\n",
      " 'Dire Dawa' 'Gambella' 'Harari' 'Oromiya' 'Snnp' 'Sidama' 'Somali'\n",
      " 'South Western Ethiopia Rhb' 'Southwest Ethiopia' 'Tigray']\n",
      "Master list level 2 (3)\n",
      "\t['Addis Ababa', 'Afar', 'Amhara']\n",
      "Geoboundaries adm1 (3)\n",
      "\t['Addis Ababa', 'Afar', 'Amhara']\n",
      "\n",
      "\n",
      "Master list level 2 (2)\n",
      "\t['Beneshangul Gumuz', 'Benishangul Gumuz']\n",
      "Geoboundaries adm1 (1)\n",
      "\t['Beneshangul Gumu']\n",
      "\n",
      "\n",
      "\n",
      "\n",
      "Master list level 2 (1)\n",
      "\t['Dire Dawa']\n",
      "Geoboundaries adm1 (1)\n",
      "\t['Dire Dawa']\n",
      "\n",
      "\n",
      "\n",
      "\n",
      "\n",
      "\n",
      "Master list level 2 (1)\n",
      "\t['Gambella']\n",
      "Geoboundaries adm1 (1)\n",
      "\t['Gambela']\n",
      "\n",
      "\n",
      "Master list level 2 (1)\n",
      "\t['Harari']\n",
      "Geoboundaries adm1 (1)\n",
      "\t['Hareri']\n",
      "\n",
      "\n",
      "\n",
      "\n",
      "\n",
      "\n",
      "\n",
      "\n",
      "\n",
      "\n",
      "\n",
      "\n",
      "\n",
      "\n",
      "Master list level 2 (1)\n",
      "\t['Oromiya']\n",
      "Geoboundaries adm1 (1)\n",
      "\t['Oromia']\n",
      "\n",
      "\n",
      "\n",
      "\n",
      "\n",
      "\n",
      "\n",
      "\n",
      "Master list level 2 (5)\n",
      "\t['Snnp', 'Sidama', 'Somali', 'South Western Ethiopia Rhb', 'Southwest Ethiopia']\n",
      "Geoboundaries adm1 (2)\n",
      "\t['SNNPR', 'Somali']\n",
      "\n",
      "\n",
      "Master list level 2 (1)\n",
      "\t['Tigray']\n",
      "Geoboundaries adm1 (1)\n",
      "\t['Tigray']\n",
      "\n",
      "\n",
      "\n",
      "\n",
      "\n",
      "\n",
      "\n",
      "\n",
      "\n",
      "\n",
      "\n",
      "\n",
      "\n",
      "\n",
      "Matches for Org level 2, Geob level 1: 80.00%\n",
      "Num not found: 2642\n",
      "Matches 80% or less:\n",
      "Empty DataFrame\n",
      "Columns: [name_level2, name_geob1, score]\n",
      "Index: []\n",
      "------------------------------------------\n"
     ]
    }
   ],
   "source": [
    "curr_geob_lvl = num_admin_levels\n",
    "curr_org_lvl = org_unit_level\n",
    "master_table_copy = master_table.copy()\n",
    "\n",
    "for geobIdx in range(num_admin_levels-1, -1, -1): # reverse loop\n",
    "    print(f\"-----Master list level: {curr_org_lvl}, Geoboundaries level: {curr_geob_lvl}-----\")\n",
    "\n",
    "    master_table_copy.loc[:, f\"orgunitlevel{curr_org_lvl}_edit\"] = master_table_copy[f\"orgunitlevel{curr_org_lvl}\"]\n",
    "\n",
    "    geob_list = ppu.remove_words(geob_arr[geobIdx], \"shapeName\", geoboundary_words_to_remove)\n",
    "\n",
    "    org_lvl_list = ppu.remove_words(master_table_copy, f\"orgunitlevel{curr_org_lvl}_edit\", org_level_words_to_remove)\n",
    "\n",
    "    # Print names to inspect\n",
    "    print(org_lvl_list)\n",
    "    ppu.inspect_level_names(curr_org_lvl, org_lvl_list, curr_geob_lvl, geobList_arr[geobIdx])\n",
    "\n",
    "    table_adm_matches = ssu.find_matches(org_lvl_list.tolist(), geob_list.tolist(), 30, curr_org_lvl, curr_geob_lvl)\n",
    "    matches_pct = (len(table_adm_matches) / len(org_lvl_list))\n",
    "    print('Matches for Org level {}, Geob level {}: {:.2f}%'.format(curr_org_lvl, curr_geob_lvl, matches_pct*100))\n",
    "\n",
    "    # Loop through each row in master table, and add new attribute names (adm3 and adm2), if the names produced\n",
    "    # matches in the lookup tables\n",
    "    for idx, row in master_table_copy.iterrows():\n",
    "        if row[f\"orgunitlevel{curr_org_lvl}_edit\"] in list(table_adm_matches[f\"name_geob{curr_org_lvl}\"]):\n",
    "            match = table_adm_matches.loc[table_adm_matches[f\"name_geob{curr_org_lvl}\"] == row[f\"orgunitlevel{curr_org_lvl}_edit\"], f\"name_geob{curr_geob_lvl}\"].iloc[0]\n",
    "            master_table_copy.loc[idx, f'adm{curr_geob_lvl}'] = match\n",
    "\n",
    "    if f\"adm{curr_geob_lvl}\" in master_table_copy.columns:\n",
    "        notFound = master_table_copy[f\"adm{curr_geob_lvl}\"].isna().sum()\n",
    "        print(f\"Num not found: {notFound}\")\n",
    "    else:\n",
    "        print(\"Num not found: 0\")\n",
    "\n",
    "    print(\"Matches 80% or less:\")\n",
    "    print(table_adm_matches.loc[table_adm_matches.score<=80])\n",
    "\n",
    "    # iterate down\n",
    "    curr_geob_lvl -= 1\n",
    "    curr_org_lvl -= 1\n",
    "    print(\"------------------------------------------\")\n"
   ],
   "metadata": {
    "collapsed": false,
    "pycharm": {
     "name": "#%%\n"
    }
   }
  },
  {
   "cell_type": "code",
   "execution_count": 10,
   "outputs": [
    {
     "name": "stdout",
     "output_type": "stream",
     "text": [
      "<class 'pandas.core.frame.DataFrame'>\n",
      "RangeIndex: 27908 entries, 0 to 27907\n",
      "Data columns (total 16 columns):\n",
      " #   Column                Non-Null Count  Dtype \n",
      "---  ------                --------------  ----- \n",
      " 0   index                 27908 non-null  int64 \n",
      " 1   orgunitlevel1         27908 non-null  object\n",
      " 2   orgunitlevel2         27908 non-null  object\n",
      " 3   orgunitlevel3         27908 non-null  object\n",
      " 4   orgunitlevel4         27874 non-null  object\n",
      " 5   orgunitlevel5         26460 non-null  object\n",
      " 6   orgunitlevel6         22824 non-null  object\n",
      " 7   organisationunitcode  25734 non-null  object\n",
      " 8   organisationunitid    27908 non-null  object\n",
      " 9   facility              27908 non-null  object\n",
      " 10  orgunitlevel4_edit    27874 non-null  object\n",
      " 11  adm3                  20447 non-null  object\n",
      " 12  orgunitlevel3_edit    27908 non-null  object\n",
      " 13  adm2                  19939 non-null  object\n",
      " 14  orgunitlevel2_edit    27908 non-null  object\n",
      " 15  adm1                  25266 non-null  object\n",
      "dtypes: int64(1), object(15)\n",
      "memory usage: 3.4+ MB\n",
      "None\n"
     ]
    }
   ],
   "source": [
    "print(master_table_copy.info())"
   ],
   "metadata": {
    "collapsed": false,
    "pycharm": {
     "name": "#%%\n"
    }
   }
  },
  {
   "cell_type": "code",
   "execution_count": 11,
   "outputs": [],
   "source": [
    "master_table_copy.to_csv(f\"{input_dir}/preprocess_{iso3}_matches.csv\")"
   ],
   "metadata": {
    "collapsed": false,
    "pycharm": {
     "name": "#%%\n"
    }
   }
  },
  {
   "cell_type": "code",
   "execution_count": null,
   "outputs": [],
   "source": [],
   "metadata": {
    "collapsed": false,
    "pycharm": {
     "name": "#%%\n"
    }
   }
  }
 ],
 "metadata": {
  "kernelspec": {
   "name": "health",
   "language": "python",
   "display_name": "health"
  },
  "language_info": {
   "codemirror_mode": {
    "name": "ipython",
    "version": 3
   },
   "file_extension": ".py",
   "mimetype": "text/x-python",
   "name": "python",
   "nbconvert_exporter": "python",
   "pygments_lexer": "ipython3",
   "version": "3.7.6"
  },
  "toc": {
   "base_numbering": 1,
   "nav_menu": {
    "height": "146px",
    "width": "280px"
   },
   "number_sections": true,
   "sideBar": true,
   "skip_h1_title": false,
   "title_cell": "Geocoding Notebook - Bangladesh",
   "title_sidebar": "Contents",
   "toc_cell": true,
   "toc_position": {
    "height": "calc(100% - 180px)",
    "left": "10px",
    "top": "150px",
    "width": "405px"
   },
   "toc_section_display": true,
   "toc_window_display": true
  }
 },
 "nbformat": 4,
 "nbformat_minor": 2
}