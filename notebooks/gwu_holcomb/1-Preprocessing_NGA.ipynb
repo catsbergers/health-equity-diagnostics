{
 "cells": [
  {
   "cell_type": "markdown",
   "metadata": {
    "toc": true,
    "pycharm": {
     "name": "#%% md\n"
    }
   },
   "source": [
    "<h1>Preprocessing Site Names<span class=\"tocSkip\"></span></h1>\n",
    "<div class=\"toc\">\n",
    "    <ul class=\"toc-item\">\n",
    "        <li>\n",
    "        <span><a href=\"#Packages-and-functions\" data-toc-modified-id=\"Packages-and-functions-1\">\n",
    "        <span class=\"toc-item-num\">1&nbsp;&nbsp;</span>Packages and functions</a></span>\n",
    "        </li>\n",
    "        <li>\n",
    "            <span><a href=\"#Prepare-and-match-admin-boundary-data\" data-toc-modified-id=\"Prepare-and-match-admin-boundary-data-2\">\n",
    "            <span class=\"toc-item-num\">2&nbsp;&nbsp;</span>Prepare and match admin boundary data</a></span>\n",
    "            <ul class=\"toc-item\">\n",
    "                <li>\n",
    "                <span><a href=\"#Match-health-list-admin-names-to-shapefile-admin-names\" data-toc-modified-id=\"Match-health-list-admin-names-to-shapefile-admin-names-2.1\"><span class=\"toc-item-num\">2.1&nbsp;&nbsp;</span>Match health list admin names to shapefile admin names</a></span>\n",
    "                <ul class=\"toc-item\">\n",
    "                <li>\n",
    "                <span><a href=\"#Match-orgunitlevel4-to-Geob-Adm-3\" data-toc-modified-id=\"Match-orgunitlevel4-to-Geob-Adm-3-2.1.1\"><span class=\"toc-item-num\">2.1.1&nbsp;&nbsp;</span>Match orgunitlevel4 to Geob Adm 3</a></span>\n",
    "                </li>\n",
    "                <li>\n",
    "                <span><a href=\"#Match-orgunitlevel3-to-Geob-Adm-2\" data-toc-modified-id=\"Match-orgunitlevel3-to-Geob-Adm-2-2.1.2\"><span class=\"toc-item-num\">2.1.2&nbsp;&nbsp;</span>Match orgunitlevel3 to Geob Adm 2</a></span>\n",
    "                </li>\n",
    "                <li>\n",
    "                <span><a href=\"#Match-orgunitlevel2-to-Geob-Adm-1\" data-toc-modified-id=\"Match-orgunitlevel2-to-Geob-Adm-1-2.1.3\"><span class=\"toc-item-num\">2.1.3&nbsp;&nbsp;</span>Match orgunitlevel2 to Geob Adm 1</a></span>\n",
    "                </li>\n",
    "                </ul>\n",
    "            </li>\n",
    "        </ul>\n",
    "    </li>\n",
    "</div>"
   ]
  },
  {
   "cell_type": "markdown",
   "metadata": {
    "pycharm": {
     "name": "#%% md\n"
    }
   },
   "source": [
    "Version: April 11, 2023\n",
    "\n",
    "This notebook works with health facilities from the HMIS Database and attempts to geolocate them, by joining them to administrative shapefiles, other sources of geo-located health facilities, and running queries with geocoding APIs.\n",
    "\n",
    "**Data Sources**\n",
    "- Health facilities (hierarchy list)\n",
    "- Geoboundaries (Adm1 through 4)\n",
    "- FEWS Admin-2 boundaries (updated post 2017)"
   ]
  },
  {
   "cell_type": "markdown",
   "source": [],
   "metadata": {
    "collapsed": false,
    "pycharm": {
     "name": "#%% md\n"
    }
   }
  },
  {
   "cell_type": "markdown",
   "metadata": {
    "pycharm": {
     "name": "#%% md\n"
    }
   },
   "source": [
    "# Packages and functions"
   ]
  },
  {
   "cell_type": "code",
   "execution_count": 1,
   "metadata": {
    "pycharm": {
     "name": "#%%\n"
    }
   },
   "outputs": [],
   "source": [
    "from os.path import join\n",
    "import pandas as pd\n",
    "\n",
    "\n",
    "# local imports\n",
    "import preprocessing_utils as ppu\n",
    "import search_utils as ssu"
   ]
  },
  {
   "cell_type": "code",
   "execution_count": 2,
   "outputs": [
    {
     "data": {
      "text/plain": "'/usr/lib/libc.dylib'"
     },
     "execution_count": 2,
     "metadata": {},
     "output_type": "execute_result"
    }
   ],
   "source": [
    "from ctypes.util import find_library\n",
    "find_library('c')"
   ],
   "metadata": {
    "collapsed": false,
    "pycharm": {
     "name": "#%%\n"
    }
   }
  },
  {
   "cell_type": "markdown",
   "metadata": {
    "pycharm": {
     "name": "#%% md\n"
    }
   },
   "source": [
    "# Prepare and match admin boundary data"
   ]
  },
  {
   "cell_type": "code",
   "execution_count": 3,
   "outputs": [],
   "source": [
    "iso3 = \"NGA\"\n",
    "country = \"Nigeria\"\n",
    "input_dir = \"/Users/dianaholcomb/Documents/GWU/6501_Capstone/workspace/data\"\n",
    "input_filename = \"nigeria2023-04-17.csv\"\n",
    "output_dir = join(input_dir, \"output\", iso3)\n",
    "num_admin_levels = 2\n",
    "geoboundary_words_to_remove = [\" City Council\", \" District Council\", \" Municipal Council\", \" District\"]\n",
    "org_level_words_to_remove = [\" District\",  \" Local Government Area\", \" State\"]\n",
    "org_level_front_wtr = [\"ab\", \"ad\", \"ak\", \"an\", \"ba\", \"be\", \"bo\", \"by\", \"cr\", \"de\", \"eb\", \"ed\", \"ek\",\n",
    "                       \"en\", \"fc\", \"go\", \"im\", \"jg\", \"kd\", \"ke\", \"kn\", \"ko\", \"kt\", \"kw\", \"la\", \"na\",\n",
    "                       \"ni\", \"og\", \"on\", \"os\", \"oy\", \"pl\", \"ri\", \"so\", \"ta\"]\n",
    "check_dupe_cols = ['orgunitlevel2', 'orgunitlevel3', 'orgunitlevel4']"
   ],
   "metadata": {
    "collapsed": false,
    "pycharm": {
     "name": "#%%\n"
    }
   }
  },
  {
   "cell_type": "code",
   "execution_count": 4,
   "outputs": [],
   "source": [
    "geob_arr = ppu.get_geoboundares(num_admin_levels, iso3)"
   ],
   "metadata": {
    "collapsed": false,
    "pycharm": {
     "name": "#%%\n"
    }
   }
  },
  {
   "cell_type": "code",
   "execution_count": 5,
   "outputs": [
    {
     "name": "stdout",
     "output_type": "stream",
     "text": [
      "Len of original data: 2490068\n",
      "Len of clean data: 30746\n",
      "\n",
      "Unique Level 2: 38\n",
      "Unique Level 3: 771\n",
      "Unique Level 4: 8936\n",
      "Unique Level 5: 30414\n"
     ]
    }
   ],
   "source": [
    "master_table = ppu.process_masterDF(input_dir, input_filename)\n",
    "master_table.to_csv(f\"{input_dir}/temp_{iso3}_clean.csv\")"
   ],
   "metadata": {
    "collapsed": false,
    "pycharm": {
     "name": "#%%\n"
    }
   }
  },
  {
   "cell_type": "code",
   "execution_count": 6,
   "metadata": {
    "pycharm": {
     "name": "#%%\n"
    }
   },
   "outputs": [
    {
     "name": "stdout",
     "output_type": "stream",
     "text": [
      "Unique Geoboundaries Adm 1: 37\n",
      "Unique Geoboundaries Adm 2: 774\n"
     ]
    }
   ],
   "source": [
    "geobList_arr = []\n",
    "for idx, geob in enumerate(geob_arr):\n",
    "    admIdx = idx+1\n",
    "    print(f\"Unique Geoboundaries Adm {admIdx}: {len(geob)}\")\n",
    "    geob_list = list(geob.shapeName)\n",
    "    geob_list.sort()\n",
    "    geobList_arr.append(geob_list)"
   ]
  },
  {
   "cell_type": "markdown",
   "metadata": {
    "pycharm": {
     "name": "#%% md\n"
    }
   },
   "source": [
    "## Match health list admin names to shapefile admin names\n",
    "### Match highest Geob Adm to orgunitlevel\n",
    "Try using fuzzy matching  "
   ]
  },
  {
   "cell_type": "code",
   "execution_count": 7,
   "metadata": {
    "pycharm": {
     "name": "#%%\n"
    }
   },
   "outputs": [
    {
     "name": "stdout",
     "output_type": "stream",
     "text": [
      "Org Unit Level: 3\n"
     ]
    }
   ],
   "source": [
    "if num_admin_levels == 2:\n",
    "    org_unit_level = 3\n",
    "elif  num_admin_levels > 2:\n",
    "    org_unit_level = 4\n",
    "else:\n",
    "    org_unit_level = 1\n",
    "\n",
    "print(f\"Org Unit Level: {org_unit_level}\")"
   ]
  },
  {
   "cell_type": "markdown",
   "metadata": {
    "pycharm": {
     "name": "#%% md\n"
    }
   },
   "source": [
    "# Do Matching"
   ]
  },
  {
   "cell_type": "code",
   "execution_count": 8,
   "outputs": [
    {
     "name": "stdout",
     "output_type": "stream",
     "text": [
      "-----Master list level: 3, Geoboundaries level: 2-----\n",
      "['Aba North' 'Aba South' 'Abaji' 'Abak' 'Abakaliki' 'Abeokuta North'\n",
      " 'Abeokuta South' 'Abi' 'Aboh-Mbaise' 'Abua/Odual'\n",
      " 'Abuja Municipal Area Council' 'Adavi' 'Ado' 'Ado Ekiti' 'Ado Odo/Ota'\n",
      " 'Afijio' 'Afikpo North' 'Afikpo South' 'Agaie' 'Agatu' 'Agege' 'Aguata'\n",
      " 'Agwara' 'Ahiazu-Mbaise' 'Ahoada East' 'Ahoada West' 'Aiyekire (Gbonyin)'\n",
      " 'Ajaokuta' 'Ajeromi/Ifelodun' 'Ajingi' 'Akamkpa' 'Akinyele' 'Akko'\n",
      " 'Akoko North East' 'Akoko North West' 'Akoko South East'\n",
      " 'Akoko South West' 'Akoko-Edo' 'Akpabuyo' 'Akuku Toru' 'Akure North'\n",
      " 'Akure South' 'Akwanga' 'Albasu' 'Aleiro' 'Alimosho' 'Alkaleri'\n",
      " 'Amuwo Odofin' 'Anambra East' 'Anambra West' 'Anaocha' 'Andoni' 'Aninri'\n",
      " 'Aniocha North' 'Aniocha South' 'Ankpa' 'Apa' 'Apapa' 'Ardo-Kola' 'Arewa'\n",
      " 'Argungu' 'Arochukwu' 'Asa' 'Asari-Toru' 'Askira/Uba' 'Atakumosa East'\n",
      " 'Atakumosa West' 'Atiba' 'Atisbo' 'Augie' 'Auyo' 'Awe' 'Awgu'\n",
      " 'Awka North' 'Awka South' 'Ayamelum' 'Ayedaade' 'Ayedire' 'Babura'\n",
      " 'Badagry' 'Bagudo' 'Bagwai' 'Bakassi' 'Bakori' 'Balanga' 'Bali' 'Bama'\n",
      " 'Barkin Ladi' 'Baruten' 'Bassa' 'Batagarawa' 'Batsari' 'Bauchi' 'Baure'\n",
      " 'Bayo' 'Bebeji' 'Bekwarra' 'Bende' 'Biase' 'Bichi' 'Bida' 'Billiri'\n",
      " 'Bindawa' 'Binji' 'Birnin Gwari' 'Birnin Kebbi' 'Birnin Kudu' 'Birniwa'\n",
      " 'Biu' 'Bodinga' 'Bogoro' 'Boki' 'Bokkos' 'Boluwaduro' 'Bomadi' 'Bonny'\n",
      " 'Borgu' 'Boripe' 'Bosso' 'Brass' 'Buji' 'Bunkure' 'Bunza' 'Buruku'\n",
      " 'Burutu' 'Bwari' 'Calabar Municipal' 'Calabar South' 'Chanchaga'\n",
      " 'Charanchi' 'Chibok' 'Chikun' 'Dala' 'Dambam' 'Damboa' 'Dan Musa'\n",
      " 'Danbatta' 'Dandi' 'Dandume' 'Dange-Shuni' 'Danja' 'Danko/Wasagu'\n",
      " 'Darazo' 'Dass' 'Daura' 'Dawakin Kudu' 'Dawakin Tofa' 'Degema' 'Dekina'\n",
      " 'Demsa' 'Dikwa' 'Doguwa' 'Doma' 'Donga' 'Dukku' 'Dunukofia' 'Dutse'\n",
      " 'Dutsi' 'Dutsin-Ma' 'Eastern Obolo' 'Ebonyi' 'Edati' 'Ede North'\n",
      " 'Ede South' 'Edu' 'Efon' 'Egbeda' 'Egbedore' 'Egor' 'Ehime-Mbano'\n",
      " 'Ejigbo' 'Ekeremor' 'Eket' 'Ekiti' 'Ekiti East' 'Ekiti South West'\n",
      " 'Ekiti West' 'Ekwusigo' 'Eleme' 'Emohua' 'Emure' 'Enugu East'\n",
      " 'Enugu North' 'Enugu South' 'Epe' 'Esan Central' 'Esan North-East'\n",
      " 'Esan South-East' 'Esan West' 'Ese Odo' 'Esit Eket' 'Essien Udim' 'Etche'\n",
      " 'Ethiope East' 'Ethiope West' 'Eti-Osa' 'Etim Ekpo' 'Etinan'\n",
      " 'Etsako Central' 'Etsako East' 'Etsako West' 'Etung' 'Ewekoro' 'Ezeagu'\n",
      " 'Ezinihitte-Mbaise' 'Ezza North' 'Ezza South' 'Fagge' 'Fakai' 'Faskari'\n",
      " 'Fufore' 'Funakaye' 'Funtua' 'Gabasawa' 'Gada' 'Gagarawa' 'Gamawa'\n",
      " 'Ganjuwa' 'Ganye' 'Garki' 'Garko' 'Garum Mallam' 'Gashaka' 'Gassol'\n",
      " 'Gaya' 'Gbako' 'Gboko' 'Gezawa' 'Giade' 'Girei' 'Giwa' 'Gokana' 'Gombe'\n",
      " 'Gombi' 'Goronyo' 'Gubio' 'Gudu' 'Guma' 'Gumel' 'Gurara' 'Guri' 'Guyuk'\n",
      " 'Gwadabawa' 'Gwagwalada' 'Gwale' 'Gwandu' 'Gwaram' 'Gwarzo' 'Gwer East'\n",
      " 'Gwer West' 'Gwiwa' 'Gwoza' 'Hadejia' 'Hawul' 'Hong' 'Ibadan North'\n",
      " 'Ibadan North East' 'Ibadan North West' 'Ibadan South East'\n",
      " 'Ibadan South West' 'Ibaji' 'Ibarapa Central' 'Ibarapa East'\n",
      " 'Ibarapa North' 'Ibeju/Lekki' 'Ibeno' 'Ibesikpo Asutan' 'Ibi'\n",
      " 'Ibiono Ibom' 'Idah' 'Idanre' 'Ideato North' 'Ideato South'\n",
      " 'Idemili North' 'Idemili South' 'Ido' 'Ido-Osi' 'Ifako/Ijaye'\n",
      " 'Ife Central' 'Ife East' 'Ife North' 'Ife South' 'Ifedayo' 'Ifedore'\n",
      " 'Ifelodun' 'Ifo' 'Igabi' 'Igalamela-Odolu' 'Igbo-Etiti' 'Igbo-Eze North'\n",
      " 'Igbo-Eze South' 'Igueben' 'Ihiala' 'Ihitte/Uboma' 'Ijebu East'\n",
      " 'Ijebu North' 'Ijebu North East' 'Ijebu Ode' 'Ijero' 'Ijumu' 'Ika'\n",
      " 'Ika North East' 'Ika South' 'Ikara' 'Ikeduru' 'Ikeja' 'Ikenne' 'Ikere'\n",
      " 'Ikole' 'Ikom' 'Ikono' 'Ikorodu' 'Ikot Abasi' 'Ikot Ekpene' 'Ikpoba-Okha'\n",
      " 'Ikwerre' 'Ikwo' 'Ikwuano' 'Ila' 'Ilaje' 'Ile-Oluji/Okeigbo' 'Ilejemeje'\n",
      " 'Ilesa East' 'Ilesa West' 'Illela' 'Ilorin East' 'Ilorin South'\n",
      " 'Ilorin West' 'Imeko Afon' 'Ingawa' 'Ini' 'Ipokia' 'Irele' 'Irepo'\n",
      " 'Irepodun' 'Irepodun/Ifelodun' 'Irewole' 'Isa' 'Ise/Orun' 'Iseyin'\n",
      " 'Ishielu' 'Isi-Uzo' 'Isiala Mbano' 'Isiala-Ngwa North'\n",
      " 'Isiala-Ngwa South' 'Isin' 'Isokan' 'Isoko North' 'Isoko South' 'Isu'\n",
      " 'Isuikwuato' 'Itas/Gadau' 'Itesiwaju' 'Itu' 'Ivo' 'Iwajowa' 'Iwo' 'Izzi'\n",
      " 'Jaba' 'Jada' 'Jahun' 'Jalingo' \"Jama'are\" 'Jega' \"Jema'a\" 'Jere' 'Jibia'\n",
      " 'Jos East' 'Jos North' 'Jos South' 'Kabba/Bunu' 'Kabo' 'Kachia'\n",
      " 'Kaduna North' 'Kaduna South' 'Kafin Hausa' 'Kafur' 'Kaga' 'Kagarko'\n",
      " 'Kaiama' 'Kaita' 'Kajola' 'Kajuru' 'Kala/Balge' 'Kalgo' 'Kaltungo'\n",
      " 'Kanam' 'Kankara' 'Kanke' 'Kankia' 'Kano Municipal' 'Karaye'\n",
      " 'Karim-Lamido' 'Karu' 'Katagum' 'Katcha' 'Katsina' 'Katsina-Ala'\n",
      " 'Kaugama' 'Kaura' 'Kauru' 'Kazaure' 'Keana' 'Kebbe' 'Keffi' 'Khana'\n",
      " 'Kibiya' 'Kirfi' 'Kiri Kasamma' 'Kiru' 'Kiyawa' 'Kogi' 'Koko/Besse'\n",
      " 'Kokona' 'Kolokuma/Opokuma' 'Konduga' 'Konshisha' 'Kontagora' 'Kosofe'\n",
      " 'Kubau' 'Kudan' 'Kuje' 'Kumbotso' 'Kunchi' 'Kura' 'Kurfi' 'Kurmi'\n",
      " 'Kusada' 'Kwali' 'Kwami' 'Kwande' 'Kware' 'Kwaya Kusar' 'Lafia' 'Lagelu'\n",
      " 'Lagos Island' 'Lagos Mainland' 'Lamurde' 'Langtang North'\n",
      " 'Langtang South' 'Lapai' 'Lau' 'Lavun' 'Lere' 'Logo' 'Lokoja' 'Madagali'\n",
      " 'Madobi' 'Mafa' 'Magama' 'Magumeri' \"Mai'Adua\" 'Maiduguri' 'Maigatari'\n",
      " 'Maiha' 'Maiyama' 'Makarfi' 'Makoda' 'Makurdi' 'Malam Madori'\n",
      " 'Malumfashi' 'Mangu' 'Mani' 'Mariga' 'Mashegu' 'Mashi' 'Matazu'\n",
      " 'Mayo-Belwa' 'Mbaitoli' 'Mbo' 'Michika' 'Miga' 'Mikang' 'Minjibir'\n",
      " 'Misau' 'Mkpat Enin' 'Moba' 'Mobbar' 'Mokwa' 'Monguno' 'Mopa-Muro' 'Moro'\n",
      " 'Mubi North' 'Mubi South' 'Musawa' 'Mushin' 'Muya' 'Nafada' 'Nasarawa'\n",
      " 'Nasarawa Eggon' 'Ndokwa East' 'Ndokwa West' 'Nembe' 'Ngala' 'Nganzai'\n",
      " 'Ngaski' 'Ngor-Okpala' 'Ningi' 'Njaba' 'Njikoka' 'Nkanu East'\n",
      " 'Nkanu West' 'Nkwerre' 'Nnewi North' 'Nnewi South' 'Nsit Atai'\n",
      " 'Nsit Ibom' 'Nsit Ubium' 'Nsukka' 'Numan' 'Nwangele' 'Obafemi Owode'\n",
      " 'Obanliku' 'Obi' 'Obi Nwga' 'Obio/Akpor' 'Obokun' 'Obot Akara' 'Obowo'\n",
      " 'Obubra' 'Obudu' 'Odeda' 'Odigbo' 'Odo Otin' 'Odogbolu' 'Odukpani' 'Offa'\n",
      " 'Ofu' 'Ogba/Egbema/Ndoni' 'Ogbadibo' 'Ogbaru' 'Ogbia' 'Ogbomosho North'\n",
      " 'Ogbomosho South' 'Ogo Oluwa' 'Ogoja' 'Ogori/Magongo' 'Ogu/Bolo'\n",
      " 'Ogun Waterside' 'Oguta' 'Ohafia' 'Ohaji/Egbema' 'Ohaozara' 'Ohaukwu'\n",
      " 'Ohimini' 'Oji River' 'Ojo' 'Oju' 'Oke-Ero' 'Okehi' 'Okene' 'Okigwe'\n",
      " 'Okitipupa' 'Okobo' 'Okpe' 'Okpokwu' 'Okrika' 'Ola-Oluwa' 'Olamaboro'\n",
      " 'Olorunda' 'Olorunsogo' 'Oluyole' 'Omala' 'Omumma' 'Ona Ara' 'Ondo East'\n",
      " 'Ondo West' 'Onicha' 'Onitsha North' 'Onitsha South' 'Onna' 'Onuimo'\n",
      " 'Opobo/Nkoro' 'Oredo' 'Orelope' 'Orhionmwon' 'Ori Ire' 'Oriade' 'Orlu'\n",
      " 'Orolu' 'Oron' 'Orsu' 'Oru East' 'Oru West' 'Oruk Anam' 'Orumba North'\n",
      " 'Orumba South' 'Ose' 'Oshimili North' 'Oshimili South' 'Oshodi/Isolo'\n",
      " 'Osisioma Ngwa' 'Osogbo' 'Otukpo' 'Ovia North-East' 'Ovia South-West'\n",
      " 'Owan East' 'Owan West' 'Owerri Municipal' 'Owerri North' 'Owerri West'\n",
      " 'Owo' 'Oye' 'Oyi' 'Oyigbo' 'Oyo East' 'Oyo West' 'Oyun' 'Paikoro'\n",
      " 'Pankshin' 'Patani' 'Pategi' 'Port-Harcourt' \"Qua'an Pan\" 'Rabah' 'Rafi'\n",
      " 'Rano' 'Remo North' 'Rijau' 'Rimi' 'Rimin Gado' 'Ringim' 'Riyom' 'Rogo'\n",
      " 'Roni' 'Sabon Birni' 'Sabon Gari' 'Sabuwa' 'Safana' 'Sagamu' 'Sagbama'\n",
      " 'Sakaba' 'Saki East' 'Saki West' 'Sandamu' 'Sanga' 'Sapele' 'Sardauna'\n",
      " 'Shagari' 'Shanga' 'Shani' 'Shanono' 'Shelleng' 'Shendam' 'Shira'\n",
      " 'Shiroro' 'Shomolu' 'Shongom' 'Silame' 'Soba' 'Sokoto North'\n",
      " 'Sokoto South' 'Song' 'Southern Ijaw' 'Sule-Tankarkar' 'Suleja' 'Sumaila'\n",
      " 'Suru' 'Surulere' 'Tafa' 'Tafawa-Balewa' 'Tai' 'Takai' 'Takum' 'Tambuwal'\n",
      " 'Tangaza' 'Tarauni' 'Tarka' 'Taura' 'Tofa' 'Toro' 'Toto' 'Toungo'\n",
      " 'Tsanyawa' 'Tudun Wada' 'Tureta' 'Udenu' 'Udi' 'Udu' 'Udung Uko'\n",
      " 'Ughelli North' 'Ughelli South' 'Ugwunagbo' 'Uhunmwonde' 'Ukanafun'\n",
      " 'Ukum' 'Ukwa East' 'Ukwa West' 'Ukwuani' 'Umuahia North' 'Umuahia South'\n",
      " 'Umunneochi' 'Ungogo' 'Uruan' 'Urue-Offong/Oruko' 'Ushongo' 'Ussa'\n",
      " 'Uvwie' 'Uyo' 'Uzo-Uwani' 'Vandeikya' 'Wamako' 'Wamba' 'Warawa' 'Warji'\n",
      " 'Warri North' 'Warri South' 'Warri South West' 'Wase' 'Wudil' 'Wukari'\n",
      " 'Wurno' 'Wushishi' 'Yabo' 'Yagba East' 'Yagba West' 'Yakurr' 'Yala'\n",
      " 'Yamaltu/Deba' 'Yankwashi' 'Yauri' 'Yenagoa' 'Yewa North' 'Yewa South'\n",
      " 'Yola North' 'Yola South' 'Yorro' 'Zaki' 'Zango' 'Zangon Kataf' 'Zaria'\n",
      " 'Zing' 'Zuru' 'yo Bade' 'yo Busari' 'yo Damaturu' 'yo Fika' 'yo Fune'\n",
      " 'yo Geidam' 'yo Gujba' 'yo Gulani' 'yo Jakusko' 'yo Karasuwa'\n",
      " 'yo Machina' 'yo Nangere' 'yo Nguru' 'yo Potiskum' 'yo Tarmuwa'\n",
      " 'yo Yunusari' 'yo Yusufari' 'za Anka' 'za Bakura' 'za Birnin Magaji'\n",
      " 'za Bukkuyum' 'za Bungudu' 'za Gummi' 'za Gusau' 'za Kaura Namoda'\n",
      " 'za Maradun' 'za Maru' 'za Shinkafi' 'za Talata Mafara' 'za Tsafe'\n",
      " 'za Zurmi']\n",
      "['Aba North' 'Aba South' 'Abadam' 'Abaji' 'Abak' 'Abakaliki'\n",
      " 'Abeokuta North' 'Abeokuta South' 'Abi' 'Aboh-Mbaise' 'Abua/Odual'\n",
      " 'Abuja Municipal' 'Adavi' 'Ado' 'Ado-Odo/Ota' 'Ado Ekiti' 'Afijio'\n",
      " 'Afikpo North' 'Afikpo South' 'Agaie' 'Agatu' 'Agege' 'Aguata' 'Agwara'\n",
      " 'Ahiazu-Mbaise' 'Ahoada East' 'Ahoada West' 'Aiyedade' 'Aiyedire'\n",
      " 'Aiyekire (Gbonyin)' 'Ajaokuta' 'Ajeromi-Ifelodun' 'Ajingi' 'Akamkpa'\n",
      " 'Akinyele' 'Akko' 'Akoko-Edo' 'Akoko North East' 'Akoko North West'\n",
      " 'Akoko South East' 'Akoko South West' 'Akpabuyo' 'Akuku Toru'\n",
      " 'Akure North' 'Akure South' 'Akwanga' 'Albasu' 'Aleiro' 'Alimosho'\n",
      " 'Alkaleri' 'Amuwo-Odofin' 'Anambra East' 'Anambra West' 'Anaocha'\n",
      " 'Andoni' 'Aninri' 'Aniocha North' 'Aniocha South' 'Anka' 'Ankpa' 'Apa'\n",
      " 'Apapa' 'Ardo-Kola' 'Arewa-Dandi' 'Argungu' 'Arochukwu' 'Asa'\n",
      " 'Asari-Toru' 'Askira/Uba' 'Atakumosa East' 'Atakumosa West' 'Atiba'\n",
      " 'Atigbo' 'Augie' 'Auyo' 'Awe' 'Awgu' 'Awka North' 'Awka South' 'Ayamelum'\n",
      " 'Babura' 'Badagry' 'Bade' 'Bagudo' 'Bagwai' 'Bakassi' 'Bakori' 'Bakura'\n",
      " 'Balanga' 'Bali' 'Bama' 'Barikin Ladi' 'Baruten' 'Bassa' 'Batagarawa'\n",
      " 'Batsari' 'Bauchi' 'Baure' 'Bayo' 'Bebeji' 'Bekwara' 'Bende' 'Biase'\n",
      " 'Bichi' 'Bida' 'Billiri' 'Bindawa' 'Binji' 'Biriniwa' 'Birni Kudu'\n",
      " 'Birnin-Gwari' 'Birnin Kebbi' 'Birnin Magaji' 'Biu' 'Bodinga' 'Bogoro'\n",
      " 'Boki' 'Bokkos' 'Boluwaduro' 'Bomadi' 'Bonny' 'Borgu' 'Boripe' 'Bosso'\n",
      " 'Brass' 'Buji' 'Bukkuyum' 'Bungudu' 'Bunkure' 'Bunza' 'Bursari' 'Buruku'\n",
      " 'Burutu' 'Bwari' 'Calabar-Municipal' 'Calabar South' 'Chanchaga'\n",
      " 'Charanchi' 'Chibok' 'Chikun' 'Dala' 'Damaturu' 'Damban' 'Dambatta'\n",
      " 'Damboa' 'Dan Musa' 'Dandi' 'Dandume' 'Dange-Shuni' 'Danja' 'Darazo'\n",
      " 'Dass' 'Daura' 'Dawakin Kudu' 'Dawakin Tofa' 'Degema' 'Dekina' 'Demsa'\n",
      " 'Dikwa' 'Doguwa' 'Doma' 'Donga' 'Dukku' 'Dunukofia' 'Dutse' 'Dutsi'\n",
      " 'Dutsin-Ma' 'Eastern Obolo' 'Ebonyi' 'Edati' 'Ede North' 'Ede South'\n",
      " 'Edu' 'Efon' 'Egbado North' 'Egbado South' 'Egbeda' 'Egbedore' 'Egor'\n",
      " 'Ehime-Mbano' 'Ejigbo' 'Ekeremor' 'Eket' 'Ekiti' 'Ekiti East'\n",
      " 'Ekiti South West' 'Ekiti West' 'Ekwusigo' 'Eleme' 'Emohua' 'Emure'\n",
      " 'Enugu East' 'Enugu North' 'Enugu South' 'Epe' 'Esan Central'\n",
      " 'Esan North East' 'Esan South East' 'Esan West' 'Ese-Odo' 'Esit - Eket'\n",
      " 'Essien Udim' 'Etche' 'Ethiope East' 'Ethiope West' 'Eti-Osa' 'Etim Ekpo'\n",
      " 'Etinan' 'Etsako Central' 'Etsako East' 'Etsako West' 'Etung' 'Ewekoro'\n",
      " 'Ezeagu' 'Ezinihitte' 'Ezza North' 'Ezza South' 'Fagge' 'Fakai' 'Faskari'\n",
      " 'Fika' 'Fufore' 'Funakaye' 'Fune' 'Funtua' 'Gabasawa' 'Gada' 'Gagarawa'\n",
      " 'Gamawa' 'Ganjuwa' 'Ganye' 'Garki' 'Garko' 'Garum Mallam' 'Gashaka'\n",
      " 'Gassol' 'Gaya' 'Gbako' 'Gboko' 'Geidam' 'Gezawa' 'Giade' 'Girei' 'Giwa'\n",
      " 'Gokana' 'Gombe' 'Gombi' 'Goronyo' 'Gubio' 'Gudu' 'Gujba' 'Gulani' 'Guma'\n",
      " 'Gumel' 'Gummi' 'Gurara' 'Guri' 'Gusau' 'Guyuk' 'Guzamala' 'Gwadabawa'\n",
      " 'Gwagwalada' 'Gwale' 'Gwandu' 'Gwaram' 'Gwarzo' 'Gwer East' 'Gwer West'\n",
      " 'Gwiwa' 'Gwoza' 'Hadejia' 'Hawul' 'Hong' 'Ibadan North'\n",
      " 'Ibadan North East' 'Ibadan North West' 'Ibadan South East'\n",
      " 'Ibadan South West' 'Ibaji' 'Ibarapa Central' 'Ibarapa East'\n",
      " 'Ibarapa North' 'Ibeju/Lekki' 'Ibeno' 'Ibesikpo Asutan' 'Ibi'\n",
      " 'Ibiono Ibom' 'Idah' 'Idanre' 'Ideato North' 'Ideato South'\n",
      " 'Idemili North' 'Idemili South' 'Ido' 'Ido-Osi' 'Ifako-Ijaye'\n",
      " 'Ife Central' 'Ife East' 'Ife North' 'Ife South' 'Ifedayo' 'Ifedore'\n",
      " 'Ifelodun' 'Ifo' 'Igabi' 'Igalamela-Odolu' 'Igbo-Etiti' 'Igbo-Eze North'\n",
      " 'Igbo-Eze South' 'Igueben' 'Ihiala' 'Ihitte/Uboma' 'Ijebu East'\n",
      " 'Ijebu North' 'Ijebu North East' 'Ijebu Ode' 'Ijero' 'Ijumu' 'Ika'\n",
      " 'Ika North East' 'Ika South' 'Ikara' 'Ikeduru' 'Ikeja' 'Ikenne' 'Ikere'\n",
      " 'Ikole' 'Ikom' 'Ikono' 'Ikorodu' 'Ikot Abasi' 'Ikot Ekpene' 'Ikpoba-Okha'\n",
      " 'Ikwerre' 'Ikwo' 'Ikwuano' 'Ila' 'Ilaje' 'Ile-Oluji-Okeigbo' 'Ilejemeji'\n",
      " 'Ilesha East' 'Ilesha West' 'Illela' 'Ilorin East' 'Ilorin South'\n",
      " 'Ilorin West' 'Imeko-Afon' 'Ingawa' 'Ini' 'Ipokia' 'Irele' 'Irepo'\n",
      " 'Irepodun' 'Irepodun/Ifelodun' 'Irewole' 'Isa' 'Ise/Orun' 'Iseyin'\n",
      " 'Ishielu' 'Isi-Uzo' 'Isiala-Ngwa North' 'Isiala-Ngwa South'\n",
      " 'Isiala Mbano' 'Isin' 'Isiukwuato' 'Isokan' 'Isoko North' 'Isoko South'\n",
      " 'Isu' 'Itas/Gadau' 'Itesiwaju' 'Itu' 'Ivo' 'Iwajowa' 'Iwo' 'Izzi' 'Jaba'\n",
      " 'Jada' 'Jahun' 'Jakusko' 'Jalingo' \"Jama'are\" 'Jega' \"Jema'a\" 'Jere'\n",
      " 'Jibia' 'Jos East' 'Jos North' 'Jos South' 'Kabba/Bunu' 'Kabo' 'Kachia'\n",
      " 'Kaduna North' 'Kaduna South' 'Kafin Hausa' 'Kafur' 'Kaga' 'Kagarko'\n",
      " 'Kaiama' 'Kaita' 'Kajola' 'Kajuru' 'Kala/Balge' 'Kalgo' 'Kaltungo'\n",
      " 'Kanam' 'Kankara' 'Kanke' 'Kankia' 'Kano Municipal' 'Karasuwa' 'Karaye'\n",
      " 'Karim-Lamido' 'Karu' 'Katagum' 'Katcha' 'Katsina' 'Katsina-Ala'\n",
      " 'Kaugama' 'Kaura' 'Kaura Namoda' 'Kauru' 'Kazaure' 'Keana' 'Kebbe'\n",
      " 'Keffi' 'Khana' 'Kibiya' 'Kirfi' 'Kiri Kasamma' 'Kiru' 'Kiyawa' 'Kogi'\n",
      " 'Koko/Besse' 'Kokona' 'Kolokuma/Opokuma' 'Konduga' 'Konshisha'\n",
      " 'Kontagora' 'Kosofe' 'Kubau' 'Kudan' 'Kuje' 'Kukawa' 'Kumbotso' 'Kunchi'\n",
      " 'Kura' 'Kurfi' 'Kurmi' 'Kusada' 'Kwali' 'Kwami' 'Kwande' 'Kware'\n",
      " 'Kwaya Kusar' 'Lafia' 'Lagelu' 'Lagos Island' 'Lagos Mainland' 'Lamurde'\n",
      " 'Langtang North' 'Langtang South' 'Lapai' 'Lau' 'Lavun' 'Lere' 'Logo'\n",
      " 'Lokoja' 'Machina' 'Madagali' 'Madobi' 'Mafa' 'Magama' 'Magumeri'\n",
      " \"Mai'adua\" 'Maiduguri' 'Maigatari' 'Maiha' 'Maiyama' 'Makoda' 'Makurdi'\n",
      " 'Malam Madori' 'Malumfashi' 'Mangu' 'Mani' 'Maradun' 'Mariga' 'Markafi'\n",
      " 'Marte' 'Maru' 'Mashegu' 'Mashi' 'Matazu' 'Mayo-Belwa' 'Mbaitoli' 'Mbo'\n",
      " 'Michika' 'Miga' 'Mikang' 'Minjibir' 'Misau' 'Mkpat Enin' 'Moba' 'Mobbar'\n",
      " 'Mokwa' 'Monguno' 'Mopa-Muro' 'Moro' 'Mubi North' 'Mubi South' 'Musawa'\n",
      " 'Mushin' 'Muya' 'Nafada' 'Nangere' 'Nasarawa' 'Nasarawa-Eggon'\n",
      " 'Ndokwa East' 'Ndokwa West' 'Nembe' 'Ngala' 'Nganzai' 'Ngaski'\n",
      " 'Ngor-Okpala' 'Nguru' 'Ningi' 'Njaba' 'Njikoka' 'Nkanu East' 'Nkanu West'\n",
      " 'Nkwerre' 'Nnewi North' 'Nnewi South' 'Nsit Atai' 'Nsit Ibom'\n",
      " 'Nsit Ubium' 'Nsukka' 'Numan' 'Nwangele' 'Obafemi-Owode' 'Obanliku' 'Obi'\n",
      " 'Obi Ngwa' 'Obia/Akpor' 'Obokun' 'Obot Akara' 'Obowo' 'Obubra' 'Obudu'\n",
      " 'Odeda' 'Odigbo' 'Odo-Otin' 'Odogbolu' 'Odukpani' 'Offa' 'Ofu'\n",
      " 'Ogba/Egbema/Ndoni' 'Ogbadibo' 'Ogbaru' 'Ogbia' 'Ogbomosho North'\n",
      " 'Ogbomosho South' 'Ogo Oluwa' 'Ogoja' 'Ogori/Magongo' 'Ogu/Bolo'\n",
      " 'Ogun waterside' 'Oguta' 'Ohafia' 'Ohaji/Egbema' 'Ohaozara' 'Ohaukwu'\n",
      " 'Ohimini' 'Oji-River' 'Ojo' 'Oju' 'Oke-Ero' 'Okehi' 'Okene' 'Okigwe'\n",
      " 'Okitipupa' 'Okobo' 'Okpe' 'Okpokwu' 'Okrika' 'Ola-oluwa' 'Olamabolo'\n",
      " 'Olorunda' 'Olorunsogo' 'Oluyole' 'Omala' 'Omumma' 'Ona-Ara' 'Ondo East'\n",
      " 'Ondo West' 'Onicha' 'Onitsha North' 'Onitsha South' 'Onna' 'Opobo/Nkoro'\n",
      " 'Oredo' 'Orelope' 'Orhionmwon' 'Ori Ire' 'Oriade' 'Orlu' 'Orolu' 'Oron'\n",
      " 'Orsu' 'Oru East' 'Oru West' 'Oruk Anam' 'Orumba North' 'Orumba South'\n",
      " 'Ose' 'Oshimili North' 'Oshimili South' 'Oshodi-Isolo' 'Osisioma Ngwa'\n",
      " 'Osogbo' 'Oturkpo' 'Ovia North East' 'Ovia South West' 'Owan East'\n",
      " 'Owan West' 'Owerri-Municipal' 'Owerri North' 'Owerri West' 'Owo' 'Oye'\n",
      " 'Oyi' 'Oyigbo' 'Oyo East' 'Oyo West' 'Oyun' 'Paikoro' 'Pankshin' 'Patani'\n",
      " 'Pategi' 'Port-Harcourt' 'Potiskum' \"Qua'an Pan\" 'Rabah' 'Rafi' 'Rano'\n",
      " 'Remo North' 'Rijau' 'Rimi' 'Rimin Gado' 'Ringim' 'Riyom' 'Rogo' 'Roni'\n",
      " 'Sabon-Gari' 'Sabon Birni' 'Sabuwa' 'Safana' 'Sagbama' 'Sakaba'\n",
      " 'Saki East' 'Saki West' 'Sandamu' 'Sanga' 'Sapele' 'Sardauna' 'Shagamu'\n",
      " 'Shagari' 'Shanga' 'Shani' 'Shanono' 'Shelleng' 'Shendam' 'Shinkafi'\n",
      " 'Shira' 'Shiroro' 'Shomgom' 'Shomolu' 'Silame' 'Soba' 'Sokoto North'\n",
      " 'Sokoto South' 'Song' 'Southern Ijaw' 'Sule-Tankarkar' 'Suleja' 'Sumaila'\n",
      " 'Suru' 'Surulere' 'Tafa' 'Tafawa-Balewa' 'Tai' 'Takai' 'Takum'\n",
      " 'Talata Mafara' 'Tambuwal' 'Tangaza' 'Tarauni' 'Tarka' 'Tarmua' 'Taura'\n",
      " 'Tofa' 'Toro' 'Toto' 'Toungo' 'Tsafe' 'Tsanyawa' 'Tudun Wada' 'Tureta'\n",
      " 'Udenu' 'Udi' 'Udu' 'Udung Uko' 'Ughelli North' 'Ughelli South'\n",
      " 'Ugwunagbo' 'Uhunmwonde' 'Ukanafun' 'Ukum' 'Ukwa East' 'Ukwa West'\n",
      " 'Ukwuani' 'Umu-Nneochi' 'Umuahia North' 'Umuahia South' 'Ungogo' 'Unuimo'\n",
      " 'Uruan' 'Urue-Offong/Oruko' 'Ushongo' 'Ussa' 'Uvwie' 'Uyo' 'Uzo-Uwani'\n",
      " 'Vandeikya' 'Wamako' 'Wamba' 'Warawa' 'Warji' 'Warri North' 'Warri South'\n",
      " 'Warri South West' 'Wasagu/Danko' 'Wase' 'Wudil' 'Wukari' 'Wurno'\n",
      " 'Wushishi' 'Yabo' 'Yagba East' 'Yagba West' 'Yakurr' 'Yala'\n",
      " 'Yamaltu/Deba' 'Yankwashi' 'Yauri' 'Yenegoa' 'Yola North' 'Yola South'\n",
      " 'Yorro' 'Yunusari' 'Yusufari' 'Zaki' 'Zango' 'Zango-Kataf' 'Zaria' 'Zing'\n",
      " 'Zurmi' 'Zuru']\n",
      "Matches for Org level 3, Geob level 2: 98.04%\n",
      "30085\n",
      "------------------------------------------\n",
      "-----Master list level: 2, Geoboundaries level: 1-----\n",
      "['Abia' 'Adamawa' 'Akwa-Ibom' 'Anambra state' 'Bauchi' 'Bayelsa' 'Benue'\n",
      " 'Borno' 'Cross River' 'Delta' 'Ebonyi' 'Edo' 'Ekiti' 'Enugu'\n",
      " 'Federal Capital Territory' 'Gombe' 'Imo' 'Kaduna' 'Kano' 'Katsina'\n",
      " 'Kebbi' 'Kogi' 'Kwara' 'Lagos' 'Nasarawa' 'Niger' 'Ogun' 'Ondo' 'Osun'\n",
      " 'Oyo' 'Plateau' 'Rivers' 'Sokoto' 'Taraba' 'ji Jigawa' 'yo Yobe'\n",
      " 'za Zamfara']\n",
      "['Sokoto' 'Gombe' 'Adamawa' 'Zamfara' 'Yobe' 'Borno' 'Akwa Ibom' 'Bauchi'\n",
      " 'Ogun' 'Niger' 'Anambra' 'Kano' 'Nasarawa' 'Kebbi' 'Kaduna' 'Katsina'\n",
      " 'Plateau' 'Edo' 'Oyo' 'Jigawa' 'Cross River' 'Taraba' 'Rivers' 'Ekiti'\n",
      " 'Benue' 'Delta' 'Ondo' 'Osun' 'Kwara' 'Imo' 'Kogi' 'Abia' 'Fct' 'Bayelsa'\n",
      " 'Enugu' 'Lagos' 'Ebonyi']\n",
      "Matches for Org level 2, Geob level 1: 91.89%\n",
      "29385\n",
      "------------------------------------------\n"
     ]
    }
   ],
   "source": [
    "curr_geob_lvl = num_admin_levels\n",
    "curr_org_lvl = org_unit_level\n",
    "master_table_copy = master_table.copy()\n",
    "\n",
    "for geobIdx in range(num_admin_levels-1, -1, -1): # reverse loop\n",
    "    print(f\"-----Master list level: {curr_org_lvl}, Geoboundaries level: {curr_geob_lvl}-----\")\n",
    "\n",
    "    master_table_copy.loc[:, f\"orgunitlevel{curr_org_lvl}_edit\"] = master_table_copy[f\"orgunitlevel{curr_org_lvl}\"]\n",
    "\n",
    "    geob_list = ppu.remove_words(geob_arr[geobIdx], \"shapeName\", geoboundary_words_to_remove)\n",
    "\n",
    "    org_lvl_list = ppu.remove_words(master_table_copy, f\"orgunitlevel{curr_org_lvl}_edit\", org_level_words_to_remove)\n",
    "    org_lvl_list = ppu.remove_from_front(org_lvl_list, words_to_remove=org_level_front_wtr)\n",
    "\n",
    "    # Print names to inspect\n",
    "    print(org_lvl_list)\n",
    "    print(geob_list)\n",
    "    #ppu.inspect_level_names(curr_org_lvl, org_lvl_list, curr_geob_lvl, geobList_arr[geobIdx])\n",
    "\n",
    "    table_adm_matches = ssu.find_matches(org_lvl_list.tolist(), geob_list.tolist(), 30, curr_org_lvl, curr_geob_lvl)\n",
    "    matches_pct = (len(table_adm_matches) / len(org_lvl_list))\n",
    "    print('Matches for Org level {}, Geob level {}: {:.2f}%'.format(curr_org_lvl, curr_geob_lvl, matches_pct*100))\n",
    "\n",
    "    # Loop through each row in master table, and add new attribute names (adm3 and adm2), if the names produced\n",
    "    # matches in the lookup tables\n",
    "    for idx, row in master_table_copy.iterrows():\n",
    "        if row[f\"orgunitlevel{curr_org_lvl}_edit\"] in list(table_adm_matches[f\"name_level{curr_org_lvl}\"]):\n",
    "            match = table_adm_matches.loc[table_adm_matches[f\"name_level{curr_org_lvl}\"] == row[f\"orgunitlevel{curr_org_lvl}_edit\"], f\"name_geob{curr_geob_lvl}\"].iloc[0]\n",
    "            master_table_copy.loc[idx, f'adm{curr_geob_lvl}'] = match\n",
    "\n",
    "    print(master_table_copy[f\"adm{curr_geob_lvl}\"].isna().sum())\n",
    "\n",
    "    # iterate down\n",
    "    curr_geob_lvl -= 1\n",
    "    curr_org_lvl -= 1\n",
    "    print(\"------------------------------------------\")\n"
   ],
   "metadata": {
    "collapsed": false,
    "pycharm": {
     "name": "#%%\n"
    }
   }
  },
  {
   "cell_type": "code",
   "execution_count": 9,
   "outputs": [
    {
     "name": "stdout",
     "output_type": "stream",
     "text": [
      "37\n",
      "37\n"
     ]
    }
   ],
   "source": [
    "import numpy as np\n",
    "print(len(org_lvl_list))\n",
    "print(len(np.unique(org_lvl_list)))\n",
    "\n",
    "# import regex as re\n",
    "# test = \"za\"\n",
    "# print(re.sub(f\"^{test}\\s\", \"\", \"za Birnin Magaji\"))"
   ],
   "metadata": {
    "collapsed": false,
    "pycharm": {
     "name": "#%%\n"
    }
   }
  },
  {
   "cell_type": "code",
   "execution_count": 10,
   "outputs": [
    {
     "name": "stdout",
     "output_type": "stream",
     "text": [
      "<class 'pandas.core.frame.DataFrame'>\n",
      "RangeIndex: 30746 entries, 0 to 30745\n",
      "Data columns (total 14 columns):\n",
      " #   Column                       Non-Null Count  Dtype  \n",
      "---  ------                       --------------  -----  \n",
      " 0   index                        30746 non-null  int64  \n",
      " 1   orgunitlevel1                30746 non-null  object \n",
      " 2   orgunitlevel2                30745 non-null  object \n",
      " 3   orgunitlevel3                30745 non-null  object \n",
      " 4   orgunitlevel4                30745 non-null  object \n",
      " 5   orgunitlevel5                30745 non-null  object \n",
      " 6   organisationunitid           30745 non-null  object \n",
      " 7   organisationunitname         30745 non-null  object \n",
      " 8   organisationunitcode         29952 non-null  float64\n",
      " 9   organisationunitdescription  0 non-null      float64\n",
      " 10  orgunitlevel3_edit           30745 non-null  object \n",
      " 11  adm2                         661 non-null    object \n",
      " 12  orgunitlevel2_edit           30745 non-null  object \n",
      " 13  adm1                         1361 non-null   object \n",
      "dtypes: float64(2), int64(1), object(11)\n",
      "memory usage: 3.3+ MB\n",
      "None\n"
     ]
    }
   ],
   "source": [
    "print(master_table_copy.info())"
   ],
   "metadata": {
    "collapsed": false,
    "pycharm": {
     "name": "#%%\n"
    }
   }
  },
  {
   "cell_type": "code",
   "execution_count": 11,
   "outputs": [],
   "source": [
    "master_table_copy.to_csv(f\"{input_dir}/preprocess_{iso3}_matches.csv\")"
   ],
   "metadata": {
    "collapsed": false,
    "pycharm": {
     "name": "#%%\n"
    }
   }
  },
  {
   "cell_type": "code",
   "execution_count": null,
   "outputs": [],
   "source": [],
   "metadata": {
    "collapsed": false,
    "pycharm": {
     "name": "#%%\n"
    }
   }
  }
 ],
 "metadata": {
  "kernelspec": {
   "name": "health",
   "language": "python",
   "display_name": "health"
  },
  "language_info": {
   "codemirror_mode": {
    "name": "ipython",
    "version": 3
   },
   "file_extension": ".py",
   "mimetype": "text/x-python",
   "name": "python",
   "nbconvert_exporter": "python",
   "pygments_lexer": "ipython3",
   "version": "3.7.6"
  },
  "toc": {
   "base_numbering": 1,
   "nav_menu": {
    "height": "146px",
    "width": "280px"
   },
   "number_sections": true,
   "sideBar": true,
   "skip_h1_title": false,
   "title_cell": "Geocoding Notebook - Bangladesh",
   "title_sidebar": "Contents",
   "toc_cell": true,
   "toc_position": {
    "height": "calc(100% - 180px)",
    "left": "10px",
    "top": "150px",
    "width": "405px"
   },
   "toc_section_display": true,
   "toc_window_display": true
  }
 },
 "nbformat": 4,
 "nbformat_minor": 2
}