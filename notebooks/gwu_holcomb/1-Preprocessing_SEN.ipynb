{
 "cells": [
  {
   "cell_type": "markdown",
   "metadata": {
    "toc": true,
    "pycharm": {
     "name": "#%% md\n"
    }
   },
   "source": [
    "<h1>Preprocessing Site Names<span class=\"tocSkip\"></span></h1>\n",
    "<div class=\"toc\">\n",
    "    <ul class=\"toc-item\">\n",
    "        <li>\n",
    "        <span><a href=\"#Packages-and-functions\" data-toc-modified-id=\"Packages-and-functions-1\">\n",
    "        <span class=\"toc-item-num\">1&nbsp;&nbsp;</span>Packages and functions</a></span>\n",
    "        </li>\n",
    "        <li>\n",
    "            <span><a href=\"#Prepare-and-match-admin-boundary-data\" data-toc-modified-id=\"Prepare-and-match-admin-boundary-data-2\">\n",
    "            <span class=\"toc-item-num\">2&nbsp;&nbsp;</span>Prepare and match admin boundary data</a></span>\n",
    "            <ul class=\"toc-item\">\n",
    "                <li>\n",
    "                <span><a href=\"#Match-health-list-admin-names-to-shapefile-admin-names\" data-toc-modified-id=\"Match-health-list-admin-names-to-shapefile-admin-names-2.1\"><span class=\"toc-item-num\">2.1&nbsp;&nbsp;</span>Match health list admin names to shapefile admin names</a></span>\n",
    "                <ul class=\"toc-item\">\n",
    "                <li>\n",
    "                <span><a href=\"#Match-orgunitlevel4-to-Geob-Adm-3\" data-toc-modified-id=\"Match-orgunitlevel4-to-Geob-Adm-3-2.1.1\"><span class=\"toc-item-num\">2.1.1&nbsp;&nbsp;</span>Match orgunitlevel4 to Geob Adm 3</a></span>\n",
    "                </li>\n",
    "                <li>\n",
    "                <span><a href=\"#Match-orgunitlevel3-to-Geob-Adm-2\" data-toc-modified-id=\"Match-orgunitlevel3-to-Geob-Adm-2-2.1.2\"><span class=\"toc-item-num\">2.1.2&nbsp;&nbsp;</span>Match orgunitlevel3 to Geob Adm 2</a></span>\n",
    "                </li>\n",
    "                <li>\n",
    "                <span><a href=\"#Match-orgunitlevel2-to-Geob-Adm-1\" data-toc-modified-id=\"Match-orgunitlevel2-to-Geob-Adm-1-2.1.3\"><span class=\"toc-item-num\">2.1.3&nbsp;&nbsp;</span>Match orgunitlevel2 to Geob Adm 1</a></span>\n",
    "                </li>\n",
    "                </ul>\n",
    "            </li>\n",
    "        </ul>\n",
    "    </li>\n",
    "</div>"
   ]
  },
  {
   "cell_type": "markdown",
   "metadata": {
    "pycharm": {
     "name": "#%% md\n"
    }
   },
   "source": [
    "Version: April 11, 2023\n",
    "\n",
    "This notebook works with health facilities from the HMIS Database and attempts to geolocate them, by joining them to administrative shapefiles, other sources of geo-located health facilities, and running queries with geocoding APIs.\n",
    "\n",
    "**Data Sources**\n",
    "- Health facilities (hierarchy list)\n",
    "- Geoboundaries (Adm1 through 4)\n",
    "- FEWS Admin-2 boundaries (updated post 2017)"
   ]
  },
  {
   "cell_type": "markdown",
   "source": [],
   "metadata": {
    "collapsed": false,
    "pycharm": {
     "name": "#%% md\n"
    }
   }
  },
  {
   "cell_type": "markdown",
   "metadata": {
    "pycharm": {
     "name": "#%% md\n"
    }
   },
   "source": [
    "# Packages and functions"
   ]
  },
  {
   "cell_type": "code",
   "execution_count": 1,
   "metadata": {
    "pycharm": {
     "name": "#%%\n"
    }
   },
   "outputs": [],
   "source": [
    "from os.path import join\n",
    "import pandas as pd\n",
    "import matplotlib.pyplot as plt\n",
    "\n",
    "# local imports\n",
    "import preprocessing_utils as ppu\n",
    "import search_utils as ssu"
   ]
  },
  {
   "cell_type": "code",
   "execution_count": 2,
   "outputs": [
    {
     "data": {
      "text/plain": "'/usr/lib/libc.dylib'"
     },
     "execution_count": 2,
     "metadata": {},
     "output_type": "execute_result"
    }
   ],
   "source": [
    "from ctypes.util import find_library\n",
    "find_library('c')"
   ],
   "metadata": {
    "collapsed": false,
    "pycharm": {
     "name": "#%%\n"
    }
   }
  },
  {
   "cell_type": "markdown",
   "metadata": {
    "pycharm": {
     "name": "#%% md\n"
    }
   },
   "source": [
    "# Prepare and match admin boundary data"
   ]
  },
  {
   "cell_type": "code",
   "execution_count": 3,
   "outputs": [],
   "source": [
    "iso3 = \"SEN\"\n",
    "country = \"Senegal\"\n",
    "input_dir = \"/Users/dianaholcomb/Documents/GWU/6501_Capstone/workspace/data\"\n",
    "input_filename = \"senegal2023-04-17.csv\"\n",
    "output_dir = join(input_dir, \"output\", iso3)\n",
    "num_admin_levels = 3\n",
    "org_level_front_wtr = [\"CS\", \"Clinique\",  \"Dispensaire\", \"DPC\", \"Maternite\", \"Maternité\", \"PM\",\"MAC\",\"PS\",\"privé \", \"RM\"]"
   ],
   "metadata": {
    "collapsed": false,
    "pycharm": {
     "name": "#%%\n"
    }
   }
  },
  {
   "cell_type": "code",
   "execution_count": 4,
   "outputs": [],
   "source": [
    "geob_arr = ppu.get_geoboundaries(num_admin_levels, iso3)"
   ],
   "metadata": {
    "collapsed": false,
    "pycharm": {
     "name": "#%%\n"
    }
   }
  },
  {
   "cell_type": "code",
   "execution_count": 5,
   "outputs": [
    {
     "name": "stdout",
     "output_type": "stream",
     "text": [
      "Len of original data: 198768\n",
      "Len of clean data: 1837\n",
      "\n",
      "Unique Level 2: 14\n",
      "Unique Level 3: 79\n",
      "Unique Level 4: 1779\n",
      "Unique Level 5: 1779\n"
     ]
    }
   ],
   "source": [
    "master_table = ppu.process_masterDF(input_dir, input_filename)"
   ],
   "metadata": {
    "collapsed": false,
    "pycharm": {
     "name": "#%%\n"
    }
   }
  },
  {
   "cell_type": "code",
   "execution_count": 6,
   "metadata": {
    "pycharm": {
     "name": "#%%\n"
    }
   },
   "outputs": [
    {
     "name": "stdout",
     "output_type": "stream",
     "text": [
      "Unique Geoboundaries Adm 1: 14\n",
      "Unique Geoboundaries Adm 2: 45\n",
      "Unique Geoboundaries Adm 3: 121\n"
     ]
    }
   ],
   "source": [
    "geobList_arr = []\n",
    "for idx, geob in enumerate(geob_arr):\n",
    "    admIdx = idx+1\n",
    "    print(f\"Unique Geoboundaries Adm {admIdx}: {len(geob)}\")\n",
    "    geob_list = list(geob.shapeName)\n",
    "    geob_list.sort()\n",
    "    geobList_arr.append(geob_list)"
   ]
  },
  {
   "cell_type": "code",
   "execution_count": 7,
   "outputs": [
    {
     "data": {
      "text/plain": "<Figure size 1000x1000 with 3 Axes>",
      "image/png": "[encoded data removed]"
     },
     "metadata": {},
     "output_type": "display_data"
    }
   ],
   "source": [
    "fig, ax = plt.subplots(1, num_admin_levels, figsize=(10,10))\n",
    "for idx, geob in enumerate(geob_arr):\n",
    "    geob.boundary.plot(ax=ax[idx], color='black').set_axis_off()"
   ],
   "metadata": {
    "collapsed": false,
    "pycharm": {
     "name": "#%%\n"
    }
   }
  },
  {
   "cell_type": "markdown",
   "metadata": {
    "pycharm": {
     "name": "#%% md\n"
    }
   },
   "source": [
    "## Match health list admin names to shapefile admin names\n",
    "### Match highest Geob Adm to orgunitlevel\n",
    "Try using fuzzy matching  "
   ]
  },
  {
   "cell_type": "code",
   "execution_count": 8,
   "metadata": {
    "pycharm": {
     "name": "#%%\n"
    }
   },
   "outputs": [],
   "source": [
    "if num_admin_levels == 2:\n",
    "    org_unit_level = 3\n",
    "elif  num_admin_levels > 2:\n",
    "    org_unit_level = 4\n",
    "else:\n",
    "    org_unit_level = 1\n"
   ]
  },
  {
   "cell_type": "markdown",
   "metadata": {
    "pycharm": {
     "name": "#%% md\n"
    }
   },
   "source": [
    "# Do Matching"
   ]
  },
  {
   "cell_type": "code",
   "execution_count": 9,
   "outputs": [
    {
     "name": "stdout",
     "output_type": "stream",
     "text": [
      "-----Master list level: 4, Geoboundaries level: 3-----\n",
      "Matches for Org level 4, Geob level 3: 18.76%\n",
      "Num not found: 1835\n",
      "Matches 80% or less:\n",
      "     name_level4 name_geob3  score\n",
      "13         Abene       Bona     80\n",
      "45    Badioncoto   Bonconto     80\n",
      "47     Bagadadji   Barkedji     80\n",
      "54      Balingor  Velingara     80\n",
      "58    Bambadinka   Mbediene     80\n",
      "...          ...        ...    ...\n",
      "1572      Thiara   Thiaroye     80\n",
      "1579     Thiarra   Thiaroye     80\n",
      "1587    Thienaba    Tieneba     80\n",
      "1607        Thor   Thiaroye     80\n",
      "1651      Tuabou    Kataba1     80\n",
      "\n",
      "[114 rows x 3 columns]\n",
      "------------------------------------------\n",
      "-----Master list level: 3, Geoboundaries level: 2-----\n",
      "Matches for Org level 3, Geob level 2: 62.03%\n",
      "Num not found: 539\n",
      "Matches 80% or less:\n",
      "   name_level3   name_geob2  score\n",
      "6        Dahra        Dakar     80\n",
      "13  Diamniadio  Tambacounda     80\n",
      "45        Mbao        Mbour     80\n",
      "51       Nioro      Ranerou     80\n",
      "54        Pete        Podor     80\n",
      "------------------------------------------\n",
      "-----Master list level: 2, Geoboundaries level: 1-----\n",
      "Matches for Org level 2, Geob level 1: 100.00%\n",
      "Num not found: 0\n",
      "Matches 80% or less:\n",
      "Empty DataFrame\n",
      "Columns: [name_level2, name_geob1, score]\n",
      "Index: []\n",
      "------------------------------------------\n"
     ]
    }
   ],
   "source": [
    "curr_geob_lvl = num_admin_levels\n",
    "curr_org_lvl = org_unit_level\n",
    "master_table_copy = master_table.copy()\n",
    "\n",
    "for geobIdx in range(num_admin_levels-1, -1, -1): # reverse loop\n",
    "    print(f\"-----Master list level: {curr_org_lvl}, Geoboundaries level: {curr_geob_lvl}-----\")\n",
    "\n",
    "    master_table_copy.loc[:, f\"orgunitlevel{curr_org_lvl}_edit\"] = master_table_copy[f\"orgunitlevel{curr_org_lvl}\"]\n",
    "\n",
    "    geob_list = ppu.remove_words(geob_arr[geobIdx], \"shapeName\", [\" City Council\", \" District Council\", \" Municipal Council\", \" District\"])\n",
    "    geob_list = ppu.remove_from_front(geob_list, words_to_remove=org_level_front_wtr)\n",
    "\n",
    "    org_lvl_list = ppu.remove_words(master_table_copy, f\"orgunitlevel{curr_org_lvl}_edit\", [\" District\"])\n",
    "    org_lvl_list = ppu.remove_from_front(org_lvl_list, words_to_remove=org_level_front_wtr)\n",
    "\n",
    "    # Print names to inspect\n",
    "    #ppu.inspect_level_names(curr_org_lvl, org_lvl_list, curr_geob_lvl, geobList_arr[geobIdx])\n",
    "\n",
    "    table_adm_matches = ssu.find_matches(org_lvl_list.tolist(), geob_list.tolist(), 30, curr_org_lvl, curr_geob_lvl)\n",
    "    matches_pct = (len(table_adm_matches) / len(org_lvl_list))\n",
    "    print('Matches for Org level {}, Geob level {}: {:.2f}%'.format(curr_org_lvl, curr_geob_lvl, matches_pct*100))\n",
    "\n",
    "    # Loop through each row in master table, and add new attribute names (adm3 and adm2), if the names produced\n",
    "    # matches in the lookup tables\n",
    "    for idx, row in master_table_copy.iterrows():\n",
    "        if row[f\"orgunitlevel{curr_org_lvl}_edit\"] in list(table_adm_matches[f\"name_level{curr_org_lvl}\"]):\n",
    "            match = table_adm_matches.loc[table_adm_matches[f\"name_level{curr_org_lvl}\"] == row[f\"orgunitlevel{curr_org_lvl}_edit\"], f\"name_geob{curr_geob_lvl}\"].iloc[0]\n",
    "            master_table_copy.loc[idx, f'adm{curr_geob_lvl}'] = match\n",
    "\n",
    "    if f\"adm{curr_geob_lvl}\" in master_table_copy.columns:\n",
    "        notFound = master_table_copy[f\"adm{curr_geob_lvl}\"].isna().sum()\n",
    "        print(f\"Num not found: {notFound}\")\n",
    "    else:\n",
    "        print(\"Num not found: 0\")\n",
    "\n",
    "    print(\"Matches 80% or less:\")\n",
    "    print(table_adm_matches.loc[table_adm_matches.score<=80])\n",
    "\n",
    "    # iterate down\n",
    "    curr_geob_lvl -= 1\n",
    "    curr_org_lvl -= 1\n",
    "    print(\"------------------------------------------\")\n"
   ],
   "metadata": {
    "collapsed": false,
    "pycharm": {
     "name": "#%%\n"
    }
   }
  },
  {
   "cell_type": "code",
   "execution_count": 34,
   "outputs": [
    {
     "name": "stdout",
     "output_type": "stream",
     "text": [
      "   index orgunitlevel1 orgunitlevel2 orgunitlevel3   orgunitlevel4  \\\n",
      "0      0       Sénégal      RM Louga       Kebemer       CS Gueoul   \n",
      "1      8       Sénégal      RM Matam         Matam    PS Danthiady   \n",
      "2     15       Sénégal    RM Kaolack         Nioro  PS Darou Mbapp   \n",
      "3     23       Sénégal    RM Kaolack         Nioro   PS Dinguiraye   \n",
      "4     30       Sénégal    RM Kaolack         Nioro       PS Falifa   \n",
      "\n",
      "  organisationunitid organisationunitname organisationunitcode  \\\n",
      "0        ABw3PNnM6MU            CS Gueoul                  NaN   \n",
      "1        MdLYr6myUuV         PS Danthiady                  NaN   \n",
      "2        moK0dPDFunG       PS Darou Mbapp                  NaN   \n",
      "3        hPKHa9803vl        PS Dinguiraye                  NaN   \n",
      "4        ROZaiVChEqd            PS Falifa                  NaN   \n",
      "\n",
      "  organisationunitdescription orgunitlevel4_edit adm3 orgunitlevel3_edit  \\\n",
      "0                       CS II          CS Gueoul  NaN            Kebemer   \n",
      "1                         NaN       PS Danthiady  NaN              Matam   \n",
      "2                         NaN     PS Darou Mbapp  NaN              Nioro   \n",
      "3                         NaN      PS Dinguiraye  NaN              Nioro   \n",
      "4                         NaN          PS Falifa  NaN              Nioro   \n",
      "\n",
      "      adm2 orgunitlevel2_edit  \n",
      "0  Kebemer           RM Louga  \n",
      "1    Matam           RM Matam  \n",
      "2  Ranerou         RM Kaolack  \n",
      "3  Ranerou         RM Kaolack  \n",
      "4  Ranerou         RM Kaolack  \n"
     ]
    }
   ],
   "source": [
    "print(master_table_copy.head())"
   ],
   "metadata": {
    "collapsed": false,
    "pycharm": {
     "name": "#%%\n"
    }
   }
  },
  {
   "cell_type": "code",
   "execution_count": 35,
   "outputs": [],
   "source": [
    "master_table_copy.to_csv(f\"{input_dir}/preprocess_{iso3}_matches.csv\")"
   ],
   "metadata": {
    "collapsed": false,
    "pycharm": {
     "name": "#%%\n"
    }
   }
  },
  {
   "cell_type": "code",
   "execution_count": null,
   "outputs": [],
   "source": [],
   "metadata": {
    "collapsed": false,
    "pycharm": {
     "name": "#%%\n"
    }
   }
  }
 ],
 "metadata": {
  "kernelspec": {
   "name": "health",
   "language": "python",
   "display_name": "health"
  },
  "language_info": {
   "codemirror_mode": {
    "name": "ipython",
    "version": 3
   },
   "file_extension": ".py",
   "mimetype": "text/x-python",
   "name": "python",
   "nbconvert_exporter": "python",
   "pygments_lexer": "ipython3",
   "version": "3.7.6"
  },
  "toc": {
   "base_numbering": 1,
   "nav_menu": {
    "height": "146px",
    "width": "280px"
   },
   "number_sections": true,
   "sideBar": true,
   "skip_h1_title": false,
   "title_cell": "Geocoding Notebook - Bangladesh",
   "title_sidebar": "Contents",
   "toc_cell": true,
   "toc_position": {
    "height": "calc(100% - 180px)",
    "left": "10px",
    "top": "150px",
    "width": "405px"
   },
   "toc_section_display": true,
   "toc_window_display": true
  }
 },
 "nbformat": 4,
 "nbformat_minor": 2
}