{
 "cells": [
  {
   "cell_type": "markdown",
   "metadata": {
    "toc": true,
    "pycharm": {
     "name": "#%% md\n"
    }
   },
   "source": [
    "<h1>Locating with Healthsites.io Notebook - Senegal<span class=\"tocSkip\"></span></h1>\n",
    "<div class=\"toc\"><ul class=\"toc-item\"><li><span><a href=\"#Prepare-and-match-admin-boundary-data\" data-toc-modified-id=\"Prepare-and-match-admin-boundary-data-2\"><span class=\"toc-item-num\">2&nbsp;&nbsp;</span>Prepare and match admin boundary data</a></span><ul class=\"toc-item\"><li><span><a href=\"#Match-health-list-admin-names-to-shapefile-admin-names\" data-toc-modified-id=\"Match-health-list-admin-names-to-shapefile-admin-names-2.1\"><span class=\"toc-item-num\">2.1&nbsp;&nbsp;</span>Match health list admin names to shapefile admin names</a></span><ul class=\"toc-item\"><li><span><a href=\"#Match-orgunitlevel4-to-Geob-Adm-3\" data-toc-modified-id=\"Match-orgunitlevel4-to-Geob-Adm-3-2.1.1\"><span class=\"toc-item-num\">2.1.1&nbsp;&nbsp;</span>Match orgunitlevel4 to Geob Adm 3</a></span></li><li><span><a href=\"#Match-orgunitlevel3-to-Geob-Adm-2\" data-toc-modified-id=\"Match-orgunitlevel3-to-Geob-Adm-2-2.1.2\"><span class=\"toc-item-num\">2.1.2&nbsp;&nbsp;</span>Match orgunitlevel3 to Geob Adm 2</a></span></li><li><span><a href=\"#Match-orgunitlevel2-to-Geob-Adm-1\" data-toc-modified-id=\"Match-orgunitlevel2-to-Geob-Adm-1-2.1.3\"><span class=\"toc-item-num\">2.1.3&nbsp;&nbsp;</span>Match orgunitlevel2 to Geob Adm 1</a></span></li></ul></li></ul></li></ul></div>"
   ]
  },
  {
   "cell_type": "markdown",
   "metadata": {
    "pycharm": {
     "name": "#%% md\n"
    }
   },
   "source": [
    "Version: April 26, 2023\n",
    "\n",
    "This notebook works with health facilities from the HMIS Database and attempts to geolocate them, by joining them to administrative shapefiles, other sources of geo-located health facilities, and running queries with geocoding APIs.\n",
    "\n",
    "**Data Sources**\n",
    "- Health facilities (hierarchy list)\n",
    "- Geoboundaries (Adm1 through 4)\n",
    "- FEWS Admin-2 boundaries (updated post 2017)\n",
    "- Health Sites IO\n",
    "- RHINoVision Master Facility List Decision Support System"
   ]
  },
  {
   "cell_type": "markdown",
   "metadata": {
    "pycharm": {
     "name": "#%% md\n"
    }
   },
   "source": [
    "# Packages and functions"
   ]
  },
  {
   "cell_type": "code",
   "execution_count": 1,
   "metadata": {
    "pycharm": {
     "name": "#%%\n"
    }
   },
   "outputs": [],
   "source": [
    "import os\n",
    "from datetime import datetime\n",
    "import geopandas as gpd\n",
    "import pandas as pd\n",
    "from geopy.geocoders import Nominatim, Bing, GoogleV3\n",
    "from shapely.geometry import Point\n",
    "from tqdm import tqdm\n",
    "import matplotlib.pyplot as plt\n",
    "import contextily as ctx\n",
    "from os.path import join\n",
    "from dotenv import load_dotenv, find_dotenv\n",
    "\n",
    "# local imports\n",
    "import geocoding_utils as gcu\n",
    "import preprocessing_utils as ppu\n",
    "import search_utils as ssu"
   ]
  },
  {
   "cell_type": "code",
   "execution_count": 2,
   "metadata": {
    "pycharm": {
     "name": "#%%\n"
    }
   },
   "outputs": [],
   "source": [
    "iso3 = \"SEN\"\n",
    "diso = \"sn\"\n",
    "country = \"Senegal\"\n",
    "input_dir = \"/Users/dianaholcomb/Documents/GWU/6501_Capstone/workspace/data\"\n",
    "input_filename = \"preprocess_SEN_matches.csv\"\n",
    "output_dir = join(input_dir, \"output\", iso3)\n",
    "num_admin_levels = 3\n",
    "num_org_levels = 5\n",
    "words_to_remove = ['community', 'clinic', 'centre', 'center', 'hospital', 'health', 'government']\n",
    "org_level_front_wtr = [\"cs\", \"clinique\",  \"dispensaire\", \"dpc\", \"maternite\", \"maternité\", \"pm\",\"mac\",\"ps\",\"privé \", \"rm\"]"
   ]
  },
  {
   "cell_type": "code",
   "execution_count": 3,
   "metadata": {
    "pycharm": {
     "name": "#%%\n"
    }
   },
   "outputs": [],
   "source": [
    "master_table = pd.read_csv(os.path.join(input_dir, input_filename), encoding='utf-8')\n",
    "geob_arr = ppu.get_geoboundaries(num_admin_levels, iso3)"
   ]
  },
  {
   "cell_type": "code",
   "execution_count": 4,
   "outputs": [],
   "source": [
    "# Senegal-specific update\n",
    "master_table['orgunitlevel5'] = master_table['organisationunitname']"
   ],
   "metadata": {
    "collapsed": false,
    "pycharm": {
     "name": "#%%\n"
    }
   }
  },
  {
   "cell_type": "code",
   "execution_count": 5,
   "metadata": {
    "pycharm": {
     "name": "#%%\n"
    }
   },
   "outputs": [
    {
     "data": {
      "text/plain": "1837"
     },
     "execution_count": 5,
     "metadata": {},
     "output_type": "execute_result"
    }
   ],
   "source": [
    "len(master_table)"
   ]
  },
  {
   "cell_type": "code",
   "execution_count": 6,
   "metadata": {
    "pycharm": {
     "name": "#%%\n"
    }
   },
   "outputs": [
    {
     "data": {
      "text/plain": "   Unnamed: 0  index orgunitlevel1 orgunitlevel2 orgunitlevel3 orgunitlevel4  \\\n0           0      0       Sénégal      RM Louga       Kebemer     CS Gueoul   \n1           1      8       Sénégal      RM Matam         Matam  PS Danthiady   \n\n  organisationunitid organisationunitname organisationunitcode  \\\n0        ABw3PNnM6MU            CS Gueoul                  NaN   \n1        MdLYr6myUuV         PS Danthiady                  NaN   \n\n  organisationunitdescription orgunitlevel4_edit adm3 orgunitlevel3_edit  \\\n0                       CS II          CS Gueoul  NaN            Kebemer   \n1                         NaN       PS Danthiady  NaN              Matam   \n\n      adm2 orgunitlevel2_edit orgunitlevel5  \n0  Kebemer           RM Louga     CS Gueoul  \n1    Matam           RM Matam  PS Danthiady  ",
      "text/html": "<div>\n<style scoped>\n    .dataframe tbody tr th:only-of-type {\n        vertical-align: middle;\n    }\n\n    .dataframe tbody tr th {\n        vertical-align: top;\n    }\n\n    .dataframe thead th {\n        text-align: right;\n    }\n</style>\n<table border=\"1\" class=\"dataframe\">\n  <thead>\n    <tr style=\"text-align: right;\">\n      <th></th>\n      <th>Unnamed: 0</th>\n      <th>index</th>\n      <th>orgunitlevel1</th>\n      <th>orgunitlevel2</th>\n      <th>orgunitlevel3</th>\n      <th>orgunitlevel4</th>\n      <th>organisationunitid</th>\n      <th>organisationunitname</th>\n      <th>organisationunitcode</th>\n      <th>organisationunitdescription</th>\n      <th>orgunitlevel4_edit</th>\n      <th>adm3</th>\n      <th>orgunitlevel3_edit</th>\n      <th>adm2</th>\n      <th>orgunitlevel2_edit</th>\n      <th>orgunitlevel5</th>\n    </tr>\n  </thead>\n  <tbody>\n    <tr>\n      <th>0</th>\n      <td>0</td>\n      <td>0</td>\n      <td>Sénégal</td>\n      <td>RM Louga</td>\n      <td>Kebemer</td>\n      <td>CS Gueoul</td>\n      <td>ABw3PNnM6MU</td>\n      <td>CS Gueoul</td>\n      <td>NaN</td>\n      <td>CS II</td>\n      <td>CS Gueoul</td>\n      <td>NaN</td>\n      <td>Kebemer</td>\n      <td>Kebemer</td>\n      <td>RM Louga</td>\n      <td>CS Gueoul</td>\n    </tr>\n    <tr>\n      <th>1</th>\n      <td>1</td>\n      <td>8</td>\n      <td>Sénégal</td>\n      <td>RM Matam</td>\n      <td>Matam</td>\n      <td>PS Danthiady</td>\n      <td>MdLYr6myUuV</td>\n      <td>PS Danthiady</td>\n      <td>NaN</td>\n      <td>NaN</td>\n      <td>PS Danthiady</td>\n      <td>NaN</td>\n      <td>Matam</td>\n      <td>Matam</td>\n      <td>RM Matam</td>\n      <td>PS Danthiady</td>\n    </tr>\n  </tbody>\n</table>\n</div>"
     },
     "execution_count": 6,
     "metadata": {},
     "output_type": "execute_result"
    }
   ],
   "source": [
    "master_table.head(2)"
   ]
  },
  {
   "cell_type": "code",
   "execution_count": 7,
   "metadata": {
    "pycharm": {
     "name": "#%%\n"
    }
   },
   "outputs": [
    {
     "name": "stdout",
     "output_type": "stream",
     "text": [
      "Unique Level 2: 14\n",
      "Unique Level 3: 79\n",
      "Unique Level 4: 1779\n",
      "Unique Level 5: 1779\n"
     ]
    }
   ],
   "source": [
    "for org_lvl in range(2, num_org_levels+1):\n",
    "    print(f\"Unique Level {org_lvl}: {len(master_table[f'orgunitlevel{org_lvl}'].unique())}\")\n"
   ]
  },
  {
   "cell_type": "markdown",
   "metadata": {
    "pycharm": {
     "name": "#%% md\n"
    }
   },
   "source": [
    "# Match to locations from alternative sources based on facility name\n",
    "\n",
    "\n",
    "## Health Sites IO\n",
    "Import Health Sites from HealthSites.io  \n",
    "Health sites come in both a node and a way shapefile. You need to import both to get all the sites.\n",
    "\n",
    "In QGIS, I created centroids from the ways then merged it with the points.\n",
    "DLH Note: I didn't have access to this merge, so am using the nodes.shp only, for proof of concept\n",
    "\n",
    "https://healthsites.io/map?country=Liberia"
   ]
  },
  {
   "cell_type": "code",
   "execution_count": 8,
   "metadata": {
    "pycharm": {
     "name": "#%%\n"
    }
   },
   "outputs": [],
   "source": [
    "nodes_io = gpd.read_file(os.path.join(input_dir, \"healthsitesio\", country, f\"{country}-node.shp\"))\n",
    "nodes_io = nodes_io.loc[~nodes_io.name.isna()].copy()\n",
    "nodes_io['name'] = nodes_io['name'].str.lower()\n",
    "nodes_io.loc[:, \"is_point\"] = nodes_io.apply(lambda x: type(x.geometry)==Point, axis=1)"
   ]
  },
  {
   "cell_type": "code",
   "execution_count": 9,
   "metadata": {
    "pycharm": {
     "name": "#%%\n"
    }
   },
   "outputs": [
    {
     "data": {
      "text/plain": "0"
     },
     "execution_count": 9,
     "metadata": {},
     "output_type": "execute_result"
    }
   ],
   "source": [
    "len(nodes_io.loc[~nodes_io.is_point])"
   ]
  },
  {
   "cell_type": "code",
   "execution_count": 10,
   "metadata": {
    "pycharm": {
     "name": "#%%\n"
    }
   },
   "outputs": [
    {
     "data": {
      "text/plain": "True"
     },
     "execution_count": 10,
     "metadata": {},
     "output_type": "execute_result"
    }
   ],
   "source": [
    "len(nodes_io.loc[nodes_io.geometry.is_valid])==len(nodes_io)"
   ]
  },
  {
   "cell_type": "code",
   "execution_count": 11,
   "outputs": [],
   "source": [
    "records = master_table.copy()\n",
    "records['geocoding_method'] = \"None\"\n",
    "records['NAME'] = records[f'orgunitlevel{num_org_levels}'].str.lower()\n",
    "nodes_io = ppu.remove_words_df(nodes_io, 'name', words_to_remove)\n",
    "records = ppu.remove_words_df(records, 'NAME', words_to_remove)\n",
    "records = ppu.remove_from_front_df(records, 'NAME', words_to_remove=org_level_front_wtr)"
   ],
   "metadata": {
    "collapsed": false,
    "pycharm": {
     "name": "#%%\n"
    }
   }
  },
  {
   "cell_type": "code",
   "execution_count": 12,
   "metadata": {
    "pycharm": {
     "name": "#%%\n"
    }
   },
   "outputs": [
    {
     "name": "stderr",
     "output_type": "stream",
     "text": [
      "1736it [00:32, 53.48it/s]\n",
      "1736it [00:33, 52.50it/s]\n"
     ]
    }
   ],
   "source": [
    "\n",
    "\n",
    "for org_lev in range(4, num_org_levels+1):\n",
    "\n",
    "    for idx, row in tqdm(records.iterrows()):\n",
    "\n",
    "        # Check if there is another entry with location\n",
    "        match, score = ssu.match_name(row.NAME, list(nodes_io['name']), 80)\n",
    "    #     match, score = match_name(row.name_concat, list(nodes_io.name_concat), 85)\n",
    "\n",
    "        if score > 0:\n",
    "            #print(row.NAME, match)\n",
    "            matching_row = nodes_io.loc[nodes_io['name']==match].copy()\n",
    "            res = matching_row.iloc[0]\n",
    "\n",
    "            adm_idx = num_admin_levels\n",
    "            for geobIdx in range(num_admin_levels-1, -1, -1): # reverse loop\n",
    "                if f\"adm{adm_idx}\" in records.columns and not pd.isna(row[f\"adm{adm_idx}\"]):\n",
    "                    geob = geob_arr[geobIdx]\n",
    "                    adm = geob.loc[geob['shapeName'] == row[f'adm{adm_idx}']].copy()\n",
    "                    if adm.contains(res.geometry).values[0] == True:\n",
    "                        records.loc[idx, \"longitude\"] = res.geometry.x\n",
    "                        records.loc[idx, \"latitude\"] = res.geometry.y\n",
    "                        records.loc[idx, \"geocoding_method\"] = f\"Location from Health Sites IO and within admin {adm_idx}\"\n",
    "                adm_idx -= 1\n"
   ]
  },
  {
   "cell_type": "code",
   "execution_count": 13,
   "metadata": {
    "pycharm": {
     "name": "#%%\n"
    }
   },
   "outputs": [
    {
     "data": {
      "text/plain": "<pandas.io.formats.style.Styler at 0x1a2f9fb10>",
      "text/html": "<style type=\"text/css\">\n</style>\n<table id=\"T_4439e\">\n  <thead>\n    <tr>\n      <th class=\"blank level0\" >&nbsp;</th>\n      <th id=\"T_4439e_level0_col0\" class=\"col_heading level0 col0\" >count</th>\n      <th id=\"T_4439e_level0_col1\" class=\"col_heading level0 col1\" >pct</th>\n    </tr>\n    <tr>\n      <th class=\"index_name level0\" >geocoding_method</th>\n      <th class=\"blank col0\" >&nbsp;</th>\n      <th class=\"blank col1\" >&nbsp;</th>\n    </tr>\n  </thead>\n  <tbody>\n    <tr>\n      <th id=\"T_4439e_level0_row0\" class=\"row_heading level0 row0\" >Location from Health Sites IO and within admin 2</th>\n      <td id=\"T_4439e_row0_col0\" class=\"data row0 col0\" >11</td>\n      <td id=\"T_4439e_row0_col1\" class=\"data row0 col1\" >0.6%</td>\n    </tr>\n    <tr>\n      <th id=\"T_4439e_level0_row1\" class=\"row_heading level0 row1\" >None</th>\n      <td id=\"T_4439e_row1_col0\" class=\"data row1 col0\" >1725</td>\n      <td id=\"T_4439e_row1_col1\" class=\"data row1 col1\" >99.4%</td>\n    </tr>\n  </tbody>\n</table>\n"
     },
     "execution_count": 13,
     "metadata": {},
     "output_type": "execute_result"
    }
   ],
   "source": [
    "gcu.report_geocoding(records)"
   ]
  },
  {
   "cell_type": "markdown",
   "metadata": {
    "pycharm": {
     "name": "#%% md\n"
    }
   },
   "source": [
    "# Geocoding with APIs"
   ]
  },
  {
   "cell_type": "code",
   "execution_count": 1,
   "metadata": {
    "pycharm": {
     "name": "#%%\n"
    }
   },
   "outputs": [
    {
     "name": "stdout",
     "output_type": "stream",
     "text": [
      "\n"
     ]
    }
   ],
   "source": [
    "bing_key = os.environ.get(\"bing_key\")\n",
    "google_key = os.environ.get(\"google_key\")"
   ]
  },
  {
   "cell_type": "code",
   "execution_count": 15,
   "metadata": {
    "pycharm": {
     "name": "#%%\n"
    }
   },
   "outputs": [],
   "source": [
    "geolocator_osm = Nominatim(user_agent=\"health-equity\")\n",
    "geolocator_bing = Bing(api_key=bing_key)\n",
    "geolocator_google = GoogleV3(api_key=google_key)"
   ]
  },
  {
   "cell_type": "markdown",
   "metadata": {
    "pycharm": {
     "name": "#%% md\n"
    }
   },
   "source": [
    "## Facility name and admin 3 names"
   ]
  },
  {
   "cell_type": "markdown",
   "metadata": {
    "pycharm": {
     "name": "#%% md\n"
    }
   },
   "source": [
    "Geocode based on facility name (orgunitlevel5) + admin 3 name.  \n",
    "Check to make sure result falls within admin 3 polygon."
   ]
  },
  {
   "cell_type": "code",
   "execution_count": 16,
   "metadata": {
    "pycharm": {
     "name": "#%%\n"
    }
   },
   "outputs": [],
   "source": [
    "records_subset = records.loc[records.geocoding_method==\"None\"].copy()\n",
    "# only include trying to geocode rows that have an admin name that is matched to the Geoboundaries file\n",
    "records_subset = records_subset.loc[~records_subset[f\"adm{num_admin_levels}\"].isna()].copy()"
   ]
  },
  {
   "cell_type": "code",
   "execution_count": 17,
   "metadata": {
    "pycharm": {
     "name": "#%%\n"
    }
   },
   "outputs": [
    {
     "data": {
      "text/plain": "2"
     },
     "execution_count": 17,
     "metadata": {},
     "output_type": "execute_result"
    }
   ],
   "source": [
    "len(records_subset)"
   ]
  },
  {
   "cell_type": "code",
   "execution_count": 18,
   "metadata": {
    "pycharm": {
     "name": "#%%\n"
    }
   },
   "outputs": [
    {
     "data": {
      "text/plain": "      Unnamed: 0  index orgunitlevel1   orgunitlevel2 orgunitlevel3  \\\n81            81    510       Sénégal       RM Fatick       Diakhao   \n1717        1717  72529       Sénégal  RM Saint-Louis  Richard Toll   \n\n     orgunitlevel4 organisationunitid organisationunitname  \\\n81      Cs Diakhao        U7HoRcqOS1s           Cs Diakhao   \n1717           CSS        GwqvpB5dAn7                  CSS   \n\n     organisationunitcode organisationunitdescription orgunitlevel4_edit  \\\n81                    NaN                         NaN         Cs Diakhao   \n1717                  NaN                         NaN                CSS   \n\n         adm3 orgunitlevel3_edit adm2 orgunitlevel2_edit orgunitlevel5  \\\n81    Diakhao            Diakhao  NaN          RM Fatick    Cs Diakhao   \n1717  Niaguis       Richard Toll  NaN     RM Saint-Louis           CSS   \n\n     geocoding_method     NAME  longitude  latitude  \n81               None  diakhao        NaN       NaN  \n1717             None      css        NaN       NaN  ",
      "text/html": "<div>\n<style scoped>\n    .dataframe tbody tr th:only-of-type {\n        vertical-align: middle;\n    }\n\n    .dataframe tbody tr th {\n        vertical-align: top;\n    }\n\n    .dataframe thead th {\n        text-align: right;\n    }\n</style>\n<table border=\"1\" class=\"dataframe\">\n  <thead>\n    <tr style=\"text-align: right;\">\n      <th></th>\n      <th>Unnamed: 0</th>\n      <th>index</th>\n      <th>orgunitlevel1</th>\n      <th>orgunitlevel2</th>\n      <th>orgunitlevel3</th>\n      <th>orgunitlevel4</th>\n      <th>organisationunitid</th>\n      <th>organisationunitname</th>\n      <th>organisationunitcode</th>\n      <th>organisationunitdescription</th>\n      <th>orgunitlevel4_edit</th>\n      <th>adm3</th>\n      <th>orgunitlevel3_edit</th>\n      <th>adm2</th>\n      <th>orgunitlevel2_edit</th>\n      <th>orgunitlevel5</th>\n      <th>geocoding_method</th>\n      <th>NAME</th>\n      <th>longitude</th>\n      <th>latitude</th>\n    </tr>\n  </thead>\n  <tbody>\n    <tr>\n      <th>81</th>\n      <td>81</td>\n      <td>510</td>\n      <td>Sénégal</td>\n      <td>RM Fatick</td>\n      <td>Diakhao</td>\n      <td>Cs Diakhao</td>\n      <td>U7HoRcqOS1s</td>\n      <td>Cs Diakhao</td>\n      <td>NaN</td>\n      <td>NaN</td>\n      <td>Cs Diakhao</td>\n      <td>Diakhao</td>\n      <td>Diakhao</td>\n      <td>NaN</td>\n      <td>RM Fatick</td>\n      <td>Cs Diakhao</td>\n      <td>None</td>\n      <td>diakhao</td>\n      <td>NaN</td>\n      <td>NaN</td>\n    </tr>\n    <tr>\n      <th>1717</th>\n      <td>1717</td>\n      <td>72529</td>\n      <td>Sénégal</td>\n      <td>RM Saint-Louis</td>\n      <td>Richard Toll</td>\n      <td>CSS</td>\n      <td>GwqvpB5dAn7</td>\n      <td>CSS</td>\n      <td>NaN</td>\n      <td>NaN</td>\n      <td>CSS</td>\n      <td>Niaguis</td>\n      <td>Richard Toll</td>\n      <td>NaN</td>\n      <td>RM Saint-Louis</td>\n      <td>CSS</td>\n      <td>None</td>\n      <td>css</td>\n      <td>NaN</td>\n      <td>NaN</td>\n    </tr>\n  </tbody>\n</table>\n</div>"
     },
     "execution_count": 18,
     "metadata": {},
     "output_type": "execute_result"
    }
   ],
   "source": [
    "records_subset.head(2)"
   ]
  },
  {
   "cell_type": "code",
   "execution_count": 19,
   "metadata": {
    "code_folding": [],
    "scrolled": true,
    "pycharm": {
     "name": "#%%\n"
    }
   },
   "outputs": [
    {
     "name": "stdout",
     "output_type": "stream",
     "text": [
      "121\n",
      "Facility name and admin 3 names\n",
      "Items: ['diakhao', 'Diakhao']\n",
      "Num not found: 0\n",
      "Items: ['css', 'Niaguis']\n",
      "Num not found: 0\n",
      "Facility name and admin 2 names\n"
     ]
    }
   ],
   "source": [
    "smallest_geob = geob_arr[-1]\n",
    "print(len(smallest_geob))\n",
    "for adm_idx in range(num_admin_levels-1, -1, -1): # reverse order\n",
    "    admNum = adm_idx+1\n",
    "    if adm_idx > 0 and f'adm{admNum}' in records_subset.columns:\n",
    "\n",
    "        print(f\"Facility name and admin {admNum} names\")\n",
    "        for idx, row in records_subset.iterrows():\n",
    "            if  not pd.isna(row[f\"adm{admNum}\"]):\n",
    "                adm = smallest_geob.loc[smallest_geob['shapeName'] == row[f'adm{admNum}']].copy()\n",
    "\n",
    "                records = gcu.run_geocoding(idx, row, records, adm, ['NAME', f'adm{admNum}'], diso,\n",
    "                                            geolocator_bing, geolocator_osm, geolocator_google)\n",
    "\n",
    "\n",
    "            records_subset = records.loc[records.geocoding_method==\"None\"].copy()\n",
    "            records_subset = records_subset.loc[~records_subset[f\"adm{admNum}\"].isna()].copy()\n",
    "            if adm_idx -1 > 0  and f'adm{admNum-1}' in records_subset.columns:\n",
    "                records_subset = records_subset.loc[~records_subset[f\"adm{admNum-1}\"].isna()].copy()\n",
    "            print(f\"Num not found: {len(records_subset)}\")"
   ]
  },
  {
   "cell_type": "code",
   "execution_count": 20,
   "metadata": {
    "pycharm": {
     "name": "#%%\n"
    }
   },
   "outputs": [
    {
     "data": {
      "text/plain": "<pandas.io.formats.style.Styler at 0x1a3922990>",
      "text/html": "<style type=\"text/css\">\n</style>\n<table id=\"T_6295b\">\n  <thead>\n    <tr>\n      <th class=\"blank level0\" >&nbsp;</th>\n      <th id=\"T_6295b_level0_col0\" class=\"col_heading level0 col0\" >count</th>\n      <th id=\"T_6295b_level0_col1\" class=\"col_heading level0 col1\" >pct</th>\n    </tr>\n    <tr>\n      <th class=\"index_name level0\" >geocoding_method</th>\n      <th class=\"blank col0\" >&nbsp;</th>\n      <th class=\"blank col1\" >&nbsp;</th>\n    </tr>\n  </thead>\n  <tbody>\n    <tr>\n      <th id=\"T_6295b_level0_row0\" class=\"row_heading level0 row0\" >Location from Health Sites IO and within admin 2</th>\n      <td id=\"T_6295b_row0_col0\" class=\"data row0 col0\" >11</td>\n      <td id=\"T_6295b_row0_col1\" class=\"data row0 col1\" >0.6%</td>\n    </tr>\n    <tr>\n      <th id=\"T_6295b_level0_row1\" class=\"row_heading level0 row1\" >NAME and adm3 query Bing</th>\n      <td id=\"T_6295b_row1_col0\" class=\"data row1 col0\" >1</td>\n      <td id=\"T_6295b_row1_col1\" class=\"data row1 col1\" >0.1%</td>\n    </tr>\n    <tr>\n      <th id=\"T_6295b_level0_row2\" class=\"row_heading level0 row2\" >NAME and adm3 query OSM</th>\n      <td id=\"T_6295b_row2_col0\" class=\"data row2 col0\" >1</td>\n      <td id=\"T_6295b_row2_col1\" class=\"data row2 col1\" >0.1%</td>\n    </tr>\n    <tr>\n      <th id=\"T_6295b_level0_row3\" class=\"row_heading level0 row3\" >None</th>\n      <td id=\"T_6295b_row3_col0\" class=\"data row3 col0\" >1723</td>\n      <td id=\"T_6295b_row3_col1\" class=\"data row3 col1\" >99.3%</td>\n    </tr>\n  </tbody>\n</table>\n"
     },
     "execution_count": 20,
     "metadata": {},
     "output_type": "execute_result"
    }
   ],
   "source": [
    "gcu.report_geocoding(records)"
   ]
  },
  {
   "cell_type": "markdown",
   "metadata": {
    "pycharm": {
     "name": "#%% md\n"
    }
   },
   "source": [
    "## Orgunitlevel5 names"
   ]
  },
  {
   "cell_type": "markdown",
   "metadata": {
    "pycharm": {
     "name": "#%% md\n"
    }
   },
   "source": [
    "Geocode based on orgunitlevel 5 name.  \n",
    "Check to make sure result falls within admin 3 polygon.  "
   ]
  },
  {
   "cell_type": "code",
   "execution_count": 21,
   "metadata": {
    "pycharm": {
     "name": "#%%\n"
    }
   },
   "outputs": [],
   "source": [
    "records['NAME5'] = records['orgunitlevel5'].str.lower()\n",
    "ppu.remove_words(records, 'NAME5', words_to_remove)\n",
    "\n",
    "records_subset = records.loc[records.geocoding_method==\"None\"].copy()\n",
    "records_subset = records_subset.loc[~records_subset[f\"adm{num_admin_levels}\"].isna()].copy()"
   ]
  },
  {
   "cell_type": "code",
   "execution_count": 22,
   "metadata": {
    "pycharm": {
     "name": "#%%\n"
    }
   },
   "outputs": [
    {
     "name": "stdout",
     "output_type": "stream",
     "text": [
      "Geocoding for org level 5\n",
      "Num recs at org level 5: 0\n",
      "Cols: Index(['orgunitlevel5', 'NAME5', 'adm3', 'orgunitlevel1', 'geocoding_method'], dtype='object')\n",
      "Series([], Name: geocoding_method, dtype: int64)\n"
     ]
    },
    {
     "name": "stderr",
     "output_type": "stream",
     "text": [
      "0it [00:00, ?it/s]\n"
     ]
    },
    {
     "name": "stdout",
     "output_type": "stream",
     "text": [
      "Geocoding for org level 4\n",
      "Num recs at org level 4: 0\n",
      "Cols: Index(['orgunitlevel4', 'NAME5', 'adm3', 'orgunitlevel1', 'geocoding_method'], dtype='object')\n",
      "Series([], Name: geocoding_method, dtype: int64)\n"
     ]
    },
    {
     "name": "stderr",
     "output_type": "stream",
     "text": [
      "0it [00:00, ?it/s]\n"
     ]
    }
   ],
   "source": [
    "admNum = num_admin_levels\n",
    "\n",
    "for org_idx in range(num_org_levels, -1, -1): # reverse order\n",
    "    if org_idx > 3:\n",
    "        the_cols = ['NAME5', f'adm{admNum}'] if org_idx == 5 else ['NAME5', f'orgunitlevel{org_idx}']\n",
    "        print(f\"Geocoding for org level {org_idx}\")\n",
    "        orglev_df = records_subset[[f'orgunitlevel{org_idx}', 'NAME5', f'adm{admNum}', 'orgunitlevel1', 'geocoding_method']].drop_duplicates().copy()\n",
    "        print(f\"Num recs at org level {org_idx}: {len(orglev_df)}\")\n",
    "        print(f\"Cols: {orglev_df.columns}\")\n",
    "        for idx, row in orglev_df.iterrows():\n",
    "\n",
    "            adm = smallest_geob.loc[smallest_geob['shapeName'] == row[f'adm{admNum}']].copy()\n",
    "            #print(len(adm))\n",
    "            orglev_df = gcu.run_geocoding(idx, row, orglev_df, adm, the_cols, diso,\n",
    "                              geolocator_bing, geolocator_osm, geolocator_google)\n",
    "        print(orglev_df.geocoding_method.value_counts())\n",
    "\n",
    "        for idx, row in tqdm(records_subset.iterrows()):\n",
    "            if org_idx == num_org_levels:\n",
    "                orglev_geocoded = orglev_df.loc[orglev_df['NAME5']==row['NAME5']].iloc[0]\n",
    "                records.loc[idx, \"longitude\"] = orglev_geocoded.longitude\n",
    "                records.loc[idx, \"latitude\"] = orglev_geocoded.latitude\n",
    "                records.loc[idx, \"geocoding_method\"] = orglev_geocoded.geocoding_method\n",
    "            else:\n",
    "                if row.geocoding_method ==\"None\":\n",
    "                    cent = adm.geometry.representative_point().iloc[0]\n",
    "                    records.loc[idx, \"longitude\"] = cent.x\n",
    "                    records.loc[idx, \"latitude\"] = cent.y\n",
    "                    records.loc[idx, \"geocoding_method\"] = \"District centroid\"\n",
    "\n",
    "        records_subset = records.loc[records.geocoding_method==\"None\"].copy()\n",
    "        records_subset = records_subset.loc[~records_subset[f\"adm{admNum}\"].isna()].copy()"
   ]
  },
  {
   "cell_type": "code",
   "execution_count": 23,
   "metadata": {
    "pycharm": {
     "name": "#%%\n"
    }
   },
   "outputs": [
    {
     "data": {
      "text/plain": "<pandas.io.formats.style.Styler at 0x1a3877bd0>",
      "text/html": "<style type=\"text/css\">\n</style>\n<table id=\"T_66556\">\n  <thead>\n    <tr>\n      <th class=\"blank level0\" >&nbsp;</th>\n      <th id=\"T_66556_level0_col0\" class=\"col_heading level0 col0\" >count</th>\n      <th id=\"T_66556_level0_col1\" class=\"col_heading level0 col1\" >pct</th>\n    </tr>\n    <tr>\n      <th class=\"index_name level0\" >geocoding_method</th>\n      <th class=\"blank col0\" >&nbsp;</th>\n      <th class=\"blank col1\" >&nbsp;</th>\n    </tr>\n  </thead>\n  <tbody>\n    <tr>\n      <th id=\"T_66556_level0_row0\" class=\"row_heading level0 row0\" >Location from Health Sites IO and within admin 2</th>\n      <td id=\"T_66556_row0_col0\" class=\"data row0 col0\" >11</td>\n      <td id=\"T_66556_row0_col1\" class=\"data row0 col1\" >0.6%</td>\n    </tr>\n    <tr>\n      <th id=\"T_66556_level0_row1\" class=\"row_heading level0 row1\" >NAME and adm3 query Bing</th>\n      <td id=\"T_66556_row1_col0\" class=\"data row1 col0\" >1</td>\n      <td id=\"T_66556_row1_col1\" class=\"data row1 col1\" >0.1%</td>\n    </tr>\n    <tr>\n      <th id=\"T_66556_level0_row2\" class=\"row_heading level0 row2\" >NAME and adm3 query OSM</th>\n      <td id=\"T_66556_row2_col0\" class=\"data row2 col0\" >1</td>\n      <td id=\"T_66556_row2_col1\" class=\"data row2 col1\" >0.1%</td>\n    </tr>\n    <tr>\n      <th id=\"T_66556_level0_row3\" class=\"row_heading level0 row3\" >None</th>\n      <td id=\"T_66556_row3_col0\" class=\"data row3 col0\" >1723</td>\n      <td id=\"T_66556_row3_col1\" class=\"data row3 col1\" >99.3%</td>\n    </tr>\n  </tbody>\n</table>\n"
     },
     "execution_count": 23,
     "metadata": {},
     "output_type": "execute_result"
    }
   ],
   "source": [
    "gcu.report_geocoding(records)"
   ]
  },
  {
   "cell_type": "markdown",
   "metadata": {
    "pycharm": {
     "name": "#%% md\n"
    }
   },
   "source": [
    "## Admin 3  and admin 2 names"
   ]
  },
  {
   "cell_type": "code",
   "execution_count": 24,
   "metadata": {
    "pycharm": {
     "name": "#%%\n"
    }
   },
   "outputs": [
    {
     "name": "stdout",
     "output_type": "stream",
     "text": [
      "Geoboundary idx: 2\n",
      "Length of recs to check: 1213\n"
     ]
    },
    {
     "name": "stderr",
     "output_type": "stream",
     "text": [
      "0it [00:00, ?it/s]"
     ]
    },
    {
     "name": "stdout",
     "output_type": "stream",
     "text": [
      "Error getting bounds for: Series([], Name: shapeName, dtype: object)\n",
      "Items: ['CS Gueoul', 'Kebemer']\n"
     ]
    },
    {
     "name": "stderr",
     "output_type": "stream",
     "text": [
      "1it [00:00,  3.07it/s]"
     ]
    },
    {
     "name": "stdout",
     "output_type": "stream",
     "text": [
      "Didn't find with BING or OSM, no bounding box for Google\n",
      "Error getting bounds for: Series([], Name: shapeName, dtype: object)\n",
      "Items: ['PS Danthiady', 'Matam']\n"
     ]
    },
    {
     "name": "stderr",
     "output_type": "stream",
     "text": [
      "2it [00:00,  2.32it/s]"
     ]
    },
    {
     "name": "stdout",
     "output_type": "stream",
     "text": [
      "Didn't find with BING or OSM, no bounding box for Google\n",
      "Error getting bounds for: Series([], Name: shapeName, dtype: object)\n",
      "Items: ['PS Darou Mbapp', 'Ranerou']\n"
     ]
    },
    {
     "name": "stderr",
     "output_type": "stream",
     "text": [
      "3it [00:01,  2.02it/s]"
     ]
    },
    {
     "name": "stdout",
     "output_type": "stream",
     "text": [
      "Didn't find with BING or OSM, no bounding box for Google\n",
      "Error getting bounds for: Series([], Name: shapeName, dtype: object)\n",
      "Items: ['PS Dinguiraye', 'Ranerou']\n"
     ]
    },
    {
     "name": "stderr",
     "output_type": "stream",
     "text": [
      "4it [00:01,  2.11it/s]"
     ]
    },
    {
     "name": "stdout",
     "output_type": "stream",
     "text": [
      "Didn't find with BING or OSM, no bounding box for Google\n",
      "Error getting bounds for: Series([], Name: shapeName, dtype: object)\n",
      "Items: ['PS Falifa', 'Ranerou']\n"
     ]
    },
    {
     "name": "stderr",
     "output_type": "stream",
     "text": [
      "5it [00:02,  1.92it/s]"
     ]
    },
    {
     "name": "stdout",
     "output_type": "stream",
     "text": [
      "Didn't find with BING or OSM, no bounding box for Google\n",
      "Error getting bounds for: Series([], Name: shapeName, dtype: object)\n",
      "Items: ['PS Mme Elisabeth Diouf', 'Diourbel']\n"
     ]
    },
    {
     "name": "stderr",
     "output_type": "stream",
     "text": [
      "6it [00:02,  2.09it/s]"
     ]
    },
    {
     "name": "stdout",
     "output_type": "stream",
     "text": [
      "Didn't find with BING or OSM, no bounding box for Google\n",
      "Error getting bounds for: Series([], Name: shapeName, dtype: object)\n",
      "Items: ['PS Ndondol', 'Bambey']\n"
     ]
    },
    {
     "name": "stderr",
     "output_type": "stream",
     "text": [
      "7it [00:03,  2.06it/s]"
     ]
    },
    {
     "name": "stdout",
     "output_type": "stream",
     "text": [
      "Didn't find with BING or OSM, no bounding box for Google\n",
      "Error getting bounds for: Series([], Name: shapeName, dtype: object)\n",
      "Items: ['PS Ngodiba', 'Kaffrine']\n"
     ]
    },
    {
     "name": "stderr",
     "output_type": "stream",
     "text": [
      "8it [00:03,  2.06it/s]"
     ]
    },
    {
     "name": "stdout",
     "output_type": "stream",
     "text": [
      "Didn't find with BING or OSM, no bounding box for Google\n",
      "Error getting bounds for: Series([], Name: shapeName, dtype: object)\n",
      "Items: ['PS Sibassor', 'Kaolack']\n"
     ]
    },
    {
     "name": "stderr",
     "output_type": "stream",
     "text": [
      "9it [00:04,  1.98it/s]"
     ]
    },
    {
     "name": "stdout",
     "output_type": "stream",
     "text": [
      "Didn't find with BING or OSM, no bounding box for Google\n",
      "Error getting bounds for: Series([], Name: shapeName, dtype: object)\n",
      "Items: ['A SEYNABOU FALL', 'Pikine']\n"
     ]
    },
    {
     "name": "stderr",
     "output_type": "stream",
     "text": [
      "10it [00:04,  2.03it/s]"
     ]
    },
    {
     "name": "stdout",
     "output_type": "stream",
     "text": [
      "Didn't find with BING or OSM, no bounding box for Google\n",
      "Error getting bounds for: Series([], Name: shapeName, dtype: object)\n",
      "Items: ['AMA (Agence des Musulmans d’Afrique)', 'Sedhiou']\n"
     ]
    },
    {
     "name": "stderr",
     "output_type": "stream",
     "text": [
      "11it [00:05,  2.02it/s]"
     ]
    },
    {
     "name": "stdout",
     "output_type": "stream",
     "text": [
      "Didn't find with BING or OSM, no bounding box for Google\n",
      "Error getting bounds for: Series([], Name: shapeName, dtype: object)\n",
      "Items: ['ASBEF', 'Louga']\n"
     ]
    },
    {
     "name": "stderr",
     "output_type": "stream",
     "text": [
      "12it [00:05,  1.94it/s]"
     ]
    },
    {
     "name": "stdout",
     "output_type": "stream",
     "text": [
      "Didn't find with BING or OSM, no bounding box for Google\n",
      "Error getting bounds for: Series([], Name: shapeName, dtype: object)\n",
      "Items: ['Cabinet Paramedical Adja Khady Thom', 'Kaolack']\n"
     ]
    },
    {
     "name": "stderr",
     "output_type": "stream",
     "text": [
      "13it [00:06,  2.10it/s]"
     ]
    },
    {
     "name": "stdout",
     "output_type": "stream",
     "text": [
      "Didn't find with BING or OSM, no bounding box for Google\n",
      "Error getting bounds for: Series([], Name: shapeName, dtype: object)\n",
      "Items: ['Cabinet Paramedical Baba Top', 'Kaolack']\n"
     ]
    },
    {
     "name": "stderr",
     "output_type": "stream",
     "text": [
      "14it [00:06,  1.96it/s]"
     ]
    },
    {
     "name": "stdout",
     "output_type": "stream",
     "text": [
      "Didn't find with BING or OSM, no bounding box for Google\n",
      "Error getting bounds for: Series([], Name: shapeName, dtype: object)\n",
      "Items: ['Cabinet Paramedical Binetou Rassoul', 'Kaolack']\n"
     ]
    },
    {
     "name": "stderr",
     "output_type": "stream",
     "text": [
      "15it [00:07,  2.09it/s]"
     ]
    },
    {
     "name": "stdout",
     "output_type": "stream",
     "text": [
      "Didn't find with BING or OSM, no bounding box for Google\n",
      "Error getting bounds for: Series([], Name: shapeName, dtype: object)\n",
      "Items: ['Cabinet Paramedical Pape Omar Diouf', 'Kaolack']\n"
     ]
    },
    {
     "name": "stderr",
     "output_type": "stream",
     "text": [
      "16it [00:07,  2.04it/s]"
     ]
    },
    {
     "name": "stdout",
     "output_type": "stream",
     "text": [
      "Didn't find with BING or OSM, no bounding box for Google\n",
      "Error getting bounds for: Series([], Name: shapeName, dtype: object)\n",
      "Items: ['Cabinet Paramedical Yacine Dieye', 'Kaolack']\n"
     ]
    },
    {
     "name": "stderr",
     "output_type": "stream",
     "text": [
      "17it [00:08,  2.00it/s]"
     ]
    },
    {
     "name": "stdout",
     "output_type": "stream",
     "text": [
      "Didn't find with BING or OSM, no bounding box for Google\n",
      "Error getting bounds for: Series([], Name: shapeName, dtype: object)\n",
      "Items: ['Cabinet Paramedical Yaye Amy', 'Kaolack']\n"
     ]
    },
    {
     "name": "stderr",
     "output_type": "stream",
     "text": [
      "18it [00:08,  1.99it/s]"
     ]
    },
    {
     "name": "stdout",
     "output_type": "stream",
     "text": [
      "Didn't find with BING or OSM, no bounding box for Google\n",
      "Error getting bounds for: Series([], Name: shapeName, dtype: object)\n",
      "Items: ['Cabinet paramédical sokhna Néné Bâ', 'Diourbel']\n"
     ]
    },
    {
     "name": "stderr",
     "output_type": "stream",
     "text": [
      "19it [00:09,  1.87it/s]"
     ]
    },
    {
     "name": "stdout",
     "output_type": "stream",
     "text": [
      "Didn't find with BING or OSM, no bounding box for Google\n",
      "Items: ['Cabinet Privé Bamtare', 'Guediawaye']\n"
     ]
    },
    {
     "name": "stderr",
     "output_type": "stream",
     "text": [
      "20it [00:09,  2.04it/s]"
     ]
    },
    {
     "name": "stdout",
     "output_type": "stream",
     "text": [
      "Items: ['Cabinet Privé Communautaire AcDev', 'Guediawaye']\n"
     ]
    },
    {
     "name": "stderr",
     "output_type": "stream",
     "text": [
      "21it [00:10,  2.02it/s]"
     ]
    },
    {
     "name": "stdout",
     "output_type": "stream",
     "text": [
      "Items: ['Cabinet Privé Communautaire Golf Sud', 'Guediawaye']\n"
     ]
    },
    {
     "name": "stderr",
     "output_type": "stream",
     "text": [
      "22it [00:10,  1.96it/s]"
     ]
    },
    {
     "name": "stdout",
     "output_type": "stream",
     "text": [
      "Items: ['Cabinet Privée Ma Salam', 'Guediawaye']\n"
     ]
    },
    {
     "name": "stderr",
     "output_type": "stream",
     "text": [
      "23it [00:11,  1.96it/s]"
     ]
    },
    {
     "name": "stdout",
     "output_type": "stream",
     "text": [
      "Items: ['Caisse de Securite Sociale', 'Guediawaye']\n"
     ]
    },
    {
     "name": "stderr",
     "output_type": "stream",
     "text": [
      "24it [00:11,  2.05it/s]"
     ]
    },
    {
     "name": "stdout",
     "output_type": "stream",
     "text": [
      "Error getting bounds for: Series([], Name: shapeName, dtype: object)\n",
      "Items: ['Centre Medical SOS', 'Kaolack']\n"
     ]
    },
    {
     "name": "stderr",
     "output_type": "stream",
     "text": [
      "25it [00:12,  1.63it/s]"
     ]
    },
    {
     "name": "stdout",
     "output_type": "stream",
     "text": [
      "Didn't find with BING or OSM, no bounding box for Google\n",
      "Error getting bounds for: Series([], Name: shapeName, dtype: object)\n",
      "Items: ['Centre Medico-Social Ben Anas', 'Kaolack']\n"
     ]
    },
    {
     "name": "stderr",
     "output_type": "stream",
     "text": [
      "26it [00:13,  1.87it/s]"
     ]
    },
    {
     "name": "stdout",
     "output_type": "stream",
     "text": [
      "Didn't find with BING or OSM, no bounding box for Google\n",
      "Error getting bounds for: Series([], Name: shapeName, dtype: object)\n",
      "Items: ['Clinique Bodian', 'Kaolack']\n"
     ]
    },
    {
     "name": "stderr",
     "output_type": "stream",
     "text": [
      "27it [00:13,  1.96it/s]"
     ]
    },
    {
     "name": "stdout",
     "output_type": "stream",
     "text": [
      "Didn't find with BING or OSM, no bounding box for Google\n",
      "Error getting bounds for: Series([], Name: shapeName, dtype: object)\n",
      "Items: ['Clinique Diarama', 'Kaolack']\n"
     ]
    },
    {
     "name": "stderr",
     "output_type": "stream",
     "text": [
      "28it [00:14,  1.95it/s]"
     ]
    },
    {
     "name": "stdout",
     "output_type": "stream",
     "text": [
      "Didn't find with BING or OSM, no bounding box for Google\n",
      "Error getting bounds for: Series([], Name: shapeName, dtype: object)\n",
      "Items: ['Clinique Jaboot Mu Selami Dr Boucal', 'Kaolack']\n"
     ]
    },
    {
     "name": "stderr",
     "output_type": "stream",
     "text": [
      "29it [00:14,  1.93it/s]"
     ]
    },
    {
     "name": "stdout",
     "output_type": "stream",
     "text": [
      "Didn't find with BING or OSM, no bounding box for Google\n",
      "Error getting bounds for: Series([], Name: shapeName, dtype: object)\n",
      "Items: ['Clinique K Ababacar Sy', 'Tivaoune']\n"
     ]
    },
    {
     "name": "stderr",
     "output_type": "stream",
     "text": [
      "30it [00:14,  2.06it/s]"
     ]
    },
    {
     "name": "stdout",
     "output_type": "stream",
     "text": [
      "Didn't find with BING or OSM, no bounding box for Google\n",
      "Error getting bounds for: Series([], Name: shapeName, dtype: object)\n",
      "Items: ['Clinique Lampe Fall', 'Kaolack']\n"
     ]
    },
    {
     "name": "stderr",
     "output_type": "stream",
     "text": [
      "31it [00:15,  2.10it/s]"
     ]
    },
    {
     "name": "stdout",
     "output_type": "stream",
     "text": [
      "Didn't find with BING or OSM, no bounding box for Google\n",
      "Error getting bounds for: Series([], Name: shapeName, dtype: object)\n",
      "Items: ['Clinique Lansar Pikine', 'Pikine']\n"
     ]
    },
    {
     "name": "stderr",
     "output_type": "stream",
     "text": [
      "32it [00:15,  2.00it/s]"
     ]
    },
    {
     "name": "stdout",
     "output_type": "stream",
     "text": [
      "Didn't find with BING or OSM, no bounding box for Google\n",
      "Error getting bounds for: Series([], Name: shapeName, dtype: object)\n",
      "Items: ['Clinique Ndiaye', 'Saint Louis']\n"
     ]
    },
    {
     "name": "stderr",
     "output_type": "stream",
     "text": [
      "33it [00:16,  2.00it/s]"
     ]
    },
    {
     "name": "stdout",
     "output_type": "stream",
     "text": [
      "Didn't find with BING or OSM, no bounding box for Google\n",
      "Items: ['Clinique Privé Thieno Kandji', 'Guediawaye']\n"
     ]
    },
    {
     "name": "stderr",
     "output_type": "stream",
     "text": [
      "34it [00:16,  2.03it/s]"
     ]
    },
    {
     "name": "stdout",
     "output_type": "stream",
     "text": [
      "Error getting bounds for: Series([], Name: shapeName, dtype: object)\n",
      "Items: ['Clinique Sarr', 'Tivaoune']\n"
     ]
    },
    {
     "name": "stderr",
     "output_type": "stream",
     "text": [
      "35it [00:17,  1.95it/s]"
     ]
    },
    {
     "name": "stdout",
     "output_type": "stream",
     "text": [
      "Didn't find with BING or OSM, no bounding box for Google\n",
      "Error getting bounds for: Series([], Name: shapeName, dtype: object)\n",
      "Items: ['Clinique shiffah', 'Kaolack']\n"
     ]
    },
    {
     "name": "stderr",
     "output_type": "stream",
     "text": [
      "36it [00:18,  1.95it/s]"
     ]
    },
    {
     "name": "stdout",
     "output_type": "stream",
     "text": [
      "Didn't find with BING or OSM, no bounding box for Google\n",
      "Error getting bounds for: Series([], Name: shapeName, dtype: object)\n",
      "Items: ['Croix Rouge', 'Diourbel']\n"
     ]
    },
    {
     "name": "stderr",
     "output_type": "stream",
     "text": [
      "37it [00:18,  2.05it/s]"
     ]
    },
    {
     "name": "stdout",
     "output_type": "stream",
     "text": [
      "Didn't find with BING or OSM, no bounding box for Google\n",
      "Items: ['Croix Rouge HLM Paris', 'Guediawaye']\n"
     ]
    },
    {
     "name": "stderr",
     "output_type": "stream",
     "text": [
      "38it [00:19,  1.92it/s]"
     ]
    },
    {
     "name": "stdout",
     "output_type": "stream",
     "text": [
      "Error getting bounds for: Series([], Name: shapeName, dtype: object)\n",
      "Items: ['CS 10ème de THIES', 'Thies']\n"
     ]
    },
    {
     "name": "stderr",
     "output_type": "stream",
     "text": [
      "39it [00:19,  2.04it/s]"
     ]
    },
    {
     "name": "stdout",
     "output_type": "stream",
     "text": [
      "Didn't find with BING or OSM, no bounding box for Google\n",
      "Error getting bounds for: Series([], Name: shapeName, dtype: object)\n",
      "Items: ['CS Bakel', 'Bakel']\n"
     ]
    },
    {
     "name": "stderr",
     "output_type": "stream",
     "text": [
      "40it [00:20,  1.99it/s]"
     ]
    },
    {
     "name": "stdout",
     "output_type": "stream",
     "text": [
      "Didn't find with BING or OSM, no bounding box for Google\n",
      "Error getting bounds for: Series([], Name: shapeName, dtype: object)\n",
      "Items: ['CS BALA', 'Goudiry']\n"
     ]
    },
    {
     "name": "stderr",
     "output_type": "stream",
     "text": [
      "41it [00:20,  1.91it/s]"
     ]
    },
    {
     "name": "stdout",
     "output_type": "stream",
     "text": [
      "Didn't find with BING or OSM, no bounding box for Google\n",
      "Error getting bounds for: Series([], Name: shapeName, dtype: object)\n",
      "Items: ['CS Bambaly', 'Sedhiou']\n"
     ]
    },
    {
     "name": "stderr",
     "output_type": "stream",
     "text": [
      "42it [00:20,  2.08it/s]"
     ]
    },
    {
     "name": "stdout",
     "output_type": "stream",
     "text": [
      "Didn't find with BING or OSM, no bounding box for Google\n",
      "Error getting bounds for: Series([], Name: shapeName, dtype: object)\n",
      "Items: ['CS Bambey', 'Bambey']\n"
     ]
    },
    {
     "name": "stderr",
     "output_type": "stream",
     "text": [
      "43it [00:21,  2.00it/s]"
     ]
    },
    {
     "name": "stdout",
     "output_type": "stream",
     "text": [
      "Didn't find with BING or OSM, no bounding box for Google\n",
      "Error getting bounds for: Series([], Name: shapeName, dtype: object)\n",
      "Items: ['CS Bignona', 'Bignona']\n"
     ]
    },
    {
     "name": "stderr",
     "output_type": "stream",
     "text": [
      "44it [00:22,  1.98it/s]"
     ]
    },
    {
     "name": "stdout",
     "output_type": "stream",
     "text": [
      "Didn't find with BING or OSM, no bounding box for Google\n",
      "Error getting bounds for: Series([], Name: shapeName, dtype: object)\n",
      "Items: ['CS Bounkiling', 'Bounkiling']\n"
     ]
    },
    {
     "name": "stderr",
     "output_type": "stream",
     "text": [
      "45it [00:22,  2.05it/s]"
     ]
    },
    {
     "name": "stdout",
     "output_type": "stream",
     "text": [
      "Didn't find with BING or OSM, no bounding box for Google\n",
      "Error getting bounds for: Series([], Name: shapeName, dtype: object)\n",
      "Items: ['CS Dagana', 'Dagana']\n"
     ]
    },
    {
     "name": "stderr",
     "output_type": "stream",
     "text": [
      "46it [00:23,  1.93it/s]"
     ]
    },
    {
     "name": "stdout",
     "output_type": "stream",
     "text": [
      "Didn't find with BING or OSM, no bounding box for Google\n",
      "Error getting bounds for: Series([], Name: shapeName, dtype: object)\n",
      "Items: ['CS Dahra', 'Dakar']\n"
     ]
    },
    {
     "name": "stderr",
     "output_type": "stream",
     "text": [
      "47it [00:23,  2.03it/s]"
     ]
    },
    {
     "name": "stdout",
     "output_type": "stream",
     "text": [
      "Didn't find with BING or OSM, no bounding box for Google\n",
      "Error getting bounds for: Series([], Name: shapeName, dtype: object)\n",
      "Items: ['CS de Kaffrine', 'Kaffrine']\n"
     ]
    },
    {
     "name": "stderr",
     "output_type": "stream",
     "text": [
      "48it [00:24,  1.88it/s]"
     ]
    },
    {
     "name": "stdout",
     "output_type": "stream",
     "text": [
      "Didn't find with BING or OSM, no bounding box for Google\n",
      "Error getting bounds for: Series([], Name: shapeName, dtype: object)\n",
      "Items: ['CS de Mbirkilane', 'Birkelane']\n"
     ]
    },
    {
     "name": "stderr",
     "output_type": "stream",
     "text": [
      "49it [00:24,  2.04it/s]"
     ]
    },
    {
     "name": "stdout",
     "output_type": "stream",
     "text": [
      "Didn't find with BING or OSM, no bounding box for Google\n",
      "Error getting bounds for: Series([], Name: shapeName, dtype: object)\n",
      "Items: ['CS Diamniadio', 'Tambacounda']\n"
     ]
    },
    {
     "name": "stderr",
     "output_type": "stream",
     "text": [
      "50it [00:25,  2.03it/s]"
     ]
    },
    {
     "name": "stdout",
     "output_type": "stream",
     "text": [
      "Didn't find with BING or OSM, no bounding box for Google\n",
      "Error getting bounds for: Series([], Name: shapeName, dtype: object)\n",
      "Items: ['CS Diourbel', 'Diourbel']\n"
     ]
    },
    {
     "name": "stderr",
     "output_type": "stream",
     "text": [
      "51it [00:25,  2.02it/s]"
     ]
    },
    {
     "name": "stdout",
     "output_type": "stream",
     "text": [
      "Didn't find with BING or OSM, no bounding box for Google\n",
      "Error getting bounds for: Series([], Name: shapeName, dtype: object)\n",
      "Items: ['CS Dominique', 'Pikine']\n"
     ]
    },
    {
     "name": "stderr",
     "output_type": "stream",
     "text": [
      "52it [00:26,  2.01it/s]"
     ]
    },
    {
     "name": "stdout",
     "output_type": "stream",
     "text": [
      "Didn't find with BING or OSM, no bounding box for Google\n",
      "Error getting bounds for: Series([], Name: shapeName, dtype: object)\n",
      "Items: ['CS Fatick', 'Fatick']\n"
     ]
    },
    {
     "name": "stderr",
     "output_type": "stream",
     "text": [
      "53it [00:26,  1.99it/s]"
     ]
    },
    {
     "name": "stdout",
     "output_type": "stream",
     "text": [
      "Didn't find with BING or OSM, no bounding box for Google\n",
      "Error getting bounds for: Series([], Name: shapeName, dtype: object)\n",
      "Items: ['CS Foundiougne', 'Foundiougne']\n"
     ]
    },
    {
     "name": "stderr",
     "output_type": "stream",
     "text": [
      "54it [00:27,  1.85it/s]"
     ]
    },
    {
     "name": "stdout",
     "output_type": "stream",
     "text": [
      "Didn't find with BING or OSM, no bounding box for Google\n",
      "Error getting bounds for: Series([], Name: shapeName, dtype: object)\n",
      "Items: ['CS Galoya', 'Podor']\n"
     ]
    },
    {
     "name": "stderr",
     "output_type": "stream",
     "text": [
      "55it [00:27,  2.06it/s]"
     ]
    },
    {
     "name": "stdout",
     "output_type": "stream",
     "text": [
      "Didn't find with BING or OSM, no bounding box for Google\n",
      "Error getting bounds for: Series([], Name: shapeName, dtype: object)\n",
      "Items: ['CS Gossas', 'Gossas']\n"
     ]
    },
    {
     "name": "stderr",
     "output_type": "stream",
     "text": [
      "56it [00:28,  1.92it/s]"
     ]
    },
    {
     "name": "stdout",
     "output_type": "stream",
     "text": [
      "Didn't find with BING or OSM, no bounding box for Google\n",
      "Error getting bounds for: Series([], Name: shapeName, dtype: object)\n",
      "Items: ['CS Goudiry', 'Goudiry']\n"
     ]
    },
    {
     "name": "stderr",
     "output_type": "stream",
     "text": [
      "57it [00:28,  2.10it/s]"
     ]
    },
    {
     "name": "stdout",
     "output_type": "stream",
     "text": [
      "Didn't find with BING or OSM, no bounding box for Google\n",
      "Error getting bounds for: Series([], Name: shapeName, dtype: object)\n",
      "Items: ['CS Goudomp', 'Goudomp']\n"
     ]
    },
    {
     "name": "stderr",
     "output_type": "stream",
     "text": [
      "58it [00:29,  1.90it/s]"
     ]
    },
    {
     "name": "stdout",
     "output_type": "stream",
     "text": [
      "Didn't find with BING or OSM, no bounding box for Google\n",
      "Error getting bounds for: Series([], Name: shapeName, dtype: object)\n",
      "Items: ['CS Guinguineo', 'Guinguineo']\n"
     ]
    },
    {
     "name": "stderr",
     "output_type": "stream",
     "text": [
      "59it [00:29,  2.15it/s]"
     ]
    },
    {
     "name": "stdout",
     "output_type": "stream",
     "text": [
      "Didn't find with BING or OSM, no bounding box for Google\n",
      "Error getting bounds for: Series([], Name: shapeName, dtype: object)\n",
      "Items: ['CS Hamady Ounare', 'Kanel']\n"
     ]
    },
    {
     "name": "stderr",
     "output_type": "stream",
     "text": [
      "60it [00:30,  2.04it/s]"
     ]
    },
    {
     "name": "stdout",
     "output_type": "stream",
     "text": [
      "Didn't find with BING or OSM, no bounding box for Google\n",
      "Error getting bounds for: Series([], Name: shapeName, dtype: object)\n",
      "Items: ['CS Kanel', 'Kanel']\n"
     ]
    },
    {
     "name": "stderr",
     "output_type": "stream",
     "text": [
      "61it [00:30,  2.02it/s]"
     ]
    },
    {
     "name": "stdout",
     "output_type": "stream",
     "text": [
      "Didn't find with BING or OSM, no bounding box for Google\n",
      "Error getting bounds for: Series([], Name: shapeName, dtype: object)\n",
      "Items: ['CS Kasnack', 'Kaolack']\n"
     ]
    },
    {
     "name": "stderr",
     "output_type": "stream",
     "text": [
      "62it [00:31,  1.96it/s]"
     ]
    },
    {
     "name": "stdout",
     "output_type": "stream",
     "text": [
      "Didn't find with BING or OSM, no bounding box for Google\n",
      "Error getting bounds for: Series([], Name: shapeName, dtype: object)\n",
      "Items: ['CS Kebemer', 'Kebemer']\n"
     ]
    },
    {
     "name": "stderr",
     "output_type": "stream",
     "text": [
      "63it [00:31,  2.09it/s]"
     ]
    },
    {
     "name": "stdout",
     "output_type": "stream",
     "text": [
      "Didn't find with BING or OSM, no bounding box for Google\n",
      "Error getting bounds for: Series([], Name: shapeName, dtype: object)\n",
      "Items: ['CS Kedougou', 'Kedougou']\n"
     ]
    },
    {
     "name": "stderr",
     "output_type": "stream",
     "text": [
      "64it [00:32,  1.84it/s]"
     ]
    },
    {
     "name": "stdout",
     "output_type": "stream",
     "text": [
      "Didn't find with BING or OSM, no bounding box for Google\n",
      "Error getting bounds for: Series([], Name: shapeName, dtype: object)\n",
      "Items: ['CS Khadim Rassoul', 'Mbour']\n"
     ]
    },
    {
     "name": "stderr",
     "output_type": "stream",
     "text": [
      "65it [00:32,  2.12it/s]"
     ]
    },
    {
     "name": "stdout",
     "output_type": "stream",
     "text": [
      "Didn't find with BING or OSM, no bounding box for Google\n",
      "Error getting bounds for: Series([], Name: shapeName, dtype: object)\n",
      "Items: ['CS Kolda', 'Kolda']\n"
     ]
    },
    {
     "name": "stderr",
     "output_type": "stream",
     "text": [
      "66it [00:33,  1.91it/s]"
     ]
    },
    {
     "name": "stdout",
     "output_type": "stream",
     "text": [
      "Didn't find with BING or OSM, no bounding box for Google\n",
      "Error getting bounds for: Series([], Name: shapeName, dtype: object)\n",
      "Items: ['CS Koumpentoum', 'Koumpentoum']\n"
     ]
    },
    {
     "name": "stderr",
     "output_type": "stream",
     "text": [
      "67it [00:33,  2.12it/s]"
     ]
    },
    {
     "name": "stdout",
     "output_type": "stream",
     "text": [
      "Didn't find with BING or OSM, no bounding box for Google\n",
      "Error getting bounds for: Series([], Name: shapeName, dtype: object)\n",
      "Items: ['CS Koungheul', 'Koungheul']\n"
     ]
    },
    {
     "name": "stderr",
     "output_type": "stream",
     "text": [
      "68it [00:33,  2.08it/s]"
     ]
    },
    {
     "name": "stdout",
     "output_type": "stream",
     "text": [
      "Didn't find with BING or OSM, no bounding box for Google\n",
      "Error getting bounds for: Series([], Name: shapeName, dtype: object)\n",
      "Items: ['CS Linguere', 'Linguere']\n"
     ]
    },
    {
     "name": "stderr",
     "output_type": "stream",
     "text": [
      "69it [00:34,  1.98it/s]"
     ]
    },
    {
     "name": "stdout",
     "output_type": "stream",
     "text": [
      "Didn't find with BING or OSM, no bounding box for Google\n",
      "Error getting bounds for: Series([], Name: shapeName, dtype: object)\n",
      "Items: ['CS Louga', 'Louga']\n"
     ]
    },
    {
     "name": "stderr",
     "output_type": "stream",
     "text": [
      "70it [00:34,  2.06it/s]"
     ]
    },
    {
     "name": "stdout",
     "output_type": "stream",
     "text": [
      "Didn't find with BING or OSM, no bounding box for Google\n",
      "Error getting bounds for: Series([], Name: shapeName, dtype: object)\n",
      "Items: ['CS Malem Hodar', 'Malem Hodar']\n"
     ]
    },
    {
     "name": "stderr",
     "output_type": "stream",
     "text": [
      "71it [00:35,  1.97it/s]"
     ]
    },
    {
     "name": "stdout",
     "output_type": "stream",
     "text": [
      "Didn't find with BING or OSM, no bounding box for Google\n",
      "Error getting bounds for: Series([], Name: shapeName, dtype: object)\n",
      "Items: ['CS Matam', 'Matam']\n"
     ]
    },
    {
     "name": "stderr",
     "output_type": "stream",
     "text": [
      "72it [00:36,  1.94it/s]"
     ]
    },
    {
     "name": "stdout",
     "output_type": "stream",
     "text": [
      "Didn't find with BING or OSM, no bounding box for Google\n",
      "Error getting bounds for: Series([], Name: shapeName, dtype: object)\n",
      "Items: ['CS Mbacke', 'Mbacke']\n"
     ]
    },
    {
     "name": "stderr",
     "output_type": "stream",
     "text": [
      "73it [00:36,  1.90it/s]"
     ]
    },
    {
     "name": "stdout",
     "output_type": "stream",
     "text": [
      "Didn't find with BING or OSM, no bounding box for Google\n",
      "Error getting bounds for: Series([], Name: shapeName, dtype: object)\n",
      "Items: ['CS Mbour', 'Mbour']\n"
     ]
    },
    {
     "name": "stderr",
     "output_type": "stream",
     "text": [
      "74it [00:36,  2.10it/s]"
     ]
    },
    {
     "name": "stdout",
     "output_type": "stream",
     "text": [
      "Didn't find with BING or OSM, no bounding box for Google\n",
      "Items: ['CS Medina gounass', 'Velingara']\n"
     ]
    },
    {
     "name": "stderr",
     "output_type": "stream",
     "text": [
      "75it [00:37,  1.71it/s]"
     ]
    },
    {
     "name": "stdout",
     "output_type": "stream",
     "text": [
      "Error getting bounds for: Series([], Name: shapeName, dtype: object)\n",
      "Items: ['CS Medina Yoro Foulah', 'Medina Yoroufoula']\n"
     ]
    },
    {
     "name": "stderr",
     "output_type": "stream",
     "text": [
      "76it [00:38,  2.10it/s]"
     ]
    },
    {
     "name": "stdout",
     "output_type": "stream",
     "text": [
      "Didn't find with BING or OSM, no bounding box for Google\n",
      "Error getting bounds for: Series([], Name: shapeName, dtype: object)\n",
      "Items: ['CS Mpal', 'Saint Louis']\n"
     ]
    },
    {
     "name": "stderr",
     "output_type": "stream",
     "text": [
      "77it [00:38,  1.86it/s]"
     ]
    },
    {
     "name": "stdout",
     "output_type": "stream",
     "text": [
      "Didn't find with BING or OSM, no bounding box for Google\n",
      "Error getting bounds for: Series([], Name: shapeName, dtype: object)\n",
      "Items: ['CS Ndindy', 'Diourbel']\n"
     ]
    },
    {
     "name": "stderr",
     "output_type": "stream",
     "text": [
      "78it [00:39,  1.90it/s]"
     ]
    },
    {
     "name": "stdout",
     "output_type": "stream",
     "text": [
      "Didn't find with BING or OSM, no bounding box for Google\n",
      "Error getting bounds for: Series([], Name: shapeName, dtype: object)\n",
      "Items: ['CS Ndoffane', 'Tivaoune']\n"
     ]
    },
    {
     "name": "stderr",
     "output_type": "stream",
     "text": [
      "79it [00:39,  2.15it/s]"
     ]
    },
    {
     "name": "stdout",
     "output_type": "stream",
     "text": [
      "Didn't find with BING or OSM, no bounding box for Google\n",
      "Error getting bounds for: Series([], Name: shapeName, dtype: object)\n",
      "Items: ['CS Niodior', 'Foundiougne']\n"
     ]
    },
    {
     "name": "stderr",
     "output_type": "stream",
     "text": [
      "80it [00:40,  1.95it/s]"
     ]
    },
    {
     "name": "stdout",
     "output_type": "stream",
     "text": [
      "Didn't find with BING or OSM, no bounding box for Google\n",
      "Error getting bounds for: Series([], Name: shapeName, dtype: object)\n",
      "Items: ['CS Nioro', 'Ranerou']\n"
     ]
    },
    {
     "name": "stderr",
     "output_type": "stream",
     "text": [
      "81it [00:40,  1.96it/s]"
     ]
    },
    {
     "name": "stdout",
     "output_type": "stream",
     "text": [
      "Didn't find with BING or OSM, no bounding box for Google\n",
      "Error getting bounds for: Series([], Name: shapeName, dtype: object)\n",
      "Items: ['CS Oussouye', 'Oussouye']\n"
     ]
    },
    {
     "name": "stderr",
     "output_type": "stream",
     "text": [
      "82it [00:41,  2.10it/s]"
     ]
    },
    {
     "name": "stdout",
     "output_type": "stream",
     "text": [
      "Didn't find with BING or OSM, no bounding box for Google\n",
      "Error getting bounds for: Series([], Name: shapeName, dtype: object)\n",
      "Items: ['CS Pete', 'Podor']\n"
     ]
    },
    {
     "name": "stderr",
     "output_type": "stream",
     "text": [
      "83it [00:41,  2.00it/s]"
     ]
    },
    {
     "name": "stdout",
     "output_type": "stream",
     "text": [
      "Didn't find with BING or OSM, no bounding box for Google\n",
      "Error getting bounds for: Series([], Name: shapeName, dtype: object)\n",
      "Items: ['CS Podor', 'Podor']\n"
     ]
    },
    {
     "name": "stderr",
     "output_type": "stream",
     "text": [
      "84it [00:42,  2.07it/s]"
     ]
    },
    {
     "name": "stdout",
     "output_type": "stream",
     "text": [
      "Didn't find with BING or OSM, no bounding box for Google\n",
      "Error getting bounds for: Series([], Name: shapeName, dtype: object)\n",
      "Items: ['CS Polyclinique', 'Rufisque']\n"
     ]
    },
    {
     "name": "stderr",
     "output_type": "stream",
     "text": [
      "85it [00:42,  2.05it/s]"
     ]
    },
    {
     "name": "stdout",
     "output_type": "stream",
     "text": [
      "Didn't find with BING or OSM, no bounding box for Google\n",
      "Error getting bounds for: Series([], Name: shapeName, dtype: object)\n",
      "Items: ['CS Ranerou', 'Ranerou']\n"
     ]
    },
    {
     "name": "stderr",
     "output_type": "stream",
     "text": [
      "86it [00:43,  1.97it/s]"
     ]
    },
    {
     "name": "stdout",
     "output_type": "stream",
     "text": [
      "Didn't find with BING or OSM, no bounding box for Google\n",
      "Error getting bounds for: Series([], Name: shapeName, dtype: object)\n",
      "Items: ['CS Sagne Bambara', 'Kaolack']\n"
     ]
    },
    {
     "name": "stderr",
     "output_type": "stream",
     "text": [
      "87it [00:43,  1.92it/s]"
     ]
    },
    {
     "name": "stdout",
     "output_type": "stream",
     "text": [
      "Didn't find with BING or OSM, no bounding box for Google\n",
      "Error getting bounds for: Series([], Name: shapeName, dtype: object)\n",
      "Items: ['CS Saint - Louis', 'Saint Louis']\n"
     ]
    },
    {
     "name": "stderr",
     "output_type": "stream",
     "text": [
      "88it [00:44,  1.61it/s]"
     ]
    },
    {
     "name": "stdout",
     "output_type": "stream",
     "text": [
      "Didn't find with BING or OSM, no bounding box for Google\n",
      "Error getting bounds for: Series([], Name: shapeName, dtype: object)\n",
      "Items: ['CS Salemata', 'Salemata']\n"
     ]
    },
    {
     "name": "stderr",
     "output_type": "stream",
     "text": [
      "89it [00:44,  1.96it/s]"
     ]
    },
    {
     "name": "stdout",
     "output_type": "stream",
     "text": [
      "Didn't find with BING or OSM, no bounding box for Google\n",
      "Error getting bounds for: Series([], Name: shapeName, dtype: object)\n",
      "Items: ['CS Samine', 'Goudomp']\n"
     ]
    },
    {
     "name": "stderr",
     "output_type": "stream",
     "text": [
      "90it [00:45,  1.90it/s]"
     ]
    },
    {
     "name": "stdout",
     "output_type": "stream",
     "text": [
      "Didn't find with BING or OSM, no bounding box for Google\n",
      "Error getting bounds for: Series([], Name: shapeName, dtype: object)\n",
      "Items: ['CS Saraya', 'Saraya']\n"
     ]
    },
    {
     "name": "stderr",
     "output_type": "stream",
     "text": [
      "91it [00:45,  2.00it/s]"
     ]
    },
    {
     "name": "stdout",
     "output_type": "stream",
     "text": [
      "Didn't find with BING or OSM, no bounding box for Google\n",
      "Error getting bounds for: Series([], Name: shapeName, dtype: object)\n",
      "Items: ['CS Sedhiou', 'Sedhiou']\n"
     ]
    },
    {
     "name": "stderr",
     "output_type": "stream",
     "text": [
      "92it [00:46,  1.83it/s]"
     ]
    },
    {
     "name": "stdout",
     "output_type": "stream",
     "text": [
      "Didn't find with BING or OSM, no bounding box for Google\n",
      "Error getting bounds for: Series([], Name: shapeName, dtype: object)\n",
      "Items: ['CS Tambacounda', 'Tambacounda']\n"
     ]
    },
    {
     "name": "stderr",
     "output_type": "stream",
     "text": [
      "93it [00:46,  2.06it/s]"
     ]
    },
    {
     "name": "stdout",
     "output_type": "stream",
     "text": [
      "Didn't find with BING or OSM, no bounding box for Google\n",
      "Error getting bounds for: Series([], Name: shapeName, dtype: object)\n",
      "Items: ['CS Thile Boubacar', 'Podor']\n"
     ]
    },
    {
     "name": "stderr",
     "output_type": "stream",
     "text": [
      "94it [00:47,  1.99it/s]"
     ]
    },
    {
     "name": "stdout",
     "output_type": "stream",
     "text": [
      "Didn't find with BING or OSM, no bounding box for Google\n",
      "Error getting bounds for: Series([], Name: shapeName, dtype: object)\n",
      "Items: ['CS Tivaouane', 'Tivaoune']\n"
     ]
    },
    {
     "name": "stderr",
     "output_type": "stream",
     "text": [
      "95it [00:47,  2.05it/s]"
     ]
    },
    {
     "name": "stdout",
     "output_type": "stream",
     "text": [
      "Didn't find with BING or OSM, no bounding box for Google\n",
      "Items: ['CS Velingara', 'Velingara']\n"
     ]
    },
    {
     "name": "stderr",
     "output_type": "stream",
     "text": [
      "96it [00:48,  1.86it/s]"
     ]
    },
    {
     "name": "stdout",
     "output_type": "stream",
     "text": [
      "Error getting bounds for: Series([], Name: shapeName, dtype: object)\n",
      "Items: ['CS Wack Ngouna', 'Ranerou']\n"
     ]
    },
    {
     "name": "stderr",
     "output_type": "stream",
     "text": [
      "97it [00:48,  2.09it/s]"
     ]
    },
    {
     "name": "stdout",
     "output_type": "stream",
     "text": [
      "Didn't find with BING or OSM, no bounding box for Google\n",
      "Items: ['CS Wakhinane', 'Guediawaye']\n"
     ]
    },
    {
     "name": "stderr",
     "output_type": "stream",
     "text": [
      "98it [00:49,  1.78it/s]"
     ]
    },
    {
     "name": "stdout",
     "output_type": "stream",
     "text": [
      "Error getting bounds for: Series([], Name: shapeName, dtype: object)\n",
      "Items: ['CS Waounde', 'Kanel']\n"
     ]
    },
    {
     "name": "stderr",
     "output_type": "stream",
     "text": [
      "99it [00:49,  2.14it/s]"
     ]
    },
    {
     "name": "stdout",
     "output_type": "stream",
     "text": [
      "Didn't find with BING or OSM, no bounding box for Google\n",
      "Error getting bounds for: Series([], Name: shapeName, dtype: object)\n",
      "Items: ['CS Ziguinchor', 'Ziguinchor']\n"
     ]
    },
    {
     "name": "stderr",
     "output_type": "stream",
     "text": [
      "100it [00:50,  1.95it/s]"
     ]
    },
    {
     "name": "stdout",
     "output_type": "stream",
     "text": [
      "Didn't find with BING or OSM, no bounding box for Google\n",
      "Error getting bounds for: Series([], Name: shapeName, dtype: object)\n",
      "Items: ['Dispensaire Prive Yeurmande', 'Gossas']\n"
     ]
    },
    {
     "name": "stderr",
     "output_type": "stream",
     "text": [
      "101it [00:50,  2.16it/s]"
     ]
    },
    {
     "name": "stdout",
     "output_type": "stream",
     "text": [
      "Didn't find with BING or OSM, no bounding box for Google\n",
      "Error getting bounds for: Series([], Name: shapeName, dtype: object)\n",
      "Items: ['DPC Ballandine', 'Bignona']\n"
     ]
    },
    {
     "name": "stderr",
     "output_type": "stream",
     "text": [
      "102it [00:51,  2.00it/s]"
     ]
    },
    {
     "name": "stdout",
     "output_type": "stream",
     "text": [
      "Didn't find with BING or OSM, no bounding box for Google\n",
      "Error getting bounds for: Series([], Name: shapeName, dtype: object)\n",
      "Items: ['DPC Brin', 'Ziguinchor']\n"
     ]
    },
    {
     "name": "stderr",
     "output_type": "stream",
     "text": [
      "103it [00:51,  2.00it/s]"
     ]
    },
    {
     "name": "stdout",
     "output_type": "stream",
     "text": [
      "Didn't find with BING or OSM, no bounding box for Google\n",
      "Error getting bounds for: Series([], Name: shapeName, dtype: object)\n",
      "Items: ['DPC de Koumbidia', 'Koungheul']\n"
     ]
    },
    {
     "name": "stderr",
     "output_type": "stream",
     "text": [
      "104it [00:52,  2.07it/s]"
     ]
    },
    {
     "name": "stdout",
     "output_type": "stream",
     "text": [
      "Didn't find with BING or OSM, no bounding box for Google\n",
      "Error getting bounds for: Series([], Name: shapeName, dtype: object)\n",
      "Items: ['DPC de Ngohe Plus Maternite', 'Diourbel']\n"
     ]
    },
    {
     "name": "stderr",
     "output_type": "stream",
     "text": [
      "105it [00:52,  1.93it/s]"
     ]
    },
    {
     "name": "stdout",
     "output_type": "stream",
     "text": [
      "Didn't find with BING or OSM, no bounding box for Google\n",
      "Error getting bounds for: Series([], Name: shapeName, dtype: object)\n",
      "Items: ['DPC Diohine Notre Dame du Sacre Coeur', 'Fatick']\n"
     ]
    },
    {
     "name": "stderr",
     "output_type": "stream",
     "text": [
      "106it [00:53,  1.87it/s]"
     ]
    },
    {
     "name": "stdout",
     "output_type": "stream",
     "text": [
      "Didn't find with BING or OSM, no bounding box for Google\n",
      "Error getting bounds for: Series([], Name: shapeName, dtype: object)\n",
      "Items: ['DPC Diourbel Tock', 'Diourbel']\n"
     ]
    },
    {
     "name": "stderr",
     "output_type": "stream",
     "text": [
      "107it [00:53,  2.11it/s]"
     ]
    },
    {
     "name": "stdout",
     "output_type": "stream",
     "text": [
      "Didn't find with BING or OSM, no bounding box for Google\n",
      "Error getting bounds for: Series([], Name: shapeName, dtype: object)\n",
      "Items: ['DPC Lyndiane St Joseph', 'Ziguinchor']\n"
     ]
    },
    {
     "name": "stderr",
     "output_type": "stream",
     "text": [
      "108it [00:54,  1.90it/s]"
     ]
    },
    {
     "name": "stdout",
     "output_type": "stream",
     "text": [
      "Didn't find with BING or OSM, no bounding box for Google\n",
      "Error getting bounds for: Series([], Name: shapeName, dtype: object)\n",
      "Items: ['DPC Maka Kahone', 'Guinguineo']\n"
     ]
    },
    {
     "name": "stderr",
     "output_type": "stream",
     "text": [
      "109it [00:54,  2.11it/s]"
     ]
    },
    {
     "name": "stdout",
     "output_type": "stream",
     "text": [
      "Didn't find with BING or OSM, no bounding box for Google\n",
      "Error getting bounds for: Series([], Name: shapeName, dtype: object)\n",
      "Items: ['DPC Mangaroungou', 'Goudomp']\n"
     ]
    },
    {
     "name": "stderr",
     "output_type": "stream",
     "text": [
      "110it [00:55,  1.93it/s]"
     ]
    },
    {
     "name": "stdout",
     "output_type": "stream",
     "text": [
      "Didn't find with BING or OSM, no bounding box for Google\n",
      "Error getting bounds for: Series([], Name: shapeName, dtype: object)\n",
      "Items: ['DPC Mater carmeli', 'Tivaoune']\n"
     ]
    },
    {
     "name": "stderr",
     "output_type": "stream",
     "text": [
      "111it [00:55,  2.10it/s]"
     ]
    },
    {
     "name": "stdout",
     "output_type": "stream",
     "text": [
      "Didn't find with BING or OSM, no bounding box for Google\n",
      "Error getting bounds for: Series([], Name: shapeName, dtype: object)\n",
      "Items: ['DPC Missira', 'Koungheul']\n"
     ]
    },
    {
     "name": "stderr",
     "output_type": "stream",
     "text": [
      "112it [00:56,  1.82it/s]"
     ]
    },
    {
     "name": "stdout",
     "output_type": "stream",
     "text": [
      "Didn't find with BING or OSM, no bounding box for Google\n",
      "Error getting bounds for: Series([], Name: shapeName, dtype: object)\n",
      "Items: ['DPC Mlomp', 'Oussouye']\n"
     ]
    },
    {
     "name": "stderr",
     "output_type": "stream",
     "text": [
      "113it [00:56,  2.17it/s]"
     ]
    },
    {
     "name": "stdout",
     "output_type": "stream",
     "text": [
      "Didn't find with BING or OSM, no bounding box for Google\n",
      "Error getting bounds for: Series([], Name: shapeName, dtype: object)\n",
      "Items: ['DPC Saint Martin de Bambey', 'Bambey']\n"
     ]
    },
    {
     "name": "stderr",
     "output_type": "stream",
     "text": [
      "114it [00:57,  1.79it/s]"
     ]
    },
    {
     "name": "stdout",
     "output_type": "stream",
     "text": [
      "Didn't find with BING or OSM, no bounding box for Google\n",
      "Error getting bounds for: Series([], Name: shapeName, dtype: object)\n",
      "Items: ['DPC Simbandi Balante', 'Goudomp']\n"
     ]
    },
    {
     "name": "stderr",
     "output_type": "stream",
     "text": [
      "115it [00:57,  2.06it/s]"
     ]
    },
    {
     "name": "stdout",
     "output_type": "stream",
     "text": [
      "Didn't find with BING or OSM, no bounding box for Google\n",
      "Error getting bounds for: Series([], Name: shapeName, dtype: object)\n",
      "Items: ['DPC Soutou', 'Bignona']\n"
     ]
    },
    {
     "name": "stderr",
     "output_type": "stream",
     "text": [
      "116it [00:58,  2.14it/s]"
     ]
    },
    {
     "name": "stdout",
     "output_type": "stream",
     "text": [
      "Didn't find with BING or OSM, no bounding box for Google\n",
      "Error getting bounds for: Series([], Name: shapeName, dtype: object)\n",
      "Items: ['DPC Thingue', 'Gossas']\n"
     ]
    },
    {
     "name": "stderr",
     "output_type": "stream",
     "text": [
      "117it [00:58,  2.03it/s]"
     ]
    },
    {
     "name": "stdout",
     "output_type": "stream",
     "text": [
      "Didn't find with BING or OSM, no bounding box for Google\n",
      "Error getting bounds for: Series([], Name: shapeName, dtype: object)\n",
      "Items: ['EPS 2 Thierno Birahim Ndao', 'Kaffrine']\n"
     ]
    },
    {
     "name": "stderr",
     "output_type": "stream",
     "text": [
      "118it [00:59,  1.91it/s]"
     ]
    },
    {
     "name": "stdout",
     "output_type": "stream",
     "text": [
      "Didn't find with BING or OSM, no bounding box for Google\n",
      "Items: ['EPS 3 Dalal Jamm', 'Guediawaye']\n"
     ]
    },
    {
     "name": "stderr",
     "output_type": "stream",
     "text": [
      "119it [00:59,  2.05it/s]"
     ]
    },
    {
     "name": "stdout",
     "output_type": "stream",
     "text": [
      "Items: ['EPS1  Roi Baudoin', 'Guediawaye']\n"
     ]
    },
    {
     "name": "stderr",
     "output_type": "stream",
     "text": [
      "120it [01:00,  1.97it/s]"
     ]
    },
    {
     "name": "stdout",
     "output_type": "stream",
     "text": [
      "Error getting bounds for: Series([], Name: shapeName, dtype: object)\n",
      "Items: ['EPS1 ABDOU AZIZ SY', 'Tivaoune']\n"
     ]
    },
    {
     "name": "stderr",
     "output_type": "stream",
     "text": [
      "121it [01:00,  2.11it/s]"
     ]
    },
    {
     "name": "stdout",
     "output_type": "stream",
     "text": [
      "Didn't find with BING or OSM, no bounding box for Google\n",
      "Error getting bounds for: Series([], Name: shapeName, dtype: object)\n",
      "Items: ['EPS1 Linguere', 'Linguere']\n"
     ]
    },
    {
     "name": "stderr",
     "output_type": "stream",
     "text": [
      "122it [01:01,  1.95it/s]"
     ]
    },
    {
     "name": "stdout",
     "output_type": "stream",
     "text": [
      "Didn't find with BING or OSM, no bounding box for Google\n",
      "Error getting bounds for: Series([], Name: shapeName, dtype: object)\n",
      "Items: ['EPS1 Mbour', 'Mbour']\n"
     ]
    },
    {
     "name": "stderr",
     "output_type": "stream",
     "text": [
      "123it [01:01,  2.09it/s]"
     ]
    },
    {
     "name": "stdout",
     "output_type": "stream",
     "text": [
      "Didn't find with BING or OSM, no bounding box for Google\n",
      "Error getting bounds for: Series([], Name: shapeName, dtype: object)\n",
      "Items: ['EPS1 Youssou Mbargane Diop', 'Rufisque']\n"
     ]
    },
    {
     "name": "stderr",
     "output_type": "stream",
     "text": [
      "124it [01:02,  2.09it/s]"
     ]
    },
    {
     "name": "stdout",
     "output_type": "stream",
     "text": [
      "Didn't find with BING or OSM, no bounding box for Google\n",
      "Error getting bounds for: Series([], Name: shapeName, dtype: object)\n",
      "Items: ['EPS2  de Ouroussogui', 'Matam']\n"
     ]
    },
    {
     "name": "stderr",
     "output_type": "stream",
     "text": [
      "125it [01:02,  2.02it/s]"
     ]
    },
    {
     "name": "stdout",
     "output_type": "stream",
     "text": [
      "Didn't find with BING or OSM, no bounding box for Google\n",
      "Error getting bounds for: Series([], Name: shapeName, dtype: object)\n",
      "Items: ['EPS2  Kolda', 'Kolda']\n"
     ]
    },
    {
     "name": "stderr",
     "output_type": "stream",
     "text": [
      "126it [01:03,  2.03it/s]"
     ]
    },
    {
     "name": "stdout",
     "output_type": "stream",
     "text": [
      "Didn't find with BING or OSM, no bounding box for Google\n",
      "Error getting bounds for: Series([], Name: shapeName, dtype: object)\n",
      "Items: ['EPS2  Régional de Matam', 'Matam']\n"
     ]
    },
    {
     "name": "stderr",
     "output_type": "stream",
     "text": [
      "127it [01:03,  1.96it/s]"
     ]
    },
    {
     "name": "stdout",
     "output_type": "stream",
     "text": [
      "Didn't find with BING or OSM, no bounding box for Google\n",
      "Error getting bounds for: Series([], Name: shapeName, dtype: object)\n",
      "Items: ['EPS2 Amadou S Dieuguene', 'Thies']\n"
     ]
    },
    {
     "name": "stderr",
     "output_type": "stream",
     "text": [
      "128it [01:04,  1.86it/s]"
     ]
    },
    {
     "name": "stdout",
     "output_type": "stream",
     "text": [
      "Didn't find with BING or OSM, no bounding box for Google\n",
      "Error getting bounds for: Series([], Name: shapeName, dtype: object)\n",
      "Items: ['EPS2 Amadou Sakhir Mbaye de Louga', 'Louga']\n"
     ]
    },
    {
     "name": "stderr",
     "output_type": "stream",
     "text": [
      "129it [01:04,  1.98it/s]"
     ]
    },
    {
     "name": "stdout",
     "output_type": "stream",
     "text": [
      "Didn't find with BING or OSM, no bounding box for Google\n",
      "Error getting bounds for: Series([], Name: shapeName, dtype: object)\n",
      "Items: ['EPS2 Barthimée Confessionel', 'Thies']\n"
     ]
    },
    {
     "name": "stderr",
     "output_type": "stream",
     "text": [
      "130it [01:05,  2.08it/s]"
     ]
    },
    {
     "name": "stdout",
     "output_type": "stream",
     "text": [
      "Didn't find with BING or OSM, no bounding box for Google\n",
      "Error getting bounds for: Series([], Name: shapeName, dtype: object)\n",
      "Items: ['EPS2 CHR ZIGUINCHOR', 'Ziguinchor']\n"
     ]
    },
    {
     "name": "stderr",
     "output_type": "stream",
     "text": [
      "131it [01:05,  1.94it/s]"
     ]
    },
    {
     "name": "stdout",
     "output_type": "stream",
     "text": [
      "Didn't find with BING or OSM, no bounding box for Google\n",
      "Error getting bounds for: Series([], Name: shapeName, dtype: object)\n",
      "Items: ['EPS2 de NDioum', 'Podor']\n"
     ]
    },
    {
     "name": "stderr",
     "output_type": "stream",
     "text": [
      "132it [01:06,  2.08it/s]"
     ]
    },
    {
     "name": "stdout",
     "output_type": "stream",
     "text": [
      "Didn't find with BING or OSM, no bounding box for Google\n",
      "Error getting bounds for: Series([], Name: shapeName, dtype: object)\n",
      "Items: ['EPS2 El hadji Ibrahima NIASS de Kaolack', 'Kaolack']\n"
     ]
    },
    {
     "name": "stderr",
     "output_type": "stream",
     "text": [
      "133it [01:06,  1.91it/s]"
     ]
    },
    {
     "name": "stdout",
     "output_type": "stream",
     "text": [
      "Didn't find with BING or OSM, no bounding box for Google\n",
      "Error getting bounds for: Series([], Name: shapeName, dtype: object)\n",
      "Items: ['EPS2 Hopital de la Paix', 'Ziguinchor']\n"
     ]
    },
    {
     "name": "stderr",
     "output_type": "stream",
     "text": [
      "134it [01:07,  2.08it/s]"
     ]
    },
    {
     "name": "stdout",
     "output_type": "stream",
     "text": [
      "Didn't find with BING or OSM, no bounding box for Google\n",
      "Error getting bounds for: Series([], Name: shapeName, dtype: object)\n",
      "Items: ['EPS2 Lubke de Diourbel', 'Diourbel']\n"
     ]
    },
    {
     "name": "stderr",
     "output_type": "stream",
     "text": [
      "135it [01:07,  2.06it/s]"
     ]
    },
    {
     "name": "stdout",
     "output_type": "stream",
     "text": [
      "Didn't find with BING or OSM, no bounding box for Google\n",
      "Error getting bounds for: Series([], Name: shapeName, dtype: object)\n",
      "Items: ['EPS2 Saint Jean de Dieu de Thiès', 'Thies']\n"
     ]
    },
    {
     "name": "stderr",
     "output_type": "stream",
     "text": [
      "136it [01:08,  2.04it/s]"
     ]
    },
    {
     "name": "stdout",
     "output_type": "stream",
     "text": [
      "Didn't find with BING or OSM, no bounding box for Google\n",
      "Error getting bounds for: Series([], Name: shapeName, dtype: object)\n",
      "Items: ['EPS2 Sedhiou', 'Sedhiou']\n"
     ]
    },
    {
     "name": "stderr",
     "output_type": "stream",
     "text": [
      "137it [01:08,  1.97it/s]"
     ]
    },
    {
     "name": "stdout",
     "output_type": "stream",
     "text": [
      "Didn't find with BING or OSM, no bounding box for Google\n",
      "Error getting bounds for: Series([], Name: shapeName, dtype: object)\n",
      "Items: ['EPS2 Tambacounda', 'Tambacounda']\n"
     ]
    },
    {
     "name": "stderr",
     "output_type": "stream",
     "text": [
      "138it [01:09,  2.02it/s]"
     ]
    },
    {
     "name": "stdout",
     "output_type": "stream",
     "text": [
      "Didn't find with BING or OSM, no bounding box for Google\n",
      "Error getting bounds for: Series([], Name: shapeName, dtype: object)\n",
      "Items: ['EPS3 Pikine', 'Mbour']\n"
     ]
    },
    {
     "name": "stderr",
     "output_type": "stream",
     "text": [
      "139it [01:09,  2.01it/s]"
     ]
    },
    {
     "name": "stdout",
     "output_type": "stream",
     "text": [
      "Didn't find with BING or OSM, no bounding box for Google\n",
      "Error getting bounds for: Series([], Name: shapeName, dtype: object)\n",
      "Items: ['I.P.S', 'Pikine']\n"
     ]
    },
    {
     "name": "stderr",
     "output_type": "stream",
     "text": [
      "140it [01:13,  1.44s/it]"
     ]
    },
    {
     "name": "stdout",
     "output_type": "stream",
     "text": [
      "Didn't find with BING or OSM, no bounding box for Google\n",
      "Error getting bounds for: Series([], Name: shapeName, dtype: object)\n",
      "Items: ['IMEK', 'Kaolack']\n"
     ]
    },
    {
     "name": "stderr",
     "output_type": "stream",
     "text": [
      "141it [01:13,  1.14s/it]"
     ]
    },
    {
     "name": "stdout",
     "output_type": "stream",
     "text": [
      "Didn't find with BING or OSM, no bounding box for Google\n",
      "Error getting bounds for: Series([], Name: shapeName, dtype: object)\n",
      "Items: ['IMEK 2', 'Guinguineo']\n"
     ]
    },
    {
     "name": "stderr",
     "output_type": "stream",
     "text": [
      "142it [01:14,  1.05it/s]"
     ]
    },
    {
     "name": "stdout",
     "output_type": "stream",
     "text": [
      "Didn't find with BING or OSM, no bounding box for Google\n",
      "Error getting bounds for: Series([], Name: shapeName, dtype: object)\n",
      "Items: ['Maternite Bargny', 'Tambacounda']\n"
     ]
    },
    {
     "name": "stderr",
     "output_type": "stream",
     "text": [
      "143it [01:14,  1.20it/s]"
     ]
    },
    {
     "name": "stdout",
     "output_type": "stream",
     "text": [
      "Didn't find with BING or OSM, no bounding box for Google\n",
      "Items: ['Maternite Elisabeth', 'Guediawaye']\n"
     ]
    },
    {
     "name": "stderr",
     "output_type": "stream",
     "text": [
      "144it [01:15,  1.32it/s]"
     ]
    },
    {
     "name": "stdout",
     "output_type": "stream",
     "text": [
      "Error getting bounds for: Series([], Name: shapeName, dtype: object)\n",
      "Items: ['Maternite Sebikotane', 'Tambacounda']\n"
     ]
    },
    {
     "name": "stderr",
     "output_type": "stream",
     "text": [
      "145it [01:15,  1.57it/s]"
     ]
    },
    {
     "name": "stdout",
     "output_type": "stream",
     "text": [
      "Didn't find with BING or OSM, no bounding box for Google\n",
      "Error getting bounds for: Series([], Name: shapeName, dtype: object)\n",
      "Items: ['Maternité Pire', 'Tivaoune']\n"
     ]
    },
    {
     "name": "stderr",
     "output_type": "stream",
     "text": [
      "146it [01:16,  1.64it/s]"
     ]
    },
    {
     "name": "stdout",
     "output_type": "stream",
     "text": [
      "Didn't find with BING or OSM, no bounding box for Google\n",
      "Items: ['P.S. Municipal Iv', 'Guediawaye']\n"
     ]
    },
    {
     "name": "stderr",
     "output_type": "stream",
     "text": [
      "147it [01:17,  1.44it/s]"
     ]
    },
    {
     "name": "stdout",
     "output_type": "stream",
     "text": [
      "Error getting bounds for: Series([], Name: shapeName, dtype: object)\n",
      "Items: ['PMI Goutte de Lait', 'Thies']\n"
     ]
    },
    {
     "name": "stderr",
     "output_type": "stream",
     "text": [
      "148it [01:17,  1.62it/s]"
     ]
    },
    {
     "name": "stdout",
     "output_type": "stream",
     "text": [
      "Didn't find with BING or OSM, no bounding box for Google\n",
      "Error getting bounds for: Series([], Name: shapeName, dtype: object)\n",
      "Items: ['Pmi Sor', 'Saint Louis']\n"
     ]
    },
    {
     "name": "stderr",
     "output_type": "stream",
     "text": [
      "149it [01:18,  1.66it/s]"
     ]
    },
    {
     "name": "stdout",
     "output_type": "stream",
     "text": [
      "Didn't find with BING or OSM, no bounding box for Google\n",
      "Items: ['Poste Croix Rouge', 'Velingara']\n"
     ]
    },
    {
     "name": "stderr",
     "output_type": "stream",
     "text": [
      "150it [01:18,  1.81it/s]"
     ]
    },
    {
     "name": "stdout",
     "output_type": "stream",
     "text": [
      "Items: ['Privé Médicos AR', 'Guediawaye']\n"
     ]
    },
    {
     "name": "stderr",
     "output_type": "stream",
     "text": [
      "151it [01:19,  2.07it/s]"
     ]
    },
    {
     "name": "stdout",
     "output_type": "stream",
     "text": [
      "Error getting bounds for: Series([], Name: shapeName, dtype: object)\n",
      "Items: ['PS Abattoirs', 'Kaolack']\n"
     ]
    },
    {
     "name": "stderr",
     "output_type": "stream",
     "text": [
      "152it [01:19,  1.94it/s]"
     ]
    },
    {
     "name": "stdout",
     "output_type": "stream",
     "text": [
      "Didn't find with BING or OSM, no bounding box for Google\n",
      "Error getting bounds for: Series([], Name: shapeName, dtype: object)\n",
      "Items: ['PS Adeane', 'Ziguinchor']\n"
     ]
    },
    {
     "name": "stderr",
     "output_type": "stream",
     "text": [
      "153it [01:20,  2.06it/s]"
     ]
    },
    {
     "name": "stdout",
     "output_type": "stream",
     "text": [
      "Didn't find with BING or OSM, no bounding box for Google\n",
      "Error getting bounds for: Series([], Name: shapeName, dtype: object)\n",
      "Items: ['PS Aere Lao', 'Podor']\n"
     ]
    },
    {
     "name": "stderr",
     "output_type": "stream",
     "text": [
      "154it [01:20,  1.88it/s]"
     ]
    },
    {
     "name": "stdout",
     "output_type": "stream",
     "text": [
      "Didn't find with BING or OSM, no bounding box for Google\n",
      "Error getting bounds for: Series([], Name: shapeName, dtype: object)\n",
      "Items: ['PS Affe', 'Dakar']\n"
     ]
    },
    {
     "name": "stderr",
     "output_type": "stream",
     "text": [
      "155it [01:21,  2.10it/s]"
     ]
    },
    {
     "name": "stdout",
     "output_type": "stream",
     "text": [
      "Didn't find with BING or OSM, no bounding box for Google\n",
      "Error getting bounds for: Series([], Name: shapeName, dtype: object)\n",
      "Items: ['PS Afia', 'Tambacounda']\n"
     ]
    },
    {
     "name": "stderr",
     "output_type": "stream",
     "text": [
      "156it [01:21,  2.10it/s]"
     ]
    },
    {
     "name": "stdout",
     "output_type": "stream",
     "text": [
      "Didn't find with BING or OSM, no bounding box for Google\n",
      "Error getting bounds for: Series([], Name: shapeName, dtype: object)\n",
      "Items: ['PS Agnack', 'Ziguinchor']\n"
     ]
    },
    {
     "name": "stderr",
     "output_type": "stream",
     "text": [
      "157it [01:22,  2.04it/s]"
     ]
    },
    {
     "name": "stdout",
     "output_type": "stream",
     "text": [
      "Didn't find with BING or OSM, no bounding box for Google\n",
      "Error getting bounds for: Series([], Name: shapeName, dtype: object)\n",
      "Items: ['PS Aguiyaye', 'Bambey']\n"
     ]
    },
    {
     "name": "stderr",
     "output_type": "stream",
     "text": [
      "158it [01:22,  2.08it/s]"
     ]
    },
    {
     "name": "stdout",
     "output_type": "stream",
     "text": [
      "Didn't find with BING or OSM, no bounding box for Google\n",
      "Error getting bounds for: Series([], Name: shapeName, dtype: object)\n",
      "Items: ['PS Ainoumady', 'Goudiry']\n"
     ]
    },
    {
     "name": "stderr",
     "output_type": "stream",
     "text": [
      "159it [01:23,  2.03it/s]"
     ]
    },
    {
     "name": "stdout",
     "output_type": "stream",
     "text": [
      "Didn't find with BING or OSM, no bounding box for Google\n",
      "Error getting bounds for: Series([], Name: shapeName, dtype: object)\n",
      "Items: ['PS Alwar', 'Podor']\n"
     ]
    },
    {
     "name": "stderr",
     "output_type": "stream",
     "text": [
      "160it [01:23,  1.92it/s]"
     ]
    },
    {
     "name": "stdout",
     "output_type": "stream",
     "text": [
      "Didn't find with BING or OSM, no bounding box for Google\n",
      "Error getting bounds for: Series([], Name: shapeName, dtype: object)\n",
      "Items: ['PS Anambe', 'Kolda']\n"
     ]
    },
    {
     "name": "stderr",
     "output_type": "stream",
     "text": [
      "161it [01:24,  2.02it/s]"
     ]
    },
    {
     "name": "stdout",
     "output_type": "stream",
     "text": [
      "Didn't find with BING or OSM, no bounding box for Google\n",
      "Error getting bounds for: Series([], Name: shapeName, dtype: object)\n",
      "Items: ['PS Aoure', 'Kanel']\n"
     ]
    },
    {
     "name": "stderr",
     "output_type": "stream",
     "text": [
      "162it [01:24,  1.85it/s]"
     ]
    },
    {
     "name": "stdout",
     "output_type": "stream",
     "text": [
      "Didn't find with BING or OSM, no bounding box for Google\n",
      "Error getting bounds for: Series([], Name: shapeName, dtype: object)\n",
      "Items: ['PS Arafat', 'Rufisque']\n"
     ]
    },
    {
     "name": "stderr",
     "output_type": "stream",
     "text": [
      "163it [01:25,  2.07it/s]"
     ]
    },
    {
     "name": "stdout",
     "output_type": "stream",
     "text": [
      "Didn't find with BING or OSM, no bounding box for Google\n",
      "Error getting bounds for: Series([], Name: shapeName, dtype: object)\n",
      "Items: ['PS Aroundou', 'Bakel']\n"
     ]
    },
    {
     "name": "stderr",
     "output_type": "stream",
     "text": [
      "164it [01:25,  1.95it/s]"
     ]
    },
    {
     "name": "stdout",
     "output_type": "stream",
     "text": [
      "Didn't find with BING or OSM, no bounding box for Google\n",
      "Error getting bounds for: Series([], Name: shapeName, dtype: object)\n",
      "Items: ['PS Athiou', 'Guinguineo']\n"
     ]
    },
    {
     "name": "stderr",
     "output_type": "stream",
     "text": [
      "165it [01:26,  2.00it/s]"
     ]
    },
    {
     "name": "stdout",
     "output_type": "stream",
     "text": [
      "Didn't find with BING or OSM, no bounding box for Google\n",
      "Error getting bounds for: Series([], Name: shapeName, dtype: object)\n",
      "Items: ['PS Baba Garage', 'Bambey']\n"
     ]
    },
    {
     "name": "stderr",
     "output_type": "stream",
     "text": [
      "166it [01:26,  1.97it/s]"
     ]
    },
    {
     "name": "stdout",
     "output_type": "stream",
     "text": [
      "Didn't find with BING or OSM, no bounding box for Google\n",
      "Error getting bounds for: Series([], Name: shapeName, dtype: object)\n",
      "Items: ['PS Back Samba Dior', 'Guinguineo']\n"
     ]
    },
    {
     "name": "stderr",
     "output_type": "stream",
     "text": [
      "167it [01:27,  1.98it/s]"
     ]
    },
    {
     "name": "stdout",
     "output_type": "stream",
     "text": [
      "Didn't find with BING or OSM, no bounding box for Google\n",
      "Error getting bounds for: Series([], Name: shapeName, dtype: object)\n",
      "Items: ['PS Bacoboeuf', 'Fatick']\n"
     ]
    },
    {
     "name": "stderr",
     "output_type": "stream",
     "text": [
      "168it [01:27,  2.07it/s]"
     ]
    },
    {
     "name": "stdout",
     "output_type": "stream",
     "text": [
      "Didn't find with BING or OSM, no bounding box for Google\n",
      "Error getting bounds for: Series([], Name: shapeName, dtype: object)\n",
      "Items: ['PS Badagore', 'Ranerou']\n"
     ]
    },
    {
     "name": "stderr",
     "output_type": "stream",
     "text": [
      "169it [01:28,  2.01it/s]"
     ]
    },
    {
     "name": "stdout",
     "output_type": "stream",
     "text": [
      "Didn't find with BING or OSM, no bounding box for Google\n",
      "Error getting bounds for: Series([], Name: shapeName, dtype: object)\n",
      "Items: ['PS Badion', 'Medina Yoroufoula']\n"
     ]
    },
    {
     "name": "stderr",
     "output_type": "stream",
     "text": [
      "170it [01:28,  1.99it/s]"
     ]
    },
    {
     "name": "stdout",
     "output_type": "stream",
     "text": [
      "Didn't find with BING or OSM, no bounding box for Google\n",
      "Error getting bounds for: Series([], Name: shapeName, dtype: object)\n",
      "Items: ['PS Badioncoto', 'Bignona']\n"
     ]
    },
    {
     "name": "stderr",
     "output_type": "stream",
     "text": [
      "171it [01:29,  1.93it/s]"
     ]
    },
    {
     "name": "stdout",
     "output_type": "stream",
     "text": [
      "Didn't find with BING or OSM, no bounding box for Google\n",
      "Error getting bounds for: Series([], Name: shapeName, dtype: object)\n",
      "Items: ['PS Badioure', 'Bignona']\n"
     ]
    },
    {
     "name": "stderr",
     "output_type": "stream",
     "text": [
      "172it [01:29,  1.98it/s]"
     ]
    },
    {
     "name": "stdout",
     "output_type": "stream",
     "text": [
      "Didn't find with BING or OSM, no bounding box for Google\n",
      "Error getting bounds for: Series([], Name: shapeName, dtype: object)\n",
      "Items: ['PS Bagadadji', 'Kolda']\n"
     ]
    },
    {
     "name": "stderr",
     "output_type": "stream",
     "text": [
      "173it [01:30,  1.95it/s]"
     ]
    },
    {
     "name": "stdout",
     "output_type": "stream",
     "text": [
      "Didn't find with BING or OSM, no bounding box for Google\n",
      "Error getting bounds for: Series([], Name: shapeName, dtype: object)\n",
      "Items: ['PS Baghagha', 'Ziguinchor']\n"
     ]
    },
    {
     "name": "stderr",
     "output_type": "stream",
     "text": [
      "174it [01:30,  2.10it/s]"
     ]
    },
    {
     "name": "stdout",
     "output_type": "stream",
     "text": [
      "Didn't find with BING or OSM, no bounding box for Google\n",
      "Error getting bounds for: Series([], Name: shapeName, dtype: object)\n",
      "Items: ['PS Baghere', 'Goudomp']\n"
     ]
    },
    {
     "name": "stderr",
     "output_type": "stream",
     "text": [
      "175it [01:31,  1.88it/s]"
     ]
    },
    {
     "name": "stdout",
     "output_type": "stream",
     "text": [
      "Didn't find with BING or OSM, no bounding box for Google\n",
      "Error getting bounds for: Series([], Name: shapeName, dtype: object)\n",
      "Items: ['PS Baila', 'Bignona']\n"
     ]
    },
    {
     "name": "stderr",
     "output_type": "stream",
     "text": [
      "176it [01:31,  2.04it/s]"
     ]
    },
    {
     "name": "stdout",
     "output_type": "stream",
     "text": [
      "Didn't find with BING or OSM, no bounding box for Google\n",
      "Error getting bounds for: Series([], Name: shapeName, dtype: object)\n",
      "Items: ['PS Ballou', 'Bakel']\n"
     ]
    },
    {
     "name": "stderr",
     "output_type": "stream",
     "text": [
      "177it [01:32,  1.97it/s]"
     ]
    },
    {
     "name": "stdout",
     "output_type": "stream",
     "text": [
      "Didn't find with BING or OSM, no bounding box for Google\n",
      "Error getting bounds for: Series([], Name: shapeName, dtype: object)\n",
      "Items: ['PS Bamba Thialene', 'Koumpentoum']\n"
     ]
    },
    {
     "name": "stderr",
     "output_type": "stream",
     "text": [
      "178it [01:32,  2.11it/s]"
     ]
    },
    {
     "name": "stdout",
     "output_type": "stream",
     "text": [
      "Didn't find with BING or OSM, no bounding box for Google\n",
      "Error getting bounds for: Series([], Name: shapeName, dtype: object)\n",
      "Items: ['PS Bambadinka', 'Kolda']\n"
     ]
    },
    {
     "name": "stderr",
     "output_type": "stream",
     "text": [
      "179it [01:33,  1.95it/s]"
     ]
    },
    {
     "name": "stdout",
     "output_type": "stream",
     "text": [
      "Didn't find with BING or OSM, no bounding box for Google\n",
      "Error getting bounds for: Series([], Name: shapeName, dtype: object)\n",
      "Items: ['PS Bambadji', 'Saraya']\n"
     ]
    },
    {
     "name": "stderr",
     "output_type": "stream",
     "text": [
      "180it [01:33,  2.14it/s]"
     ]
    },
    {
     "name": "stdout",
     "output_type": "stream",
     "text": [
      "Didn't find with BING or OSM, no bounding box for Google\n",
      "Error getting bounds for: Series([], Name: shapeName, dtype: object)\n",
      "Items: ['PS Bambay Serere', 'Bambey']\n"
     ]
    },
    {
     "name": "stderr",
     "output_type": "stream",
     "text": [
      "181it [01:34,  1.93it/s]"
     ]
    },
    {
     "name": "stdout",
     "output_type": "stream",
     "text": [
      "Didn't find with BING or OSM, no bounding box for Google\n",
      "Error getting bounds for: Series([], Name: shapeName, dtype: object)\n",
      "Items: ['PS Bambeye Serere 2', 'Bambey']\n"
     ]
    },
    {
     "name": "stderr",
     "output_type": "stream",
     "text": [
      "182it [01:34,  1.94it/s]"
     ]
    },
    {
     "name": "stdout",
     "output_type": "stream",
     "text": [
      "Didn't find with BING or OSM, no bounding box for Google\n",
      "Error getting bounds for: Series([], Name: shapeName, dtype: object)\n",
      "Items: ['PS Banda Fassi', 'Kedougou']\n"
     ]
    },
    {
     "name": "stderr",
     "output_type": "stream",
     "text": [
      "183it [01:35,  2.09it/s]"
     ]
    },
    {
     "name": "stdout",
     "output_type": "stream",
     "text": [
      "Didn't find with BING or OSM, no bounding box for Google\n",
      "Error getting bounds for: Series([], Name: shapeName, dtype: object)\n",
      "Items: ['PS Bandegne', 'Kebemer']\n"
     ]
    },
    {
     "name": "stderr",
     "output_type": "stream",
     "text": [
      "184it [01:35,  1.92it/s]"
     ]
    },
    {
     "name": "stdout",
     "output_type": "stream",
     "text": [
      "Didn't find with BING or OSM, no bounding box for Google\n",
      "Error getting bounds for: Series([], Name: shapeName, dtype: object)\n",
      "Items: ['PS Bango', 'Saint Louis']\n"
     ]
    },
    {
     "name": "stderr",
     "output_type": "stream",
     "text": [
      "185it [01:36,  1.74it/s]"
     ]
    },
    {
     "name": "stdout",
     "output_type": "stream",
     "text": [
      "Didn't find with BING or OSM, no bounding box for Google\n",
      "Error getting bounds for: Series([], Name: shapeName, dtype: object)\n",
      "Items: ['PS Bantako', 'Kedougou']\n"
     ]
    },
    {
     "name": "stderr",
     "output_type": "stream",
     "text": [
      "186it [01:36,  2.11it/s]"
     ]
    },
    {
     "name": "stdout",
     "output_type": "stream",
     "text": [
      "Didn't find with BING or OSM, no bounding box for Google\n",
      "Error getting bounds for: Series([], Name: shapeName, dtype: object)\n",
      "Items: ['PS Barkedji', 'Linguere']\n"
     ]
    },
    {
     "name": "stderr",
     "output_type": "stream",
     "text": [
      "187it [01:37,  1.94it/s]"
     ]
    },
    {
     "name": "stdout",
     "output_type": "stream",
     "text": [
      "Didn't find with BING or OSM, no bounding box for Google\n",
      "Error getting bounds for: Series([], Name: shapeName, dtype: object)\n",
      "Items: ['PS Barobe Wassatake', 'Podor']\n"
     ]
    },
    {
     "name": "stderr",
     "output_type": "stream",
     "text": [
      "188it [01:37,  2.04it/s]"
     ]
    },
    {
     "name": "stdout",
     "output_type": "stream",
     "text": [
      "Didn't find with BING or OSM, no bounding box for Google\n",
      "Error getting bounds for: Series([], Name: shapeName, dtype: object)\n",
      "Items: ['PS Bassar', 'Foundiougne']\n"
     ]
    },
    {
     "name": "stderr",
     "output_type": "stream",
     "text": [
      "189it [01:38,  1.97it/s]"
     ]
    },
    {
     "name": "stdout",
     "output_type": "stream",
     "text": [
      "Didn't find with BING or OSM, no bounding box for Google\n",
      "Error getting bounds for: Series([], Name: shapeName, dtype: object)\n",
      "Items: ['PS Bassoul', 'Foundiougne']\n"
     ]
    },
    {
     "name": "stderr",
     "output_type": "stream",
     "text": [
      "190it [01:38,  1.98it/s]"
     ]
    },
    {
     "name": "stdout",
     "output_type": "stream",
     "text": [
      "Didn't find with BING or OSM, no bounding box for Google\n",
      "Error getting bounds for: Series([], Name: shapeName, dtype: object)\n",
      "Items: ['PS Batal', 'Bambey']\n"
     ]
    },
    {
     "name": "stderr",
     "output_type": "stream",
     "text": [
      "191it [01:39,  2.03it/s]"
     ]
    },
    {
     "name": "stdout",
     "output_type": "stream",
     "text": [
      "Didn't find with BING or OSM, no bounding box for Google\n",
      "Error getting bounds for: Series([], Name: shapeName, dtype: object)\n",
      "Items: ['PS Belel Kelle', 'Podor']\n"
     ]
    },
    {
     "name": "stderr",
     "output_type": "stream",
     "text": [
      "192it [01:39,  1.81it/s]"
     ]
    },
    {
     "name": "stdout",
     "output_type": "stream",
     "text": [
      "Didn't find with BING or OSM, no bounding box for Google\n",
      "Error getting bounds for: Series([], Name: shapeName, dtype: object)\n",
      "Items: ['PS Belfort', 'Ziguinchor']\n"
     ]
    },
    {
     "name": "stderr",
     "output_type": "stream",
     "text": [
      "193it [01:40,  2.17it/s]"
     ]
    },
    {
     "name": "stdout",
     "output_type": "stream",
     "text": [
      "Didn't find with BING or OSM, no bounding box for Google\n",
      "Error getting bounds for: Series([], Name: shapeName, dtype: object)\n",
      "Items: ['PS Bembou', 'Saraya']\n"
     ]
    },
    {
     "name": "stderr",
     "output_type": "stream",
     "text": [
      "194it [01:40,  2.11it/s]"
     ]
    },
    {
     "name": "stdout",
     "output_type": "stream",
     "text": [
      "Didn't find with BING or OSM, no bounding box for Google\n",
      "Error getting bounds for: Series([], Name: shapeName, dtype: object)\n",
      "Items: ['PS Bemet Bidjini', 'Sedhiou']\n"
     ]
    },
    {
     "name": "stderr",
     "output_type": "stream",
     "text": [
      "195it [01:41,  1.90it/s]"
     ]
    },
    {
     "name": "stdout",
     "output_type": "stream",
     "text": [
      "Didn't find with BING or OSM, no bounding box for Google\n",
      "Error getting bounds for: Series([], Name: shapeName, dtype: object)\n",
      "Items: ['PS Bicole', 'Fatick']\n"
     ]
    },
    {
     "name": "stderr",
     "output_type": "stream",
     "text": [
      "196it [01:41,  2.02it/s]"
     ]
    },
    {
     "name": "stdout",
     "output_type": "stream",
     "text": [
      "Didn't find with BING or OSM, no bounding box for Google\n",
      "Error getting bounds for: Series([], Name: shapeName, dtype: object)\n",
      "Items: ['PS Bidiam', 'Birkelane']\n"
     ]
    },
    {
     "name": "stderr",
     "output_type": "stream",
     "text": [
      "197it [01:42,  2.11it/s]"
     ]
    },
    {
     "name": "stdout",
     "output_type": "stream",
     "text": [
      "Didn't find with BING or OSM, no bounding box for Google\n",
      "Error getting bounds for: Series([], Name: shapeName, dtype: object)\n",
      "Items: ['PS Binako', 'Goudomp']\n"
     ]
    },
    {
     "name": "stderr",
     "output_type": "stream",
     "text": [
      "198it [01:42,  2.00it/s]"
     ]
    },
    {
     "name": "stdout",
     "output_type": "stream",
     "text": [
      "Didn't find with BING or OSM, no bounding box for Google\n",
      "Error getting bounds for: Series([], Name: shapeName, dtype: object)\n",
      "Items: ['PS Bira', 'Tambacounda']\n"
     ]
    },
    {
     "name": "stderr",
     "output_type": "stream",
     "text": [
      "199it [01:43,  1.95it/s]"
     ]
    },
    {
     "name": "stdout",
     "output_type": "stream",
     "text": [
      "Didn't find with BING or OSM, no bounding box for Google\n",
      "Error getting bounds for: Series([], Name: shapeName, dtype: object)\n",
      "Items: ['PS Bode lao', 'Podor']\n"
     ]
    },
    {
     "name": "stderr",
     "output_type": "stream",
     "text": [
      "200it [01:43,  2.00it/s]"
     ]
    },
    {
     "name": "stdout",
     "output_type": "stream",
     "text": [
      "Didn't find with BING or OSM, no bounding box for Google\n",
      "Error getting bounds for: Series([], Name: shapeName, dtype: object)\n",
      "Items: ['PS Bogal', 'Bounkiling']\n"
     ]
    },
    {
     "name": "stderr",
     "output_type": "stream",
     "text": [
      "201it [01:44,  2.03it/s]"
     ]
    },
    {
     "name": "stdout",
     "output_type": "stream",
     "text": [
      "Didn't find with BING or OSM, no bounding box for Google\n",
      "Error getting bounds for: Series([], Name: shapeName, dtype: object)\n",
      "Items: ['PS Boguel', 'Podor']\n"
     ]
    },
    {
     "name": "stderr",
     "output_type": "stream",
     "text": [
      "202it [01:44,  2.02it/s]"
     ]
    },
    {
     "name": "stdout",
     "output_type": "stream",
     "text": [
      "Didn't find with BING or OSM, no bounding box for Google\n",
      "Error getting bounds for: Series([], Name: shapeName, dtype: object)\n",
      "Items: ['PS Bohe Baledji', 'Tambacounda']\n"
     ]
    },
    {
     "name": "stderr",
     "output_type": "stream",
     "text": [
      "203it [01:45,  2.00it/s]"
     ]
    },
    {
     "name": "stdout",
     "output_type": "stream",
     "text": [
      "Didn't find with BING or OSM, no bounding box for Google\n",
      "Error getting bounds for: Series([], Name: shapeName, dtype: object)\n",
      "Items: ['PS Boinadji', 'Matam']\n"
     ]
    },
    {
     "name": "stderr",
     "output_type": "stream",
     "text": [
      "204it [01:45,  2.07it/s]"
     ]
    },
    {
     "name": "stdout",
     "output_type": "stream",
     "text": [
      "Didn't find with BING or OSM, no bounding box for Google\n",
      "Error getting bounds for: Series([], Name: shapeName, dtype: object)\n",
      "Items: ['PS Boke Dialoube', 'Podor']\n"
     ]
    },
    {
     "name": "stderr",
     "output_type": "stream",
     "text": [
      "205it [01:46,  1.93it/s]"
     ]
    },
    {
     "name": "stdout",
     "output_type": "stream",
     "text": [
      "Didn't find with BING or OSM, no bounding box for Google\n",
      "Error getting bounds for: Series([], Name: shapeName, dtype: object)\n",
      "Items: ['PS Boke Mbaybe Salsalbe', 'Podor']\n"
     ]
    },
    {
     "name": "stderr",
     "output_type": "stream",
     "text": [
      "206it [01:46,  1.90it/s]"
     ]
    },
    {
     "name": "stdout",
     "output_type": "stream",
     "text": [
      "Didn't find with BING or OSM, no bounding box for Google\n",
      "Error getting bounds for: Series([], Name: shapeName, dtype: object)\n",
      "Items: ['PS Bokhol', 'Dagana']\n"
     ]
    },
    {
     "name": "stderr",
     "output_type": "stream",
     "text": [
      "207it [01:47,  2.08it/s]"
     ]
    },
    {
     "name": "stdout",
     "output_type": "stream",
     "text": [
      "Didn't find with BING or OSM, no bounding box for Google\n",
      "Error getting bounds for: Series([], Name: shapeName, dtype: object)\n",
      "Items: ['PS Boki Sarankobe', 'Podor']\n"
     ]
    },
    {
     "name": "stderr",
     "output_type": "stream",
     "text": [
      "208it [01:47,  2.06it/s]"
     ]
    },
    {
     "name": "stdout",
     "output_type": "stream",
     "text": [
      "Didn't find with BING or OSM, no bounding box for Google\n",
      "Error getting bounds for: Series([], Name: shapeName, dtype: object)\n",
      "Items: ['PS Bokidiawe', 'Matam']\n"
     ]
    },
    {
     "name": "stderr",
     "output_type": "stream",
     "text": [
      "209it [01:48,  1.89it/s]"
     ]
    },
    {
     "name": "stdout",
     "output_type": "stream",
     "text": [
      "Didn't find with BING or OSM, no bounding box for Google\n",
      "Error getting bounds for: Series([], Name: shapeName, dtype: object)\n",
      "Items: ['PS Bokidiawe 2', 'Matam']\n"
     ]
    },
    {
     "name": "stderr",
     "output_type": "stream",
     "text": [
      "210it [01:48,  1.92it/s]"
     ]
    },
    {
     "name": "stdout",
     "output_type": "stream",
     "text": [
      "Didn't find with BING or OSM, no bounding box for Google\n",
      "Error getting bounds for: Series([], Name: shapeName, dtype: object)\n",
      "Items: ['PS Bokiladji', 'Kanel']\n"
     ]
    },
    {
     "name": "stderr",
     "output_type": "stream",
     "text": [
      "211it [01:49,  2.03it/s]"
     ]
    },
    {
     "name": "stdout",
     "output_type": "stream",
     "text": [
      "Didn't find with BING or OSM, no bounding box for Google\n",
      "Error getting bounds for: Series([], Name: shapeName, dtype: object)\n",
      "Items: ['PS Bokissaboudou', 'Kanel']\n"
     ]
    },
    {
     "name": "stderr",
     "output_type": "stream",
     "text": [
      "212it [01:49,  2.04it/s]"
     ]
    },
    {
     "name": "stdout",
     "output_type": "stream",
     "text": [
      "Didn't find with BING or OSM, no bounding box for Google\n",
      "Error getting bounds for: Series([], Name: shapeName, dtype: object)\n",
      "Items: ['PS Bona', 'Bounkiling']\n"
     ]
    },
    {
     "name": "stderr",
     "output_type": "stream",
     "text": [
      "213it [01:50,  1.98it/s]"
     ]
    },
    {
     "name": "stdout",
     "output_type": "stream",
     "text": [
      "Didn't find with BING or OSM, no bounding box for Google\n",
      "Items: ['PS Bonconto', 'Velingara']\n"
     ]
    },
    {
     "name": "stderr",
     "output_type": "stream",
     "text": [
      "214it [01:50,  1.86it/s]"
     ]
    },
    {
     "name": "stdout",
     "output_type": "stream",
     "text": [
      "Error getting bounds for: Series([], Name: shapeName, dtype: object)\n",
      "Items: ['PS Bossolel', 'Birkelane']\n"
     ]
    },
    {
     "name": "stderr",
     "output_type": "stream",
     "text": [
      "215it [01:51,  2.06it/s]"
     ]
    },
    {
     "name": "stdout",
     "output_type": "stream",
     "text": [
      "Didn't find with BING or OSM, no bounding box for Google\n",
      "Error getting bounds for: Series([], Name: shapeName, dtype: object)\n",
      "Items: ['PS Botou', 'Tambacounda']\n"
     ]
    },
    {
     "name": "stderr",
     "output_type": "stream",
     "text": [
      "216it [01:51,  2.08it/s]"
     ]
    },
    {
     "name": "stdout",
     "output_type": "stream",
     "text": [
      "Didn't find with BING or OSM, no bounding box for Google\n",
      "Error getting bounds for: Series([], Name: shapeName, dtype: object)\n",
      "Items: ['PS Boucotte', 'Oussouye']\n"
     ]
    },
    {
     "name": "stderr",
     "output_type": "stream",
     "text": [
      "217it [01:52,  1.88it/s]"
     ]
    },
    {
     "name": "stdout",
     "output_type": "stream",
     "text": [
      "Didn't find with BING or OSM, no bounding box for Google\n",
      "Error getting bounds for: Series([], Name: shapeName, dtype: object)\n",
      "Items: ['PS Boudhié Samine', 'Sedhiou']\n"
     ]
    },
    {
     "name": "stderr",
     "output_type": "stream",
     "text": [
      "218it [01:52,  2.16it/s]"
     ]
    },
    {
     "name": "stdout",
     "output_type": "stream",
     "text": [
      "Didn't find with BING or OSM, no bounding box for Google\n",
      "Error getting bounds for: Series([], Name: shapeName, dtype: object)\n",
      "Items: ['PS Boudouk', 'Bounkiling']\n"
     ]
    },
    {
     "name": "stderr",
     "output_type": "stream",
     "text": [
      "219it [01:53,  1.97it/s]"
     ]
    },
    {
     "name": "stdout",
     "output_type": "stream",
     "text": [
      "Didn't find with BING or OSM, no bounding box for Google\n",
      "Error getting bounds for: Series([], Name: shapeName, dtype: object)\n",
      "Items: ['PS Bougoutoub', 'Bignona']\n"
     ]
    },
    {
     "name": "stderr",
     "output_type": "stream",
     "text": [
      "220it [01:53,  2.06it/s]"
     ]
    },
    {
     "name": "stdout",
     "output_type": "stream",
     "text": [
      "Didn't find with BING or OSM, no bounding box for Google\n",
      "Error getting bounds for: Series([], Name: shapeName, dtype: object)\n",
      "Items: ['PS Boulal Nianghene', 'Dakar']\n"
     ]
    },
    {
     "name": "stderr",
     "output_type": "stream",
     "text": [
      "221it [01:54,  1.94it/s]"
     ]
    },
    {
     "name": "stdout",
     "output_type": "stream",
     "text": [
      "Didn't find with BING or OSM, no bounding box for Google\n",
      "Error getting bounds for: Series([], Name: shapeName, dtype: object)\n",
      "Items: ['PS Boulel', 'Kaffrine']\n"
     ]
    },
    {
     "name": "stderr",
     "output_type": "stream",
     "text": [
      "222it [01:54,  2.12it/s]"
     ]
    },
    {
     "name": "stdout",
     "output_type": "stream",
     "text": [
      "Didn't find with BING or OSM, no bounding box for Google\n",
      "Error getting bounds for: Series([], Name: shapeName, dtype: object)\n",
      "Items: ['PS Boumouda', 'Sedhiou']\n"
     ]
    },
    {
     "name": "stderr",
     "output_type": "stream",
     "text": [
      "223it [01:55,  1.91it/s]"
     ]
    },
    {
     "name": "stdout",
     "output_type": "stream",
     "text": [
      "Didn't find with BING or OSM, no bounding box for Google\n",
      "Error getting bounds for: Series([], Name: shapeName, dtype: object)\n",
      "Items: ['PS Bouna Kane', 'Kolda']\n"
     ]
    },
    {
     "name": "stderr",
     "output_type": "stream",
     "text": [
      "224it [01:55,  2.05it/s]"
     ]
    },
    {
     "name": "stdout",
     "output_type": "stream",
     "text": [
      "Didn't find with BING or OSM, no bounding box for Google\n",
      "Error getting bounds for: Series([], Name: shapeName, dtype: object)\n",
      "Items: ['PS Bouno', 'Sedhiou']\n"
     ]
    },
    {
     "name": "stderr",
     "output_type": "stream",
     "text": [
      "225it [01:56,  1.87it/s]"
     ]
    },
    {
     "name": "stdout",
     "output_type": "stream",
     "text": [
      "Didn't find with BING or OSM, no bounding box for Google\n",
      "Error getting bounds for: Series([], Name: shapeName, dtype: object)\n",
      "Items: ['PS Boureck', 'Bignona']\n"
     ]
    },
    {
     "name": "stderr",
     "output_type": "stream",
     "text": [
      "226it [01:56,  2.07it/s]"
     ]
    },
    {
     "name": "stdout",
     "output_type": "stream",
     "text": [
      "Didn't find with BING or OSM, no bounding box for Google\n",
      "Error getting bounds for: Series([], Name: shapeName, dtype: object)\n",
      "Items: ['PS Bourofaye', 'Ziguinchor']\n"
     ]
    },
    {
     "name": "stderr",
     "output_type": "stream",
     "text": [
      "227it [01:57,  2.00it/s]"
     ]
    },
    {
     "name": "stdout",
     "output_type": "stream",
     "text": [
      "Didn't find with BING or OSM, no bounding box for Google\n",
      "Error getting bounds for: Series([], Name: shapeName, dtype: object)\n",
      "Items: ['PS Bourouko', 'Medina Yoroufoula']\n"
     ]
    },
    {
     "name": "stderr",
     "output_type": "stream",
     "text": [
      "228it [01:57,  2.06it/s]"
     ]
    },
    {
     "name": "stdout",
     "output_type": "stream",
     "text": [
      "Didn't find with BING or OSM, no bounding box for Google\n",
      "Error getting bounds for: Series([], Name: shapeName, dtype: object)\n",
      "Items: ['PS Boustane', 'Kaolack']\n"
     ]
    },
    {
     "name": "stderr",
     "output_type": "stream",
     "text": [
      "229it [01:58,  1.89it/s]"
     ]
    },
    {
     "name": "stdout",
     "output_type": "stream",
     "text": [
      "Didn't find with BING or OSM, no bounding box for Google\n",
      "Error getting bounds for: Series([], Name: shapeName, dtype: object)\n",
      "Items: ['PS Bouteyni', 'Dagana']\n"
     ]
    },
    {
     "name": "stderr",
     "output_type": "stream",
     "text": [
      "230it [01:58,  2.12it/s]"
     ]
    },
    {
     "name": "stdout",
     "output_type": "stream",
     "text": [
      "Didn't find with BING or OSM, no bounding box for Google\n",
      "Error getting bounds for: Series([], Name: shapeName, dtype: object)\n",
      "Items: ['PS Boutoupa', 'Ziguinchor']\n"
     ]
    },
    {
     "name": "stderr",
     "output_type": "stream",
     "text": [
      "231it [01:59,  2.11it/s]"
     ]
    },
    {
     "name": "stdout",
     "output_type": "stream",
     "text": [
      "Didn't find with BING or OSM, no bounding box for Google\n",
      "Error getting bounds for: Series([], Name: shapeName, dtype: object)\n",
      "Items: ['PS Bow', 'Kanel']\n"
     ]
    },
    {
     "name": "stderr",
     "output_type": "stream",
     "text": [
      "232it [01:59,  1.95it/s]"
     ]
    },
    {
     "name": "stdout",
     "output_type": "stream",
     "text": [
      "Didn't find with BING or OSM, no bounding box for Google\n",
      "Error getting bounds for: Series([], Name: shapeName, dtype: object)\n",
      "Items: ['PS Cabrousse', 'Oussouye']\n"
     ]
    },
    {
     "name": "stderr",
     "output_type": "stream",
     "text": [
      "233it [02:00,  1.91it/s]"
     ]
    },
    {
     "name": "stdout",
     "output_type": "stream",
     "text": [
      "Didn't find with BING or OSM, no bounding box for Google\n",
      "Error getting bounds for: Series([], Name: shapeName, dtype: object)\n",
      "Items: ['PS Cadjinolle', 'Oussouye']\n"
     ]
    },
    {
     "name": "stderr",
     "output_type": "stream",
     "text": [
      "234it [02:00,  2.16it/s]"
     ]
    },
    {
     "name": "stdout",
     "output_type": "stream",
     "text": [
      "Didn't find with BING or OSM, no bounding box for Google\n",
      "Error getting bounds for: Series([], Name: shapeName, dtype: object)\n",
      "Items: ['PS Cagnoute', 'Oussouye']\n"
     ]
    },
    {
     "name": "stderr",
     "output_type": "stream",
     "text": [
      "235it [02:01,  2.00it/s]"
     ]
    },
    {
     "name": "stdout",
     "output_type": "stream",
     "text": [
      "Didn't find with BING or OSM, no bounding box for Google\n",
      "Error getting bounds for: Series([], Name: shapeName, dtype: object)\n",
      "Items: ['PS Cap Skirring', 'Oussouye']\n"
     ]
    },
    {
     "name": "stderr",
     "output_type": "stream",
     "text": [
      "236it [02:01,  1.84it/s]"
     ]
    },
    {
     "name": "stdout",
     "output_type": "stream",
     "text": [
      "Didn't find with BING or OSM, no bounding box for Google\n",
      "Error getting bounds for: Series([], Name: shapeName, dtype: object)\n",
      "Items: ['PS CAPEC', 'Mbour']\n"
     ]
    },
    {
     "name": "stderr",
     "output_type": "stream",
     "text": [
      "237it [02:02,  2.05it/s]"
     ]
    },
    {
     "name": "stdout",
     "output_type": "stream",
     "text": [
      "Didn't find with BING or OSM, no bounding box for Google\n",
      "Error getting bounds for: Series([], Name: shapeName, dtype: object)\n",
      "Items: ['PS Carabane Ile', 'Oussouye']\n"
     ]
    },
    {
     "name": "stderr",
     "output_type": "stream",
     "text": [
      "238it [02:02,  1.91it/s]"
     ]
    },
    {
     "name": "stdout",
     "output_type": "stream",
     "text": [
      "Didn't find with BING or OSM, no bounding box for Google\n",
      "Error getting bounds for: Series([], Name: shapeName, dtype: object)\n",
      "Items: ['PS Carounate', 'Oussouye']\n"
     ]
    },
    {
     "name": "stderr",
     "output_type": "stream",
     "text": [
      "239it [02:03,  2.08it/s]"
     ]
    },
    {
     "name": "stdout",
     "output_type": "stream",
     "text": [
      "Didn't find with BING or OSM, no bounding box for Google\n",
      "Error getting bounds for: Series([], Name: shapeName, dtype: object)\n",
      "Items: ['PS Cascas', 'Podor']\n"
     ]
    },
    {
     "name": "stderr",
     "output_type": "stream",
     "text": [
      "240it [02:03,  1.99it/s]"
     ]
    },
    {
     "name": "stdout",
     "output_type": "stream",
     "text": [
      "Didn't find with BING or OSM, no bounding box for Google\n",
      "Error getting bounds for: Series([], Name: shapeName, dtype: object)\n",
      "Items: ['PS Chaden', 'Mbour']\n"
     ]
    },
    {
     "name": "stderr",
     "output_type": "stream",
     "text": [
      "241it [02:04,  2.15it/s]"
     ]
    },
    {
     "name": "stdout",
     "output_type": "stream",
     "text": [
      "Didn't find with BING or OSM, no bounding box for Google\n",
      "Error getting bounds for: Series([], Name: shapeName, dtype: object)\n",
      "Items: ['PS Cheikh Anta', 'Diourbel']\n"
     ]
    },
    {
     "name": "stderr",
     "output_type": "stream",
     "text": [
      "242it [02:04,  2.00it/s]"
     ]
    },
    {
     "name": "stdout",
     "output_type": "stream",
     "text": [
      "Didn't find with BING or OSM, no bounding box for Google\n",
      "Error getting bounds for: Series([], Name: shapeName, dtype: object)\n",
      "Items: ['PS Cherif Lo', 'Tivaoune']\n"
     ]
    },
    {
     "name": "stderr",
     "output_type": "stream",
     "text": [
      "243it [02:05,  1.85it/s]"
     ]
    },
    {
     "name": "stdout",
     "output_type": "stream",
     "text": [
      "Didn't find with BING or OSM, no bounding box for Google\n",
      "Error getting bounds for: Series([], Name: shapeName, dtype: object)\n",
      "Items: ['PS Cite Lamy', 'Thies']\n"
     ]
    },
    {
     "name": "stderr",
     "output_type": "stream",
     "text": [
      "244it [02:05,  1.94it/s]"
     ]
    },
    {
     "name": "stdout",
     "output_type": "stream",
     "text": [
      "Didn't find with BING or OSM, no bounding box for Google\n",
      "Error getting bounds for: Series([], Name: shapeName, dtype: object)\n",
      "Items: ['PS Cite Niakh', 'Thies']\n"
     ]
    },
    {
     "name": "stderr",
     "output_type": "stream",
     "text": [
      "245it [02:06,  2.05it/s]"
     ]
    },
    {
     "name": "stdout",
     "output_type": "stream",
     "text": [
      "Didn't find with BING or OSM, no bounding box for Google\n",
      "Error getting bounds for: Series([], Name: shapeName, dtype: object)\n",
      "Items: ['PS Colette Senghor', 'Ziguinchor']\n"
     ]
    },
    {
     "name": "stderr",
     "output_type": "stream",
     "text": [
      "246it [02:06,  1.99it/s]"
     ]
    },
    {
     "name": "stdout",
     "output_type": "stream",
     "text": [
      "Didn't find with BING or OSM, no bounding box for Google\n",
      "Error getting bounds for: Series([], Name: shapeName, dtype: object)\n",
      "Items: ['PS Colobane Lambaye', 'Guinguineo']\n"
     ]
    },
    {
     "name": "stderr",
     "output_type": "stream",
     "text": [
      "247it [02:07,  2.10it/s]"
     ]
    },
    {
     "name": "stdout",
     "output_type": "stream",
     "text": [
      "Didn't find with BING or OSM, no bounding box for Google\n",
      "Error getting bounds for: Series([], Name: shapeName, dtype: object)\n",
      "Items: ['PS Communal', 'Dakar']\n"
     ]
    },
    {
     "name": "stderr",
     "output_type": "stream",
     "text": [
      "248it [02:07,  2.01it/s]"
     ]
    },
    {
     "name": "stdout",
     "output_type": "stream",
     "text": [
      "Didn't find with BING or OSM, no bounding box for Google\n",
      "Error getting bounds for: Series([], Name: shapeName, dtype: object)\n",
      "Items: ['PS Commune de Podor', 'Podor']\n"
     ]
    },
    {
     "name": "stderr",
     "output_type": "stream",
     "text": [
      "249it [02:08,  1.87it/s]"
     ]
    },
    {
     "name": "stdout",
     "output_type": "stream",
     "text": [
      "Didn't find with BING or OSM, no bounding box for Google\n",
      "Error getting bounds for: Series([], Name: shapeName, dtype: object)\n",
      "Items: ['PS Coubalan', 'Bignona']\n"
     ]
    },
    {
     "name": "stderr",
     "output_type": "stream",
     "text": [
      "250it [02:08,  1.78it/s]"
     ]
    },
    {
     "name": "stdout",
     "output_type": "stream",
     "text": [
      "Didn't find with BING or OSM, no bounding box for Google\n",
      "Error getting bounds for: Series([], Name: shapeName, dtype: object)\n",
      "Items: ['PS Coubanao', 'Bignona']\n"
     ]
    },
    {
     "name": "stderr",
     "output_type": "stream",
     "text": [
      "251it [02:09,  2.09it/s]"
     ]
    },
    {
     "name": "stdout",
     "output_type": "stream",
     "text": [
      "Didn't find with BING or OSM, no bounding box for Google\n",
      "Error getting bounds for: Series([], Name: shapeName, dtype: object)\n",
      "Items: ['PS Coumbacara', 'Kolda']\n"
     ]
    },
    {
     "name": "stderr",
     "output_type": "stream",
     "text": [
      "252it [02:09,  2.01it/s]"
     ]
    },
    {
     "name": "stdout",
     "output_type": "stream",
     "text": [
      "Didn't find with BING or OSM, no bounding box for Google\n",
      "Error getting bounds for: Series([], Name: shapeName, dtype: object)\n",
      "Items: ['PS Coura Mouride', 'Koungheul']\n"
     ]
    },
    {
     "name": "stderr",
     "output_type": "stream",
     "text": [
      "253it [02:10,  2.01it/s]"
     ]
    },
    {
     "name": "stdout",
     "output_type": "stream",
     "text": [
      "Didn't find with BING or OSM, no bounding box for Google\n",
      "Error getting bounds for: Series([], Name: shapeName, dtype: object)\n",
      "Items: ['PS Dabaly', 'Ranerou']\n"
     ]
    },
    {
     "name": "stderr",
     "output_type": "stream",
     "text": [
      "254it [02:10,  2.07it/s]"
     ]
    },
    {
     "name": "stdout",
     "output_type": "stream",
     "text": [
      "Didn't find with BING or OSM, no bounding box for Google\n",
      "Error getting bounds for: Series([], Name: shapeName, dtype: object)\n",
      "Items: ['PS Dabo', 'Kolda']\n"
     ]
    },
    {
     "name": "stderr",
     "output_type": "stream",
     "text": [
      "255it [02:11,  1.90it/s]"
     ]
    },
    {
     "name": "stdout",
     "output_type": "stream",
     "text": [
      "Didn't find with BING or OSM, no bounding box for Google\n",
      "Error getting bounds for: Series([], Name: shapeName, dtype: object)\n",
      "Items: ['PS Daga Youndoume', 'Tivaoune']\n"
     ]
    },
    {
     "name": "stderr",
     "output_type": "stream",
     "text": [
      "256it [02:11,  2.14it/s]"
     ]
    },
    {
     "name": "stdout",
     "output_type": "stream",
     "text": [
      "Didn't find with BING or OSM, no bounding box for Google\n",
      "Error getting bounds for: Series([], Name: shapeName, dtype: object)\n",
      "Items: ['PS Dakately', 'Salemata']\n"
     ]
    },
    {
     "name": "stderr",
     "output_type": "stream",
     "text": [
      "257it [02:12,  1.98it/s]"
     ]
    },
    {
     "name": "stdout",
     "output_type": "stream",
     "text": [
      "Didn't find with BING or OSM, no bounding box for Google\n",
      "Error getting bounds for: Series([], Name: shapeName, dtype: object)\n",
      "Items: ['PS Dalifort', 'Pikine']\n"
     ]
    },
    {
     "name": "stderr",
     "output_type": "stream",
     "text": [
      "258it [02:12,  1.98it/s]"
     ]
    },
    {
     "name": "stdout",
     "output_type": "stream",
     "text": [
      "Didn't find with BING or OSM, no bounding box for Google\n",
      "Error getting bounds for: Series([], Name: shapeName, dtype: object)\n",
      "Items: ['PS Dalla Ngabou', 'Mbacke']\n"
     ]
    },
    {
     "name": "stderr",
     "output_type": "stream",
     "text": [
      "259it [02:13,  1.99it/s]"
     ]
    },
    {
     "name": "stdout",
     "output_type": "stream",
     "text": [
      "Didn't find with BING or OSM, no bounding box for Google\n",
      "Error getting bounds for: Series([], Name: shapeName, dtype: object)\n",
      "Items: ['PS Daloto', 'Saraya']\n"
     ]
    },
    {
     "name": "stderr",
     "output_type": "stream",
     "text": [
      "260it [02:13,  1.92it/s]"
     ]
    },
    {
     "name": "stdout",
     "output_type": "stream",
     "text": [
      "Didn't find with BING or OSM, no bounding box for Google\n",
      "Error getting bounds for: Series([], Name: shapeName, dtype: object)\n",
      "Items: ['PS Dangou', 'Rufisque']\n"
     ]
    },
    {
     "name": "stderr",
     "output_type": "stream",
     "text": [
      "261it [02:14,  2.07it/s]"
     ]
    },
    {
     "name": "stdout",
     "output_type": "stream",
     "text": [
      "Didn't find with BING or OSM, no bounding box for Google\n",
      "Error getting bounds for: Series([], Name: shapeName, dtype: object)\n",
      "Items: ['PS Dankh Sene', 'Diourbel']\n"
     ]
    },
    {
     "name": "stderr",
     "output_type": "stream",
     "text": [
      "262it [02:14,  1.92it/s]"
     ]
    },
    {
     "name": "stdout",
     "output_type": "stream",
     "text": [
      "Didn't find with BING or OSM, no bounding box for Google\n",
      "Error getting bounds for: Series([], Name: shapeName, dtype: object)\n",
      "Items: ['PS Dar Salam Fodé', 'Tambacounda']\n"
     ]
    },
    {
     "name": "stderr",
     "output_type": "stream",
     "text": [
      "263it [02:15,  2.14it/s]"
     ]
    },
    {
     "name": "stdout",
     "output_type": "stream",
     "text": [
      "Didn't find with BING or OSM, no bounding box for Google\n",
      "Error getting bounds for: Series([], Name: shapeName, dtype: object)\n",
      "Items: ['PS Dara Halaybe', 'Podor']\n"
     ]
    },
    {
     "name": "stderr",
     "output_type": "stream",
     "text": [
      "264it [02:15,  2.01it/s]"
     ]
    },
    {
     "name": "stdout",
     "output_type": "stream",
     "text": [
      "Didn't find with BING or OSM, no bounding box for Google\n",
      "Error getting bounds for: Series([], Name: shapeName, dtype: object)\n",
      "Items: ['PS Dara Mboss', 'Guinguineo']\n"
     ]
    },
    {
     "name": "stderr",
     "output_type": "stream",
     "text": [
      "265it [02:16,  2.03it/s]"
     ]
    },
    {
     "name": "stdout",
     "output_type": "stream",
     "text": [
      "Didn't find with BING or OSM, no bounding box for Google\n",
      "Error getting bounds for: Series([], Name: shapeName, dtype: object)\n",
      "Items: ['PS Darou Alpha', 'Tivaoune']\n"
     ]
    },
    {
     "name": "stderr",
     "output_type": "stream",
     "text": [
      "266it [02:16,  2.03it/s]"
     ]
    },
    {
     "name": "stdout",
     "output_type": "stream",
     "text": [
      "Didn't find with BING or OSM, no bounding box for Google\n",
      "Error getting bounds for: Series([], Name: shapeName, dtype: object)\n",
      "Items: ['PS Darou Kaffat', 'Koungheul']\n"
     ]
    },
    {
     "name": "stderr",
     "output_type": "stream",
     "text": [
      "267it [02:17,  2.09it/s]"
     ]
    },
    {
     "name": "stdout",
     "output_type": "stream",
     "text": [
      "Didn't find with BING or OSM, no bounding box for Google\n",
      "Error getting bounds for: Series([], Name: shapeName, dtype: object)\n",
      "Items: ['PS Darou Khoudoss', 'Pikine']\n"
     ]
    },
    {
     "name": "stderr",
     "output_type": "stream",
     "text": [
      "268it [02:17,  1.89it/s]"
     ]
    },
    {
     "name": "stdout",
     "output_type": "stream",
     "text": [
      "Didn't find with BING or OSM, no bounding box for Google\n",
      "Error getting bounds for: Series([], Name: shapeName, dtype: object)\n",
      "Items: ['PS Darou Mbiteyene', 'Tivaoune']\n"
     ]
    },
    {
     "name": "stderr",
     "output_type": "stream",
     "text": [
      "269it [02:18,  2.02it/s]"
     ]
    },
    {
     "name": "stdout",
     "output_type": "stream",
     "text": [
      "Didn't find with BING or OSM, no bounding box for Google\n",
      "Error getting bounds for: Series([], Name: shapeName, dtype: object)\n",
      "Items: ['PS Darou Nahim', 'Mbacke']\n"
     ]
    },
    {
     "name": "stderr",
     "output_type": "stream",
     "text": [
      "270it [02:18,  2.08it/s]"
     ]
    },
    {
     "name": "stdout",
     "output_type": "stream",
     "text": [
      "Didn't find with BING or OSM, no bounding box for Google\n",
      "Error getting bounds for: Series([], Name: shapeName, dtype: object)\n",
      "Items: ['PS Darou Pakathiar', 'Tivaoune']\n"
     ]
    },
    {
     "name": "stderr",
     "output_type": "stream",
     "text": [
      "271it [02:19,  1.94it/s]"
     ]
    },
    {
     "name": "stdout",
     "output_type": "stream",
     "text": [
      "Didn't find with BING or OSM, no bounding box for Google\n",
      "Error getting bounds for: Series([], Name: shapeName, dtype: object)\n",
      "Items: ['PS Darou Ridouane', 'Kaolack']\n"
     ]
    },
    {
     "name": "stderr",
     "output_type": "stream",
     "text": [
      "272it [02:19,  1.88it/s]"
     ]
    },
    {
     "name": "stdout",
     "output_type": "stream",
     "text": [
      "Didn't find with BING or OSM, no bounding box for Google\n",
      "Error getting bounds for: Series([], Name: shapeName, dtype: object)\n",
      "Items: ['PS Darou Salam', 'Mbour']\n"
     ]
    },
    {
     "name": "stderr",
     "output_type": "stream",
     "text": [
      "273it [02:20,  2.11it/s]"
     ]
    },
    {
     "name": "stdout",
     "output_type": "stream",
     "text": [
      "Didn't find with BING or OSM, no bounding box for Google\n",
      "Error getting bounds for: Series([], Name: shapeName, dtype: object)\n",
      "Items: ['PS Darou Salam 2', 'Koumpentoum']\n"
     ]
    },
    {
     "name": "stderr",
     "output_type": "stream",
     "text": [
      "274it [02:20,  2.05it/s]"
     ]
    },
    {
     "name": "stdout",
     "output_type": "stream",
     "text": [
      "Didn't find with BING or OSM, no bounding box for Google\n",
      "Error getting bounds for: Series([], Name: shapeName, dtype: object)\n",
      "Items: ['PS Darou Salam Commune', 'Ranerou']\n"
     ]
    },
    {
     "name": "stderr",
     "output_type": "stream",
     "text": [
      "275it [02:21,  2.01it/s]"
     ]
    },
    {
     "name": "stdout",
     "output_type": "stream",
     "text": [
      "Didn't find with BING or OSM, no bounding box for Google\n",
      "Error getting bounds for: Series([], Name: shapeName, dtype: object)\n",
      "Items: ['PS Darou Salam DIOP', 'Linguere']\n"
     ]
    },
    {
     "name": "stderr",
     "output_type": "stream",
     "text": [
      "276it [02:21,  1.99it/s]"
     ]
    },
    {
     "name": "stdout",
     "output_type": "stream",
     "text": [
      "Didn't find with BING or OSM, no bounding box for Google\n",
      "Error getting bounds for: Series([], Name: shapeName, dtype: object)\n",
      "Items: ['PS Darou Salam Mouride', 'Ranerou']\n"
     ]
    },
    {
     "name": "stderr",
     "output_type": "stream",
     "text": [
      "277it [02:22,  1.98it/s]"
     ]
    },
    {
     "name": "stdout",
     "output_type": "stream",
     "text": [
      "Didn't find with BING or OSM, no bounding box for Google\n",
      "Error getting bounds for: Series([], Name: shapeName, dtype: object)\n",
      "Items: ['PS Darou Salam Nioro', 'Ranerou']\n"
     ]
    },
    {
     "name": "stderr",
     "output_type": "stream",
     "text": [
      "278it [02:22,  2.06it/s]"
     ]
    },
    {
     "name": "stdout",
     "output_type": "stream",
     "text": [
      "Didn't find with BING or OSM, no bounding box for Google\n",
      "Error getting bounds for: Series([], Name: shapeName, dtype: object)\n",
      "Items: ['PS Darou Salam Urbain', 'Fatick']\n"
     ]
    },
    {
     "name": "stderr",
     "output_type": "stream",
     "text": [
      "279it [02:23,  2.05it/s]"
     ]
    },
    {
     "name": "stdout",
     "output_type": "stream",
     "text": [
      "Didn't find with BING or OSM, no bounding box for Google\n",
      "Items: ['PS Daroukhane', 'Guediawaye']\n"
     ]
    },
    {
     "name": "stderr",
     "output_type": "stream",
     "text": [
      "280it [02:23,  1.92it/s]"
     ]
    },
    {
     "name": "stdout",
     "output_type": "stream",
     "text": [
      "Items: ['PS Darourakhmane', 'Guediawaye']\n"
     ]
    },
    {
     "name": "stderr",
     "output_type": "stream",
     "text": [
      "281it [02:24,  2.03it/s]"
     ]
    },
    {
     "name": "stdout",
     "output_type": "stream",
     "text": [
      "Error getting bounds for: Series([], Name: shapeName, dtype: object)\n",
      "Items: ['PS Dawady', 'Tambacounda']\n"
     ]
    },
    {
     "name": "stderr",
     "output_type": "stream",
     "text": [
      "282it [02:24,  2.07it/s]"
     ]
    },
    {
     "name": "stdout",
     "output_type": "stream",
     "text": [
      "Didn't find with BING or OSM, no bounding box for Google\n",
      "Error getting bounds for: Series([], Name: shapeName, dtype: object)\n",
      "Items: ['PS de Dalaba', 'Kedougou']\n"
     ]
    },
    {
     "name": "stderr",
     "output_type": "stream",
     "text": [
      "283it [02:25,  1.87it/s]"
     ]
    },
    {
     "name": "stdout",
     "output_type": "stream",
     "text": [
      "Didn't find with BING or OSM, no bounding box for Google\n",
      "Error getting bounds for: Series([], Name: shapeName, dtype: object)\n",
      "Items: ['PS Dealy', 'Dakar']\n"
     ]
    },
    {
     "name": "stderr",
     "output_type": "stream",
     "text": [
      "284it [02:25,  1.96it/s]"
     ]
    },
    {
     "name": "stdout",
     "output_type": "stream",
     "text": [
      "Didn't find with BING or OSM, no bounding box for Google\n",
      "Error getting bounds for: Series([], Name: shapeName, dtype: object)\n",
      "Items: ['PS Deggo', 'Pikine']\n"
     ]
    },
    {
     "name": "stderr",
     "output_type": "stream",
     "text": [
      "285it [02:26,  1.95it/s]"
     ]
    },
    {
     "name": "stdout",
     "output_type": "stream",
     "text": [
      "Didn't find with BING or OSM, no bounding box for Google\n",
      "Error getting bounds for: Series([], Name: shapeName, dtype: object)\n",
      "Items: ['PS Dembacani', 'Kanel']\n"
     ]
    },
    {
     "name": "stderr",
     "output_type": "stream",
     "text": [
      "286it [02:26,  2.02it/s]"
     ]
    },
    {
     "name": "stdout",
     "output_type": "stream",
     "text": [
      "Didn't find with BING or OSM, no bounding box for Google\n",
      "Error getting bounds for: Series([], Name: shapeName, dtype: object)\n",
      "Items: ['PS Dembo Coly', 'Sedhiou']\n"
     ]
    },
    {
     "name": "stderr",
     "output_type": "stream",
     "text": [
      "287it [02:27,  1.87it/s]"
     ]
    },
    {
     "name": "stdout",
     "output_type": "stream",
     "text": [
      "Didn't find with BING or OSM, no bounding box for Google\n",
      "Error getting bounds for: Series([], Name: shapeName, dtype: object)\n",
      "Items: ['PS Demet', 'Podor']\n"
     ]
    },
    {
     "name": "stderr",
     "output_type": "stream",
     "text": [
      "288it [02:27,  2.07it/s]"
     ]
    },
    {
     "name": "stdout",
     "output_type": "stream",
     "text": [
      "Didn't find with BING or OSM, no bounding box for Google\n",
      "Error getting bounds for: Series([], Name: shapeName, dtype: object)\n",
      "Items: ['PS Dendeye Gouyegui', 'Mbacke']\n"
     ]
    },
    {
     "name": "stderr",
     "output_type": "stream",
     "text": [
      "289it [02:28,  2.09it/s]"
     ]
    },
    {
     "name": "stdout",
     "output_type": "stream",
     "text": [
      "Didn't find with BING or OSM, no bounding box for Google\n",
      "Error getting bounds for: Series([], Name: shapeName, dtype: object)\n",
      "Items: ['PS Diaba', 'Podor']\n"
     ]
    },
    {
     "name": "stderr",
     "output_type": "stream",
     "text": [
      "290it [02:28,  2.04it/s]"
     ]
    },
    {
     "name": "stdout",
     "output_type": "stream",
     "text": [
      "Didn't find with BING or OSM, no bounding box for Google\n",
      "Error getting bounds for: Series([], Name: shapeName, dtype: object)\n",
      "Items: ['PS Diabel', 'Gossas']\n"
     ]
    },
    {
     "name": "stderr",
     "output_type": "stream",
     "text": [
      "291it [02:29,  2.03it/s]"
     ]
    },
    {
     "name": "stdout",
     "output_type": "stream",
     "text": [
      "Didn't find with BING or OSM, no bounding box for Google\n",
      "Error getting bounds for: Series([], Name: shapeName, dtype: object)\n",
      "Items: ['PS Diacksao', 'Mbour']\n"
     ]
    },
    {
     "name": "stderr",
     "output_type": "stream",
     "text": [
      "292it [02:29,  2.09it/s]"
     ]
    },
    {
     "name": "stdout",
     "output_type": "stream",
     "text": [
      "Didn't find with BING or OSM, no bounding box for Google\n",
      "Error getting bounds for: Series([], Name: shapeName, dtype: object)\n",
      "Items: ['PS Diacounda Diolene', 'Bounkiling']\n"
     ]
    },
    {
     "name": "stderr",
     "output_type": "stream",
     "text": [
      "293it [02:30,  1.98it/s]"
     ]
    },
    {
     "name": "stdout",
     "output_type": "stream",
     "text": [
      "Didn't find with BING or OSM, no bounding box for Google\n",
      "Error getting bounds for: Series([], Name: shapeName, dtype: object)\n",
      "Items: ['PS Diacoye Banga', 'Bignona']\n"
     ]
    },
    {
     "name": "stderr",
     "output_type": "stream",
     "text": [
      "294it [02:30,  2.01it/s]"
     ]
    },
    {
     "name": "stdout",
     "output_type": "stream",
     "text": [
      "Didn't find with BING or OSM, no bounding box for Google\n",
      "Error getting bounds for: Series([], Name: shapeName, dtype: object)\n",
      "Items: ['PS Diaga Keur Serigne', 'Malem Hodar']\n"
     ]
    },
    {
     "name": "stderr",
     "output_type": "stream",
     "text": [
      "295it [02:31,  2.06it/s]"
     ]
    },
    {
     "name": "stdout",
     "output_type": "stream",
     "text": [
      "Didn't find with BING or OSM, no bounding box for Google\n",
      "Error getting bounds for: Series([], Name: shapeName, dtype: object)\n",
      "Items: ['PS DIagali', 'Linguere']\n"
     ]
    },
    {
     "name": "stderr",
     "output_type": "stream",
     "text": [
      "296it [02:31,  1.86it/s]"
     ]
    },
    {
     "name": "stdout",
     "output_type": "stream",
     "text": [
      "Didn't find with BING or OSM, no bounding box for Google\n",
      "Error getting bounds for: Series([], Name: shapeName, dtype: object)\n",
      "Items: ['PS Diagle', 'Dagana']\n"
     ]
    },
    {
     "name": "stderr",
     "output_type": "stream",
     "text": [
      "297it [02:32,  1.84it/s]"
     ]
    },
    {
     "name": "stdout",
     "output_type": "stream",
     "text": [
      "Didn't find with BING or OSM, no bounding box for Google\n",
      "Error getting bounds for: Series([], Name: shapeName, dtype: object)\n",
      "Items: ['PS Diagnon', 'Ziguinchor']\n"
     ]
    },
    {
     "name": "stderr",
     "output_type": "stream",
     "text": [
      "298it [02:32,  2.14it/s]"
     ]
    },
    {
     "name": "stdout",
     "output_type": "stream",
     "text": [
      "Didn't find with BING or OSM, no bounding box for Google\n",
      "Error getting bounds for: Series([], Name: shapeName, dtype: object)\n",
      "Items: ['PS Diagnoum', 'Podor']\n"
     ]
    },
    {
     "name": "stderr",
     "output_type": "stream",
     "text": [
      "299it [02:33,  2.00it/s]"
     ]
    },
    {
     "name": "stdout",
     "output_type": "stream",
     "text": [
      "Didn't find with BING or OSM, no bounding box for Google\n",
      "Error getting bounds for: Series([], Name: shapeName, dtype: object)\n",
      "Items: ['PS Diakene Diola', 'Oussouye']\n"
     ]
    },
    {
     "name": "stderr",
     "output_type": "stream",
     "text": [
      "300it [02:33,  1.98it/s]"
     ]
    },
    {
     "name": "stdout",
     "output_type": "stream",
     "text": [
      "Didn't find with BING or OSM, no bounding box for Google\n",
      "Error getting bounds for: Series([], Name: shapeName, dtype: object)\n",
      "Items: ['PS Diakene Ouolof', 'Oussouye']\n"
     ]
    },
    {
     "name": "stderr",
     "output_type": "stream",
     "text": [
      "301it [02:34,  1.97it/s]"
     ]
    },
    {
     "name": "stdout",
     "output_type": "stream",
     "text": [
      "Didn't find with BING or OSM, no bounding box for Google\n",
      "Error getting bounds for: Series([], Name: shapeName, dtype: object)\n",
      "Items: ['PS Diakha Macky', 'Saraya']\n"
     ]
    },
    {
     "name": "stderr",
     "output_type": "stream",
     "text": [
      "302it [02:34,  2.00it/s]"
     ]
    },
    {
     "name": "stdout",
     "output_type": "stream",
     "text": [
      "Didn't find with BING or OSM, no bounding box for Google\n",
      "Error getting bounds for: Series([], Name: shapeName, dtype: object)\n",
      "Items: ['PS Diakha Madina', 'Saraya']\n"
     ]
    },
    {
     "name": "stderr",
     "output_type": "stream",
     "text": [
      "303it [02:35,  2.09it/s]"
     ]
    },
    {
     "name": "stdout",
     "output_type": "stream",
     "text": [
      "Didn't find with BING or OSM, no bounding box for Google\n",
      "Error getting bounds for: Series([], Name: shapeName, dtype: object)\n",
      "Items: ['PS Diakhaba', 'Saraya']\n"
     ]
    },
    {
     "name": "stderr",
     "output_type": "stream",
     "text": [
      "304it [02:35,  1.97it/s]"
     ]
    },
    {
     "name": "stdout",
     "output_type": "stream",
     "text": [
      "Didn't find with BING or OSM, no bounding box for Google\n",
      "Error getting bounds for: Series([], Name: shapeName, dtype: object)\n",
      "Items: ['PS Diakhaling', 'Saraya']\n"
     ]
    },
    {
     "name": "stderr",
     "output_type": "stream",
     "text": [
      "305it [02:36,  2.14it/s]"
     ]
    },
    {
     "name": "stdout",
     "output_type": "stream",
     "text": [
      "Didn't find with BING or OSM, no bounding box for Google\n",
      "Error getting bounds for: Series([], Name: shapeName, dtype: object)\n",
      "Items: ['PS Dialacoumbi', 'Kolda']\n"
     ]
    },
    {
     "name": "stderr",
     "output_type": "stream",
     "text": [
      "306it [02:36,  1.95it/s]"
     ]
    },
    {
     "name": "stdout",
     "output_type": "stream",
     "text": [
      "Didn't find with BING or OSM, no bounding box for Google\n",
      "Items: ['PS Dialadiang', 'Velingara']\n"
     ]
    },
    {
     "name": "stderr",
     "output_type": "stream",
     "text": [
      "307it [02:37,  1.93it/s]"
     ]
    },
    {
     "name": "stdout",
     "output_type": "stream",
     "text": [
      "Error getting bounds for: Series([], Name: shapeName, dtype: object)\n",
      "Items: ['PS Dialegne', 'Kaolack']\n"
     ]
    },
    {
     "name": "stderr",
     "output_type": "stream",
     "text": [
      "308it [02:37,  2.02it/s]"
     ]
    },
    {
     "name": "stdout",
     "output_type": "stream",
     "text": [
      "Didn't find with BING or OSM, no bounding box for Google\n",
      "Error getting bounds for: Series([], Name: shapeName, dtype: object)\n",
      "Items: ['PS Dialembere', 'Kolda']\n"
     ]
    },
    {
     "name": "stderr",
     "output_type": "stream",
     "text": [
      "309it [02:38,  2.07it/s]"
     ]
    },
    {
     "name": "stdout",
     "output_type": "stream",
     "text": [
      "Didn't find with BING or OSM, no bounding box for Google\n",
      "Error getting bounds for: Series([], Name: shapeName, dtype: object)\n",
      "Items: ['PS Dialloubé', 'Kanel']\n"
     ]
    },
    {
     "name": "stderr",
     "output_type": "stream",
     "text": [
      "310it [02:38,  1.98it/s]"
     ]
    },
    {
     "name": "stdout",
     "output_type": "stream",
     "text": [
      "Didn't find with BING or OSM, no bounding box for Google\n",
      "Error getting bounds for: Series([], Name: shapeName, dtype: object)\n",
      "Items: ['PS Dialocoto', 'Tambacounda']\n"
     ]
    },
    {
     "name": "stderr",
     "output_type": "stream",
     "text": [
      "311it [02:39,  1.95it/s]"
     ]
    },
    {
     "name": "stdout",
     "output_type": "stream",
     "text": [
      "Didn't find with BING or OSM, no bounding box for Google\n",
      "Error getting bounds for: Series([], Name: shapeName, dtype: object)\n",
      "Items: ['PS Dialocounda', 'Bounkiling']\n"
     ]
    },
    {
     "name": "stderr",
     "output_type": "stream",
     "text": [
      "312it [02:39,  2.07it/s]"
     ]
    },
    {
     "name": "stdout",
     "output_type": "stream",
     "text": [
      "Didn't find with BING or OSM, no bounding box for Google\n",
      "Error getting bounds for: Series([], Name: shapeName, dtype: object)\n",
      "Items: ['PS Diam Diam', 'Koumpentoum']\n"
     ]
    },
    {
     "name": "stderr",
     "output_type": "stream",
     "text": [
      "313it [02:40,  1.97it/s]"
     ]
    },
    {
     "name": "stdout",
     "output_type": "stream",
     "text": [
      "Didn't find with BING or OSM, no bounding box for Google\n",
      "Error getting bounds for: Series([], Name: shapeName, dtype: object)\n",
      "Items: ['PS Diamagadio', 'Kaffrine']\n"
     ]
    },
    {
     "name": "stderr",
     "output_type": "stream",
     "text": [
      "314it [02:40,  1.96it/s]"
     ]
    },
    {
     "name": "stdout",
     "output_type": "stream",
     "text": [
      "Didn't find with BING or OSM, no bounding box for Google\n",
      "Error getting bounds for: Series([], Name: shapeName, dtype: object)\n",
      "Items: ['PS Diamaguene', 'Mbacke']\n"
     ]
    },
    {
     "name": "stderr",
     "output_type": "stream",
     "text": [
      "315it [02:41,  2.05it/s]"
     ]
    },
    {
     "name": "stdout",
     "output_type": "stream",
     "text": [
      "Didn't find with BING or OSM, no bounding box for Google\n",
      "Error getting bounds for: Series([], Name: shapeName, dtype: object)\n",
      "Items: ['PS Diamagueune', 'Ranerou']\n"
     ]
    },
    {
     "name": "stderr",
     "output_type": "stream",
     "text": [
      "316it [02:41,  2.04it/s]"
     ]
    },
    {
     "name": "stdout",
     "output_type": "stream",
     "text": [
      "Didn't find with BING or OSM, no bounding box for Google\n",
      "Error getting bounds for: Series([], Name: shapeName, dtype: object)\n",
      "Items: ['PS Diamal', 'Podor']\n"
     ]
    },
    {
     "name": "stderr",
     "output_type": "stream",
     "text": [
      "317it [02:42,  2.00it/s]"
     ]
    },
    {
     "name": "stdout",
     "output_type": "stream",
     "text": [
      "Didn't find with BING or OSM, no bounding box for Google\n",
      "Error getting bounds for: Series([], Name: shapeName, dtype: object)\n",
      "Items: ['PS Diamaye', 'Bignona']\n"
     ]
    },
    {
     "name": "stderr",
     "output_type": "stream",
     "text": [
      "318it [02:42,  2.02it/s]"
     ]
    },
    {
     "name": "stdout",
     "output_type": "stream",
     "text": [
      "Didn't find with BING or OSM, no bounding box for Google\n",
      "Error getting bounds for: Series([], Name: shapeName, dtype: object)\n",
      "Items: ['PS Diambati', 'Bounkiling']\n"
     ]
    },
    {
     "name": "stderr",
     "output_type": "stream",
     "text": [
      "319it [02:43,  1.91it/s]"
     ]
    },
    {
     "name": "stdout",
     "output_type": "stream",
     "text": [
      "Didn't find with BING or OSM, no bounding box for Google\n",
      "Error getting bounds for: Series([], Name: shapeName, dtype: object)\n",
      "Items: ['PS Diambo', 'Podor']\n"
     ]
    },
    {
     "name": "stderr",
     "output_type": "stream",
     "text": [
      "320it [02:43,  2.03it/s]"
     ]
    },
    {
     "name": "stdout",
     "output_type": "stream",
     "text": [
      "Didn't find with BING or OSM, no bounding box for Google\n",
      "Error getting bounds for: Series([], Name: shapeName, dtype: object)\n",
      "Items: ['PS Diamegueune', 'Mbour']\n"
     ]
    },
    {
     "name": "stderr",
     "output_type": "stream",
     "text": [
      "321it [02:44,  2.07it/s]"
     ]
    },
    {
     "name": "stdout",
     "output_type": "stream",
     "text": [
      "Didn't find with BING or OSM, no bounding box for Google\n",
      "Error getting bounds for: Series([], Name: shapeName, dtype: object)\n",
      "Items: ['PS Diamel', 'Matam']\n"
     ]
    },
    {
     "name": "stderr",
     "output_type": "stream",
     "text": [
      "322it [02:44,  2.01it/s]"
     ]
    },
    {
     "name": "stdout",
     "output_type": "stream",
     "text": [
      "Didn't find with BING or OSM, no bounding box for Google\n",
      "Error getting bounds for: Series([], Name: shapeName, dtype: object)\n",
      "Items: ['PS Diana Malary', 'Sedhiou']\n"
     ]
    },
    {
     "name": "stderr",
     "output_type": "stream",
     "text": [
      "323it [02:45,  2.01it/s]"
     ]
    },
    {
     "name": "stdout",
     "output_type": "stream",
     "text": [
      "Didn't find with BING or OSM, no bounding box for Google\n",
      "Error getting bounds for: Series([], Name: shapeName, dtype: object)\n",
      "Items: ['PS Diandioly', 'Matam']\n"
     ]
    },
    {
     "name": "stderr",
     "output_type": "stream",
     "text": [
      "324it [02:45,  2.03it/s]"
     ]
    },
    {
     "name": "stdout",
     "output_type": "stream",
     "text": [
      "Didn't find with BING or OSM, no bounding box for Google\n",
      "Error getting bounds for: Series([], Name: shapeName, dtype: object)\n",
      "Items: ['PS Dianke Souf', 'Malem Hodar']\n"
     ]
    },
    {
     "name": "stderr",
     "output_type": "stream",
     "text": [
      "325it [02:46,  1.91it/s]"
     ]
    },
    {
     "name": "stdout",
     "output_type": "stream",
     "text": [
      "Didn't find with BING or OSM, no bounding box for Google\n",
      "Error getting bounds for: Series([], Name: shapeName, dtype: object)\n",
      "Items: ['PS Diannah Bah', 'Sedhiou']\n"
     ]
    },
    {
     "name": "stderr",
     "output_type": "stream",
     "text": [
      "326it [02:46,  2.10it/s]"
     ]
    },
    {
     "name": "stdout",
     "output_type": "stream",
     "text": [
      "Didn't find with BING or OSM, no bounding box for Google\n",
      "Items: ['PS Diaobe', 'Velingara']\n"
     ]
    },
    {
     "name": "stderr",
     "output_type": "stream",
     "text": [
      "327it [02:47,  1.83it/s]"
     ]
    },
    {
     "name": "stdout",
     "output_type": "stream",
     "text": [
      "Error getting bounds for: Series([], Name: shapeName, dtype: object)\n",
      "Items: ['PS Diare Mbolo', 'Goudiry']\n"
     ]
    },
    {
     "name": "stderr",
     "output_type": "stream",
     "text": [
      "328it [02:47,  1.97it/s]"
     ]
    },
    {
     "name": "stdout",
     "output_type": "stream",
     "text": [
      "Didn't find with BING or OSM, no bounding box for Google\n",
      "Error getting bounds for: Series([], Name: shapeName, dtype: object)\n",
      "Items: ['PS Diareng', 'Goudomp']\n"
     ]
    },
    {
     "name": "stderr",
     "output_type": "stream",
     "text": [
      "329it [02:48,  2.10it/s]"
     ]
    },
    {
     "name": "stdout",
     "output_type": "stream",
     "text": [
      "Didn't find with BING or OSM, no bounding box for Google\n",
      "Error getting bounds for: Series([], Name: shapeName, dtype: object)\n",
      "Items: ['PS Diarere', 'Fatick']\n"
     ]
    },
    {
     "name": "stderr",
     "output_type": "stream",
     "text": [
      "330it [02:48,  2.00it/s]"
     ]
    },
    {
     "name": "stdout",
     "output_type": "stream",
     "text": [
      "Didn't find with BING or OSM, no bounding box for Google\n",
      "Error getting bounds for: Series([], Name: shapeName, dtype: object)\n",
      "Items: ['PS Diaroume', 'Bounkiling']\n"
     ]
    },
    {
     "name": "stderr",
     "output_type": "stream",
     "text": [
      "331it [02:49,  1.85it/s]"
     ]
    },
    {
     "name": "stdout",
     "output_type": "stream",
     "text": [
      "Didn't find with BING or OSM, no bounding box for Google\n",
      "Error getting bounds for: Series([], Name: shapeName, dtype: object)\n",
      "Items: ['PS Diattacounda', 'Goudomp']\n"
     ]
    },
    {
     "name": "stderr",
     "output_type": "stream",
     "text": [
      "332it [02:49,  2.02it/s]"
     ]
    },
    {
     "name": "stdout",
     "output_type": "stream",
     "text": [
      "Didn't find with BING or OSM, no bounding box for Google\n",
      "Error getting bounds for: Series([], Name: shapeName, dtype: object)\n",
      "Items: ['PS Diattar', 'Podor']\n"
     ]
    },
    {
     "name": "stderr",
     "output_type": "stream",
     "text": [
      "333it [02:50,  2.10it/s]"
     ]
    },
    {
     "name": "stdout",
     "output_type": "stream",
     "text": [
      "Didn't find with BING or OSM, no bounding box for Google\n",
      "Error getting bounds for: Series([], Name: shapeName, dtype: object)\n",
      "Items: ['PS Diawara', 'Bakel']\n"
     ]
    },
    {
     "name": "stderr",
     "output_type": "stream",
     "text": [
      "334it [02:50,  2.02it/s]"
     ]
    },
    {
     "name": "stdout",
     "output_type": "stream",
     "text": [
      "Didn't find with BING or OSM, no bounding box for Google\n",
      "Error getting bounds for: Series([], Name: shapeName, dtype: object)\n",
      "Items: ['PS Dielerlou Syll', 'Louga']\n"
     ]
    },
    {
     "name": "stderr",
     "output_type": "stream",
     "text": [
      "335it [02:51,  2.11it/s]"
     ]
    },
    {
     "name": "stdout",
     "output_type": "stream",
     "text": [
      "Didn't find with BING or OSM, no bounding box for Google\n",
      "Error getting bounds for: Series([], Name: shapeName, dtype: object)\n",
      "Items: ['PS Diella', 'Kanel']\n"
     ]
    },
    {
     "name": "stderr",
     "output_type": "stream",
     "text": [
      "336it [02:51,  2.01it/s]"
     ]
    },
    {
     "name": "stdout",
     "output_type": "stream",
     "text": [
      "Didn't find with BING or OSM, no bounding box for Google\n",
      "Error getting bounds for: Series([], Name: shapeName, dtype: object)\n",
      "Items: ['PS Diembering', 'Oussouye']\n"
     ]
    },
    {
     "name": "stderr",
     "output_type": "stream",
     "text": [
      "337it [02:52,  2.07it/s]"
     ]
    },
    {
     "name": "stdout",
     "output_type": "stream",
     "text": [
      "Didn't find with BING or OSM, no bounding box for Google\n",
      "Error getting bounds for: Series([], Name: shapeName, dtype: object)\n",
      "Items: ['PS Diende', 'Sedhiou']\n"
     ]
    },
    {
     "name": "stderr",
     "output_type": "stream",
     "text": [
      "338it [02:52,  2.04it/s]"
     ]
    },
    {
     "name": "stdout",
     "output_type": "stream",
     "text": [
      "Didn't find with BING or OSM, no bounding box for Google\n",
      "Error getting bounds for: Series([], Name: shapeName, dtype: object)\n",
      "Items: ['PS Diendieme', 'Bounkiling']\n"
     ]
    },
    {
     "name": "stderr",
     "output_type": "stream",
     "text": [
      "339it [02:53,  1.88it/s]"
     ]
    },
    {
     "name": "stdout",
     "output_type": "stream",
     "text": [
      "Didn't find with BING or OSM, no bounding box for Google\n",
      "Error getting bounds for: Series([], Name: shapeName, dtype: object)\n",
      "Items: ['PS Digane', 'Mbacke']\n"
     ]
    },
    {
     "name": "stderr",
     "output_type": "stream",
     "text": [
      "340it [02:53,  2.03it/s]"
     ]
    },
    {
     "name": "stdout",
     "output_type": "stream",
     "text": [
      "Didn't find with BING or OSM, no bounding box for Google\n",
      "Error getting bounds for: Series([], Name: shapeName, dtype: object)\n",
      "Items: ['PS Dimat', 'Podor']\n"
     ]
    },
    {
     "name": "stderr",
     "output_type": "stream",
     "text": [
      "341it [02:54,  1.98it/s]"
     ]
    },
    {
     "name": "stdout",
     "output_type": "stream",
     "text": [
      "Didn't find with BING or OSM, no bounding box for Google\n",
      "Error getting bounds for: Series([], Name: shapeName, dtype: object)\n",
      "Items: ['PS Dimboli', 'Kedougou']\n"
     ]
    },
    {
     "name": "stderr",
     "output_type": "stream",
     "text": [
      "342it [02:54,  1.88it/s]"
     ]
    },
    {
     "name": "stdout",
     "output_type": "stream",
     "text": [
      "Didn't find with BING or OSM, no bounding box for Google\n",
      "Error getting bounds for: Series([], Name: shapeName, dtype: object)\n",
      "Items: ['PS Dimiskha', 'Koungheul']\n"
     ]
    },
    {
     "name": "stderr",
     "output_type": "stream",
     "text": [
      "343it [02:55,  2.15it/s]"
     ]
    },
    {
     "name": "stdout",
     "output_type": "stream",
     "text": [
      "Didn't find with BING or OSM, no bounding box for Google\n",
      "Error getting bounds for: Series([], Name: shapeName, dtype: object)\n",
      "Items: ['PS Dinde Felo', 'Kedougou']\n"
     ]
    },
    {
     "name": "stderr",
     "output_type": "stream",
     "text": [
      "344it [02:55,  2.01it/s]"
     ]
    },
    {
     "name": "stdout",
     "output_type": "stream",
     "text": [
      "Didn't find with BING or OSM, no bounding box for Google\n",
      "Error getting bounds for: Series([], Name: shapeName, dtype: object)\n",
      "Items: ['PS Diocadou', 'Bignona']\n"
     ]
    },
    {
     "name": "stderr",
     "output_type": "stream",
     "text": [
      "345it [02:56,  1.92it/s]"
     ]
    },
    {
     "name": "stdout",
     "output_type": "stream",
     "text": [
      "Didn't find with BING or OSM, no bounding box for Google\n",
      "Error getting bounds for: Series([], Name: shapeName, dtype: object)\n",
      "Items: ['PS Diogane', 'Foundiougne']\n"
     ]
    },
    {
     "name": "stderr",
     "output_type": "stream",
     "text": [
      "346it [02:56,  2.03it/s]"
     ]
    },
    {
     "name": "stdout",
     "output_type": "stream",
     "text": [
      "Didn't find with BING or OSM, no bounding box for Google\n",
      "Error getting bounds for: Series([], Name: shapeName, dtype: object)\n",
      "Items: ['PS Diogo', 'Tivaoune']\n"
     ]
    },
    {
     "name": "stderr",
     "output_type": "stream",
     "text": [
      "347it [02:57,  1.89it/s]"
     ]
    },
    {
     "name": "stdout",
     "output_type": "stream",
     "text": [
      "Didn't find with BING or OSM, no bounding box for Google\n",
      "Error getting bounds for: Series([], Name: shapeName, dtype: object)\n",
      "Items: ['PS Diohine', 'Fatick']\n"
     ]
    },
    {
     "name": "stderr",
     "output_type": "stream",
     "text": [
      "348it [02:57,  2.14it/s]"
     ]
    },
    {
     "name": "stdout",
     "output_type": "stream",
     "text": [
      "Didn't find with BING or OSM, no bounding box for Google\n",
      "Error getting bounds for: Series([], Name: shapeName, dtype: object)\n",
      "Items: ['PS Diokoul', 'Kebemer']\n"
     ]
    },
    {
     "name": "stderr",
     "output_type": "stream",
     "text": [
      "349it [02:58,  2.07it/s]"
     ]
    },
    {
     "name": "stdout",
     "output_type": "stream",
     "text": [
      "Didn't find with BING or OSM, no bounding box for Google\n",
      "Error getting bounds for: Series([], Name: shapeName, dtype: object)\n",
      "Items: ['PS Diokoul Kher', 'Rufisque']\n"
     ]
    },
    {
     "name": "stderr",
     "output_type": "stream",
     "text": [
      "350it [02:58,  2.04it/s]"
     ]
    },
    {
     "name": "stdout",
     "output_type": "stream",
     "text": [
      "Didn't find with BING or OSM, no bounding box for Google\n",
      "Error getting bounds for: Series([], Name: shapeName, dtype: object)\n",
      "Items: ['PS Diokoul Mbellboul', 'Kaffrine']\n"
     ]
    },
    {
     "name": "stderr",
     "output_type": "stream",
     "text": [
      "351it [02:59,  2.00it/s]"
     ]
    },
    {
     "name": "stdout",
     "output_type": "stream",
     "text": [
      "Didn't find with BING or OSM, no bounding box for Google\n",
      "Error getting bounds for: Series([], Name: shapeName, dtype: object)\n",
      "Items: ['PS Diokoul Wague', 'Rufisque']\n"
     ]
    },
    {
     "name": "stderr",
     "output_type": "stream",
     "text": [
      "352it [02:59,  2.06it/s]"
     ]
    },
    {
     "name": "stdout",
     "output_type": "stream",
     "text": [
      "Didn't find with BING or OSM, no bounding box for Google\n",
      "Error getting bounds for: Series([], Name: shapeName, dtype: object)\n",
      "Items: ['PS Diondji', 'Bignona']\n"
     ]
    },
    {
     "name": "stderr",
     "output_type": "stream",
     "text": [
      "353it [03:00,  1.97it/s]"
     ]
    },
    {
     "name": "stdout",
     "output_type": "stream",
     "text": [
      "Didn't find with BING or OSM, no bounding box for Google\n",
      "Error getting bounds for: Series([], Name: shapeName, dtype: object)\n",
      "Items: ['PS Dionewar', 'Foundiougne']\n"
     ]
    },
    {
     "name": "stderr",
     "output_type": "stream",
     "text": [
      "354it [03:00,  1.96it/s]"
     ]
    },
    {
     "name": "stdout",
     "output_type": "stream",
     "text": [
      "Didn't find with BING or OSM, no bounding box for Google\n",
      "Error getting bounds for: Series([], Name: shapeName, dtype: object)\n",
      "Items: ['PS Diongui', 'Podor']\n"
     ]
    },
    {
     "name": "stderr",
     "output_type": "stream",
     "text": [
      "355it [03:01,  1.89it/s]"
     ]
    },
    {
     "name": "stdout",
     "output_type": "stream",
     "text": [
      "Didn't find with BING or OSM, no bounding box for Google\n",
      "Error getting bounds for: Series([], Name: shapeName, dtype: object)\n",
      "Items: ['PS Diorga', 'Rufisque']\n"
     ]
    },
    {
     "name": "stderr",
     "output_type": "stream",
     "text": [
      "356it [03:01,  2.07it/s]"
     ]
    },
    {
     "name": "stdout",
     "output_type": "stream",
     "text": [
      "Didn't find with BING or OSM, no bounding box for Google\n",
      "Error getting bounds for: Series([], Name: shapeName, dtype: object)\n",
      "Items: ['PS Dioude Diabe', 'Podor']\n"
     ]
    },
    {
     "name": "stderr",
     "output_type": "stream",
     "text": [
      "357it [03:02,  1.94it/s]"
     ]
    },
    {
     "name": "stdout",
     "output_type": "stream",
     "text": [
      "Didn't find with BING or OSM, no bounding box for Google\n",
      "Error getting bounds for: Series([], Name: shapeName, dtype: object)\n",
      "Items: ['PS Dioulacolon', 'Kolda']\n"
     ]
    },
    {
     "name": "stderr",
     "output_type": "stream",
     "text": [
      "358it [03:02,  2.00it/s]"
     ]
    },
    {
     "name": "stdout",
     "output_type": "stream",
     "text": [
      "Didn't find with BING or OSM, no bounding box for Google\n",
      "Error getting bounds for: Series([], Name: shapeName, dtype: object)\n",
      "Items: ['PS Dioulanghel Banta', 'Medina Yoroufoula']\n"
     ]
    },
    {
     "name": "stderr",
     "output_type": "stream",
     "text": [
      "359it [03:03,  1.96it/s]"
     ]
    },
    {
     "name": "stdout",
     "output_type": "stream",
     "text": [
      "Didn't find with BING or OSM, no bounding box for Google\n",
      "Error getting bounds for: Series([], Name: shapeName, dtype: object)\n",
      "Items: ['PS Dioumada', 'Kaffrine']\n"
     ]
    },
    {
     "name": "stderr",
     "output_type": "stream",
     "text": [
      "360it [03:03,  2.14it/s]"
     ]
    },
    {
     "name": "stdout",
     "output_type": "stream",
     "text": [
      "Didn't find with BING or OSM, no bounding box for Google\n",
      "Error getting bounds for: Series([], Name: shapeName, dtype: object)\n",
      "Items: ['PS Diouroup', 'Fatick']\n"
     ]
    },
    {
     "name": "stderr",
     "output_type": "stream",
     "text": [
      "361it [03:04,  2.00it/s]"
     ]
    },
    {
     "name": "stdout",
     "output_type": "stream",
     "text": [
      "Didn't find with BING or OSM, no bounding box for Google\n",
      "Error getting bounds for: Series([], Name: shapeName, dtype: object)\n",
      "Items: ['PS Djibabouya', 'Sedhiou']\n"
     ]
    },
    {
     "name": "stderr",
     "output_type": "stream",
     "text": [
      "362it [03:04,  1.99it/s]"
     ]
    },
    {
     "name": "stdout",
     "output_type": "stream",
     "text": [
      "Didn't find with BING or OSM, no bounding box for Google\n",
      "Error getting bounds for: Series([], Name: shapeName, dtype: object)\n",
      "Items: ['PS Djibanar', 'Goudomp']\n"
     ]
    },
    {
     "name": "stderr",
     "output_type": "stream",
     "text": [
      "363it [03:05,  1.66it/s]"
     ]
    },
    {
     "name": "stdout",
     "output_type": "stream",
     "text": [
      "Didn't find with BING or OSM, no bounding box for Google\n",
      "Error getting bounds for: Series([], Name: shapeName, dtype: object)\n",
      "Items: ['PS Djibidione', 'Bignona']\n"
     ]
    },
    {
     "name": "stderr",
     "output_type": "stream",
     "text": [
      "364it [03:06,  1.76it/s]"
     ]
    },
    {
     "name": "stdout",
     "output_type": "stream",
     "text": [
      "Didn't find with BING or OSM, no bounding box for Google\n",
      "Error getting bounds for: Series([], Name: shapeName, dtype: object)\n",
      "Items: ['PS Djibock', 'Ziguinchor']\n"
     ]
    },
    {
     "name": "stderr",
     "output_type": "stream",
     "text": [
      "365it [03:06,  2.08it/s]"
     ]
    },
    {
     "name": "stdout",
     "output_type": "stream",
     "text": [
      "Didn't find with BING or OSM, no bounding box for Google\n",
      "Error getting bounds for: Series([], Name: shapeName, dtype: object)\n",
      "Items: ['PS Djifanghor', 'Ziguinchor']\n"
     ]
    },
    {
     "name": "stderr",
     "output_type": "stream",
     "text": [
      "366it [03:06,  1.99it/s]"
     ]
    },
    {
     "name": "stdout",
     "output_type": "stream",
     "text": [
      "Didn't find with BING or OSM, no bounding box for Google\n",
      "Error getting bounds for: Series([], Name: shapeName, dtype: object)\n",
      "Items: ['PS Djilakh', 'Mbour']\n"
     ]
    },
    {
     "name": "stderr",
     "output_type": "stream",
     "text": [
      "367it [03:07,  2.12it/s]"
     ]
    },
    {
     "name": "stdout",
     "output_type": "stream",
     "text": [
      "Didn't find with BING or OSM, no bounding box for Google\n",
      "Error getting bounds for: Series([], Name: shapeName, dtype: object)\n",
      "Items: ['PS Djilekhar', 'Tivaoune']\n"
     ]
    },
    {
     "name": "stderr",
     "output_type": "stream",
     "text": [
      "368it [03:07,  2.06it/s]"
     ]
    },
    {
     "name": "stdout",
     "output_type": "stream",
     "text": [
      "Didn't find with BING or OSM, no bounding box for Google\n",
      "Error getting bounds for: Series([], Name: shapeName, dtype: object)\n",
      "Items: ['PS Djilonguia', 'Bignona']\n"
     ]
    },
    {
     "name": "stderr",
     "output_type": "stream",
     "text": [
      "369it [03:08,  2.00it/s]"
     ]
    },
    {
     "name": "stdout",
     "output_type": "stream",
     "text": [
      "Didn't find with BING or OSM, no bounding box for Google\n",
      "Error getting bounds for: Series([], Name: shapeName, dtype: object)\n",
      "Items: ['PS Djinani', 'Bounkiling']\n"
     ]
    },
    {
     "name": "stderr",
     "output_type": "stream",
     "text": [
      "370it [03:08,  2.07it/s]"
     ]
    },
    {
     "name": "stdout",
     "output_type": "stream",
     "text": [
      "Didn't find with BING or OSM, no bounding box for Google\n",
      "Error getting bounds for: Series([], Name: shapeName, dtype: object)\n",
      "Items: ['PS Djinkore', 'Tambacounda']\n"
     ]
    },
    {
     "name": "stderr",
     "output_type": "stream",
     "text": [
      "371it [03:09,  1.94it/s]"
     ]
    },
    {
     "name": "stdout",
     "output_type": "stream",
     "text": [
      "Didn't find with BING or OSM, no bounding box for Google\n",
      "Error getting bounds for: Series([], Name: shapeName, dtype: object)\n",
      "Items: ['PS Djiragone', 'Bounkiling']\n"
     ]
    },
    {
     "name": "stderr",
     "output_type": "stream",
     "text": [
      "372it [03:09,  1.95it/s]"
     ]
    },
    {
     "name": "stdout",
     "output_type": "stream",
     "text": [
      "Didn't find with BING or OSM, no bounding box for Google\n",
      "Error getting bounds for: Series([], Name: shapeName, dtype: object)\n",
      "Items: ['PS Djiredji', 'Sedhiou']\n"
     ]
    },
    {
     "name": "stderr",
     "output_type": "stream",
     "text": [
      "373it [03:10,  1.93it/s]"
     ]
    },
    {
     "name": "stdout",
     "output_type": "stream",
     "text": [
      "Didn't find with BING or OSM, no bounding box for Google\n",
      "Error getting bounds for: Series([], Name: shapeName, dtype: object)\n",
      "Items: ['PS Djirnda', 'Foundiougne']\n"
     ]
    },
    {
     "name": "stderr",
     "output_type": "stream",
     "text": [
      "374it [03:10,  2.09it/s]"
     ]
    },
    {
     "name": "stdout",
     "output_type": "stream",
     "text": [
      "Didn't find with BING or OSM, no bounding box for Google\n",
      "Error getting bounds for: Series([], Name: shapeName, dtype: object)\n",
      "Items: ['PS Djouth Nguel', 'Kaffrine']\n"
     ]
    },
    {
     "name": "stderr",
     "output_type": "stream",
     "text": [
      "375it [03:11,  2.07it/s]"
     ]
    },
    {
     "name": "stdout",
     "output_type": "stream",
     "text": [
      "Didn't find with BING or OSM, no bounding box for Google\n",
      "Error getting bounds for: Series([], Name: shapeName, dtype: object)\n",
      "Items: ['PS Dodel', 'Podor']\n"
     ]
    },
    {
     "name": "stderr",
     "output_type": "stream",
     "text": [
      "376it [03:11,  1.90it/s]"
     ]
    },
    {
     "name": "stdout",
     "output_type": "stream",
     "text": [
      "Didn't find with BING or OSM, no bounding box for Google\n",
      "Error getting bounds for: Series([], Name: shapeName, dtype: object)\n",
      "Items: ['PS Dodji', 'Linguere']\n"
     ]
    },
    {
     "name": "stderr",
     "output_type": "stream",
     "text": [
      "377it [03:12,  1.99it/s]"
     ]
    },
    {
     "name": "stdout",
     "output_type": "stream",
     "text": [
      "Didn't find with BING or OSM, no bounding box for Google\n",
      "Error getting bounds for: Series([], Name: shapeName, dtype: object)\n",
      "Items: ['PS Dolly', 'Linguere']\n"
     ]
    },
    {
     "name": "stderr",
     "output_type": "stream",
     "text": [
      "378it [03:12,  1.97it/s]"
     ]
    },
    {
     "name": "stdout",
     "output_type": "stream",
     "text": [
      "Didn't find with BING or OSM, no bounding box for Google\n",
      "Error getting bounds for: Series([], Name: shapeName, dtype: object)\n",
      "Items: ['PS Donaye/ Taredji', 'Podor']\n"
     ]
    },
    {
     "name": "stderr",
     "output_type": "stream",
     "text": [
      "379it [03:13,  2.08it/s]"
     ]
    },
    {
     "name": "stdout",
     "output_type": "stream",
     "text": [
      "Didn't find with BING or OSM, no bounding box for Google\n",
      "Error getting bounds for: Series([], Name: shapeName, dtype: object)\n",
      "Items: ['PS Dondou', 'Matam']\n"
     ]
    },
    {
     "name": "stderr",
     "output_type": "stream",
     "text": [
      "380it [03:13,  1.91it/s]"
     ]
    },
    {
     "name": "stdout",
     "output_type": "stream",
     "text": [
      "Didn't find with BING or OSM, no bounding box for Google\n",
      "Items: ['PS Doubirou', 'Velingara']\n"
     ]
    },
    {
     "name": "stderr",
     "output_type": "stream",
     "text": [
      "381it [03:14,  1.84it/s]"
     ]
    },
    {
     "name": "stdout",
     "output_type": "stream",
     "text": [
      "Error getting bounds for: Series([], Name: shapeName, dtype: object)\n",
      "Items: ['PS Dougar', 'Tambacounda']\n"
     ]
    },
    {
     "name": "stderr",
     "output_type": "stream",
     "text": [
      "382it [03:14,  2.14it/s]"
     ]
    },
    {
     "name": "stdout",
     "output_type": "stream",
     "text": [
      "Didn't find with BING or OSM, no bounding box for Google\n",
      "Error getting bounds for: Series([], Name: shapeName, dtype: object)\n",
      "Items: ['PS Doumga Lao', 'Podor']\n"
     ]
    },
    {
     "name": "stderr",
     "output_type": "stream",
     "text": [
      "383it [03:15,  2.09it/s]"
     ]
    },
    {
     "name": "stdout",
     "output_type": "stream",
     "text": [
      "Didn't find with BING or OSM, no bounding box for Google\n",
      "Error getting bounds for: Series([], Name: shapeName, dtype: object)\n",
      "Items: ['PS Doumga Ouro Alpha', 'Matam']\n"
     ]
    },
    {
     "name": "stderr",
     "output_type": "stream",
     "text": [
      "384it [03:15,  1.91it/s]"
     ]
    },
    {
     "name": "stdout",
     "output_type": "stream",
     "text": [
      "Didn't find with BING or OSM, no bounding box for Google\n",
      "Error getting bounds for: Series([], Name: shapeName, dtype: object)\n",
      "Items: ['PS Dounde', 'Kanel']\n"
     ]
    },
    {
     "name": "stderr",
     "output_type": "stream",
     "text": [
      "385it [03:16,  1.99it/s]"
     ]
    },
    {
     "name": "stdout",
     "output_type": "stream",
     "text": [
      "Didn't find with BING or OSM, no bounding box for Google\n",
      "Error getting bounds for: Series([], Name: shapeName, dtype: object)\n",
      "Items: ['PS Dounguel', 'Podor']\n"
     ]
    },
    {
     "name": "stderr",
     "output_type": "stream",
     "text": [
      "386it [03:16,  1.88it/s]"
     ]
    },
    {
     "name": "stdout",
     "output_type": "stream",
     "text": [
      "Didn't find with BING or OSM, no bounding box for Google\n",
      "Error getting bounds for: Series([], Name: shapeName, dtype: object)\n",
      "Items: ['PS Doué', 'Podor']\n"
     ]
    },
    {
     "name": "stderr",
     "output_type": "stream",
     "text": [
      "387it [03:17,  2.03it/s]"
     ]
    },
    {
     "name": "stdout",
     "output_type": "stream",
     "text": [
      "Didn't find with BING or OSM, no bounding box for Google\n",
      "Error getting bounds for: Series([], Name: shapeName, dtype: object)\n",
      "Items: ['PS Doyoly', 'Mbacke']\n"
     ]
    },
    {
     "name": "stderr",
     "output_type": "stream",
     "text": [
      "388it [03:17,  2.07it/s]"
     ]
    },
    {
     "name": "stdout",
     "output_type": "stream",
     "text": [
      "Didn't find with BING or OSM, no bounding box for Google\n",
      "Error getting bounds for: Series([], Name: shapeName, dtype: object)\n",
      "Items: ['PS Dya', 'Kaolack']\n"
     ]
    },
    {
     "name": "stderr",
     "output_type": "stream",
     "text": [
      "389it [03:18,  2.07it/s]"
     ]
    },
    {
     "name": "stdout",
     "output_type": "stream",
     "text": [
      "Didn't find with BING or OSM, no bounding box for Google\n",
      "Error getting bounds for: Series([], Name: shapeName, dtype: object)\n",
      "Items: ['PS Elinkine', 'Oussouye']\n"
     ]
    },
    {
     "name": "stderr",
     "output_type": "stream",
     "text": [
      "390it [03:18,  2.09it/s]"
     ]
    },
    {
     "name": "stdout",
     "output_type": "stream",
     "text": [
      "Didn't find with BING or OSM, no bounding box for Google\n",
      "Error getting bounds for: Series([], Name: shapeName, dtype: object)\n",
      "Items: ['PS Emetteur', 'Fatick']\n"
     ]
    },
    {
     "name": "stderr",
     "output_type": "stream",
     "text": [
      "391it [03:19,  1.98it/s]"
     ]
    },
    {
     "name": "stdout",
     "output_type": "stream",
     "text": [
      "Didn't find with BING or OSM, no bounding box for Google\n",
      "Error getting bounds for: Series([], Name: shapeName, dtype: object)\n",
      "Items: ['PS Enampor', 'Ziguinchor']\n"
     ]
    },
    {
     "name": "stderr",
     "output_type": "stream",
     "text": [
      "392it [03:19,  1.97it/s]"
     ]
    },
    {
     "name": "stdout",
     "output_type": "stream",
     "text": [
      "Didn't find with BING or OSM, no bounding box for Google\n",
      "Error getting bounds for: Series([], Name: shapeName, dtype: object)\n",
      "Items: ['PS Ethiolo', 'Salemata']\n"
     ]
    },
    {
     "name": "stderr",
     "output_type": "stream",
     "text": [
      "393it [03:20,  2.04it/s]"
     ]
    },
    {
     "name": "stdout",
     "output_type": "stream",
     "text": [
      "Didn't find with BING or OSM, no bounding box for Google\n",
      "Error getting bounds for: Series([], Name: shapeName, dtype: object)\n",
      "Items: ['PS Fadiara', 'Kanel']\n"
     ]
    },
    {
     "name": "stderr",
     "output_type": "stream",
     "text": [
      "394it [03:20,  1.87it/s]"
     ]
    },
    {
     "name": "stdout",
     "output_type": "stream",
     "text": [
      "Didn't find with BING or OSM, no bounding box for Google\n",
      "Error getting bounds for: Series([], Name: shapeName, dtype: object)\n",
      "Items: ['PS Fadiga', 'Kedougou']\n"
     ]
    },
    {
     "name": "stderr",
     "output_type": "stream",
     "text": [
      "395it [03:21,  2.16it/s]"
     ]
    },
    {
     "name": "stdout",
     "output_type": "stream",
     "text": [
      "Didn't find with BING or OSM, no bounding box for Google\n",
      "Error getting bounds for: Series([], Name: shapeName, dtype: object)\n",
      "Items: ['PS Fafacourou', 'Medina Yoroufoula']\n"
     ]
    },
    {
     "name": "stderr",
     "output_type": "stream",
     "text": [
      "396it [03:21,  2.00it/s]"
     ]
    },
    {
     "name": "stdout",
     "output_type": "stream",
     "text": [
      "Didn't find with BING or OSM, no bounding box for Google\n",
      "Error getting bounds for: Series([], Name: shapeName, dtype: object)\n",
      "Items: ['PS Fallokh  Malicounda', 'Mbour']\n"
     ]
    },
    {
     "name": "stderr",
     "output_type": "stream",
     "text": [
      "397it [03:22,  2.09it/s]"
     ]
    },
    {
     "name": "stdout",
     "output_type": "stream",
     "text": [
      "Didn't find with BING or OSM, no bounding box for Google\n",
      "Error getting bounds for: Series([], Name: shapeName, dtype: object)\n",
      "Items: ['PS Fanaye', 'Podor']\n"
     ]
    },
    {
     "name": "stderr",
     "output_type": "stream",
     "text": [
      "398it [03:22,  1.98it/s]"
     ]
    },
    {
     "name": "stdout",
     "output_type": "stream",
     "text": [
      "Didn't find with BING or OSM, no bounding box for Google\n",
      "Error getting bounds for: Series([], Name: shapeName, dtype: object)\n",
      "Items: ['PS Fandane', 'Mbour']\n"
     ]
    },
    {
     "name": "stderr",
     "output_type": "stream",
     "text": [
      "399it [03:23,  1.97it/s]"
     ]
    },
    {
     "name": "stdout",
     "output_type": "stream",
     "text": [
      "Didn't find with BING or OSM, no bounding box for Google\n",
      "Error getting bounds for: Series([], Name: shapeName, dtype: object)\n",
      "Items: ['PS Faoune', 'Bounkiling']\n"
     ]
    },
    {
     "name": "stderr",
     "output_type": "stream",
     "text": [
      "400it [03:23,  1.86it/s]"
     ]
    },
    {
     "name": "stdout",
     "output_type": "stream",
     "text": [
      "Didn't find with BING or OSM, no bounding box for Google\n",
      "Error getting bounds for: Series([], Name: shapeName, dtype: object)\n",
      "Items: ['PS Farabougou', 'Guinguineo']\n"
     ]
    },
    {
     "name": "stderr",
     "output_type": "stream",
     "text": [
      "401it [03:24,  2.11it/s]"
     ]
    },
    {
     "name": "stdout",
     "output_type": "stream",
     "text": [
      "Didn't find with BING or OSM, no bounding box for Google\n",
      "Error getting bounds for: Series([], Name: shapeName, dtype: object)\n",
      "Items: ['PS Fass', 'Guinguineo']\n"
     ]
    },
    {
     "name": "stderr",
     "output_type": "stream",
     "text": [
      "402it [03:24,  2.04it/s]"
     ]
    },
    {
     "name": "stdout",
     "output_type": "stream",
     "text": [
      "Didn't find with BING or OSM, no bounding box for Google\n",
      "Error getting bounds for: Series([], Name: shapeName, dtype: object)\n",
      "Items: ['PS Fass Boye', 'Tivaoune']\n"
     ]
    },
    {
     "name": "stderr",
     "output_type": "stream",
     "text": [
      "403it [03:25,  2.06it/s]"
     ]
    },
    {
     "name": "stdout",
     "output_type": "stream",
     "text": [
      "Didn't find with BING or OSM, no bounding box for Google\n",
      "Error getting bounds for: Series([], Name: shapeName, dtype: object)\n",
      "Items: ['PS Fass Gounass', 'Koumpentoum']\n"
     ]
    },
    {
     "name": "stderr",
     "output_type": "stream",
     "text": [
      "404it [03:25,  2.04it/s]"
     ]
    },
    {
     "name": "stdout",
     "output_type": "stream",
     "text": [
      "Didn't find with BING or OSM, no bounding box for Google\n",
      "Error getting bounds for: Series([], Name: shapeName, dtype: object)\n",
      "Items: ['PS Fass HLM', 'Ranerou']\n"
     ]
    },
    {
     "name": "stderr",
     "output_type": "stream",
     "text": [
      "405it [03:26,  2.04it/s]"
     ]
    },
    {
     "name": "stdout",
     "output_type": "stream",
     "text": [
      "Didn't find with BING or OSM, no bounding box for Google\n",
      "Error getting bounds for: Series([], Name: shapeName, dtype: object)\n",
      "Items: ['PS Fass Mbao', 'Mbour']\n"
     ]
    },
    {
     "name": "stderr",
     "output_type": "stream",
     "text": [
      "406it [03:26,  1.97it/s]"
     ]
    },
    {
     "name": "stdout",
     "output_type": "stream",
     "text": [
      "Didn't find with BING or OSM, no bounding box for Google\n",
      "Error getting bounds for: Series([], Name: shapeName, dtype: object)\n",
      "Items: ['PS Fass NGOM', 'Saint Louis']\n"
     ]
    },
    {
     "name": "stderr",
     "output_type": "stream",
     "text": [
      "407it [03:27,  1.95it/s]"
     ]
    },
    {
     "name": "stdout",
     "output_type": "stream",
     "text": [
      "Didn't find with BING or OSM, no bounding box for Google\n",
      "Error getting bounds for: Series([], Name: shapeName, dtype: object)\n",
      "Items: ['PS Fass Thieckene', 'Koungheul']\n"
     ]
    },
    {
     "name": "stderr",
     "output_type": "stream",
     "text": [
      "408it [03:27,  1.95it/s]"
     ]
    },
    {
     "name": "stdout",
     "output_type": "stream",
     "text": [
      "Didn't find with BING or OSM, no bounding box for Google\n",
      "Error getting bounds for: Series([], Name: shapeName, dtype: object)\n",
      "Items: ['PS Fass Thioffack', 'Kaolack']\n"
     ]
    },
    {
     "name": "stderr",
     "output_type": "stream",
     "text": [
      "409it [03:28,  1.88it/s]"
     ]
    },
    {
     "name": "stdout",
     "output_type": "stream",
     "text": [
      "Didn't find with BING or OSM, no bounding box for Google\n",
      "Error getting bounds for: Series([], Name: shapeName, dtype: object)\n",
      "Items: ['PS Fayil', 'Fatick']\n"
     ]
    },
    {
     "name": "stderr",
     "output_type": "stream",
     "text": [
      "410it [03:28,  2.11it/s]"
     ]
    },
    {
     "name": "stdout",
     "output_type": "stream",
     "text": [
      "Didn't find with BING or OSM, no bounding box for Google\n",
      "Items: ['PS Fith Mith', 'Guediawaye']\n"
     ]
    },
    {
     "name": "stderr",
     "output_type": "stream",
     "text": [
      "411it [03:29,  2.05it/s]"
     ]
    },
    {
     "name": "stdout",
     "output_type": "stream",
     "text": [
      "Error getting bounds for: Series([], Name: shapeName, dtype: object)\n",
      "Items: ['PS Fongolimby', 'Kedougou']\n"
     ]
    },
    {
     "name": "stderr",
     "output_type": "stream",
     "text": [
      "412it [03:29,  1.90it/s]"
     ]
    },
    {
     "name": "stdout",
     "output_type": "stream",
     "text": [
      "Didn't find with BING or OSM, no bounding box for Google\n",
      "Error getting bounds for: Series([], Name: shapeName, dtype: object)\n",
      "Items: ['PS Fouloum', 'Tivaoune']\n"
     ]
    },
    {
     "name": "stderr",
     "output_type": "stream",
     "text": [
      "413it [03:30,  2.04it/s]"
     ]
    },
    {
     "name": "stdout",
     "output_type": "stream",
     "text": [
      "Didn't find with BING or OSM, no bounding box for Google\n",
      "Error getting bounds for: Series([], Name: shapeName, dtype: object)\n",
      "Items: ['PS Foumi Hara', 'Kanel']\n"
     ]
    },
    {
     "name": "stderr",
     "output_type": "stream",
     "text": [
      "414it [03:30,  2.00it/s]"
     ]
    },
    {
     "name": "stdout",
     "output_type": "stream",
     "text": [
      "Didn't find with BING or OSM, no bounding box for Google\n",
      "Error getting bounds for: Series([], Name: shapeName, dtype: object)\n",
      "Items: ['PS Fourdou', 'Ranerou']\n"
     ]
    },
    {
     "name": "stderr",
     "output_type": "stream",
     "text": [
      "415it [03:31,  1.96it/s]"
     ]
    },
    {
     "name": "stdout",
     "output_type": "stream",
     "text": [
      "Didn't find with BING or OSM, no bounding box for Google\n",
      "Error getting bounds for: Series([], Name: shapeName, dtype: object)\n",
      "Items: ['PS Fété Niébé', 'Matam']\n"
     ]
    },
    {
     "name": "stderr",
     "output_type": "stream",
     "text": [
      "416it [03:31,  1.93it/s]"
     ]
    },
    {
     "name": "stdout",
     "output_type": "stream",
     "text": [
      "Didn't find with BING or OSM, no bounding box for Google\n",
      "Error getting bounds for: Series([], Name: shapeName, dtype: object)\n",
      "Items: ['PS Gabou', 'Bakel']\n"
     ]
    },
    {
     "name": "stderr",
     "output_type": "stream",
     "text": [
      "417it [03:32,  1.76it/s]"
     ]
    },
    {
     "name": "stdout",
     "output_type": "stream",
     "text": [
      "Didn't find with BING or OSM, no bounding box for Google\n",
      "Error getting bounds for: Series([], Name: shapeName, dtype: object)\n",
      "Items: ['PS Gadapara', 'Kolda']\n"
     ]
    },
    {
     "name": "stderr",
     "output_type": "stream",
     "text": [
      "418it [03:32,  2.07it/s]"
     ]
    },
    {
     "name": "stdout",
     "output_type": "stream",
     "text": [
      "Didn't find with BING or OSM, no bounding box for Google\n",
      "Error getting bounds for: Series([], Name: shapeName, dtype: object)\n",
      "Items: ['PS Gade Escale', 'Diourbel']\n"
     ]
    },
    {
     "name": "stderr",
     "output_type": "stream",
     "text": [
      "419it [03:33,  1.94it/s]"
     ]
    },
    {
     "name": "stdout",
     "output_type": "stream",
     "text": [
      "Didn't find with BING or OSM, no bounding box for Google\n",
      "Error getting bounds for: Series([], Name: shapeName, dtype: object)\n",
      "Items: ['PS Gadiack', 'Fatick']\n"
     ]
    },
    {
     "name": "stderr",
     "output_type": "stream",
     "text": [
      "420it [03:33,  2.17it/s]"
     ]
    },
    {
     "name": "stdout",
     "output_type": "stream",
     "text": [
      "Didn't find with BING or OSM, no bounding box for Google\n",
      "Error getting bounds for: Series([], Name: shapeName, dtype: object)\n",
      "Items: ['PS Gae', 'Dagana']\n"
     ]
    },
    {
     "name": "stderr",
     "output_type": "stream",
     "text": [
      "421it [03:34,  1.99it/s]"
     ]
    },
    {
     "name": "stdout",
     "output_type": "stream",
     "text": [
      "Didn't find with BING or OSM, no bounding box for Google\n",
      "Error getting bounds for: Series([], Name: shapeName, dtype: object)\n",
      "Items: ['PS Gagnick', 'Guinguineo']\n"
     ]
    },
    {
     "name": "stderr",
     "output_type": "stream",
     "text": [
      "422it [03:35,  1.85it/s]"
     ]
    },
    {
     "name": "stdout",
     "output_type": "stream",
     "text": [
      "Didn't find with BING or OSM, no bounding box for Google\n",
      "Error getting bounds for: Series([], Name: shapeName, dtype: object)\n",
      "Items: ['PS Gaina Mbar', 'Gossas']\n"
     ]
    },
    {
     "name": "stderr",
     "output_type": "stream",
     "text": [
      "423it [03:35,  2.09it/s]"
     ]
    },
    {
     "name": "stdout",
     "output_type": "stream",
     "text": [
      "Didn't find with BING or OSM, no bounding box for Google\n",
      "Error getting bounds for: Series([], Name: shapeName, dtype: object)\n",
      "Items: ['PS Gainth Pathe', 'Koungheul']\n"
     ]
    },
    {
     "name": "stderr",
     "output_type": "stream",
     "text": [
      "424it [03:36,  1.86it/s]"
     ]
    },
    {
     "name": "stdout",
     "output_type": "stream",
     "text": [
      "Didn't find with BING or OSM, no bounding box for Google\n",
      "Error getting bounds for: Series([], Name: shapeName, dtype: object)\n",
      "Items: ['PS Gainthes Kayes', 'Ranerou']\n"
     ]
    },
    {
     "name": "stderr",
     "output_type": "stream",
     "text": [
      "425it [03:36,  2.18it/s]"
     ]
    },
    {
     "name": "stdout",
     "output_type": "stream",
     "text": [
      "Didn't find with BING or OSM, no bounding box for Google\n",
      "Error getting bounds for: Series([], Name: shapeName, dtype: object)\n",
      "Items: ['PS Gallade', 'Bakel']\n"
     ]
    },
    {
     "name": "stderr",
     "output_type": "stream",
     "text": [
      "426it [03:36,  2.03it/s]"
     ]
    },
    {
     "name": "stdout",
     "output_type": "stream",
     "text": [
      "Didn't find with BING or OSM, no bounding box for Google\n",
      "Error getting bounds for: Series([], Name: shapeName, dtype: object)\n",
      "Items: ['PS Gamadji Sarre', 'Podor']\n"
     ]
    },
    {
     "name": "stderr",
     "output_type": "stream",
     "text": [
      "427it [03:37,  1.99it/s]"
     ]
    },
    {
     "name": "stdout",
     "output_type": "stream",
     "text": [
      "Didn't find with BING or OSM, no bounding box for Google\n",
      "Error getting bounds for: Series([], Name: shapeName, dtype: object)\n",
      "Items: ['PS Gandiaye', 'Kaolack']\n"
     ]
    },
    {
     "name": "stderr",
     "output_type": "stream",
     "text": [
      "428it [03:37,  1.95it/s]"
     ]
    },
    {
     "name": "stdout",
     "output_type": "stream",
     "text": [
      "Didn't find with BING or OSM, no bounding box for Google\n",
      "Error getting bounds for: Series([], Name: shapeName, dtype: object)\n",
      "Items: ['PS Gandigal', 'Mbour']\n"
     ]
    },
    {
     "name": "stderr",
     "output_type": "stream",
     "text": [
      "429it [03:38,  2.03it/s]"
     ]
    },
    {
     "name": "stdout",
     "output_type": "stream",
     "text": [
      "Didn't find with BING or OSM, no bounding box for Google\n",
      "Error getting bounds for: Series([], Name: shapeName, dtype: object)\n",
      "Items: ['PS Gandon', 'Saint Louis']\n"
     ]
    },
    {
     "name": "stderr",
     "output_type": "stream",
     "text": [
      "430it [03:39,  1.86it/s]"
     ]
    },
    {
     "name": "stdout",
     "output_type": "stream",
     "text": [
      "Didn't find with BING or OSM, no bounding box for Google\n",
      "Error getting bounds for: Series([], Name: shapeName, dtype: object)\n",
      "Items: ['PS Ganguel Maka', 'Kanel']\n"
     ]
    },
    {
     "name": "stderr",
     "output_type": "stream",
     "text": [
      "431it [03:39,  2.17it/s]"
     ]
    },
    {
     "name": "stdout",
     "output_type": "stream",
     "text": [
      "Didn't find with BING or OSM, no bounding box for Google\n",
      "Error getting bounds for: Series([], Name: shapeName, dtype: object)\n",
      "Items: ['PS Ganguel Souley', 'Kanel']\n"
     ]
    },
    {
     "name": "stderr",
     "output_type": "stream",
     "text": [
      "432it [03:39,  1.99it/s]"
     ]
    },
    {
     "name": "stdout",
     "output_type": "stream",
     "text": [
      "Didn't find with BING or OSM, no bounding box for Google\n",
      "Error getting bounds for: Series([], Name: shapeName, dtype: object)\n",
      "Items: ['PS Gaode Boffe', 'Kanel']\n"
     ]
    },
    {
     "name": "stderr",
     "output_type": "stream",
     "text": [
      "433it [03:40,  2.02it/s]"
     ]
    },
    {
     "name": "stdout",
     "output_type": "stream",
     "text": [
      "Didn't find with BING or OSM, no bounding box for Google\n",
      "Error getting bounds for: Series([], Name: shapeName, dtype: object)\n",
      "Items: ['PS Gaol', 'Matam']\n"
     ]
    },
    {
     "name": "stderr",
     "output_type": "stream",
     "text": [
      "434it [03:40,  2.09it/s]"
     ]
    },
    {
     "name": "stdout",
     "output_type": "stream",
     "text": [
      "Didn't find with BING or OSM, no bounding box for Google\n",
      "Error getting bounds for: Series([], Name: shapeName, dtype: object)\n",
      "Items: ['PS Gassane Ndiawene', 'Linguere']\n"
     ]
    },
    {
     "name": "stderr",
     "output_type": "stream",
     "text": [
      "435it [03:41,  1.94it/s]"
     ]
    },
    {
     "name": "stdout",
     "output_type": "stream",
     "text": [
      "Didn't find with BING or OSM, no bounding box for Google\n",
      "Error getting bounds for: Series([], Name: shapeName, dtype: object)\n",
      "Items: ['PS Gatte', 'Bambey']\n"
     ]
    },
    {
     "name": "stderr",
     "output_type": "stream",
     "text": [
      "436it [03:41,  2.02it/s]"
     ]
    },
    {
     "name": "stdout",
     "output_type": "stream",
     "text": [
      "Didn't find with BING or OSM, no bounding box for Google\n",
      "Error getting bounds for: Series([], Name: shapeName, dtype: object)\n",
      "Items: ['PS Gawane', 'Bambey']\n"
     ]
    },
    {
     "name": "stderr",
     "output_type": "stream",
     "text": [
      "437it [03:42,  1.92it/s]"
     ]
    },
    {
     "name": "stdout",
     "output_type": "stream",
     "text": [
      "Didn't find with BING or OSM, no bounding box for Google\n",
      "Error getting bounds for: Series([], Name: shapeName, dtype: object)\n",
      "Items: ['PS Gniby', 'Kaffrine']\n"
     ]
    },
    {
     "name": "stderr",
     "output_type": "stream",
     "text": [
      "438it [03:42,  2.09it/s]"
     ]
    },
    {
     "name": "stdout",
     "output_type": "stream",
     "text": [
      "Didn't find with BING or OSM, no bounding box for Google\n",
      "Error getting bounds for: Series([], Name: shapeName, dtype: object)\n",
      "Items: ['PS Gognedji', 'Goudiry']\n"
     ]
    },
    {
     "name": "stderr",
     "output_type": "stream",
     "text": [
      "439it [03:43,  1.86it/s]"
     ]
    },
    {
     "name": "stdout",
     "output_type": "stream",
     "text": [
      "Didn't find with BING or OSM, no bounding box for Google\n",
      "Error getting bounds for: Series([], Name: shapeName, dtype: object)\n",
      "Items: ['PS Gollere', 'Podor']\n"
     ]
    },
    {
     "name": "stderr",
     "output_type": "stream",
     "text": [
      "440it [03:44,  1.88it/s]"
     ]
    },
    {
     "name": "stdout",
     "output_type": "stream",
     "text": [
      "Didn't find with BING or OSM, no bounding box for Google\n",
      "Error getting bounds for: Series([], Name: shapeName, dtype: object)\n",
      "Items: ['PS Golmy', 'Bakel']\n"
     ]
    },
    {
     "name": "stderr",
     "output_type": "stream",
     "text": [
      "441it [03:44,  2.13it/s]"
     ]
    },
    {
     "name": "stdout",
     "output_type": "stream",
     "text": [
      "Didn't find with BING or OSM, no bounding box for Google\n",
      "Error getting bounds for: Series([], Name: shapeName, dtype: object)\n",
      "Items: ['PS Goulokoum', 'Kaffrine']\n"
     ]
    },
    {
     "name": "stderr",
     "output_type": "stream",
     "text": [
      "442it [03:44,  2.10it/s]"
     ]
    },
    {
     "name": "stdout",
     "output_type": "stream",
     "text": [
      "Didn't find with BING or OSM, no bounding box for Google\n",
      "Error getting bounds for: Series([], Name: shapeName, dtype: object)\n",
      "Items: ['PS Gouloumbou', 'Tambacounda']\n"
     ]
    },
    {
     "name": "stderr",
     "output_type": "stream",
     "text": [
      "443it [03:45,  2.04it/s]"
     ]
    },
    {
     "name": "stdout",
     "output_type": "stream",
     "text": [
      "Didn't find with BING or OSM, no bounding box for Google\n",
      "Error getting bounds for: Series([], Name: shapeName, dtype: object)\n",
      "Items: ['PS Goumal', 'Kanel']\n"
     ]
    },
    {
     "name": "stderr",
     "output_type": "stream",
     "text": [
      "444it [03:45,  1.88it/s]"
     ]
    },
    {
     "name": "stdout",
     "output_type": "stream",
     "text": [
      "Didn't find with BING or OSM, no bounding box for Google\n",
      "Error getting bounds for: Series([], Name: shapeName, dtype: object)\n",
      "Items: ['PS Goumbayel', 'Goudiry']\n"
     ]
    },
    {
     "name": "stderr",
     "output_type": "stream",
     "text": [
      "445it [03:46,  2.05it/s]"
     ]
    },
    {
     "name": "stdout",
     "output_type": "stream",
     "text": [
      "Didn't find with BING or OSM, no bounding box for Google\n",
      "Error getting bounds for: Series([], Name: shapeName, dtype: object)\n",
      "Items: ['PS Gourel Djiadji', 'Tambacounda']\n"
     ]
    },
    {
     "name": "stderr",
     "output_type": "stream",
     "text": [
      "446it [03:46,  2.16it/s]"
     ]
    },
    {
     "name": "stdout",
     "output_type": "stream",
     "text": [
      "Didn't find with BING or OSM, no bounding box for Google\n",
      "Error getting bounds for: Series([], Name: shapeName, dtype: object)\n",
      "Items: ['PS Gourgourène', 'Bambey']\n"
     ]
    },
    {
     "name": "stderr",
     "output_type": "stream",
     "text": [
      "447it [03:47,  1.96it/s]"
     ]
    },
    {
     "name": "stdout",
     "output_type": "stream",
     "text": [
      "Didn't find with BING or OSM, no bounding box for Google\n",
      "Error getting bounds for: Series([], Name: shapeName, dtype: object)\n",
      "Items: ['PS Gouriki Koliabé', 'Kanel']\n"
     ]
    },
    {
     "name": "stderr",
     "output_type": "stream",
     "text": [
      "448it [03:47,  1.93it/s]"
     ]
    },
    {
     "name": "stdout",
     "output_type": "stream",
     "text": [
      "Didn't find with BING or OSM, no bounding box for Google\n",
      "Error getting bounds for: Series([], Name: shapeName, dtype: object)\n",
      "Items: ['PS Gouye', 'Tambacounda']\n"
     ]
    },
    {
     "name": "stderr",
     "output_type": "stream",
     "text": [
      "449it [03:48,  2.05it/s]"
     ]
    },
    {
     "name": "stdout",
     "output_type": "stream",
     "text": [
      "Didn't find with BING or OSM, no bounding box for Google\n",
      "Error getting bounds for: Series([], Name: shapeName, dtype: object)\n",
      "Items: ['PS Gouye Mouride', 'Rufisque']\n"
     ]
    },
    {
     "name": "stderr",
     "output_type": "stream",
     "text": [
      "450it [03:48,  2.03it/s]"
     ]
    },
    {
     "name": "stdout",
     "output_type": "stream",
     "text": [
      "Didn't find with BING or OSM, no bounding box for Google\n",
      "Error getting bounds for: Series([], Name: shapeName, dtype: object)\n",
      "Items: ['PS Goxu Mbath', 'Saint Louis']\n"
     ]
    },
    {
     "name": "stderr",
     "output_type": "stream",
     "text": [
      "451it [03:49,  2.05it/s]"
     ]
    },
    {
     "name": "stdout",
     "output_type": "stream",
     "text": [
      "Didn't find with BING or OSM, no bounding box for Google\n",
      "Error getting bounds for: Series([], Name: shapeName, dtype: object)\n",
      "Items: ['PS Grand Diourbel', 'Diourbel']\n"
     ]
    },
    {
     "name": "stderr",
     "output_type": "stream",
     "text": [
      "452it [03:49,  1.90it/s]"
     ]
    },
    {
     "name": "stdout",
     "output_type": "stream",
     "text": [
      "Didn't find with BING or OSM, no bounding box for Google\n",
      "Error getting bounds for: Series([], Name: shapeName, dtype: object)\n",
      "Items: ['PS Grand Mbao', 'Mbour']\n"
     ]
    },
    {
     "name": "stderr",
     "output_type": "stream",
     "text": [
      "453it [03:50,  1.92it/s]"
     ]
    },
    {
     "name": "stdout",
     "output_type": "stream",
     "text": [
      "Didn't find with BING or OSM, no bounding box for Google\n",
      "Error getting bounds for: Series([], Name: shapeName, dtype: object)\n",
      "Items: ['PS Grand Mbour', 'Mbour']\n"
     ]
    },
    {
     "name": "stderr",
     "output_type": "stream",
     "text": [
      "454it [03:50,  2.11it/s]"
     ]
    },
    {
     "name": "stdout",
     "output_type": "stream",
     "text": [
      "Didn't find with BING or OSM, no bounding box for Google\n",
      "Error getting bounds for: Series([], Name: shapeName, dtype: object)\n",
      "Items: ['PS Grand Thies', 'Thies']\n"
     ]
    },
    {
     "name": "stderr",
     "output_type": "stream",
     "text": [
      "455it [03:51,  1.99it/s]"
     ]
    },
    {
     "name": "stdout",
     "output_type": "stream",
     "text": [
      "Didn't find with BING or OSM, no bounding box for Google\n",
      "Error getting bounds for: Series([], Name: shapeName, dtype: object)\n",
      "Items: ['PS Guede Chantier', 'Podor']\n"
     ]
    },
    {
     "name": "stderr",
     "output_type": "stream",
     "text": [
      "456it [03:51,  2.02it/s]"
     ]
    },
    {
     "name": "stdout",
     "output_type": "stream",
     "text": [
      "Didn't find with BING or OSM, no bounding box for Google\n",
      "Error getting bounds for: Series([], Name: shapeName, dtype: object)\n",
      "Items: ['PS Guede Village', 'Podor']\n"
     ]
    },
    {
     "name": "stderr",
     "output_type": "stream",
     "text": [
      "457it [03:52,  1.95it/s]"
     ]
    },
    {
     "name": "stdout",
     "output_type": "stream",
     "text": [
      "Didn't find with BING or OSM, no bounding box for Google\n",
      "Error getting bounds for: Series([], Name: shapeName, dtype: object)\n",
      "Items: ['PS Guerle', 'Mbacke']\n"
     ]
    },
    {
     "name": "stderr",
     "output_type": "stream",
     "text": [
      "458it [03:52,  2.06it/s]"
     ]
    },
    {
     "name": "stdout",
     "output_type": "stream",
     "text": [
      "Didn't find with BING or OSM, no bounding box for Google\n",
      "Error getting bounds for: Series([], Name: shapeName, dtype: object)\n",
      "Items: ['PS Guet Ndar', 'Saint Louis']\n"
     ]
    },
    {
     "name": "stderr",
     "output_type": "stream",
     "text": [
      "459it [03:53,  1.98it/s]"
     ]
    },
    {
     "name": "stdout",
     "output_type": "stream",
     "text": [
      "Didn't find with BING or OSM, no bounding box for Google\n",
      "Error getting bounds for: Series([], Name: shapeName, dtype: object)\n",
      "Items: ['PS Guidakhar', 'Dagana']\n"
     ]
    },
    {
     "name": "stderr",
     "output_type": "stream",
     "text": [
      "460it [03:53,  2.12it/s]"
     ]
    },
    {
     "name": "stdout",
     "output_type": "stream",
     "text": [
      "Didn't find with BING or OSM, no bounding box for Google\n",
      "Error getting bounds for: Series([], Name: shapeName, dtype: object)\n",
      "Items: ['PS Guinaw Rail Nord', 'Pikine']\n"
     ]
    },
    {
     "name": "stderr",
     "output_type": "stream",
     "text": [
      "461it [03:54,  1.90it/s]"
     ]
    },
    {
     "name": "stdout",
     "output_type": "stream",
     "text": [
      "Didn't find with BING or OSM, no bounding box for Google\n",
      "Error getting bounds for: Series([], Name: shapeName, dtype: object)\n",
      "Items: ['PS Guinaw Rail Sud', 'Pikine']\n"
     ]
    },
    {
     "name": "stderr",
     "output_type": "stream",
     "text": [
      "462it [03:54,  2.02it/s]"
     ]
    },
    {
     "name": "stdout",
     "output_type": "stream",
     "text": [
      "Didn't find with BING or OSM, no bounding box for Google\n",
      "Error getting bounds for: Series([], Name: shapeName, dtype: object)\n",
      "Items: ['PS Guire Yoro Bocar', 'Kolda']\n"
     ]
    },
    {
     "name": "stderr",
     "output_type": "stream",
     "text": [
      "463it [03:55,  1.98it/s]"
     ]
    },
    {
     "name": "stdout",
     "output_type": "stream",
     "text": [
      "Didn't find with BING or OSM, no bounding box for Google\n",
      "Error getting bounds for: Series([], Name: shapeName, dtype: object)\n",
      "Items: ['PS Guiya', 'Podor']\n"
     ]
    },
    {
     "name": "stderr",
     "output_type": "stream",
     "text": [
      "464it [03:55,  1.93it/s]"
     ]
    },
    {
     "name": "stdout",
     "output_type": "stream",
     "text": [
      "Didn't find with BING or OSM, no bounding box for Google\n",
      "Error getting bounds for: Series([], Name: shapeName, dtype: object)\n",
      "Items: ['PS Hadabere', 'Kanel']\n"
     ]
    },
    {
     "name": "stderr",
     "output_type": "stream",
     "text": [
      "465it [03:56,  2.04it/s]"
     ]
    },
    {
     "name": "stdout",
     "output_type": "stream",
     "text": [
      "Didn't find with BING or OSM, no bounding box for Google\n",
      "Items: ['PS Hamo Tefess', 'Guediawaye']\n"
     ]
    },
    {
     "name": "stderr",
     "output_type": "stream",
     "text": [
      "466it [03:56,  2.09it/s]"
     ]
    },
    {
     "name": "stdout",
     "output_type": "stream",
     "text": [
      "Items: ['PS Hamo V', 'Guediawaye']\n"
     ]
    },
    {
     "name": "stderr",
     "output_type": "stream",
     "text": [
      "467it [03:57,  1.98it/s]"
     ]
    },
    {
     "name": "stdout",
     "output_type": "stream",
     "text": [
      "Error getting bounds for: Series([], Name: shapeName, dtype: object)\n",
      "Items: ['PS Hanene', 'Thies']\n"
     ]
    },
    {
     "name": "stderr",
     "output_type": "stream",
     "text": [
      "468it [03:57,  1.98it/s]"
     ]
    },
    {
     "name": "stdout",
     "output_type": "stream",
     "text": [
      "Didn't find with BING or OSM, no bounding box for Google\n",
      "Error getting bounds for: Series([], Name: shapeName, dtype: object)\n",
      "Items: ['PS Henri Dunant(Croix Rouge)', 'Ziguinchor']\n"
     ]
    },
    {
     "name": "stderr",
     "output_type": "stream",
     "text": [
      "469it [03:58,  1.90it/s]"
     ]
    },
    {
     "name": "stdout",
     "output_type": "stream",
     "text": [
      "Didn't find with BING or OSM, no bounding box for Google\n",
      "Error getting bounds for: Series([], Name: shapeName, dtype: object)\n",
      "Items: ['PS Hersent', 'Thies']\n"
     ]
    },
    {
     "name": "stderr",
     "output_type": "stream",
     "text": [
      "470it [03:58,  2.05it/s]"
     ]
    },
    {
     "name": "stdout",
     "output_type": "stream",
     "text": [
      "Didn't find with BING or OSM, no bounding box for Google\n",
      "Items: ['PS HLM Las Palmas', 'Guediawaye']\n"
     ]
    },
    {
     "name": "stderr",
     "output_type": "stream",
     "text": [
      "471it [03:59,  2.05it/s]"
     ]
    },
    {
     "name": "stdout",
     "output_type": "stream",
     "text": [
      "Error getting bounds for: Series([], Name: shapeName, dtype: object)\n",
      "Items: ['PS Hodar', 'Malem Hodar']\n"
     ]
    },
    {
     "name": "stderr",
     "output_type": "stream",
     "text": [
      "472it [03:59,  2.05it/s]"
     ]
    },
    {
     "name": "stdout",
     "output_type": "stream",
     "text": [
      "Didn't find with BING or OSM, no bounding box for Google\n",
      "Error getting bounds for: Series([], Name: shapeName, dtype: object)\n",
      "Items: ['PS Hore', 'Kaffrine']\n"
     ]
    },
    {
     "name": "stderr",
     "output_type": "stream",
     "text": [
      "473it [04:00,  1.95it/s]"
     ]
    },
    {
     "name": "stdout",
     "output_type": "stream",
     "text": [
      "Didn't find with BING or OSM, no bounding box for Google\n",
      "Error getting bounds for: Series([], Name: shapeName, dtype: object)\n",
      "Items: ['PS Ibrahima Nima', 'Kolda']\n"
     ]
    },
    {
     "name": "stderr",
     "output_type": "stream",
     "text": [
      "474it [04:00,  1.96it/s]"
     ]
    },
    {
     "name": "stdout",
     "output_type": "stream",
     "text": [
      "Didn't find with BING or OSM, no bounding box for Google\n",
      "Error getting bounds for: Series([], Name: shapeName, dtype: object)\n",
      "Items: ['PS Ida Mouride', 'Koungheul']\n"
     ]
    },
    {
     "name": "stderr",
     "output_type": "stream",
     "text": [
      "475it [04:01,  2.05it/s]"
     ]
    },
    {
     "name": "stdout",
     "output_type": "stream",
     "text": [
      "Didn't find with BING or OSM, no bounding box for Google\n",
      "Error getting bounds for: Series([], Name: shapeName, dtype: object)\n",
      "Items: ['PS Inor Diola', 'Bounkiling']\n"
     ]
    },
    {
     "name": "stderr",
     "output_type": "stream",
     "text": [
      "476it [04:01,  1.93it/s]"
     ]
    },
    {
     "name": "stdout",
     "output_type": "stream",
     "text": [
      "Didn't find with BING or OSM, no bounding box for Google\n",
      "Error getting bounds for: Series([], Name: shapeName, dtype: object)\n",
      "Items: ['PS Ka Fall', 'Tivaoune']\n"
     ]
    },
    {
     "name": "stderr",
     "output_type": "stream",
     "text": [
      "477it [04:02,  1.76it/s]"
     ]
    },
    {
     "name": "stdout",
     "output_type": "stream",
     "text": [
      "Didn't find with BING or OSM, no bounding box for Google\n",
      "Error getting bounds for: Series([], Name: shapeName, dtype: object)\n",
      "Items: ['PS Kab Gaye', 'Kebemer']\n"
     ]
    },
    {
     "name": "stderr",
     "output_type": "stream",
     "text": [
      "478it [04:02,  2.00it/s]"
     ]
    },
    {
     "name": "stdout",
     "output_type": "stream",
     "text": [
      "Didn't find with BING or OSM, no bounding box for Google\n",
      "Error getting bounds for: Series([], Name: shapeName, dtype: object)\n",
      "Items: ['PS Kabacoto', 'Ranerou']\n"
     ]
    },
    {
     "name": "stderr",
     "output_type": "stream",
     "text": [
      "479it [04:03,  1.93it/s]"
     ]
    },
    {
     "name": "stdout",
     "output_type": "stream",
     "text": [
      "Didn't find with BING or OSM, no bounding box for Google\n",
      "Error getting bounds for: Series([], Name: shapeName, dtype: object)\n",
      "Items: ['PS Kabatoki', 'Kaolack']\n"
     ]
    },
    {
     "name": "stderr",
     "output_type": "stream",
     "text": [
      "480it [04:03,  2.06it/s]"
     ]
    },
    {
     "name": "stdout",
     "output_type": "stream",
     "text": [
      "Didn't find with BING or OSM, no bounding box for Google\n",
      "Items: ['PS Kabendou', 'Velingara']\n"
     ]
    },
    {
     "name": "stderr",
     "output_type": "stream",
     "text": [
      "481it [04:05,  1.16it/s]"
     ]
    },
    {
     "name": "stdout",
     "output_type": "stream",
     "text": [
      "Error getting bounds for: Series([], Name: shapeName, dtype: object)\n",
      "Items: ['PS Kadji', 'Linguere']\n"
     ]
    },
    {
     "name": "stderr",
     "output_type": "stream",
     "text": [
      "482it [04:06,  1.43it/s]"
     ]
    },
    {
     "name": "stdout",
     "output_type": "stream",
     "text": [
      "Didn't find with BING or OSM, no bounding box for Google\n",
      "Error getting bounds for: Series([], Name: shapeName, dtype: object)\n",
      "Items: ['PS Kael', 'Mbacke']\n"
     ]
    },
    {
     "name": "stderr",
     "output_type": "stream",
     "text": [
      "483it [04:06,  1.61it/s]"
     ]
    },
    {
     "name": "stdout",
     "output_type": "stream",
     "text": [
      "Didn't find with BING or OSM, no bounding box for Google\n",
      "Error getting bounds for: Series([], Name: shapeName, dtype: object)\n",
      "Items: ['PS Kaffrine II', 'Kaffrine']\n"
     ]
    },
    {
     "name": "stderr",
     "output_type": "stream",
     "text": [
      "484it [04:06,  1.68it/s]"
     ]
    },
    {
     "name": "stdout",
     "output_type": "stream",
     "text": [
      "Didn't find with BING or OSM, no bounding box for Google\n",
      "Error getting bounds for: Series([], Name: shapeName, dtype: object)\n",
      "Items: ['PS Kagnarou', 'Bignona']\n"
     ]
    },
    {
     "name": "stderr",
     "output_type": "stream",
     "text": [
      "485it [04:07,  1.72it/s]"
     ]
    },
    {
     "name": "stdout",
     "output_type": "stream",
     "text": [
      "Didn't find with BING or OSM, no bounding box for Google\n",
      "Error getting bounds for: Series([], Name: shapeName, dtype: object)\n",
      "Items: ['PS Kagnoube', 'Goudiry']\n"
     ]
    },
    {
     "name": "stderr",
     "output_type": "stream",
     "text": [
      "486it [04:07,  1.88it/s]"
     ]
    },
    {
     "name": "stdout",
     "output_type": "stream",
     "text": [
      "Didn't find with BING or OSM, no bounding box for Google\n",
      "Error getting bounds for: Series([], Name: shapeName, dtype: object)\n",
      "Items: ['PS Kaguitte', 'Ziguinchor']\n"
     ]
    },
    {
     "name": "stderr",
     "output_type": "stream",
     "text": [
      "487it [04:08,  1.93it/s]"
     ]
    },
    {
     "name": "stdout",
     "output_type": "stream",
     "text": [
      "Didn't find with BING or OSM, no bounding box for Google\n",
      "Error getting bounds for: Series([], Name: shapeName, dtype: object)\n",
      "Items: ['PS Kahene', 'Koumpentoum']\n"
     ]
    },
    {
     "name": "stderr",
     "output_type": "stream",
     "text": [
      "488it [04:08,  1.95it/s]"
     ]
    },
    {
     "name": "stdout",
     "output_type": "stream",
     "text": [
      "Didn't find with BING or OSM, no bounding box for Google\n",
      "Error getting bounds for: Series([], Name: shapeName, dtype: object)\n",
      "Items: ['PS Kahi', 'Kaffrine']\n"
     ]
    },
    {
     "name": "stderr",
     "output_type": "stream",
     "text": [
      "489it [04:09,  1.86it/s]"
     ]
    },
    {
     "name": "stdout",
     "output_type": "stream",
     "text": [
      "Didn't find with BING or OSM, no bounding box for Google\n",
      "Error getting bounds for: Series([], Name: shapeName, dtype: object)\n",
      "Items: ['PS Kahone', 'Kaolack']\n"
     ]
    },
    {
     "name": "stderr",
     "output_type": "stream",
     "text": [
      "490it [04:10,  1.88it/s]"
     ]
    },
    {
     "name": "stdout",
     "output_type": "stream",
     "text": [
      "Didn't find with BING or OSM, no bounding box for Google\n",
      "Items: ['PS Kalifourou', 'Velingara']\n"
     ]
    },
    {
     "name": "stderr",
     "output_type": "stream",
     "text": [
      "491it [04:10,  1.80it/s]"
     ]
    },
    {
     "name": "stdout",
     "output_type": "stream",
     "text": [
      "Error getting bounds for: Series([], Name: shapeName, dtype: object)\n",
      "Items: ['PS Kamb', 'Dakar']\n"
     ]
    },
    {
     "name": "stderr",
     "output_type": "stream",
     "text": [
      "492it [04:10,  2.13it/s]"
     ]
    },
    {
     "name": "stdout",
     "output_type": "stream",
     "text": [
      "Didn't find with BING or OSM, no bounding box for Google\n",
      "Error getting bounds for: Series([], Name: shapeName, dtype: object)\n",
      "Items: ['PS Kande 1', 'Ziguinchor']\n"
     ]
    },
    {
     "name": "stderr",
     "output_type": "stream",
     "text": [
      "493it [04:11,  1.84it/s]"
     ]
    },
    {
     "name": "stdout",
     "output_type": "stream",
     "text": [
      "Didn't find with BING or OSM, no bounding box for Google\n",
      "Error getting bounds for: Series([], Name: shapeName, dtype: object)\n",
      "Items: ['PS Kande II', 'Ziguinchor']\n"
     ]
    },
    {
     "name": "stderr",
     "output_type": "stream",
     "text": [
      "494it [04:11,  2.08it/s]"
     ]
    },
    {
     "name": "stdout",
     "output_type": "stream",
     "text": [
      "Didn't find with BING or OSM, no bounding box for Google\n",
      "Items: ['PS Kandia', 'Velingara']\n"
     ]
    },
    {
     "name": "stderr",
     "output_type": "stream",
     "text": [
      "495it [04:12,  1.90it/s]"
     ]
    },
    {
     "name": "stdout",
     "output_type": "stream",
     "text": [
      "Error getting bounds for: Series([], Name: shapeName, dtype: object)\n",
      "Items: ['PS Kandialang I', 'Ziguinchor']\n"
     ]
    },
    {
     "name": "stderr",
     "output_type": "stream",
     "text": [
      "496it [04:12,  2.09it/s]"
     ]
    },
    {
     "name": "stdout",
     "output_type": "stream",
     "text": [
      "Didn't find with BING or OSM, no bounding box for Google\n",
      "Error getting bounds for: Series([], Name: shapeName, dtype: object)\n",
      "Items: ['PS Kandialang II', 'Ziguinchor']\n"
     ]
    },
    {
     "name": "stderr",
     "output_type": "stream",
     "text": [
      "497it [04:13,  2.06it/s]"
     ]
    },
    {
     "name": "stdout",
     "output_type": "stream",
     "text": [
      "Didn't find with BING or OSM, no bounding box for Google\n",
      "Items: ['PS Kandiaye', 'Velingara']\n"
     ]
    },
    {
     "name": "stderr",
     "output_type": "stream",
     "text": [
      "498it [04:14,  1.84it/s]"
     ]
    },
    {
     "name": "stdout",
     "output_type": "stream",
     "text": [
      "Error getting bounds for: Series([], Name: shapeName, dtype: object)\n",
      "Items: ['PS Kanene', 'Kebemer']\n"
     ]
    },
    {
     "name": "stderr",
     "output_type": "stream",
     "text": [
      "499it [04:14,  2.17it/s]"
     ]
    },
    {
     "name": "stdout",
     "output_type": "stream",
     "text": [
      "Didn't find with BING or OSM, no bounding box for Google\n",
      "Error getting bounds for: Series([], Name: shapeName, dtype: object)\n",
      "Items: ['PS Kanouma', 'Koumpentoum']\n"
     ]
    },
    {
     "name": "stderr",
     "output_type": "stream",
     "text": [
      "500it [04:14,  2.09it/s]"
     ]
    },
    {
     "name": "stdout",
     "output_type": "stream",
     "text": [
      "Didn't find with BING or OSM, no bounding box for Google\n",
      "Items: ['PS Kaouné', 'Velingara']\n"
     ]
    },
    {
     "name": "stderr",
     "output_type": "stream",
     "text": [
      "501it [04:15,  1.91it/s]"
     ]
    },
    {
     "name": "stdout",
     "output_type": "stream",
     "text": [
      "Error getting bounds for: Series([], Name: shapeName, dtype: object)\n",
      "Items: ['PS Karantaba', 'Goudomp']\n"
     ]
    },
    {
     "name": "stderr",
     "output_type": "stream",
     "text": [
      "502it [04:15,  2.05it/s]"
     ]
    },
    {
     "name": "stdout",
     "output_type": "stream",
     "text": [
      "Didn't find with BING or OSM, no bounding box for Google\n",
      "Error getting bounds for: Series([], Name: shapeName, dtype: object)\n",
      "Items: ['PS Katane', 'Ranerou']\n"
     ]
    },
    {
     "name": "stderr",
     "output_type": "stream",
     "text": [
      "503it [04:16,  1.91it/s]"
     ]
    },
    {
     "name": "stdout",
     "output_type": "stream",
     "text": [
      "Didn't find with BING or OSM, no bounding box for Google\n",
      "Error getting bounds for: Series([], Name: shapeName, dtype: object)\n",
      "Items: ['PS Kathiote', 'Kaffrine']\n"
     ]
    },
    {
     "name": "stderr",
     "output_type": "stream",
     "text": [
      "504it [04:16,  2.17it/s]"
     ]
    },
    {
     "name": "stdout",
     "output_type": "stream",
     "text": [
      "Didn't find with BING or OSM, no bounding box for Google\n",
      "Error getting bounds for: Series([], Name: shapeName, dtype: object)\n",
      "Items: ['PS Kawour', 'Goudomp']\n"
     ]
    },
    {
     "name": "stderr",
     "output_type": "stream",
     "text": [
      "505it [04:17,  1.87it/s]"
     ]
    },
    {
     "name": "stdout",
     "output_type": "stream",
     "text": [
      "Didn't find with BING or OSM, no bounding box for Google\n",
      "Error getting bounds for: Series([], Name: shapeName, dtype: object)\n",
      "Items: ['PS Kawsara', 'Thies']\n"
     ]
    },
    {
     "name": "stderr",
     "output_type": "stream",
     "text": [
      "506it [04:17,  2.05it/s]"
     ]
    },
    {
     "name": "stdout",
     "output_type": "stream",
     "text": [
      "Didn't find with BING or OSM, no bounding box for Google\n",
      "Error getting bounds for: Series([], Name: shapeName, dtype: object)\n",
      "Items: ['PS Kaymor', 'Ranerou']\n"
     ]
    },
    {
     "name": "stderr",
     "output_type": "stream",
     "text": [
      "507it [04:18,  1.92it/s]"
     ]
    },
    {
     "name": "stdout",
     "output_type": "stream",
     "text": [
      "Didn't find with BING or OSM, no bounding box for Google\n",
      "Error getting bounds for: Series([], Name: shapeName, dtype: object)\n",
      "Items: ['PS Kelle Gueye', 'Louga']\n"
     ]
    },
    {
     "name": "stderr",
     "output_type": "stream",
     "text": [
      "508it [04:19,  1.91it/s]"
     ]
    },
    {
     "name": "stdout",
     "output_type": "stream",
     "text": [
      "Didn't find with BING or OSM, no bounding box for Google\n",
      "Error getting bounds for: Series([], Name: shapeName, dtype: object)\n",
      "Items: ['PS Kerewane', 'Medina Yoroufoula']\n"
     ]
    },
    {
     "name": "stderr",
     "output_type": "stream",
     "text": [
      "509it [04:19,  2.10it/s]"
     ]
    },
    {
     "name": "stdout",
     "output_type": "stream",
     "text": [
      "Didn't find with BING or OSM, no bounding box for Google\n",
      "Error getting bounds for: Series([], Name: shapeName, dtype: object)\n",
      "Items: ['PS Keur Abibou Niasse', 'Ranerou']\n"
     ]
    },
    {
     "name": "stderr",
     "output_type": "stream",
     "text": [
      "510it [04:19,  2.13it/s]"
     ]
    },
    {
     "name": "stdout",
     "output_type": "stream",
     "text": [
      "Didn't find with BING or OSM, no bounding box for Google\n",
      "Error getting bounds for: Series([], Name: shapeName, dtype: object)\n",
      "Items: ['PS Keur Ale Samba', 'Ranerou']\n"
     ]
    },
    {
     "name": "stderr",
     "output_type": "stream",
     "text": [
      "511it [04:20,  2.03it/s]"
     ]
    },
    {
     "name": "stdout",
     "output_type": "stream",
     "text": [
      "Didn't find with BING or OSM, no bounding box for Google\n",
      "Error getting bounds for: Series([], Name: shapeName, dtype: object)\n",
      "Items: ['PS Keur Aly Bassine', 'Tivaoune']\n"
     ]
    },
    {
     "name": "stderr",
     "output_type": "stream",
     "text": [
      "512it [04:20,  2.01it/s]"
     ]
    },
    {
     "name": "stdout",
     "output_type": "stream",
     "text": [
      "Didn't find with BING or OSM, no bounding box for Google\n",
      "Error getting bounds for: Series([], Name: shapeName, dtype: object)\n",
      "Items: ['PS Keur Amadou Yalla', 'Kebemer']\n"
     ]
    },
    {
     "name": "stderr",
     "output_type": "stream",
     "text": [
      "513it [04:21,  2.08it/s]"
     ]
    },
    {
     "name": "stdout",
     "output_type": "stream",
     "text": [
      "Didn't find with BING or OSM, no bounding box for Google\n",
      "Error getting bounds for: Series([], Name: shapeName, dtype: object)\n",
      "Items: ['PS Keur Ayip', 'Ranerou']\n"
     ]
    },
    {
     "name": "stderr",
     "output_type": "stream",
     "text": [
      "514it [04:21,  2.05it/s]"
     ]
    },
    {
     "name": "stdout",
     "output_type": "stream",
     "text": [
      "Didn't find with BING or OSM, no bounding box for Google\n",
      "Error getting bounds for: Series([], Name: shapeName, dtype: object)\n",
      "Items: ['PS Keur Babou', 'Kaffrine']\n"
     ]
    },
    {
     "name": "stderr",
     "output_type": "stream",
     "text": [
      "515it [04:22,  1.92it/s]"
     ]
    },
    {
     "name": "stdout",
     "output_type": "stream",
     "text": [
      "Didn't find with BING or OSM, no bounding box for Google\n",
      "Error getting bounds for: Series([], Name: shapeName, dtype: object)\n",
      "Items: ['PS Keur Baka', 'Tivaoune']\n"
     ]
    },
    {
     "name": "stderr",
     "output_type": "stream",
     "text": [
      "516it [04:23,  1.93it/s]"
     ]
    },
    {
     "name": "stdout",
     "output_type": "stream",
     "text": [
      "Didn't find with BING or OSM, no bounding box for Google\n",
      "Error getting bounds for: Series([], Name: shapeName, dtype: object)\n",
      "Items: ['PS Keur Birane Ndoupy', 'Ranerou']\n"
     ]
    },
    {
     "name": "stderr",
     "output_type": "stream",
     "text": [
      "517it [04:23,  2.02it/s]"
     ]
    },
    {
     "name": "stdout",
     "output_type": "stream",
     "text": [
      "Didn't find with BING or OSM, no bounding box for Google\n",
      "Error getting bounds for: Series([], Name: shapeName, dtype: object)\n",
      "Items: ['PS Keur Cheikh Oumar TOURE', 'Ranerou']\n"
     ]
    },
    {
     "name": "stderr",
     "output_type": "stream",
     "text": [
      "518it [04:23,  2.08it/s]"
     ]
    },
    {
     "name": "stdout",
     "output_type": "stream",
     "text": [
      "Didn't find with BING or OSM, no bounding box for Google\n",
      "Error getting bounds for: Series([], Name: shapeName, dtype: object)\n",
      "Items: ['PS Keur Issa', 'Thies']\n"
     ]
    },
    {
     "name": "stderr",
     "output_type": "stream",
     "text": [
      "519it [04:24,  2.06it/s]"
     ]
    },
    {
     "name": "stdout",
     "output_type": "stream",
     "text": [
      "Didn't find with BING or OSM, no bounding box for Google\n",
      "Error getting bounds for: Series([], Name: shapeName, dtype: object)\n",
      "Items: ['PS Keur Lahine Sakho', 'Ranerou']\n"
     ]
    },
    {
     "name": "stderr",
     "output_type": "stream",
     "text": [
      "520it [04:24,  1.98it/s]"
     ]
    },
    {
     "name": "stdout",
     "output_type": "stream",
     "text": [
      "Didn't find with BING or OSM, no bounding box for Google\n",
      "Error getting bounds for: Series([], Name: shapeName, dtype: object)\n",
      "Items: ['PS Keur Lassana', 'Tivaoune']\n"
     ]
    },
    {
     "name": "stderr",
     "output_type": "stream",
     "text": [
      "521it [04:25,  1.97it/s]"
     ]
    },
    {
     "name": "stdout",
     "output_type": "stream",
     "text": [
      "Didn't find with BING or OSM, no bounding box for Google\n",
      "Error getting bounds for: Series([], Name: shapeName, dtype: object)\n",
      "Items: ['PS Keur Maba Diakhou', 'Ranerou']\n"
     ]
    },
    {
     "name": "stderr",
     "output_type": "stream",
     "text": [
      "522it [04:26,  1.94it/s]"
     ]
    },
    {
     "name": "stdout",
     "output_type": "stream",
     "text": [
      "Didn't find with BING or OSM, no bounding box for Google\n",
      "Error getting bounds for: Series([], Name: shapeName, dtype: object)\n",
      "Items: ['PS Keur Madiabel 1', 'Ranerou']\n"
     ]
    },
    {
     "name": "stderr",
     "output_type": "stream",
     "text": [
      "523it [04:26,  1.94it/s]"
     ]
    },
    {
     "name": "stdout",
     "output_type": "stream",
     "text": [
      "Didn't find with BING or OSM, no bounding box for Google\n",
      "Error getting bounds for: Series([], Name: shapeName, dtype: object)\n",
      "Items: ['PS Keur Madiabel 2', 'Ranerou']\n"
     ]
    },
    {
     "name": "stderr",
     "output_type": "stream",
     "text": [
      "524it [04:27,  1.96it/s]"
     ]
    },
    {
     "name": "stdout",
     "output_type": "stream",
     "text": [
      "Didn't find with BING or OSM, no bounding box for Google\n",
      "Error getting bounds for: Series([], Name: shapeName, dtype: object)\n",
      "Items: ['PS Keur Madiop', 'Bambey']\n"
     ]
    },
    {
     "name": "stderr",
     "output_type": "stream",
     "text": [
      "525it [04:27,  2.11it/s]"
     ]
    },
    {
     "name": "stdout",
     "output_type": "stream",
     "text": [
      "Didn't find with BING or OSM, no bounding box for Google\n",
      "Error getting bounds for: Series([], Name: shapeName, dtype: object)\n",
      "Items: ['PS Keur Malick Marame', 'Koungheul']\n"
     ]
    },
    {
     "name": "stderr",
     "output_type": "stream",
     "text": [
      "526it [04:28,  1.93it/s]"
     ]
    },
    {
     "name": "stdout",
     "output_type": "stream",
     "text": [
      "Didn't find with BING or OSM, no bounding box for Google\n",
      "Error getting bounds for: Series([], Name: shapeName, dtype: object)\n",
      "Items: ['PS Keur Mandongo', 'Ranerou']\n"
     ]
    },
    {
     "name": "stderr",
     "output_type": "stream",
     "text": [
      "527it [04:28,  2.10it/s]"
     ]
    },
    {
     "name": "stdout",
     "output_type": "stream",
     "text": [
      "Didn't find with BING or OSM, no bounding box for Google\n",
      "Error getting bounds for: Series([], Name: shapeName, dtype: object)\n",
      "Items: ['PS Keur Mandoumbe', 'Koungheul']\n"
     ]
    },
    {
     "name": "stderr",
     "output_type": "stream",
     "text": [
      "528it [04:28,  2.07it/s]"
     ]
    },
    {
     "name": "stdout",
     "output_type": "stream",
     "text": [
      "Didn't find with BING or OSM, no bounding box for Google\n",
      "Error getting bounds for: Series([], Name: shapeName, dtype: object)\n",
      "Items: ['PS Keur Mbagne Diop', 'Kaolack']\n"
     ]
    },
    {
     "name": "stderr",
     "output_type": "stream",
     "text": [
      "529it [04:29,  2.01it/s]"
     ]
    },
    {
     "name": "stdout",
     "output_type": "stream",
     "text": [
      "Didn't find with BING or OSM, no bounding box for Google\n",
      "Error getting bounds for: Series([], Name: shapeName, dtype: object)\n",
      "Items: ['PS Keur Mbir Ndao', 'Tivaoune']\n"
     ]
    },
    {
     "name": "stderr",
     "output_type": "stream",
     "text": [
      "530it [04:30,  1.93it/s]"
     ]
    },
    {
     "name": "stdout",
     "output_type": "stream",
     "text": [
      "Didn't find with BING or OSM, no bounding box for Google\n",
      "Error getting bounds for: Series([], Name: shapeName, dtype: object)\n",
      "Items: ['PS Keur Mbouki', 'Birkelane']\n"
     ]
    },
    {
     "name": "stderr",
     "output_type": "stream",
     "text": [
      "531it [04:30,  2.07it/s]"
     ]
    },
    {
     "name": "stdout",
     "output_type": "stream",
     "text": [
      "Didn't find with BING or OSM, no bounding box for Google\n",
      "Error getting bounds for: Series([], Name: shapeName, dtype: object)\n",
      "Items: ['PS Keur Moussa', 'Ranerou']\n"
     ]
    },
    {
     "name": "stderr",
     "output_type": "stream",
     "text": [
      "532it [04:31,  1.93it/s]"
     ]
    },
    {
     "name": "stdout",
     "output_type": "stream",
     "text": [
      "Didn't find with BING or OSM, no bounding box for Google\n",
      "Error getting bounds for: Series([], Name: shapeName, dtype: object)\n",
      "Items: ['PS Keur Ndiaye', 'Louga']\n"
     ]
    },
    {
     "name": "stderr",
     "output_type": "stream",
     "text": [
      "533it [04:31,  1.94it/s]"
     ]
    },
    {
     "name": "stdout",
     "output_type": "stream",
     "text": [
      "Didn't find with BING or OSM, no bounding box for Google\n",
      "Error getting bounds for: Series([], Name: shapeName, dtype: object)\n",
      "Items: ['PS Keur Ngalgou', 'Diourbel']\n"
     ]
    },
    {
     "name": "stderr",
     "output_type": "stream",
     "text": [
      "534it [04:32,  1.99it/s]"
     ]
    },
    {
     "name": "stdout",
     "output_type": "stream",
     "text": [
      "Didn't find with BING or OSM, no bounding box for Google\n",
      "Error getting bounds for: Series([], Name: shapeName, dtype: object)\n",
      "Items: ['PS Keur Ngana', 'Diourbel']\n"
     ]
    },
    {
     "name": "stderr",
     "output_type": "stream",
     "text": [
      "535it [04:32,  1.96it/s]"
     ]
    },
    {
     "name": "stdout",
     "output_type": "stream",
     "text": [
      "Didn't find with BING or OSM, no bounding box for Google\n",
      "Error getting bounds for: Series([], Name: shapeName, dtype: object)\n",
      "Items: ['PS Keur Pathè', 'Birkelane']\n"
     ]
    },
    {
     "name": "stderr",
     "output_type": "stream",
     "text": [
      "536it [04:32,  2.11it/s]"
     ]
    },
    {
     "name": "stdout",
     "output_type": "stream",
     "text": [
      "Didn't find with BING or OSM, no bounding box for Google\n",
      "Error getting bounds for: Series([], Name: shapeName, dtype: object)\n",
      "Items: ['PS Keur Sader', 'Birkelane']\n"
     ]
    },
    {
     "name": "stderr",
     "output_type": "stream",
     "text": [
      "537it [04:33,  1.98it/s]"
     ]
    },
    {
     "name": "stdout",
     "output_type": "stream",
     "text": [
      "Didn't find with BING or OSM, no bounding box for Google\n",
      "Error getting bounds for: Series([], Name: shapeName, dtype: object)\n",
      "Items: ['PS Keur Saib Ndoye', 'Thies']\n"
     ]
    },
    {
     "name": "stderr",
     "output_type": "stream",
     "text": [
      "538it [04:34,  1.99it/s]"
     ]
    },
    {
     "name": "stdout",
     "output_type": "stream",
     "text": [
      "Didn't find with BING or OSM, no bounding box for Google\n",
      "Error getting bounds for: Series([], Name: shapeName, dtype: object)\n",
      "Items: ['PS Keur Samba Kane', 'Bambey']\n"
     ]
    },
    {
     "name": "stderr",
     "output_type": "stream",
     "text": [
      "539it [04:34,  1.96it/s]"
     ]
    },
    {
     "name": "stdout",
     "output_type": "stream",
     "text": [
      "Didn't find with BING or OSM, no bounding box for Google\n",
      "Error getting bounds for: Series([], Name: shapeName, dtype: object)\n",
      "Items: ['PS Keur Sawely', 'Birkelane']\n"
     ]
    },
    {
     "name": "stderr",
     "output_type": "stream",
     "text": [
      "540it [04:34,  2.10it/s]"
     ]
    },
    {
     "name": "stdout",
     "output_type": "stream",
     "text": [
      "Didn't find with BING or OSM, no bounding box for Google\n",
      "Error getting bounds for: Series([], Name: shapeName, dtype: object)\n",
      "Items: ['PS Keur Serigne Ablaye', 'Thies']\n"
     ]
    },
    {
     "name": "stderr",
     "output_type": "stream",
     "text": [
      "541it [04:35,  1.95it/s]"
     ]
    },
    {
     "name": "stdout",
     "output_type": "stream",
     "text": [
      "Didn't find with BING or OSM, no bounding box for Google\n",
      "Error getting bounds for: Series([], Name: shapeName, dtype: object)\n",
      "Items: ['PS Keur Serigne Bassirou', 'Tivaoune']\n"
     ]
    },
    {
     "name": "stderr",
     "output_type": "stream",
     "text": [
      "542it [04:35,  2.08it/s]"
     ]
    },
    {
     "name": "stdout",
     "output_type": "stream",
     "text": [
      "Didn't find with BING or OSM, no bounding box for Google\n",
      "Error getting bounds for: Series([], Name: shapeName, dtype: object)\n",
      "Items: ['PS Keur Serigne Louga Est', 'Louga']\n"
     ]
    },
    {
     "name": "stderr",
     "output_type": "stream",
     "text": [
      "543it [04:36,  1.98it/s]"
     ]
    },
    {
     "name": "stdout",
     "output_type": "stream",
     "text": [
      "Didn't find with BING or OSM, no bounding box for Google\n",
      "Error getting bounds for: Series([], Name: shapeName, dtype: object)\n",
      "Items: ['PS Keur Serigne Louga Ouest', 'Louga']\n"
     ]
    },
    {
     "name": "stderr",
     "output_type": "stream",
     "text": [
      "544it [04:36,  2.07it/s]"
     ]
    },
    {
     "name": "stdout",
     "output_type": "stream",
     "text": [
      "Didn't find with BING or OSM, no bounding box for Google\n",
      "Error getting bounds for: Series([], Name: shapeName, dtype: object)\n",
      "Items: ['PS Keur Serigne Mbaye Sarr', 'Diourbel']\n"
     ]
    },
    {
     "name": "stderr",
     "output_type": "stream",
     "text": [
      "545it [04:37,  2.05it/s]"
     ]
    },
    {
     "name": "stdout",
     "output_type": "stream",
     "text": [
      "Didn't find with BING or OSM, no bounding box for Google\n",
      "Error getting bounds for: Series([], Name: shapeName, dtype: object)\n",
      "Items: ['PS Keur Soce', 'Tivaoune']\n"
     ]
    },
    {
     "name": "stderr",
     "output_type": "stream",
     "text": [
      "546it [04:37,  2.03it/s]"
     ]
    },
    {
     "name": "stdout",
     "output_type": "stream",
     "text": [
      "Didn't find with BING or OSM, no bounding box for Google\n",
      "Error getting bounds for: Series([], Name: shapeName, dtype: object)\n",
      "Items: ['PS Keur Sountou', 'Ranerou']\n"
     ]
    },
    {
     "name": "stderr",
     "output_type": "stream",
     "text": [
      "547it [04:38,  1.99it/s]"
     ]
    },
    {
     "name": "stdout",
     "output_type": "stream",
     "text": [
      "Didn't find with BING or OSM, no bounding box for Google\n",
      "Error getting bounds for: Series([], Name: shapeName, dtype: object)\n",
      "Items: ['PS Keur Tapha', 'Ranerou']\n"
     ]
    },
    {
     "name": "stderr",
     "output_type": "stream",
     "text": [
      "548it [04:38,  2.02it/s]"
     ]
    },
    {
     "name": "stdout",
     "output_type": "stream",
     "text": [
      "Didn't find with BING or OSM, no bounding box for Google\n",
      "Error getting bounds for: Series([], Name: shapeName, dtype: object)\n",
      "Items: ['PS Kevoye', 'Salemata']\n"
     ]
    },
    {
     "name": "stderr",
     "output_type": "stream",
     "text": [
      "549it [04:39,  1.91it/s]"
     ]
    },
    {
     "name": "stdout",
     "output_type": "stream",
     "text": [
      "Didn't find with BING or OSM, no bounding box for Google\n",
      "Error getting bounds for: Series([], Name: shapeName, dtype: object)\n",
      "Items: ['PS Kharakhena', 'Saraya']\n"
     ]
    },
    {
     "name": "stderr",
     "output_type": "stream",
     "text": [
      "550it [04:39,  2.05it/s]"
     ]
    },
    {
     "name": "stdout",
     "output_type": "stream",
     "text": [
      "Didn't find with BING or OSM, no bounding box for Google\n",
      "Error getting bounds for: Series([], Name: shapeName, dtype: object)\n",
      "Items: ['PS Khaîra Diaga', 'Malem Hodar']\n"
     ]
    },
    {
     "name": "stderr",
     "output_type": "stream",
     "text": [
      "551it [04:40,  2.00it/s]"
     ]
    },
    {
     "name": "stdout",
     "output_type": "stream",
     "text": [
      "Didn't find with BING or OSM, no bounding box for Google\n",
      "Error getting bounds for: Series([], Name: shapeName, dtype: object)\n",
      "Items: ['PS Khor', 'Saint Louis']\n"
     ]
    },
    {
     "name": "stderr",
     "output_type": "stream",
     "text": [
      "552it [04:41,  1.81it/s]"
     ]
    },
    {
     "name": "stdout",
     "output_type": "stream",
     "text": [
      "Didn't find with BING or OSM, no bounding box for Google\n",
      "Error getting bounds for: Series([], Name: shapeName, dtype: object)\n",
      "Items: ['PS Khossanto', 'Saraya']\n"
     ]
    },
    {
     "name": "stderr",
     "output_type": "stream",
     "text": [
      "553it [04:41,  2.07it/s]"
     ]
    },
    {
     "name": "stdout",
     "output_type": "stream",
     "text": [
      "Didn't find with BING or OSM, no bounding box for Google\n",
      "Error getting bounds for: Series([], Name: shapeName, dtype: object)\n",
      "Items: ['PS Khourounar', 'Pikine']\n"
     ]
    },
    {
     "name": "stderr",
     "output_type": "stream",
     "text": [
      "554it [04:41,  2.02it/s]"
     ]
    },
    {
     "name": "stdout",
     "output_type": "stream",
     "text": [
      "Didn't find with BING or OSM, no bounding box for Google\n",
      "Error getting bounds for: Series([], Name: shapeName, dtype: object)\n",
      "Items: ['PS Kip Carrieres', 'Tambacounda']\n"
     ]
    },
    {
     "name": "stderr",
     "output_type": "stream",
     "text": [
      "555it [04:42,  2.01it/s]"
     ]
    },
    {
     "name": "stdout",
     "output_type": "stream",
     "text": [
      "Didn't find with BING or OSM, no bounding box for Google\n",
      "Error getting bounds for: Series([], Name: shapeName, dtype: object)\n",
      "Items: ['PS Kissane', 'Thies']\n"
     ]
    },
    {
     "name": "stderr",
     "output_type": "stream",
     "text": [
      "556it [04:43,  1.95it/s]"
     ]
    },
    {
     "name": "stdout",
     "output_type": "stream",
     "text": [
      "Didn't find with BING or OSM, no bounding box for Google\n",
      "Error getting bounds for: Series([], Name: shapeName, dtype: object)\n",
      "Items: ['PS Koar', 'Goudiry']\n"
     ]
    },
    {
     "name": "stderr",
     "output_type": "stream",
     "text": [
      "557it [04:43,  2.09it/s]"
     ]
    },
    {
     "name": "stdout",
     "output_type": "stream",
     "text": [
      "Didn't find with BING or OSM, no bounding box for Google\n",
      "Error getting bounds for: Series([], Name: shapeName, dtype: object)\n",
      "Items: ['PS Kohel', 'Ranerou']\n"
     ]
    },
    {
     "name": "stderr",
     "output_type": "stream",
     "text": [
      "558it [04:44,  1.89it/s]"
     ]
    },
    {
     "name": "stdout",
     "output_type": "stream",
     "text": [
      "Didn't find with BING or OSM, no bounding box for Google\n",
      "Error getting bounds for: Series([], Name: shapeName, dtype: object)\n",
      "Items: ['PS Kolibantang', 'Goudomp']\n"
     ]
    },
    {
     "name": "stderr",
     "output_type": "stream",
     "text": [
      "559it [04:44,  2.09it/s]"
     ]
    },
    {
     "name": "stdout",
     "output_type": "stream",
     "text": [
      "Didn't find with BING or OSM, no bounding box for Google\n",
      "Error getting bounds for: Series([], Name: shapeName, dtype: object)\n",
      "Items: ['PS Kongoly', 'Guinguineo']\n"
     ]
    },
    {
     "name": "stderr",
     "output_type": "stream",
     "text": [
      "560it [04:44,  2.01it/s]"
     ]
    },
    {
     "name": "stdout",
     "output_type": "stream",
     "text": [
      "Didn't find with BING or OSM, no bounding box for Google\n",
      "Error getting bounds for: Series([], Name: shapeName, dtype: object)\n",
      "Items: ['PS Kossanké', 'Kolda']\n"
     ]
    },
    {
     "name": "stderr",
     "output_type": "stream",
     "text": [
      "561it [04:45,  1.94it/s]"
     ]
    },
    {
     "name": "stdout",
     "output_type": "stream",
     "text": [
      "Didn't find with BING or OSM, no bounding box for Google\n",
      "Error getting bounds for: Series([], Name: shapeName, dtype: object)\n",
      "Items: ['PS Kothiary', 'Goudiry']\n"
     ]
    },
    {
     "name": "stderr",
     "output_type": "stream",
     "text": [
      "562it [04:46,  1.97it/s]"
     ]
    },
    {
     "name": "stdout",
     "output_type": "stream",
     "text": [
      "Didn't find with BING or OSM, no bounding box for Google\n",
      "Error getting bounds for: Series([], Name: shapeName, dtype: object)\n",
      "Items: ['PS Kougnara', 'Goudomp']\n"
     ]
    },
    {
     "name": "stderr",
     "output_type": "stream",
     "text": [
      "563it [04:46,  2.06it/s]"
     ]
    },
    {
     "name": "stdout",
     "output_type": "stream",
     "text": [
      "Didn't find with BING or OSM, no bounding box for Google\n",
      "Error getting bounds for: Series([], Name: shapeName, dtype: object)\n",
      "Items: ['PS Koukoto Simong', 'Koungheul']\n"
     ]
    },
    {
     "name": "stderr",
     "output_type": "stream",
     "text": [
      "564it [04:46,  2.08it/s]"
     ]
    },
    {
     "name": "stdout",
     "output_type": "stream",
     "text": [
      "Didn't find with BING or OSM, no bounding box for Google\n",
      "Error getting bounds for: Series([], Name: shapeName, dtype: object)\n",
      "Items: ['PS Koulinto', 'Medina Yoroufoula']\n"
     ]
    },
    {
     "name": "stderr",
     "output_type": "stream",
     "text": [
      "565it [04:47,  2.00it/s]"
     ]
    },
    {
     "name": "stdout",
     "output_type": "stream",
     "text": [
      "Didn't find with BING or OSM, no bounding box for Google\n",
      "Error getting bounds for: Series([], Name: shapeName, dtype: object)\n",
      "Items: ['PS Koulor', 'Goudiry']\n"
     ]
    },
    {
     "name": "stderr",
     "output_type": "stream",
     "text": [
      "566it [04:48,  1.93it/s]"
     ]
    },
    {
     "name": "stdout",
     "output_type": "stream",
     "text": [
      "Didn't find with BING or OSM, no bounding box for Google\n",
      "Error getting bounds for: Series([], Name: shapeName, dtype: object)\n",
      "Items: ['PS Koumbal', 'Tivaoune']\n"
     ]
    },
    {
     "name": "stderr",
     "output_type": "stream",
     "text": [
      "567it [04:48,  1.96it/s]"
     ]
    },
    {
     "name": "stdout",
     "output_type": "stream",
     "text": [
      "Didn't find with BING or OSM, no bounding box for Google\n",
      "Error getting bounds for: Series([], Name: shapeName, dtype: object)\n",
      "Items: ['PS Koumpal', 'Birkelane']\n"
     ]
    },
    {
     "name": "stderr",
     "output_type": "stream",
     "text": [
      "568it [04:48,  2.09it/s]"
     ]
    },
    {
     "name": "stdout",
     "output_type": "stream",
     "text": [
      "Didn't find with BING or OSM, no bounding box for Google\n",
      "Error getting bounds for: Series([], Name: shapeName, dtype: object)\n",
      "Items: ['PS Koundam', 'Kaolack']\n"
     ]
    },
    {
     "name": "stderr",
     "output_type": "stream",
     "text": [
      "569it [04:49,  1.98it/s]"
     ]
    },
    {
     "name": "stdout",
     "output_type": "stream",
     "text": [
      "Didn't find with BING or OSM, no bounding box for Google\n",
      "Error getting bounds for: Series([], Name: shapeName, dtype: object)\n",
      "Items: ['PS Koung Koung', 'Koungheul']\n"
     ]
    },
    {
     "name": "stderr",
     "output_type": "stream",
     "text": [
      "570it [04:49,  2.05it/s]"
     ]
    },
    {
     "name": "stdout",
     "output_type": "stream",
     "text": [
      "Didn't find with BING or OSM, no bounding box for Google\n",
      "Error getting bounds for: Series([], Name: shapeName, dtype: object)\n",
      "Items: ['PS Kounghany', 'Bakel']\n"
     ]
    },
    {
     "name": "stderr",
     "output_type": "stream",
     "text": [
      "571it [04:50,  1.92it/s]"
     ]
    },
    {
     "name": "stdout",
     "output_type": "stream",
     "text": [
      "Didn't find with BING or OSM, no bounding box for Google\n",
      "Items: ['PS Kounkane', 'Velingara']\n"
     ]
    },
    {
     "name": "stderr",
     "output_type": "stream",
     "text": [
      "572it [04:51,  1.72it/s]"
     ]
    },
    {
     "name": "stdout",
     "output_type": "stream",
     "text": [
      "Error getting bounds for: Series([], Name: shapeName, dtype: object)\n",
      "Items: ['PS Kourdane', 'Koungheul']\n"
     ]
    },
    {
     "name": "stderr",
     "output_type": "stream",
     "text": [
      "573it [04:51,  2.06it/s]"
     ]
    },
    {
     "name": "stdout",
     "output_type": "stream",
     "text": [
      "Didn't find with BING or OSM, no bounding box for Google\n",
      "Error getting bounds for: Series([], Name: shapeName, dtype: object)\n",
      "Items: ['PS Koussanar', 'Tambacounda']\n"
     ]
    },
    {
     "name": "stderr",
     "output_type": "stream",
     "text": [
      "574it [04:52,  2.02it/s]"
     ]
    },
    {
     "name": "stdout",
     "output_type": "stream",
     "text": [
      "Didn't find with BING or OSM, no bounding box for Google\n",
      "Error getting bounds for: Series([], Name: shapeName, dtype: object)\n",
      "Items: ['PS Koussy', 'Sedhiou']\n"
     ]
    },
    {
     "name": "stderr",
     "output_type": "stream",
     "text": [
      "575it [04:52,  1.97it/s]"
     ]
    },
    {
     "name": "stdout",
     "output_type": "stream",
     "text": [
      "Didn't find with BING or OSM, no bounding box for Google\n",
      "Error getting bounds for: Series([], Name: shapeName, dtype: object)\n",
      "Items: ['PS Koutal', 'Tivaoune']\n"
     ]
    },
    {
     "name": "stderr",
     "output_type": "stream",
     "text": [
      "576it [04:53,  2.04it/s]"
     ]
    },
    {
     "name": "stdout",
     "output_type": "stream",
     "text": [
      "Didn't find with BING or OSM, no bounding box for Google\n",
      "Error getting bounds for: Series([], Name: shapeName, dtype: object)\n",
      "Items: ['PS Kouthia', 'Goudiry']\n"
     ]
    },
    {
     "name": "stderr",
     "output_type": "stream",
     "text": [
      "577it [04:53,  2.09it/s]"
     ]
    },
    {
     "name": "stdout",
     "output_type": "stream",
     "text": [
      "Didn't find with BING or OSM, no bounding box for Google\n",
      "Error getting bounds for: Series([], Name: shapeName, dtype: object)\n",
      "Items: ['PS Kouthia Gaidy', 'Koumpentoum']\n"
     ]
    },
    {
     "name": "stderr",
     "output_type": "stream",
     "text": [
      "578it [04:54,  1.94it/s]"
     ]
    },
    {
     "name": "stdout",
     "output_type": "stream",
     "text": [
      "Didn't find with BING or OSM, no bounding box for Google\n",
      "Error getting bounds for: Series([], Name: shapeName, dtype: object)\n",
      "Items: ['PS Kouthiaba', 'Koumpentoum']\n"
     ]
    },
    {
     "name": "stderr",
     "output_type": "stream",
     "text": [
      "579it [04:54,  1.96it/s]"
     ]
    },
    {
     "name": "stdout",
     "output_type": "stream",
     "text": [
      "Didn't find with BING or OSM, no bounding box for Google\n",
      "Error getting bounds for: Series([], Name: shapeName, dtype: object)\n",
      "Items: ['PS Kélimane', 'Kaffrine']\n"
     ]
    },
    {
     "name": "stderr",
     "output_type": "stream",
     "text": [
      "580it [04:55,  1.97it/s]"
     ]
    },
    {
     "name": "stdout",
     "output_type": "stream",
     "text": [
      "Didn't find with BING or OSM, no bounding box for Google\n",
      "Error getting bounds for: Series([], Name: shapeName, dtype: object)\n",
      "Items: ['PS la Rochette', 'Mbour']\n"
     ]
    },
    {
     "name": "stderr",
     "output_type": "stream",
     "text": [
      "581it [04:55,  1.84it/s]"
     ]
    },
    {
     "name": "stdout",
     "output_type": "stream",
     "text": [
      "Didn't find with BING or OSM, no bounding box for Google\n",
      "Error getting bounds for: Series([], Name: shapeName, dtype: object)\n",
      "Items: ['PS Labgar', 'Linguere']\n"
     ]
    },
    {
     "name": "stderr",
     "output_type": "stream",
     "text": [
      "582it [04:56,  1.96it/s]"
     ]
    },
    {
     "name": "stdout",
     "output_type": "stream",
     "text": [
      "Didn't find with BING or OSM, no bounding box for Google\n",
      "Error getting bounds for: Series([], Name: shapeName, dtype: object)\n",
      "Items: ['PS Lagnar', 'Diourbel']\n"
     ]
    },
    {
     "name": "stderr",
     "output_type": "stream",
     "text": [
      "583it [04:56,  1.98it/s]"
     ]
    },
    {
     "name": "stdout",
     "output_type": "stream",
     "text": [
      "Didn't find with BING or OSM, no bounding box for Google\n",
      "Error getting bounds for: Series([], Name: shapeName, dtype: object)\n",
      "Items: ['PS Lamarame', 'Tivaoune']\n"
     ]
    },
    {
     "name": "stderr",
     "output_type": "stream",
     "text": [
      "584it [04:57,  2.12it/s]"
     ]
    },
    {
     "name": "stdout",
     "output_type": "stream",
     "text": [
      "Didn't find with BING or OSM, no bounding box for Google\n",
      "Error getting bounds for: Series([], Name: shapeName, dtype: object)\n",
      "Items: ['PS Lambaye', 'Bambey']\n"
     ]
    },
    {
     "name": "stderr",
     "output_type": "stream",
     "text": [
      "585it [04:57,  2.07it/s]"
     ]
    },
    {
     "name": "stdout",
     "output_type": "stream",
     "text": [
      "Didn't find with BING or OSM, no bounding box for Google\n",
      "Error getting bounds for: Series([], Name: shapeName, dtype: object)\n",
      "Items: ['PS Latmingue', 'Tivaoune']\n"
     ]
    },
    {
     "name": "stderr",
     "output_type": "stream",
     "text": [
      "586it [04:58,  2.00it/s]"
     ]
    },
    {
     "name": "stdout",
     "output_type": "stream",
     "text": [
      "Didn't find with BING or OSM, no bounding box for Google\n",
      "Error getting bounds for: Series([], Name: shapeName, dtype: object)\n",
      "Items: ['PS Leona', 'Kaolack']\n"
     ]
    },
    {
     "name": "stderr",
     "output_type": "stream",
     "text": [
      "587it [04:58,  2.04it/s]"
     ]
    },
    {
     "name": "stdout",
     "output_type": "stream",
     "text": [
      "Didn't find with BING or OSM, no bounding box for Google\n",
      "Items: ['PS Linkering', 'Velingara']\n"
     ]
    },
    {
     "name": "stderr",
     "output_type": "stream",
     "text": [
      "588it [04:59,  1.67it/s]"
     ]
    },
    {
     "name": "stdout",
     "output_type": "stream",
     "text": [
      "Error getting bounds for: Series([], Name: shapeName, dtype: object)\n",
      "Items: ['PS Linkédiang', 'Medina Yoroufoula']\n"
     ]
    },
    {
     "name": "stderr",
     "output_type": "stream",
     "text": [
      "589it [04:59,  2.05it/s]"
     ]
    },
    {
     "name": "stdout",
     "output_type": "stream",
     "text": [
      "Didn't find with BING or OSM, no bounding box for Google\n",
      "Error getting bounds for: Series([], Name: shapeName, dtype: object)\n",
      "Items: ['PS Lobaly', 'Kanel']\n"
     ]
    },
    {
     "name": "stderr",
     "output_type": "stream",
     "text": [
      "590it [05:00,  1.86it/s]"
     ]
    },
    {
     "name": "stdout",
     "output_type": "stream",
     "text": [
      "Didn't find with BING or OSM, no bounding box for Google\n",
      "Error getting bounds for: Series([], Name: shapeName, dtype: object)\n",
      "Items: ['PS Loffé', 'Koumpentoum']\n"
     ]
    },
    {
     "name": "stderr",
     "output_type": "stream",
     "text": [
      "591it [05:00,  2.08it/s]"
     ]
    },
    {
     "name": "stdout",
     "output_type": "stream",
     "text": [
      "Didn't find with BING or OSM, no bounding box for Google\n",
      "Error getting bounds for: Series([], Name: shapeName, dtype: object)\n",
      "Items: ['PS Lohène', 'Ranerou']\n"
     ]
    },
    {
     "name": "stderr",
     "output_type": "stream",
     "text": [
      "592it [05:01,  2.05it/s]"
     ]
    },
    {
     "name": "stdout",
     "output_type": "stream",
     "text": [
      "Didn't find with BING or OSM, no bounding box for Google\n",
      "Error getting bounds for: Series([], Name: shapeName, dtype: object)\n",
      "Items: ['PS Lompoul', 'Kebemer']\n"
     ]
    },
    {
     "name": "stderr",
     "output_type": "stream",
     "text": [
      "593it [05:01,  2.03it/s]"
     ]
    },
    {
     "name": "stdout",
     "output_type": "stream",
     "text": [
      "Didn't find with BING or OSM, no bounding box for Google\n",
      "Error getting bounds for: Series([], Name: shapeName, dtype: object)\n",
      "Items: ['PS Loro', 'Kebemer']\n"
     ]
    },
    {
     "name": "stderr",
     "output_type": "stream",
     "text": [
      "594it [05:02,  1.81it/s]"
     ]
    },
    {
     "name": "stdout",
     "output_type": "stream",
     "text": [
      "Didn't find with BING or OSM, no bounding box for Google\n",
      "Error getting bounds for: Series([], Name: shapeName, dtype: object)\n",
      "Items: ['PS Louboudou Doué', 'Podor']\n"
     ]
    },
    {
     "name": "stderr",
     "output_type": "stream",
     "text": [
      "595it [05:02,  2.01it/s]"
     ]
    },
    {
     "name": "stdout",
     "output_type": "stream",
     "text": [
      "Didn't find with BING or OSM, no bounding box for Google\n",
      "Error getting bounds for: Series([], Name: shapeName, dtype: object)\n",
      "Items: ['PS Loudia Ouolof', 'Oussouye']\n"
     ]
    },
    {
     "name": "stderr",
     "output_type": "stream",
     "text": [
      "596it [05:03,  2.01it/s]"
     ]
    },
    {
     "name": "stdout",
     "output_type": "stream",
     "text": [
      "Didn't find with BING or OSM, no bounding box for Google\n",
      "Error getting bounds for: Series([], Name: shapeName, dtype: object)\n",
      "Items: ['PS Lougre Thioly', 'Ranerou']\n"
     ]
    },
    {
     "name": "stderr",
     "output_type": "stream",
     "text": [
      "597it [05:03,  2.01it/s]"
     ]
    },
    {
     "name": "stdout",
     "output_type": "stream",
     "text": [
      "Didn't find with BING or OSM, no bounding box for Google\n",
      "Error getting bounds for: Series([], Name: shapeName, dtype: object)\n",
      "Items: ['PS Lougue', 'Podor']\n"
     ]
    },
    {
     "name": "stderr",
     "output_type": "stream",
     "text": [
      "598it [05:04,  1.88it/s]"
     ]
    },
    {
     "name": "stdout",
     "output_type": "stream",
     "text": [
      "Didn't find with BING or OSM, no bounding box for Google\n",
      "Error getting bounds for: Series([], Name: shapeName, dtype: object)\n",
      "Items: ['PS Loumbal Samba Abdoul', 'Ranerou']\n"
     ]
    },
    {
     "name": "stderr",
     "output_type": "stream",
     "text": [
      "599it [05:04,  2.12it/s]"
     ]
    },
    {
     "name": "stdout",
     "output_type": "stream",
     "text": [
      "Didn't find with BING or OSM, no bounding box for Google\n",
      "Error getting bounds for: Series([], Name: shapeName, dtype: object)\n",
      "Items: ['PS Loumby travaux', 'Koumpentoum']\n"
     ]
    },
    {
     "name": "stderr",
     "output_type": "stream",
     "text": [
      "600it [05:05,  1.94it/s]"
     ]
    },
    {
     "name": "stdout",
     "output_type": "stream",
     "text": [
      "Didn't find with BING or OSM, no bounding box for Google\n",
      "Error getting bounds for: Series([], Name: shapeName, dtype: object)\n",
      "Items: ['PS Lour Escale', 'Koungheul']\n"
     ]
    },
    {
     "name": "stderr",
     "output_type": "stream",
     "text": [
      "601it [05:05,  2.02it/s]"
     ]
    },
    {
     "name": "stdout",
     "output_type": "stream",
     "text": [
      "Didn't find with BING or OSM, no bounding box for Google\n",
      "Error getting bounds for: Series([], Name: shapeName, dtype: object)\n",
      "Items: ['PS Lyndiane', 'Kaolack']\n"
     ]
    },
    {
     "name": "stderr",
     "output_type": "stream",
     "text": [
      "602it [05:06,  1.90it/s]"
     ]
    },
    {
     "name": "stdout",
     "output_type": "stream",
     "text": [
      "Didn't find with BING or OSM, no bounding box for Google\n",
      "Error getting bounds for: Series([], Name: shapeName, dtype: object)\n",
      "Items: ['PS Lyndiane Municipal', 'Ziguinchor']\n"
     ]
    },
    {
     "name": "stderr",
     "output_type": "stream",
     "text": [
      "603it [05:06,  2.14it/s]"
     ]
    },
    {
     "name": "stdout",
     "output_type": "stream",
     "text": [
      "Didn't find with BING or OSM, no bounding box for Google\n",
      "Error getting bounds for: Series([], Name: shapeName, dtype: object)\n",
      "Items: ['PS Mabo', 'Birkelane']\n"
     ]
    },
    {
     "name": "stderr",
     "output_type": "stream",
     "text": [
      "604it [05:07,  1.86it/s]"
     ]
    },
    {
     "name": "stdout",
     "output_type": "stream",
     "text": [
      "Didn't find with BING or OSM, no bounding box for Google\n",
      "Error getting bounds for: Series([], Name: shapeName, dtype: object)\n",
      "Items: ['PS Madina', 'Mbacke']\n"
     ]
    },
    {
     "name": "stderr",
     "output_type": "stream",
     "text": [
      "605it [05:07,  2.08it/s]"
     ]
    },
    {
     "name": "stdout",
     "output_type": "stream",
     "text": [
      "Didn't find with BING or OSM, no bounding box for Google\n",
      "Error getting bounds for: Series([], Name: shapeName, dtype: object)\n",
      "Items: ['PS Madina Baffe', 'Saraya']\n"
     ]
    },
    {
     "name": "stderr",
     "output_type": "stream",
     "text": [
      "606it [05:08,  2.12it/s]"
     ]
    },
    {
     "name": "stdout",
     "output_type": "stream",
     "text": [
      "Didn't find with BING or OSM, no bounding box for Google\n",
      "Error getting bounds for: Series([], Name: shapeName, dtype: object)\n",
      "Items: ['PS Madina Ndiathbe', 'Podor']\n"
     ]
    },
    {
     "name": "stderr",
     "output_type": "stream",
     "text": [
      "607it [05:08,  2.02it/s]"
     ]
    },
    {
     "name": "stdout",
     "output_type": "stream",
     "text": [
      "Didn't find with BING or OSM, no bounding box for Google\n",
      "Error getting bounds for: Series([], Name: shapeName, dtype: object)\n",
      "Items: ['PS Madina Sirimana', 'Saraya']\n"
     ]
    },
    {
     "name": "stderr",
     "output_type": "stream",
     "text": [
      "608it [05:09,  1.96it/s]"
     ]
    },
    {
     "name": "stdout",
     "output_type": "stream",
     "text": [
      "Didn't find with BING or OSM, no bounding box for Google\n",
      "Error getting bounds for: Series([], Name: shapeName, dtype: object)\n",
      "Items: ['PS Mafré', 'Podor']\n"
     ]
    },
    {
     "name": "stderr",
     "output_type": "stream",
     "text": [
      "609it [05:09,  2.02it/s]"
     ]
    },
    {
     "name": "stdout",
     "output_type": "stream",
     "text": [
      "Didn't find with BING or OSM, no bounding box for Google\n",
      "Error getting bounds for: Series([], Name: shapeName, dtype: object)\n",
      "Items: ['PS Maka Belal', 'Malem Hodar']\n"
     ]
    },
    {
     "name": "stderr",
     "output_type": "stream",
     "text": [
      "610it [05:10,  1.91it/s]"
     ]
    },
    {
     "name": "stdout",
     "output_type": "stream",
     "text": [
      "Didn't find with BING or OSM, no bounding box for Google\n",
      "Error getting bounds for: Series([], Name: shapeName, dtype: object)\n",
      "Items: ['PS Maka Yop', 'Koungheul']\n"
     ]
    },
    {
     "name": "stderr",
     "output_type": "stream",
     "text": [
      "611it [05:10,  2.11it/s]"
     ]
    },
    {
     "name": "stdout",
     "output_type": "stream",
     "text": [
      "Didn't find with BING or OSM, no bounding box for Google\n",
      "Error getting bounds for: Series([], Name: shapeName, dtype: object)\n",
      "Items: ['PS Mako', 'Kedougou']\n"
     ]
    },
    {
     "name": "stderr",
     "output_type": "stream",
     "text": [
      "612it [05:11,  1.90it/s]"
     ]
    },
    {
     "name": "stdout",
     "output_type": "stream",
     "text": [
      "Didn't find with BING or OSM, no bounding box for Google\n",
      "Error getting bounds for: Series([], Name: shapeName, dtype: object)\n",
      "Items: ['PS Malemba', 'Koumpentoum']\n"
     ]
    },
    {
     "name": "stderr",
     "output_type": "stream",
     "text": [
      "613it [05:11,  2.10it/s]"
     ]
    },
    {
     "name": "stdout",
     "output_type": "stream",
     "text": [
      "Didn't find with BING or OSM, no bounding box for Google\n",
      "Error getting bounds for: Series([], Name: shapeName, dtype: object)\n",
      "Items: ['PS Malene Niani', 'Koumpentoum']\n"
     ]
    },
    {
     "name": "stderr",
     "output_type": "stream",
     "text": [
      "614it [05:12,  2.07it/s]"
     ]
    },
    {
     "name": "stdout",
     "output_type": "stream",
     "text": [
      "Didn't find with BING or OSM, no bounding box for Google\n",
      "Error getting bounds for: Series([], Name: shapeName, dtype: object)\n",
      "Items: ['PS Malicounda Bambara', 'Mbour']\n"
     ]
    },
    {
     "name": "stderr",
     "output_type": "stream",
     "text": [
      "615it [05:12,  2.03it/s]"
     ]
    },
    {
     "name": "stdout",
     "output_type": "stream",
     "text": [
      "Didn't find with BING or OSM, no bounding box for Google\n",
      "Error getting bounds for: Series([], Name: shapeName, dtype: object)\n",
      "Items: ['PS Malicounda Keur Maissa', 'Mbour']\n"
     ]
    },
    {
     "name": "stderr",
     "output_type": "stream",
     "text": [
      "616it [05:13,  1.93it/s]"
     ]
    },
    {
     "name": "stdout",
     "output_type": "stream",
     "text": [
      "Didn't find with BING or OSM, no bounding box for Google\n",
      "Error getting bounds for: Series([], Name: shapeName, dtype: object)\n",
      "Items: ['PS Mamakhono', 'Saraya']\n"
     ]
    },
    {
     "name": "stderr",
     "output_type": "stream",
     "text": [
      "617it [05:13,  2.07it/s]"
     ]
    },
    {
     "name": "stdout",
     "output_type": "stream",
     "text": [
      "Didn't find with BING or OSM, no bounding box for Google\n",
      "Error getting bounds for: Series([], Name: shapeName, dtype: object)\n",
      "Items: ['PS Mampalago', 'Bignona']\n"
     ]
    },
    {
     "name": "stderr",
     "output_type": "stream",
     "text": [
      "618it [05:14,  1.95it/s]"
     ]
    },
    {
     "name": "stdout",
     "output_type": "stream",
     "text": [
      "Didn't find with BING or OSM, no bounding box for Google\n",
      "Error getting bounds for: Series([], Name: shapeName, dtype: object)\n",
      "Items: ['PS Mampatim', 'Kolda']\n"
     ]
    },
    {
     "name": "stderr",
     "output_type": "stream",
     "text": [
      "619it [05:14,  1.88it/s]"
     ]
    },
    {
     "name": "stdout",
     "output_type": "stream",
     "text": [
      "Didn't find with BING or OSM, no bounding box for Google\n",
      "Error getting bounds for: Series([], Name: shapeName, dtype: object)\n",
      "Items: ['PS Manael', 'Bakel']\n"
     ]
    },
    {
     "name": "stderr",
     "output_type": "stream",
     "text": [
      "620it [05:15,  2.04it/s]"
     ]
    },
    {
     "name": "stdout",
     "output_type": "stream",
     "text": [
      "Didn't find with BING or OSM, no bounding box for Google\n",
      "Error getting bounds for: Series([], Name: shapeName, dtype: object)\n",
      "Items: ['PS Manconoba', 'Sedhiou']\n"
     ]
    },
    {
     "name": "stderr",
     "output_type": "stream",
     "text": [
      "621it [05:15,  2.04it/s]"
     ]
    },
    {
     "name": "stdout",
     "output_type": "stream",
     "text": [
      "Didn't find with BING or OSM, no bounding box for Google\n",
      "Items: ['PS Manda Douane', 'Velingara']\n"
     ]
    },
    {
     "name": "stderr",
     "output_type": "stream",
     "text": [
      "622it [05:16,  1.87it/s]"
     ]
    },
    {
     "name": "stdout",
     "output_type": "stream",
     "text": [
      "Error getting bounds for: Series([], Name: shapeName, dtype: object)\n",
      "Items: ['PS Mangouléne', 'Bignona']\n"
     ]
    },
    {
     "name": "stderr",
     "output_type": "stream",
     "text": [
      "623it [05:16,  2.07it/s]"
     ]
    },
    {
     "name": "stdout",
     "output_type": "stream",
     "text": [
      "Didn't find with BING or OSM, no bounding box for Google\n",
      "Error getting bounds for: Series([], Name: shapeName, dtype: object)\n",
      "Items: ['PS Manguiline', 'Bignona']\n"
     ]
    },
    {
     "name": "stderr",
     "output_type": "stream",
     "text": [
      "624it [05:17,  1.71it/s]"
     ]
    },
    {
     "name": "stdout",
     "output_type": "stream",
     "text": [
      "Didn't find with BING or OSM, no bounding box for Google\n",
      "Error getting bounds for: Series([], Name: shapeName, dtype: object)\n",
      "Items: ['PS Marakissa', 'Sedhiou']\n"
     ]
    },
    {
     "name": "stderr",
     "output_type": "stream",
     "text": [
      "625it [05:17,  1.91it/s]"
     ]
    },
    {
     "name": "stdout",
     "output_type": "stream",
     "text": [
      "Didn't find with BING or OSM, no bounding box for Google\n",
      "Error getting bounds for: Series([], Name: shapeName, dtype: object)\n",
      "Items: ['PS Marsassoum', 'Sedhiou']\n"
     ]
    },
    {
     "name": "stderr",
     "output_type": "stream",
     "text": [
      "626it [05:18,  2.00it/s]"
     ]
    },
    {
     "name": "stdout",
     "output_type": "stream",
     "text": [
      "Didn't find with BING or OSM, no bounding box for Google\n",
      "Error getting bounds for: Series([], Name: shapeName, dtype: object)\n",
      "Items: ['PS Mbacke Ndimb', 'Mbacke']\n"
     ]
    },
    {
     "name": "stderr",
     "output_type": "stream",
     "text": [
      "627it [05:18,  1.97it/s]"
     ]
    },
    {
     "name": "stdout",
     "output_type": "stream",
     "text": [
      "Didn't find with BING or OSM, no bounding box for Google\n",
      "Error getting bounds for: Series([], Name: shapeName, dtype: object)\n",
      "Items: ['PS Mbadakhoun', 'Guinguineo']\n"
     ]
    },
    {
     "name": "stderr",
     "output_type": "stream",
     "text": [
      "628it [05:19,  2.13it/s]"
     ]
    },
    {
     "name": "stdout",
     "output_type": "stream",
     "text": [
      "Didn't find with BING or OSM, no bounding box for Google\n",
      "Error getting bounds for: Series([], Name: shapeName, dtype: object)\n",
      "Items: ['PS Mbakhana', 'Saint Louis']\n"
     ]
    },
    {
     "name": "stderr",
     "output_type": "stream",
     "text": [
      "629it [05:19,  2.03it/s]"
     ]
    },
    {
     "name": "stdout",
     "output_type": "stream",
     "text": [
      "Didn't find with BING or OSM, no bounding box for Google\n",
      "Error getting bounds for: Series([], Name: shapeName, dtype: object)\n",
      "Items: ['PS Mbakhna', 'Matam']\n"
     ]
    },
    {
     "name": "stderr",
     "output_type": "stream",
     "text": [
      "630it [05:20,  2.02it/s]"
     ]
    },
    {
     "name": "stdout",
     "output_type": "stream",
     "text": [
      "Didn't find with BING or OSM, no bounding box for Google\n",
      "Error getting bounds for: Series([], Name: shapeName, dtype: object)\n",
      "Items: ['PS Mballing', 'Mbour']\n"
     ]
    },
    {
     "name": "stderr",
     "output_type": "stream",
     "text": [
      "631it [05:20,  1.98it/s]"
     ]
    },
    {
     "name": "stdout",
     "output_type": "stream",
     "text": [
      "Didn't find with BING or OSM, no bounding box for Google\n",
      "Error getting bounds for: Series([], Name: shapeName, dtype: object)\n",
      "Items: ['PS Mballocounda (MYF)', 'Medina Yoroufoula']\n"
     ]
    },
    {
     "name": "stderr",
     "output_type": "stream",
     "text": [
      "632it [05:21,  1.91it/s]"
     ]
    },
    {
     "name": "stdout",
     "output_type": "stream",
     "text": [
      "Didn't find with BING or OSM, no bounding box for Google\n",
      "Error getting bounds for: Series([], Name: shapeName, dtype: object)\n",
      "Items: ['PS Mbam', 'Ranerou']\n"
     ]
    },
    {
     "name": "stderr",
     "output_type": "stream",
     "text": [
      "633it [05:21,  2.05it/s]"
     ]
    },
    {
     "name": "stdout",
     "output_type": "stream",
     "text": [
      "Didn't find with BING or OSM, no bounding box for Google\n",
      "Error getting bounds for: Series([], Name: shapeName, dtype: object)\n",
      "Items: ['PS Mbane', 'Dagana']\n"
     ]
    },
    {
     "name": "stderr",
     "output_type": "stream",
     "text": [
      "634it [05:22,  1.97it/s]"
     ]
    },
    {
     "name": "stdout",
     "output_type": "stream",
     "text": [
      "Didn't find with BING or OSM, no bounding box for Google\n",
      "Error getting bounds for: Series([], Name: shapeName, dtype: object)\n",
      "Items: ['PS Mbao Gare', 'Mbour']\n"
     ]
    },
    {
     "name": "stderr",
     "output_type": "stream",
     "text": [
      "635it [05:22,  2.05it/s]"
     ]
    },
    {
     "name": "stdout",
     "output_type": "stream",
     "text": [
      "Didn't find with BING or OSM, no bounding box for Google\n",
      "Error getting bounds for: Series([], Name: shapeName, dtype: object)\n",
      "Items: ['PS Mbar', 'Gossas']\n"
     ]
    },
    {
     "name": "stderr",
     "output_type": "stream",
     "text": [
      "636it [05:23,  2.00it/s]"
     ]
    },
    {
     "name": "stdout",
     "output_type": "stream",
     "text": [
      "Didn't find with BING or OSM, no bounding box for Google\n",
      "Error getting bounds for: Series([], Name: shapeName, dtype: object)\n",
      "Items: ['PS Mbarocounda', 'Malem Hodar']\n"
     ]
    },
    {
     "name": "stderr",
     "output_type": "stream",
     "text": [
      "637it [05:23,  2.03it/s]"
     ]
    },
    {
     "name": "stdout",
     "output_type": "stream",
     "text": [
      "Didn't find with BING or OSM, no bounding box for Google\n",
      "Error getting bounds for: Series([], Name: shapeName, dtype: object)\n",
      "Items: ['PS Mbaye Awa', 'Dakar']\n"
     ]
    },
    {
     "name": "stderr",
     "output_type": "stream",
     "text": [
      "638it [05:24,  2.08it/s]"
     ]
    },
    {
     "name": "stdout",
     "output_type": "stream",
     "text": [
      "Didn't find with BING or OSM, no bounding box for Google\n",
      "Error getting bounds for: Series([], Name: shapeName, dtype: object)\n",
      "Items: ['PS Mbayenne 3', 'Tivaoune']\n"
     ]
    },
    {
     "name": "stderr",
     "output_type": "stream",
     "text": [
      "639it [05:24,  1.92it/s]"
     ]
    },
    {
     "name": "stdout",
     "output_type": "stream",
     "text": [
      "Didn't find with BING or OSM, no bounding box for Google\n",
      "Error getting bounds for: Series([], Name: shapeName, dtype: object)\n",
      "Items: ['PS Mbediene', 'Louga']\n"
     ]
    },
    {
     "name": "stderr",
     "output_type": "stream",
     "text": [
      "640it [05:25,  1.83it/s]"
     ]
    },
    {
     "name": "stdout",
     "output_type": "stream",
     "text": [
      "Didn't find with BING or OSM, no bounding box for Google\n",
      "Error getting bounds for: Series([], Name: shapeName, dtype: object)\n",
      "Items: ['PS Mbegue', 'Kaffrine']\n"
     ]
    },
    {
     "name": "stderr",
     "output_type": "stream",
     "text": [
      "641it [05:25,  2.15it/s]"
     ]
    },
    {
     "name": "stdout",
     "output_type": "stream",
     "text": [
      "Didn't find with BING or OSM, no bounding box for Google\n",
      "Error getting bounds for: Series([], Name: shapeName, dtype: object)\n",
      "Items: ['PS Mbelbouck', 'Kaffrine']\n"
     ]
    },
    {
     "name": "stderr",
     "output_type": "stream",
     "text": [
      "642it [05:26,  1.98it/s]"
     ]
    },
    {
     "name": "stdout",
     "output_type": "stream",
     "text": [
      "Didn't find with BING or OSM, no bounding box for Google\n",
      "Error getting bounds for: Series([], Name: shapeName, dtype: object)\n",
      "Items: ['PS Mbelloghoutt', 'Fatick']\n"
     ]
    },
    {
     "name": "stderr",
     "output_type": "stream",
     "text": [
      "643it [05:26,  2.11it/s]"
     ]
    },
    {
     "name": "stdout",
     "output_type": "stream",
     "text": [
      "Didn't find with BING or OSM, no bounding box for Google\n",
      "Error getting bounds for: Series([], Name: shapeName, dtype: object)\n",
      "Items: ['PS Mbem Mbem', 'Ranerou']\n"
     ]
    },
    {
     "name": "stderr",
     "output_type": "stream",
     "text": [
      "644it [05:27,  1.90it/s]"
     ]
    },
    {
     "name": "stdout",
     "output_type": "stream",
     "text": [
      "Didn't find with BING or OSM, no bounding box for Google\n",
      "Error getting bounds for: Series([], Name: shapeName, dtype: object)\n",
      "Items: ['PS Mbettite', 'Fatick']\n"
     ]
    },
    {
     "name": "stderr",
     "output_type": "stream",
     "text": [
      "645it [05:27,  2.11it/s]"
     ]
    },
    {
     "name": "stdout",
     "output_type": "stream",
     "text": [
      "Didn't find with BING or OSM, no bounding box for Google\n",
      "Error getting bounds for: Series([], Name: shapeName, dtype: object)\n",
      "Items: ['PS Mbeulekhe Diane', 'Dakar']\n"
     ]
    },
    {
     "name": "stderr",
     "output_type": "stream",
     "text": [
      "646it [05:28,  1.90it/s]"
     ]
    },
    {
     "name": "stdout",
     "output_type": "stream",
     "text": [
      "Didn't find with BING or OSM, no bounding box for Google\n",
      "Error getting bounds for: Series([], Name: shapeName, dtype: object)\n",
      "Items: ['PS Mbeuleup', 'Birkelane']\n"
     ]
    },
    {
     "name": "stderr",
     "output_type": "stream",
     "text": [
      "647it [05:28,  2.09it/s]"
     ]
    },
    {
     "name": "stdout",
     "output_type": "stream",
     "text": [
      "Didn't find with BING or OSM, no bounding box for Google\n",
      "Error getting bounds for: Series([], Name: shapeName, dtype: object)\n",
      "Items: ['PS Mbeyene', 'Dakar']\n"
     ]
    },
    {
     "name": "stderr",
     "output_type": "stream",
     "text": [
      "648it [05:29,  1.95it/s]"
     ]
    },
    {
     "name": "stdout",
     "output_type": "stream",
     "text": [
      "Didn't find with BING or OSM, no bounding box for Google\n",
      "Error getting bounds for: Series([], Name: shapeName, dtype: object)\n",
      "Items: ['PS Mbidi', 'Podor']\n"
     ]
    },
    {
     "name": "stderr",
     "output_type": "stream",
     "text": [
      "649it [05:29,  1.96it/s]"
     ]
    },
    {
     "name": "stdout",
     "output_type": "stream",
     "text": [
      "Didn't find with BING or OSM, no bounding box for Google\n",
      "Error getting bounds for: Series([], Name: shapeName, dtype: object)\n",
      "Items: ['PS Mbilor', 'Dagana']\n"
     ]
    },
    {
     "name": "stderr",
     "output_type": "stream",
     "text": [
      "650it [05:30,  1.92it/s]"
     ]
    },
    {
     "name": "stdout",
     "output_type": "stream",
     "text": [
      "Didn't find with BING or OSM, no bounding box for Google\n",
      "Error getting bounds for: Series([], Name: shapeName, dtype: object)\n",
      "Items: ['PS Mbitéyène Abdou', 'Tivaoune']\n"
     ]
    },
    {
     "name": "stderr",
     "output_type": "stream",
     "text": [
      "651it [05:30,  2.01it/s]"
     ]
    },
    {
     "name": "stdout",
     "output_type": "stream",
     "text": [
      "Didn't find with BING or OSM, no bounding box for Google\n",
      "Error getting bounds for: Series([], Name: shapeName, dtype: object)\n",
      "Items: ['PS Mbolo Birane', 'Podor']\n"
     ]
    },
    {
     "name": "stderr",
     "output_type": "stream",
     "text": [
      "652it [05:31,  2.01it/s]"
     ]
    },
    {
     "name": "stdout",
     "output_type": "stream",
     "text": [
      "Didn't find with BING or OSM, no bounding box for Google\n",
      "Error getting bounds for: Series([], Name: shapeName, dtype: object)\n",
      "Items: ['PS Mboro I', 'Tivaoune']\n"
     ]
    },
    {
     "name": "stderr",
     "output_type": "stream",
     "text": [
      "653it [05:31,  1.95it/s]"
     ]
    },
    {
     "name": "stdout",
     "output_type": "stream",
     "text": [
      "Didn't find with BING or OSM, no bounding box for Google\n",
      "Error getting bounds for: Series([], Name: shapeName, dtype: object)\n",
      "Items: ['PS Mboro II', 'Tivaoune']\n"
     ]
    },
    {
     "name": "stderr",
     "output_type": "stream",
     "text": [
      "654it [05:32,  2.14it/s]"
     ]
    },
    {
     "name": "stdout",
     "output_type": "stream",
     "text": [
      "Didn't find with BING or OSM, no bounding box for Google\n",
      "Error getting bounds for: Series([], Name: shapeName, dtype: object)\n",
      "Items: ['PS Mboss', 'Guinguineo']\n"
     ]
    },
    {
     "name": "stderr",
     "output_type": "stream",
     "text": [
      "655it [05:32,  2.05it/s]"
     ]
    },
    {
     "name": "stdout",
     "output_type": "stream",
     "text": [
      "Didn't find with BING or OSM, no bounding box for Google\n",
      "Error getting bounds for: Series([], Name: shapeName, dtype: object)\n",
      "Items: ['PS Mboulal', 'Dakar']\n"
     ]
    },
    {
     "name": "stderr",
     "output_type": "stream",
     "text": [
      "656it [05:33,  1.93it/s]"
     ]
    },
    {
     "name": "stdout",
     "output_type": "stream",
     "text": [
      "Didn't find with BING or OSM, no bounding box for Google\n",
      "Error getting bounds for: Series([], Name: shapeName, dtype: object)\n",
      "Items: ['PS Mbouleme', 'Mbour']\n"
     ]
    },
    {
     "name": "stderr",
     "output_type": "stream",
     "text": [
      "657it [05:33,  2.12it/s]"
     ]
    },
    {
     "name": "stdout",
     "output_type": "stream",
     "text": [
      "Didn't find with BING or OSM, no bounding box for Google\n",
      "Error getting bounds for: Series([], Name: shapeName, dtype: object)\n",
      "Items: ['PS Mboulougne', 'Guinguineo']\n"
     ]
    },
    {
     "name": "stderr",
     "output_type": "stream",
     "text": [
      "658it [05:34,  1.83it/s]"
     ]
    },
    {
     "name": "stdout",
     "output_type": "stream",
     "text": [
      "Didn't find with BING or OSM, no bounding box for Google\n",
      "Error getting bounds for: Series([], Name: shapeName, dtype: object)\n",
      "Items: ['PS Mboumba', 'Podor']\n"
     ]
    },
    {
     "name": "stderr",
     "output_type": "stream",
     "text": [
      "659it [05:34,  2.02it/s]"
     ]
    },
    {
     "name": "stdout",
     "output_type": "stream",
     "text": [
      "Didn't find with BING or OSM, no bounding box for Google\n",
      "Error getting bounds for: Series([], Name: shapeName, dtype: object)\n",
      "Items: ['PS Mbour I', 'Thies']\n"
     ]
    },
    {
     "name": "stderr",
     "output_type": "stream",
     "text": [
      "660it [05:35,  2.01it/s]"
     ]
    },
    {
     "name": "stdout",
     "output_type": "stream",
     "text": [
      "Didn't find with BING or OSM, no bounding box for Google\n",
      "Error getting bounds for: Series([], Name: shapeName, dtype: object)\n",
      "Items: ['PS Mbour II', 'Thies']\n"
     ]
    },
    {
     "name": "stderr",
     "output_type": "stream",
     "text": [
      "661it [05:35,  1.99it/s]"
     ]
    },
    {
     "name": "stdout",
     "output_type": "stream",
     "text": [
      "Didn't find with BING or OSM, no bounding box for Google\n",
      "Error getting bounds for: Series([], Name: shapeName, dtype: object)\n",
      "Items: ['PS Mbour III', 'Thies']\n"
     ]
    },
    {
     "name": "stderr",
     "output_type": "stream",
     "text": [
      "662it [05:36,  2.06it/s]"
     ]
    },
    {
     "name": "stdout",
     "output_type": "stream",
     "text": [
      "Didn't find with BING or OSM, no bounding box for Google\n",
      "Error getting bounds for: Series([], Name: shapeName, dtype: object)\n",
      "Items: ['PS Mbour Toucouleur', 'Mbour']\n"
     ]
    },
    {
     "name": "stderr",
     "output_type": "stream",
     "text": [
      "663it [05:36,  2.08it/s]"
     ]
    },
    {
     "name": "stdout",
     "output_type": "stream",
     "text": [
      "Didn't find with BING or OSM, no bounding box for Google\n",
      "Error getting bounds for: Series([], Name: shapeName, dtype: object)\n",
      "Items: ['PS Mbousnakh', 'Thies']\n"
     ]
    },
    {
     "name": "stderr",
     "output_type": "stream",
     "text": [
      "664it [05:37,  2.09it/s]"
     ]
    },
    {
     "name": "stdout",
     "output_type": "stream",
     "text": [
      "Didn't find with BING or OSM, no bounding box for Google\n",
      "Error getting bounds for: Series([], Name: shapeName, dtype: object)\n",
      "Items: ['PS Mboyo', 'Podor']\n"
     ]
    },
    {
     "name": "stderr",
     "output_type": "stream",
     "text": [
      "665it [05:37,  2.04it/s]"
     ]
    },
    {
     "name": "stdout",
     "output_type": "stream",
     "text": [
      "Didn't find with BING or OSM, no bounding box for Google\n",
      "Error getting bounds for: Series([], Name: shapeName, dtype: object)\n",
      "Items: ['PS Medina Baye', 'Kaolack']\n"
     ]
    },
    {
     "name": "stderr",
     "output_type": "stream",
     "text": [
      "666it [05:38,  1.91it/s]"
     ]
    },
    {
     "name": "stdout",
     "output_type": "stream",
     "text": [
      "Didn't find with BING or OSM, no bounding box for Google\n",
      "Error getting bounds for: Series([], Name: shapeName, dtype: object)\n",
      "Items: ['PS Medina Cherif', 'Kolda']\n"
     ]
    },
    {
     "name": "stderr",
     "output_type": "stream",
     "text": [
      "667it [05:38,  1.96it/s]"
     ]
    },
    {
     "name": "stdout",
     "output_type": "stream",
     "text": [
      "Didn't find with BING or OSM, no bounding box for Google\n",
      "Items: ['PS Medina Dianguette', 'Velingara']\n"
     ]
    },
    {
     "name": "stderr",
     "output_type": "stream",
     "text": [
      "668it [05:39,  1.90it/s]"
     ]
    },
    {
     "name": "stdout",
     "output_type": "stream",
     "text": [
      "Error getting bounds for: Series([], Name: shapeName, dtype: object)\n",
      "Items: ['PS Medina El Hadj', 'Kolda']\n"
     ]
    },
    {
     "name": "stderr",
     "output_type": "stream",
     "text": [
      "669it [05:39,  1.92it/s]"
     ]
    },
    {
     "name": "stdout",
     "output_type": "stream",
     "text": [
      "Didn't find with BING or OSM, no bounding box for Google\n",
      "Error getting bounds for: Series([], Name: shapeName, dtype: object)\n",
      "Items: ['PS Medina Fall I', 'Thies']\n"
     ]
    },
    {
     "name": "stderr",
     "output_type": "stream",
     "text": [
      "670it [05:40,  1.76it/s]"
     ]
    },
    {
     "name": "stdout",
     "output_type": "stream",
     "text": [
      "Didn't find with BING or OSM, no bounding box for Google\n",
      "Error getting bounds for: Series([], Name: shapeName, dtype: object)\n",
      "Items: ['PS Medina Fall II', 'Thies']\n"
     ]
    },
    {
     "name": "stderr",
     "output_type": "stream",
     "text": [
      "671it [05:40,  1.94it/s]"
     ]
    },
    {
     "name": "stdout",
     "output_type": "stream",
     "text": [
      "Didn't find with BING or OSM, no bounding box for Google\n",
      "Items: ['PS Medina Marie Cisse', 'Velingara']\n"
     ]
    },
    {
     "name": "stderr",
     "output_type": "stream",
     "text": [
      "672it [05:41,  1.90it/s]"
     ]
    },
    {
     "name": "stdout",
     "output_type": "stream",
     "text": [
      "Error getting bounds for: Series([], Name: shapeName, dtype: object)\n",
      "Items: ['PS Medina Mbaba', 'Kaolack']\n"
     ]
    },
    {
     "name": "stderr",
     "output_type": "stream",
     "text": [
      "673it [05:41,  2.05it/s]"
     ]
    },
    {
     "name": "stdout",
     "output_type": "stream",
     "text": [
      "Didn't find with BING or OSM, no bounding box for Google\n",
      "Error getting bounds for: Series([], Name: shapeName, dtype: object)\n",
      "Items: ['PS Medina Passy', 'Medina Yoroufoula']\n"
     ]
    },
    {
     "name": "stderr",
     "output_type": "stream",
     "text": [
      "674it [05:42,  2.12it/s]"
     ]
    },
    {
     "name": "stdout",
     "output_type": "stream",
     "text": [
      "Didn't find with BING or OSM, no bounding box for Google\n",
      "Error getting bounds for: Series([], Name: shapeName, dtype: object)\n",
      "Items: ['PS Medina Sabakh', 'Ranerou']\n"
     ]
    },
    {
     "name": "stderr",
     "output_type": "stream",
     "text": [
      "675it [05:42,  1.94it/s]"
     ]
    },
    {
     "name": "stdout",
     "output_type": "stream",
     "text": [
      "Didn't find with BING or OSM, no bounding box for Google\n",
      "Error getting bounds for: Series([], Name: shapeName, dtype: object)\n",
      "Items: ['PS Medina Sy', 'Malem Hodar']\n"
     ]
    },
    {
     "name": "stderr",
     "output_type": "stream",
     "text": [
      "676it [05:43,  2.02it/s]"
     ]
    },
    {
     "name": "stdout",
     "output_type": "stream",
     "text": [
      "Didn't find with BING or OSM, no bounding box for Google\n",
      "Error getting bounds for: Series([], Name: shapeName, dtype: object)\n",
      "Items: ['PS Medina Wandifa', 'Bounkiling']\n"
     ]
    },
    {
     "name": "stderr",
     "output_type": "stream",
     "text": [
      "677it [05:44,  1.92it/s]"
     ]
    },
    {
     "name": "stdout",
     "output_type": "stream",
     "text": [
      "Didn't find with BING or OSM, no bounding box for Google\n",
      "Error getting bounds for: Series([], Name: shapeName, dtype: object)\n",
      "Items: ['PS Medinatoul', 'Diourbel']\n"
     ]
    },
    {
     "name": "stderr",
     "output_type": "stream",
     "text": [
      "678it [05:44,  2.17it/s]"
     ]
    },
    {
     "name": "stdout",
     "output_type": "stream",
     "text": [
      "Didn't find with BING or OSM, no bounding box for Google\n",
      "Error getting bounds for: Series([], Name: shapeName, dtype: object)\n",
      "Items: ['PS Medinatoul Salam 2', 'Kaffrine']\n"
     ]
    },
    {
     "name": "stderr",
     "output_type": "stream",
     "text": [
      "679it [05:44,  1.93it/s]"
     ]
    },
    {
     "name": "stdout",
     "output_type": "stream",
     "text": [
      "Didn't find with BING or OSM, no bounding box for Google\n",
      "Error getting bounds for: Series([], Name: shapeName, dtype: object)\n",
      "Items: ['PS Mekhe Lambaye', 'Bambey']\n"
     ]
    },
    {
     "name": "stderr",
     "output_type": "stream",
     "text": [
      "680it [05:45,  2.19it/s]"
     ]
    },
    {
     "name": "stdout",
     "output_type": "stream",
     "text": [
      "Didn't find with BING or OSM, no bounding box for Google\n",
      "Error getting bounds for: Series([], Name: shapeName, dtype: object)\n",
      "Items: ['PS Mekhe Village', 'Tivaoune']\n"
     ]
    },
    {
     "name": "stderr",
     "output_type": "stream",
     "text": [
      "681it [05:45,  2.01it/s]"
     ]
    },
    {
     "name": "stdout",
     "output_type": "stream",
     "text": [
      "Didn't find with BING or OSM, no bounding box for Google\n",
      "Error getting bounds for: Series([], Name: shapeName, dtype: object)\n",
      "Items: ['PS Meouane', 'Tivaoune']\n"
     ]
    },
    {
     "name": "stderr",
     "output_type": "stream",
     "text": [
      "682it [05:46,  1.96it/s]"
     ]
    },
    {
     "name": "stdout",
     "output_type": "stream",
     "text": [
      "Didn't find with BING or OSM, no bounding box for Google\n",
      "Error getting bounds for: Series([], Name: shapeName, dtype: object)\n",
      "Items: ['PS Mereto', 'Koumpentoum']\n"
     ]
    },
    {
     "name": "stderr",
     "output_type": "stream",
     "text": [
      "683it [05:46,  1.99it/s]"
     ]
    },
    {
     "name": "stdout",
     "output_type": "stream",
     "text": [
      "Didn't find with BING or OSM, no bounding box for Google\n",
      "Error getting bounds for: Series([], Name: shapeName, dtype: object)\n",
      "Items: ['PS Mery', 'Podor']\n"
     ]
    },
    {
     "name": "stderr",
     "output_type": "stream",
     "text": [
      "684it [05:47,  1.90it/s]"
     ]
    },
    {
     "name": "stdout",
     "output_type": "stream",
     "text": [
      "Didn't find with BING or OSM, no bounding box for Google\n",
      "Error getting bounds for: Series([], Name: shapeName, dtype: object)\n",
      "Items: ['PS Minam', 'Koungheul']\n"
     ]
    },
    {
     "name": "stderr",
     "output_type": "stream",
     "text": [
      "685it [05:48,  1.92it/s]"
     ]
    },
    {
     "name": "stdout",
     "output_type": "stream",
     "text": [
      "Didn't find with BING or OSM, no bounding box for Google\n",
      "Error getting bounds for: Series([], Name: shapeName, dtype: object)\n",
      "Items: ['PS Missira Dentila', 'Saraya']\n"
     ]
    },
    {
     "name": "stderr",
     "output_type": "stream",
     "text": [
      "686it [05:48,  2.14it/s]"
     ]
    },
    {
     "name": "stdout",
     "output_type": "stream",
     "text": [
      "Didn't find with BING or OSM, no bounding box for Google\n",
      "Error getting bounds for: Series([], Name: shapeName, dtype: object)\n",
      "Items: ['PS Missira Public', 'Koungheul']\n"
     ]
    },
    {
     "name": "stderr",
     "output_type": "stream",
     "text": [
      "687it [05:48,  2.04it/s]"
     ]
    },
    {
     "name": "stdout",
     "output_type": "stream",
     "text": [
      "Didn't find with BING or OSM, no bounding box for Google\n",
      "Error getting bounds for: Series([], Name: shapeName, dtype: object)\n",
      "Items: ['PS Missira Sirimana', 'Saraya']\n"
     ]
    },
    {
     "name": "stderr",
     "output_type": "stream",
     "text": [
      "688it [05:49,  1.94it/s]"
     ]
    },
    {
     "name": "stdout",
     "output_type": "stream",
     "text": [
      "Didn't find with BING or OSM, no bounding box for Google\n",
      "Error getting bounds for: Series([], Name: shapeName, dtype: object)\n",
      "Items: ['PS Missirah', 'Mbacke']\n"
     ]
    },
    {
     "name": "stderr",
     "output_type": "stream",
     "text": [
      "689it [05:49,  2.08it/s]"
     ]
    },
    {
     "name": "stdout",
     "output_type": "stream",
     "text": [
      "Didn't find with BING or OSM, no bounding box for Google\n",
      "Error getting bounds for: Series([], Name: shapeName, dtype: object)\n",
      "Items: ['PS Missirah Walo', 'Ranerou']\n"
     ]
    },
    {
     "name": "stderr",
     "output_type": "stream",
     "text": [
      "690it [05:50,  2.02it/s]"
     ]
    },
    {
     "name": "stdout",
     "output_type": "stream",
     "text": [
      "Didn't find with BING or OSM, no bounding box for Google\n",
      "Error getting bounds for: Series([], Name: shapeName, dtype: object)\n",
      "Items: ['PS Mont Rolland', 'Tivaoune']\n"
     ]
    },
    {
     "name": "stderr",
     "output_type": "stream",
     "text": [
      "691it [05:50,  1.90it/s]"
     ]
    },
    {
     "name": "stdout",
     "output_type": "stream",
     "text": [
      "Didn't find with BING or OSM, no bounding box for Google\n",
      "Error getting bounds for: Series([], Name: shapeName, dtype: object)\n",
      "Items: ['PS Moudery', 'Bakel']\n"
     ]
    },
    {
     "name": "stderr",
     "output_type": "stream",
     "text": [
      "692it [05:51,  2.05it/s]"
     ]
    },
    {
     "name": "stdout",
     "output_type": "stream",
     "text": [
      "Didn't find with BING or OSM, no bounding box for Google\n",
      "Error getting bounds for: Series([], Name: shapeName, dtype: object)\n",
      "Items: ['PS Mounde', 'Foundiougne']\n"
     ]
    },
    {
     "name": "stderr",
     "output_type": "stream",
     "text": [
      "693it [05:51,  1.92it/s]"
     ]
    },
    {
     "name": "stdout",
     "output_type": "stream",
     "text": [
      "Didn't find with BING or OSM, no bounding box for Google\n",
      "Error getting bounds for: Series([], Name: shapeName, dtype: object)\n",
      "Items: ['PS Moure', 'Gossas']\n"
     ]
    },
    {
     "name": "stderr",
     "output_type": "stream",
     "text": [
      "694it [05:52,  2.03it/s]"
     ]
    },
    {
     "name": "stdout",
     "output_type": "stream",
     "text": [
      "Didn't find with BING or OSM, no bounding box for Google\n",
      "Error getting bounds for: Series([], Name: shapeName, dtype: object)\n",
      "Items: ['PS Moussala', 'Saraya']\n"
     ]
    },
    {
     "name": "stderr",
     "output_type": "stream",
     "text": [
      "695it [05:52,  2.12it/s]"
     ]
    },
    {
     "name": "stdout",
     "output_type": "stream",
     "text": [
      "Didn't find with BING or OSM, no bounding box for Google\n",
      "Error getting bounds for: Series([], Name: shapeName, dtype: object)\n",
      "Items: ['PS Mpack', 'Ziguinchor']\n"
     ]
    },
    {
     "name": "stderr",
     "output_type": "stream",
     "text": [
      "696it [05:53,  2.05it/s]"
     ]
    },
    {
     "name": "stdout",
     "output_type": "stream",
     "text": [
      "Didn't find with BING or OSM, no bounding box for Google\n",
      "Error getting bounds for: Series([], Name: shapeName, dtype: object)\n",
      "Items: ['PS Municipal', 'Mbacke']\n"
     ]
    },
    {
     "name": "stderr",
     "output_type": "stream",
     "text": [
      "697it [05:53,  1.89it/s]"
     ]
    },
    {
     "name": "stdout",
     "output_type": "stream",
     "text": [
      "Didn't find with BING or OSM, no bounding box for Google\n",
      "Error getting bounds for: Series([], Name: shapeName, dtype: object)\n",
      "Items: ['PS Municipal 1', 'Pikine']\n"
     ]
    },
    {
     "name": "stderr",
     "output_type": "stream",
     "text": [
      "698it [05:54,  1.79it/s]"
     ]
    },
    {
     "name": "stdout",
     "output_type": "stream",
     "text": [
      "Didn't find with BING or OSM, no bounding box for Google\n",
      "Error getting bounds for: Series([], Name: shapeName, dtype: object)\n",
      "Items: ['PS Municipal 2', 'Pikine']\n"
     ]
    },
    {
     "name": "stderr",
     "output_type": "stream",
     "text": [
      "699it [05:55,  1.88it/s]"
     ]
    },
    {
     "name": "stdout",
     "output_type": "stream",
     "text": [
      "Didn't find with BING or OSM, no bounding box for Google\n",
      "Items: ['PS Municipal thiankan', 'Velingara']\n"
     ]
    },
    {
     "name": "stderr",
     "output_type": "stream",
     "text": [
      "700it [05:55,  2.03it/s]"
     ]
    },
    {
     "name": "stdout",
     "output_type": "stream",
     "text": [
      "Error getting bounds for: Series([], Name: shapeName, dtype: object)\n",
      "Items: ['PS Médiegue', 'Bignona']\n"
     ]
    },
    {
     "name": "stderr",
     "output_type": "stream",
     "text": [
      "701it [05:55,  2.11it/s]"
     ]
    },
    {
     "name": "stdout",
     "output_type": "stream",
     "text": [
      "Didn't find with BING or OSM, no bounding box for Google\n",
      "Error getting bounds for: Series([], Name: shapeName, dtype: object)\n",
      "Items: ['PS Médina Taba', 'Kaffrine']\n"
     ]
    },
    {
     "name": "stderr",
     "output_type": "stream",
     "text": [
      "702it [05:56,  2.04it/s]"
     ]
    },
    {
     "name": "stdout",
     "output_type": "stream",
     "text": [
      "Didn't find with BING or OSM, no bounding box for Google\n",
      "Error getting bounds for: Series([], Name: shapeName, dtype: object)\n",
      "Items: ['PS Médiègue Banghouname', 'Bignona']\n"
     ]
    },
    {
     "name": "stderr",
     "output_type": "stream",
     "text": [
      "703it [05:56,  2.17it/s]"
     ]
    },
    {
     "name": "stdout",
     "output_type": "stream",
     "text": [
      "Didn't find with BING or OSM, no bounding box for Google\n",
      "Error getting bounds for: Series([], Name: shapeName, dtype: object)\n",
      "Items: ['PS Méo Diobéne', 'Kaffrine']\n"
     ]
    },
    {
     "name": "stderr",
     "output_type": "stream",
     "text": [
      "704it [05:57,  2.11it/s]"
     ]
    },
    {
     "name": "stdout",
     "output_type": "stream",
     "text": [
      "Didn't find with BING or OSM, no bounding box for Google\n",
      "Error getting bounds for: Series([], Name: shapeName, dtype: object)\n",
      "Items: [\"PS N'dangalma\", 'Bambey']\n"
     ]
    },
    {
     "name": "stderr",
     "output_type": "stream",
     "text": [
      "705it [05:57,  2.01it/s]"
     ]
    },
    {
     "name": "stdout",
     "output_type": "stream",
     "text": [
      "Didn't find with BING or OSM, no bounding box for Google\n",
      "Error getting bounds for: Series([], Name: shapeName, dtype: object)\n",
      "Items: ['PS Nabadji Civol', 'Matam']\n"
     ]
    },
    {
     "name": "stderr",
     "output_type": "stream",
     "text": [
      "706it [05:58,  2.06it/s]"
     ]
    },
    {
     "name": "stdout",
     "output_type": "stream",
     "text": [
      "Didn't find with BING or OSM, no bounding box for Google\n",
      "Error getting bounds for: Series([], Name: shapeName, dtype: object)\n",
      "Items: ['PS Nafadji', 'Saraya']\n"
     ]
    },
    {
     "name": "stderr",
     "output_type": "stream",
     "text": [
      "707it [05:58,  1.99it/s]"
     ]
    },
    {
     "name": "stdout",
     "output_type": "stream",
     "text": [
      "Didn't find with BING or OSM, no bounding box for Google\n",
      "Error getting bounds for: Series([], Name: shapeName, dtype: object)\n",
      "Items: ['PS Namarel', 'Podor']\n"
     ]
    },
    {
     "name": "stderr",
     "output_type": "stream",
     "text": [
      "708it [05:59,  1.92it/s]"
     ]
    },
    {
     "name": "stdout",
     "output_type": "stream",
     "text": [
      "Didn't find with BING or OSM, no bounding box for Google\n",
      "Error getting bounds for: Series([], Name: shapeName, dtype: object)\n",
      "Items: ['PS Namary', 'Kanel']\n"
     ]
    },
    {
     "name": "stderr",
     "output_type": "stream",
     "text": [
      "709it [05:59,  2.08it/s]"
     ]
    },
    {
     "name": "stdout",
     "output_type": "stream",
     "text": [
      "Didn't find with BING or OSM, no bounding box for Google\n",
      "Error getting bounds for: Series([], Name: shapeName, dtype: object)\n",
      "Items: ['PS Naouré', 'Ranerou']\n"
     ]
    },
    {
     "name": "stderr",
     "output_type": "stream",
     "text": [
      "710it [06:00,  1.92it/s]"
     ]
    },
    {
     "name": "stdout",
     "output_type": "stream",
     "text": [
      "Didn't find with BING or OSM, no bounding box for Google\n",
      "Error getting bounds for: Series([], Name: shapeName, dtype: object)\n",
      "Items: ['PS Nassroulah', 'Mbour']\n"
     ]
    },
    {
     "name": "stderr",
     "output_type": "stream",
     "text": [
      "711it [06:00,  2.09it/s]"
     ]
    },
    {
     "name": "stdout",
     "output_type": "stream",
     "text": [
      "Didn't find with BING or OSM, no bounding box for Google\n",
      "Error getting bounds for: Series([], Name: shapeName, dtype: object)\n",
      "Items: ['PS Ndakhar Syll', 'Kebemer']\n"
     ]
    },
    {
     "name": "stderr",
     "output_type": "stream",
     "text": [
      "712it [06:01,  1.99it/s]"
     ]
    },
    {
     "name": "stdout",
     "output_type": "stream",
     "text": [
      "Didn't find with BING or OSM, no bounding box for Google\n",
      "Error getting bounds for: Series([], Name: shapeName, dtype: object)\n",
      "Items: ['PS Ndande', 'Kebemer']\n"
     ]
    },
    {
     "name": "stderr",
     "output_type": "stream",
     "text": [
      "713it [06:01,  2.00it/s]"
     ]
    },
    {
     "name": "stdout",
     "output_type": "stream",
     "text": [
      "Didn't find with BING or OSM, no bounding box for Google\n",
      "Error getting bounds for: Series([], Name: shapeName, dtype: object)\n",
      "Items: ['PS Ndawene', 'Louga']\n"
     ]
    },
    {
     "name": "stderr",
     "output_type": "stream",
     "text": [
      "714it [06:02,  1.99it/s]"
     ]
    },
    {
     "name": "stdout",
     "output_type": "stream",
     "text": [
      "Didn't find with BING or OSM, no bounding box for Google\n",
      "Error getting bounds for: Series([], Name: shapeName, dtype: object)\n",
      "Items: ['PS Ndayane', 'Diourbel']\n"
     ]
    },
    {
     "name": "stderr",
     "output_type": "stream",
     "text": [
      "715it [06:02,  1.99it/s]"
     ]
    },
    {
     "name": "stdout",
     "output_type": "stream",
     "text": [
      "Didn't find with BING or OSM, no bounding box for Google\n",
      "Error getting bounds for: Series([], Name: shapeName, dtype: object)\n",
      "Items: ['PS Ndelle', 'Guinguineo']\n"
     ]
    },
    {
     "name": "stderr",
     "output_type": "stream",
     "text": [
      "716it [06:03,  1.68it/s]"
     ]
    },
    {
     "name": "stdout",
     "output_type": "stream",
     "text": [
      "Didn't find with BING or OSM, no bounding box for Google\n",
      "Error getting bounds for: Series([], Name: shapeName, dtype: object)\n",
      "Items: ['PS Ndeme Meissa', 'Bambey']\n"
     ]
    },
    {
     "name": "stderr",
     "output_type": "stream",
     "text": [
      "717it [06:03,  2.03it/s]"
     ]
    },
    {
     "name": "stdout",
     "output_type": "stream",
     "text": [
      "Didn't find with BING or OSM, no bounding box for Google\n",
      "Error getting bounds for: Series([], Name: shapeName, dtype: object)\n",
      "Items: ['PS Ndendory', 'Kanel']\n"
     ]
    },
    {
     "name": "stderr",
     "output_type": "stream",
     "text": [
      "718it [06:04,  2.02it/s]"
     ]
    },
    {
     "name": "stdout",
     "output_type": "stream",
     "text": [
      "Didn't find with BING or OSM, no bounding box for Google\n",
      "Error getting bounds for: Series([], Name: shapeName, dtype: object)\n",
      "Items: ['PS Ndereppe', 'Bambey']\n"
     ]
    },
    {
     "name": "stderr",
     "output_type": "stream",
     "text": [
      "719it [06:05,  1.91it/s]"
     ]
    },
    {
     "name": "stdout",
     "output_type": "stream",
     "text": [
      "Didn't find with BING or OSM, no bounding box for Google\n",
      "Error getting bounds for: Series([], Name: shapeName, dtype: object)\n",
      "Items: ['PS Ndiaffate', 'Tivaoune']\n"
     ]
    },
    {
     "name": "stderr",
     "output_type": "stream",
     "text": [
      "720it [06:05,  2.07it/s]"
     ]
    },
    {
     "name": "stdout",
     "output_type": "stream",
     "text": [
      "Didn't find with BING or OSM, no bounding box for Google\n",
      "Error getting bounds for: Series([], Name: shapeName, dtype: object)\n",
      "Items: ['PS Ndiagne Kahone', 'Guinguineo']\n"
     ]
    },
    {
     "name": "stderr",
     "output_type": "stream",
     "text": [
      "721it [06:05,  2.04it/s]"
     ]
    },
    {
     "name": "stdout",
     "output_type": "stream",
     "text": [
      "Didn't find with BING or OSM, no bounding box for Google\n",
      "Error getting bounds for: Series([], Name: shapeName, dtype: object)\n",
      "Items: ['PS Ndiago', 'Guinguineo']\n"
     ]
    },
    {
     "name": "stderr",
     "output_type": "stream",
     "text": [
      "722it [06:06,  2.04it/s]"
     ]
    },
    {
     "name": "stdout",
     "output_type": "stream",
     "text": [
      "Didn't find with BING or OSM, no bounding box for Google\n",
      "Error getting bounds for: Series([], Name: shapeName, dtype: object)\n",
      "Items: ['PS Ndiakalack', 'Bambey']\n"
     ]
    },
    {
     "name": "stderr",
     "output_type": "stream",
     "text": [
      "723it [06:06,  2.03it/s]"
     ]
    },
    {
     "name": "stdout",
     "output_type": "stream",
     "text": [
      "Didn't find with BING or OSM, no bounding box for Google\n",
      "Error getting bounds for: Series([], Name: shapeName, dtype: object)\n",
      "Items: ['PS Ndiama', 'Bounkiling']\n"
     ]
    },
    {
     "name": "stderr",
     "output_type": "stream",
     "text": [
      "724it [06:07,  2.02it/s]"
     ]
    },
    {
     "name": "stdout",
     "output_type": "stream",
     "text": [
      "Didn't find with BING or OSM, no bounding box for Google\n",
      "Error getting bounds for: Series([], Name: shapeName, dtype: object)\n",
      "Items: ['PS Ndiamacouta', 'Bounkiling']\n"
     ]
    },
    {
     "name": "stderr",
     "output_type": "stream",
     "text": [
      "725it [06:08,  1.84it/s]"
     ]
    },
    {
     "name": "stdout",
     "output_type": "stream",
     "text": [
      "Didn't find with BING or OSM, no bounding box for Google\n",
      "Error getting bounds for: Series([], Name: shapeName, dtype: object)\n",
      "Items: ['PS Ndiandane', 'Podor']\n"
     ]
    },
    {
     "name": "stderr",
     "output_type": "stream",
     "text": [
      "726it [06:08,  2.07it/s]"
     ]
    },
    {
     "name": "stdout",
     "output_type": "stream",
     "text": [
      "Didn't find with BING or OSM, no bounding box for Google\n",
      "Error getting bounds for: Series([], Name: shapeName, dtype: object)\n",
      "Items: ['PS Ndiaobambaly', 'Kaffrine']\n"
     ]
    },
    {
     "name": "stderr",
     "output_type": "stream",
     "text": [
      "727it [06:08,  2.05it/s]"
     ]
    },
    {
     "name": "stdout",
     "output_type": "stream",
     "text": [
      "Didn't find with BING or OSM, no bounding box for Google\n",
      "Error getting bounds for: Series([], Name: shapeName, dtype: object)\n",
      "Items: ['PS Ndiassane', 'Tivaoune']\n"
     ]
    },
    {
     "name": "stderr",
     "output_type": "stream",
     "text": [
      "728it [06:09,  1.91it/s]"
     ]
    },
    {
     "name": "stdout",
     "output_type": "stream",
     "text": [
      "Didn't find with BING or OSM, no bounding box for Google\n",
      "Error getting bounds for: Series([], Name: shapeName, dtype: object)\n",
      "Items: ['PS Ndiawara', 'Podor']\n"
     ]
    },
    {
     "name": "stderr",
     "output_type": "stream",
     "text": [
      "729it [06:09,  2.00it/s]"
     ]
    },
    {
     "name": "stdout",
     "output_type": "stream",
     "text": [
      "Didn't find with BING or OSM, no bounding box for Google\n",
      "Error getting bounds for: Series([], Name: shapeName, dtype: object)\n",
      "Items: ['PS Ndiayen Pendao', 'Podor']\n"
     ]
    },
    {
     "name": "stderr",
     "output_type": "stream",
     "text": [
      "730it [06:10,  2.00it/s]"
     ]
    },
    {
     "name": "stdout",
     "output_type": "stream",
     "text": [
      "Didn't find with BING or OSM, no bounding box for Google\n",
      "Error getting bounds for: Series([], Name: shapeName, dtype: object)\n",
      "Items: ['PS Ndiayendiaye', 'Fatick']\n"
     ]
    },
    {
     "name": "stderr",
     "output_type": "stream",
     "text": [
      "731it [06:10,  2.00it/s]"
     ]
    },
    {
     "name": "stdout",
     "output_type": "stream",
     "text": [
      "Didn't find with BING or OSM, no bounding box for Google\n",
      "Error getting bounds for: Series([], Name: shapeName, dtype: object)\n",
      "Items: ['PS Ndiayene Peulh', 'Podor']\n"
     ]
    },
    {
     "name": "stderr",
     "output_type": "stream",
     "text": [
      "732it [06:11,  2.00it/s]"
     ]
    },
    {
     "name": "stdout",
     "output_type": "stream",
     "text": [
      "Didn't find with BING or OSM, no bounding box for Google\n",
      "Error getting bounds for: Series([], Name: shapeName, dtype: object)\n",
      "Items: ['PS Ndiayene Waly', 'Birkelane']\n"
     ]
    },
    {
     "name": "stderr",
     "output_type": "stream",
     "text": [
      "733it [06:12,  1.92it/s]"
     ]
    },
    {
     "name": "stdout",
     "output_type": "stream",
     "text": [
      "Didn't find with BING or OSM, no bounding box for Google\n",
      "Error getting bounds for: Series([], Name: shapeName, dtype: object)\n",
      "Items: ['PS Ndiba Ndiayenne', 'Ranerou']\n"
     ]
    },
    {
     "name": "stderr",
     "output_type": "stream",
     "text": [
      "734it [06:12,  2.02it/s]"
     ]
    },
    {
     "name": "stdout",
     "output_type": "stream",
     "text": [
      "Didn't find with BING or OSM, no bounding box for Google\n",
      "Error getting bounds for: Series([], Name: shapeName, dtype: object)\n",
      "Items: ['PS Ndiebel', 'Kaolack']\n"
     ]
    },
    {
     "name": "stderr",
     "output_type": "stream",
     "text": [
      "735it [06:13,  1.94it/s]"
     ]
    },
    {
     "name": "stdout",
     "output_type": "stream",
     "text": [
      "Didn't find with BING or OSM, no bounding box for Google\n",
      "Error getting bounds for: Series([], Name: shapeName, dtype: object)\n",
      "Items: ['PS Ndiedieng', 'Tivaoune']\n"
     ]
    },
    {
     "name": "stderr",
     "output_type": "stream",
     "text": [
      "736it [06:13,  2.11it/s]"
     ]
    },
    {
     "name": "stdout",
     "output_type": "stream",
     "text": [
      "Didn't find with BING or OSM, no bounding box for Google\n",
      "Error getting bounds for: Series([], Name: shapeName, dtype: object)\n",
      "Items: ['PS Ndiene Lagane', 'Gossas']\n"
     ]
    },
    {
     "name": "stderr",
     "output_type": "stream",
     "text": [
      "737it [06:13,  2.01it/s]"
     ]
    },
    {
     "name": "stdout",
     "output_type": "stream",
     "text": [
      "Didn't find with BING or OSM, no bounding box for Google\n",
      "Error getting bounds for: Series([], Name: shapeName, dtype: object)\n",
      "Items: ['PS NDIEURBA', 'Podor']\n"
     ]
    },
    {
     "name": "stderr",
     "output_type": "stream",
     "text": [
      "738it [06:14,  1.92it/s]"
     ]
    },
    {
     "name": "stdout",
     "output_type": "stream",
     "text": [
      "Didn't find with BING or OSM, no bounding box for Google\n",
      "Error getting bounds for: Series([], Name: shapeName, dtype: object)\n",
      "Items: ['PS Ndieye', 'Kebemer']\n"
     ]
    },
    {
     "name": "stderr",
     "output_type": "stream",
     "text": [
      "739it [06:15,  1.95it/s]"
     ]
    },
    {
     "name": "stdout",
     "output_type": "stream",
     "text": [
      "Didn't find with BING or OSM, no bounding box for Google\n",
      "Error getting bounds for: Series([], Name: shapeName, dtype: object)\n",
      "Items: ['PS Ndiobene', 'Malem Hodar']\n"
     ]
    },
    {
     "name": "stderr",
     "output_type": "stream",
     "text": [
      "740it [06:15,  2.05it/s]"
     ]
    },
    {
     "name": "stdout",
     "output_type": "stream",
     "text": [
      "Didn't find with BING or OSM, no bounding box for Google\n",
      "Error getting bounds for: Series([], Name: shapeName, dtype: object)\n",
      "Items: ['PS Ndiognick', 'Birkelane']\n"
     ]
    },
    {
     "name": "stderr",
     "output_type": "stream",
     "text": [
      "741it [06:16,  1.96it/s]"
     ]
    },
    {
     "name": "stdout",
     "output_type": "stream",
     "text": [
      "Didn't find with BING or OSM, no bounding box for Google\n",
      "Error getting bounds for: Series([], Name: shapeName, dtype: object)\n",
      "Items: ['PS Ndiolmane', 'Tambacounda']\n"
     ]
    },
    {
     "name": "stderr",
     "output_type": "stream",
     "text": [
      "742it [06:16,  2.11it/s]"
     ]
    },
    {
     "name": "stdout",
     "output_type": "stream",
     "text": [
      "Didn't find with BING or OSM, no bounding box for Google\n",
      "Error getting bounds for: Series([], Name: shapeName, dtype: object)\n",
      "Items: ['PS Ndiolofene', 'Bounkiling']\n"
     ]
    },
    {
     "name": "stderr",
     "output_type": "stream",
     "text": [
      "743it [06:17,  1.95it/s]"
     ]
    },
    {
     "name": "stdout",
     "output_type": "stream",
     "text": [
      "Didn't find with BING or OSM, no bounding box for Google\n",
      "Error getting bounds for: Series([], Name: shapeName, dtype: object)\n",
      "Items: ['PS Ndiongolor', 'Fatick']\n"
     ]
    },
    {
     "name": "stderr",
     "output_type": "stream",
     "text": [
      "744it [06:17,  2.07it/s]"
     ]
    },
    {
     "name": "stdout",
     "output_type": "stream",
     "text": [
      "Didn't find with BING or OSM, no bounding box for Google\n",
      "Error getting bounds for: Series([], Name: shapeName, dtype: object)\n",
      "Items: ['PS Ndiosmone', 'Fatick']\n"
     ]
    },
    {
     "name": "stderr",
     "output_type": "stream",
     "text": [
      "745it [06:18,  1.95it/s]"
     ]
    },
    {
     "name": "stdout",
     "output_type": "stream",
     "text": [
      "Didn't find with BING or OSM, no bounding box for Google\n",
      "Error getting bounds for: Series([], Name: shapeName, dtype: object)\n",
      "Items: ['PS Ndiott', 'Kanel']\n"
     ]
    },
    {
     "name": "stderr",
     "output_type": "stream",
     "text": [
      "746it [06:18,  2.07it/s]"
     ]
    },
    {
     "name": "stdout",
     "output_type": "stream",
     "text": [
      "Didn't find with BING or OSM, no bounding box for Google\n",
      "Error getting bounds for: Series([], Name: shapeName, dtype: object)\n",
      "Items: ['PS Ndioté Séane', 'Malem Hodar']\n"
     ]
    },
    {
     "name": "stderr",
     "output_type": "stream",
     "text": [
      "747it [06:19,  1.93it/s]"
     ]
    },
    {
     "name": "stdout",
     "output_type": "stream",
     "text": [
      "Didn't find with BING or OSM, no bounding box for Google\n",
      "Error getting bounds for: Series([], Name: shapeName, dtype: object)\n",
      "Items: ['PS Ndioum', 'Podor']\n"
     ]
    },
    {
     "name": "stderr",
     "output_type": "stream",
     "text": [
      "748it [06:19,  2.09it/s]"
     ]
    },
    {
     "name": "stdout",
     "output_type": "stream",
     "text": [
      "Didn't find with BING or OSM, no bounding box for Google\n",
      "Error getting bounds for: Series([], Name: shapeName, dtype: object)\n",
      "Items: ['PS Ndioum Gainthie', 'Malem Hodar']\n"
     ]
    },
    {
     "name": "stderr",
     "output_type": "stream",
     "text": [
      "749it [06:19,  2.00it/s]"
     ]
    },
    {
     "name": "stdout",
     "output_type": "stream",
     "text": [
      "Didn't find with BING or OSM, no bounding box for Google\n",
      "Error getting bounds for: Series([], Name: shapeName, dtype: object)\n",
      "Items: ['PS Ndioumane Taiba', 'Mbacke']\n"
     ]
    },
    {
     "name": "stderr",
     "output_type": "stream",
     "text": [
      "750it [06:20,  2.00it/s]"
     ]
    },
    {
     "name": "stdout",
     "output_type": "stream",
     "text": [
      "Didn't find with BING or OSM, no bounding box for Google\n",
      "Error getting bounds for: Series([], Name: shapeName, dtype: object)\n",
      "Items: ['PS Ndiya', 'Goudiry']\n"
     ]
    },
    {
     "name": "stderr",
     "output_type": "stream",
     "text": [
      "751it [06:21,  1.89it/s]"
     ]
    },
    {
     "name": "stdout",
     "output_type": "stream",
     "text": [
      "Didn't find with BING or OSM, no bounding box for Google\n",
      "Error getting bounds for: Series([], Name: shapeName, dtype: object)\n",
      "Items: ['PS Ndjimbe', 'Bakel']\n"
     ]
    },
    {
     "name": "stderr",
     "output_type": "stream",
     "text": [
      "752it [06:21,  2.04it/s]"
     ]
    },
    {
     "name": "stdout",
     "output_type": "stream",
     "text": [
      "Didn't find with BING or OSM, no bounding box for Google\n",
      "Error getting bounds for: Series([], Name: shapeName, dtype: object)\n",
      "Items: ['PS Ndoffonghor', 'Fatick']\n"
     ]
    },
    {
     "name": "stderr",
     "output_type": "stream",
     "text": [
      "753it [06:21,  2.07it/s]"
     ]
    },
    {
     "name": "stdout",
     "output_type": "stream",
     "text": [
      "Didn't find with BING or OSM, no bounding box for Google\n",
      "Error getting bounds for: Series([], Name: shapeName, dtype: object)\n",
      "Items: ['PS Ndombo', 'Dagana']\n"
     ]
    },
    {
     "name": "stderr",
     "output_type": "stream",
     "text": [
      "754it [06:22,  1.89it/s]"
     ]
    },
    {
     "name": "stdout",
     "output_type": "stream",
     "text": [
      "Didn't find with BING or OSM, no bounding box for Google\n",
      "Error getting bounds for: Series([], Name: shapeName, dtype: object)\n",
      "Items: ['PS Ndorna', 'Medina Yoroufoula']\n"
     ]
    },
    {
     "name": "stderr",
     "output_type": "stream",
     "text": [
      "755it [06:22,  2.14it/s]"
     ]
    },
    {
     "name": "stdout",
     "output_type": "stream",
     "text": [
      "Didn't find with BING or OSM, no bounding box for Google\n",
      "Error getting bounds for: Series([], Name: shapeName, dtype: object)\n",
      "Items: ['PS Ndorong', 'Kaolack']\n"
     ]
    },
    {
     "name": "stderr",
     "output_type": "stream",
     "text": [
      "756it [06:23,  1.83it/s]"
     ]
    },
    {
     "name": "stdout",
     "output_type": "stream",
     "text": [
      "Didn't find with BING or OSM, no bounding box for Google\n",
      "Error getting bounds for: Series([], Name: shapeName, dtype: object)\n",
      "Items: ['PS Ndouck', 'Fatick']\n"
     ]
    },
    {
     "name": "stderr",
     "output_type": "stream",
     "text": [
      "757it [06:23,  2.13it/s]"
     ]
    },
    {
     "name": "stdout",
     "output_type": "stream",
     "text": [
      "Didn't find with BING or OSM, no bounding box for Google\n",
      "Error getting bounds for: Series([], Name: shapeName, dtype: object)\n",
      "Items: ['PS Ndoukhoura Peulh', 'Tambacounda']\n"
     ]
    },
    {
     "name": "stderr",
     "output_type": "stream",
     "text": [
      "758it [06:24,  2.09it/s]"
     ]
    },
    {
     "name": "stdout",
     "output_type": "stream",
     "text": [
      "Didn't find with BING or OSM, no bounding box for Google\n",
      "Error getting bounds for: Series([], Name: shapeName, dtype: object)\n",
      "Items: ['PS Ndoulo', 'Diourbel']\n"
     ]
    },
    {
     "name": "stderr",
     "output_type": "stream",
     "text": [
      "759it [06:24,  2.04it/s]"
     ]
    },
    {
     "name": "stdout",
     "output_type": "stream",
     "text": [
      "Didn't find with BING or OSM, no bounding box for Google\n",
      "Error getting bounds for: Series([], Name: shapeName, dtype: object)\n",
      "Items: ['PS Ndoulomadji Dembe', 'Matam']\n"
     ]
    },
    {
     "name": "stderr",
     "output_type": "stream",
     "text": [
      "760it [06:25,  2.05it/s]"
     ]
    },
    {
     "name": "stdout",
     "output_type": "stream",
     "text": [
      "Didn't find with BING or OSM, no bounding box for Google\n",
      "Error getting bounds for: Series([], Name: shapeName, dtype: object)\n",
      "Items: ['PS Ndouloumadji Founebe', 'Matam']\n"
     ]
    },
    {
     "name": "stderr",
     "output_type": "stream",
     "text": [
      "761it [06:25,  2.00it/s]"
     ]
    },
    {
     "name": "stdout",
     "output_type": "stream",
     "text": [
      "Didn't find with BING or OSM, no bounding box for Google\n",
      "Error getting bounds for: Series([], Name: shapeName, dtype: object)\n",
      "Items: ['PS Ndoume', 'Koungheul']\n"
     ]
    },
    {
     "name": "stderr",
     "output_type": "stream",
     "text": [
      "762it [06:26,  2.03it/s]"
     ]
    },
    {
     "name": "stdout",
     "output_type": "stream",
     "text": [
      "Didn't find with BING or OSM, no bounding box for Google\n",
      "Error getting bounds for: Series([], Name: shapeName, dtype: object)\n",
      "Items: ['PS Ndoyénne', 'Tambacounda']\n"
     ]
    },
    {
     "name": "stderr",
     "output_type": "stream",
     "text": [
      "763it [06:27,  1.89it/s]"
     ]
    },
    {
     "name": "stdout",
     "output_type": "stream",
     "text": [
      "Didn't find with BING or OSM, no bounding box for Google\n",
      "Error getting bounds for: Series([], Name: shapeName, dtype: object)\n",
      "Items: ['PS Ndrame Escale', 'Ranerou']\n"
     ]
    },
    {
     "name": "stderr",
     "output_type": "stream",
     "text": [
      "764it [06:27,  2.06it/s]"
     ]
    },
    {
     "name": "stdout",
     "output_type": "stream",
     "text": [
      "Didn't find with BING or OSM, no bounding box for Google\n",
      "Error getting bounds for: Series([], Name: shapeName, dtype: object)\n",
      "Items: ['PS Nema', 'Ziguinchor']\n"
     ]
    },
    {
     "name": "stderr",
     "output_type": "stream",
     "text": [
      "765it [06:27,  1.98it/s]"
     ]
    },
    {
     "name": "stdout",
     "output_type": "stream",
     "text": [
      "Didn't find with BING or OSM, no bounding box for Google\n",
      "Items: ['PS Nemataba', 'Velingara']\n"
     ]
    },
    {
     "name": "stderr",
     "output_type": "stream",
     "text": [
      "766it [06:28,  1.80it/s]"
     ]
    },
    {
     "name": "stdout",
     "output_type": "stream",
     "text": [
      "Error getting bounds for: Series([], Name: shapeName, dtype: object)\n",
      "Items: ['PS Nepene', 'Salemata']\n"
     ]
    },
    {
     "name": "stderr",
     "output_type": "stream",
     "text": [
      "767it [06:29,  2.03it/s]"
     ]
    },
    {
     "name": "stdout",
     "output_type": "stream",
     "text": [
      "Didn't find with BING or OSM, no bounding box for Google\n",
      "Error getting bounds for: Series([], Name: shapeName, dtype: object)\n",
      "Items: ['PS Neteboulou', 'Tambacounda']\n"
     ]
    },
    {
     "name": "stderr",
     "output_type": "stream",
     "text": [
      "768it [06:29,  2.04it/s]"
     ]
    },
    {
     "name": "stdout",
     "output_type": "stream",
     "text": [
      "Didn't find with BING or OSM, no bounding box for Google\n",
      "Error getting bounds for: Series([], Name: shapeName, dtype: object)\n",
      "Items: ['PS Ngakhame1', 'Tivaoune']\n"
     ]
    },
    {
     "name": "stderr",
     "output_type": "stream",
     "text": [
      "769it [06:30,  1.91it/s]"
     ]
    },
    {
     "name": "stdout",
     "output_type": "stream",
     "text": [
      "Didn't find with BING or OSM, no bounding box for Google\n",
      "Error getting bounds for: Series([], Name: shapeName, dtype: object)\n",
      "Items: ['PS Ngallele', 'Saint Louis']\n"
     ]
    },
    {
     "name": "stderr",
     "output_type": "stream",
     "text": [
      "770it [06:30,  2.00it/s]"
     ]
    },
    {
     "name": "stdout",
     "output_type": "stream",
     "text": [
      "Didn't find with BING or OSM, no bounding box for Google\n",
      "Error getting bounds for: Series([], Name: shapeName, dtype: object)\n",
      "Items: ['PS Nganda', 'Kaffrine']\n"
     ]
    },
    {
     "name": "stderr",
     "output_type": "stream",
     "text": [
      "771it [06:31,  1.98it/s]"
     ]
    },
    {
     "name": "stdout",
     "output_type": "stream",
     "text": [
      "Didn't find with BING or OSM, no bounding box for Google\n",
      "Error getting bounds for: Series([], Name: shapeName, dtype: object)\n",
      "Items: ['PS Ngane', 'Kaolack']\n"
     ]
    },
    {
     "name": "stderr",
     "output_type": "stream",
     "text": [
      "772it [06:31,  1.92it/s]"
     ]
    },
    {
     "name": "stdout",
     "output_type": "stream",
     "text": [
      "Didn't find with BING or OSM, no bounding box for Google\n",
      "Error getting bounds for: Series([], Name: shapeName, dtype: object)\n",
      "Items: ['PS Nganno', 'Kanel']\n"
     ]
    },
    {
     "name": "stderr",
     "output_type": "stream",
     "text": [
      "773it [06:31,  2.15it/s]"
     ]
    },
    {
     "name": "stdout",
     "output_type": "stream",
     "text": [
      "Didn't find with BING or OSM, no bounding box for Google\n",
      "Error getting bounds for: Series([], Name: shapeName, dtype: object)\n",
      "Items: ['PS Ngaparou 1', 'Mbour']\n"
     ]
    },
    {
     "name": "stderr",
     "output_type": "stream",
     "text": [
      "774it [06:32,  1.79it/s]"
     ]
    },
    {
     "name": "stdout",
     "output_type": "stream",
     "text": [
      "Didn't find with BING or OSM, no bounding box for Google\n",
      "Error getting bounds for: Series([], Name: shapeName, dtype: object)\n",
      "Items: ['PS Ngathie Naoude', 'Guinguineo']\n"
     ]
    },
    {
     "name": "stderr",
     "output_type": "stream",
     "text": [
      "775it [06:33,  2.06it/s]"
     ]
    },
    {
     "name": "stdout",
     "output_type": "stream",
     "text": [
      "Didn't find with BING or OSM, no bounding box for Google\n",
      "Error getting bounds for: Series([], Name: shapeName, dtype: object)\n",
      "Items: ['PS Ngayene Sabakh', 'Ranerou']\n"
     ]
    },
    {
     "name": "stderr",
     "output_type": "stream",
     "text": [
      "776it [06:33,  2.07it/s]"
     ]
    },
    {
     "name": "stdout",
     "output_type": "stream",
     "text": [
      "Didn't find with BING or OSM, no bounding box for Google\n",
      "Error getting bounds for: Series([], Name: shapeName, dtype: object)\n",
      "Items: ['PS Nghaye', 'Mbacke']\n"
     ]
    },
    {
     "name": "stderr",
     "output_type": "stream",
     "text": [
      "777it [06:34,  2.02it/s]"
     ]
    },
    {
     "name": "stdout",
     "output_type": "stream",
     "text": [
      "Didn't find with BING or OSM, no bounding box for Google\n",
      "Error getting bounds for: Series([], Name: shapeName, dtype: object)\n",
      "Items: ['PS Ngogom', 'Bambey']\n"
     ]
    },
    {
     "name": "stderr",
     "output_type": "stream",
     "text": [
      "778it [06:34,  2.08it/s]"
     ]
    },
    {
     "name": "stdout",
     "output_type": "stream",
     "text": [
      "Didn't find with BING or OSM, no bounding box for Google\n",
      "Error getting bounds for: Series([], Name: shapeName, dtype: object)\n",
      "Items: ['PS Ngoloum', 'Guinguineo']\n"
     ]
    },
    {
     "name": "stderr",
     "output_type": "stream",
     "text": [
      "779it [06:35,  1.99it/s]"
     ]
    },
    {
     "name": "stdout",
     "output_type": "stream",
     "text": [
      "Didn't find with BING or OSM, no bounding box for Google\n",
      "Error getting bounds for: Series([], Name: shapeName, dtype: object)\n",
      "Items: ['PS Ngothie', 'Kaolack']\n"
     ]
    },
    {
     "name": "stderr",
     "output_type": "stream",
     "text": [
      "780it [06:35,  2.11it/s]"
     ]
    },
    {
     "name": "stdout",
     "output_type": "stream",
     "text": [
      "Didn't find with BING or OSM, no bounding box for Google\n",
      "Error getting bounds for: Series([], Name: shapeName, dtype: object)\n",
      "Items: ['PS Ngoudourou', 'Medina Yoroufoula']\n"
     ]
    },
    {
     "name": "stderr",
     "output_type": "stream",
     "text": [
      "781it [06:36,  1.91it/s]"
     ]
    },
    {
     "name": "stdout",
     "output_type": "stream",
     "text": [
      "Didn't find with BING or OSM, no bounding box for Google\n",
      "Error getting bounds for: Series([], Name: shapeName, dtype: object)\n",
      "Items: ['PS Ngoumsane', 'Thies']\n"
     ]
    },
    {
     "name": "stderr",
     "output_type": "stream",
     "text": [
      "782it [06:36,  1.99it/s]"
     ]
    },
    {
     "name": "stdout",
     "output_type": "stream",
     "text": [
      "Didn't find with BING or OSM, no bounding box for Google\n",
      "Error getting bounds for: Series([], Name: shapeName, dtype: object)\n",
      "Items: ['PS Ngourane', 'Kebemer']\n"
     ]
    },
    {
     "name": "stderr",
     "output_type": "stream",
     "text": [
      "783it [06:37,  1.94it/s]"
     ]
    },
    {
     "name": "stdout",
     "output_type": "stream",
     "text": [
      "Didn't find with BING or OSM, no bounding box for Google\n",
      "Error getting bounds for: Series([], Name: shapeName, dtype: object)\n",
      "Items: ['PS Ngouye', 'Birkelane']\n"
     ]
    },
    {
     "name": "stderr",
     "output_type": "stream",
     "text": [
      "784it [06:37,  2.13it/s]"
     ]
    },
    {
     "name": "stdout",
     "output_type": "stream",
     "text": [
      "Didn't find with BING or OSM, no bounding box for Google\n",
      "Error getting bounds for: Series([], Name: shapeName, dtype: object)\n",
      "Items: ['PS Ngoye', 'Bambey']\n"
     ]
    },
    {
     "name": "stderr",
     "output_type": "stream",
     "text": [
      "785it [06:38,  1.98it/s]"
     ]
    },
    {
     "name": "stdout",
     "output_type": "stream",
     "text": [
      "Didn't find with BING or OSM, no bounding box for Google\n",
      "Error getting bounds for: Series([], Name: shapeName, dtype: object)\n",
      "Items: ['PS Ngoye Mbadatt', 'Fatick']\n"
     ]
    },
    {
     "name": "stderr",
     "output_type": "stream",
     "text": [
      "786it [06:38,  2.09it/s]"
     ]
    },
    {
     "name": "stdout",
     "output_type": "stream",
     "text": [
      "Didn't find with BING or OSM, no bounding box for Google\n",
      "Error getting bounds for: Series([], Name: shapeName, dtype: object)\n",
      "Items: ['PS Nguekhokh', 'Guinguineo']\n"
     ]
    },
    {
     "name": "stderr",
     "output_type": "stream",
     "text": [
      "787it [06:39,  1.96it/s]"
     ]
    },
    {
     "name": "stdout",
     "output_type": "stream",
     "text": [
      "Didn't find with BING or OSM, no bounding box for Google\n",
      "Error getting bounds for: Series([], Name: shapeName, dtype: object)\n",
      "Items: ['PS Nguekokh 1', 'Mbour']\n"
     ]
    },
    {
     "name": "stderr",
     "output_type": "stream",
     "text": [
      "788it [06:39,  2.05it/s]"
     ]
    },
    {
     "name": "stdout",
     "output_type": "stream",
     "text": [
      "Didn't find with BING or OSM, no bounding box for Google\n",
      "Error getting bounds for: Series([], Name: shapeName, dtype: object)\n",
      "Items: ['PS Nguekokh 2', 'Mbour']\n"
     ]
    },
    {
     "name": "stderr",
     "output_type": "stream",
     "text": [
      "789it [06:39,  2.01it/s]"
     ]
    },
    {
     "name": "stdout",
     "output_type": "stream",
     "text": [
      "Didn't find with BING or OSM, no bounding box for Google\n",
      "Error getting bounds for: Series([], Name: shapeName, dtype: object)\n",
      "Items: ['PS Nguelou', 'Guinguineo']\n"
     ]
    },
    {
     "name": "stderr",
     "output_type": "stream",
     "text": [
      "790it [06:40,  1.94it/s]"
     ]
    },
    {
     "name": "stdout",
     "output_type": "stream",
     "text": [
      "Didn't find with BING or OSM, no bounding box for Google\n",
      "Error getting bounds for: Series([], Name: shapeName, dtype: object)\n",
      "Items: ['PS Nguendar', 'Podor']\n"
     ]
    },
    {
     "name": "stderr",
     "output_type": "stream",
     "text": [
      "791it [06:40,  2.03it/s]"
     ]
    },
    {
     "name": "stdout",
     "output_type": "stream",
     "text": [
      "Didn't find with BING or OSM, no bounding box for Google\n",
      "Error getting bounds for: Series([], Name: shapeName, dtype: object)\n",
      "Items: ['PS NGuenene', 'Dakar']\n"
     ]
    },
    {
     "name": "stderr",
     "output_type": "stream",
     "text": [
      "792it [06:41,  1.96it/s]"
     ]
    },
    {
     "name": "stdout",
     "output_type": "stream",
     "text": [
      "Didn't find with BING or OSM, no bounding box for Google\n",
      "Error getting bounds for: Series([], Name: shapeName, dtype: object)\n",
      "Items: ['PS Nguer Mandakh', 'Kaffrine']\n"
     ]
    },
    {
     "name": "stderr",
     "output_type": "stream",
     "text": [
      "793it [06:41,  2.09it/s]"
     ]
    },
    {
     "name": "stdout",
     "output_type": "stream",
     "text": [
      "Didn't find with BING or OSM, no bounding box for Google\n",
      "Error getting bounds for: Series([], Name: shapeName, dtype: object)\n",
      "Items: ['PS Nguidila', 'Louga']\n"
     ]
    },
    {
     "name": "stderr",
     "output_type": "stream",
     "text": [
      "794it [06:42,  1.91it/s]"
     ]
    },
    {
     "name": "stdout",
     "output_type": "stream",
     "text": [
      "Didn't find with BING or OSM, no bounding box for Google\n",
      "Error getting bounds for: Series([], Name: shapeName, dtype: object)\n",
      "Items: ['PS Nguidjilone', 'Matam']\n"
     ]
    },
    {
     "name": "stderr",
     "output_type": "stream",
     "text": [
      "795it [06:42,  2.08it/s]"
     ]
    },
    {
     "name": "stdout",
     "output_type": "stream",
     "text": [
      "Didn't find with BING or OSM, no bounding box for Google\n",
      "Error getting bounds for: Series([], Name: shapeName, dtype: object)\n",
      "Items: ['PS Nguindir', 'Sedhiou']\n"
     ]
    },
    {
     "name": "stderr",
     "output_type": "stream",
     "text": [
      "796it [06:43,  2.07it/s]"
     ]
    },
    {
     "name": "stdout",
     "output_type": "stream",
     "text": [
      "Didn't find with BING or OSM, no bounding box for Google\n",
      "Error getting bounds for: Series([], Name: shapeName, dtype: object)\n",
      "Items: ['PS Nguinth', 'Thies']\n"
     ]
    },
    {
     "name": "stderr",
     "output_type": "stream",
     "text": [
      "797it [06:43,  1.98it/s]"
     ]
    },
    {
     "name": "stdout",
     "output_type": "stream",
     "text": [
      "Didn't find with BING or OSM, no bounding box for Google\n",
      "Error getting bounds for: Series([], Name: shapeName, dtype: object)\n",
      "Items: ['PS Nguérigne Bambara', 'Mbour']\n"
     ]
    },
    {
     "name": "stderr",
     "output_type": "stream",
     "text": [
      "798it [06:44,  1.88it/s]"
     ]
    },
    {
     "name": "stdout",
     "output_type": "stream",
     "text": [
      "Didn't find with BING or OSM, no bounding box for Google\n",
      "Error getting bounds for: Series([], Name: shapeName, dtype: object)\n",
      "Items: ['PS Niagha', 'Goudomp']\n"
     ]
    },
    {
     "name": "stderr",
     "output_type": "stream",
     "text": [
      "799it [06:45,  1.94it/s]"
     ]
    },
    {
     "name": "stdout",
     "output_type": "stream",
     "text": [
      "Didn't find with BING or OSM, no bounding box for Google\n",
      "Error getting bounds for: Series([], Name: shapeName, dtype: object)\n",
      "Items: ['PS Niaguis', 'Ziguinchor']\n"
     ]
    },
    {
     "name": "stderr",
     "output_type": "stream",
     "text": [
      "800it [06:45,  2.10it/s]"
     ]
    },
    {
     "name": "stdout",
     "output_type": "stream",
     "text": [
      "Didn't find with BING or OSM, no bounding box for Google\n",
      "Error getting bounds for: Series([], Name: shapeName, dtype: object)\n",
      "Items: ['PS Niaguis II', 'Ziguinchor']\n"
     ]
    },
    {
     "name": "stderr",
     "output_type": "stream",
     "text": [
      "801it [06:45,  2.01it/s]"
     ]
    },
    {
     "name": "stdout",
     "output_type": "stream",
     "text": [
      "Didn't find with BING or OSM, no bounding box for Google\n",
      "Error getting bounds for: Series([], Name: shapeName, dtype: object)\n",
      "Items: ['PS Niahene', 'Malem Hodar']\n"
     ]
    },
    {
     "name": "stderr",
     "output_type": "stream",
     "text": [
      "802it [06:46,  1.99it/s]"
     ]
    },
    {
     "name": "stdout",
     "output_type": "stream",
     "text": [
      "Didn't find with BING or OSM, no bounding box for Google\n",
      "Error getting bounds for: Series([], Name: shapeName, dtype: object)\n",
      "Items: ['PS Niaming', 'Medina Yoroufoula']\n"
     ]
    },
    {
     "name": "stderr",
     "output_type": "stream",
     "text": [
      "803it [06:46,  2.09it/s]"
     ]
    },
    {
     "name": "stdout",
     "output_type": "stream",
     "text": [
      "Didn't find with BING or OSM, no bounding box for Google\n",
      "Error getting bounds for: Series([], Name: shapeName, dtype: object)\n",
      "Items: ['PS Niamone', 'Bignona']\n"
     ]
    },
    {
     "name": "stderr",
     "output_type": "stream",
     "text": [
      "804it [06:47,  1.94it/s]"
     ]
    },
    {
     "name": "stdout",
     "output_type": "stream",
     "text": [
      "Didn't find with BING or OSM, no bounding box for Google\n",
      "Items: ['PS Nianao', 'Velingara']\n"
     ]
    },
    {
     "name": "stderr",
     "output_type": "stream",
     "text": [
      "805it [06:48,  1.75it/s]"
     ]
    },
    {
     "name": "stdout",
     "output_type": "stream",
     "text": [
      "Error getting bounds for: Series([], Name: shapeName, dtype: object)\n",
      "Items: ['PS Niandane', 'Bignona']\n"
     ]
    },
    {
     "name": "stderr",
     "output_type": "stream",
     "text": [
      "806it [06:48,  2.11it/s]"
     ]
    },
    {
     "name": "stdout",
     "output_type": "stream",
     "text": [
      "Didn't find with BING or OSM, no bounding box for Google\n",
      "Error getting bounds for: Series([], Name: shapeName, dtype: object)\n",
      "Items: ['PS Niangal', 'Tambacounda']\n"
     ]
    },
    {
     "name": "stderr",
     "output_type": "stream",
     "text": [
      "807it [06:49,  1.95it/s]"
     ]
    },
    {
     "name": "stdout",
     "output_type": "stream",
     "text": [
      "Didn't find with BING or OSM, no bounding box for Google\n",
      "Error getting bounds for: Series([], Name: shapeName, dtype: object)\n",
      "Items: ['PS Nianghana Thiedel', 'Kanel']\n"
     ]
    },
    {
     "name": "stderr",
     "output_type": "stream",
     "text": [
      "808it [06:49,  2.13it/s]"
     ]
    },
    {
     "name": "stdout",
     "output_type": "stream",
     "text": [
      "Didn't find with BING or OSM, no bounding box for Google\n",
      "Error getting bounds for: Series([], Name: shapeName, dtype: object)\n",
      "Items: ['PS Nianing', 'Mbour']\n"
     ]
    },
    {
     "name": "stderr",
     "output_type": "stream",
     "text": [
      "809it [06:49,  2.04it/s]"
     ]
    },
    {
     "name": "stdout",
     "output_type": "stream",
     "text": [
      "Didn't find with BING or OSM, no bounding box for Google\n",
      "Error getting bounds for: Series([], Name: shapeName, dtype: object)\n",
      "Items: ['PS Niankitte', 'Bignona']\n"
     ]
    },
    {
     "name": "stderr",
     "output_type": "stream",
     "text": [
      "810it [06:50,  2.02it/s]"
     ]
    },
    {
     "name": "stdout",
     "output_type": "stream",
     "text": [
      "Didn't find with BING or OSM, no bounding box for Google\n",
      "Error getting bounds for: Series([], Name: shapeName, dtype: object)\n",
      "Items: ['PS Niappa Balla', 'Ranerou']\n"
     ]
    },
    {
     "name": "stderr",
     "output_type": "stream",
     "text": [
      "811it [06:51,  2.00it/s]"
     ]
    },
    {
     "name": "stdout",
     "output_type": "stream",
     "text": [
      "Didn't find with BING or OSM, no bounding box for Google\n",
      "Error getting bounds for: Series([], Name: shapeName, dtype: object)\n",
      "Items: ['PS Niassante', 'Dagana']\n"
     ]
    },
    {
     "name": "stderr",
     "output_type": "stream",
     "text": [
      "812it [06:51,  1.97it/s]"
     ]
    },
    {
     "name": "stdout",
     "output_type": "stream",
     "text": [
      "Didn't find with BING or OSM, no bounding box for Google\n",
      "Error getting bounds for: Series([], Name: shapeName, dtype: object)\n",
      "Items: ['PS Niassène Walo', 'Ranerou']\n"
     ]
    },
    {
     "name": "stderr",
     "output_type": "stream",
     "text": [
      "813it [06:51,  2.07it/s]"
     ]
    },
    {
     "name": "stdout",
     "output_type": "stream",
     "text": [
      "Didn't find with BING or OSM, no bounding box for Google\n",
      "Items: ['PS Nimzath', 'Guediawaye']\n"
     ]
    },
    {
     "name": "stderr",
     "output_type": "stream",
     "text": [
      "814it [06:52,  1.85it/s]"
     ]
    },
    {
     "name": "stdout",
     "output_type": "stream",
     "text": [
      "Error getting bounds for: Series([], Name: shapeName, dtype: object)\n",
      "Items: ['PS Nimzatt', 'Kaolack']\n"
     ]
    },
    {
     "name": "stderr",
     "output_type": "stream",
     "text": [
      "815it [06:53,  2.00it/s]"
     ]
    },
    {
     "name": "stdout",
     "output_type": "stream",
     "text": [
      "Didn't find with BING or OSM, no bounding box for Google\n",
      "Error getting bounds for: Series([], Name: shapeName, dtype: object)\n",
      "Items: ['PS Ninefescha', 'Kedougou']\n"
     ]
    },
    {
     "name": "stderr",
     "output_type": "stream",
     "text": [
      "816it [06:53,  2.01it/s]"
     ]
    },
    {
     "name": "stdout",
     "output_type": "stream",
     "text": [
      "Didn't find with BING or OSM, no bounding box for Google\n",
      "Error getting bounds for: Series([], Name: shapeName, dtype: object)\n",
      "Items: ['PS Niomre', 'Louga']\n"
     ]
    },
    {
     "name": "stderr",
     "output_type": "stream",
     "text": [
      "817it [06:54,  2.00it/s]"
     ]
    },
    {
     "name": "stdout",
     "output_type": "stream",
     "text": [
      "Didn't find with BING or OSM, no bounding box for Google\n",
      "Error getting bounds for: Series([], Name: shapeName, dtype: object)\n",
      "Items: ['PS Nioroky', 'Bounkiling']\n"
     ]
    },
    {
     "name": "stderr",
     "output_type": "stream",
     "text": [
      "818it [06:54,  1.94it/s]"
     ]
    },
    {
     "name": "stdout",
     "output_type": "stream",
     "text": [
      "Didn't find with BING or OSM, no bounding box for Google\n",
      "Error getting bounds for: Series([], Name: shapeName, dtype: object)\n",
      "Items: ['PS Nombile', 'Tivaoune']\n"
     ]
    },
    {
     "name": "stderr",
     "output_type": "stream",
     "text": [
      "819it [06:54,  2.06it/s]"
     ]
    },
    {
     "name": "stdout",
     "output_type": "stream",
     "text": [
      "Didn't find with BING or OSM, no bounding box for Google\n",
      "Error getting bounds for: Series([], Name: shapeName, dtype: object)\n",
      "Items: ['PS Nord', 'Saint Louis']\n"
     ]
    },
    {
     "name": "stderr",
     "output_type": "stream",
     "text": [
      "820it [06:56,  1.45it/s]"
     ]
    },
    {
     "name": "stdout",
     "output_type": "stream",
     "text": [
      "Didn't find with BING or OSM, no bounding box for Google\n",
      "Error getting bounds for: Series([], Name: shapeName, dtype: object)\n",
      "Items: ['PS Notto', 'Thies']\n"
     ]
    },
    {
     "name": "stderr",
     "output_type": "stream",
     "text": [
      "821it [06:56,  1.75it/s]"
     ]
    },
    {
     "name": "stdout",
     "output_type": "stream",
     "text": [
      "Didn't find with BING or OSM, no bounding box for Google\n",
      "Error getting bounds for: Series([], Name: shapeName, dtype: object)\n",
      "Items: ['PS Notto Gouye Diama', 'Tivaoune']\n"
     ]
    },
    {
     "name": "stderr",
     "output_type": "stream",
     "text": [
      "822it [06:57,  1.78it/s]"
     ]
    },
    {
     "name": "stdout",
     "output_type": "stream",
     "text": [
      "Didn't find with BING or OSM, no bounding box for Google\n",
      "Error getting bounds for: Series([], Name: shapeName, dtype: object)\n",
      "Items: ['PS Nyassia', 'Ziguinchor']\n"
     ]
    },
    {
     "name": "stderr",
     "output_type": "stream",
     "text": [
      "823it [06:57,  1.89it/s]"
     ]
    },
    {
     "name": "stdout",
     "output_type": "stream",
     "text": [
      "Didn't find with BING or OSM, no bounding box for Google\n",
      "Error getting bounds for: Series([], Name: shapeName, dtype: object)\n",
      "Items: ['PS Odobere', 'Kanel']\n"
     ]
    },
    {
     "name": "stderr",
     "output_type": "stream",
     "text": [
      "824it [06:58,  1.81it/s]"
     ]
    },
    {
     "name": "stdout",
     "output_type": "stream",
     "text": [
      "Didn't find with BING or OSM, no bounding box for Google\n",
      "Error getting bounds for: Series([], Name: shapeName, dtype: object)\n",
      "Items: ['PS Ogo', 'Matam']\n"
     ]
    },
    {
     "name": "stderr",
     "output_type": "stream",
     "text": [
      "825it [06:58,  2.04it/s]"
     ]
    },
    {
     "name": "stdout",
     "output_type": "stream",
     "text": [
      "Didn't find with BING or OSM, no bounding box for Google\n",
      "Error getting bounds for: Series([], Name: shapeName, dtype: object)\n",
      "Items: ['PS Ololdou', 'Bakel']\n"
     ]
    },
    {
     "name": "stderr",
     "output_type": "stream",
     "text": [
      "826it [06:59,  1.85it/s]"
     ]
    },
    {
     "name": "stdout",
     "output_type": "stream",
     "text": [
      "Didn't find with BING or OSM, no bounding box for Google\n",
      "Error getting bounds for: Series([], Name: shapeName, dtype: object)\n",
      "Items: ['PS Orkadiere', 'Kanel']\n"
     ]
    },
    {
     "name": "stderr",
     "output_type": "stream",
     "text": [
      "827it [06:59,  1.98it/s]"
     ]
    },
    {
     "name": "stdout",
     "output_type": "stream",
     "text": [
      "Didn't find with BING or OSM, no bounding box for Google\n",
      "Error getting bounds for: Series([], Name: shapeName, dtype: object)\n",
      "Items: ['PS Orndolde', 'Kanel']\n"
     ]
    },
    {
     "name": "stderr",
     "output_type": "stream",
     "text": [
      "828it [06:59,  1.99it/s]"
     ]
    },
    {
     "name": "stdout",
     "output_type": "stream",
     "text": [
      "Didn't find with BING or OSM, no bounding box for Google\n",
      "Error getting bounds for: Series([], Name: shapeName, dtype: object)\n",
      "Items: ['PS Ouadiour', 'Gossas']\n"
     ]
    },
    {
     "name": "stderr",
     "output_type": "stream",
     "text": [
      "829it [07:00,  1.87it/s]"
     ]
    },
    {
     "name": "stdout",
     "output_type": "stream",
     "text": [
      "Didn't find with BING or OSM, no bounding box for Google\n",
      "Items: ['PS Ouassadou', 'Velingara']\n"
     ]
    },
    {
     "name": "stderr",
     "output_type": "stream",
     "text": [
      "830it [07:01,  1.93it/s]"
     ]
    },
    {
     "name": "stdout",
     "output_type": "stream",
     "text": [
      "Error getting bounds for: Series([], Name: shapeName, dtype: object)\n",
      "Items: ['PS Oubadji', 'Salemata']\n"
     ]
    },
    {
     "name": "stderr",
     "output_type": "stream",
     "text": [
      "831it [07:01,  2.03it/s]"
     ]
    },
    {
     "name": "stdout",
     "output_type": "stream",
     "text": [
      "Didn't find with BING or OSM, no bounding box for Google\n",
      "Error getting bounds for: Series([], Name: shapeName, dtype: object)\n",
      "Items: ['PS Oudalaye', 'Ranerou']\n"
     ]
    },
    {
     "name": "stderr",
     "output_type": "stream",
     "text": [
      "832it [07:01,  2.05it/s]"
     ]
    },
    {
     "name": "stdout",
     "output_type": "stream",
     "text": [
      "Didn't find with BING or OSM, no bounding box for Google\n",
      "Error getting bounds for: Series([], Name: shapeName, dtype: object)\n",
      "Items: ['PS Oudoucar', 'Sedhiou']\n"
     ]
    },
    {
     "name": "stderr",
     "output_type": "stream",
     "text": [
      "833it [07:02,  2.03it/s]"
     ]
    },
    {
     "name": "stdout",
     "output_type": "stream",
     "text": [
      "Didn't find with BING or OSM, no bounding box for Google\n",
      "Error getting bounds for: Series([], Name: shapeName, dtype: object)\n",
      "Items: ['PS Oulampane', 'Bignona']\n"
     ]
    },
    {
     "name": "stderr",
     "output_type": "stream",
     "text": [
      "834it [07:02,  2.13it/s]"
     ]
    },
    {
     "name": "stdout",
     "output_type": "stream",
     "text": [
      "Didn't find with BING or OSM, no bounding box for Google\n",
      "Error getting bounds for: Series([], Name: shapeName, dtype: object)\n",
      "Items: ['PS Ouonck', 'Bignona']\n"
     ]
    },
    {
     "name": "stderr",
     "output_type": "stream",
     "text": [
      "835it [07:03,  1.93it/s]"
     ]
    },
    {
     "name": "stdout",
     "output_type": "stream",
     "text": [
      "Didn't find with BING or OSM, no bounding box for Google\n",
      "Error getting bounds for: Series([], Name: shapeName, dtype: object)\n",
      "Items: ['PS Ourossogui', 'Matam']\n"
     ]
    },
    {
     "name": "stderr",
     "output_type": "stream",
     "text": [
      "836it [07:03,  2.07it/s]"
     ]
    },
    {
     "name": "stdout",
     "output_type": "stream",
     "text": [
      "Didn't find with BING or OSM, no bounding box for Google\n",
      "Error getting bounds for: Series([], Name: shapeName, dtype: object)\n",
      "Items: ['PS Ourour', 'Guinguineo']\n"
     ]
    },
    {
     "name": "stderr",
     "output_type": "stream",
     "text": [
      "837it [07:04,  2.04it/s]"
     ]
    },
    {
     "name": "stdout",
     "output_type": "stream",
     "text": [
      "Didn't find with BING or OSM, no bounding box for Google\n",
      "Error getting bounds for: Series([], Name: shapeName, dtype: object)\n",
      "Items: ['PS Padalal', 'Kanel']\n"
     ]
    },
    {
     "name": "stderr",
     "output_type": "stream",
     "text": [
      "838it [07:04,  2.02it/s]"
     ]
    },
    {
     "name": "stdout",
     "output_type": "stream",
     "text": [
      "Didn't find with BING or OSM, no bounding box for Google\n",
      "Error getting bounds for: Series([], Name: shapeName, dtype: object)\n",
      "Items: ['PS Paffa', 'Malem Hodar']\n"
     ]
    },
    {
     "name": "stderr",
     "output_type": "stream",
     "text": [
      "839it [07:05,  1.97it/s]"
     ]
    },
    {
     "name": "stdout",
     "output_type": "stream",
     "text": [
      "Didn't find with BING or OSM, no bounding box for Google\n",
      "Items: ['PS Pakour', 'Velingara']\n"
     ]
    },
    {
     "name": "stderr",
     "output_type": "stream",
     "text": [
      "840it [07:06,  1.88it/s]"
     ]
    },
    {
     "name": "stdout",
     "output_type": "stream",
     "text": [
      "Error getting bounds for: Series([], Name: shapeName, dtype: object)\n",
      "Items: ['PS Pallene', 'Bambey']\n"
     ]
    },
    {
     "name": "stderr",
     "output_type": "stream",
     "text": [
      "841it [07:06,  1.75it/s]"
     ]
    },
    {
     "name": "stdout",
     "output_type": "stream",
     "text": [
      "Didn't find with BING or OSM, no bounding box for Google\n",
      "Error getting bounds for: Series([], Name: shapeName, dtype: object)\n",
      "Items: ['PS Pallene Ndedd', 'Kebemer']\n"
     ]
    },
    {
     "name": "stderr",
     "output_type": "stream",
     "text": [
      "842it [07:07,  2.04it/s]"
     ]
    },
    {
     "name": "stdout",
     "output_type": "stream",
     "text": [
      "Didn't find with BING or OSM, no bounding box for Google\n",
      "Error getting bounds for: Series([], Name: shapeName, dtype: object)\n",
      "Items: ['PS Pambal', 'Tivaoune']\n"
     ]
    },
    {
     "name": "stderr",
     "output_type": "stream",
     "text": [
      "843it [07:07,  2.01it/s]"
     ]
    },
    {
     "name": "stdout",
     "output_type": "stream",
     "text": [
      "Didn't find with BING or OSM, no bounding box for Google\n",
      "Error getting bounds for: Series([], Name: shapeName, dtype: object)\n",
      "Items: ['PS Panal', 'Guinguineo']\n"
     ]
    },
    {
     "name": "stderr",
     "output_type": "stream",
     "text": [
      "844it [07:08,  2.01it/s]"
     ]
    },
    {
     "name": "stdout",
     "output_type": "stream",
     "text": [
      "Didn't find with BING or OSM, no bounding box for Google\n",
      "Error getting bounds for: Series([], Name: shapeName, dtype: object)\n",
      "Items: ['PS Paoskoto', 'Ranerou']\n"
     ]
    },
    {
     "name": "stderr",
     "output_type": "stream",
     "text": [
      "845it [07:08,  2.01it/s]"
     ]
    },
    {
     "name": "stdout",
     "output_type": "stream",
     "text": [
      "Didn't find with BING or OSM, no bounding box for Google\n",
      "Error getting bounds for: Series([], Name: shapeName, dtype: object)\n",
      "Items: ['PS Parcelle Assainies', 'Thies']\n"
     ]
    },
    {
     "name": "stderr",
     "output_type": "stream",
     "text": [
      "846it [07:09,  2.05it/s]"
     ]
    },
    {
     "name": "stdout",
     "output_type": "stream",
     "text": [
      "Didn't find with BING or OSM, no bounding box for Google\n",
      "Error getting bounds for: Series([], Name: shapeName, dtype: object)\n",
      "Items: ['PS Parcelles Assainies', 'Kaolack']\n"
     ]
    },
    {
     "name": "stderr",
     "output_type": "stream",
     "text": [
      "847it [07:09,  2.10it/s]"
     ]
    },
    {
     "name": "stdout",
     "output_type": "stream",
     "text": [
      "Didn't find with BING or OSM, no bounding box for Google\n",
      "Items: ['PS Parcelles Assainies Unite 4', 'Guediawaye']\n"
     ]
    },
    {
     "name": "stderr",
     "output_type": "stream",
     "text": [
      "848it [07:10,  1.97it/s]"
     ]
    },
    {
     "name": "stdout",
     "output_type": "stream",
     "text": [
      "Items: ['PS Paroumba', 'Velingara']\n"
     ]
    },
    {
     "name": "stderr",
     "output_type": "stream",
     "text": [
      "849it [07:10,  1.75it/s]"
     ]
    },
    {
     "name": "stdout",
     "output_type": "stream",
     "text": [
      "Error getting bounds for: Series([], Name: shapeName, dtype: object)\n",
      "Items: ['PS Pass Koto', 'Koumpentoum']\n"
     ]
    },
    {
     "name": "stderr",
     "output_type": "stream",
     "text": [
      "850it [07:11,  1.54it/s]"
     ]
    },
    {
     "name": "stdout",
     "output_type": "stream",
     "text": [
      "Didn't find with BING or OSM, no bounding box for Google\n",
      "Error getting bounds for: Series([], Name: shapeName, dtype: object)\n",
      "Items: ['PS Pata', 'Medina Yoroufoula']\n"
     ]
    },
    {
     "name": "stderr",
     "output_type": "stream",
     "text": [
      "851it [07:11,  1.84it/s]"
     ]
    },
    {
     "name": "stdout",
     "output_type": "stream",
     "text": [
      "Didn't find with BING or OSM, no bounding box for Google\n",
      "Error getting bounds for: Series([], Name: shapeName, dtype: object)\n",
      "Items: ['PS Patar', 'Diourbel']\n"
     ]
    },
    {
     "name": "stderr",
     "output_type": "stream",
     "text": [
      "852it [07:12,  1.86it/s]"
     ]
    },
    {
     "name": "stdout",
     "output_type": "stream",
     "text": [
      "Didn't find with BING or OSM, no bounding box for Google\n",
      "Error getting bounds for: Series([], Name: shapeName, dtype: object)\n",
      "Items: ['PS Patar Lia', 'Gossas']\n"
     ]
    },
    {
     "name": "stderr",
     "output_type": "stream",
     "text": [
      "853it [07:12,  1.85it/s]"
     ]
    },
    {
     "name": "stdout",
     "output_type": "stream",
     "text": [
      "Didn't find with BING or OSM, no bounding box for Google\n",
      "Error getting bounds for: Series([], Name: shapeName, dtype: object)\n",
      "Items: ['PS Pathe Gallo', 'Podor']\n"
     ]
    },
    {
     "name": "stderr",
     "output_type": "stream",
     "text": [
      "854it [07:13,  1.96it/s]"
     ]
    },
    {
     "name": "stdout",
     "output_type": "stream",
     "text": [
      "Didn't find with BING or OSM, no bounding box for Google\n",
      "Error getting bounds for: Series([], Name: shapeName, dtype: object)\n",
      "Items: ['PS Pathe Thiangaye', 'Kaffrine']\n"
     ]
    },
    {
     "name": "stderr",
     "output_type": "stream",
     "text": [
      "855it [07:13,  2.03it/s]"
     ]
    },
    {
     "name": "stdout",
     "output_type": "stream",
     "text": [
      "Didn't find with BING or OSM, no bounding box for Google\n",
      "Error getting bounds for: Series([], Name: shapeName, dtype: object)\n",
      "Items: ['PS Payar', 'Koumpentoum']\n"
     ]
    },
    {
     "name": "stderr",
     "output_type": "stream",
     "text": [
      "856it [07:14,  1.87it/s]"
     ]
    },
    {
     "name": "stdout",
     "output_type": "stream",
     "text": [
      "Didn't find with BING or OSM, no bounding box for Google\n",
      "Items: ['PS Payoungou', 'Velingara']\n"
     ]
    },
    {
     "name": "stderr",
     "output_type": "stream",
     "text": [
      "857it [07:14,  1.90it/s]"
     ]
    },
    {
     "name": "stdout",
     "output_type": "stream",
     "text": [
      "Error getting bounds for: Series([], Name: shapeName, dtype: object)\n",
      "Items: ['PS Pepiniere', 'Pikine']\n"
     ]
    },
    {
     "name": "stderr",
     "output_type": "stream",
     "text": [
      "858it [07:15,  2.05it/s]"
     ]
    },
    {
     "name": "stdout",
     "output_type": "stream",
     "text": [
      "Didn't find with BING or OSM, no bounding box for Google\n",
      "Error getting bounds for: Series([], Name: shapeName, dtype: object)\n",
      "Items: ['PS Petiel', 'Ranerou']\n"
     ]
    },
    {
     "name": "stderr",
     "output_type": "stream",
     "text": [
      "859it [07:15,  2.15it/s]"
     ]
    },
    {
     "name": "stdout",
     "output_type": "stream",
     "text": [
      "Didn't find with BING or OSM, no bounding box for Google\n",
      "Error getting bounds for: Series([], Name: shapeName, dtype: object)\n",
      "Items: ['PS Petit Mbao', 'Mbour']\n"
     ]
    },
    {
     "name": "stderr",
     "output_type": "stream",
     "text": [
      "860it [07:16,  2.06it/s]"
     ]
    },
    {
     "name": "stdout",
     "output_type": "stream",
     "text": [
      "Didn't find with BING or OSM, no bounding box for Google\n",
      "Error getting bounds for: Series([], Name: shapeName, dtype: object)\n",
      "Items: ['PS Petit Thialy', 'Thies']\n"
     ]
    },
    {
     "name": "stderr",
     "output_type": "stream",
     "text": [
      "861it [07:16,  1.91it/s]"
     ]
    },
    {
     "name": "stdout",
     "output_type": "stream",
     "text": [
      "Didn't find with BING or OSM, no bounding box for Google\n",
      "Error getting bounds for: Series([], Name: shapeName, dtype: object)\n",
      "Items: ['PS Peulga Darel', 'Fatick']\n"
     ]
    },
    {
     "name": "stderr",
     "output_type": "stream",
     "text": [
      "862it [07:17,  1.95it/s]"
     ]
    },
    {
     "name": "stdout",
     "output_type": "stream",
     "text": [
      "Didn't find with BING or OSM, no bounding box for Google\n",
      "Error getting bounds for: Series([], Name: shapeName, dtype: object)\n",
      "Items: ['PS Peyckouk', 'Thies']\n"
     ]
    },
    {
     "name": "stderr",
     "output_type": "stream",
     "text": [
      "863it [07:17,  2.03it/s]"
     ]
    },
    {
     "name": "stdout",
     "output_type": "stream",
     "text": [
      "Didn't find with BING or OSM, no bounding box for Google\n",
      "Error getting bounds for: Series([], Name: shapeName, dtype: object)\n",
      "Items: ['PS Pikine', 'Saint Louis']\n"
     ]
    },
    {
     "name": "stderr",
     "output_type": "stream",
     "text": [
      "864it [07:18,  1.94it/s]"
     ]
    },
    {
     "name": "stdout",
     "output_type": "stream",
     "text": [
      "Didn't find with BING or OSM, no bounding box for Google\n",
      "Error getting bounds for: Series([], Name: shapeName, dtype: object)\n",
      "Items: ['PS Pire Goureye', 'Tivaoune']\n"
     ]
    },
    {
     "name": "stderr",
     "output_type": "stream",
     "text": [
      "865it [07:18,  2.06it/s]"
     ]
    },
    {
     "name": "stdout",
     "output_type": "stream",
     "text": [
      "Didn't find with BING or OSM, no bounding box for Google\n",
      "Error getting bounds for: Series([], Name: shapeName, dtype: object)\n",
      "Items: ['PS Point Sarene', 'Mbour']\n"
     ]
    },
    {
     "name": "stderr",
     "output_type": "stream",
     "text": [
      "866it [07:19,  2.02it/s]"
     ]
    },
    {
     "name": "stdout",
     "output_type": "stream",
     "text": [
      "Didn't find with BING or OSM, no bounding box for Google\n",
      "Error getting bounds for: Series([], Name: shapeName, dtype: object)\n",
      "Items: ['PS Polel Diaobe', 'Kanel']\n"
     ]
    },
    {
     "name": "stderr",
     "output_type": "stream",
     "text": [
      "867it [07:19,  2.01it/s]"
     ]
    },
    {
     "name": "stdout",
     "output_type": "stream",
     "text": [
      "Didn't find with BING or OSM, no bounding box for Google\n",
      "Error getting bounds for: Series([], Name: shapeName, dtype: object)\n",
      "Items: ['PS Pont', 'Tambacounda']\n"
     ]
    },
    {
     "name": "stderr",
     "output_type": "stream",
     "text": [
      "868it [07:20,  1.99it/s]"
     ]
    },
    {
     "name": "stdout",
     "output_type": "stream",
     "text": [
      "Didn't find with BING or OSM, no bounding box for Google\n",
      "Error getting bounds for: Series([], Name: shapeName, dtype: object)\n",
      "Items: ['PS Porokhane', 'Ranerou']\n"
     ]
    },
    {
     "name": "stderr",
     "output_type": "stream",
     "text": [
      "869it [07:20,  1.99it/s]"
     ]
    },
    {
     "name": "stdout",
     "output_type": "stream",
     "text": [
      "Didn't find with BING or OSM, no bounding box for Google\n",
      "Error getting bounds for: Series([], Name: shapeName, dtype: object)\n",
      "Items: ['PS Pout Diack', 'Thies']\n"
     ]
    },
    {
     "name": "stderr",
     "output_type": "stream",
     "text": [
      "870it [07:21,  1.87it/s]"
     ]
    },
    {
     "name": "stdout",
     "output_type": "stream",
     "text": [
      "Didn't find with BING or OSM, no bounding box for Google\n",
      "Error getting bounds for: Series([], Name: shapeName, dtype: object)\n",
      "Items: ['PS Rao', 'Saint Louis']\n"
     ]
    },
    {
     "name": "stderr",
     "output_type": "stream",
     "text": [
      "871it [07:22,  1.88it/s]"
     ]
    },
    {
     "name": "stdout",
     "output_type": "stream",
     "text": [
      "Didn't find with BING or OSM, no bounding box for Google\n",
      "Error getting bounds for: Series([], Name: shapeName, dtype: object)\n",
      "Items: ['PS Refane', 'Bambey']\n"
     ]
    },
    {
     "name": "stderr",
     "output_type": "stream",
     "text": [
      "872it [07:22,  2.09it/s]"
     ]
    },
    {
     "name": "stdout",
     "output_type": "stream",
     "text": [
      "Didn't find with BING or OSM, no bounding box for Google\n",
      "Error getting bounds for: Series([], Name: shapeName, dtype: object)\n",
      "Items: ['PS Reomao', 'Bambey']\n"
     ]
    },
    {
     "name": "stderr",
     "output_type": "stream",
     "text": [
      "873it [07:22,  2.03it/s]"
     ]
    },
    {
     "name": "stdout",
     "output_type": "stream",
     "text": [
      "Didn't find with BING or OSM, no bounding box for Google\n",
      "Error getting bounds for: Series([], Name: shapeName, dtype: object)\n",
      "Items: ['PS Ribot Escale', 'Koungheul']\n"
     ]
    },
    {
     "name": "stderr",
     "output_type": "stream",
     "text": [
      "874it [07:23,  2.05it/s]"
     ]
    },
    {
     "name": "stdout",
     "output_type": "stream",
     "text": [
      "Didn't find with BING or OSM, no bounding box for Google\n",
      "Error getting bounds for: Series([], Name: shapeName, dtype: object)\n",
      "Items: ['PS Roff', 'Mbour']\n"
     ]
    },
    {
     "name": "stderr",
     "output_type": "stream",
     "text": [
      "875it [07:23,  1.96it/s]"
     ]
    },
    {
     "name": "stdout",
     "output_type": "stream",
     "text": [
      "Didn't find with BING or OSM, no bounding box for Google\n",
      "Error getting bounds for: Series([], Name: shapeName, dtype: object)\n",
      "Items: ['PS Sabodola', 'Saraya']\n"
     ]
    },
    {
     "name": "stderr",
     "output_type": "stream",
     "text": [
      "876it [07:24,  2.06it/s]"
     ]
    },
    {
     "name": "stdout",
     "output_type": "stream",
     "text": [
      "Didn't find with BING or OSM, no bounding box for Google\n",
      "Error getting bounds for: Series([], Name: shapeName, dtype: object)\n",
      "Items: ['PS Saboya', 'Ranerou']\n"
     ]
    },
    {
     "name": "stderr",
     "output_type": "stream",
     "text": [
      "877it [07:24,  1.97it/s]"
     ]
    },
    {
     "name": "stdout",
     "output_type": "stream",
     "text": [
      "Didn't find with BING or OSM, no bounding box for Google\n",
      "Error getting bounds for: Series([], Name: shapeName, dtype: object)\n",
      "Items: ['PS Sadel', 'Matam']\n"
     ]
    },
    {
     "name": "stderr",
     "output_type": "stream",
     "text": [
      "878it [07:25,  1.98it/s]"
     ]
    },
    {
     "name": "stdout",
     "output_type": "stream",
     "text": [
      "Didn't find with BING or OSM, no bounding box for Google\n",
      "Error getting bounds for: Series([], Name: shapeName, dtype: object)\n",
      "Items: ['PS Sadio', 'Mbacke']\n"
     ]
    },
    {
     "name": "stderr",
     "output_type": "stream",
     "text": [
      "879it [07:25,  1.98it/s]"
     ]
    },
    {
     "name": "stdout",
     "output_type": "stream",
     "text": [
      "Didn't find with BING or OSM, no bounding box for Google\n",
      "Error getting bounds for: Series([], Name: shapeName, dtype: object)\n",
      "Items: ['PS Saensoutou', 'Saraya']\n"
     ]
    },
    {
     "name": "stderr",
     "output_type": "stream",
     "text": [
      "880it [07:26,  2.13it/s]"
     ]
    },
    {
     "name": "stdout",
     "output_type": "stream",
     "text": [
      "Didn't find with BING or OSM, no bounding box for Google\n",
      "Error getting bounds for: Series([], Name: shapeName, dtype: object)\n",
      "Items: ['PS Safane', 'Goudomp']\n"
     ]
    },
    {
     "name": "stderr",
     "output_type": "stream",
     "text": [
      "881it [07:26,  2.03it/s]"
     ]
    },
    {
     "name": "stdout",
     "output_type": "stream",
     "text": [
      "Didn't find with BING or OSM, no bounding box for Google\n",
      "Error getting bounds for: Series([], Name: shapeName, dtype: object)\n",
      "Items: ['PS Sagata Djoloff', 'Dakar']\n"
     ]
    },
    {
     "name": "stderr",
     "output_type": "stream",
     "text": [
      "882it [07:27,  2.06it/s]"
     ]
    },
    {
     "name": "stdout",
     "output_type": "stream",
     "text": [
      "Didn't find with BING or OSM, no bounding box for Google\n",
      "Error getting bounds for: Series([], Name: shapeName, dtype: object)\n",
      "Items: ['PS Sagatta Gueth', 'Kebemer']\n"
     ]
    },
    {
     "name": "stderr",
     "output_type": "stream",
     "text": [
      "883it [07:27,  2.06it/s]"
     ]
    },
    {
     "name": "stdout",
     "output_type": "stream",
     "text": [
      "Didn't find with BING or OSM, no bounding box for Google\n",
      "Error getting bounds for: Series([], Name: shapeName, dtype: object)\n",
      "Items: ['PS Sagna', 'Malem Hodar']\n"
     ]
    },
    {
     "name": "stderr",
     "output_type": "stream",
     "text": [
      "884it [07:28,  1.95it/s]"
     ]
    },
    {
     "name": "stdout",
     "output_type": "stream",
     "text": [
      "Didn't find with BING or OSM, no bounding box for Google\n",
      "Error getting bounds for: Series([], Name: shapeName, dtype: object)\n",
      "Items: ['PS Sakar', 'Sedhiou']\n"
     ]
    },
    {
     "name": "stderr",
     "output_type": "stream",
     "text": [
      "885it [07:28,  1.99it/s]"
     ]
    },
    {
     "name": "stdout",
     "output_type": "stream",
     "text": [
      "Didn't find with BING or OSM, no bounding box for Google\n",
      "Error getting bounds for: Series([], Name: shapeName, dtype: object)\n",
      "Items: ['PS Salalatou', 'Ranerou']\n"
     ]
    },
    {
     "name": "stderr",
     "output_type": "stream",
     "text": [
      "886it [07:29,  2.00it/s]"
     ]
    },
    {
     "name": "stdout",
     "output_type": "stream",
     "text": [
      "Didn't find with BING or OSM, no bounding box for Google\n",
      "Error getting bounds for: Series([], Name: shapeName, dtype: object)\n",
      "Items: ['PS Salde', 'Podor']\n"
     ]
    },
    {
     "name": "stderr",
     "output_type": "stream",
     "text": [
      "887it [07:30,  1.86it/s]"
     ]
    },
    {
     "name": "stdout",
     "output_type": "stream",
     "text": [
      "Didn't find with BING or OSM, no bounding box for Google\n",
      "Error getting bounds for: Series([], Name: shapeName, dtype: object)\n",
      "Items: ['PS Salikegne', 'Kolda']\n"
     ]
    },
    {
     "name": "stderr",
     "output_type": "stream",
     "text": [
      "888it [07:30,  2.03it/s]"
     ]
    },
    {
     "name": "stdout",
     "output_type": "stream",
     "text": [
      "Didn't find with BING or OSM, no bounding box for Google\n",
      "Error getting bounds for: Series([], Name: shapeName, dtype: object)\n",
      "Items: ['PS Saly', 'Mbour']\n"
     ]
    },
    {
     "name": "stderr",
     "output_type": "stream",
     "text": [
      "889it [07:30,  2.08it/s]"
     ]
    },
    {
     "name": "stdout",
     "output_type": "stream",
     "text": [
      "Didn't find with BING or OSM, no bounding box for Google\n",
      "Error getting bounds for: Series([], Name: shapeName, dtype: object)\n",
      "Items: ['PS Saly Carrefour', 'Mbour']\n"
     ]
    },
    {
     "name": "stderr",
     "output_type": "stream",
     "text": [
      "890it [07:31,  2.04it/s]"
     ]
    },
    {
     "name": "stdout",
     "output_type": "stream",
     "text": [
      "Didn't find with BING or OSM, no bounding box for Google\n",
      "Error getting bounds for: Series([], Name: shapeName, dtype: object)\n",
      "Items: ['PS Saly Escale', 'Koungheul']\n"
     ]
    },
    {
     "name": "stderr",
     "output_type": "stream",
     "text": [
      "891it [07:31,  1.97it/s]"
     ]
    },
    {
     "name": "stdout",
     "output_type": "stream",
     "text": [
      "Didn't find with BING or OSM, no bounding box for Google\n",
      "Error getting bounds for: Series([], Name: shapeName, dtype: object)\n",
      "Items: ['PS Sam Fall', 'Dakar']\n"
     ]
    },
    {
     "name": "stderr",
     "output_type": "stream",
     "text": [
      "892it [07:32,  2.05it/s]"
     ]
    },
    {
     "name": "stdout",
     "output_type": "stream",
     "text": [
      "Didn't find with BING or OSM, no bounding box for Google\n",
      "Error getting bounds for: Series([], Name: shapeName, dtype: object)\n",
      "Items: ['PS Sam Ndiaye', 'Thies']\n"
     ]
    },
    {
     "name": "stderr",
     "output_type": "stream",
     "text": [
      "893it [07:33,  1.78it/s]"
     ]
    },
    {
     "name": "stdout",
     "output_type": "stream",
     "text": [
      "Didn't find with BING or OSM, no bounding box for Google\n",
      "Error getting bounds for: Series([], Name: shapeName, dtype: object)\n",
      "Items: ['PS Samba Yide', 'Bakel']\n"
     ]
    },
    {
     "name": "stderr",
     "output_type": "stream",
     "text": [
      "894it [07:33,  2.13it/s]"
     ]
    },
    {
     "name": "stdout",
     "output_type": "stream",
     "text": [
      "Didn't find with BING or OSM, no bounding box for Google\n",
      "Error getting bounds for: Series([], Name: shapeName, dtype: object)\n",
      "Items: ['PS Sambrambougou', 'Saraya']\n"
     ]
    },
    {
     "name": "stderr",
     "output_type": "stream",
     "text": [
      "895it [07:33,  1.97it/s]"
     ]
    },
    {
     "name": "stdout",
     "output_type": "stream",
     "text": [
      "Didn't find with BING or OSM, no bounding box for Google\n",
      "Error getting bounds for: Series([], Name: shapeName, dtype: object)\n",
      "Items: ['PS Same', 'Kaolack']\n"
     ]
    },
    {
     "name": "stderr",
     "output_type": "stream",
     "text": [
      "896it [07:34,  1.92it/s]"
     ]
    },
    {
     "name": "stdout",
     "output_type": "stream",
     "text": [
      "Didn't find with BING or OSM, no bounding box for Google\n",
      "Error getting bounds for: Series([], Name: shapeName, dtype: object)\n",
      "Items: ['PS Same Nguéyéne', 'Kaffrine']\n"
     ]
    },
    {
     "name": "stderr",
     "output_type": "stream",
     "text": [
      "897it [07:34,  2.11it/s]"
     ]
    },
    {
     "name": "stdout",
     "output_type": "stream",
     "text": [
      "Didn't find with BING or OSM, no bounding box for Google\n",
      "Error getting bounds for: Series([], Name: shapeName, dtype: object)\n",
      "Items: ['PS Sampathe', 'Thies']\n"
     ]
    },
    {
     "name": "stderr",
     "output_type": "stream",
     "text": [
      "898it [07:35,  2.03it/s]"
     ]
    },
    {
     "name": "stdout",
     "output_type": "stream",
     "text": [
      "Didn't find with BING or OSM, no bounding box for Google\n",
      "Error getting bounds for: Series([], Name: shapeName, dtype: object)\n",
      "Items: ['PS Sankagne', 'Tambacounda']\n"
     ]
    },
    {
     "name": "stderr",
     "output_type": "stream",
     "text": [
      "899it [07:35,  1.99it/s]"
     ]
    },
    {
     "name": "stdout",
     "output_type": "stream",
     "text": [
      "Didn't find with BING or OSM, no bounding box for Google\n",
      "Error getting bounds for: Series([], Name: shapeName, dtype: object)\n",
      "Items: ['PS Sansamba', 'Sedhiou']\n"
     ]
    },
    {
     "name": "stderr",
     "output_type": "stream",
     "text": [
      "900it [07:36,  2.02it/s]"
     ]
    },
    {
     "name": "stdout",
     "output_type": "stream",
     "text": [
      "Didn't find with BING or OSM, no bounding box for Google\n",
      "Error getting bounds for: Series([], Name: shapeName, dtype: object)\n",
      "Items: ['PS Santankoye', 'Medina Yoroufoula']\n"
     ]
    },
    {
     "name": "stderr",
     "output_type": "stream",
     "text": [
      "901it [07:36,  1.96it/s]"
     ]
    },
    {
     "name": "stdout",
     "output_type": "stream",
     "text": [
      "Didn't find with BING or OSM, no bounding box for Google\n",
      "Error getting bounds for: Series([], Name: shapeName, dtype: object)\n",
      "Items: ['PS Santessou', 'Mbour']\n"
     ]
    },
    {
     "name": "stderr",
     "output_type": "stream",
     "text": [
      "902it [07:37,  2.07it/s]"
     ]
    },
    {
     "name": "stdout",
     "output_type": "stream",
     "text": [
      "Didn't find with BING or OSM, no bounding box for Google\n",
      "Error getting bounds for: Series([], Name: shapeName, dtype: object)\n",
      "Items: ['PS Santhiaba', 'Dagana']\n"
     ]
    },
    {
     "name": "stderr",
     "output_type": "stream",
     "text": [
      "903it [07:38,  1.83it/s]"
     ]
    },
    {
     "name": "stdout",
     "output_type": "stream",
     "text": [
      "Didn't find with BING or OSM, no bounding box for Google\n",
      "Error getting bounds for: Series([], Name: shapeName, dtype: object)\n",
      "Items: ['PS Santhiaba (Ndar Toute)', 'Saint Louis']\n"
     ]
    },
    {
     "name": "stderr",
     "output_type": "stream",
     "text": [
      "904it [07:38,  2.13it/s]"
     ]
    },
    {
     "name": "stdout",
     "output_type": "stream",
     "text": [
      "Didn't find with BING or OSM, no bounding box for Google\n",
      "Error getting bounds for: Series([], Name: shapeName, dtype: object)\n",
      "Items: ['PS Santhiaba Sud', 'Louga']\n"
     ]
    },
    {
     "name": "stderr",
     "output_type": "stream",
     "text": [
      "905it [07:39,  1.86it/s]"
     ]
    },
    {
     "name": "stdout",
     "output_type": "stream",
     "text": [
      "Didn't find with BING or OSM, no bounding box for Google\n",
      "Error getting bounds for: Series([], Name: shapeName, dtype: object)\n",
      "Items: ['PS Santhie', 'Mbour']\n"
     ]
    },
    {
     "name": "stderr",
     "output_type": "stream",
     "text": [
      "906it [07:39,  2.04it/s]"
     ]
    },
    {
     "name": "stdout",
     "output_type": "stream",
     "text": [
      "Didn't find with BING or OSM, no bounding box for Google\n",
      "Error getting bounds for: Series([], Name: shapeName, dtype: object)\n",
      "Items: ['PS Santhie Galgone', 'Kaffrine']\n"
     ]
    },
    {
     "name": "stderr",
     "output_type": "stream",
     "text": [
      "907it [07:39,  2.10it/s]"
     ]
    },
    {
     "name": "stdout",
     "output_type": "stream",
     "text": [
      "Didn't find with BING or OSM, no bounding box for Google\n",
      "Error getting bounds for: Series([], Name: shapeName, dtype: object)\n",
      "Items: ['PS Santhie Nguerane', 'Koungheul']\n"
     ]
    },
    {
     "name": "stderr",
     "output_type": "stream",
     "text": [
      "908it [07:40,  1.97it/s]"
     ]
    },
    {
     "name": "stdout",
     "output_type": "stream",
     "text": [
      "Didn't find with BING or OSM, no bounding box for Google\n",
      "Error getting bounds for: Series([], Name: shapeName, dtype: object)\n",
      "Items: ['PS Santhie Thiamène', 'Ranerou']\n"
     ]
    },
    {
     "name": "stderr",
     "output_type": "stream",
     "text": [
      "909it [07:40,  2.15it/s]"
     ]
    },
    {
     "name": "stdout",
     "output_type": "stream",
     "text": [
      "Didn't find with BING or OSM, no bounding box for Google\n",
      "Error getting bounds for: Series([], Name: shapeName, dtype: object)\n",
      "Items: ['PS Sao', 'Tivaoune']\n"
     ]
    },
    {
     "name": "stderr",
     "output_type": "stream",
     "text": [
      "910it [07:41,  1.83it/s]"
     ]
    },
    {
     "name": "stdout",
     "output_type": "stream",
     "text": [
      "Didn't find with BING or OSM, no bounding box for Google\n",
      "Error getting bounds for: Series([], Name: shapeName, dtype: object)\n",
      "Items: ['PS Sara', 'Kaolack']\n"
     ]
    },
    {
     "name": "stderr",
     "output_type": "stream",
     "text": [
      "911it [07:42,  1.88it/s]"
     ]
    },
    {
     "name": "stdout",
     "output_type": "stream",
     "text": [
      "Didn't find with BING or OSM, no bounding box for Google\n",
      "Error getting bounds for: Series([], Name: shapeName, dtype: object)\n",
      "Items: ['PS Sare Bidji', 'Kolda']\n"
     ]
    },
    {
     "name": "stderr",
     "output_type": "stream",
     "text": [
      "912it [07:42,  2.03it/s]"
     ]
    },
    {
     "name": "stdout",
     "output_type": "stream",
     "text": [
      "Didn't find with BING or OSM, no bounding box for Google\n",
      "Items: ['PS Sare Coly Salle', 'Velingara']\n"
     ]
    },
    {
     "name": "stderr",
     "output_type": "stream",
     "text": [
      "913it [07:43,  1.88it/s]"
     ]
    },
    {
     "name": "stdout",
     "output_type": "stream",
     "text": [
      "Error getting bounds for: Series([], Name: shapeName, dtype: object)\n",
      "Items: ['PS Sare Guilele', 'Tambacounda']\n"
     ]
    },
    {
     "name": "stderr",
     "output_type": "stream",
     "text": [
      "914it [07:43,  2.21it/s]"
     ]
    },
    {
     "name": "stdout",
     "output_type": "stream",
     "text": [
      "Didn't find with BING or OSM, no bounding box for Google\n",
      "Error getting bounds for: Series([], Name: shapeName, dtype: object)\n",
      "Items: ['PS Sare Kemo', 'Kolda']\n"
     ]
    },
    {
     "name": "stderr",
     "output_type": "stream",
     "text": [
      "915it [07:43,  2.07it/s]"
     ]
    },
    {
     "name": "stdout",
     "output_type": "stream",
     "text": [
      "Didn't find with BING or OSM, no bounding box for Google\n",
      "Error getting bounds for: Series([], Name: shapeName, dtype: object)\n",
      "Items: ['PS Sare Moussa', 'Kolda']\n"
     ]
    },
    {
     "name": "stderr",
     "output_type": "stream",
     "text": [
      "916it [07:44,  2.05it/s]"
     ]
    },
    {
     "name": "stdout",
     "output_type": "stream",
     "text": [
      "Didn't find with BING or OSM, no bounding box for Google\n",
      "Error getting bounds for: Series([], Name: shapeName, dtype: object)\n",
      "Items: ['PS Sare Yoba Diega', 'Kolda']\n"
     ]
    },
    {
     "name": "stderr",
     "output_type": "stream",
     "text": [
      "917it [07:45,  1.81it/s]"
     ]
    },
    {
     "name": "stdout",
     "output_type": "stream",
     "text": [
      "Didn't find with BING or OSM, no bounding box for Google\n",
      "Error getting bounds for: Series([], Name: shapeName, dtype: object)\n",
      "Items: ['PS Sare Yoro Bouya', 'Medina Yoroufoula']\n"
     ]
    },
    {
     "name": "stderr",
     "output_type": "stream",
     "text": [
      "918it [07:45,  2.10it/s]"
     ]
    },
    {
     "name": "stdout",
     "output_type": "stream",
     "text": [
      "Didn't find with BING or OSM, no bounding box for Google\n",
      "Error getting bounds for: Series([], Name: shapeName, dtype: object)\n",
      "Items: ['PS Sareme Wolof', 'Diourbel']\n"
     ]
    },
    {
     "name": "stderr",
     "output_type": "stream",
     "text": [
      "919it [07:45,  1.97it/s]"
     ]
    },
    {
     "name": "stdout",
     "output_type": "stream",
     "text": [
      "Didn't find with BING or OSM, no bounding box for Google\n",
      "Error getting bounds for: Series([], Name: shapeName, dtype: object)\n",
      "Items: ['PS Saroudia', 'Saraya']\n"
     ]
    },
    {
     "name": "stderr",
     "output_type": "stream",
     "text": [
      "920it [07:46,  2.07it/s]"
     ]
    },
    {
     "name": "stdout",
     "output_type": "stream",
     "text": [
      "Didn't find with BING or OSM, no bounding box for Google\n",
      "Error getting bounds for: Series([], Name: shapeName, dtype: object)\n",
      "Items: ['PS Saré Bilaly', 'Kolda']\n"
     ]
    },
    {
     "name": "stderr",
     "output_type": "stream",
     "text": [
      "921it [07:46,  1.93it/s]"
     ]
    },
    {
     "name": "stdout",
     "output_type": "stream",
     "text": [
      "Didn't find with BING or OSM, no bounding box for Google\n",
      "Error getting bounds for: Series([], Name: shapeName, dtype: object)\n",
      "Items: ['PS Saré Niana', 'Tambacounda']\n"
     ]
    },
    {
     "name": "stderr",
     "output_type": "stream",
     "text": [
      "922it [07:47,  2.07it/s]"
     ]
    },
    {
     "name": "stdout",
     "output_type": "stream",
     "text": [
      "Didn't find with BING or OSM, no bounding box for Google\n",
      "Error getting bounds for: Series([], Name: shapeName, dtype: object)\n",
      "Items: ['PS Seane', 'Malem Hodar']\n"
     ]
    },
    {
     "name": "stderr",
     "output_type": "stream",
     "text": [
      "923it [07:47,  2.09it/s]"
     ]
    },
    {
     "name": "stdout",
     "output_type": "stream",
     "text": [
      "Didn't find with BING or OSM, no bounding box for Google\n",
      "Error getting bounds for: Series([], Name: shapeName, dtype: object)\n",
      "Items: ['PS Sebi Ponty', 'Tambacounda']\n"
     ]
    },
    {
     "name": "stderr",
     "output_type": "stream",
     "text": [
      "924it [07:48,  2.01it/s]"
     ]
    },
    {
     "name": "stdout",
     "output_type": "stream",
     "text": [
      "Didn't find with BING or OSM, no bounding box for Google\n",
      "Error getting bounds for: Series([], Name: shapeName, dtype: object)\n",
      "Items: ['PS Sebou', 'Bakel']\n"
     ]
    },
    {
     "name": "stderr",
     "output_type": "stream",
     "text": [
      "925it [07:49,  1.81it/s]"
     ]
    },
    {
     "name": "stdout",
     "output_type": "stream",
     "text": [
      "Didn't find with BING or OSM, no bounding box for Google\n",
      "Error getting bounds for: Series([], Name: shapeName, dtype: object)\n",
      "Items: ['PS Secteur 4 Et 5', 'Dagana']\n"
     ]
    },
    {
     "name": "stderr",
     "output_type": "stream",
     "text": [
      "926it [07:49,  1.89it/s]"
     ]
    },
    {
     "name": "stdout",
     "output_type": "stream",
     "text": [
      "Didn't find with BING or OSM, no bounding box for Google\n",
      "Error getting bounds for: Series([], Name: shapeName, dtype: object)\n",
      "Items: ['PS Sedo Sebe', 'Matam']\n"
     ]
    },
    {
     "name": "stderr",
     "output_type": "stream",
     "text": [
      "927it [07:49,  2.19it/s]"
     ]
    },
    {
     "name": "stdout",
     "output_type": "stream",
     "text": [
      "Didn't find with BING or OSM, no bounding box for Google\n",
      "Error getting bounds for: Series([], Name: shapeName, dtype: object)\n",
      "Items: ['PS Segre Secco', 'Birkelane']\n"
     ]
    },
    {
     "name": "stderr",
     "output_type": "stream",
     "text": [
      "928it [07:50,  1.99it/s]"
     ]
    },
    {
     "name": "stdout",
     "output_type": "stream",
     "text": [
      "Didn't find with BING or OSM, no bounding box for Google\n",
      "Error getting bounds for: Series([], Name: shapeName, dtype: object)\n",
      "Items: ['PS Segregata', 'Birkelane']\n"
     ]
    },
    {
     "name": "stderr",
     "output_type": "stream",
     "text": [
      "929it [07:50,  2.09it/s]"
     ]
    },
    {
     "name": "stdout",
     "output_type": "stream",
     "text": [
      "Didn't find with BING or OSM, no bounding box for Google\n",
      "Error getting bounds for: Series([], Name: shapeName, dtype: object)\n",
      "Items: ['PS Seleky', 'Ziguinchor']\n"
     ]
    },
    {
     "name": "stderr",
     "output_type": "stream",
     "text": [
      "930it [07:51,  2.00it/s]"
     ]
    },
    {
     "name": "stdout",
     "output_type": "stream",
     "text": [
      "Didn't find with BING or OSM, no bounding box for Google\n",
      "Error getting bounds for: Series([], Name: shapeName, dtype: object)\n",
      "Items: ['PS Semme', 'Kanel']\n"
     ]
    },
    {
     "name": "stderr",
     "output_type": "stream",
     "text": [
      "931it [07:52,  1.91it/s]"
     ]
    },
    {
     "name": "stdout",
     "output_type": "stream",
     "text": [
      "Didn't find with BING or OSM, no bounding box for Google\n",
      "Error getting bounds for: Series([], Name: shapeName, dtype: object)\n",
      "Items: ['PS Sendou', 'Tambacounda']\n"
     ]
    },
    {
     "name": "stderr",
     "output_type": "stream",
     "text": [
      "932it [07:52,  2.09it/s]"
     ]
    },
    {
     "name": "stdout",
     "output_type": "stream",
     "text": [
      "Didn't find with BING or OSM, no bounding box for Google\n",
      "Error getting bounds for: Series([], Name: shapeName, dtype: object)\n",
      "Items: ['PS Senghor', 'Fatick']\n"
     ]
    },
    {
     "name": "stderr",
     "output_type": "stream",
     "text": [
      "933it [07:52,  2.06it/s]"
     ]
    },
    {
     "name": "stdout",
     "output_type": "stream",
     "text": [
      "Didn't find with BING or OSM, no bounding box for Google\n",
      "Error getting bounds for: Series([], Name: shapeName, dtype: object)\n",
      "Items: ['PS Seno Palel', 'Kanel']\n"
     ]
    },
    {
     "name": "stderr",
     "output_type": "stream",
     "text": [
      "934it [07:53,  2.11it/s]"
     ]
    },
    {
     "name": "stdout",
     "output_type": "stream",
     "text": [
      "Didn't find with BING or OSM, no bounding box for Google\n",
      "Error getting bounds for: Series([], Name: shapeName, dtype: object)\n",
      "Items: ['PS Senoba', 'Bounkiling']\n"
     ]
    },
    {
     "name": "stderr",
     "output_type": "stream",
     "text": [
      "935it [07:53,  2.01it/s]"
     ]
    },
    {
     "name": "stdout",
     "output_type": "stream",
     "text": [
      "Didn't find with BING or OSM, no bounding box for Google\n",
      "Error getting bounds for: Series([], Name: shapeName, dtype: object)\n",
      "Items: ['PS Sessene', 'Diourbel']\n"
     ]
    },
    {
     "name": "stderr",
     "output_type": "stream",
     "text": [
      "936it [07:54,  2.01it/s]"
     ]
    },
    {
     "name": "stdout",
     "output_type": "stream",
     "text": [
      "Didn't find with BING or OSM, no bounding box for Google\n",
      "Error getting bounds for: Series([], Name: shapeName, dtype: object)\n",
      "Items: ['PS Seydou N Tall', 'Bounkiling']\n"
     ]
    },
    {
     "name": "stderr",
     "output_type": "stream",
     "text": [
      "937it [07:54,  1.98it/s]"
     ]
    },
    {
     "name": "stdout",
     "output_type": "stream",
     "text": [
      "Didn't find with BING or OSM, no bounding box for Google\n",
      "Error getting bounds for: Series([], Name: shapeName, dtype: object)\n",
      "Items: ['PS Sikilo Est', 'Kolda']\n"
     ]
    },
    {
     "name": "stderr",
     "output_type": "stream",
     "text": [
      "938it [07:55,  1.89it/s]"
     ]
    },
    {
     "name": "stdout",
     "output_type": "stream",
     "text": [
      "Didn't find with BING or OSM, no bounding box for Google\n",
      "Error getting bounds for: Series([], Name: shapeName, dtype: object)\n",
      "Items: ['PS Sikilo ouest', 'Kolda']\n"
     ]
    },
    {
     "name": "stderr",
     "output_type": "stream",
     "text": [
      "939it [07:55,  2.02it/s]"
     ]
    },
    {
     "name": "stdout",
     "output_type": "stream",
     "text": [
      "Didn't find with BING or OSM, no bounding box for Google\n",
      "Error getting bounds for: Series([], Name: shapeName, dtype: object)\n",
      "Items: ['PS Silane', 'Bambey']\n"
     ]
    },
    {
     "name": "stderr",
     "output_type": "stream",
     "text": [
      "940it [07:56,  2.04it/s]"
     ]
    },
    {
     "name": "stdout",
     "output_type": "stream",
     "text": [
      "Didn't find with BING or OSM, no bounding box for Google\n",
      "Error getting bounds for: Series([], Name: shapeName, dtype: object)\n",
      "Items: ['PS Silinkine', 'Bignona']\n"
     ]
    },
    {
     "name": "stderr",
     "output_type": "stream",
     "text": [
      "941it [07:56,  1.99it/s]"
     ]
    },
    {
     "name": "stdout",
     "output_type": "stream",
     "text": [
      "Didn't find with BING or OSM, no bounding box for Google\n",
      "Error getting bounds for: Series([], Name: shapeName, dtype: object)\n",
      "Items: ['PS Silmang', 'Thies']\n"
     ]
    },
    {
     "name": "stderr",
     "output_type": "stream",
     "text": [
      "942it [07:57,  2.03it/s]"
     ]
    },
    {
     "name": "stdout",
     "output_type": "stream",
     "text": [
      "Didn't find with BING or OSM, no bounding box for Google\n",
      "Error getting bounds for: Series([], Name: shapeName, dtype: object)\n",
      "Items: ['PS Sinbandi Brassou', 'Goudomp']\n"
     ]
    },
    {
     "name": "stderr",
     "output_type": "stream",
     "text": [
      "943it [07:57,  1.96it/s]"
     ]
    },
    {
     "name": "stdout",
     "output_type": "stream",
     "text": [
      "Didn't find with BING or OSM, no bounding box for Google\n",
      "Error getting bounds for: Series([], Name: shapeName, dtype: object)\n",
      "Items: ['PS Sindialon', 'Bignona']\n"
     ]
    },
    {
     "name": "stderr",
     "output_type": "stream",
     "text": [
      "944it [07:58,  2.03it/s]"
     ]
    },
    {
     "name": "stdout",
     "output_type": "stream",
     "text": [
      "Didn't find with BING or OSM, no bounding box for Google\n",
      "Error getting bounds for: Series([], Name: shapeName, dtype: object)\n",
      "Items: ['PS Sindian', 'Bignona']\n"
     ]
    },
    {
     "name": "stderr",
     "output_type": "stream",
     "text": [
      "945it [07:58,  1.95it/s]"
     ]
    },
    {
     "name": "stdout",
     "output_type": "stream",
     "text": [
      "Didn't find with BING or OSM, no bounding box for Google\n",
      "Error getting bounds for: Series([], Name: shapeName, dtype: object)\n",
      "Items: ['PS Sindone', 'Ziguinchor']\n"
     ]
    },
    {
     "name": "stderr",
     "output_type": "stream",
     "text": [
      "946it [07:59,  2.14it/s]"
     ]
    },
    {
     "name": "stdout",
     "output_type": "stream",
     "text": [
      "Didn't find with BING or OSM, no bounding box for Google\n",
      "Error getting bounds for: Series([], Name: shapeName, dtype: object)\n",
      "Items: ['PS Sine Abdou', 'Dakar']\n"
     ]
    },
    {
     "name": "stderr",
     "output_type": "stream",
     "text": [
      "947it [07:59,  2.06it/s]"
     ]
    },
    {
     "name": "stdout",
     "output_type": "stream",
     "text": [
      "Didn't find with BING or OSM, no bounding box for Google\n",
      "Error getting bounds for: Series([], Name: shapeName, dtype: object)\n",
      "Items: ['PS Sine Matar', 'Koungheul']\n"
     ]
    },
    {
     "name": "stderr",
     "output_type": "stream",
     "text": [
      "948it [08:00,  1.90it/s]"
     ]
    },
    {
     "name": "stdout",
     "output_type": "stream",
     "text": [
      "Didn't find with BING or OSM, no bounding box for Google\n",
      "Error getting bounds for: Series([], Name: shapeName, dtype: object)\n",
      "Items: ['PS Sine ngayene', 'Ranerou']\n"
     ]
    },
    {
     "name": "stderr",
     "output_type": "stream",
     "text": [
      "949it [08:00,  2.11it/s]"
     ]
    },
    {
     "name": "stdout",
     "output_type": "stream",
     "text": [
      "Didn't find with BING or OSM, no bounding box for Google\n",
      "Error getting bounds for: Series([], Name: shapeName, dtype: object)\n",
      "Items: ['PS Singhere', 'Sedhiou']\n"
     ]
    },
    {
     "name": "stderr",
     "output_type": "stream",
     "text": [
      "950it [08:01,  2.02it/s]"
     ]
    },
    {
     "name": "stdout",
     "output_type": "stream",
     "text": [
      "Didn't find with BING or OSM, no bounding box for Google\n",
      "Items: ['PS Sinthian Koundara', 'Velingara']\n"
     ]
    },
    {
     "name": "stderr",
     "output_type": "stream",
     "text": [
      "951it [08:01,  1.87it/s]"
     ]
    },
    {
     "name": "stdout",
     "output_type": "stream",
     "text": [
      "Error getting bounds for: Series([], Name: shapeName, dtype: object)\n",
      "Items: ['PS Sinthiane', 'Kanel']\n"
     ]
    },
    {
     "name": "stderr",
     "output_type": "stream",
     "text": [
      "952it [08:02,  2.01it/s]"
     ]
    },
    {
     "name": "stdout",
     "output_type": "stream",
     "text": [
      "Didn't find with BING or OSM, no bounding box for Google\n",
      "Error getting bounds for: Series([], Name: shapeName, dtype: object)\n",
      "Items: ['PS Sinthiou Bamambe', 'Kanel']\n"
     ]
    },
    {
     "name": "stderr",
     "output_type": "stream",
     "text": [
      "953it [08:02,  1.90it/s]"
     ]
    },
    {
     "name": "stdout",
     "output_type": "stream",
     "text": [
      "Didn't find with BING or OSM, no bounding box for Google\n",
      "Error getting bounds for: Series([], Name: shapeName, dtype: object)\n",
      "Items: ['PS Sinthiou Dangde', 'Podor']\n"
     ]
    },
    {
     "name": "stderr",
     "output_type": "stream",
     "text": [
      "954it [08:03,  1.99it/s]"
     ]
    },
    {
     "name": "stdout",
     "output_type": "stream",
     "text": [
      "Didn't find with BING or OSM, no bounding box for Google\n",
      "Error getting bounds for: Series([], Name: shapeName, dtype: object)\n",
      "Items: ['PS Sinthiou Garba', 'Matam']\n"
     ]
    },
    {
     "name": "stderr",
     "output_type": "stream",
     "text": [
      "955it [08:03,  2.15it/s]"
     ]
    },
    {
     "name": "stdout",
     "output_type": "stream",
     "text": [
      "Didn't find with BING or OSM, no bounding box for Google\n",
      "Error getting bounds for: Series([], Name: shapeName, dtype: object)\n",
      "Items: ['PS Sinthiou Mady Mbaye', 'Bounkiling']\n"
     ]
    },
    {
     "name": "stderr",
     "output_type": "stream",
     "text": [
      "956it [08:04,  2.04it/s]"
     ]
    },
    {
     "name": "stdout",
     "output_type": "stream",
     "text": [
      "Didn't find with BING or OSM, no bounding box for Google\n",
      "Error getting bounds for: Series([], Name: shapeName, dtype: object)\n",
      "Items: ['PS Sinthiou Malene', 'Tambacounda']\n"
     ]
    },
    {
     "name": "stderr",
     "output_type": "stream",
     "text": [
      "957it [08:05,  1.83it/s]"
     ]
    },
    {
     "name": "stdout",
     "output_type": "stream",
     "text": [
      "Didn't find with BING or OSM, no bounding box for Google\n",
      "Error getting bounds for: Series([], Name: shapeName, dtype: object)\n",
      "Items: ['PS Sinthiou Mamadou Boubou', 'Goudiry']\n"
     ]
    },
    {
     "name": "stderr",
     "output_type": "stream",
     "text": [
      "958it [08:05,  2.03it/s]"
     ]
    },
    {
     "name": "stdout",
     "output_type": "stream",
     "text": [
      "Didn't find with BING or OSM, no bounding box for Google\n",
      "Error getting bounds for: Series([], Name: shapeName, dtype: object)\n",
      "Items: ['PS Sioure', 'Podor']\n"
     ]
    },
    {
     "name": "stderr",
     "output_type": "stream",
     "text": [
      "959it [08:05,  2.11it/s]"
     ]
    },
    {
     "name": "stdout",
     "output_type": "stream",
     "text": [
      "Didn't find with BING or OSM, no bounding box for Google\n",
      "Error getting bounds for: Series([], Name: shapeName, dtype: object)\n",
      "Items: ['PS Sob2', 'Kaolack']\n"
     ]
    },
    {
     "name": "stderr",
     "output_type": "stream",
     "text": [
      "960it [08:06,  1.90it/s]"
     ]
    },
    {
     "name": "stdout",
     "output_type": "stream",
     "text": [
      "Didn't find with BING or OSM, no bounding box for Google\n",
      "Error getting bounds for: Series([], Name: shapeName, dtype: object)\n",
      "Items: ['PS Sobel Diam Diam', 'Koungheul']\n"
     ]
    },
    {
     "name": "stderr",
     "output_type": "stream",
     "text": [
      "961it [08:06,  1.98it/s]"
     ]
    },
    {
     "name": "stdout",
     "output_type": "stream",
     "text": [
      "Didn't find with BING or OSM, no bounding box for Google\n",
      "Error getting bounds for: Series([], Name: shapeName, dtype: object)\n",
      "Items: ['PS Sobene', 'Fatick']\n"
     ]
    },
    {
     "name": "stderr",
     "output_type": "stream",
     "text": [
      "962it [08:07,  2.10it/s]"
     ]
    },
    {
     "name": "stdout",
     "output_type": "stream",
     "text": [
      "Didn't find with BING or OSM, no bounding box for Google\n",
      "Error getting bounds for: Series([], Name: shapeName, dtype: object)\n",
      "Items: ['PS Sokano', 'Bambey']\n"
     ]
    },
    {
     "name": "stderr",
     "output_type": "stream",
     "text": [
      "963it [08:07,  1.99it/s]"
     ]
    },
    {
     "name": "stdout",
     "output_type": "stream",
     "text": [
      "Didn't find with BING or OSM, no bounding box for Google\n",
      "Error getting bounds for: Series([], Name: shapeName, dtype: object)\n",
      "Items: ['PS Somone', 'Mbour']\n"
     ]
    },
    {
     "name": "stderr",
     "output_type": "stream",
     "text": [
      "964it [08:08,  2.09it/s]"
     ]
    },
    {
     "name": "stdout",
     "output_type": "stream",
     "text": [
      "Didn't find with BING or OSM, no bounding box for Google\n",
      "Error getting bounds for: Series([], Name: shapeName, dtype: object)\n",
      "Items: ['PS Sor', 'Saint Louis']\n"
     ]
    },
    {
     "name": "stderr",
     "output_type": "stream",
     "text": [
      "965it [08:09,  1.82it/s]"
     ]
    },
    {
     "name": "stdout",
     "output_type": "stream",
     "text": [
      "Didn't find with BING or OSM, no bounding box for Google\n",
      "Error getting bounds for: Series([], Name: shapeName, dtype: object)\n",
      "Items: ['PS Sor Daga', 'Saint Louis']\n"
     ]
    },
    {
     "name": "stderr",
     "output_type": "stream",
     "text": [
      "966it [08:09,  1.87it/s]"
     ]
    },
    {
     "name": "stdout",
     "output_type": "stream",
     "text": [
      "Didn't find with BING or OSM, no bounding box for Google\n",
      "Error getting bounds for: Series([], Name: shapeName, dtype: object)\n",
      "Items: ['PS Soringho', 'Kanel']\n"
     ]
    },
    {
     "name": "stderr",
     "output_type": "stream",
     "text": [
      "967it [08:09,  2.07it/s]"
     ]
    },
    {
     "name": "stdout",
     "output_type": "stream",
     "text": [
      "Didn't find with BING or OSM, no bounding box for Google\n",
      "Error getting bounds for: Series([], Name: shapeName, dtype: object)\n",
      "Items: ['PS Sorocogne', 'Kaffrine']\n"
     ]
    },
    {
     "name": "stderr",
     "output_type": "stream",
     "text": [
      "968it [08:10,  2.07it/s]"
     ]
    },
    {
     "name": "stdout",
     "output_type": "stream",
     "text": [
      "Didn't find with BING or OSM, no bounding box for Google\n",
      "Error getting bounds for: Series([], Name: shapeName, dtype: object)\n",
      "Items: ['PS Soubalo', 'Matam']\n"
     ]
    },
    {
     "name": "stderr",
     "output_type": "stream",
     "text": [
      "969it [08:10,  2.00it/s]"
     ]
    },
    {
     "name": "stdout",
     "output_type": "stream",
     "text": [
      "Didn't find with BING or OSM, no bounding box for Google\n",
      "Error getting bounds for: Series([], Name: shapeName, dtype: object)\n",
      "Items: ['PS soucoupapaye', 'Ziguinchor']\n"
     ]
    },
    {
     "name": "stderr",
     "output_type": "stream",
     "text": [
      "970it [08:11,  2.02it/s]"
     ]
    },
    {
     "name": "stdout",
     "output_type": "stream",
     "text": [
      "Didn't find with BING or OSM, no bounding box for Google\n",
      "Error getting bounds for: Series([], Name: shapeName, dtype: object)\n",
      "Items: ['PS Soucouta', 'Ranerou']\n"
     ]
    },
    {
     "name": "stderr",
     "output_type": "stream",
     "text": [
      "971it [08:11,  1.93it/s]"
     ]
    },
    {
     "name": "stdout",
     "output_type": "stream",
     "text": [
      "Didn't find with BING or OSM, no bounding box for Google\n",
      "Error getting bounds for: Series([], Name: shapeName, dtype: object)\n",
      "Items: ['PS Souda', 'Bignona']\n"
     ]
    },
    {
     "name": "stderr",
     "output_type": "stream",
     "text": [
      "972it [08:12,  2.07it/s]"
     ]
    },
    {
     "name": "stdout",
     "output_type": "stream",
     "text": [
      "Didn't find with BING or OSM, no bounding box for Google\n",
      "Error getting bounds for: Series([], Name: shapeName, dtype: object)\n",
      "Items: ['PS Soum', 'Foundiougne']\n"
     ]
    },
    {
     "name": "stderr",
     "output_type": "stream",
     "text": [
      "973it [08:13,  1.86it/s]"
     ]
    },
    {
     "name": "stdout",
     "output_type": "stream",
     "text": [
      "Didn't find with BING or OSM, no bounding box for Google\n",
      "Error getting bounds for: Series([], Name: shapeName, dtype: object)\n",
      "Items: ['PS Soumacounda', 'Goudomp']\n"
     ]
    },
    {
     "name": "stderr",
     "output_type": "stream",
     "text": [
      "974it [08:13,  2.19it/s]"
     ]
    },
    {
     "name": "stdout",
     "output_type": "stream",
     "text": [
      "Didn't find with BING or OSM, no bounding box for Google\n",
      "Error getting bounds for: Series([], Name: shapeName, dtype: object)\n",
      "Items: ['PS Soumboundou Fogny', 'Bounkiling']\n"
     ]
    },
    {
     "name": "stderr",
     "output_type": "stream",
     "text": [
      "975it [08:13,  2.07it/s]"
     ]
    },
    {
     "name": "stdout",
     "output_type": "stream",
     "text": [
      "Didn't find with BING or OSM, no bounding box for Google\n",
      "Error getting bounds for: Series([], Name: shapeName, dtype: object)\n",
      "Items: ['PS Sowane', 'Fatick']\n"
     ]
    },
    {
     "name": "stderr",
     "output_type": "stream",
     "text": [
      "976it [08:14,  1.99it/s]"
     ]
    },
    {
     "name": "stdout",
     "output_type": "stream",
     "text": [
      "Didn't find with BING or OSM, no bounding box for Google\n",
      "Error getting bounds for: Series([], Name: shapeName, dtype: object)\n",
      "Items: ['PS Sud', 'Saint Louis']\n"
     ]
    },
    {
     "name": "stderr",
     "output_type": "stream",
     "text": [
      "977it [08:15,  1.55it/s]"
     ]
    },
    {
     "name": "stdout",
     "output_type": "stream",
     "text": [
      "Didn't find with BING or OSM, no bounding box for Google\n",
      "Error getting bounds for: Series([], Name: shapeName, dtype: object)\n",
      "Items: ['PS Suelle', 'Bignona']\n"
     ]
    },
    {
     "name": "stderr",
     "output_type": "stream",
     "text": [
      "978it [08:15,  1.80it/s]"
     ]
    },
    {
     "name": "stdout",
     "output_type": "stream",
     "text": [
      "Didn't find with BING or OSM, no bounding box for Google\n",
      "Error getting bounds for: Series([], Name: shapeName, dtype: object)\n",
      "Items: ['PS Syll Serigne Malick', 'Koumpentoum']\n"
     ]
    },
    {
     "name": "stderr",
     "output_type": "stream",
     "text": [
      "979it [08:16,  1.99it/s]"
     ]
    },
    {
     "name": "stdout",
     "output_type": "stream",
     "text": [
      "Didn't find with BING or OSM, no bounding box for Google\n",
      "Error getting bounds for: Series([], Name: shapeName, dtype: object)\n",
      "Items: ['PS Sylla Counda', 'Kedougou']\n"
     ]
    },
    {
     "name": "stderr",
     "output_type": "stream",
     "text": [
      "980it [08:16,  1.86it/s]"
     ]
    },
    {
     "name": "stdout",
     "output_type": "stream",
     "text": [
      "Didn't find with BING or OSM, no bounding box for Google\n",
      "Error getting bounds for: Series([], Name: shapeName, dtype: object)\n",
      "Items: ['PS Syllaya', 'Bounkiling']\n"
     ]
    },
    {
     "name": "stderr",
     "output_type": "stream",
     "text": [
      "981it [08:17,  1.83it/s]"
     ]
    },
    {
     "name": "stdout",
     "output_type": "stream",
     "text": [
      "Didn't find with BING or OSM, no bounding box for Google\n",
      "Error getting bounds for: Series([], Name: shapeName, dtype: object)\n",
      "Items: ['PS Taba Ngoye', 'Kaolack']\n"
     ]
    },
    {
     "name": "stderr",
     "output_type": "stream",
     "text": [
      "982it [08:17,  1.95it/s]"
     ]
    },
    {
     "name": "stdout",
     "output_type": "stream",
     "text": [
      "Didn't find with BING or OSM, no bounding box for Google\n",
      "Error getting bounds for: Series([], Name: shapeName, dtype: object)\n",
      "Items: ['PS Taiba Moutoupha', 'Diourbel']\n"
     ]
    },
    {
     "name": "stderr",
     "output_type": "stream",
     "text": [
      "983it [08:18,  2.11it/s]"
     ]
    },
    {
     "name": "stdout",
     "output_type": "stream",
     "text": [
      "Didn't find with BING or OSM, no bounding box for Google\n",
      "Error getting bounds for: Series([], Name: shapeName, dtype: object)\n",
      "Items: ['PS Taiba Niassene', 'Ranerou']\n"
     ]
    },
    {
     "name": "stderr",
     "output_type": "stream",
     "text": [
      "984it [08:18,  1.99it/s]"
     ]
    },
    {
     "name": "stdout",
     "output_type": "stream",
     "text": [
      "Didn't find with BING or OSM, no bounding box for Google\n",
      "Error getting bounds for: Series([], Name: shapeName, dtype: object)\n",
      "Items: ['PS Taiba Thekene', 'Mbacke']\n"
     ]
    },
    {
     "name": "stderr",
     "output_type": "stream",
     "text": [
      "985it [08:19,  1.96it/s]"
     ]
    },
    {
     "name": "stdout",
     "output_type": "stream",
     "text": [
      "Didn't find with BING or OSM, no bounding box for Google\n",
      "Error getting bounds for: Series([], Name: shapeName, dtype: object)\n",
      "Items: ['PS Taif', 'Mbour']\n"
     ]
    },
    {
     "name": "stderr",
     "output_type": "stream",
     "text": [
      "986it [08:19,  2.07it/s]"
     ]
    },
    {
     "name": "stdout",
     "output_type": "stream",
     "text": [
      "Didn't find with BING or OSM, no bounding box for Google\n",
      "Error getting bounds for: Series([], Name: shapeName, dtype: object)\n",
      "Items: ['PS Taif Thieckene', 'Koungheul']\n"
     ]
    },
    {
     "name": "stderr",
     "output_type": "stream",
     "text": [
      "987it [08:20,  1.98it/s]"
     ]
    },
    {
     "name": "stdout",
     "output_type": "stream",
     "text": [
      "Didn't find with BING or OSM, no bounding box for Google\n",
      "Error getting bounds for: Series([], Name: shapeName, dtype: object)\n",
      "Items: ['PS Takhikao', 'Thies']\n"
     ]
    },
    {
     "name": "stderr",
     "output_type": "stream",
     "text": [
      "988it [08:20,  1.96it/s]"
     ]
    },
    {
     "name": "stdout",
     "output_type": "stream",
     "text": [
      "Didn't find with BING or OSM, no bounding box for Google\n",
      "Error getting bounds for: Series([], Name: shapeName, dtype: object)\n",
      "Items: ['PS Takhoum', 'Mbour']\n"
     ]
    },
    {
     "name": "stderr",
     "output_type": "stream",
     "text": [
      "989it [08:21,  2.07it/s]"
     ]
    },
    {
     "name": "stdout",
     "output_type": "stream",
     "text": [
      "Didn't find with BING or OSM, no bounding box for Google\n",
      "Error getting bounds for: Series([], Name: shapeName, dtype: object)\n",
      "Items: ['PS Tanaff', 'Goudomp']\n"
     ]
    },
    {
     "name": "stderr",
     "output_type": "stream",
     "text": [
      "990it [08:21,  1.91it/s]"
     ]
    },
    {
     "name": "stdout",
     "output_type": "stream",
     "text": [
      "Didn't find with BING or OSM, no bounding box for Google\n",
      "Error getting bounds for: Series([], Name: shapeName, dtype: object)\n",
      "Items: ['PS Tankanto Escale', 'Kolda']\n"
     ]
    },
    {
     "name": "stderr",
     "output_type": "stream",
     "text": [
      "991it [08:22,  2.08it/s]"
     ]
    },
    {
     "name": "stdout",
     "output_type": "stream",
     "text": [
      "Didn't find with BING or OSM, no bounding box for Google\n",
      "Error getting bounds for: Series([], Name: shapeName, dtype: object)\n",
      "Items: ['PS Tankon', 'Bounkiling']\n"
     ]
    },
    {
     "name": "stderr",
     "output_type": "stream",
     "text": [
      "992it [08:22,  1.99it/s]"
     ]
    },
    {
     "name": "stdout",
     "output_type": "stream",
     "text": [
      "Didn't find with BING or OSM, no bounding box for Google\n",
      "Error getting bounds for: Series([], Name: shapeName, dtype: object)\n",
      "Items: ['PS Tassinere', 'Saint Louis']\n"
     ]
    },
    {
     "name": "stderr",
     "output_type": "stream",
     "text": [
      "993it [08:23,  1.91it/s]"
     ]
    },
    {
     "name": "stdout",
     "output_type": "stream",
     "text": [
      "Didn't find with BING or OSM, no bounding box for Google\n",
      "Error getting bounds for: Series([], Name: shapeName, dtype: object)\n",
      "Items: ['PS Tataguine', 'Fatick']\n"
     ]
    },
    {
     "name": "stderr",
     "output_type": "stream",
     "text": [
      "994it [08:23,  2.09it/s]"
     ]
    },
    {
     "name": "stdout",
     "output_type": "stream",
     "text": [
      "Didn't find with BING or OSM, no bounding box for Google\n",
      "Error getting bounds for: Series([], Name: shapeName, dtype: object)\n",
      "Items: ['PS Tatqui', 'Podor']\n"
     ]
    },
    {
     "name": "stderr",
     "output_type": "stream",
     "text": [
      "995it [08:24,  1.89it/s]"
     ]
    },
    {
     "name": "stdout",
     "output_type": "stream",
     "text": [
      "Didn't find with BING or OSM, no bounding box for Google\n",
      "Error getting bounds for: Series([], Name: shapeName, dtype: object)\n",
      "Items: ['PS Tawa Fall', 'Bambey']\n"
     ]
    },
    {
     "name": "stderr",
     "output_type": "stream",
     "text": [
      "996it [08:24,  2.10it/s]"
     ]
    },
    {
     "name": "stdout",
     "output_type": "stream",
     "text": [
      "Didn't find with BING or OSM, no bounding box for Google\n",
      "Error getting bounds for: Series([], Name: shapeName, dtype: object)\n",
      "Items: ['PS Tawa Mboudaye', 'Tivaoune']\n"
     ]
    },
    {
     "name": "stderr",
     "output_type": "stream",
     "text": [
      "997it [08:25,  1.89it/s]"
     ]
    },
    {
     "name": "stdout",
     "output_type": "stream",
     "text": [
      "Didn't find with BING or OSM, no bounding box for Google\n",
      "Error getting bounds for: Series([], Name: shapeName, dtype: object)\n",
      "Items: ['PS Taîba Ndiaye', 'Tivaoune']\n"
     ]
    },
    {
     "name": "stderr",
     "output_type": "stream",
     "text": [
      "998it [08:25,  2.11it/s]"
     ]
    },
    {
     "name": "stdout",
     "output_type": "stream",
     "text": [
      "Didn't find with BING or OSM, no bounding box for Google\n",
      "Error getting bounds for: Series([], Name: shapeName, dtype: object)\n",
      "Items: ['PS Taïba', 'Matam']\n"
     ]
    },
    {
     "name": "stderr",
     "output_type": "stream",
     "text": [
      "999it [08:26,  2.06it/s]"
     ]
    },
    {
     "name": "stdout",
     "output_type": "stream",
     "text": [
      "Didn't find with BING or OSM, no bounding box for Google\n",
      "Error getting bounds for: Series([], Name: shapeName, dtype: object)\n",
      "Items: ['PS Taïf', 'Mbacke']\n"
     ]
    },
    {
     "name": "stderr",
     "output_type": "stream",
     "text": [
      "1000it [08:26,  2.06it/s]"
     ]
    },
    {
     "name": "stdout",
     "output_type": "stream",
     "text": [
      "Didn't find with BING or OSM, no bounding box for Google\n",
      "Error getting bounds for: Series([], Name: shapeName, dtype: object)\n",
      "Items: ['PS Tchiky', 'Guinguineo']\n"
     ]
    },
    {
     "name": "stderr",
     "output_type": "stream",
     "text": [
      "1001it [08:27,  1.98it/s]"
     ]
    },
    {
     "name": "stdout",
     "output_type": "stream",
     "text": [
      "Didn't find with BING or OSM, no bounding box for Google\n",
      "Error getting bounds for: Series([], Name: shapeName, dtype: object)\n",
      "Items: ['PS Tekkinguel', 'Kanel']\n"
     ]
    },
    {
     "name": "stderr",
     "output_type": "stream",
     "text": [
      "1002it [08:27,  1.98it/s]"
     ]
    },
    {
     "name": "stdout",
     "output_type": "stream",
     "text": [
      "Didn't find with BING or OSM, no bounding box for Google\n",
      "Error getting bounds for: Series([], Name: shapeName, dtype: object)\n",
      "Items: ['PS Tendieme', 'Bignona']\n"
     ]
    },
    {
     "name": "stderr",
     "output_type": "stream",
     "text": [
      "1003it [08:28,  1.96it/s]"
     ]
    },
    {
     "name": "stdout",
     "output_type": "stream",
     "text": [
      "Didn't find with BING or OSM, no bounding box for Google\n",
      "Error getting bounds for: Series([], Name: shapeName, dtype: object)\n",
      "Items: ['PS Tendimane', 'Bignona']\n"
     ]
    },
    {
     "name": "stderr",
     "output_type": "stream",
     "text": [
      "1004it [08:28,  2.06it/s]"
     ]
    },
    {
     "name": "stdout",
     "output_type": "stream",
     "text": [
      "Didn't find with BING or OSM, no bounding box for Google\n",
      "Error getting bounds for: Series([], Name: shapeName, dtype: object)\n",
      "Items: ['PS Tendine', 'Bignona']\n"
     ]
    },
    {
     "name": "stderr",
     "output_type": "stream",
     "text": [
      "1005it [08:29,  1.91it/s]"
     ]
    },
    {
     "name": "stdout",
     "output_type": "stream",
     "text": [
      "Didn't find with BING or OSM, no bounding box for Google\n",
      "Error getting bounds for: Series([], Name: shapeName, dtype: object)\n",
      "Items: ['PS Tene Toubab', 'Mbour']\n"
     ]
    },
    {
     "name": "stderr",
     "output_type": "stream",
     "text": [
      "1006it [08:29,  2.07it/s]"
     ]
    },
    {
     "name": "stdout",
     "output_type": "stream",
     "text": [
      "Didn't find with BING or OSM, no bounding box for Google\n",
      "Error getting bounds for: Series([], Name: shapeName, dtype: object)\n",
      "Items: ['PS Tenghory Arrondissement', 'Bignona']\n"
     ]
    },
    {
     "name": "stderr",
     "output_type": "stream",
     "text": [
      "1007it [08:30,  1.92it/s]"
     ]
    },
    {
     "name": "stdout",
     "output_type": "stream",
     "text": [
      "Didn't find with BING or OSM, no bounding box for Google\n",
      "Error getting bounds for: Series([], Name: shapeName, dtype: object)\n",
      "Items: ['PS Tenghory Transgambienne', 'Bignona']\n"
     ]
    },
    {
     "name": "stderr",
     "output_type": "stream",
     "text": [
      "1008it [08:30,  2.12it/s]"
     ]
    },
    {
     "name": "stdout",
     "output_type": "stream",
     "text": [
      "Didn't find with BING or OSM, no bounding box for Google\n",
      "Error getting bounds for: Series([], Name: shapeName, dtype: object)\n",
      "Items: ['PS Tenkoto', 'Kedougou']\n"
     ]
    },
    {
     "name": "stderr",
     "output_type": "stream",
     "text": [
      "1009it [08:31,  2.01it/s]"
     ]
    },
    {
     "name": "stdout",
     "output_type": "stream",
     "text": [
      "Didn't find with BING or OSM, no bounding box for Google\n",
      "Error getting bounds for: Series([], Name: shapeName, dtype: object)\n",
      "Items: ['PS Tessan', 'Tambacounda']\n"
     ]
    },
    {
     "name": "stderr",
     "output_type": "stream",
     "text": [
      "1010it [08:31,  1.98it/s]"
     ]
    },
    {
     "name": "stdout",
     "output_type": "stream",
     "text": [
      "Didn't find with BING or OSM, no bounding box for Google\n",
      "Error getting bounds for: Series([], Name: shapeName, dtype: object)\n",
      "Items: ['PS Tessekere', 'Dakar']\n"
     ]
    },
    {
     "name": "stderr",
     "output_type": "stream",
     "text": [
      "1011it [08:32,  1.98it/s]"
     ]
    },
    {
     "name": "stdout",
     "output_type": "stream",
     "text": [
      "Didn't find with BING or OSM, no bounding box for Google\n",
      "Error getting bounds for: Series([], Name: shapeName, dtype: object)\n",
      "Items: ['PS Thiabedji', 'Kedougou']\n"
     ]
    },
    {
     "name": "stderr",
     "output_type": "stream",
     "text": [
      "1012it [08:32,  1.98it/s]"
     ]
    },
    {
     "name": "stdout",
     "output_type": "stream",
     "text": [
      "Didn't find with BING or OSM, no bounding box for Google\n",
      "Error getting bounds for: Series([], Name: shapeName, dtype: object)\n",
      "Items: ['PS Thiagnaff', 'Kanel']\n"
     ]
    },
    {
     "name": "stderr",
     "output_type": "stream",
     "text": [
      "1013it [08:33,  1.98it/s]"
     ]
    },
    {
     "name": "stdout",
     "output_type": "stream",
     "text": [
      "Didn't find with BING or OSM, no bounding box for Google\n",
      "Error getting bounds for: Series([], Name: shapeName, dtype: object)\n",
      "Items: ['PS Thiago', 'Dagana']\n"
     ]
    },
    {
     "name": "stderr",
     "output_type": "stream",
     "text": [
      "1014it [08:33,  1.88it/s]"
     ]
    },
    {
     "name": "stdout",
     "output_type": "stream",
     "text": [
      "Didn't find with BING or OSM, no bounding box for Google\n",
      "Error getting bounds for: Series([], Name: shapeName, dtype: object)\n",
      "Items: ['PS Thiakhar', 'Bambey']\n"
     ]
    },
    {
     "name": "stderr",
     "output_type": "stream",
     "text": [
      "1015it [08:34,  2.01it/s]"
     ]
    },
    {
     "name": "stdout",
     "output_type": "stream",
     "text": [
      "Didn't find with BING or OSM, no bounding box for Google\n",
      "Error getting bounds for: Series([], Name: shapeName, dtype: object)\n",
      "Items: ['PS Thialaga', 'Podor']\n"
     ]
    },
    {
     "name": "stderr",
     "output_type": "stream",
     "text": [
      "1016it [08:34,  2.03it/s]"
     ]
    },
    {
     "name": "stdout",
     "output_type": "stream",
     "text": [
      "Didn't find with BING or OSM, no bounding box for Google\n",
      "Error getting bounds for: Series([], Name: shapeName, dtype: object)\n",
      "Items: ['PS Thially', 'Kanel']\n"
     ]
    },
    {
     "name": "stderr",
     "output_type": "stream",
     "text": [
      "1017it [08:35,  2.03it/s]"
     ]
    },
    {
     "name": "stdout",
     "output_type": "stream",
     "text": [
      "Didn't find with BING or OSM, no bounding box for Google\n",
      "Error getting bounds for: Series([], Name: shapeName, dtype: object)\n",
      "Items: ['PS Thiangaye', 'Podor']\n"
     ]
    },
    {
     "name": "stderr",
     "output_type": "stream",
     "text": [
      "1018it [08:35,  2.08it/s]"
     ]
    },
    {
     "name": "stdout",
     "output_type": "stream",
     "text": [
      "Didn't find with BING or OSM, no bounding box for Google\n",
      "Error getting bounds for: Series([], Name: shapeName, dtype: object)\n",
      "Items: ['PS Thiankoye', 'Salemata']\n"
     ]
    },
    {
     "name": "stderr",
     "output_type": "stream",
     "text": [
      "1019it [08:36,  1.99it/s]"
     ]
    },
    {
     "name": "stdout",
     "output_type": "stream",
     "text": [
      "Didn't find with BING or OSM, no bounding box for Google\n",
      "Error getting bounds for: Series([], Name: shapeName, dtype: object)\n",
      "Items: ['PS Thiara', 'Goudiry']\n"
     ]
    },
    {
     "name": "stderr",
     "output_type": "stream",
     "text": [
      "1020it [08:36,  1.98it/s]"
     ]
    },
    {
     "name": "stdout",
     "output_type": "stream",
     "text": [
      "Didn't find with BING or OSM, no bounding box for Google\n",
      "Error getting bounds for: Series([], Name: shapeName, dtype: object)\n",
      "Items: ['PS Thiare', 'Tivaoune']\n"
     ]
    },
    {
     "name": "stderr",
     "output_type": "stream",
     "text": [
      "1021it [08:37,  1.91it/s]"
     ]
    },
    {
     "name": "stdout",
     "output_type": "stream",
     "text": [
      "Didn't find with BING or OSM, no bounding box for Google\n",
      "Error getting bounds for: Series([], Name: shapeName, dtype: object)\n",
      "Items: ['PS Thiargny', 'Linguere']\n"
     ]
    },
    {
     "name": "stderr",
     "output_type": "stream",
     "text": [
      "1022it [08:37,  2.03it/s]"
     ]
    },
    {
     "name": "stdout",
     "output_type": "stream",
     "text": [
      "Didn't find with BING or OSM, no bounding box for Google\n",
      "Error getting bounds for: Series([], Name: shapeName, dtype: object)\n",
      "Items: ['PS Thiaroye Azur', 'Mbour']\n"
     ]
    },
    {
     "name": "stderr",
     "output_type": "stream",
     "text": [
      "1023it [08:38,  2.02it/s]"
     ]
    },
    {
     "name": "stdout",
     "output_type": "stream",
     "text": [
      "Didn't find with BING or OSM, no bounding box for Google\n",
      "Error getting bounds for: Series([], Name: shapeName, dtype: object)\n",
      "Items: ['PS Thiaroye Gare', 'Mbour']\n"
     ]
    },
    {
     "name": "stderr",
     "output_type": "stream",
     "text": [
      "1024it [08:38,  2.07it/s]"
     ]
    },
    {
     "name": "stdout",
     "output_type": "stream",
     "text": [
      "Didn't find with BING or OSM, no bounding box for Google\n",
      "Error getting bounds for: Series([], Name: shapeName, dtype: object)\n",
      "Items: ['PS Thiaroye Sur Mer', 'Mbour']\n"
     ]
    },
    {
     "name": "stderr",
     "output_type": "stream",
     "text": [
      "1025it [08:39,  1.86it/s]"
     ]
    },
    {
     "name": "stdout",
     "output_type": "stream",
     "text": [
      "Didn't find with BING or OSM, no bounding box for Google\n",
      "Error getting bounds for: Series([], Name: shapeName, dtype: object)\n",
      "Items: ['PS Thiarra', 'Kolda']\n"
     ]
    },
    {
     "name": "stderr",
     "output_type": "stream",
     "text": [
      "1026it [08:39,  2.07it/s]"
     ]
    },
    {
     "name": "stdout",
     "output_type": "stream",
     "text": [
      "Didn't find with BING or OSM, no bounding box for Google\n",
      "Error getting bounds for: Series([], Name: shapeName, dtype: object)\n",
      "Items: ['PS Thiaréne', 'Matam']\n"
     ]
    },
    {
     "name": "stderr",
     "output_type": "stream",
     "text": [
      "1027it [08:40,  1.98it/s]"
     ]
    },
    {
     "name": "stdout",
     "output_type": "stream",
     "text": [
      "Didn't find with BING or OSM, no bounding box for Google\n",
      "Error getting bounds for: Series([], Name: shapeName, dtype: object)\n",
      "Items: ['PS Thicatt', 'Birkelane']\n"
     ]
    },
    {
     "name": "stderr",
     "output_type": "stream",
     "text": [
      "1028it [08:40,  2.00it/s]"
     ]
    },
    {
     "name": "stdout",
     "output_type": "stream",
     "text": [
      "Didn't find with BING or OSM, no bounding box for Google\n",
      "Error getting bounds for: Series([], Name: shapeName, dtype: object)\n",
      "Items: ['PS Thiel', 'Linguere']\n"
     ]
    },
    {
     "name": "stderr",
     "output_type": "stream",
     "text": [
      "1029it [08:41,  2.02it/s]"
     ]
    },
    {
     "name": "stdout",
     "output_type": "stream",
     "text": [
      "Didn't find with BING or OSM, no bounding box for Google\n",
      "Error getting bounds for: Series([], Name: shapeName, dtype: object)\n",
      "Items: ['PS Thiempeng', 'Kanel']\n"
     ]
    },
    {
     "name": "stderr",
     "output_type": "stream",
     "text": [
      "1030it [08:41,  2.12it/s]"
     ]
    },
    {
     "name": "stdout",
     "output_type": "stream",
     "text": [
      "Didn't find with BING or OSM, no bounding box for Google\n",
      "Error getting bounds for: Series([], Name: shapeName, dtype: object)\n",
      "Items: ['PS Thienaba Gossas', 'Gossas']\n"
     ]
    },
    {
     "name": "stderr",
     "output_type": "stream",
     "text": [
      "1031it [08:42,  2.04it/s]"
     ]
    },
    {
     "name": "stdout",
     "output_type": "stream",
     "text": [
      "Didn't find with BING or OSM, no bounding box for Google\n",
      "Error getting bounds for: Series([], Name: shapeName, dtype: object)\n",
      "Items: ['PS Thieppe', 'Bambey']\n"
     ]
    },
    {
     "name": "stderr",
     "output_type": "stream",
     "text": [
      "1032it [08:42,  1.91it/s]"
     ]
    },
    {
     "name": "stdout",
     "output_type": "stream",
     "text": [
      "Didn't find with BING or OSM, no bounding box for Google\n",
      "Error getting bounds for: Series([], Name: shapeName, dtype: object)\n",
      "Items: ['PS Thies None', 'Thies']\n"
     ]
    },
    {
     "name": "stderr",
     "output_type": "stream",
     "text": [
      "1033it [08:43,  1.85it/s]"
     ]
    },
    {
     "name": "stdout",
     "output_type": "stream",
     "text": [
      "Didn't find with BING or OSM, no bounding box for Google\n",
      "Error getting bounds for: Series([], Name: shapeName, dtype: object)\n",
      "Items: ['PS Thiety', 'Kolda']\n"
     ]
    },
    {
     "name": "stderr",
     "output_type": "stream",
     "text": [
      "1034it [08:43,  2.05it/s]"
     ]
    },
    {
     "name": "stdout",
     "output_type": "stream",
     "text": [
      "Didn't find with BING or OSM, no bounding box for Google\n",
      "Error getting bounds for: Series([], Name: shapeName, dtype: object)\n",
      "Items: ['PS Thiewal Lao', 'Kolda']\n"
     ]
    },
    {
     "name": "stderr",
     "output_type": "stream",
     "text": [
      "1035it [08:44,  1.97it/s]"
     ]
    },
    {
     "name": "stdout",
     "output_type": "stream",
     "text": [
      "Didn't find with BING or OSM, no bounding box for Google\n",
      "Error getting bounds for: Series([], Name: shapeName, dtype: object)\n",
      "Items: ['PS Thieytou', 'Bambey']\n"
     ]
    },
    {
     "name": "stderr",
     "output_type": "stream",
     "text": [
      "1036it [08:44,  1.94it/s]"
     ]
    },
    {
     "name": "stdout",
     "output_type": "stream",
     "text": [
      "Didn't find with BING or OSM, no bounding box for Google\n",
      "Error getting bounds for: Series([], Name: shapeName, dtype: object)\n",
      "Items: ['PS Thila Grand', 'Ranerou']\n"
     ]
    },
    {
     "name": "stderr",
     "output_type": "stream",
     "text": [
      "1037it [08:45,  1.92it/s]"
     ]
    },
    {
     "name": "stdout",
     "output_type": "stream",
     "text": [
      "Didn't find with BING or OSM, no bounding box for Google\n",
      "Error getting bounds for: Series([], Name: shapeName, dtype: object)\n",
      "Items: ['PS Thiobe', 'Diourbel']\n"
     ]
    },
    {
     "name": "stderr",
     "output_type": "stream",
     "text": [
      "1038it [08:45,  2.09it/s]"
     ]
    },
    {
     "name": "stdout",
     "output_type": "stream",
     "text": [
      "Didn't find with BING or OSM, no bounding box for Google\n",
      "Error getting bounds for: Series([], Name: shapeName, dtype: object)\n",
      "Items: ['PS Thioffac', 'Kaolack']\n"
     ]
    },
    {
     "name": "stderr",
     "output_type": "stream",
     "text": [
      "1039it [08:46,  2.10it/s]"
     ]
    },
    {
     "name": "stdout",
     "output_type": "stream",
     "text": [
      "Didn't find with BING or OSM, no bounding box for Google\n",
      "Error getting bounds for: Series([], Name: shapeName, dtype: object)\n",
      "Items: ['PS Thiolom', 'Kebemer']\n"
     ]
    },
    {
     "name": "stderr",
     "output_type": "stream",
     "text": [
      "1040it [08:46,  2.09it/s]"
     ]
    },
    {
     "name": "stdout",
     "output_type": "stream",
     "text": [
      "Didn't find with BING or OSM, no bounding box for Google\n",
      "Error getting bounds for: Series([], Name: shapeName, dtype: object)\n",
      "Items: ['PS Thiomby', 'Kaolack']\n"
     ]
    },
    {
     "name": "stderr",
     "output_type": "stream",
     "text": [
      "1041it [08:47,  1.89it/s]"
     ]
    },
    {
     "name": "stdout",
     "output_type": "stream",
     "text": [
      "Didn't find with BING or OSM, no bounding box for Google\n",
      "Error getting bounds for: Series([], Name: shapeName, dtype: object)\n",
      "Items: ['PS Thionokh', 'Ranerou']\n"
     ]
    },
    {
     "name": "stderr",
     "output_type": "stream",
     "text": [
      "1042it [08:47,  2.15it/s]"
     ]
    },
    {
     "name": "stdout",
     "output_type": "stream",
     "text": [
      "Didn't find with BING or OSM, no bounding box for Google\n",
      "Error getting bounds for: Series([], Name: shapeName, dtype: object)\n",
      "Items: ['PS Thioubalel', 'Podor']\n"
     ]
    },
    {
     "name": "stderr",
     "output_type": "stream",
     "text": [
      "1043it [08:48,  2.03it/s]"
     ]
    },
    {
     "name": "stdout",
     "output_type": "stream",
     "text": [
      "Didn't find with BING or OSM, no bounding box for Google\n",
      "Error getting bounds for: Series([], Name: shapeName, dtype: object)\n",
      "Items: ['PS Tiguéré', 'Matam']\n"
     ]
    },
    {
     "name": "stderr",
     "output_type": "stream",
     "text": [
      "1044it [08:48,  1.86it/s]"
     ]
    },
    {
     "name": "stdout",
     "output_type": "stream",
     "text": [
      "Didn't find with BING or OSM, no bounding box for Google\n",
      "Error getting bounds for: Series([], Name: shapeName, dtype: object)\n",
      "Items: ['PS Tip Saloum', 'Malem Hodar']\n"
     ]
    },
    {
     "name": "stderr",
     "output_type": "stream",
     "text": [
      "1045it [08:49,  2.09it/s]"
     ]
    },
    {
     "name": "stdout",
     "output_type": "stream",
     "text": [
      "Didn't find with BING or OSM, no bounding box for Google\n",
      "Error getting bounds for: Series([], Name: shapeName, dtype: object)\n",
      "Items: ['PS Tobor', 'Bignona']\n"
     ]
    },
    {
     "name": "stderr",
     "output_type": "stream",
     "text": [
      "1046it [08:49,  1.98it/s]"
     ]
    },
    {
     "name": "stdout",
     "output_type": "stream",
     "text": [
      "Didn't find with BING or OSM, no bounding box for Google\n",
      "Error getting bounds for: Series([], Name: shapeName, dtype: object)\n",
      "Items: ['PS Tocky Gare', 'Diourbel']\n"
     ]
    },
    {
     "name": "stderr",
     "output_type": "stream",
     "text": [
      "1047it [08:50,  2.08it/s]"
     ]
    },
    {
     "name": "stdout",
     "output_type": "stream",
     "text": [
      "Didn't find with BING or OSM, no bounding box for Google\n",
      "Error getting bounds for: Series([], Name: shapeName, dtype: object)\n",
      "Items: ['PS Tomboronkoto', 'Kedougou']\n"
     ]
    },
    {
     "name": "stderr",
     "output_type": "stream",
     "text": [
      "1048it [08:50,  2.05it/s]"
     ]
    },
    {
     "name": "stdout",
     "output_type": "stream",
     "text": [
      "Didn't find with BING or OSM, no bounding box for Google\n",
      "Error getting bounds for: Series([], Name: shapeName, dtype: object)\n",
      "Items: ['PS Touba Alia', 'Koungheul']\n"
     ]
    },
    {
     "name": "stderr",
     "output_type": "stream",
     "text": [
      "1049it [08:51,  1.96it/s]"
     ]
    },
    {
     "name": "stdout",
     "output_type": "stream",
     "text": [
      "Didn't find with BING or OSM, no bounding box for Google\n",
      "Error getting bounds for: Series([], Name: shapeName, dtype: object)\n",
      "Items: ['PS Touba Boustane', 'Dakar']\n"
     ]
    },
    {
     "name": "stderr",
     "output_type": "stream",
     "text": [
      "1050it [08:51,  1.98it/s]"
     ]
    },
    {
     "name": "stdout",
     "output_type": "stream",
     "text": [
      "Didn't find with BING or OSM, no bounding box for Google\n",
      "Error getting bounds for: Series([], Name: shapeName, dtype: object)\n",
      "Items: ['PS Touba Darou Salame', 'Louga']\n"
     ]
    },
    {
     "name": "stderr",
     "output_type": "stream",
     "text": [
      "1051it [08:52,  1.88it/s]"
     ]
    },
    {
     "name": "stdout",
     "output_type": "stream",
     "text": [
      "Didn't find with BING or OSM, no bounding box for Google\n",
      "Error getting bounds for: Series([], Name: shapeName, dtype: object)\n",
      "Items: ['PS Touba Diack Sao', 'Pikine']\n"
     ]
    },
    {
     "name": "stderr",
     "output_type": "stream",
     "text": [
      "1052it [08:52,  2.03it/s]"
     ]
    },
    {
     "name": "stdout",
     "output_type": "stream",
     "text": [
      "Didn't find with BING or OSM, no bounding box for Google\n",
      "Error getting bounds for: Series([], Name: shapeName, dtype: object)\n",
      "Items: ['PS Touba Fall', 'Tivaoune']\n"
     ]
    },
    {
     "name": "stderr",
     "output_type": "stream",
     "text": [
      "1053it [08:53,  2.05it/s]"
     ]
    },
    {
     "name": "stdout",
     "output_type": "stream",
     "text": [
      "Didn't find with BING or OSM, no bounding box for Google\n",
      "Error getting bounds for: Series([], Name: shapeName, dtype: object)\n",
      "Items: ['PS Touba Kane Gassane', 'Linguere']\n"
     ]
    },
    {
     "name": "stderr",
     "output_type": "stream",
     "text": [
      "1054it [08:53,  2.01it/s]"
     ]
    },
    {
     "name": "stdout",
     "output_type": "stream",
     "text": [
      "Didn't find with BING or OSM, no bounding box for Google\n",
      "Error getting bounds for: Series([], Name: shapeName, dtype: object)\n",
      "Items: ['PS Touba Linguére', 'Linguere']\n"
     ]
    },
    {
     "name": "stderr",
     "output_type": "stream",
     "text": [
      "1055it [08:54,  1.89it/s]"
     ]
    },
    {
     "name": "stdout",
     "output_type": "stream",
     "text": [
      "Didn't find with BING or OSM, no bounding box for Google\n",
      "Error getting bounds for: Series([], Name: shapeName, dtype: object)\n",
      "Items: ['PS Touba Mbela', 'Birkelane']\n"
     ]
    },
    {
     "name": "stderr",
     "output_type": "stream",
     "text": [
      "1056it [08:54,  2.11it/s]"
     ]
    },
    {
     "name": "stdout",
     "output_type": "stream",
     "text": [
      "Didn't find with BING or OSM, no bounding box for Google\n",
      "Error getting bounds for: Series([], Name: shapeName, dtype: object)\n",
      "Items: ['PS Touba Mboul Kael', 'Mbacke']\n"
     ]
    },
    {
     "name": "stderr",
     "output_type": "stream",
     "text": [
      "1057it [08:55,  1.95it/s]"
     ]
    },
    {
     "name": "stdout",
     "output_type": "stream",
     "text": [
      "Didn't find with BING or OSM, no bounding box for Google\n",
      "Error getting bounds for: Series([], Name: shapeName, dtype: object)\n",
      "Items: ['PS Touba Médinatoul', 'Malem Hodar']\n"
     ]
    },
    {
     "name": "stderr",
     "output_type": "stream",
     "text": [
      "1058it [08:55,  1.94it/s]"
     ]
    },
    {
     "name": "stdout",
     "output_type": "stream",
     "text": [
      "Didn't find with BING or OSM, no bounding box for Google\n",
      "Error getting bounds for: Series([], Name: shapeName, dtype: object)\n",
      "Items: ['PS Touba Ngueyene', 'Malem Hodar']\n"
     ]
    },
    {
     "name": "stderr",
     "output_type": "stream",
     "text": [
      "1059it [08:56,  2.11it/s]"
     ]
    },
    {
     "name": "stdout",
     "output_type": "stream",
     "text": [
      "Didn't find with BING or OSM, no bounding box for Google\n",
      "Error getting bounds for: Series([], Name: shapeName, dtype: object)\n",
      "Items: ['PS Touba Seras', 'Louga']\n"
     ]
    },
    {
     "name": "stderr",
     "output_type": "stream",
     "text": [
      "1060it [08:56,  2.01it/s]"
     ]
    },
    {
     "name": "stdout",
     "output_type": "stream",
     "text": [
      "Didn't find with BING or OSM, no bounding box for Google\n",
      "Error getting bounds for: Series([], Name: shapeName, dtype: object)\n",
      "Items: ['PS Touba Thieckene', 'Medina Yoroufoula']\n"
     ]
    },
    {
     "name": "stderr",
     "output_type": "stream",
     "text": [
      "1061it [08:57,  2.01it/s]"
     ]
    },
    {
     "name": "stdout",
     "output_type": "stream",
     "text": [
      "Didn't find with BING or OSM, no bounding box for Google\n",
      "Error getting bounds for: Series([], Name: shapeName, dtype: object)\n",
      "Items: ['PS Toubacouta', 'Ziguinchor']\n"
     ]
    },
    {
     "name": "stderr",
     "output_type": "stream",
     "text": [
      "1062it [08:57,  1.95it/s]"
     ]
    },
    {
     "name": "stdout",
     "output_type": "stream",
     "text": [
      "Didn't find with BING or OSM, no bounding box for Google\n",
      "Error getting bounds for: Series([], Name: shapeName, dtype: object)\n",
      "Items: ['PS Toulde Galle', 'Podor']\n"
     ]
    },
    {
     "name": "stderr",
     "output_type": "stream",
     "text": [
      "1063it [08:58,  1.90it/s]"
     ]
    },
    {
     "name": "stdout",
     "output_type": "stream",
     "text": [
      "Didn't find with BING or OSM, no bounding box for Google\n",
      "Error getting bounds for: Series([], Name: shapeName, dtype: object)\n",
      "Items: ['PS Toumounguel', 'Goudiry']\n"
     ]
    },
    {
     "name": "stderr",
     "output_type": "stream",
     "text": [
      "1064it [08:59,  1.56it/s]"
     ]
    },
    {
     "name": "stdout",
     "output_type": "stream",
     "text": [
      "Didn't find with BING or OSM, no bounding box for Google\n",
      "Error getting bounds for: Series([], Name: shapeName, dtype: object)\n",
      "Items: ['PS Toure Mbonde', 'Diourbel']\n"
     ]
    },
    {
     "name": "stderr",
     "output_type": "stream",
     "text": [
      "1065it [09:00,  1.28it/s]"
     ]
    },
    {
     "name": "stdout",
     "output_type": "stream",
     "text": [
      "Didn't find with BING or OSM, no bounding box for Google\n",
      "Error getting bounds for: Series([], Name: shapeName, dtype: object)\n",
      "Items: ['PS Tourecounda', 'Sedhiou']\n"
     ]
    },
    {
     "name": "stderr",
     "output_type": "stream",
     "text": [
      "1066it [09:01,  1.28it/s]"
     ]
    },
    {
     "name": "stdout",
     "output_type": "stream",
     "text": [
      "Didn't find with BING or OSM, no bounding box for Google\n",
      "Error getting bounds for: Series([], Name: shapeName, dtype: object)\n",
      "Items: ['PS Tourime', 'Bakel']\n"
     ]
    },
    {
     "name": "stderr",
     "output_type": "stream",
     "text": [
      "1067it [09:01,  1.44it/s]"
     ]
    },
    {
     "name": "stdout",
     "output_type": "stream",
     "text": [
      "Didn't find with BING or OSM, no bounding box for Google\n",
      "Error getting bounds for: Series([], Name: shapeName, dtype: object)\n",
      "Items: ['PS Travaux Dendoudy', 'Matam']\n"
     ]
    },
    {
     "name": "stderr",
     "output_type": "stream",
     "text": [
      "1068it [09:01,  1.78it/s]"
     ]
    },
    {
     "name": "stdout",
     "output_type": "stream",
     "text": [
      "Didn't find with BING or OSM, no bounding box for Google\n",
      "Error getting bounds for: Series([], Name: shapeName, dtype: object)\n",
      "Items: ['PS Trypano', 'Mbour']\n"
     ]
    },
    {
     "name": "stderr",
     "output_type": "stream",
     "text": [
      "1069it [09:02,  1.77it/s]"
     ]
    },
    {
     "name": "stdout",
     "output_type": "stream",
     "text": [
      "Didn't find with BING or OSM, no bounding box for Google\n",
      "Error getting bounds for: Series([], Name: shapeName, dtype: object)\n",
      "Items: ['PS Tuabou', 'Bakel']\n"
     ]
    },
    {
     "name": "stderr",
     "output_type": "stream",
     "text": [
      "1070it [09:02,  1.88it/s]"
     ]
    },
    {
     "name": "stdout",
     "output_type": "stream",
     "text": [
      "Didn't find with BING or OSM, no bounding box for Google\n",
      "Error getting bounds for: Series([], Name: shapeName, dtype: object)\n",
      "Items: ['PS Typ', 'Mbacke']\n"
     ]
    },
    {
     "name": "stderr",
     "output_type": "stream",
     "text": [
      "1071it [09:03,  1.84it/s]"
     ]
    },
    {
     "name": "stdout",
     "output_type": "stream",
     "text": [
      "Didn't find with BING or OSM, no bounding box for Google\n",
      "Error getting bounds for: Series([], Name: shapeName, dtype: object)\n",
      "Items: ['PS Urbain', 'Koungheul']\n"
     ]
    },
    {
     "name": "stderr",
     "output_type": "stream",
     "text": [
      "1072it [09:03,  1.88it/s]"
     ]
    },
    {
     "name": "stdout",
     "output_type": "stream",
     "text": [
      "Didn't find with BING or OSM, no bounding box for Google\n",
      "Error getting bounds for: Series([], Name: shapeName, dtype: object)\n",
      "Items: ['PS Urbain 2', 'Koungheul']\n"
     ]
    },
    {
     "name": "stderr",
     "output_type": "stream",
     "text": [
      "1073it [09:04,  1.86it/s]"
     ]
    },
    {
     "name": "stdout",
     "output_type": "stream",
     "text": [
      "Didn't find with BING or OSM, no bounding box for Google\n",
      "Error getting bounds for: Series([], Name: shapeName, dtype: object)\n",
      "Items: ['PS Urbain Bakel', 'Bakel']\n"
     ]
    },
    {
     "name": "stderr",
     "output_type": "stream",
     "text": [
      "1074it [09:04,  2.07it/s]"
     ]
    },
    {
     "name": "stdout",
     "output_type": "stream",
     "text": [
      "Didn't find with BING or OSM, no bounding box for Google\n",
      "Error getting bounds for: Series([], Name: shapeName, dtype: object)\n",
      "Items: ['PS Varedo', 'Mbour']\n"
     ]
    },
    {
     "name": "stderr",
     "output_type": "stream",
     "text": [
      "1075it [09:05,  1.93it/s]"
     ]
    },
    {
     "name": "stdout",
     "output_type": "stream",
     "text": [
      "Didn't find with BING or OSM, no bounding box for Google\n",
      "Error getting bounds for: Series([], Name: shapeName, dtype: object)\n",
      "Items: ['PS Velingara Ferlo', 'Ranerou']\n"
     ]
    },
    {
     "name": "stderr",
     "output_type": "stream",
     "text": [
      "1076it [09:05,  2.01it/s]"
     ]
    },
    {
     "name": "stdout",
     "output_type": "stream",
     "text": [
      "Didn't find with BING or OSM, no bounding box for Google\n",
      "Error getting bounds for: Series([], Name: shapeName, dtype: object)\n",
      "Items: ['PS Velingara Koto', 'Koumpentoum']\n"
     ]
    },
    {
     "name": "stderr",
     "output_type": "stream",
     "text": [
      "1077it [09:06,  2.02it/s]"
     ]
    },
    {
     "name": "stdout",
     "output_type": "stream",
     "text": [
      "Didn't find with BING or OSM, no bounding box for Google\n",
      "Error getting bounds for: Series([], Name: shapeName, dtype: object)\n",
      "Items: ['PS Walalane', 'Diourbel']\n"
     ]
    },
    {
     "name": "stderr",
     "output_type": "stream",
     "text": [
      "1078it [09:06,  1.98it/s]"
     ]
    },
    {
     "name": "stdout",
     "output_type": "stream",
     "text": [
      "Didn't find with BING or OSM, no bounding box for Google\n",
      "Error getting bounds for: Series([], Name: shapeName, dtype: object)\n",
      "Items: ['PS Walalde', 'Podor']\n"
     ]
    },
    {
     "name": "stderr",
     "output_type": "stream",
     "text": [
      "1079it [09:07,  1.85it/s]"
     ]
    },
    {
     "name": "stdout",
     "output_type": "stream",
     "text": [
      "Didn't find with BING or OSM, no bounding box for Google\n",
      "Error getting bounds for: Series([], Name: shapeName, dtype: object)\n",
      "Items: ['PS Walo', 'Guinguineo']\n"
     ]
    },
    {
     "name": "stderr",
     "output_type": "stream",
     "text": [
      "1080it [09:07,  2.13it/s]"
     ]
    },
    {
     "name": "stdout",
     "output_type": "stream",
     "text": [
      "Didn't find with BING or OSM, no bounding box for Google\n",
      "Error getting bounds for: Series([], Name: shapeName, dtype: object)\n",
      "Items: ['PS Waly Babacar', 'Goudiry']\n"
     ]
    },
    {
     "name": "stderr",
     "output_type": "stream",
     "text": [
      "1081it [09:08,  2.09it/s]"
     ]
    },
    {
     "name": "stdout",
     "output_type": "stream",
     "text": [
      "Didn't find with BING or OSM, no bounding box for Google\n",
      "Error getting bounds for: Series([], Name: shapeName, dtype: object)\n",
      "Items: ['PS Warang', 'Mbour']\n"
     ]
    },
    {
     "name": "stderr",
     "output_type": "stream",
     "text": [
      "1082it [09:08,  2.06it/s]"
     ]
    },
    {
     "name": "stdout",
     "output_type": "stream",
     "text": [
      "Didn't find with BING or OSM, no bounding box for Google\n",
      "Error getting bounds for: Series([], Name: shapeName, dtype: object)\n",
      "Items: ['PS Wardiakhal', 'Guinguineo']\n"
     ]
    },
    {
     "name": "stderr",
     "output_type": "stream",
     "text": [
      "1083it [09:09,  2.04it/s]"
     ]
    },
    {
     "name": "stdout",
     "output_type": "stream",
     "text": [
      "Didn't find with BING or OSM, no bounding box for Google\n",
      "Error getting bounds for: Series([], Name: shapeName, dtype: object)\n",
      "Items: ['PS Warkhokh', 'Linguere']\n"
     ]
    },
    {
     "name": "stderr",
     "output_type": "stream",
     "text": [
      "1084it [09:09,  2.03it/s]"
     ]
    },
    {
     "name": "stdout",
     "output_type": "stream",
     "text": [
      "Didn't find with BING or OSM, no bounding box for Google\n",
      "Error getting bounds for: Series([], Name: shapeName, dtype: object)\n",
      "Items: ['PS Wassangaran', 'Saraya']\n"
     ]
    },
    {
     "name": "stderr",
     "output_type": "stream",
     "text": [
      "1085it [09:10,  2.07it/s]"
     ]
    },
    {
     "name": "stdout",
     "output_type": "stream",
     "text": [
      "Didn't find with BING or OSM, no bounding box for Google\n",
      "Error getting bounds for: Series([], Name: shapeName, dtype: object)\n",
      "Items: ['PS Wendaye', 'Oussouye']\n"
     ]
    },
    {
     "name": "stderr",
     "output_type": "stream",
     "text": [
      "1086it [09:10,  2.04it/s]"
     ]
    },
    {
     "name": "stdout",
     "output_type": "stream",
     "text": [
      "Didn't find with BING or OSM, no bounding box for Google\n",
      "Error getting bounds for: Series([], Name: shapeName, dtype: object)\n",
      "Items: ['PS Wendou Bosseabe', 'Kanel']\n"
     ]
    },
    {
     "name": "stderr",
     "output_type": "stream",
     "text": [
      "1087it [09:11,  1.86it/s]"
     ]
    },
    {
     "name": "stdout",
     "output_type": "stream",
     "text": [
      "Didn't find with BING or OSM, no bounding box for Google\n",
      "Error getting bounds for: Series([], Name: shapeName, dtype: object)\n",
      "Items: ['PS Weynde', 'Birkelane']\n"
     ]
    },
    {
     "name": "stderr",
     "output_type": "stream",
     "text": [
      "1088it [09:11,  2.03it/s]"
     ]
    },
    {
     "name": "stdout",
     "output_type": "stream",
     "text": [
      "Didn't find with BING or OSM, no bounding box for Google\n",
      "Error getting bounds for: Series([], Name: shapeName, dtype: object)\n",
      "Items: ['PS Widou', 'Dakar']\n"
     ]
    },
    {
     "name": "stderr",
     "output_type": "stream",
     "text": [
      "1089it [09:12,  2.01it/s]"
     ]
    },
    {
     "name": "stdout",
     "output_type": "stream",
     "text": [
      "Didn't find with BING or OSM, no bounding box for Google\n",
      "Error getting bounds for: Series([], Name: shapeName, dtype: object)\n",
      "Items: ['PS Woudourou', 'Matam']\n"
     ]
    },
    {
     "name": "stderr",
     "output_type": "stream",
     "text": [
      "1090it [09:12,  2.02it/s]"
     ]
    },
    {
     "name": "stdout",
     "output_type": "stream",
     "text": [
      "Didn't find with BING or OSM, no bounding box for Google\n",
      "Error getting bounds for: Series([], Name: shapeName, dtype: object)\n",
      "Items: ['PS Wourosidi', 'Kanel']\n"
     ]
    },
    {
     "name": "stderr",
     "output_type": "stream",
     "text": [
      "1091it [09:13,  2.08it/s]"
     ]
    },
    {
     "name": "stdout",
     "output_type": "stream",
     "text": [
      "Didn't find with BING or OSM, no bounding box for Google\n",
      "Error getting bounds for: Series([], Name: shapeName, dtype: object)\n",
      "Items: ['PS Yacine Lacké', 'Kanel']\n"
     ]
    },
    {
     "name": "stderr",
     "output_type": "stream",
     "text": [
      "1092it [09:13,  1.91it/s]"
     ]
    },
    {
     "name": "stdout",
     "output_type": "stream",
     "text": [
      "Didn't find with BING or OSM, no bounding box for Google\n",
      "Error getting bounds for: Series([], Name: shapeName, dtype: object)\n",
      "Items: ['PS Yaféra', 'Bakel']\n"
     ]
    },
    {
     "name": "stderr",
     "output_type": "stream",
     "text": [
      "1093it [09:14,  1.91it/s]"
     ]
    },
    {
     "name": "stdout",
     "output_type": "stream",
     "text": [
      "Didn't find with BING or OSM, no bounding box for Google\n",
      "Error getting bounds for: Series([], Name: shapeName, dtype: object)\n",
      "Items: ['PS Yang Yang', 'Dakar']\n"
     ]
    },
    {
     "name": "stderr",
     "output_type": "stream",
     "text": [
      "1094it [09:14,  1.88it/s]"
     ]
    },
    {
     "name": "stdout",
     "output_type": "stream",
     "text": [
      "Didn't find with BING or OSM, no bounding box for Google\n",
      "Error getting bounds for: Series([], Name: shapeName, dtype: object)\n",
      "Items: ['PS Yare Lao', 'Podor']\n"
     ]
    },
    {
     "name": "stderr",
     "output_type": "stream",
     "text": [
      "1095it [09:15,  2.10it/s]"
     ]
    },
    {
     "name": "stdout",
     "output_type": "stream",
     "text": [
      "Didn't find with BING or OSM, no bounding box for Google\n",
      "Error getting bounds for: Series([], Name: shapeName, dtype: object)\n",
      "Items: ['PS Yargouye', 'Gossas']\n"
     ]
    },
    {
     "name": "stderr",
     "output_type": "stream",
     "text": [
      "1096it [09:15,  1.91it/s]"
     ]
    },
    {
     "name": "stdout",
     "output_type": "stream",
     "text": [
      "Didn't find with BING or OSM, no bounding box for Google\n",
      "Error getting bounds for: Series([], Name: shapeName, dtype: object)\n",
      "Items: ['PS Yenne', 'Tambacounda']\n"
     ]
    },
    {
     "name": "stderr",
     "output_type": "stream",
     "text": [
      "1097it [09:16,  2.03it/s]"
     ]
    },
    {
     "name": "stdout",
     "output_type": "stream",
     "text": [
      "Didn't find with BING or OSM, no bounding box for Google\n",
      "Error getting bounds for: Series([], Name: shapeName, dtype: object)\n",
      "Items: ['PS Yermande', 'Louga']\n"
     ]
    },
    {
     "name": "stderr",
     "output_type": "stream",
     "text": [
      "1098it [09:16,  1.93it/s]"
     ]
    },
    {
     "name": "stdout",
     "output_type": "stream",
     "text": [
      "Didn't find with BING or OSM, no bounding box for Google\n",
      "Error getting bounds for: Series([], Name: shapeName, dtype: object)\n",
      "Items: ['PS Younoufere', 'Ranerou']\n"
     ]
    },
    {
     "name": "stderr",
     "output_type": "stream",
     "text": [
      "1099it [09:17,  1.98it/s]"
     ]
    },
    {
     "name": "stdout",
     "output_type": "stream",
     "text": [
      "Didn't find with BING or OSM, no bounding box for Google\n",
      "Error getting bounds for: Series([], Name: shapeName, dtype: object)\n",
      "Items: ['PS Youtou', 'Oussouye']\n"
     ]
    },
    {
     "name": "stderr",
     "output_type": "stream",
     "text": [
      "1100it [09:17,  2.12it/s]"
     ]
    },
    {
     "name": "stdout",
     "output_type": "stream",
     "text": [
      "Didn't find with BING or OSM, no bounding box for Google\n",
      "Error getting bounds for: Series([], Name: shapeName, dtype: object)\n",
      "Items: ['PS Zone lycée', 'Kolda']\n"
     ]
    },
    {
     "name": "stderr",
     "output_type": "stream",
     "text": [
      "1101it [09:18,  2.06it/s]"
     ]
    },
    {
     "name": "stdout",
     "output_type": "stream",
     "text": [
      "Didn't find with BING or OSM, no bounding box for Google\n",
      "Error getting bounds for: Series([], Name: shapeName, dtype: object)\n",
      "Items: ['Sinthiou Bocar Aly Kandar', 'Goudiry']\n"
     ]
    },
    {
     "name": "stderr",
     "output_type": "stream",
     "text": [
      "1102it [09:18,  1.99it/s]"
     ]
    },
    {
     "name": "stdout",
     "output_type": "stream",
     "text": [
      "Didn't find with BING or OSM, no bounding box for Google\n",
      "Error getting bounds for: Series([], Name: shapeName, dtype: object)\n",
      "Items: ['\\xa0PS Randoulene', 'Thies']\n"
     ]
    },
    {
     "name": "stderr",
     "output_type": "stream",
     "text": [
      "1103it [09:19,  2.00it/s]"
     ]
    },
    {
     "name": "stdout",
     "output_type": "stream",
     "text": [
      "Didn't find with BING or OSM, no bounding box for Google\n",
      "Error getting bounds for: Series([], Name: shapeName, dtype: object)\n",
      "Items: ['DPC de Tilene', 'Ziguinchor']\n"
     ]
    },
    {
     "name": "stderr",
     "output_type": "stream",
     "text": [
      "1104it [09:19,  1.98it/s]"
     ]
    },
    {
     "name": "stdout",
     "output_type": "stream",
     "text": [
      "Didn't find with BING or OSM, no bounding box for Google\n",
      "Error getting bounds for: Series([], Name: shapeName, dtype: object)\n",
      "Items: ['DPC Khoudia Diene', 'Tivaoune']\n"
     ]
    },
    {
     "name": "stderr",
     "output_type": "stream",
     "text": [
      "1105it [09:20,  1.95it/s]"
     ]
    },
    {
     "name": "stdout",
     "output_type": "stream",
     "text": [
      "Didn't find with BING or OSM, no bounding box for Google\n",
      "Error getting bounds for: Series([], Name: shapeName, dtype: object)\n",
      "Items: ['DPC Mboro', 'Tivaoune']\n"
     ]
    },
    {
     "name": "stderr",
     "output_type": "stream",
     "text": [
      "1106it [09:20,  2.09it/s]"
     ]
    },
    {
     "name": "stdout",
     "output_type": "stream",
     "text": [
      "Didn't find with BING or OSM, no bounding box for Google\n",
      "Error getting bounds for: Series([], Name: shapeName, dtype: object)\n",
      "Items: ['DPC Notre Dame de la Paix', 'Mbour']\n"
     ]
    },
    {
     "name": "stderr",
     "output_type": "stream",
     "text": [
      "1107it [09:21,  1.83it/s]"
     ]
    },
    {
     "name": "stdout",
     "output_type": "stream",
     "text": [
      "Didn't find with BING or OSM, no bounding box for Google\n",
      "Error getting bounds for: Series([], Name: shapeName, dtype: object)\n",
      "Items: ['Mission Catholique (Cren)', 'Kolda']\n"
     ]
    },
    {
     "name": "stderr",
     "output_type": "stream",
     "text": [
      "1108it [09:21,  2.11it/s]"
     ]
    },
    {
     "name": "stdout",
     "output_type": "stream",
     "text": [
      "Didn't find with BING or OSM, no bounding box for Google\n",
      "Error getting bounds for: Series([], Name: shapeName, dtype: object)\n",
      "Items: ['PS Artillerie', 'Louga']\n"
     ]
    },
    {
     "name": "stderr",
     "output_type": "stream",
     "text": [
      "1109it [09:22,  2.06it/s]"
     ]
    },
    {
     "name": "stdout",
     "output_type": "stream",
     "text": [
      "Didn't find with BING or OSM, no bounding box for Google\n",
      "Error getting bounds for: Series([], Name: shapeName, dtype: object)\n",
      "Items: ['PS Bargny Guedji', 'Tambacounda']\n"
     ]
    },
    {
     "name": "stderr",
     "output_type": "stream",
     "text": [
      "1110it [09:22,  2.09it/s]"
     ]
    },
    {
     "name": "stdout",
     "output_type": "stream",
     "text": [
      "Didn't find with BING or OSM, no bounding box for Google\n",
      "Error getting bounds for: Series([], Name: shapeName, dtype: object)\n",
      "Items: ['PS Bethesda', 'Ziguinchor']\n"
     ]
    },
    {
     "name": "stderr",
     "output_type": "stream",
     "text": [
      "1111it [09:23,  1.98it/s]"
     ]
    },
    {
     "name": "stdout",
     "output_type": "stream",
     "text": [
      "Didn't find with BING or OSM, no bounding box for Google\n",
      "Error getting bounds for: Series([], Name: shapeName, dtype: object)\n",
      "Items: ['PS Dedji', 'Bakel']\n"
     ]
    },
    {
     "name": "stderr",
     "output_type": "stream",
     "text": [
      "1112it [09:23,  2.01it/s]"
     ]
    },
    {
     "name": "stdout",
     "output_type": "stream",
     "text": [
      "Didn't find with BING or OSM, no bounding box for Google\n",
      "Error getting bounds for: Series([], Name: shapeName, dtype: object)\n",
      "Items: ['PS Depot', 'Tambacounda']\n"
     ]
    },
    {
     "name": "stderr",
     "output_type": "stream",
     "text": [
      "1113it [09:24,  1.95it/s]"
     ]
    },
    {
     "name": "stdout",
     "output_type": "stream",
     "text": [
      "Didn't find with BING or OSM, no bounding box for Google\n",
      "Error getting bounds for: Series([], Name: shapeName, dtype: object)\n",
      "Items: ['PS Emile Badiane', 'Ziguinchor']\n"
     ]
    },
    {
     "name": "stderr",
     "output_type": "stream",
     "text": [
      "1114it [09:24,  2.09it/s]"
     ]
    },
    {
     "name": "stdout",
     "output_type": "stream",
     "text": [
      "Didn't find with BING or OSM, no bounding box for Google\n",
      "Error getting bounds for: Series([], Name: shapeName, dtype: object)\n",
      "Items: ['PS Falokh Mbour', 'Mbour']\n"
     ]
    },
    {
     "name": "stderr",
     "output_type": "stream",
     "text": [
      "1115it [09:25,  2.03it/s]"
     ]
    },
    {
     "name": "stdout",
     "output_type": "stream",
     "text": [
      "Didn't find with BING or OSM, no bounding box for Google\n",
      "Error getting bounds for: Series([], Name: shapeName, dtype: object)\n",
      "Items: ['PS Ganina', 'Podor']\n"
     ]
    },
    {
     "name": "stderr",
     "output_type": "stream",
     "text": [
      "1116it [09:25,  1.94it/s]"
     ]
    },
    {
     "name": "stdout",
     "output_type": "stream",
     "text": [
      "Didn't find with BING or OSM, no bounding box for Google\n",
      "Error getting bounds for: Series([], Name: shapeName, dtype: object)\n",
      "Items: ['PS Keury Souf', 'Rufisque']\n"
     ]
    },
    {
     "name": "stderr",
     "output_type": "stream",
     "text": [
      "1117it [09:26,  2.08it/s]"
     ]
    },
    {
     "name": "stdout",
     "output_type": "stream",
     "text": [
      "Didn't find with BING or OSM, no bounding box for Google\n",
      "Error getting bounds for: Series([], Name: shapeName, dtype: object)\n",
      "Items: ['PS Le Bon Samaritain', 'Ziguinchor']\n"
     ]
    },
    {
     "name": "stderr",
     "output_type": "stream",
     "text": [
      "1118it [09:27,  1.79it/s]"
     ]
    },
    {
     "name": "stdout",
     "output_type": "stream",
     "text": [
      "Didn't find with BING or OSM, no bounding box for Google\n",
      "Error getting bounds for: Series([], Name: shapeName, dtype: object)\n",
      "Items: ['PS Mbaniou', 'Goudiry']\n"
     ]
    },
    {
     "name": "stderr",
     "output_type": "stream",
     "text": [
      "1119it [09:27,  2.03it/s]"
     ]
    },
    {
     "name": "stdout",
     "output_type": "stream",
     "text": [
      "Didn't find with BING or OSM, no bounding box for Google\n",
      "Error getting bounds for: Series([], Name: shapeName, dtype: object)\n",
      "Items: ['PS Ngaparou 2', 'Mbour']\n"
     ]
    },
    {
     "name": "stderr",
     "output_type": "stream",
     "text": [
      "1120it [09:27,  2.01it/s]"
     ]
    },
    {
     "name": "stdout",
     "output_type": "stream",
     "text": [
      "Didn't find with BING or OSM, no bounding box for Google\n",
      "Error getting bounds for: Series([], Name: shapeName, dtype: object)\n",
      "Items: ['PS PMI Escale', 'Ziguinchor']\n"
     ]
    },
    {
     "name": "stderr",
     "output_type": "stream",
     "text": [
      "1121it [09:28,  2.00it/s]"
     ]
    },
    {
     "name": "stdout",
     "output_type": "stream",
     "text": [
      "Didn't find with BING or OSM, no bounding box for Google\n",
      "Error getting bounds for: Series([], Name: shapeName, dtype: object)\n",
      "Items: ['PS Pognène', 'Thies']\n"
     ]
    },
    {
     "name": "stderr",
     "output_type": "stream",
     "text": [
      "1122it [09:28,  2.05it/s]"
     ]
    },
    {
     "name": "stdout",
     "output_type": "stream",
     "text": [
      "Didn't find with BING or OSM, no bounding box for Google\n",
      "Error getting bounds for: Series([], Name: shapeName, dtype: object)\n",
      "Items: ['PS Samba Doguel', 'Ranerou']\n"
     ]
    },
    {
     "name": "stderr",
     "output_type": "stream",
     "text": [
      "1123it [09:29,  1.94it/s]"
     ]
    },
    {
     "name": "stdout",
     "output_type": "stream",
     "text": [
      "Didn't find with BING or OSM, no bounding box for Google\n",
      "Items: ['PS Saré Balla', 'Velingara']\n"
     ]
    },
    {
     "name": "stderr",
     "output_type": "stream",
     "text": [
      "1124it [09:29,  1.95it/s]"
     ]
    },
    {
     "name": "stdout",
     "output_type": "stream",
     "text": [
      "Error getting bounds for: Series([], Name: shapeName, dtype: object)\n",
      "Items: ['PS TACO', 'Rufisque']\n"
     ]
    },
    {
     "name": "stderr",
     "output_type": "stream",
     "text": [
      "1125it [09:30,  2.10it/s]"
     ]
    },
    {
     "name": "stdout",
     "output_type": "stream",
     "text": [
      "Didn't find with BING or OSM, no bounding box for Google\n",
      "Error getting bounds for: Series([], Name: shapeName, dtype: object)\n",
      "Items: ['PS Tamba Socé', 'Tambacounda']\n"
     ]
    },
    {
     "name": "stderr",
     "output_type": "stream",
     "text": [
      "1126it [09:30,  2.07it/s]"
     ]
    },
    {
     "name": "stdout",
     "output_type": "stream",
     "text": [
      "Didn't find with BING or OSM, no bounding box for Google\n",
      "Error getting bounds for: Series([], Name: shapeName, dtype: object)\n",
      "Items: ['PS Thiawlene', 'Rufisque']\n"
     ]
    },
    {
     "name": "stderr",
     "output_type": "stream",
     "text": [
      "1127it [09:31,  1.99it/s]"
     ]
    },
    {
     "name": "stdout",
     "output_type": "stream",
     "text": [
      "Didn't find with BING or OSM, no bounding box for Google\n",
      "Error getting bounds for: Series([], Name: shapeName, dtype: object)\n",
      "Items: ['PS Vesos', 'Louga']\n"
     ]
    },
    {
     "name": "stderr",
     "output_type": "stream",
     "text": [
      "1128it [09:32,  1.80it/s]"
     ]
    },
    {
     "name": "stdout",
     "output_type": "stream",
     "text": [
      "Didn't find with BING or OSM, no bounding box for Google\n",
      "Error getting bounds for: Series([], Name: shapeName, dtype: object)\n",
      "Items: ['PS Yellingara', 'Bakel']\n"
     ]
    },
    {
     "name": "stderr",
     "output_type": "stream",
     "text": [
      "1129it [09:32,  2.12it/s]"
     ]
    },
    {
     "name": "stdout",
     "output_type": "stream",
     "text": [
      "Didn't find with BING or OSM, no bounding box for Google\n",
      "Error getting bounds for: Series([], Name: shapeName, dtype: object)\n",
      "Items: ['Clinique du Lycée Dr DIENG', 'Kaolack']\n"
     ]
    },
    {
     "name": "stderr",
     "output_type": "stream",
     "text": [
      "1130it [09:33,  1.78it/s]"
     ]
    },
    {
     "name": "stdout",
     "output_type": "stream",
     "text": [
      "Didn't find with BING or OSM, no bounding box for Google\n",
      "Error getting bounds for: Series([], Name: shapeName, dtype: object)\n",
      "Items: ['ASBEF Fermer', 'Kaolack']\n"
     ]
    },
    {
     "name": "stderr",
     "output_type": "stream",
     "text": [
      "1131it [09:33,  2.10it/s]"
     ]
    },
    {
     "name": "stdout",
     "output_type": "stream",
     "text": [
      "Didn't find with BING or OSM, no bounding box for Google\n",
      "Error getting bounds for: Series([], Name: shapeName, dtype: object)\n",
      "Items: ['Cabinet Paramédical Sokhna Daba Mbacke', 'Diourbel']\n"
     ]
    },
    {
     "name": "stderr",
     "output_type": "stream",
     "text": [
      "1132it [09:33,  2.01it/s]"
     ]
    },
    {
     "name": "stdout",
     "output_type": "stream",
     "text": [
      "Didn't find with BING or OSM, no bounding box for Google\n",
      "Error getting bounds for: Series([], Name: shapeName, dtype: object)\n",
      "Items: ['Centre de Référence/PMI', 'Kaolack']\n"
     ]
    },
    {
     "name": "stderr",
     "output_type": "stream",
     "text": [
      "1133it [09:34,  1.99it/s]"
     ]
    },
    {
     "name": "stdout",
     "output_type": "stream",
     "text": [
      "Didn't find with BING or OSM, no bounding box for Google\n",
      "Error getting bounds for: Series([], Name: shapeName, dtype: object)\n",
      "Items: ['Centre Medical de Garnison (CMG) Bargny', 'Tambacounda']\n"
     ]
    },
    {
     "name": "stderr",
     "output_type": "stream",
     "text": [
      "1134it [09:34,  1.98it/s]"
     ]
    },
    {
     "name": "stdout",
     "output_type": "stream",
     "text": [
      "Didn't find with BING or OSM, no bounding box for Google\n",
      "Error getting bounds for: Series([], Name: shapeName, dtype: object)\n",
      "Items: ['Centre Medical de Garnison (CMG) de Kolda', 'Kolda']\n"
     ]
    },
    {
     "name": "stderr",
     "output_type": "stream",
     "text": [
      "1135it [09:35,  1.83it/s]"
     ]
    },
    {
     "name": "stdout",
     "output_type": "stream",
     "text": [
      "Didn't find with BING or OSM, no bounding box for Google\n",
      "Error getting bounds for: Series([], Name: shapeName, dtype: object)\n",
      "Items: ['Centre Médico-social Fonction Publique', 'Kaolack']\n"
     ]
    },
    {
     "name": "stderr",
     "output_type": "stream",
     "text": [
      "1136it [09:35,  2.14it/s]"
     ]
    },
    {
     "name": "stdout",
     "output_type": "stream",
     "text": [
      "Didn't find with BING or OSM, no bounding box for Google\n",
      "Error getting bounds for: Series([], Name: shapeName, dtype: object)\n",
      "Items: ['Clinique MSI Zig', 'Ziguinchor']\n"
     ]
    },
    {
     "name": "stderr",
     "output_type": "stream",
     "text": [
      "1137it [09:36,  2.09it/s]"
     ]
    },
    {
     "name": "stdout",
     "output_type": "stream",
     "text": [
      "Didn't find with BING or OSM, no bounding box for Google\n",
      "Error getting bounds for: Series([], Name: shapeName, dtype: object)\n",
      "Items: ['CS prive Dal Xel de Fatick', 'Fatick']\n"
     ]
    },
    {
     "name": "stderr",
     "output_type": "stream",
     "text": [
      "1138it [09:36,  1.93it/s]"
     ]
    },
    {
     "name": "stdout",
     "output_type": "stream",
     "text": [
      "Didn't find with BING or OSM, no bounding box for Google\n",
      "Error getting bounds for: Series([], Name: shapeName, dtype: object)\n",
      "Items: ['CS SOCOCIM', 'Rufisque']\n"
     ]
    },
    {
     "name": "stderr",
     "output_type": "stream",
     "text": [
      "1139it [09:37,  2.08it/s]"
     ]
    },
    {
     "name": "stdout",
     "output_type": "stream",
     "text": [
      "Didn't find with BING or OSM, no bounding box for Google\n",
      "Items: ['DPC Notre Dame de la Joie', 'Guediawaye']\n"
     ]
    },
    {
     "name": "stderr",
     "output_type": "stream",
     "text": [
      "1140it [09:37,  1.97it/s]"
     ]
    },
    {
     "name": "stdout",
     "output_type": "stream",
     "text": [
      "Error getting bounds for: Series([], Name: shapeName, dtype: object)\n",
      "Items: ['DPC Notre Dame Esperance', 'Pikine']\n"
     ]
    },
    {
     "name": "stderr",
     "output_type": "stream",
     "text": [
      "1141it [09:38,  2.01it/s]"
     ]
    },
    {
     "name": "stdout",
     "output_type": "stream",
     "text": [
      "Didn't find with BING or OSM, no bounding box for Google\n",
      "Error getting bounds for: Series([], Name: shapeName, dtype: object)\n",
      "Items: ['DPS Yonou Ndoub', 'Saint Louis']\n"
     ]
    },
    {
     "name": "stderr",
     "output_type": "stream",
     "text": [
      "1142it [09:39,  1.90it/s]"
     ]
    },
    {
     "name": "stdout",
     "output_type": "stream",
     "text": [
      "Didn't find with BING or OSM, no bounding box for Google\n",
      "Error getting bounds for: Series([], Name: shapeName, dtype: object)\n",
      "Items: ['Mutuelle SOCOCIM', 'Rufisque']\n"
     ]
    },
    {
     "name": "stderr",
     "output_type": "stream",
     "text": [
      "1143it [09:39,  2.09it/s]"
     ]
    },
    {
     "name": "stdout",
     "output_type": "stream",
     "text": [
      "Didn't find with BING or OSM, no bounding box for Google\n",
      "Error getting bounds for: Series([], Name: shapeName, dtype: object)\n",
      "Items: ['Privé Moulaye Dabakh', 'Thies']\n"
     ]
    },
    {
     "name": "stderr",
     "output_type": "stream",
     "text": [
      "1144it [09:39,  2.02it/s]"
     ]
    },
    {
     "name": "stdout",
     "output_type": "stream",
     "text": [
      "Didn't find with BING or OSM, no bounding box for Google\n",
      "Error getting bounds for: Series([], Name: shapeName, dtype: object)\n",
      "Items: ['PS Boke Yalalbé', 'Podor']\n"
     ]
    },
    {
     "name": "stderr",
     "output_type": "stream",
     "text": [
      "1145it [09:40,  1.95it/s]"
     ]
    },
    {
     "name": "stdout",
     "output_type": "stream",
     "text": [
      "Didn't find with BING or OSM, no bounding box for Google\n",
      "Error getting bounds for: Series([], Name: shapeName, dtype: object)\n",
      "Items: ['Sos Medecin', 'Mbour']\n"
     ]
    },
    {
     "name": "stderr",
     "output_type": "stream",
     "text": [
      "1146it [09:40,  1.95it/s]"
     ]
    },
    {
     "name": "stdout",
     "output_type": "stream",
     "text": [
      "Didn't find with BING or OSM, no bounding box for Google\n",
      "Error getting bounds for: Series([], Name: shapeName, dtype: object)\n",
      "Items: ['Université Alioune Diop de Bambey', 'Bambey']\n"
     ]
    },
    {
     "name": "stderr",
     "output_type": "stream",
     "text": [
      "1147it [09:41,  2.04it/s]"
     ]
    },
    {
     "name": "stdout",
     "output_type": "stream",
     "text": [
      "Didn't find with BING or OSM, no bounding box for Google\n",
      "Error getting bounds for: Series([], Name: shapeName, dtype: object)\n",
      "Items: ['Cabinet Médical Elhadji Malick SY (Fermé)', 'Louga']\n"
     ]
    },
    {
     "name": "stderr",
     "output_type": "stream",
     "text": [
      "1148it [09:41,  1.97it/s]"
     ]
    },
    {
     "name": "stdout",
     "output_type": "stream",
     "text": [
      "Didn't find with BING or OSM, no bounding box for Google\n",
      "Error getting bounds for: Series([], Name: shapeName, dtype: object)\n",
      "Items: ['Cabinet Paramedical Thierno Bachir Tall', 'Louga']\n"
     ]
    },
    {
     "name": "stderr",
     "output_type": "stream",
     "text": [
      "1149it [09:42,  2.09it/s]"
     ]
    },
    {
     "name": "stdout",
     "output_type": "stream",
     "text": [
      "Didn't find with BING or OSM, no bounding box for Google\n",
      "Error getting bounds for: Series([], Name: shapeName, dtype: object)\n",
      "Items: ['Cabinet Paramédical Mame Diarra Bousso', 'Kaffrine']\n"
     ]
    },
    {
     "name": "stderr",
     "output_type": "stream",
     "text": [
      "1150it [09:42,  2.00it/s]"
     ]
    },
    {
     "name": "stdout",
     "output_type": "stream",
     "text": [
      "Didn't find with BING or OSM, no bounding box for Google\n",
      "Error getting bounds for: Series([], Name: shapeName, dtype: object)\n",
      "Items: ['Cabinet Privé Bounama Ndiaye', 'Ranerou']\n"
     ]
    },
    {
     "name": "stderr",
     "output_type": "stream",
     "text": [
      "1151it [09:43,  2.03it/s]"
     ]
    },
    {
     "name": "stdout",
     "output_type": "stream",
     "text": [
      "Didn't find with BING or OSM, no bounding box for Google\n",
      "Items: ['Cabinet Privé Major Dieye', 'Guediawaye']\n"
     ]
    },
    {
     "name": "stderr",
     "output_type": "stream",
     "text": [
      "1152it [09:44,  1.91it/s]"
     ]
    },
    {
     "name": "stdout",
     "output_type": "stream",
     "text": [
      "Error getting bounds for: Series([], Name: shapeName, dtype: object)\n",
      "Items: ['Cabinet privé Missirah', 'Ranerou']\n"
     ]
    },
    {
     "name": "stderr",
     "output_type": "stream",
     "text": [
      "1153it [09:44,  2.08it/s]"
     ]
    },
    {
     "name": "stdout",
     "output_type": "stream",
     "text": [
      "Didn't find with BING or OSM, no bounding box for Google\n",
      "Error getting bounds for: Series([], Name: shapeName, dtype: object)\n",
      "Items: ['Cabinet privée Yassalam Nioro', 'Ranerou']\n"
     ]
    },
    {
     "name": "stderr",
     "output_type": "stream",
     "text": [
      "1154it [09:44,  1.93it/s]"
     ]
    },
    {
     "name": "stdout",
     "output_type": "stream",
     "text": [
      "Didn't find with BING or OSM, no bounding box for Google\n",
      "Error getting bounds for: Series([], Name: shapeName, dtype: object)\n",
      "Items: ['Cabinet Soins Khadimou Rassoul', 'Rufisque']\n"
     ]
    },
    {
     "name": "stderr",
     "output_type": "stream",
     "text": [
      "1155it [09:45,  2.07it/s]"
     ]
    },
    {
     "name": "stdout",
     "output_type": "stream",
     "text": [
      "Didn't find with BING or OSM, no bounding box for Google\n",
      "Error getting bounds for: Series([], Name: shapeName, dtype: object)\n",
      "Items: ['Carrefour Santé', 'Saint Louis']\n"
     ]
    },
    {
     "name": "stderr",
     "output_type": "stream",
     "text": [
      "1156it [09:46,  1.89it/s]"
     ]
    },
    {
     "name": "stdout",
     "output_type": "stream",
     "text": [
      "Didn't find with BING or OSM, no bounding box for Google\n",
      "Error getting bounds for: Series([], Name: shapeName, dtype: object)\n",
      "Items: ['Centre medical de garnison (CMG) SAINT LOUIS', 'Saint Louis']\n"
     ]
    },
    {
     "name": "stderr",
     "output_type": "stream",
     "text": [
      "1157it [09:46,  1.93it/s]"
     ]
    },
    {
     "name": "stdout",
     "output_type": "stream",
     "text": [
      "Didn't find with BING or OSM, no bounding box for Google\n",
      "Error getting bounds for: Series([], Name: shapeName, dtype: object)\n",
      "Items: ['Centre Medicale de garnison (CMG) Gendarmerie FATICK', 'Fatick']\n"
     ]
    },
    {
     "name": "stderr",
     "output_type": "stream",
     "text": [
      "1158it [09:46,  2.01it/s]"
     ]
    },
    {
     "name": "stdout",
     "output_type": "stream",
     "text": [
      "Didn't find with BING or OSM, no bounding box for Google\n",
      "Error getting bounds for: Series([], Name: shapeName, dtype: object)\n",
      "Items: ['Clinique Corniche', 'Saint Louis']\n"
     ]
    },
    {
     "name": "stderr",
     "output_type": "stream",
     "text": [
      "1159it [09:47,  1.93it/s]"
     ]
    },
    {
     "name": "stdout",
     "output_type": "stream",
     "text": [
      "Didn't find with BING or OSM, no bounding box for Google\n",
      "Error getting bounds for: Series([], Name: shapeName, dtype: object)\n",
      "Items: ['CS Ndiaye Diouf', 'Tambacounda']\n"
     ]
    },
    {
     "name": "stderr",
     "output_type": "stream",
     "text": [
      "1160it [09:47,  2.12it/s]"
     ]
    },
    {
     "name": "stdout",
     "output_type": "stream",
     "text": [
      "Didn't find with BING or OSM, no bounding box for Google\n",
      "Error getting bounds for: Series([], Name: shapeName, dtype: object)\n",
      "Items: ['Dispensaire Paramedical Thierno Mikailou Kébé Ndioum', 'Podor']\n"
     ]
    },
    {
     "name": "stderr",
     "output_type": "stream",
     "text": [
      "1161it [09:48,  1.99it/s]"
     ]
    },
    {
     "name": "stdout",
     "output_type": "stream",
     "text": [
      "Didn't find with BING or OSM, no bounding box for Google\n",
      "Error getting bounds for: Series([], Name: shapeName, dtype: object)\n",
      "Items: ['Dispensaire privé cheikh Fall', 'Ranerou']\n"
     ]
    },
    {
     "name": "stderr",
     "output_type": "stream",
     "text": [
      "1162it [09:48,  1.98it/s]"
     ]
    },
    {
     "name": "stdout",
     "output_type": "stream",
     "text": [
      "Didn't find with BING or OSM, no bounding box for Google\n",
      "Error getting bounds for: Series([], Name: shapeName, dtype: object)\n",
      "Items: ['Dispensaire privé Edoumack FALL', 'Ranerou']\n"
     ]
    },
    {
     "name": "stderr",
     "output_type": "stream",
     "text": [
      "1163it [09:49,  1.99it/s]"
     ]
    },
    {
     "name": "stdout",
     "output_type": "stream",
     "text": [
      "Didn't find with BING or OSM, no bounding box for Google\n",
      "Error getting bounds for: Series([], Name: shapeName, dtype: object)\n",
      "Items: ['Dispensaire privé Kawsara', 'Ranerou']\n"
     ]
    },
    {
     "name": "stderr",
     "output_type": "stream",
     "text": [
      "1164it [09:50,  1.97it/s]"
     ]
    },
    {
     "name": "stdout",
     "output_type": "stream",
     "text": [
      "Didn't find with BING or OSM, no bounding box for Google\n",
      "Error getting bounds for: Series([], Name: shapeName, dtype: object)\n",
      "Items: ['Dispensaire privé Keur Karim', 'Tivaoune']\n"
     ]
    },
    {
     "name": "stderr",
     "output_type": "stream",
     "text": [
      "1165it [09:50,  2.08it/s]"
     ]
    },
    {
     "name": "stdout",
     "output_type": "stream",
     "text": [
      "Didn't find with BING or OSM, no bounding box for Google\n",
      "Error getting bounds for: Series([], Name: shapeName, dtype: object)\n",
      "Items: ['Dispensaire privé Keur Madiabel', 'Ranerou']\n"
     ]
    },
    {
     "name": "stderr",
     "output_type": "stream",
     "text": [
      "1166it [09:50,  2.05it/s]"
     ]
    },
    {
     "name": "stdout",
     "output_type": "stream",
     "text": [
      "Didn't find with BING or OSM, no bounding box for Google\n",
      "Error getting bounds for: Series([], Name: shapeName, dtype: object)\n",
      "Items: ['Dispensaire privé Koutal wolof', 'Tivaoune']\n"
     ]
    },
    {
     "name": "stderr",
     "output_type": "stream",
     "text": [
      "1167it [09:51,  1.89it/s]"
     ]
    },
    {
     "name": "stdout",
     "output_type": "stream",
     "text": [
      "Didn't find with BING or OSM, no bounding box for Google\n",
      "Error getting bounds for: Series([], Name: shapeName, dtype: object)\n",
      "Items: ['Dispensaire privé Matlaboul shiffah', 'Guinguineo']\n"
     ]
    },
    {
     "name": "stderr",
     "output_type": "stream",
     "text": [
      "1168it [09:51,  2.12it/s]"
     ]
    },
    {
     "name": "stdout",
     "output_type": "stream",
     "text": [
      "Didn't find with BING or OSM, no bounding box for Google\n",
      "Error getting bounds for: Series([], Name: shapeName, dtype: object)\n",
      "Items: ['Dispensaire privé Modou Thiam', 'Ranerou']\n"
     ]
    },
    {
     "name": "stderr",
     "output_type": "stream",
     "text": [
      "1169it [09:52,  2.06it/s]"
     ]
    },
    {
     "name": "stdout",
     "output_type": "stream",
     "text": [
      "Didn't find with BING or OSM, no bounding box for Google\n",
      "Error getting bounds for: Series([], Name: shapeName, dtype: object)\n",
      "Items: ['Dispensaire privé yaye Ami', 'Tivaoune']\n"
     ]
    },
    {
     "name": "stderr",
     "output_type": "stream",
     "text": [
      "1170it [09:52,  1.95it/s]"
     ]
    },
    {
     "name": "stdout",
     "output_type": "stream",
     "text": [
      "Didn't find with BING or OSM, no bounding box for Google\n",
      "Error getting bounds for: Series([], Name: shapeName, dtype: object)\n",
      "Items: ['DPC Catholique', 'Koumpentoum']\n"
     ]
    },
    {
     "name": "stderr",
     "output_type": "stream",
     "text": [
      "1171it [09:53,  1.98it/s]"
     ]
    },
    {
     "name": "stdout",
     "output_type": "stream",
     "text": [
      "Didn't find with BING or OSM, no bounding box for Google\n",
      "Error getting bounds for: Series([], Name: shapeName, dtype: object)\n",
      "Items: ['DPC de Dagana', 'Dagana']\n"
     ]
    },
    {
     "name": "stderr",
     "output_type": "stream",
     "text": [
      "1172it [09:54,  1.95it/s]"
     ]
    },
    {
     "name": "stdout",
     "output_type": "stream",
     "text": [
      "Didn't find with BING or OSM, no bounding box for Google\n",
      "Error getting bounds for: Series([], Name: shapeName, dtype: object)\n",
      "Items: ['DPC de Ndar Toute', 'Saint Louis']\n"
     ]
    },
    {
     "name": "stderr",
     "output_type": "stream",
     "text": [
      "1173it [09:54,  2.03it/s]"
     ]
    },
    {
     "name": "stdout",
     "output_type": "stream",
     "text": [
      "Didn't find with BING or OSM, no bounding box for Google\n",
      "Error getting bounds for: Series([], Name: shapeName, dtype: object)\n",
      "Items: ['DPC Notre Dame du Cap Vert', 'Pikine']\n"
     ]
    },
    {
     "name": "stderr",
     "output_type": "stream",
     "text": [
      "1174it [09:54,  2.04it/s]"
     ]
    },
    {
     "name": "stdout",
     "output_type": "stream",
     "text": [
      "Didn't find with BING or OSM, no bounding box for Google\n",
      "Error getting bounds for: Series([], Name: shapeName, dtype: object)\n",
      "Items: ['DPC Sainte Therese', 'Saint Louis']\n"
     ]
    },
    {
     "name": "stderr",
     "output_type": "stream",
     "text": [
      "1175it [09:55,  1.85it/s]"
     ]
    },
    {
     "name": "stdout",
     "output_type": "stream",
     "text": [
      "Didn't find with BING or OSM, no bounding box for Google\n",
      "Error getting bounds for: Series([], Name: shapeName, dtype: object)\n",
      "Items: [\"EPS3 Hôpital  d'Enfant Diamniadio\", 'Tambacounda']\n"
     ]
    },
    {
     "name": "stderr",
     "output_type": "stream",
     "text": [
      "1176it [09:55,  2.15it/s]"
     ]
    },
    {
     "name": "stdout",
     "output_type": "stream",
     "text": [
      "Didn't find with BING or OSM, no bounding box for Google\n",
      "Error getting bounds for: Series([], Name: shapeName, dtype: object)\n",
      "Items: ['EPS3 Psychiatrique de Thiaroye', 'Mbour']\n"
     ]
    },
    {
     "name": "stderr",
     "output_type": "stream",
     "text": [
      "1177it [09:56,  1.98it/s]"
     ]
    },
    {
     "name": "stdout",
     "output_type": "stream",
     "text": [
      "Didn't find with BING or OSM, no bounding box for Google\n",
      "Error getting bounds for: Series([], Name: shapeName, dtype: object)\n",
      "Items: ['Inf. Sonacos', 'Diourbel']\n"
     ]
    },
    {
     "name": "stderr",
     "output_type": "stream",
     "text": [
      "1178it [09:56,  2.09it/s]"
     ]
    },
    {
     "name": "stdout",
     "output_type": "stream",
     "text": [
      "Didn't find with BING or OSM, no bounding box for Google\n",
      "Error getting bounds for: Series([], Name: shapeName, dtype: object)\n",
      "Items: ['Infirmerie privée de Aere Lao', 'Podor']\n"
     ]
    },
    {
     "name": "stderr",
     "output_type": "stream",
     "text": [
      "1179it [09:57,  1.99it/s]"
     ]
    },
    {
     "name": "stdout",
     "output_type": "stream",
     "text": [
      "Didn't find with BING or OSM, no bounding box for Google\n",
      "Error getting bounds for: Series([], Name: shapeName, dtype: object)\n",
      "Items: ['Infirmerie SAED', 'Saint Louis']\n"
     ]
    },
    {
     "name": "stderr",
     "output_type": "stream",
     "text": [
      "1180it [09:57,  1.96it/s]"
     ]
    },
    {
     "name": "stdout",
     "output_type": "stream",
     "text": [
      "Didn't find with BING or OSM, no bounding box for Google\n",
      "Error getting bounds for: Series([], Name: shapeName, dtype: object)\n",
      "Items: ['Infirmerie SDE', 'Saint Louis']\n"
     ]
    },
    {
     "name": "stderr",
     "output_type": "stream",
     "text": [
      "1181it [09:58,  1.92it/s]"
     ]
    },
    {
     "name": "stdout",
     "output_type": "stream",
     "text": [
      "Didn't find with BING or OSM, no bounding box for Google\n",
      "Error getting bounds for: Series([], Name: shapeName, dtype: object)\n",
      "Items: ['PM  MAC KOUTAL', 'Tivaoune']\n"
     ]
    },
    {
     "name": "stderr",
     "output_type": "stream",
     "text": [
      "1182it [09:58,  2.10it/s]"
     ]
    },
    {
     "name": "stdout",
     "output_type": "stream",
     "text": [
      "Didn't find with BING or OSM, no bounding box for Google\n",
      "Error getting bounds for: Series([], Name: shapeName, dtype: object)\n",
      "Items: ['PM  Sapeurs Pompiers Nioro', 'Ranerou']\n"
     ]
    },
    {
     "name": "stderr",
     "output_type": "stream",
     "text": [
      "1183it [09:59,  2.03it/s]"
     ]
    },
    {
     "name": "stdout",
     "output_type": "stream",
     "text": [
      "Didn't find with BING or OSM, no bounding box for Google\n",
      "Items: ['PM Gendarmerie Diaobe', 'Velingara']\n"
     ]
    },
    {
     "name": "stderr",
     "output_type": "stream",
     "text": [
      "1184it [10:00,  1.89it/s]"
     ]
    },
    {
     "name": "stdout",
     "output_type": "stream",
     "text": [
      "Error getting bounds for: Series([], Name: shapeName, dtype: object)\n",
      "Items: ['PM Gendarmerie Diourbel', 'Diourbel']\n"
     ]
    },
    {
     "name": "stderr",
     "output_type": "stream",
     "text": [
      "1185it [10:00,  2.10it/s]"
     ]
    },
    {
     "name": "stdout",
     "output_type": "stream",
     "text": [
      "Didn't find with BING or OSM, no bounding box for Google\n",
      "Error getting bounds for: Series([], Name: shapeName, dtype: object)\n",
      "Items: ['PM Gendarmerie Louga', 'Louga']\n"
     ]
    },
    {
     "name": "stderr",
     "output_type": "stream",
     "text": [
      "1186it [10:00,  2.00it/s]"
     ]
    },
    {
     "name": "stdout",
     "output_type": "stream",
     "text": [
      "Didn't find with BING or OSM, no bounding box for Google\n",
      "Error getting bounds for: Series([], Name: shapeName, dtype: object)\n",
      "Items: ['PM Gendarmerie Saint Louis', 'Saint Louis']\n"
     ]
    },
    {
     "name": "stderr",
     "output_type": "stream",
     "text": [
      "1187it [10:01,  1.86it/s]"
     ]
    },
    {
     "name": "stdout",
     "output_type": "stream",
     "text": [
      "Didn't find with BING or OSM, no bounding box for Google\n",
      "Error getting bounds for: Series([], Name: shapeName, dtype: object)\n",
      "Items: ['PM MAC Kédougou', 'Kedougou']\n"
     ]
    },
    {
     "name": "stderr",
     "output_type": "stream",
     "text": [
      "1188it [10:01,  2.10it/s]"
     ]
    },
    {
     "name": "stdout",
     "output_type": "stream",
     "text": [
      "Didn't find with BING or OSM, no bounding box for Google\n",
      "Error getting bounds for: Series([], Name: shapeName, dtype: object)\n",
      "Items: ['PM Sapeurs Bignona', 'Bignona']\n"
     ]
    },
    {
     "name": "stderr",
     "output_type": "stream",
     "text": [
      "1189it [10:02,  1.95it/s]"
     ]
    },
    {
     "name": "stdout",
     "output_type": "stream",
     "text": [
      "Didn't find with BING or OSM, no bounding box for Google\n",
      "Error getting bounds for: Series([], Name: shapeName, dtype: object)\n",
      "Items: ['PM Sapeurs Cap Skiring', 'Oussouye']\n"
     ]
    },
    {
     "name": "stderr",
     "output_type": "stream",
     "text": [
      "1190it [10:02,  2.10it/s]"
     ]
    },
    {
     "name": "stdout",
     "output_type": "stream",
     "text": [
      "Didn't find with BING or OSM, no bounding box for Google\n",
      "Error getting bounds for: Series([], Name: shapeName, dtype: object)\n",
      "Items: ['PM Sapeurs Louga', 'Louga']\n"
     ]
    },
    {
     "name": "stderr",
     "output_type": "stream",
     "text": [
      "1191it [10:03,  1.83it/s]"
     ]
    },
    {
     "name": "stdout",
     "output_type": "stream",
     "text": [
      "Didn't find with BING or OSM, no bounding box for Google\n",
      "Items: ['PM Sapeurs Médina Gounass', 'Velingara']\n"
     ]
    },
    {
     "name": "stderr",
     "output_type": "stream",
     "text": [
      "1192it [10:04,  1.98it/s]"
     ]
    },
    {
     "name": "stdout",
     "output_type": "stream",
     "text": [
      "Error getting bounds for: Series([], Name: shapeName, dtype: object)\n",
      "Items: ['PM Sapeurs Podor', 'Podor']\n"
     ]
    },
    {
     "name": "stderr",
     "output_type": "stream",
     "text": [
      "1193it [10:04,  2.12it/s]"
     ]
    },
    {
     "name": "stdout",
     "output_type": "stream",
     "text": [
      "Didn't find with BING or OSM, no bounding box for Google\n",
      "Error getting bounds for: Series([], Name: shapeName, dtype: object)\n",
      "Items: ['PM Sapeurs-pompiers Diourbel', 'Diourbel']\n"
     ]
    },
    {
     "name": "stderr",
     "output_type": "stream",
     "text": [
      "1194it [10:04,  2.06it/s]"
     ]
    },
    {
     "name": "stdout",
     "output_type": "stream",
     "text": [
      "Didn't find with BING or OSM, no bounding box for Google\n",
      "Error getting bounds for: Series([], Name: shapeName, dtype: object)\n",
      "Items: ['poste privé Eladji Malick Badiane', 'Malem Hodar']\n"
     ]
    },
    {
     "name": "stderr",
     "output_type": "stream",
     "text": [
      "1195it [10:05,  1.98it/s]"
     ]
    },
    {
     "name": "stdout",
     "output_type": "stream",
     "text": [
      "Didn't find with BING or OSM, no bounding box for Google\n",
      "Error getting bounds for: Series([], Name: shapeName, dtype: object)\n",
      "Items: ['Service médical Rectorat', 'Saint Louis']\n"
     ]
    },
    {
     "name": "stderr",
     "output_type": "stream",
     "text": [
      "1196it [10:05,  1.99it/s]"
     ]
    },
    {
     "name": "stdout",
     "output_type": "stream",
     "text": [
      "Didn't find with BING or OSM, no bounding box for Google\n",
      "Error getting bounds for: Series([], Name: shapeName, dtype: object)\n",
      "Items: ['SS IPRESS', 'Podor']\n"
     ]
    },
    {
     "name": "stderr",
     "output_type": "stream",
     "text": [
      "1197it [10:06,  1.98it/s]"
     ]
    },
    {
     "name": "stdout",
     "output_type": "stream",
     "text": [
      "Didn't find with BING or OSM, no bounding box for Google\n",
      "Error getting bounds for: Series([], Name: shapeName, dtype: object)\n",
      "Items: ['CMG DEH MOMAR GARY ( Ex Bango)', 'Saint Louis']\n"
     ]
    },
    {
     "name": "stderr",
     "output_type": "stream",
     "text": [
      "1198it [10:06,  2.02it/s]"
     ]
    },
    {
     "name": "stdout",
     "output_type": "stream",
     "text": [
      "Didn't find with BING or OSM, no bounding box for Google\n",
      "Error getting bounds for: Series([], Name: shapeName, dtype: object)\n",
      "Items: ['Inspection Medicale des Ecoles', 'Louga']\n"
     ]
    },
    {
     "name": "stderr",
     "output_type": "stream",
     "text": [
      "1199it [10:07,  1.93it/s]"
     ]
    },
    {
     "name": "stdout",
     "output_type": "stream",
     "text": [
      "Didn't find with BING or OSM, no bounding box for Google\n",
      "Error getting bounds for: Series([], Name: shapeName, dtype: object)\n",
      "Items: ['PM  Mac Nioro', 'Ranerou']\n"
     ]
    },
    {
     "name": "stderr",
     "output_type": "stream",
     "text": [
      "1200it [10:07,  2.04it/s]"
     ]
    },
    {
     "name": "stdout",
     "output_type": "stream",
     "text": [
      "Didn't find with BING or OSM, no bounding box for Google\n",
      "Error getting bounds for: Series([], Name: shapeName, dtype: object)\n",
      "Items: ['PM MAC Kaffrine', 'Kaffrine']\n"
     ]
    },
    {
     "name": "stderr",
     "output_type": "stream",
     "text": [
      "1201it [10:08,  2.05it/s]"
     ]
    },
    {
     "name": "stdout",
     "output_type": "stream",
     "text": [
      "Didn't find with BING or OSM, no bounding box for Google\n",
      "Error getting bounds for: Series([], Name: shapeName, dtype: object)\n",
      "Items: ['PM MAC SAINT LOUIS', 'Saint Louis']\n"
     ]
    },
    {
     "name": "stderr",
     "output_type": "stream",
     "text": [
      "1202it [10:09,  1.81it/s]"
     ]
    },
    {
     "name": "stdout",
     "output_type": "stream",
     "text": [
      "Didn't find with BING or OSM, no bounding box for Google\n",
      "Error getting bounds for: Series([], Name: shapeName, dtype: object)\n",
      "Items: ['PM MC Sébikotane', 'Tambacounda']\n"
     ]
    },
    {
     "name": "stderr",
     "output_type": "stream",
     "text": [
      "1203it [10:09,  2.16it/s]"
     ]
    },
    {
     "name": "stdout",
     "output_type": "stream",
     "text": [
      "Didn't find with BING or OSM, no bounding box for Google\n",
      "Error getting bounds for: Series([], Name: shapeName, dtype: object)\n",
      "Items: ['Service médical CROUS', 'Saint Louis']\n"
     ]
    },
    {
     "name": "stderr",
     "output_type": "stream",
     "text": [
      "1204it [10:09,  2.05it/s]"
     ]
    },
    {
     "name": "stdout",
     "output_type": "stream",
     "text": [
      "Didn't find with BING or OSM, no bounding box for Google\n",
      "Error getting bounds for: Series([], Name: shapeName, dtype: object)\n",
      "Items: ['\\xa0Cabinet medical IPRES', 'Saint Louis']\n"
     ]
    },
    {
     "name": "stderr",
     "output_type": "stream",
     "text": [
      "1205it [10:10,  2.05it/s]"
     ]
    },
    {
     "name": "stdout",
     "output_type": "stream",
     "text": [
      "Didn't find with BING or OSM, no bounding box for Google\n",
      "Items: ['Cren Velingara', 'Velingara']\n"
     ]
    },
    {
     "name": "stderr",
     "output_type": "stream",
     "text": [
      "1206it [10:11,  1.94it/s]"
     ]
    },
    {
     "name": "stdout",
     "output_type": "stream",
     "text": [
      "Error getting bounds for: Series([], Name: shapeName, dtype: object)\n",
      "Items: ['DPC Pére Jose cras', 'Kaffrine']\n"
     ]
    },
    {
     "name": "stderr",
     "output_type": "stream",
     "text": [
      "1207it [10:11,  1.93it/s]"
     ]
    },
    {
     "name": "stdout",
     "output_type": "stream",
     "text": [
      "Didn't find with BING or OSM, no bounding box for Google\n",
      "Error getting bounds for: Series([], Name: shapeName, dtype: object)\n",
      "Items: ['PS Bransan', 'Saraya']\n"
     ]
    },
    {
     "name": "stderr",
     "output_type": "stream",
     "text": [
      "1208it [10:11,  2.01it/s]"
     ]
    },
    {
     "name": "stdout",
     "output_type": "stream",
     "text": [
      "Didn't find with BING or OSM, no bounding box for Google\n",
      "Error getting bounds for: Series([], Name: shapeName, dtype: object)\n",
      "Items: ['PS Darou Salam Thierno', 'Kolda']\n"
     ]
    },
    {
     "name": "stderr",
     "output_type": "stream",
     "text": [
      "1209it [10:12,  2.04it/s]"
     ]
    },
    {
     "name": "stdout",
     "output_type": "stream",
     "text": [
      "Didn't find with BING or OSM, no bounding box for Google\n",
      "Error getting bounds for: Series([], Name: shapeName, dtype: object)\n",
      "Items: ['PS Diassina', 'Kolda']\n"
     ]
    },
    {
     "name": "stderr",
     "output_type": "stream",
     "text": [
      "1210it [10:13,  1.97it/s]"
     ]
    },
    {
     "name": "stdout",
     "output_type": "stream",
     "text": [
      "Didn't find with BING or OSM, no bounding box for Google\n",
      "Error getting bounds for: Series([], Name: shapeName, dtype: object)\n",
      "Items: ['PS Hafia', 'Kolda']\n"
     ]
    },
    {
     "name": "stderr",
     "output_type": "stream",
     "text": [
      "1211it [10:13,  1.95it/s]"
     ]
    },
    {
     "name": "stdout",
     "output_type": "stream",
     "text": [
      "Didn't find with BING or OSM, no bounding box for Google\n",
      "Error getting bounds for: Series([], Name: shapeName, dtype: object)\n",
      "Items: ['PS Mbédap', 'Fatick']\n"
     ]
    },
    {
     "name": "stderr",
     "output_type": "stream",
     "text": [
      "1212it [10:13,  2.09it/s]"
     ]
    },
    {
     "name": "stdout",
     "output_type": "stream",
     "text": [
      "Didn't find with BING or OSM, no bounding box for Google\n",
      "Error getting bounds for: Series([], Name: shapeName, dtype: object)\n",
      "Items: ['PS Mélakh', 'Dakar']\n"
     ]
    },
    {
     "name": "stderr",
     "output_type": "stream",
     "text": [
      "1213it [10:14,  1.97it/s]\n"
     ]
    },
    {
     "name": "stdout",
     "output_type": "stream",
     "text": [
      "Didn't find with BING or OSM, no bounding box for Google\n"
     ]
    },
    {
     "name": "stderr",
     "output_type": "stream",
     "text": [
      "1213it [00:00, 1290.61it/s]"
     ]
    },
    {
     "name": "stdout",
     "output_type": "stream",
     "text": [
      "Geoboundary idx: 1\n",
      "Geoboundary idx: 0\n"
     ]
    },
    {
     "name": "stderr",
     "output_type": "stream",
     "text": [
      "\n"
     ]
    }
   ],
   "source": [
    "admin_lev = 2\n",
    "for geob_idx in range(len(geob_arr)-1, -1, -1): # reverse order\n",
    "    print(f\"Geoboundary idx: {geob_idx}\")\n",
    "    geob = geob_arr[geob_idx]\n",
    "    if f\"adm{admin_lev}\" in records_subset.columns:\n",
    "        records_subset = records.loc[records.geocoding_method==\"None\"].copy()\n",
    "        records_subset = records_subset.loc[~records_subset[f\"adm{admin_lev}\"].isna()].copy()\n",
    "        print(f\"Length of recs to check: {len(records_subset)}\")\n",
    "\n",
    "        orglev4_df = records_subset[['orgunitlevel4', f\"adm{admin_lev}\", 'orgunitlevel1']].drop_duplicates().copy()\n",
    "        len(orglev4_df)\n",
    "\n",
    "        for idx, row in tqdm(orglev4_df.iterrows()):\n",
    "            adm = geob.loc[geob['shapeName'] == row[f\"adm{admin_lev}\"]].copy()\n",
    "            orglev4_df = gcu.run_geocoding(idx, row, orglev4_df, adm, ['orgunitlevel4', f\"adm{admin_lev}\"], diso,\n",
    "                                           geolocator_bing, geolocator_osm, geolocator_google)\n",
    "\n",
    "        for idx, row in tqdm(records_subset.iterrows()):\n",
    "            orglev4_geocoded = orglev4_df.loc[orglev4_df['orgunitlevel4']==row['orgunitlevel4']].iloc[0]\n",
    "            records.loc[idx, \"longitude\"] = orglev4_geocoded.longitude\n",
    "            records.loc[idx, \"latitude\"] = orglev4_geocoded.latitude\n",
    "            records.loc[idx, \"geocoding_method\"] = orglev4_geocoded.geocoding_method\n",
    "\n",
    "        admin_lev -= 1"
   ]
  },
  {
   "cell_type": "code",
   "execution_count": 25,
   "metadata": {
    "pycharm": {
     "name": "#%%\n"
    }
   },
   "outputs": [
    {
     "data": {
      "text/plain": "<pandas.io.formats.style.Styler at 0x10bbe4ed0>",
      "text/html": "<style type=\"text/css\">\n</style>\n<table id=\"T_47cc7\">\n  <thead>\n    <tr>\n      <th class=\"blank level0\" >&nbsp;</th>\n      <th id=\"T_47cc7_level0_col0\" class=\"col_heading level0 col0\" >count</th>\n      <th id=\"T_47cc7_level0_col1\" class=\"col_heading level0 col1\" >pct</th>\n    </tr>\n    <tr>\n      <th class=\"index_name level0\" >geocoding_method</th>\n      <th class=\"blank col0\" >&nbsp;</th>\n      <th class=\"blank col1\" >&nbsp;</th>\n    </tr>\n  </thead>\n  <tbody>\n    <tr>\n      <th id=\"T_47cc7_level0_row0\" class=\"row_heading level0 row0\" >Location from Health Sites IO and within admin 2</th>\n      <td id=\"T_47cc7_row0_col0\" class=\"data row0 col0\" >11</td>\n      <td id=\"T_47cc7_row0_col1\" class=\"data row0 col1\" >0.6%</td>\n    </tr>\n    <tr>\n      <th id=\"T_47cc7_level0_row1\" class=\"row_heading level0 row1\" >NAME and adm3 query Bing</th>\n      <td id=\"T_47cc7_row1_col0\" class=\"data row1 col0\" >1</td>\n      <td id=\"T_47cc7_row1_col1\" class=\"data row1 col1\" >0.1%</td>\n    </tr>\n    <tr>\n      <th id=\"T_47cc7_level0_row2\" class=\"row_heading level0 row2\" >NAME and adm3 query OSM</th>\n      <td id=\"T_47cc7_row2_col0\" class=\"data row2 col0\" >1</td>\n      <td id=\"T_47cc7_row2_col1\" class=\"data row2 col1\" >0.1%</td>\n    </tr>\n    <tr>\n      <th id=\"T_47cc7_level0_row3\" class=\"row_heading level0 row3\" >None</th>\n      <td id=\"T_47cc7_row3_col0\" class=\"data row3 col0\" >1700</td>\n      <td id=\"T_47cc7_row3_col1\" class=\"data row3 col1\" >97.9%</td>\n    </tr>\n    <tr>\n      <th id=\"T_47cc7_level0_row4\" class=\"row_heading level0 row4\" >orgunitlevel4 and adm2 query Bing</th>\n      <td id=\"T_47cc7_row4_col0\" class=\"data row4 col0\" >22</td>\n      <td id=\"T_47cc7_row4_col1\" class=\"data row4 col1\" >1.3%</td>\n    </tr>\n    <tr>\n      <th id=\"T_47cc7_level0_row5\" class=\"row_heading level0 row5\" >orgunitlevel4 and adm2 query Google</th>\n      <td id=\"T_47cc7_row5_col0\" class=\"data row5 col0\" >1</td>\n      <td id=\"T_47cc7_row5_col1\" class=\"data row5 col1\" >0.1%</td>\n    </tr>\n  </tbody>\n</table>\n"
     },
     "execution_count": 25,
     "metadata": {},
     "output_type": "execute_result"
    }
   ],
   "source": [
    "gcu.report_geocoding(records)"
   ]
  },
  {
   "cell_type": "markdown",
   "metadata": {
    "pycharm": {
     "name": "#%% md\n"
    }
   },
   "source": [
    "# Map and save results"
   ]
  },
  {
   "cell_type": "code",
   "execution_count": 37,
   "metadata": {
    "pycharm": {
     "name": "#%%\n"
    }
   },
   "outputs": [],
   "source": [
    "results = records.copy()"
   ]
  },
  {
   "cell_type": "code",
   "execution_count": 38,
   "metadata": {
    "pycharm": {
     "name": "#%%\n"
    }
   },
   "outputs": [
    {
     "data": {
      "text/plain": "array(['orgunitlevel4 and adm1 query Google',\n       'Location from Health Sites IO and within admin 1',\n       'District centroid', 'NAME and adm2 query Bing',\n       'NAME and adm2 query Google', 'orgunitlevel4 and adm1 query Bing',\n       'orgunitlevel4 and adm1 query OSM', 'NAME and adm2 query OSM',\n       'None'], dtype=object)"
     },
     "execution_count": 38,
     "metadata": {},
     "output_type": "execute_result"
    }
   ],
   "source": [
    "results.geocoding_method.unique()"
   ]
  },
  {
   "cell_type": "code",
   "execution_count": 39,
   "metadata": {
    "pycharm": {
     "name": "#%%\n"
    }
   },
   "outputs": [],
   "source": [
    "# facility name and adm 3\n",
    "results.loc[results.geocoding_method==\"NAME and adm3 query Bing\", \"geocoding_method\"] = \"orgunitlevel6 and adm3 query\"\n",
    "results.loc[results.geocoding_method==\"NAME and adm3 query OSM\", \"geocoding_method\"] = \"orgunitlevel6 and adm3 query\"\n",
    "results.loc[results.geocoding_method==\"NAME and adm3 query Google\", \"geocoding_method\"] = \"orgunitlevel6 and adm3 query\"\n",
    "\n",
    "# facility name and adm 2\n",
    "results.loc[results.geocoding_method==\"NAME and adm2 query Bing\", \"geocoding_method\"] = \"orgunitlevel6 and adm2 query\"\n",
    "results.loc[results.geocoding_method==\"NAME and adm2 query OSM\", \"geocoding_method\"] = \"orgunitlevel6 and adm2 query\"\n",
    "results.loc[results.geocoding_method==\"NAME and adm2 query Google\", \"geocoding_method\"] = \"orgunitlevel6 and adm2 query\"\n",
    "\n",
    "# facility name and adm 1\n",
    "results.loc[results.geocoding_method==\"NAME and adm1 query Bing\", \"geocoding_method\"] = \"orgunitlevel6 and adm1 query\"\n",
    "results.loc[results.geocoding_method==\"NAME and adm1 query OSM\", \"geocoding_method\"] = \"orgunitlevel6 and adm1 query\"\n",
    "results.loc[results.geocoding_method==\"NAME and adm1 query Google\", \"geocoding_method\"] = \"orgunitlevel6 and adm1 query\"\n",
    "\n",
    "# facility name and adm 3\n",
    "results.loc[results.geocoding_method==\"NAME5 and adm3 query Bing\", \"geocoding_method\"] = \"orgunitlevel5 and adm3 query\"\n",
    "results.loc[results.geocoding_method==\"NAME5 and adm3 query OSM\", \"geocoding_method\"] = \"orgunitlevel5 and adm3 query\"\n",
    "results.loc[results.geocoding_method==\"NAME5 and adm3 query Google\", \"geocoding_method\"] = \"orgunitlevel5 and adm3 query\"\n",
    "\n",
    "# facility name and adm 2\n",
    "results.loc[results.geocoding_method==\"NAME5 and adm2 query Bing\", \"geocoding_method\"] = \"orgunitlevel5 and adm2 query\"\n",
    "results.loc[results.geocoding_method==\"NAME5 and adm2 query OSM\", \"geocoding_method\"] = \"orgunitlevel5 and adm2 query\"\n",
    "results.loc[results.geocoding_method==\"NAME5 and adm2 query Google\", \"geocoding_method\"] = \"orgunitlevel5 and adm2 query\"\n",
    "\n",
    "# facility name and adm 1\n",
    "results.loc[results.geocoding_method==\"NAME5 and adm1 query Bing\", \"geocoding_method\"] = \"orgunitlevel5 and adm1 query\"\n",
    "results.loc[results.geocoding_method==\"NAME5 and adm1 query OSM\", \"geocoding_method\"] = \"orgunitlevel5 and adm1 query\"\n",
    "results.loc[results.geocoding_method==\"NAME5 and adm1 query Google\", \"geocoding_method\"] = \"orgunitlevel5 and adm1 query\"\n",
    "\n",
    "# adm 3 name\n",
    "results.loc[results.geocoding_method==\"orgunitlevel4 query Bing\", \"geocoding_method\"] = \"orgunitlevel4 query\"\n",
    "results.loc[results.geocoding_method==\"orgunitlevel4 query OSM\", \"geocoding_method\"] = \"orgunitlevel4 query\"\n",
    "results.loc[results.geocoding_method==\"orgunitlevel4 query Google\", \"geocoding_method\"] = \"orgunitlevel4 query\"\n",
    "\n",
    "# adm 3 name and adm2\n",
    "results.loc[results.geocoding_method==\"orgunitlevel4 and adm2 query Bing\", \"geocoding_method\"] = \"orgunitlevel4 and adm2 query\"\n",
    "results.loc[results.geocoding_method==\"orgunitlevel4 and adm2 query OSM\", \"geocoding_method\"] = \"orgunitlevel4 and adm2 query\"\n",
    "results.loc[results.geocoding_method==\"orgunitlevel4 and adm2 query Google\", \"geocoding_method\"] = \"orgunitlevel4 and adm2 query\"\n",
    "\n",
    "# adm 3 name and adm2\n",
    "results.loc[results.geocoding_method==\"orgunitlevel4 and adm1 query Bing\", \"geocoding_method\"] = \"orgunitlevel4 and adm1 query\"\n",
    "results.loc[results.geocoding_method==\"orgunitlevel4 and adm1 query OSM\", \"geocoding_method\"] = \"orgunitlevel4 and adm1 query\"\n",
    "results.loc[results.geocoding_method==\"orgunitlevel4 and adm1 query Google\", \"geocoding_method\"] = \"orgunitlevel4 and adm1 query\"\n",
    "\n",
    "# Centroid\n",
    "results.loc[results.geocoding_method==\"District centroid\", \"geocoding_method\"] = \"Adm3 centroid\""
   ]
  },
  {
   "cell_type": "code",
   "execution_count": 40,
   "metadata": {
    "pycharm": {
     "name": "#%%\n"
    }
   },
   "outputs": [
    {
     "data": {
      "text/plain": "<pandas.io.formats.style.Styler at 0x1a01c8210>",
      "text/html": "<style type=\"text/css\">\n</style>\n<table id=\"T_4cfc3\">\n  <thead>\n    <tr>\n      <th class=\"blank level0\" >&nbsp;</th>\n      <th id=\"T_4cfc3_level0_col0\" class=\"col_heading level0 col0\" >count</th>\n      <th id=\"T_4cfc3_level0_col1\" class=\"col_heading level0 col1\" >pct</th>\n    </tr>\n    <tr>\n      <th class=\"index_name level0\" >geocoding_method</th>\n      <th class=\"blank col0\" >&nbsp;</th>\n      <th class=\"blank col1\" >&nbsp;</th>\n    </tr>\n  </thead>\n  <tbody>\n    <tr>\n      <th id=\"T_4cfc3_level0_row0\" class=\"row_heading level0 row0\" >Adm3 centroid</th>\n      <td id=\"T_4cfc3_row0_col0\" class=\"data row0 col0\" >67</td>\n      <td id=\"T_4cfc3_row0_col1\" class=\"data row0 col1\" >7.9%</td>\n    </tr>\n    <tr>\n      <th id=\"T_4cfc3_level0_row1\" class=\"row_heading level0 row1\" >Location from Health Sites IO and within admin 1</th>\n      <td id=\"T_4cfc3_row1_col0\" class=\"data row1 col0\" >499</td>\n      <td id=\"T_4cfc3_row1_col1\" class=\"data row1 col1\" >58.8%</td>\n    </tr>\n    <tr>\n      <th id=\"T_4cfc3_level0_row2\" class=\"row_heading level0 row2\" >None</th>\n      <td id=\"T_4cfc3_row2_col0\" class=\"data row2 col0\" >1</td>\n      <td id=\"T_4cfc3_row2_col1\" class=\"data row2 col1\" >0.1%</td>\n    </tr>\n    <tr>\n      <th id=\"T_4cfc3_level0_row3\" class=\"row_heading level0 row3\" >orgunitlevel4 and adm1 query</th>\n      <td id=\"T_4cfc3_row3_col0\" class=\"data row3 col0\" >137</td>\n      <td id=\"T_4cfc3_row3_col1\" class=\"data row3 col1\" >16.2%</td>\n    </tr>\n    <tr>\n      <th id=\"T_4cfc3_level0_row4\" class=\"row_heading level0 row4\" >orgunitlevel6 and adm2 query</th>\n      <td id=\"T_4cfc3_row4_col0\" class=\"data row4 col0\" >144</td>\n      <td id=\"T_4cfc3_row4_col1\" class=\"data row4 col1\" >17.0%</td>\n    </tr>\n  </tbody>\n</table>\n"
     },
     "execution_count": 40,
     "metadata": {},
     "output_type": "execute_result"
    }
   ],
   "source": [
    "gcu.report_geocoding(results)"
   ]
  },
  {
   "cell_type": "code",
   "execution_count": 41,
   "metadata": {
    "pycharm": {
     "name": "#%%\n"
    }
   },
   "outputs": [],
   "source": [
    "results.loc[:, \"geometry\"] = results.apply(lambda x: Point(x.longitude, x.latitude), axis=1)\n",
    "results = gpd.GeoDataFrame(results, geometry='geometry', crs='EPSG:4326')"
   ]
  },
  {
   "cell_type": "code",
   "execution_count": 42,
   "metadata": {
    "pycharm": {
     "name": "#%%\n"
    }
   },
   "outputs": [
    {
     "ename": "SSLError",
     "evalue": "HTTPSConnectionPool(host='stamen-tiles-a.a.ssl.fastly.net', port=443): Max retries exceeded with url: /terrain/8/119/121.png (Caused by SSLError(SSLCertVerificationError(1, '[SSL: CERTIFICATE_VERIFY_FAILED] certificate verify failed: unable to get local issuer certificate (_ssl.c:992)')))",
     "output_type": "error",
     "traceback": [
      "\u001B[0;31m---------------------------------------------------------------------------\u001B[0m",
      "\u001B[0;31mSSLCertVerificationError\u001B[0m                  Traceback (most recent call last)",
      "File \u001B[0;32m~/opt/anaconda3/envs/health/lib/python3.11/site-packages/urllib3/connectionpool.py:703\u001B[0m, in \u001B[0;36mHTTPConnectionPool.urlopen\u001B[0;34m(self, method, url, body, headers, retries, redirect, assert_same_host, timeout, pool_timeout, release_conn, chunked, body_pos, **response_kw)\u001B[0m\n\u001B[1;32m    702\u001B[0m \u001B[38;5;66;03m# Make the request on the httplib connection object.\u001B[39;00m\n\u001B[0;32m--> 703\u001B[0m httplib_response \u001B[38;5;241m=\u001B[39m \u001B[38;5;28;43mself\u001B[39;49m\u001B[38;5;241;43m.\u001B[39;49m\u001B[43m_make_request\u001B[49m\u001B[43m(\u001B[49m\n\u001B[1;32m    704\u001B[0m \u001B[43m    \u001B[49m\u001B[43mconn\u001B[49m\u001B[43m,\u001B[49m\n\u001B[1;32m    705\u001B[0m \u001B[43m    \u001B[49m\u001B[43mmethod\u001B[49m\u001B[43m,\u001B[49m\n\u001B[1;32m    706\u001B[0m \u001B[43m    \u001B[49m\u001B[43murl\u001B[49m\u001B[43m,\u001B[49m\n\u001B[1;32m    707\u001B[0m \u001B[43m    \u001B[49m\u001B[43mtimeout\u001B[49m\u001B[38;5;241;43m=\u001B[39;49m\u001B[43mtimeout_obj\u001B[49m\u001B[43m,\u001B[49m\n\u001B[1;32m    708\u001B[0m \u001B[43m    \u001B[49m\u001B[43mbody\u001B[49m\u001B[38;5;241;43m=\u001B[39;49m\u001B[43mbody\u001B[49m\u001B[43m,\u001B[49m\n\u001B[1;32m    709\u001B[0m \u001B[43m    \u001B[49m\u001B[43mheaders\u001B[49m\u001B[38;5;241;43m=\u001B[39;49m\u001B[43mheaders\u001B[49m\u001B[43m,\u001B[49m\n\u001B[1;32m    710\u001B[0m \u001B[43m    \u001B[49m\u001B[43mchunked\u001B[49m\u001B[38;5;241;43m=\u001B[39;49m\u001B[43mchunked\u001B[49m\u001B[43m,\u001B[49m\n\u001B[1;32m    711\u001B[0m \u001B[43m\u001B[49m\u001B[43m)\u001B[49m\n\u001B[1;32m    713\u001B[0m \u001B[38;5;66;03m# If we're going to release the connection in ``finally:``, then\u001B[39;00m\n\u001B[1;32m    714\u001B[0m \u001B[38;5;66;03m# the response doesn't need to know about the connection. Otherwise\u001B[39;00m\n\u001B[1;32m    715\u001B[0m \u001B[38;5;66;03m# it will also try to release it and we'll have a double-release\u001B[39;00m\n\u001B[1;32m    716\u001B[0m \u001B[38;5;66;03m# mess.\u001B[39;00m\n",
      "File \u001B[0;32m~/opt/anaconda3/envs/health/lib/python3.11/site-packages/urllib3/connectionpool.py:386\u001B[0m, in \u001B[0;36mHTTPConnectionPool._make_request\u001B[0;34m(self, conn, method, url, timeout, chunked, **httplib_request_kw)\u001B[0m\n\u001B[1;32m    385\u001B[0m \u001B[38;5;28;01mtry\u001B[39;00m:\n\u001B[0;32m--> 386\u001B[0m     \u001B[38;5;28;43mself\u001B[39;49m\u001B[38;5;241;43m.\u001B[39;49m\u001B[43m_validate_conn\u001B[49m\u001B[43m(\u001B[49m\u001B[43mconn\u001B[49m\u001B[43m)\u001B[49m\n\u001B[1;32m    387\u001B[0m \u001B[38;5;28;01mexcept\u001B[39;00m (SocketTimeout, BaseSSLError) \u001B[38;5;28;01mas\u001B[39;00m e:\n\u001B[1;32m    388\u001B[0m     \u001B[38;5;66;03m# Py2 raises this as a BaseSSLError, Py3 raises it as socket timeout.\u001B[39;00m\n",
      "File \u001B[0;32m~/opt/anaconda3/envs/health/lib/python3.11/site-packages/urllib3/connectionpool.py:1042\u001B[0m, in \u001B[0;36mHTTPSConnectionPool._validate_conn\u001B[0;34m(self, conn)\u001B[0m\n\u001B[1;32m   1041\u001B[0m \u001B[38;5;28;01mif\u001B[39;00m \u001B[38;5;129;01mnot\u001B[39;00m \u001B[38;5;28mgetattr\u001B[39m(conn, \u001B[38;5;124m\"\u001B[39m\u001B[38;5;124msock\u001B[39m\u001B[38;5;124m\"\u001B[39m, \u001B[38;5;28;01mNone\u001B[39;00m):  \u001B[38;5;66;03m# AppEngine might not have  `.sock`\u001B[39;00m\n\u001B[0;32m-> 1042\u001B[0m     \u001B[43mconn\u001B[49m\u001B[38;5;241;43m.\u001B[39;49m\u001B[43mconnect\u001B[49m\u001B[43m(\u001B[49m\u001B[43m)\u001B[49m\n\u001B[1;32m   1044\u001B[0m \u001B[38;5;28;01mif\u001B[39;00m \u001B[38;5;129;01mnot\u001B[39;00m conn\u001B[38;5;241m.\u001B[39mis_verified:\n",
      "File \u001B[0;32m~/opt/anaconda3/envs/health/lib/python3.11/site-packages/urllib3/connection.py:414\u001B[0m, in \u001B[0;36mHTTPSConnection.connect\u001B[0;34m(self)\u001B[0m\n\u001B[1;32m    412\u001B[0m     context\u001B[38;5;241m.\u001B[39mload_default_certs()\n\u001B[0;32m--> 414\u001B[0m \u001B[38;5;28mself\u001B[39m\u001B[38;5;241m.\u001B[39msock \u001B[38;5;241m=\u001B[39m \u001B[43mssl_wrap_socket\u001B[49m\u001B[43m(\u001B[49m\n\u001B[1;32m    415\u001B[0m \u001B[43m    \u001B[49m\u001B[43msock\u001B[49m\u001B[38;5;241;43m=\u001B[39;49m\u001B[43mconn\u001B[49m\u001B[43m,\u001B[49m\n\u001B[1;32m    416\u001B[0m \u001B[43m    \u001B[49m\u001B[43mkeyfile\u001B[49m\u001B[38;5;241;43m=\u001B[39;49m\u001B[38;5;28;43mself\u001B[39;49m\u001B[38;5;241;43m.\u001B[39;49m\u001B[43mkey_file\u001B[49m\u001B[43m,\u001B[49m\n\u001B[1;32m    417\u001B[0m \u001B[43m    \u001B[49m\u001B[43mcertfile\u001B[49m\u001B[38;5;241;43m=\u001B[39;49m\u001B[38;5;28;43mself\u001B[39;49m\u001B[38;5;241;43m.\u001B[39;49m\u001B[43mcert_file\u001B[49m\u001B[43m,\u001B[49m\n\u001B[1;32m    418\u001B[0m \u001B[43m    \u001B[49m\u001B[43mkey_password\u001B[49m\u001B[38;5;241;43m=\u001B[39;49m\u001B[38;5;28;43mself\u001B[39;49m\u001B[38;5;241;43m.\u001B[39;49m\u001B[43mkey_password\u001B[49m\u001B[43m,\u001B[49m\n\u001B[1;32m    419\u001B[0m \u001B[43m    \u001B[49m\u001B[43mca_certs\u001B[49m\u001B[38;5;241;43m=\u001B[39;49m\u001B[38;5;28;43mself\u001B[39;49m\u001B[38;5;241;43m.\u001B[39;49m\u001B[43mca_certs\u001B[49m\u001B[43m,\u001B[49m\n\u001B[1;32m    420\u001B[0m \u001B[43m    \u001B[49m\u001B[43mca_cert_dir\u001B[49m\u001B[38;5;241;43m=\u001B[39;49m\u001B[38;5;28;43mself\u001B[39;49m\u001B[38;5;241;43m.\u001B[39;49m\u001B[43mca_cert_dir\u001B[49m\u001B[43m,\u001B[49m\n\u001B[1;32m    421\u001B[0m \u001B[43m    \u001B[49m\u001B[43mca_cert_data\u001B[49m\u001B[38;5;241;43m=\u001B[39;49m\u001B[38;5;28;43mself\u001B[39;49m\u001B[38;5;241;43m.\u001B[39;49m\u001B[43mca_cert_data\u001B[49m\u001B[43m,\u001B[49m\n\u001B[1;32m    422\u001B[0m \u001B[43m    \u001B[49m\u001B[43mserver_hostname\u001B[49m\u001B[38;5;241;43m=\u001B[39;49m\u001B[43mserver_hostname\u001B[49m\u001B[43m,\u001B[49m\n\u001B[1;32m    423\u001B[0m \u001B[43m    \u001B[49m\u001B[43mssl_context\u001B[49m\u001B[38;5;241;43m=\u001B[39;49m\u001B[43mcontext\u001B[49m\u001B[43m,\u001B[49m\n\u001B[1;32m    424\u001B[0m \u001B[43m    \u001B[49m\u001B[43mtls_in_tls\u001B[49m\u001B[38;5;241;43m=\u001B[39;49m\u001B[43mtls_in_tls\u001B[49m\u001B[43m,\u001B[49m\n\u001B[1;32m    425\u001B[0m \u001B[43m\u001B[49m\u001B[43m)\u001B[49m\n\u001B[1;32m    427\u001B[0m \u001B[38;5;66;03m# If we're using all defaults and the connection\u001B[39;00m\n\u001B[1;32m    428\u001B[0m \u001B[38;5;66;03m# is TLSv1 or TLSv1.1 we throw a DeprecationWarning\u001B[39;00m\n\u001B[1;32m    429\u001B[0m \u001B[38;5;66;03m# for the host.\u001B[39;00m\n",
      "File \u001B[0;32m~/opt/anaconda3/envs/health/lib/python3.11/site-packages/urllib3/util/ssl_.py:449\u001B[0m, in \u001B[0;36mssl_wrap_socket\u001B[0;34m(sock, keyfile, certfile, cert_reqs, ca_certs, server_hostname, ssl_version, ciphers, ssl_context, ca_cert_dir, key_password, ca_cert_data, tls_in_tls)\u001B[0m\n\u001B[1;32m    448\u001B[0m \u001B[38;5;28;01mif\u001B[39;00m send_sni:\n\u001B[0;32m--> 449\u001B[0m     ssl_sock \u001B[38;5;241m=\u001B[39m \u001B[43m_ssl_wrap_socket_impl\u001B[49m\u001B[43m(\u001B[49m\n\u001B[1;32m    450\u001B[0m \u001B[43m        \u001B[49m\u001B[43msock\u001B[49m\u001B[43m,\u001B[49m\u001B[43m \u001B[49m\u001B[43mcontext\u001B[49m\u001B[43m,\u001B[49m\u001B[43m \u001B[49m\u001B[43mtls_in_tls\u001B[49m\u001B[43m,\u001B[49m\u001B[43m \u001B[49m\u001B[43mserver_hostname\u001B[49m\u001B[38;5;241;43m=\u001B[39;49m\u001B[43mserver_hostname\u001B[49m\n\u001B[1;32m    451\u001B[0m \u001B[43m    \u001B[49m\u001B[43m)\u001B[49m\n\u001B[1;32m    452\u001B[0m \u001B[38;5;28;01melse\u001B[39;00m:\n",
      "File \u001B[0;32m~/opt/anaconda3/envs/health/lib/python3.11/site-packages/urllib3/util/ssl_.py:493\u001B[0m, in \u001B[0;36m_ssl_wrap_socket_impl\u001B[0;34m(sock, ssl_context, tls_in_tls, server_hostname)\u001B[0m\n\u001B[1;32m    492\u001B[0m \u001B[38;5;28;01mif\u001B[39;00m server_hostname:\n\u001B[0;32m--> 493\u001B[0m     \u001B[38;5;28;01mreturn\u001B[39;00m \u001B[43mssl_context\u001B[49m\u001B[38;5;241;43m.\u001B[39;49m\u001B[43mwrap_socket\u001B[49m\u001B[43m(\u001B[49m\u001B[43msock\u001B[49m\u001B[43m,\u001B[49m\u001B[43m \u001B[49m\u001B[43mserver_hostname\u001B[49m\u001B[38;5;241;43m=\u001B[39;49m\u001B[43mserver_hostname\u001B[49m\u001B[43m)\u001B[49m\n\u001B[1;32m    494\u001B[0m \u001B[38;5;28;01melse\u001B[39;00m:\n",
      "File \u001B[0;32m~/opt/anaconda3/envs/health/lib/python3.11/ssl.py:517\u001B[0m, in \u001B[0;36mSSLContext.wrap_socket\u001B[0;34m(self, sock, server_side, do_handshake_on_connect, suppress_ragged_eofs, server_hostname, session)\u001B[0m\n\u001B[1;32m    511\u001B[0m \u001B[38;5;28;01mdef\u001B[39;00m \u001B[38;5;21mwrap_socket\u001B[39m(\u001B[38;5;28mself\u001B[39m, sock, server_side\u001B[38;5;241m=\u001B[39m\u001B[38;5;28;01mFalse\u001B[39;00m,\n\u001B[1;32m    512\u001B[0m                 do_handshake_on_connect\u001B[38;5;241m=\u001B[39m\u001B[38;5;28;01mTrue\u001B[39;00m,\n\u001B[1;32m    513\u001B[0m                 suppress_ragged_eofs\u001B[38;5;241m=\u001B[39m\u001B[38;5;28;01mTrue\u001B[39;00m,\n\u001B[1;32m    514\u001B[0m                 server_hostname\u001B[38;5;241m=\u001B[39m\u001B[38;5;28;01mNone\u001B[39;00m, session\u001B[38;5;241m=\u001B[39m\u001B[38;5;28;01mNone\u001B[39;00m):\n\u001B[1;32m    515\u001B[0m     \u001B[38;5;66;03m# SSLSocket class handles server_hostname encoding before it calls\u001B[39;00m\n\u001B[1;32m    516\u001B[0m     \u001B[38;5;66;03m# ctx._wrap_socket()\u001B[39;00m\n\u001B[0;32m--> 517\u001B[0m     \u001B[38;5;28;01mreturn\u001B[39;00m \u001B[38;5;28;43mself\u001B[39;49m\u001B[38;5;241;43m.\u001B[39;49m\u001B[43msslsocket_class\u001B[49m\u001B[38;5;241;43m.\u001B[39;49m\u001B[43m_create\u001B[49m\u001B[43m(\u001B[49m\n\u001B[1;32m    518\u001B[0m \u001B[43m        \u001B[49m\u001B[43msock\u001B[49m\u001B[38;5;241;43m=\u001B[39;49m\u001B[43msock\u001B[49m\u001B[43m,\u001B[49m\n\u001B[1;32m    519\u001B[0m \u001B[43m        \u001B[49m\u001B[43mserver_side\u001B[49m\u001B[38;5;241;43m=\u001B[39;49m\u001B[43mserver_side\u001B[49m\u001B[43m,\u001B[49m\n\u001B[1;32m    520\u001B[0m \u001B[43m        \u001B[49m\u001B[43mdo_handshake_on_connect\u001B[49m\u001B[38;5;241;43m=\u001B[39;49m\u001B[43mdo_handshake_on_connect\u001B[49m\u001B[43m,\u001B[49m\n\u001B[1;32m    521\u001B[0m \u001B[43m        \u001B[49m\u001B[43msuppress_ragged_eofs\u001B[49m\u001B[38;5;241;43m=\u001B[39;49m\u001B[43msuppress_ragged_eofs\u001B[49m\u001B[43m,\u001B[49m\n\u001B[1;32m    522\u001B[0m \u001B[43m        \u001B[49m\u001B[43mserver_hostname\u001B[49m\u001B[38;5;241;43m=\u001B[39;49m\u001B[43mserver_hostname\u001B[49m\u001B[43m,\u001B[49m\n\u001B[1;32m    523\u001B[0m \u001B[43m        \u001B[49m\u001B[43mcontext\u001B[49m\u001B[38;5;241;43m=\u001B[39;49m\u001B[38;5;28;43mself\u001B[39;49m\u001B[43m,\u001B[49m\n\u001B[1;32m    524\u001B[0m \u001B[43m        \u001B[49m\u001B[43msession\u001B[49m\u001B[38;5;241;43m=\u001B[39;49m\u001B[43msession\u001B[49m\n\u001B[1;32m    525\u001B[0m \u001B[43m    \u001B[49m\u001B[43m)\u001B[49m\n",
      "File \u001B[0;32m~/opt/anaconda3/envs/health/lib/python3.11/ssl.py:1075\u001B[0m, in \u001B[0;36mSSLSocket._create\u001B[0;34m(cls, sock, server_side, do_handshake_on_connect, suppress_ragged_eofs, server_hostname, context, session)\u001B[0m\n\u001B[1;32m   1074\u001B[0m             \u001B[38;5;28;01mraise\u001B[39;00m \u001B[38;5;167;01mValueError\u001B[39;00m(\u001B[38;5;124m\"\u001B[39m\u001B[38;5;124mdo_handshake_on_connect should not be specified for non-blocking sockets\u001B[39m\u001B[38;5;124m\"\u001B[39m)\n\u001B[0;32m-> 1075\u001B[0m         \u001B[38;5;28;43mself\u001B[39;49m\u001B[38;5;241;43m.\u001B[39;49m\u001B[43mdo_handshake\u001B[49m\u001B[43m(\u001B[49m\u001B[43m)\u001B[49m\n\u001B[1;32m   1076\u001B[0m \u001B[38;5;28;01mexcept\u001B[39;00m (\u001B[38;5;167;01mOSError\u001B[39;00m, \u001B[38;5;167;01mValueError\u001B[39;00m):\n",
      "File \u001B[0;32m~/opt/anaconda3/envs/health/lib/python3.11/ssl.py:1346\u001B[0m, in \u001B[0;36mSSLSocket.do_handshake\u001B[0;34m(self, block)\u001B[0m\n\u001B[1;32m   1345\u001B[0m         \u001B[38;5;28mself\u001B[39m\u001B[38;5;241m.\u001B[39msettimeout(\u001B[38;5;28;01mNone\u001B[39;00m)\n\u001B[0;32m-> 1346\u001B[0m     \u001B[38;5;28mself\u001B[39m\u001B[38;5;241m.\u001B[39m_sslobj\u001B[38;5;241m.\u001B[39mdo_handshake()\n\u001B[1;32m   1347\u001B[0m \u001B[38;5;28;01mfinally\u001B[39;00m:\n",
      "\u001B[0;31mSSLCertVerificationError\u001B[0m: [SSL: CERTIFICATE_VERIFY_FAILED] certificate verify failed: unable to get local issuer certificate (_ssl.c:992)",
      "\nDuring handling of the above exception, another exception occurred:\n",
      "\u001B[0;31mMaxRetryError\u001B[0m                             Traceback (most recent call last)",
      "File \u001B[0;32m~/opt/anaconda3/envs/health/lib/python3.11/site-packages/requests/adapters.py:489\u001B[0m, in \u001B[0;36mHTTPAdapter.send\u001B[0;34m(self, request, stream, timeout, verify, cert, proxies)\u001B[0m\n\u001B[1;32m    488\u001B[0m \u001B[38;5;28;01mif\u001B[39;00m \u001B[38;5;129;01mnot\u001B[39;00m chunked:\n\u001B[0;32m--> 489\u001B[0m     resp \u001B[38;5;241m=\u001B[39m \u001B[43mconn\u001B[49m\u001B[38;5;241;43m.\u001B[39;49m\u001B[43murlopen\u001B[49m\u001B[43m(\u001B[49m\n\u001B[1;32m    490\u001B[0m \u001B[43m        \u001B[49m\u001B[43mmethod\u001B[49m\u001B[38;5;241;43m=\u001B[39;49m\u001B[43mrequest\u001B[49m\u001B[38;5;241;43m.\u001B[39;49m\u001B[43mmethod\u001B[49m\u001B[43m,\u001B[49m\n\u001B[1;32m    491\u001B[0m \u001B[43m        \u001B[49m\u001B[43murl\u001B[49m\u001B[38;5;241;43m=\u001B[39;49m\u001B[43murl\u001B[49m\u001B[43m,\u001B[49m\n\u001B[1;32m    492\u001B[0m \u001B[43m        \u001B[49m\u001B[43mbody\u001B[49m\u001B[38;5;241;43m=\u001B[39;49m\u001B[43mrequest\u001B[49m\u001B[38;5;241;43m.\u001B[39;49m\u001B[43mbody\u001B[49m\u001B[43m,\u001B[49m\n\u001B[1;32m    493\u001B[0m \u001B[43m        \u001B[49m\u001B[43mheaders\u001B[49m\u001B[38;5;241;43m=\u001B[39;49m\u001B[43mrequest\u001B[49m\u001B[38;5;241;43m.\u001B[39;49m\u001B[43mheaders\u001B[49m\u001B[43m,\u001B[49m\n\u001B[1;32m    494\u001B[0m \u001B[43m        \u001B[49m\u001B[43mredirect\u001B[49m\u001B[38;5;241;43m=\u001B[39;49m\u001B[38;5;28;43;01mFalse\u001B[39;49;00m\u001B[43m,\u001B[49m\n\u001B[1;32m    495\u001B[0m \u001B[43m        \u001B[49m\u001B[43massert_same_host\u001B[49m\u001B[38;5;241;43m=\u001B[39;49m\u001B[38;5;28;43;01mFalse\u001B[39;49;00m\u001B[43m,\u001B[49m\n\u001B[1;32m    496\u001B[0m \u001B[43m        \u001B[49m\u001B[43mpreload_content\u001B[49m\u001B[38;5;241;43m=\u001B[39;49m\u001B[38;5;28;43;01mFalse\u001B[39;49;00m\u001B[43m,\u001B[49m\n\u001B[1;32m    497\u001B[0m \u001B[43m        \u001B[49m\u001B[43mdecode_content\u001B[49m\u001B[38;5;241;43m=\u001B[39;49m\u001B[38;5;28;43;01mFalse\u001B[39;49;00m\u001B[43m,\u001B[49m\n\u001B[1;32m    498\u001B[0m \u001B[43m        \u001B[49m\u001B[43mretries\u001B[49m\u001B[38;5;241;43m=\u001B[39;49m\u001B[38;5;28;43mself\u001B[39;49m\u001B[38;5;241;43m.\u001B[39;49m\u001B[43mmax_retries\u001B[49m\u001B[43m,\u001B[49m\n\u001B[1;32m    499\u001B[0m \u001B[43m        \u001B[49m\u001B[43mtimeout\u001B[49m\u001B[38;5;241;43m=\u001B[39;49m\u001B[43mtimeout\u001B[49m\u001B[43m,\u001B[49m\n\u001B[1;32m    500\u001B[0m \u001B[43m    \u001B[49m\u001B[43m)\u001B[49m\n\u001B[1;32m    502\u001B[0m \u001B[38;5;66;03m# Send the request.\u001B[39;00m\n\u001B[1;32m    503\u001B[0m \u001B[38;5;28;01melse\u001B[39;00m:\n",
      "File \u001B[0;32m~/opt/anaconda3/envs/health/lib/python3.11/site-packages/urllib3/connectionpool.py:787\u001B[0m, in \u001B[0;36mHTTPConnectionPool.urlopen\u001B[0;34m(self, method, url, body, headers, retries, redirect, assert_same_host, timeout, pool_timeout, release_conn, chunked, body_pos, **response_kw)\u001B[0m\n\u001B[1;32m    785\u001B[0m     e \u001B[38;5;241m=\u001B[39m ProtocolError(\u001B[38;5;124m\"\u001B[39m\u001B[38;5;124mConnection aborted.\u001B[39m\u001B[38;5;124m\"\u001B[39m, e)\n\u001B[0;32m--> 787\u001B[0m retries \u001B[38;5;241m=\u001B[39m \u001B[43mretries\u001B[49m\u001B[38;5;241;43m.\u001B[39;49m\u001B[43mincrement\u001B[49m\u001B[43m(\u001B[49m\n\u001B[1;32m    788\u001B[0m \u001B[43m    \u001B[49m\u001B[43mmethod\u001B[49m\u001B[43m,\u001B[49m\u001B[43m \u001B[49m\u001B[43murl\u001B[49m\u001B[43m,\u001B[49m\u001B[43m \u001B[49m\u001B[43merror\u001B[49m\u001B[38;5;241;43m=\u001B[39;49m\u001B[43me\u001B[49m\u001B[43m,\u001B[49m\u001B[43m \u001B[49m\u001B[43m_pool\u001B[49m\u001B[38;5;241;43m=\u001B[39;49m\u001B[38;5;28;43mself\u001B[39;49m\u001B[43m,\u001B[49m\u001B[43m \u001B[49m\u001B[43m_stacktrace\u001B[49m\u001B[38;5;241;43m=\u001B[39;49m\u001B[43msys\u001B[49m\u001B[38;5;241;43m.\u001B[39;49m\u001B[43mexc_info\u001B[49m\u001B[43m(\u001B[49m\u001B[43m)\u001B[49m\u001B[43m[\u001B[49m\u001B[38;5;241;43m2\u001B[39;49m\u001B[43m]\u001B[49m\n\u001B[1;32m    789\u001B[0m \u001B[43m\u001B[49m\u001B[43m)\u001B[49m\n\u001B[1;32m    790\u001B[0m retries\u001B[38;5;241m.\u001B[39msleep()\n",
      "File \u001B[0;32m~/opt/anaconda3/envs/health/lib/python3.11/site-packages/urllib3/util/retry.py:592\u001B[0m, in \u001B[0;36mRetry.increment\u001B[0;34m(self, method, url, response, error, _pool, _stacktrace)\u001B[0m\n\u001B[1;32m    591\u001B[0m \u001B[38;5;28;01mif\u001B[39;00m new_retry\u001B[38;5;241m.\u001B[39mis_exhausted():\n\u001B[0;32m--> 592\u001B[0m     \u001B[38;5;28;01mraise\u001B[39;00m MaxRetryError(_pool, url, error \u001B[38;5;129;01mor\u001B[39;00m ResponseError(cause))\n\u001B[1;32m    594\u001B[0m log\u001B[38;5;241m.\u001B[39mdebug(\u001B[38;5;124m\"\u001B[39m\u001B[38;5;124mIncremented Retry for (url=\u001B[39m\u001B[38;5;124m'\u001B[39m\u001B[38;5;132;01m%s\u001B[39;00m\u001B[38;5;124m'\u001B[39m\u001B[38;5;124m): \u001B[39m\u001B[38;5;132;01m%r\u001B[39;00m\u001B[38;5;124m\"\u001B[39m, url, new_retry)\n",
      "\u001B[0;31mMaxRetryError\u001B[0m: HTTPSConnectionPool(host='stamen-tiles-a.a.ssl.fastly.net', port=443): Max retries exceeded with url: /terrain/8/119/121.png (Caused by SSLError(SSLCertVerificationError(1, '[SSL: CERTIFICATE_VERIFY_FAILED] certificate verify failed: unable to get local issuer certificate (_ssl.c:992)')))",
      "\nDuring handling of the above exception, another exception occurred:\n",
      "\u001B[0;31mSSLError\u001B[0m                                  Traceback (most recent call last)",
      "Cell \u001B[0;32mIn[42], line 4\u001B[0m\n\u001B[1;32m      2\u001B[0m smallest_geob\u001B[38;5;241m.\u001B[39mboundary\u001B[38;5;241m.\u001B[39mplot(ax\u001B[38;5;241m=\u001B[39max, color\u001B[38;5;241m=\u001B[39m\u001B[38;5;124m'\u001B[39m\u001B[38;5;124mblack\u001B[39m\u001B[38;5;124m'\u001B[39m, linewidth\u001B[38;5;241m=\u001B[39m\u001B[38;5;241m1\u001B[39m)\u001B[38;5;241m.\u001B[39mset_axis_off()\n\u001B[1;32m      3\u001B[0m results\u001B[38;5;241m.\u001B[39mloc[results\u001B[38;5;241m.\u001B[39mgeocoding_method\u001B[38;5;241m!=\u001B[39m\u001B[38;5;124m\"\u001B[39m\u001B[38;5;124mNone\u001B[39m\u001B[38;5;124m\"\u001B[39m]\u001B[38;5;241m.\u001B[39mplot(ax\u001B[38;5;241m=\u001B[39max, column\u001B[38;5;241m=\u001B[39m\u001B[38;5;124m'\u001B[39m\u001B[38;5;124mgeocoding_method\u001B[39m\u001B[38;5;124m'\u001B[39m, edgecolor\u001B[38;5;241m=\u001B[39m\u001B[38;5;124m'\u001B[39m\u001B[38;5;124mwhite\u001B[39m\u001B[38;5;124m'\u001B[39m, markersize\u001B[38;5;241m=\u001B[39m\u001B[38;5;241m50\u001B[39m, alpha\u001B[38;5;241m=\u001B[39m\u001B[38;5;241m0.75\u001B[39m, legend\u001B[38;5;241m=\u001B[39m\u001B[38;5;28;01mTrue\u001B[39;00m)\n\u001B[0;32m----> 4\u001B[0m \u001B[43mctx\u001B[49m\u001B[38;5;241;43m.\u001B[39;49m\u001B[43madd_basemap\u001B[49m\u001B[43m(\u001B[49m\u001B[43max\u001B[49m\u001B[43m,\u001B[49m\u001B[43m \u001B[49m\u001B[43msource\u001B[49m\u001B[38;5;241;43m=\u001B[39;49m\u001B[43mctx\u001B[49m\u001B[38;5;241;43m.\u001B[39;49m\u001B[43mproviders\u001B[49m\u001B[38;5;241;43m.\u001B[39;49m\u001B[43mStamen\u001B[49m\u001B[38;5;241;43m.\u001B[39;49m\u001B[43mTerrain\u001B[49m\u001B[43m,\u001B[49m\u001B[43m \u001B[49m\u001B[43mcrs\u001B[49m\u001B[38;5;241;43m=\u001B[39;49m\u001B[38;5;124;43m'\u001B[39;49m\u001B[38;5;124;43mEPSG:4326\u001B[39;49m\u001B[38;5;124;43m'\u001B[39;49m\u001B[43m,\u001B[49m\u001B[43m \u001B[49m\u001B[43mzorder\u001B[49m\u001B[38;5;241;43m=\u001B[39;49m\u001B[38;5;241;43m-\u001B[39;49m\u001B[38;5;241;43m10\u001B[39;49m\u001B[43m)\u001B[49m\n",
      "File \u001B[0;32m~/opt/anaconda3/envs/health/lib/python3.11/site-packages/contextily/plotting.py:129\u001B[0m, in \u001B[0;36madd_basemap\u001B[0;34m(ax, zoom, source, interpolation, attribution, attribution_size, reset_extent, crs, resampling, **extra_imshow_args)\u001B[0m\n\u001B[1;32m    125\u001B[0m     left, right, bottom, top \u001B[38;5;241m=\u001B[39m _reproj_bb(\n\u001B[1;32m    126\u001B[0m         left, right, bottom, top, crs, {\u001B[38;5;124m\"\u001B[39m\u001B[38;5;124minit\u001B[39m\u001B[38;5;124m\"\u001B[39m: \u001B[38;5;124m\"\u001B[39m\u001B[38;5;124mepsg:3857\u001B[39m\u001B[38;5;124m\"\u001B[39m}\n\u001B[1;32m    127\u001B[0m     )\n\u001B[1;32m    128\u001B[0m \u001B[38;5;66;03m# Download image\u001B[39;00m\n\u001B[0;32m--> 129\u001B[0m image, extent \u001B[38;5;241m=\u001B[39m \u001B[43mbounds2img\u001B[49m\u001B[43m(\u001B[49m\n\u001B[1;32m    130\u001B[0m \u001B[43m    \u001B[49m\u001B[43mleft\u001B[49m\u001B[43m,\u001B[49m\u001B[43m \u001B[49m\u001B[43mbottom\u001B[49m\u001B[43m,\u001B[49m\u001B[43m \u001B[49m\u001B[43mright\u001B[49m\u001B[43m,\u001B[49m\u001B[43m \u001B[49m\u001B[43mtop\u001B[49m\u001B[43m,\u001B[49m\u001B[43m \u001B[49m\u001B[43mzoom\u001B[49m\u001B[38;5;241;43m=\u001B[39;49m\u001B[43mzoom\u001B[49m\u001B[43m,\u001B[49m\u001B[43m \u001B[49m\u001B[43msource\u001B[49m\u001B[38;5;241;43m=\u001B[39;49m\u001B[43msource\u001B[49m\u001B[43m,\u001B[49m\u001B[43m \u001B[49m\u001B[43mll\u001B[49m\u001B[38;5;241;43m=\u001B[39;49m\u001B[38;5;28;43;01mFalse\u001B[39;49;00m\n\u001B[1;32m    131\u001B[0m \u001B[43m\u001B[49m\u001B[43m)\u001B[49m\n\u001B[1;32m    132\u001B[0m \u001B[38;5;66;03m# Warping\u001B[39;00m\n\u001B[1;32m    133\u001B[0m \u001B[38;5;28;01mif\u001B[39;00m crs \u001B[38;5;129;01mis\u001B[39;00m \u001B[38;5;129;01mnot\u001B[39;00m \u001B[38;5;28;01mNone\u001B[39;00m:\n",
      "File \u001B[0;32m~/opt/anaconda3/envs/health/lib/python3.11/site-packages/contextily/tile.py:222\u001B[0m, in \u001B[0;36mbounds2img\u001B[0;34m(w, s, e, n, zoom, source, ll, wait, max_retries)\u001B[0m\n\u001B[1;32m    220\u001B[0m x, y, z \u001B[38;5;241m=\u001B[39m t\u001B[38;5;241m.\u001B[39mx, t\u001B[38;5;241m.\u001B[39my, t\u001B[38;5;241m.\u001B[39mz\n\u001B[1;32m    221\u001B[0m tile_url \u001B[38;5;241m=\u001B[39m provider\u001B[38;5;241m.\u001B[39mbuild_url(x\u001B[38;5;241m=\u001B[39mx, y\u001B[38;5;241m=\u001B[39my, z\u001B[38;5;241m=\u001B[39mz)\n\u001B[0;32m--> 222\u001B[0m image \u001B[38;5;241m=\u001B[39m \u001B[43m_fetch_tile\u001B[49m\u001B[43m(\u001B[49m\u001B[43mtile_url\u001B[49m\u001B[43m,\u001B[49m\u001B[43m \u001B[49m\u001B[43mwait\u001B[49m\u001B[43m,\u001B[49m\u001B[43m \u001B[49m\u001B[43mmax_retries\u001B[49m\u001B[43m)\u001B[49m\n\u001B[1;32m    223\u001B[0m tiles\u001B[38;5;241m.\u001B[39mappend(t)\n\u001B[1;32m    224\u001B[0m arrays\u001B[38;5;241m.\u001B[39mappend(image)\n",
      "File \u001B[0;32m~/opt/anaconda3/envs/health/lib/python3.11/site-packages/joblib/memory.py:594\u001B[0m, in \u001B[0;36mMemorizedFunc.__call__\u001B[0;34m(self, *args, **kwargs)\u001B[0m\n\u001B[1;32m    593\u001B[0m \u001B[38;5;28;01mdef\u001B[39;00m \u001B[38;5;21m__call__\u001B[39m(\u001B[38;5;28mself\u001B[39m, \u001B[38;5;241m*\u001B[39margs, \u001B[38;5;241m*\u001B[39m\u001B[38;5;241m*\u001B[39mkwargs):\n\u001B[0;32m--> 594\u001B[0m     \u001B[38;5;28;01mreturn\u001B[39;00m \u001B[38;5;28;43mself\u001B[39;49m\u001B[38;5;241;43m.\u001B[39;49m\u001B[43m_cached_call\u001B[49m\u001B[43m(\u001B[49m\u001B[43margs\u001B[49m\u001B[43m,\u001B[49m\u001B[43m \u001B[49m\u001B[43mkwargs\u001B[49m\u001B[43m)\u001B[49m[\u001B[38;5;241m0\u001B[39m]\n",
      "File \u001B[0;32m~/opt/anaconda3/envs/health/lib/python3.11/site-packages/joblib/memory.py:537\u001B[0m, in \u001B[0;36mMemorizedFunc._cached_call\u001B[0;34m(self, args, kwargs, shelving)\u001B[0m\n\u001B[1;32m    534\u001B[0m         must_call \u001B[38;5;241m=\u001B[39m \u001B[38;5;28;01mTrue\u001B[39;00m\n\u001B[1;32m    536\u001B[0m \u001B[38;5;28;01mif\u001B[39;00m must_call:\n\u001B[0;32m--> 537\u001B[0m     out, metadata \u001B[38;5;241m=\u001B[39m \u001B[38;5;28;43mself\u001B[39;49m\u001B[38;5;241;43m.\u001B[39;49m\u001B[43mcall\u001B[49m\u001B[43m(\u001B[49m\u001B[38;5;241;43m*\u001B[39;49m\u001B[43margs\u001B[49m\u001B[43m,\u001B[49m\u001B[43m \u001B[49m\u001B[38;5;241;43m*\u001B[39;49m\u001B[38;5;241;43m*\u001B[39;49m\u001B[43mkwargs\u001B[49m\u001B[43m)\u001B[49m\n\u001B[1;32m    538\u001B[0m     \u001B[38;5;28;01mif\u001B[39;00m \u001B[38;5;28mself\u001B[39m\u001B[38;5;241m.\u001B[39mmmap_mode \u001B[38;5;129;01mis\u001B[39;00m \u001B[38;5;129;01mnot\u001B[39;00m \u001B[38;5;28;01mNone\u001B[39;00m:\n\u001B[1;32m    539\u001B[0m         \u001B[38;5;66;03m# Memmap the output at the first call to be consistent with\u001B[39;00m\n\u001B[1;32m    540\u001B[0m         \u001B[38;5;66;03m# later calls\u001B[39;00m\n\u001B[1;32m    541\u001B[0m         \u001B[38;5;28;01mif\u001B[39;00m \u001B[38;5;28mself\u001B[39m\u001B[38;5;241m.\u001B[39m_verbose:\n",
      "File \u001B[0;32m~/opt/anaconda3/envs/health/lib/python3.11/site-packages/joblib/memory.py:779\u001B[0m, in \u001B[0;36mMemorizedFunc.call\u001B[0;34m(self, *args, **kwargs)\u001B[0m\n\u001B[1;32m    777\u001B[0m \u001B[38;5;28;01mif\u001B[39;00m \u001B[38;5;28mself\u001B[39m\u001B[38;5;241m.\u001B[39m_verbose \u001B[38;5;241m>\u001B[39m \u001B[38;5;241m0\u001B[39m:\n\u001B[1;32m    778\u001B[0m     \u001B[38;5;28mprint\u001B[39m(format_call(\u001B[38;5;28mself\u001B[39m\u001B[38;5;241m.\u001B[39mfunc, args, kwargs))\n\u001B[0;32m--> 779\u001B[0m output \u001B[38;5;241m=\u001B[39m \u001B[38;5;28;43mself\u001B[39;49m\u001B[38;5;241;43m.\u001B[39;49m\u001B[43mfunc\u001B[49m\u001B[43m(\u001B[49m\u001B[38;5;241;43m*\u001B[39;49m\u001B[43margs\u001B[49m\u001B[43m,\u001B[49m\u001B[43m \u001B[49m\u001B[38;5;241;43m*\u001B[39;49m\u001B[38;5;241;43m*\u001B[39;49m\u001B[43mkwargs\u001B[49m\u001B[43m)\u001B[49m\n\u001B[1;32m    780\u001B[0m \u001B[38;5;28mself\u001B[39m\u001B[38;5;241m.\u001B[39mstore_backend\u001B[38;5;241m.\u001B[39mdump_item(\n\u001B[1;32m    781\u001B[0m     [func_id, args_id], output, verbose\u001B[38;5;241m=\u001B[39m\u001B[38;5;28mself\u001B[39m\u001B[38;5;241m.\u001B[39m_verbose)\n\u001B[1;32m    783\u001B[0m duration \u001B[38;5;241m=\u001B[39m time\u001B[38;5;241m.\u001B[39mtime() \u001B[38;5;241m-\u001B[39m start_time\n",
      "File \u001B[0;32m~/opt/anaconda3/envs/health/lib/python3.11/site-packages/contextily/tile.py:252\u001B[0m, in \u001B[0;36m_fetch_tile\u001B[0;34m(tile_url, wait, max_retries)\u001B[0m\n\u001B[1;32m    250\u001B[0m \u001B[38;5;129m@memory\u001B[39m\u001B[38;5;241m.\u001B[39mcache\n\u001B[1;32m    251\u001B[0m \u001B[38;5;28;01mdef\u001B[39;00m \u001B[38;5;21m_fetch_tile\u001B[39m(tile_url, wait, max_retries):\n\u001B[0;32m--> 252\u001B[0m     request \u001B[38;5;241m=\u001B[39m \u001B[43m_retryer\u001B[49m\u001B[43m(\u001B[49m\u001B[43mtile_url\u001B[49m\u001B[43m,\u001B[49m\u001B[43m \u001B[49m\u001B[43mwait\u001B[49m\u001B[43m,\u001B[49m\u001B[43m \u001B[49m\u001B[43mmax_retries\u001B[49m\u001B[43m)\u001B[49m\n\u001B[1;32m    253\u001B[0m     \u001B[38;5;28;01mwith\u001B[39;00m io\u001B[38;5;241m.\u001B[39mBytesIO(request\u001B[38;5;241m.\u001B[39mcontent) \u001B[38;5;28;01mas\u001B[39;00m image_stream:\n\u001B[1;32m    254\u001B[0m         image \u001B[38;5;241m=\u001B[39m Image\u001B[38;5;241m.\u001B[39mopen(image_stream)\u001B[38;5;241m.\u001B[39mconvert(\u001B[38;5;124m\"\u001B[39m\u001B[38;5;124mRGBA\u001B[39m\u001B[38;5;124m\"\u001B[39m)\n",
      "File \u001B[0;32m~/opt/anaconda3/envs/health/lib/python3.11/site-packages/contextily/tile.py:395\u001B[0m, in \u001B[0;36m_retryer\u001B[0;34m(tile_url, wait, max_retries)\u001B[0m\n\u001B[1;32m    375\u001B[0m \u001B[38;5;250m\u001B[39m\u001B[38;5;124;03m\"\"\"\u001B[39;00m\n\u001B[1;32m    376\u001B[0m \u001B[38;5;124;03mRetry a url many times in attempt to get a tile\u001B[39;00m\n\u001B[1;32m    377\u001B[0m \n\u001B[0;32m   (...)\u001B[0m\n\u001B[1;32m    392\u001B[0m \u001B[38;5;124;03mrequest object containing the web response.\u001B[39;00m\n\u001B[1;32m    393\u001B[0m \u001B[38;5;124;03m\"\"\"\u001B[39;00m\n\u001B[1;32m    394\u001B[0m \u001B[38;5;28;01mtry\u001B[39;00m:\n\u001B[0;32m--> 395\u001B[0m     request \u001B[38;5;241m=\u001B[39m \u001B[43mrequests\u001B[49m\u001B[38;5;241;43m.\u001B[39;49m\u001B[43mget\u001B[49m\u001B[43m(\u001B[49m\u001B[43mtile_url\u001B[49m\u001B[43m,\u001B[49m\u001B[43m \u001B[49m\u001B[43mheaders\u001B[49m\u001B[38;5;241;43m=\u001B[39;49m\u001B[43m{\u001B[49m\u001B[38;5;124;43m\"\u001B[39;49m\u001B[38;5;124;43muser-agent\u001B[39;49m\u001B[38;5;124;43m\"\u001B[39;49m\u001B[43m:\u001B[49m\u001B[43m \u001B[49m\u001B[43mUSER_AGENT\u001B[49m\u001B[43m}\u001B[49m\u001B[43m)\u001B[49m\n\u001B[1;32m    396\u001B[0m     request\u001B[38;5;241m.\u001B[39mraise_for_status()\n\u001B[1;32m    397\u001B[0m \u001B[38;5;28;01mexcept\u001B[39;00m requests\u001B[38;5;241m.\u001B[39mHTTPError:\n",
      "File \u001B[0;32m~/opt/anaconda3/envs/health/lib/python3.11/site-packages/requests/api.py:73\u001B[0m, in \u001B[0;36mget\u001B[0;34m(url, params, **kwargs)\u001B[0m\n\u001B[1;32m     62\u001B[0m \u001B[38;5;28;01mdef\u001B[39;00m \u001B[38;5;21mget\u001B[39m(url, params\u001B[38;5;241m=\u001B[39m\u001B[38;5;28;01mNone\u001B[39;00m, \u001B[38;5;241m*\u001B[39m\u001B[38;5;241m*\u001B[39mkwargs):\n\u001B[1;32m     63\u001B[0m \u001B[38;5;250m    \u001B[39m\u001B[38;5;124mr\u001B[39m\u001B[38;5;124;03m\"\"\"Sends a GET request.\u001B[39;00m\n\u001B[1;32m     64\u001B[0m \n\u001B[1;32m     65\u001B[0m \u001B[38;5;124;03m    :param url: URL for the new :class:`Request` object.\u001B[39;00m\n\u001B[0;32m   (...)\u001B[0m\n\u001B[1;32m     70\u001B[0m \u001B[38;5;124;03m    :rtype: requests.Response\u001B[39;00m\n\u001B[1;32m     71\u001B[0m \u001B[38;5;124;03m    \"\"\"\u001B[39;00m\n\u001B[0;32m---> 73\u001B[0m     \u001B[38;5;28;01mreturn\u001B[39;00m \u001B[43mrequest\u001B[49m\u001B[43m(\u001B[49m\u001B[38;5;124;43m\"\u001B[39;49m\u001B[38;5;124;43mget\u001B[39;49m\u001B[38;5;124;43m\"\u001B[39;49m\u001B[43m,\u001B[49m\u001B[43m \u001B[49m\u001B[43murl\u001B[49m\u001B[43m,\u001B[49m\u001B[43m \u001B[49m\u001B[43mparams\u001B[49m\u001B[38;5;241;43m=\u001B[39;49m\u001B[43mparams\u001B[49m\u001B[43m,\u001B[49m\u001B[43m \u001B[49m\u001B[38;5;241;43m*\u001B[39;49m\u001B[38;5;241;43m*\u001B[39;49m\u001B[43mkwargs\u001B[49m\u001B[43m)\u001B[49m\n",
      "File \u001B[0;32m~/opt/anaconda3/envs/health/lib/python3.11/site-packages/requests/api.py:59\u001B[0m, in \u001B[0;36mrequest\u001B[0;34m(method, url, **kwargs)\u001B[0m\n\u001B[1;32m     55\u001B[0m \u001B[38;5;66;03m# By using the 'with' statement we are sure the session is closed, thus we\u001B[39;00m\n\u001B[1;32m     56\u001B[0m \u001B[38;5;66;03m# avoid leaving sockets open which can trigger a ResourceWarning in some\u001B[39;00m\n\u001B[1;32m     57\u001B[0m \u001B[38;5;66;03m# cases, and look like a memory leak in others.\u001B[39;00m\n\u001B[1;32m     58\u001B[0m \u001B[38;5;28;01mwith\u001B[39;00m sessions\u001B[38;5;241m.\u001B[39mSession() \u001B[38;5;28;01mas\u001B[39;00m session:\n\u001B[0;32m---> 59\u001B[0m     \u001B[38;5;28;01mreturn\u001B[39;00m \u001B[43msession\u001B[49m\u001B[38;5;241;43m.\u001B[39;49m\u001B[43mrequest\u001B[49m\u001B[43m(\u001B[49m\u001B[43mmethod\u001B[49m\u001B[38;5;241;43m=\u001B[39;49m\u001B[43mmethod\u001B[49m\u001B[43m,\u001B[49m\u001B[43m \u001B[49m\u001B[43murl\u001B[49m\u001B[38;5;241;43m=\u001B[39;49m\u001B[43murl\u001B[49m\u001B[43m,\u001B[49m\u001B[43m \u001B[49m\u001B[38;5;241;43m*\u001B[39;49m\u001B[38;5;241;43m*\u001B[39;49m\u001B[43mkwargs\u001B[49m\u001B[43m)\u001B[49m\n",
      "File \u001B[0;32m~/opt/anaconda3/envs/health/lib/python3.11/site-packages/requests/sessions.py:587\u001B[0m, in \u001B[0;36mSession.request\u001B[0;34m(self, method, url, params, data, headers, cookies, files, auth, timeout, allow_redirects, proxies, hooks, stream, verify, cert, json)\u001B[0m\n\u001B[1;32m    582\u001B[0m send_kwargs \u001B[38;5;241m=\u001B[39m {\n\u001B[1;32m    583\u001B[0m     \u001B[38;5;124m\"\u001B[39m\u001B[38;5;124mtimeout\u001B[39m\u001B[38;5;124m\"\u001B[39m: timeout,\n\u001B[1;32m    584\u001B[0m     \u001B[38;5;124m\"\u001B[39m\u001B[38;5;124mallow_redirects\u001B[39m\u001B[38;5;124m\"\u001B[39m: allow_redirects,\n\u001B[1;32m    585\u001B[0m }\n\u001B[1;32m    586\u001B[0m send_kwargs\u001B[38;5;241m.\u001B[39mupdate(settings)\n\u001B[0;32m--> 587\u001B[0m resp \u001B[38;5;241m=\u001B[39m \u001B[38;5;28;43mself\u001B[39;49m\u001B[38;5;241;43m.\u001B[39;49m\u001B[43msend\u001B[49m\u001B[43m(\u001B[49m\u001B[43mprep\u001B[49m\u001B[43m,\u001B[49m\u001B[43m \u001B[49m\u001B[38;5;241;43m*\u001B[39;49m\u001B[38;5;241;43m*\u001B[39;49m\u001B[43msend_kwargs\u001B[49m\u001B[43m)\u001B[49m\n\u001B[1;32m    589\u001B[0m \u001B[38;5;28;01mreturn\u001B[39;00m resp\n",
      "File \u001B[0;32m~/opt/anaconda3/envs/health/lib/python3.11/site-packages/requests/sessions.py:701\u001B[0m, in \u001B[0;36mSession.send\u001B[0;34m(self, request, **kwargs)\u001B[0m\n\u001B[1;32m    698\u001B[0m start \u001B[38;5;241m=\u001B[39m preferred_clock()\n\u001B[1;32m    700\u001B[0m \u001B[38;5;66;03m# Send the request\u001B[39;00m\n\u001B[0;32m--> 701\u001B[0m r \u001B[38;5;241m=\u001B[39m \u001B[43madapter\u001B[49m\u001B[38;5;241;43m.\u001B[39;49m\u001B[43msend\u001B[49m\u001B[43m(\u001B[49m\u001B[43mrequest\u001B[49m\u001B[43m,\u001B[49m\u001B[43m \u001B[49m\u001B[38;5;241;43m*\u001B[39;49m\u001B[38;5;241;43m*\u001B[39;49m\u001B[43mkwargs\u001B[49m\u001B[43m)\u001B[49m\n\u001B[1;32m    703\u001B[0m \u001B[38;5;66;03m# Total elapsed time of the request (approximately)\u001B[39;00m\n\u001B[1;32m    704\u001B[0m elapsed \u001B[38;5;241m=\u001B[39m preferred_clock() \u001B[38;5;241m-\u001B[39m start\n",
      "File \u001B[0;32m~/opt/anaconda3/envs/health/lib/python3.11/site-packages/requests/adapters.py:563\u001B[0m, in \u001B[0;36mHTTPAdapter.send\u001B[0;34m(self, request, stream, timeout, verify, cert, proxies)\u001B[0m\n\u001B[1;32m    559\u001B[0m         \u001B[38;5;28;01mraise\u001B[39;00m ProxyError(e, request\u001B[38;5;241m=\u001B[39mrequest)\n\u001B[1;32m    561\u001B[0m     \u001B[38;5;28;01mif\u001B[39;00m \u001B[38;5;28misinstance\u001B[39m(e\u001B[38;5;241m.\u001B[39mreason, _SSLError):\n\u001B[1;32m    562\u001B[0m         \u001B[38;5;66;03m# This branch is for urllib3 v1.22 and later.\u001B[39;00m\n\u001B[0;32m--> 563\u001B[0m         \u001B[38;5;28;01mraise\u001B[39;00m SSLError(e, request\u001B[38;5;241m=\u001B[39mrequest)\n\u001B[1;32m    565\u001B[0m     \u001B[38;5;28;01mraise\u001B[39;00m \u001B[38;5;167;01mConnectionError\u001B[39;00m(e, request\u001B[38;5;241m=\u001B[39mrequest)\n\u001B[1;32m    567\u001B[0m \u001B[38;5;28;01mexcept\u001B[39;00m ClosedPoolError \u001B[38;5;28;01mas\u001B[39;00m e:\n",
      "\u001B[0;31mSSLError\u001B[0m: HTTPSConnectionPool(host='stamen-tiles-a.a.ssl.fastly.net', port=443): Max retries exceeded with url: /terrain/8/119/121.png (Caused by SSLError(SSLCertVerificationError(1, '[SSL: CERTIFICATE_VERIFY_FAILED] certificate verify failed: unable to get local issuer certificate (_ssl.c:992)')))"
     ]
    },
    {
     "data": {
      "text/plain": "<Figure size 1000x1000 with 1 Axes>",
      "image/png": "[encoded data removed]"
     },
     "metadata": {},
     "output_type": "display_data"
    }
   ],
   "source": [
    "fig, ax = plt.subplots(1, 1, figsize=(10,10))\n",
    "smallest_geob.boundary.plot(ax=ax, color='black', linewidth=1).set_axis_off()\n",
    "results.loc[results.geocoding_method!=\"None\"].plot(ax=ax, column='geocoding_method', edgecolor='white', markersize=50, alpha=0.75, legend=True)\n",
    "ctx.add_basemap(ax, source=ctx.providers.Stamen.Terrain, crs='EPSG:4326', zorder=-10)"
   ]
  },
  {
   "cell_type": "markdown",
   "metadata": {
    "pycharm": {
     "name": "#%% md\n"
    }
   },
   "source": [
    "## Join attributes from adminsitrative polygons"
   ]
  },
  {
   "cell_type": "markdown",
   "metadata": {
    "pycharm": {
     "name": "#%% md\n"
    }
   },
   "source": [
    "Join admin data back to results.  \n",
    "For adm3 features, use spatial join to geob3.  "
   ]
  },
  {
   "cell_type": "code",
   "execution_count": 48,
   "metadata": {
    "pycharm": {
     "name": "#%%\n"
    }
   },
   "outputs": [],
   "source": [
    "results2 = results.loc[~(results.longitude.isna())].copy()"
   ]
  },
  {
   "cell_type": "code",
   "execution_count": 49,
   "metadata": {
    "pycharm": {
     "name": "#%%\n"
    }
   },
   "outputs": [],
   "source": [
    "records_subset = records.loc[records.geocoding_method==\"None\"].copy()"
   ]
  },
  {
   "cell_type": "code",
   "execution_count": 50,
   "metadata": {
    "pycharm": {
     "name": "#%%\n"
    }
   },
   "outputs": [
    {
     "data": {
      "text/plain": "1"
     },
     "execution_count": 50,
     "metadata": {},
     "output_type": "execute_result"
    }
   ],
   "source": [
    "len(records_subset)"
   ]
  },
  {
   "cell_type": "code",
   "execution_count": 51,
   "metadata": {
    "pycharm": {
     "name": "#%%\n"
    }
   },
   "outputs": [
    {
     "name": "stdout",
     "output_type": "stream",
     "text": [
      "1\n",
      "0\n"
     ]
    }
   ],
   "source": [
    "for gIdx in range(len(geob_arr)-1, -1, -1):\n",
    "    gNum = gIdx +1\n",
    "    print(gIdx)\n",
    "\n",
    "    geob = geob_arr[gIdx]\n",
    "    results2 = gpd.sjoin(results2, geob[[\"shapeName\", \"shapeID\", \"geometry\"]], how='left', predicate='intersects')\n",
    "    results2.drop('index_right', axis=1, inplace=True)\n",
    "    results2.rename(\n",
    "        columns={\n",
    "            'shapeName': f'geob_adm{gNum}',\n",
    "            'shapeID': f'geob_adm{gNum}_id',\n",
    "        }, inplace=True)"
   ]
  },
  {
   "cell_type": "code",
   "execution_count": 52,
   "metadata": {
    "pycharm": {
     "name": "#%%\n"
    }
   },
   "outputs": [
    {
     "name": "stdout",
     "output_type": "stream",
     "text": [
      "0\n",
      "0\n"
     ]
    }
   ],
   "source": [
    "for gIdx in range(len(geob_arr)-1, -1, -1):\n",
    "    gNum = gIdx +1\n",
    "    print(results2[f\"geob_adm{gNum}\"].isna().sum())\n",
    "    results2.rename(\n",
    "        columns={\n",
    "            f'adm{gNum}': f'fuzzy_match_adm{gNum}'\n",
    "        }, inplace=True)"
   ]
  },
  {
   "cell_type": "code",
   "execution_count": 57,
   "metadata": {
    "pycharm": {
     "name": "#%%\n"
    }
   },
   "outputs": [],
   "source": [
    "results_final = results2.copy()"
   ]
  },
  {
   "cell_type": "code",
   "execution_count": 59,
   "metadata": {
    "pycharm": {
     "name": "#%%\n"
    }
   },
   "outputs": [],
   "source": [
    "ts = datetime.now().strftime(\"%m.%d.%y\")\n",
    "results_final.to_csv(join(output_dir, f\"{iso3}_geocoding_{ts}.csv\"))\n",
    "results_final.to_file(join(output_dir, f\"{iso3}_geocoding_{ts}.json\"), driver=\"GeoJSON\")"
   ]
  },
  {
   "cell_type": "code",
   "execution_count": null,
   "outputs": [],
   "source": [],
   "metadata": {
    "collapsed": false,
    "pycharm": {
     "name": "#%%\n"
    }
   }
  }
 ],
 "metadata": {
  "kernelspec": {
   "name": "health",
   "language": "python",
   "display_name": "health"
  },
  "language_info": {
   "codemirror_mode": {
    "name": "ipython",
    "version": 3
   },
   "file_extension": ".py",
   "mimetype": "text/x-python",
   "name": "python",
   "nbconvert_exporter": "python",
   "pygments_lexer": "ipython3",
   "version": "3.7.6"
  },
  "toc": {
   "base_numbering": 1,
   "nav_menu": {
    "height": "146px",
    "width": "280px"
   },
   "number_sections": true,
   "sideBar": true,
   "skip_h1_title": false,
   "title_cell": "Geocoding Notebook - Bangladesh",
   "title_sidebar": "Contents",
   "toc_cell": true,
   "toc_position": {
    "height": "calc(100% - 180px)",
    "left": "10px",
    "top": "150px",
    "width": "405px"
   },
   "toc_section_display": true,
   "toc_window_display": true
  }
 },
 "nbformat": 4,
 "nbformat_minor": 2
}