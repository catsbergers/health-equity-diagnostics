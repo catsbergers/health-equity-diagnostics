{
 "cells": [
  {
   "cell_type": "markdown",
   "metadata": {
    "toc": true,
    "pycharm": {
     "name": "#%% md\n"
    }
   },
   "source": [
    "<h1>Locating with Healthsites.io Notebook - Liberia<span class=\"tocSkip\"></span></h1>\n",
    "<div class=\"toc\"><ul class=\"toc-item\"><li><span><a href=\"#Prepare-and-match-admin-boundary-data\" data-toc-modified-id=\"Prepare-and-match-admin-boundary-data-2\"><span class=\"toc-item-num\">2&nbsp;&nbsp;</span>Prepare and match admin boundary data</a></span><ul class=\"toc-item\"><li><span><a href=\"#Match-health-list-admin-names-to-shapefile-admin-names\" data-toc-modified-id=\"Match-health-list-admin-names-to-shapefile-admin-names-2.1\"><span class=\"toc-item-num\">2.1&nbsp;&nbsp;</span>Match health list admin names to shapefile admin names</a></span><ul class=\"toc-item\"><li><span><a href=\"#Match-orgunitlevel4-to-Geob-Adm-3\" data-toc-modified-id=\"Match-orgunitlevel4-to-Geob-Adm-3-2.1.1\"><span class=\"toc-item-num\">2.1.1&nbsp;&nbsp;</span>Match orgunitlevel4 to Geob Adm 3</a></span></li><li><span><a href=\"#Match-orgunitlevel3-to-Geob-Adm-2\" data-toc-modified-id=\"Match-orgunitlevel3-to-Geob-Adm-2-2.1.2\"><span class=\"toc-item-num\">2.1.2&nbsp;&nbsp;</span>Match orgunitlevel3 to Geob Adm 2</a></span></li><li><span><a href=\"#Match-orgunitlevel2-to-Geob-Adm-1\" data-toc-modified-id=\"Match-orgunitlevel2-to-Geob-Adm-1-2.1.3\"><span class=\"toc-item-num\">2.1.3&nbsp;&nbsp;</span>Match orgunitlevel2 to Geob Adm 1</a></span></li></ul></li></ul></li></ul></div>"
   ]
  },
  {
   "cell_type": "markdown",
   "metadata": {
    "pycharm": {
     "name": "#%% md\n"
    }
   },
   "source": [
    "Version: April 22, 2023\n",
    "\n",
    "This notebook works with health facilities from the HMIS Database and attempts to geolocate them, by joining them to administrative shapefiles, other sources of geo-located health facilities, and running queries with geocoding APIs.\n",
    "\n",
    "**Data Sources**\n",
    "- Health facilities (hierarchy list)\n",
    "- Geoboundaries (Adm1 through 4)\n",
    "- FEWS Admin-2 boundaries (updated post 2017)\n",
    "- Health Sites IO\n",
    "- RHINoVision Master Facility List Decision Support System"
   ]
  },
  {
   "cell_type": "markdown",
   "metadata": {
    "pycharm": {
     "name": "#%% md\n"
    }
   },
   "source": [
    "# Packages and functions"
   ]
  },
  {
   "cell_type": "code",
   "execution_count": 1,
   "metadata": {
    "pycharm": {
     "name": "#%%\n"
    }
   },
   "outputs": [],
   "source": [
    "import os\n",
    "from datetime import datetime\n",
    "import geopandas as gpd\n",
    "import pandas as pd\n",
    "from geopy.geocoders import Nominatim, Bing, GoogleV3\n",
    "from shapely.geometry import Point\n",
    "from tqdm import tqdm\n",
    "import matplotlib.pyplot as plt\n",
    "import contextily as ctx\n",
    "from os.path import join\n",
    "from dotenv import load_dotenv, find_dotenv\n",
    "\n",
    "# local imports\n",
    "import geocoding_utils as gcu\n",
    "import preprocessing_utils as ppu\n",
    "import search_utils as ssu"
   ]
  },
  {
   "cell_type": "code",
   "execution_count": 2,
   "metadata": {
    "pycharm": {
     "name": "#%%\n"
    }
   },
   "outputs": [],
   "source": [
    "iso3 = \"LBR\"\n",
    "diso = \"lr\"\n",
    "country = \"Liberia\"\n",
    "input_dir = \"/Users/dianaholcomb/Documents/GWU/6501_Capstone/workspace/data\"\n",
    "input_filename = \"preprocess_LBR_matches.csv\" #\"liberia2022-11-15.csv\"\n",
    "output_dir = join(input_dir, \"output\", iso3)\n",
    "num_admin_levels = 2\n",
    "num_org_levels = 5\n",
    "words_to_remove = ['community', 'clinic', 'centre', 'center', 'hospital', 'health', 'government']"
   ]
  },
  {
   "cell_type": "code",
   "execution_count": 3,
   "metadata": {
    "pycharm": {
     "name": "#%%\n"
    }
   },
   "outputs": [],
   "source": [
    "master_table = pd.read_csv(os.path.join(input_dir, input_filename), encoding='utf-8')\n",
    "geob_arr = ppu.get_geoboundaries(num_admin_levels, iso3)"
   ]
  },
  {
   "cell_type": "code",
   "execution_count": 60,
   "outputs": [],
   "source": [
    "# Liberia-specific update\n",
    "master_table['orgunitlevel5'] = master_table['organisationunitname']"
   ],
   "metadata": {
    "collapsed": false,
    "pycharm": {
     "name": "#%%\n"
    }
   }
  },
  {
   "cell_type": "code",
   "execution_count": 61,
   "metadata": {
    "pycharm": {
     "name": "#%%\n"
    }
   },
   "outputs": [
    {
     "data": {
      "text/plain": "848"
     },
     "execution_count": 61,
     "metadata": {},
     "output_type": "execute_result"
    }
   ],
   "source": [
    "len(master_table)"
   ]
  },
  {
   "cell_type": "code",
   "execution_count": 62,
   "metadata": {
    "pycharm": {
     "name": "#%%\n"
    }
   },
   "outputs": [
    {
     "data": {
      "text/plain": "   Unnamed: 0  index orgunitlevel1 orgunitlevel2         orgunitlevel3  \\\n0           0      0       Liberia         Sinoe     Tarjuwon District   \n1           1      4       Liberia       Margibi  Mambah-Kaba District   \n\n          orgunitlevel4 organisationunitid  organisationunitname  \\\n0    Gbason Town Clinic        DAmhVvbzEl6    Gbason Town Clinic   \n1  14 Military Hospital        oUPdjvJABX7  14 Military Hospital   \n\n  organisationunitcode organisationunitdescription orgunitlevel3_edit  \\\n0               LR5GZ3                         NaN           Tarjuwon   \n1               LR0GW8                         NaN        Mambah-Kaba   \n\n          adm2 orgunitlevel2_edit     adm1         orgunitlevel5  \n0          NaN              Sinoe    Sinoe    Gbason Town Clinic  \n1  Mambah Kaba            Margibi  Margibi  14 Military Hospital  ",
      "text/html": "<div>\n<style scoped>\n    .dataframe tbody tr th:only-of-type {\n        vertical-align: middle;\n    }\n\n    .dataframe tbody tr th {\n        vertical-align: top;\n    }\n\n    .dataframe thead th {\n        text-align: right;\n    }\n</style>\n<table border=\"1\" class=\"dataframe\">\n  <thead>\n    <tr style=\"text-align: right;\">\n      <th></th>\n      <th>Unnamed: 0</th>\n      <th>index</th>\n      <th>orgunitlevel1</th>\n      <th>orgunitlevel2</th>\n      <th>orgunitlevel3</th>\n      <th>orgunitlevel4</th>\n      <th>organisationunitid</th>\n      <th>organisationunitname</th>\n      <th>organisationunitcode</th>\n      <th>organisationunitdescription</th>\n      <th>orgunitlevel3_edit</th>\n      <th>adm2</th>\n      <th>orgunitlevel2_edit</th>\n      <th>adm1</th>\n      <th>orgunitlevel5</th>\n    </tr>\n  </thead>\n  <tbody>\n    <tr>\n      <th>0</th>\n      <td>0</td>\n      <td>0</td>\n      <td>Liberia</td>\n      <td>Sinoe</td>\n      <td>Tarjuwon District</td>\n      <td>Gbason Town Clinic</td>\n      <td>DAmhVvbzEl6</td>\n      <td>Gbason Town Clinic</td>\n      <td>LR5GZ3</td>\n      <td>NaN</td>\n      <td>Tarjuwon</td>\n      <td>NaN</td>\n      <td>Sinoe</td>\n      <td>Sinoe</td>\n      <td>Gbason Town Clinic</td>\n    </tr>\n    <tr>\n      <th>1</th>\n      <td>1</td>\n      <td>4</td>\n      <td>Liberia</td>\n      <td>Margibi</td>\n      <td>Mambah-Kaba District</td>\n      <td>14 Military Hospital</td>\n      <td>oUPdjvJABX7</td>\n      <td>14 Military Hospital</td>\n      <td>LR0GW8</td>\n      <td>NaN</td>\n      <td>Mambah-Kaba</td>\n      <td>Mambah Kaba</td>\n      <td>Margibi</td>\n      <td>Margibi</td>\n      <td>14 Military Hospital</td>\n    </tr>\n  </tbody>\n</table>\n</div>"
     },
     "execution_count": 62,
     "metadata": {},
     "output_type": "execute_result"
    }
   ],
   "source": [
    "master_table.head(2)"
   ]
  },
  {
   "cell_type": "code",
   "execution_count": 63,
   "metadata": {
    "pycharm": {
     "name": "#%%\n"
    }
   },
   "outputs": [
    {
     "name": "stdout",
     "output_type": "stream",
     "text": [
      "Unique Level 2: 15\n",
      "Unique Level 3: 93\n",
      "Unique Level 4: 846\n",
      "Unique Level 5: 846\n"
     ]
    }
   ],
   "source": [
    "for org_lvl in range(2, num_org_levels+1):\n",
    "    print(f\"Unique Level {org_lvl}: {len(master_table[f'orgunitlevel{org_lvl}'].unique())}\")\n"
   ]
  },
  {
   "cell_type": "markdown",
   "metadata": {
    "pycharm": {
     "name": "#%% md\n"
    }
   },
   "source": [
    "# Match to locations from alternative sources based on facility name\n",
    "\n",
    "\n",
    "## Health Sites IO\n",
    "Import Health Sites from HealthSites.io  \n",
    "Health sites come in both a node and a way shapefile. You need to import both to get all the sites.\n",
    "\n",
    "In QGIS, I created centroids from the ways then merged it with the points.\n",
    "DLH Note: I didn't have access to this merge, so am using the nodes.shp only, for proof of concept\n",
    "\n",
    "https://healthsites.io/map?country=Liberia"
   ]
  },
  {
   "cell_type": "code",
   "execution_count": 64,
   "metadata": {
    "pycharm": {
     "name": "#%%\n"
    }
   },
   "outputs": [],
   "source": [
    "nodes_io = gpd.read_file(os.path.join(input_dir, \"healthsitesio\", country, f\"{country}-node.shp\"))\n",
    "nodes_io = nodes_io.loc[~nodes_io.name.isna()].copy()\n",
    "nodes_io['name'] = nodes_io['name'].str.lower()\n",
    "nodes_io.loc[:, \"is_point\"] = nodes_io.apply(lambda x: type(x.geometry)==Point, axis=1)"
   ]
  },
  {
   "cell_type": "code",
   "execution_count": 65,
   "metadata": {
    "pycharm": {
     "name": "#%%\n"
    }
   },
   "outputs": [
    {
     "data": {
      "text/plain": "0"
     },
     "execution_count": 65,
     "metadata": {},
     "output_type": "execute_result"
    }
   ],
   "source": [
    "len(nodes_io.loc[~nodes_io.is_point])"
   ]
  },
  {
   "cell_type": "code",
   "execution_count": 66,
   "metadata": {
    "pycharm": {
     "name": "#%%\n"
    }
   },
   "outputs": [
    {
     "data": {
      "text/plain": "True"
     },
     "execution_count": 66,
     "metadata": {},
     "output_type": "execute_result"
    }
   ],
   "source": [
    "len(nodes_io.loc[nodes_io.geometry.is_valid])==len(nodes_io)"
   ]
  },
  {
   "cell_type": "code",
   "execution_count": 67,
   "metadata": {
    "pycharm": {
     "name": "#%%\n"
    }
   },
   "outputs": [
    {
     "name": "stderr",
     "output_type": "stream",
     "text": [
      "848it [00:12, 70.18it/s]\n",
      "848it [00:12, 69.79it/s]\n"
     ]
    }
   ],
   "source": [
    "records = master_table.copy()\n",
    "records['geocoding_method'] = \"None\"\n",
    "records['NAME'] = records[f'orgunitlevel{num_org_levels}'].str.lower()\n",
    "ppu.remove_words(nodes_io, 'name', words_to_remove)\n",
    "ppu.remove_words(records, 'NAME', words_to_remove)\n",
    "\n",
    "for org_lev in range(4, num_org_levels+1):\n",
    "\n",
    "    for idx, row in tqdm(records.iterrows()):\n",
    "\n",
    "        # Check if there is another entry with location\n",
    "        match, score = ssu.match_name(row.NAME, list(nodes_io['name']), 80)\n",
    "    #     match, score = match_name(row.name_concat, list(nodes_io.name_concat), 85)\n",
    "\n",
    "        if score > 0:\n",
    "            #print(row.NAME, match)\n",
    "            matching_row = nodes_io.loc[nodes_io['name']==match].copy()\n",
    "            res = matching_row.iloc[0]\n",
    "\n",
    "            adm_idx = num_admin_levels\n",
    "            for geobIdx in range(num_admin_levels-1, -1, -1): # reverse loop\n",
    "                if not pd.isna(row[f\"adm{adm_idx}\"]):\n",
    "                    geob = geob_arr[geobIdx]\n",
    "                    adm = geob.loc[geob['shapeName'] == row[f'adm{adm_idx}']].copy()\n",
    "                    if adm.contains(res.geometry).values[0] == True:\n",
    "                        records.loc[idx, \"longitude\"] = res.geometry.x\n",
    "                        records.loc[idx, \"latitude\"] = res.geometry.y\n",
    "                        records.loc[idx, \"geocoding_method\"] = f\"Location from Health Sites IO and within admin {adm_idx}\"\n",
    "                adm_idx -= 1\n"
   ]
  },
  {
   "cell_type": "code",
   "execution_count": 68,
   "metadata": {
    "pycharm": {
     "name": "#%%\n"
    }
   },
   "outputs": [
    {
     "data": {
      "text/plain": "<pandas.io.formats.style.Styler at 0x19d0ebf50>",
      "text/html": "<style type=\"text/css\">\n</style>\n<table id=\"T_5b2fe\">\n  <thead>\n    <tr>\n      <th class=\"blank level0\" >&nbsp;</th>\n      <th id=\"T_5b2fe_level0_col0\" class=\"col_heading level0 col0\" >count</th>\n      <th id=\"T_5b2fe_level0_col1\" class=\"col_heading level0 col1\" >pct</th>\n    </tr>\n    <tr>\n      <th class=\"index_name level0\" >geocoding_method</th>\n      <th class=\"blank col0\" >&nbsp;</th>\n      <th class=\"blank col1\" >&nbsp;</th>\n    </tr>\n  </thead>\n  <tbody>\n    <tr>\n      <th id=\"T_5b2fe_level0_row0\" class=\"row_heading level0 row0\" >Location from Health Sites IO and within admin 1</th>\n      <td id=\"T_5b2fe_row0_col0\" class=\"data row0 col0\" >499</td>\n      <td id=\"T_5b2fe_row0_col1\" class=\"data row0 col1\" >58.8%</td>\n    </tr>\n    <tr>\n      <th id=\"T_5b2fe_level0_row1\" class=\"row_heading level0 row1\" >None</th>\n      <td id=\"T_5b2fe_row1_col0\" class=\"data row1 col0\" >349</td>\n      <td id=\"T_5b2fe_row1_col1\" class=\"data row1 col1\" >41.2%</td>\n    </tr>\n  </tbody>\n</table>\n"
     },
     "execution_count": 68,
     "metadata": {},
     "output_type": "execute_result"
    }
   ],
   "source": [
    "gcu.report_geocoding(records)"
   ]
  },
  {
   "cell_type": "markdown",
   "metadata": {
    "pycharm": {
     "name": "#%% md\n"
    }
   },
   "source": [
    "# Geocoding with APIs"
   ]
  },
  {
   "cell_type": "code",
   "execution_count": 1,
   "metadata": {
    "pycharm": {
     "name": "#%%\n"
    }
   },
   "outputs": [
    {
     "name": "stdout",
     "output_type": "stream",
     "text": [
      "\n"
     ]
    }
   ],
   "source": [
    "bing_key = os.environ.get(\"bing_key\")\n",
    "google_key = os.environ.get(\"google_key\")"
   ]
  },
  {
   "cell_type": "code",
   "execution_count": 70,
   "metadata": {
    "pycharm": {
     "name": "#%%\n"
    }
   },
   "outputs": [],
   "source": [
    "geolocator_osm = Nominatim(user_agent=\"health-equity\")\n",
    "geolocator_bing = Bing(api_key=bing_key)\n",
    "geolocator_google = GoogleV3(api_key=google_key)"
   ]
  },
  {
   "cell_type": "markdown",
   "metadata": {
    "pycharm": {
     "name": "#%% md\n"
    }
   },
   "source": [
    "## Facility name and admin 3 names"
   ]
  },
  {
   "cell_type": "markdown",
   "metadata": {
    "pycharm": {
     "name": "#%% md\n"
    }
   },
   "source": [
    "Geocode based on facility name (orgunitlevel5) + admin 3 name.  \n",
    "Check to make sure result falls within admin 3 polygon."
   ]
  },
  {
   "cell_type": "code",
   "execution_count": 71,
   "metadata": {
    "pycharm": {
     "name": "#%%\n"
    }
   },
   "outputs": [],
   "source": [
    "records_subset = records.loc[records.geocoding_method==\"None\"].copy()\n",
    "# only include trying to geocode rows that have an admin name that is matched to the Geoboundaries file\n",
    "records_subset = records_subset.loc[~records_subset[f\"adm{num_admin_levels}\"].isna()].copy()"
   ]
  },
  {
   "cell_type": "code",
   "execution_count": 72,
   "metadata": {
    "pycharm": {
     "name": "#%%\n"
    }
   },
   "outputs": [
    {
     "data": {
      "text/plain": "211"
     },
     "execution_count": 72,
     "metadata": {},
     "output_type": "execute_result"
    }
   ],
   "source": [
    "len(records_subset)"
   ]
  },
  {
   "cell_type": "code",
   "execution_count": 73,
   "metadata": {
    "pycharm": {
     "name": "#%%\n"
    }
   },
   "outputs": [
    {
     "data": {
      "text/plain": "   Unnamed: 0  index orgunitlevel1 orgunitlevel2           orgunitlevel3  \\\n2           2      6       Liberia   Montserrado   Commonwealth District   \n5           5     15       Liberia   Montserrado  St Paul River District   \n\n                     orgunitlevel4 organisationunitid  \\\n2  A Place of Rescue Health Clinic        SW1ahVurf5B   \n5           ACRES Community Clinic        SnP0w8xAPwu   \n\n              organisationunitname organisationunitcode  \\\n2  A Place of Rescue Health Clinic               LRUPY8   \n5           ACRES Community Clinic               LR00N8   \n\n  organisationunitdescription orgunitlevel3_edit            adm2  \\\n2  Located in Thinker Village       Commonwealth    Commonwealth   \n5                         NaN      St Paul River  St. Paul River   \n\n  orgunitlevel2_edit         adm1                    orgunitlevel5  \\\n2        Montserrado  Montserrado  A Place of Rescue Health Clinic   \n5        Montserrado  Montserrado           ACRES Community Clinic   \n\n  geocoding_method               NAME  longitude  latitude  \n2             None  a place of rescue        NaN       NaN  \n5             None              acres        NaN       NaN  ",
      "text/html": "<div>\n<style scoped>\n    .dataframe tbody tr th:only-of-type {\n        vertical-align: middle;\n    }\n\n    .dataframe tbody tr th {\n        vertical-align: top;\n    }\n\n    .dataframe thead th {\n        text-align: right;\n    }\n</style>\n<table border=\"1\" class=\"dataframe\">\n  <thead>\n    <tr style=\"text-align: right;\">\n      <th></th>\n      <th>Unnamed: 0</th>\n      <th>index</th>\n      <th>orgunitlevel1</th>\n      <th>orgunitlevel2</th>\n      <th>orgunitlevel3</th>\n      <th>orgunitlevel4</th>\n      <th>organisationunitid</th>\n      <th>organisationunitname</th>\n      <th>organisationunitcode</th>\n      <th>organisationunitdescription</th>\n      <th>orgunitlevel3_edit</th>\n      <th>adm2</th>\n      <th>orgunitlevel2_edit</th>\n      <th>adm1</th>\n      <th>orgunitlevel5</th>\n      <th>geocoding_method</th>\n      <th>NAME</th>\n      <th>longitude</th>\n      <th>latitude</th>\n    </tr>\n  </thead>\n  <tbody>\n    <tr>\n      <th>2</th>\n      <td>2</td>\n      <td>6</td>\n      <td>Liberia</td>\n      <td>Montserrado</td>\n      <td>Commonwealth District</td>\n      <td>A Place of Rescue Health Clinic</td>\n      <td>SW1ahVurf5B</td>\n      <td>A Place of Rescue Health Clinic</td>\n      <td>LRUPY8</td>\n      <td>Located in Thinker Village</td>\n      <td>Commonwealth</td>\n      <td>Commonwealth</td>\n      <td>Montserrado</td>\n      <td>Montserrado</td>\n      <td>A Place of Rescue Health Clinic</td>\n      <td>None</td>\n      <td>a place of rescue</td>\n      <td>NaN</td>\n      <td>NaN</td>\n    </tr>\n    <tr>\n      <th>5</th>\n      <td>5</td>\n      <td>15</td>\n      <td>Liberia</td>\n      <td>Montserrado</td>\n      <td>St Paul River District</td>\n      <td>ACRES Community Clinic</td>\n      <td>SnP0w8xAPwu</td>\n      <td>ACRES Community Clinic</td>\n      <td>LR00N8</td>\n      <td>NaN</td>\n      <td>St Paul River</td>\n      <td>St. Paul River</td>\n      <td>Montserrado</td>\n      <td>Montserrado</td>\n      <td>ACRES Community Clinic</td>\n      <td>None</td>\n      <td>acres</td>\n      <td>NaN</td>\n      <td>NaN</td>\n    </tr>\n  </tbody>\n</table>\n</div>"
     },
     "execution_count": 73,
     "metadata": {},
     "output_type": "execute_result"
    }
   ],
   "source": [
    "records_subset.head(2)"
   ]
  },
  {
   "cell_type": "code",
   "execution_count": 17,
   "metadata": {
    "code_folding": [],
    "scrolled": true,
    "pycharm": {
     "name": "#%%\n"
    }
   },
   "outputs": [
    {
     "name": "stdout",
     "output_type": "stream",
     "text": [
      "136\n",
      "Facility name and admin 2 names\n",
      "Items: ['a place of rescue', 'Commonwealth']\n",
      "Items: ['acres', 'St. Paul River']\n",
      "Items: ['af russell', 'St. Paul River']\n",
      "Items: ['agape', 'Sanniquellie Mahn']\n",
      "Items: ['agape', 'Commonwealth']\n",
      "Items: ['alfred f. kortio medical', 'Commonwealth']\n",
      "Items: ['amusawyer', 'St. Paul River']\n",
      "Items: ['anet mini', 'Commonwealth']\n",
      "Items: ['balm in gilead', 'Commonwealth']\n",
      "Items: ['barbour hill', 'Kakata']\n",
      "Items: ['barclayville', 'Barclayville']\n",
      "Items: ['bargblor', 'Cavala']\n",
      "Items: ['beh town  (cavalla)', 'Cavala']\n",
      "Items: ['behwan', 'Trenbo']\n",
      "Items: ['beletanda', 'Sanoyeah']\n",
      "Items: [\"ben's town\", 'Mambah Kaba']\n",
      "Items: ['berh lombaye memorial', 'Gbehlay-Geh']\n",
      "Items: ['besoa', 'Klay']\n",
      "Items: ['bolloh new town', 'Dorbor']\n",
      "Items: ['booker washington institute', 'Kakata']\n",
      "Items: ['boye town', 'Mambah Kaba']\n",
      "Items: ['boyee', 'Yarwein Mehnsonnoh']\n",
      "Items: ['bracket christian', 'Todee']\n",
      "Items: ['brown', 'Commonwealth']\n",
      "Items: ['buah', 'Buah']\n",
      "Items: ['carver mission', 'Commonwealth']\n",
      "Items: ['cinta', 'Kakata']\n",
      "Items: ['city medical and laboratory', 'St. Paul River']\n",
      "Items: ['come & see', 'Careysburg']\n",
      "Items: ['comfort', 'Firestone']\n",
      "Items: ['care initiatives women and children', 'Mambah Kaba']\n",
      "Items: ['compassionate care', 'Commonwealth']\n",
      "Items: ['confidence', 'Commonwealth']\n",
      "Items: ['connie brown christians', 'Potupo']\n",
      "Items: ['cotton tree', 'Firestone']\n",
      "Items: ['d h luo', 'Commonwealth']\n",
      "Items: ['d.c. mark', 'Suakoko']\n",
      "Items: ['david j. kollie  (djk)', 'Mambah Kaba']\n",
      "Items: ['diah', 'Tewor']\n",
      "Items: ['diamon medical', 'Kakata']\n",
      "Items: ['disco hill', 'Mambah Kaba']\n",
      "Items: [\"dolo's town\", 'Firestone']\n",
      "Items: ['dr. agnes varis', 'Commonwealth']\n",
      "Items: ['dr. john s. doedeh', 'Dugbe River']\n",
      "Items: ['drapoh', 'Kpayan']\n",
      "Items: ['drugbo', 'Gbeapo']\n",
      "Items: ['du-side', 'Firestone']\n",
      "Items: ['duo tiayee', 'Sanniquellie Mahn']\n",
      "Items: ['dwehkun', 'Buah']\n",
      "Items: ['e s grant mental', 'Commonwealth']\n",
      "Items: ['edward beyan kesselly military barracks', 'Mambah Kaba']\n",
      "Items: ['el-shadah', 'Commonwealth']\n",
      "Items: ['elizabeth garwo', 'Trenbo']\n",
      "Items: ['elwa', 'Commonwealth']\n",
      "Items: ['equip', 'Sanniquellie Mahn']\n",
      "Items: ['esther  amos medical', 'Commonwealth']\n",
      "Items: ['esther & robertson', 'St. Paul River']\n",
      "Items: ['excellent', 'Mambah Kaba']\n",
      "Items: ['faith', 'Kolahun']\n",
      "Items: ['faith  (carey)', 'Careysburg']\n",
      "Items: ['faith', 'St. Paul River']\n",
      "Items: ['farmington', 'Firestone']\n",
      "Items: ['fen-river', 'Tuobo']\n",
      "Items: ['fish town', 'Harper']\n",
      "Items: ['from god to man-ma-hawa', 'Commonwealth']\n",
      "Items: ['ganta rehabilitation', 'Sanniquellie Mahn']\n",
      "Items: ['garmue', 'Panta']\n",
      "Items: ['garraway', 'Trenbo']\n",
      "Items: ['garzon', 'Firestone']\n",
      "Items: ['gbalakpo', 'Barclayville']\n",
      "Items: ['gbanken', 'Barclayville']\n",
      "Items: ['gbarzon jarwodee', 'Gbao']\n",
      "Items: ['gbo-geewon', 'Gbao']\n",
      "Items: ['gbodoi', 'St. Paul River']\n",
      "Items: ['genesis care medical  annex 1 (breath of life )', 'Commonwealth']\n",
      "Items: ['genoyah', 'Trenbo']\n",
      "Items: ['give them hope', 'Gbehlay-Geh']\n",
      "Items: [\"glahn's town\", 'Putu']\n",
      "Items: ['glory of christ', 'St. Paul River']\n",
      "Items: ['god grace medical and laboratory  annex 1', 'Commonwealth']\n",
      "Items: ['golodee lassana', 'Klay']\n",
      "Items: ['good samaritan mother and child  care', 'Kakata']\n",
      "Items: ['goodness of god (gog) medical', 'Commonwealth']\n",
      "Items: ['gorlu', 'Salayea']\n",
      "Items: ['great testimony medical', 'Commonwealth']\n",
      "Items: ['gvl', 'Trenbo']\n",
      "Items: ['gvl kpanyan', 'Kpayan']\n",
      "Items: ['haindi', 'Fuamah']\n",
      "Items: ['harbel', 'Firestone']\n",
      "Items: ['for all medical and lab', 'Commonwealth']\n",
      "Items: ['heaven care /children', 'Commonwealth']\n",
      "Items: ['inland mission', 'Tuobo']\n",
      "Items: ['j and j memorial', 'Commonwealth']\n",
      "Items: ['j c medical', 'Mambah Kaba']\n",
      "Items: ['janyea', 'Jorquelleh']\n",
      "Items: ['jarel faith in action med.', 'Commonwealth']\n",
      "Items: ['jaw   annex 1', 'Mambah Kaba']\n",
      "Items: ['jayproken', 'Potupo']\n",
      "Items: ['jene-wonde', 'Tewor']\n",
      "Items: ['jj dossen', 'Harper']\n",
      "Items: ['jj korhene  care', 'Kakata']\n",
      "Items: ['john logan town sdp', 'District #1']\n",
      "Items: ['johnson', 'Commonwealth']\n",
      "Items: ['juduken', 'Barclayville']\n",
      "Items: ['jundu', 'Garwula']\n",
      "Items: ['juwelpo', 'Potupo']\n",
      "Items: ['kakata', 'Kakata']\n",
      "Items: ['kannah   (ptp refugee )', 'Tchien']\n",
      "Items: ['karwah medical', 'Mambah Kaba']\n",
      "Items: ['kellen  mt. blarclay', 'Commonwealth']\n",
      "Items: ['kelvin', 'Mambah Kaba']\n",
      "Items: ['kingdom care medical', 'Commonwealth']\n",
      "Items: ['kinjor', 'Golakonneh']\n",
      "Items: ['kl foundation', 'Sanniquellie Mahn']\n",
      "Items: ['klaygbae', 'Yarmein']\n",
      "Items: ['konobo', 'Konobo']\n",
      "Items: ['koon town', 'Todee']\n",
      "Items: ['kpanjah', 'Commonwealth']\n",
      "Items: ['kpayaquelle', 'Salayea']\n",
      "Items: ['krtti', 'Kakata']\n",
      "Items: ['krtti school based', 'Kakata']\n",
      "Items: ['kungbor', 'Kongba']\n",
      "Items: ['lango lappay school based', 'Kakata']\n",
      "Items: ['lg hope med.', 'Commonwealth']\n",
      "Items: ['liberia   (bomi)', 'Senjeh']\n",
      "Items: ['liberty', 'Commonwealth']\n",
      "Items: ['life line medical', 'Firestone']\n",
      "Items: ['light evangelism ministry', 'Careysburg']\n",
      "Items: ['lisnow martanity', 'Firestone']\n",
      "Items: ['litter wlebo', 'Harper']\n",
      "Items: ['lower zor', 'Dowein']\n",
      "Items: ['lukambeh med.', 'Commonwealth']\n",
      "Items: ['ma - norwah medical and laboratory', 'Todee']\n",
      "Items: ['ma-rita maternal, child  and medical', 'Commonwealth']\n",
      "Items: ['ma. cynthia  care', 'Kakata']\n",
      "Items: ['macphine', 'Commonwealth']\n",
      "Items: ['mainowainsue', 'Jorquelleh']\n",
      "Items: ['marshall', 'Mambah Kaba']\n",
      "Items: ['massaquoi town', 'Gibi']\n",
      "Items: ['maternal and child  care', 'Mambah Kaba']\n",
      "Items: ['max and max', 'St. Paul River']\n",
      "Items: ['medical diagnostic laboratory', 'Commonwealth']\n",
      "Items: ['menhla', 'Yarwein Mehnsonnoh']\n",
      "Items: ['modern medical and laboratory diagnostic services', 'Commonwealth']\n",
      "Items: ['modern medical', 'Kakata']\n",
      "Items: ['mother artis martanity', 'Firestone']\n",
      "Items: ['mother esther rufus med.', 'Commonwealth']\n",
      "Items: [\"mother's love\", 'Commonwealth']\n",
      "Items: ['mount barclay', 'Commonwealth']\n",
      "Items: ['mulbah town', 'Suehn Mecca']\n",
      "Items: ['new day medical  no. 2', 'Kakata']\n",
      "Items: ['new destiny', 'Kakata']\n",
      "Items: ['new life med. & lab.', 'Commonwealth']\n",
      "Items: ['newaken', 'Trenbo']\n",
      "Items: ['nifa', 'Trenbo']\n",
      "Items: ['nyankupo', 'Dorbor']\n",
      "Items: ['nyehn', 'Todee']\n",
      "Items: ['optimist medical', 'Gibi']\n",
      "Items: ['paynesville city', 'Commonwealth']\n",
      "Items: ['picnicess', 'Barclayville']\n",
      "Items: ['po-river medical', 'Yarmein']\n",
      "Items: ['ponnoken', 'Buah']\n",
      "Items: ['pool of bethesda medical', 'Commonwealth']\n",
      "Items: ['power house', 'Sanniquellie Mahn']\n",
      "Items: ['prison level 1', 'Kakata']\n",
      "Items: ['r. s. cauldfield school base', 'Mambah Kaba']\n",
      "Items: ['rally time', 'Barclayville']\n",
      "Items: ['refuge place international', 'Careysburg']\n",
      "Items: ['rhocee', 'Commonwealth']\n",
      "Items: ['ricks mission school', 'St. Paul River']\n",
      "Items: ['river gbeh', 'Sarbo']\n",
      "Items: ['robert moore memorial', 'Commonwealth']\n",
      "Items: ['rock city', 'Commonwealth']\n",
      "Items: ['royal home', 'Mambah Kaba']\n",
      "Items: ['salala rubber corporation', 'Gibi']\n",
      "Items: ['sarbo', 'Sarbo']\n",
      "Items: ['sasstown', 'Klay']\n",
      "Items: ['slangonplay', 'Gbehlay-Geh']\n",
      "Items: ['st francis', 'Tuobo']\n",
      "Items: [\"st luke's\", 'Senjeh']\n",
      "Items: ['summah medical', 'Mambah Kaba']\n",
      "Items: ['tamayta', 'Jorquelleh']\n",
      "Items: ['tarlu', 'Buah']\n",
      "Items: ['tarworken', 'Karluway #2']\n",
      "Items: ['the good will  annex i', 'Commonwealth']\n",
      "Items: ['toweh town', 'Putu']\n",
      "Items: ['trokon glay medical  #1', 'Mambah Kaba']\n",
      "Items: ['tubmanville', 'Kpayan']\n",
      "Items: ['tuzon  (cavalla)', 'Cavala']\n",
      "Items: ['unichaps', 'Commonwealth']\n",
      "Items: ['unification town', 'Mambah Kaba']\n",
      "Items: ['vayenglay', 'Gbehlay-Geh']\n",
      "Items: ['vision for the hopeless', 'Commonwealth']\n",
      "Items: ['waho', 'Tewor']\n",
      "Items: ['wainsue', 'Jorquelleh']\n",
      "Items: ['waterfield primary', 'Kakata']\n",
      "Items: ['weala  united methodist', 'Kakata']\n",
      "Items: ['wilsonville', 'Trenbo']\n",
      "Items: [\"wlame's maternity\", 'Commonwealth']\n",
      "Items: ['wolola', 'Gibi']\n",
      "Items: ['yeagbah town', 'Todee']\n",
      "Items: ['yeala', 'Zorzor']\n",
      "Items: ['yekpedu', 'Foya']\n",
      "Items: ['yoewee', 'Zota']\n",
      "Items: ['yomo', 'Senjeh']\n",
      "Items: ['youhnlay', 'Gbehlay-Geh']\n",
      "Items: [\"young men's christian association\", 'Sanniquellie Mahn']\n",
      "Items: ['zingbor town', 'Todee']\n",
      "Items: ['zuolay', 'Putu']\n",
      "Items: ['abc', 'Kakata']\n",
      "Items: ['liberia albino society  annex ii', 'Careysburg']\n",
      "Num not found: 205\n"
     ]
    }
   ],
   "source": [
    "smallest_geob = geob_arr[-1]\n",
    "print(len(smallest_geob))\n",
    "for adm_idx in range(num_admin_levels-1, -1, -1): # reverse order\n",
    "    if adm_idx > 0:\n",
    "        admNum = adm_idx+1\n",
    "        print(f\"Facility name and admin {admNum} names\")\n",
    "        for idx, row in records_subset.iterrows():\n",
    "            adm = smallest_geob.loc[smallest_geob['shapeName'] == row[f'adm{admNum}']].copy()\n",
    "\n",
    "            records = gcu.run_geocoding(idx, row, records, adm, ['NAME', f'adm{admNum}'], diso,\n",
    "                                        geolocator_bing, geolocator_osm, geolocator_google)\n",
    "\n",
    "\n",
    "        records_subset = records.loc[records.geocoding_method==\"None\"].copy()\n",
    "        records_subset = records_subset.loc[~records_subset[f\"adm{adm_idx}\"].isna()].copy()\n",
    "        if adm_idx -1 > 0:\n",
    "            records_subset = records_subset.loc[~records_subset[f\"adm{adm_idx-1}\"].isna()].copy()\n",
    "        print(f\"Num not found: {len(records_subset)}\")"
   ]
  },
  {
   "cell_type": "code",
   "execution_count": 18,
   "metadata": {
    "pycharm": {
     "name": "#%%\n"
    }
   },
   "outputs": [
    {
     "data": {
      "text/plain": "<pandas.io.formats.style.Styler at 0x1a01f9290>",
      "text/html": "<style type=\"text/css\">\n</style>\n<table id=\"T_12cdc\">\n  <thead>\n    <tr>\n      <th class=\"blank level0\" >&nbsp;</th>\n      <th id=\"T_12cdc_level0_col0\" class=\"col_heading level0 col0\" >count</th>\n      <th id=\"T_12cdc_level0_col1\" class=\"col_heading level0 col1\" >pct</th>\n    </tr>\n    <tr>\n      <th class=\"index_name level0\" >geocoding_method</th>\n      <th class=\"blank col0\" >&nbsp;</th>\n      <th class=\"blank col1\" >&nbsp;</th>\n    </tr>\n  </thead>\n  <tbody>\n    <tr>\n      <th id=\"T_12cdc_level0_row0\" class=\"row_heading level0 row0\" >Location from Health Sites IO and within admin 1</th>\n      <td id=\"T_12cdc_row0_col0\" class=\"data row0 col0\" >499</td>\n      <td id=\"T_12cdc_row0_col1\" class=\"data row0 col1\" >58.8%</td>\n    </tr>\n    <tr>\n      <th id=\"T_12cdc_level0_row1\" class=\"row_heading level0 row1\" >NAME and adm2 query Bing</th>\n      <td id=\"T_12cdc_row1_col0\" class=\"data row1 col0\" >84</td>\n      <td id=\"T_12cdc_row1_col1\" class=\"data row1 col1\" >9.9%</td>\n    </tr>\n    <tr>\n      <th id=\"T_12cdc_level0_row2\" class=\"row_heading level0 row2\" >NAME and adm2 query Google</th>\n      <td id=\"T_12cdc_row2_col0\" class=\"data row2 col0\" >23</td>\n      <td id=\"T_12cdc_row2_col1\" class=\"data row2 col1\" >2.7%</td>\n    </tr>\n    <tr>\n      <th id=\"T_12cdc_level0_row3\" class=\"row_heading level0 row3\" >NAME and adm2 query OSM</th>\n      <td id=\"T_12cdc_row3_col0\" class=\"data row3 col0\" >37</td>\n      <td id=\"T_12cdc_row3_col1\" class=\"data row3 col1\" >4.4%</td>\n    </tr>\n    <tr>\n      <th id=\"T_12cdc_level0_row4\" class=\"row_heading level0 row4\" >None</th>\n      <td id=\"T_12cdc_row4_col0\" class=\"data row4 col0\" >205</td>\n      <td id=\"T_12cdc_row4_col1\" class=\"data row4 col1\" >24.2%</td>\n    </tr>\n  </tbody>\n</table>\n"
     },
     "execution_count": 18,
     "metadata": {},
     "output_type": "execute_result"
    }
   ],
   "source": [
    "gcu.report_geocoding(records)"
   ]
  },
  {
   "cell_type": "markdown",
   "metadata": {
    "pycharm": {
     "name": "#%% md\n"
    }
   },
   "source": [
    "## Orgunitlevel5 names"
   ]
  },
  {
   "cell_type": "markdown",
   "metadata": {
    "pycharm": {
     "name": "#%% md\n"
    }
   },
   "source": [
    "Geocode based on orgunitlevel 5 name.  \n",
    "Check to make sure result falls within admin 3 polygon.  "
   ]
  },
  {
   "cell_type": "code",
   "execution_count": 19,
   "metadata": {
    "pycharm": {
     "name": "#%%\n"
    }
   },
   "outputs": [],
   "source": [
    "records['NAME5'] = records['orgunitlevel5'].str.lower()\n",
    "ppu.remove_words(records, 'NAME5', words_to_remove)\n",
    "\n",
    "records_subset = records.loc[records.geocoding_method==\"None\"].copy()\n",
    "records_subset = records_subset.loc[~records_subset[f\"adm{num_admin_levels}\"].isna()].copy()"
   ]
  },
  {
   "cell_type": "code",
   "execution_count": 30,
   "metadata": {
    "pycharm": {
     "name": "#%%\n"
    }
   },
   "outputs": [
    {
     "name": "stdout",
     "output_type": "stream",
     "text": [
      "Geocoding for org level 5\n",
      "Num recs at org level 5: 67\n",
      "Items: ['a place of rescue', 'Commonwealth']\n",
      "Items: ['agape', 'Commonwealth']\n",
      "Items: ['alfred f. kortio medical', 'Commonwealth']\n",
      "Items: ['anet mini', 'Commonwealth']\n",
      "Items: ['balm in gilead', 'Commonwealth']\n",
      "Items: ['beh town  (cavalla)', 'Cavala']\n",
      "Items: ['besoa', 'Klay']\n",
      "Items: ['bolloh new town', 'Dorbor']\n",
      "Items: ['brown', 'Commonwealth']\n",
      "Items: ['carver mission', 'Commonwealth']\n",
      "Items: ['comfort', 'Firestone']\n",
      "Items: ['compassionate care', 'Commonwealth']\n",
      "Items: ['confidence', 'Commonwealth']\n",
      "Items: ['d h luo', 'Commonwealth']\n",
      "Items: [\"dolo's town\", 'Firestone']\n",
      "Items: ['dr. agnes varis', 'Commonwealth']\n",
      "Items: ['e s grant mental', 'Commonwealth']\n",
      "Items: ['el-shadah', 'Commonwealth']\n",
      "Items: ['elwa', 'Commonwealth']\n",
      "Items: ['esther  amos medical', 'Commonwealth']\n",
      "Items: ['from god to man-ma-hawa', 'Commonwealth']\n",
      "Items: ['garzon', 'Firestone']\n",
      "Items: ['genesis care medical  annex 1 (breath of life )', 'Commonwealth']\n",
      "Items: [\"glahn's town\", 'Putu']\n",
      "Items: ['god grace medical and laboratory  annex 1', 'Commonwealth']\n",
      "Items: ['golodee lassana', 'Klay']\n",
      "Items: ['goodness of god (gog) medical', 'Commonwealth']\n",
      "Items: ['great testimony medical', 'Commonwealth']\n",
      "Items: ['for all medical and lab', 'Commonwealth']\n",
      "Items: ['heaven care /children', 'Commonwealth']\n",
      "Items: ['j and j memorial', 'Commonwealth']\n",
      "Items: ['jarel faith in action med.', 'Commonwealth']\n",
      "Items: ['john logan town sdp', 'District #1']\n",
      "Items: ['johnson', 'Commonwealth']\n",
      "Items: ['kellen  mt. blarclay', 'Commonwealth']\n",
      "Items: ['kingdom care medical', 'Commonwealth']\n",
      "Items: ['kpanjah', 'Commonwealth']\n",
      "Items: ['lg hope med.', 'Commonwealth']\n",
      "Items: ['liberty', 'Commonwealth']\n",
      "Items: ['life line medical', 'Firestone']\n",
      "Items: ['lisnow martanity', 'Firestone']\n",
      "Items: ['lukambeh med.', 'Commonwealth']\n",
      "Items: ['ma-rita maternal, child  and medical', 'Commonwealth']\n",
      "Items: ['macphine', 'Commonwealth']\n",
      "Items: ['massaquoi town', 'Gibi']\n",
      "Items: ['medical diagnostic laboratory', 'Commonwealth']\n",
      "Items: ['modern medical and laboratory diagnostic services', 'Commonwealth']\n",
      "Items: ['mother artis martanity', 'Firestone']\n",
      "Items: ['mother esther rufus med.', 'Commonwealth']\n",
      "Items: [\"mother's love\", 'Commonwealth']\n",
      "Items: ['mount barclay', 'Commonwealth']\n",
      "Items: ['new life med. & lab.', 'Commonwealth']\n",
      "Items: ['nyankupo', 'Dorbor']\n",
      "Items: ['paynesville city', 'Commonwealth']\n",
      "Items: ['pool of bethesda medical', 'Commonwealth']\n",
      "Items: ['rhocee', 'Commonwealth']\n",
      "Items: ['robert moore memorial', 'Commonwealth']\n",
      "Items: ['rock city', 'Commonwealth']\n",
      "Items: ['salala rubber corporation', 'Gibi']\n",
      "Items: ['the good will  annex i', 'Commonwealth']\n",
      "Items: ['toweh town', 'Putu']\n",
      "Items: ['unichaps', 'Commonwealth']\n",
      "Items: ['vision for the hopeless', 'Commonwealth']\n",
      "Items: ['wilsonville', 'Trenbo']\n",
      "Items: [\"wlame's maternity\", 'Commonwealth']\n",
      "Items: ['wolola', 'Gibi']\n",
      "Items: ['zuolay', 'Putu']\n",
      "None    67\n",
      "Name: geocoding_method, dtype: int64\n"
     ]
    },
    {
     "name": "stderr",
     "output_type": "stream",
     "text": [
      "67it [00:00, 1058.15it/s]"
     ]
    },
    {
     "name": "stdout",
     "output_type": "stream",
     "text": [
      "Geocoding for org level 4\n",
      "Num recs at org level 4: 67\n",
      "Items: ['a place of rescue', 'A Place of Rescue Health Clinic']\n"
     ]
    },
    {
     "name": "stderr",
     "output_type": "stream",
     "text": [
      "\n"
     ]
    },
    {
     "name": "stdout",
     "output_type": "stream",
     "text": [
      "Items: ['agape', 'Agape Health Clinic']\n",
      "Items: ['alfred f. kortio medical', 'Alfred F. Kortio Medical']\n",
      "Items: ['anet mini', 'Anet Mini Community Clinic']\n",
      "Items: ['balm in gilead', 'Balm In Gilead  Clinic']\n",
      "Items: ['beh town  (cavalla)', 'Beh Town Clinic (Cavalla)']\n",
      "Items: ['besoa', 'Besoa Clinic']\n",
      "Items: ['bolloh new town', 'Bolloh New Town Clinic']\n",
      "Items: ['brown', 'Brown Community Clinic']\n",
      "Items: ['carver mission', 'Carver Mission Clinic']\n",
      "Items: ['comfort', 'Comfort Health Center']\n",
      "Items: ['compassionate care', 'Compassionate Care Clinic']\n",
      "Items: ['confidence', 'Confidence Clinic']\n",
      "Items: ['d h luo', 'D H Luo Community Clinic']\n",
      "Items: [\"dolo's town\", \"Dolo's Town Health Center\"]\n",
      "Items: ['dr. agnes varis', 'Dr. Agnes Varis Health Center']\n",
      "Items: ['e s grant mental', 'E S Grant Mental Hospital']\n",
      "Items: ['el-shadah', 'El-Shadah Clinic']\n",
      "Items: ['elwa', 'ELWA Hospital']\n",
      "Items: ['esther  amos medical', 'Esther  Amos Medical Clinic']\n",
      "Items: ['from god to man-ma-hawa', 'From God to Man-Ma-Hawa clinic']\n",
      "Items: ['garzon', 'Garzon Health Center']\n",
      "Items: ['genesis care medical  annex 1 (breath of life )', 'Genesis Healthcare Medical Clinic Annex 1 (Breath of Life Clinic)']\n",
      "Items: [\"glahn's town\", \"Glahn's Town\"]\n",
      "Items: ['god grace medical and laboratory  annex 1', 'God Grace Medical and Laboratory Clinic Annex 1']\n",
      "Items: ['golodee lassana', 'Golodee Lassana Clinic']\n",
      "Items: ['goodness of god (gog) medical', 'Goodness of God (GOG) Medical Clinic']\n",
      "Items: ['great testimony medical', 'Great Testimony Medical Clinic']\n",
      "Items: ['for all medical and lab', 'Health for All Medical and Lab Clinic']\n",
      "Items: ['heaven care /children', 'Heaven Care Clinic/Children Health Clinic']\n",
      "Items: ['j and j memorial', 'J and J Memorial Health Center']\n",
      "Items: ['jarel faith in action med.', 'JAREL Faith In Action Med. Clinic']\n",
      "Items: ['john logan town sdp', 'John Logan Town SDP']\n",
      "Items: ['johnson', 'Johnson Clinic']\n",
      "Items: ['kellen  mt. blarclay', 'Kellen Clinic Mt. Blarclay']\n",
      "Items: ['kingdom care medical', 'Kingdom Care Medical Clinic']\n",
      "Items: ['kpanjah', 'Kpanjah Community Clinic']\n",
      "Items: ['lg hope med.', 'LG Hope Med. Clinic']\n",
      "Items: ['liberty', 'Liberty Clinic']\n",
      "Items: ['life line medical', 'Life Line Medical Clinic']\n",
      "Items: ['lisnow martanity', 'Lisnow Martanity Clinic']\n",
      "Items: ['lukambeh med.', 'Lukambeh Med. Clinic']\n",
      "Items: ['ma-rita maternal, child  and medical', 'Ma-Rita Maternal, Child Health And Medical Clinic']\n",
      "Items: ['macphine', 'Macphine Health Center']\n",
      "Items: ['massaquoi town', 'Massaquoi Town Health Center']\n",
      "Items: ['medical diagnostic laboratory', 'Medical Diagnostic Laboratory Clinic']\n",
      "Items: ['modern medical and laboratory diagnostic services', 'Modern Medical and Laboratory Diagnostic Services']\n",
      "Items: ['mother artis martanity', 'Mother Artis Martanity Clinic']\n",
      "Items: ['mother esther rufus med.', 'Mother Esther Rufus Med. Clinic']\n",
      "Items: [\"mother's love\", \"Mother's Love Clinic\"]\n",
      "Items: ['mount barclay', 'Mount Barclay Community Clinic']\n",
      "Items: ['new life med. & lab.', 'New Life Med. & Lab. Clinic']\n",
      "Items: ['nyankupo', 'Nyankupo Clinic']\n",
      "Items: ['paynesville city', 'Paynesville City Clinic']\n",
      "Items: ['pool of bethesda medical', 'Pool of Bethesda Medical Clinic']\n",
      "Items: ['rhocee', 'Rhocee Clinic']\n",
      "Items: ['robert moore memorial', 'Robert Moore Memorial Health Center']\n",
      "Items: ['rock city', 'Rock City Community Clinic']\n",
      "Items: ['salala rubber corporation', 'Salala Rubber Corporation Health Center']\n",
      "Items: ['the good will  annex i', 'The Good Will Clinic Annex I']\n",
      "Items: ['toweh town', 'Toweh Town Clinic']\n",
      "Items: ['unichaps', 'UNICHAPS Clinic']\n",
      "Items: ['vision for the hopeless', 'Vision for the Hopeless Clinic']\n",
      "Items: ['wilsonville', 'Wilsonville Clinic']\n",
      "Items: [\"wlame's maternity\", \"Wlame's Maternity Clinic\"]\n",
      "Items: ['wolola', 'Wolola Clinic']\n",
      "Items: ['zuolay', 'Zuolay Clinic']\n",
      "None    67\n",
      "Name: geocoding_method, dtype: int64\n"
     ]
    },
    {
     "name": "stderr",
     "output_type": "stream",
     "text": [
      "67it [00:00, 1578.52it/s]\n"
     ]
    }
   ],
   "source": [
    "admNum = num_admin_levels\n",
    "\n",
    "for org_idx in range(num_org_levels, -1, -1): # reverse order\n",
    "    if org_idx > 3:\n",
    "        the_cols = ['NAME5', f'adm{admNum}'] if org_idx == 5 else ['NAME5', f'orgunitlevel{org_idx}']\n",
    "        print(f\"Geocoding for org level {org_idx}\")\n",
    "        orglev_df = records_subset[[f'orgunitlevel{org_idx}', 'NAME5', f'adm{admNum}', 'orgunitlevel1']].drop_duplicates().copy()\n",
    "        print(f\"Num recs at org level {org_idx}: {len(orglev_df)}\")\n",
    "\n",
    "        for idx, row in orglev_df.iterrows():\n",
    "\n",
    "            adm = smallest_geob.loc[smallest_geob['shapeName'] == row[f'adm{admNum}']].copy()\n",
    "            #print(len(adm))\n",
    "            orglev_df = gcu.run_geocoding(idx, row, orglev_df, adm, the_cols, diso,\n",
    "                              geolocator_bing, geolocator_osm, geolocator_google)\n",
    "        print(orglev_df.geocoding_method.value_counts())\n",
    "\n",
    "        for idx, row in tqdm(records_subset.iterrows()):\n",
    "            if org_idx == num_org_levels:\n",
    "                orglev_geocoded = orglev_df.loc[orglev_df['NAME5']==row['NAME5']].iloc[0]\n",
    "                records.loc[idx, \"longitude\"] = orglev_geocoded.longitude\n",
    "                records.loc[idx, \"latitude\"] = orglev_geocoded.latitude\n",
    "                records.loc[idx, \"geocoding_method\"] = orglev_geocoded.geocoding_method\n",
    "            else:\n",
    "                if row.geocoding_method ==\"None\":\n",
    "                    cent = adm.geometry.representative_point().iloc[0]\n",
    "                    records.loc[idx, \"longitude\"] = cent.x\n",
    "                    records.loc[idx, \"latitude\"] = cent.y\n",
    "                    records.loc[idx, \"geocoding_method\"] = \"District centroid\"\n",
    "\n",
    "        records_subset = records.loc[records.geocoding_method==\"None\"].copy()\n",
    "        records_subset = records_subset.loc[~records_subset[f\"adm{admNum}\"].isna()].copy()"
   ]
  },
  {
   "cell_type": "code",
   "execution_count": 31,
   "metadata": {
    "pycharm": {
     "name": "#%%\n"
    }
   },
   "outputs": [
    {
     "data": {
      "text/plain": "<pandas.io.formats.style.Styler at 0x1a01ca0d0>",
      "text/html": "<style type=\"text/css\">\n</style>\n<table id=\"T_d93d7\">\n  <thead>\n    <tr>\n      <th class=\"blank level0\" >&nbsp;</th>\n      <th id=\"T_d93d7_level0_col0\" class=\"col_heading level0 col0\" >count</th>\n      <th id=\"T_d93d7_level0_col1\" class=\"col_heading level0 col1\" >pct</th>\n    </tr>\n    <tr>\n      <th class=\"index_name level0\" >geocoding_method</th>\n      <th class=\"blank col0\" >&nbsp;</th>\n      <th class=\"blank col1\" >&nbsp;</th>\n    </tr>\n  </thead>\n  <tbody>\n    <tr>\n      <th id=\"T_d93d7_level0_row0\" class=\"row_heading level0 row0\" >District centroid</th>\n      <td id=\"T_d93d7_row0_col0\" class=\"data row0 col0\" >67</td>\n      <td id=\"T_d93d7_row0_col1\" class=\"data row0 col1\" >7.9%</td>\n    </tr>\n    <tr>\n      <th id=\"T_d93d7_level0_row1\" class=\"row_heading level0 row1\" >Location from Health Sites IO and within admin 1</th>\n      <td id=\"T_d93d7_row1_col0\" class=\"data row1 col0\" >499</td>\n      <td id=\"T_d93d7_row1_col1\" class=\"data row1 col1\" >58.8%</td>\n    </tr>\n    <tr>\n      <th id=\"T_d93d7_level0_row2\" class=\"row_heading level0 row2\" >NAME and adm2 query Bing</th>\n      <td id=\"T_d93d7_row2_col0\" class=\"data row2 col0\" >84</td>\n      <td id=\"T_d93d7_row2_col1\" class=\"data row2 col1\" >9.9%</td>\n    </tr>\n    <tr>\n      <th id=\"T_d93d7_level0_row3\" class=\"row_heading level0 row3\" >NAME and adm2 query Google</th>\n      <td id=\"T_d93d7_row3_col0\" class=\"data row3 col0\" >23</td>\n      <td id=\"T_d93d7_row3_col1\" class=\"data row3 col1\" >2.7%</td>\n    </tr>\n    <tr>\n      <th id=\"T_d93d7_level0_row4\" class=\"row_heading level0 row4\" >NAME and adm2 query OSM</th>\n      <td id=\"T_d93d7_row4_col0\" class=\"data row4 col0\" >37</td>\n      <td id=\"T_d93d7_row4_col1\" class=\"data row4 col1\" >4.4%</td>\n    </tr>\n    <tr>\n      <th id=\"T_d93d7_level0_row5\" class=\"row_heading level0 row5\" >None</th>\n      <td id=\"T_d93d7_row5_col0\" class=\"data row5 col0\" >138</td>\n      <td id=\"T_d93d7_row5_col1\" class=\"data row5 col1\" >16.3%</td>\n    </tr>\n  </tbody>\n</table>\n"
     },
     "execution_count": 31,
     "metadata": {},
     "output_type": "execute_result"
    }
   ],
   "source": [
    "gcu.report_geocoding(records)"
   ]
  },
  {
   "cell_type": "markdown",
   "metadata": {
    "pycharm": {
     "name": "#%% md\n"
    }
   },
   "source": [
    "## Admin 3  and admin 2 names"
   ]
  },
  {
   "cell_type": "code",
   "execution_count": 35,
   "metadata": {
    "pycharm": {
     "name": "#%%\n"
    }
   },
   "outputs": [
    {
     "name": "stdout",
     "output_type": "stream",
     "text": [
      "1\n"
     ]
    },
    {
     "name": "stderr",
     "output_type": "stream",
     "text": [
      "0it [00:00, ?it/s]\n",
      "0it [00:00, ?it/s]\n"
     ]
    },
    {
     "name": "stdout",
     "output_type": "stream",
     "text": [
      "0\n"
     ]
    },
    {
     "name": "stderr",
     "output_type": "stream",
     "text": [
      "0it [00:00, ?it/s]"
     ]
    },
    {
     "name": "stdout",
     "output_type": "stream",
     "text": [
      "Items: ['Gbason Town Clinic', 'Sinoe']\n"
     ]
    },
    {
     "name": "stderr",
     "output_type": "stream",
     "text": [
      "1it [00:00,  1.14it/s]"
     ]
    },
    {
     "name": "stdout",
     "output_type": "stream",
     "text": [
      "Items: ['AFRO-Medical Communiy Clinic', 'Montserrado']\n"
     ]
    },
    {
     "name": "stderr",
     "output_type": "stream",
     "text": [
      "2it [00:01,  1.97it/s]"
     ]
    },
    {
     "name": "stdout",
     "output_type": "stream",
     "text": [
      "Items: ['Ahmadiyya Mission Muslim Clinic', 'Montserrado']\n"
     ]
    },
    {
     "name": "stderr",
     "output_type": "stream",
     "text": [
      "3it [00:01,  2.15it/s]"
     ]
    },
    {
     "name": "stdout",
     "output_type": "stream",
     "text": [
      "Items: ['Ahmadiyya Muslim Mission Clinic', 'Montserrado']\n"
     ]
    },
    {
     "name": "stderr",
     "output_type": "stream",
     "text": [
      "4it [00:02,  2.10it/s]"
     ]
    },
    {
     "name": "stdout",
     "output_type": "stream",
     "text": [
      "Items: ['Albert Steward Medical Clinic', 'Montserrado']\n"
     ]
    },
    {
     "name": "stderr",
     "output_type": "stream",
     "text": [
      "5it [00:02,  1.75it/s]"
     ]
    },
    {
     "name": "stdout",
     "output_type": "stream",
     "text": [
      "Items: ['Amagashie Clinic', 'Montserrado']\n"
     ]
    },
    {
     "name": "stderr",
     "output_type": "stream",
     "text": [
      "6it [00:03,  2.18it/s]"
     ]
    },
    {
     "name": "stdout",
     "output_type": "stream",
     "text": [
      "Items: ['AMEU Clinic', 'Montserrado']\n"
     ]
    },
    {
     "name": "stderr",
     "output_type": "stream",
     "text": [
      "7it [00:03,  1.96it/s]"
     ]
    },
    {
     "name": "stdout",
     "output_type": "stream",
     "text": [
      "Items: ['Annur (The Light) Clinic', 'Montserrado']\n"
     ]
    },
    {
     "name": "stderr",
     "output_type": "stream",
     "text": [
      "8it [00:04,  1.86it/s]"
     ]
    },
    {
     "name": "stdout",
     "output_type": "stream",
     "text": [
      "Items: ['Aspen Medical International', 'Montserrado']\n"
     ]
    },
    {
     "name": "stderr",
     "output_type": "stream",
     "text": [
      "9it [00:04,  2.00it/s]"
     ]
    },
    {
     "name": "stdout",
     "output_type": "stream",
     "text": [
      "Items: ['Aunty Gloria Medical Clinic', 'Montserrado']\n"
     ]
    },
    {
     "name": "stderr",
     "output_type": "stream",
     "text": [
      "10it [00:05,  2.04it/s]"
     ]
    },
    {
     "name": "stdout",
     "output_type": "stream",
     "text": [
      "Items: ['B.T.C Clinic', 'Montserrado']\n"
     ]
    },
    {
     "name": "stderr",
     "output_type": "stream",
     "text": [
      "11it [00:07,  1.04s/it]"
     ]
    },
    {
     "name": "stdout",
     "output_type": "stream",
     "text": [
      "Items: ['Barconnie Clinic', 'Grand Bassa']\n"
     ]
    },
    {
     "name": "stderr",
     "output_type": "stream",
     "text": [
      "12it [00:07,  1.27it/s]"
     ]
    },
    {
     "name": "stdout",
     "output_type": "stream",
     "text": [
      "Items: ['Beindin Clinic', 'Nimba']\n"
     ]
    },
    {
     "name": "stderr",
     "output_type": "stream",
     "text": [
      "13it [00:08,  1.42it/s]"
     ]
    },
    {
     "name": "stdout",
     "output_type": "stream",
     "text": [
      "Items: ['Belle Baloma Clinic', 'Montserrado']\n"
     ]
    },
    {
     "name": "stderr",
     "output_type": "stream",
     "text": [
      "14it [00:08,  1.51it/s]"
     ]
    },
    {
     "name": "stdout",
     "output_type": "stream",
     "text": [
      "Items: ['Bishop Darlington  Clinic', 'Montserrado']\n"
     ]
    },
    {
     "name": "stderr",
     "output_type": "stream",
     "text": [
      "15it [00:09,  1.53it/s]"
     ]
    },
    {
     "name": "stdout",
     "output_type": "stream",
     "text": [
      "Items: ['Blessing Maternity Clinic', 'Montserrado']\n"
     ]
    },
    {
     "name": "stderr",
     "output_type": "stream",
     "text": [
      "16it [00:09,  1.82it/s]"
     ]
    },
    {
     "name": "stdout",
     "output_type": "stream",
     "text": [
      "Items: ['Breath Of Life(Central)', 'Montserrado']\n"
     ]
    },
    {
     "name": "stderr",
     "output_type": "stream",
     "text": [
      "17it [00:10,  1.76it/s]"
     ]
    },
    {
     "name": "stdout",
     "output_type": "stream",
     "text": [
      "Items: ['Bunadin Clinic', 'Nimba']\n"
     ]
    },
    {
     "name": "stderr",
     "output_type": "stream",
     "text": [
      "18it [00:10,  2.06it/s]"
     ]
    },
    {
     "name": "stdout",
     "output_type": "stream",
     "text": [
      "Items: ['Carter Center LMA Market School Based Clinic', 'Montserrado']\n"
     ]
    },
    {
     "name": "stderr",
     "output_type": "stream",
     "text": [
      "19it [00:11,  1.86it/s]"
     ]
    },
    {
     "name": "stdout",
     "output_type": "stream",
     "text": [
      "Items: ['Central Matadi Dweh Memorial Clinic', 'Montserrado']\n"
     ]
    },
    {
     "name": "stderr",
     "output_type": "stream",
     "text": [
      "20it [00:11,  1.78it/s]"
     ]
    },
    {
     "name": "stdout",
     "output_type": "stream",
     "text": [
      "Items: ['Cheboken Clinic', 'River Gee']\n"
     ]
    },
    {
     "name": "stderr",
     "output_type": "stream",
     "text": [
      "21it [00:12,  2.17it/s]"
     ]
    },
    {
     "name": "stdout",
     "output_type": "stream",
     "text": [
      "Items: ['City View Comm. Clinic', 'Montserrado']\n"
     ]
    },
    {
     "name": "stderr",
     "output_type": "stream",
     "text": [
      "22it [00:12,  2.07it/s]"
     ]
    },
    {
     "name": "stdout",
     "output_type": "stream",
     "text": [
      "Items: ['Clini Lab', 'Montserrado']\n"
     ]
    },
    {
     "name": "stderr",
     "output_type": "stream",
     "text": [
      "23it [00:13,  1.91it/s]"
     ]
    },
    {
     "name": "stdout",
     "output_type": "stream",
     "text": [
      "Items: ['Daqmow Clinic', 'Montserrado']\n"
     ]
    },
    {
     "name": "stderr",
     "output_type": "stream",
     "text": [
      "24it [00:13,  1.94it/s]"
     ]
    },
    {
     "name": "stdout",
     "output_type": "stream",
     "text": [
      "Items: ['Devine Touch Maternal and Child Health Clinic', 'Montserrado']\n"
     ]
    },
    {
     "name": "stderr",
     "output_type": "stream",
     "text": [
      "25it [00:14,  1.94it/s]"
     ]
    },
    {
     "name": "stdout",
     "output_type": "stream",
     "text": [
      "Items: ['Diagnostic Rescue International Clinic', 'Montserrado']\n"
     ]
    },
    {
     "name": "stderr",
     "output_type": "stream",
     "text": [
      "26it [00:14,  2.01it/s]"
     ]
    },
    {
     "name": "stdout",
     "output_type": "stream",
     "text": [
      "Items: ['Divine Wonder Community Clinic', 'Montserrado']\n"
     ]
    },
    {
     "name": "stderr",
     "output_type": "stream",
     "text": [
      "27it [00:15,  1.98it/s]"
     ]
    },
    {
     "name": "stdout",
     "output_type": "stream",
     "text": [
      "Items: ['Dniyama Out Patient Clinic', 'Montserrado']\n"
     ]
    },
    {
     "name": "stderr",
     "output_type": "stream",
     "text": [
      "28it [00:15,  2.03it/s]"
     ]
    },
    {
     "name": "stdout",
     "output_type": "stream",
     "text": [
      "Items: ['Dorbor Clinic', 'Rivercess']\n"
     ]
    },
    {
     "name": "stderr",
     "output_type": "stream",
     "text": [
      "29it [00:16,  1.96it/s]"
     ]
    },
    {
     "name": "stdout",
     "output_type": "stream",
     "text": [
      "Items: ['Dr. Alexander P. Tokpah Clinic', 'Sinoe']\n"
     ]
    },
    {
     "name": "stderr",
     "output_type": "stream",
     "text": [
      "30it [00:16,  1.88it/s]"
     ]
    },
    {
     "name": "stdout",
     "output_type": "stream",
     "text": [
      "Items: ['Dr. Bob Community Clinic', 'Montserrado']\n"
     ]
    },
    {
     "name": "stderr",
     "output_type": "stream",
     "text": [
      "31it [00:17,  1.94it/s]"
     ]
    },
    {
     "name": "stdout",
     "output_type": "stream",
     "text": [
      "Items: ['Duo Town Clinic', 'Nimba']\n"
     ]
    },
    {
     "name": "stderr",
     "output_type": "stream",
     "text": [
      "32it [00:17,  1.91it/s]"
     ]
    },
    {
     "name": "stdout",
     "output_type": "stream",
     "text": [
      "Items: ['Earlbert Medical Services, INC', 'Montserrado']\n"
     ]
    },
    {
     "name": "stderr",
     "output_type": "stream",
     "text": [
      "33it [00:18,  2.16it/s]"
     ]
    },
    {
     "name": "stdout",
     "output_type": "stream",
     "text": [
      "Items: ['Faith Medical & Laboratory Clinic', 'Montserrado']\n"
     ]
    },
    {
     "name": "stderr",
     "output_type": "stream",
     "text": [
      "34it [00:18,  2.12it/s]"
     ]
    },
    {
     "name": "stdout",
     "output_type": "stream",
     "text": [
      "Items: ['Family Medical Clinic', 'Montserrado']\n"
     ]
    },
    {
     "name": "stderr",
     "output_type": "stream",
     "text": [
      "35it [00:19,  1.99it/s]"
     ]
    },
    {
     "name": "stdout",
     "output_type": "stream",
     "text": [
      "Items: ['Father James Lee Maternity Clinic', 'Montserrado']\n"
     ]
    },
    {
     "name": "stderr",
     "output_type": "stream",
     "text": [
      "36it [00:19,  2.03it/s]"
     ]
    },
    {
     "name": "stdout",
     "output_type": "stream",
     "text": [
      "Items: ['Fidelity Health Care Services Inc.', 'Montserrado']\n"
     ]
    },
    {
     "name": "stderr",
     "output_type": "stream",
     "text": [
      "37it [00:20,  1.91it/s]"
     ]
    },
    {
     "name": "stdout",
     "output_type": "stream",
     "text": [
      "Items: ['Firehouse Clinic (John S. Butler Clinic) II', 'Montserrado']\n"
     ]
    },
    {
     "name": "stderr",
     "output_type": "stream",
     "text": [
      "38it [00:20,  1.71it/s]"
     ]
    },
    {
     "name": "stdout",
     "output_type": "stream",
     "text": [
      "Items: ['Fountain of Life Clinic', 'Montserrado']\n"
     ]
    },
    {
     "name": "stderr",
     "output_type": "stream",
     "text": [
      "39it [00:21,  1.99it/s]"
     ]
    },
    {
     "name": "stdout",
     "output_type": "stream",
     "text": [
      "Items: ['Genesis Healthcare Medical Clinic', 'Montserrado']\n"
     ]
    },
    {
     "name": "stderr",
     "output_type": "stream",
     "text": [
      "40it [00:21,  2.05it/s]"
     ]
    },
    {
     "name": "stdout",
     "output_type": "stream",
     "text": [
      "Items: ['Gloring Health Clinic', 'Montserrado']\n"
     ]
    },
    {
     "name": "stderr",
     "output_type": "stream",
     "text": [
      "41it [00:22,  1.84it/s]"
     ]
    },
    {
     "name": "stdout",
     "output_type": "stream",
     "text": [
      "Items: ['Gmomaken Clinic', 'River Gee']\n"
     ]
    },
    {
     "name": "stderr",
     "output_type": "stream",
     "text": [
      "42it [00:22,  2.16it/s]"
     ]
    },
    {
     "name": "stdout",
     "output_type": "stream",
     "text": [
      "Items: ['God Grace', 'Montserrado']\n"
     ]
    },
    {
     "name": "stderr",
     "output_type": "stream",
     "text": [
      "43it [00:23,  2.06it/s]"
     ]
    },
    {
     "name": "stdout",
     "output_type": "stream",
     "text": [
      "Items: ['Grace A Reeves Baptist Clinic', 'Montserrado']\n"
     ]
    },
    {
     "name": "stderr",
     "output_type": "stream",
     "text": [
      "44it [00:23,  2.21it/s]"
     ]
    },
    {
     "name": "stdout",
     "output_type": "stream",
     "text": [
      "Items: ['Haja Kadiatu Sherif Memorial Clinic', 'Montserrado']\n"
     ]
    },
    {
     "name": "stderr",
     "output_type": "stream",
     "text": [
      "46it [00:24,  2.02it/s]"
     ]
    },
    {
     "name": "stdout",
     "output_type": "stream",
     "text": [
      "Items: ['Hope For Women Clinic', 'Montserrado']\n",
      "Items: ['Hydro MERCI Clinic', 'Montserrado']\n"
     ]
    },
    {
     "name": "stderr",
     "output_type": "stream",
     "text": [
      "47it [00:25,  1.96it/s]"
     ]
    },
    {
     "name": "stdout",
     "output_type": "stream",
     "text": [
      "Items: ['Iron Factory Clinic', 'Montserrado']\n"
     ]
    },
    {
     "name": "stderr",
     "output_type": "stream",
     "text": [
      "48it [00:25,  2.07it/s]"
     ]
    },
    {
     "name": "stdout",
     "output_type": "stream",
     "text": [
      "Items: ['Islamic Medical Surgical Clinic', 'Montserrado']\n"
     ]
    },
    {
     "name": "stderr",
     "output_type": "stream",
     "text": [
      "49it [00:26,  1.83it/s]"
     ]
    },
    {
     "name": "stdout",
     "output_type": "stream",
     "text": [
      "Items: ['Jacksonville Clinic', 'Sinoe']\n"
     ]
    },
    {
     "name": "stderr",
     "output_type": "stream",
     "text": [
      "50it [00:26,  1.88it/s]"
     ]
    },
    {
     "name": "stdout",
     "output_type": "stream",
     "text": [
      "Items: ['JAHMALE Medical Solutions', 'Montserrado']\n"
     ]
    },
    {
     "name": "stderr",
     "output_type": "stream",
     "text": [
      "51it [00:27,  2.05it/s]"
     ]
    },
    {
     "name": "stdout",
     "output_type": "stream",
     "text": [
      "Items: ['JF Kennedy Medical Center', 'Montserrado']\n"
     ]
    },
    {
     "name": "stderr",
     "output_type": "stream",
     "text": [
      "52it [00:27,  2.09it/s]"
     ]
    },
    {
     "name": "stdout",
     "output_type": "stream",
     "text": [
      "Items: ['Jobeta Clinic', 'Montserrado']\n"
     ]
    },
    {
     "name": "stderr",
     "output_type": "stream",
     "text": [
      "53it [00:28,  1.98it/s]"
     ]
    },
    {
     "name": "stdout",
     "output_type": "stream",
     "text": [
      "Items: ['Joelu Maternity Clinic', 'Montserrado']\n"
     ]
    },
    {
     "name": "stderr",
     "output_type": "stream",
     "text": [
      "54it [00:28,  1.89it/s]"
     ]
    },
    {
     "name": "stdout",
     "output_type": "stream",
     "text": [
      "Items: ['Joseph Boakai Clinic', 'Montserrado']\n"
     ]
    },
    {
     "name": "stderr",
     "output_type": "stream",
     "text": [
      "55it [00:29,  2.04it/s]"
     ]
    },
    {
     "name": "stdout",
     "output_type": "stream",
     "text": [
      "Items: ['Julius Roger Maternity Clinic', 'Montserrado']\n"
     ]
    },
    {
     "name": "stderr",
     "output_type": "stream",
     "text": [
      "56it [00:29,  1.97it/s]"
     ]
    },
    {
     "name": "stdout",
     "output_type": "stream",
     "text": [
      "Items: ['JY Memorial Clinic', 'Montserrado']\n"
     ]
    },
    {
     "name": "stderr",
     "output_type": "stream",
     "text": [
      "57it [00:30,  1.91it/s]"
     ]
    },
    {
     "name": "stdout",
     "output_type": "stream",
     "text": [
      "Items: ['Kenneh Medical Clinic', 'Montserrado']\n"
     ]
    },
    {
     "name": "stderr",
     "output_type": "stream",
     "text": [
      "58it [00:30,  2.04it/s]"
     ]
    },
    {
     "name": "stdout",
     "output_type": "stream",
     "text": [
      "Items: ['Kpallah Clinic', 'Nimba']\n"
     ]
    },
    {
     "name": "stderr",
     "output_type": "stream",
     "text": [
      "59it [00:31,  1.90it/s]"
     ]
    },
    {
     "name": "stdout",
     "output_type": "stream",
     "text": [
      "Items: ['Leonell Gulf Community Clinic', 'Montserrado']\n"
     ]
    },
    {
     "name": "stderr",
     "output_type": "stream",
     "text": [
      "60it [00:31,  2.06it/s]"
     ]
    },
    {
     "name": "stdout",
     "output_type": "stream",
     "text": [
      "Items: ['Liberia Albino Society Clinic', 'Montserrado']\n"
     ]
    },
    {
     "name": "stderr",
     "output_type": "stream",
     "text": [
      "61it [00:32,  1.89it/s]"
     ]
    },
    {
     "name": "stdout",
     "output_type": "stream",
     "text": [
      "Items: ['Liberia Coast Guard Clinic', 'Montserrado']\n"
     ]
    },
    {
     "name": "stderr",
     "output_type": "stream",
     "text": [
      "62it [00:33,  1.88it/s]"
     ]
    },
    {
     "name": "stdout",
     "output_type": "stream",
     "text": [
      "Items: ['Liberia Government Hospital (Buchanan)', 'Grand Bassa']\n"
     ]
    },
    {
     "name": "stderr",
     "output_type": "stream",
     "text": [
      "63it [00:33,  2.26it/s]"
     ]
    },
    {
     "name": "stdout",
     "output_type": "stream",
     "text": [
      "Items: ['Liberia National Police Clinic', 'Montserrado']\n"
     ]
    },
    {
     "name": "stderr",
     "output_type": "stream",
     "text": [
      "64it [00:33,  1.96it/s]"
     ]
    },
    {
     "name": "stdout",
     "output_type": "stream",
     "text": [
      "Items: ['Liberia National Red Cross Clinic', 'Montserrado']\n"
     ]
    },
    {
     "name": "stderr",
     "output_type": "stream",
     "text": [
      "65it [00:34,  1.96it/s]"
     ]
    },
    {
     "name": "stdout",
     "output_type": "stream",
     "text": [
      "Items: ['M. Watta Kamara Medical Clinic', 'Montserrado']\n"
     ]
    },
    {
     "name": "stderr",
     "output_type": "stream",
     "text": [
      "66it [00:34,  1.96it/s]"
     ]
    },
    {
     "name": "stdout",
     "output_type": "stream",
     "text": [
      "Items: ['Ma -Watta Medical & Eye', 'Montserrado']\n"
     ]
    },
    {
     "name": "stderr",
     "output_type": "stream",
     "text": [
      "67it [00:35,  2.05it/s]"
     ]
    },
    {
     "name": "stdout",
     "output_type": "stream",
     "text": [
      "Items: ['Ma- Bea Community Clinic', 'Montserrado']\n"
     ]
    },
    {
     "name": "stderr",
     "output_type": "stream",
     "text": [
      "68it [00:36,  1.92it/s]"
     ]
    },
    {
     "name": "stdout",
     "output_type": "stream",
     "text": [
      "Items: ['Ma- Yanlla Clinic', 'Montserrado']\n"
     ]
    },
    {
     "name": "stderr",
     "output_type": "stream",
     "text": [
      "69it [00:36,  2.06it/s]"
     ]
    },
    {
     "name": "stdout",
     "output_type": "stream",
     "text": [
      "Items: ['Ma-Esther Clinic', 'Montserrado']\n"
     ]
    },
    {
     "name": "stderr",
     "output_type": "stream",
     "text": [
      "70it [00:36,  2.16it/s]"
     ]
    },
    {
     "name": "stdout",
     "output_type": "stream",
     "text": [
      "Items: ['Maggie Medical Clinic', 'Montserrado']\n"
     ]
    },
    {
     "name": "stderr",
     "output_type": "stream",
     "text": [
      "71it [00:37,  1.98it/s]"
     ]
    },
    {
     "name": "stdout",
     "output_type": "stream",
     "text": [
      "Items: ['Marie Thomas clinic', 'Montserrado']\n"
     ]
    },
    {
     "name": "stderr",
     "output_type": "stream",
     "text": [
      "72it [00:37,  1.96it/s]"
     ]
    },
    {
     "name": "stdout",
     "output_type": "stream",
     "text": [
      "Items: ['MASHCO Medical Clinic', 'Montserrado']\n"
     ]
    },
    {
     "name": "stderr",
     "output_type": "stream",
     "text": [
      "73it [00:38,  1.84it/s]"
     ]
    },
    {
     "name": "stdout",
     "output_type": "stream",
     "text": [
      "Items: ['Matadi City Clinic', 'Montserrado']\n"
     ]
    },
    {
     "name": "stderr",
     "output_type": "stream",
     "text": [
      "74it [00:38,  1.99it/s]"
     ]
    },
    {
     "name": "stdout",
     "output_type": "stream",
     "text": [
      "Items: ['Medical Consultants Associates (MALAG) Clinic', 'Montserrado']\n"
     ]
    },
    {
     "name": "stderr",
     "output_type": "stream",
     "text": [
      "75it [00:39,  2.14it/s]"
     ]
    },
    {
     "name": "stdout",
     "output_type": "stream",
     "text": [
      "Items: ['Medlink International (Kassas) Clinic', 'Montserrado']\n"
     ]
    },
    {
     "name": "stderr",
     "output_type": "stream",
     "text": [
      "76it [00:40,  1.93it/s]"
     ]
    },
    {
     "name": "stdout",
     "output_type": "stream",
     "text": [
      "Items: ['Mercy International Clinic', 'Montserrado']\n"
     ]
    },
    {
     "name": "stderr",
     "output_type": "stream",
     "text": [
      "77it [00:40,  2.09it/s]"
     ]
    },
    {
     "name": "stdout",
     "output_type": "stream",
     "text": [
      "Items: ['Mercy Medical Clinic', 'Montserrado']\n"
     ]
    },
    {
     "name": "stderr",
     "output_type": "stream",
     "text": [
      "78it [00:40,  2.08it/s]"
     ]
    },
    {
     "name": "stdout",
     "output_type": "stream",
     "text": [
      "Items: ['Ministry of Foreign Affairs Clinic & Medical Services', 'Montserrado']\n"
     ]
    },
    {
     "name": "stderr",
     "output_type": "stream",
     "text": [
      "79it [00:41,  2.00it/s]"
     ]
    },
    {
     "name": "stdout",
     "output_type": "stream",
     "text": [
      "Items: ['Ministry of Public Works Clinic', 'Montserrado']\n"
     ]
    },
    {
     "name": "stderr",
     "output_type": "stream",
     "text": [
      "80it [00:42,  1.75it/s]"
     ]
    },
    {
     "name": "stdout",
     "output_type": "stream",
     "text": [
      "Items: ['Monrovia Central Prison Clinic', 'Montserrado']\n"
     ]
    },
    {
     "name": "stderr",
     "output_type": "stream",
     "text": [
      "81it [00:42,  2.02it/s]"
     ]
    },
    {
     "name": "stdout",
     "output_type": "stream",
     "text": [
      "Items: ['Mother and Child Clinic', 'Montserrado']\n"
     ]
    },
    {
     "name": "stderr",
     "output_type": "stream",
     "text": [
      "82it [00:42,  2.06it/s]"
     ]
    },
    {
     "name": "stdout",
     "output_type": "stream",
     "text": [
      "Items: ['National TB & Leprosy Hospital', 'Montserrado']\n"
     ]
    },
    {
     "name": "stderr",
     "output_type": "stream",
     "text": [
      "83it [00:43,  2.27it/s]"
     ]
    },
    {
     "name": "stdout",
     "output_type": "stream",
     "text": [
      "Items: ['Niful Clinic', 'Grand Kru']\n"
     ]
    },
    {
     "name": "stderr",
     "output_type": "stream",
     "text": [
      "84it [00:43,  2.06it/s]"
     ]
    },
    {
     "name": "stdout",
     "output_type": "stream",
     "text": [
      "Items: ['North Road Merci Clinic', 'Montserrado']\n"
     ]
    },
    {
     "name": "stderr",
     "output_type": "stream",
     "text": [
      "85it [00:44,  1.81it/s]"
     ]
    },
    {
     "name": "stdout",
     "output_type": "stream",
     "text": [
      "Items: ['Old Road Community Clinic', 'Montserrado']\n"
     ]
    },
    {
     "name": "stderr",
     "output_type": "stream",
     "text": [
      "86it [00:45,  1.63it/s]"
     ]
    },
    {
     "name": "stdout",
     "output_type": "stream",
     "text": [
      "Items: ['P K Nyansaiye Medical Clinic', 'Montserrado']\n"
     ]
    },
    {
     "name": "stderr",
     "output_type": "stream",
     "text": [
      "87it [00:45,  2.02it/s]"
     ]
    },
    {
     "name": "stdout",
     "output_type": "stream",
     "text": [
      "Items: ['Payee Community Clinic', 'Nimba']\n"
     ]
    },
    {
     "name": "stderr",
     "output_type": "stream",
     "text": [
      "88it [00:46,  1.99it/s]"
     ]
    },
    {
     "name": "stdout",
     "output_type": "stream",
     "text": [
      "Items: ['Peace Clinic', 'Montserrado']\n"
     ]
    },
    {
     "name": "stderr",
     "output_type": "stream",
     "text": [
      "89it [00:46,  2.15it/s]"
     ]
    },
    {
     "name": "stdout",
     "output_type": "stream",
     "text": [
      "Items: ['Planned Parenthood Association', 'Montserrado']\n"
     ]
    },
    {
     "name": "stderr",
     "output_type": "stream",
     "text": [
      "90it [00:47,  1.75it/s]"
     ]
    },
    {
     "name": "stdout",
     "output_type": "stream",
     "text": [
      "Items: ['Potter Care Clinic', 'Montserrado']\n"
     ]
    },
    {
     "name": "stderr",
     "output_type": "stream",
     "text": [
      "91it [00:47,  1.80it/s]"
     ]
    },
    {
     "name": "stdout",
     "output_type": "stream",
     "text": [
      "Items: ['Praise Medico Surgical Clinic', 'Grand Bassa']\n"
     ]
    },
    {
     "name": "stderr",
     "output_type": "stream",
     "text": [
      "92it [00:48,  1.64it/s]"
     ]
    },
    {
     "name": "stdout",
     "output_type": "stream",
     "text": [
      "Items: ['Prestige Medical Clinic', 'Montserrado']\n"
     ]
    },
    {
     "name": "stderr",
     "output_type": "stream",
     "text": [
      "93it [00:49,  1.58it/s]"
     ]
    },
    {
     "name": "stdout",
     "output_type": "stream",
     "text": [
      "Items: ['R. B. Clinic', 'Montserrado']\n"
     ]
    },
    {
     "name": "stderr",
     "output_type": "stream",
     "text": [
      "94it [00:52,  1.49s/it]"
     ]
    },
    {
     "name": "stdout",
     "output_type": "stream",
     "text": [
      "Items: ['Rambow Clinic', 'Montserrado']\n"
     ]
    },
    {
     "name": "stderr",
     "output_type": "stream",
     "text": [
      "95it [00:53,  1.17s/it]"
     ]
    },
    {
     "name": "stdout",
     "output_type": "stream",
     "text": [
      "Items: ['Rapha Medical Clinic', 'Montserrado']\n"
     ]
    },
    {
     "name": "stderr",
     "output_type": "stream",
     "text": [
      "96it [00:53,  1.00it/s]"
     ]
    },
    {
     "name": "stdout",
     "output_type": "stream",
     "text": [
      "Items: ['Raphal Clinic', 'Montserrado']\n"
     ]
    },
    {
     "name": "stderr",
     "output_type": "stream",
     "text": [
      "97it [00:54,  1.22it/s]"
     ]
    },
    {
     "name": "stdout",
     "output_type": "stream",
     "text": [
      "Items: ['Redemption Hospital', 'Montserrado']\n"
     ]
    },
    {
     "name": "stderr",
     "output_type": "stream",
     "text": [
      "98it [00:54,  1.36it/s]"
     ]
    },
    {
     "name": "stdout",
     "output_type": "stream",
     "text": [
      "Items: ['Renaissance Maternity Clinic', 'Montserrado']\n"
     ]
    },
    {
     "name": "stderr",
     "output_type": "stream",
     "text": [
      "99it [00:55,  1.51it/s]"
     ]
    },
    {
     "name": "stdout",
     "output_type": "stream",
     "text": [
      "Items: ['Roselyn Toe Massaquoi Clinic', 'Sinoe']\n"
     ]
    },
    {
     "name": "stderr",
     "output_type": "stream",
     "text": [
      "100it [00:55,  1.61it/s]"
     ]
    },
    {
     "name": "stdout",
     "output_type": "stream",
     "text": [
      "Items: ['Saclepea Dorcus Mantor Clinic', 'Nimba']\n"
     ]
    },
    {
     "name": "stderr",
     "output_type": "stream",
     "text": [
      "101it [00:56,  1.47it/s]"
     ]
    },
    {
     "name": "stdout",
     "output_type": "stream",
     "text": [
      "Items: ['Safe Zone Community Clinic', 'Montserrado']\n"
     ]
    },
    {
     "name": "stderr",
     "output_type": "stream",
     "text": [
      "102it [00:56,  1.85it/s]"
     ]
    },
    {
     "name": "stdout",
     "output_type": "stream",
     "text": [
      "Items: ['Samson Urgent Care Center', 'Montserrado']\n"
     ]
    },
    {
     "name": "stderr",
     "output_type": "stream",
     "text": [
      "103it [00:57,  1.78it/s]"
     ]
    },
    {
     "name": "stdout",
     "output_type": "stream",
     "text": [
      "Items: ['Samuel David Medical Clinic (SDMC)', 'Grand Bassa']\n"
     ]
    },
    {
     "name": "stderr",
     "output_type": "stream",
     "text": [
      "104it [00:57,  1.83it/s]"
     ]
    },
    {
     "name": "stdout",
     "output_type": "stream",
     "text": [
      "Items: ['Sarah Smith Maternity Clinic', 'Montserrado']\n"
     ]
    },
    {
     "name": "stderr",
     "output_type": "stream",
     "text": [
      "105it [00:58,  1.86it/s]"
     ]
    },
    {
     "name": "stdout",
     "output_type": "stream",
     "text": [
      "Items: ['Sass Town Health Center', 'Grand Kru']\n"
     ]
    },
    {
     "name": "stderr",
     "output_type": "stream",
     "text": [
      "106it [00:58,  1.88it/s]"
     ]
    },
    {
     "name": "stdout",
     "output_type": "stream",
     "text": [
      "Items: ['SDA Cooper Memorial Hospital', 'Montserrado']\n"
     ]
    },
    {
     "name": "stderr",
     "output_type": "stream",
     "text": [
      "107it [00:59,  2.13it/s]"
     ]
    },
    {
     "name": "stdout",
     "output_type": "stream",
     "text": [
      "Items: ['Sekou Ahmadu Camara Memorial and Dental Clinic', 'Montserrado']\n"
     ]
    },
    {
     "name": "stderr",
     "output_type": "stream",
     "text": [
      "108it [00:59,  1.95it/s]"
     ]
    },
    {
     "name": "stdout",
     "output_type": "stream",
     "text": [
      "Items: ['Sister Barbara Ann Health Center', 'Montserrado']\n"
     ]
    },
    {
     "name": "stderr",
     "output_type": "stream",
     "text": [
      "109it [01:00,  1.82it/s]"
     ]
    },
    {
     "name": "stdout",
     "output_type": "stream",
     "text": [
      "Items: ['Sobo Community Clinic', 'Grand Kru']\n"
     ]
    },
    {
     "name": "stderr",
     "output_type": "stream",
     "text": [
      "110it [01:00,  2.09it/s]"
     ]
    },
    {
     "name": "stdout",
     "output_type": "stream",
     "text": [
      "Items: ['SOS Clinic', 'Montserrado']\n"
     ]
    },
    {
     "name": "stderr",
     "output_type": "stream",
     "text": [
      "111it [01:01,  2.11it/s]"
     ]
    },
    {
     "name": "stdout",
     "output_type": "stream",
     "text": [
      "Items: [\"St Joseph's Catholic Hospital\", 'Montserrado']\n"
     ]
    },
    {
     "name": "stderr",
     "output_type": "stream",
     "text": [
      "112it [01:01,  2.18it/s]"
     ]
    },
    {
     "name": "stdout",
     "output_type": "stream",
     "text": [
      "Items: ['St. Joseph Catholic Health Center', 'Montserrado']\n"
     ]
    },
    {
     "name": "stderr",
     "output_type": "stream",
     "text": [
      "113it [01:02,  1.77it/s]"
     ]
    },
    {
     "name": "stdout",
     "output_type": "stream",
     "text": [
      "Items: ['Stamar Karmo Clinic', 'Montserrado']\n"
     ]
    },
    {
     "name": "stderr",
     "output_type": "stream",
     "text": [
      "114it [01:02,  2.06it/s]"
     ]
    },
    {
     "name": "stdout",
     "output_type": "stream",
     "text": [
      "Items: ['Stanko Maternity Clinic', 'Montserrado']\n"
     ]
    },
    {
     "name": "stderr",
     "output_type": "stream",
     "text": [
      "115it [01:03,  2.19it/s]"
     ]
    },
    {
     "name": "stdout",
     "output_type": "stream",
     "text": [
      "Items: ['Steven Tolbert Memorial Hospital (ArcelorMittal)', 'Grand Bassa']\n"
     ]
    },
    {
     "name": "stderr",
     "output_type": "stream",
     "text": [
      "116it [01:03,  1.99it/s]"
     ]
    },
    {
     "name": "stdout",
     "output_type": "stream",
     "text": [
      "Items: ['Suzan & Sonnie Clinic', 'Montserrado']\n"
     ]
    },
    {
     "name": "stderr",
     "output_type": "stream",
     "text": [
      "117it [01:04,  2.14it/s]"
     ]
    },
    {
     "name": "stdout",
     "output_type": "stream",
     "text": [
      "Items: ['The Good Will Clinic Annex II', 'Montserrado']\n"
     ]
    },
    {
     "name": "stderr",
     "output_type": "stream",
     "text": [
      "118it [01:04,  1.89it/s]"
     ]
    },
    {
     "name": "stdout",
     "output_type": "stream",
     "text": [
      "Items: ['Third Rock Clinic', 'Montserrado']\n"
     ]
    },
    {
     "name": "stderr",
     "output_type": "stream",
     "text": [
      "119it [01:05,  2.13it/s]"
     ]
    },
    {
     "name": "stdout",
     "output_type": "stream",
     "text": [
      "Items: ['Thumbs Up Community Clinic', 'Montserrado']\n"
     ]
    },
    {
     "name": "stderr",
     "output_type": "stream",
     "text": [
      "120it [01:05,  1.77it/s]"
     ]
    },
    {
     "name": "stdout",
     "output_type": "stream",
     "text": [
      "Items: ['Trojen Medical Center', 'Montserrado']\n"
     ]
    },
    {
     "name": "stderr",
     "output_type": "stream",
     "text": [
      "121it [01:06,  2.06it/s]"
     ]
    },
    {
     "name": "stdout",
     "output_type": "stream",
     "text": [
      "Items: ['Tubman High School Based Clinic', 'Montserrado']\n"
     ]
    },
    {
     "name": "stderr",
     "output_type": "stream",
     "text": [
      "122it [01:06,  1.89it/s]"
     ]
    },
    {
     "name": "stdout",
     "output_type": "stream",
     "text": [
      "Items: ['Tubmanville Clinic (Buchanan)', 'Grand Bassa']\n"
     ]
    },
    {
     "name": "stderr",
     "output_type": "stream",
     "text": [
      "123it [01:07,  2.03it/s]"
     ]
    },
    {
     "name": "stdout",
     "output_type": "stream",
     "text": [
      "Items: ['ULIC Bahn Mission Clinic', 'Nimba']\n"
     ]
    },
    {
     "name": "stderr",
     "output_type": "stream",
     "text": [
      "124it [01:07,  2.15it/s]"
     ]
    },
    {
     "name": "stdout",
     "output_type": "stream",
     "text": [
      "Items: ['UN Clinic, Monrovia', 'Montserrado']\n"
     ]
    },
    {
     "name": "stderr",
     "output_type": "stream",
     "text": [
      "125it [01:08,  1.82it/s]"
     ]
    },
    {
     "name": "stdout",
     "output_type": "stream",
     "text": [
      "Items: ['Vezely Hope Clinic', 'Montserrado']\n"
     ]
    },
    {
     "name": "stderr",
     "output_type": "stream",
     "text": [
      "126it [01:08,  2.08it/s]"
     ]
    },
    {
     "name": "stdout",
     "output_type": "stream",
     "text": [
      "Items: ['Vicembien Clinic', 'Montserrado']\n"
     ]
    },
    {
     "name": "stderr",
     "output_type": "stream",
     "text": [
      "127it [01:09,  1.90it/s]"
     ]
    },
    {
     "name": "stdout",
     "output_type": "stream",
     "text": [
      "Items: ['Weato Memorial Clinic', 'Nimba']\n"
     ]
    },
    {
     "name": "stderr",
     "output_type": "stream",
     "text": [
      "128it [01:09,  2.10it/s]"
     ]
    },
    {
     "name": "stdout",
     "output_type": "stream",
     "text": [
      "Items: ['Wiah Town Clinic', 'Sinoe']\n"
     ]
    },
    {
     "name": "stderr",
     "output_type": "stream",
     "text": [
      "129it [01:10,  1.89it/s]"
     ]
    },
    {
     "name": "stdout",
     "output_type": "stream",
     "text": [
      "Items: ['Wonjah Smith Memorial Clinic', 'Montserrado']\n"
     ]
    },
    {
     "name": "stderr",
     "output_type": "stream",
     "text": [
      "130it [01:10,  2.12it/s]"
     ]
    },
    {
     "name": "stdout",
     "output_type": "stream",
     "text": [
      "Items: ['Wroto Town Clinic', 'Montserrado']\n"
     ]
    },
    {
     "name": "stderr",
     "output_type": "stream",
     "text": [
      "131it [01:11,  2.07it/s]"
     ]
    },
    {
     "name": "stdout",
     "output_type": "stream",
     "text": [
      "Items: ['YAWEH Clinic', 'Montserrado']\n"
     ]
    },
    {
     "name": "stderr",
     "output_type": "stream",
     "text": [
      "132it [01:11,  1.98it/s]"
     ]
    },
    {
     "name": "stdout",
     "output_type": "stream",
     "text": [
      "Items: ['Zobo Medical Clinic', 'Montserrado']\n"
     ]
    },
    {
     "name": "stderr",
     "output_type": "stream",
     "text": [
      "133it [01:12,  1.96it/s]"
     ]
    },
    {
     "name": "stdout",
     "output_type": "stream",
     "text": [
      "Items: ['National Port Authority Clinic', 'Montserrado']\n"
     ]
    },
    {
     "name": "stderr",
     "output_type": "stream",
     "text": [
      "134it [01:12,  1.87it/s]"
     ]
    },
    {
     "name": "stdout",
     "output_type": "stream",
     "text": [
      "Items: ['B.W. Payne School Based Clinic', 'Montserrado']\n"
     ]
    },
    {
     "name": "stderr",
     "output_type": "stream",
     "text": [
      "135it [01:13,  2.01it/s]"
     ]
    },
    {
     "name": "stdout",
     "output_type": "stream",
     "text": [
      "Items: ['Chugbor Community Clinic', 'Montserrado']\n"
     ]
    },
    {
     "name": "stderr",
     "output_type": "stream",
     "text": [
      "136it [01:13,  1.99it/s]"
     ]
    },
    {
     "name": "stdout",
     "output_type": "stream",
     "text": [
      "Items: ['Twelve Street Community Curative Clinic', 'Montserrado']\n"
     ]
    },
    {
     "name": "stderr",
     "output_type": "stream",
     "text": [
      "137it [01:14,  2.00it/s]"
     ]
    },
    {
     "name": "stdout",
     "output_type": "stream",
     "text": [
      "Items: ['Fatima Clinic', 'Montserrado']\n"
     ]
    },
    {
     "name": "stderr",
     "output_type": "stream",
     "text": [
      "138it [01:14,  1.84it/s]\n",
      "138it [00:00, 1350.36it/s]\n"
     ]
    }
   ],
   "source": [
    "admin_lev = 2\n",
    "for geob_idx in range(len(geob_arr)-1, -1, -1): # reverse order\n",
    "    print(geob_idx)\n",
    "    geob = geob_arr[geob_idx]\n",
    "    records_subset = records.loc[records.geocoding_method==\"None\"].copy()\n",
    "    records_subset = records_subset.loc[~records_subset[f\"adm{admin_lev}\"].isna()].copy()\n",
    "    len(records_subset)\n",
    "\n",
    "    orglev4_df = records_subset[['orgunitlevel4', f\"adm{admin_lev}\", 'orgunitlevel1']].drop_duplicates().copy()\n",
    "    len(orglev4_df)\n",
    "\n",
    "    for idx, row in tqdm(orglev4_df.iterrows()):\n",
    "        adm2 = geob.loc[geob['shapeName'] == row[f\"adm{admin_lev}\"]].copy()\n",
    "        orglev4_df = gcu.run_geocoding(idx, row, orglev4_df, adm2, ['orgunitlevel4', f\"adm{admin_lev}\"], diso,\n",
    "                                       geolocator_bing, geolocator_osm, geolocator_google)\n",
    "\n",
    "    for idx, row in tqdm(records_subset.iterrows()):\n",
    "        orglev4_geocoded = orglev4_df.loc[orglev4_df['orgunitlevel4']==row['orgunitlevel4']].iloc[0]\n",
    "        records.loc[idx, \"longitude\"] = orglev4_geocoded.longitude\n",
    "        records.loc[idx, \"latitude\"] = orglev4_geocoded.latitude\n",
    "        records.loc[idx, \"geocoding_method\"] = orglev4_geocoded.geocoding_method\n",
    "\n",
    "    admin_lev -= 1"
   ]
  },
  {
   "cell_type": "code",
   "execution_count": 36,
   "metadata": {
    "pycharm": {
     "name": "#%%\n"
    }
   },
   "outputs": [
    {
     "data": {
      "text/plain": "<pandas.io.formats.style.Styler at 0x1a3f51110>",
      "text/html": "<style type=\"text/css\">\n</style>\n<table id=\"T_8d649\">\n  <thead>\n    <tr>\n      <th class=\"blank level0\" >&nbsp;</th>\n      <th id=\"T_8d649_level0_col0\" class=\"col_heading level0 col0\" >count</th>\n      <th id=\"T_8d649_level0_col1\" class=\"col_heading level0 col1\" >pct</th>\n    </tr>\n    <tr>\n      <th class=\"index_name level0\" >geocoding_method</th>\n      <th class=\"blank col0\" >&nbsp;</th>\n      <th class=\"blank col1\" >&nbsp;</th>\n    </tr>\n  </thead>\n  <tbody>\n    <tr>\n      <th id=\"T_8d649_level0_row0\" class=\"row_heading level0 row0\" >District centroid</th>\n      <td id=\"T_8d649_row0_col0\" class=\"data row0 col0\" >67</td>\n      <td id=\"T_8d649_row0_col1\" class=\"data row0 col1\" >7.9%</td>\n    </tr>\n    <tr>\n      <th id=\"T_8d649_level0_row1\" class=\"row_heading level0 row1\" >Location from Health Sites IO and within admin 1</th>\n      <td id=\"T_8d649_row1_col0\" class=\"data row1 col0\" >499</td>\n      <td id=\"T_8d649_row1_col1\" class=\"data row1 col1\" >58.8%</td>\n    </tr>\n    <tr>\n      <th id=\"T_8d649_level0_row2\" class=\"row_heading level0 row2\" >NAME and adm2 query Bing</th>\n      <td id=\"T_8d649_row2_col0\" class=\"data row2 col0\" >84</td>\n      <td id=\"T_8d649_row2_col1\" class=\"data row2 col1\" >9.9%</td>\n    </tr>\n    <tr>\n      <th id=\"T_8d649_level0_row3\" class=\"row_heading level0 row3\" >NAME and adm2 query Google</th>\n      <td id=\"T_8d649_row3_col0\" class=\"data row3 col0\" >23</td>\n      <td id=\"T_8d649_row3_col1\" class=\"data row3 col1\" >2.7%</td>\n    </tr>\n    <tr>\n      <th id=\"T_8d649_level0_row4\" class=\"row_heading level0 row4\" >NAME and adm2 query OSM</th>\n      <td id=\"T_8d649_row4_col0\" class=\"data row4 col0\" >37</td>\n      <td id=\"T_8d649_row4_col1\" class=\"data row4 col1\" >4.4%</td>\n    </tr>\n    <tr>\n      <th id=\"T_8d649_level0_row5\" class=\"row_heading level0 row5\" >None</th>\n      <td id=\"T_8d649_row5_col0\" class=\"data row5 col0\" >1</td>\n      <td id=\"T_8d649_row5_col1\" class=\"data row5 col1\" >0.1%</td>\n    </tr>\n    <tr>\n      <th id=\"T_8d649_level0_row6\" class=\"row_heading level0 row6\" >orgunitlevel4 and adm1 query Bing</th>\n      <td id=\"T_8d649_row6_col0\" class=\"data row6 col0\" >103</td>\n      <td id=\"T_8d649_row6_col1\" class=\"data row6 col1\" >12.1%</td>\n    </tr>\n    <tr>\n      <th id=\"T_8d649_level0_row7\" class=\"row_heading level0 row7\" >orgunitlevel4 and adm1 query Google</th>\n      <td id=\"T_8d649_row7_col0\" class=\"data row7 col0\" >7</td>\n      <td id=\"T_8d649_row7_col1\" class=\"data row7 col1\" >0.8%</td>\n    </tr>\n    <tr>\n      <th id=\"T_8d649_level0_row8\" class=\"row_heading level0 row8\" >orgunitlevel4 and adm1 query OSM</th>\n      <td id=\"T_8d649_row8_col0\" class=\"data row8 col0\" >27</td>\n      <td id=\"T_8d649_row8_col1\" class=\"data row8 col1\" >3.2%</td>\n    </tr>\n  </tbody>\n</table>\n"
     },
     "execution_count": 36,
     "metadata": {},
     "output_type": "execute_result"
    }
   ],
   "source": [
    "gcu.report_geocoding(records)"
   ]
  },
  {
   "cell_type": "markdown",
   "metadata": {
    "pycharm": {
     "name": "#%% md\n"
    }
   },
   "source": [
    "# Map and save results"
   ]
  },
  {
   "cell_type": "code",
   "execution_count": 37,
   "metadata": {
    "pycharm": {
     "name": "#%%\n"
    }
   },
   "outputs": [],
   "source": [
    "results = records.copy()"
   ]
  },
  {
   "cell_type": "code",
   "execution_count": 38,
   "metadata": {
    "pycharm": {
     "name": "#%%\n"
    }
   },
   "outputs": [
    {
     "data": {
      "text/plain": "array(['orgunitlevel4 and adm1 query Google',\n       'Location from Health Sites IO and within admin 1',\n       'District centroid', 'NAME and adm2 query Bing',\n       'NAME and adm2 query Google', 'orgunitlevel4 and adm1 query Bing',\n       'orgunitlevel4 and adm1 query OSM', 'NAME and adm2 query OSM',\n       'None'], dtype=object)"
     },
     "execution_count": 38,
     "metadata": {},
     "output_type": "execute_result"
    }
   ],
   "source": [
    "results.geocoding_method.unique()"
   ]
  },
  {
   "cell_type": "code",
   "execution_count": 39,
   "metadata": {
    "pycharm": {
     "name": "#%%\n"
    }
   },
   "outputs": [],
   "source": [
    "# facility name and adm 3\n",
    "results.loc[results.geocoding_method==\"NAME and adm3 query Bing\", \"geocoding_method\"] = \"orgunitlevel6 and adm3 query\"\n",
    "results.loc[results.geocoding_method==\"NAME and adm3 query OSM\", \"geocoding_method\"] = \"orgunitlevel6 and adm3 query\"\n",
    "results.loc[results.geocoding_method==\"NAME and adm3 query Google\", \"geocoding_method\"] = \"orgunitlevel6 and adm3 query\"\n",
    "\n",
    "# facility name and adm 2\n",
    "results.loc[results.geocoding_method==\"NAME and adm2 query Bing\", \"geocoding_method\"] = \"orgunitlevel6 and adm2 query\"\n",
    "results.loc[results.geocoding_method==\"NAME and adm2 query OSM\", \"geocoding_method\"] = \"orgunitlevel6 and adm2 query\"\n",
    "results.loc[results.geocoding_method==\"NAME and adm2 query Google\", \"geocoding_method\"] = \"orgunitlevel6 and adm2 query\"\n",
    "\n",
    "# facility name and adm 1\n",
    "results.loc[results.geocoding_method==\"NAME and adm1 query Bing\", \"geocoding_method\"] = \"orgunitlevel6 and adm1 query\"\n",
    "results.loc[results.geocoding_method==\"NAME and adm1 query OSM\", \"geocoding_method\"] = \"orgunitlevel6 and adm1 query\"\n",
    "results.loc[results.geocoding_method==\"NAME and adm1 query Google\", \"geocoding_method\"] = \"orgunitlevel6 and adm1 query\"\n",
    "\n",
    "# facility name and adm 3\n",
    "results.loc[results.geocoding_method==\"NAME5 and adm3 query Bing\", \"geocoding_method\"] = \"orgunitlevel5 and adm3 query\"\n",
    "results.loc[results.geocoding_method==\"NAME5 and adm3 query OSM\", \"geocoding_method\"] = \"orgunitlevel5 and adm3 query\"\n",
    "results.loc[results.geocoding_method==\"NAME5 and adm3 query Google\", \"geocoding_method\"] = \"orgunitlevel5 and adm3 query\"\n",
    "\n",
    "# facility name and adm 2\n",
    "results.loc[results.geocoding_method==\"NAME5 and adm2 query Bing\", \"geocoding_method\"] = \"orgunitlevel5 and adm2 query\"\n",
    "results.loc[results.geocoding_method==\"NAME5 and adm2 query OSM\", \"geocoding_method\"] = \"orgunitlevel5 and adm2 query\"\n",
    "results.loc[results.geocoding_method==\"NAME5 and adm2 query Google\", \"geocoding_method\"] = \"orgunitlevel5 and adm2 query\"\n",
    "\n",
    "# facility name and adm 1\n",
    "results.loc[results.geocoding_method==\"NAME5 and adm1 query Bing\", \"geocoding_method\"] = \"orgunitlevel5 and adm1 query\"\n",
    "results.loc[results.geocoding_method==\"NAME5 and adm1 query OSM\", \"geocoding_method\"] = \"orgunitlevel5 and adm1 query\"\n",
    "results.loc[results.geocoding_method==\"NAME5 and adm1 query Google\", \"geocoding_method\"] = \"orgunitlevel5 and adm1 query\"\n",
    "\n",
    "# adm 3 name\n",
    "results.loc[results.geocoding_method==\"orgunitlevel4 query Bing\", \"geocoding_method\"] = \"orgunitlevel4 query\"\n",
    "results.loc[results.geocoding_method==\"orgunitlevel4 query OSM\", \"geocoding_method\"] = \"orgunitlevel4 query\"\n",
    "results.loc[results.geocoding_method==\"orgunitlevel4 query Google\", \"geocoding_method\"] = \"orgunitlevel4 query\"\n",
    "\n",
    "# adm 3 name and adm2\n",
    "results.loc[results.geocoding_method==\"orgunitlevel4 and adm2 query Bing\", \"geocoding_method\"] = \"orgunitlevel4 and adm2 query\"\n",
    "results.loc[results.geocoding_method==\"orgunitlevel4 and adm2 query OSM\", \"geocoding_method\"] = \"orgunitlevel4 and adm2 query\"\n",
    "results.loc[results.geocoding_method==\"orgunitlevel4 and adm2 query Google\", \"geocoding_method\"] = \"orgunitlevel4 and adm2 query\"\n",
    "\n",
    "# adm 3 name and adm2\n",
    "results.loc[results.geocoding_method==\"orgunitlevel4 and adm1 query Bing\", \"geocoding_method\"] = \"orgunitlevel4 and adm1 query\"\n",
    "results.loc[results.geocoding_method==\"orgunitlevel4 and adm1 query OSM\", \"geocoding_method\"] = \"orgunitlevel4 and adm1 query\"\n",
    "results.loc[results.geocoding_method==\"orgunitlevel4 and adm1 query Google\", \"geocoding_method\"] = \"orgunitlevel4 and adm1 query\"\n",
    "\n",
    "# Centroid\n",
    "results.loc[results.geocoding_method==\"District centroid\", \"geocoding_method\"] = \"Adm3 centroid\""
   ]
  },
  {
   "cell_type": "code",
   "execution_count": 40,
   "metadata": {
    "pycharm": {
     "name": "#%%\n"
    }
   },
   "outputs": [
    {
     "data": {
      "text/plain": "<pandas.io.formats.style.Styler at 0x1a01c8210>",
      "text/html": "<style type=\"text/css\">\n</style>\n<table id=\"T_4cfc3\">\n  <thead>\n    <tr>\n      <th class=\"blank level0\" >&nbsp;</th>\n      <th id=\"T_4cfc3_level0_col0\" class=\"col_heading level0 col0\" >count</th>\n      <th id=\"T_4cfc3_level0_col1\" class=\"col_heading level0 col1\" >pct</th>\n    </tr>\n    <tr>\n      <th class=\"index_name level0\" >geocoding_method</th>\n      <th class=\"blank col0\" >&nbsp;</th>\n      <th class=\"blank col1\" >&nbsp;</th>\n    </tr>\n  </thead>\n  <tbody>\n    <tr>\n      <th id=\"T_4cfc3_level0_row0\" class=\"row_heading level0 row0\" >Adm3 centroid</th>\n      <td id=\"T_4cfc3_row0_col0\" class=\"data row0 col0\" >67</td>\n      <td id=\"T_4cfc3_row0_col1\" class=\"data row0 col1\" >7.9%</td>\n    </tr>\n    <tr>\n      <th id=\"T_4cfc3_level0_row1\" class=\"row_heading level0 row1\" >Location from Health Sites IO and within admin 1</th>\n      <td id=\"T_4cfc3_row1_col0\" class=\"data row1 col0\" >499</td>\n      <td id=\"T_4cfc3_row1_col1\" class=\"data row1 col1\" >58.8%</td>\n    </tr>\n    <tr>\n      <th id=\"T_4cfc3_level0_row2\" class=\"row_heading level0 row2\" >None</th>\n      <td id=\"T_4cfc3_row2_col0\" class=\"data row2 col0\" >1</td>\n      <td id=\"T_4cfc3_row2_col1\" class=\"data row2 col1\" >0.1%</td>\n    </tr>\n    <tr>\n      <th id=\"T_4cfc3_level0_row3\" class=\"row_heading level0 row3\" >orgunitlevel4 and adm1 query</th>\n      <td id=\"T_4cfc3_row3_col0\" class=\"data row3 col0\" >137</td>\n      <td id=\"T_4cfc3_row3_col1\" class=\"data row3 col1\" >16.2%</td>\n    </tr>\n    <tr>\n      <th id=\"T_4cfc3_level0_row4\" class=\"row_heading level0 row4\" >orgunitlevel6 and adm2 query</th>\n      <td id=\"T_4cfc3_row4_col0\" class=\"data row4 col0\" >144</td>\n      <td id=\"T_4cfc3_row4_col1\" class=\"data row4 col1\" >17.0%</td>\n    </tr>\n  </tbody>\n</table>\n"
     },
     "execution_count": 40,
     "metadata": {},
     "output_type": "execute_result"
    }
   ],
   "source": [
    "gcu.report_geocoding(results)"
   ]
  },
  {
   "cell_type": "code",
   "execution_count": 41,
   "metadata": {
    "pycharm": {
     "name": "#%%\n"
    }
   },
   "outputs": [],
   "source": [
    "results.loc[:, \"geometry\"] = results.apply(lambda x: Point(x.longitude, x.latitude), axis=1)\n",
    "results = gpd.GeoDataFrame(results, geometry='geometry', crs='EPSG:4326')"
   ]
  },
  {
   "cell_type": "code",
   "execution_count": 75,
   "outputs": [],
   "source": [
    "from matplotlib_scalebar.scalebar import ScaleBar"
   ],
   "metadata": {
    "collapsed": false,
    "pycharm": {
     "name": "#%%\n"
    }
   }
  },
  {
   "cell_type": "code",
   "execution_count": 90,
   "metadata": {
    "pycharm": {
     "name": "#%%\n"
    }
   },
   "outputs": [
    {
     "data": {
      "text/plain": "<Figure size 1000x1000 with 1 Axes>",
      "image/png": "[encoded data removed]"
     },
     "metadata": {},
     "output_type": "display_data"
    }
   ],
   "source": [
    "fig, ax = plt.subplots(1, 1, figsize=(10,10))\n",
    "smallest_geob.boundary.plot(ax=ax, color='black', linewidth=1).set_axis_off()\n",
    "results.loc[results.geocoding_method!=\"None\"].plot(ax=ax, column='geocoding_method', edgecolor='white', markersize=50, alpha=0.75, legend=True)\n",
    "scalebar = ScaleBar(60000, location=\"upper left\") # 1 pixel = 0.2 meter\n",
    "plt.gca().add_artist(scalebar)\n",
    "#ctx.add_basemap(ax, source=ctx.providers.Stamen.Terrain, crs='EPSG:4326', zorder=-10)\n",
    "plt.show()"
   ]
  },
  {
   "cell_type": "markdown",
   "metadata": {
    "pycharm": {
     "name": "#%% md\n"
    }
   },
   "source": [
    "## Join attributes from adminsitrative polygons"
   ]
  },
  {
   "cell_type": "markdown",
   "metadata": {
    "pycharm": {
     "name": "#%% md\n"
    }
   },
   "source": [
    "Join admin data back to results.  \n",
    "For adm3 features, use spatial join to geob3.  "
   ]
  },
  {
   "cell_type": "code",
   "execution_count": 48,
   "metadata": {
    "pycharm": {
     "name": "#%%\n"
    }
   },
   "outputs": [],
   "source": [
    "results2 = results.loc[~(results.longitude.isna())].copy()"
   ]
  },
  {
   "cell_type": "code",
   "execution_count": 49,
   "metadata": {
    "pycharm": {
     "name": "#%%\n"
    }
   },
   "outputs": [],
   "source": [
    "records_subset = records.loc[records.geocoding_method==\"None\"].copy()"
   ]
  },
  {
   "cell_type": "code",
   "execution_count": 50,
   "metadata": {
    "pycharm": {
     "name": "#%%\n"
    }
   },
   "outputs": [
    {
     "data": {
      "text/plain": "1"
     },
     "execution_count": 50,
     "metadata": {},
     "output_type": "execute_result"
    }
   ],
   "source": [
    "len(records_subset)"
   ]
  },
  {
   "cell_type": "code",
   "execution_count": 51,
   "metadata": {
    "pycharm": {
     "name": "#%%\n"
    }
   },
   "outputs": [
    {
     "name": "stdout",
     "output_type": "stream",
     "text": [
      "1\n",
      "0\n"
     ]
    }
   ],
   "source": [
    "for gIdx in range(len(geob_arr)-1, -1, -1):\n",
    "    gNum = gIdx +1\n",
    "    print(gIdx)\n",
    "\n",
    "    geob = geob_arr[gIdx]\n",
    "    results2 = gpd.sjoin(results2, geob[[\"shapeName\", \"shapeID\", \"geometry\"]], how='left', predicate='intersects')\n",
    "    results2.drop('index_right', axis=1, inplace=True)\n",
    "    results2.rename(\n",
    "        columns={\n",
    "            'shapeName': f'geob_adm{gNum}',\n",
    "            'shapeID': f'geob_adm{gNum}_id',\n",
    "        }, inplace=True)"
   ]
  },
  {
   "cell_type": "code",
   "execution_count": 52,
   "metadata": {
    "pycharm": {
     "name": "#%%\n"
    }
   },
   "outputs": [
    {
     "name": "stdout",
     "output_type": "stream",
     "text": [
      "0\n",
      "0\n"
     ]
    }
   ],
   "source": [
    "for gIdx in range(len(geob_arr)-1, -1, -1):\n",
    "    gNum = gIdx +1\n",
    "    print(results2[f\"geob_adm{gNum}\"].isna().sum())\n",
    "    results2.rename(\n",
    "        columns={\n",
    "            f'adm{gNum}': f'fuzzy_match_adm{gNum}'\n",
    "        }, inplace=True)"
   ]
  },
  {
   "cell_type": "code",
   "execution_count": 57,
   "metadata": {
    "pycharm": {
     "name": "#%%\n"
    }
   },
   "outputs": [],
   "source": [
    "results_final = results2.copy()"
   ]
  },
  {
   "cell_type": "code",
   "execution_count": 59,
   "metadata": {
    "pycharm": {
     "name": "#%%\n"
    }
   },
   "outputs": [],
   "source": [
    "ts = datetime.now().strftime(\"%m.%d.%y\")\n",
    "results_final.to_csv(join(output_dir, f\"{iso3}_geocoding_{ts}.csv\"))\n",
    "results_final.to_file(join(output_dir, f\"{iso3}_geocoding_{ts}.json\"), driver=\"GeoJSON\")"
   ]
  },
  {
   "cell_type": "code",
   "execution_count": null,
   "outputs": [],
   "source": [],
   "metadata": {
    "collapsed": false,
    "pycharm": {
     "name": "#%%\n"
    }
   }
  }
 ],
 "metadata": {
  "kernelspec": {
   "name": "health",
   "language": "python",
   "display_name": "health"
  },
  "language_info": {
   "codemirror_mode": {
    "name": "ipython",
    "version": 3
   },
   "file_extension": ".py",
   "mimetype": "text/x-python",
   "name": "python",
   "nbconvert_exporter": "python",
   "pygments_lexer": "ipython3",
   "version": "3.7.6"
  },
  "toc": {
   "base_numbering": 1,
   "nav_menu": {
    "height": "146px",
    "width": "280px"
   },
   "number_sections": true,
   "sideBar": true,
   "skip_h1_title": false,
   "title_cell": "Geocoding Notebook - Bangladesh",
   "title_sidebar": "Contents",
   "toc_cell": true,
   "toc_position": {
    "height": "calc(100% - 180px)",
    "left": "10px",
    "top": "150px",
    "width": "405px"
   },
   "toc_section_display": true,
   "toc_window_display": true
  }
 },
 "nbformat": 4,
 "nbformat_minor": 2
}