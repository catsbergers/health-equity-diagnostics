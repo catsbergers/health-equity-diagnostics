{
 "cells": [
  {
   "cell_type": "markdown",
   "metadata": {
    "toc": true,
    "pycharm": {
     "name": "#%% md\n"
    }
   },
   "source": [
    "<h1>Preprocessing Site Names<span class=\"tocSkip\"></span></h1>\n",
    "<div class=\"toc\">\n",
    "    <ul class=\"toc-item\">\n",
    "        <li>\n",
    "        <span><a href=\"#Packages-and-functions\" data-toc-modified-id=\"Packages-and-functions-1\">\n",
    "        <span class=\"toc-item-num\">1&nbsp;&nbsp;</span>Packages and functions</a></span>\n",
    "        </li>\n",
    "        <li>\n",
    "            <span><a href=\"#Prepare-and-match-admin-boundary-data\" data-toc-modified-id=\"Prepare-and-match-admin-boundary-data-2\">\n",
    "            <span class=\"toc-item-num\">2&nbsp;&nbsp;</span>Prepare and match admin boundary data</a></span>\n",
    "            <ul class=\"toc-item\">\n",
    "                <li>\n",
    "                <span><a href=\"#Match-health-list-admin-names-to-shapefile-admin-names\" data-toc-modified-id=\"Match-health-list-admin-names-to-shapefile-admin-names-2.1\"><span class=\"toc-item-num\">2.1&nbsp;&nbsp;</span>Match health list admin names to shapefile admin names</a></span>\n",
    "                <ul class=\"toc-item\">\n",
    "                <li>\n",
    "                <span><a href=\"#Match-orgunitlevel4-to-Geob-Adm-3\" data-toc-modified-id=\"Match-orgunitlevel4-to-Geob-Adm-3-2.1.1\"><span class=\"toc-item-num\">2.1.1&nbsp;&nbsp;</span>Match orgunitlevel4 to Geob Adm 3</a></span>\n",
    "                </li>\n",
    "                <li>\n",
    "                <span><a href=\"#Match-orgunitlevel3-to-Geob-Adm-2\" data-toc-modified-id=\"Match-orgunitlevel3-to-Geob-Adm-2-2.1.2\"><span class=\"toc-item-num\">2.1.2&nbsp;&nbsp;</span>Match orgunitlevel3 to Geob Adm 2</a></span>\n",
    "                </li>\n",
    "                <li>\n",
    "                <span><a href=\"#Match-orgunitlevel2-to-Geob-Adm-1\" data-toc-modified-id=\"Match-orgunitlevel2-to-Geob-Adm-1-2.1.3\"><span class=\"toc-item-num\">2.1.3&nbsp;&nbsp;</span>Match orgunitlevel2 to Geob Adm 1</a></span>\n",
    "                </li>\n",
    "                </ul>\n",
    "            </li>\n",
    "        </ul>\n",
    "    </li>\n",
    "</div>"
   ]
  },
  {
   "cell_type": "markdown",
   "metadata": {
    "pycharm": {
     "name": "#%% md\n"
    }
   },
   "source": [
    "Version: April 11, 2023\n",
    "\n",
    "This notebook works with health facilities from the HMIS Database and attempts to geolocate them, by joining them to administrative shapefiles, other sources of geo-located health facilities, and running queries with geocoding APIs.\n",
    "\n",
    "**Data Sources**\n",
    "- Health facilities (hierarchy list)\n",
    "- Geoboundaries (Adm1 through 4)\n",
    "- FEWS Admin-2 boundaries (updated post 2017)"
   ]
  },
  {
   "cell_type": "markdown",
   "source": [],
   "metadata": {
    "collapsed": false,
    "pycharm": {
     "name": "#%% md\n"
    }
   }
  },
  {
   "cell_type": "markdown",
   "metadata": {
    "pycharm": {
     "name": "#%% md\n"
    }
   },
   "source": [
    "# Packages and functions"
   ]
  },
  {
   "cell_type": "code",
   "execution_count": 1,
   "metadata": {
    "pycharm": {
     "name": "#%%\n"
    }
   },
   "outputs": [],
   "source": [
    "from os.path import join\n",
    "import pandas as pd\n",
    "\n",
    "\n",
    "# local imports\n",
    "import preprocessing_utils as ppu\n",
    "import search_utils as ssu"
   ]
  },
  {
   "cell_type": "code",
   "execution_count": 2,
   "outputs": [
    {
     "data": {
      "text/plain": "'/usr/lib/libc.dylib'"
     },
     "execution_count": 2,
     "metadata": {},
     "output_type": "execute_result"
    }
   ],
   "source": [
    "from ctypes.util import find_library\n",
    "find_library('c')"
   ],
   "metadata": {
    "collapsed": false,
    "pycharm": {
     "name": "#%%\n"
    }
   }
  },
  {
   "cell_type": "markdown",
   "metadata": {
    "pycharm": {
     "name": "#%% md\n"
    }
   },
   "source": [
    "# Prepare and match admin boundary data"
   ]
  },
  {
   "cell_type": "code",
   "execution_count": 3,
   "outputs": [],
   "source": [
    "iso3 = \"LBR\"\n",
    "country = \"Liberia\"\n",
    "input_dir = \"/Users/dianaholcomb/Documents/GWU/6501_Capstone/workspace/data\"\n",
    "input_filename = \"liberia2022-11-15.csv\"\n",
    "output_dir = join(input_dir, \"output\", iso3)\n",
    "num_admin_levels = 2"
   ],
   "metadata": {
    "collapsed": false,
    "pycharm": {
     "name": "#%%\n"
    }
   }
  },
  {
   "cell_type": "code",
   "execution_count": 4,
   "outputs": [],
   "source": [
    "geob_arr = ppu.get_geoboundares(num_admin_levels, iso3)"
   ],
   "metadata": {
    "collapsed": false,
    "pycharm": {
     "name": "#%%\n"
    }
   }
  },
  {
   "cell_type": "code",
   "execution_count": 5,
   "outputs": [
    {
     "name": "stdout",
     "output_type": "stream",
     "text": [
      "Len of original data: 72008\n",
      "Len of clean data: 848\n",
      "\n",
      "Unique Level 2: 15\n",
      "Unique Level 3: 93\n",
      "Unique Level 4: 846\n",
      "Unique Level 5: 846\n"
     ]
    }
   ],
   "source": [
    "master_table = ppu.process_masterDF(input_dir, input_filename)"
   ],
   "metadata": {
    "collapsed": false,
    "pycharm": {
     "name": "#%%\n"
    }
   }
  },
  {
   "cell_type": "code",
   "execution_count": 6,
   "metadata": {
    "pycharm": {
     "name": "#%%\n"
    }
   },
   "outputs": [
    {
     "name": "stdout",
     "output_type": "stream",
     "text": [
      "Unique Geoboundaries Adm 1: 15\n",
      "Unique Geoboundaries Adm 2: 136\n"
     ]
    }
   ],
   "source": [
    "geobList_arr = []\n",
    "for idx, geob in enumerate(geob_arr):\n",
    "    admIdx = idx+1\n",
    "    print(f\"Unique Geoboundaries Adm {admIdx}: {len(geob)}\")\n",
    "    geob_list = list(geob.shapeName)\n",
    "    geob_list.sort()\n",
    "    geobList_arr.append(geob_list)"
   ]
  },
  {
   "cell_type": "markdown",
   "metadata": {
    "pycharm": {
     "name": "#%% md\n"
    }
   },
   "source": [
    "## Match health list admin names to shapefile admin names\n",
    "### Match highest Geob Adm to orgunitlevel\n",
    "Try using fuzzy matching  "
   ]
  },
  {
   "cell_type": "code",
   "execution_count": 7,
   "metadata": {
    "pycharm": {
     "name": "#%%\n"
    }
   },
   "outputs": [],
   "source": [
    "if num_admin_levels == 2:\n",
    "    org_unit_level = 3\n",
    "elif  num_admin_levels > 2:\n",
    "    org_unit_level = 4\n",
    "else:\n",
    "    org_unit_level = 1\n"
   ]
  },
  {
   "cell_type": "markdown",
   "metadata": {
    "pycharm": {
     "name": "#%% md\n"
    }
   },
   "source": [
    "# Do Matching"
   ]
  },
  {
   "cell_type": "code",
   "execution_count": 10,
   "outputs": [
    {
     "name": "stdout",
     "output_type": "stream",
     "text": [
      "-----Master list level: 3, Geoboundaries level: 2-----\n",
      "Matches for Org level 3, Geob level 2: 81.72%\n",
      "262\n",
      "------------------------------------------\n",
      "-----Master list level: 2, Geoboundaries level: 1-----\n",
      "Matches for Org level 2, Geob level 1: 100.00%\n",
      "0\n",
      "------------------------------------------\n"
     ]
    }
   ],
   "source": [
    "curr_geob_lvl = num_admin_levels\n",
    "curr_org_lvl = org_unit_level\n",
    "master_table_copy = master_table.copy()\n",
    "\n",
    "for geobIdx in range(num_admin_levels-1, -1, -1): # reverse loop\n",
    "    print(f\"-----Master list level: {curr_org_lvl}, Geoboundaries level: {curr_geob_lvl}-----\")\n",
    "\n",
    "    master_table_copy.loc[:, f\"orgunitlevel{curr_org_lvl}_edit\"] = master_table_copy[f\"orgunitlevel{curr_org_lvl}\"]\n",
    "\n",
    "    geob_list = ppu.remove_words(geob_arr[geobIdx], \"shapeName\", [\" City Council\", \" District Council\", \" Municipal Council\", \" District\"])\n",
    "\n",
    "    org_lvl_list = ppu.remove_words(master_table_copy, f\"orgunitlevel{curr_org_lvl}_edit\", [\" District\"])\n",
    "\n",
    "    # Print names to inspect\n",
    "    #ppu.inspect_level_names(curr_org_lvl, org_lvl_list, curr_geob_lvl, geobList_arr[geobIdx])\n",
    "\n",
    "    table_adm_matches = ssu.find_matches(org_lvl_list.tolist(), geob_list.tolist(), 30, curr_org_lvl, curr_geob_lvl)\n",
    "    matches_pct = (len(table_adm_matches) / len(org_lvl_list))\n",
    "    print('Matches for Org level {}, Geob level {}: {:.2f}%'.format(curr_org_lvl, curr_geob_lvl, matches_pct*100))\n",
    "\n",
    "    # Loop through each row in master table, and add new attribute names (adm3 and adm2), if the names produced\n",
    "    # matches in the lookup tables\n",
    "    for idx, row in master_table_copy.iterrows():\n",
    "        if row[f\"orgunitlevel{curr_org_lvl}_edit\"] in list(table_adm_matches[f\"name_level{curr_org_lvl}\"]):\n",
    "            match = table_adm_matches.loc[table_adm_matches[f\"name_level{curr_org_lvl}\"] == row[f\"orgunitlevel{curr_org_lvl}_edit\"], f\"name_geob{curr_geob_lvl}\"].iloc[0]\n",
    "            master_table_copy.loc[idx, f'adm{curr_geob_lvl}'] = match\n",
    "\n",
    "    print(master_table_copy[f\"adm{curr_geob_lvl}\"].isna().sum())\n",
    "\n",
    "    # iterate down\n",
    "    curr_geob_lvl -= 1\n",
    "    curr_org_lvl -= 1\n",
    "    print(\"------------------------------------------\")\n"
   ],
   "metadata": {
    "collapsed": false,
    "pycharm": {
     "name": "#%%\n"
    }
   }
  },
  {
   "cell_type": "code",
   "execution_count": 13,
   "outputs": [
    {
     "name": "stdout",
     "output_type": "stream",
     "text": [
      "   index orgunitlevel1 orgunitlevel2              orgunitlevel3  \\\n",
      "0      0       Liberia         Sinoe          Tarjuwon District   \n",
      "1      4       Liberia       Margibi       Mambah-Kaba District   \n",
      "2      6       Liberia   Montserrado      Commonwealth District   \n",
      "3      9       Liberia   Montserrado     Somalia Drive District   \n",
      "4     12       Liberia   Montserrado  Central Monrovia district   \n",
      "\n",
      "                     orgunitlevel4 organisationunitid  \\\n",
      "0               Gbason Town Clinic        DAmhVvbzEl6   \n",
      "1             14 Military Hospital        oUPdjvJABX7   \n",
      "2  A Place of Rescue Health Clinic        SW1ahVurf5B   \n",
      "3            A.B.C. Medical Clinic        lp4XqxZqzKw   \n",
      "4              ACFI Medical Clinic        sxAyKLOcJGW   \n",
      "\n",
      "              organisationunitname organisationunitcode  \\\n",
      "0               Gbason Town Clinic               LR5GZ3   \n",
      "1             14 Military Hospital               LR0GW8   \n",
      "2  A Place of Rescue Health Clinic               LRUPY8   \n",
      "3            A.B.C. Medical Clinic               LRFUU3   \n",
      "4              ACFI Medical Clinic               LRSB82   \n",
      "\n",
      "  organisationunitdescription         orgunitlevel3_edit          adm2  \\\n",
      "0                         NaN                   Tarjuwon           NaN   \n",
      "1                         NaN                Mambah-Kaba   Mambah Kaba   \n",
      "2  Located in Thinker Village               Commonwealth  Commonwealth   \n",
      "3                         NaN              Somalia Drive           NaN   \n",
      "4                         NaN  Central Monrovia district           NaN   \n",
      "\n",
      "  orgunitlevel2_edit         adm1  \n",
      "0              Sinoe        Sinoe  \n",
      "1            Margibi      Margibi  \n",
      "2        Montserrado  Montserrado  \n",
      "3        Montserrado  Montserrado  \n",
      "4        Montserrado  Montserrado  \n"
     ]
    }
   ],
   "source": [
    "print(master_table_copy.head())"
   ],
   "metadata": {
    "collapsed": false,
    "pycharm": {
     "name": "#%%\n"
    }
   }
  },
  {
   "cell_type": "code",
   "execution_count": 14,
   "outputs": [],
   "source": [
    "master_table_copy.to_csv(f\"{input_dir}/preprocess_{iso3}_matches.csv\")"
   ],
   "metadata": {
    "collapsed": false,
    "pycharm": {
     "name": "#%%\n"
    }
   }
  },
  {
   "cell_type": "code",
   "execution_count": null,
   "outputs": [],
   "source": [],
   "metadata": {
    "collapsed": false,
    "pycharm": {
     "name": "#%%\n"
    }
   }
  }
 ],
 "metadata": {
  "kernelspec": {
   "name": "health",
   "language": "python",
   "display_name": "health"
  },
  "language_info": {
   "codemirror_mode": {
    "name": "ipython",
    "version": 3
   },
   "file_extension": ".py",
   "mimetype": "text/x-python",
   "name": "python",
   "nbconvert_exporter": "python",
   "pygments_lexer": "ipython3",
   "version": "3.7.6"
  },
  "toc": {
   "base_numbering": 1,
   "nav_menu": {
    "height": "146px",
    "width": "280px"
   },
   "number_sections": true,
   "sideBar": true,
   "skip_h1_title": false,
   "title_cell": "Geocoding Notebook - Bangladesh",
   "title_sidebar": "Contents",
   "toc_cell": true,
   "toc_position": {
    "height": "calc(100% - 180px)",
    "left": "10px",
    "top": "150px",
    "width": "405px"
   },
   "toc_section_display": true,
   "toc_window_display": true
  }
 },
 "nbformat": 4,
 "nbformat_minor": 2
}