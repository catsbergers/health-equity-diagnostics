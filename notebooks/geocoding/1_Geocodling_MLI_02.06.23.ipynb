{
 "cells": [
  {
   "cell_type": "markdown",
   "metadata": {
    "toc": true
   },
   "source": [
    "<h1>Geocoding Notebook - Mali<span class=\"tocSkip\"></span></h1>\n",
    "<div class=\"toc\"><ul class=\"toc-item\"><li><span><a href=\"#Packages-and-functions\" data-toc-modified-id=\"Packages-and-functions-1\"><span class=\"toc-item-num\">1&nbsp;&nbsp;</span>Packages and functions</a></span></li><li><span><a href=\"#Prepare-and-match-admin-boundary-data\" data-toc-modified-id=\"Prepare-and-match-admin-boundary-data-2\"><span class=\"toc-item-num\">2&nbsp;&nbsp;</span>Prepare and match admin boundary data</a></span><ul class=\"toc-item\"><li><span><a href=\"#Match-health-list-admin-names-to-shapefile-admin-names\" data-toc-modified-id=\"Match-health-list-admin-names-to-shapefile-admin-names-2.1\"><span class=\"toc-item-num\">2.1&nbsp;&nbsp;</span>Match health list admin names to shapefile admin names</a></span><ul class=\"toc-item\"><li><span><a href=\"#Match-orgunitlevel4-to-geoboundaries-Adm-3\" data-toc-modified-id=\"Match-orgunitlevel4-to-geoboundaries-Adm-3-2.1.1\"><span class=\"toc-item-num\">2.1.1&nbsp;&nbsp;</span>Match orgunitlevel4 to geoboundaries Adm 3</a></span></li><li><span><a href=\"#Match-orgunitlevel3-to-geo-Adm-2\" data-toc-modified-id=\"Match-orgunitlevel3-to-geo-Adm-2-2.1.2\"><span class=\"toc-item-num\">2.1.2&nbsp;&nbsp;</span>Match orgunitlevel3 to geo Adm 2</a></span></li></ul></li><li><span><a href=\"#Match-orgunitlevel2-to-FEWS-Adm1\" data-toc-modified-id=\"Match-orgunitlevel2-to-FEWS-Adm1-2.2\"><span class=\"toc-item-num\">2.2&nbsp;&nbsp;</span>Match orgunitlevel2 to FEWS Adm1</a></span></li></ul></li><li><span><a href=\"#Match-to-locations-from-alternative-sources-based-on-facility-name\" data-toc-modified-id=\"Match-to-locations-from-alternative-sources-based-on-facility-name-3\"><span class=\"toc-item-num\">3&nbsp;&nbsp;</span>Match to locations from alternative sources based on facility name</a></span><ul class=\"toc-item\"><li><span><a href=\"#Health-Sites-IO\" data-toc-modified-id=\"Health-Sites-IO-3.1\"><span class=\"toc-item-num\">3.1&nbsp;&nbsp;</span>Health Sites IO</a></span><ul class=\"toc-item\"><li><span><a href=\"#note:-since-only-partial-matches-with-admin-3-and-admin-2,-matching-will-occur-if-point-is-within-the-district-or-not.-However,-since-there-is-no-point-in-district-validation,-increase-the-matching-benchmark.\" data-toc-modified-id=\"note:-since-only-partial-matches-with-admin-3-and-admin-2,-matching-will-occur-if-point-is-within-the-district-or-not.-However,-since-there-is-no-point-in-district-validation,-increase-the-matching-benchmark.-3.1.1\"><span class=\"toc-item-num\">3.1.1&nbsp;&nbsp;</span>note: since only partial matches with admin 3 and admin 2, matching will occur if point is within the district or not. However, since there is no point in district validation, increase the matching benchmark.</a></span></li></ul></li><li><span><a href=\"#RHINoVision-Master-Facility-List-Decision-Support-System\" data-toc-modified-id=\"RHINoVision-Master-Facility-List-Decision-Support-System-3.2\"><span class=\"toc-item-num\">3.2&nbsp;&nbsp;</span>RHINoVision Master Facility List Decision Support System</a></span><ul class=\"toc-item\"><li><span><a href=\"#note:-since-only-partial-matches-with-admin-3-and-admin-2,-matching-will-occur-if-point-is-witin-the-district-or-not.-However,-since-there-is-no-point-in-district-validation,-increase-the-matching-benchmark.\" data-toc-modified-id=\"note:-since-only-partial-matches-with-admin-3-and-admin-2,-matching-will-occur-if-point-is-witin-the-district-or-not.-However,-since-there-is-no-point-in-district-validation,-increase-the-matching-benchmark.-3.2.1\"><span class=\"toc-item-num\">3.2.1&nbsp;&nbsp;</span>note: since only partial matches with admin 3 and admin 2, matching will occur if point is witin the district or not. However, since there is no point in district validation, increase the matching benchmark.</a></span></li></ul></li></ul></li><li><span><a href=\"#Geocoding-with-APIs\" data-toc-modified-id=\"Geocoding-with-APIs-4\"><span class=\"toc-item-num\">4&nbsp;&nbsp;</span>Geocoding with APIs</a></span><ul class=\"toc-item\"><li><span><a href=\"#Facility-name-and-admin-3-names\" data-toc-modified-id=\"Facility-name-and-admin-3-names-4.1\"><span class=\"toc-item-num\">4.1&nbsp;&nbsp;</span>Facility name and admin 3 names</a></span></li><li><span><a href=\"#Facility-name-and-admin-2-names\" data-toc-modified-id=\"Facility-name-and-admin-2-names-4.2\"><span class=\"toc-item-num\">4.2&nbsp;&nbsp;</span>Facility name and admin 2 names</a></span></li><li><span><a href=\"#Facility-name-and-admin-1-names\" data-toc-modified-id=\"Facility-name-and-admin-1-names-4.3\"><span class=\"toc-item-num\">4.3&nbsp;&nbsp;</span>Facility name and admin 1 names</a></span></li><li><span><a href=\"#Admin-3-names\" data-toc-modified-id=\"Admin-3-names-4.4\"><span class=\"toc-item-num\">4.4&nbsp;&nbsp;</span>Admin 3 names</a></span></li><li><span><a href=\"#Admin-3--and-admin-2-names\" data-toc-modified-id=\"Admin-3--and-admin-2-names-4.5\"><span class=\"toc-item-num\">4.5&nbsp;&nbsp;</span>Admin 3  and admin 2 names</a></span></li><li><span><a href=\"#Admin-3-and-admin-1-names\" data-toc-modified-id=\"Admin-3-and-admin-1-names-4.6\"><span class=\"toc-item-num\">4.6&nbsp;&nbsp;</span>Admin 3 and admin 1 names</a></span></li></ul></li><li><span><a href=\"#Map-and-save-results\" data-toc-modified-id=\"Map-and-save-results-5\"><span class=\"toc-item-num\">5&nbsp;&nbsp;</span>Map and save results</a></span><ul class=\"toc-item\"><li><span><a href=\"#Join-attributes-from-administrative-polygons\" data-toc-modified-id=\"Join-attributes-from-administrative-polygons-5.1\"><span class=\"toc-item-num\">5.1&nbsp;&nbsp;</span>Join attributes from administrative polygons</a></span></li></ul></li></ul></div>"
   ]
  },
  {
   "cell_type": "markdown",
   "metadata": {},
   "source": [
    "Version: January 27, 2023\n",
    "\n",
    "This notebook works with health facilities from the HMIS Database and attempts to geolocate them, by joining them to administrative shapefiles, other sources for health POI data, and running queries with geocoding APIs.\n",
    "\n",
    "**Data Sources**\n",
    "- Health facilities (hierarchy list)\n",
    "- Geoboundaries (Adm1 through 3)\n",
    "- Health Sites IO\n",
    "- RHINoVision Master Facility List Decision Support System"
   ]
  },
  {
   "cell_type": "markdown",
   "metadata": {},
   "source": [
    "# Packages and functions"
   ]
  },
  {
   "cell_type": "code",
   "execution_count": 1,
   "metadata": {},
   "outputs": [],
   "source": [
    "import os, sys\n",
    "import geopandas as gpd\n",
    "import pandas as pd\n",
    "from geopy.geocoders import GeoNames, Nominatim, Bing, GoogleV3\n",
    "from shapely.geometry import Point\n",
    "from tqdm import tqdm\n",
    "from thefuzz import fuzz\n",
    "from thefuzz import process\n",
    "import matplotlib.pyplot as plt\n",
    "from string import ascii_uppercase\n",
    "import contextily as ctx\n",
    "from os.path import join\n",
    "import numpy as np\n",
    "from dotenv import load_dotenv, find_dotenv"
   ]
  },
  {
   "cell_type": "code",
   "execution_count": 2,
   "metadata": {
    "code_folding": [
     0,
     16,
     32,
     58,
     74
    ]
   },
   "outputs": [],
   "source": [
    "def remove_words(data_frame, column_name, words_to_remove = ['community', 'clinic', 'centre', 'center', 'hospital', 'health', 'government']):\n",
    "    \"\"\" Remove words from strings in a specified column\n",
    "    \n",
    "    Args:\n",
    "        data_frame: Pandas data frame\n",
    "        column_name: Column name to remove words from\n",
    "        words_to_remove: List of words\n",
    "\n",
    "    Returns:\n",
    "        Removes words in place\n",
    "\n",
    "    \"\"\"\n",
    "    for word in words_to_remove:\n",
    "        data_frame[column_name] = data_frame[column_name].str.replace(word, \"\")\n",
    "    data_frame[column_name] = data_frame[column_name].str.strip()\n",
    "        \n",
    "def report_geocoding(records):\n",
    "    \"\"\" Report value counts and % from geocoding_method column.\n",
    "    \n",
    "    Args:\n",
    "        records: Pandas data frame\n",
    "\n",
    "    Returns:\n",
    "        Table with count stats \n",
    "    \"\"\"\n",
    "    table = records[['NAME', 'geocoding_method']].groupby('geocoding_method').count().rename(columns={'NAME':'count'})\n",
    "    table.loc[:, \"pct\"] = table/(table['count'].sum())\n",
    "    table = table.style.format({\n",
    "        'pct': '{:,.1%}'.format,\n",
    "    })\n",
    "    return(table)\n",
    "\n",
    "def match_name(name, list_names, min_score=0):\n",
    "    \"\"\" Uses fuzzy matching between one string and a list of candidate names.\n",
    "    \n",
    "    Args:\n",
    "        name: string\n",
    "        list_names: list of candidate names to match\n",
    "        min_score: minimum score allowed\n",
    "\n",
    "    Returns:\n",
    "        Returns name with the highest match, and match score\n",
    "        If no match is higher than min score, returns \"\" and -1\n",
    "    \"\"\"\n",
    "    # -1 score incase we don't get any matches\n",
    "    max_score = -1\n",
    "    # Returning empty name for no match as well\n",
    "    max_name = \"\"\n",
    "    # Iterating over all names in the other\n",
    "    for name2 in list_names:\n",
    "        #Finding fuzzy match score\n",
    "        score = fuzz.ratio(name, name2)\n",
    "        # Checking if we are above our threshold and have a better score\n",
    "        if (score > min_score) & (score > max_score):\n",
    "            max_name = name2\n",
    "            max_score = score\n",
    "    return (max_name, max_score)\n",
    "\n",
    "def match_to_closest(row, gdf, column='ADMIN2'):\n",
    "    \"\"\" Spatial join using closest distance algorithm.\n",
    "    \n",
    "    Args:\n",
    "        row: row from geo data frame\n",
    "        gdf: gdf with attributes to join\n",
    "        column: attribute to join\n",
    "\n",
    "    Returns:\n",
    "        Returns specified attribute of closest feature\n",
    "    \"\"\"\n",
    "    distances = [row.geometry.distance(pol) for pol in gdf.geometry]\n",
    "    min_id = np.argmin(distances)\n",
    "    closest = gdf.iloc[min_id]\n",
    "    return closest[column]\n",
    "\n",
    "def run_geocoding(idx, row, master_table, admin_area, components, country_code):\n",
    "    \"\"\"\n",
    "    Geocoding workflow to be applied to each row in a dataset\n",
    "    \n",
    "    Args:\n",
    "        idx: index\n",
    "        row: row with index and names to geocode\n",
    "        master_table: master table to store results\n",
    "        admin_area: gdf of admin area to ensure result falls within\n",
    "        components: list of names of attributes to use in query\n",
    "        country_code: two letter iso code\n",
    "    \n",
    "    Returns:\n",
    "        Stores geocoding results in master_table object\n",
    "    \"\"\"\n",
    "    admin_bounds = admin_area.bounds\n",
    "    bb = [(admin_bounds.iloc[0].miny, admin_bounds.iloc[0].minx), (admin_bounds.iloc[0].maxy, admin_bounds.iloc[0].maxx)]\n",
    "    method = ' and '.join(components)\n",
    "    \n",
    "    # error checking\n",
    "    for item in components:\n",
    "        if isinstance(row[item], str) == False:\n",
    "            print(f'{row[item]} is not a string')\n",
    "    \n",
    "    items = [row[item] for item in components]\n",
    "    query = ', '.join(items)\n",
    "    \n",
    "    geocoding_result = None\n",
    "    geocoding_method = \"None\"\n",
    "    # Try Geocoding with OSM\n",
    "    try:\n",
    "        res = geolocator_osm.geocode(query, country_codes=country_code)\n",
    "        # if within admin\n",
    "        if admin_area.contains(Point(res.longitude,res.latitude)).values[0] == True:\n",
    "            geocoding_result = res\n",
    "            geocoding_method = f\"{method} query OSM\"\n",
    "        else:\n",
    "            raise Exception(\"OSM point not valid or not within polygon\")\n",
    "    except:\n",
    "        # Try Geocoding with Bing Maps\n",
    "        try:\n",
    "            res = geolocator_bing.geocode(query)\n",
    "            # if within admin\n",
    "            if admin_area.contains(Point(res.longitude,res.latitude)).values[0] == True:\n",
    "                geocoding_result = res\n",
    "                geocoding_method = f\"{method} query Bing\"\n",
    "            else:\n",
    "                raise Exception(\"Bing point not valid or not within polygon\")\n",
    "        except:\n",
    "            # Try Geocoding with Google\n",
    "            try:\n",
    "                res = geolocator_google.geocode(query = query, region = country_code, bounds = bb)\n",
    "                if res:\n",
    "                    # if within admin\n",
    "                    if admin_area.contains(Point(res.longitude,res.latitude)).values[0] == True:\n",
    "                        geocoding_result = res\n",
    "                        geocoding_method = f\"{method} query Google\"\n",
    "            except:\n",
    "                raise Exception(\"Google point not valid or not within polygon\")\n",
    "    \n",
    "    master_table.loc[idx, \"geocoding_method\"] = geocoding_method\n",
    "    if geocoding_result:\n",
    "        master_table.loc[idx, \"longitude\"] = res.longitude\n",
    "        master_table.loc[idx, \"latitude\"] = res.latitude"
   ]
  },
  {
   "cell_type": "code",
   "execution_count": 3,
   "metadata": {},
   "outputs": [],
   "source": [
    "iso3 = \"MLI\"\n",
    "country = \"Mali\"\n",
    "input_dir = \"/home/public/Data/PROJECTS/Health\" \n",
    "output_dir = join(input_dir, \"output\", iso3)\n",
    "# if not os.path.exists(out_folder):\n",
    "#     os.mkdir(out_folder)"
   ]
  },
  {
   "cell_type": "markdown",
   "metadata": {},
   "source": [
    "# Prepare and match admin boundary data "
   ]
  },
  {
   "cell_type": "code",
   "execution_count": 4,
   "metadata": {},
   "outputs": [],
   "source": [
    "# only up to Admin 3 exists for Mali\n",
    "#geob4 = gpd.read_file(f\"https://github.com/wmgeolab/geoBoundaries/raw/b7dd6a5/releaseData/gbOpen/{iso3}/ADM4/geoBoundaries-{iso3}-ADM4.geojson\")\n",
    "geob3 = gpd.read_file(f\"https://github.com/wmgeolab/geoBoundaries/raw/b7dd6a5/releaseData/gbOpen/{iso3}/ADM3/geoBoundaries-{iso3}-ADM3.geojson\")\n",
    "geob2 = gpd.read_file(f\"https://github.com/wmgeolab/geoBoundaries/raw/b7dd6a5/releaseData/gbOpen/{iso3}/ADM2/geoBoundaries-{iso3}-ADM2.geojson\")\n",
    "geob1 = gpd.read_file(f\"https://github.com/wmgeolab/geoBoundaries/raw/b7dd6a5/releaseData/gbOpen/{iso3}/ADM1/geoBoundaries-{iso3}-ADM1.geojson\")\n",
    "fews1 = gpd.read_file(join(input_dir, 'FEWS', 'MLI', 'ML_Admin1_2016.shp'))\n",
    "\n",
    "# geob3 = gpd.read_file(join(input_dir, 'HDX', 'MLI', 'mli_admbnda_adm3_1m_gov_20211220.shp'))\n",
    "# geob2 = gpd.read_file(join(input_dir, 'HDX', 'MLI', 'mli_admbnda_adm2_1m_gov_20211220.shp'))\n",
    "# geob1 = gpd.read_file(join(input_dir, 'HDX', 'MLI', 'mli_admbnda_adm1_1m_gov_20211220.shp'))"
   ]
  },
  {
   "cell_type": "code",
   "execution_count": 5,
   "metadata": {},
   "outputs": [
    {
     "data": {
      "text/plain": [
       "Text(0.5, 1.0, '11 ADM1 boundaries')"
      ]
     },
     "execution_count": 5,
     "metadata": {},
     "output_type": "execute_result"
    },
    {
     "data": {
      "image/png": "[encoded data removed]",
      "text/plain": [
       "<Figure size 720x720 with 4 Axes>"
      ]
     },
     "metadata": {
      "needs_background": "light"
     },
     "output_type": "display_data"
    }
   ],
   "source": [
    "fig, ax = plt.subplots(2, 2, figsize=(10,10))\n",
    "# geob4.boundary.plot(ax=ax[0, 0], color='black', linewidth=0.5).set_axis_off()\n",
    "# ax[0, 0].set_title(f'{len(geob4)} ADM4 boundaries')\n",
    "geob3.boundary.plot(ax=ax[0, 1], color='black', linewidth=1).set_axis_off()\n",
    "ax[0, 1].set_title(f'{len(geob3)} ADM3 boundaries')\n",
    "geob2.boundary.plot(ax=ax[1, 0], color='black').set_axis_off()\n",
    "ax[1, 0].set_title(f'{len(geob2)} ADM2 boundaries')\n",
    "geob1.boundary.plot(ax=ax[1, 1], color='black').set_axis_off()\n",
    "ax[1, 1].set_title(f'{len(geob1)} ADM1 boundaries')\n",
    "fews1.boundary.plot(ax=ax[0, 0], color='black', linewidth=1).set_axis_off()\n",
    "ax[0, 0].set_title(f'{len(fews1)} ADM1 boundaries')\n",
    "# plt.axis('off')"
   ]
  },
  {
   "cell_type": "code",
   "execution_count": 6,
   "metadata": {},
   "outputs": [],
   "source": [
    "master_table = pd.read_csv(os.path.join(input_dir, \"from_tashrik\", \"hierarchy\", \"raw_mali_collapsed.csv\"), encoding='utf-8')\n",
    "# in this case received an error when trying to import as latin-1"
   ]
  },
  {
   "cell_type": "code",
   "execution_count": 7,
   "metadata": {},
   "outputs": [],
   "source": [
    "# master_table = pd.read_csv(os.path.join(input_dir, \"tom_formatted\", \"hierarchy\", \"tom_edited_mali_collapsed.csv\"), encoding='utf-8')\n",
    "# in this case received an error when trying to import as latin-1\n",
    "# master_table = pd.read_csv(os.path.join(input_dir, \"tom_formatted\", \"hierarchy\", \"tom_edited_mali_collapsed.csv\"), encoding='latin-1')"
   ]
  },
  {
   "cell_type": "code",
   "execution_count": 8,
   "metadata": {},
   "outputs": [
    {
     "data": {
      "text/html": [
       "<div>\n",
       "<style scoped>\n",
       "    .dataframe tbody tr th:only-of-type {\n",
       "        vertical-align: middle;\n",
       "    }\n",
       "\n",
       "    .dataframe tbody tr th {\n",
       "        vertical-align: top;\n",
       "    }\n",
       "\n",
       "    .dataframe thead th {\n",
       "        text-align: right;\n",
       "    }\n",
       "</style>\n",
       "<table border=\"1\" class=\"dataframe\">\n",
       "  <thead>\n",
       "    <tr style=\"text-align: right;\">\n",
       "      <th></th>\n",
       "      <th>orgunitlevel1</th>\n",
       "      <th>orgunitlevel2</th>\n",
       "      <th>orgunitlevel3</th>\n",
       "      <th>orgunitlevel4</th>\n",
       "      <th>orgunitlevel5</th>\n",
       "    </tr>\n",
       "  </thead>\n",
       "  <tbody>\n",
       "    <tr>\n",
       "      <th>0</th>\n",
       "      <td>Mali</td>\n",
       "      <td>Bamako</td>\n",
       "      <td>CRLD</td>\n",
       "      <td>zzz a supprimer</td>\n",
       "      <td>ZCorbeille</td>\n",
       "    </tr>\n",
       "    <tr>\n",
       "      <th>1</th>\n",
       "      <td>Mali</td>\n",
       "      <td>Bamako</td>\n",
       "      <td>District Commune I</td>\n",
       "      <td>Asacko Nord</td>\n",
       "      <td>CSCom ASACKO NORD</td>\n",
       "    </tr>\n",
       "  </tbody>\n",
       "</table>\n",
       "</div>"
      ],
      "text/plain": [
       "  orgunitlevel1 orgunitlevel2       orgunitlevel3    orgunitlevel4  \\\n",
       "0          Mali        Bamako                CRLD  zzz a supprimer   \n",
       "1          Mali        Bamako  District Commune I      Asacko Nord   \n",
       "\n",
       "       orgunitlevel5  \n",
       "0         ZCorbeille  \n",
       "1  CSCom ASACKO NORD  "
      ]
     },
     "execution_count": 8,
     "metadata": {},
     "output_type": "execute_result"
    }
   ],
   "source": [
    "master_table.head(2)"
   ]
  },
  {
   "cell_type": "code",
   "execution_count": 9,
   "metadata": {
    "scrolled": true
   },
   "outputs": [
    {
     "data": {
      "text/plain": [
       "1896"
      ]
     },
     "execution_count": 9,
     "metadata": {},
     "output_type": "execute_result"
    }
   ],
   "source": [
    "len(master_table)"
   ]
  },
  {
   "cell_type": "code",
   "execution_count": 10,
   "metadata": {},
   "outputs": [
    {
     "name": "stdout",
     "output_type": "stream",
     "text": [
      "Unique Level 2: 11\n",
      "Unique Level 3: 76\n",
      "Unique Level 4: 1476\n",
      "Unique Level 5: 1863\n"
     ]
    }
   ],
   "source": [
    "print(f\"Unique Level 2: {len(master_table.orgunitlevel2.unique())}\")\n",
    "print(f\"Unique Level 3: {len(master_table.orgunitlevel3.unique())}\")\n",
    "print(f\"Unique Level 4: {len(master_table.orgunitlevel4.unique())}\")\n",
    "print(f\"Unique Level 5: {len(master_table.orgunitlevel5.unique())}\")"
   ]
  },
  {
   "cell_type": "code",
   "execution_count": 11,
   "metadata": {},
   "outputs": [
    {
     "name": "stdout",
     "output_type": "stream",
     "text": [
      "Unique Geoboundaries Adm 1: 9\n",
      "Unique Geoboundaries Adm 2: 50\n",
      "Unique Geoboundaries Adm 3: 701\n"
     ]
    }
   ],
   "source": [
    "print(f\"Unique Geoboundaries Adm 1: {len(geob1)}\")\n",
    "print(f\"Unique Geoboundaries Adm 2: {len(geob2)}\")\n",
    "print(f\"Unique Geoboundaries Adm 3: {len(geob3)}\")\n",
    "#print(f\"Unique Geoboundaries Adm 4: {len(geob4)}\")"
   ]
  },
  {
   "cell_type": "markdown",
   "metadata": {},
   "source": [
    "## Match health list admin names to shapefile admin names\n",
    "### Match orgunitlevel4 to geoboundaries Adm 3\n",
    "Try using fuzzy matching  "
   ]
  },
  {
   "cell_type": "code",
   "execution_count": 12,
   "metadata": {},
   "outputs": [],
   "source": [
    "level4_list = list(master_table.orgunitlevel4.unique())\n",
    "level4_list.sort()\n",
    "geob3_list = list(geob3.shapeName)\n",
    "geob3_list.sort()"
   ]
  },
  {
   "cell_type": "markdown",
   "metadata": {},
   "source": [
    "Print names one at a time for both datasets one letter at a time, and manually inspect"
   ]
  },
  {
   "cell_type": "code",
   "execution_count": 13,
   "metadata": {},
   "outputs": [
    {
     "name": "stdout",
     "output_type": "stream",
     "text": [
      "begins with letter A\n",
      "Master list level 4\n",
      "\t['Abakoria', 'Aballag', 'Abeibara Central', 'Abosac', 'Achibogho', 'Adalwa 1', 'Adalwa 2', 'Adarmalane', 'Adasco', 'Adeken', 'Adiora', 'Adjel-Hoc', 'Afirnane', 'Agamhor', 'Agazaragane', 'Agdilinta', 'Aghabo', 'Aglal', 'Agouni', 'Ahl Cheick', 'Al Ou la', 'Al-Matlaa', 'Al-Ourche central', 'Aladi', 'Alasso', 'Aliou', 'Aljanabandja', 'Aljounoub', 'Allahina', 'Almoustarat Central', 'Alwalidji', 'Amasrakad', 'Amba', 'Ambidedi-Poste', 'Ambidedikore', 'Ambiri', 'Anderamboukane Central', 'Andiam', 'Anefif', 'Aniasco', 'Anonzegren', 'Ansongo Central', 'Aourou', 'Arabebe', 'Arawane central', 'Arham', 'Asacko Nord', 'Asaco-Sodia', 'Asacoba', 'Asacobafa', 'Asacobag', 'Asacobakon', 'Asacoboul1', 'Asacoboul2', 'Asacocy', 'Asacoda', 'Asacodes', 'Asacodjan', 'Asacodje', 'Asacodjeneka', 'Asacodjip', 'Asacodou', 'Asacodrab', 'Asacofa', 'Asacofadi', 'Asacoga', 'Asacoham', 'Asacohi', 'Asacoka', 'Asacokal', 'Asacokala ACI', 'Asacokalko', 'Asacokosa', 'Asacokoul-Point', 'Asacola1', 'Asacola2', 'Asacolab5', 'Asacolabasad', 'Asacoma', 'Asacome', 'Asacomi', 'Asacomiss', 'Asacomsi', 'Asaconia', 'Asacoob', 'Asacos', 'Asacosab1', 'Asacosab2', 'Asacosab3', 'Asacose', 'Asacosek', 'Asacosekasi', 'Asacosisou', 'Asacoso', 'Asacotom', 'Asacotoqua', 'Asacoyici', 'Asacoyir', 'Ascoda', 'Ascodar', 'Ascom', 'Ascom-Bacodji', 'Ascotam', 'Assatiemala', 'Attara', 'Awoiny']\n",
      "Geoboundaries adm3\n",
      "\t['Abeibara', 'Adarmalane', 'Adjelhoc', 'Alafia', 'Allahina', 'Alzounoub', 'Anchawadi', 'Anderamboukane', 'Anefif', 'Ansongo', 'Arham']\n",
      "\n",
      "\n",
      "begins with letter B\n",
      "Master list level 4\n",
      "\t['B- Zangasso', 'BALAN-BAKAMA', 'Baala', 'Babala', 'Babougou', 'Badinko', 'Badiougoula', 'Badogo', 'Badoumbé', 'Bafarara', 'Bafoulabé', 'Bagadadji Sud', 'Bagnandji', 'Bagoini', 'Bagoundje', 'Baguineda', 'Bagué', 'Bahondo', 'Balandougou', 'Balanfina', 'Balle', 'Baléa', 'Bamafelé', 'Bamanantou', 'Bamba', 'Bamba Bourem', 'Bamba-Koro', 'Bambara Maoudé', 'Banamba  Central', 'Banamba  Ouest', 'Banancoro', 'Bananissaba Somon', 'Banankoda', 'Banankoro', 'Bananso', 'Banco', 'Bancoumana', 'Bandiagara Central', 'Bandieresso', 'Banesso', 'Banido', 'Banierekore', 'Banikane', 'Bankass Central', 'Bankassi', 'Bankassi_Kita', 'Bankassikoto', 'Banzana', 'Baoufoulala', 'Baquita', 'Bara', 'Baramandougou', 'Baramba', 'Barapireli', 'Bargou', 'Baria', 'Barkaina', 'Baroueli Central', 'Bassabougou', 'Batama', 'Batimakana', 'Baye', 'Baye-Kéniéba', 'Bazigourma', 'Bazihaoussa', 'Beco', 'Bediatt', 'Beleco', 'Bellefarandi', 'Bendjeli', 'Bendougou', 'Bendougouba', 'Benguel', 'Benguene', 'Benkady', 'Bentia', 'Ber', 'Beregoungou', 'Berrah', 'Bertha', 'Biladjimi', 'Bineou-Niakate', 'Binko', 'Bintagoungou', 'Bla Central', 'Bladie-Tiemala', 'Blendio', 'Boghassa', 'Bogoni', 'Boh', 'Boidie', 'Bole', 'Bolibana B6', 'Bondo', 'Bongosso', 'Boni', 'Boniaba', 'Bori', 'Borko', 'Borogoba', 'Boron', 'Boré', 'Bouaré-Tougouné', 'Boudjiguire', 'Boudofo', 'Boudoubadi', 'Bougaribaya', 'Bougouba', 'Bougoudalé', 'Bougoudéré', 'Bougoukourala', 'Bougoula', 'Bougoula Hameau', 'Bougouni Est', 'Bougouni Nord', 'Bougouni Ouest', 'Bougouni Sud', 'Bougoura', 'Boujbeha central', 'Boukywere', 'Boulal', 'Boulgoundje', 'Bounguel', 'Bounoumba', 'Boura', 'Bourem Central', 'Bourem Inaly', 'Bourem Sidi Amar', 'Bourgouma', 'Boussin', 'Boutinguisse', 'Boya', 'Boyo', 'Brénimba', 'Béma', 'Bénèko', 'Bénéna']\n",
      "Geoboundaries adm3\n",
      "\t['Badia', 'Bafoulabe', 'Baguindabougou', 'Baguineda Camp', 'Balan Bakama', 'Bamafele', 'Bamba', 'Bamba', 'Bambara Maoude', 'Banamba', 'Banco', 'Bancoumana', 'Bandiagara Commune', 'Bangassi', 'Baniere Kore', 'Banikane', 'Banikane Narhawa', 'Bankass', 'Bara', 'Bara Sara', 'Baramandougou', 'Baraoueli', 'Barapireli', 'Bassirou', 'Baya', 'Baye', 'Baye', 'Beguene', 'Bellen', 'Bema', 'Ben Kadi', 'Bendougouba', 'Benena', 'Benkadi', 'Benkadi', 'Benkadi', 'Benkadi Founia', 'Ber', 'Bimbere Tama', 'Binga', 'Binko', 'Bintagoungou', 'Bla', 'Bladie-Tiemala', 'Blendio', 'Boghassa', 'Boidie', 'Boky Were', 'Bolo-Fouta', 'Bondo', 'Borko', 'Boron', 'Borondougou', 'Bossofala', 'Boudofo', 'Bougarybaya', 'Bougoula', 'Bougoula', 'Bougouni Commune', 'Boura', 'Bourem', 'Bourem Inaly', 'Bourem Sidi Amar', 'Bourra', 'Boussin']\n",
      "\n",
      "\n",
      "begins with letter C\n",
      "Master list level 4\n",
      "\t['Carrière', 'Central', 'Centre Momo', 'Chabaria', 'Chirfiga', 'Chola', 'Château', 'Cinzana Gare', 'Cocody', 'Cscom central II', 'Cst']\n",
      "Geoboundaries adm3\n",
      "\t['Cinzana', 'Colimbine', 'Commune I', 'Commune II', 'Commune III', 'Commune IV', 'Commune V', 'Commune VI']\n",
      "\n",
      "\n",
      "begins with letter D\n",
      "Master list level 4\n",
      "\t['Daban', 'Dabia', 'Dafela', 'Dagassenou', 'Dah', 'Dalibougou', 'Dallah', 'Dally', 'Dallé', 'Dampha', 'Dandoli', 'Dandougou', 'Dandérésso', 'Danga', 'Dangado', 'Dangassa', 'Dangatene', 'Dangha', 'Daoula Sonzana', 'Dari', 'Darsalam', 'Darsalam_Kita', 'Defina', 'Degnekoro', 'Dembella', 'Dia', 'Diabaguela', 'Diabaly', 'Diabarou', 'Diabidiala', 'Diabigue', 'Diafarabé', 'Diagaréla', 'Diago', 'Diaka', 'Diakaba', 'Diakitéla', 'Diakiwere', 'Diakon', 'Diakourouna', 'Dialacorodji', 'Dialafara', 'Dialaka', 'Dialakasso', 'Dialakon', 'Dialakoro', 'Dialakoroba', 'Dialakorobougou', 'Dialané', 'Diallan', 'Diallassagou', 'Diallaye', 'Dialloubé', 'Dialoubé', 'Diamakan', 'Diamarabougou', 'Diambacourou', 'Diamou', 'Dianguirdé', 'Dianguonté Camara', 'Diankabou', 'Diankassagou', 'Dianke', 'Dianweli Maoundé', 'Dianwely Kounda', 'Diarah', 'Diaramana', 'Diarani', 'Diaye Coura', 'Diban', 'Diboli', 'Didieni', 'Diebe', 'Diebock', 'Diedala', 'Diele', 'Dieli', 'Diena', 'Dienso', 'Digan', 'Diguiciré', 'Dilly', 'Dimamou', 'Dimbal', 'Dinangourou', 'Dio Gare', 'Dio-Ba', 'Dioforongo', 'Dioila Central', 'Diokeli', 'Dioko', 'Diomaténé', 'Dioncoulane', 'Diondiori', 'Diongaga', 'Diora', 'Dioro', 'Diou', 'Diougounté', 'Dioumara', 'Dioumaténé', 'Diouna', 'Dioungani', 'Dioura', 'Dire', 'Dittin', 'Dièma Central', 'Diéoura', 'Djebala', 'Djeguena', 'Djela', 'Djenné Central', 'Djibougou', 'Djibrouya', 'Djidara', 'Djidian', 'Djigue', 'Djigui Bombo', 'Djiguidala', 'Djinguilou', 'Djiné', 'Djitamana', 'Djoliba', 'Djoufoya Tintokan', 'Djougoun', 'Djoulabougou Saneye', 'Djoumazana', 'Dofana', 'Dogani-Béré', 'Dogo', 'Dogodouma', 'Dogofri', 'Dogofry', 'Dogoni', 'Domba', 'Dombia', 'Dombila', 'Dorey', 'Doro', 'Dotembougou', 'Doualé', 'Doubabougou', 'Doubala', 'Douekire', 'Dougabougou', 'Dougouba', 'Dougoufe', 'Dougoukolobougou', 'Dougounikoro', 'Dougouolo', 'Doumanaba', 'Doumanani', 'Doumba', 'Douna', 'Doundé', 'Doura', 'Dourou', 'Doussoudiana', 'Dramane', 'Dé', 'Débomassassi', 'Débélin', 'Débéré', 'Déméké']\n",
      "Geoboundaries adm3\n",
      "\t['Daban', 'Dabia', 'Dabo', 'Dah', 'Dallah', 'Danderesso', 'Dandoli', 'Dandougou Fakala', 'Dangha', 'Dangol Bore', 'Danou', 'Debelin', 'Debere', 'Deboye', 'Defina', 'Degnekoro', 'Dembela', 'Derrary', 'Diabaly', 'Diabigue', 'Diafarabe', 'Diafounou Diongaga', 'Diafounou Gory', 'Diago', 'Diaka', 'Diakon', 'Diakourouna', 'Dialafara', 'Dialakoro', 'Dialakoroba', 'Dialakorodji', 'Diallan', 'Diallassagou', 'Dialloube', 'Diamnati', 'Diamou', 'Diangounte Camara', 'Dianguirde', 'Diankabou', 'Dianke', 'Dianwely', 'Diaramana', 'Diarra', 'Diaye Coura', 'Didieni', 'Diebe', 'Diedougou', 'Diedougou', 'Diedougou', 'Diedougou', 'Dieli', 'Diema', 'Diena', 'Dieoura', 'Diganibougou', 'Dilly', 'Dimbal Habe', 'Dinandougou', 'Dinangourou', 'Dindanko', 'Dio Gare', 'Diokeli', 'Diomatene', 'Diondiori', 'Diora', 'Dioro', 'Diou', 'Diougani', 'Diouman', 'Dioumara Koussata', 'Dioumatene', 'Diouna', 'Diouradougou Kafo', 'Dire', 'Dirma', 'Djallon-Foula', 'Djaptodji', 'Djeguena', 'Djelebou', 'Djenne Commune', 'Djidian', 'Djiguiya De Koloni', 'Djougoun', 'Dogani Bere', 'Dogo', 'Dogodouman', 'Dogofry', 'Dogofry', 'Dogoni', 'Dolendougou', 'Domba', 'Dombia', 'Dombila', 'Dongo', 'Doubabougou', 'Doucoumbo', 'Douekire', 'Douentza Commune', 'Dougabougou', 'Dougoufie', 'Dougouolo', 'Dougoutene 1', 'Dougoutene 2', 'Doukouria', 'Doumanaba', 'Doumba', 'Dourou', 'Duguwolowula']\n",
      "\n",
      "\n",
      "begins with letter E\n",
      "Master list level 4\n",
      "\t['Ebanguemalène', 'Echell', 'Echgane', 'Egachar', 'El Assbag', 'Emisdounane', 'Emissemis', 'Endé', 'Ersane', 'Eryntédjeft', 'Essahène', \"Essaillail N'Bahou\", 'Essakane', 'Essouk', 'Etambar', 'Euguèdèche']\n",
      "Geoboundaries adm3\n",
      "\t['Essakane', 'Essouk']\n",
      "\n",
      "\n",
      "begins with letter F\n",
      "Master list level 4\n",
      "\t['Fadougou', 'Fafa', 'Fakola', 'Fala II', 'Faladie', 'Falako', 'Falakono', 'Falani', 'Falea', 'Falema', 'Fallou', 'Falo', 'Fama', 'Famorila', 'Famoussasso', 'Fana', 'Fanga', 'Fangasso', 'Fani', 'Fanidiama', 'Fantarasso', 'Faou', 'Faraba', 'Farabana', 'Farabougou', 'Faracoro', 'Farada', 'Farakala', 'Farako', 'Farangouaran', 'Fassoudèbè', 'Fassoun (Ibatou)', 'Fatafing', 'Fatao', 'Fatine', 'Fatoma', 'Fegui', 'Ferme', 'Figuira Tomo', 'Filamana', 'Finkolo Ac', 'Finkologanadougou', 'Fion', 'Fissaba', 'Fladougou Marena', 'Fogoba', 'Folomana', 'Fonfana', 'Forgo', 'Fosse Karta', 'Fougadougou', 'Fougala', 'Fougatié', 'Foulabougoula', 'Foulalaba', 'Foum Alba Central', 'Founia Moribougou', 'Fourou', 'Frandalla', 'Fôh']\n",
      "Geoboundaries adm3\n",
      "\t['Fagui', 'Fakala', 'Fakola', 'Fakolo', 'Falea', 'Faleme', 'Fallou', 'Falo', 'Fama', 'Fanga', 'Fangasso', 'Fani', 'Faraba', 'Faraba', 'Faradiele', 'Faragouaran', 'Farakala', 'Farako', 'Farako', 'Farakou Massa', 'Farimake', 'Fassou Debe', 'Fatao', 'Fatine', 'Fatoma', 'Fegui', 'Femaye', 'Finkolo', 'Finkolo Ganadougou', 'Fion', 'Fittouga', 'Folomana', 'Fourou']\n",
      "\n",
      "\n",
      "begins with letter G\n",
      "Master list level 4\n",
      "\t['Gabery', 'Gabou', 'Gadeye', 'Gadiaba Kadiel', 'Gagna', 'Gaina', 'Gainabossobon', 'Gakroukoto', 'Gallé', 'Gandamia', 'Gandathideye', 'Gangafani', 'Gangano', 'Ganidah', 'Garalo 1', 'Garalo 2', 'Garasso', 'Garbacoira', 'Garbamé', 'Gareygoungo', 'Gargando', 'Gargouna', 'Gari', 'Garna', 'Garnati', 'Gassambarou', 'Gathi', 'Gavinane', 'Gaye Maoude', 'Gladié', 'Gogui', 'Golingo', 'Goléa', 'Gomi', 'Gomitogo', 'Gomitradougou', 'Gomossagou', 'Gongasso', 'Goro', 'Gory', 'Gory-Gopela', 'Gossi', 'Gouana', 'Gouandjèsso', 'Gouendo', 'Goulombo', 'Goumbou', 'Goumera', 'Gounambougou', 'Goundaka', 'Goundam Central', 'Goundara', 'Gounfan', 'Gounka', 'Gourou', 'Gourouko', 'Goussela', 'Gouthioubé', 'Gouènè', 'Gouélé', 'Grouméra', 'Gualala', 'Guelelenkoro', 'Guemoukouraba', 'Guene-Gore', 'Gueneba', 'Gueneibe', 'Gueni', 'Guenikoro', 'Guenoubatan', 'Guessene', 'Guetema', 'Guidio-Sare', 'Guihoyo', 'Guilé', 'Guinaolo', 'Guindessou', 'Guindigata Nari', 'Guire', 'Guédébiné']\n",
      "Geoboundaries adm3\n",
      "\t['Gabero', 'Gadougou 1', 'Gadougou 2', 'Gandamia', 'Gao', 'Garalo', 'Garbakoira', 'Gargando', 'Gavinane', 'Gogui', 'Gomitradougou', 'Gongasso', 'Gory', 'Gory Gopela', 'Gossi', 'Gouadie Sougouna', 'Gouadji Kao', 'Gouanan', 'Gouandiaka', 'Gouendo', 'Goumera', 'Goundam Commune', 'Gounfan', 'Gounzoureye', 'Groumera', 'Guedebine', 'Guegneka', 'Guemoukouraba', 'Guenegore', 'Gueneibe', 'Guetema', 'Guidimakan Keri Kaff', 'Guidime', 'Guihoyo', 'Guire']\n",
      "\n",
      "\n",
      "begins with letter H\n",
      "Master list level 4\n",
      "\t['H.Kéniéba', 'Ha', 'Haibongo', 'Hamake', 'Hamakouladji', 'Hamankoira', 'Hamdallaye', 'Hamdallaye  Sido', 'Hamzakoma', 'Hangabera', 'Haoussa Foulane', 'Haribomo', 'Hassidina', 'Hawa', 'Herba', 'Hombori', 'Hondoubomo Koina', 'Horogoungou', 'Horokoto', 'Horosseno', 'Hourara', 'Hérémakono']\n",
      "Geoboundaries adm3\n",
      "\t['Haibongo', 'Haire', 'Hamzakoma', 'Haribomo', 'Hawa Dembaya', 'Hombori']\n",
      "\n",
      "\n",
      "begins with letter I\n",
      "Master list level 4\n",
      "\t['Iby', 'Ihinita', 'Imakara', 'Imboulal', 'Imenass', 'Imilach', 'Iminaguel', 'Inadiatafane', 'Inagade', 'Inagam', 'Inagar', 'Inakassof', 'Inalakam', 'Inarabane', 'Inchinanane', 'Indelimane', 'Inekar', 'Inekar Ouest', 'Infokarekane', 'Inhalid', 'Inkadewane', 'Inlamawane', 'Intadeinit', 'Intadeyne', 'Intibzaz', 'Intigart', 'Intimarwalène', 'Iréli', 'Issa-Bery', 'Issafaye']\n",
      "Geoboundaries adm3\n",
      "\t['Inadiatafane', 'Inekar', 'Issa Bery']\n",
      "\n",
      "\n",
      "begins with letter J\n",
      "Geoboundaries adm3\n",
      "\t['Jekafo']\n",
      "\n",
      "\n",
      "begins with letter K\n",
      "Master list level 4\n",
      "\t['K2', 'Kaara', 'Kabaika', 'Kabala', 'Kabalabougou', 'Kabalé', 'Kabaléa', 'Kabara', 'Kabarasso', 'Kabaya', 'Kaboila', 'Kadial', 'Kadiana', 'Kadiolo Central', 'Kafana', 'Kafara', 'Kafouziela', 'Kagoro Mountan', 'Kai', 'Kakadian', 'Kakagna', 'Kalabancoro', 'Kalabancoro Koulouba', 'Kalabancoro Kouloubléni', 'Kalabancoro Nerecoro', 'Kalabancoro S Extension', 'Kalabancro Heremakono', 'Kalake', 'Kalako', 'Kalana', 'Kalifabougou', 'Kalinioro', 'Kaloumba', 'Kamagalamadji', 'Kamani', 'Kamba', 'Kamona', 'Kanadjiguila', 'Kandara', 'Kaneye', 'Kangaba Central', 'Kangaré', 'Kanguessanou', 'Kani-Bonzon', 'Kani-G', 'Kaniegue', 'Kankoni', 'Kapala', 'Kara', 'Karaba', 'Karabassane', 'Karagouana', 'Karakinde', 'Karan', 'Karangana', 'Karangasso', 'Karfabougou', 'Kargué', 'Kassa-Saou', 'Kassama', 'Kassaro', 'Kassorola', 'Kassékara', 'Kati Koko', 'Katiena', 'Katiélé', 'Katélé', 'Kayes Ndi', 'Kaygoutane', 'Kazangasso', 'Kembé', 'Kemeni', 'Kendié', 'Kendé', 'Kenenkoun', 'Kenienife', 'Kerela', 'Kermachoe', 'Kermetogo', 'Kerouane', 'Kersignane Diafounou', 'Kersignane Kaniaga', 'Kessana', 'Kessoubiby', 'Khasso', 'Kiban', 'Kidal Central', 'Kiffosso I', 'Kignan central', 'Kimparana', 'Kirane', 'Kirango', 'Kirchamba', 'Kle', 'Kléla', 'Kléssokoro', 'Koa', 'Kobokoto', 'Kobokotossou', 'Kobri', 'Kochakarey', 'Kodje', 'Kodougouni', 'Koe', 'Kofeba', 'Koflatie', 'Koila', 'Koira', 'Koko', 'Koko II', 'Kokofata', 'Kokonto', 'Kokoun', 'Kokry', 'Kola', 'Kolebougou', 'Kolly', 'Kolobo', 'Kologo', 'Kolokani Central', 'Kolokoba', 'Kolondinkoye', 'Kolondiéba Central', 'Kolongo', 'Koloni', 'Koloni_Y', 'Kolosso', 'Komeoulou', 'Komoguel 1', 'Komola-Zanfina', 'Kondi', 'Kondo', 'Koni', 'Koniakary', 'Konina', 'Konio', 'Konkobougou', 'Konkon', 'Konkorom', 'Konna', 'Konobougou', 'Konodimini', 'Konosso', 'Konou', 'Konséguéla', 'Kontza', 'Koporo Na', 'Koporo Pen', 'Kora', 'Korampo', 'Korarou', 'Korera Kore', 'Kori-Maoudé', 'Korientzé', 'Kormou', 'Koro', 'Koro Bella', 'Koro Central', 'Korokoro', 'Koronga', 'Kotouba', 'Kotoula', 'Kouakourou', 'Kouale', 'Koubewel Koundia', 'Koubi', 'Kougnan', 'Kouima', 'Koula', 'Koulandougou', 'Koulikoroba', 'Koulogo', 'Koulou', 'Kouloukan', 'Kouloun', 'Koumaira', 'Koumankou', 'Koumantou', 'Koumbia', 'Koumi', 'Kounabougou', 'Koundian', 'Koungo', 'Koungoba', 'Kouniana', 'Kouo', 'Kouorobarrage', 'Koura', 'Kourale', 'Kouremalé', 'Kourouba', 'Kouroubambara', 'Kouroukere', 'Kouroukoto', 'Kourouma', 'Kourounikoto', 'Koursalé', 'Koury', 'Koussane', 'Koutienso', 'Kremis', 'Kébila', 'Kébéni', 'Kéké', 'Kéléya', 'Kéniekeniéba', 'Kéniéba central', 'Kéniégoulou', 'Kéniégoué', 'Kéréna']\n",
      "Geoboundaries adm3\n",
      "\t['Kabarasso', 'Kaboila', 'Kadiaba Kadiel', 'Kadiana', 'Kadiolo', 'Kafo Faboli', 'Kafouziela', 'Kai', 'Kala Siguida', 'Kalabancoro', 'Kaladougou', 'Kalake', 'Kalifabougou', 'Kambila', 'Kamiandougou', 'Kaneye', 'Kani Bozon', 'Kaniegue', 'Kaniogo', 'Kapala', 'Kapala', 'Kapolondougou', 'Karaba', 'Karagouana Malle', 'Karakoro', 'Karan Commune', 'Karangana', 'Kareri', 'Kassa', 'Kassama', 'Kassaro', 'Kassorola', 'Kati Commune', 'Katiena', 'Kava', 'Kayes Commune', 'Kazangasso', 'Kebila', 'Keleya', 'Kemekafo', 'Kemene Tambo', 'Kemeni', 'Kende', 'Kendie', 'Kenieba', 'Kerela', 'Kerena', 'Kewa', 'Khouloum', 'Kiban', 'Kidal', 'Kiffosso 1', 'Kignan', 'Kilidougou', 'Kirane Kaniaga', 'Kirchamba', 'Kita Commune', 'Kita Nord', 'Kita Ouest', 'Klela', 'Kobri', 'Kofan', 'Kokele', 'Kokofata', 'Kokry Centre', 'Kola', 'Kolokani', 'Kolokoba', 'Kolondieba', 'Kolongo', 'Kolonigue', 'Kolosso', 'Kondi', 'Koniakary', 'Konina', 'Koningue', 'Konna', 'Konobougou', 'Konodimini', 'Konseguela', 'Konsiga', 'Kontela', 'Koporo Pen', 'Koporokendie Na', 'Korarou', 'Korera Kore', 'Koro', 'Korodougou', 'Korombana', 'Koromo', 'Koronga', 'Kotouba', 'Koubaye', 'Koubewel Koundia', 'Koula', 'Koula', 'Koulandougou', 'Koulikoro Commune', 'Koulogon Habe', 'Koulou', 'Koumaira', 'Koumankou', 'Koumantou', 'Koumbia', 'Kounari', 'Koundian', 'Kouniana', 'Kouoro', 'Kourouba', 'Kouroukoto', 'Kouroulamini', 'Kourouma', 'Kourounikoto', 'Koury', 'Koussan', 'Koussane', 'Koutiala Commune', 'Kremis']\n",
      "\n",
      "\n",
      "begins with letter L\n",
      "Master list level 4\n",
      "\t['Labbézanga', 'Lafiabougou', 'Lahandy', 'Lakamané', 'Lakanguemou', 'Lambatra', 'Lambidou', 'Lanfiala', 'Lany-Tounka', 'Lattakaf', 'Lellehoye', 'Lere', 'Lessagou', 'Linkécoto', 'Liraka', 'Lobou', 'Lobougoula', 'Lofigué', 'Lofinè', 'Logo-Saboussiré', 'Lontola', 'Lontou', 'Loulo', 'Loulouni', 'Loutana', 'Léléni', 'Léya']\n",
      "Geoboundaries adm3\n",
      "\t['Lafia', 'Lakamane', 'Lambidou', 'Lanfiala', 'Lere', 'Lessagou Habe', 'Liberte Dembaya', 'Lobougoula', 'Logo', 'Logouana', 'Loulouni', 'Lowol Gueou']\n",
      "\n",
      "\n",
      "begins with letter M\n",
      "Master list level 4\n",
      "\t[\"M'Babou\", \"M'Bana\", \"M'Pebougou\", \"M'Pesso Hameau\", \"M'Péssoba\", 'Maban', 'Macina Central', 'Madalaya', 'Madiakoye', 'Madiama', 'Madiga Sacko', 'Madihawaya', 'Madina', 'Madina  Sacko', 'Madina Kagoro', 'Madinakoun', 'Madinakouta', 'Madougou', 'Mafeleni', 'Mafouné', 'Mafèlè', 'Magnadoué', 'Mahina', 'Mahinamine', 'Mahou', 'Mahou II', 'Makandiambougou', 'Makarila', 'Makono', 'Malibougou', 'Malimana', 'Mamari Sibiri', 'Mamassoni', 'Mamissa', 'Mana', 'Manankoro', 'Manantali', 'Mancourani', 'Mandela', 'Mandiakuy', 'Mandiéla', 'Manicoura', 'Mankoïna', 'Manta', 'Marako', 'Marela', 'Marena', 'Marena Tringa', 'Marena-Diombougou', 'Marena-Gadiaga', 'Marintoumania', 'Markacoungo', 'Markanibougou', 'Marsi', 'Maréna', 'Massala', 'Massantola', 'Massarazana', 'Massigui', 'Maternite Hamdallaye', 'Matomo', 'Mbewani', 'Mbouna', 'Mdiassa', 'Medina Coura', 'Medine', 'Mekore', 'Mena', 'Mena-Kolondièba', 'Menaka central', 'Mercoya', 'Miniko', 'Minkiri', 'Missirikoro', 'Misséni', 'Miéna', 'Moabougou', 'Modinkanou', 'Mogola', 'Molobala', 'Molodo', 'Mondoro', 'Monimpe', 'Monisso', 'Monzombala', 'Monzombougou', 'Mopti Keba', 'Moribabougou', 'Moribila', 'Moro-Moro', 'Mory', 'Moudakane', 'Moudett', 'Mougna', 'Mountougoula', 'Mourdiah', 'Mourrah', 'Ménamba I', 'Méridiéla']\n",
      "Geoboundaries adm3\n",
      "\t[\"M'bouna\", \"M'pessoba\", 'Macina', 'Madiama', 'Madiga Sacko', 'Madina', 'Madina Sacko', 'Madougou', 'Mafoune', 'Mahina', 'Mahou', 'Makano', 'Mande', 'Mandiakuy', 'Maramandougou', 'Marekaffo', 'Marena Diombougou', 'Mariko', 'Marintoumania', 'Markala', 'Massala', 'Massantola', 'Massigui', 'Matomo', 'Meguetan', 'Mena', 'Menaka', 'Menamba 1', 'Meridiela', 'Metoumou', 'Miena', 'Minidian', 'Miniko', 'Miria', 'Misseni', 'Missirikoro', 'Mondoro', 'Monimpebougou', 'Mopti Commune', 'Moribabougou', 'Moribila', 'Mountougoula']\n",
      "\n",
      "\n",
      "begins with letter N\n",
      "Master list level 4\n",
      "\t[\"N'Daki\", \"N'Djilla\", \"N'Gai\", \"N'Gara\", \"N'Gassola\", \"N'Goa\", \"N'Golobougou\", \"N'Golokouna\", \"N'Golona\", \"N'Golonianasso\", \"N'Gorola\", \"N'Gouma\", \"N'Gouni\", \"N'Gountjina\", \"N'Gouraba\", \"N'Tabacoro Att Bougou\", \"N'Tobougou\", \"N'Togonasso\", \"N'Tombougou-DIGANI\", \"N'Torosso\", \"N'Tosso\", \"N'Tossoni\", \"N'gana\", \"N'goko\", 'N8 Werekela', 'NTabakoro Village', 'NTomodo', 'Nafadji', 'Nafadjicoro', 'Namala', 'Namatié', 'Nampala', 'Nampasso', 'Nana Kenieba', 'Nando', 'Nangalasso', 'Nangola', 'Nanérébougou', 'Naoulena', 'Nara Central', 'Narena', 'Natien', 'Ndebougou', 'Neguela', 'Neguetabali', 'Ngabakoro Droit', 'Ngara', 'Ngorkou', 'Niafunke Central', 'Niagadina', 'Niagané', 'Niakalinsiraya', 'Niakongo', 'Niakourazana', 'Niala', 'Niamala', 'Niamana', 'Niambourgou', 'Niamiga', 'Niamnia', 'Niamé', 'Niangassaiou', 'Niantasso', 'Niantjila', 'Nianzana', 'Niaouro', 'Niasso', 'Nibket Elk', 'Niessoumala', 'Nimbougou', 'Ningari', 'Niogomera', 'Niogona', 'Niono C3', 'Niono Central', 'Niono Extension', 'Nioumamakana', 'Niéna Central', 'Nkourala', 'Nokara', 'Nongon', 'Nonkon', 'Nono', 'Nonongo', 'Nossombougou', 'Nouh Bozo', 'Nounou', 'Ntahaka', 'Ntiele', 'Ntillit', 'Ntjikouna', 'Ntjilla', 'Nyamina', 'N’Tièsso']\n",
      "Geoboundaries adm3\n",
      "\t[\"N'dlondougou\", \"N'dodjiga\", \"N'gabacoro\", \"N'gara\", \"N'garadougou\", \"N'gassola\", \"N'goa\", \"N'golobougou\", \"N'golodiana\", \"N'golonianasso\", \"N'gorkou\", \"N'gouraba\", \"N'goutjina\", \"N'koumandougou\", \"N'tillit\", \"N'tjiba\", \"N'tjikouna\", \"N'torosso\", \"N'tossoni\", 'Nafanga', 'Namala Guimba', 'Nampalari', 'Nampe', 'Nangalasso', 'Nangola', 'Nara', 'Narena', 'Natien', 'Nema Badenyakafo', 'Niagadina', 'Niala', 'Niamana', 'Niamana', 'Niambia', 'Niansanari', 'Niantaga', 'Niantanso', 'Niantjila', 'Niasso', 'Niena', 'Nimbougou', 'Niono', 'Nioro Commune', 'Nioro Tougoune Ranga', 'Nioumakana', 'Nongo-Souala', 'Nonkon', 'Nossombougou', 'Nouga', 'Nyamina']\n",
      "\n",
      "\n",
      "begins with letter O\n",
      "Master list level 4\n",
      "\t['Ondougou', 'Ouahibera', 'Oualia', 'Oualo', 'Ouan', 'Ouaro', 'Ouassala', 'Ouatagouna', 'Ouatialy', 'Oudeika', 'Ouenkoro', 'Ouezzindou', 'Oula', 'Oulan', 'Ouleni', 'Ouo', 'Ouolodo', 'Ouologuela', 'Ouolon', 'Oure', 'Ourikela', 'Ouro Guiya', 'Ouro Modi', 'Ouroly', 'Ouroumpana', 'Ouroun', 'Oussadia', 'Oussibidiagna', 'Ouélessébougou']\n",
      "Geoboundaries adm3\n",
      "\t['Ondougou', 'Ouagadou', 'Oualia', 'Ouan', 'Ouattagouna', 'Ouelessebougou', 'Ouinerden', 'Ouolodo', 'Ouolon', 'Ouonkoro', 'Ourikela', 'Ouro Ali', 'Ouro Ardo', 'Ouro Guire', 'Ouro Modi', 'Ouroube Doude', 'Ouroun']\n",
      "\n",
      "\n",
      "begins with letter P\n",
      "Master list level 4\n",
      "\t['Pel-Maoude', 'Pelegana Nord', 'Pelegana Sud', 'Pelou', 'Penesso', 'Petaka', 'Pimperna', 'Pissa', 'Plateau', 'Pogo', 'Pomorododiou', 'Péguéna']\n",
      "Geoboundaries adm3\n",
      "\t['Pel Maoude', 'Pelengana', 'Pelou', 'Petaka', 'Pignari', 'Pignari Bana', 'Pimperna', 'Pogo', 'Pondori']\n",
      "\n",
      "\n",
      "begins with letter Q\n",
      "\n",
      "\n",
      "begins with letter R\n",
      "Master list level 4\n",
      "\t['Razelma', 'Rharous']\n",
      "Geoboundaries adm3\n",
      "\t['Razelma', 'Rharous']\n",
      "\n",
      "\n",
      "begins with letter S\n",
      "Master list level 4\n",
      "\t['Sabougou', 'Sadiola', 'Safo', 'Safé-Bougoula', 'Sagabala', 'Sagabari', 'Sagala', 'Sagalo', 'Sah', 'Saint Felix', 'Sakoiba', 'Sakoro', 'Salakoira', 'Salamale', 'Sama', 'Sama Foulala', 'Samabogo', 'Samakele', 'Samantara', 'Samaya', 'Sambaga', 'Sambagoré', 'Sambala', 'Same Ouolof', 'Samine', 'Samit', 'Sampaga', 'Sampara', 'San Central', 'Sanancoroba', 'Sanando', 'Sananfara', 'Sanankoro', 'Sanankoroba', 'Sanankorodjitoumou', 'Sandama', 'Sandare', 'Sandiambougou', 'Sanfagadala', 'Sanfinia', 'Sangarebougou', 'Sangha', 'Sanguéla', 'Sankoré', 'Sanoubougou 1', 'Sanoubougou 2', 'Sanougou', 'Sansanding', 'Sansankidé', 'Sanso', 'Sanwa', 'Sanzana', 'Sanékuy', 'Sarafere', 'Sare Dina', 'Sare Mala', 'Sareyamou', 'Sarro', 'Sawané', 'Saye', 'Sebekoro', 'Sebekoro I', 'Sebete', 'Sebougou', 'Sefeto', 'Segala', 'Segou Coura Baka', 'Segue', 'Seguela', 'Sekelo', 'Sekoro', 'Selefougou', 'Selifely', 'Selinkegny', 'Sendegue', 'Senebamana', 'Senko', 'Senou', 'Serenaty', 'Seribila', 'Seriwala', 'Sero', 'Sevare 2', 'Seyla', 'Seyna', 'Sibikily', 'Sibila', 'Sibindi', 'Sibiriifina', 'Siby', 'Sido', 'Siekorolé', 'Siengo Extension', 'Simbi', 'Sincina', 'Sinkolo', 'Sinzani', 'Sirakoro', 'Sirakoro Meguetana', 'Sirakoroba', 'Sirakorobougou', 'Sirakorola', 'Sirakélé', 'Siramissé', 'Siribala', 'Sirimanzo', 'Sitakily', 'Sitakoto', 'Sitakourou', 'Sitaninkoto', 'Sitaoule', 'Soala', 'Sofara', 'Sogomougou', 'Soignebougou', 'Soke', 'Sokolo', 'Sokoura', 'Sokoura_B', 'Solenkoro', 'Soloba', 'Somadougou', 'Somankidi', 'Somasso', 'Somo - Baroueli', 'Somo - San', 'Sondage', 'Songho', 'Soninkegny', 'Sonkegné', 'Sorobasso', 'Sossobé', 'Sossokoira', 'Souba', 'Soubala', 'Souban', 'Soufroulaye', 'Sougoumba', 'Souleye', 'Soumouni', 'Soumpi', 'Sountiana', 'Souranguedou', 'Souranzan', 'Sourountouna', 'Soye', 'Sy', 'Ségouna', 'Ségué', 'Séguéla', 'Sénossa', 'Sévaré 3', 'Sévéry']\n",
      "Geoboundaries adm3\n",
      "\t['Saboula', 'Sadiola', 'Safo', 'Sagabala', 'Sagalo', 'Sahel', 'Sakoiba', 'Salam', 'Saloba', 'Sama Foulala', 'Samabogo', 'Same Diomboma', 'Samine', 'San Commune', 'Sana', 'Sanando', 'Sanankoro Djitoumou', 'Sanankoroba', 'Sandare', 'Sanekuy', 'Sangarebougou', 'Sangha', 'Sankarani', 'Sansanding', 'Sansankide', 'Sanso', 'Sanzana', 'Sareyamou', 'Sasalbe', 'Sebecoro 1', 'Sebekoro', 'Sebete', 'Sebougou', 'Sefeto Nord', 'Sefeto Ouest', 'Segala', 'Segou Commune', 'Segue', 'Segue Ire', 'Selefougou', 'Senko', 'Sere Moussa Ani Samo', 'Serere', 'Sero Diamanou', 'Siadougou', 'Sibila', 'Sibirila', 'Siby', 'Sidibela', 'Sido', 'Sikasso Commune', 'Simbi', 'Sincina', 'Sinkolo', 'Sio', 'Sirakoro', 'Sirakorola', 'Siribala', 'Sirifila Boundy', 'Sitakily', 'Soboundou', 'Sobra', 'Socoura', 'Soignebougou', 'Sokolo', 'Sokoura', 'Sokourani Missirikoro', 'Somankidy', 'Somasso', 'Somo', 'Somo', 'Songo Doubacoro', 'Songoua', 'Sony', 'Sony Aliber', 'Sorobasso', 'Soroly', 'Souba', 'Soubala', 'Sougoulbe', 'Souleye', 'Soumpi', 'Soumpou', 'Souransan Tomoto', 'Sourountouna', 'Soye', 'Sy', 'Syen Toula']\n",
      "\n",
      "\n",
      "begins with letter T\n",
      "Master list level 4\n",
      "\t['Tabakoto', 'Tabankort', 'Tabi Tongo', 'Taboye', 'Tacharane', 'Tadamakat', 'Tadjalat', 'Tadriante', 'Tafassirga', 'Taga', 'Tagalalt', 'Tagan', 'Taghrist', 'Tahabanat', 'Takaba', 'Takalot', 'Tako', 'Talataye', 'Tallo', 'Tamakoutat', 'Tamalett', 'Tamani', 'Tambacara', 'Tambafigna', 'Tambaga', 'Tamtack', 'Tanainait', 'Tanima', 'Taoudenit central', 'Tarabé', 'Tarinkate', 'Tarkint', 'Tassassat', 'Tassiga', 'Tassik', 'Tassiriste', 'Tassona', 'Tchintabaradène', 'Tegueret', 'Teherdjé', 'Telabit', 'Tella', 'Temou', 'Teméra', 'Tendio', 'Tene', 'Tenenkou', 'Tesserela', 'Tessit', 'Thiadjol', 'Thial', 'Thirissoro', 'Tiagala', 'Tiaka Dialakoro', 'Tiapato', 'Tiby', 'Tichift', 'Tichitt', 'Tichy', 'Tidermene central', 'Tiebala', 'Tiefala', 'Tiefimbougou', 'Tieguecourouni', 'Tienabougou', 'Tienfala', 'Tienkour', 'Tiere', 'Tigana', 'Tigui', 'Tiguila', 'Tilemsi', 'Timboukri', 'Timissa', 'Timtaghène', 'Tin Agalhadji', 'Tin Aouker', 'Tin Telout', 'Tin-Aicha', 'Tin-Essako', 'Tinabaw', 'Tinadhidj', 'Tinagaroft', 'Tindirma', 'Tindjambane', 'Tinfada', 'Tinfadimata', 'Tinfrikawene', 'Tingole', 'Tinhamma', 'Tinkaré', 'Tinkélé', 'Tinsagou', 'Tinsako', 'Tintachori', 'Tintadenit', 'Tintara', 'Tintiba', 'Tinzaouatene', 'Tinéloine', 'Tiongui', 'Tioribougou', 'Tièlè', 'Tièoulena', 'Toba', 'Todougou Kolondiè', 'Tofola', 'Togo', 'Togou', 'Toguel', 'Toguéré Coumbé', 'Tombola', 'Tombougou', 'Tomina', 'Tominian Central', 'Tondibi', 'Tondidarou', 'Tondidji', 'Tongo', 'Tongo-Tongo', 'Tongorongon', 'Tongue', 'Tonka', 'Tonto', 'Torakoro', 'Tori', 'Torodo', 'Torokoro', 'Toroli', 'Tossost', 'Tota', 'Touba', 'Toubacoro', 'Tougouni', 'Touhara', 'Toukoro', 'Toukoroba', 'Toukoto', 'Toulabele', 'Touloupe', 'Toumbinassou', 'Touna', 'Tourakolomba', 'Tourela', 'Tourourou', 'Toussana', 'Tousséguéla', 'Toutiala', 'Touwal', 'Toya', 'Trentimou', 'Troun', 'Troungoumbe', 'Turula', 'Tégué', 'Tériyabougou', 'Tétou']\n",
      "Geoboundaries adm3\n",
      "\t['Taboye', 'Tafacirga', 'Tagandougou', 'Talataye', 'Tamani', 'Tambaga', 'Tao', 'Tarkint', 'Tedie', 'Tele', 'Tella', 'Temera', 'Tene', 'Teneni', 'Tenenkou Commune', 'Tenindougou', 'Tessalit', 'Tesserla', 'Tessit', 'Tiakadougou Dialakoro', 'Tiankadi', 'Tidermene', 'Tiele', 'Tiemala Banimonotie', 'Tiemena', 'Tienfala', 'Tienkour', 'Tilemsi', 'Tilemsi', 'Timiri', 'Timissa', 'Timtaghene', 'Tin Aicha', 'Tin Essako', 'Tin Hama', 'Tindirma', 'Tinguereguif', 'Tinzawatene', 'Tiongui', 'Tioribougou', 'Togoro Kotia', 'Togou', 'Togue Mourari', 'Toguere-Coumbe', 'Tombouctou', 'Tominian', 'Tomora', 'Tongue', 'Tonka', 'Tori', 'Toridaga Ko', 'Toubacoro', 'Tougouni', 'Toukoroba', 'Toukoto', 'Touna', 'Tourakolomba', 'Tousseguela', 'Toya', 'Tringa', 'Troungoumbe']\n",
      "\n",
      "\n",
      "begins with letter U\n",
      "\n",
      "\n",
      "begins with letter V\n",
      "\n",
      "\n",
      "begins with letter W\n",
      "Master list level 4\n",
      "\t['Wabaria', 'Wacoro', 'Waikanou', 'Waki', 'Wako', 'Wakoro', 'Waky', 'Walo', 'Wana', 'Waourou', 'Waramata', 'Wayerma 1', 'Wayerma 2', 'Wola', 'Wondobougou', 'Woroni']\n",
      "Geoboundaries adm3\n",
      "\t['Wacoro', 'Wadouba', 'Waki', 'Wassoulou Balle', 'Wateni', 'Wola']\n",
      "\n",
      "\n",
      "begins with letter X\n",
      "\n",
      "\n",
      "begins with letter Y\n",
      "Master list level 4\n",
      "\t['Yafola', 'Yaguine', 'Yaguine Banda', 'Yanfolila Central', 'Yangasso', 'Yasso', 'Yatera', 'Yebe', 'Yelekebougou', 'Yelimane Central', 'Yendouma', 'Yerebougou', 'Yerere', 'Yira', 'Yiringasso', 'Yollo', 'Yoro', 'Yorobougoula', 'Yorosso', 'Youdiou', 'Yougonsire', 'Youri', 'Yourmi', 'Youwarou-Central']\n",
      "Geoboundaries adm3\n",
      "\t['Yallankoro-Soloba', 'Yangasso', 'Yasso', 'Yelekebougou', 'Yeredon Saniona', 'Yerere', 'Yinindougou', 'Yiridougou', 'Yognogo', 'Yoro', 'Yorosso', 'Youdiou', 'Youri', 'Youwarou']\n",
      "\n",
      "\n",
      "begins with letter Z\n",
      "Master list level 4\n",
      "\t['Zambougou-Central', 'Zambougou-Cinzana', 'Zamiasso', 'Zana', 'Zanabougou', 'Zanferebougou', 'Zangalan', 'Zangaradougou', 'Zangasso', 'Zangousso', 'Zanina', 'Zaniéna', 'Zantiguila', 'Zantièbougou', 'Zanzoni', 'Zarho', 'Ziasso', 'Zignasso', 'Zinda', 'Ziéna', 'Zon', 'Zoueya', 'Zébala', 'Zégoua', 'Zéguéré']\n",
      "Geoboundaries adm3\n",
      "\t['Zan Coulibaly', 'Zanferebougou', 'Zanfigue', 'Zangaradougou', 'Zangasso', 'Zaniena', 'Zanina', 'Zantiebougou', 'Zebala', 'Zegoua']\n",
      "\n",
      "\n"
     ]
    }
   ],
   "source": [
    "for letter in ascii_uppercase:\n",
    "    print(f'begins with letter {letter}')\n",
    "    level4_sublist = [name for name in level4_list if name[0]==letter]\n",
    "    geob3_sublist = [name for name in geob3_list if name[0]==letter]\n",
    "\n",
    "    if len(level4_sublist)>0:\n",
    "        print(\"Master list level 4\")\n",
    "        print(\"\\t\"+str(level4_sublist))\n",
    "    if len(geob3_sublist) >0:\n",
    "        print(\"Geoboundaries adm3\")\n",
    "        print(\"\\t\"+str(geob3_sublist))\n",
    "        \n",
    "    print(\"\\n\")"
   ]
  },
  {
   "cell_type": "markdown",
   "metadata": {},
   "source": [
    "Manually adjust spellings of master health list to create more matches."
   ]
  },
  {
   "cell_type": "code",
   "execution_count": 14,
   "metadata": {},
   "outputs": [],
   "source": [
    "master_table.loc[:, \"orgunitlevel4_edit\"] = master_table.orgunitlevel4"
   ]
  },
  {
   "cell_type": "code",
   "execution_count": 15,
   "metadata": {},
   "outputs": [],
   "source": [
    "# master_table.loc[master_table.orgunitlevel4 == \"Bo City\", \"orgunitlevel4_edit\"] = \"Bo Town\"\n",
    "# master_table.loc[master_table.orgunitlevel4 == \"Central 1 Zone\", \"orgunitlevel4_edit\"] = \"Central I\"\n",
    "# master_table.loc[master_table.orgunitlevel4 == \"Central 2 Zone\", \"orgunitlevel4_edit\"] = \"Central II\"\n",
    "# master_table.loc[master_table.orgunitlevel4 == \"East 1 Zone\", \"orgunitlevel4_edit\"] = \"East I\"\n",
    "# master_table.loc[master_table.orgunitlevel4 == \"East 2 Zone\", \"orgunitlevel4_edit\"] = \"East II\"\n",
    "# master_table.loc[master_table.orgunitlevel4 == \"East 3 Zone\", \"orgunitlevel4_edit\"] = \"East III\"\n",
    "# master_table.loc[master_table.orgunitlevel4 == \"West 1 Zone\", \"orgunitlevel4_edit\"] = \"West I\"\n",
    "# master_table.loc[master_table.orgunitlevel4 == \"West 2 Zone\", \"orgunitlevel4_edit\"] = \"West II\"\n",
    "# master_table.loc[master_table.orgunitlevel4 == \"West 3 Zone\", \"orgunitlevel4_edit\"] = \"West III\"\n",
    "# master_table.loc[master_table.orgunitlevel4 == \"Bagbwe\", \"orgunitlevel4_edit\"] = \"Bagbwe(Bagbe)\""
   ]
  },
  {
   "cell_type": "markdown",
   "metadata": {},
   "source": [
    "Remove key words that confuse matching algorithm"
   ]
  },
  {
   "cell_type": "code",
   "execution_count": 16,
   "metadata": {},
   "outputs": [],
   "source": [
    "remove_words(geob3, \"shapeName\", ['Town', 'City', 'Urban', 'Zone'])\n",
    "remove_words(master_table, \"orgunitlevel4_edit\", ['Town', 'City', 'Urban', 'Zone'])"
   ]
  },
  {
   "cell_type": "code",
   "execution_count": 17,
   "metadata": {},
   "outputs": [],
   "source": [
    "# level4_list = list(master_table.orgunitlevel4.unique())\n",
    "level4_list = list(master_table.orgunitlevel4_edit.unique())\n",
    "level4_list.sort()\n",
    "geob3_list = list(geob3.shapeName)\n",
    "geob3_list.sort()"
   ]
  },
  {
   "cell_type": "code",
   "execution_count": 18,
   "metadata": {
    "scrolled": true
   },
   "outputs": [],
   "source": [
    "# List for dicts for easy dataframe creation\n",
    "dict_list = []\n",
    "# iterating over orgunitlevel4_edit list\n",
    "for name in level4_list:\n",
    "    \n",
    "    # Use our method to find best match, we can set a threshold here\n",
    "    match = match_name(name, geob3_list, 30)\n",
    "\n",
    "    # New dict for storing data\n",
    "    dict_ = {}\n",
    "    dict_.update({\"name_level4\" : name})\n",
    "    dict_.update({\"name_geob3\" : match[0]})\n",
    "    dict_.update({\"score\" : match[1]})\n",
    "    dict_list.append(dict_)\n",
    "\n",
    "table_adm3 = pd.DataFrame(dict_list)\n",
    "table_adm3_matches = table_adm3[table_adm3.score > 70].copy()"
   ]
  },
  {
   "cell_type": "code",
   "execution_count": 19,
   "metadata": {},
   "outputs": [
    {
     "data": {
      "text/plain": [
       "'60.64%'"
      ]
     },
     "execution_count": 19,
     "metadata": {},
     "output_type": "execute_result"
    }
   ],
   "source": [
    "matches_pct = (len(table_adm3_matches) / len(level4_list))\n",
    "'{:.2f}%'.format(matches_pct*100)"
   ]
  },
  {
   "cell_type": "code",
   "execution_count": 20,
   "metadata": {},
   "outputs": [],
   "source": [
    "# for idx, row in table_adm3_matches.loc[table_adm3_matches.score<=80].iterrows():\n",
    "#     print(row)\n",
    "#     print('\\n')\n",
    "    #drop_input = input(\"Drop? If no, leave blank: \")\n",
    "#     if len(drop_input)>0:\n",
    "#         table_adm3_matches.drop(idx, axis=0, inplace=True)"
   ]
  },
  {
   "cell_type": "code",
   "execution_count": 21,
   "metadata": {},
   "outputs": [],
   "source": [
    "table_adm3_matches = table_adm3_matches.loc[table_adm3_matches.score>=80]"
   ]
  },
  {
   "cell_type": "code",
   "execution_count": 22,
   "metadata": {},
   "outputs": [
    {
     "data": {
      "text/plain": [
       "'39.23%'"
      ]
     },
     "execution_count": 22,
     "metadata": {},
     "output_type": "execute_result"
    }
   ],
   "source": [
    "matches_pct = (len(table_adm3_matches) / len(level4_list))\n",
    "'{:.2f}%'.format(matches_pct*100)"
   ]
  },
  {
   "cell_type": "markdown",
   "metadata": {},
   "source": [
    "### Match orgunitlevel3 to geo Adm 2"
   ]
  },
  {
   "cell_type": "code",
   "execution_count": 23,
   "metadata": {},
   "outputs": [],
   "source": [
    "master_table.loc[:, \"orgunitlevel3_edit\"] = master_table.orgunitlevel3"
   ]
  },
  {
   "cell_type": "code",
   "execution_count": 24,
   "metadata": {},
   "outputs": [],
   "source": [
    "# remove_words(geob2, \"admin2Name\", [\" City Council\", \" District Council\", \" Municipal Council\"])\n",
    "remove_words(master_table, \"orgunitlevel3_edit\", [\"District \"])\n",
    "remove_words(geob2, \"shapeName\", ['City Council', 'District Council', 'Municipal Council'])\n",
    "#remove_words(geob2, \"ADMIN2\", [\" City Council\", \" District Council\", \" Municipal Council\"])"
   ]
  },
  {
   "cell_type": "code",
   "execution_count": 25,
   "metadata": {
    "code_folding": []
   },
   "outputs": [],
   "source": [
    "level3_list = list(master_table.orgunitlevel3_edit.unique())\n",
    "level3_list.sort()\n",
    "geob2_list = list(geob2.shapeName)\n",
    "geob2_list.sort()"
   ]
  },
  {
   "cell_type": "markdown",
   "metadata": {},
   "source": [
    "Print names one at a time for both datasets one letter at a time, and manually inspect"
   ]
  },
  {
   "cell_type": "code",
   "execution_count": 26,
   "metadata": {
    "scrolled": true
   },
   "outputs": [
    {
     "name": "stdout",
     "output_type": "stream",
     "text": [
      "begins with letter A\n",
      "Master list level 3\n",
      "\t['Abeibara', 'Achouratt', 'Al-Ourche', 'Almoustarat', 'Anderamboukane', 'Ansongo', 'Arawane']\n",
      "Geoboundaries adm2\n",
      "\t['Abeibara', 'Ansongo']\n",
      "begins with letter B\n",
      "Master list level 3\n",
      "\t['Bafoulabe', 'Banamba', 'Bandiagara', 'Bankass', 'Baroueli', 'Bla', 'Bougouni', 'Boujbeha', 'Bourem']\n",
      "Geoboundaries adm2\n",
      "\t['Bafoulabe', 'Bamako', 'Banamba', 'Bandiagara', 'Bankass', 'Baroueli', 'Bla', 'Bougouni', 'Bourem']\n",
      "begins with letter C\n",
      "Master list level 3\n",
      "\t['CRLD', 'Commune I', 'Commune II', 'Commune III', 'Commune IV', 'Commune V', 'Commune VI']\n",
      "begins with letter D\n",
      "Master list level 3\n",
      "\t['Diema', 'Dioila', 'Diré', 'Djenné', 'Douentza']\n",
      "Geoboundaries adm2\n",
      "\t['Diema', 'Dioila', 'Dire', 'Djenne', 'Douentza']\n",
      "begins with letter E\n",
      "begins with letter F\n",
      "Master list level 3\n",
      "\t['Fana', 'Foum-Alba']\n",
      "begins with letter G\n",
      "Master list level 3\n",
      "\t['Gao', 'Goundam', 'Gourma-Rharous']\n",
      "Geoboundaries adm2\n",
      "\t['Gao', 'Goundam', 'Gourma-Rharous']\n",
      "begins with letter H\n",
      "begins with letter I\n",
      "Master list level 3\n",
      "\t['Inekar']\n",
      "begins with letter J\n",
      "begins with letter K\n",
      "Master list level 3\n",
      "\t['Kadiolo', 'Kalabancoro', 'Kangaba', 'Kati', 'Kayes', 'Kenieba', 'Kidal', 'Kignan', 'Kita', 'Kolokani', 'Kolondieba', 'Koro', 'Koulikoro', 'Koutiala']\n",
      "Geoboundaries adm2\n",
      "\t['Kadiolo', 'Kangaba', 'Kati', 'Kayes', 'Kenieba', 'Kidal', 'Kita', 'Kolokani', 'Kolondieba', 'Koro', 'Koulikoro', 'Koutiala']\n",
      "begins with letter L\n",
      "begins with letter M\n",
      "Master list level 3\n",
      "\t['Macina', 'Markala', 'Menaka', 'Mopti']\n",
      "Geoboundaries adm2\n",
      "\t['Macina', 'Menaka', 'Mopti']\n",
      "begins with letter N\n",
      "Master list level 3\n",
      "\t['Nara', 'Niafunké', 'Niena', 'Niono', 'Nioro']\n",
      "Geoboundaries adm2\n",
      "\t['Nara', 'Niafunke', 'Niono', 'Nioro']\n",
      "begins with letter O\n",
      "Master list level 3\n",
      "\t['Ouelessebougou', 'Oussoubidiagna']\n",
      "begins with letter P\n",
      "begins with letter Q\n",
      "begins with letter R\n",
      "begins with letter S\n",
      "Master list level 3\n",
      "\t['Sagabari', 'San', 'Sefeto', 'Segou', 'Selingue', 'Sikasso']\n",
      "Geoboundaries adm2\n",
      "\t['San', 'Segou', 'Sikasso']\n",
      "begins with letter T\n",
      "Master list level 3\n",
      "\t['Taoudenit', 'Tenenkou', 'Tessalit', 'Tidermene', 'TinEssako', 'Tombouctou', 'Tominian']\n",
      "Geoboundaries adm2\n",
      "\t['Tenenkou', 'Tessalit', 'Tin-Essako', 'Tombouctou', 'Tominian']\n",
      "begins with letter U\n",
      "begins with letter V\n",
      "begins with letter W\n",
      "begins with letter X\n",
      "begins with letter Y\n",
      "Master list level 3\n",
      "\t['Yanfolila', 'Yelimane', 'Yorosso', 'Youwarou']\n",
      "Geoboundaries adm2\n",
      "\t['Yanfolila', 'Yelimane', 'Yorosso', 'Youwarou']\n",
      "begins with letter Z\n"
     ]
    }
   ],
   "source": [
    "for letter in ascii_uppercase:\n",
    "    print(f'begins with letter {letter}')\n",
    "    level3_sublist = [name for name in level3_list if name[0]==letter]\n",
    "    geob2_sublist = [name for name in geob2_list if name[0]==letter]\n",
    "    if len(level3_sublist)>0:\n",
    "        print(\"Master list level 3\")\n",
    "        print(\"\\t\"+str(level3_sublist))\n",
    "    if len(geob2_sublist) >0:\n",
    "        print(\"Geoboundaries adm2\")\n",
    "        print(\"\\t\"+str(geob2_sublist))"
   ]
  },
  {
   "cell_type": "code",
   "execution_count": 27,
   "metadata": {},
   "outputs": [],
   "source": [
    "# List for dicts for easy dataframe creation\n",
    "dict_list = []\n",
    "# iterating over our players without salaries found above\n",
    "for name in level3_list:\n",
    "    \n",
    "    # Use our method to find best match, we can set a threshold here\n",
    "    match = match_name(name, geob2_list, 30)\n",
    "\n",
    "    # New dict for storing data\n",
    "    dict_ = {}\n",
    "    dict_.update({\"name_level3\" : name})\n",
    "    dict_.update({\"name_geob2\" : match[0]})\n",
    "    dict_.update({\"score\" : match[1]})\n",
    "    dict_list.append(dict_)\n",
    "\n",
    "table_adm2 = pd.DataFrame(dict_list)\n",
    "table_adm2_matches = table_adm2[table_adm2.score >= 80]"
   ]
  },
  {
   "cell_type": "code",
   "execution_count": 28,
   "metadata": {},
   "outputs": [
    {
     "data": {
      "text/plain": [
       "'63.16%'"
      ]
     },
     "execution_count": 28,
     "metadata": {},
     "output_type": "execute_result"
    }
   ],
   "source": [
    "matches_pct = (len(table_adm2_matches) / len(level3_list))\n",
    "'{:.2f}%'.format(matches_pct*100)"
   ]
  },
  {
   "cell_type": "markdown",
   "metadata": {},
   "source": [
    "## Match orgunitlevel2 to FEWS Adm1"
   ]
  },
  {
   "cell_type": "code",
   "execution_count": 29,
   "metadata": {},
   "outputs": [],
   "source": [
    "level2_list = list(master_table.orgunitlevel2.unique())\n",
    "level2_list.sort()\n",
    "fews1_list = list(fews1.ADMIN1)\n",
    "fews1_list.sort()"
   ]
  },
  {
   "cell_type": "code",
   "execution_count": 30,
   "metadata": {},
   "outputs": [
    {
     "data": {
      "text/plain": [
       "['Bamako',\n",
       " 'Gao',\n",
       " 'Kayes',\n",
       " 'Kidal',\n",
       " 'Koulikoro',\n",
       " 'Menaka',\n",
       " 'Mopti',\n",
       " 'Sikasso',\n",
       " 'Ségou',\n",
       " 'Taoudenit',\n",
       " 'Tombouctou']"
      ]
     },
     "execution_count": 30,
     "metadata": {},
     "output_type": "execute_result"
    }
   ],
   "source": [
    "level2_list"
   ]
  },
  {
   "cell_type": "code",
   "execution_count": 31,
   "metadata": {},
   "outputs": [
    {
     "data": {
      "text/plain": [
       "['Bamako',\n",
       " 'Gao',\n",
       " 'Kayes',\n",
       " 'Kidal',\n",
       " 'Koulikoro',\n",
       " 'Menaka',\n",
       " 'Mopti',\n",
       " 'Segou',\n",
       " 'Sikasso',\n",
       " 'Taoudenit',\n",
       " 'Tombouctou']"
      ]
     },
     "execution_count": 31,
     "metadata": {},
     "output_type": "execute_result"
    }
   ],
   "source": [
    "fews1_list"
   ]
  },
  {
   "cell_type": "code",
   "execution_count": 32,
   "metadata": {},
   "outputs": [],
   "source": [
    "# List for dicts for easy dataframe creation\n",
    "dict_list = []\n",
    "# iterating over our players without salaries found above\n",
    "for name in level2_list:\n",
    "    \n",
    "    # Use our method to find best match, we can set a threshold here\n",
    "    match = match_name(name, fews1_list, 30)\n",
    "\n",
    "    # New dict for storing data\n",
    "    dict_ = {}\n",
    "    dict_.update({\"name_level1\" : name})\n",
    "    dict_.update({\"name_fews1\" : match[0]})\n",
    "    dict_.update({\"score\" : match[1]})\n",
    "    dict_list.append(dict_)\n",
    "\n",
    "table_adm1 = pd.DataFrame(dict_list)\n",
    "table_adm1_matches = table_adm1[table_adm1.score >= 80]"
   ]
  },
  {
   "cell_type": "code",
   "execution_count": 33,
   "metadata": {},
   "outputs": [
    {
     "data": {
      "text/plain": [
       "'100.00%'"
      ]
     },
     "execution_count": 33,
     "metadata": {},
     "output_type": "execute_result"
    }
   ],
   "source": [
    "matches_pct = (len(table_adm1_matches) / len(level2_list))\n",
    "'{:.2f}%'.format(matches_pct*100)"
   ]
  },
  {
   "cell_type": "markdown",
   "metadata": {},
   "source": [
    "Loop through each row in master table, and add new attribute names (adm3 and adm2), if the names produced matches in the lookup tables"
   ]
  },
  {
   "cell_type": "code",
   "execution_count": 34,
   "metadata": {},
   "outputs": [],
   "source": [
    "master_table_copy = master_table.copy()"
   ]
  },
  {
   "cell_type": "code",
   "execution_count": 35,
   "metadata": {},
   "outputs": [],
   "source": [
    "for idx, row in master_table_copy.iterrows():\n",
    "    \n",
    "    if row.orgunitlevel4_edit in list(table_adm3_matches.name_level4):\n",
    "        \n",
    "        match = table_adm3_matches.loc[table_adm3_matches.name_level4==row.orgunitlevel4_edit, \"name_geob3\"].iloc[0]\n",
    "        master_table_copy.loc[idx, 'adm3'] = match\n",
    "        \n",
    "    if row.orgunitlevel3_edit in list(table_adm2_matches.name_level3):\n",
    "        \n",
    "        match = table_adm2_matches.loc[table_adm2_matches.name_level3==row.orgunitlevel3_edit, \"name_geob2\"].iloc[0]\n",
    "        master_table_copy.loc[idx, 'adm2'] = match\n",
    "        \n",
    "    if row.orgunitlevel2 in list(table_adm1_matches.name_level1):\n",
    "        \n",
    "        match = table_adm1_matches.loc[table_adm1_matches.name_level1==row.orgunitlevel2, \"name_fews1\"].iloc[0]\n",
    "        master_table_copy.loc[idx, 'adm1'] = match"
   ]
  },
  {
   "cell_type": "code",
   "execution_count": 36,
   "metadata": {},
   "outputs": [
    {
     "data": {
      "text/plain": [
       "516"
      ]
     },
     "execution_count": 36,
     "metadata": {},
     "output_type": "execute_result"
    }
   ],
   "source": [
    "master_table_copy.adm2.isna().sum()"
   ]
  },
  {
   "cell_type": "code",
   "execution_count": 37,
   "metadata": {},
   "outputs": [
    {
     "data": {
      "text/plain": [
       "1219"
      ]
     },
     "execution_count": 37,
     "metadata": {},
     "output_type": "execute_result"
    }
   ],
   "source": [
    "master_table_copy.adm3.isna().sum()"
   ]
  },
  {
   "cell_type": "code",
   "execution_count": 38,
   "metadata": {},
   "outputs": [
    {
     "data": {
      "text/plain": [
       "0"
      ]
     },
     "execution_count": 38,
     "metadata": {},
     "output_type": "execute_result"
    }
   ],
   "source": [
    "master_table_copy.adm1.isna().sum()"
   ]
  },
  {
   "cell_type": "code",
   "execution_count": 39,
   "metadata": {},
   "outputs": [
    {
     "data": {
      "text/html": [
       "<div>\n",
       "<style scoped>\n",
       "    .dataframe tbody tr th:only-of-type {\n",
       "        vertical-align: middle;\n",
       "    }\n",
       "\n",
       "    .dataframe tbody tr th {\n",
       "        vertical-align: top;\n",
       "    }\n",
       "\n",
       "    .dataframe thead th {\n",
       "        text-align: right;\n",
       "    }\n",
       "</style>\n",
       "<table border=\"1\" class=\"dataframe\">\n",
       "  <thead>\n",
       "    <tr style=\"text-align: right;\">\n",
       "      <th></th>\n",
       "      <th>orgunitlevel1</th>\n",
       "      <th>orgunitlevel2</th>\n",
       "      <th>orgunitlevel3</th>\n",
       "      <th>orgunitlevel4</th>\n",
       "      <th>orgunitlevel5</th>\n",
       "      <th>orgunitlevel4_edit</th>\n",
       "      <th>orgunitlevel3_edit</th>\n",
       "      <th>adm1</th>\n",
       "      <th>adm3</th>\n",
       "      <th>adm2</th>\n",
       "    </tr>\n",
       "  </thead>\n",
       "  <tbody>\n",
       "    <tr>\n",
       "      <th>0</th>\n",
       "      <td>Mali</td>\n",
       "      <td>Bamako</td>\n",
       "      <td>CRLD</td>\n",
       "      <td>zzz a supprimer</td>\n",
       "      <td>ZCorbeille</td>\n",
       "      <td>zzz a supprimer</td>\n",
       "      <td>CRLD</td>\n",
       "      <td>Bamako</td>\n",
       "      <td>NaN</td>\n",
       "      <td>NaN</td>\n",
       "    </tr>\n",
       "    <tr>\n",
       "      <th>1</th>\n",
       "      <td>Mali</td>\n",
       "      <td>Bamako</td>\n",
       "      <td>District Commune I</td>\n",
       "      <td>Asacko Nord</td>\n",
       "      <td>CSCom ASACKO NORD</td>\n",
       "      <td>Asacko Nord</td>\n",
       "      <td>Commune I</td>\n",
       "      <td>Bamako</td>\n",
       "      <td>NaN</td>\n",
       "      <td>NaN</td>\n",
       "    </tr>\n",
       "  </tbody>\n",
       "</table>\n",
       "</div>"
      ],
      "text/plain": [
       "  orgunitlevel1 orgunitlevel2       orgunitlevel3    orgunitlevel4  \\\n",
       "0          Mali        Bamako                CRLD  zzz a supprimer   \n",
       "1          Mali        Bamako  District Commune I      Asacko Nord   \n",
       "\n",
       "       orgunitlevel5 orgunitlevel4_edit orgunitlevel3_edit    adm1 adm3 adm2  \n",
       "0         ZCorbeille    zzz a supprimer               CRLD  Bamako  NaN  NaN  \n",
       "1  CSCom ASACKO NORD        Asacko Nord          Commune I  Bamako  NaN  NaN  "
      ]
     },
     "execution_count": 39,
     "metadata": {},
     "output_type": "execute_result"
    }
   ],
   "source": [
    "master_table_copy.head(2)"
   ]
  },
  {
   "cell_type": "markdown",
   "metadata": {},
   "source": [
    "# Match to locations from alternative sources based on facility name\n",
    "\n",
    "\n",
    "## Health Sites IO\n",
    "Import Health Sites from HealthSites.io  \n",
    "Health sites come in both a node and a way shapefile. You need to import both to get all the sites.  \n",
    "In QGIS, I created centroids from the ways then merged it with the points."
   ]
  },
  {
   "cell_type": "code",
   "execution_count": 40,
   "metadata": {},
   "outputs": [],
   "source": [
    "nodes_io = gpd.read_file(os.path.join(input_dir, \"healthsitesio\", \"MLI\", \"merged_MLI_healthsites.shp\"))"
   ]
  },
  {
   "cell_type": "code",
   "execution_count": 41,
   "metadata": {},
   "outputs": [],
   "source": [
    "nodes_io = nodes_io.loc[~nodes_io.name.isna()].copy()"
   ]
  },
  {
   "cell_type": "code",
   "execution_count": 42,
   "metadata": {},
   "outputs": [],
   "source": [
    "nodes_io['name'] = nodes_io['name'].str.lower()"
   ]
  },
  {
   "cell_type": "code",
   "execution_count": 43,
   "metadata": {},
   "outputs": [],
   "source": [
    "words_to_remove = ['community', 'clinic', 'centre', 'center', 'hospital', \n",
    "                   'health', 'government', 'maternity', 'home', 'cabinet', 'medical', 'clinique']"
   ]
  },
  {
   "cell_type": "code",
   "execution_count": 44,
   "metadata": {},
   "outputs": [],
   "source": [
    "records = master_table_copy.copy()\n",
    "records['NAME'] = records['orgunitlevel5'].str.lower()"
   ]
  },
  {
   "cell_type": "code",
   "execution_count": 45,
   "metadata": {},
   "outputs": [],
   "source": [
    "remove_words(nodes_io, 'name', words_to_remove)\n",
    "remove_words(records, 'NAME', words_to_remove)"
   ]
  },
  {
   "cell_type": "code",
   "execution_count": 46,
   "metadata": {},
   "outputs": [],
   "source": [
    "records['geocoding_method'] = \"None\""
   ]
  },
  {
   "cell_type": "code",
   "execution_count": 47,
   "metadata": {},
   "outputs": [
    {
     "data": {
      "text/html": [
       "<div>\n",
       "<style scoped>\n",
       "    .dataframe tbody tr th:only-of-type {\n",
       "        vertical-align: middle;\n",
       "    }\n",
       "\n",
       "    .dataframe tbody tr th {\n",
       "        vertical-align: top;\n",
       "    }\n",
       "\n",
       "    .dataframe thead th {\n",
       "        text-align: right;\n",
       "    }\n",
       "</style>\n",
       "<table border=\"1\" class=\"dataframe\">\n",
       "  <thead>\n",
       "    <tr style=\"text-align: right;\">\n",
       "      <th></th>\n",
       "      <th>orgunitlevel1</th>\n",
       "      <th>orgunitlevel2</th>\n",
       "      <th>orgunitlevel3</th>\n",
       "      <th>orgunitlevel4</th>\n",
       "      <th>orgunitlevel5</th>\n",
       "      <th>orgunitlevel4_edit</th>\n",
       "      <th>orgunitlevel3_edit</th>\n",
       "      <th>adm1</th>\n",
       "      <th>adm3</th>\n",
       "      <th>adm2</th>\n",
       "      <th>NAME</th>\n",
       "      <th>geocoding_method</th>\n",
       "    </tr>\n",
       "  </thead>\n",
       "  <tbody>\n",
       "    <tr>\n",
       "      <th>0</th>\n",
       "      <td>Mali</td>\n",
       "      <td>Bamako</td>\n",
       "      <td>CRLD</td>\n",
       "      <td>zzz a supprimer</td>\n",
       "      <td>ZCorbeille</td>\n",
       "      <td>zzz a supprimer</td>\n",
       "      <td>CRLD</td>\n",
       "      <td>Bamako</td>\n",
       "      <td>NaN</td>\n",
       "      <td>NaN</td>\n",
       "      <td>zcorbeille</td>\n",
       "      <td>None</td>\n",
       "    </tr>\n",
       "    <tr>\n",
       "      <th>1</th>\n",
       "      <td>Mali</td>\n",
       "      <td>Bamako</td>\n",
       "      <td>District Commune I</td>\n",
       "      <td>Asacko Nord</td>\n",
       "      <td>CSCom ASACKO NORD</td>\n",
       "      <td>Asacko Nord</td>\n",
       "      <td>Commune I</td>\n",
       "      <td>Bamako</td>\n",
       "      <td>NaN</td>\n",
       "      <td>NaN</td>\n",
       "      <td>cscom asacko nord</td>\n",
       "      <td>None</td>\n",
       "    </tr>\n",
       "    <tr>\n",
       "      <th>2</th>\n",
       "      <td>Mali</td>\n",
       "      <td>Bamako</td>\n",
       "      <td>District Commune I</td>\n",
       "      <td>Asacko Nord</td>\n",
       "      <td>Clinique Daccouchement Privée Danaya</td>\n",
       "      <td>Asacko Nord</td>\n",
       "      <td>Commune I</td>\n",
       "      <td>Bamako</td>\n",
       "      <td>NaN</td>\n",
       "      <td>NaN</td>\n",
       "      <td>daccouchement privée danaya</td>\n",
       "      <td>None</td>\n",
       "    </tr>\n",
       "    <tr>\n",
       "      <th>3</th>\n",
       "      <td>Mali</td>\n",
       "      <td>Bamako</td>\n",
       "      <td>District Commune I</td>\n",
       "      <td>Asacoba</td>\n",
       "      <td>CSCom ASACOBA</td>\n",
       "      <td>Asacoba</td>\n",
       "      <td>Commune I</td>\n",
       "      <td>Bamako</td>\n",
       "      <td>NaN</td>\n",
       "      <td>NaN</td>\n",
       "      <td>cscom asacoba</td>\n",
       "      <td>None</td>\n",
       "    </tr>\n",
       "    <tr>\n",
       "      <th>4</th>\n",
       "      <td>Mali</td>\n",
       "      <td>Bamako</td>\n",
       "      <td>District Commune I</td>\n",
       "      <td>Asacoba</td>\n",
       "      <td>Cabinet Medical FONDATION SADIA</td>\n",
       "      <td>Asacoba</td>\n",
       "      <td>Commune I</td>\n",
       "      <td>Bamako</td>\n",
       "      <td>NaN</td>\n",
       "      <td>NaN</td>\n",
       "      <td>fondation sadia</td>\n",
       "      <td>None</td>\n",
       "    </tr>\n",
       "  </tbody>\n",
       "</table>\n",
       "</div>"
      ],
      "text/plain": [
       "  orgunitlevel1 orgunitlevel2       orgunitlevel3    orgunitlevel4  \\\n",
       "0          Mali        Bamako                CRLD  zzz a supprimer   \n",
       "1          Mali        Bamako  District Commune I      Asacko Nord   \n",
       "2          Mali        Bamako  District Commune I      Asacko Nord   \n",
       "3          Mali        Bamako  District Commune I          Asacoba   \n",
       "4          Mali        Bamako  District Commune I          Asacoba   \n",
       "\n",
       "                          orgunitlevel5 orgunitlevel4_edit orgunitlevel3_edit  \\\n",
       "0                            ZCorbeille    zzz a supprimer               CRLD   \n",
       "1                     CSCom ASACKO NORD        Asacko Nord          Commune I   \n",
       "2  Clinique Daccouchement Privée Danaya        Asacko Nord          Commune I   \n",
       "3                         CSCom ASACOBA            Asacoba          Commune I   \n",
       "4       Cabinet Medical FONDATION SADIA            Asacoba          Commune I   \n",
       "\n",
       "     adm1 adm3 adm2                         NAME geocoding_method  \n",
       "0  Bamako  NaN  NaN                   zcorbeille             None  \n",
       "1  Bamako  NaN  NaN            cscom asacko nord             None  \n",
       "2  Bamako  NaN  NaN  daccouchement privée danaya             None  \n",
       "3  Bamako  NaN  NaN                cscom asacoba             None  \n",
       "4  Bamako  NaN  NaN              fondation sadia             None  "
      ]
     },
     "execution_count": 47,
     "metadata": {},
     "output_type": "execute_result"
    }
   ],
   "source": [
    "records.head()"
   ]
  },
  {
   "cell_type": "markdown",
   "metadata": {},
   "source": [
    "### note: since only partial matches with admin 3 and admin 2, matching will occur if point is within the district or not. However, since there is no point in district validation, increase the matching benchmark."
   ]
  },
  {
   "cell_type": "code",
   "execution_count": 48,
   "metadata": {
    "scrolled": true
   },
   "outputs": [
    {
     "name": "stderr",
     "output_type": "stream",
     "text": [
      "38it [00:00, 181.39it/s]"
     ]
    },
    {
     "name": "stdout",
     "output_type": "stream",
     "text": [
      "cscom asacoba cscom asaco souban\n",
      "teriya teriya\n",
      "cscom asacoboul1 cscom asaco souban\n",
      "cscom asacoboul2 cscom asaco souban\n",
      "cscom asacodjan cscom asaco souban\n",
      "de sante cherifoula de sante cherifla\n",
      "cscom asacodou cscom asaco souban\n",
      "cscom asacokosa cscom asaco souban\n",
      "cscom asacos cscom asaco souban\n",
      "cscom asacosisou cscom asaco souban\n",
      "kaya aya\n",
      "cscom asacobag cscom asaco souban\n",
      "cscom asacohi cscom de asacohere\n",
      "salia daou salia daou\n",
      "cscom asacome cscom de asacohere\n"
     ]
    },
    {
     "name": "stderr",
     "output_type": "stream",
     "text": [
      "77it [00:00, 185.54it/s]"
     ]
    },
    {
     "name": "stdout",
     "output_type": "stream",
     "text": [
      "cscom asacomi cscom saminã¨\n",
      "ata anta\n",
      "cmie zone commune 2 cmie commune vi\n",
      "cscom boniaba cscom banani saba\n",
      "djiguiya djiguiya\n",
      "cscom gomi cscom koumi\n",
      "cscom asacobakon cscom asaco souban\n",
      "farako farako\n",
      "danaya danaya\n",
      "de consultation amppf de consultatation rapha\n",
      "cscom asacoob cscom asaco souban\n",
      "rosette la rosette\n",
      "de consultation cdt de consultations\n",
      "mutec sante mutec santã©\n"
     ]
    },
    {
     "name": "stderr",
     "output_type": "stream",
     "text": [
      "119it [00:00, 194.29it/s]"
     ]
    },
    {
     "name": "stdout",
     "output_type": "stream",
     "text": [
      "espoir ii espoir\n",
      "sagefemme niana sage-femme nacoura\n",
      "medico chirugicale source de vie mã©dicale source de vie\n",
      "sissmed -sante sissmed santã©\n",
      "cscom asacoka cscom asaco souban\n",
      "médical keneyaso mã©dical keneya blow\n",
      "cscom asacola1 cscom massantola\n",
      "cscom asacola2 cscom massantola\n",
      "cscom asacolab5 cscom massantola\n",
      "de soins niana de soins teriya\n"
     ]
    },
    {
     "name": "stderr",
     "output_type": "stream",
     "text": [
      "162it [00:00, 201.13it/s]"
     ]
    },
    {
     "name": "stdout",
     "output_type": "stream",
     "text": [
      "case djiguiya djiguiya\n",
      "hopital mali gavardo hã´pital mali gavardo\n",
      "les etoiles du mande les etoiles du mandã©\n",
      "mouna nouna\n",
      "cscom maternite hamdallaye cscom de hamdalaye\n",
      "cscom asacoda cscom asaco souban\n",
      "cscom asacoga cscom asaco souban\n",
      "bayaba baflaba\n",
      "safi safari\n",
      "cscom asacosab1 cscom asaco souban\n",
      "cscom asacosab2 cscom asaco souban\n",
      "cscom asacosab3 cscom asaco souban\n"
     ]
    },
    {
     "name": "stderr",
     "output_type": "stream",
     "text": [
      "203it [00:01, 201.81it/s]"
     ]
    },
    {
     "name": "stdout",
     "output_type": "stream",
     "text": [
      "teriya teriya\n",
      "cscom asacotoqua cscom asaco souban\n",
      "poly mohamed 5 poly mohamed v\n",
      "kala - djata kala djata\n",
      "djiguiya djiguiya\n",
      "cscom asaco-sodia cscom asaco souban\n",
      "cscom asacobafa cscom asaco souban\n",
      "banan banan\n",
      "teriya teriya\n",
      "nour nour\n",
      "bayo assa bayo assa\n",
      "cscom asacofa cscom asaco souban\n",
      "keneya keneya\n"
     ]
    },
    {
     "name": "stderr",
     "output_type": "stream",
     "text": [
      "263it [00:01, 191.97it/s]"
     ]
    },
    {
     "name": "stdout",
     "output_type": "stream",
     "text": [
      "cscom asacoma cscom asaco souban\n",
      "kolaba kolaba\n",
      "anta anta\n",
      "espoir espoir\n",
      "mallet keita dr mallet keita\n",
      "cscom asaconia cscom kafana\n",
      "keneyasso keneya so\n",
      "cscom asacose cscom de asacohere\n",
      "infirmerie garnison base aerienne 101 senou infirmerie garnison base aã©rienne 101 senou\n",
      "cscom asacoso cscom asaco souban\n",
      "atlas atlas\n",
      "djiguiya djiguiya\n",
      "médical mahadi mã©dical mahadi cm2\n"
     ]
    },
    {
     "name": "stderr",
     "output_type": "stream",
     "text": [
      "302it [00:01, 184.88it/s]"
     ]
    },
    {
     "name": "stdout",
     "output_type": "stream",
     "text": [
      "cscom bara cscom djidara\n",
      "cscom bentia cscom manta\n",
      "cscom fafa cscom kafana\n",
      "cscom golingo cscom tingole\n",
      "cscom hourara cscom touzana\n",
      "cscom labbézanga cscom de labbezanga\n",
      "cscom ouatagouna cscom touzana\n",
      "cscom tassiga cscom missira\n",
      "cscom bahondo cscom dandoli\n",
      "cscom barkaina cscom kafana\n",
      "cscom dangha cscom de sangha\n",
      "cscom gangano cscom de gargando\n",
      "cscom ha cscom\n"
     ]
    },
    {
     "name": "stderr",
     "output_type": "stream",
     "text": [
      "340it [00:01, 178.03it/s]"
     ]
    },
    {
     "name": "stdout",
     "output_type": "stream",
     "text": [
      "cscom hawa cscom manta\n",
      "cscom taboye cscom de taboye\n",
      "cscom tinsako cscom tingole\n",
      "cscom agdilinta cscom manta\n",
      "cscom aljanabandja cscom aldjanabadia\n",
      "cscom berrah cs/com berrah\n",
      "cscom boya cscom mercoya\n",
      "cscom diebock cscom de soke\n",
      "cscom djidara cscom djidara\n",
      "cscom dorey cscom de gory\n",
      "cscom doro cscom diora\n",
      "cscom gaina cscom manta\n",
      "cscom magnadoué cscom manta\n",
      "cscom samit cscom saminã¨\n"
     ]
    },
    {
     "name": "stderr",
     "output_type": "stream",
     "text": [
      "378it [00:02, 165.63it/s]"
     ]
    },
    {
     "name": "stdout",
     "output_type": "stream",
     "text": [
      "cscom sossokoira cscom sidosoninkoura\n",
      "cscom tin aouker cscom tingole\n",
      "cscom zinda cscom de ziena\n",
      "cscom diakaba cscom de kamba\n",
      "cscom diakitela cscom de diaka\n",
      "cscom diokeli cscom de soke\n",
      "cscom gounfan cscom touzana\n",
      "cscom kobokoto cscom de kobokotossou\n",
      "cscom koundian cscom koumi\n",
      "cscom madinakouta cscom manta\n",
      "cscom mahina cscom manta\n",
      "cscom manantali cscom manta\n",
      "cscom marena cscom de marena\n",
      "cscom oualia cscom touzana\n",
      "cscom ouassala cscom massantola\n"
     ]
    },
    {
     "name": "stderr",
     "output_type": "stream",
     "text": [
      "413it [00:02, 164.79it/s]"
     ]
    },
    {
     "name": "stdout",
     "output_type": "stream",
     "text": [
      "cscom bema cs/com berrah\n",
      "cscom dioumara cscom diora\n",
      "cscom diema central cscom de diã©ma central\n",
      "mohamed v poly mohamed v\n",
      "cscom dieoura cscom diora\n",
      "cscom farabougou cscom de diamarabougou\n",
      "cscom fatao cscom manta\n",
      "cscom kassékara cscom de kaara\n",
      "cscom koungo cscom koumi\n",
      "cscom lakamane cscom kafana\n",
      "cscom tinkare cscom tingole\n",
      "cscom ambidedi-poste cscom de ambidedi poste\n",
      "cscom ambidedikore cscom d'ambidedi khore\n",
      "cscom aourou cscom de ouroun\n"
     ]
    },
    {
     "name": "stderr",
     "output_type": "stream",
     "text": [
      "446it [00:02, 154.39it/s]"
     ]
    },
    {
     "name": "stdout",
     "output_type": "stream",
     "text": [
      "cscom babala cscom de bamba\n",
      "cscom bafarara cscom kafana\n",
      "cscom batama cscom manta\n",
      "cscom dagassenou cscom de dakassenou\n",
      "cscom dialakasso cscom de kabarasso\n",
      "cscom dialane cscom dioncoulane\n",
      "cscom diamou cscom d'aliou\n",
      "cscom diboli cscom dandoli\n",
      "cscom dramane cscom de dramanã©\n",
      "de santé de sobocou de sante de boura\n",
      "cscom fegui cscom de fegui\n",
      "cscom goumera cscom mercoya\n",
      "cscom gounka cscom de gouka\n",
      "cscom goussela cscom de tousseguela\n",
      "cscom kakadian cscom de kakadian\n",
      "cscom kobokotossou cscom de kobokotossou\n",
      "cscom kouloun cscom de ouroun\n"
     ]
    },
    {
     "name": "stderr",
     "output_type": "stream",
     "text": [
      "483it [00:02, 158.44it/s]"
     ]
    },
    {
     "name": "stdout",
     "output_type": "stream",
     "text": [
      "cscom lany-tounka cscom de lany tounka\n",
      "cscom leya cscom mercoya\n",
      "cscom sadiola cscom diora\n",
      "cscom segala cscom seriwala\n",
      "cscom serenaty cscom de marena\n",
      "cscom sero cscom mercoya\n",
      "cscom tafassirga cscom missira\n",
      "cscom troun cscom touzana\n",
      "cscom balandougou cscom de kabalabougou\n",
      "cscom dabia cscom diora\n",
      "cscom dialafara cscom djidara\n",
      "cscom djibrouya cscom djidara\n",
      "cscom dombia cscom diora\n"
     ]
    },
    {
     "name": "stderr",
     "output_type": "stream",
     "text": [
      "521it [00:02, 166.53it/s]"
     ]
    },
    {
     "name": "stdout",
     "output_type": "stream",
     "text": [
      "cscom fadougou cscom de togou\n",
      "cscom falea cscom kafana\n",
      "cscom golea cscom tingole\n",
      "cscom guene-gore cscom toguere\n",
      "cscom kassama cscom kafana\n",
      "cscom kenieba central cscom de diã©ma central\n",
      "médical keneyasso mã©dical keneya blow\n",
      "lafia lafia\n",
      "médical keneyaboulo mã©dical keneya blow\n",
      "cscom yatera cscom manta\n",
      "cscom balandougou cscom de kabalabougou\n"
     ]
    },
    {
     "name": "stderr",
     "output_type": "stream",
     "text": [
      "556it [00:03, 149.92it/s]"
     ]
    },
    {
     "name": "stdout",
     "output_type": "stream",
     "text": [
      "cscom dafela cscom de kola\n",
      "cscom djidian cscom djidara\n",
      "cscom fladougou marena cscom de marena\n",
      "cscom founia moribougou cscom de gounambougou\n",
      "cscom goro cscom de gory\n",
      "cscom guenikoro cscom de dioro\n",
      "cscom kassaro cscom massantola\n",
      "cscom kobri cscom koumi\n",
      "cscom kokofata cscom kafana\n",
      "cscom kotouba cscom touzana\n",
      "cscom madina cscom de madina\n",
      "cscom makono cscom manta\n",
      "cscom namala cscom manta\n",
      "cscom niantasso cscom manta\n",
      "cscom sandiambougou cscom de diamarabougou\n",
      "cscom sebekoro cscom sebecoro 1\n",
      "cscom souranzan cscom touzana\n",
      "cscom tambaga cscom de etambar\n"
     ]
    },
    {
     "name": "stderr",
     "output_type": "stream",
     "text": [
      "589it [00:03, 153.75it/s]"
     ]
    },
    {
     "name": "stdout",
     "output_type": "stream",
     "text": [
      "cscom toukoto cscom de kokonto\n",
      "cscom assatiemala cscom massantola\n",
      "cscom diabidiala cscom djidara\n",
      "cscom diarah cscom djidara\n",
      "cscom diaye coura cscom de koura\n",
      "cscom fosse karta cscom de kaara\n",
      "cscom gogui cscom koumi\n",
      "cscom guetema cscom toguere\n",
      "cscom kouroukere cscom toguere\n",
      "cscom monzombougou cscom de gounambougou\n",
      "cscom sandare cscom de kangare\n",
      "cscom tourourou cscom de tourougoumbe\n",
      "cscom troungoumbe cscom de tourougoumbe\n",
      "cscom yerere cscom de arabere\n",
      "cscom youri cscom koumi\n"
     ]
    },
    {
     "name": "stderr",
     "output_type": "stream",
     "text": [
      "623it [00:03, 158.03it/s]"
     ]
    },
    {
     "name": "stdout",
     "output_type": "stream",
     "text": [
      "cscom bendougou cscom de nounou\n",
      "cscom diakon cscom diora\n",
      "cscom diallan cscom djidara\n",
      "cscom douale cscom de boulal\n",
      "cscom demeke cscom de demeke\n",
      "cscom kolondinkoye cscom de kolondieba\n",
      "cscom madalaya cscom/hamdalaye\n",
      "cscom modinkanou cscom de diankabou\n",
      "cscom oussibidiagna cscom de oussoubidiagna\n",
      "cscom tigana cscom touzana\n",
      "cscom touba - oussoubidiagnia cscom de oussoubidiagna\n",
      "cscom trentimou cscom de temou\n",
      "cscom kabalea cscom kafana\n",
      "cscom sanfinia cscom kafana\n",
      "cscom segouna cscom de gouka\n",
      "cscom diougounte cscom dioncoulane\n",
      "cscom djougoun cscom de ouroun\n"
     ]
    },
    {
     "name": "stderr",
     "output_type": "stream",
     "text": [
      "658it [00:03, 159.88it/s]"
     ]
    },
    {
     "name": "stdout",
     "output_type": "stream",
     "text": [
      "cscom badiougoula cscom dioncoulane\n",
      "cscom dialaka cscom de diaka\n",
      "cscom dioncoulane cscom dioncoulane\n",
      "cscom diongaga cscom diora\n",
      "cscom dogofri cscom de gari\n",
      "cscom fanga cscom kafana\n",
      "cscom gory cscom de gory\n",
      "cscom kirane cscom de kirango\n",
      "cscom kremis cscom koumi\n",
      "djiguiya djiguiya\n",
      "yonki saha yonki saha\n",
      "cscom lambatra cscom manta\n",
      "cscom niogomera cscom diora\n",
      "cscom sambaga cscom de sampaga\n",
      "cscom takaba cscom de kamba\n"
     ]
    },
    {
     "name": "stderr",
     "output_type": "stream",
     "text": [
      "692it [00:04, 160.55it/s]"
     ]
    },
    {
     "name": "stdout",
     "output_type": "stream",
     "text": [
      "cscom tambacara cscom de etambar\n",
      "cscom yaguine cscom de yaguinã©\n",
      "cscom yelimane central cscom de diã©ma central\n",
      "cscom abeibara central cscom de diã©ma central\n",
      "cscom aliou cscom d'aliou\n",
      "cscom essouk cscom de soke\n",
      "cscom etambar cscom de etambar\n",
      "cscom kidal central cscom de diã©ma central\n",
      "cscom imboulal cscom de boulal\n",
      "cscom tin-essako tin-essako\n",
      "cscom boron cscom de ouroun\n",
      "cscom dampha cscom de sampaga\n",
      "cscom dangado cscom dandoli\n"
     ]
    },
    {
     "name": "stderr",
     "output_type": "stream",
     "text": [
      "725it [00:04, 154.39it/s]"
     ]
    },
    {
     "name": "stdout",
     "output_type": "stream",
     "text": [
      "cscom kerouane cscom de ouroun\n",
      "cscom kiban cscom kafana\n",
      "cscom ntiele cscom tingole\n",
      "cscom ouaro cscom de ouroun\n",
      "cscom ouleni cscom koumi\n",
      "cscom tota cscom touzana\n",
      "cscom touba cscom touzana\n",
      "cscom bole cscom tingole\n",
      "cscom degnekoro cscom de gory\n",
      "cscom diagaréla cscom djidara\n",
      "cscom dioila central cscom de diã©ma central\n",
      "cscom dioko cscom diora\n",
      "cscom fissaba cscom missira\n",
      "cscom kle cscom pel\n",
      "cscom kola cscom de kola\n",
      "cscom kounabougou cscom de gounambougou\n",
      "cscom maban cscom manta\n"
     ]
    },
    {
     "name": "stderr",
     "output_type": "stream",
     "text": [
      "756it [00:04, 136.45it/s]"
     ]
    },
    {
     "name": "stdout",
     "output_type": "stream",
     "text": [
      "médical baniko mã©dical bakoro\n",
      "cscom n'tobougou cscom d'att bougou\n",
      "cscom niantjila cscom manta\n",
      "cscom sanankoro cscom bananisabakoro\n",
      "cscom senou cscom de nounou\n",
      "cscom seribila cscom seriwala\n",
      "cscom togo cscom de togou\n",
      "cscom toukoro cscom toguere\n",
      "cscom beleco cscom pel\n",
      "cscom dandougou cscom de nounou\n",
      "cscom diebe cscom de taboye\n",
      "cscom diele cscom pel\n",
      "cscom djoumazana cscom touzana\n",
      "cscom falako cscom de falo\n",
      "de consultation liberte de consultations\n",
      "cscom fana cscom kafana\n",
      "cscom kankoni cscom dandoli\n",
      "cscom kerela cscom de tourela\n"
     ]
    },
    {
     "name": "stderr",
     "output_type": "stream",
     "text": [
      "789it [00:04, 146.42it/s]"
     ]
    },
    {
     "name": "stdout",
     "output_type": "stream",
     "text": [
      "cscom koni cscom koumi\n",
      "cscom konkon cscom de kokonto\n",
      "cscom korokoro cscom de beko sokoro\n",
      "cscom kotoula cscom de kola\n",
      "cscom mena cscom manta\n",
      "cscom nangola cscom tingole\n",
      "cscom seyla cscom pel\n",
      "cscom tingole cscom tingole\n",
      "cscom toukoro cscom toguere\n",
      "cscom dialakorobougou cscom de diamarabougou\n",
      "cscom gouana cscom touzana\n",
      "cscom kabala cscom kafana\n",
      "cscom n'tabacoro att bougou cscom d'att bougou\n",
      "cscom niamana cscom manta\n",
      "cscom tanima cscom touzana\n",
      "cscom tourela cscom de tourela\n"
     ]
    },
    {
     "name": "stderr",
     "output_type": "stream",
     "text": [
      "821it [00:04, 140.46it/s]"
     ]
    },
    {
     "name": "stdout",
     "output_type": "stream",
     "text": [
      "cscom  banancoro cscom bananisabakoro\n",
      "cscom danga cscom de sangha\n",
      "cscom karan cscom kafana\n",
      "cscom kouremale cscom koumi\n",
      "cscom manicoura cscom diora\n",
      "cscom narena cscom de marena\n",
      "cscom samaya cscom de sampaga\n",
      "cscom bancoumana cscom touzana\n",
      "cscom bassabougou cscom de kabalabougou\n",
      "cscom daban cscom de bamba\n",
      "cscom diago cscom diora\n",
      "cscom dio gare cscom de gari\n",
      "cscom dio-ba cscom diora\n",
      "cscom djiguidala cscom djidara\n",
      "cscom djoliba cscom de kola\n",
      "cscom dogodouma cscom de togou\n",
      "cscom dombila cscom de kola\n"
     ]
    },
    {
     "name": "stderr",
     "output_type": "stream",
     "text": [
      "\r",
      "836it [00:05, 137.82it/s]"
     ]
    },
    {
     "name": "stdout",
     "output_type": "stream",
     "text": [
      "cscom doubabougou cscom de gounambougou\n",
      "cscom farabana cscom kafana\n",
      "cscom kabalabougou cscom de kabalabougou\n",
      "cscom kalifabougou cscom de kabalabougou\n",
      "cscom kati koko cscom kani kogouna\n",
      "cscom koursalé cscom de koura\n",
      "cscom malibougou cscom de kabalabougou\n",
      "cscom neguela cscom de tourela\n",
      "cscom siby cscom de tiby\n",
      "cscom didieni cscom de diarani\n",
      "cscom doubabougou cscom de gounambougou\n",
      "cscom doubala cscom de boulal\n",
      "cscom koumi cscom koumi\n"
     ]
    },
    {
     "name": "stderr",
     "output_type": "stream",
     "text": [
      "871it [00:05, 147.00it/s]"
     ]
    },
    {
     "name": "stdout",
     "output_type": "stream",
     "text": [
      "cscom manta cscom manta\n",
      "cscom massantola cscom massantola\n",
      "cscom mercoya cscom mercoya\n",
      "cscom niogona cscom kani kogouna\n",
      "cscom sabougou cscom d'att bougou\n",
      "cscom samantara cscom manta\n",
      "cscom sebekoro i cscom sebecoro 1\n",
      "cscom seriwala cscom seriwala\n",
      "cscom tioribougou cscom de sibiribougou\n",
      "cscom toussana cscom touzana\n",
      "cscom dialakoro cscom diora\n",
      "cscom doumba cscom diora\n",
      "cscom fougala cscom touzana\n",
      "cscom kamani cscom kafana\n",
      "cscom kolebougou cscom de kabalabougou\n",
      "santé pour tous () santã© pour tous\n",
      "cscom massala cscom massantola\n"
     ]
    },
    {
     "name": "stderr",
     "output_type": "stream",
     "text": [
      "918it [00:05, 149.33it/s]"
     ]
    },
    {
     "name": "stdout",
     "output_type": "stream",
     "text": [
      "cscom nyamina cscom saminã¨\n",
      "cscom souban cscom touzana\n",
      "cscom seguela cscom de tousseguela\n",
      "cscom tombougou cscom d'att bougou\n",
      "cscom tougouni cscom de togou\n",
      "cscom zana cscom touzana\n",
      "cscom allahina cscom kafana\n",
      "cscom boulal cscom de boulal\n",
      "cscom dalibougou cscom d'aliou\n",
      "cscom digan cscom diora\n",
      "cscom fallou cscom de falo\n",
      "cscom goumbou cscom de gounambougou\n",
      "cscom guire cscom toguere\n",
      "cscom kaloumba cscom koumi\n"
     ]
    },
    {
     "name": "stderr",
     "output_type": "stream",
     "text": [
      "950it [00:05, 152.26it/s]"
     ]
    },
    {
     "name": "stdout",
     "output_type": "stream",
     "text": [
      "cscom karfabougou cscom de kabalabougou\n",
      "cscom koira cscom diora\n",
      "cscom sampaga cscom de sampaga\n",
      "cscom sekolo cscom de kola\n",
      "cscom sountiana cscom touzana\n",
      "cscom waourou cscom de ouroun\n",
      "cscom baala cscom kafana\n",
      "cscom dangassa cscom de sangha\n",
      "cscom dialakoroba cscom diora\n",
      "cscom digan cscom diora\n",
      "cscom kafara cscom kafana\n",
      "cscom kourouba cscom de kourouma\n",
      "cscom mana cscom manta\n",
      "cscom marako cscom manta\n",
      "cscom tinkele cscom tingole\n"
     ]
    },
    {
     "name": "stderr",
     "output_type": "stream",
     "text": [
      "991it [00:05, 174.23it/s]"
     ]
    },
    {
     "name": "stdout",
     "output_type": "stream",
     "text": [
      "cscom tiele cscom tingole\n",
      "cscom aladi cscom aldjanabadia\n",
      "cscom tinagaroft cscom tingole\n",
      "cscom emissemis cscom missira\n",
      "cscom imakara cscom djidara\n",
      "cscom inagade cscom tingole\n",
      "cscom inekar cscom de kaara\n",
      "cscom madina cscom de madina\n",
      "cscom mka central cscom de diã©ma central\n",
      "cscom tinéloine cscom tingole\n"
     ]
    },
    {
     "name": "stderr",
     "output_type": "stream",
     "text": [
      "1029it [00:06, 160.22it/s]"
     ]
    },
    {
     "name": "stdout",
     "output_type": "stream",
     "text": [
      "cscom tegueret cscom toguere\n",
      "cscom tidemene cscom de demeke\n",
      "cscom bendjeli cscom de bendiely\n",
      "cscom bourgouma cscom de kourouma\n",
      "cscom dandoli cscom dandoli\n",
      "cscom diankassagou cscom de diankabou\n",
      "cscom dourou cscom de ouroun\n",
      "cscom de cscom pel\n",
      "cscom goundaka cscom de gouka\n",
      "cscom iby cscom de tiby\n",
      "cscom ireli cscom pel\n",
      "cscom kamba cscom de kamba\n",
      "cscom kani g cscom kani kogouna\n",
      "cscom kendie cscom de bendiely\n",
      "cscom mory cscom de gory\n",
      "cscom nando cscom dandoli\n",
      "cscom ningari cscom de gari\n",
      "cscom ondougou cscom de togou\n",
      "cscom ouo cscom koumi\n",
      "cscom ouroly"
     ]
    },
    {
     "name": "stderr",
     "output_type": "stream",
     "text": [
      "1062it [00:06, 149.30it/s]"
     ]
    },
    {
     "name": "stdout",
     "output_type": "stream",
     "text": [
      " cscom de koury\n",
      "cscom pelou cscom pel\n",
      "cscom sangha cscom de sangha\n",
      "cscom tabi tongo cscom tingole\n",
      "cscom diallaye cscom/hamdalaye\n",
      "cscom dimbal cscom diora\n",
      "cscom dounde cscom dioncoulane\n",
      "cscom kani bonzon cscom kani kogouna\n",
      "cscom koulou cscom koumi\n",
      "cscom pissa cscom missira\n",
      "cscom sama cscom saminã¨\n",
      "cscom sokoura_b cscom de koura\n",
      "cscom soubala cscom touzana\n",
      "cscom tori cscom toguere\n",
      "cscom yira cscom diora\n",
      "cscom gagna cscom manta\n"
     ]
    },
    {
     "name": "stderr",
     "output_type": "stream",
     "text": [
      "1094it [00:06, 146.33it/s]"
     ]
    },
    {
     "name": "stdout",
     "output_type": "stream",
     "text": [
      "cscom kandara cscom de kaara\n",
      "cscom koa cscom de kola\n",
      "cscom konio cscom koumi\n",
      "cscom kouima cscom koumi\n",
      "cscom keke cscom de soke\n",
      "cscom madiama cscom de madina\n",
      "cscom mougna cscom touzana\n",
      "cscom mourrah cs/com berrah\n",
      "cscom soala cscom seriwala\n",
      "cscom sofara cscom diora\n",
      "cscom taga cscom touzana\n",
      "cscom tako cscom manta\n",
      "cscom tomina cscom touzana\n",
      "cscom boni cscom koumi\n",
      "cscom bore cscom toguere\n",
      "cscom douna cscom touzana\n",
      "cscom debere cscom de arabere\n"
     ]
    },
    {
     "name": "stderr",
     "output_type": "stream",
     "text": [
      "1126it [00:06, 148.60it/s]"
     ]
    },
    {
     "name": "stdout",
     "output_type": "stream",
     "text": [
      "cscom kerena cscom de marena\n",
      "cscom ngouma cscom koumi\n",
      "cscom nokara cscom diora\n",
      "cscom oualo cscom de boulal\n",
      "cscom petaka cscom de tonka\n",
      "cscom tarabe cscom de arabere\n",
      "cscom tiguila cscom tingole\n",
      "cscom amba cscom de bamba\n",
      "cscom bamba koro cscom bananisabakoro\n",
      "cscom dangatene cscom de kangare\n",
      "cscom diankabou cscom de diankabou\n",
      "cscom dinangourou cscom de  ngorkou\n",
      "cscom dioungani cscom diora\n",
      "cscom kassa saou cscom asaco souban\n",
      "cscom mbana cscom manta\n",
      "cscom madougou cscom de togou\n",
      "cscom tinsagou cscom tingole\n"
     ]
    },
    {
     "name": "stderr",
     "output_type": "stream",
     "text": [
      "1161it [00:07, 157.10it/s]"
     ]
    },
    {
     "name": "stdout",
     "output_type": "stream",
     "text": [
      "cscom yoro cscom diora\n",
      "cscom youdiou cscom d'aliou\n",
      "cscom fatoma cscom manta\n",
      "cscom kakagna cscom kafana\n",
      "cscom konna cscom kafana\n",
      "cscom kontza cscom manta\n",
      "cscom medina coura mopti cscom de medina-coura\n",
      "cscom ouro modi cscom koumi\n",
      "cscom sampara cscom de sampaga\n",
      "cscom sare dina cscom de madina\n",
      "cscom sare mala cscom de missala\n",
      "les etoiles les ã©toiles\n",
      "cscom sokoura cscom de koura\n",
      "cscom soye cscom de soke\n"
     ]
    },
    {
     "name": "stderr",
     "output_type": "stream",
     "text": [
      "1193it [00:07, 153.12it/s]"
     ]
    },
    {
     "name": "stdout",
     "output_type": "stream",
     "text": [
      "brigo brico\n",
      "cscom toguel cscom toguere\n",
      "cscom dia cscom diora\n",
      "cscom diafarabe cscom djidara\n",
      "cscom diondiori cscom dandoli\n",
      "cscom dioura cscom diora\n",
      "cscom kadial cscom de kadiana\n",
      "cscom kora cscom diora\n",
      "cscom koubi cscom koumi\n",
      "cscom malimana cscom manta\n",
      "cscom tenenkou cscom de nounou\n",
      "cscom toguere coumbe cscom toguere\n",
      "cscom walo cscom de falo\n",
      "cscom dogo cscom de togou\n",
      "cscom faou cscom de falo\n",
      "cscom kormou cscom koumi\n"
     ]
    },
    {
     "name": "stderr",
     "output_type": "stream",
     "text": [
      "1225it [00:07, 148.52it/s]"
     ]
    },
    {
     "name": "stdout",
     "output_type": "stream",
     "text": [
      "cscom bamba cscom de bamba\n",
      "cscom banzana cscom banani saba\n",
      "cscom beco cscom mercoya\n",
      "cscom bougoula cscom de boulal\n",
      "cscom bougouni nord cscom de bougouni nord\n",
      "cscom bougouni ouest cscom de bougouni nord\n",
      "cscom bougouni sud cscom de bougouni nord\n",
      "cscom defina cscom de ziena\n",
      "cscom diban cscom diora\n",
      "cscom dogo cscom de togou\n",
      "cscom domba cscom diora\n",
      "cscom kalako cscom de kalakã¨\n",
      "cscom kola cscom de kola\n",
      "cscom kouale cscom koumi\n",
      "cscom koumantou cscom de koumantou\n",
      "cscom keleya cscom pel\n",
      "cscom mafele cscom pel\n",
      "cscom mamissa"
     ]
    },
    {
     "name": "stderr",
     "output_type": "stream",
     "text": [
      "1255it [00:07, 142.52it/s]"
     ]
    },
    {
     "name": "stdout",
     "output_type": "stream",
     "text": [
      " cscom missira\n",
      "cscom manankoro cscom bananisabakoro\n",
      "cscom meridiela cscom seriwala\n",
      "cscom oure cscom toguere\n",
      "cscom ouroumpana cscom de kourouma\n",
      "cscom ouroun cscom de ouroun\n",
      "cscom sido cscom de sido\n",
      "cscom tiefala cscom de falo\n",
      "cscom toba cscom touzana\n",
      "cscom todougou kolondie cscom de kolondieba\n",
      "cscom wola cscom de kola\n",
      "cscom zantiebougou cscom d'att bougou\n",
      "cscom bananso cscom banani saba\n",
      "cscom diou cscom d'aliou\n",
      "cscom dioumatene cscom dioncoulane\n",
      "cscom fourou cscom de ouroun\n",
      "cscom gouene cscom toguere\n",
      "djiguiya djiguiya\n",
      "cscom kai cscom koumi\n",
      "cscom katiele cscom tingole\n"
     ]
    },
    {
     "name": "stderr",
     "output_type": "stream",
     "text": [
      "1285it [00:07, 138.72it/s]"
     ]
    },
    {
     "name": "stdout",
     "output_type": "stream",
     "text": [
      "cscom katele cscom pel\n",
      "cscom kebeni cscom de bendiely\n",
      "cscom lanfiala cscom de lafia\n",
      "cscom lofigue cscom toguere\n",
      "cscom loulouni cscom de ouroun\n",
      "cscom misseni cscom missira\n",
      "cscom n'goko cscom de  ngorkou\n",
      "cscom nimbougou cscom de gounambougou\n",
      "cscom zegoua cscom de gouka\n",
      "cscom dogoni cscom de togou\n",
      "cscom doumanaba cscom touzana\n",
      "cscom kabarasso cscom de kabarasso\n",
      "keneya keneya\n",
      "cscom koumankou cscom de koumantou\n",
      "cscom kourouma cscom de kourouma\n",
      "cscom n'gana cscom manta\n",
      "cscom sanzana cscom kafana\n",
      "cscom tella cscom pel\n"
     ]
    },
    {
     "name": "stderr",
     "output_type": "stream",
     "text": [
      "1315it [00:08, 139.39it/s]"
     ]
    },
    {
     "name": "stdout",
     "output_type": "stream",
     "text": [
      "cscom bougoula cscom de boulal\n",
      "cscom diaka cscom de diaka\n",
      "cscom dialakoroba cscom diora\n",
      "cscom fakola cscom de kola\n",
      "cscom gourouko cscom de ouroun\n",
      "cscom kaara cscom de kaara\n",
      "cscom kadiana cscom de kadiana\n",
      "cscom kebila cscom seriwala\n",
      "cscom massala cscom massantola\n",
      "cscom mena-kolondieba cscom de kolondieba\n",
      "cscom niakourazana cscom touzana\n",
      "cscom tiongui cscom tingole\n",
      "cscom tousseguela cscom de tousseguela\n",
      "cscom toutiala cscom touzana\n",
      "cscom zeguere cscom toguere\n",
      "cscom baramba cscom de bamba\n"
     ]
    },
    {
     "name": "stderr",
     "output_type": "stream",
     "text": [
      "1344it [00:08, 131.12it/s]"
     ]
    },
    {
     "name": "stdout",
     "output_type": "stream",
     "text": [
      "cscom djitamana cscom djidara\n",
      "cscom fonfana cscom kafana\n",
      "cscom garasso cscom de kabarasso\n",
      "cscom hamdallaye cscom/hamdalaye\n",
      "cscom karagouana cscom kafana\n",
      "cscom karangasso cscom kafana\n",
      "cscom koko cscom de kokonto\n",
      "cscom koloni cscom koumi\n",
      "cscom konina cscom koumi\n",
      "cscom konseguela cscom de tousseguela\n",
      "cscom kouniana cscom touzana\n",
      "cscom kouo cscom koumi\n",
      "cscom leleni cscom pel\n",
      "cscom medina coura cscom de medina-coura\n",
      "cscom miena cscom manta\n",
      "cscom oula cscom de boulal\n"
     ]
    },
    {
     "name": "stderr",
     "output_type": "stream",
     "text": [
      "1375it [00:08, 139.21it/s]"
     ]
    },
    {
     "name": "stdout",
     "output_type": "stream",
     "text": [
      "cscom sanguela cscom de sangha\n",
      "cscom sinkolo cscom tingole\n",
      "cscom sogomougou cscom de gounambougou\n",
      "lafia lafia\n",
      "cscom tiere cscom toguere\n",
      "cscom zanina cscom touzana\n",
      "cscom zanzoni cscom dandoli\n",
      "cscom ziena cscom de ziena\n",
      "cscom zebala cscom de bamba\n",
      "cscom banzana cscom banani saba\n",
      "cscom dembella cscom de bamba\n",
      "cscom doumanani cscom touzana\n",
      "cscom karangasso cscom kafana\n",
      "cscom kessana cscom kafana\n",
      "cscom kougnan cscom touzana\n",
      "cscom mandéla cscom manta\n",
      "cscom niena central cscom de diã©ma central\n",
      "cscom ntjikouna cscom touzana\n"
     ]
    },
    {
     "name": "stderr",
     "output_type": "stream",
     "text": [
      "1425it [00:08, 153.87it/s]"
     ]
    },
    {
     "name": "stdout",
     "output_type": "stream",
     "text": [
      "cscom zaniena cscom de ziena\n",
      "cscom diarani cscom de diarani\n",
      "cscom kangare cscom de kangare\n",
      "cscom madinakoun cscom de madina\n",
      "cscom sanankoroba cscom bananisabakoro\n",
      "cscom tagan cscom kafana\n",
      "cscom danderesso cscom dandoli\n",
      "cscom diomatene cscom diora\n",
      "cscom fama cscom kafana\n",
      "cscom fantarasso cscom de kabarasso\n",
      "cscom gueneba cscom toguere\n",
      "cscom kabalé cscom de kamba\n",
      "cscom kaboila cscom de kola\n"
     ]
    },
    {
     "name": "stderr",
     "output_type": "stream",
     "text": [
      "1460it [00:09, 156.79it/s]"
     ]
    },
    {
     "name": "stdout",
     "output_type": "stream",
     "text": [
      "cscom kafana cscom kafana\n",
      "cscom kapala cscom de kapala\n",
      "cscom klela cscom pel\n",
      "cscom loutana cscom touzana\n",
      "cscom mandela cscom manta\n",
      "cscom missirikoro cscom missira\n",
      "cscom nkourala cscom de koura\n",
      "cscom tiagala cscom tingole\n",
      "de soins ifm de soins\n",
      "cscom badogo cscom de togou\n",
      "cscom balanfina cscom de lafia\n",
      "cscom doussoudiana cscom de oussoubidiagna\n",
      "cscom filamana cscom manta\n",
      "cscom kabaya cscom kafana\n"
     ]
    },
    {
     "name": "stderr",
     "output_type": "stream",
     "text": [
      "1492it [00:09, 150.45it/s]"
     ]
    },
    {
     "name": "stdout",
     "output_type": "stream",
     "text": [
      "cscom kalana cscom kafana\n",
      "cscom kokoun cscom de kokonto\n",
      "cscom lontola cscom massantola\n",
      "cscom mdiassa cscom missira\n",
      "cscom tieoulena cscom tingole\n",
      "cscom boura cscom diora\n",
      "cscom douna cscom touzana\n",
      "cscom gouele cscom tingole\n",
      "cscom karangana cscom kafana\n",
      "cscom koumbia cscom koumi\n",
      "cscom koury cscom de koury\n",
      "cscom marena cscom de marena\n",
      "cscom menamba i cscom de bamba\n",
      "cscom ourikela cscom de tourela\n",
      "cscom sanwa cscom manta\n"
     ]
    },
    {
     "name": "stderr",
     "output_type": "stream",
     "text": [
      "1523it [00:09, 133.01it/s]"
     ]
    },
    {
     "name": "stdout",
     "output_type": "stream",
     "text": [
      "cscom tendio cscom diora\n",
      "cscom banido cscom dandoli\n",
      "cscom djela cscom de kola\n",
      "cscom dotembougou cscom d'att bougou\n",
      "cscom dougoufe cscom de togou\n",
      "cscom dougounikoro cscom de bougouni nord\n",
      "cscom garna cscom manta\n",
      "cscom kalake cscom de kalakã¨\n",
      "cscom kodougouni cscom de ouroun\n",
      "cscom konobougou cscom de gounambougou\n",
      "cscom kourale cscom de koura\n",
      "cscom m'pebougou cscom d'att bougou\n",
      "cscom moabougou cscom d'att bougou\n",
      "cscom n'gassola cscom massantola\n",
      "cscom nianzana cscom kafana\n",
      "cscom sanando cscom dandoli\n",
      "cscom seguela cscom de tousseguela\n",
      "cscom tamani cscom manta\n"
     ]
    },
    {
     "name": "stderr",
     "output_type": "stream",
     "text": [
      "1552it [00:09, 127.55it/s]"
     ]
    },
    {
     "name": "stdout",
     "output_type": "stream",
     "text": [
      "cscom tesserela cscom seriwala\n",
      "cscom yerebougou cscom de sibiribougou\n",
      "cscom diaramana cscom djidara\n",
      "cscom diedala cscom djidara\n",
      "cscom diena cscom de ziena\n",
      "cscom dougouolo cscom de togou\n",
      "cscom falo cscom de falo\n",
      "cscom fani cscom kafana\n",
      "cscom kamona cscom kafana\n",
      "cscom kazangasso cscom kafana\n",
      "cscom kemeni cscom koumi\n",
      "cscom koutienso cscom koumi\n",
      "cscom marela cscom de marena\n",
      "cscom niala cscom seriwala\n",
      "cscom sambala cscom de sampaga\n"
     ]
    },
    {
     "name": "stderr",
     "output_type": "stream",
     "text": [
      "1580it [00:10, 125.56it/s]"
     ]
    },
    {
     "name": "stdout",
     "output_type": "stream",
     "text": [
      "cscom somasso cscom massantola\n",
      "cscom tassona cscom touzana\n",
      "cscom tienabougou cscom de gounambougou\n",
      "cscom touna cscom touzana\n",
      "cscom bertha cs/com berrah\n",
      "cscom folomana cscom manta\n",
      "cscom kara cscom de kaara\n",
      "cscom kermetogo cscom de togou\n",
      "cscom koe cscom koumi\n",
      "cscom kokry cscom de koury\n",
      "cscom kolongo cscom de kokonto\n",
      "de soins lafia de soins teriya\n",
      "cscom matomo cscom manta\n",
      "cscom nono cscom de nounou\n",
      "cscom oulan cscom touzana\n",
      "cscom souleye cscom toguere\n",
      "cscom soumouni cscom koumi\n",
      "cscom tongue cscom toguere\n",
      "cscom touhara cscom touzana\n"
     ]
    },
    {
     "name": "stderr",
     "output_type": "stream",
     "text": [
      "1606it [00:10, 119.55it/s]"
     ]
    },
    {
     "name": "stdout",
     "output_type": "stream",
     "text": [
      "cscom babougou cscom d'att bougou\n",
      "cscom diamarabougou cscom de diamarabougou\n",
      "de soins keneya de soins teriya\n",
      "cscom dioro cscom diora\n",
      "cscom djibougou cscom d'att bougou\n",
      "cscom dougabougou cscom de gounambougou\n",
      "cscom doura cscom diora\n",
      "cscom kirango cscom de kirango\n",
      "cscom koila cscom de kola\n",
      "cscom konou cscom koumi\n",
      "cscom markanibougou cscom de diamarabougou\n",
      "cscom sagala cscom seriwala\n",
      "cscom sibila cscom seriwala\n",
      "cscom soke cscom de soke\n",
      "cscom temou cscom de temou\n",
      "cscom tiby cscom de tiby\n",
      "cscom togou cscom de togou\n",
      "cscom zanabougou cscom de kabalabougou\n",
      "cscom diabaly cscom de tiby\n"
     ]
    },
    {
     "name": "stderr",
     "output_type": "stream",
     "text": [
      "1639it [00:10, 138.50it/s]"
     ]
    },
    {
     "name": "stdout",
     "output_type": "stream",
     "text": [
      "cscom dogofry cscom de gory\n",
      "cscom dougouba cscom de togou\n",
      "cscom k2 cscom\n",
      "cscom kourouma cscom de kourouma\n",
      "cscom massarazana cscom massantola\n",
      "cscom nampala cscom de kapala\n",
      "cscom n'debougou cscom de togou\n",
      "djigiya djiguiya\n",
      "infirmerie crra infirmerie\n",
      "keneya keneya\n",
      "cscom siribala cscom seriwala\n"
     ]
    },
    {
     "name": "stderr",
     "output_type": "stream",
     "text": [
      "1673it [00:10, 149.36it/s]"
     ]
    },
    {
     "name": "stdout",
     "output_type": "stream",
     "text": [
      "infirmerie de sukala infirmerie de sananfara\n",
      "cscom dah cscom diora\n",
      "cscom diakourouna cscom de kourouma\n",
      "cscom dieli cscom pel\n",
      "cscom djebala cscom de bamba\n",
      "cscom djeguena cscom de ziena\n",
      "cscom fion cscom diora\n",
      "cscom karaba cscom kafana\n",
      "cscom kassorola cscom massantola\n",
      "cscom kimparana cscom kafana\n",
      "cscom madina cscom de madina\n",
      "médicale santoro mã©dical santoro\n",
      "cscom sy cscom\n"
     ]
    },
    {
     "name": "stderr",
     "output_type": "stream",
     "text": [
      "1708it [00:10, 159.40it/s]"
     ]
    },
    {
     "name": "stdout",
     "output_type": "stream",
     "text": [
      "cscom tene cscom tingole\n",
      "cscom bananissaba somon cscom bananisabakoro\n",
      "de soins yaya de soins teriya\n",
      "cscom banankoro cscom bananisabakoro\n",
      "dispensaire catholique dispensaire de la mission catholique\n",
      "cscom diouna cscom diora\n",
      "maternité rurale de manzara maternite rurale de nansala\n",
      "cscom fatine cscom tingole\n",
      "cscom sidosoninkoura cscom sidosoninkoura\n",
      "cscom katiena cscom kafana\n",
      "cscom massala cscom massantola\n",
      "cscom medine cscom de mã©dine\n",
      "cscom digani cscom de gari\n"
     ]
    },
    {
     "name": "stderr",
     "output_type": "stream",
     "text": [
      "1742it [00:11, 161.69it/s]"
     ]
    },
    {
     "name": "stdout",
     "output_type": "stream",
     "text": [
      "cscom pelegana nord cscom pelengana nord\n",
      "keneya keneya\n",
      "cscom pelegana sud cscom pelengana nord\n",
      "cscom samine cscom saminã¨\n",
      "cscom sebougou cscom de togou\n",
      "cscom sekoro cscom sebecoro 1\n",
      "cscom souba cscom asaco souban\n",
      "cscom tongo cscom tingole\n",
      "cscom benena cscom de ziena\n",
      "cscom diamakan cscom de diaka\n",
      "cscom dienso cscom de soke\n",
      "cscom diora cscom diora\n",
      "cscom fangasso cscom kafana\n",
      "cscom lanfiala cscom de lafia\n",
      "cscom mandiakuy cscom manta\n"
     ]
    },
    {
     "name": "stderr",
     "output_type": "stream",
     "text": [
      "1776it [00:11, 154.32it/s]"
     ]
    },
    {
     "name": "stdout",
     "output_type": "stream",
     "text": [
      "cscom mankoina cscom manta\n",
      "cscom monisso cscom missira\n",
      "cscom ouan cscom touzana\n",
      "cscom timissa cscom missira\n",
      "cscom turula cscom de tourela\n",
      "cscom tetou cscom de togou\n",
      "cscom waramata cscom manta\n",
      "cscom al-matlaa cscom manta\n",
      "cscom liraka cscom diora\n",
      "cscom oudeika cscom de diaka\n",
      "cscom afirnane cscom kafana\n",
      "cscom el assba cscom de bamba\n",
      "cscom touwal cscom touzana\n",
      "cscom agouni cscom koumi\n",
      "cscom al ou la cscom de boulal\n",
      "cscom arham cscom de arham\n"
     ]
    },
    {
     "name": "stderr",
     "output_type": "stream",
     "text": [
      "1810it [00:11, 154.40it/s]"
     ]
    },
    {
     "name": "stdout",
     "output_type": "stream",
     "text": [
      "cscom bourem sidi amar bourem sidi amar\n",
      "cscom dangha cscom de sangha\n",
      "cscom darsalam cscom de arham\n",
      "cscom dire cscom diora\n",
      "cscom garbacoira garbacoira\n",
      "cscom gari cscom de gari\n",
      "cscom kabaika cscom kafana\n",
      "cscom kirchamba cscom de kamba\n",
      "cscom kondi cscom koumi\n",
      "cscom koura cscom de koura\n",
      "cscom tienkour cscom de koura\n",
      "cscom tindirma cscom diora\n",
      "cscom adarmalane cscom de hamdalaye\n",
      "cscom douekire cscom de douekire\n",
      "cscom echell cscom de echell\n",
      "cscom gargando cscom de gargando\n",
      "cscom mbouna cscom touzana\n"
     ]
    },
    {
     "name": "stderr",
     "output_type": "stream",
     "text": [
      "1842it [00:11, 153.98it/s]"
     ]
    },
    {
     "name": "stdout",
     "output_type": "stream",
     "text": [
      "cscom mekore cscom de koura\n",
      "cscom niambourgou cscom de gounambougou\n",
      "cscom tilemsi cscom tingole\n",
      "cscom tintara cscom djidara\n",
      "cscom tonka cscom de tonka\n",
      "cscom wana cscom manta\n",
      "cscom yourmi cscom koumi\n",
      "cscom adiora cscom diora\n",
      "cscom dimamou cscom d'aliou\n",
      "cscom egachar cscom de gari\n",
      "cscom minkiri cscom missira\n",
      "cscom andiam cscom dandoli\n",
      "cscom arabebe cscom de arabere\n",
      "cscom attara cscom manta\n"
     ]
    },
    {
     "name": "stderr",
     "output_type": "stream",
     "text": [
      "1874it [00:12, 145.87it/s]"
     ]
    },
    {
     "name": "stdout",
     "output_type": "stream",
     "text": [
      "cscom dari cscom de gari\n",
      "cscom dianke cscom d diankã©\n",
      "cscom dofana cscom kafana\n",
      "cscom garnati cscom de gari\n",
      "cscom gounambougou cscom de gounambougou\n",
      "cscom guindigata nari cscom de guindigata nari\n",
      "cscom kokonto cscom de kokonto\n",
      "cscom koumaira cscom koumi\n",
      "cscom kouroubamabara cscom de kourouma\n",
      "cscom lere cscom toguere\n",
      "cscom ngorkou cscom de  ngorkou\n",
      "cscom dioulabougou cscom de gounambougou\n",
      "cscom nounou cscom de nounou\n",
      "cscom sarafere cscom de arabere\n",
      "cscom soumpi cscom de soumpi\n",
      "cscom tondidarou cscom djidara\n",
      "cscom toulabele cscom toguere\n",
      "cscom waki cscom koumi\n",
      "cscom wako cscom koumi\n",
      "cscom ber cs/com berrah\n"
     ]
    },
    {
     "name": "stderr",
     "output_type": "stream",
     "text": [
      "1896it [00:12, 155.47it/s]"
     ]
    },
    {
     "name": "stdout",
     "output_type": "stream",
     "text": [
      "cscom bori cscom diora\n",
      "cscom gourou cscom de ouroun\n",
      "cscom kabara cscom de kaara\n",
      "cscom m'babou cscom d'aliou\n",
      "cscom toya cscom mercoya\n"
     ]
    },
    {
     "name": "stderr",
     "output_type": "stream",
     "text": [
      "\n"
     ]
    }
   ],
   "source": [
    "for idx, row in tqdm(records.iterrows()):\n",
    "    \n",
    "    # Check if there is another entry with location\n",
    "    match, score = match_name(row.NAME, list(nodes_io['name']), 75)\n",
    "    \n",
    "    if score > 0:\n",
    "        print(row.NAME, match)\n",
    "        matching_row = nodes_io.loc[nodes_io['name']==match].copy()\n",
    "        res = matching_row.iloc[0]\n",
    "        \n",
    "        geocoded=False\n",
    "        if not pd.isna(row.adm3):\n",
    "            adm3 = geob3.loc[geob3['shapeName'] == row['adm3']].copy()\n",
    "            if adm3.contains(res.geometry).values[0] == True:\n",
    "                records.loc[idx, \"longitude\"] = res.geometry.x\n",
    "                records.loc[idx, \"latitude\"] = res.geometry.y\n",
    "                records.loc[idx, \"geocoding_method\"] = \"Location from Health Sites IO and within admin 3\"\n",
    "                geocoded=True\n",
    "        \n",
    "        if (geocoded==False) and (not pd.isna(row.adm2)):\n",
    "            adm2 = geob2.loc[geob2['shapeName'] == row['adm2']].copy()\n",
    "            if adm2.contains(res.geometry).values[0] == True:            \n",
    "                records.loc[idx, \"longitude\"] = res.geometry.x\n",
    "                records.loc[idx, \"latitude\"] = res.geometry.y\n",
    "                records.loc[idx, \"geocoding_method\"] = \"Location from Health Sites IO and within admin 2\"\n",
    "                geocoded=True\n",
    "\n",
    "        if (geocoded==False) and (not pd.isna(row.adm1)):\n",
    "            adm1 = fews1.loc[fews1['ADMIN1'] == row['adm1']].copy()\n",
    "            if adm1.contains(res.geometry).values[0] == True:            \n",
    "                records.loc[idx, \"longitude\"] = res.geometry.x\n",
    "                records.loc[idx, \"latitude\"] = res.geometry.y\n",
    "                records.loc[idx, \"geocoding_method\"] = \"Location from Health Sites IO and within admin 1\"\n",
    "                geocoded=True\n",
    "        \n",
    "#         if geocoded==False:\n",
    "#             records.loc[idx, \"longitude\"] = res.geometry.x\n",
    "#             records.loc[idx, \"latitude\"] = res.geometry.y\n",
    "#             records.loc[idx, \"geocoding_method\"] = \"Location from Health Sites IO and without admin verification\""
   ]
  },
  {
   "cell_type": "code",
   "execution_count": 49,
   "metadata": {},
   "outputs": [
    {
     "data": {
      "text/html": [
       "<style type=\"text/css\">\n",
       "</style>\n",
       "<table id=\"T_1561f_\">\n",
       "  <thead>\n",
       "    <tr>\n",
       "      <th class=\"blank level0\" >&nbsp;</th>\n",
       "      <th class=\"col_heading level0 col0\" >count</th>\n",
       "      <th class=\"col_heading level0 col1\" >pct</th>\n",
       "    </tr>\n",
       "    <tr>\n",
       "      <th class=\"index_name level0\" >geocoding_method</th>\n",
       "      <th class=\"blank col0\" >&nbsp;</th>\n",
       "      <th class=\"blank col1\" >&nbsp;</th>\n",
       "    </tr>\n",
       "  </thead>\n",
       "  <tbody>\n",
       "    <tr>\n",
       "      <th id=\"T_1561f_level0_row0\" class=\"row_heading level0 row0\" >Location from Health Sites IO and within admin 1</th>\n",
       "      <td id=\"T_1561f_row0_col0\" class=\"data row0 col0\" >145</td>\n",
       "      <td id=\"T_1561f_row0_col1\" class=\"data row0 col1\" >7.6%</td>\n",
       "    </tr>\n",
       "    <tr>\n",
       "      <th id=\"T_1561f_level0_row1\" class=\"row_heading level0 row1\" >Location from Health Sites IO and within admin 2</th>\n",
       "      <td id=\"T_1561f_row1_col0\" class=\"data row1 col0\" >72</td>\n",
       "      <td id=\"T_1561f_row1_col1\" class=\"data row1 col1\" >3.8%</td>\n",
       "    </tr>\n",
       "    <tr>\n",
       "      <th id=\"T_1561f_level0_row2\" class=\"row_heading level0 row2\" >Location from Health Sites IO and within admin 3</th>\n",
       "      <td id=\"T_1561f_row2_col0\" class=\"data row2 col0\" >45</td>\n",
       "      <td id=\"T_1561f_row2_col1\" class=\"data row2 col1\" >2.4%</td>\n",
       "    </tr>\n",
       "    <tr>\n",
       "      <th id=\"T_1561f_level0_row3\" class=\"row_heading level0 row3\" >None</th>\n",
       "      <td id=\"T_1561f_row3_col0\" class=\"data row3 col0\" >1634</td>\n",
       "      <td id=\"T_1561f_row3_col1\" class=\"data row3 col1\" >86.2%</td>\n",
       "    </tr>\n",
       "  </tbody>\n",
       "</table>\n"
      ],
      "text/plain": [
       "<pandas.io.formats.style.Styler at 0x7f9e6c663690>"
      ]
     },
     "execution_count": 49,
     "metadata": {},
     "output_type": "execute_result"
    }
   ],
   "source": [
    "report_geocoding(records)"
   ]
  },
  {
   "cell_type": "markdown",
   "metadata": {},
   "source": [
    "## RHINoVision Master Facility List Decision Support System"
   ]
  },
  {
   "cell_type": "code",
   "execution_count": 50,
   "metadata": {},
   "outputs": [],
   "source": [
    "#rhino = pd.read_excel(os.path.join(input_dir, \"rhino\", \"00 SSA MFL (130219).xlsx\"), 0)\n",
    "rhino = pd.read_csv(os.path.join(input_dir, \"rhino\", \"00 SSA MFL (130219).csv\"))"
   ]
  },
  {
   "cell_type": "code",
   "execution_count": 51,
   "metadata": {},
   "outputs": [],
   "source": [
    "rhino = rhino.loc[rhino.Country==\"Mali\"].copy()"
   ]
  },
  {
   "cell_type": "code",
   "execution_count": 52,
   "metadata": {},
   "outputs": [],
   "source": [
    "rhino['name'] = rhino['Facility name'].str.lower()"
   ]
  },
  {
   "cell_type": "code",
   "execution_count": 53,
   "metadata": {},
   "outputs": [],
   "source": [
    "remove_words(rhino, 'name')"
   ]
  },
  {
   "cell_type": "code",
   "execution_count": 54,
   "metadata": {},
   "outputs": [],
   "source": [
    "rhino.loc[:, \"geometry\"] = rhino.apply(lambda x: Point(x.Long, x.Lat), axis=1)\n",
    "rhino = gpd.GeoDataFrame(rhino, geometry='geometry', crs='EPSG:4326')"
   ]
  },
  {
   "cell_type": "markdown",
   "metadata": {},
   "source": [
    "### note: since only partial matches with admin 3 and admin 2, matching will occur if point is witin the district or not. However, since there is no point in district validation, increase the matching benchmark."
   ]
  },
  {
   "cell_type": "code",
   "execution_count": 55,
   "metadata": {
    "scrolled": true
   },
   "outputs": [
    {
     "name": "stderr",
     "output_type": "stream",
     "text": [
      "43it [00:00, 206.60it/s]"
     ]
    },
    {
     "name": "stdout",
     "output_type": "stream",
     "text": [
      "cscom asacoboul1 asacoboul1\n",
      "zeina zinda\n",
      "cscom asacoboul2 asacoboul2\n",
      "cscom asacosisou asacosisou\n",
      "tourela ourikela\n"
     ]
    },
    {
     "name": "stderr",
     "output_type": "stream",
     "text": [
      "88it [00:00, 214.32it/s]"
     ]
    },
    {
     "name": "stdout",
     "output_type": "stream",
     "text": [
      "cscom asacobakon asacobakon\n",
      "moussokoura sossokoira\n",
      "farako farako\n",
      "cscom asacokoul-point asacokoul point\n",
      "togola mogola\n",
      "momo matomo\n",
      "cscom asacodjeneka asacodjeneka\n"
     ]
    },
    {
     "name": "stderr",
     "output_type": "stream",
     "text": [
      "132it [00:00, 209.99it/s]"
     ]
    },
    {
     "name": "stdout",
     "output_type": "stream",
     "text": [
      "sissmed -sante sissmed -santé clinique\n",
      "djama djiguiya diamadjigui\n",
      "lahidou lambidou\n",
      "cscom asacolabasad asacolabasad\n",
      "diakite diakitela\n",
      "nana narena\n",
      "cscom asacosekasi asacosekasi\n",
      "diamadou diamamou\n",
      "mouna mougna\n"
     ]
    },
    {
     "name": "stderr",
     "output_type": "stream",
     "text": [
      "198it [00:00, 214.58it/s]"
     ]
    },
    {
     "name": "stdout",
     "output_type": "stream",
     "text": [
      "sianwa sanwa\n",
      "bama bamba\n",
      "bayaba baramba\n",
      "cscom asacokala aci asacokal aci\n",
      "sankore sankore\n",
      "cscom asacotoqua asacotoqua\n",
      "cscom ascom-bacodji ascombacodji\n",
      "hombori hombori\n"
     ]
    },
    {
     "name": "stderr",
     "output_type": "stream",
     "text": [
      "247it [00:01, 225.42it/s]"
     ]
    },
    {
     "name": "stdout",
     "output_type": "stream",
     "text": [
      "dily dilly\n",
      "bara bara\n",
      "djidia djidian\n",
      "sama sama\n",
      "sianwa sanwa\n",
      "fadouba doumba\n",
      "benkan benkady\n",
      "koura koura\n",
      "foundara goundara\n"
     ]
    },
    {
     "name": "stderr",
     "output_type": "stream",
     "text": [
      "319it [00:01, 229.12it/s]"
     ]
    },
    {
     "name": "stdout",
     "output_type": "stream",
     "text": [
      "cscom bazihaoussa bazi haoussa\n",
      "cscom indelimane indelimane\n",
      "cscom bourem central bourem central\n",
      "cscom karabassane karabassane\n"
     ]
    },
    {
     "name": "stderr",
     "output_type": "stream",
     "text": [
      "367it [00:01, 225.04it/s]"
     ]
    },
    {
     "name": "stdout",
     "output_type": "stream",
     "text": [
      "cscom hamakouladji hamakouladji\n",
      "cscom haoussa foulane haoussa foulane\n",
      "cscom sossokoira sossokoira\n",
      "cscom tin aouker tin aouker\n",
      "cscom neguetabali neguetabali\n"
     ]
    },
    {
     "name": "stderr",
     "output_type": "stream",
     "text": [
      "413it [00:01, 211.96it/s]"
     ]
    },
    {
     "name": "stdout",
     "output_type": "stream",
     "text": [
      "cscom dianguirde dianguirde\n",
      "cscom dianguounte camara diangounte camara\n",
      "cscom debomassassi debomassassi\n",
      "cscom farabougou farabougou\n",
      "cscom fassoudebe fassoudebe\n",
      "cscom gomitradougou guomitradougou\n",
      "cscom madiga sacko madiga sacko\n",
      "cscom sansankide sansankide\n",
      "cscom boutinguisse bountinguisse\n"
     ]
    },
    {
     "name": "stderr",
     "output_type": "stream",
     "text": [
      "463it [00:02, 222.41it/s]"
     ]
    },
    {
     "name": "stdout",
     "output_type": "stream",
     "text": [
      "cscom djinguilou djinguilou\n",
      "cmie kayes lafiabougou kayes lafiabougou\n",
      "cscom marena-diombougou marena diombougou\n",
      "cscom marena-gadiaga marena gadiaga\n"
     ]
    },
    {
     "name": "stderr",
     "output_type": "stream",
     "text": [
      "509it [00:02, 214.52it/s]"
     ]
    },
    {
     "name": "stdout",
     "output_type": "stream",
     "text": [
      "cscom balandougou balandougou\n",
      "cscom fadougou somadougou\n",
      "cscom guenoubatan guenoubantan\n",
      "cscom kouroukoto kouroukoto\n",
      "cscom keniegoulou keniegoulou\n",
      "cscom sanfagadala sanfagadala\n",
      "lafia lanfiala\n"
     ]
    },
    {
     "name": "stderr",
     "output_type": "stream",
     "text": [
      "553it [00:02, 206.34it/s]"
     ]
    },
    {
     "name": "stdout",
     "output_type": "stream",
     "text": [
      "cscom balandougou balandougou\n",
      "cscom bendougouba bendougouba\n",
      "cscom bougaribaya bougaribaya\n",
      "cscom founia moribougou founia-moribougou\n",
      "cscom kourounikoto kourouninkoto\n",
      "cscom makandiambougou makandiambougou\n",
      "de santé saint felix cs saint felix\n",
      "cscom sandiambougou sandiambougou\n",
      "cscom banierekore baniere kore\n"
     ]
    },
    {
     "name": "stderr",
     "output_type": "stream",
     "text": [
      "595it [00:02, 197.15it/s]"
     ]
    },
    {
     "name": "stdout",
     "output_type": "stream",
     "text": [
      "cscom diabaguela diabaguela\n",
      "cscom diabidiala diabidiala\n",
      "cscom dianwely kounda dianwely counda\n",
      "cscom fosse karta fosse kaarta\n",
      "cscom gadiaba kadiel gadiaba-kadiel\n",
      "cscom korera kore korera kore\n",
      "cscom kouroukere kouroukere\n",
      "cscom monzombougou monzombougou\n",
      "cscom djoufoya tintokan djoufoya tintoka\n",
      "cscom kolondinkoye kolondinkoye\n"
     ]
    },
    {
     "name": "stderr",
     "output_type": "stream",
     "text": [
      "640it [00:02, 211.02it/s]"
     ]
    },
    {
     "name": "stdout",
     "output_type": "stream",
     "text": [
      "cscom madihawaya madihawaya\n",
      "cscom sitakourou sitakourou\n",
      "cscom toumbinassou toumbinassou\n",
      "cscom guemoukouraba guemoukouraba\n",
      "cscom kagoro mountan kagoro-mountan\n",
      "cscom hamdallaye yelimane hamdallaye yelimane\n",
      "cscom kanguessanou kanguessanou\n",
      "cscom kersignane kaniaga kersignane kaniaga\n"
     ]
    },
    {
     "name": "stderr",
     "output_type": "stream",
     "text": [
      "688it [00:03, 219.53it/s]"
     ]
    },
    {
     "name": "stdout",
     "output_type": "stream",
     "text": [
      "cscom lakanguemou lakanguemou\n",
      "cscom marena tringa marena tringa\n",
      "cscom ouologuela ouologuela\n",
      "cscom abeibara central abeibara central\n",
      "cscom kidal central kidal central\n",
      "cscom banamba  central banamba central\n"
     ]
    },
    {
     "name": "stderr",
     "output_type": "stream",
     "text": [
      "765it [00:03, 238.29it/s]"
     ]
    },
    {
     "name": "stdout",
     "output_type": "stream",
     "text": [
      "cscom madina  sacko madina sacko\n",
      "cscom dioila central dioila central\n",
      "nando nando\n",
      "cscom kle cscom k2\n",
      "cscom n'golobougou ngolobougou\n",
      "cscom dandougou somadougou\n",
      "cscom dialakorobougou dialakorobougou\n"
     ]
    },
    {
     "name": "stderr",
     "output_type": "stream",
     "text": [
      "815it [00:03, 238.37it/s]"
     ]
    },
    {
     "name": "stdout",
     "output_type": "stream",
     "text": [
      "cscom kalabancoro kalabancoro\n",
      "cscom kalabancoro nerecoro kalabancoro nerekoro\n",
      "cscom kalabancro heremakono kalabancoro heremakono\n",
      "cscom mountougoula mountougoula\n",
      "cscom balan-bakama balan-bakama\n",
      "cscom figuira tomo figuiratomo\n",
      "cscom kangaba central kangaba central\n",
      "cscom selefougou selefougou\n",
      "cscom doubabougou doubabougou\n"
     ]
    },
    {
     "name": "stderr",
     "output_type": "stream",
     "text": [
      "863it [00:03, 230.11it/s]"
     ]
    },
    {
     "name": "stdout",
     "output_type": "stream",
     "text": [
      "cscom kanadjiguila kanadjiguila\n",
      "cscom moribabougou moribabougou\n",
      "cscom nana kenieba nana kenieba\n",
      "cscom nioumamakana niouma makana\n",
      "cscom sangarebougou sangarebougou\n",
      "cscom yelekebougou yelekebougou\n",
      "cscom doubabougou doubabougou\n",
      "cscom kolokani central kolokani central\n",
      "cscom nossombougou nossombougou\n",
      "cscom sirakoroba sirakoroba\n"
     ]
    },
    {
     "name": "stderr",
     "output_type": "stream",
     "text": [
      "913it [00:04, 232.78it/s]"
     ]
    },
    {
     "name": "stdout",
     "output_type": "stream",
     "text": [
      "cscom koulikoroba koulikoro-ba\n",
      "cscom monzombala monzombala\n",
      "cscom sirakorobougou sirakorobougou\n",
      "cscom sirakorola sirakorola\n",
      "cscom bineou-niakate bineou niakate\n",
      "cscom dalibougou malibougou\n",
      "cscom madina kagoro madina kagoro\n"
     ]
    },
    {
     "name": "stderr",
     "output_type": "stream",
     "text": [
      "986it [00:04, 233.27it/s]"
     ]
    },
    {
     "name": "stdout",
     "output_type": "stream",
     "text": [
      "cscom nara central nara central\n",
      "cscom dialakoroba dialakoroba\n",
      "djitoumou djibougou\n",
      "cscom sanankorodjitoumou sanankoro-djitoumou\n",
      "cscom anderamboukane anderamboukane\n",
      "cscom inchinanane inchinanane\n"
     ]
    },
    {
     "name": "stderr",
     "output_type": "stream",
     "text": [
      "1043it [00:04, 252.23it/s]"
     ]
    },
    {
     "name": "stdout",
     "output_type": "stream",
     "text": [
      "cscom bandiagara central bandiagara central\n",
      "cscom bankass central bankass central\n",
      "cscom gomossagou gomossagou\n",
      "cscom djenne central djenne central\n"
     ]
    },
    {
     "name": "stderr",
     "output_type": "stream",
     "text": [
      "1095it [00:04, 236.23it/s]"
     ]
    },
    {
     "name": "stdout",
     "output_type": "stream",
     "text": [
      "cscom kouakourou kouakourou\n",
      "cscom keke cscom k2\n",
      "cscom tako cscom k2\n",
      "cscom tongo-tongo tongo-tongo\n",
      "cscom bamba koro bamba koro\n",
      "cscom barapireli barapireli\n"
     ]
    },
    {
     "name": "stderr",
     "output_type": "stream",
     "text": [
      "1166it [00:05, 212.53it/s]"
     ]
    },
    {
     "name": "stdout",
     "output_type": "stream",
     "text": [
      "cscom koporo pen koporo pen\n",
      "cscom koro central koro central\n",
      "cscom madougou somadougou\n",
      "cscom pomorododiou pomorododiou\n",
      "cellal nati cellal-nati\n",
      "nando nando\n",
      "cscom diambacourou diambacourou\n",
      "cscom komoguel 1 komoguel 1\n",
      "cscom somadougou somadougou\n"
     ]
    },
    {
     "name": "stderr",
     "output_type": "stream",
     "text": [
      "1211it [00:05, 216.84it/s]"
     ]
    },
    {
     "name": "stdout",
     "output_type": "stream",
     "text": [
      "cscom yougonsire yougonsire\n",
      "cscom kora cscom k2\n",
      "cscom youwarou central youwarou central\n",
      "cscom bladie-tiemala bladie-tiemala\n",
      "cscom bougouni est bougouni est\n",
      "cscom farangouaran faragouaran\n"
     ]
    },
    {
     "name": "stderr",
     "output_type": "stream",
     "text": [
      "1288it [00:05, 231.56it/s]"
     ]
    },
    {
     "name": "stdout",
     "output_type": "stream",
     "text": [
      "cscom zantiebougou zantiebougou\n",
      "cscom dioumatene dioumatene\n",
      "cscom kadiolo central kadiolo central\n",
      "folona folomana\n",
      "cscom kai cscom k2\n",
      "toguna touna\n",
      "keneya keleya\n",
      "cscom dialakoroba dialakoroba\n"
     ]
    },
    {
     "name": "stderr",
     "output_type": "stream",
     "text": [
      "1344it [00:05, 247.92it/s]"
     ]
    },
    {
     "name": "stdout",
     "output_type": "stream",
     "text": [
      "cscom kolondieba central kolondieba central\n",
      "cscom nangalasso nangalasso\n",
      "cscom niakourazana niakourazana\n",
      "cscom famoussasso famoussasso\n",
      "cscom koko cscom k2\n",
      "cscom kouo cscom k2\n",
      "cscom leleni asaco leleni\n",
      "cscom n'golonianasso ngolonianasso\n"
     ]
    },
    {
     "name": "stderr",
     "output_type": "stream",
     "text": [
      "1394it [00:06, 232.80it/s]"
     ]
    },
    {
     "name": "stdout",
     "output_type": "stream",
     "text": [
      "cscom sogomougou sogomougou\n",
      "sogomougou sogomougou\n",
      "lafia lanfiala\n",
      "cscom dougoukolobougou dougoukolobougou\n",
      "cscom finkolo ganadougou finkolo ganadougou\n",
      "cscom sibirifina sibirifina\n",
      "cscom sanankoroba sanankoroba\n"
     ]
    },
    {
     "name": "stderr",
     "output_type": "stream",
     "text": [
      "1442it [00:06, 224.68it/s]"
     ]
    },
    {
     "name": "stdout",
     "output_type": "stream",
     "text": [
      "cscom bandieresso bandieresso\n",
      "cscom bougoula hameau bougoula hameau\n",
      "cscom danderesso danderesso\n",
      "cscom finkolo ac finkolo ac\n",
      "cscom hamdallaye sikasso hamdallaye sikasso\n",
      "cscom kafouziela kafouziela\n",
      "cscom korobarrage koro-barrage\n",
      "cscom lobougoula lobougoula\n",
      "cscom medine sikasso medine sikasso\n",
      "cmie wayerma 1 wayerma 1\n"
     ]
    },
    {
     "name": "stderr",
     "output_type": "stream",
     "text": [
      "1487it [00:06, 214.44it/s]"
     ]
    },
    {
     "name": "stdout",
     "output_type": "stream",
     "text": [
      "cscom zanferebougou zanferebougou\n",
      "cscom zangaradougou zangaradougou\n",
      "cscom doussoudiana doussoudiana\n",
      "cscom guelelenkoro guelelenkoro\n",
      "cscom niessoumala niessoumala\n",
      "cscom yanfolila central yanfolila central\n",
      "cscom yorobougoula yorobougoula\n"
     ]
    },
    {
     "name": "stderr",
     "output_type": "stream",
     "text": [
      "1536it [00:06, 214.07it/s]"
     ]
    },
    {
     "name": "stdout",
     "output_type": "stream",
     "text": [
      "cscom baroueli central baroueli central\n",
      "berthela bertha\n",
      "cscom kodougouni kodougouni\n",
      "cscom konobougou konobougou\n",
      "cscom wondobougou wondobougou\n",
      "cscom yerebougou yerebougou\n",
      "cscom bla central bla central\n",
      "cscom kazangasso kazangasso\n"
     ]
    },
    {
     "name": "stderr",
     "output_type": "stream",
     "text": [
      "1580it [00:07, 211.23it/s]"
     ]
    },
    {
     "name": "stdout",
     "output_type": "stream",
     "text": [
      "cscom koulandougou koulandougou\n",
      "cscom niamana - bla niamana - bla\n",
      "cscom tienabougou tienabougou\n",
      "cscom kara cscom k2\n",
      "cscom koe cscom k2\n",
      "cscom macina central macina central\n",
      "cscom dougabougou dougabougou\n",
      "cscom sansanding sansanding\n"
     ]
    },
    {
     "name": "stderr",
     "output_type": "stream",
     "text": [
      "1636it [00:07, 235.17it/s]"
     ]
    },
    {
     "name": "stdout",
     "output_type": "stream",
     "text": [
      "cscom zanabougou zanabougou\n",
      "cscom bolibana b6 bolibana b6\n",
      "cscom k2 cscom k2\n",
      "molodo molodo\n",
      "cscom niono central niono central\n",
      "nana kone nana kenieba\n",
      "keneya keleya\n",
      "cscom niono extension niono extention\n"
     ]
    },
    {
     "name": "stderr",
     "output_type": "stream",
     "text": [
      "1684it [00:07, 220.43it/s]"
     ]
    },
    {
     "name": "stdout",
     "output_type": "stream",
     "text": [
      "cscom baramandougou baramandougou\n",
      "cscom diakourouna diakourouna\n",
      "cscom lafiabougou lafiabougou\n",
      "cscom m'pesso hameau mpesso hameau\n",
      "cscom san central san central\n",
      "cscom sourountouna sourountouna\n",
      "cscom tourakolomba tourakolomba\n",
      "cscom waky cscom k2\n",
      "cscom bagadadji sud bagadadji sud\n"
     ]
    },
    {
     "name": "stderr",
     "output_type": "stream",
     "text": [
      "1760it [00:07, 237.65it/s]"
     ]
    },
    {
     "name": "stdout",
     "output_type": "stream",
     "text": [
      "cscom konodimini konodimini\n",
      "keneya keleya\n",
      "cscom sama foulala sama foulala\n",
      "cscom tominian central tominian central\n",
      "cscom yasso somasso\n"
     ]
    },
    {
     "name": "stderr",
     "output_type": "stream",
     "text": [
      "1842it [00:08, 250.43it/s]"
     ]
    },
    {
     "name": "stdout",
     "output_type": "stream",
     "text": [
      "cscom bintagoungou bintagoungou\n",
      "cscom goundam central goundam central\n",
      "cscom bambara maoudé bambara maoude\n",
      "cscom inadiatafane inadiatafane\n",
      "cscom gaye maoude gaye maoude\n",
      "cscom konkobougou konkobougou\n"
     ]
    },
    {
     "name": "stderr",
     "output_type": "stream",
     "text": [
      "1896it [00:08, 227.49it/s]"
     ]
    },
    {
     "name": "stdout",
     "output_type": "stream",
     "text": [
      "cscom waki cscom k2\n",
      "cscom wako cscom k2\n",
      "cscom bellafarandi bellafarandi\n",
      "cscom bourem inaly boureminaly\n",
      "cscom hondoubomo koina hondoubomo koina\n"
     ]
    },
    {
     "name": "stderr",
     "output_type": "stream",
     "text": [
      "\n"
     ]
    }
   ],
   "source": [
    "for idx, row in tqdm(records.iterrows()):\n",
    "    \n",
    "    if row.geocoding_method==\"None\":\n",
    "        \n",
    "        # Check if there is another entry with location\n",
    "        match, score = match_name(row.NAME, list(rhino['name']), 75)\n",
    "        \n",
    "        if score > 0:\n",
    "            print(row.NAME, match)\n",
    "            matching_row = rhino.loc[rhino['name']==match].copy()\n",
    "            res = matching_row.iloc[0]\n",
    "\n",
    "            geocoded=False\n",
    "            if not pd.isna(row.adm3):\n",
    "                adm3 = geob3.loc[geob3['shapeName'] == row['adm3']].copy()\n",
    "                if adm3.contains(res.geometry).values[0] == True:\n",
    "                    records.loc[idx, \"longitude\"] = res.geometry.x\n",
    "                    records.loc[idx, \"latitude\"] = res.geometry.y\n",
    "                    records.loc[idx, \"geocoding_method\"] = \"Location from Rhino Dataset and within admin 3\"\n",
    "                    geocoded=True\n",
    "\n",
    "            if (geocoded==False) and (not pd.isna(row.adm2)):\n",
    "                adm2 = geob2.loc[geob2['shapeName'] == row['adm2']].copy()\n",
    "                if adm2.contains(res.geometry).values[0] == True:            \n",
    "                    records.loc[idx, \"longitude\"] = res.geometry.x\n",
    "                    records.loc[idx, \"latitude\"] = res.geometry.y\n",
    "                    records.loc[idx, \"geocoding_method\"] = \"Location from Rhino Dataset and within admin 2\"\n",
    "                    geocoded=True\n",
    "\n",
    "            if (geocoded==False) and (not pd.isna(row.adm1)):\n",
    "                adm1 = fews1.loc[fews1['ADMIN1'] == row['adm1']].copy()\n",
    "                if adm1.contains(res.geometry).values[0] == True:            \n",
    "                    records.loc[idx, \"longitude\"] = res.geometry.x\n",
    "                    records.loc[idx, \"latitude\"] = res.geometry.y\n",
    "                    records.loc[idx, \"geocoding_method\"] = \"Location from Rhino Dataset and within admin 1\"\n",
    "                    geocoded=True"
   ]
  },
  {
   "cell_type": "code",
   "execution_count": 56,
   "metadata": {},
   "outputs": [
    {
     "data": {
      "text/html": [
       "<style type=\"text/css\">\n",
       "</style>\n",
       "<table id=\"T_03ac7_\">\n",
       "  <thead>\n",
       "    <tr>\n",
       "      <th class=\"blank level0\" >&nbsp;</th>\n",
       "      <th class=\"col_heading level0 col0\" >count</th>\n",
       "      <th class=\"col_heading level0 col1\" >pct</th>\n",
       "    </tr>\n",
       "    <tr>\n",
       "      <th class=\"index_name level0\" >geocoding_method</th>\n",
       "      <th class=\"blank col0\" >&nbsp;</th>\n",
       "      <th class=\"blank col1\" >&nbsp;</th>\n",
       "    </tr>\n",
       "  </thead>\n",
       "  <tbody>\n",
       "    <tr>\n",
       "      <th id=\"T_03ac7_level0_row0\" class=\"row_heading level0 row0\" >Location from Health Sites IO and within admin 1</th>\n",
       "      <td id=\"T_03ac7_row0_col0\" class=\"data row0 col0\" >145</td>\n",
       "      <td id=\"T_03ac7_row0_col1\" class=\"data row0 col1\" >7.6%</td>\n",
       "    </tr>\n",
       "    <tr>\n",
       "      <th id=\"T_03ac7_level0_row1\" class=\"row_heading level0 row1\" >Location from Health Sites IO and within admin 2</th>\n",
       "      <td id=\"T_03ac7_row1_col0\" class=\"data row1 col0\" >72</td>\n",
       "      <td id=\"T_03ac7_row1_col1\" class=\"data row1 col1\" >3.8%</td>\n",
       "    </tr>\n",
       "    <tr>\n",
       "      <th id=\"T_03ac7_level0_row2\" class=\"row_heading level0 row2\" >Location from Health Sites IO and within admin 3</th>\n",
       "      <td id=\"T_03ac7_row2_col0\" class=\"data row2 col0\" >45</td>\n",
       "      <td id=\"T_03ac7_row2_col1\" class=\"data row2 col1\" >2.4%</td>\n",
       "    </tr>\n",
       "    <tr>\n",
       "      <th id=\"T_03ac7_level0_row3\" class=\"row_heading level0 row3\" >Location from Rhino Dataset and within admin 1</th>\n",
       "      <td id=\"T_03ac7_row3_col0\" class=\"data row3 col0\" >37</td>\n",
       "      <td id=\"T_03ac7_row3_col1\" class=\"data row3 col1\" >2.0%</td>\n",
       "    </tr>\n",
       "    <tr>\n",
       "      <th id=\"T_03ac7_level0_row4\" class=\"row_heading level0 row4\" >Location from Rhino Dataset and within admin 2</th>\n",
       "      <td id=\"T_03ac7_row4_col0\" class=\"data row4 col0\" >120</td>\n",
       "      <td id=\"T_03ac7_row4_col1\" class=\"data row4 col1\" >6.3%</td>\n",
       "    </tr>\n",
       "    <tr>\n",
       "      <th id=\"T_03ac7_level0_row5\" class=\"row_heading level0 row5\" >Location from Rhino Dataset and within admin 3</th>\n",
       "      <td id=\"T_03ac7_row5_col0\" class=\"data row5 col0\" >44</td>\n",
       "      <td id=\"T_03ac7_row5_col1\" class=\"data row5 col1\" >2.3%</td>\n",
       "    </tr>\n",
       "    <tr>\n",
       "      <th id=\"T_03ac7_level0_row6\" class=\"row_heading level0 row6\" >None</th>\n",
       "      <td id=\"T_03ac7_row6_col0\" class=\"data row6 col0\" >1433</td>\n",
       "      <td id=\"T_03ac7_row6_col1\" class=\"data row6 col1\" >75.6%</td>\n",
       "    </tr>\n",
       "  </tbody>\n",
       "</table>\n"
      ],
      "text/plain": [
       "<pandas.io.formats.style.Styler at 0x7f9e6c581610>"
      ]
     },
     "execution_count": 56,
     "metadata": {},
     "output_type": "execute_result"
    }
   ],
   "source": [
    "report_geocoding(records)"
   ]
  },
  {
   "cell_type": "markdown",
   "metadata": {},
   "source": [
    "# Geocoding with APIs"
   ]
  },
  {
   "cell_type": "code",
   "execution_count": 60,
   "metadata": {},
   "outputs": [
    {
     "data": {
      "text/plain": [
       "True"
      ]
     },
     "execution_count": 60,
     "metadata": {},
     "output_type": "execute_result"
    }
   ],
   "source": [
    "from pathlib import Path \n",
    "env_path = Path(input_dir) / '.env'\n",
    "load_dotenv(dotenv_path=env_path)"
   ]
  },
  {
   "cell_type": "code",
   "execution_count": 58,
   "metadata": {},
   "outputs": [],
   "source": [
    "bing_key = os.environ.get(\"bing_key\")\n",
    "google_key = os.environ.get(\"google_key\")"
   ]
  },
  {
   "cell_type": "code",
   "execution_count": 59,
   "metadata": {},
   "outputs": [],
   "source": [
    "geolocator_osm = Nominatim(user_agent=\"health-equity\")\n",
    "geolocator_bing = Bing(api_key=bing_key)\n",
    "geolocator_google = GoogleV3(api_key=google_key)"
   ]
  },
  {
   "cell_type": "markdown",
   "metadata": {},
   "source": [
    "## Facility name and admin 3 names"
   ]
  },
  {
   "cell_type": "markdown",
   "metadata": {},
   "source": [
    "Geocode based on facility name (orgunitlevel5) + admin 3 name.  \n",
    "Check to make sure result falls within admin 3 polygon."
   ]
  },
  {
   "cell_type": "code",
   "execution_count": 61,
   "metadata": {},
   "outputs": [],
   "source": [
    "records_subset = records.loc[records.geocoding_method==\"None\"].copy()\n",
    "# only include trying to geocode rows that have an admin name that is matched to the Geoboundaries file\n",
    "records_subset = records_subset.loc[~records_subset.adm3.isna()].copy()"
   ]
  },
  {
   "cell_type": "code",
   "execution_count": 62,
   "metadata": {},
   "outputs": [
    {
     "data": {
      "text/plain": [
       "473"
      ]
     },
     "execution_count": 62,
     "metadata": {},
     "output_type": "execute_result"
    }
   ],
   "source": [
    "len(records_subset)"
   ]
  },
  {
   "cell_type": "code",
   "execution_count": 63,
   "metadata": {},
   "outputs": [
    {
     "data": {
      "text/html": [
       "<div>\n",
       "<style scoped>\n",
       "    .dataframe tbody tr th:only-of-type {\n",
       "        vertical-align: middle;\n",
       "    }\n",
       "\n",
       "    .dataframe tbody tr th {\n",
       "        vertical-align: top;\n",
       "    }\n",
       "\n",
       "    .dataframe thead th {\n",
       "        text-align: right;\n",
       "    }\n",
       "</style>\n",
       "<table border=\"1\" class=\"dataframe\">\n",
       "  <thead>\n",
       "    <tr style=\"text-align: right;\">\n",
       "      <th></th>\n",
       "      <th>orgunitlevel1</th>\n",
       "      <th>orgunitlevel2</th>\n",
       "      <th>orgunitlevel3</th>\n",
       "      <th>orgunitlevel4</th>\n",
       "      <th>orgunitlevel5</th>\n",
       "      <th>orgunitlevel4_edit</th>\n",
       "      <th>orgunitlevel3_edit</th>\n",
       "      <th>adm1</th>\n",
       "      <th>adm3</th>\n",
       "      <th>adm2</th>\n",
       "      <th>NAME</th>\n",
       "      <th>geocoding_method</th>\n",
       "      <th>longitude</th>\n",
       "      <th>latitude</th>\n",
       "    </tr>\n",
       "  </thead>\n",
       "  <tbody>\n",
       "    <tr>\n",
       "      <th>47</th>\n",
       "      <td>Mali</td>\n",
       "      <td>Bamako</td>\n",
       "      <td>District Commune II</td>\n",
       "      <td>Benkady</td>\n",
       "      <td>CSCom BENKADY</td>\n",
       "      <td>Benkady</td>\n",
       "      <td>Commune II</td>\n",
       "      <td>Bamako</td>\n",
       "      <td>Benkadi</td>\n",
       "      <td>NaN</td>\n",
       "      <td>cscom benkady</td>\n",
       "      <td>None</td>\n",
       "      <td>NaN</td>\n",
       "      <td>NaN</td>\n",
       "    </tr>\n",
       "    <tr>\n",
       "      <th>48</th>\n",
       "      <td>Mali</td>\n",
       "      <td>Bamako</td>\n",
       "      <td>District Commune II</td>\n",
       "      <td>Benkady</td>\n",
       "      <td>Centre de santé Mutualiste TSF \"Valentin de Pa...</td>\n",
       "      <td>Benkady</td>\n",
       "      <td>Commune II</td>\n",
       "      <td>Bamako</td>\n",
       "      <td>Benkadi</td>\n",
       "      <td>NaN</td>\n",
       "      <td>de santé mutualiste tsf \"valentin de pablo\"</td>\n",
       "      <td>None</td>\n",
       "      <td>NaN</td>\n",
       "      <td>NaN</td>\n",
       "    </tr>\n",
       "  </tbody>\n",
       "</table>\n",
       "</div>"
      ],
      "text/plain": [
       "   orgunitlevel1 orgunitlevel2        orgunitlevel3 orgunitlevel4  \\\n",
       "47          Mali        Bamako  District Commune II       Benkady   \n",
       "48          Mali        Bamako  District Commune II       Benkady   \n",
       "\n",
       "                                        orgunitlevel5 orgunitlevel4_edit  \\\n",
       "47                                      CSCom BENKADY            Benkady   \n",
       "48  Centre de santé Mutualiste TSF \"Valentin de Pa...            Benkady   \n",
       "\n",
       "   orgunitlevel3_edit    adm1     adm3 adm2  \\\n",
       "47         Commune II  Bamako  Benkadi  NaN   \n",
       "48         Commune II  Bamako  Benkadi  NaN   \n",
       "\n",
       "                                           NAME geocoding_method  longitude  \\\n",
       "47                                cscom benkady             None        NaN   \n",
       "48  de santé mutualiste tsf \"valentin de pablo\"             None        NaN   \n",
       "\n",
       "    latitude  \n",
       "47       NaN  \n",
       "48       NaN  "
      ]
     },
     "execution_count": 63,
     "metadata": {},
     "output_type": "execute_result"
    }
   ],
   "source": [
    "records_subset.head(2)"
   ]
  },
  {
   "cell_type": "code",
   "execution_count": 64,
   "metadata": {
    "code_folding": [],
    "scrolled": true
   },
   "outputs": [
    {
     "name": "stderr",
     "output_type": "stream",
     "text": [
      "473it [04:09,  1.89it/s]\n"
     ]
    }
   ],
   "source": [
    "for idx, row in tqdm(records_subset.iterrows()):\n",
    "    \n",
    "    adm3 = geob3.loc[geob3['shapeName'] == row['adm3']].copy()\n",
    "    run_geocoding(idx, row, records, adm3, ['NAME', 'adm3'], 'ml')"
   ]
  },
  {
   "cell_type": "code",
   "execution_count": 65,
   "metadata": {},
   "outputs": [
    {
     "data": {
      "text/html": [
       "<style type=\"text/css\">\n",
       "</style>\n",
       "<table id=\"T_6bab2_\">\n",
       "  <thead>\n",
       "    <tr>\n",
       "      <th class=\"blank level0\" >&nbsp;</th>\n",
       "      <th class=\"col_heading level0 col0\" >count</th>\n",
       "      <th class=\"col_heading level0 col1\" >pct</th>\n",
       "    </tr>\n",
       "    <tr>\n",
       "      <th class=\"index_name level0\" >geocoding_method</th>\n",
       "      <th class=\"blank col0\" >&nbsp;</th>\n",
       "      <th class=\"blank col1\" >&nbsp;</th>\n",
       "    </tr>\n",
       "  </thead>\n",
       "  <tbody>\n",
       "    <tr>\n",
       "      <th id=\"T_6bab2_level0_row0\" class=\"row_heading level0 row0\" >Location from Health Sites IO and within admin 1</th>\n",
       "      <td id=\"T_6bab2_row0_col0\" class=\"data row0 col0\" >145</td>\n",
       "      <td id=\"T_6bab2_row0_col1\" class=\"data row0 col1\" >7.6%</td>\n",
       "    </tr>\n",
       "    <tr>\n",
       "      <th id=\"T_6bab2_level0_row1\" class=\"row_heading level0 row1\" >Location from Health Sites IO and within admin 2</th>\n",
       "      <td id=\"T_6bab2_row1_col0\" class=\"data row1 col0\" >72</td>\n",
       "      <td id=\"T_6bab2_row1_col1\" class=\"data row1 col1\" >3.8%</td>\n",
       "    </tr>\n",
       "    <tr>\n",
       "      <th id=\"T_6bab2_level0_row2\" class=\"row_heading level0 row2\" >Location from Health Sites IO and within admin 3</th>\n",
       "      <td id=\"T_6bab2_row2_col0\" class=\"data row2 col0\" >45</td>\n",
       "      <td id=\"T_6bab2_row2_col1\" class=\"data row2 col1\" >2.4%</td>\n",
       "    </tr>\n",
       "    <tr>\n",
       "      <th id=\"T_6bab2_level0_row3\" class=\"row_heading level0 row3\" >Location from Rhino Dataset and within admin 1</th>\n",
       "      <td id=\"T_6bab2_row3_col0\" class=\"data row3 col0\" >37</td>\n",
       "      <td id=\"T_6bab2_row3_col1\" class=\"data row3 col1\" >2.0%</td>\n",
       "    </tr>\n",
       "    <tr>\n",
       "      <th id=\"T_6bab2_level0_row4\" class=\"row_heading level0 row4\" >Location from Rhino Dataset and within admin 2</th>\n",
       "      <td id=\"T_6bab2_row4_col0\" class=\"data row4 col0\" >120</td>\n",
       "      <td id=\"T_6bab2_row4_col1\" class=\"data row4 col1\" >6.3%</td>\n",
       "    </tr>\n",
       "    <tr>\n",
       "      <th id=\"T_6bab2_level0_row5\" class=\"row_heading level0 row5\" >Location from Rhino Dataset and within admin 3</th>\n",
       "      <td id=\"T_6bab2_row5_col0\" class=\"data row5 col0\" >44</td>\n",
       "      <td id=\"T_6bab2_row5_col1\" class=\"data row5 col1\" >2.3%</td>\n",
       "    </tr>\n",
       "    <tr>\n",
       "      <th id=\"T_6bab2_level0_row6\" class=\"row_heading level0 row6\" >NAME and adm3 query Bing</th>\n",
       "      <td id=\"T_6bab2_row6_col0\" class=\"data row6 col0\" >244</td>\n",
       "      <td id=\"T_6bab2_row6_col1\" class=\"data row6 col1\" >12.9%</td>\n",
       "    </tr>\n",
       "    <tr>\n",
       "      <th id=\"T_6bab2_level0_row7\" class=\"row_heading level0 row7\" >NAME and adm3 query Google</th>\n",
       "      <td id=\"T_6bab2_row7_col0\" class=\"data row7 col0\" >149</td>\n",
       "      <td id=\"T_6bab2_row7_col1\" class=\"data row7 col1\" >7.9%</td>\n",
       "    </tr>\n",
       "    <tr>\n",
       "      <th id=\"T_6bab2_level0_row8\" class=\"row_heading level0 row8\" >NAME and adm3 query OSM</th>\n",
       "      <td id=\"T_6bab2_row8_col0\" class=\"data row8 col0\" >13</td>\n",
       "      <td id=\"T_6bab2_row8_col1\" class=\"data row8 col1\" >0.7%</td>\n",
       "    </tr>\n",
       "    <tr>\n",
       "      <th id=\"T_6bab2_level0_row9\" class=\"row_heading level0 row9\" >None</th>\n",
       "      <td id=\"T_6bab2_row9_col0\" class=\"data row9 col0\" >1027</td>\n",
       "      <td id=\"T_6bab2_row9_col1\" class=\"data row9 col1\" >54.2%</td>\n",
       "    </tr>\n",
       "  </tbody>\n",
       "</table>\n"
      ],
      "text/plain": [
       "<pandas.io.formats.style.Styler at 0x7f9e6c5c3ed0>"
      ]
     },
     "execution_count": 65,
     "metadata": {},
     "output_type": "execute_result"
    }
   ],
   "source": [
    "report_geocoding(records)"
   ]
  },
  {
   "cell_type": "code",
   "execution_count": 66,
   "metadata": {},
   "outputs": [],
   "source": [
    "records_subset = records.loc[records.geocoding_method==\"None\"].copy()\n",
    "records_subset = records_subset.loc[~records_subset.adm3.isna()].copy()\n",
    "records_subset = records_subset.loc[~records_subset.adm2.isna()].copy()"
   ]
  },
  {
   "cell_type": "code",
   "execution_count": 67,
   "metadata": {},
   "outputs": [
    {
     "data": {
      "text/plain": [
       "58"
      ]
     },
     "execution_count": 67,
     "metadata": {},
     "output_type": "execute_result"
    }
   ],
   "source": [
    "len(records_subset)"
   ]
  },
  {
   "cell_type": "markdown",
   "metadata": {},
   "source": [
    "## Facility name and admin 2 names"
   ]
  },
  {
   "cell_type": "markdown",
   "metadata": {},
   "source": [
    "Geocode based on facility name (orgunitlevel5) + admin 2 name.  \n",
    "Check to make sure result falls within admin 3 polygon."
   ]
  },
  {
   "cell_type": "code",
   "execution_count": 68,
   "metadata": {},
   "outputs": [
    {
     "name": "stderr",
     "output_type": "stream",
     "text": [
      "58it [00:30,  1.89it/s]\n"
     ]
    }
   ],
   "source": [
    "for idx, row in tqdm(records_subset.iterrows()):\n",
    "    \n",
    "    adm3 = geob3.loc[geob3['shapeName'] == row['adm3']].copy()\n",
    "    run_geocoding(idx, row, records, adm3, ['NAME', 'adm2'], 'ml')"
   ]
  },
  {
   "cell_type": "code",
   "execution_count": 69,
   "metadata": {},
   "outputs": [
    {
     "data": {
      "text/html": [
       "<style type=\"text/css\">\n",
       "</style>\n",
       "<table id=\"T_7c8bf_\">\n",
       "  <thead>\n",
       "    <tr>\n",
       "      <th class=\"blank level0\" >&nbsp;</th>\n",
       "      <th class=\"col_heading level0 col0\" >count</th>\n",
       "      <th class=\"col_heading level0 col1\" >pct</th>\n",
       "    </tr>\n",
       "    <tr>\n",
       "      <th class=\"index_name level0\" >geocoding_method</th>\n",
       "      <th class=\"blank col0\" >&nbsp;</th>\n",
       "      <th class=\"blank col1\" >&nbsp;</th>\n",
       "    </tr>\n",
       "  </thead>\n",
       "  <tbody>\n",
       "    <tr>\n",
       "      <th id=\"T_7c8bf_level0_row0\" class=\"row_heading level0 row0\" >Location from Health Sites IO and within admin 1</th>\n",
       "      <td id=\"T_7c8bf_row0_col0\" class=\"data row0 col0\" >145</td>\n",
       "      <td id=\"T_7c8bf_row0_col1\" class=\"data row0 col1\" >7.6%</td>\n",
       "    </tr>\n",
       "    <tr>\n",
       "      <th id=\"T_7c8bf_level0_row1\" class=\"row_heading level0 row1\" >Location from Health Sites IO and within admin 2</th>\n",
       "      <td id=\"T_7c8bf_row1_col0\" class=\"data row1 col0\" >72</td>\n",
       "      <td id=\"T_7c8bf_row1_col1\" class=\"data row1 col1\" >3.8%</td>\n",
       "    </tr>\n",
       "    <tr>\n",
       "      <th id=\"T_7c8bf_level0_row2\" class=\"row_heading level0 row2\" >Location from Health Sites IO and within admin 3</th>\n",
       "      <td id=\"T_7c8bf_row2_col0\" class=\"data row2 col0\" >45</td>\n",
       "      <td id=\"T_7c8bf_row2_col1\" class=\"data row2 col1\" >2.4%</td>\n",
       "    </tr>\n",
       "    <tr>\n",
       "      <th id=\"T_7c8bf_level0_row3\" class=\"row_heading level0 row3\" >Location from Rhino Dataset and within admin 1</th>\n",
       "      <td id=\"T_7c8bf_row3_col0\" class=\"data row3 col0\" >37</td>\n",
       "      <td id=\"T_7c8bf_row3_col1\" class=\"data row3 col1\" >2.0%</td>\n",
       "    </tr>\n",
       "    <tr>\n",
       "      <th id=\"T_7c8bf_level0_row4\" class=\"row_heading level0 row4\" >Location from Rhino Dataset and within admin 2</th>\n",
       "      <td id=\"T_7c8bf_row4_col0\" class=\"data row4 col0\" >120</td>\n",
       "      <td id=\"T_7c8bf_row4_col1\" class=\"data row4 col1\" >6.3%</td>\n",
       "    </tr>\n",
       "    <tr>\n",
       "      <th id=\"T_7c8bf_level0_row5\" class=\"row_heading level0 row5\" >Location from Rhino Dataset and within admin 3</th>\n",
       "      <td id=\"T_7c8bf_row5_col0\" class=\"data row5 col0\" >44</td>\n",
       "      <td id=\"T_7c8bf_row5_col1\" class=\"data row5 col1\" >2.3%</td>\n",
       "    </tr>\n",
       "    <tr>\n",
       "      <th id=\"T_7c8bf_level0_row6\" class=\"row_heading level0 row6\" >NAME and adm2 query Bing</th>\n",
       "      <td id=\"T_7c8bf_row6_col0\" class=\"data row6 col0\" >13</td>\n",
       "      <td id=\"T_7c8bf_row6_col1\" class=\"data row6 col1\" >0.7%</td>\n",
       "    </tr>\n",
       "    <tr>\n",
       "      <th id=\"T_7c8bf_level0_row7\" class=\"row_heading level0 row7\" >NAME and adm2 query Google</th>\n",
       "      <td id=\"T_7c8bf_row7_col0\" class=\"data row7 col0\" >7</td>\n",
       "      <td id=\"T_7c8bf_row7_col1\" class=\"data row7 col1\" >0.4%</td>\n",
       "    </tr>\n",
       "    <tr>\n",
       "      <th id=\"T_7c8bf_level0_row8\" class=\"row_heading level0 row8\" >NAME and adm2 query OSM</th>\n",
       "      <td id=\"T_7c8bf_row8_col0\" class=\"data row8 col0\" >1</td>\n",
       "      <td id=\"T_7c8bf_row8_col1\" class=\"data row8 col1\" >0.1%</td>\n",
       "    </tr>\n",
       "    <tr>\n",
       "      <th id=\"T_7c8bf_level0_row9\" class=\"row_heading level0 row9\" >NAME and adm3 query Bing</th>\n",
       "      <td id=\"T_7c8bf_row9_col0\" class=\"data row9 col0\" >244</td>\n",
       "      <td id=\"T_7c8bf_row9_col1\" class=\"data row9 col1\" >12.9%</td>\n",
       "    </tr>\n",
       "    <tr>\n",
       "      <th id=\"T_7c8bf_level0_row10\" class=\"row_heading level0 row10\" >NAME and adm3 query Google</th>\n",
       "      <td id=\"T_7c8bf_row10_col0\" class=\"data row10 col0\" >149</td>\n",
       "      <td id=\"T_7c8bf_row10_col1\" class=\"data row10 col1\" >7.9%</td>\n",
       "    </tr>\n",
       "    <tr>\n",
       "      <th id=\"T_7c8bf_level0_row11\" class=\"row_heading level0 row11\" >NAME and adm3 query OSM</th>\n",
       "      <td id=\"T_7c8bf_row11_col0\" class=\"data row11 col0\" >13</td>\n",
       "      <td id=\"T_7c8bf_row11_col1\" class=\"data row11 col1\" >0.7%</td>\n",
       "    </tr>\n",
       "    <tr>\n",
       "      <th id=\"T_7c8bf_level0_row12\" class=\"row_heading level0 row12\" >None</th>\n",
       "      <td id=\"T_7c8bf_row12_col0\" class=\"data row12 col0\" >1006</td>\n",
       "      <td id=\"T_7c8bf_row12_col1\" class=\"data row12 col1\" >53.1%</td>\n",
       "    </tr>\n",
       "  </tbody>\n",
       "</table>\n"
      ],
      "text/plain": [
       "<pandas.io.formats.style.Styler at 0x7f9e6c453050>"
      ]
     },
     "execution_count": 69,
     "metadata": {},
     "output_type": "execute_result"
    }
   ],
   "source": [
    "report_geocoding(records)"
   ]
  },
  {
   "cell_type": "code",
   "execution_count": 70,
   "metadata": {},
   "outputs": [],
   "source": [
    "records_subset = records.loc[records.geocoding_method==\"None\"].copy()\n",
    "records_subset = records_subset.loc[~records_subset.adm3.isna()].copy()"
   ]
  },
  {
   "cell_type": "code",
   "execution_count": 71,
   "metadata": {},
   "outputs": [
    {
     "data": {
      "text/plain": [
       "46"
      ]
     },
     "execution_count": 71,
     "metadata": {},
     "output_type": "execute_result"
    }
   ],
   "source": [
    "len(records_subset)"
   ]
  },
  {
   "cell_type": "markdown",
   "metadata": {},
   "source": [
    "## Facility name and admin 1 names"
   ]
  },
  {
   "cell_type": "code",
   "execution_count": 72,
   "metadata": {},
   "outputs": [
    {
     "name": "stderr",
     "output_type": "stream",
     "text": [
      "46it [00:23,  1.93it/s]\n"
     ]
    }
   ],
   "source": [
    "for idx, row in tqdm(records_subset.iterrows()):\n",
    "    \n",
    "    adm3 = geob3.loc[geob3['shapeName'] == row['adm3']].copy()\n",
    "    run_geocoding(idx, row, records, adm3, ['NAME', 'adm1'], 'ml')"
   ]
  },
  {
   "cell_type": "code",
   "execution_count": 73,
   "metadata": {},
   "outputs": [],
   "source": [
    "records_subset = records.loc[records.geocoding_method==\"None\"].copy()\n",
    "records_subset = records_subset.loc[~records_subset.adm3.isna()].copy()"
   ]
  },
  {
   "cell_type": "markdown",
   "metadata": {},
   "source": [
    "## Admin 3 names"
   ]
  },
  {
   "cell_type": "markdown",
   "metadata": {},
   "source": [
    "Geocode based on admin 3 name.  \n",
    "Check to make sure result falls within admin 3 polygon.  \n",
    "If no result use admin 3 centroid."
   ]
  },
  {
   "cell_type": "code",
   "execution_count": 74,
   "metadata": {},
   "outputs": [],
   "source": [
    "orglev4_df = records_subset[['orgunitlevel4', 'orgunitlevel4_edit', 'adm3', 'orgunitlevel1']].drop_duplicates().copy()"
   ]
  },
  {
   "cell_type": "code",
   "execution_count": 75,
   "metadata": {},
   "outputs": [
    {
     "data": {
      "text/html": [
       "<div>\n",
       "<style scoped>\n",
       "    .dataframe tbody tr th:only-of-type {\n",
       "        vertical-align: middle;\n",
       "    }\n",
       "\n",
       "    .dataframe tbody tr th {\n",
       "        vertical-align: top;\n",
       "    }\n",
       "\n",
       "    .dataframe thead th {\n",
       "        text-align: right;\n",
       "    }\n",
       "</style>\n",
       "<table border=\"1\" class=\"dataframe\">\n",
       "  <thead>\n",
       "    <tr style=\"text-align: right;\">\n",
       "      <th></th>\n",
       "      <th>orgunitlevel4</th>\n",
       "      <th>orgunitlevel4_edit</th>\n",
       "      <th>adm3</th>\n",
       "      <th>orgunitlevel1</th>\n",
       "    </tr>\n",
       "  </thead>\n",
       "  <tbody>\n",
       "    <tr>\n",
       "      <th>47</th>\n",
       "      <td>Benkady</td>\n",
       "      <td>Benkady</td>\n",
       "      <td>Benkadi</td>\n",
       "      <td>Mali</td>\n",
       "    </tr>\n",
       "    <tr>\n",
       "      <th>295</th>\n",
       "      <td>Bahondo</td>\n",
       "      <td>Bahondo</td>\n",
       "      <td>Bondo</td>\n",
       "      <td>Mali</td>\n",
       "    </tr>\n",
       "  </tbody>\n",
       "</table>\n",
       "</div>"
      ],
      "text/plain": [
       "    orgunitlevel4 orgunitlevel4_edit     adm3 orgunitlevel1\n",
       "47        Benkady            Benkady  Benkadi          Mali\n",
       "295       Bahondo            Bahondo    Bondo          Mali"
      ]
     },
     "execution_count": 75,
     "metadata": {},
     "output_type": "execute_result"
    }
   ],
   "source": [
    "orglev4_df.head(2)"
   ]
  },
  {
   "cell_type": "code",
   "execution_count": 76,
   "metadata": {},
   "outputs": [
    {
     "data": {
      "text/plain": [
       "40"
      ]
     },
     "execution_count": 76,
     "metadata": {},
     "output_type": "execute_result"
    }
   ],
   "source": [
    "len(orglev4_df)"
   ]
  },
  {
   "cell_type": "code",
   "execution_count": 77,
   "metadata": {},
   "outputs": [
    {
     "name": "stderr",
     "output_type": "stream",
     "text": [
      "40it [00:20,  1.91it/s]\n"
     ]
    }
   ],
   "source": [
    "for idx, row in tqdm(orglev4_df.iterrows()):\n",
    "    adm3 = geob3.loc[geob3['shapeName'] == row['adm3']].copy()\n",
    "    run_geocoding(idx, row, orglev4_df, adm3, ['orgunitlevel4', 'orgunitlevel1'], 'ml')"
   ]
  },
  {
   "cell_type": "code",
   "execution_count": 78,
   "metadata": {},
   "outputs": [
    {
     "name": "stderr",
     "output_type": "stream",
     "text": [
      "40it [00:00, 454.58it/s]\n"
     ]
    }
   ],
   "source": [
    "for idx, row in tqdm(orglev4_df.iterrows()):\n",
    "    \n",
    "    #grab admin geometry\n",
    "    adm3 = geob3.loc[geob3['shapeName'] == row['adm3']].copy()\n",
    "    if row.geocoding_method==\"None\":\n",
    "        cent = adm3.geometry.representative_point().iloc[0]\n",
    "        orglev4_df.loc[idx, \"longitude\"] = cent.x\n",
    "        orglev4_df.loc[idx, \"latitude\"] = cent.y\n",
    "        orglev4_df.loc[idx, \"geocoding_method\"] = \"District centroid\""
   ]
  },
  {
   "cell_type": "code",
   "execution_count": 79,
   "metadata": {},
   "outputs": [
    {
     "data": {
      "text/plain": [
       "District centroid                               33\n",
       "orgunitlevel4 and orgunitlevel1 query OSM        5\n",
       "orgunitlevel4 and orgunitlevel1 query Bing       1\n",
       "orgunitlevel4 and orgunitlevel1 query Google     1\n",
       "Name: geocoding_method, dtype: int64"
      ]
     },
     "execution_count": 79,
     "metadata": {},
     "output_type": "execute_result"
    }
   ],
   "source": [
    "orglev4_df.geocoding_method.value_counts()"
   ]
  },
  {
   "cell_type": "code",
   "execution_count": 80,
   "metadata": {},
   "outputs": [
    {
     "name": "stderr",
     "output_type": "stream",
     "text": [
      "42it [00:00, 912.19it/s]\n"
     ]
    }
   ],
   "source": [
    "# update main records table\n",
    "for idx, row in tqdm(records_subset.iterrows()):\n",
    "    orglev4_geocoded = orglev4_df.loc[orglev4_df['orgunitlevel4']==row['orgunitlevel4']].iloc[0]    \n",
    "    records.loc[idx, \"longitude\"] = orglev4_geocoded.longitude\n",
    "    records.loc[idx, \"latitude\"] = orglev4_geocoded.latitude\n",
    "    records.loc[idx, \"geocoding_method\"] = orglev4_geocoded.geocoding_method"
   ]
  },
  {
   "cell_type": "code",
   "execution_count": 81,
   "metadata": {},
   "outputs": [
    {
     "data": {
      "text/html": [
       "<style type=\"text/css\">\n",
       "</style>\n",
       "<table id=\"T_605df_\">\n",
       "  <thead>\n",
       "    <tr>\n",
       "      <th class=\"blank level0\" >&nbsp;</th>\n",
       "      <th class=\"col_heading level0 col0\" >count</th>\n",
       "      <th class=\"col_heading level0 col1\" >pct</th>\n",
       "    </tr>\n",
       "    <tr>\n",
       "      <th class=\"index_name level0\" >geocoding_method</th>\n",
       "      <th class=\"blank col0\" >&nbsp;</th>\n",
       "      <th class=\"blank col1\" >&nbsp;</th>\n",
       "    </tr>\n",
       "  </thead>\n",
       "  <tbody>\n",
       "    <tr>\n",
       "      <th id=\"T_605df_level0_row0\" class=\"row_heading level0 row0\" >District centroid</th>\n",
       "      <td id=\"T_605df_row0_col0\" class=\"data row0 col0\" >35</td>\n",
       "      <td id=\"T_605df_row0_col1\" class=\"data row0 col1\" >1.8%</td>\n",
       "    </tr>\n",
       "    <tr>\n",
       "      <th id=\"T_605df_level0_row1\" class=\"row_heading level0 row1\" >Location from Health Sites IO and within admin 1</th>\n",
       "      <td id=\"T_605df_row1_col0\" class=\"data row1 col0\" >145</td>\n",
       "      <td id=\"T_605df_row1_col1\" class=\"data row1 col1\" >7.6%</td>\n",
       "    </tr>\n",
       "    <tr>\n",
       "      <th id=\"T_605df_level0_row2\" class=\"row_heading level0 row2\" >Location from Health Sites IO and within admin 2</th>\n",
       "      <td id=\"T_605df_row2_col0\" class=\"data row2 col0\" >72</td>\n",
       "      <td id=\"T_605df_row2_col1\" class=\"data row2 col1\" >3.8%</td>\n",
       "    </tr>\n",
       "    <tr>\n",
       "      <th id=\"T_605df_level0_row3\" class=\"row_heading level0 row3\" >Location from Health Sites IO and within admin 3</th>\n",
       "      <td id=\"T_605df_row3_col0\" class=\"data row3 col0\" >45</td>\n",
       "      <td id=\"T_605df_row3_col1\" class=\"data row3 col1\" >2.4%</td>\n",
       "    </tr>\n",
       "    <tr>\n",
       "      <th id=\"T_605df_level0_row4\" class=\"row_heading level0 row4\" >Location from Rhino Dataset and within admin 1</th>\n",
       "      <td id=\"T_605df_row4_col0\" class=\"data row4 col0\" >37</td>\n",
       "      <td id=\"T_605df_row4_col1\" class=\"data row4 col1\" >2.0%</td>\n",
       "    </tr>\n",
       "    <tr>\n",
       "      <th id=\"T_605df_level0_row5\" class=\"row_heading level0 row5\" >Location from Rhino Dataset and within admin 2</th>\n",
       "      <td id=\"T_605df_row5_col0\" class=\"data row5 col0\" >120</td>\n",
       "      <td id=\"T_605df_row5_col1\" class=\"data row5 col1\" >6.3%</td>\n",
       "    </tr>\n",
       "    <tr>\n",
       "      <th id=\"T_605df_level0_row6\" class=\"row_heading level0 row6\" >Location from Rhino Dataset and within admin 3</th>\n",
       "      <td id=\"T_605df_row6_col0\" class=\"data row6 col0\" >44</td>\n",
       "      <td id=\"T_605df_row6_col1\" class=\"data row6 col1\" >2.3%</td>\n",
       "    </tr>\n",
       "    <tr>\n",
       "      <th id=\"T_605df_level0_row7\" class=\"row_heading level0 row7\" >NAME and adm1 query Bing</th>\n",
       "      <td id=\"T_605df_row7_col0\" class=\"data row7 col0\" >3</td>\n",
       "      <td id=\"T_605df_row7_col1\" class=\"data row7 col1\" >0.2%</td>\n",
       "    </tr>\n",
       "    <tr>\n",
       "      <th id=\"T_605df_level0_row8\" class=\"row_heading level0 row8\" >NAME and adm1 query Google</th>\n",
       "      <td id=\"T_605df_row8_col0\" class=\"data row8 col0\" >1</td>\n",
       "      <td id=\"T_605df_row8_col1\" class=\"data row8 col1\" >0.1%</td>\n",
       "    </tr>\n",
       "    <tr>\n",
       "      <th id=\"T_605df_level0_row9\" class=\"row_heading level0 row9\" >NAME and adm2 query Bing</th>\n",
       "      <td id=\"T_605df_row9_col0\" class=\"data row9 col0\" >13</td>\n",
       "      <td id=\"T_605df_row9_col1\" class=\"data row9 col1\" >0.7%</td>\n",
       "    </tr>\n",
       "    <tr>\n",
       "      <th id=\"T_605df_level0_row10\" class=\"row_heading level0 row10\" >NAME and adm2 query Google</th>\n",
       "      <td id=\"T_605df_row10_col0\" class=\"data row10 col0\" >7</td>\n",
       "      <td id=\"T_605df_row10_col1\" class=\"data row10 col1\" >0.4%</td>\n",
       "    </tr>\n",
       "    <tr>\n",
       "      <th id=\"T_605df_level0_row11\" class=\"row_heading level0 row11\" >NAME and adm2 query OSM</th>\n",
       "      <td id=\"T_605df_row11_col0\" class=\"data row11 col0\" >1</td>\n",
       "      <td id=\"T_605df_row11_col1\" class=\"data row11 col1\" >0.1%</td>\n",
       "    </tr>\n",
       "    <tr>\n",
       "      <th id=\"T_605df_level0_row12\" class=\"row_heading level0 row12\" >NAME and adm3 query Bing</th>\n",
       "      <td id=\"T_605df_row12_col0\" class=\"data row12 col0\" >244</td>\n",
       "      <td id=\"T_605df_row12_col1\" class=\"data row12 col1\" >12.9%</td>\n",
       "    </tr>\n",
       "    <tr>\n",
       "      <th id=\"T_605df_level0_row13\" class=\"row_heading level0 row13\" >NAME and adm3 query Google</th>\n",
       "      <td id=\"T_605df_row13_col0\" class=\"data row13 col0\" >149</td>\n",
       "      <td id=\"T_605df_row13_col1\" class=\"data row13 col1\" >7.9%</td>\n",
       "    </tr>\n",
       "    <tr>\n",
       "      <th id=\"T_605df_level0_row14\" class=\"row_heading level0 row14\" >NAME and adm3 query OSM</th>\n",
       "      <td id=\"T_605df_row14_col0\" class=\"data row14 col0\" >13</td>\n",
       "      <td id=\"T_605df_row14_col1\" class=\"data row14 col1\" >0.7%</td>\n",
       "    </tr>\n",
       "    <tr>\n",
       "      <th id=\"T_605df_level0_row15\" class=\"row_heading level0 row15\" >None</th>\n",
       "      <td id=\"T_605df_row15_col0\" class=\"data row15 col0\" >960</td>\n",
       "      <td id=\"T_605df_row15_col1\" class=\"data row15 col1\" >50.6%</td>\n",
       "    </tr>\n",
       "    <tr>\n",
       "      <th id=\"T_605df_level0_row16\" class=\"row_heading level0 row16\" >orgunitlevel4 and orgunitlevel1 query Bing</th>\n",
       "      <td id=\"T_605df_row16_col0\" class=\"data row16 col0\" >1</td>\n",
       "      <td id=\"T_605df_row16_col1\" class=\"data row16 col1\" >0.1%</td>\n",
       "    </tr>\n",
       "    <tr>\n",
       "      <th id=\"T_605df_level0_row17\" class=\"row_heading level0 row17\" >orgunitlevel4 and orgunitlevel1 query Google</th>\n",
       "      <td id=\"T_605df_row17_col0\" class=\"data row17 col0\" >1</td>\n",
       "      <td id=\"T_605df_row17_col1\" class=\"data row17 col1\" >0.1%</td>\n",
       "    </tr>\n",
       "    <tr>\n",
       "      <th id=\"T_605df_level0_row18\" class=\"row_heading level0 row18\" >orgunitlevel4 and orgunitlevel1 query OSM</th>\n",
       "      <td id=\"T_605df_row18_col0\" class=\"data row18 col0\" >5</td>\n",
       "      <td id=\"T_605df_row18_col1\" class=\"data row18 col1\" >0.3%</td>\n",
       "    </tr>\n",
       "  </tbody>\n",
       "</table>\n"
      ],
      "text/plain": [
       "<pandas.io.formats.style.Styler at 0x7f9e6c4af3d0>"
      ]
     },
     "execution_count": 81,
     "metadata": {},
     "output_type": "execute_result"
    }
   ],
   "source": [
    "report_geocoding(records)"
   ]
  },
  {
   "cell_type": "code",
   "execution_count": 82,
   "metadata": {},
   "outputs": [],
   "source": [
    "records_subset = records.loc[records.geocoding_method==\"None\"].copy()\n",
    "# records_subset = records_subset.loc[~records.adm3.isna()].copy()\n",
    "records_subset = records_subset.loc[~records.adm2.isna()].copy()\n",
    "# records_subset = records_subset.loc[~records.adm1.isna()].copy()"
   ]
  },
  {
   "cell_type": "code",
   "execution_count": 83,
   "metadata": {},
   "outputs": [
    {
     "data": {
      "text/plain": [
       "607"
      ]
     },
     "execution_count": 83,
     "metadata": {},
     "output_type": "execute_result"
    }
   ],
   "source": [
    "len(records_subset)"
   ]
  },
  {
   "cell_type": "markdown",
   "metadata": {},
   "source": [
    "## Admin 3  and admin 2 names"
   ]
  },
  {
   "cell_type": "markdown",
   "metadata": {},
   "source": [
    "Geocode based on admin 3 name and admin 2 name.    \n",
    "Check to make sure result falls within admin 2 polygon.  "
   ]
  },
  {
   "cell_type": "code",
   "execution_count": 84,
   "metadata": {},
   "outputs": [],
   "source": [
    "orglev4_df = records_subset[['orgunitlevel4', 'orgunitlevel4_edit', 'adm2']].drop_duplicates().copy()"
   ]
  },
  {
   "cell_type": "code",
   "execution_count": 85,
   "metadata": {},
   "outputs": [
    {
     "data": {
      "text/plain": [
       "542"
      ]
     },
     "execution_count": 85,
     "metadata": {},
     "output_type": "execute_result"
    }
   ],
   "source": [
    "len(orglev4_df)"
   ]
  },
  {
   "cell_type": "code",
   "execution_count": 86,
   "metadata": {},
   "outputs": [
    {
     "name": "stderr",
     "output_type": "stream",
     "text": [
      "542it [04:35,  1.97it/s]\n"
     ]
    }
   ],
   "source": [
    "for idx, row in tqdm(orglev4_df.iterrows()):\n",
    "    \n",
    "#     if not pd.isna(row.adm2):\n",
    "    adm2 = geob2.loc[geob2['shapeName'] == row['adm2']].copy()\n",
    "    run_geocoding(idx, row, orglev4_df, adm2, ['orgunitlevel4', 'adm2'], 'ml')"
   ]
  },
  {
   "cell_type": "code",
   "execution_count": 87,
   "metadata": {},
   "outputs": [
    {
     "data": {
      "text/plain": [
       "orgunitlevel4 and adm2 query OSM       370\n",
       "orgunitlevel4 and adm2 query Bing      134\n",
       "orgunitlevel4 and adm2 query Google     28\n",
       "None                                    10\n",
       "Name: geocoding_method, dtype: int64"
      ]
     },
     "execution_count": 87,
     "metadata": {},
     "output_type": "execute_result"
    }
   ],
   "source": [
    "orglev4_df.geocoding_method.value_counts()"
   ]
  },
  {
   "cell_type": "code",
   "execution_count": 88,
   "metadata": {},
   "outputs": [
    {
     "name": "stderr",
     "output_type": "stream",
     "text": [
      "607it [00:00, 866.81it/s]\n"
     ]
    }
   ],
   "source": [
    "for idx, row in tqdm(records_subset.iterrows()):\n",
    "    orglev4_geocoded = orglev4_df.loc[orglev4_df['orgunitlevel4']==row['orgunitlevel4']].iloc[0]    \n",
    "    records.loc[idx, \"longitude\"] = orglev4_geocoded.longitude\n",
    "    records.loc[idx, \"latitude\"] = orglev4_geocoded.latitude\n",
    "    records.loc[idx, \"geocoding_method\"] = orglev4_geocoded.geocoding_method"
   ]
  },
  {
   "cell_type": "code",
   "execution_count": 89,
   "metadata": {
    "scrolled": true
   },
   "outputs": [
    {
     "data": {
      "text/html": [
       "<style type=\"text/css\">\n",
       "</style>\n",
       "<table id=\"T_007c1_\">\n",
       "  <thead>\n",
       "    <tr>\n",
       "      <th class=\"blank level0\" >&nbsp;</th>\n",
       "      <th class=\"col_heading level0 col0\" >count</th>\n",
       "      <th class=\"col_heading level0 col1\" >pct</th>\n",
       "    </tr>\n",
       "    <tr>\n",
       "      <th class=\"index_name level0\" >geocoding_method</th>\n",
       "      <th class=\"blank col0\" >&nbsp;</th>\n",
       "      <th class=\"blank col1\" >&nbsp;</th>\n",
       "    </tr>\n",
       "  </thead>\n",
       "  <tbody>\n",
       "    <tr>\n",
       "      <th id=\"T_007c1_level0_row0\" class=\"row_heading level0 row0\" >District centroid</th>\n",
       "      <td id=\"T_007c1_row0_col0\" class=\"data row0 col0\" >35</td>\n",
       "      <td id=\"T_007c1_row0_col1\" class=\"data row0 col1\" >1.8%</td>\n",
       "    </tr>\n",
       "    <tr>\n",
       "      <th id=\"T_007c1_level0_row1\" class=\"row_heading level0 row1\" >Location from Health Sites IO and within admin 1</th>\n",
       "      <td id=\"T_007c1_row1_col0\" class=\"data row1 col0\" >145</td>\n",
       "      <td id=\"T_007c1_row1_col1\" class=\"data row1 col1\" >7.6%</td>\n",
       "    </tr>\n",
       "    <tr>\n",
       "      <th id=\"T_007c1_level0_row2\" class=\"row_heading level0 row2\" >Location from Health Sites IO and within admin 2</th>\n",
       "      <td id=\"T_007c1_row2_col0\" class=\"data row2 col0\" >72</td>\n",
       "      <td id=\"T_007c1_row2_col1\" class=\"data row2 col1\" >3.8%</td>\n",
       "    </tr>\n",
       "    <tr>\n",
       "      <th id=\"T_007c1_level0_row3\" class=\"row_heading level0 row3\" >Location from Health Sites IO and within admin 3</th>\n",
       "      <td id=\"T_007c1_row3_col0\" class=\"data row3 col0\" >45</td>\n",
       "      <td id=\"T_007c1_row3_col1\" class=\"data row3 col1\" >2.4%</td>\n",
       "    </tr>\n",
       "    <tr>\n",
       "      <th id=\"T_007c1_level0_row4\" class=\"row_heading level0 row4\" >Location from Rhino Dataset and within admin 1</th>\n",
       "      <td id=\"T_007c1_row4_col0\" class=\"data row4 col0\" >37</td>\n",
       "      <td id=\"T_007c1_row4_col1\" class=\"data row4 col1\" >2.0%</td>\n",
       "    </tr>\n",
       "    <tr>\n",
       "      <th id=\"T_007c1_level0_row5\" class=\"row_heading level0 row5\" >Location from Rhino Dataset and within admin 2</th>\n",
       "      <td id=\"T_007c1_row5_col0\" class=\"data row5 col0\" >120</td>\n",
       "      <td id=\"T_007c1_row5_col1\" class=\"data row5 col1\" >6.3%</td>\n",
       "    </tr>\n",
       "    <tr>\n",
       "      <th id=\"T_007c1_level0_row6\" class=\"row_heading level0 row6\" >Location from Rhino Dataset and within admin 3</th>\n",
       "      <td id=\"T_007c1_row6_col0\" class=\"data row6 col0\" >44</td>\n",
       "      <td id=\"T_007c1_row6_col1\" class=\"data row6 col1\" >2.3%</td>\n",
       "    </tr>\n",
       "    <tr>\n",
       "      <th id=\"T_007c1_level0_row7\" class=\"row_heading level0 row7\" >NAME and adm1 query Bing</th>\n",
       "      <td id=\"T_007c1_row7_col0\" class=\"data row7 col0\" >3</td>\n",
       "      <td id=\"T_007c1_row7_col1\" class=\"data row7 col1\" >0.2%</td>\n",
       "    </tr>\n",
       "    <tr>\n",
       "      <th id=\"T_007c1_level0_row8\" class=\"row_heading level0 row8\" >NAME and adm1 query Google</th>\n",
       "      <td id=\"T_007c1_row8_col0\" class=\"data row8 col0\" >1</td>\n",
       "      <td id=\"T_007c1_row8_col1\" class=\"data row8 col1\" >0.1%</td>\n",
       "    </tr>\n",
       "    <tr>\n",
       "      <th id=\"T_007c1_level0_row9\" class=\"row_heading level0 row9\" >NAME and adm2 query Bing</th>\n",
       "      <td id=\"T_007c1_row9_col0\" class=\"data row9 col0\" >13</td>\n",
       "      <td id=\"T_007c1_row9_col1\" class=\"data row9 col1\" >0.7%</td>\n",
       "    </tr>\n",
       "    <tr>\n",
       "      <th id=\"T_007c1_level0_row10\" class=\"row_heading level0 row10\" >NAME and adm2 query Google</th>\n",
       "      <td id=\"T_007c1_row10_col0\" class=\"data row10 col0\" >7</td>\n",
       "      <td id=\"T_007c1_row10_col1\" class=\"data row10 col1\" >0.4%</td>\n",
       "    </tr>\n",
       "    <tr>\n",
       "      <th id=\"T_007c1_level0_row11\" class=\"row_heading level0 row11\" >NAME and adm2 query OSM</th>\n",
       "      <td id=\"T_007c1_row11_col0\" class=\"data row11 col0\" >1</td>\n",
       "      <td id=\"T_007c1_row11_col1\" class=\"data row11 col1\" >0.1%</td>\n",
       "    </tr>\n",
       "    <tr>\n",
       "      <th id=\"T_007c1_level0_row12\" class=\"row_heading level0 row12\" >NAME and adm3 query Bing</th>\n",
       "      <td id=\"T_007c1_row12_col0\" class=\"data row12 col0\" >244</td>\n",
       "      <td id=\"T_007c1_row12_col1\" class=\"data row12 col1\" >12.9%</td>\n",
       "    </tr>\n",
       "    <tr>\n",
       "      <th id=\"T_007c1_level0_row13\" class=\"row_heading level0 row13\" >NAME and adm3 query Google</th>\n",
       "      <td id=\"T_007c1_row13_col0\" class=\"data row13 col0\" >149</td>\n",
       "      <td id=\"T_007c1_row13_col1\" class=\"data row13 col1\" >7.9%</td>\n",
       "    </tr>\n",
       "    <tr>\n",
       "      <th id=\"T_007c1_level0_row14\" class=\"row_heading level0 row14\" >NAME and adm3 query OSM</th>\n",
       "      <td id=\"T_007c1_row14_col0\" class=\"data row14 col0\" >13</td>\n",
       "      <td id=\"T_007c1_row14_col1\" class=\"data row14 col1\" >0.7%</td>\n",
       "    </tr>\n",
       "    <tr>\n",
       "      <th id=\"T_007c1_level0_row15\" class=\"row_heading level0 row15\" >None</th>\n",
       "      <td id=\"T_007c1_row15_col0\" class=\"data row15 col0\" >364</td>\n",
       "      <td id=\"T_007c1_row15_col1\" class=\"data row15 col1\" >19.2%</td>\n",
       "    </tr>\n",
       "    <tr>\n",
       "      <th id=\"T_007c1_level0_row16\" class=\"row_heading level0 row16\" >orgunitlevel4 and adm2 query Bing</th>\n",
       "      <td id=\"T_007c1_row16_col0\" class=\"data row16 col0\" >149</td>\n",
       "      <td id=\"T_007c1_row16_col1\" class=\"data row16 col1\" >7.9%</td>\n",
       "    </tr>\n",
       "    <tr>\n",
       "      <th id=\"T_007c1_level0_row17\" class=\"row_heading level0 row17\" >orgunitlevel4 and adm2 query Google</th>\n",
       "      <td id=\"T_007c1_row17_col0\" class=\"data row17 col0\" >37</td>\n",
       "      <td id=\"T_007c1_row17_col1\" class=\"data row17 col1\" >2.0%</td>\n",
       "    </tr>\n",
       "    <tr>\n",
       "      <th id=\"T_007c1_level0_row18\" class=\"row_heading level0 row18\" >orgunitlevel4 and adm2 query OSM</th>\n",
       "      <td id=\"T_007c1_row18_col0\" class=\"data row18 col0\" >410</td>\n",
       "      <td id=\"T_007c1_row18_col1\" class=\"data row18 col1\" >21.6%</td>\n",
       "    </tr>\n",
       "    <tr>\n",
       "      <th id=\"T_007c1_level0_row19\" class=\"row_heading level0 row19\" >orgunitlevel4 and orgunitlevel1 query Bing</th>\n",
       "      <td id=\"T_007c1_row19_col0\" class=\"data row19 col0\" >1</td>\n",
       "      <td id=\"T_007c1_row19_col1\" class=\"data row19 col1\" >0.1%</td>\n",
       "    </tr>\n",
       "    <tr>\n",
       "      <th id=\"T_007c1_level0_row20\" class=\"row_heading level0 row20\" >orgunitlevel4 and orgunitlevel1 query Google</th>\n",
       "      <td id=\"T_007c1_row20_col0\" class=\"data row20 col0\" >1</td>\n",
       "      <td id=\"T_007c1_row20_col1\" class=\"data row20 col1\" >0.1%</td>\n",
       "    </tr>\n",
       "    <tr>\n",
       "      <th id=\"T_007c1_level0_row21\" class=\"row_heading level0 row21\" >orgunitlevel4 and orgunitlevel1 query OSM</th>\n",
       "      <td id=\"T_007c1_row21_col0\" class=\"data row21 col0\" >5</td>\n",
       "      <td id=\"T_007c1_row21_col1\" class=\"data row21 col1\" >0.3%</td>\n",
       "    </tr>\n",
       "  </tbody>\n",
       "</table>\n"
      ],
      "text/plain": [
       "<pandas.io.formats.style.Styler at 0x7f9e6c452b10>"
      ]
     },
     "execution_count": 89,
     "metadata": {},
     "output_type": "execute_result"
    }
   ],
   "source": [
    "report_geocoding(records)"
   ]
  },
  {
   "cell_type": "code",
   "execution_count": 90,
   "metadata": {},
   "outputs": [],
   "source": [
    "records_subset = records.loc[records.geocoding_method==\"None\"].copy()"
   ]
  },
  {
   "cell_type": "code",
   "execution_count": 91,
   "metadata": {},
   "outputs": [
    {
     "data": {
      "text/plain": [
       "364"
      ]
     },
     "execution_count": 91,
     "metadata": {},
     "output_type": "execute_result"
    }
   ],
   "source": [
    "len(records_subset)"
   ]
  },
  {
   "cell_type": "markdown",
   "metadata": {},
   "source": [
    "## Admin 3 and admin 1 names"
   ]
  },
  {
   "cell_type": "code",
   "execution_count": 92,
   "metadata": {},
   "outputs": [],
   "source": [
    "orglev4_df = records_subset[['orgunitlevel4', 'orgunitlevel4_edit', 'adm2', 'adm1']].drop_duplicates().copy()"
   ]
  },
  {
   "cell_type": "code",
   "execution_count": 93,
   "metadata": {},
   "outputs": [
    {
     "data": {
      "text/plain": [
       "192"
      ]
     },
     "execution_count": 93,
     "metadata": {},
     "output_type": "execute_result"
    }
   ],
   "source": [
    "len(orglev4_df)"
   ]
  },
  {
   "cell_type": "code",
   "execution_count": 94,
   "metadata": {},
   "outputs": [
    {
     "name": "stderr",
     "output_type": "stream",
     "text": [
      "192it [01:37,  1.98it/s]\n"
     ]
    }
   ],
   "source": [
    "for idx, row in tqdm(orglev4_df.iterrows()):\n",
    "    \n",
    "#     if not pd.isna(row.adm2):\n",
    "    adm1 = fews1.loc[fews1['ADMIN1'] == row['adm1']].copy()\n",
    "    run_geocoding(idx, row, orglev4_df, adm1, ['orgunitlevel4', 'adm1'], 'ml')"
   ]
  },
  {
   "cell_type": "code",
   "execution_count": 95,
   "metadata": {},
   "outputs": [
    {
     "data": {
      "text/plain": [
       "orgunitlevel4 and adm1 query Bing      94\n",
       "orgunitlevel4 and adm1 query OSM       86\n",
       "None                                    6\n",
       "orgunitlevel4 and adm1 query Google     6\n",
       "Name: geocoding_method, dtype: int64"
      ]
     },
     "execution_count": 95,
     "metadata": {},
     "output_type": "execute_result"
    }
   ],
   "source": [
    "orglev4_df.geocoding_method.value_counts()"
   ]
  },
  {
   "cell_type": "code",
   "execution_count": 96,
   "metadata": {},
   "outputs": [
    {
     "name": "stderr",
     "output_type": "stream",
     "text": [
      "364it [00:00, 898.66it/s]\n"
     ]
    }
   ],
   "source": [
    "for idx, row in tqdm(records_subset.iterrows()):\n",
    "    orglev4_geocoded = orglev4_df.loc[orglev4_df['orgunitlevel4']==row['orgunitlevel4']].iloc[0]    \n",
    "    records.loc[idx, \"longitude\"] = orglev4_geocoded.longitude\n",
    "    records.loc[idx, \"latitude\"] = orglev4_geocoded.latitude\n",
    "    records.loc[idx, \"geocoding_method\"] = orglev4_geocoded.geocoding_method"
   ]
  },
  {
   "cell_type": "code",
   "execution_count": 97,
   "metadata": {},
   "outputs": [
    {
     "data": {
      "text/html": [
       "<style type=\"text/css\">\n",
       "</style>\n",
       "<table id=\"T_56210_\">\n",
       "  <thead>\n",
       "    <tr>\n",
       "      <th class=\"blank level0\" >&nbsp;</th>\n",
       "      <th class=\"col_heading level0 col0\" >count</th>\n",
       "      <th class=\"col_heading level0 col1\" >pct</th>\n",
       "    </tr>\n",
       "    <tr>\n",
       "      <th class=\"index_name level0\" >geocoding_method</th>\n",
       "      <th class=\"blank col0\" >&nbsp;</th>\n",
       "      <th class=\"blank col1\" >&nbsp;</th>\n",
       "    </tr>\n",
       "  </thead>\n",
       "  <tbody>\n",
       "    <tr>\n",
       "      <th id=\"T_56210_level0_row0\" class=\"row_heading level0 row0\" >District centroid</th>\n",
       "      <td id=\"T_56210_row0_col0\" class=\"data row0 col0\" >35</td>\n",
       "      <td id=\"T_56210_row0_col1\" class=\"data row0 col1\" >1.8%</td>\n",
       "    </tr>\n",
       "    <tr>\n",
       "      <th id=\"T_56210_level0_row1\" class=\"row_heading level0 row1\" >Location from Health Sites IO and within admin 1</th>\n",
       "      <td id=\"T_56210_row1_col0\" class=\"data row1 col0\" >145</td>\n",
       "      <td id=\"T_56210_row1_col1\" class=\"data row1 col1\" >7.6%</td>\n",
       "    </tr>\n",
       "    <tr>\n",
       "      <th id=\"T_56210_level0_row2\" class=\"row_heading level0 row2\" >Location from Health Sites IO and within admin 2</th>\n",
       "      <td id=\"T_56210_row2_col0\" class=\"data row2 col0\" >72</td>\n",
       "      <td id=\"T_56210_row2_col1\" class=\"data row2 col1\" >3.8%</td>\n",
       "    </tr>\n",
       "    <tr>\n",
       "      <th id=\"T_56210_level0_row3\" class=\"row_heading level0 row3\" >Location from Health Sites IO and within admin 3</th>\n",
       "      <td id=\"T_56210_row3_col0\" class=\"data row3 col0\" >45</td>\n",
       "      <td id=\"T_56210_row3_col1\" class=\"data row3 col1\" >2.4%</td>\n",
       "    </tr>\n",
       "    <tr>\n",
       "      <th id=\"T_56210_level0_row4\" class=\"row_heading level0 row4\" >Location from Rhino Dataset and within admin 1</th>\n",
       "      <td id=\"T_56210_row4_col0\" class=\"data row4 col0\" >37</td>\n",
       "      <td id=\"T_56210_row4_col1\" class=\"data row4 col1\" >2.0%</td>\n",
       "    </tr>\n",
       "    <tr>\n",
       "      <th id=\"T_56210_level0_row5\" class=\"row_heading level0 row5\" >Location from Rhino Dataset and within admin 2</th>\n",
       "      <td id=\"T_56210_row5_col0\" class=\"data row5 col0\" >120</td>\n",
       "      <td id=\"T_56210_row5_col1\" class=\"data row5 col1\" >6.3%</td>\n",
       "    </tr>\n",
       "    <tr>\n",
       "      <th id=\"T_56210_level0_row6\" class=\"row_heading level0 row6\" >Location from Rhino Dataset and within admin 3</th>\n",
       "      <td id=\"T_56210_row6_col0\" class=\"data row6 col0\" >44</td>\n",
       "      <td id=\"T_56210_row6_col1\" class=\"data row6 col1\" >2.3%</td>\n",
       "    </tr>\n",
       "    <tr>\n",
       "      <th id=\"T_56210_level0_row7\" class=\"row_heading level0 row7\" >NAME and adm1 query Bing</th>\n",
       "      <td id=\"T_56210_row7_col0\" class=\"data row7 col0\" >3</td>\n",
       "      <td id=\"T_56210_row7_col1\" class=\"data row7 col1\" >0.2%</td>\n",
       "    </tr>\n",
       "    <tr>\n",
       "      <th id=\"T_56210_level0_row8\" class=\"row_heading level0 row8\" >NAME and adm1 query Google</th>\n",
       "      <td id=\"T_56210_row8_col0\" class=\"data row8 col0\" >1</td>\n",
       "      <td id=\"T_56210_row8_col1\" class=\"data row8 col1\" >0.1%</td>\n",
       "    </tr>\n",
       "    <tr>\n",
       "      <th id=\"T_56210_level0_row9\" class=\"row_heading level0 row9\" >NAME and adm2 query Bing</th>\n",
       "      <td id=\"T_56210_row9_col0\" class=\"data row9 col0\" >13</td>\n",
       "      <td id=\"T_56210_row9_col1\" class=\"data row9 col1\" >0.7%</td>\n",
       "    </tr>\n",
       "    <tr>\n",
       "      <th id=\"T_56210_level0_row10\" class=\"row_heading level0 row10\" >NAME and adm2 query Google</th>\n",
       "      <td id=\"T_56210_row10_col0\" class=\"data row10 col0\" >7</td>\n",
       "      <td id=\"T_56210_row10_col1\" class=\"data row10 col1\" >0.4%</td>\n",
       "    </tr>\n",
       "    <tr>\n",
       "      <th id=\"T_56210_level0_row11\" class=\"row_heading level0 row11\" >NAME and adm2 query OSM</th>\n",
       "      <td id=\"T_56210_row11_col0\" class=\"data row11 col0\" >1</td>\n",
       "      <td id=\"T_56210_row11_col1\" class=\"data row11 col1\" >0.1%</td>\n",
       "    </tr>\n",
       "    <tr>\n",
       "      <th id=\"T_56210_level0_row12\" class=\"row_heading level0 row12\" >NAME and adm3 query Bing</th>\n",
       "      <td id=\"T_56210_row12_col0\" class=\"data row12 col0\" >244</td>\n",
       "      <td id=\"T_56210_row12_col1\" class=\"data row12 col1\" >12.9%</td>\n",
       "    </tr>\n",
       "    <tr>\n",
       "      <th id=\"T_56210_level0_row13\" class=\"row_heading level0 row13\" >NAME and adm3 query Google</th>\n",
       "      <td id=\"T_56210_row13_col0\" class=\"data row13 col0\" >149</td>\n",
       "      <td id=\"T_56210_row13_col1\" class=\"data row13 col1\" >7.9%</td>\n",
       "    </tr>\n",
       "    <tr>\n",
       "      <th id=\"T_56210_level0_row14\" class=\"row_heading level0 row14\" >NAME and adm3 query OSM</th>\n",
       "      <td id=\"T_56210_row14_col0\" class=\"data row14 col0\" >13</td>\n",
       "      <td id=\"T_56210_row14_col1\" class=\"data row14 col1\" >0.7%</td>\n",
       "    </tr>\n",
       "    <tr>\n",
       "      <th id=\"T_56210_level0_row15\" class=\"row_heading level0 row15\" >None</th>\n",
       "      <td id=\"T_56210_row15_col0\" class=\"data row15 col0\" >9</td>\n",
       "      <td id=\"T_56210_row15_col1\" class=\"data row15 col1\" >0.5%</td>\n",
       "    </tr>\n",
       "    <tr>\n",
       "      <th id=\"T_56210_level0_row16\" class=\"row_heading level0 row16\" >orgunitlevel4 and adm1 query Bing</th>\n",
       "      <td id=\"T_56210_row16_col0\" class=\"data row16 col0\" >169</td>\n",
       "      <td id=\"T_56210_row16_col1\" class=\"data row16 col1\" >8.9%</td>\n",
       "    </tr>\n",
       "    <tr>\n",
       "      <th id=\"T_56210_level0_row17\" class=\"row_heading level0 row17\" >orgunitlevel4 and adm1 query Google</th>\n",
       "      <td id=\"T_56210_row17_col0\" class=\"data row17 col0\" >6</td>\n",
       "      <td id=\"T_56210_row17_col1\" class=\"data row17 col1\" >0.3%</td>\n",
       "    </tr>\n",
       "    <tr>\n",
       "      <th id=\"T_56210_level0_row18\" class=\"row_heading level0 row18\" >orgunitlevel4 and adm1 query OSM</th>\n",
       "      <td id=\"T_56210_row18_col0\" class=\"data row18 col0\" >180</td>\n",
       "      <td id=\"T_56210_row18_col1\" class=\"data row18 col1\" >9.5%</td>\n",
       "    </tr>\n",
       "    <tr>\n",
       "      <th id=\"T_56210_level0_row19\" class=\"row_heading level0 row19\" >orgunitlevel4 and adm2 query Bing</th>\n",
       "      <td id=\"T_56210_row19_col0\" class=\"data row19 col0\" >149</td>\n",
       "      <td id=\"T_56210_row19_col1\" class=\"data row19 col1\" >7.9%</td>\n",
       "    </tr>\n",
       "    <tr>\n",
       "      <th id=\"T_56210_level0_row20\" class=\"row_heading level0 row20\" >orgunitlevel4 and adm2 query Google</th>\n",
       "      <td id=\"T_56210_row20_col0\" class=\"data row20 col0\" >37</td>\n",
       "      <td id=\"T_56210_row20_col1\" class=\"data row20 col1\" >2.0%</td>\n",
       "    </tr>\n",
       "    <tr>\n",
       "      <th id=\"T_56210_level0_row21\" class=\"row_heading level0 row21\" >orgunitlevel4 and adm2 query OSM</th>\n",
       "      <td id=\"T_56210_row21_col0\" class=\"data row21 col0\" >410</td>\n",
       "      <td id=\"T_56210_row21_col1\" class=\"data row21 col1\" >21.6%</td>\n",
       "    </tr>\n",
       "    <tr>\n",
       "      <th id=\"T_56210_level0_row22\" class=\"row_heading level0 row22\" >orgunitlevel4 and orgunitlevel1 query Bing</th>\n",
       "      <td id=\"T_56210_row22_col0\" class=\"data row22 col0\" >1</td>\n",
       "      <td id=\"T_56210_row22_col1\" class=\"data row22 col1\" >0.1%</td>\n",
       "    </tr>\n",
       "    <tr>\n",
       "      <th id=\"T_56210_level0_row23\" class=\"row_heading level0 row23\" >orgunitlevel4 and orgunitlevel1 query Google</th>\n",
       "      <td id=\"T_56210_row23_col0\" class=\"data row23 col0\" >1</td>\n",
       "      <td id=\"T_56210_row23_col1\" class=\"data row23 col1\" >0.1%</td>\n",
       "    </tr>\n",
       "    <tr>\n",
       "      <th id=\"T_56210_level0_row24\" class=\"row_heading level0 row24\" >orgunitlevel4 and orgunitlevel1 query OSM</th>\n",
       "      <td id=\"T_56210_row24_col0\" class=\"data row24 col0\" >5</td>\n",
       "      <td id=\"T_56210_row24_col1\" class=\"data row24 col1\" >0.3%</td>\n",
       "    </tr>\n",
       "  </tbody>\n",
       "</table>\n"
      ],
      "text/plain": [
       "<pandas.io.formats.style.Styler at 0x7f9e6e6b31d0>"
      ]
     },
     "execution_count": 97,
     "metadata": {},
     "output_type": "execute_result"
    }
   ],
   "source": [
    "report_geocoding(records)"
   ]
  },
  {
   "cell_type": "markdown",
   "metadata": {},
   "source": [
    "# Map and save results"
   ]
  },
  {
   "cell_type": "code",
   "execution_count": 98,
   "metadata": {},
   "outputs": [],
   "source": [
    "results = records.copy()"
   ]
  },
  {
   "cell_type": "code",
   "execution_count": 99,
   "metadata": {},
   "outputs": [],
   "source": [
    "# # Healthsites IO\n",
    "# results.loc[results.geocoding_method==\"Location from Health Sites IO and within admin 1\", \"geocoding_method\"] = \"Location from Health Sites IO\"\n",
    "# results.loc[results.geocoding_method==\"Location from Health Sites IO and within admin 2\", \"geocoding_method\"] = \"Location from Health Sites IO\"\n",
    "# results.loc[results.geocoding_method==\"Location from Health Sites IO and within admin 3\", \"geocoding_method\"] = \"Location from Health Sites IO\"\n",
    "\n",
    "# # Rhino Dataset\n",
    "# results.loc[results.geocoding_method==\"Location from Rhino Dataset and within admin 1\", \"geocoding_method\"] = \"Location from Rhino Dataset\"\n",
    "# results.loc[results.geocoding_method==\"Location from Rhino Dataset and within admin 2\", \"geocoding_method\"] = \"Location from Rhino Dataset\"\n",
    "# results.loc[results.geocoding_method==\"Location from Rhino Dataset and within admin 3\", \"geocoding_method\"] = \"Location from Rhino Dataset\"\n",
    "\n",
    "# facility name and adm 3\n",
    "results.loc[results.geocoding_method==\"NAME and adm3 query Bing\", \"geocoding_method\"] = \"orgunitlevel5 and adm3 query\"\n",
    "results.loc[results.geocoding_method==\"NAME and adm3 query OSM\", \"geocoding_method\"] = \"orgunitlevel5 and adm3 query\"\n",
    "results.loc[results.geocoding_method==\"NAME and adm3 query Google\", \"geocoding_method\"] = \"orgunitlevel5 and adm3 query\"\n",
    "\n",
    "# facility name and adm 2\n",
    "results.loc[results.geocoding_method==\"NAME and adm2 query Bing\", \"geocoding_method\"] = \"orgunitlevel5 and adm2 query\"\n",
    "results.loc[results.geocoding_method==\"NAME and adm2 query OSM\", \"geocoding_method\"] = \"orgunitlevel5 and adm2 query\"\n",
    "results.loc[results.geocoding_method==\"NAME and adm2 query Google\", \"geocoding_method\"] = \"orgunitlevel5 and adm2 query\"\n",
    "\n",
    "# facility name and adm 1\n",
    "results.loc[results.geocoding_method==\"NAME and adm1 query Bing\", \"geocoding_method\"] = \"orgunitlevel5 and adm1 query\"\n",
    "results.loc[results.geocoding_method==\"NAME and adm1 query OSM\", \"geocoding_method\"] = \"orgunitlevel5 and adm1 query\"\n",
    "results.loc[results.geocoding_method==\"NAME and adm1 query Google\", \"geocoding_method\"] = \"orgunitlevel5 and adm1 query\"\n",
    "\n",
    "# adm 3 name\n",
    "results.loc[results.geocoding_method==\"orgunitlevel4 and orgunitlevel1 query Bing\", \"geocoding_method\"] = \"orgunitlevel4 query\"\n",
    "results.loc[results.geocoding_method==\"orgunitlevel4 and orgunitlevel1 query OSM\", \"geocoding_method\"] = \"orgunitlevel4 query\"\n",
    "results.loc[results.geocoding_method==\"orgunitlevel4 and orgunitlevel1 query Google\", \"geocoding_method\"] = \"orgunitlevel4 query\"\n",
    "\n",
    "# adm 3 name and adm2\n",
    "results.loc[results.geocoding_method==\"orgunitlevel4 and adm2 query Bing\", \"geocoding_method\"] = \"orgunitlevel4 and adm2 query\"\n",
    "results.loc[results.geocoding_method==\"orgunitlevel4 and adm2 query OSM\", \"geocoding_method\"] = \"orgunitlevel4 and adm2 query\"\n",
    "results.loc[results.geocoding_method==\"orgunitlevel4 and adm2 query Google\", \"geocoding_method\"] = \"orgunitlevel4 and adm2 query\"\n",
    "\n",
    "# adm 3 name and adm2\n",
    "results.loc[results.geocoding_method==\"orgunitlevel4 and adm1 query Bing\", \"geocoding_method\"] = \"orgunitlevel4 and adm1 query\"\n",
    "results.loc[results.geocoding_method==\"orgunitlevel4 and adm1 query OSM\", \"geocoding_method\"] = \"orgunitlevel4 and adm1 query\"\n",
    "results.loc[results.geocoding_method==\"orgunitlevel4 and adm1 query Google\", \"geocoding_method\"] = \"orgunitlevel4 and adm1 query\"\n",
    "\n",
    "# Centroid\n",
    "results.loc[results.geocoding_method==\"District centroid\", \"geocoding_method\"] = \"Adm3 centroid\""
   ]
  },
  {
   "cell_type": "code",
   "execution_count": 100,
   "metadata": {},
   "outputs": [
    {
     "data": {
      "text/html": [
       "<style type=\"text/css\">\n",
       "</style>\n",
       "<table id=\"T_8aeb4_\">\n",
       "  <thead>\n",
       "    <tr>\n",
       "      <th class=\"blank level0\" >&nbsp;</th>\n",
       "      <th class=\"col_heading level0 col0\" >count</th>\n",
       "      <th class=\"col_heading level0 col1\" >pct</th>\n",
       "    </tr>\n",
       "    <tr>\n",
       "      <th class=\"index_name level0\" >geocoding_method</th>\n",
       "      <th class=\"blank col0\" >&nbsp;</th>\n",
       "      <th class=\"blank col1\" >&nbsp;</th>\n",
       "    </tr>\n",
       "  </thead>\n",
       "  <tbody>\n",
       "    <tr>\n",
       "      <th id=\"T_8aeb4_level0_row0\" class=\"row_heading level0 row0\" >Adm3 centroid</th>\n",
       "      <td id=\"T_8aeb4_row0_col0\" class=\"data row0 col0\" >35</td>\n",
       "      <td id=\"T_8aeb4_row0_col1\" class=\"data row0 col1\" >1.8%</td>\n",
       "    </tr>\n",
       "    <tr>\n",
       "      <th id=\"T_8aeb4_level0_row1\" class=\"row_heading level0 row1\" >Location from Health Sites IO and within admin 1</th>\n",
       "      <td id=\"T_8aeb4_row1_col0\" class=\"data row1 col0\" >145</td>\n",
       "      <td id=\"T_8aeb4_row1_col1\" class=\"data row1 col1\" >7.6%</td>\n",
       "    </tr>\n",
       "    <tr>\n",
       "      <th id=\"T_8aeb4_level0_row2\" class=\"row_heading level0 row2\" >Location from Health Sites IO and within admin 2</th>\n",
       "      <td id=\"T_8aeb4_row2_col0\" class=\"data row2 col0\" >72</td>\n",
       "      <td id=\"T_8aeb4_row2_col1\" class=\"data row2 col1\" >3.8%</td>\n",
       "    </tr>\n",
       "    <tr>\n",
       "      <th id=\"T_8aeb4_level0_row3\" class=\"row_heading level0 row3\" >Location from Health Sites IO and within admin 3</th>\n",
       "      <td id=\"T_8aeb4_row3_col0\" class=\"data row3 col0\" >45</td>\n",
       "      <td id=\"T_8aeb4_row3_col1\" class=\"data row3 col1\" >2.4%</td>\n",
       "    </tr>\n",
       "    <tr>\n",
       "      <th id=\"T_8aeb4_level0_row4\" class=\"row_heading level0 row4\" >Location from Rhino Dataset and within admin 1</th>\n",
       "      <td id=\"T_8aeb4_row4_col0\" class=\"data row4 col0\" >37</td>\n",
       "      <td id=\"T_8aeb4_row4_col1\" class=\"data row4 col1\" >2.0%</td>\n",
       "    </tr>\n",
       "    <tr>\n",
       "      <th id=\"T_8aeb4_level0_row5\" class=\"row_heading level0 row5\" >Location from Rhino Dataset and within admin 2</th>\n",
       "      <td id=\"T_8aeb4_row5_col0\" class=\"data row5 col0\" >120</td>\n",
       "      <td id=\"T_8aeb4_row5_col1\" class=\"data row5 col1\" >6.3%</td>\n",
       "    </tr>\n",
       "    <tr>\n",
       "      <th id=\"T_8aeb4_level0_row6\" class=\"row_heading level0 row6\" >Location from Rhino Dataset and within admin 3</th>\n",
       "      <td id=\"T_8aeb4_row6_col0\" class=\"data row6 col0\" >44</td>\n",
       "      <td id=\"T_8aeb4_row6_col1\" class=\"data row6 col1\" >2.3%</td>\n",
       "    </tr>\n",
       "    <tr>\n",
       "      <th id=\"T_8aeb4_level0_row7\" class=\"row_heading level0 row7\" >None</th>\n",
       "      <td id=\"T_8aeb4_row7_col0\" class=\"data row7 col0\" >9</td>\n",
       "      <td id=\"T_8aeb4_row7_col1\" class=\"data row7 col1\" >0.5%</td>\n",
       "    </tr>\n",
       "    <tr>\n",
       "      <th id=\"T_8aeb4_level0_row8\" class=\"row_heading level0 row8\" >orgunitlevel4 and adm1 query</th>\n",
       "      <td id=\"T_8aeb4_row8_col0\" class=\"data row8 col0\" >355</td>\n",
       "      <td id=\"T_8aeb4_row8_col1\" class=\"data row8 col1\" >18.7%</td>\n",
       "    </tr>\n",
       "    <tr>\n",
       "      <th id=\"T_8aeb4_level0_row9\" class=\"row_heading level0 row9\" >orgunitlevel4 and adm2 query</th>\n",
       "      <td id=\"T_8aeb4_row9_col0\" class=\"data row9 col0\" >596</td>\n",
       "      <td id=\"T_8aeb4_row9_col1\" class=\"data row9 col1\" >31.4%</td>\n",
       "    </tr>\n",
       "    <tr>\n",
       "      <th id=\"T_8aeb4_level0_row10\" class=\"row_heading level0 row10\" >orgunitlevel4 query</th>\n",
       "      <td id=\"T_8aeb4_row10_col0\" class=\"data row10 col0\" >7</td>\n",
       "      <td id=\"T_8aeb4_row10_col1\" class=\"data row10 col1\" >0.4%</td>\n",
       "    </tr>\n",
       "    <tr>\n",
       "      <th id=\"T_8aeb4_level0_row11\" class=\"row_heading level0 row11\" >orgunitlevel5 and adm1 query</th>\n",
       "      <td id=\"T_8aeb4_row11_col0\" class=\"data row11 col0\" >4</td>\n",
       "      <td id=\"T_8aeb4_row11_col1\" class=\"data row11 col1\" >0.2%</td>\n",
       "    </tr>\n",
       "    <tr>\n",
       "      <th id=\"T_8aeb4_level0_row12\" class=\"row_heading level0 row12\" >orgunitlevel5 and adm2 query</th>\n",
       "      <td id=\"T_8aeb4_row12_col0\" class=\"data row12 col0\" >21</td>\n",
       "      <td id=\"T_8aeb4_row12_col1\" class=\"data row12 col1\" >1.1%</td>\n",
       "    </tr>\n",
       "    <tr>\n",
       "      <th id=\"T_8aeb4_level0_row13\" class=\"row_heading level0 row13\" >orgunitlevel5 and adm3 query</th>\n",
       "      <td id=\"T_8aeb4_row13_col0\" class=\"data row13 col0\" >406</td>\n",
       "      <td id=\"T_8aeb4_row13_col1\" class=\"data row13 col1\" >21.4%</td>\n",
       "    </tr>\n",
       "  </tbody>\n",
       "</table>\n"
      ],
      "text/plain": [
       "<pandas.io.formats.style.Styler at 0x7f9e6c4b7710>"
      ]
     },
     "execution_count": 100,
     "metadata": {},
     "output_type": "execute_result"
    }
   ],
   "source": [
    "report_geocoding(results)"
   ]
  },
  {
   "cell_type": "code",
   "execution_count": 101,
   "metadata": {},
   "outputs": [],
   "source": [
    "results.loc[:, \"geometry\"] = results.apply(lambda x: Point(x.longitude, x.latitude), axis=1)\n",
    "results = gpd.GeoDataFrame(results, geometry='geometry', crs='EPSG:4326')"
   ]
  },
  {
   "cell_type": "code",
   "execution_count": 102,
   "metadata": {},
   "outputs": [
    {
     "data": {
      "image/png": "[encoded data removed]",
      "text/plain": [
       "<Figure size 720x720 with 1 Axes>"
      ]
     },
     "metadata": {
      "needs_background": "light"
     },
     "output_type": "display_data"
    }
   ],
   "source": [
    "fig, ax = plt.subplots(1, 1, figsize=(10,10))\n",
    "geob3.boundary.plot(ax=ax, color='black', linewidth=1).set_axis_off()\n",
    "results.loc[results.geocoding_method!=\"None\"].plot(ax=ax, column='geocoding_method', edgecolor='white', markersize=50, alpha=0.75, legend=True)\n",
    "ctx.add_basemap(ax, source=ctx.providers.Stamen.Terrain, crs='EPSG:4326', zorder=-10)"
   ]
  },
  {
   "cell_type": "markdown",
   "metadata": {},
   "source": [
    "## Join attributes from administrative polygons"
   ]
  },
  {
   "cell_type": "markdown",
   "metadata": {},
   "source": [
    "Join admin data back to results.  \n",
    "For adm3 features, use spatial join to geob3.  "
   ]
  },
  {
   "cell_type": "code",
   "execution_count": 103,
   "metadata": {},
   "outputs": [],
   "source": [
    "records_subset = records.loc[records.geocoding_method==\"None\"].copy()"
   ]
  },
  {
   "cell_type": "code",
   "execution_count": 104,
   "metadata": {},
   "outputs": [],
   "source": [
    "results2 = results.loc[~(results.longitude.isna())].copy()"
   ]
  },
  {
   "cell_type": "code",
   "execution_count": 105,
   "metadata": {},
   "outputs": [
    {
     "data": {
      "text/plain": [
       "True"
      ]
     },
     "execution_count": 105,
     "metadata": {},
     "output_type": "execute_result"
    }
   ],
   "source": [
    "len(results2)+len(records_subset)==len(records)"
   ]
  },
  {
   "cell_type": "code",
   "execution_count": 106,
   "metadata": {},
   "outputs": [],
   "source": [
    "# gpd.sjoin?\n",
    "# depending on geopandas ver, might need to use predicate instead of op"
   ]
  },
  {
   "cell_type": "code",
   "execution_count": 107,
   "metadata": {},
   "outputs": [],
   "source": [
    "results2 = gpd.sjoin(results2, geob3[[\"shapeName\", \"shapeID\", \"geometry\"]], how='left', predicate='intersects')\n",
    "results2.drop('index_right', axis=1, inplace=True)"
   ]
  },
  {
   "cell_type": "code",
   "execution_count": 108,
   "metadata": {},
   "outputs": [],
   "source": [
    "results2.rename(\n",
    "    columns={\n",
    "        'shapeName':'geob_adm3',\n",
    "        'shapeID':'geob_adm3_id',\n",
    "    }, inplace=True)"
   ]
  },
  {
   "cell_type": "code",
   "execution_count": 109,
   "metadata": {},
   "outputs": [],
   "source": [
    "results2 = gpd.sjoin(results2, geob2[[\"shapeName\", \"shapeID\", \"geometry\"]], how='left', predicate='intersects')\n",
    "results2.drop('index_right', axis=1, inplace=True)"
   ]
  },
  {
   "cell_type": "code",
   "execution_count": 110,
   "metadata": {},
   "outputs": [],
   "source": [
    "results2.rename(\n",
    "    columns={\n",
    "        'shapeName':'geob_adm2',\n",
    "        'shapeID':'geob_adm2_id',\n",
    "    }, inplace=True)"
   ]
  },
  {
   "cell_type": "code",
   "execution_count": 111,
   "metadata": {},
   "outputs": [],
   "source": [
    "results2 = gpd.sjoin(results2, fews1[[\"ADMIN1\", \"FNID\", \"geometry\"]], how='left', predicate='intersects')\n",
    "results2.drop('index_right', axis=1, inplace=True)"
   ]
  },
  {
   "cell_type": "code",
   "execution_count": 112,
   "metadata": {},
   "outputs": [],
   "source": [
    "results2.rename(\n",
    "    columns={\n",
    "        'ADMIN1':'fews_adm1',\n",
    "        'FNID':'fews_adm1_id',\n",
    "    }, inplace=True)"
   ]
  },
  {
   "cell_type": "code",
   "execution_count": 113,
   "metadata": {},
   "outputs": [],
   "source": [
    "results2 = gpd.sjoin(results2, fews1[[\"ADMIN1\", \"FNID\", \"geometry\"]], how='left', predicate='intersects')\n",
    "results2.drop('index_right', axis=1, inplace=True)"
   ]
  },
  {
   "cell_type": "code",
   "execution_count": 114,
   "metadata": {},
   "outputs": [
    {
     "data": {
      "text/plain": [
       "(0, 0, 3)"
      ]
     },
     "execution_count": 114,
     "metadata": {},
     "output_type": "execute_result"
    }
   ],
   "source": [
    "results2.geob_adm3.isna().sum(), results2.geob_adm2.isna().sum(), results2.fews_adm1.isna().sum()"
   ]
  },
  {
   "cell_type": "code",
   "execution_count": 115,
   "metadata": {},
   "outputs": [],
   "source": [
    "results2.rename(\n",
    "    columns={\n",
    "        'adm1':'fuzzy_match_adm1',\n",
    "        'adm2':'fuzzy_match_adm2',\n",
    "        'adm3':'fuzzy_match_adm3'\n",
    "    }, inplace=True)"
   ]
  },
  {
   "cell_type": "code",
   "execution_count": 116,
   "metadata": {},
   "outputs": [],
   "source": [
    "#results2.to_file(join(output_dir, \"MLI_geocoding_1.27.23.json\"), driver='GeoJSON', index=True)"
   ]
  },
  {
   "cell_type": "code",
   "execution_count": 117,
   "metadata": {},
   "outputs": [],
   "source": [
    "# geob3.to_file(join(output_dir, \"MLI_geob3.json\"), driver='GeoJSON')"
   ]
  },
  {
   "cell_type": "code",
   "execution_count": 118,
   "metadata": {},
   "outputs": [
    {
     "name": "stdout",
     "output_type": "stream",
     "text": [
      "1896\n",
      "1887\n"
     ]
    }
   ],
   "source": [
    "# FYI saving the results2, the results that were able to be geocoded\n",
    "print(len(results))\n",
    "print(len(results2))"
   ]
  },
  {
   "cell_type": "code",
   "execution_count": 120,
   "metadata": {},
   "outputs": [],
   "source": [
    "results_final = pd.concat([results2, records_subset])\n",
    "results_final.sort_index(inplace=True)\n",
    "results_final.to_csv(join(output_dir, \"MLI_geocoding_2.7.23.csv\"))\n",
    "results_final.to_file(join(output_dir, \"MLI_geocoding_2.7.23.json\"), driver=\"GeoJSON\")"
   ]
  }
 ],
 "metadata": {
  "kernelspec": {
   "display_name": "GEO",
   "language": "python",
   "name": "geo"
  },
  "language_info": {
   "codemirror_mode": {
    "name": "ipython",
    "version": 3
   },
   "file_extension": ".py",
   "mimetype": "text/x-python",
   "name": "python",
   "nbconvert_exporter": "python",
   "pygments_lexer": "ipython3",
   "version": "3.7.6"
  },
  "toc": {
   "base_numbering": 1,
   "nav_menu": {
    "height": "146px",
    "width": "280px"
   },
   "number_sections": true,
   "sideBar": true,
   "skip_h1_title": false,
   "title_cell": "Geocoding Notebook - Mali",
   "title_sidebar": "Contents",
   "toc_cell": true,
   "toc_position": {
    "height": "789px",
    "left": "25px",
    "top": "111.125px",
    "width": "494px"
   },
   "toc_section_display": true,
   "toc_window_display": true
  }
 },
 "nbformat": 4,
 "nbformat_minor": 2
}
