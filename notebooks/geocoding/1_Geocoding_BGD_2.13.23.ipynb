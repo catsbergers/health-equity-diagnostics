{
 "cells": [
  {
   "cell_type": "markdown",
   "metadata": {
    "toc": true
   },
   "source": [
    "<h1>Geocoding Notebook - Bangladesh<span class=\"tocSkip\"></span></h1>\n",
    "<div class=\"toc\"><ul class=\"toc-item\"><li><span><a href=\"#Packages-and-functions\" data-toc-modified-id=\"Packages-and-functions-1\"><span class=\"toc-item-num\">1&nbsp;&nbsp;</span>Packages and functions</a></span></li><li><span><a href=\"#Prepare-and-match-admin-boundary-data\" data-toc-modified-id=\"Prepare-and-match-admin-boundary-data-2\"><span class=\"toc-item-num\">2&nbsp;&nbsp;</span>Prepare and match admin boundary data</a></span><ul class=\"toc-item\"><li><span><a href=\"#Match-health-list-admin-names-to-shapefile-admin-names\" data-toc-modified-id=\"Match-health-list-admin-names-to-shapefile-admin-names-2.1\"><span class=\"toc-item-num\">2.1&nbsp;&nbsp;</span>Match health list admin names to shapefile admin names</a></span><ul class=\"toc-item\"><li><span><a href=\"#Match-orgunitlevel4-to-Geob-Adm-3\" data-toc-modified-id=\"Match-orgunitlevel4-to-Geob-Adm-3-2.1.1\"><span class=\"toc-item-num\">2.1.1&nbsp;&nbsp;</span>Match orgunitlevel4 to Geob Adm 3</a></span></li><li><span><a href=\"#Match-orgunitlevel3-to-Geob-Adm-2\" data-toc-modified-id=\"Match-orgunitlevel3-to-Geob-Adm-2-2.1.2\"><span class=\"toc-item-num\">2.1.2&nbsp;&nbsp;</span>Match orgunitlevel3 to Geob Adm 2</a></span></li><li><span><a href=\"#Match-orgunitlevel2-to-Geob-Adm-1\" data-toc-modified-id=\"Match-orgunitlevel2-to-Geob-Adm-1-2.1.3\"><span class=\"toc-item-num\">2.1.3&nbsp;&nbsp;</span>Match orgunitlevel2 to Geob Adm 1</a></span></li></ul></li></ul></li><li><span><a href=\"#Match-to-locations-from-alternative-sources-based-on-facility-name\" data-toc-modified-id=\"Match-to-locations-from-alternative-sources-based-on-facility-name-3\"><span class=\"toc-item-num\">3&nbsp;&nbsp;</span>Match to locations from alternative sources based on facility name</a></span><ul class=\"toc-item\"><li><span><a href=\"#Health-Sites-IO\" data-toc-modified-id=\"Health-Sites-IO-3.1\"><span class=\"toc-item-num\">3.1&nbsp;&nbsp;</span>Health Sites IO</a></span></li><li><span><a href=\"#Health-Sites-IO-using-orgunitlevel-5-name\" data-toc-modified-id=\"Health-Sites-IO-using-orgunitlevel-5-name-3.2\"><span class=\"toc-item-num\">3.2&nbsp;&nbsp;</span>Health Sites IO using orgunitlevel 5 name</a></span></li></ul></li><li><span><a href=\"#Geocoding-with-APIs\" data-toc-modified-id=\"Geocoding-with-APIs-4\"><span class=\"toc-item-num\">4&nbsp;&nbsp;</span>Geocoding with APIs</a></span><ul class=\"toc-item\"><li><span><a href=\"#Facility-name-and-admin-3-names\" data-toc-modified-id=\"Facility-name-and-admin-3-names-4.1\"><span class=\"toc-item-num\">4.1&nbsp;&nbsp;</span>Facility name and admin 3 names</a></span></li><li><span><a href=\"#Facility-name-and-admin-2-names\" data-toc-modified-id=\"Facility-name-and-admin-2-names-4.2\"><span class=\"toc-item-num\">4.2&nbsp;&nbsp;</span>Facility name and admin 2 names</a></span></li><li><span><a href=\"#Facility-name-and-admin-1-names\" data-toc-modified-id=\"Facility-name-and-admin-1-names-4.3\"><span class=\"toc-item-num\">4.3&nbsp;&nbsp;</span>Facility name and admin 1 names</a></span></li><li><span><a href=\"#Orgunitlevel5-names\" data-toc-modified-id=\"Orgunitlevel5-names-4.4\"><span class=\"toc-item-num\">4.4&nbsp;&nbsp;</span>Orgunitlevel5 names</a></span></li><li><span><a href=\"#Orgunitlevel4-names\" data-toc-modified-id=\"Orgunitlevel4-names-4.5\"><span class=\"toc-item-num\">4.5&nbsp;&nbsp;</span>Orgunitlevel4 names</a></span></li><li><span><a href=\"#Admin-3--and-admin-2-names\" data-toc-modified-id=\"Admin-3--and-admin-2-names-4.6\"><span class=\"toc-item-num\">4.6&nbsp;&nbsp;</span>Admin 3  and admin 2 names</a></span></li><li><span><a href=\"#Admin-3--and-admin-1-names\" data-toc-modified-id=\"Admin-3--and-admin-1-names-4.7\"><span class=\"toc-item-num\">4.7&nbsp;&nbsp;</span>Admin 3  and admin 1 names</a></span></li></ul></li><li><span><a href=\"#Map-and-save-results\" data-toc-modified-id=\"Map-and-save-results-5\"><span class=\"toc-item-num\">5&nbsp;&nbsp;</span>Map and save results</a></span><ul class=\"toc-item\"><li><span><a href=\"#Join-attributes-from-adminsitrative-polygons\" data-toc-modified-id=\"Join-attributes-from-adminsitrative-polygons-5.1\"><span class=\"toc-item-num\">5.1&nbsp;&nbsp;</span>Join attributes from adminsitrative polygons</a></span></li></ul></li></ul></div>"
   ]
  },
  {
   "cell_type": "markdown",
   "metadata": {},
   "source": [
    "Version: January 23, 2023\n",
    "\n",
    "This notebook works with health facilities from the HMIS Database and attempts to geolocate them, by joining them to administrative shapefiles, other sources of geo-located health facilities, and running queries with geocoding APIs.\n",
    "\n",
    "**Data Sources**\n",
    "- Health facilities (hierarchy list)\n",
    "- Geoboundaries (Adm1 through 4)\n",
    "- FEWS Admin-2 boundaries (updated post 2017)\n",
    "- Health Sites IO\n",
    "- RHINoVision Master Facility List Decision Support System"
   ]
  },
  {
   "cell_type": "markdown",
   "metadata": {},
   "source": [
    "# Packages and functions"
   ]
  },
  {
   "cell_type": "code",
   "execution_count": 1,
   "metadata": {},
   "outputs": [],
   "source": [
    "import os, sys\n",
    "import geopandas as gpd\n",
    "import pandas as pd\n",
    "from geopy.geocoders import GeoNames, Nominatim, Bing, GoogleV3\n",
    "from shapely.geometry import Point\n",
    "from tqdm import tqdm\n",
    "from thefuzz import fuzz\n",
    "from thefuzz import process\n",
    "import matplotlib.pyplot as plt\n",
    "from string import ascii_uppercase\n",
    "import contextily as ctx\n",
    "from os.path import join\n",
    "from dotenv import load_dotenv, find_dotenv"
   ]
  },
  {
   "cell_type": "code",
   "execution_count": 2,
   "metadata": {
    "code_folding": [
     0,
     16,
     32,
     58,
     74
    ]
   },
   "outputs": [],
   "source": [
    "def remove_words(data_frame, column_name, words_to_remove = ['community', 'clinic', 'centre', 'center', 'hospital', 'health', 'government']):\n",
    "    \"\"\" Remove words from strings in a specified column\n",
    "    \n",
    "    Args:\n",
    "        data_frame: Pandas data frame\n",
    "        column_name: Column name to remove words from\n",
    "        words_to_remove: List of words\n",
    "\n",
    "    Returns:\n",
    "        Removes words in place\n",
    "\n",
    "    \"\"\"\n",
    "    for word in words_to_remove:\n",
    "        data_frame[column_name] = data_frame[column_name].str.replace(word, \"\")\n",
    "    data_frame[column_name] = data_frame[column_name].str.strip()\n",
    "        \n",
    "def report_geocoding(records):\n",
    "    \"\"\" Report value counts and % from geocoding_method column.\n",
    "    \n",
    "    Args:\n",
    "        records: Pandas data frame\n",
    "\n",
    "    Returns:\n",
    "        Table with count stats \n",
    "    \"\"\"\n",
    "    table = records[['NAME', 'geocoding_method']].groupby('geocoding_method').count().rename(columns={'NAME':'count'})\n",
    "    table.loc[:, \"pct\"] = table/(table['count'].sum())\n",
    "    table = table.style.format({\n",
    "        'pct': '{:,.1%}'.format,\n",
    "    })\n",
    "    return(table)\n",
    "\n",
    "def match_name(name, list_names, min_score=0):\n",
    "    \"\"\" Uses fuzzy matching between one string and a list of candidate names.\n",
    "    \n",
    "    Args:\n",
    "        name: string\n",
    "        list_names: list of candidate names to match\n",
    "        min_score: minimum score allowed\n",
    "\n",
    "    Returns:\n",
    "        Returns name with the highest match, and match score\n",
    "        If no match is higher than min score, returns \"\" and -1\n",
    "    \"\"\"\n",
    "    # -1 score incase we don't get any matches\n",
    "    max_score = -1\n",
    "    # Returning empty name for no match as well\n",
    "    max_name = \"\"\n",
    "    # Iterating over all names in the other\n",
    "    for name2 in list_names:\n",
    "        #Finding fuzzy match score\n",
    "        score = fuzz.ratio(name, name2)\n",
    "        # Checking if we are above our threshold and have a better score\n",
    "        if (score > min_score) & (score > max_score):\n",
    "            max_name = name2\n",
    "            max_score = score\n",
    "    return (max_name, max_score)\n",
    "\n",
    "def match_to_closest(row, gdf, column='ADMIN2'):\n",
    "    \"\"\" Spatial join using closest distance algorithm.\n",
    "    \n",
    "    Args:\n",
    "        row: row from geo data frame\n",
    "        gdf: gdf with attributes to join\n",
    "        column: attribute to join\n",
    "\n",
    "    Returns:\n",
    "        Returns specified attribute of closest feature\n",
    "    \"\"\"\n",
    "    distances = [row.geometry.distance(pol) for pol in gdf.geometry]\n",
    "    min_id = np.argmin(distances)\n",
    "    closest = gdf.iloc[min_id]\n",
    "    return closest[column]\n",
    "\n",
    "def run_geocoding(idx, row, master_table, admin_area, components, country_code):\n",
    "    \"\"\"\n",
    "    Geocoding workflow to be applied to each row in a dataset\n",
    "    \n",
    "    Args:\n",
    "        idx: index\n",
    "        row: row with index and names to geocode\n",
    "        master_table: master table to store results\n",
    "        admin_area: gdf of admin area to ensure result falls within\n",
    "        components: list of names of attributes to use in query\n",
    "        country_code: two letter iso code\n",
    "    \n",
    "    Returns:\n",
    "        Stores geocoding results in master_table object\n",
    "    \"\"\"\n",
    "    admin_bounds = admin_area.bounds\n",
    "    bb = [(admin_bounds.iloc[0].miny, admin_bounds.iloc[0].minx), (admin_bounds.iloc[0].maxy, admin_bounds.iloc[0].maxx)]\n",
    "    method = ' and '.join(components)\n",
    "    items = [row[item] for item in components]\n",
    "    query = ', '.join(items)\n",
    "    \n",
    "    geocoding_result = None\n",
    "    geocoding_method = \"None\"\n",
    "    # Try Geocoding with OSM\n",
    "    try:\n",
    "        res = geolocator_osm.geocode(query, country_codes=country_code)\n",
    "        # if within admin\n",
    "        if admin_area.contains(Point(res.longitude,res.latitude)).values[0] == True:\n",
    "            geocoding_result = res\n",
    "            geocoding_method = f\"{method} query OSM\"\n",
    "        else:\n",
    "            raise Exception(\"OSM point not valid or not within polygon\")\n",
    "    except:\n",
    "        # Try Geocoding with Bing Maps\n",
    "        try:\n",
    "            res = geolocator_bing.geocode(query)\n",
    "            # if within admin\n",
    "            if admin_area.contains(Point(res.longitude,res.latitude)).values[0] == True:\n",
    "                geocoding_result = res\n",
    "                geocoding_method = f\"{method} query Bing\"\n",
    "            else:\n",
    "                raise Exception(\"Bing point not valid or not within polygon\")\n",
    "        except:\n",
    "            # Try Geocoding with Google\n",
    "            try:\n",
    "                res = geolocator_google.geocode(query = query, region = country_code, bounds = bb)\n",
    "                if res:\n",
    "                    # if within admin\n",
    "                    if admin_area.contains(Point(res.longitude,res.latitude)).values[0] == True:\n",
    "                        geocoding_result = res\n",
    "                        geocoding_method = f\"{method} query Google\"\n",
    "            except:\n",
    "                raise Exception(\"Google point not valid or not within polygon\")\n",
    "    \n",
    "    master_table.loc[idx, \"geocoding_method\"] = geocoding_method\n",
    "    if geocoding_result:\n",
    "        master_table.loc[idx, \"longitude\"] = res.longitude\n",
    "        master_table.loc[idx, \"latitude\"] = res.latitude"
   ]
  },
  {
   "cell_type": "code",
   "execution_count": 3,
   "metadata": {},
   "outputs": [],
   "source": [
    "iso3 = \"BGD\"\n",
    "country = \"Bangladesh\"\n",
    "input_dir = \"/home/public/Data/PROJECTS/Health\" \n",
    "output_dir = join(input_dir, \"output\", iso3)\n",
    "# if not os.path.exists(out_folder):\n",
    "#     os.mkdir(out_folder)"
   ]
  },
  {
   "cell_type": "markdown",
   "metadata": {},
   "source": [
    "# Prepare and match admin boundary data "
   ]
  },
  {
   "cell_type": "code",
   "execution_count": 4,
   "metadata": {},
   "outputs": [],
   "source": [
    "geob4 = gpd.read_file(f\"https://github.com/wmgeolab/geoBoundaries/raw/b7dd6a5/releaseData/gbOpen/{iso3}/ADM4/geoBoundaries-{iso3}-ADM4.geojson\")\n",
    "geob3 = gpd.read_file(f\"https://github.com/wmgeolab/geoBoundaries/raw/b7dd6a5/releaseData/gbOpen/{iso3}/ADM3/geoBoundaries-{iso3}-ADM3.geojson\")\n",
    "geob2 = gpd.read_file(f\"https://github.com/wmgeolab/geoBoundaries/raw/b7dd6a5/releaseData/gbOpen/{iso3}/ADM2/geoBoundaries-{iso3}-ADM2.geojson\")\n",
    "geob1 = gpd.read_file(f\"https://github.com/wmgeolab/geoBoundaries/raw/b7dd6a5/releaseData/gbOpen/{iso3}/ADM1/geoBoundaries-{iso3}-ADM1.geojson\")"
   ]
  },
  {
   "cell_type": "code",
   "execution_count": 5,
   "metadata": {},
   "outputs": [
    {
     "data": {
      "image/png": "[encoded data removed]",
      "text/plain": [
       "<Figure size 720x720 with 4 Axes>"
      ]
     },
     "metadata": {
      "needs_background": "light"
     },
     "output_type": "display_data"
    }
   ],
   "source": [
    "fig, ax = plt.subplots(2, 2, figsize=(10,10))\n",
    "geob4.boundary.plot(ax=ax[0, 0], color='black', linewidth=0.5).set_axis_off()\n",
    "geob3.boundary.plot(ax=ax[0, 1], color='black', linewidth=1).set_axis_off()\n",
    "geob2.boundary.plot(ax=ax[1, 0], color='black').set_axis_off()\n",
    "geob1.boundary.plot(ax=ax[1, 1], color='black').set_axis_off()\n",
    "# plt.axis('off')"
   ]
  },
  {
   "cell_type": "code",
   "execution_count": 6,
   "metadata": {},
   "outputs": [],
   "source": [
    "master_table = pd.read_csv(os.path.join(input_dir, \"tom_formatted\", \"hierarchy\", \"tom_edited_bangladesh_collapsed2.csv\"), encoding='utf-8')"
   ]
  },
  {
   "cell_type": "code",
   "execution_count": 7,
   "metadata": {},
   "outputs": [
    {
     "data": {
      "text/plain": [
       "20953"
      ]
     },
     "execution_count": 7,
     "metadata": {},
     "output_type": "execute_result"
    }
   ],
   "source": [
    "len(master_table)"
   ]
  },
  {
   "cell_type": "code",
   "execution_count": 8,
   "metadata": {},
   "outputs": [
    {
     "data": {
      "text/html": [
       "<div>\n",
       "<style scoped>\n",
       "    .dataframe tbody tr th:only-of-type {\n",
       "        vertical-align: middle;\n",
       "    }\n",
       "\n",
       "    .dataframe tbody tr th {\n",
       "        vertical-align: top;\n",
       "    }\n",
       "\n",
       "    .dataframe thead th {\n",
       "        text-align: right;\n",
       "    }\n",
       "</style>\n",
       "<table border=\"1\" class=\"dataframe\">\n",
       "  <thead>\n",
       "    <tr style=\"text-align: right;\">\n",
       "      <th></th>\n",
       "      <th>orgunitlevel1</th>\n",
       "      <th>orgunitlevel2</th>\n",
       "      <th>orgunitlevel3</th>\n",
       "      <th>orgunitlevel4</th>\n",
       "      <th>orgunitlevel5</th>\n",
       "      <th>orgunitlevel6</th>\n",
       "      <th>Unnamed: 6</th>\n",
       "    </tr>\n",
       "  </thead>\n",
       "  <tbody>\n",
       "    <tr>\n",
       "      <th>0</th>\n",
       "      <td>Bangladesh</td>\n",
       "      <td>Barishal</td>\n",
       "      <td>Barguna</td>\n",
       "      <td>Amtali</td>\n",
       "      <td>AMTALI</td>\n",
       "      <td>Chalabhanga</td>\n",
       "      <td>NaN</td>\n",
       "    </tr>\n",
       "    <tr>\n",
       "      <th>1</th>\n",
       "      <td>Bangladesh</td>\n",
       "      <td>Barishal</td>\n",
       "      <td>Barguna</td>\n",
       "      <td>Amtali</td>\n",
       "      <td>AMTALI</td>\n",
       "      <td>Islampur</td>\n",
       "      <td>NaN</td>\n",
       "    </tr>\n",
       "  </tbody>\n",
       "</table>\n",
       "</div>"
      ],
      "text/plain": [
       "  orgunitlevel1 orgunitlevel2 orgunitlevel3 orgunitlevel4 orgunitlevel5  \\\n",
       "0    Bangladesh     Barishal       Barguna        Amtali        AMTALI    \n",
       "1    Bangladesh     Barishal       Barguna        Amtali        AMTALI    \n",
       "\n",
       "  orgunitlevel6 Unnamed: 6  \n",
       "0  Chalabhanga         NaN  \n",
       "1     Islampur         NaN  "
      ]
     },
     "execution_count": 8,
     "metadata": {},
     "output_type": "execute_result"
    }
   ],
   "source": [
    "master_table.head(2)"
   ]
  },
  {
   "cell_type": "code",
   "execution_count": 9,
   "metadata": {
    "scrolled": true
   },
   "outputs": [],
   "source": [
    "master_table = master_table.drop('Unnamed: 6', axis=1).copy()"
   ]
  },
  {
   "cell_type": "code",
   "execution_count": 10,
   "metadata": {},
   "outputs": [],
   "source": [
    "master_table = master_table.dropna(axis=0, subset=['orgunitlevel6']).copy()"
   ]
  },
  {
   "cell_type": "code",
   "execution_count": 11,
   "metadata": {},
   "outputs": [
    {
     "data": {
      "text/plain": [
       "13812"
      ]
     },
     "execution_count": 11,
     "metadata": {},
     "output_type": "execute_result"
    }
   ],
   "source": [
    "len(master_table)"
   ]
  },
  {
   "cell_type": "code",
   "execution_count": 12,
   "metadata": {},
   "outputs": [
    {
     "name": "stdout",
     "output_type": "stream",
     "text": [
      "Unique Level 2: 8\n",
      "Unique Level 3: 64\n",
      "Unique Level 4: 484\n",
      "Unique Level 5: 4065\n"
     ]
    }
   ],
   "source": [
    "print(f\"Unique Level 2: {len(master_table.orgunitlevel2.unique())}\")\n",
    "print(f\"Unique Level 3: {len(master_table.orgunitlevel3.unique())}\")\n",
    "print(f\"Unique Level 4: {len(master_table.orgunitlevel4.unique())}\")\n",
    "print(f\"Unique Level 5: {len(master_table.orgunitlevel5.unique())}\")"
   ]
  },
  {
   "cell_type": "code",
   "execution_count": 13,
   "metadata": {},
   "outputs": [
    {
     "name": "stdout",
     "output_type": "stream",
     "text": [
      "Unique Geoboundaries Adm 1: 8\n",
      "Unique Geoboundaries Adm 2: 64\n",
      "Unique Geoboundaries Adm 3: 544\n",
      "Unique Geoboundaries Adm 4: 5160\n"
     ]
    }
   ],
   "source": [
    "print(f\"Unique Geoboundaries Adm 1: {len(geob1)}\")\n",
    "print(f\"Unique Geoboundaries Adm 2: {len(geob2)}\")\n",
    "print(f\"Unique Geoboundaries Adm 3: {len(geob3)}\")\n",
    "print(f\"Unique Geoboundaries Adm 4: {len(geob4)}\")"
   ]
  },
  {
   "cell_type": "markdown",
   "metadata": {},
   "source": [
    "## Match health list admin names to shapefile admin names\n",
    "### Match orgunitlevel4 to Geob Adm 3\n",
    "Try using fuzzy matching  "
   ]
  },
  {
   "cell_type": "code",
   "execution_count": 14,
   "metadata": {},
   "outputs": [],
   "source": [
    "level4_list = list(master_table.orgunitlevel4.unique())\n",
    "level4_list.sort()\n",
    "geob3_list = list(geob3.shapeName)\n",
    "geob3_list.sort()"
   ]
  },
  {
   "cell_type": "markdown",
   "metadata": {},
   "source": [
    "Print names to inspect"
   ]
  },
  {
   "cell_type": "code",
   "execution_count": 15,
   "metadata": {
    "scrolled": true
   },
   "outputs": [
    {
     "name": "stdout",
     "output_type": "stream",
     "text": [
      "Master list level 4\n",
      "\t['Abhaynagar ', 'Adamdighi ', 'Aditmari ', 'Agailjhara ', 'Ajmiriganj ', 'Akhaura ', 'Akkelpur ', 'Alamdanga ', 'Alfadanga ', 'Alikadam ', 'Amtali ', 'Anowara ', 'Araihazar ', 'Ashuganj ', 'Assasuni ', 'Atgharia ', 'Atowari ', 'Atpara ', 'Atrai ', 'Austagram ']\n",
      "Geoboundaries adm3\n",
      "\t['Abhaynagar', 'Adabor', 'Adamdighi', 'Aditmari', 'Agailjhara', 'Ajmiriganj', 'Akhaura', 'Akkelpur', 'Alamdanga', 'Alfadanga', 'Alikadam', 'Amtali', 'Anowara', 'Araihazar', 'Ashuganj', 'Assasuni', 'Atgharia', 'Atpara', 'Atrai', 'Atwari', 'Austagram']\n",
      "\n",
      "\n",
      "Master list level 4\n",
      "\t['Babuganj ', 'Badalgachhi ', 'Badarganj ', 'Bagatipara ', 'Bagerhat Sadar ', 'Bagha ', 'Baghai Chhari ', 'Bagherpara ', 'Baghmara ', 'Bahubal ', 'Bajitpur ', 'Bakerganj ', 'Bakshiganj ', 'Balaganj ', 'Baliadangi ', 'Baliakandi ', 'Bamna ', 'Banaripara ', 'Banchharampur ', 'Bandar ', 'Bandarban Sadar ', 'Baniachong ', 'Banshkhali ', 'Baraigram ', 'Barguna Sadar ', 'Barhatta ', 'Barisal Sadar ', 'Barkal ', 'Barlekha ', 'Barura ', 'Basail ', 'Batiaghata ', 'Bauphal ', 'Beani Bazar ', 'Begumganj ', 'Belabo ', 'Belai Chhari ', 'Belkuchi ', 'Bera ', 'Betagi ', 'Bhaluka ', 'Bhandaria ', 'Bhanga ', 'Bhangura ', 'Bhariab ', 'Bhedarganj ', 'Bheramara ', 'Bhola Sadar ', 'Bholahat ', 'Bhuapur ', 'Bhurungamari ', 'Bijoynagar ', 'Biral ', 'Birampur ', 'Birganj ', 'Bishwambarpur ', 'Biswanath ', 'Boalkhali ', 'Boalmari ', 'Bochaganj ', 'Boda ', 'Bogra Sadar ', 'Brahman Para ', 'Brahmanbaria Sadar ', 'Burhanuddin ', 'Burichang ']\n",
      "Geoboundaries adm3\n",
      "\t['Babuganj', 'Badalgachhi', 'Badarganj', 'Badda', 'Bagati Para', 'Bagerhat Sadar', 'Bagha', 'Baghai Chhari', 'Bagher Para', 'Baghmara', 'Bahubal', 'Bajitpur', 'Bakalia', 'Bakerganj', 'Bakshiganj', 'Balaganj', 'Balia Kandi', 'Baliadangi', 'Bamna', 'Banari Para', 'Banchharampur', 'Bandar', 'Bandarban Sadar', 'Bangshal', 'Baniachong', 'Banshkhali', 'Baraigram', 'Barguna Sadar', 'Barhatta', 'Barisal Sadar (Kotwali)', 'Barkal', 'Barlekha', 'Barura', 'Basail', 'Batiaghata', 'Bauphal', 'Bayejid Bostami', 'Beani Bazar', 'Begumganj', 'Belabo', 'Belai Chhari', 'Belkuchi', 'Bera', 'Betagi', 'Bhairab', 'Bhaluka', 'Bhandaria', 'Bhanga', 'Bhangura', 'Bhedarganj', 'Bheramara', 'Bhola Sadar', 'Bholahat', 'Bhuapur', 'Bhurungamari', 'Bijoynagar', 'Biman Bandar', 'Biral', 'Birampur', 'Birganj', 'Bishwambarpur', 'Bishwanath', 'Boalia', 'Boalkhali', 'Boalmari', 'Bochaganj', 'Boda', 'Bogra Sadar', 'Brahman Para', 'Brahmanbaria Sadar', 'Burhanuddin', 'Burichang']\n",
      "\n",
      "\n",
      "Master list level 4\n",
      "\t['Chakaria ', 'Chandanaish ', 'Chandina ', 'Chandpur Sadar ', 'Chapai Nababganj (Sadar) ', 'Char Bhadrasan ', 'Char Fassion ', 'Char Rajibpur ', 'Charghat ', 'Chatkhil ', 'Chatmohor ', 'Chauddagram ', 'Chaugachha ', 'Chauhali ', 'Chhagalnaiya ', 'Chhatak ', 'Chilmari ', 'Chirir Bandar ', 'Chitalmari ', 'Chuadanga Sadar ', 'Chunarughat ', 'Comilla Sadar ', 'Comilla Sadar South ', 'Companiganj NK ', 'Companiganj SH ', 'Coxs Bazar Sadar ']\n",
      "Geoboundaries adm3\n",
      "\t['Cantonment', 'Chak Bazar', 'Chakaria', 'Chandanaish', 'Chandgaon', 'Chandina', 'Chandpur Sadar', 'Char Bhadrasan', 'Char Fasson', 'Char Rajibpur', 'Charghat', 'Chatkhil', 'Chatmohar', 'Chauddagram', 'Chaugachha', 'Chauhali', 'Chhagalnaiya', 'Chhatak', 'Chilmari', 'Chirirbandar', 'Chitalmari', 'Chittagong Port', 'Chuadanga Sadar', 'Chunarughat', 'Comilla Adarsha Sadar', 'Comilla Sadar Dakshin', 'Companiganj', 'Companiganj', \"Cox's Bazar Sadar\"]\n",
      "\n",
      "\n",
      "Master list level 4\n",
      "\t['Dacope ', 'Daganbhuiyan ', 'Dakshin Sunamganj ', 'Damudya ', 'Damurhuda ', 'Dashmina ', 'Daudkandi ', 'Daulat Khan ', 'Daulatpur KT ', 'Daulatpur MG ', 'Debhata ', 'Debidwar ', 'Debiganj ', 'Delduar ', 'Derai ', 'Dewanganj ', 'Dhamairhat ', 'Dhamrai ', 'Dhanbari ', 'Dharampasa ', 'Dhobaura ', 'Dhunat ', 'Dhupchanchia ', 'Dighalia ', 'Dighinala ', 'Dimla ', 'Dinajpur Sadar ', 'Dohar ', 'Domar ', 'Dowara Bazar ', 'Dumki ', 'Dumuria ', 'Durgapur ', 'Durgapur NK ']\n",
      "Geoboundaries adm3\n",
      "\t['Dacope', 'Daganbhuiyan', 'Dakshin Sunamganj', 'Dakshin Surma', 'Dakshinkhan', 'Damudya', 'Damurhuda', 'Darus Salam', 'Dashmina', 'Daudkandi', 'Daulatkhan', 'Daulatpur', 'Daulatpur', 'Daulatpur', 'Debhata', 'Debidwar', 'Debiganj', 'Delduar', 'Demra', 'Derai', 'Dewanganj', 'Dhamoirhat', 'Dhamrai', 'Dhanbari', 'Dhanmondi', 'Dharampasha', 'Dhobaura', 'Dhunat', 'Dhupchanchia', 'Dighalia', 'Dighinala', 'Dimla', 'Dinajpur Sadar', 'Dohar', 'Domar', 'Double Mooring', 'Dowarabazar', 'Dumki', 'Dumuria', 'Durgapur', 'Durgapur']\n",
      "\n",
      "\n",
      "\n",
      "\n",
      "Master list level 4\n",
      "\t['Fakirhat ', 'Faridganj ', 'Faridpur ', 'Faridpur Sadar ', 'Fatikchhari ', 'Fenchuganj ', 'Feni Sadar ', 'Fulbari DP ', 'Fulbari KG ', 'Fulbaria ', 'Fulchhari ', 'Fulgazi ', 'Fultala ']\n",
      "Geoboundaries adm3\n",
      "\t['Fakirhat', 'Faridganj', 'Faridpur', 'Faridpur Sadar', 'Fatikchhari', 'Fenchuganj', 'Feni Sadar', 'Fulbari', 'Fulbaria', 'Fulchhari', 'Fulgazi']\n",
      "\n",
      "\n",
      "Master list level 4\n",
      "\t['Gabtali ', 'Gaffargaon ', 'Gaibandha Sadar ', 'Gangachara ', 'Gangni ', 'Gauripur ', 'Gazaria ', 'Gazipur Sadar ', 'Ghatail ', 'Ghior ', 'Ghoraghat ', 'Goalanda Ghat ', 'Gobindaganj ', 'Godagari ', 'Golabganj ', 'Golachipa ', 'Gomastapur ', 'Gopalganj Sadar ', 'Gopalpur ', 'Gosairhat ', 'Gournadi ', 'Gowainghat ', 'Gurudashpur ']\n",
      "Geoboundaries adm3\n",
      "\t['Gabtali', 'Gaffargaon', 'Gaibandha Sadar', 'Galachipa', 'Gangachara', 'Gangni', 'Gauripur', 'Gaurnadi', 'Gazaria', 'Gazipur Sadar', 'Gendaria', 'Ghatail', 'Ghior', 'Ghoraghat', 'Goalandaghat', 'Gobindaganj', 'Godagari', 'Golabganj', 'Gomastapur', 'Gopalganj Sadar', 'Gopalpur', 'Gosairhat', 'Gowainghat', 'Gulshan', 'Gurudaspur']\n",
      "\n",
      "\n",
      "Master list level 4\n",
      "\t['Habiganj Sadar ', 'Haim Char ', 'Hajiganj ', 'Hakimpur ', 'Haluaghat ', 'Harinakunda ', 'Haripur ', 'Harirampur ', 'Hathazari ', 'Hatibandha ', 'Hatiya ', 'Hijla ', 'Homna ', 'Hossainpur ']\n",
      "Geoboundaries adm3\n",
      "\t['Habiganj Sadar', 'Haim Char', 'Hajiganj', 'Hakimpur', 'Halishahar', 'Haluaghat', 'Harinakunda', 'Haripur', 'Harirampur', 'Hathazari', 'Hatibandha', 'Hatiya', 'Hazaribagh', 'Hizla', 'Homna', 'Hossainpur']\n",
      "\n",
      "\n",
      "Master list level 4\n",
      "\t['Ishwarganj ', 'Islampur ', 'Iswardi ', 'Itna ']\n",
      "Geoboundaries adm3\n",
      "\t['Ishwardi', 'Ishwarganj', 'Islampur', 'Itna']\n",
      "\n",
      "\n",
      "Master list level 4\n",
      "\t['Jagannathpur ', 'Jaintiapur ', 'Jaldhaka ', 'Jamalganj ', 'Jamalpur Sadar ', 'Jessore Sadar ', 'Jhalokati Sadar ', 'Jhenaidaha Sadar ', 'Jhenaigati ', 'Jhikargachha ', 'Jiban Nagar ', 'Joypurhat Sadar ', 'Jurai Chhari ', 'Juri ']\n",
      "Geoboundaries adm3\n",
      "\t['Jagannathpur', 'Jaintiapur', 'Jaldhaka', 'Jamalganj', 'Jamalpur Sadar', 'Jatrabari', 'Jhalokati Sadar', 'Jhenaidah Sadar', 'Jhenaigati', 'Jhikargachha', 'Jiban Nagar', 'Joypurhat Sadar', 'Jurai Chhari', 'Juri']\n",
      "\n",
      "\n",
      "Master list level 4\n",
      "\t['Kabirhat ', 'Kachua BH ', 'Kachua CP ', 'Kahaloo ', 'Kaharole ', 'Kalai ', 'Kalapara ', 'Kalaroa ', 'Kalia ', 'Kaliakair ', 'Kaliganj GZ ', 'Kaliganj JD ', 'Kaliganj LH ', 'Kaliganj SK ', 'Kalihati ', 'Kalkini ', 'Kalmakanda ', 'Kalukhali ', 'Kamalganj ', 'Kamarkhanda ', 'Kanaighat ', 'Kapasia ', 'Kaptai ', 'Karimganj ', 'Kasba ', 'Kashiani ', 'Kathalia ', 'Katiadi ', 'Kaunia ', 'Kawkhali PP ', 'Kawkhali RM ', 'Kazipur ', 'Kendua ', 'Keraniganj ', 'Keshabpur ', 'Khagrachhari Sadar ', 'Khaliajuri ', 'Khansama ', 'Khetlal ', 'Khoksa ', 'Kishoreganj ', 'Kishoreganj Sadar ', 'Komolnogor ', 'Kotalipara ', 'Kotchandpur ', 'Koyra ', 'Kulaura ', 'Kuliar Char ', 'Kumarkhali ', 'Kurigram Sadar ', 'Kushtia Sadar ', 'Kutubdia ']\n",
      "Geoboundaries adm3\n",
      "\t['Kabirhat', 'Kachua', 'Kachua', 'Kadamtali', 'Kafrul', 'Kahaloo', 'Kaharole', 'Kala Para', 'Kalabagan', 'Kalai', 'Kalaroa', 'Kalia', 'Kaliakair', 'Kaliganj', 'Kaliganj', 'Kaliganj', 'Kaliganj', 'Kalihati', 'Kalkini', 'Kalmakanda', 'Kalukhali', 'Kamalganj', 'Kamalnagar', 'Kamarkhanda', 'Kamrangir Char', 'Kanaighat', 'Kanthalia', 'Kapasia', 'Kaptai', 'Karimganj', 'Kasba', 'Kashiani', 'Katiadi', 'Kaunia', 'Kawkhali', 'Kawkhali (Betbunia)', 'Kazipur', 'Kendua', 'Keraniganj', 'Keshabpur', 'Khagrachhari Sadar', 'Khaliajuri', 'Khalishpur', 'Khan Jahan Ali', 'Khansama', 'Khetlal', 'Khilgaon', 'Khilkhet', 'Khoksa', 'Khulna Sadar', 'Khulshi', 'Kishoreganj', 'Kishoreganj Sadar', 'Kotali Para', 'Kotchandpur', 'Kotwali', 'Kotwali', 'Kotwali', 'Koyra', 'Kulaura', 'Kuliar Char', 'Kumarkhali', 'Kurigram Sadar', 'Kushtia Sadar', 'Kutubdia']\n",
      "\n",
      "\n",
      "Master list level 4\n",
      "\t['Lakhai ', 'Laksham ', 'Lakshmichhari ', 'Lakshmipur Sadar Upazilla', 'Lalmohan ', 'Lalmonirhat Sadar ', 'Lalpur ', 'Lama ', 'Langadu ', 'Lohagara ', 'Lohagora ', 'Lohajang ']\n",
      "Geoboundaries adm3\n",
      "\t['Lakhai', 'Laksam', 'Lakshmichhari', 'Lakshmipur Sadar', 'Lalbagh', 'Lalmohan', 'Lalmonirhat Sadar', 'Lalpur', 'Lama', 'Langadu', 'Lohagara', 'Lohagara', 'Lohajang']\n",
      "\n",
      "\n",
      "Master list level 4\n",
      "\t['Madan ', 'Madarganj ', 'Madaripur Sadar ', 'Madhabpur ', 'Madhupur ', 'Magura Sadar ', 'Mahadebpur ', 'Mahalchhari ', 'Maheshpur ', 'Manda ', 'Manikchhari ', 'Manikganj Sadar ', 'Manirampur ', 'Manohardi ', 'Manoharganj ', 'Mathbaria ', 'Matiranga ', 'Matlab (North) ', 'Matlab (South) ', 'Maulavi Bazar Sadar ', 'Meghna ', 'Mehendiganj ', 'Meherpur Sadar ', 'Melandaha ', 'Mirpur ', 'Mirsharai ', 'Mirzaganj ', 'Mirzapur ', 'Mitha pukur ', 'Mithamain ', 'Modhukhali ', 'Mohammadpur ', 'Mohanganj ', 'Mohanpur ', 'Moheshkhali ', 'Mollahat ', 'Mongla ', 'Monpura ', 'Morrelganj ', 'Mujibnagar ', 'Muksudpur ', 'Muktagachha ', 'Muladi ', 'Munshiganj Sadar ', 'Muradnagar ', 'Mymensingh Sadar ']\n",
      "Geoboundaries adm3\n",
      "\t['Madan', 'Madarganj', 'Madaripur Sadar', 'Madhabpur', 'Madhukhali', 'Madhupur', 'Magura Sadar', 'Mahadebpur', 'Mahalchhari', 'Maheshkhali', 'Maheshpur', 'Manda', 'Manikchhari', 'Manikganj Sadar', 'Manirampur', 'Manohardi', 'Manoharganj', 'Manpura', 'Mathbaria', 'Matihar', 'Matiranga', 'Matlab Dakshin', 'Matlab Uttar', 'Maulvi Bazar Sadar', 'Meghna', 'Mehendiganj', 'Meherpur Sadar', 'Melandaha', 'Mirpur', 'Mirpur', 'Mirsharai', 'Mirzaganj', 'Mirzapur', 'Mitha Pukur', 'Mithamain', 'Mohammadpur', 'Mohammadpur', 'Mohanganj', 'Mohanpur', 'Mollahat', 'Mongla', 'Morrelganj', 'Motijheel', 'Mujib Nagar', 'Muksudpur', 'Muktagachha', 'Muladi', 'Munshiganj Sadar', 'Muradnagar', 'Mymensingh Sadar']\n",
      "\n",
      "\n",
      "Master list level 4\n",
      "\t['Nabiganj ', 'Nabinagar ', 'Nachole ', 'Nagarkanda ', 'Nagarpur ', 'Nageshwari ', 'Naikhongchhari ', 'Nakla ', 'Nalchity ', 'Nalitabari ', 'Nandail ', 'Nandigram ', 'Nangalkot ', 'Naniarchar ', 'Naogaon Sadar ', 'Narail Sadar ', 'Narayanganj Sadar ', 'Naria ', 'Narsingdi Sadar ', 'Nasirnagar ', 'Natore Sadar ', 'Nawabganj ', 'Nawabganj DP ', 'Nazirpur ', 'Nesarabad ', 'Netrokona Sadar ', 'Niamatpur ', 'Nikli ', 'Nilphamari Sadar ', 'Noakhali Sadar ']\n",
      "Geoboundaries adm3\n",
      "\t['Nabiganj', 'Nabinagar', 'Nachole', 'Nagarkanda', 'Nagarpur', 'Nageshwari', 'Naikhongchhari', 'Nakla', 'Nalchity', 'Nalitabari', 'Nandail', 'Nandigram', 'Nangalkot', 'Naniarchar', 'Naogaon Sadar', 'Narail Sadar', 'Narayanganj Sadar', 'Naria', 'Narsingdi Sadar', 'Nasirnagar', 'Natore Sadar', 'Nawabganj', 'Nawabganj', 'Nawabganj Sadar', 'Nazirpur', 'Nesarabad (Swarupkati)', 'Netrokona Sadar', 'New Market', 'Niamatpur', 'Nikli', 'Nilphamari Sadar', 'Noakhali Sadar (Sudharam)']\n",
      "\n",
      "\n",
      "\n",
      "\n",
      "Master list level 4\n",
      "\t['Paba ', 'Pabna Sadar ', 'Paikgachha ', 'Pakundia ', 'Palash ', 'Palashbari ', 'Panchbibi ', 'Panchgarh Sadar ', 'Panchhari ', 'Pangsha ', 'Parbatipur ', 'Parshuram ', 'Patgram ', 'Patharghata ', 'Patiya ', 'Patnitola ', 'Patuakhali Sadar ', 'Pekua ', 'Phulpur ', 'Pirgachha ', 'Pirganj RP ', 'Pirganj TG ', 'Pirojpur Sadar ', 'Porsha ', 'Purbadhala ', 'Puthiya ']\n",
      "Geoboundaries adm3\n",
      "\t['Paba', 'Pabna Sadar', 'Pahartali', 'Paikgachha', 'Pakundia', 'Palash', 'Palashbari', 'Pallabi', 'Paltan', 'Panchagarh Sadar', 'Panchbibi', 'Panchhari', 'Panchlaish', 'Pangsha', 'Parbatipur', 'Parshuram', 'Patenga', 'Patgram', 'Patharghata', 'Patiya', 'Patnitala', 'Patuakhali Sadar', 'Pekua', 'Phulbari', 'Phulpur', 'Phultala', 'Pirgachha', 'Pirganj', 'Pirganj', 'Pirojpur Sadar', 'Porsha', 'Purbadhala', 'Puthia']\n",
      "\n",
      "\n",
      "\n",
      "\n",
      "Master list level 4\n",
      "\t['Raipur ', 'Raipura ', 'Rajapur ', 'Rajarhat ', 'Rajasthali ', 'Rajbari Sadar ', 'Rajnagar ', 'Rajoir ', 'Ramganj ', 'Ramgarh ', 'Ramgoti ', 'Rampal ', 'Ramu ', 'Rangamati Sadar ', 'Rangpur Sadar ', 'Rangunia ', 'Rani Nagar ', 'Ranisankail ', 'Raozan ', 'Roumari ', 'Rowangchhari ', 'Royganj ', 'Ruma ', 'Rupganj ', 'Rupsa ']\n",
      "Geoboundaries adm3\n",
      "\t['Rajapur', 'Rajarhat', 'Rajasthali', 'Rajbari Sadar', 'Rajnagar', 'Rajoir', 'Rajpara', 'Ramganj', 'Ramgarh', 'Ramgati', 'Ramna', 'Rampal', 'Rampura', 'Ramu', 'Rangamati Sadar', 'Rangpur Sadar', 'Rangunia', 'Raninagar', 'Ranisankail', 'Raozan', 'Raumari', 'Rowangchhari', 'Royganj', 'Roypur', 'Roypura', 'Ruma', 'Rupganj', 'Rupsa']\n",
      "\n",
      "\n",
      "Master list level 4\n",
      "\t['Sadarpur ', 'Sadullapur ', 'Saghata ', 'Saidpur ', 'Sakhipur ', 'Saltha ', 'Sandwip ', 'Santhia ', 'Sapahar ', 'Sarail ', 'Sarankhola ', 'Sariakandi ', 'Sarishabari ', 'Satkania ', 'Satkhira Sadar ', 'Saturia ', 'Savar ', 'Senbag ', 'Serajdikhan ', 'Shahjadpur ', 'Shailkupa ', 'Shajahanpur ', 'Shalikha ', 'Sharasti ', 'Shariatpur Sadar ', 'Sharsa ', 'Sherpur ', 'Sherpur Sadar ', 'Shib Char ', 'Shibalaya ', 'Shibganj Bogra ', 'Shibganj NG ', 'Shibpur ', 'Shyamnagar ', 'Singair ', 'Singra ', 'Sirajganj Sadar ', 'Sitakunda ', 'Sonagazi ', 'Sonaimuri ', 'Sonargaon ', 'Sonatola ', 'South Shurma ', 'Sreebardi ', 'Sreemangal ', 'Sreenagar ', 'Sreepur ', 'Sreepur  magura', 'Subarna Char ', 'Sujanagar ', 'Sulla ', 'Sunamganj Sadar ', 'Sundarganj ', 'Sylhet Sadar ']\n",
      "Geoboundaries adm3\n",
      "\t['Sabujbagh', 'Sadarpur', 'Sadullapur', 'Saghatta', 'Saidpur', 'Sakhipur', 'Saltha', 'Sandwip', 'Santhia', 'Sapahar', 'Sarail', 'Sarankhola', 'Sariakandi', 'Sarishabari', 'Satkania', 'Satkhira Sadar', 'Saturia', 'Savar', 'Senbagh', 'Serajdikhan', 'Shah Ali', 'Shah Makhdum', 'Shahbagh', 'Shahjadpur', 'Shahrasti', 'Shailkupa', 'Shajahanpur', 'Shalikha', 'Shariatpur Sadar', 'Sharsha', 'Sher-e-bangla Nagar', 'Sherpur', 'Sherpur Sadar', 'Shib Char', 'Shibalaya', 'Shibganj', 'Shibganj', 'Shibpur', 'Shyamnagar', 'Shyampur', 'Singair', 'Singra', 'Sirajganj Sadar', 'Sitakunda', 'Sonadanga', 'Sonagazi', 'Sonaimuri', 'Sonargaon', 'Sonatola', 'Sreebardi', 'Sreemangal', 'Sreenagar', 'Sreepur', 'Sreepur', 'Subarnachar', 'Sujanagar', 'Sulla', 'Sunamganj Sadar', 'Sundarganj', 'Sutrapur', 'Sylhet Sadar']\n",
      "\n",
      "\n",
      "Master list level 4\n",
      "\t['Tahirpur ', 'Tala ', 'Tangail Sadar ', 'Tanore ', 'Taraganj ', 'Tarail ', 'Tarakanda ', 'Tarash ', 'Tazumuddin ', 'Teknaf ', 'Terokhada ', 'Tetulia ', 'Thakurgaon Sadar ', 'Thanchi ', 'Titas ', 'Tongibari ', 'Trishal ', 'Tungipara ']\n",
      "Geoboundaries adm3\n",
      "\t['Tahirpur', 'Tala', 'Tangail Sadar', 'Tanore', 'Taraganj', 'Tarail', 'Tarash', 'Tazumuddin', 'Tejgaon', 'Tejgaon Ind. Area', 'Teknaf', 'Tentulia', 'Terokhada', 'Thakurgaon Sadar', 'Thanchi', 'Titas', 'Tongibari', 'Trishal', 'Tungi Para', 'Turag']\n",
      "\n",
      "\n",
      "Master list level 4\n",
      "\t['Ukhyia ', 'Ulipur ', 'Ullahpara ']\n",
      "Geoboundaries adm3\n",
      "\t['Ukhia', 'Ulipur', 'Ullah Para', 'Uttar Khan', 'Uttara']\n",
      "\n",
      "\n",
      "\n",
      "\n",
      "Master list level 4\n",
      "\t['Wazirpur ']\n",
      "Geoboundaries adm3\n",
      "\t['Wazirpur']\n",
      "\n",
      "\n",
      "\n",
      "\n",
      "\n",
      "\n",
      "Master list level 4\n",
      "\t['Zakiganj ', 'Zanzira ', 'Zianagar ']\n",
      "Geoboundaries adm3\n",
      "\t['Zakiganj', 'Zanjira', 'Zianagar']\n",
      "\n",
      "\n"
     ]
    }
   ],
   "source": [
    "for letter in ascii_uppercase:\n",
    "    level4_sublist = [name for name in level4_list if name[0]==letter]\n",
    "    geob3_sublist = [name for name in geob3_list if name[0]==letter]\n",
    "\n",
    "    if len(level4_sublist)>0:\n",
    "        print(\"Master list level 4\")\n",
    "        print(\"\\t\"+str(level4_sublist))\n",
    "    if len(geob3_sublist) >0:\n",
    "        print(\"Geoboundaries adm3\")\n",
    "        print(\"\\t\"+str(geob3_sublist))\n",
    "        \n",
    "    print(\"\\n\")"
   ]
  },
  {
   "cell_type": "markdown",
   "metadata": {},
   "source": [
    "Manually adjust spellings of master health list to create more matches."
   ]
  },
  {
   "cell_type": "code",
   "execution_count": 16,
   "metadata": {},
   "outputs": [],
   "source": [
    "master_table.loc[:, \"orgunitlevel4_edit\"] = master_table.orgunitlevel4"
   ]
  },
  {
   "cell_type": "markdown",
   "metadata": {},
   "source": [
    "Remove key words that confuse matching algorithm"
   ]
  },
  {
   "cell_type": "code",
   "execution_count": 17,
   "metadata": {},
   "outputs": [],
   "source": [
    "remove_words(geob3, \"shapeName\", ['Town', 'City', 'Urban', 'Zone'])\n",
    "remove_words(master_table, \"orgunitlevel4_edit\", ['Town', 'City', 'Urban', 'Zone'])"
   ]
  },
  {
   "cell_type": "code",
   "execution_count": 18,
   "metadata": {},
   "outputs": [],
   "source": [
    "# level4_list = list(master_table.orgunitlevel4.unique())\n",
    "level4_list = list(master_table.orgunitlevel4_edit.unique())\n",
    "level4_list.sort()\n",
    "geob3_list = list(geob3.shapeName)\n",
    "geob3_list.sort()"
   ]
  },
  {
   "cell_type": "code",
   "execution_count": 19,
   "metadata": {
    "scrolled": true
   },
   "outputs": [],
   "source": [
    "# List for dicts for easy dataframe creation\n",
    "dict_list = []\n",
    "# iterating over our players without salaries found above\n",
    "for name in level4_list:\n",
    "    \n",
    "    # Use our method to find best match, we can set a threshold here\n",
    "    match = match_name(name, geob3_list, 30)\n",
    "\n",
    "    # New dict for storing data\n",
    "    dict_ = {}\n",
    "    dict_.update({\"name_level4\" : name})\n",
    "    dict_.update({\"name_geob3\" : match[0]})\n",
    "    dict_.update({\"score\" : match[1]})\n",
    "    dict_list.append(dict_)\n",
    "\n",
    "table_adm3 = pd.DataFrame(dict_list)\n",
    "table_adm3_matches = table_adm3[table_adm3.score >= 80].copy()"
   ]
  },
  {
   "cell_type": "code",
   "execution_count": 20,
   "metadata": {},
   "outputs": [
    {
     "data": {
      "text/plain": [
       "'97.11%'"
      ]
     },
     "execution_count": 20,
     "metadata": {},
     "output_type": "execute_result"
    }
   ],
   "source": [
    "matches_pct = (len(table_adm3_matches) / len(level4_list))\n",
    "'{:.2f}%'.format(matches_pct*100)"
   ]
  },
  {
   "cell_type": "code",
   "execution_count": 21,
   "metadata": {
    "scrolled": true
   },
   "outputs": [
    {
     "data": {
      "text/html": [
       "<div>\n",
       "<style scoped>\n",
       "    .dataframe tbody tr th:only-of-type {\n",
       "        vertical-align: middle;\n",
       "    }\n",
       "\n",
       "    .dataframe tbody tr th {\n",
       "        vertical-align: top;\n",
       "    }\n",
       "\n",
       "    .dataframe thead th {\n",
       "        text-align: right;\n",
       "    }\n",
       "</style>\n",
       "<table border=\"1\" class=\"dataframe\">\n",
       "  <thead>\n",
       "    <tr style=\"text-align: right;\">\n",
       "      <th></th>\n",
       "      <th>name_level4</th>\n",
       "      <th>name_geob3</th>\n",
       "      <th>score</th>\n",
       "    </tr>\n",
       "  </thead>\n",
       "  <tbody>\n",
       "    <tr>\n",
       "      <th>46</th>\n",
       "      <td>Barisal Sadar</td>\n",
       "      <td>Narail Sadar</td>\n",
       "      <td>80</td>\n",
       "    </tr>\n",
       "    <tr>\n",
       "      <th>158</th>\n",
       "      <td>Fultala</td>\n",
       "      <td>Phultala</td>\n",
       "      <td>80</td>\n",
       "    </tr>\n",
       "    <tr>\n",
       "      <th>193</th>\n",
       "      <td>Hijla</td>\n",
       "      <td>Hizla</td>\n",
       "      <td>80</td>\n",
       "    </tr>\n",
       "    <tr>\n",
       "      <th>215</th>\n",
       "      <td>Kachua BH</td>\n",
       "      <td>Kachua</td>\n",
       "      <td>80</td>\n",
       "    </tr>\n",
       "    <tr>\n",
       "      <th>216</th>\n",
       "      <td>Kachua CP</td>\n",
       "      <td>Kachua</td>\n",
       "      <td>80</td>\n",
       "    </tr>\n",
       "    <tr>\n",
       "      <th>353</th>\n",
       "      <td>Noakhali Sadar</td>\n",
       "      <td>Patuakhali Sadar</td>\n",
       "      <td>80</td>\n",
       "    </tr>\n",
       "  </tbody>\n",
       "</table>\n",
       "</div>"
      ],
      "text/plain": [
       "        name_level4        name_geob3  score\n",
       "46    Barisal Sadar      Narail Sadar     80\n",
       "158         Fultala          Phultala     80\n",
       "193           Hijla             Hizla     80\n",
       "215       Kachua BH            Kachua     80\n",
       "216       Kachua CP            Kachua     80\n",
       "353  Noakhali Sadar  Patuakhali Sadar     80"
      ]
     },
     "execution_count": 21,
     "metadata": {},
     "output_type": "execute_result"
    }
   ],
   "source": [
    "# could save this list for someone to confirm matches manually\n",
    "# for now take input noting which ones should be dropped based on quick inspection\n",
    "table_adm3_matches.loc[table_adm3_matches.score<=80]"
   ]
  },
  {
   "cell_type": "code",
   "execution_count": 22,
   "metadata": {},
   "outputs": [
    {
     "data": {
      "text/plain": [
       "'97.11%'"
      ]
     },
     "execution_count": 22,
     "metadata": {},
     "output_type": "execute_result"
    }
   ],
   "source": [
    "matches_pct = (len(table_adm3_matches) / len(level4_list))\n",
    "'{:.2f}%'.format(matches_pct*100)"
   ]
  },
  {
   "cell_type": "markdown",
   "metadata": {},
   "source": [
    "### Match orgunitlevel3 to Geob Adm 2"
   ]
  },
  {
   "cell_type": "code",
   "execution_count": 23,
   "metadata": {},
   "outputs": [],
   "source": [
    "master_table.loc[:, \"orgunitlevel3_edit\"] = master_table.orgunitlevel3"
   ]
  },
  {
   "cell_type": "code",
   "execution_count": 24,
   "metadata": {},
   "outputs": [],
   "source": [
    "remove_words(geob2, \"shapeName\", [\" City Council\", \" District Council\", \" Municipal Council\"])\n",
    "remove_words(master_table, \"orgunitlevel3_edit\", [\" District\"])"
   ]
  },
  {
   "cell_type": "code",
   "execution_count": 25,
   "metadata": {},
   "outputs": [],
   "source": [
    "master_table.loc[master_table.orgunitlevel3_edit == \"Chattogram\", \"orgunitlevel3_edit\"] = \"Chittagong\""
   ]
  },
  {
   "cell_type": "code",
   "execution_count": 26,
   "metadata": {
    "code_folding": []
   },
   "outputs": [],
   "source": [
    "level3_list = list(master_table.orgunitlevel3_edit.unique())\n",
    "level3_list.sort()\n",
    "geob2_list = list(geob2.shapeName)\n",
    "geob2_list.sort()"
   ]
  },
  {
   "cell_type": "code",
   "execution_count": 27,
   "metadata": {
    "scrolled": true
   },
   "outputs": [
    {
     "name": "stdout",
     "output_type": "stream",
     "text": [
      "Master list level 3\n",
      "\t['Bagerhat', 'Bandarban', 'Barguna', 'Barishal', 'Bhola', 'Bogura', 'Brahmanbaria']\n",
      "Geoboundaries adm2\n",
      "\t['Bagerhat', 'Bandarban', 'Barguna', 'Barisal', 'Bhola', 'Bogra', 'Brahamanbaria']\n",
      "Master list level 3\n",
      "\t['Chandpur', 'Chapai Nababganj', 'Chittagong', 'Chuadanga', 'Coxs Bazar', 'Cumilla']\n",
      "Geoboundaries adm2\n",
      "\t['Chandpur', 'Chittagong', 'Chuadanga', 'Comilla', \"Cox's Bazar\"]\n",
      "Master list level 3\n",
      "\t['Dhaka', 'Dinajpur']\n",
      "Geoboundaries adm2\n",
      "\t['Dhaka', 'Dinajpur']\n",
      "Master list level 3\n",
      "\t['Faridpur', 'Feni']\n",
      "Geoboundaries adm2\n",
      "\t['Faridpur', 'Feni']\n",
      "Master list level 3\n",
      "\t['Gaibandha', 'Gazipur', 'Gopalganj']\n",
      "Geoboundaries adm2\n",
      "\t['Gaibandha', 'Gazipur', 'Gopalganj']\n",
      "Master list level 3\n",
      "\t['Habiganj']\n",
      "Geoboundaries adm2\n",
      "\t['Habiganj']\n",
      "Master list level 3\n",
      "\t['Jamalpur', 'Jashore', 'Jhalokati', 'Jhenaidaha', 'Joypurhat']\n",
      "Geoboundaries adm2\n",
      "\t['Jamalpur', 'Jessore', 'Jhalokati', 'Jhenaidah', 'Joypurhat']\n",
      "Master list level 3\n",
      "\t['Khagrachhari', 'Khulna', 'Kishoreganj', 'Kurigram', 'Kustia']\n",
      "Geoboundaries adm2\n",
      "\t['Khagrachhari', 'Khulna', 'Kishoreganj', 'Kurigram', 'Kushtia']\n",
      "Master list level 3\n",
      "\t['Laksmipur', 'Lalmonirhat']\n",
      "Geoboundaries adm2\n",
      "\t['Lakshmipur', 'Lalmonirhat']\n",
      "Master list level 3\n",
      "\t['Madaripur', 'Magura', 'Manikganj', 'Maulavi Bazar', 'Meherpur', 'Munshiganj', 'Mymensingh']\n",
      "Geoboundaries adm2\n",
      "\t['Madaripur', 'Magura', 'Manikganj', 'Maulvibazar', 'Meherpur', 'Munshiganj', 'Mymensingh']\n",
      "Master list level 3\n",
      "\t['Naogaon', 'Narail', 'Narayanganj', 'Narshingdi', 'Natore', 'Netrokona', 'Nilphamari', 'Noakhali']\n",
      "Geoboundaries adm2\n",
      "\t['Naogaon', 'Narail', 'Narayanganj', 'Narsingdi', 'Natore', 'Nawabganj', 'Netrakona', 'Nilphamari', 'Noakhali']\n",
      "Master list level 3\n",
      "\t['Pabna', 'Panchagarh', 'Patuakhali', 'Pirojpur']\n",
      "Geoboundaries adm2\n",
      "\t['Pabna', 'Panchagarh', 'Patuakhali', 'Pirojpur']\n",
      "Master list level 3\n",
      "\t['Rajbari', 'Rajshahi', 'Rangamati', 'Rangpur']\n",
      "Geoboundaries adm2\n",
      "\t['Rajbari', 'Rajshahi', 'Rangamati', 'Rangpur']\n",
      "Master list level 3\n",
      "\t['Satkhira', 'Shariatpur', 'Sherpur', 'Sirajganj', 'Sunamganj', 'Sylhet']\n",
      "Geoboundaries adm2\n",
      "\t['Satkhira', 'Shariatpur', 'Sherpur', 'Sirajganj', 'Sunamganj', 'Sylhet']\n",
      "Master list level 3\n",
      "\t['Tangail', 'Thakurgaon']\n",
      "Geoboundaries adm2\n",
      "\t['Tangail', 'Thakurgaon']\n"
     ]
    }
   ],
   "source": [
    "for letter in ascii_uppercase:\n",
    "    level3_sublist = [name for name in level3_list if name[0]==letter]\n",
    "    geob2_sublist = [name for name in geob2_list if name[0]==letter]\n",
    "    if len(level3_sublist)>0:\n",
    "        print(\"Master list level 3\")\n",
    "        print(\"\\t\"+str(level3_sublist))\n",
    "    if len(geob2_sublist) >0:\n",
    "        print(\"Geoboundaries adm2\")\n",
    "        print(\"\\t\"+str(geob2_sublist))"
   ]
  },
  {
   "cell_type": "code",
   "execution_count": 28,
   "metadata": {},
   "outputs": [],
   "source": [
    "# List for dicts for easy dataframe creation\n",
    "dict_list = []\n",
    "# iterating over our players without salaries found above\n",
    "for name in level3_list:\n",
    "    \n",
    "    # Use our method to find best match, we can set a threshold here\n",
    "    match = match_name(name, geob2_list, 30)\n",
    "\n",
    "    # New dict for storing data\n",
    "    dict_ = {}\n",
    "    dict_.update({\"name_level3\" : name})\n",
    "    dict_.update({\"name_geob2\" : match[0]})\n",
    "    dict_.update({\"score\" : match[1]})\n",
    "    dict_list.append(dict_)\n",
    "\n",
    "table_adm2 = pd.DataFrame(dict_list)\n",
    "table_adm2_matches = table_adm2[table_adm2.score >= 80]"
   ]
  },
  {
   "cell_type": "code",
   "execution_count": 29,
   "metadata": {},
   "outputs": [
    {
     "data": {
      "text/plain": [
       "'96.88%'"
      ]
     },
     "execution_count": 29,
     "metadata": {},
     "output_type": "execute_result"
    }
   ],
   "source": [
    "matches_pct = (len(table_adm2_matches) / len(level3_list))\n",
    "'{:.2f}%'.format(matches_pct*100)"
   ]
  },
  {
   "cell_type": "markdown",
   "metadata": {},
   "source": [
    "### Match orgunitlevel2 to Geob Adm 1"
   ]
  },
  {
   "cell_type": "code",
   "execution_count": 30,
   "metadata": {},
   "outputs": [],
   "source": [
    "master_table.loc[:, \"orgunitlevel2_edit\"] = master_table.orgunitlevel2"
   ]
  },
  {
   "cell_type": "code",
   "execution_count": 31,
   "metadata": {},
   "outputs": [],
   "source": [
    "remove_words(master_table, \"orgunitlevel2_edit\", [\" District\"])\n",
    "remove_words(geob1, \"shapeName\", [\" City Council\", \" District Council\", \" Municipal Council\", \"Region\"])"
   ]
  },
  {
   "cell_type": "code",
   "execution_count": 32,
   "metadata": {},
   "outputs": [],
   "source": [
    "master_table.loc[master_table.orgunitlevel2_edit == \"Chattogram\", \"orgunitlevel2_edit\"] = \"Chittagong\""
   ]
  },
  {
   "cell_type": "code",
   "execution_count": 33,
   "metadata": {},
   "outputs": [],
   "source": [
    "level2_list = list(master_table.orgunitlevel2_edit.unique())\n",
    "level2_list.sort()\n",
    "geob1_list = list(geob1.shapeName)\n",
    "geob1_list.sort()"
   ]
  },
  {
   "cell_type": "code",
   "execution_count": 34,
   "metadata": {
    "scrolled": true
   },
   "outputs": [
    {
     "name": "stdout",
     "output_type": "stream",
     "text": [
      "\n",
      "\n",
      "Master list level 2\n",
      "\t['Barishal']\n",
      "Geoboundaries adm1\n",
      "\t['Barisal']\n",
      "\n",
      "\n",
      "Master list level 2\n",
      "\t['Chittagong']\n",
      "Geoboundaries adm1\n",
      "\t['Chittagong']\n",
      "\n",
      "\n",
      "Master list level 2\n",
      "\t['Dhaka']\n",
      "Geoboundaries adm1\n",
      "\t['Dhaka']\n",
      "\n",
      "\n",
      "\n",
      "\n",
      "\n",
      "\n",
      "\n",
      "\n",
      "\n",
      "\n",
      "\n",
      "\n",
      "\n",
      "\n",
      "Master list level 2\n",
      "\t['Khulna']\n",
      "Geoboundaries adm1\n",
      "\t['Khulna']\n",
      "\n",
      "\n",
      "\n",
      "\n",
      "Master list level 2\n",
      "\t['Mymensingh']\n",
      "Geoboundaries adm1\n",
      "\t['Mymensingh']\n",
      "\n",
      "\n",
      "\n",
      "\n",
      "\n",
      "\n",
      "\n",
      "\n",
      "\n",
      "\n",
      "Master list level 2\n",
      "\t['Rajshahi', 'Rangpur']\n",
      "Geoboundaries adm1\n",
      "\t['Rajshani', 'Rangpur']\n",
      "\n",
      "\n",
      "Master list level 2\n",
      "\t['Sylhet']\n",
      "Geoboundaries adm1\n",
      "\t['Sylhet']\n",
      "\n",
      "\n",
      "\n",
      "\n",
      "\n",
      "\n",
      "\n",
      "\n",
      "\n",
      "\n",
      "\n",
      "\n",
      "\n",
      "\n",
      "\n",
      "\n"
     ]
    }
   ],
   "source": [
    "for letter in ascii_uppercase:\n",
    "    level2_sublist = [name for name in level2_list if name[0]==letter]\n",
    "    geob1_sublist = [name for name in geob1_list if name[0]==letter]\n",
    "    if len(level2_sublist)>0:\n",
    "        print(\"Master list level 2\")\n",
    "        print(\"\\t\"+str(level2_sublist))\n",
    "    if len(geob1_sublist) > 0:\n",
    "        print(\"Geoboundaries adm1\")\n",
    "        print(\"\\t\"+str(geob1_sublist))\n",
    "    print(\"\\n\")"
   ]
  },
  {
   "cell_type": "code",
   "execution_count": 35,
   "metadata": {},
   "outputs": [],
   "source": [
    "# List for dicts for easy dataframe creation\n",
    "dict_list = []\n",
    "\n",
    "for name in level2_list:\n",
    "    \n",
    "    # Use our method to find best match, we can set a threshold here\n",
    "    match = match_name(name, geob1_list, 30)\n",
    "\n",
    "    # New dict for storing data\n",
    "    dict_ = {}\n",
    "    dict_.update({\"name_level2\" : name})\n",
    "    dict_.update({\"name_geob1\" : match[0]})\n",
    "    dict_.update({\"score\" : match[1]})\n",
    "    dict_list.append(dict_)\n",
    "\n",
    "table_adm1 = pd.DataFrame(dict_list)\n",
    "table_adm1_matches = table_adm1[table_adm1.score >= 80]"
   ]
  },
  {
   "cell_type": "code",
   "execution_count": 36,
   "metadata": {},
   "outputs": [
    {
     "data": {
      "text/plain": [
       "'100.00%'"
      ]
     },
     "execution_count": 36,
     "metadata": {},
     "output_type": "execute_result"
    }
   ],
   "source": [
    "matches_pct = (len(table_adm1_matches) / len(level2_list))\n",
    "'{:.2f}%'.format(matches_pct*100)"
   ]
  },
  {
   "cell_type": "markdown",
   "metadata": {},
   "source": [
    "Loop through each row in master table, and add new attribute names (adm3 and adm2), if the names produced matches in the lookup tables"
   ]
  },
  {
   "cell_type": "code",
   "execution_count": 37,
   "metadata": {},
   "outputs": [],
   "source": [
    "master_table_copy = master_table.copy()"
   ]
  },
  {
   "cell_type": "code",
   "execution_count": 38,
   "metadata": {},
   "outputs": [],
   "source": [
    "for idx, row in master_table_copy.iterrows():\n",
    "    \n",
    "    if row.orgunitlevel4_edit in list(table_adm3_matches.name_level4):\n",
    "        \n",
    "        match = table_adm3_matches.loc[table_adm3_matches.name_level4==row.orgunitlevel4_edit, \"name_geob3\"].iloc[0]\n",
    "        master_table_copy.loc[idx, 'adm3'] = match\n",
    "        \n",
    "    if row.orgunitlevel3_edit in list(table_adm2_matches.name_level3):\n",
    "        \n",
    "        match = table_adm2_matches.loc[table_adm2_matches.name_level3==row.orgunitlevel3_edit, \"name_geob2\"].iloc[0]\n",
    "        master_table_copy.loc[idx, 'adm2'] = match\n",
    "        \n",
    "    if row.orgunitlevel2_edit in list(table_adm1_matches.name_level2):\n",
    "        \n",
    "        match = table_adm1_matches.loc[table_adm1_matches.name_level2==row.orgunitlevel2_edit, \"name_geob1\"].iloc[0]\n",
    "        master_table_copy.loc[idx, 'adm1'] = match"
   ]
  },
  {
   "cell_type": "code",
   "execution_count": 39,
   "metadata": {},
   "outputs": [
    {
     "data": {
      "text/plain": [
       "428"
      ]
     },
     "execution_count": 39,
     "metadata": {},
     "output_type": "execute_result"
    }
   ],
   "source": [
    "master_table_copy.adm2.isna().sum()"
   ]
  },
  {
   "cell_type": "code",
   "execution_count": 40,
   "metadata": {},
   "outputs": [
    {
     "data": {
      "text/plain": [
       "497"
      ]
     },
     "execution_count": 40,
     "metadata": {},
     "output_type": "execute_result"
    }
   ],
   "source": [
    "master_table_copy.adm3.isna().sum()"
   ]
  },
  {
   "cell_type": "code",
   "execution_count": 41,
   "metadata": {},
   "outputs": [
    {
     "data": {
      "text/plain": [
       "0"
      ]
     },
     "execution_count": 41,
     "metadata": {},
     "output_type": "execute_result"
    }
   ],
   "source": [
    "master_table_copy.adm1.isna().sum()"
   ]
  },
  {
   "cell_type": "code",
   "execution_count": 42,
   "metadata": {},
   "outputs": [
    {
     "data": {
      "text/html": [
       "<div>\n",
       "<style scoped>\n",
       "    .dataframe tbody tr th:only-of-type {\n",
       "        vertical-align: middle;\n",
       "    }\n",
       "\n",
       "    .dataframe tbody tr th {\n",
       "        vertical-align: top;\n",
       "    }\n",
       "\n",
       "    .dataframe thead th {\n",
       "        text-align: right;\n",
       "    }\n",
       "</style>\n",
       "<table border=\"1\" class=\"dataframe\">\n",
       "  <thead>\n",
       "    <tr style=\"text-align: right;\">\n",
       "      <th></th>\n",
       "      <th>orgunitlevel1</th>\n",
       "      <th>orgunitlevel2</th>\n",
       "      <th>orgunitlevel3</th>\n",
       "      <th>orgunitlevel4</th>\n",
       "      <th>orgunitlevel5</th>\n",
       "      <th>orgunitlevel6</th>\n",
       "      <th>orgunitlevel4_edit</th>\n",
       "      <th>orgunitlevel3_edit</th>\n",
       "      <th>orgunitlevel2_edit</th>\n",
       "      <th>adm3</th>\n",
       "      <th>adm2</th>\n",
       "      <th>adm1</th>\n",
       "    </tr>\n",
       "  </thead>\n",
       "  <tbody>\n",
       "    <tr>\n",
       "      <th>0</th>\n",
       "      <td>Bangladesh</td>\n",
       "      <td>Barishal</td>\n",
       "      <td>Barguna</td>\n",
       "      <td>Amtali</td>\n",
       "      <td>AMTALI</td>\n",
       "      <td>Chalabhanga</td>\n",
       "      <td>Amtali</td>\n",
       "      <td>Barguna</td>\n",
       "      <td>Barishal</td>\n",
       "      <td>Amtali</td>\n",
       "      <td>Barguna</td>\n",
       "      <td>Barisal</td>\n",
       "    </tr>\n",
       "    <tr>\n",
       "      <th>1</th>\n",
       "      <td>Bangladesh</td>\n",
       "      <td>Barishal</td>\n",
       "      <td>Barguna</td>\n",
       "      <td>Amtali</td>\n",
       "      <td>AMTALI</td>\n",
       "      <td>Islampur</td>\n",
       "      <td>Amtali</td>\n",
       "      <td>Barguna</td>\n",
       "      <td>Barishal</td>\n",
       "      <td>Amtali</td>\n",
       "      <td>Barguna</td>\n",
       "      <td>Barisal</td>\n",
       "    </tr>\n",
       "  </tbody>\n",
       "</table>\n",
       "</div>"
      ],
      "text/plain": [
       "  orgunitlevel1 orgunitlevel2 orgunitlevel3 orgunitlevel4 orgunitlevel5  \\\n",
       "0    Bangladesh     Barishal       Barguna        Amtali        AMTALI    \n",
       "1    Bangladesh     Barishal       Barguna        Amtali        AMTALI    \n",
       "\n",
       "  orgunitlevel6 orgunitlevel4_edit orgunitlevel3_edit orgunitlevel2_edit  \\\n",
       "0  Chalabhanga              Amtali            Barguna           Barishal   \n",
       "1     Islampur              Amtali            Barguna           Barishal   \n",
       "\n",
       "     adm3     adm2     adm1  \n",
       "0  Amtali  Barguna  Barisal  \n",
       "1  Amtali  Barguna  Barisal  "
      ]
     },
     "execution_count": 42,
     "metadata": {},
     "output_type": "execute_result"
    }
   ],
   "source": [
    "master_table_copy.head(2)"
   ]
  },
  {
   "cell_type": "markdown",
   "metadata": {},
   "source": [
    "# Match to locations from alternative sources based on facility name\n",
    "\n",
    "\n",
    "## Health Sites IO\n",
    "Import Health Sites from HealthSites.io  \n",
    "Health sites come in both a node and a way shapefile. You need to import both to get all the sites.  \n",
    "In QGIS, I created centroids from the ways then merged it with the points."
   ]
  },
  {
   "cell_type": "code",
   "execution_count": 43,
   "metadata": {},
   "outputs": [],
   "source": [
    "nodes_io = gpd.read_file(os.path.join(input_dir, \"healthsitesio\", \"BGD\", \"merged_BGD_healthsites.shp\"))"
   ]
  },
  {
   "cell_type": "code",
   "execution_count": 44,
   "metadata": {},
   "outputs": [],
   "source": [
    "nodes_io = nodes_io.loc[~nodes_io.name.isna()].copy()"
   ]
  },
  {
   "cell_type": "code",
   "execution_count": 45,
   "metadata": {},
   "outputs": [],
   "source": [
    "nodes_io['name'] = nodes_io['name'].str.lower()"
   ]
  },
  {
   "cell_type": "code",
   "execution_count": 46,
   "metadata": {},
   "outputs": [],
   "source": [
    "words_to_remove = ['community', 'clinic', 'centre', 'center', 'hospital', 'health', 'government']"
   ]
  },
  {
   "cell_type": "code",
   "execution_count": 47,
   "metadata": {},
   "outputs": [],
   "source": [
    "nodes_io.loc[:, \"is_point\"] = nodes_io.apply(lambda x: type(x.geometry)==Point, axis=1)"
   ]
  },
  {
   "cell_type": "code",
   "execution_count": 48,
   "metadata": {},
   "outputs": [
    {
     "data": {
      "text/plain": [
       "0"
      ]
     },
     "execution_count": 48,
     "metadata": {},
     "output_type": "execute_result"
    }
   ],
   "source": [
    "len(nodes_io.loc[~nodes_io.is_point])"
   ]
  },
  {
   "cell_type": "code",
   "execution_count": 49,
   "metadata": {},
   "outputs": [
    {
     "data": {
      "text/plain": [
       "True"
      ]
     },
     "execution_count": 49,
     "metadata": {},
     "output_type": "execute_result"
    }
   ],
   "source": [
    "len(nodes_io.loc[nodes_io.geometry.is_valid])==len(nodes_io)"
   ]
  },
  {
   "cell_type": "code",
   "execution_count": 50,
   "metadata": {},
   "outputs": [],
   "source": [
    "records = master_table_copy.copy()\n",
    "records['NAME'] = records['orgunitlevel6'].str.lower()"
   ]
  },
  {
   "cell_type": "code",
   "execution_count": 51,
   "metadata": {},
   "outputs": [],
   "source": [
    "remove_words(nodes_io, 'name', words_to_remove)\n",
    "remove_words(records, 'NAME', words_to_remove)"
   ]
  },
  {
   "cell_type": "code",
   "execution_count": 52,
   "metadata": {},
   "outputs": [],
   "source": [
    "records['geocoding_method'] = \"None\""
   ]
  },
  {
   "cell_type": "code",
   "execution_count": 53,
   "metadata": {
    "scrolled": true
   },
   "outputs": [
    {
     "name": "stderr",
     "output_type": "stream",
     "text": [
      "21it [00:00, 63.34it/s]"
     ]
    },
    {
     "name": "stdout",
     "output_type": "stream",
     "text": [
      "bathi para bothipara\n"
     ]
    },
    {
     "name": "stderr",
     "output_type": "stream",
     "text": [
      "70it [00:01, 67.22it/s]"
     ]
    },
    {
     "name": "stdout",
     "output_type": "stream",
     "text": [
      "kumrakhali khuriakhali\n"
     ]
    },
    {
     "name": "stderr",
     "output_type": "stream",
     "text": [
      "91it [00:01, 65.77it/s]"
     ]
    },
    {
     "name": "stdout",
     "output_type": "stream",
     "text": [
      "taltali taltoli\n"
     ]
    },
    {
     "name": "stderr",
     "output_type": "stream",
     "text": [
      "119it [00:01, 63.38it/s]"
     ]
    },
    {
     "name": "stdout",
     "output_type": "stream",
     "text": [
      "kalipur khalishpur\n",
      "kathaltoli taltoli\n",
      "taluker charduani taluker char duyani\n"
     ]
    },
    {
     "name": "stderr",
     "output_type": "stream",
     "text": [
      "147it [00:02, 65.31it/s]"
     ]
    },
    {
     "name": "stdout",
     "output_type": "stream",
     "text": [
      "kandirpara kandapara\n"
     ]
    },
    {
     "name": "stderr",
     "output_type": "stream",
     "text": [
      "259it [00:03, 64.75it/s]"
     ]
    },
    {
     "name": "stdout",
     "output_type": "stream",
     "text": [
      "puranpara puratan  para\n"
     ]
    },
    {
     "name": "stderr",
     "output_type": "stream",
     "text": [
      "315it [00:04, 65.61it/s]"
     ]
    },
    {
     "name": "stdout",
     "output_type": "stream",
     "text": [
      "shripur sharifpur\n"
     ]
    },
    {
     "name": "stderr",
     "output_type": "stream",
     "text": [
      "343it [00:05, 66.25it/s]"
     ]
    },
    {
     "name": "stdout",
     "output_type": "stream",
     "text": [
      "kashimpur kashipur\n"
     ]
    },
    {
     "name": "stderr",
     "output_type": "stream",
     "text": [
      "427it [00:06, 66.22it/s]"
     ]
    },
    {
     "name": "stdout",
     "output_type": "stream",
     "text": [
      "baghmara bagmara\n",
      "dhani dhania\n"
     ]
    },
    {
     "name": "stderr",
     "output_type": "stream",
     "text": [
      "511it [00:07, 62.88it/s]"
     ]
    },
    {
     "name": "stdout",
     "output_type": "stream",
     "text": [
      "dalal bazar kalia bazar\n"
     ]
    },
    {
     "name": "stderr",
     "output_type": "stream",
     "text": [
      "602it [00:09, 64.01it/s]"
     ]
    },
    {
     "name": "stdout",
     "output_type": "stream",
     "text": [
      "chandpur achanpur\n"
     ]
    },
    {
     "name": "stderr",
     "output_type": "stream",
     "text": [
      "679it [00:10, 66.84it/s]"
     ]
    },
    {
     "name": "stdout",
     "output_type": "stream",
     "text": [
      "amirbuniya amorbunia\n"
     ]
    },
    {
     "name": "stderr",
     "output_type": "stream",
     "text": [
      "700it [00:10, 65.33it/s]"
     ]
    },
    {
     "name": "stdout",
     "output_type": "stream",
     "text": [
      "tetulbaria tetul bariya\n"
     ]
    },
    {
     "name": "stderr",
     "output_type": "stream",
     "text": [
      "749it [00:11, 64.75it/s]"
     ]
    },
    {
     "name": "stdout",
     "output_type": "stream",
     "text": [
      "rajapur razapur\n"
     ]
    },
    {
     "name": "stderr",
     "output_type": "stream",
     "text": [
      "777it [00:11, 65.76it/s]"
     ]
    },
    {
     "name": "stdout",
     "output_type": "stream",
     "text": [
      "chandpur achanpur\n"
     ]
    },
    {
     "name": "stderr",
     "output_type": "stream",
     "text": [
      "805it [00:12, 65.33it/s]"
     ]
    },
    {
     "name": "stdout",
     "output_type": "stream",
     "text": [
      "gabbunia gabbunia\n"
     ]
    },
    {
     "name": "stderr",
     "output_type": "stream",
     "text": [
      "819it [00:12, 66.29it/s]"
     ]
    },
    {
     "name": "stdout",
     "output_type": "stream",
     "text": [
      "pankhali pankhali\n"
     ]
    },
    {
     "name": "stderr",
     "output_type": "stream",
     "text": [
      "840it [00:12, 66.72it/s]"
     ]
    },
    {
     "name": "stdout",
     "output_type": "stream",
     "text": [
      "gandadula gondadula\n"
     ]
    },
    {
     "name": "stderr",
     "output_type": "stream",
     "text": [
      "924it [00:14, 67.14it/s]"
     ]
    },
    {
     "name": "stdout",
     "output_type": "stream",
     "text": [
      "jamura jamuna\n"
     ]
    },
    {
     "name": "stderr",
     "output_type": "stream",
     "text": [
      "1009it [00:15, 68.61it/s]"
     ]
    },
    {
     "name": "stdout",
     "output_type": "stream",
     "text": [
      "north nali north bengal\n"
     ]
    },
    {
     "name": "stderr",
     "output_type": "stream",
     "text": [
      "1066it [00:16, 68.25it/s]"
     ]
    },
    {
     "name": "stdout",
     "output_type": "stream",
     "text": [
      "ramchandrapur ramchandrapur\n"
     ]
    },
    {
     "name": "stderr",
     "output_type": "stream",
     "text": [
      "1080it [00:16, 66.53it/s]"
     ]
    },
    {
     "name": "stdout",
     "output_type": "stream",
     "text": [
      "bainkhali pankhali\n",
      "kundapara kandapara\n"
     ]
    },
    {
     "name": "stderr",
     "output_type": "stream",
     "text": [
      "1123it [00:16, 68.34it/s]"
     ]
    },
    {
     "name": "stdout",
     "output_type": "stream",
     "text": [
      "alinagar ali asgar\n"
     ]
    },
    {
     "name": "stderr",
     "output_type": "stream",
     "text": [
      "1165it [00:17, 64.00it/s]"
     ]
    },
    {
     "name": "stdout",
     "output_type": "stream",
     "text": [
      "antapara kandapara\n"
     ]
    },
    {
     "name": "stderr",
     "output_type": "stream",
     "text": [
      "1186it [00:17, 63.89it/s]"
     ]
    },
    {
     "name": "stdout",
     "output_type": "stream",
     "text": [
      "rajapur razapur\n",
      "haripur sharifpur\n"
     ]
    },
    {
     "name": "stderr",
     "output_type": "stream",
     "text": [
      "1256it [00:18, 64.21it/s]"
     ]
    },
    {
     "name": "stdout",
     "output_type": "stream",
     "text": [
      "ramcandrapur ramchandrapur\n",
      "satgao atgao\n"
     ]
    },
    {
     "name": "stderr",
     "output_type": "stream",
     "text": [
      "1298it [00:19, 64.70it/s]"
     ]
    },
    {
     "name": "stdout",
     "output_type": "stream",
     "text": [
      "kancanpur achanpur\n",
      "kancanpur achanpur\n"
     ]
    },
    {
     "name": "stderr",
     "output_type": "stream",
     "text": [
      "1319it [00:19, 64.17it/s]"
     ]
    },
    {
     "name": "stdout",
     "output_type": "stream",
     "text": [
      "dhansara dhansagor\n"
     ]
    },
    {
     "name": "stderr",
     "output_type": "stream",
     "text": [
      "1347it [00:20, 64.43it/s]"
     ]
    },
    {
     "name": "stdout",
     "output_type": "stream",
     "text": [
      "kamalapur kamolpur\n",
      "jamuna jamuna\n"
     ]
    },
    {
     "name": "stderr",
     "output_type": "stream",
     "text": [
      "1382it [00:20, 63.33it/s]"
     ]
    },
    {
     "name": "stdout",
     "output_type": "stream",
     "text": [
      "bangara bagmara\n"
     ]
    },
    {
     "name": "stderr",
     "output_type": "stream",
     "text": [
      "1557it [00:23, 62.40it/s]"
     ]
    },
    {
     "name": "stdout",
     "output_type": "stream",
     "text": [
      "kamalapur kamolpur\n"
     ]
    },
    {
     "name": "stderr",
     "output_type": "stream",
     "text": [
      "1571it [00:23, 62.07it/s]"
     ]
    },
    {
     "name": "stdout",
     "output_type": "stream",
     "text": [
      "haripur sharifpur\n"
     ]
    },
    {
     "name": "stderr",
     "output_type": "stream",
     "text": [
      "1614it [00:24, 66.36it/s]"
     ]
    },
    {
     "name": "stdout",
     "output_type": "stream",
     "text": [
      "khaguriya khajuria\n",
      "taltali taltoli\n"
     ]
    },
    {
     "name": "stderr",
     "output_type": "stream",
     "text": [
      "1656it [00:25, 68.41it/s]"
     ]
    },
    {
     "name": "stdout",
     "output_type": "stream",
     "text": [
      "kalipur khalishpur\n"
     ]
    },
    {
     "name": "stderr",
     "output_type": "stream",
     "text": [
      "1719it [00:26, 67.83it/s]"
     ]
    },
    {
     "name": "stdout",
     "output_type": "stream",
     "text": [
      "bagar bagmara\n"
     ]
    },
    {
     "name": "stderr",
     "output_type": "stream",
     "text": [
      "1768it [00:26, 66.84it/s]"
     ]
    },
    {
     "name": "stdout",
     "output_type": "stream",
     "text": [
      "kalipur khalishpur\n",
      "bagmara bagmara\n"
     ]
    },
    {
     "name": "stderr",
     "output_type": "stream",
     "text": [
      "2097it [00:31, 70.18it/s]"
     ]
    },
    {
     "name": "stdout",
     "output_type": "stream",
     "text": [
      "raja para raj pharma\n"
     ]
    },
    {
     "name": "stderr",
     "output_type": "stream",
     "text": [
      "2129it [00:31, 69.80it/s]"
     ]
    },
    {
     "name": "stdout",
     "output_type": "stream",
     "text": [
      "sorkar para sorkar pharma\n"
     ]
    },
    {
     "name": "stderr",
     "output_type": "stream",
     "text": [
      "2233it [00:33, 70.22it/s]"
     ]
    },
    {
     "name": "stdout",
     "output_type": "stream",
     "text": [
      "mohanagor mohanagar\n"
     ]
    },
    {
     "name": "stderr",
     "output_type": "stream",
     "text": [
      "2281it [00:34, 68.22it/s]"
     ]
    },
    {
     "name": "stdout",
     "output_type": "stream",
     "text": [
      "sikder para sikder pharmacy\n",
      "maz para az pharma\n",
      "sagor para sagor pharmacy\n"
     ]
    },
    {
     "name": "stderr",
     "output_type": "stream",
     "text": [
      "2302it [00:34, 67.05it/s]"
     ]
    },
    {
     "name": "stdout",
     "output_type": "stream",
     "text": [
      "shikdar para shikdar pharmacy\n",
      "mamunpara mamun pharma\n",
      "notun bazar botul bazar\n"
     ]
    },
    {
     "name": "stderr",
     "output_type": "stream",
     "text": [
      "2426it [00:36, 66.65it/s]"
     ]
    },
    {
     "name": "stdout",
     "output_type": "stream",
     "text": [
      "kutupalong kutupalong\n",
      "coat bazar chowrata bazar\n",
      "harispur sharifpur\n"
     ]
    },
    {
     "name": "stderr",
     "output_type": "stream",
     "text": [
      "2463it [00:36, 68.08it/s]"
     ]
    },
    {
     "name": "stdout",
     "output_type": "stream",
     "text": [
      "arifpur sharifpur\n"
     ]
    },
    {
     "name": "stderr",
     "output_type": "stream",
     "text": [
      "2477it [00:36, 67.27it/s]"
     ]
    },
    {
     "name": "stdout",
     "output_type": "stream",
     "text": [
      "deush desh\n"
     ]
    },
    {
     "name": "stderr",
     "output_type": "stream",
     "text": [
      "2500it [00:37, 68.30it/s]"
     ]
    },
    {
     "name": "stdout",
     "output_type": "stream",
     "text": [
      "haripur sharifpur\n"
     ]
    },
    {
     "name": "stderr",
     "output_type": "stream",
     "text": [
      "2514it [00:37, 64.89it/s]"
     ]
    },
    {
     "name": "stdout",
     "output_type": "stream",
     "text": [
      "rajapur razapur\n"
     ]
    },
    {
     "name": "stderr",
     "output_type": "stream",
     "text": [
      "2577it [00:38, 63.27it/s]"
     ]
    },
    {
     "name": "stdout",
     "output_type": "stream",
     "text": [
      "ramchandra pur ramchandrapur\n",
      "bashanta bashna\n"
     ]
    },
    {
     "name": "stderr",
     "output_type": "stream",
     "text": [
      "2598it [00:38, 65.68it/s]"
     ]
    },
    {
     "name": "stdout",
     "output_type": "stream",
     "text": [
      "chandupur achanpur\n"
     ]
    },
    {
     "name": "stderr",
     "output_type": "stream",
     "text": [
      "2627it [00:39, 67.90it/s]"
     ]
    },
    {
     "name": "stdout",
     "output_type": "stream",
     "text": [
      "kalir bazar kalia bazar\n",
      "kamalpur kamolpur\n"
     ]
    },
    {
     "name": "stderr",
     "output_type": "stream",
     "text": [
      "2648it [00:39, 65.96it/s]"
     ]
    },
    {
     "name": "stdout",
     "output_type": "stream",
     "text": [
      "gharipur sharifpur\n",
      "kamalpur kamolpur\n",
      "krisnapur ramkrishnapur\n"
     ]
    },
    {
     "name": "stderr",
     "output_type": "stream",
     "text": [
      "2663it [00:39, 66.40it/s]"
     ]
    },
    {
     "name": "stdout",
     "output_type": "stream",
     "text": [
      "sharippur sharifpur\n",
      "chowdhuri para chowdhury pharmacy\n",
      "lakshipur kashipur\n"
     ]
    },
    {
     "name": "stderr",
     "output_type": "stream",
     "text": [
      "2742it [00:41, 62.42it/s]"
     ]
    },
    {
     "name": "stdout",
     "output_type": "stream",
     "text": [
      "sharifpur sharifpur\n"
     ]
    },
    {
     "name": "stderr",
     "output_type": "stream",
     "text": [
      "2820it [00:42, 65.23it/s]"
     ]
    },
    {
     "name": "stdout",
     "output_type": "stream",
     "text": [
      "kurakhal khuriakhali\n"
     ]
    },
    {
     "name": "stderr",
     "output_type": "stream",
     "text": [
      "2834it [00:42, 66.02it/s]"
     ]
    },
    {
     "name": "stdout",
     "output_type": "stream",
     "text": [
      "chainpur achanpur\n"
     ]
    },
    {
     "name": "stderr",
     "output_type": "stream",
     "text": [
      "2848it [00:42, 59.72it/s]"
     ]
    },
    {
     "name": "stdout",
     "output_type": "stream",
     "text": [
      "kasimpur kashipur\n"
     ]
    },
    {
     "name": "stderr",
     "output_type": "stream",
     "text": [
      "2896it [00:43, 64.19it/s]"
     ]
    },
    {
     "name": "stdout",
     "output_type": "stream",
     "text": [
      "rajapur razapur\n"
     ]
    },
    {
     "name": "stderr",
     "output_type": "stream",
     "text": [
      "2917it [00:43, 64.28it/s]"
     ]
    },
    {
     "name": "stdout",
     "output_type": "stream",
     "text": [
      "kasipur kashipur\n",
      "rashidpur kashipur\n",
      "chandipur achanpur\n"
     ]
    },
    {
     "name": "stderr",
     "output_type": "stream",
     "text": [
      "2945it [00:44, 62.94it/s]"
     ]
    },
    {
     "name": "stdout",
     "output_type": "stream",
     "text": [
      "west ramchandrapur ramchandrapur\n"
     ]
    },
    {
     "name": "stderr",
     "output_type": "stream",
     "text": [
      "2973it [00:44, 62.74it/s]"
     ]
    },
    {
     "name": "stdout",
     "output_type": "stream",
     "text": [
      "pubali public\n"
     ]
    },
    {
     "name": "stderr",
     "output_type": "stream",
     "text": [
      "2994it [00:45, 63.58it/s]"
     ]
    },
    {
     "name": "stdout",
     "output_type": "stream",
     "text": [
      "khajuriya khajuria\n",
      "dhalia dighalia\n"
     ]
    },
    {
     "name": "stderr",
     "output_type": "stream",
     "text": [
      "3051it [00:45, 67.75it/s]"
     ]
    },
    {
     "name": "stdout",
     "output_type": "stream",
     "text": [
      "sujapur ujalpur\n"
     ]
    },
    {
     "name": "stderr",
     "output_type": "stream",
     "text": [
      "3112it [00:46, 57.78it/s]"
     ]
    },
    {
     "name": "stdout",
     "output_type": "stream",
     "text": [
      "angapara kandapara\n"
     ]
    },
    {
     "name": "stderr",
     "output_type": "stream",
     "text": [
      "3192it [00:48, 57.62it/s]"
     ]
    },
    {
     "name": "stdout",
     "output_type": "stream",
     "text": [
      "khaguriya khajuria\n"
     ]
    },
    {
     "name": "stderr",
     "output_type": "stream",
     "text": [
      "3325it [00:50, 62.94it/s]"
     ]
    },
    {
     "name": "stdout",
     "output_type": "stream",
     "text": [
      "rajapur razapur\n"
     ]
    },
    {
     "name": "stderr",
     "output_type": "stream",
     "text": [
      "3367it [00:51, 63.97it/s]"
     ]
    },
    {
     "name": "stdout",
     "output_type": "stream",
     "text": [
      "palla pallabi\n"
     ]
    },
    {
     "name": "stderr",
     "output_type": "stream",
     "text": [
      "3416it [00:51, 62.26it/s]"
     ]
    },
    {
     "name": "stdout",
     "output_type": "stream",
     "text": [
      "abdul latif haji abdul latif\n"
     ]
    },
    {
     "name": "stderr",
     "output_type": "stream",
     "text": [
      "3486it [00:52, 63.20it/s]"
     ]
    },
    {
     "name": "stdout",
     "output_type": "stream",
     "text": [
      "ramchandrapur ramchandrapur\n",
      "sujapur ujalpur\n"
     ]
    },
    {
     "name": "stderr",
     "output_type": "stream",
     "text": [
      "3507it [00:53, 66.44it/s]"
     ]
    },
    {
     "name": "stdout",
     "output_type": "stream",
     "text": [
      "ramkusnapur ramkrishnapur\n"
     ]
    },
    {
     "name": "stderr",
     "output_type": "stream",
     "text": [
      "3521it [00:53, 64.76it/s]"
     ]
    },
    {
     "name": "stdout",
     "output_type": "stream",
     "text": [
      "chandpur achanpur\n",
      "khajuriya khajuria\n"
     ]
    },
    {
     "name": "stderr",
     "output_type": "stream",
     "text": [
      "3542it [00:53, 65.00it/s]"
     ]
    },
    {
     "name": "stdout",
     "output_type": "stream",
     "text": [
      "hazi abdul latif haji abdul latif\n"
     ]
    },
    {
     "name": "stderr",
     "output_type": "stream",
     "text": [
      "3563it [00:54, 67.14it/s]"
     ]
    },
    {
     "name": "stdout",
     "output_type": "stream",
     "text": [
      "hatgao atgao\n"
     ]
    },
    {
     "name": "stderr",
     "output_type": "stream",
     "text": [
      "3599it [00:54, 65.98it/s]"
     ]
    },
    {
     "name": "stdout",
     "output_type": "stream",
     "text": [
      "balukhali balukhali msf\n"
     ]
    },
    {
     "name": "stderr",
     "output_type": "stream",
     "text": [
      "3620it [00:54, 63.08it/s]"
     ]
    },
    {
     "name": "stdout",
     "output_type": "stream",
     "text": [
      "bijoy para joypara\n"
     ]
    },
    {
     "name": "stderr",
     "output_type": "stream",
     "text": [
      "3648it [00:55, 63.07it/s]"
     ]
    },
    {
     "name": "stdout",
     "output_type": "stream",
     "text": [
      "chowdhury para chowdhury pharmacy\n"
     ]
    },
    {
     "name": "stderr",
     "output_type": "stream",
     "text": [
      "3669it [00:55, 64.25it/s]"
     ]
    },
    {
     "name": "stdout",
     "output_type": "stream",
     "text": [
      "rasel rasel\n",
      "sonai sonali\n"
     ]
    },
    {
     "name": "stderr",
     "output_type": "stream",
     "text": [
      "3692it [00:56, 67.45it/s]"
     ]
    },
    {
     "name": "stdout",
     "output_type": "stream",
     "text": [
      "kamalchari katmachar\n"
     ]
    },
    {
     "name": "stderr",
     "output_type": "stream",
     "text": [
      "3714it [00:56, 67.75it/s]"
     ]
    },
    {
     "name": "stdout",
     "output_type": "stream",
     "text": [
      "chandra para chandpur pharma\n"
     ]
    },
    {
     "name": "stderr",
     "output_type": "stream",
     "text": [
      "3736it [00:56, 66.98it/s]"
     ]
    },
    {
     "name": "stdout",
     "output_type": "stream",
     "text": [
      "palli pallabi\n",
      "royail royal\n"
     ]
    },
    {
     "name": "stderr",
     "output_type": "stream",
     "text": [
      "3924it [00:59, 67.48it/s]"
     ]
    },
    {
     "name": "stdout",
     "output_type": "stream",
     "text": [
      "chandani shandhani\n"
     ]
    },
    {
     "name": "stderr",
     "output_type": "stream",
     "text": [
      "4043it [01:01, 64.07it/s]"
     ]
    },
    {
     "name": "stdout",
     "output_type": "stream",
     "text": [
      "ramchandrapur ramchandrapur\n"
     ]
    },
    {
     "name": "stderr",
     "output_type": "stream",
     "text": [
      "4064it [01:01, 63.37it/s]"
     ]
    },
    {
     "name": "stdout",
     "output_type": "stream",
     "text": [
      "jamuna jamuna\n"
     ]
    },
    {
     "name": "stderr",
     "output_type": "stream",
     "text": [
      "4099it [01:02, 63.09it/s]"
     ]
    },
    {
     "name": "stdout",
     "output_type": "stream",
     "text": [
      "sarkar para sarkar pharmacy\n"
     ]
    },
    {
     "name": "stderr",
     "output_type": "stream",
     "text": [
      "4113it [01:02, 62.34it/s]"
     ]
    },
    {
     "name": "stdout",
     "output_type": "stream",
     "text": [
      "kandapara kandapara\n",
      "rashidpur kashipur\n"
     ]
    },
    {
     "name": "stderr",
     "output_type": "stream",
     "text": [
      "4127it [01:02, 63.74it/s]"
     ]
    },
    {
     "name": "stdout",
     "output_type": "stream",
     "text": [
      "ramchandrapur ramchandrapur\n"
     ]
    },
    {
     "name": "stderr",
     "output_type": "stream",
     "text": [
      "4332it [01:05, 69.14it/s]"
     ]
    },
    {
     "name": "stdout",
     "output_type": "stream",
     "text": [
      "ulpur ujalpur\n"
     ]
    },
    {
     "name": "stderr",
     "output_type": "stream",
     "text": [
      "4354it [01:06, 68.91it/s]"
     ]
    },
    {
     "name": "stdout",
     "output_type": "stream",
     "text": [
      "orakandi tarakandi\n"
     ]
    },
    {
     "name": "stderr",
     "output_type": "stream",
     "text": [
      "4369it [01:06, 67.34it/s]"
     ]
    },
    {
     "name": "stdout",
     "output_type": "stream",
     "text": [
      "uttarpar uttara\n",
      "dighaliya dighalia\n"
     ]
    },
    {
     "name": "stderr",
     "output_type": "stream",
     "text": [
      "4398it [01:06, 66.97it/s]"
     ]
    },
    {
     "name": "stdout",
     "output_type": "stream",
     "text": [
      "rajapur razapur\n"
     ]
    },
    {
     "name": "stderr",
     "output_type": "stream",
     "text": [
      "4447it [01:07, 64.40it/s]"
     ]
    },
    {
     "name": "stdout",
     "output_type": "stream",
     "text": [
      "toparkandi tarakandi\n",
      "kamalapur kamolpur\n"
     ]
    },
    {
     "name": "stderr",
     "output_type": "stream",
     "text": [
      "4481it [01:07, 58.93it/s]"
     ]
    },
    {
     "name": "stdout",
     "output_type": "stream",
     "text": [
      "tukarkandi tarakandi\n",
      "alinagar ali asgar\n"
     ]
    },
    {
     "name": "stderr",
     "output_type": "stream",
     "text": [
      "4516it [01:08, 63.46it/s]"
     ]
    },
    {
     "name": "stdout",
     "output_type": "stream",
     "text": [
      "kamalpur kamolpur\n",
      "chandpur achanpur\n"
     ]
    },
    {
     "name": "stderr",
     "output_type": "stream",
     "text": [
      "4646it [01:10, 69.59it/s]"
     ]
    },
    {
     "name": "stdout",
     "output_type": "stream",
     "text": [
      "kurikhai khuriakhali\n"
     ]
    },
    {
     "name": "stderr",
     "output_type": "stream",
     "text": [
      "4669it [01:10, 67.61it/s]"
     ]
    },
    {
     "name": "stdout",
     "output_type": "stream",
     "text": [
      "kalapara kandapara\n",
      "vatgaon atgao\n"
     ]
    },
    {
     "name": "stderr",
     "output_type": "stream",
     "text": [
      "4697it [01:11, 64.78it/s]"
     ]
    },
    {
     "name": "stdout",
     "output_type": "stream",
     "text": [
      "chanpur achanpur\n",
      "kanchanpur achanpur\n",
      "achhanpur achanpur\n"
     ]
    },
    {
     "name": "stderr",
     "output_type": "stream",
     "text": [
      "4746it [01:11, 65.60it/s]"
     ]
    },
    {
     "name": "stdout",
     "output_type": "stream",
     "text": [
      "tarakandi tarakandi\n"
     ]
    },
    {
     "name": "stderr",
     "output_type": "stream",
     "text": [
      "4788it [01:12, 65.99it/s]"
     ]
    },
    {
     "name": "stdout",
     "output_type": "stream",
     "text": [
      "auliyarchar chuliyar char\n"
     ]
    },
    {
     "name": "stderr",
     "output_type": "stream",
     "text": [
      "4861it [01:13, 64.75it/s]"
     ]
    },
    {
     "name": "stdout",
     "output_type": "stream",
     "text": [
      "aruakandi tarakandi\n"
     ]
    },
    {
     "name": "stderr",
     "output_type": "stream",
     "text": [
      "4890it [01:14, 60.40it/s]"
     ]
    },
    {
     "name": "stdout",
     "output_type": "stream",
     "text": [
      "kharakandi tarakandi\n"
     ]
    },
    {
     "name": "stderr",
     "output_type": "stream",
     "text": [
      "4926it [01:14, 64.15it/s]"
     ]
    },
    {
     "name": "stdout",
     "output_type": "stream",
     "text": [
      "jainta janata\n"
     ]
    },
    {
     "name": "stderr",
     "output_type": "stream",
     "text": [
      "4947it [01:15, 64.73it/s]"
     ]
    },
    {
     "name": "stdout",
     "output_type": "stream",
     "text": [
      "beradanga bajerdanga\n"
     ]
    },
    {
     "name": "stderr",
     "output_type": "stream",
     "text": [
      "5085it [01:17, 66.67it/s]"
     ]
    },
    {
     "name": "stdout",
     "output_type": "stream",
     "text": [
      "dattar char datiyar char\n"
     ]
    },
    {
     "name": "stderr",
     "output_type": "stream",
     "text": [
      "5113it [01:17, 64.16it/s]"
     ]
    },
    {
     "name": "stdout",
     "output_type": "stream",
     "text": [
      "kharia khajuria\n"
     ]
    },
    {
     "name": "stderr",
     "output_type": "stream",
     "text": [
      "5141it [01:17, 63.06it/s]"
     ]
    },
    {
     "name": "stdout",
     "output_type": "stream",
     "text": [
      "kathaltoli taltoli\n"
     ]
    },
    {
     "name": "stderr",
     "output_type": "stream",
     "text": [
      "5204it [01:18, 65.31it/s]"
     ]
    },
    {
     "name": "stdout",
     "output_type": "stream",
     "text": [
      "sarifpur sharifpur\n"
     ]
    },
    {
     "name": "stderr",
     "output_type": "stream",
     "text": [
      "5341it [01:20, 69.27it/s]"
     ]
    },
    {
     "name": "stdout",
     "output_type": "stream",
     "text": [
      "charbelab care lab\n"
     ]
    },
    {
     "name": "stderr",
     "output_type": "stream",
     "text": [
      "5363it [01:21, 69.09it/s]"
     ]
    },
    {
     "name": "stdout",
     "output_type": "stream",
     "text": [
      "chartarakandi tarakandi\n",
      "krishnapur ramkrishnapur\n"
     ]
    },
    {
     "name": "stderr",
     "output_type": "stream",
     "text": [
      "5436it [01:22, 65.90it/s]"
     ]
    },
    {
     "name": "stdout",
     "output_type": "stream",
     "text": [
      "islampara islam pharma\n"
     ]
    },
    {
     "name": "stderr",
     "output_type": "stream",
     "text": [
      "5473it [01:22, 67.16it/s]"
     ]
    },
    {
     "name": "stdout",
     "output_type": "stream",
     "text": [
      "chanpur achanpur\n",
      "pagla bazar kalia bazar\n"
     ]
    },
    {
     "name": "stderr",
     "output_type": "stream",
     "text": [
      "5494it [01:23, 65.06it/s]"
     ]
    },
    {
     "name": "stdout",
     "output_type": "stream",
     "text": [
      "kacharikandi kamarkandi\n",
      "kandapara kandapara\n",
      "luchanpur achanpur\n"
     ]
    },
    {
     "name": "stderr",
     "output_type": "stream",
     "text": [
      "5551it [01:23, 67.86it/s]"
     ]
    },
    {
     "name": "stdout",
     "output_type": "stream",
     "text": [
      "beradanga bajerdanga\n"
     ]
    },
    {
     "name": "stderr",
     "output_type": "stream",
     "text": [
      "5603it [01:24, 68.72it/s]"
     ]
    },
    {
     "name": "stdout",
     "output_type": "stream",
     "text": [
      "jaykrishnapur ramkrishnapur\n"
     ]
    },
    {
     "name": "stderr",
     "output_type": "stream",
     "text": [
      "5655it [01:25, 67.87it/s]"
     ]
    },
    {
     "name": "stdout",
     "output_type": "stream",
     "text": [
      "rajapur razapur\n",
      "chandani shandhani\n",
      "bagmara bagmara\n"
     ]
    },
    {
     "name": "stderr",
     "output_type": "stream",
     "text": [
      "5710it [01:26, 68.02it/s]"
     ]
    },
    {
     "name": "stdout",
     "output_type": "stream",
     "text": [
      "dhanoi dhania\n",
      "bepari bazar beanibazar\n"
     ]
    },
    {
     "name": "stderr",
     "output_type": "stream",
     "text": [
      "5758it [01:26, 68.33it/s]"
     ]
    },
    {
     "name": "stdout",
     "output_type": "stream",
     "text": [
      "taltola taltoli\n",
      "kashipur kashipur\n"
     ]
    },
    {
     "name": "stderr",
     "output_type": "stream",
     "text": [
      "5966it [01:29, 69.61it/s]"
     ]
    },
    {
     "name": "stdout",
     "output_type": "stream",
     "text": [
      "kamanna amana\n"
     ]
    },
    {
     "name": "stderr",
     "output_type": "stream",
     "text": [
      "5996it [01:30, 69.19it/s]"
     ]
    },
    {
     "name": "stdout",
     "output_type": "stream",
     "text": [
      "fulbari fulbari\n"
     ]
    },
    {
     "name": "stderr",
     "output_type": "stream",
     "text": [
      "6074it [01:31, 67.95it/s]"
     ]
    },
    {
     "name": "stdout",
     "output_type": "stream",
     "text": [
      "sonaliya sonali\n",
      "mohan nagar mohanagar\n"
     ]
    },
    {
     "name": "stderr",
     "output_type": "stream",
     "text": [
      "6183it [01:33, 70.29it/s]"
     ]
    },
    {
     "name": "stdout",
     "output_type": "stream",
     "text": [
      "khandapara kandapara\n"
     ]
    },
    {
     "name": "stderr",
     "output_type": "stream",
     "text": [
      "6207it [01:33, 69.65it/s]"
     ]
    },
    {
     "name": "stdout",
     "output_type": "stream",
     "text": [
      "abdullaha para abdullah pharmacy\n"
     ]
    },
    {
     "name": "stderr",
     "output_type": "stream",
     "text": [
      "6230it [01:33, 68.67it/s]"
     ]
    },
    {
     "name": "stdout",
     "output_type": "stream",
     "text": [
      "khalispur khalishpur\n",
      "karapara kandapara\n",
      "rajapur razapur\n"
     ]
    },
    {
     "name": "stderr",
     "output_type": "stream",
     "text": [
      "6403it [01:36, 69.12it/s]"
     ]
    },
    {
     "name": "stdout",
     "output_type": "stream",
     "text": [
      "bogi -sarankhola bogi shoronkhola\n"
     ]
    },
    {
     "name": "stderr",
     "output_type": "stream",
     "text": [
      "6426it [01:36, 69.17it/s]"
     ]
    },
    {
     "name": "stdout",
     "output_type": "stream",
     "text": [
      "faridpur -alamdanga faridpur al madina\n"
     ]
    },
    {
     "name": "stderr",
     "output_type": "stream",
     "text": [
      "6550it [01:38, 69.10it/s]"
     ]
    },
    {
     "name": "stdout",
     "output_type": "stream",
     "text": [
      "kota ekota\n",
      "purakhali pankhali\n"
     ]
    },
    {
     "name": "stderr",
     "output_type": "stream",
     "text": [
      "6613it [01:39, 69.76it/s]"
     ]
    },
    {
     "name": "stdout",
     "output_type": "stream",
     "text": [
      "ramkrsnpur ramkrishnapur\n"
     ]
    },
    {
     "name": "stderr",
     "output_type": "stream",
     "text": [
      "6634it [01:39, 69.19it/s]"
     ]
    },
    {
     "name": "stdout",
     "output_type": "stream",
     "text": [
      "kamlapur kamolpur\n"
     ]
    },
    {
     "name": "stderr",
     "output_type": "stream",
     "text": [
      "6662it [01:40, 68.61it/s]"
     ]
    },
    {
     "name": "stdout",
     "output_type": "stream",
     "text": [
      "fulbari fulbari\n"
     ]
    },
    {
     "name": "stderr",
     "output_type": "stream",
     "text": [
      "6698it [01:40, 67.99it/s]"
     ]
    },
    {
     "name": "stdout",
     "output_type": "stream",
     "text": [
      "baysha bashna\n",
      "palla pallabi\n"
     ]
    },
    {
     "name": "stderr",
     "output_type": "stream",
     "text": [
      "6737it [01:41, 69.35it/s]"
     ]
    },
    {
     "name": "stdout",
     "output_type": "stream",
     "text": [
      "kariyakhali khuriakhali\n"
     ]
    },
    {
     "name": "stderr",
     "output_type": "stream",
     "text": [
      "6760it [01:41, 68.50it/s]"
     ]
    },
    {
     "name": "stdout",
     "output_type": "stream",
     "text": [
      "kasipur kashipur\n",
      "noyali noyani\n"
     ]
    },
    {
     "name": "stderr",
     "output_type": "stream",
     "text": [
      "6808it [01:42, 69.13it/s]"
     ]
    },
    {
     "name": "stdout",
     "output_type": "stream",
     "text": [
      "putakhali pankhali\n",
      "rajapur razapur\n",
      "bagacra bagmara\n"
     ]
    },
    {
     "name": "stderr",
     "output_type": "stream",
     "text": [
      "6822it [01:42, 66.95it/s]"
     ]
    },
    {
     "name": "stdout",
     "output_type": "stream",
     "text": [
      "chandpur achanpur\n",
      "harispur sharifpur\n"
     ]
    },
    {
     "name": "stderr",
     "output_type": "stream",
     "text": [
      "6853it [01:42, 69.13it/s]"
     ]
    },
    {
     "name": "stdout",
     "output_type": "stream",
     "text": [
      "ramcandrpur ramchandrapur\n"
     ]
    },
    {
     "name": "stderr",
     "output_type": "stream",
     "text": [
      "6869it [01:43, 69.06it/s]"
     ]
    },
    {
     "name": "stdout",
     "output_type": "stream",
     "text": [
      "khajura khajuria\n",
      "fulbari fulbari\n"
     ]
    },
    {
     "name": "stderr",
     "output_type": "stream",
     "text": [
      "6912it [01:43, 64.54it/s]"
     ]
    },
    {
     "name": "stdout",
     "output_type": "stream",
     "text": [
      "fulbari fulbari\n",
      "ramcandrapur ramchandrapur\n"
     ]
    },
    {
     "name": "stderr",
     "output_type": "stream",
     "text": [
      "6940it [01:44, 64.05it/s]"
     ]
    },
    {
     "name": "stdout",
     "output_type": "stream",
     "text": [
      "natima enatia\n"
     ]
    },
    {
     "name": "stderr",
     "output_type": "stream",
     "text": [
      "6982it [01:44, 64.01it/s]"
     ]
    },
    {
     "name": "stdout",
     "output_type": "stream",
     "text": [
      "ramcandrapur ramchandrapur\n",
      "aruyakandi tarakandi\n"
     ]
    },
    {
     "name": "stderr",
     "output_type": "stream",
     "text": [
      "7012it [01:45, 57.75it/s]"
     ]
    },
    {
     "name": "stdout",
     "output_type": "stream",
     "text": [
      "adhar manik adhar manick\n",
      "khejuriya khajuria\n",
      "khona khatail khona khatail\n",
      "pankhali pankhali\n",
      "pankhali hoglabuniya pankhali hogolabuniya\n"
     ]
    },
    {
     "name": "stderr",
     "output_type": "stream",
     "text": [
      "7035it [01:45, 64.29it/s]"
     ]
    },
    {
     "name": "stdout",
     "output_type": "stream",
     "text": [
      "chak kamini basiya north kamini basiya\n"
     ]
    },
    {
     "name": "stderr",
     "output_type": "stream",
     "text": [
      "7122it [01:46, 66.33it/s]"
     ]
    },
    {
     "name": "stdout",
     "output_type": "stream",
     "text": [
      "nayani noyani\n",
      "katamarchar katmachar\n"
     ]
    },
    {
     "name": "stderr",
     "output_type": "stream",
     "text": [
      "7174it [01:47, 64.71it/s]"
     ]
    },
    {
     "name": "stdout",
     "output_type": "stream",
     "text": [
      "bagmara bagmara\n"
     ]
    },
    {
     "name": "stderr",
     "output_type": "stream",
     "text": [
      "7243it [01:48, 68.91it/s]"
     ]
    },
    {
     "name": "stdout",
     "output_type": "stream",
     "text": [
      "kamalpur kamolpur\n"
     ]
    },
    {
     "name": "stderr",
     "output_type": "stream",
     "text": [
      "7275it [01:49, 67.97it/s]"
     ]
    },
    {
     "name": "stdout",
     "output_type": "stream",
     "text": [
      "komolapur kamolpur\n",
      "fulbar fulbari\n"
     ]
    },
    {
     "name": "stderr",
     "output_type": "stream",
     "text": [
      "7298it [01:49, 68.83it/s]"
     ]
    },
    {
     "name": "stdout",
     "output_type": "stream",
     "text": [
      "kancanpur achanpur\n"
     ]
    },
    {
     "name": "stderr",
     "output_type": "stream",
     "text": [
      "7314it [01:49, 68.88it/s]"
     ]
    },
    {
     "name": "stdout",
     "output_type": "stream",
     "text": [
      "rajapur razapur\n",
      "komarkandi kamarkandi\n"
     ]
    },
    {
     "name": "stderr",
     "output_type": "stream",
     "text": [
      "7335it [01:49, 65.99it/s]"
     ]
    },
    {
     "name": "stdout",
     "output_type": "stream",
     "text": [
      "rajapur razapur\n"
     ]
    },
    {
     "name": "stderr",
     "output_type": "stream",
     "text": [
      "7356it [01:50, 67.45it/s]"
     ]
    },
    {
     "name": "stdout",
     "output_type": "stream",
     "text": [
      "kancanpur achanpur\n"
     ]
    },
    {
     "name": "stderr",
     "output_type": "stream",
     "text": [
      "7386it [01:50, 68.65it/s]"
     ]
    },
    {
     "name": "stdout",
     "output_type": "stream",
     "text": [
      "fulbaria fulbari\n"
     ]
    },
    {
     "name": "stderr",
     "output_type": "stream",
     "text": [
      "7441it [01:51, 68.05it/s]"
     ]
    },
    {
     "name": "stdout",
     "output_type": "stream",
     "text": [
      "harekrishnapur ramkrishnapur\n",
      "palla pallabi\n"
     ]
    },
    {
     "name": "stderr",
     "output_type": "stream",
     "text": [
      "7567it [01:53, 68.23it/s]"
     ]
    },
    {
     "name": "stdout",
     "output_type": "stream",
     "text": [
      "urashi mourashi\n",
      "sarifpur sharifpur\n"
     ]
    },
    {
     "name": "stderr",
     "output_type": "stream",
     "text": [
      "7718it [01:55, 68.79it/s]"
     ]
    },
    {
     "name": "stdout",
     "output_type": "stream",
     "text": [
      "jalalabad jalalabad eye\n",
      "dhandiya dhania\n"
     ]
    },
    {
     "name": "stderr",
     "output_type": "stream",
     "text": [
      "7741it [01:55, 68.49it/s]"
     ]
    },
    {
     "name": "stdout",
     "output_type": "stream",
     "text": [
      "sonatala sonatola\n"
     ]
    },
    {
     "name": "stderr",
     "output_type": "stream",
     "text": [
      "7845it [01:57, 69.50it/s]"
     ]
    },
    {
     "name": "stdout",
     "output_type": "stream",
     "text": [
      "dhandiya dhania\n"
     ]
    },
    {
     "name": "stderr",
     "output_type": "stream",
     "text": [
      "7874it [01:57, 64.09it/s]"
     ]
    },
    {
     "name": "stdout",
     "output_type": "stream",
     "text": [
      "kasipur kashipur\n"
     ]
    },
    {
     "name": "stderr",
     "output_type": "stream",
     "text": [
      "7903it [01:58, 67.15it/s]"
     ]
    },
    {
     "name": "stdout",
     "output_type": "stream",
     "text": [
      "mather char mother care\n"
     ]
    },
    {
     "name": "stderr",
     "output_type": "stream",
     "text": [
      "7967it [01:59, 69.42it/s]"
     ]
    },
    {
     "name": "stdout",
     "output_type": "stream",
     "text": [
      "marakandi tarakandi\n"
     ]
    },
    {
     "name": "stderr",
     "output_type": "stream",
     "text": [
      "7999it [01:59, 69.45it/s]"
     ]
    },
    {
     "name": "stdout",
     "output_type": "stream",
     "text": [
      "chandpur achanpur\n"
     ]
    },
    {
     "name": "stderr",
     "output_type": "stream",
     "text": [
      "8042it [02:00, 66.58it/s]"
     ]
    },
    {
     "name": "stdout",
     "output_type": "stream",
     "text": [
      "godashimla nagda shimla\n",
      "kandarpara kandapara\n"
     ]
    },
    {
     "name": "stderr",
     "output_type": "stream",
     "text": [
      "8070it [02:00, 67.57it/s]"
     ]
    },
    {
     "name": "stdout",
     "output_type": "stream",
     "text": [
      "tarta para tartila pharma\n"
     ]
    },
    {
     "name": "stderr",
     "output_type": "stream",
     "text": [
      "8085it [02:00, 68.09it/s]"
     ]
    },
    {
     "name": "stdout",
     "output_type": "stream",
     "text": [
      "velamari ezlamari\n"
     ]
    },
    {
     "name": "stderr",
     "output_type": "stream",
     "text": [
      "8115it [02:01, 67.37it/s]"
     ]
    },
    {
     "name": "stdout",
     "output_type": "stream",
     "text": [
      "tarakandi tarakandi\n",
      "haripur sharifpur\n"
     ]
    },
    {
     "name": "stderr",
     "output_type": "stream",
     "text": [
      "8138it [02:01, 68.75it/s]"
     ]
    },
    {
     "name": "stdout",
     "output_type": "stream",
     "text": [
      "krishnapur ramkrishnapur\n"
     ]
    },
    {
     "name": "stderr",
     "output_type": "stream",
     "text": [
      "8153it [02:01, 68.34it/s]"
     ]
    },
    {
     "name": "stdout",
     "output_type": "stream",
     "text": [
      "mohadan madan\n",
      "tarakandi tarakandi\n"
     ]
    },
    {
     "name": "stderr",
     "output_type": "stream",
     "text": [
      "8184it [02:02, 68.33it/s]"
     ]
    },
    {
     "name": "stdout",
     "output_type": "stream",
     "text": [
      "chanpura achanpur\n"
     ]
    },
    {
     "name": "stderr",
     "output_type": "stream",
     "text": [
      "8223it [02:02, 69.09it/s]"
     ]
    },
    {
     "name": "stdout",
     "output_type": "stream",
     "text": [
      "bagpara bagmara\n"
     ]
    },
    {
     "name": "stderr",
     "output_type": "stream",
     "text": [
      "8245it [02:03, 68.78it/s]"
     ]
    },
    {
     "name": "stdout",
     "output_type": "stream",
     "text": [
      "chandpur achanpur\n"
     ]
    },
    {
     "name": "stderr",
     "output_type": "stream",
     "text": [
      "8285it [02:03, 69.58it/s]"
     ]
    },
    {
     "name": "stdout",
     "output_type": "stream",
     "text": [
      "krishnapur ramkrishnapur\n"
     ]
    },
    {
     "name": "stderr",
     "output_type": "stream",
     "text": [
      "8357it [02:04, 69.29it/s]"
     ]
    },
    {
     "name": "stdout",
     "output_type": "stream",
     "text": [
      "konapara konachipara\n",
      "md. mazharul islam md khayrul islam\n"
     ]
    },
    {
     "name": "stderr",
     "output_type": "stream",
     "text": [
      "8386it [02:05, 67.15it/s]"
     ]
    },
    {
     "name": "stdout",
     "output_type": "stream",
     "text": [
      "khandakpara kandapara\n",
      "swadeshi sadesh\n"
     ]
    },
    {
     "name": "stderr",
     "output_type": "stream",
     "text": [
      "8433it [02:05, 66.66it/s]"
     ]
    },
    {
     "name": "stdout",
     "output_type": "stream",
     "text": [
      "balihata baliaghata\n",
      "hariyakhali khuriakhali\n",
      "rambhadrapur ramchandrapur\n"
     ]
    },
    {
     "name": "stderr",
     "output_type": "stream",
     "text": [
      "8447it [02:06, 66.27it/s]"
     ]
    },
    {
     "name": "stdout",
     "output_type": "stream",
     "text": [
      "khajuliya khajuria\n",
      "kashimpur kashipur\n"
     ]
    },
    {
     "name": "stderr",
     "output_type": "stream",
     "text": [
      "8462it [02:06, 66.55it/s]"
     ]
    },
    {
     "name": "stdout",
     "output_type": "stream",
     "text": [
      "dighalgao dighalia\n",
      "birashi biash\n",
      "tarakandi tarakandi\n"
     ]
    },
    {
     "name": "stderr",
     "output_type": "stream",
     "text": [
      "8484it [02:06, 67.58it/s]"
     ]
    },
    {
     "name": "stdout",
     "output_type": "stream",
     "text": [
      "kaidapara kandapara\n"
     ]
    },
    {
     "name": "stderr",
     "output_type": "stream",
     "text": [
      "8562it [02:07, 63.41it/s]"
     ]
    },
    {
     "name": "stdout",
     "output_type": "stream",
     "text": [
      "haripur sharifpur\n"
     ]
    },
    {
     "name": "stderr",
     "output_type": "stream",
     "text": [
      "8583it [02:08, 65.44it/s]"
     ]
    },
    {
     "name": "stdout",
     "output_type": "stream",
     "text": [
      "sutarkandi tarakandi\n"
     ]
    },
    {
     "name": "stderr",
     "output_type": "stream",
     "text": [
      "8606it [02:08, 67.80it/s]"
     ]
    },
    {
     "name": "stdout",
     "output_type": "stream",
     "text": [
      "haripur sharifpur\n"
     ]
    },
    {
     "name": "stderr",
     "output_type": "stream",
     "text": [
      "8637it [02:08, 68.28it/s]"
     ]
    },
    {
     "name": "stdout",
     "output_type": "stream",
     "text": [
      "ramchandrapur ramchandrapur\n"
     ]
    },
    {
     "name": "stderr",
     "output_type": "stream",
     "text": [
      "8748it [02:10, 69.82it/s]"
     ]
    },
    {
     "name": "stdout",
     "output_type": "stream",
     "text": [
      "krishnapur ramkrishnapur\n"
     ]
    },
    {
     "name": "stderr",
     "output_type": "stream",
     "text": [
      "8779it [02:10, 67.82it/s]"
     ]
    },
    {
     "name": "stdout",
     "output_type": "stream",
     "text": [
      "haripur sharifpur\n",
      "kandapara kandapara\n",
      "krishnapur ramkrishnapur\n"
     ]
    },
    {
     "name": "stderr",
     "output_type": "stream",
     "text": [
      "8795it [02:11, 68.13it/s]"
     ]
    },
    {
     "name": "stdout",
     "output_type": "stream",
     "text": [
      "kashipur kashipur\n"
     ]
    },
    {
     "name": "stderr",
     "output_type": "stream",
     "text": [
      "8850it [02:11, 67.29it/s]"
     ]
    },
    {
     "name": "stdout",
     "output_type": "stream",
     "text": [
      "khashipur kashipur\n",
      "kamalpur kamolpur\n",
      "komolpur kamolpur\n"
     ]
    },
    {
     "name": "stderr",
     "output_type": "stream",
     "text": [
      "8879it [02:12, 66.31it/s]"
     ]
    },
    {
     "name": "stdout",
     "output_type": "stream",
     "text": [
      "kanchanpur achanpur\n",
      "kashimpur kashipur\n"
     ]
    },
    {
     "name": "stderr",
     "output_type": "stream",
     "text": [
      "8925it [02:13, 68.76it/s]"
     ]
    },
    {
     "name": "stdout",
     "output_type": "stream",
     "text": [
      "tarakanda tarakandi\n"
     ]
    },
    {
     "name": "stderr",
     "output_type": "stream",
     "text": [
      "8948it [02:13, 68.16it/s]"
     ]
    },
    {
     "name": "stdout",
     "output_type": "stream",
     "text": [
      "bausha bashna\n",
      "krishnapur ramkrishnapur\n",
      "kalapara kandapara\n"
     ]
    },
    {
     "name": "stderr",
     "output_type": "stream",
     "text": [
      "8979it [02:13, 68.46it/s]"
     ]
    },
    {
     "name": "stdout",
     "output_type": "stream",
     "text": [
      "balughata baliaghata\n"
     ]
    },
    {
     "name": "stderr",
     "output_type": "stream",
     "text": [
      "9049it [02:14, 69.15it/s]"
     ]
    },
    {
     "name": "stdout",
     "output_type": "stream",
     "text": [
      "krishnapur ramkrishnapur\n"
     ]
    },
    {
     "name": "stderr",
     "output_type": "stream",
     "text": [
      "9072it [02:15, 68.97it/s]"
     ]
    },
    {
     "name": "stdout",
     "output_type": "stream",
     "text": [
      "kharia khajuria\n"
     ]
    },
    {
     "name": "stderr",
     "output_type": "stream",
     "text": [
      "9152it [02:16, 69.93it/s]"
     ]
    },
    {
     "name": "stdout",
     "output_type": "stream",
     "text": [
      "ramkrsnapur ramkrishnapur\n"
     ]
    },
    {
     "name": "stderr",
     "output_type": "stream",
     "text": [
      "9436it [02:20, 69.36it/s]"
     ]
    },
    {
     "name": "stdout",
     "output_type": "stream",
     "text": [
      "mulbari fulbari\n"
     ]
    },
    {
     "name": "stderr",
     "output_type": "stream",
     "text": [
      "9498it [02:21, 68.61it/s]"
     ]
    },
    {
     "name": "stdout",
     "output_type": "stream",
     "text": [
      "harispur sharifpur\n",
      "alinagar ali asgar\n"
     ]
    },
    {
     "name": "stderr",
     "output_type": "stream",
     "text": [
      "9527it [02:21, 68.84it/s]"
     ]
    },
    {
     "name": "stdout",
     "output_type": "stream",
     "text": [
      "horipur horihorpur\n"
     ]
    },
    {
     "name": "stderr",
     "output_type": "stream",
     "text": [
      "9565it [02:22, 69.17it/s]"
     ]
    },
    {
     "name": "stdout",
     "output_type": "stream",
     "text": [
      "kamalpur kamolpur\n"
     ]
    },
    {
     "name": "stderr",
     "output_type": "stream",
     "text": [
      "9629it [02:23, 64.78it/s]"
     ]
    },
    {
     "name": "stdout",
     "output_type": "stream",
     "text": [
      "kancapara kandapara\n",
      "kaytahar katmachar\n",
      "haripur sharifpur\n"
     ]
    },
    {
     "name": "stderr",
     "output_type": "stream",
     "text": [
      "9715it [02:24, 69.59it/s]"
     ]
    },
    {
     "name": "stdout",
     "output_type": "stream",
     "text": [
      "kamalpur kamolpur\n"
     ]
    },
    {
     "name": "stderr",
     "output_type": "stream",
     "text": [
      "9779it [02:25, 69.43it/s]"
     ]
    },
    {
     "name": "stdout",
     "output_type": "stream",
     "text": [
      "neuta neta\n"
     ]
    },
    {
     "name": "stderr",
     "output_type": "stream",
     "text": [
      "9802it [02:25, 69.15it/s]"
     ]
    },
    {
     "name": "stdout",
     "output_type": "stream",
     "text": [
      "fukbari fulbari\n"
     ]
    },
    {
     "name": "stderr",
     "output_type": "stream",
     "text": [
      "9825it [02:26, 68.79it/s]"
     ]
    },
    {
     "name": "stdout",
     "output_type": "stream",
     "text": [
      "haripur sharifpur\n"
     ]
    },
    {
     "name": "stderr",
     "output_type": "stream",
     "text": [
      "9865it [02:26, 69.49it/s]"
     ]
    },
    {
     "name": "stdout",
     "output_type": "stream",
     "text": [
      "ghatkair halt kair\n"
     ]
    },
    {
     "name": "stderr",
     "output_type": "stream",
     "text": [
      "9889it [02:27, 69.17it/s]"
     ]
    },
    {
     "name": "stdout",
     "output_type": "stream",
     "text": [
      "jamuni jamuna\n"
     ]
    },
    {
     "name": "stderr",
     "output_type": "stream",
     "text": [
      "9921it [02:27, 63.57it/s]"
     ]
    },
    {
     "name": "stdout",
     "output_type": "stream",
     "text": [
      "kanyapara kandapara\n",
      "dhansa dhania\n"
     ]
    },
    {
     "name": "stderr",
     "output_type": "stream",
     "text": [
      "9935it [02:27, 62.22it/s]"
     ]
    },
    {
     "name": "stdout",
     "output_type": "stream",
     "text": [
      "haripur sharifpur\n",
      "rajapur razapur\n"
     ]
    },
    {
     "name": "stderr",
     "output_type": "stream",
     "text": [
      "10002it [02:28, 68.48it/s]"
     ]
    },
    {
     "name": "stdout",
     "output_type": "stream",
     "text": [
      "jalalabad jalalabad eye\n"
     ]
    },
    {
     "name": "stderr",
     "output_type": "stream",
     "text": [
      "10017it [02:29, 66.70it/s]"
     ]
    },
    {
     "name": "stdout",
     "output_type": "stream",
     "text": [
      "bagmari bagmara\n",
      "haripur sharifpur\n"
     ]
    },
    {
     "name": "stderr",
     "output_type": "stream",
     "text": [
      "10121it [02:30, 66.62it/s]"
     ]
    },
    {
     "name": "stdout",
     "output_type": "stream",
     "text": [
      "chandpur achanpur\n"
     ]
    },
    {
     "name": "stderr",
     "output_type": "stream",
     "text": [
      "10191it [02:31, 68.97it/s]"
     ]
    },
    {
     "name": "stdout",
     "output_type": "stream",
     "text": [
      "arkandi tarakandi\n"
     ]
    },
    {
     "name": "stderr",
     "output_type": "stream",
     "text": [
      "10214it [02:31, 67.85it/s]"
     ]
    },
    {
     "name": "stdout",
     "output_type": "stream",
     "text": [
      "soyair soair\n"
     ]
    },
    {
     "name": "stderr",
     "output_type": "stream",
     "text": [
      "10243it [02:32, 68.43it/s]"
     ]
    },
    {
     "name": "stdout",
     "output_type": "stream",
     "text": [
      "ramchandrapur ramchandrapur\n"
     ]
    },
    {
     "name": "stderr",
     "output_type": "stream",
     "text": [
      "10273it [02:32, 68.71it/s]"
     ]
    },
    {
     "name": "stdout",
     "output_type": "stream",
     "text": [
      "bhuiyan para bhuiayan pharmacy\n"
     ]
    },
    {
     "name": "stderr",
     "output_type": "stream",
     "text": [
      "10288it [02:32, 68.74it/s]"
     ]
    },
    {
     "name": "stdout",
     "output_type": "stream",
     "text": [
      "madarbariya mandarbaia\n"
     ]
    },
    {
     "name": "stderr",
     "output_type": "stream",
     "text": [
      "10334it [02:33, 67.84it/s]"
     ]
    },
    {
     "name": "stdout",
     "output_type": "stream",
     "text": [
      "balughata baliaghata\n",
      "kamalpur kamolpur\n",
      "arkandi tarakandi\n"
     ]
    },
    {
     "name": "stderr",
     "output_type": "stream",
     "text": [
      "10349it [02:33, 67.30it/s]"
     ]
    },
    {
     "name": "stdout",
     "output_type": "stream",
     "text": [
      "saraikandi tarakandi\n"
     ]
    },
    {
     "name": "stderr",
     "output_type": "stream",
     "text": [
      "10438it [02:35, 69.07it/s]"
     ]
    },
    {
     "name": "stdout",
     "output_type": "stream",
     "text": [
      "huikhali khuriakhali\n"
     ]
    },
    {
     "name": "stderr",
     "output_type": "stream",
     "text": [
      "10499it [02:36, 68.49it/s]"
     ]
    },
    {
     "name": "stdout",
     "output_type": "stream",
     "text": [
      "khalispur khalishpur\n"
     ]
    },
    {
     "name": "stderr",
     "output_type": "stream",
     "text": [
      "10579it [02:37, 69.86it/s]"
     ]
    },
    {
     "name": "stdout",
     "output_type": "stream",
     "text": [
      "kasimpur kashipur\n"
     ]
    },
    {
     "name": "stderr",
     "output_type": "stream",
     "text": [
      "10594it [02:37, 69.32it/s]"
     ]
    },
    {
     "name": "stdout",
     "output_type": "stream",
     "text": [
      "krishnapur ramkrishnapur\n"
     ]
    },
    {
     "name": "stderr",
     "output_type": "stream",
     "text": [
      "10608it [02:37, 64.15it/s]"
     ]
    },
    {
     "name": "stdout",
     "output_type": "stream",
     "text": [
      "alokchatra jalchatra\n"
     ]
    },
    {
     "name": "stderr",
     "output_type": "stream",
     "text": [
      "10692it [02:38, 64.97it/s]"
     ]
    },
    {
     "name": "stdout",
     "output_type": "stream",
     "text": [
      "sadhanpur achanpur\n",
      "haripur sharifpur\n"
     ]
    },
    {
     "name": "stderr",
     "output_type": "stream",
     "text": [
      "10714it [02:39, 66.49it/s]"
     ]
    },
    {
     "name": "stdout",
     "output_type": "stream",
     "text": [
      "sorkar para sorkar pharma\n"
     ]
    },
    {
     "name": "stderr",
     "output_type": "stream",
     "text": [
      "10765it [02:39, 68.97it/s]"
     ]
    },
    {
     "name": "stdout",
     "output_type": "stream",
     "text": [
      "chandpur achanpur\n"
     ]
    },
    {
     "name": "stderr",
     "output_type": "stream",
     "text": [
      "10877it [02:41, 69.09it/s]"
     ]
    },
    {
     "name": "stdout",
     "output_type": "stream",
     "text": [
      "tarakandi tarakandi\n"
     ]
    },
    {
     "name": "stderr",
     "output_type": "stream",
     "text": [
      "10989it [02:43, 66.30it/s]"
     ]
    },
    {
     "name": "stdout",
     "output_type": "stream",
     "text": [
      "gur pipul gurpipul\n"
     ]
    },
    {
     "name": "stderr",
     "output_type": "stream",
     "text": [
      "11032it [02:43, 67.33it/s]"
     ]
    },
    {
     "name": "stdout",
     "output_type": "stream",
     "text": [
      "amdanga amana\n"
     ]
    },
    {
     "name": "stderr",
     "output_type": "stream",
     "text": [
      "11062it [02:44, 68.70it/s]"
     ]
    },
    {
     "name": "stdout",
     "output_type": "stream",
     "text": [
      "bagmara bagmara\n"
     ]
    },
    {
     "name": "stderr",
     "output_type": "stream",
     "text": [
      "11102it [02:44, 69.18it/s]"
     ]
    },
    {
     "name": "stdout",
     "output_type": "stream",
     "text": [
      "fulbari fulbari\n"
     ]
    },
    {
     "name": "stderr",
     "output_type": "stream",
     "text": [
      "11125it [02:45, 69.10it/s]"
     ]
    },
    {
     "name": "stdout",
     "output_type": "stream",
     "text": [
      "harekrishnapur ramkrishnapur\n"
     ]
    },
    {
     "name": "stderr",
     "output_type": "stream",
     "text": [
      "11162it [02:45, 69.02it/s]"
     ]
    },
    {
     "name": "stdout",
     "output_type": "stream",
     "text": [
      "atgaon atgao\n",
      "krishnapur ramkrishnapur\n"
     ]
    },
    {
     "name": "stderr",
     "output_type": "stream",
     "text": [
      "11184it [02:46, 67.15it/s]"
     ]
    },
    {
     "name": "stdout",
     "output_type": "stream",
     "text": [
      "chandipur achanpur\n",
      "rajapur razapur\n"
     ]
    },
    {
     "name": "stderr",
     "output_type": "stream",
     "text": [
      "11226it [02:46, 64.87it/s]"
     ]
    },
    {
     "name": "stdout",
     "output_type": "stream",
     "text": [
      "kashimpur kashipur\n",
      "nashipur kashipur\n"
     ]
    },
    {
     "name": "stderr",
     "output_type": "stream",
     "text": [
      "11275it [02:47, 65.68it/s]"
     ]
    },
    {
     "name": "stdout",
     "output_type": "stream",
     "text": [
      "rashidpur kashipur\n"
     ]
    },
    {
     "name": "stderr",
     "output_type": "stream",
     "text": [
      "11309it [02:48, 58.59it/s]"
     ]
    },
    {
     "name": "stdout",
     "output_type": "stream",
     "text": [
      "ramchandrapur ramchandrapur\n"
     ]
    },
    {
     "name": "stderr",
     "output_type": "stream",
     "text": [
      "11337it [02:48, 63.19it/s]"
     ]
    },
    {
     "name": "stdout",
     "output_type": "stream",
     "text": [
      "kalir bazar kalia bazar\n",
      "haripur sharifpur\n"
     ]
    },
    {
     "name": "stderr",
     "output_type": "stream",
     "text": [
      "11393it [02:49, 65.36it/s]"
     ]
    },
    {
     "name": "stdout",
     "output_type": "stream",
     "text": [
      "bara ramchandrapur ramchandrapur\n"
     ]
    },
    {
     "name": "stderr",
     "output_type": "stream",
     "text": [
      "11422it [02:49, 66.00it/s]"
     ]
    },
    {
     "name": "stdout",
     "output_type": "stream",
     "text": [
      "fulbari fulbari\n"
     ]
    },
    {
     "name": "stderr",
     "output_type": "stream",
     "text": [
      "11437it [02:49, 65.96it/s]"
     ]
    },
    {
     "name": "stdout",
     "output_type": "stream",
     "text": [
      "radhakrishnapur ramkrishnapur\n",
      "mandalpara kandapara\n",
      "beradanga bajerdanga\n"
     ]
    },
    {
     "name": "stderr",
     "output_type": "stream",
     "text": [
      "11467it [02:50, 67.82it/s]"
     ]
    },
    {
     "name": "stdout",
     "output_type": "stream",
     "text": [
      "lakshipur kashipur\n"
     ]
    },
    {
     "name": "stderr",
     "output_type": "stream",
     "text": [
      "11537it [02:51, 69.64it/s]"
     ]
    },
    {
     "name": "stdout",
     "output_type": "stream",
     "text": [
      "chandipur achanpur\n"
     ]
    },
    {
     "name": "stderr",
     "output_type": "stream",
     "text": [
      "11591it [02:52, 68.68it/s]"
     ]
    },
    {
     "name": "stdout",
     "output_type": "stream",
     "text": [
      "konapara konachipara\n"
     ]
    },
    {
     "name": "stderr",
     "output_type": "stream",
     "text": [
      "11782it [02:54, 69.83it/s]"
     ]
    },
    {
     "name": "stdout",
     "output_type": "stream",
     "text": [
      "kashipur kashipur\n"
     ]
    },
    {
     "name": "stderr",
     "output_type": "stream",
     "text": [
      "11797it [02:55, 69.46it/s]"
     ]
    },
    {
     "name": "stdout",
     "output_type": "stream",
     "text": [
      "poromali poroma\n"
     ]
    },
    {
     "name": "stderr",
     "output_type": "stream",
     "text": [
      "11861it [02:56, 69.96it/s]"
     ]
    },
    {
     "name": "stdout",
     "output_type": "stream",
     "text": [
      "ajmata mamata\n"
     ]
    },
    {
     "name": "stderr",
     "output_type": "stream",
     "text": [
      "11909it [02:56, 68.59it/s]"
     ]
    },
    {
     "name": "stdout",
     "output_type": "stream",
     "text": [
      "miyar char datiyar char\n",
      "churiyar char chuliyar char\n"
     ]
    },
    {
     "name": "stderr",
     "output_type": "stream",
     "text": [
      "11924it [02:56, 66.33it/s]"
     ]
    },
    {
     "name": "stdout",
     "output_type": "stream",
     "text": [
      "kenachi para konachipara\n"
     ]
    },
    {
     "name": "stderr",
     "output_type": "stream",
     "text": [
      "12035it [02:58, 66.48it/s]"
     ]
    },
    {
     "name": "stdout",
     "output_type": "stream",
     "text": [
      "doyani noyani\n"
     ]
    },
    {
     "name": "stderr",
     "output_type": "stream",
     "text": [
      "12065it [02:59, 68.29it/s]"
     ]
    },
    {
     "name": "stdout",
     "output_type": "stream",
     "text": [
      "chandrapur ramchandrapur\n"
     ]
    },
    {
     "name": "stderr",
     "output_type": "stream",
     "text": [
      "12103it [02:59, 67.77it/s]"
     ]
    },
    {
     "name": "stdout",
     "output_type": "stream",
     "text": [
      "karim bazar kalia bazar\n",
      "kashipur kashipur\n"
     ]
    },
    {
     "name": "stderr",
     "output_type": "stream",
     "text": [
      "12117it [02:59, 67.18it/s]"
     ]
    },
    {
     "name": "stdout",
     "output_type": "stream",
     "text": [
      "khaura khajuria\n"
     ]
    },
    {
     "name": "stderr",
     "output_type": "stream",
     "text": [
      "12217it [03:01, 68.24it/s]"
     ]
    },
    {
     "name": "stdout",
     "output_type": "stream",
     "text": [
      "khaturiya khajuria\n"
     ]
    },
    {
     "name": "stderr",
     "output_type": "stream",
     "text": [
      "12300it [03:02, 69.25it/s]"
     ]
    },
    {
     "name": "stdout",
     "output_type": "stream",
     "text": [
      "beradanga bajerdanga\n"
     ]
    },
    {
     "name": "stderr",
     "output_type": "stream",
     "text": [
      "12347it [03:03, 69.51it/s]"
     ]
    },
    {
     "name": "stdout",
     "output_type": "stream",
     "text": [
      "lakhanpur achanpur\n"
     ]
    },
    {
     "name": "stderr",
     "output_type": "stream",
     "text": [
      "12368it [03:03, 68.64it/s]"
     ]
    },
    {
     "name": "stdout",
     "output_type": "stream",
     "text": [
      "lakshipur kashipur\n"
     ]
    },
    {
     "name": "stderr",
     "output_type": "stream",
     "text": [
      "12404it [03:04, 67.58it/s]"
     ]
    },
    {
     "name": "stdout",
     "output_type": "stream",
     "text": [
      "fulbari fulbari\n"
     ]
    },
    {
     "name": "stderr",
     "output_type": "stream",
     "text": [
      "12426it [03:04, 68.24it/s]"
     ]
    },
    {
     "name": "stdout",
     "output_type": "stream",
     "text": [
      "kacharipara konachipara\n"
     ]
    },
    {
     "name": "stderr",
     "output_type": "stream",
     "text": [
      "12522it [03:05, 70.03it/s]"
     ]
    },
    {
     "name": "stdout",
     "output_type": "stream",
     "text": [
      "lalchandpur achanpur\n"
     ]
    },
    {
     "name": "stderr",
     "output_type": "stream",
     "text": [
      "12538it [03:05, 69.62it/s]"
     ]
    },
    {
     "name": "stdout",
     "output_type": "stream",
     "text": [
      "chandipur achanpur\n"
     ]
    },
    {
     "name": "stderr",
     "output_type": "stream",
     "text": [
      "12593it [03:06, 68.56it/s]"
     ]
    },
    {
     "name": "stdout",
     "output_type": "stream",
     "text": [
      "kashimpur kashipur\n",
      "lat krishnapur ramkrishnapur\n"
     ]
    },
    {
     "name": "stderr",
     "output_type": "stream",
     "text": [
      "12608it [03:06, 68.80it/s]"
     ]
    },
    {
     "name": "stdout",
     "output_type": "stream",
     "text": [
      "lalchandrapur ramchandrapur\n"
     ]
    },
    {
     "name": "stderr",
     "output_type": "stream",
     "text": [
      "12666it [03:07, 63.86it/s]"
     ]
    },
    {
     "name": "stdout",
     "output_type": "stream",
     "text": [
      "kashipur kashipur\n"
     ]
    },
    {
     "name": "stderr",
     "output_type": "stream",
     "text": [
      "12680it [03:08, 63.84it/s]"
     ]
    },
    {
     "name": "stdout",
     "output_type": "stream",
     "text": [
      "chandipur achanpur\n",
      "haripur sharifpur\n",
      "kashimpur kashipur\n"
     ]
    },
    {
     "name": "stderr",
     "output_type": "stream",
     "text": [
      "12735it [03:08, 69.13it/s]"
     ]
    },
    {
     "name": "stdout",
     "output_type": "stream",
     "text": [
      "radhakrishnapur ramkrishnapur\n"
     ]
    },
    {
     "name": "stderr",
     "output_type": "stream",
     "text": [
      "12886it [03:10, 69.69it/s]"
     ]
    },
    {
     "name": "stdout",
     "output_type": "stream",
     "text": [
      "chandipur achanpur\n",
      "lakshipur kashipur\n"
     ]
    },
    {
     "name": "stderr",
     "output_type": "stream",
     "text": [
      "12915it [03:11, 68.56it/s]"
     ]
    },
    {
     "name": "stdout",
     "output_type": "stream",
     "text": [
      "araji krishnapur ramkrishnapur\n"
     ]
    },
    {
     "name": "stderr",
     "output_type": "stream",
     "text": [
      "12952it [03:11, 67.80it/s]"
     ]
    },
    {
     "name": "stdout",
     "output_type": "stream",
     "text": [
      "manika anika\n",
      "amrita samorita\n"
     ]
    },
    {
     "name": "stderr",
     "output_type": "stream",
     "text": [
      "12988it [03:12, 65.12it/s]"
     ]
    },
    {
     "name": "stdout",
     "output_type": "stream",
     "text": [
      "fulbari fulbari\n",
      "nayani noyani\n"
     ]
    },
    {
     "name": "stderr",
     "output_type": "stream",
     "text": [
      "13030it [03:13, 65.69it/s]"
     ]
    },
    {
     "name": "stdout",
     "output_type": "stream",
     "text": [
      "chandpur achanpur\n"
     ]
    },
    {
     "name": "stderr",
     "output_type": "stream",
     "text": [
      "13058it [03:13, 64.98it/s]"
     ]
    },
    {
     "name": "stdout",
     "output_type": "stream",
     "text": [
      "krisnapur ramkrishnapur\n",
      "fulbaria fulbari\n"
     ]
    },
    {
     "name": "stderr",
     "output_type": "stream",
     "text": [
      "13072it [03:13, 60.82it/s]"
     ]
    },
    {
     "name": "stdout",
     "output_type": "stream",
     "text": [
      "krishnapur ramkrishnapur\n",
      "kamalpur kamolpur\n"
     ]
    },
    {
     "name": "stderr",
     "output_type": "stream",
     "text": [
      "13196it [03:15, 67.34it/s]"
     ]
    },
    {
     "name": "stdout",
     "output_type": "stream",
     "text": [
      "ramcandrapur ramchandrapur\n",
      "alinagar ali asgar\n"
     ]
    },
    {
     "name": "stderr",
     "output_type": "stream",
     "text": [
      "13242it [03:16, 68.79it/s]"
     ]
    },
    {
     "name": "stdout",
     "output_type": "stream",
     "text": [
      "atgao atgao\n"
     ]
    },
    {
     "name": "stderr",
     "output_type": "stream",
     "text": [
      "13290it [03:17, 69.60it/s]"
     ]
    },
    {
     "name": "stdout",
     "output_type": "stream",
     "text": [
      "kamalpur kamolpur\n"
     ]
    },
    {
     "name": "stderr",
     "output_type": "stream",
     "text": [
      "13305it [03:17, 69.10it/s]"
     ]
    },
    {
     "name": "stdout",
     "output_type": "stream",
     "text": [
      "rajapur razapur\n"
     ]
    },
    {
     "name": "stderr",
     "output_type": "stream",
     "text": [
      "13431it [03:19, 65.25it/s]"
     ]
    },
    {
     "name": "stdout",
     "output_type": "stream",
     "text": [
      "kandapara kandapara\n"
     ]
    },
    {
     "name": "stderr",
     "output_type": "stream",
     "text": [
      "13452it [03:19, 65.23it/s]"
     ]
    },
    {
     "name": "stdout",
     "output_type": "stream",
     "text": [
      "matgaon atgao\n"
     ]
    },
    {
     "name": "stderr",
     "output_type": "stream",
     "text": [
      "13474it [03:19, 67.70it/s]"
     ]
    },
    {
     "name": "stdout",
     "output_type": "stream",
     "text": [
      "bhurakhali khuriakhali\n"
     ]
    },
    {
     "name": "stderr",
     "output_type": "stream",
     "text": [
      "13488it [03:20, 65.65it/s]"
     ]
    },
    {
     "name": "stdout",
     "output_type": "stream",
     "text": [
      "ahsanpur achanpur\n",
      "chanpur achanpur\n"
     ]
    },
    {
     "name": "stderr",
     "output_type": "stream",
     "text": [
      "13510it [03:20, 63.59it/s]"
     ]
    },
    {
     "name": "stdout",
     "output_type": "stream",
     "text": [
      "achanpur achanpur\n",
      "srihail srihile\n",
      "chanpur achanpur\n"
     ]
    },
    {
     "name": "stderr",
     "output_type": "stream",
     "text": [
      "13549it [03:20, 68.63it/s]"
     ]
    },
    {
     "name": "stdout",
     "output_type": "stream",
     "text": [
      "sohala shapla\n",
      "baliyaghat baliaghata\n"
     ]
    },
    {
     "name": "stderr",
     "output_type": "stream",
     "text": [
      "13595it [03:21, 69.43it/s]"
     ]
    },
    {
     "name": "stdout",
     "output_type": "stream",
     "text": [
      "rashidpur kashipur\n"
     ]
    },
    {
     "name": "stderr",
     "output_type": "stream",
     "text": [
      "13686it [03:22, 69.01it/s]"
     ]
    },
    {
     "name": "stdout",
     "output_type": "stream",
     "text": [
      "khardapara kandapara\n"
     ]
    },
    {
     "name": "stderr",
     "output_type": "stream",
     "text": [
      "13808it [03:24, 66.91it/s]"
     ]
    },
    {
     "name": "stdout",
     "output_type": "stream",
     "text": [
      "kamalpur kamolpur\n",
      "balsna bashna\n"
     ]
    },
    {
     "name": "stderr",
     "output_type": "stream",
     "text": [
      "13812it [03:24, 67.44it/s]\n"
     ]
    }
   ],
   "source": [
    "for idx, row in tqdm(records.iterrows()):\n",
    "    \n",
    "    # Check if there is another entry with location\n",
    "    match, score = match_name(row.NAME, list(nodes_io['name']), 80)\n",
    "#     match, score = match_name(row.name_concat, list(nodes_io.name_concat), 85)\n",
    "    \n",
    "    if score > 0:\n",
    "        print(row.NAME, match)\n",
    "        matching_row = nodes_io.loc[nodes_io['name']==match].copy()\n",
    "        res = matching_row.iloc[0]\n",
    "        \n",
    "        if not pd.isna(row.adm3):\n",
    "            adm3 = geob3.loc[geob3['shapeName'] == row['adm3']].copy()\n",
    "            if adm3.contains(res.geometry).values[0] == True:\n",
    "                records.loc[idx, \"longitude\"] = res.geometry.x\n",
    "                records.loc[idx, \"latitude\"] = res.geometry.y\n",
    "                records.loc[idx, \"geocoding_method\"] = \"Location from Health Sites IO and within admin 3\"\n",
    "                \n",
    "        if not pd.isna(row.adm2):\n",
    "            adm2 = geob2.loc[geob2['shapeName'] == row['adm2']].copy()\n",
    "            if adm2.contains(res.geometry).values[0] == True:            \n",
    "                records.loc[idx, \"longitude\"] = res.geometry.x\n",
    "                records.loc[idx, \"latitude\"] = res.geometry.y\n",
    "                records.loc[idx, \"geocoding_method\"] = \"Location from Health Sites IO and within admin 2\"\n",
    "                \n",
    "        if not pd.isna(row.adm1):\n",
    "            adm1 = geob1.loc[geob1['shapeName'] == row['adm1']].copy()\n",
    "            if adm1.contains(res.geometry).values[0] == True:            \n",
    "                records.loc[idx, \"longitude\"] = res.geometry.x\n",
    "                records.loc[idx, \"latitude\"] = res.geometry.y\n",
    "                records.loc[idx, \"geocoding_method\"] = \"Location from Health Sites IO and within admin 1\""
   ]
  },
  {
   "cell_type": "code",
   "execution_count": 55,
   "metadata": {},
   "outputs": [
    {
     "data": {
      "text/html": [
       "<style type=\"text/css\">\n",
       "</style>\n",
       "<table id=\"T_fce2a_\">\n",
       "  <thead>\n",
       "    <tr>\n",
       "      <th class=\"blank level0\" >&nbsp;</th>\n",
       "      <th class=\"col_heading level0 col0\" >count</th>\n",
       "      <th class=\"col_heading level0 col1\" >pct</th>\n",
       "    </tr>\n",
       "    <tr>\n",
       "      <th class=\"index_name level0\" >geocoding_method</th>\n",
       "      <th class=\"blank col0\" >&nbsp;</th>\n",
       "      <th class=\"blank col1\" >&nbsp;</th>\n",
       "    </tr>\n",
       "  </thead>\n",
       "  <tbody>\n",
       "    <tr>\n",
       "      <th id=\"T_fce2a_level0_row0\" class=\"row_heading level0 row0\" >Location from Health Sites IO and within admin 1</th>\n",
       "      <td id=\"T_fce2a_row0_col0\" class=\"data row0 col0\" >80</td>\n",
       "      <td id=\"T_fce2a_row0_col1\" class=\"data row0 col1\" >0.6%</td>\n",
       "    </tr>\n",
       "    <tr>\n",
       "      <th id=\"T_fce2a_level0_row1\" class=\"row_heading level0 row1\" >Location from Health Sites IO and within admin 2</th>\n",
       "      <td id=\"T_fce2a_row1_col0\" class=\"data row1 col0\" >5</td>\n",
       "      <td id=\"T_fce2a_row1_col1\" class=\"data row1 col1\" >0.0%</td>\n",
       "    </tr>\n",
       "    <tr>\n",
       "      <th id=\"T_fce2a_level0_row2\" class=\"row_heading level0 row2\" >None</th>\n",
       "      <td id=\"T_fce2a_row2_col0\" class=\"data row2 col0\" >13727</td>\n",
       "      <td id=\"T_fce2a_row2_col1\" class=\"data row2 col1\" >99.4%</td>\n",
       "    </tr>\n",
       "  </tbody>\n",
       "</table>\n"
      ],
      "text/plain": [
       "<pandas.io.formats.style.Styler at 0x7f19fc4a7a50>"
      ]
     },
     "execution_count": 55,
     "metadata": {},
     "output_type": "execute_result"
    }
   ],
   "source": [
    "report_geocoding(records)"
   ]
  },
  {
   "cell_type": "markdown",
   "metadata": {},
   "source": [
    "## Health Sites IO using orgunitlevel 5 name"
   ]
  },
  {
   "cell_type": "code",
   "execution_count": 56,
   "metadata": {},
   "outputs": [],
   "source": [
    "records['NAME5'] = records['orgunitlevel5'].str.lower()"
   ]
  },
  {
   "cell_type": "code",
   "execution_count": 57,
   "metadata": {},
   "outputs": [],
   "source": [
    "remove_words(records, 'NAME5', words_to_remove)"
   ]
  },
  {
   "cell_type": "code",
   "execution_count": 58,
   "metadata": {
    "scrolled": true
   },
   "outputs": [
    {
     "name": "stderr",
     "output_type": "stream",
     "text": [
      "129it [00:01, 70.14it/s]"
     ]
    },
    {
     "name": "stdout",
     "output_type": "stream",
     "text": [
      "mothertali achanpur\n",
      "shatkar achanpur\n"
     ]
    },
    {
     "name": "stderr",
     "output_type": "stream",
     "text": [
      "248it [00:03, 65.56it/s]"
     ]
    },
    {
     "name": "stdout",
     "output_type": "stream",
     "text": [
      "khantakhali achanpur\n",
      "majid hang achanpur\n",
      "raypura achanpur\n",
      "talukder hat achanpur\n"
     ]
    },
    {
     "name": "stderr",
     "output_type": "stream",
     "text": [
      "269it [00:03, 62.13it/s]"
     ]
    },
    {
     "name": "stdout",
     "output_type": "stream",
     "text": [
      "chahutpur kashipur\n",
      "isakathi kashipur\n",
      "kaladama kashipur\n",
      "magarpara kashipur\n",
      "sarsi kashipur\n"
     ]
    },
    {
     "name": "stderr",
     "output_type": "stream",
     "text": [
      "329it [00:04, 65.73it/s]"
     ]
    },
    {
     "name": "stdout",
     "output_type": "stream",
     "text": [
      "ajimpur adhar manick\n",
      "bhanga adhar manick\n",
      "ektarhat adhar manick\n",
      "char khakkata achanpur\n",
      "freedom fighter mostofakamal achanpur\n",
      "kashimpur achanpur\n",
      "khontakhali achanpur\n"
     ]
    },
    {
     "name": "stderr",
     "output_type": "stream",
     "text": [
      "424it [00:06, 68.42it/s]"
     ]
    },
    {
     "name": "stdout",
     "output_type": "stream",
     "text": [
      "hajrihat ali asgar\n",
      "mautupi ali asgar\n"
     ]
    },
    {
     "name": "stderr",
     "output_type": "stream",
     "text": [
      "440it [00:06, 69.51it/s]"
     ]
    },
    {
     "name": "stdout",
     "output_type": "stream",
     "text": [
      "nabipur dhania\n"
     ]
    },
    {
     "name": "stderr",
     "output_type": "stream",
     "text": [
      "454it [00:06, 61.09it/s]"
     ]
    },
    {
     "name": "stdout",
     "output_type": "stream",
     "text": [
      "char sultani razapur\n",
      "janta bazar razapur\n",
      "shantir hat razapur\n",
      "south rajapur razapur\n"
     ]
    },
    {
     "name": "stderr",
     "output_type": "stream",
     "text": [
      "525it [00:07, 65.77it/s]"
     ]
    },
    {
     "name": "stdout",
     "output_type": "stream",
     "text": [
      "azad mia barir achanpur\n",
      "nurnobi dofadar barir achanpur\n",
      "zaher maolana barir achanpur\n"
     ]
    },
    {
     "name": "stderr",
     "output_type": "stream",
     "text": [
      "625it [00:09, 62.40it/s]"
     ]
    },
    {
     "name": "stdout",
     "output_type": "stream",
     "text": [
      "araliya achanpur\n",
      "balia kandi achanpur\n",
      "daiyarpar achanpur\n",
      "gosher howla achanpur\n",
      "kazi kandi achanpur\n",
      "south keyamullah achanpur\n"
     ]
    },
    {
     "name": "stderr",
     "output_type": "stream",
     "text": [
      "646it [00:09, 62.96it/s]"
     ]
    },
    {
     "name": "stdout",
     "output_type": "stream",
     "text": [
      "balighona k.s.n memorial ramchandrapur\n",
      "bermahal ramchandrapur\n",
      "shaorakati ramchandrapur\n",
      "varukati ramchandrapur\n"
     ]
    },
    {
     "name": "stderr",
     "output_type": "stream",
     "text": [
      "718it [00:10, 65.80it/s]"
     ]
    },
    {
     "name": "stdout",
     "output_type": "stream",
     "text": [
      "angharia razapur\n",
      "barabakpur razapur\n",
      "dakhsin rajapur razapur\n",
      "pashim fuluher razapur\n"
     ]
    },
    {
     "name": "stderr",
     "output_type": "stream",
     "text": [
      "757it [00:11, 65.98it/s]"
     ]
    },
    {
     "name": "stdout",
     "output_type": "stream",
     "text": [
      "baher char konachipara\n",
      "garipar konachipara\n",
      "jay banglar konachipara\n",
      "karkhana konachipara\n"
     ]
    },
    {
     "name": "stderr",
     "output_type": "stream",
     "text": [
      "787it [00:11, 63.45it/s]"
     ]
    },
    {
     "name": "stdout",
     "output_type": "stream",
     "text": [
      "aowliapur bazzar rangopaldi\n",
      "char borhan rangopaldi\n",
      "uttar rongopaldi rangopaldi\n"
     ]
    },
    {
     "name": "stderr",
     "output_type": "stream",
     "text": [
      "856it [00:12, 48.10it/s]"
     ]
    },
    {
     "name": "stdout",
     "output_type": "stream",
     "text": [
      "londa pankhali\n",
      "nishanbariya pankhali\n",
      "pachjuniya pankhali\n"
     ]
    },
    {
     "name": "stderr",
     "output_type": "stream",
     "text": [
      "916it [00:14, 51.37it/s]"
     ]
    },
    {
     "name": "stdout",
     "output_type": "stream",
     "text": [
      "akhoibaria  - patuakhali sadar kamolpur\n",
      "char mysadi kamolpur\n",
      "purbarrbhayala kamolpur\n",
      "south dharandi kamolpur\n",
      "west vhaila kamolpur\n"
     ]
    },
    {
     "name": "stderr",
     "output_type": "stream",
     "text": [
      "1210it [00:19, 52.12it/s]"
     ]
    },
    {
     "name": "stdout",
     "output_type": "stream",
     "text": [
      "holapara -ashuganj sharifpur\n",
      "sharifpur -ashuganj sharifpur\n"
     ]
    },
    {
     "name": "stderr",
     "output_type": "stream",
     "text": [
      "1434it [00:23, 58.58it/s]"
     ]
    },
    {
     "name": "stdout",
     "output_type": "stream",
     "text": [
      "aliyara sharifpur\n",
      "naraha sharifpur\n"
     ]
    },
    {
     "name": "stderr",
     "output_type": "stream",
     "text": [
      "1766it [00:28, 56.72it/s]"
     ]
    },
    {
     "name": "stdout",
     "output_type": "stream",
     "text": [
      "gunagore khalishpur\n",
      "kalipur khalishpur\n",
      "palegrem khalishpur\n"
     ]
    },
    {
     "name": "stderr",
     "output_type": "stream",
     "text": [
      "1778it [00:29, 56.38it/s]"
     ]
    },
    {
     "name": "stdout",
     "output_type": "stream",
     "text": [
      "paschim sadhanpur achanpur\n"
     ]
    },
    {
     "name": "stderr",
     "output_type": "stream",
     "text": [
      "1829it [00:29, 51.22it/s]"
     ]
    },
    {
     "name": "stdout",
     "output_type": "stream",
     "text": [
      "dakshin gashbaria kashipur\n",
      "dakshin hasimpur kashipur\n",
      "gachbariya kashipur\n",
      "uttar hasimpur kashipur\n",
      "baharm para joypara\n",
      "uttar joyara kulal para joypara\n"
     ]
    },
    {
     "name": "stderr",
     "output_type": "stream",
     "text": [
      "1968it [00:32, 54.32it/s]"
     ]
    },
    {
     "name": "stdout",
     "output_type": "stream",
     "text": [
      "badiya khali katmachar\n",
      "baman sondar katmachar\n",
      "cutachara katmachar\n",
      "fenapuri katmachar\n",
      "purba khairchara katmachar\n"
     ]
    },
    {
     "name": "stderr",
     "output_type": "stream",
     "text": [
      "1999it [00:32, 56.27it/s]"
     ]
    },
    {
     "name": "stdout",
     "output_type": "stream",
     "text": [
      "bathuya asia\n",
      "jan box kamrunnesa asia\n",
      "jarina-mafzal asia\n"
     ]
    },
    {
     "name": "stderr",
     "output_type": "stream",
     "text": [
      "2114it [00:34, 55.88it/s]"
     ]
    },
    {
     "name": "stdout",
     "output_type": "stream",
     "text": [
      "hajee sayed sirajul hauqe nova pharma\n",
      "latifa sufiya nova pharma\n",
      "musa sheth nova pharma\n",
      "samidar koyang nova pharma\n"
     ]
    },
    {
     "name": "stderr",
     "output_type": "stream",
     "text": [
      "2156it [00:35, 57.76it/s]"
     ]
    },
    {
     "name": "stdout",
     "output_type": "stream",
     "text": [
      "modho harisapur noyapara sharifpur\n"
     ]
    },
    {
     "name": "stderr",
     "output_type": "stream",
     "text": [
      "2182it [00:35, 54.89it/s]"
     ]
    },
    {
     "name": "stdout",
     "output_type": "stream",
     "text": [
      "dakshin carati chargat\n",
      "dip carati chargat\n",
      "tulatali chargat\n",
      "uttar brammondenga chargat\n"
     ]
    },
    {
     "name": "stderr",
     "output_type": "stream",
     "text": [
      "2268it [00:37, 58.99it/s]"
     ]
    },
    {
     "name": "stdout",
     "output_type": "stream",
     "text": [
      "hari khola khuriakhali\n",
      "kutubdia para khuriakhali\n",
      "modhom medha kahipiya khuriakhali\n",
      "uttar fulchari khuriakhali\n"
     ]
    },
    {
     "name": "stderr",
     "output_type": "stream",
     "text": [
      "2304it [00:37, 66.74it/s]"
     ]
    },
    {
     "name": "stdout",
     "output_type": "stream",
     "text": [
      "faraji para jalalabad eye\n"
     ]
    },
    {
     "name": "stderr",
     "output_type": "stream",
     "text": [
      "2431it [00:39, 67.25it/s]"
     ]
    },
    {
     "name": "stdout",
     "output_type": "stream",
     "text": [
      "gobindapur radda\n",
      "krsanpur radda\n",
      "pilgiri radda\n"
     ]
    },
    {
     "name": "stderr",
     "output_type": "stream",
     "text": [
      "2466it [00:40, 60.43it/s]"
     ]
    },
    {
     "name": "stdout",
     "output_type": "stream",
     "text": [
      "kampabas rahman pharmacy\n",
      "mahalaksipur rahman pharmacy\n",
      "naighar rahman pharmacy\n"
     ]
    },
    {
     "name": "stderr",
     "output_type": "stream",
     "text": [
      "2515it [00:41, 63.91it/s]"
     ]
    },
    {
     "name": "stdout",
     "output_type": "stream",
     "text": [
      "bareshbar razapur\n",
      "charanal  - burichang razapur\n",
      "pachora razapur\n",
      "rajapur razapur\n"
     ]
    },
    {
     "name": "stderr",
     "output_type": "stream",
     "text": [
      "2649it [00:43, 59.89it/s]"
     ]
    },
    {
     "name": "stdout",
     "output_type": "stream",
     "text": [
      "bhallav pur kalia bazar\n",
      "krisnapur kalia bazar\n",
      "olipur kalia bazar\n",
      "raicong kalia bazar\n",
      "saktala kalia bazar\n",
      "sayedpur kalia bazar\n"
     ]
    },
    {
     "name": "stderr",
     "output_type": "stream",
     "text": [
      "2760it [00:45, 55.43it/s]"
     ]
    },
    {
     "name": "stdout",
     "output_type": "stream",
     "text": [
      "mamisshor  - laksham uttara\n",
      "poliya  - laksham uttara\n"
     ]
    },
    {
     "name": "stderr",
     "output_type": "stream",
     "text": [
      "2841it [00:46, 59.04it/s]"
     ]
    },
    {
     "name": "stdout",
     "output_type": "stream",
     "text": [
      "b.chapitala ramchandrapur\n"
     ]
    },
    {
     "name": "stderr",
     "output_type": "stream",
     "text": [
      "2890it [00:47, 58.53it/s]"
     ]
    },
    {
     "name": "stdout",
     "output_type": "stream",
     "text": [
      "kalachanderkandi kamarkandi\n",
      "masimpur kamarkandi\n",
      "rajapur kamarkandi\n",
      "tetuiya rampur kamarkandi\n",
      "yousufpur kamarkandi\n"
     ]
    },
    {
     "name": "stderr",
     "output_type": "stream",
     "text": [
      "2938it [00:48, 50.12it/s]"
     ]
    },
    {
     "name": "stdout",
     "output_type": "stream",
     "text": [
      "drappur ramchandrapur\n",
      "hasangani ramchandrapur\n",
      "kerniya ramchandrapur\n",
      "jangalia  - daganbhuiya razapur\n",
      "joynarayanpur  - daganbhuiya razapur\n",
      "west ramchandrapur razapur\n"
     ]
    },
    {
     "name": "stderr",
     "output_type": "stream",
     "text": [
      "2958it [00:48, 54.88it/s]"
     ]
    },
    {
     "name": "stdout",
     "output_type": "stream",
     "text": [
      "alipur dighalia\n",
      "boro dhaliya dighalia\n",
      "choto dhaliya dighalia\n",
      "daulatpur dighalia\n"
     ]
    },
    {
     "name": "stderr",
     "output_type": "stream",
     "text": [
      "3055it [00:50, 57.67it/s]"
     ]
    },
    {
     "name": "stdout",
     "output_type": "stream",
     "text": [
      "baghaicharimukh dighalia\n"
     ]
    },
    {
     "name": "stderr",
     "output_type": "stream",
     "text": [
      "3183it [00:52, 60.62it/s]"
     ]
    },
    {
     "name": "stdout",
     "output_type": "stream",
     "text": [
      "hasan delar bari kalia bazar\n",
      "jabed ulya hawladar bari kalia bazar\n",
      "serajul haq presidents bari kalia bazar\n",
      "wali ullah miah bari kalia bazar\n",
      "khaguriya dighalia\n",
      "purbo daghali dighalia\n",
      "purbo jamirtali dighalia\n"
     ]
    },
    {
     "name": "stderr",
     "output_type": "stream",
     "text": [
      "3203it [00:52, 56.94it/s]"
     ]
    },
    {
     "name": "stdout",
     "output_type": "stream",
     "text": [
      "dakshin mandari mandarbaia\n",
      "gondabbapur mandarbaia\n",
      "md nagar khamar bari mandarbaia\n",
      "ratanpur bhuyan bari mandarbaia\n"
     ]
    },
    {
     "name": "stderr",
     "output_type": "stream",
     "text": [
      "3269it [00:53, 51.12it/s]"
     ]
    },
    {
     "name": "stdout",
     "output_type": "stream",
     "text": [
      "chondipur . ramganj achanpur\n",
      "masimpur . ramganj achanpur\n",
      "north hazipur . ramganj achanpur\n",
      "jaypura achanpur\n",
      "sapali para achanpur\n",
      "sekhpura achanpur\n"
     ]
    },
    {
     "name": "stderr",
     "output_type": "stream",
     "text": [
      "3323it [00:55, 46.65it/s]"
     ]
    },
    {
     "name": "stdout",
     "output_type": "stream",
     "text": [
      "anantapur kashipur\n",
      "ekalaspur bazer kashipur\n",
      "jayakrsnapur kashipur\n",
      "kamdebpur kashipur\n",
      "lal miah sashab bari kashipur\n",
      "murad master kashipur\n"
     ]
    },
    {
     "name": "stderr",
     "output_type": "stream",
     "text": [
      "3356it [00:55, 60.31it/s]"
     ]
    },
    {
     "name": "stdout",
     "output_type": "stream",
     "text": [
      "babu nagar sharifpur\n",
      "sonapur sharifpur\n"
     ]
    },
    {
     "name": "stderr",
     "output_type": "stream",
     "text": [
      "3642it [01:00, 66.07it/s]"
     ]
    },
    {
     "name": "stdout",
     "output_type": "stream",
     "text": [
      "fakirachara  - jurachari madan\n",
      "jamerchari madan\n",
      "panchari mukh  -jurachari madan\n"
     ]
    },
    {
     "name": "stderr",
     "output_type": "stream",
     "text": [
      "3693it [01:00, 62.20it/s]"
     ]
    },
    {
     "name": "stdout",
     "output_type": "stream",
     "text": [
      "kaindamukh balukhali msf\n"
     ]
    },
    {
     "name": "stderr",
     "output_type": "stream",
     "text": [
      "3762it [01:01, 62.01it/s]"
     ]
    },
    {
     "name": "stdout",
     "output_type": "stream",
     "text": [
      "charrup joypara\n"
     ]
    },
    {
     "name": "stderr",
     "output_type": "stream",
     "text": [
      "3909it [01:04, 60.34it/s]"
     ]
    },
    {
     "name": "stdout",
     "output_type": "stream",
     "text": [
      "north bahirdiya achanpur\n"
     ]
    },
    {
     "name": "stderr",
     "output_type": "stream",
     "text": [
      "4023it [01:06, 65.73it/s]"
     ]
    },
    {
     "name": "stdout",
     "output_type": "stream",
     "text": [
      "dofa puratan  para\n"
     ]
    },
    {
     "name": "stderr",
     "output_type": "stream",
     "text": [
      "4037it [01:06, 62.74it/s]"
     ]
    },
    {
     "name": "stdout",
     "output_type": "stream",
     "text": [
      "char dori krishnapur ramkrishnapur\n",
      "east kandi ramkrishnapur\n",
      "ramchandrapur ramkrishnapur\n",
      "shouldubi ramkrishnapur\n"
     ]
    },
    {
     "name": "stderr",
     "output_type": "stream",
     "text": [
      "4071it [01:06, 50.80it/s]"
     ]
    },
    {
     "name": "stdout",
     "output_type": "stream",
     "text": [
      "dhanonjoykhali  gazipur sadar kashipur\n",
      "dhirarsrom  gazipur sadar kashipur\n",
      "enayetapur kashipur\n",
      "latifpur kashipur\n",
      "sarpaitali kashipur\n",
      "vabanipur  gazipur sadar kashipur\n"
     ]
    },
    {
     "name": "stderr",
     "output_type": "stream",
     "text": [
      "4124it [01:07, 58.47it/s]"
     ]
    },
    {
     "name": "stdout",
     "output_type": "stream",
     "text": [
      "bakchala fulbari\n",
      "jathaliya fulbari\n",
      "montola fulbari\n",
      "nabirboho fulbari\n",
      "ramchandrapur fulbari\n",
      "shamsul-shanti - kaliakair fulbari\n"
     ]
    },
    {
     "name": "stderr",
     "output_type": "stream",
     "text": [
      "4184it [01:08, 57.31it/s]"
     ]
    },
    {
     "name": "stdout",
     "output_type": "stream",
     "text": [
      "chandun - kapasia achanpur\n",
      "defuliya achanpur\n",
      "maishadamna achanpur\n",
      "nalgaon achanpur\n"
     ]
    },
    {
     "name": "stderr",
     "output_type": "stream",
     "text": [
      "4291it [01:10, 58.46it/s]"
     ]
    },
    {
     "name": "stdout",
     "output_type": "stream",
     "text": [
      "chargobra  - gopalganj sadar gobra\n",
      "ghonapara  - gopalgonj sadar gobra\n",
      "gobra  - gopalganj sadar gobra\n",
      "chardalaitala - gopalganj sadar jalalabad eye\n",
      "madla  - gopalganj sadar jalalabad eye\n",
      "tatulia jalalabad eye\n",
      "tetulia  - gopalganj sadar jalalabad eye\n"
     ]
    },
    {
     "name": "stderr",
     "output_type": "stream",
     "text": [
      "4325it [01:11, 55.16it/s]"
     ]
    },
    {
     "name": "stdout",
     "output_type": "stream",
     "text": [
      "beleypara  - gopalganj sadar ujalpur\n",
      "ulpur ujalpur\n",
      "gopalpur  - gopalganj sadar rafi\n",
      "manikdah  - gopalganj sadar rafi\n"
     ]
    },
    {
     "name": "stderr",
     "output_type": "stream",
     "text": [
      "4353it [01:11, 61.59it/s]"
     ]
    },
    {
     "name": "stdout",
     "output_type": "stream",
     "text": [
      "khagrabaria  - kasiani tarakandi\n",
      "maizkandi  - kashiani tarakandi\n",
      "orakandi tarakandi\n"
     ]
    },
    {
     "name": "stderr",
     "output_type": "stream",
     "text": [
      "4431it [01:12, 59.08it/s]"
     ]
    },
    {
     "name": "stdout",
     "output_type": "stream",
     "text": [
      "bejra - mukshedpur kandapara\n"
     ]
    },
    {
     "name": "stderr",
     "output_type": "stream",
     "text": [
      "4617it [01:15, 62.58it/s]"
     ]
    },
    {
     "name": "stdout",
     "output_type": "stream",
     "text": [
      "chandpur madhyapara achanpur\n",
      "chariya achanpur\n",
      "mandolbhog - katiadi achanpur\n",
      "nimakpurura achanpur\n"
     ]
    },
    {
     "name": "stderr",
     "output_type": "stream",
     "text": [
      "4780it [01:18, 57.18it/s]"
     ]
    },
    {
     "name": "stdout",
     "output_type": "stream",
     "text": [
      "char lakshmipur ali asgar\n",
      "raghunandi ali asgar\n"
     ]
    },
    {
     "name": "stderr",
     "output_type": "stream",
     "text": [
      "4815it [01:19, 64.54it/s]"
     ]
    },
    {
     "name": "stdout",
     "output_type": "stream",
     "text": [
      "east raghurampur chuliyar char\n",
      "mridhabarimor chuliyar char\n"
     ]
    },
    {
     "name": "stderr",
     "output_type": "stream",
     "text": [
      "4964it [01:21, 64.18it/s]"
     ]
    },
    {
     "name": "stdout",
     "output_type": "stream",
     "text": [
      "kushiar char achanpur\n",
      "bahirchor ramkrishnapur\n",
      "ishakhabad ramkrishnapur\n",
      "prof. dr. md. lutfor rahman khan - harirampur ramkrishnapur\n"
     ]
    },
    {
     "name": "stderr",
     "output_type": "stream",
     "text": [
      "4978it [01:21, 58.62it/s]"
     ]
    },
    {
     "name": "stdout",
     "output_type": "stream",
     "text": [
      "banparil -manikganj sadar shakti pharma\n",
      "gopalkhali  - manikganj sadar. shakti pharma\n",
      "salponandapur - manikganj sadar shakti pharma\n",
      "barahir char ramkrishnapur\n",
      "char krishnapur ramkrishnapur\n",
      "char mokompur ramkrishnapur\n"
     ]
    },
    {
     "name": "stderr",
     "output_type": "stream",
     "text": [
      "4991it [01:21, 52.76it/s]"
     ]
    },
    {
     "name": "stdout",
     "output_type": "stream",
     "text": [
      "rajibpur ramkrishnapur\n"
     ]
    },
    {
     "name": "stderr",
     "output_type": "stream",
     "text": [
      "5009it [01:22, 53.05it/s]"
     ]
    },
    {
     "name": "stdout",
     "output_type": "stream",
     "text": [
      "angutia dighalia\n"
     ]
    },
    {
     "name": "stderr",
     "output_type": "stream",
     "text": [
      "5463it [01:29, 52.51it/s]"
     ]
    },
    {
     "name": "stdout",
     "output_type": "stream",
     "text": [
      "char kalikapur achanpur\n",
      "majherchar achanpur\n"
     ]
    },
    {
     "name": "stderr",
     "output_type": "stream",
     "text": [
      "5654it [01:32, 60.27it/s]"
     ]
    },
    {
     "name": "stdout",
     "output_type": "stream",
     "text": [
      "chandani shandhani\n",
      "harindhara shandhani\n",
      "joukura  - rajbari sadar shandhani\n"
     ]
    },
    {
     "name": "stderr",
     "output_type": "stream",
     "text": [
      "5699it [01:33, 61.18it/s]"
     ]
    },
    {
     "name": "stdout",
     "output_type": "stream",
     "text": [
      "ramchandrapur  - bhedarganj ramchandrapur\n"
     ]
    },
    {
     "name": "stderr",
     "output_type": "stream",
     "text": [
      "5761it [01:34, 56.53it/s]"
     ]
    },
    {
     "name": "stdout",
     "output_type": "stream",
     "text": [
      "chandrapur - shariatpur sadar ramchandrapur\n",
      "gajipur ramchandrapur\n",
      "kamatmai tarakandi\n",
      "monai chhaiyalkandi tarakandi\n"
     ]
    },
    {
     "name": "stderr",
     "output_type": "stream",
     "text": [
      "5803it [01:35, 63.29it/s]"
     ]
    },
    {
     "name": "stdout",
     "output_type": "stream",
     "text": [
      "kanchanpur east pauli achanpur\n",
      "kanchanpur kajipara achanpur\n",
      "kanchanpur karmakarpara achanpur\n"
     ]
    },
    {
     "name": "stderr",
     "output_type": "stream",
     "text": [
      "5959it [01:37, 53.19it/s]"
     ]
    },
    {
     "name": "stdout",
     "output_type": "stream",
     "text": [
      "baishkail nagda shimla\n",
      "banamali nagda shimla\n",
      "saidpur nagda shimla\n"
     ]
    },
    {
     "name": "stderr",
     "output_type": "stream",
     "text": [
      "6116it [01:40, 54.62it/s]"
     ]
    },
    {
     "name": "stdout",
     "output_type": "stream",
     "text": [
      "bhatshala mamudnagar\n",
      "gopalpur mamudnagar\n",
      "kalamaid mamudnagar\n",
      "mirzapur mamudnagar\n",
      "sudampara mamudnagar\n"
     ]
    },
    {
     "name": "stderr",
     "output_type": "stream",
     "text": [
      "6208it [01:41, 60.24it/s]"
     ]
    },
    {
     "name": "stdout",
     "output_type": "stream",
     "text": [
      "parbohuli mamudnagar\n",
      "saratoil  - tangail sadar mamudnagar\n"
     ]
    },
    {
     "name": "stderr",
     "output_type": "stream",
     "text": [
      "6322it [01:43, 63.35it/s]"
     ]
    },
    {
     "name": "stdout",
     "output_type": "stream",
     "text": [
      "kachubuniya -mongla sundarban\n",
      "n bastali -mongla sundarban\n"
     ]
    },
    {
     "name": "stderr",
     "output_type": "stream",
     "text": [
      "6378it [01:44, 65.27it/s]"
     ]
    },
    {
     "name": "stdout",
     "output_type": "stream",
     "text": [
      "karhubuniya -morrelganj ramchandrapur\n"
     ]
    },
    {
     "name": "stderr",
     "output_type": "stream",
     "text": [
      "6399it [01:44, 62.43it/s]"
     ]
    },
    {
     "name": "stdout",
     "output_type": "stream",
     "text": [
      "chandpur -rampal ujalpur\n",
      "gobindrapur -rampal ujalpur\n",
      "kadamadi -rampal ujalpur\n",
      "ujalkur -rampal ujalpur\n",
      "bandaghata -sarankhola dhansagor\n",
      "nalbunia sarderbari -sarankhola dhansagor\n"
     ]
    },
    {
     "name": "stderr",
     "output_type": "stream",
     "text": [
      "6413it [01:45, 60.24it/s]"
     ]
    },
    {
     "name": "stdout",
     "output_type": "stream",
     "text": [
      "rajapur bazer -sarankhola dhansagor\n",
      "zadab master bari -sarankhola dhansagor\n"
     ]
    },
    {
     "name": "stderr",
     "output_type": "stream",
     "text": [
      "6448it [01:45, 64.24it/s]"
     ]
    },
    {
     "name": "stdout",
     "output_type": "stream",
     "text": [
      "pach komlapur -alamdanga khalishpur\n",
      "parkula -alamdanga khalishpur\n",
      "sree rampur -alamdanga khalishpur\n"
     ]
    },
    {
     "name": "stderr",
     "output_type": "stream",
     "text": [
      "6658it [01:49, 65.89it/s]"
     ]
    },
    {
     "name": "stdout",
     "output_type": "stream",
     "text": [
      "daherpara kashipur\n",
      "dakatia kashipur\n",
      "daulatdihi kashipur\n",
      "khojarhat kashipur\n",
      "saymnagar kashipur\n"
     ]
    },
    {
     "name": "stderr",
     "output_type": "stream",
     "text": [
      "6819it [01:51, 62.58it/s]"
     ]
    },
    {
     "name": "stdout",
     "output_type": "stream",
     "text": [
      "chandpur achanpur\n",
      "daribunni achanpur\n",
      "hamirhati achanpur\n"
     ]
    },
    {
     "name": "stderr",
     "output_type": "stream",
     "text": [
      "6854it [01:52, 55.59it/s]"
     ]
    },
    {
     "name": "stdout",
     "output_type": "stream",
     "text": [
      "canduyali madhumati\n",
      "corkol madhumati\n",
      "dagdugi bazer madhumati\n"
     ]
    },
    {
     "name": "stderr",
     "output_type": "stream",
     "text": [
      "6918it [01:53, 61.36it/s]"
     ]
    },
    {
     "name": "stdout",
     "output_type": "stream",
     "text": [
      "ajampur razapur\n",
      "alampur razapur\n",
      "ramcandrapur razapur\n"
     ]
    },
    {
     "name": "stderr",
     "output_type": "stream",
     "text": [
      "6939it [01:53, 61.12it/s]"
     ]
    },
    {
     "name": "stdout",
     "output_type": "stream",
     "text": [
      "mandartala enatia\n",
      "noyani para enatia\n"
     ]
    },
    {
     "name": "stderr",
     "output_type": "stream",
     "text": [
      "6967it [01:53, 59.05it/s]"
     ]
    },
    {
     "name": "stdout",
     "output_type": "stream",
     "text": [
      "berbari fulbari\n",
      "kajipara fulbari\n"
     ]
    },
    {
     "name": "stderr",
     "output_type": "stream",
     "text": [
      "6995it [01:54, 61.98it/s]"
     ]
    },
    {
     "name": "stdout",
     "output_type": "stream",
     "text": [
      "khalsibuniya baliaghata\n",
      "mailmara  - batiaghata baliaghata\n",
      "usha  - batiaghata baliaghata\n"
     ]
    },
    {
     "name": "stderr",
     "output_type": "stream",
     "text": [
      "7038it [01:54, 61.58it/s]"
     ]
    },
    {
     "name": "stdout",
     "output_type": "stream",
     "text": [
      "deyara kohinoor dighalia\n",
      "farmayeshkhana dighalia\n",
      "panigati dighalia\n",
      "sugondhi dighalia\n"
     ]
    },
    {
     "name": "stderr",
     "output_type": "stream",
     "text": [
      "7261it [01:58, 62.74it/s]"
     ]
    },
    {
     "name": "stdout",
     "output_type": "stream",
     "text": [
      "char sonatala ramkrishnapur\n",
      "dhaki para ramkrishnapur\n",
      "krofatnagar ramkrishnapur\n",
      "mohammadpur ramkrishnapur\n",
      "morarchar ramkrishnapur\n"
     ]
    },
    {
     "name": "stderr",
     "output_type": "stream",
     "text": [
      "7290it [01:58, 63.87it/s]"
     ]
    },
    {
     "name": "stdout",
     "output_type": "stream",
     "text": [
      "gobra chandpur achanpur\n",
      "kanchonpur achanpur\n",
      "kusholeebasa achanpur\n",
      "mirpur achanpur\n"
     ]
    },
    {
     "name": "stderr",
     "output_type": "stream",
     "text": [
      "7327it [01:59, 61.43it/s]"
     ]
    },
    {
     "name": "stdout",
     "output_type": "stream",
     "text": [
      "boro ailchara jalchatra\n",
      "khordd ailchara jalchatra\n"
     ]
    },
    {
     "name": "stderr",
     "output_type": "stream",
     "text": [
      "7455it [02:01, 64.36it/s]"
     ]
    },
    {
     "name": "stdout",
     "output_type": "stream",
     "text": [
      "gabarnada razapur\n",
      "nauvanga razapur\n"
     ]
    },
    {
     "name": "stderr",
     "output_type": "stream",
     "text": [
      "7525it [02:02, 62.34it/s]"
     ]
    },
    {
     "name": "stdout",
     "output_type": "stream",
     "text": [
      "hinda -gangni tetul bariya\n",
      "north vorat -gangni tetul bariya\n",
      "saharatala -gangni tetul bariya\n",
      "kalyanpur -gangni tetul bariya\n"
     ]
    },
    {
     "name": "stderr",
     "output_type": "stream",
     "text": [
      "7597it [02:03, 65.14it/s]"
     ]
    },
    {
     "name": "stdout",
     "output_type": "stream",
     "text": [
      "kumri pohim -lohagara dighalia\n",
      "kumri purbapara dighalia\n",
      "lutiya dighalia\n",
      "basupatti -lohagara kashipur\n"
     ]
    },
    {
     "name": "stderr",
     "output_type": "stream",
     "text": [
      "7674it [02:04, 62.90it/s]"
     ]
    },
    {
     "name": "stdout",
     "output_type": "stream",
     "text": [
      "gadaipur khajuria\n",
      "parisamari khajuria\n",
      "rautara khajuria\n",
      "tuardanga  - assasuni khajuria\n"
     ]
    },
    {
     "name": "stderr",
     "output_type": "stream",
     "text": [
      "7688it [02:04, 60.15it/s]"
     ]
    },
    {
     "name": "stdout",
     "output_type": "stream",
     "text": [
      "bakara sonali\n",
      "baliapur  - assasuni sonali\n",
      "godara sonali\n",
      "sarappur sonali\n"
     ]
    },
    {
     "name": "stderr",
     "output_type": "stream",
     "text": [
      "7815it [02:06, 60.72it/s]"
     ]
    },
    {
     "name": "stdout",
     "output_type": "stream",
     "text": [
      "bansipur sharifpur\n",
      "gumantali sharifpur\n",
      "hasarcak sharifpur\n",
      "isbaripur sharifpur\n",
      "sirtala sharifpur\n"
     ]
    },
    {
     "name": "stderr",
     "output_type": "stream",
     "text": [
      "7850it [02:07, 64.71it/s]"
     ]
    },
    {
     "name": "stdout",
     "output_type": "stream",
     "text": [
      "dhandiya dhania\n",
      "manikhar dhania\n",
      "panchpara  - tala dhania\n"
     ]
    },
    {
     "name": "stderr",
     "output_type": "stream",
     "text": [
      "7899it [02:08, 64.44it/s]"
     ]
    },
    {
     "name": "stdout",
     "output_type": "stream",
     "text": [
      "khamargedra  - bakshiganj dhania\n",
      "lauchapara dhania\n",
      "satanipara dhania\n"
     ]
    },
    {
     "name": "stderr",
     "output_type": "stream",
     "text": [
      "8029it [02:10, 56.00it/s]"
     ]
    },
    {
     "name": "stdout",
     "output_type": "stream",
     "text": [
      "chandpur (ramnagar) kashipur\n",
      "pakulya kashipur\n",
      "senguya kashipur\n",
      "shekhpara kashipur\n",
      "bera pathalia sharifpur\n",
      "godashimla sharifpur\n"
     ]
    },
    {
     "name": "stderr",
     "output_type": "stream",
     "text": [
      "8041it [02:10, 54.02it/s]"
     ]
    },
    {
     "name": "stdout",
     "output_type": "stream",
     "text": [
      "ronrampur chaurasta sharifpur\n",
      "shitalkursha sharifpur\n",
      "shyampur sharifpur\n",
      "sreerampur sharifpur\n"
     ]
    },
    {
     "name": "stderr",
     "output_type": "stream",
     "text": [
      "8152it [02:12, 66.96it/s]"
     ]
    },
    {
     "name": "stdout",
     "output_type": "stream",
     "text": [
      "bangram madan\n",
      "banshbari madan\n",
      "korgram madan\n",
      "shengua madan\n"
     ]
    },
    {
     "name": "stderr",
     "output_type": "stream",
     "text": [
      "8262it [02:14, 52.87it/s]"
     ]
    },
    {
     "name": "stdout",
     "output_type": "stream",
     "text": [
      "andariya para atimkhana fulbari\n",
      "chaudar fulbari\n",
      "chhankanda fulbari\n",
      "ichail fulbari\n",
      "jorbariya akter sarkar bari fulbari\n",
      "jorbariya lahuripara fulbari\n",
      "kalakanda  - fulbaria fulbari\n"
     ]
    },
    {
     "name": "stderr",
     "output_type": "stream",
     "text": [
      "8388it [02:15, 61.61it/s]"
     ]
    },
    {
     "name": "stdout",
     "output_type": "stream",
     "text": [
      "choto dashpara achanpur\n",
      "west maijpara achanpur\n",
      "bausa sadesh\n",
      "north itakhola sadesh\n",
      "swadeshi sadesh\n"
     ]
    },
    {
     "name": "stderr",
     "output_type": "stream",
     "text": [
      "8452it [02:17, 59.41it/s]"
     ]
    },
    {
     "name": "stdout",
     "output_type": "stream",
     "text": [
      "banbangla kashipur\n",
      "mohanpur kashipur\n",
      "shuhila kashipur\n",
      "tanmahishtara kashipur\n"
     ]
    },
    {
     "name": "stderr",
     "output_type": "stream",
     "text": [
      "8613it [02:19, 52.11it/s]"
     ]
    },
    {
     "name": "stdout",
     "output_type": "stream",
     "text": [
      "chorbahadurpur ramchandrapur\n",
      "chorniyamat madhyapara ramchandrapur\n",
      "khariyapara ramchandrapur\n",
      "michkipara ramchandrapur\n",
      "rambhadrapur bazar ramchandrapur\n"
     ]
    },
    {
     "name": "stderr",
     "output_type": "stream",
     "text": [
      "8634it [02:20, 60.95it/s]"
     ]
    },
    {
     "name": "stdout",
     "output_type": "stream",
     "text": [
      "dhakirkanda tarakandi\n",
      "gopalpur tarakandi\n",
      "madhupur tarakandi\n"
     ]
    },
    {
     "name": "stderr",
     "output_type": "stream",
     "text": [
      "8697it [02:21, 59.27it/s]"
     ]
    },
    {
     "name": "stdout",
     "output_type": "stream",
     "text": [
      "bhartoshi sonali\n",
      "mallikpur sunai sonali\n",
      "mansurpur sonali\n"
     ]
    },
    {
     "name": "stderr",
     "output_type": "stream",
     "text": [
      "8829it [02:22, 64.84it/s]"
     ]
    },
    {
     "name": "stdout",
     "output_type": "stream",
     "text": [
      "nazirpur ramkrishnapur\n",
      "rabaya jabber ramkrishnapur\n"
     ]
    },
    {
     "name": "stderr",
     "output_type": "stream",
     "text": [
      "8844it [02:23, 62.32it/s]"
     ]
    },
    {
     "name": "stdout",
     "output_type": "stream",
     "text": [
      "kapasatiya madan\n",
      "kuliyati madan\n",
      "madan dakkin para  - madan madan\n"
     ]
    },
    {
     "name": "stderr",
     "output_type": "stream",
     "text": [
      "8915it [02:24, 63.48it/s]"
     ]
    },
    {
     "name": "stdout",
     "output_type": "stream",
     "text": [
      "echulia bazar khalishpur\n",
      "pabai khalishpur\n",
      "pratappur khalishpur\n"
     ]
    },
    {
     "name": "stderr",
     "output_type": "stream",
     "text": [
      "9135it [02:27, 64.37it/s]"
     ]
    },
    {
     "name": "stdout",
     "output_type": "stream",
     "text": [
      "karnapur razapur\n",
      "meghagacha razapur\n"
     ]
    },
    {
     "name": "stderr",
     "output_type": "stream",
     "text": [
      "9305it [02:30, 61.01it/s]"
     ]
    },
    {
     "name": "stdout",
     "output_type": "stream",
     "text": [
      "chagaldhara fulbari\n",
      "domkandi -  -sariakandi fulbari\n",
      "harina -sariakandi fulbari\n",
      "pacpirtala -sariakandi fulbari\n",
      "bibirpara kamolpur\n",
      "haorakhali kamolpur\n",
      "rauhadaha -sariakandi kamolpur\n",
      "sultanara kamolpur\n"
     ]
    },
    {
     "name": "stderr",
     "output_type": "stream",
     "text": [
      "9327it [02:30, 62.68it/s]"
     ]
    },
    {
     "name": "stdout",
     "output_type": "stream",
     "text": [
      "antarpara tarakandi\n",
      "dighalkandi -sariakandi tarakandi\n",
      "gosaibari tarakandi\n",
      "partitparal -sariakandi tarakandi\n"
     ]
    },
    {
     "name": "stderr",
     "output_type": "stream",
     "text": [
      "9362it [02:31, 65.08it/s]"
     ]
    },
    {
     "name": "stdout",
     "output_type": "stream",
     "text": [
      "jhazor - sherpur kamarkandi\n",
      "parvabanipur   -sherpur kamarkandi\n",
      "suvogacha kamarkandi\n"
     ]
    },
    {
     "name": "stderr",
     "output_type": "stream",
     "text": [
      "9447it [02:32, 63.79it/s]"
     ]
    },
    {
     "name": "stdout",
     "output_type": "stream",
     "text": [
      "ariya caknandana sonatola\n",
      "chamargacha sonatola\n",
      "kamarpara sonatola\n",
      "ranirpara sonatola\n",
      "adatala dalli\n",
      "mayamari dalli\n",
      "piragachi dalli\n"
     ]
    },
    {
     "name": "stderr",
     "output_type": "stream",
     "text": [
      "9504it [02:33, 66.71it/s]"
     ]
    },
    {
     "name": "stdout",
     "output_type": "stream",
     "text": [
      "alinagar ali asgar\n",
      "bahamari  - gomastapur ali asgar\n"
     ]
    },
    {
     "name": "stderr",
     "output_type": "stream",
     "text": [
      "9706it [02:36, 64.18it/s]"
     ]
    },
    {
     "name": "stdout",
     "output_type": "stream",
     "text": [
      "birnagar baliaghata\n",
      "khasbaguri baliaghata\n",
      "mahabatpur baliaghata\n",
      "naoda baliaghata\n",
      "sulatanpur baliaghata\n"
     ]
    },
    {
     "name": "stderr",
     "output_type": "stream",
     "text": [
      "9785it [02:37, 63.93it/s]"
     ]
    },
    {
     "name": "stdout",
     "output_type": "stream",
     "text": [
      "boro shibpur achanpur\n",
      "nanais achanpur\n",
      "sahapur achanpur\n"
     ]
    },
    {
     "name": "stderr",
     "output_type": "stream",
     "text": [
      "9813it [02:37, 64.50it/s]"
     ]
    },
    {
     "name": "stdout",
     "output_type": "stream",
     "text": [
      "debipur khajuria\n",
      "jaipur khajuria\n",
      "khord kalana khajuria\n",
      "ranail khajuria\n"
     ]
    },
    {
     "name": "stderr",
     "output_type": "stream",
     "text": [
      "9888it [02:38, 68.87it/s]"
     ]
    },
    {
     "name": "stdout",
     "output_type": "stream",
     "text": [
      "ganjoyar achanpur\n",
      "ilasabari achanpur\n",
      "simuliya achanpur\n"
     ]
    },
    {
     "name": "stderr",
     "output_type": "stream",
     "text": [
      "9954it [02:39, 66.99it/s]"
     ]
    },
    {
     "name": "stdout",
     "output_type": "stream",
     "text": [
      "cakgabindpur ramkrishnapur\n",
      "kismat gabindapur ramkrishnapur\n",
      "kutailhat ramkrishnapur\n"
     ]
    },
    {
     "name": "stderr",
     "output_type": "stream",
     "text": [
      "9997it [02:40, 67.02it/s]"
     ]
    },
    {
     "name": "stdout",
     "output_type": "stream",
     "text": [
      "enayetpur kashipur\n",
      "trimohani kashipur\n"
     ]
    },
    {
     "name": "stderr",
     "output_type": "stream",
     "text": [
      "10079it [02:41, 66.86it/s]"
     ]
    },
    {
     "name": "stdout",
     "output_type": "stream",
     "text": [
      "dastannagar baliaghata\n",
      "durgapur baliaghata\n",
      "jogendranagar baliaghata\n"
     ]
    },
    {
     "name": "stderr",
     "output_type": "stream",
     "text": [
      "10158it [02:42, 60.36it/s]"
     ]
    },
    {
     "name": "stdout",
     "output_type": "stream",
     "text": [
      "korer gram khajuria\n",
      "sadhanagar khajuria\n",
      "basila - natore sadar mamudnagar\n",
      "bhattopara -natore sadar mamudnagar\n",
      "rajapur kamardiar  - natore sadar mamudnagar\n"
     ]
    },
    {
     "name": "stderr",
     "output_type": "stream",
     "text": [
      "10267it [02:44, 63.40it/s]"
     ]
    },
    {
     "name": "stdout",
     "output_type": "stream",
     "text": [
      "baktarpur  - bera puran varanga\n",
      "kallanpur  - bera puran varanga\n",
      "ragunathpur  - bera puran varanga\n"
     ]
    },
    {
     "name": "stderr",
     "output_type": "stream",
     "text": [
      "10309it [02:45, 62.19it/s]"
     ]
    },
    {
     "name": "stdout",
     "output_type": "stream",
     "text": [
      "agshoail -chatmohor sharifpur\n",
      "charoikol -chatmohor sharifpur\n",
      "dhulauri -chatmohor sharifpur\n",
      "jhakra - chatmohor sharifpur\n"
     ]
    },
    {
     "name": "stderr",
     "output_type": "stream",
     "text": [
      "10540it [02:48, 55.96it/s]"
     ]
    },
    {
     "name": "stdout",
     "output_type": "stream",
     "text": [
      "anupampur chargat\n",
      "barabariya chargat\n",
      "kakramari chargat\n",
      "mungli  - charghat chargat\n"
     ]
    },
    {
     "name": "stderr",
     "output_type": "stream",
     "text": [
      "10645it [02:50, 62.18it/s]"
     ]
    },
    {
     "name": "stdout",
     "output_type": "stream",
     "text": [
      "berpara sharifpur\n",
      "char majhirdia - paba sharifpur\n",
      "harupur sharifpur\n",
      "sonaikandi sharifpur\n"
     ]
    },
    {
     "name": "stderr",
     "output_type": "stream",
     "text": [
      "10680it [02:50, 59.05it/s]"
     ]
    },
    {
     "name": "stdout",
     "output_type": "stream",
     "text": [
      "bilamariya joypara\n",
      "choto senvag joypara\n",
      "dhopapara -puthia joypara\n",
      "jiupara joypara\n",
      "madhukhali joypara\n"
     ]
    },
    {
     "name": "stderr",
     "output_type": "stream",
     "text": [
      "10742it [02:51, 52.86it/s]"
     ]
    },
    {
     "name": "stdout",
     "output_type": "stream",
     "text": [
      "aguria razapur\n",
      "dattabari razapur\n",
      "maijhail razapur\n",
      "rajapur dakshin razapur\n",
      "rajapur uttar razapur\n",
      "randhunibari razapur\n",
      "subarnasara razapur\n"
     ]
    },
    {
     "name": "stderr",
     "output_type": "stream",
     "text": [
      "11049it [02:56, 61.34it/s]"
     ]
    },
    {
     "name": "stdout",
     "output_type": "stream",
     "text": [
      "alidaha ramkrishnapur\n",
      "khordoshimla ramkrishnapur\n",
      "nandokusha ramkrishnapur\n"
     ]
    },
    {
     "name": "stderr",
     "output_type": "stream",
     "text": [
      "11158it [02:58, 52.18it/s]"
     ]
    },
    {
     "name": "stdout",
     "output_type": "stream",
     "text": [
      "amtali ujalpur\n",
      "jagdal ujalpur\n",
      "maakriya ujalpur\n",
      "shitalai ujalpur\n",
      "atgaon atgao\n",
      "bandhugaon atgao\n",
      "baragaon atgao\n",
      "mollapara atgao\n"
     ]
    },
    {
     "name": "stderr",
     "output_type": "stream",
     "text": [
      "11239it [02:59, 67.30it/s]"
     ]
    },
    {
     "name": "stdout",
     "output_type": "stream",
     "text": [
      "janatamor kamolpur\n",
      "jayrampur kamolpur\n",
      "kalikapur sundarban\n",
      "khoshalpur sundarban\n"
     ]
    },
    {
     "name": "stderr",
     "output_type": "stream",
     "text": [
      "11254it [03:00, 65.09it/s]"
     ]
    },
    {
     "name": "stdout",
     "output_type": "stream",
     "text": [
      "uttar shibpur sundarban\n",
      "uttar sundarban sundarban\n"
     ]
    },
    {
     "name": "stderr",
     "output_type": "stream",
     "text": [
      "11303it [03:00, 57.05it/s]"
     ]
    },
    {
     "name": "stdout",
     "output_type": "stream",
     "text": [
      "noyabad ramchandrapur\n",
      "pormeshpur ramchandrapur\n",
      "ramchandrapur ramchandrapur\n"
     ]
    },
    {
     "name": "stderr",
     "output_type": "stream",
     "text": [
      "11363it [03:01, 54.51it/s]"
     ]
    },
    {
     "name": "stdout",
     "output_type": "stream",
     "text": [
      "barakona achanpur\n",
      "chakla achanpur\n",
      "jahanabad madrasa achanpur\n"
     ]
    },
    {
     "name": "stderr",
     "output_type": "stream",
     "text": [
      "11411it [03:02, 58.67it/s]"
     ]
    },
    {
     "name": "stdout",
     "output_type": "stream",
     "text": [
      "chandiya konachipara\n",
      "hosenpur konachipara\n",
      "ketakirhat konachipara\n",
      "samitteer bazar -fulchhari konachipara\n"
     ]
    },
    {
     "name": "stderr",
     "output_type": "stream",
     "text": [
      "11439it [03:03, 62.31it/s]"
     ]
    },
    {
     "name": "stdout",
     "output_type": "stream",
     "text": [
      "koraibari  - gaibandha sadar kamarkandi\n"
     ]
    },
    {
     "name": "stderr",
     "output_type": "stream",
     "text": [
      "11459it [03:03, 50.90it/s]"
     ]
    },
    {
     "name": "stdout",
     "output_type": "stream",
     "text": [
      "bara durgapur ramchandrapur\n",
      "gardighi -gaibandha sadar ramchandrapur\n",
      "jagatray gopalpur ramchandrapur\n",
      "sonarpara ramchandrapur\n",
      "bishnupur saha pharmacy\n",
      "lakshipur saha pharmacy\n",
      "nandina saha pharmacy\n",
      "shibpur saha pharmacy\n"
     ]
    },
    {
     "name": "stderr",
     "output_type": "stream",
     "text": [
      "11472it [03:03, 48.84it/s]"
     ]
    },
    {
     "name": "stdout",
     "output_type": "stream",
     "text": [
      "bamon kuri -gobindganj fulbari\n",
      "digolee fulbari -gobindganj fulbari\n",
      "kunjo maloncha -gobindganj fulbari\n",
      "roghunathpur -gobindganj fulbari\n",
      "shakpala -gobindganj fulbari\n"
     ]
    },
    {
     "name": "stderr",
     "output_type": "stream",
     "text": [
      "11661it [03:06, 60.35it/s]"
     ]
    },
    {
     "name": "stdout",
     "output_type": "stream",
     "text": [
      "madarer vati achanpur\n",
      "north sicha achanpur\n",
      "south chandipur achanpur\n",
      "south sicha achanpur\n"
     ]
    },
    {
     "name": "stderr",
     "output_type": "stream",
     "text": [
      "11675it [03:07, 62.00it/s]"
     ]
    },
    {
     "name": "stdout",
     "output_type": "stream",
     "text": [
      "char madari para - sunadarganj sharifpur\n",
      "charitabari sharifpur\n",
      "para saduya sharifpur\n"
     ]
    },
    {
     "name": "stderr",
     "output_type": "stream",
     "text": [
      "11766it [03:08, 57.61it/s]"
     ]
    },
    {
     "name": "stdout",
     "output_type": "stream",
     "text": [
      "chandrakhana fulbari\n",
      "jotakrisha hari fulbari\n",
      "kuthichandrakhana fulbari\n",
      "panimachhkuti fulbari\n",
      "rasmela  - phulbari fulbari\n",
      "ajoyatari kashipur\n",
      "dakshin anantapur kashipur\n",
      "kashipur kashipur\n"
     ]
    },
    {
     "name": "stderr",
     "output_type": "stream",
     "text": [
      "11778it [03:08, 51.70it/s]"
     ]
    },
    {
     "name": "stdout",
     "output_type": "stream",
     "text": [
      "madhya anantapur kashipur\n",
      "shyampur kashipur\n"
     ]
    },
    {
     "name": "stderr",
     "output_type": "stream",
     "text": [
      "11920it [03:10, 65.53it/s]"
     ]
    },
    {
     "name": "stdout",
     "output_type": "stream",
     "text": [
      "dubala bari  - raumari roumari\n",
      "fulbari -rowmari roumari\n",
      "ijalmari roumari\n",
      "kanda para  - raumari roumari\n",
      "ratanpur roumari\n"
     ]
    },
    {
     "name": "stderr",
     "output_type": "stream",
     "text": [
      "12060it [03:13, 65.06it/s]"
     ]
    },
    {
     "name": "stdout",
     "output_type": "stream",
     "text": [
      "chandrapur ramchandrapur\n",
      "latabar ramchandrapur\n",
      "north balapara ramchandrapur\n",
      "satirpar ramchandrapur\n"
     ]
    },
    {
     "name": "stderr",
     "output_type": "stream",
     "text": [
      "12808it [03:23, 67.83it/s]"
     ]
    },
    {
     "name": "stdout",
     "output_type": "stream",
     "text": [
      "mashangaon sharifpur\n",
      "torra sharifpur\n"
     ]
    },
    {
     "name": "stderr",
     "output_type": "stream",
     "text": [
      "12844it [03:24, 65.60it/s]"
     ]
    },
    {
     "name": "stdout",
     "output_type": "stream",
     "text": [
      "a. chandan chahat kashipur\n",
      "jagdal kashipur kashipur\n",
      "kashipur jhabortola kashipur\n"
     ]
    },
    {
     "name": "stderr",
     "output_type": "stream",
     "text": [
      "12970it [03:26, 66.84it/s]"
     ]
    },
    {
     "name": "stdout",
     "output_type": "stream",
     "text": [
      "mondori  -baniachong mandarbaia\n",
      "uttar sangor  -baniachong mandarbaia\n"
     ]
    },
    {
     "name": "stderr",
     "output_type": "stream",
     "text": [
      "13097it [03:28, 61.86it/s]"
     ]
    },
    {
     "name": "stdout",
     "output_type": "stream",
     "text": [
      "bodordi bashna\n",
      "dakshingram bashna\n",
      "daserkuna bashna\n",
      "ahmedpur dighalia\n",
      "baderayghar dighalia\n",
      "galimpur  - nobigonj dighalia\n",
      "radhapur dighalia\n"
     ]
    },
    {
     "name": "stderr",
     "output_type": "stream",
     "text": [
      "13174it [03:29, 61.20it/s]"
     ]
    },
    {
     "name": "stdout",
     "output_type": "stream",
     "text": [
      "chitlia - kamalganj ali asgar\n",
      "kamudpur ali asgar\n",
      "srinathpur ali asgar\n"
     ]
    },
    {
     "name": "stderr",
     "output_type": "stream",
     "text": [
      "13231it [03:30, 63.36it/s]"
     ]
    },
    {
     "name": "stdout",
     "output_type": "stream",
     "text": [
      "dattagram sharifpur\n",
      "telibil -kulaura sharifpur\n"
     ]
    },
    {
     "name": "stderr",
     "output_type": "stream",
     "text": [
      "13252it [03:30, 60.67it/s]"
     ]
    },
    {
     "name": "stdout",
     "output_type": "stream",
     "text": [
      "dakshin baranti kamolpur\n",
      "trailoksya bijay kamolpur\n",
      "daudpur  - moulvi bazar sadar khalishpur\n",
      "gurarai khalishpur\n",
      "lamuya khalishpur\n"
     ]
    },
    {
     "name": "stderr",
     "output_type": "stream",
     "text": [
      "13582it [03:35, 66.34it/s]"
     ]
    },
    {
     "name": "stdout",
     "output_type": "stream",
     "text": [
      "brahmangram botul bazar\n",
      "jayforpur botul bazar\n",
      "mutiargaon  - balaganj botul bazar\n"
     ]
    },
    {
     "name": "stderr",
     "output_type": "stream",
     "text": [
      "13603it [03:35, 64.62it/s]"
     ]
    },
    {
     "name": "stdout",
     "output_type": "stream",
     "text": [
      "kargram ali asgar\n",
      "uttarbagh - beanibazar ali asgar\n",
      "kasba beanibazar\n"
     ]
    },
    {
     "name": "stderr",
     "output_type": "stream",
     "text": [
      "13681it [03:36, 60.02it/s]"
     ]
    },
    {
     "name": "stdout",
     "output_type": "stream",
     "text": [
      "dora fulbari\n",
      "kayasthgram fulbari\n",
      "rafipur fulbari\n",
      "tikarpara fulbari\n"
     ]
    },
    {
     "name": "stderr",
     "output_type": "stream",
     "text": [
      "13772it [03:38, 65.24it/s]"
     ]
    },
    {
     "name": "stdout",
     "output_type": "stream",
     "text": [
      "bagerkhola  - dakhin surma kalia bazar\n",
      "khajakhalu  - dakshin surma kalia bazar\n",
      "kalaruka -sylhet sadar jalalabad eye\n"
     ]
    },
    {
     "name": "stderr",
     "output_type": "stream",
     "text": [
      "13812it [03:38, 63.11it/s]\n"
     ]
    }
   ],
   "source": [
    "for idx, row in tqdm(records.iterrows()):\n",
    "    \n",
    "    if row.geocoding_method == \"None\":\n",
    "    \n",
    "        # Check if there is another entry with location\n",
    "        match, score = match_name(row.NAME5, list(nodes_io['name']), 80)\n",
    "    #     match, score = match_name(row.name_concat, list(nodes_io.name_concat), 85)\n",
    "\n",
    "        if score > 0:\n",
    "            print(row.NAME, match)\n",
    "            matching_row = nodes_io.loc[nodes_io['name']==match].copy()\n",
    "            res = matching_row.iloc[0]\n",
    "\n",
    "            if not pd.isna(row.adm3):\n",
    "                adm3 = geob3.loc[geob3['shapeName'] == row['adm3']].copy()\n",
    "                if adm3.contains(res.geometry).values[0] == True:\n",
    "                    records.loc[idx, \"longitude\"] = res.geometry.x\n",
    "                    records.loc[idx, \"latitude\"] = res.geometry.y\n",
    "                    records.loc[idx, \"geocoding_method\"] = \"Location from Health Sites IO and within admin 3\"\n",
    "\n",
    "            if not pd.isna(row.adm2):\n",
    "                adm2 = geob2.loc[geob2['shapeName'] == row['adm2']].copy()\n",
    "                if adm2.contains(res.geometry).values[0] == True:            \n",
    "                    records.loc[idx, \"longitude\"] = res.geometry.x\n",
    "                    records.loc[idx, \"latitude\"] = res.geometry.y\n",
    "                    records.loc[idx, \"geocoding_method\"] = \"Location from Health Sites IO and within admin 2\"\n",
    "\n",
    "            if not pd.isna(row.adm1):\n",
    "                adm1 = geob1.loc[geob1['shapeName'] == row['adm1']].copy()\n",
    "                if adm1.contains(res.geometry).values[0] == True:            \n",
    "                    records.loc[idx, \"longitude\"] = res.geometry.x\n",
    "                    records.loc[idx, \"latitude\"] = res.geometry.y\n",
    "                    records.loc[idx, \"geocoding_method\"] = \"Location from Health Sites IO and within admin 1\""
   ]
  },
  {
   "cell_type": "code",
   "execution_count": 61,
   "metadata": {},
   "outputs": [
    {
     "data": {
      "text/html": [
       "<style type=\"text/css\">\n",
       "</style>\n",
       "<table id=\"T_b2bf9_\">\n",
       "  <thead>\n",
       "    <tr>\n",
       "      <th class=\"blank level0\" >&nbsp;</th>\n",
       "      <th class=\"col_heading level0 col0\" >count</th>\n",
       "      <th class=\"col_heading level0 col1\" >pct</th>\n",
       "    </tr>\n",
       "    <tr>\n",
       "      <th class=\"index_name level0\" >geocoding_method</th>\n",
       "      <th class=\"blank col0\" >&nbsp;</th>\n",
       "      <th class=\"blank col1\" >&nbsp;</th>\n",
       "    </tr>\n",
       "  </thead>\n",
       "  <tbody>\n",
       "    <tr>\n",
       "      <th id=\"T_b2bf9_level0_row0\" class=\"row_heading level0 row0\" >Location from Health Sites IO and within admin 1</th>\n",
       "      <td id=\"T_b2bf9_row0_col0\" class=\"data row0 col0\" >207</td>\n",
       "      <td id=\"T_b2bf9_row0_col1\" class=\"data row0 col1\" >1.5%</td>\n",
       "    </tr>\n",
       "    <tr>\n",
       "      <th id=\"T_b2bf9_level0_row1\" class=\"row_heading level0 row1\" >Location from Health Sites IO and within admin 2</th>\n",
       "      <td id=\"T_b2bf9_row1_col0\" class=\"data row1 col0\" >7</td>\n",
       "      <td id=\"T_b2bf9_row1_col1\" class=\"data row1 col1\" >0.1%</td>\n",
       "    </tr>\n",
       "    <tr>\n",
       "      <th id=\"T_b2bf9_level0_row2\" class=\"row_heading level0 row2\" >None</th>\n",
       "      <td id=\"T_b2bf9_row2_col0\" class=\"data row2 col0\" >13598</td>\n",
       "      <td id=\"T_b2bf9_row2_col1\" class=\"data row2 col1\" >98.5%</td>\n",
       "    </tr>\n",
       "  </tbody>\n",
       "</table>\n"
      ],
      "text/plain": [
       "<pandas.io.formats.style.Styler at 0x7f191df204d0>"
      ]
     },
     "execution_count": 61,
     "metadata": {},
     "output_type": "execute_result"
    }
   ],
   "source": [
    "report_geocoding(records)"
   ]
  },
  {
   "cell_type": "markdown",
   "metadata": {},
   "source": [
    "# Geocoding with APIs"
   ]
  },
  {
   "cell_type": "code",
   "execution_count": 62,
   "metadata": {},
   "outputs": [],
   "source": [
    "dotenv_path = find_dotenv()\n",
    "load_dotenv(dotenv_path)\n",
    "bing_key = os.environ.get(\"bing_key\")\n",
    "google_key = os.environ.get(\"google_key\")"
   ]
  },
  {
   "cell_type": "code",
   "execution_count": 63,
   "metadata": {},
   "outputs": [],
   "source": [
    "geolocator_osm = Nominatim(user_agent=\"health-equity\")\n",
    "geolocator_bing = Bing(api_key=bing_key)\n",
    "geolocator_google = GoogleV3(api_key=google_key)"
   ]
  },
  {
   "cell_type": "markdown",
   "metadata": {},
   "source": [
    "## Facility name and admin 3 names"
   ]
  },
  {
   "cell_type": "markdown",
   "metadata": {},
   "source": [
    "Geocode based on facility name (orgunitlevel5) + admin 3 name.  \n",
    "Check to make sure result falls within admin 3 polygon."
   ]
  },
  {
   "cell_type": "code",
   "execution_count": 71,
   "metadata": {},
   "outputs": [],
   "source": [
    "records_subset = records.loc[records.geocoding_method==\"None\"].copy()\n",
    "# only include trying to geocode rows that have an admin name that is matched to the Geoboundaries file\n",
    "records_subset = records_subset.loc[~records_subset.adm3.isna()].copy()"
   ]
  },
  {
   "cell_type": "code",
   "execution_count": 72,
   "metadata": {},
   "outputs": [
    {
     "data": {
      "text/plain": [
       "4541"
      ]
     },
     "execution_count": 72,
     "metadata": {},
     "output_type": "execute_result"
    }
   ],
   "source": [
    "len(records_subset)"
   ]
  },
  {
   "cell_type": "code",
   "execution_count": 73,
   "metadata": {},
   "outputs": [
    {
     "data": {
      "text/html": [
       "<div>\n",
       "<style scoped>\n",
       "    .dataframe tbody tr th:only-of-type {\n",
       "        vertical-align: middle;\n",
       "    }\n",
       "\n",
       "    .dataframe tbody tr th {\n",
       "        vertical-align: top;\n",
       "    }\n",
       "\n",
       "    .dataframe thead th {\n",
       "        text-align: right;\n",
       "    }\n",
       "</style>\n",
       "<table border=\"1\" class=\"dataframe\">\n",
       "  <thead>\n",
       "    <tr style=\"text-align: right;\">\n",
       "      <th></th>\n",
       "      <th>orgunitlevel1</th>\n",
       "      <th>orgunitlevel2</th>\n",
       "      <th>orgunitlevel3</th>\n",
       "      <th>orgunitlevel4</th>\n",
       "      <th>orgunitlevel5</th>\n",
       "      <th>orgunitlevel6</th>\n",
       "      <th>orgunitlevel4_edit</th>\n",
       "      <th>orgunitlevel3_edit</th>\n",
       "      <th>orgunitlevel2_edit</th>\n",
       "      <th>adm3</th>\n",
       "      <th>adm2</th>\n",
       "      <th>adm1</th>\n",
       "      <th>NAME</th>\n",
       "      <th>geocoding_method</th>\n",
       "      <th>longitude</th>\n",
       "      <th>latitude</th>\n",
       "      <th>NAME5</th>\n",
       "    </tr>\n",
       "  </thead>\n",
       "  <tbody>\n",
       "    <tr>\n",
       "      <th>12</th>\n",
       "      <td>Bangladesh</td>\n",
       "      <td>Barishal</td>\n",
       "      <td>Barguna</td>\n",
       "      <td>Amtali</td>\n",
       "      <td>ATHARAGASHIA</td>\n",
       "      <td>Purbo Sonakhli</td>\n",
       "      <td>Amtali</td>\n",
       "      <td>Barguna</td>\n",
       "      <td>Barishal</td>\n",
       "      <td>Amtali</td>\n",
       "      <td>Barguna</td>\n",
       "      <td>Barisal</td>\n",
       "      <td>purbo sonakhli</td>\n",
       "      <td>None</td>\n",
       "      <td>NaN</td>\n",
       "      <td>NaN</td>\n",
       "      <td>atharagashia</td>\n",
       "    </tr>\n",
       "    <tr>\n",
       "      <th>552</th>\n",
       "      <td>Bangladesh</td>\n",
       "      <td>Barishal</td>\n",
       "      <td>Barishal</td>\n",
       "      <td>Wazirpur</td>\n",
       "      <td>BARA KOTHA</td>\n",
       "      <td>Malikanda</td>\n",
       "      <td>Wazirpur</td>\n",
       "      <td>Barishal</td>\n",
       "      <td>Barishal</td>\n",
       "      <td>Wazirpur</td>\n",
       "      <td>Barisal</td>\n",
       "      <td>Barisal</td>\n",
       "      <td>malikanda</td>\n",
       "      <td>None</td>\n",
       "      <td>NaN</td>\n",
       "      <td>NaN</td>\n",
       "      <td>bara kotha</td>\n",
       "    </tr>\n",
       "  </tbody>\n",
       "</table>\n",
       "</div>"
      ],
      "text/plain": [
       "    orgunitlevel1 orgunitlevel2 orgunitlevel3 orgunitlevel4  orgunitlevel5  \\\n",
       "12     Bangladesh     Barishal       Barguna        Amtali   ATHARAGASHIA    \n",
       "552    Bangladesh     Barishal      Barishal      Wazirpur     BARA KOTHA    \n",
       "\n",
       "       orgunitlevel6 orgunitlevel4_edit orgunitlevel3_edit orgunitlevel2_edit  \\\n",
       "12   Purbo Sonakhli              Amtali            Barguna           Barishal   \n",
       "552       Malikanda            Wazirpur           Barishal           Barishal   \n",
       "\n",
       "         adm3     adm2     adm1            NAME geocoding_method  longitude  \\\n",
       "12     Amtali  Barguna  Barisal  purbo sonakhli             None        NaN   \n",
       "552  Wazirpur  Barisal  Barisal       malikanda             None        NaN   \n",
       "\n",
       "     latitude         NAME5  \n",
       "12        NaN  atharagashia  \n",
       "552       NaN    bara kotha  "
      ]
     },
     "execution_count": 73,
     "metadata": {},
     "output_type": "execute_result"
    }
   ],
   "source": [
    "records_subset.head(2)"
   ]
  },
  {
   "cell_type": "code",
   "execution_count": 74,
   "metadata": {
    "code_folding": [],
    "scrolled": true
   },
   "outputs": [
    {
     "name": "stderr",
     "output_type": "stream",
     "text": [
      "4541it [39:39,  1.91it/s]\n"
     ]
    }
   ],
   "source": [
    "for idx, row in tqdm(records_subset.iterrows()):\n",
    "    \n",
    "    adm3 = geob3.loc[geob3['shapeName'] == row['adm3']].copy()\n",
    "    run_geocoding(idx, row, records, adm3, ['NAME', 'adm3'], 'bd')"
   ]
  },
  {
   "cell_type": "code",
   "execution_count": 75,
   "metadata": {},
   "outputs": [
    {
     "data": {
      "text/html": [
       "<style type=\"text/css\">\n",
       "</style>\n",
       "<table id=\"T_1a379_\">\n",
       "  <thead>\n",
       "    <tr>\n",
       "      <th class=\"blank level0\" >&nbsp;</th>\n",
       "      <th class=\"col_heading level0 col0\" >count</th>\n",
       "      <th class=\"col_heading level0 col1\" >pct</th>\n",
       "    </tr>\n",
       "    <tr>\n",
       "      <th class=\"index_name level0\" >geocoding_method</th>\n",
       "      <th class=\"blank col0\" >&nbsp;</th>\n",
       "      <th class=\"blank col1\" >&nbsp;</th>\n",
       "    </tr>\n",
       "  </thead>\n",
       "  <tbody>\n",
       "    <tr>\n",
       "      <th id=\"T_1a379_level0_row0\" class=\"row_heading level0 row0\" >Location from Health Sites IO and within admin 1</th>\n",
       "      <td id=\"T_1a379_row0_col0\" class=\"data row0 col0\" >207</td>\n",
       "      <td id=\"T_1a379_row0_col1\" class=\"data row0 col1\" >1.5%</td>\n",
       "    </tr>\n",
       "    <tr>\n",
       "      <th id=\"T_1a379_level0_row1\" class=\"row_heading level0 row1\" >Location from Health Sites IO and within admin 2</th>\n",
       "      <td id=\"T_1a379_row1_col0\" class=\"data row1 col0\" >7</td>\n",
       "      <td id=\"T_1a379_row1_col1\" class=\"data row1 col1\" >0.1%</td>\n",
       "    </tr>\n",
       "    <tr>\n",
       "      <th id=\"T_1a379_level0_row2\" class=\"row_heading level0 row2\" >NAME and adm3 query Bing</th>\n",
       "      <td id=\"T_1a379_row2_col0\" class=\"data row2 col0\" >6797</td>\n",
       "      <td id=\"T_1a379_row2_col1\" class=\"data row2 col1\" >49.2%</td>\n",
       "    </tr>\n",
       "    <tr>\n",
       "      <th id=\"T_1a379_level0_row3\" class=\"row_heading level0 row3\" >NAME and adm3 query Google</th>\n",
       "      <td id=\"T_1a379_row3_col0\" class=\"data row3 col0\" >5288</td>\n",
       "      <td id=\"T_1a379_row3_col1\" class=\"data row3 col1\" >38.3%</td>\n",
       "    </tr>\n",
       "    <tr>\n",
       "      <th id=\"T_1a379_level0_row4\" class=\"row_heading level0 row4\" >NAME and adm3 query OSM</th>\n",
       "      <td id=\"T_1a379_row4_col0\" class=\"data row4 col0\" >335</td>\n",
       "      <td id=\"T_1a379_row4_col1\" class=\"data row4 col1\" >2.4%</td>\n",
       "    </tr>\n",
       "    <tr>\n",
       "      <th id=\"T_1a379_level0_row5\" class=\"row_heading level0 row5\" >None</th>\n",
       "      <td id=\"T_1a379_row5_col0\" class=\"data row5 col0\" >1178</td>\n",
       "      <td id=\"T_1a379_row5_col1\" class=\"data row5 col1\" >8.5%</td>\n",
       "    </tr>\n",
       "  </tbody>\n",
       "</table>\n"
      ],
      "text/plain": [
       "<pandas.io.formats.style.Styler at 0x7f1929aa5790>"
      ]
     },
     "execution_count": 75,
     "metadata": {},
     "output_type": "execute_result"
    }
   ],
   "source": [
    "report_geocoding(records)"
   ]
  },
  {
   "cell_type": "code",
   "execution_count": 76,
   "metadata": {},
   "outputs": [],
   "source": [
    "records_subset = records.loc[records.geocoding_method==\"None\"].copy()\n",
    "records_subset = records_subset.loc[~records_subset.adm3.isna()].copy()\n",
    "records_subset = records_subset.loc[~records_subset.adm2.isna()].copy()"
   ]
  },
  {
   "cell_type": "code",
   "execution_count": 77,
   "metadata": {},
   "outputs": [
    {
     "data": {
      "text/plain": [
       "671"
      ]
     },
     "execution_count": 77,
     "metadata": {},
     "output_type": "execute_result"
    }
   ],
   "source": [
    "len(records_subset)"
   ]
  },
  {
   "cell_type": "markdown",
   "metadata": {},
   "source": [
    "## Facility name and admin 2 names"
   ]
  },
  {
   "cell_type": "markdown",
   "metadata": {},
   "source": [
    "Geocode based on facility name (orgunitlevel5) + admin 2 name.  \n",
    "Check to make sure result falls within admin 3 polygon."
   ]
  },
  {
   "cell_type": "code",
   "execution_count": 78,
   "metadata": {
    "scrolled": true
   },
   "outputs": [
    {
     "name": "stderr",
     "output_type": "stream",
     "text": [
      "671it [05:57,  1.88it/s]\n"
     ]
    }
   ],
   "source": [
    "for idx, row in tqdm(records_subset.iterrows()):\n",
    "    \n",
    "    adm3 = geob3.loc[geob3['shapeName'] == row['adm3']].copy()\n",
    "    run_geocoding(idx, row, records, adm3, ['NAME', 'adm2'], 'bd')"
   ]
  },
  {
   "cell_type": "code",
   "execution_count": 80,
   "metadata": {},
   "outputs": [
    {
     "data": {
      "text/html": [
       "<style type=\"text/css\">\n",
       "</style>\n",
       "<table id=\"T_d3976_\">\n",
       "  <thead>\n",
       "    <tr>\n",
       "      <th class=\"blank level0\" >&nbsp;</th>\n",
       "      <th class=\"col_heading level0 col0\" >count</th>\n",
       "      <th class=\"col_heading level0 col1\" >pct</th>\n",
       "    </tr>\n",
       "    <tr>\n",
       "      <th class=\"index_name level0\" >geocoding_method</th>\n",
       "      <th class=\"blank col0\" >&nbsp;</th>\n",
       "      <th class=\"blank col1\" >&nbsp;</th>\n",
       "    </tr>\n",
       "  </thead>\n",
       "  <tbody>\n",
       "    <tr>\n",
       "      <th id=\"T_d3976_level0_row0\" class=\"row_heading level0 row0\" >Location from Health Sites IO and within admin 1</th>\n",
       "      <td id=\"T_d3976_row0_col0\" class=\"data row0 col0\" >207</td>\n",
       "      <td id=\"T_d3976_row0_col1\" class=\"data row0 col1\" >1.5%</td>\n",
       "    </tr>\n",
       "    <tr>\n",
       "      <th id=\"T_d3976_level0_row1\" class=\"row_heading level0 row1\" >Location from Health Sites IO and within admin 2</th>\n",
       "      <td id=\"T_d3976_row1_col0\" class=\"data row1 col0\" >7</td>\n",
       "      <td id=\"T_d3976_row1_col1\" class=\"data row1 col1\" >0.1%</td>\n",
       "    </tr>\n",
       "    <tr>\n",
       "      <th id=\"T_d3976_level0_row2\" class=\"row_heading level0 row2\" >NAME and adm2 query Bing</th>\n",
       "      <td id=\"T_d3976_row2_col0\" class=\"data row2 col0\" >81</td>\n",
       "      <td id=\"T_d3976_row2_col1\" class=\"data row2 col1\" >0.6%</td>\n",
       "    </tr>\n",
       "    <tr>\n",
       "      <th id=\"T_d3976_level0_row3\" class=\"row_heading level0 row3\" >NAME and adm2 query Google</th>\n",
       "      <td id=\"T_d3976_row3_col0\" class=\"data row3 col0\" >66</td>\n",
       "      <td id=\"T_d3976_row3_col1\" class=\"data row3 col1\" >0.5%</td>\n",
       "    </tr>\n",
       "    <tr>\n",
       "      <th id=\"T_d3976_level0_row4\" class=\"row_heading level0 row4\" >NAME and adm2 query OSM</th>\n",
       "      <td id=\"T_d3976_row4_col0\" class=\"data row4 col0\" >4</td>\n",
       "      <td id=\"T_d3976_row4_col1\" class=\"data row4 col1\" >0.0%</td>\n",
       "    </tr>\n",
       "    <tr>\n",
       "      <th id=\"T_d3976_level0_row5\" class=\"row_heading level0 row5\" >NAME and adm3 query Bing</th>\n",
       "      <td id=\"T_d3976_row5_col0\" class=\"data row5 col0\" >6797</td>\n",
       "      <td id=\"T_d3976_row5_col1\" class=\"data row5 col1\" >49.2%</td>\n",
       "    </tr>\n",
       "    <tr>\n",
       "      <th id=\"T_d3976_level0_row6\" class=\"row_heading level0 row6\" >NAME and adm3 query Google</th>\n",
       "      <td id=\"T_d3976_row6_col0\" class=\"data row6 col0\" >5288</td>\n",
       "      <td id=\"T_d3976_row6_col1\" class=\"data row6 col1\" >38.3%</td>\n",
       "    </tr>\n",
       "    <tr>\n",
       "      <th id=\"T_d3976_level0_row7\" class=\"row_heading level0 row7\" >NAME and adm3 query OSM</th>\n",
       "      <td id=\"T_d3976_row7_col0\" class=\"data row7 col0\" >335</td>\n",
       "      <td id=\"T_d3976_row7_col1\" class=\"data row7 col1\" >2.4%</td>\n",
       "    </tr>\n",
       "    <tr>\n",
       "      <th id=\"T_d3976_level0_row8\" class=\"row_heading level0 row8\" >None</th>\n",
       "      <td id=\"T_d3976_row8_col0\" class=\"data row8 col0\" >1027</td>\n",
       "      <td id=\"T_d3976_row8_col1\" class=\"data row8 col1\" >7.4%</td>\n",
       "    </tr>\n",
       "  </tbody>\n",
       "</table>\n"
      ],
      "text/plain": [
       "<pandas.io.formats.style.Styler at 0x7f192d52cb50>"
      ]
     },
     "execution_count": 80,
     "metadata": {},
     "output_type": "execute_result"
    }
   ],
   "source": [
    "report_geocoding(records)"
   ]
  },
  {
   "cell_type": "code",
   "execution_count": 81,
   "metadata": {},
   "outputs": [],
   "source": [
    "records_subset = records.loc[records.geocoding_method==\"None\"].copy()\n",
    "records_subset = records_subset.loc[~records_subset.adm3.isna()].copy()\n",
    "records_subset = records_subset.loc[~records_subset.adm1.isna()].copy()"
   ]
  },
  {
   "cell_type": "markdown",
   "metadata": {},
   "source": [
    "## Facility name and admin 1 names"
   ]
  },
  {
   "cell_type": "code",
   "execution_count": 82,
   "metadata": {},
   "outputs": [
    {
     "name": "stderr",
     "output_type": "stream",
     "text": [
      "532it [04:46,  1.86it/s]\n"
     ]
    }
   ],
   "source": [
    "for idx, row in tqdm(records_subset.iterrows()):\n",
    "    \n",
    "    adm3 = geob3.loc[geob3['shapeName'] == row['adm3']].copy()\n",
    "    run_geocoding(idx, row, records, adm3, ['NAME', 'adm1'], 'bd')"
   ]
  },
  {
   "cell_type": "code",
   "execution_count": 83,
   "metadata": {},
   "outputs": [
    {
     "data": {
      "text/html": [
       "<style type=\"text/css\">\n",
       "</style>\n",
       "<table id=\"T_bb423_\">\n",
       "  <thead>\n",
       "    <tr>\n",
       "      <th class=\"blank level0\" >&nbsp;</th>\n",
       "      <th class=\"col_heading level0 col0\" >count</th>\n",
       "      <th class=\"col_heading level0 col1\" >pct</th>\n",
       "    </tr>\n",
       "    <tr>\n",
       "      <th class=\"index_name level0\" >geocoding_method</th>\n",
       "      <th class=\"blank col0\" >&nbsp;</th>\n",
       "      <th class=\"blank col1\" >&nbsp;</th>\n",
       "    </tr>\n",
       "  </thead>\n",
       "  <tbody>\n",
       "    <tr>\n",
       "      <th id=\"T_bb423_level0_row0\" class=\"row_heading level0 row0\" >Location from Health Sites IO and within admin 1</th>\n",
       "      <td id=\"T_bb423_row0_col0\" class=\"data row0 col0\" >207</td>\n",
       "      <td id=\"T_bb423_row0_col1\" class=\"data row0 col1\" >1.5%</td>\n",
       "    </tr>\n",
       "    <tr>\n",
       "      <th id=\"T_bb423_level0_row1\" class=\"row_heading level0 row1\" >Location from Health Sites IO and within admin 2</th>\n",
       "      <td id=\"T_bb423_row1_col0\" class=\"data row1 col0\" >7</td>\n",
       "      <td id=\"T_bb423_row1_col1\" class=\"data row1 col1\" >0.1%</td>\n",
       "    </tr>\n",
       "    <tr>\n",
       "      <th id=\"T_bb423_level0_row2\" class=\"row_heading level0 row2\" >NAME and adm1 query Bing</th>\n",
       "      <td id=\"T_bb423_row2_col0\" class=\"data row2 col0\" >2</td>\n",
       "      <td id=\"T_bb423_row2_col1\" class=\"data row2 col1\" >0.0%</td>\n",
       "    </tr>\n",
       "    <tr>\n",
       "      <th id=\"T_bb423_level0_row3\" class=\"row_heading level0 row3\" >NAME and adm1 query Google</th>\n",
       "      <td id=\"T_bb423_row3_col0\" class=\"data row3 col0\" >3</td>\n",
       "      <td id=\"T_bb423_row3_col1\" class=\"data row3 col1\" >0.0%</td>\n",
       "    </tr>\n",
       "    <tr>\n",
       "      <th id=\"T_bb423_level0_row4\" class=\"row_heading level0 row4\" >NAME and adm2 query Bing</th>\n",
       "      <td id=\"T_bb423_row4_col0\" class=\"data row4 col0\" >81</td>\n",
       "      <td id=\"T_bb423_row4_col1\" class=\"data row4 col1\" >0.6%</td>\n",
       "    </tr>\n",
       "    <tr>\n",
       "      <th id=\"T_bb423_level0_row5\" class=\"row_heading level0 row5\" >NAME and adm2 query Google</th>\n",
       "      <td id=\"T_bb423_row5_col0\" class=\"data row5 col0\" >66</td>\n",
       "      <td id=\"T_bb423_row5_col1\" class=\"data row5 col1\" >0.5%</td>\n",
       "    </tr>\n",
       "    <tr>\n",
       "      <th id=\"T_bb423_level0_row6\" class=\"row_heading level0 row6\" >NAME and adm2 query OSM</th>\n",
       "      <td id=\"T_bb423_row6_col0\" class=\"data row6 col0\" >4</td>\n",
       "      <td id=\"T_bb423_row6_col1\" class=\"data row6 col1\" >0.0%</td>\n",
       "    </tr>\n",
       "    <tr>\n",
       "      <th id=\"T_bb423_level0_row7\" class=\"row_heading level0 row7\" >NAME and adm3 query Bing</th>\n",
       "      <td id=\"T_bb423_row7_col0\" class=\"data row7 col0\" >6797</td>\n",
       "      <td id=\"T_bb423_row7_col1\" class=\"data row7 col1\" >49.2%</td>\n",
       "    </tr>\n",
       "    <tr>\n",
       "      <th id=\"T_bb423_level0_row8\" class=\"row_heading level0 row8\" >NAME and adm3 query Google</th>\n",
       "      <td id=\"T_bb423_row8_col0\" class=\"data row8 col0\" >5288</td>\n",
       "      <td id=\"T_bb423_row8_col1\" class=\"data row8 col1\" >38.3%</td>\n",
       "    </tr>\n",
       "    <tr>\n",
       "      <th id=\"T_bb423_level0_row9\" class=\"row_heading level0 row9\" >NAME and adm3 query OSM</th>\n",
       "      <td id=\"T_bb423_row9_col0\" class=\"data row9 col0\" >335</td>\n",
       "      <td id=\"T_bb423_row9_col1\" class=\"data row9 col1\" >2.4%</td>\n",
       "    </tr>\n",
       "    <tr>\n",
       "      <th id=\"T_bb423_level0_row10\" class=\"row_heading level0 row10\" >None</th>\n",
       "      <td id=\"T_bb423_row10_col0\" class=\"data row10 col0\" >1022</td>\n",
       "      <td id=\"T_bb423_row10_col1\" class=\"data row10 col1\" >7.4%</td>\n",
       "    </tr>\n",
       "  </tbody>\n",
       "</table>\n"
      ],
      "text/plain": [
       "<pandas.io.formats.style.Styler at 0x7f1929aa2890>"
      ]
     },
     "execution_count": 83,
     "metadata": {},
     "output_type": "execute_result"
    }
   ],
   "source": [
    "report_geocoding(records)"
   ]
  },
  {
   "cell_type": "markdown",
   "metadata": {},
   "source": [
    "## Orgunitlevel5 names"
   ]
  },
  {
   "cell_type": "markdown",
   "metadata": {},
   "source": [
    "Geocode based on orgunitlevel 5 name.  \n",
    "Check to make sure result falls within admin 3 polygon.  "
   ]
  },
  {
   "cell_type": "code",
   "execution_count": 84,
   "metadata": {},
   "outputs": [],
   "source": [
    "records_subset = records.loc[records.geocoding_method==\"None\"].copy()\n",
    "records_subset = records_subset.loc[~records_subset.adm3.isna()].copy()"
   ]
  },
  {
   "cell_type": "code",
   "execution_count": 85,
   "metadata": {},
   "outputs": [],
   "source": [
    "orglev5_df = records_subset[['orgunitlevel5', 'NAME5', 'adm3', 'orgunitlevel1']].drop_duplicates().copy()"
   ]
  },
  {
   "cell_type": "code",
   "execution_count": 86,
   "metadata": {},
   "outputs": [
    {
     "data": {
      "text/plain": [
       "366"
      ]
     },
     "execution_count": 86,
     "metadata": {},
     "output_type": "execute_result"
    }
   ],
   "source": [
    "len(orglev5_df)"
   ]
  },
  {
   "cell_type": "code",
   "execution_count": null,
   "metadata": {},
   "outputs": [
    {
     "name": "stderr",
     "output_type": "stream",
     "text": [
      "17it [00:09,  1.79it/s]"
     ]
    }
   ],
   "source": [
    "for idx, row in tqdm(orglev5_df.iterrows()):\n",
    "    \n",
    "    adm3 = geob3.loc[geob3['shapeName'] == row['adm3']].copy()\n",
    "    run_geocoding(idx, row, orglev5_df, adm3, ['NAME5', 'adm3'], 'bd')"
   ]
  },
  {
   "cell_type": "code",
   "execution_count": 89,
   "metadata": {},
   "outputs": [
    {
     "data": {
      "text/plain": [
       "NAME5 and adm3 query Google    187\n",
       "None                            79\n",
       "NAME5 and adm3 query OSM        71\n",
       "NAME5 and adm3 query Bing       29\n",
       "Name: geocoding_method, dtype: int64"
      ]
     },
     "execution_count": 89,
     "metadata": {},
     "output_type": "execute_result"
    }
   ],
   "source": [
    "orglev5_df.geocoding_method.value_counts()"
   ]
  },
  {
   "cell_type": "code",
   "execution_count": 90,
   "metadata": {},
   "outputs": [
    {
     "name": "stderr",
     "output_type": "stream",
     "text": [
      "527it [00:00, 737.45it/s]\n"
     ]
    }
   ],
   "source": [
    "for idx, row in tqdm(records_subset.iterrows()):\n",
    "    \n",
    "    orglev5_geocoded = orglev5_df.loc[orglev5_df['NAME5']==row['NAME5']].iloc[0]    \n",
    "    records.loc[idx, \"longitude\"] = orglev5_geocoded.longitude\n",
    "    records.loc[idx, \"latitude\"] = orglev5_geocoded.latitude\n",
    "    records.loc[idx, \"geocoding_method\"] = orglev5_geocoded.geocoding_method"
   ]
  },
  {
   "cell_type": "code",
   "execution_count": 91,
   "metadata": {},
   "outputs": [
    {
     "data": {
      "text/html": [
       "<style type=\"text/css\">\n",
       "</style>\n",
       "<table id=\"T_abba2_\">\n",
       "  <thead>\n",
       "    <tr>\n",
       "      <th class=\"blank level0\" >&nbsp;</th>\n",
       "      <th class=\"col_heading level0 col0\" >count</th>\n",
       "      <th class=\"col_heading level0 col1\" >pct</th>\n",
       "    </tr>\n",
       "    <tr>\n",
       "      <th class=\"index_name level0\" >geocoding_method</th>\n",
       "      <th class=\"blank col0\" >&nbsp;</th>\n",
       "      <th class=\"blank col1\" >&nbsp;</th>\n",
       "    </tr>\n",
       "  </thead>\n",
       "  <tbody>\n",
       "    <tr>\n",
       "      <th id=\"T_abba2_level0_row0\" class=\"row_heading level0 row0\" >Location from Health Sites IO and within admin 1</th>\n",
       "      <td id=\"T_abba2_row0_col0\" class=\"data row0 col0\" >207</td>\n",
       "      <td id=\"T_abba2_row0_col1\" class=\"data row0 col1\" >1.5%</td>\n",
       "    </tr>\n",
       "    <tr>\n",
       "      <th id=\"T_abba2_level0_row1\" class=\"row_heading level0 row1\" >Location from Health Sites IO and within admin 2</th>\n",
       "      <td id=\"T_abba2_row1_col0\" class=\"data row1 col0\" >7</td>\n",
       "      <td id=\"T_abba2_row1_col1\" class=\"data row1 col1\" >0.1%</td>\n",
       "    </tr>\n",
       "    <tr>\n",
       "      <th id=\"T_abba2_level0_row2\" class=\"row_heading level0 row2\" >NAME and adm1 query Bing</th>\n",
       "      <td id=\"T_abba2_row2_col0\" class=\"data row2 col0\" >2</td>\n",
       "      <td id=\"T_abba2_row2_col1\" class=\"data row2 col1\" >0.0%</td>\n",
       "    </tr>\n",
       "    <tr>\n",
       "      <th id=\"T_abba2_level0_row3\" class=\"row_heading level0 row3\" >NAME and adm1 query Google</th>\n",
       "      <td id=\"T_abba2_row3_col0\" class=\"data row3 col0\" >3</td>\n",
       "      <td id=\"T_abba2_row3_col1\" class=\"data row3 col1\" >0.0%</td>\n",
       "    </tr>\n",
       "    <tr>\n",
       "      <th id=\"T_abba2_level0_row4\" class=\"row_heading level0 row4\" >NAME and adm2 query Bing</th>\n",
       "      <td id=\"T_abba2_row4_col0\" class=\"data row4 col0\" >81</td>\n",
       "      <td id=\"T_abba2_row4_col1\" class=\"data row4 col1\" >0.6%</td>\n",
       "    </tr>\n",
       "    <tr>\n",
       "      <th id=\"T_abba2_level0_row5\" class=\"row_heading level0 row5\" >NAME and adm2 query Google</th>\n",
       "      <td id=\"T_abba2_row5_col0\" class=\"data row5 col0\" >66</td>\n",
       "      <td id=\"T_abba2_row5_col1\" class=\"data row5 col1\" >0.5%</td>\n",
       "    </tr>\n",
       "    <tr>\n",
       "      <th id=\"T_abba2_level0_row6\" class=\"row_heading level0 row6\" >NAME and adm2 query OSM</th>\n",
       "      <td id=\"T_abba2_row6_col0\" class=\"data row6 col0\" >4</td>\n",
       "      <td id=\"T_abba2_row6_col1\" class=\"data row6 col1\" >0.0%</td>\n",
       "    </tr>\n",
       "    <tr>\n",
       "      <th id=\"T_abba2_level0_row7\" class=\"row_heading level0 row7\" >NAME and adm3 query Bing</th>\n",
       "      <td id=\"T_abba2_row7_col0\" class=\"data row7 col0\" >6797</td>\n",
       "      <td id=\"T_abba2_row7_col1\" class=\"data row7 col1\" >49.2%</td>\n",
       "    </tr>\n",
       "    <tr>\n",
       "      <th id=\"T_abba2_level0_row8\" class=\"row_heading level0 row8\" >NAME and adm3 query Google</th>\n",
       "      <td id=\"T_abba2_row8_col0\" class=\"data row8 col0\" >5288</td>\n",
       "      <td id=\"T_abba2_row8_col1\" class=\"data row8 col1\" >38.3%</td>\n",
       "    </tr>\n",
       "    <tr>\n",
       "      <th id=\"T_abba2_level0_row9\" class=\"row_heading level0 row9\" >NAME and adm3 query OSM</th>\n",
       "      <td id=\"T_abba2_row9_col0\" class=\"data row9 col0\" >335</td>\n",
       "      <td id=\"T_abba2_row9_col1\" class=\"data row9 col1\" >2.4%</td>\n",
       "    </tr>\n",
       "    <tr>\n",
       "      <th id=\"T_abba2_level0_row10\" class=\"row_heading level0 row10\" >NAME5 and adm3 query Bing</th>\n",
       "      <td id=\"T_abba2_row10_col0\" class=\"data row10 col0\" >31</td>\n",
       "      <td id=\"T_abba2_row10_col1\" class=\"data row10 col1\" >0.2%</td>\n",
       "    </tr>\n",
       "    <tr>\n",
       "      <th id=\"T_abba2_level0_row11\" class=\"row_heading level0 row11\" >NAME5 and adm3 query Google</th>\n",
       "      <td id=\"T_abba2_row11_col0\" class=\"data row11 col0\" >234</td>\n",
       "      <td id=\"T_abba2_row11_col1\" class=\"data row11 col1\" >1.7%</td>\n",
       "    </tr>\n",
       "    <tr>\n",
       "      <th id=\"T_abba2_level0_row12\" class=\"row_heading level0 row12\" >NAME5 and adm3 query OSM</th>\n",
       "      <td id=\"T_abba2_row12_col0\" class=\"data row12 col0\" >92</td>\n",
       "      <td id=\"T_abba2_row12_col1\" class=\"data row12 col1\" >0.7%</td>\n",
       "    </tr>\n",
       "    <tr>\n",
       "      <th id=\"T_abba2_level0_row13\" class=\"row_heading level0 row13\" >None</th>\n",
       "      <td id=\"T_abba2_row13_col0\" class=\"data row13 col0\" >665</td>\n",
       "      <td id=\"T_abba2_row13_col1\" class=\"data row13 col1\" >4.8%</td>\n",
       "    </tr>\n",
       "  </tbody>\n",
       "</table>\n"
      ],
      "text/plain": [
       "<pandas.io.formats.style.Styler at 0x7f192d527e10>"
      ]
     },
     "execution_count": 91,
     "metadata": {},
     "output_type": "execute_result"
    }
   ],
   "source": [
    "report_geocoding(records)"
   ]
  },
  {
   "cell_type": "markdown",
   "metadata": {},
   "source": [
    "## Orgunitlevel4 names"
   ]
  },
  {
   "cell_type": "code",
   "execution_count": 92,
   "metadata": {},
   "outputs": [],
   "source": [
    "records_subset = records.loc[records.geocoding_method==\"None\"].copy()\n",
    "records_subset = records_subset.loc[~records_subset.adm3.isna()].copy()"
   ]
  },
  {
   "cell_type": "code",
   "execution_count": 93,
   "metadata": {},
   "outputs": [
    {
     "data": {
      "text/plain": [
       "170"
      ]
     },
     "execution_count": 93,
     "metadata": {},
     "output_type": "execute_result"
    }
   ],
   "source": [
    "len(records_subset)"
   ]
  },
  {
   "cell_type": "code",
   "execution_count": 94,
   "metadata": {},
   "outputs": [],
   "source": [
    "orglev4_df = records_subset[['orgunitlevel4', 'adm3', 'orgunitlevel1']].drop_duplicates().copy()"
   ]
  },
  {
   "cell_type": "code",
   "execution_count": 95,
   "metadata": {},
   "outputs": [
    {
     "data": {
      "text/plain": [
       "18"
      ]
     },
     "execution_count": 95,
     "metadata": {},
     "output_type": "execute_result"
    }
   ],
   "source": [
    "len(orglev4_df)"
   ]
  },
  {
   "cell_type": "code",
   "execution_count": 96,
   "metadata": {},
   "outputs": [
    {
     "name": "stderr",
     "output_type": "stream",
     "text": [
      "18it [00:12,  1.45it/s]\n"
     ]
    }
   ],
   "source": [
    "for idx, row in tqdm(orglev4_df.iterrows()):\n",
    "    \n",
    "    adm3 = geob3.loc[geob3['shapeName'] == row['adm3']].copy()\n",
    "    run_geocoding(idx, row, orglev4_df, adm3, ['orgunitlevel4'], 'bd')"
   ]
  },
  {
   "cell_type": "code",
   "execution_count": 97,
   "metadata": {},
   "outputs": [
    {
     "name": "stderr",
     "output_type": "stream",
     "text": [
      "18it [00:00, 526.89it/s]\n"
     ]
    }
   ],
   "source": [
    "for idx, row in tqdm(orglev4_df.iterrows()):\n",
    "    \n",
    "    adm3 = geob3.loc[geob3['shapeName'] == row['adm3']].copy()\n",
    "    if row.geocoding_method==\"None\":\n",
    "        cent = adm3.geometry.representative_point().iloc[0]\n",
    "        orglev4_df.loc[idx, \"longitude\"] = cent.x\n",
    "        orglev4_df.loc[idx, \"latitude\"] = cent.y\n",
    "        orglev4_df.loc[idx, \"geocoding_method\"] = \"District centroid\""
   ]
  },
  {
   "cell_type": "code",
   "execution_count": 98,
   "metadata": {},
   "outputs": [
    {
     "data": {
      "text/plain": [
       "1662        orgunitlevel4 query OSM\n",
       "2277              District centroid\n",
       "8308              District centroid\n",
       "10337    orgunitlevel4 query Google\n",
       "10879             District centroid\n",
       "11092             District centroid\n",
       "11204    orgunitlevel4 query Google\n",
       "11672    orgunitlevel4 query Google\n",
       "11990    orgunitlevel4 query Google\n",
       "13211       orgunitlevel4 query OSM\n",
       "14249    orgunitlevel4 query Google\n",
       "15254       orgunitlevel4 query OSM\n",
       "15364       orgunitlevel4 query OSM\n",
       "15705    orgunitlevel4 query Google\n",
       "16909    orgunitlevel4 query Google\n",
       "17586             District centroid\n",
       "18013    orgunitlevel4 query Google\n",
       "19263    orgunitlevel4 query Google\n",
       "Name: geocoding_method, dtype: object"
      ]
     },
     "execution_count": 98,
     "metadata": {},
     "output_type": "execute_result"
    }
   ],
   "source": [
    "orglev4_df.geocoding_method"
   ]
  },
  {
   "cell_type": "code",
   "execution_count": 99,
   "metadata": {},
   "outputs": [
    {
     "name": "stderr",
     "output_type": "stream",
     "text": [
      "170it [00:00, 711.41it/s]\n"
     ]
    }
   ],
   "source": [
    "for idx, row in tqdm(records_subset.iterrows()):\n",
    "    \n",
    "    orglev4_geocoded = orglev4_df.loc[orglev4_df['orgunitlevel4']==row['orgunitlevel4']].iloc[0]    \n",
    "    records.loc[idx, \"longitude\"] = orglev4_geocoded.longitude\n",
    "    records.loc[idx, \"latitude\"] = orglev4_geocoded.latitude\n",
    "    records.loc[idx, \"geocoding_method\"] = orglev4_geocoded.geocoding_method"
   ]
  },
  {
   "cell_type": "markdown",
   "metadata": {},
   "source": [
    "## Admin 3  and admin 2 names"
   ]
  },
  {
   "cell_type": "code",
   "execution_count": 100,
   "metadata": {},
   "outputs": [],
   "source": [
    "records_subset = records.loc[records.geocoding_method==\"None\"].copy()\n",
    "records_subset = records_subset.loc[~records_subset.adm2.isna()].copy()"
   ]
  },
  {
   "cell_type": "code",
   "execution_count": 101,
   "metadata": {},
   "outputs": [
    {
     "data": {
      "text/plain": [
       "399"
      ]
     },
     "execution_count": 101,
     "metadata": {},
     "output_type": "execute_result"
    }
   ],
   "source": [
    "len(records_subset)"
   ]
  },
  {
   "cell_type": "markdown",
   "metadata": {},
   "source": [
    "Geocode based on admin 3 name and admin 2 name.    \n",
    "Check to make sure result falls within admin 2 polygon.  "
   ]
  },
  {
   "cell_type": "code",
   "execution_count": 102,
   "metadata": {},
   "outputs": [],
   "source": [
    "orglev4_df = records_subset[['orgunitlevel4', 'orgunitlevel4_edit', 'adm2', 'orgunitlevel1']].drop_duplicates().copy()"
   ]
  },
  {
   "cell_type": "code",
   "execution_count": 103,
   "metadata": {},
   "outputs": [
    {
     "data": {
      "text/plain": [
       "12"
      ]
     },
     "execution_count": 103,
     "metadata": {},
     "output_type": "execute_result"
    }
   ],
   "source": [
    "len(orglev4_df)"
   ]
  },
  {
   "cell_type": "code",
   "execution_count": 104,
   "metadata": {},
   "outputs": [
    {
     "name": "stderr",
     "output_type": "stream",
     "text": [
      "12it [00:06,  1.98it/s]\n"
     ]
    }
   ],
   "source": [
    "for idx, row in tqdm(orglev4_df.iterrows()):\n",
    "    \n",
    "    adm2 = geob2.loc[geob2['shapeName'] == row['adm2']].copy()\n",
    "    run_geocoding(idx, row, orglev4_df, adm2, ['orgunitlevel4', 'adm2'], 'bd')"
   ]
  },
  {
   "cell_type": "code",
   "execution_count": 105,
   "metadata": {},
   "outputs": [
    {
     "name": "stderr",
     "output_type": "stream",
     "text": [
      "399it [00:00, 749.65it/s]\n"
     ]
    }
   ],
   "source": [
    "for idx, row in tqdm(records_subset.iterrows()):\n",
    "    \n",
    "    orglev4_geocoded = orglev4_df.loc[orglev4_df['orgunitlevel4']==row['orgunitlevel4']].iloc[0]    \n",
    "    records.loc[idx, \"longitude\"] = orglev4_geocoded.longitude\n",
    "    records.loc[idx, \"latitude\"] = orglev4_geocoded.latitude\n",
    "    records.loc[idx, \"geocoding_method\"] = orglev4_geocoded.geocoding_method"
   ]
  },
  {
   "cell_type": "code",
   "execution_count": 106,
   "metadata": {},
   "outputs": [
    {
     "data": {
      "text/html": [
       "<style type=\"text/css\">\n",
       "</style>\n",
       "<table id=\"T_cacd1_\">\n",
       "  <thead>\n",
       "    <tr>\n",
       "      <th class=\"blank level0\" >&nbsp;</th>\n",
       "      <th class=\"col_heading level0 col0\" >count</th>\n",
       "      <th class=\"col_heading level0 col1\" >pct</th>\n",
       "    </tr>\n",
       "    <tr>\n",
       "      <th class=\"index_name level0\" >geocoding_method</th>\n",
       "      <th class=\"blank col0\" >&nbsp;</th>\n",
       "      <th class=\"blank col1\" >&nbsp;</th>\n",
       "    </tr>\n",
       "  </thead>\n",
       "  <tbody>\n",
       "    <tr>\n",
       "      <th id=\"T_cacd1_level0_row0\" class=\"row_heading level0 row0\" >District centroid</th>\n",
       "      <td id=\"T_cacd1_row0_col0\" class=\"data row0 col0\" >83</td>\n",
       "      <td id=\"T_cacd1_row0_col1\" class=\"data row0 col1\" >0.6%</td>\n",
       "    </tr>\n",
       "    <tr>\n",
       "      <th id=\"T_cacd1_level0_row1\" class=\"row_heading level0 row1\" >Location from Health Sites IO and within admin 1</th>\n",
       "      <td id=\"T_cacd1_row1_col0\" class=\"data row1 col0\" >207</td>\n",
       "      <td id=\"T_cacd1_row1_col1\" class=\"data row1 col1\" >1.5%</td>\n",
       "    </tr>\n",
       "    <tr>\n",
       "      <th id=\"T_cacd1_level0_row2\" class=\"row_heading level0 row2\" >Location from Health Sites IO and within admin 2</th>\n",
       "      <td id=\"T_cacd1_row2_col0\" class=\"data row2 col0\" >7</td>\n",
       "      <td id=\"T_cacd1_row2_col1\" class=\"data row2 col1\" >0.1%</td>\n",
       "    </tr>\n",
       "    <tr>\n",
       "      <th id=\"T_cacd1_level0_row3\" class=\"row_heading level0 row3\" >NAME and adm1 query Bing</th>\n",
       "      <td id=\"T_cacd1_row3_col0\" class=\"data row3 col0\" >2</td>\n",
       "      <td id=\"T_cacd1_row3_col1\" class=\"data row3 col1\" >0.0%</td>\n",
       "    </tr>\n",
       "    <tr>\n",
       "      <th id=\"T_cacd1_level0_row4\" class=\"row_heading level0 row4\" >NAME and adm1 query Google</th>\n",
       "      <td id=\"T_cacd1_row4_col0\" class=\"data row4 col0\" >3</td>\n",
       "      <td id=\"T_cacd1_row4_col1\" class=\"data row4 col1\" >0.0%</td>\n",
       "    </tr>\n",
       "    <tr>\n",
       "      <th id=\"T_cacd1_level0_row5\" class=\"row_heading level0 row5\" >NAME and adm2 query Bing</th>\n",
       "      <td id=\"T_cacd1_row5_col0\" class=\"data row5 col0\" >81</td>\n",
       "      <td id=\"T_cacd1_row5_col1\" class=\"data row5 col1\" >0.6%</td>\n",
       "    </tr>\n",
       "    <tr>\n",
       "      <th id=\"T_cacd1_level0_row6\" class=\"row_heading level0 row6\" >NAME and adm2 query Google</th>\n",
       "      <td id=\"T_cacd1_row6_col0\" class=\"data row6 col0\" >66</td>\n",
       "      <td id=\"T_cacd1_row6_col1\" class=\"data row6 col1\" >0.5%</td>\n",
       "    </tr>\n",
       "    <tr>\n",
       "      <th id=\"T_cacd1_level0_row7\" class=\"row_heading level0 row7\" >NAME and adm2 query OSM</th>\n",
       "      <td id=\"T_cacd1_row7_col0\" class=\"data row7 col0\" >4</td>\n",
       "      <td id=\"T_cacd1_row7_col1\" class=\"data row7 col1\" >0.0%</td>\n",
       "    </tr>\n",
       "    <tr>\n",
       "      <th id=\"T_cacd1_level0_row8\" class=\"row_heading level0 row8\" >NAME and adm3 query Bing</th>\n",
       "      <td id=\"T_cacd1_row8_col0\" class=\"data row8 col0\" >6797</td>\n",
       "      <td id=\"T_cacd1_row8_col1\" class=\"data row8 col1\" >49.2%</td>\n",
       "    </tr>\n",
       "    <tr>\n",
       "      <th id=\"T_cacd1_level0_row9\" class=\"row_heading level0 row9\" >NAME and adm3 query Google</th>\n",
       "      <td id=\"T_cacd1_row9_col0\" class=\"data row9 col0\" >5288</td>\n",
       "      <td id=\"T_cacd1_row9_col1\" class=\"data row9 col1\" >38.3%</td>\n",
       "    </tr>\n",
       "    <tr>\n",
       "      <th id=\"T_cacd1_level0_row10\" class=\"row_heading level0 row10\" >NAME and adm3 query OSM</th>\n",
       "      <td id=\"T_cacd1_row10_col0\" class=\"data row10 col0\" >335</td>\n",
       "      <td id=\"T_cacd1_row10_col1\" class=\"data row10 col1\" >2.4%</td>\n",
       "    </tr>\n",
       "    <tr>\n",
       "      <th id=\"T_cacd1_level0_row11\" class=\"row_heading level0 row11\" >NAME5 and adm3 query Bing</th>\n",
       "      <td id=\"T_cacd1_row11_col0\" class=\"data row11 col0\" >31</td>\n",
       "      <td id=\"T_cacd1_row11_col1\" class=\"data row11 col1\" >0.2%</td>\n",
       "    </tr>\n",
       "    <tr>\n",
       "      <th id=\"T_cacd1_level0_row12\" class=\"row_heading level0 row12\" >NAME5 and adm3 query Google</th>\n",
       "      <td id=\"T_cacd1_row12_col0\" class=\"data row12 col0\" >234</td>\n",
       "      <td id=\"T_cacd1_row12_col1\" class=\"data row12 col1\" >1.7%</td>\n",
       "    </tr>\n",
       "    <tr>\n",
       "      <th id=\"T_cacd1_level0_row13\" class=\"row_heading level0 row13\" >NAME5 and adm3 query OSM</th>\n",
       "      <td id=\"T_cacd1_row13_col0\" class=\"data row13 col0\" >92</td>\n",
       "      <td id=\"T_cacd1_row13_col1\" class=\"data row13 col1\" >0.7%</td>\n",
       "    </tr>\n",
       "    <tr>\n",
       "      <th id=\"T_cacd1_level0_row14\" class=\"row_heading level0 row14\" >None</th>\n",
       "      <td id=\"T_cacd1_row14_col0\" class=\"data row14 col0\" >96</td>\n",
       "      <td id=\"T_cacd1_row14_col1\" class=\"data row14 col1\" >0.7%</td>\n",
       "    </tr>\n",
       "    <tr>\n",
       "      <th id=\"T_cacd1_level0_row15\" class=\"row_heading level0 row15\" >orgunitlevel4 and adm2 query Bing</th>\n",
       "      <td id=\"T_cacd1_row15_col0\" class=\"data row15 col0\" >160</td>\n",
       "      <td id=\"T_cacd1_row15_col1\" class=\"data row15 col1\" >1.2%</td>\n",
       "    </tr>\n",
       "    <tr>\n",
       "      <th id=\"T_cacd1_level0_row16\" class=\"row_heading level0 row16\" >orgunitlevel4 and adm2 query Google</th>\n",
       "      <td id=\"T_cacd1_row16_col0\" class=\"data row16 col0\" >46</td>\n",
       "      <td id=\"T_cacd1_row16_col1\" class=\"data row16 col1\" >0.3%</td>\n",
       "    </tr>\n",
       "    <tr>\n",
       "      <th id=\"T_cacd1_level0_row17\" class=\"row_heading level0 row17\" >orgunitlevel4 and adm2 query OSM</th>\n",
       "      <td id=\"T_cacd1_row17_col0\" class=\"data row17 col0\" >193</td>\n",
       "      <td id=\"T_cacd1_row17_col1\" class=\"data row17 col1\" >1.4%</td>\n",
       "    </tr>\n",
       "    <tr>\n",
       "      <th id=\"T_cacd1_level0_row18\" class=\"row_heading level0 row18\" >orgunitlevel4 query Google</th>\n",
       "      <td id=\"T_cacd1_row18_col0\" class=\"data row18 col0\" >78</td>\n",
       "      <td id=\"T_cacd1_row18_col1\" class=\"data row18 col1\" >0.6%</td>\n",
       "    </tr>\n",
       "    <tr>\n",
       "      <th id=\"T_cacd1_level0_row19\" class=\"row_heading level0 row19\" >orgunitlevel4 query OSM</th>\n",
       "      <td id=\"T_cacd1_row19_col0\" class=\"data row19 col0\" >9</td>\n",
       "      <td id=\"T_cacd1_row19_col1\" class=\"data row19 col1\" >0.1%</td>\n",
       "    </tr>\n",
       "  </tbody>\n",
       "</table>\n"
      ],
      "text/plain": [
       "<pandas.io.formats.style.Styler at 0x7f192d527f10>"
      ]
     },
     "execution_count": 106,
     "metadata": {},
     "output_type": "execute_result"
    }
   ],
   "source": [
    "report_geocoding(records)"
   ]
  },
  {
   "cell_type": "code",
   "execution_count": 107,
   "metadata": {},
   "outputs": [],
   "source": [
    "records_subset = records.loc[records.geocoding_method==\"None\"].copy()\n",
    "records_subset = records_subset.loc[~records_subset.adm1.isna()].copy()"
   ]
  },
  {
   "cell_type": "code",
   "execution_count": 108,
   "metadata": {},
   "outputs": [
    {
     "data": {
      "text/plain": [
       "96"
      ]
     },
     "execution_count": 108,
     "metadata": {},
     "output_type": "execute_result"
    }
   ],
   "source": [
    "len(records_subset)"
   ]
  },
  {
   "cell_type": "markdown",
   "metadata": {},
   "source": [
    "## Admin 3  and admin 1 names"
   ]
  },
  {
   "cell_type": "code",
   "execution_count": 109,
   "metadata": {},
   "outputs": [],
   "source": [
    "orglev4_df = records_subset[['orgunitlevel4', 'orgunitlevel4_edit', 'adm1', 'orgunitlevel1']].drop_duplicates().copy()"
   ]
  },
  {
   "cell_type": "code",
   "execution_count": 110,
   "metadata": {},
   "outputs": [
    {
     "name": "stderr",
     "output_type": "stream",
     "text": [
      "2it [00:00,  2.14it/s]\n"
     ]
    }
   ],
   "source": [
    "for idx, row in tqdm(orglev4_df.iterrows()):\n",
    "    \n",
    "    adm1 = geob1.loc[geob1['shapeName'] == row['adm1']].copy()\n",
    "    run_geocoding(idx, row, orglev4_df, adm1, ['orgunitlevel4', 'adm1'], 'bd')"
   ]
  },
  {
   "cell_type": "code",
   "execution_count": 111,
   "metadata": {},
   "outputs": [
    {
     "name": "stderr",
     "output_type": "stream",
     "text": [
      "96it [00:00, 746.91it/s]\n"
     ]
    }
   ],
   "source": [
    "for idx, row in tqdm(records_subset.iterrows()):\n",
    "    \n",
    "    orglev4_geocoded = orglev4_df.loc[orglev4_df['orgunitlevel4']==row['orgunitlevel4']].iloc[0]    \n",
    "    records.loc[idx, \"longitude\"] = orglev4_geocoded.longitude\n",
    "    records.loc[idx, \"latitude\"] = orglev4_geocoded.latitude\n",
    "    records.loc[idx, \"geocoding_method\"] = orglev4_geocoded.geocoding_method"
   ]
  },
  {
   "cell_type": "code",
   "execution_count": 112,
   "metadata": {},
   "outputs": [
    {
     "data": {
      "text/html": [
       "<style type=\"text/css\">\n",
       "</style>\n",
       "<table id=\"T_6438f_\">\n",
       "  <thead>\n",
       "    <tr>\n",
       "      <th class=\"blank level0\" >&nbsp;</th>\n",
       "      <th class=\"col_heading level0 col0\" >count</th>\n",
       "      <th class=\"col_heading level0 col1\" >pct</th>\n",
       "    </tr>\n",
       "    <tr>\n",
       "      <th class=\"index_name level0\" >geocoding_method</th>\n",
       "      <th class=\"blank col0\" >&nbsp;</th>\n",
       "      <th class=\"blank col1\" >&nbsp;</th>\n",
       "    </tr>\n",
       "  </thead>\n",
       "  <tbody>\n",
       "    <tr>\n",
       "      <th id=\"T_6438f_level0_row0\" class=\"row_heading level0 row0\" >District centroid</th>\n",
       "      <td id=\"T_6438f_row0_col0\" class=\"data row0 col0\" >83</td>\n",
       "      <td id=\"T_6438f_row0_col1\" class=\"data row0 col1\" >0.6%</td>\n",
       "    </tr>\n",
       "    <tr>\n",
       "      <th id=\"T_6438f_level0_row1\" class=\"row_heading level0 row1\" >Location from Health Sites IO and within admin 1</th>\n",
       "      <td id=\"T_6438f_row1_col0\" class=\"data row1 col0\" >207</td>\n",
       "      <td id=\"T_6438f_row1_col1\" class=\"data row1 col1\" >1.5%</td>\n",
       "    </tr>\n",
       "    <tr>\n",
       "      <th id=\"T_6438f_level0_row2\" class=\"row_heading level0 row2\" >Location from Health Sites IO and within admin 2</th>\n",
       "      <td id=\"T_6438f_row2_col0\" class=\"data row2 col0\" >7</td>\n",
       "      <td id=\"T_6438f_row2_col1\" class=\"data row2 col1\" >0.1%</td>\n",
       "    </tr>\n",
       "    <tr>\n",
       "      <th id=\"T_6438f_level0_row3\" class=\"row_heading level0 row3\" >NAME and adm1 query Bing</th>\n",
       "      <td id=\"T_6438f_row3_col0\" class=\"data row3 col0\" >2</td>\n",
       "      <td id=\"T_6438f_row3_col1\" class=\"data row3 col1\" >0.0%</td>\n",
       "    </tr>\n",
       "    <tr>\n",
       "      <th id=\"T_6438f_level0_row4\" class=\"row_heading level0 row4\" >NAME and adm1 query Google</th>\n",
       "      <td id=\"T_6438f_row4_col0\" class=\"data row4 col0\" >3</td>\n",
       "      <td id=\"T_6438f_row4_col1\" class=\"data row4 col1\" >0.0%</td>\n",
       "    </tr>\n",
       "    <tr>\n",
       "      <th id=\"T_6438f_level0_row5\" class=\"row_heading level0 row5\" >NAME and adm2 query Bing</th>\n",
       "      <td id=\"T_6438f_row5_col0\" class=\"data row5 col0\" >81</td>\n",
       "      <td id=\"T_6438f_row5_col1\" class=\"data row5 col1\" >0.6%</td>\n",
       "    </tr>\n",
       "    <tr>\n",
       "      <th id=\"T_6438f_level0_row6\" class=\"row_heading level0 row6\" >NAME and adm2 query Google</th>\n",
       "      <td id=\"T_6438f_row6_col0\" class=\"data row6 col0\" >66</td>\n",
       "      <td id=\"T_6438f_row6_col1\" class=\"data row6 col1\" >0.5%</td>\n",
       "    </tr>\n",
       "    <tr>\n",
       "      <th id=\"T_6438f_level0_row7\" class=\"row_heading level0 row7\" >NAME and adm2 query OSM</th>\n",
       "      <td id=\"T_6438f_row7_col0\" class=\"data row7 col0\" >4</td>\n",
       "      <td id=\"T_6438f_row7_col1\" class=\"data row7 col1\" >0.0%</td>\n",
       "    </tr>\n",
       "    <tr>\n",
       "      <th id=\"T_6438f_level0_row8\" class=\"row_heading level0 row8\" >NAME and adm3 query Bing</th>\n",
       "      <td id=\"T_6438f_row8_col0\" class=\"data row8 col0\" >6797</td>\n",
       "      <td id=\"T_6438f_row8_col1\" class=\"data row8 col1\" >49.2%</td>\n",
       "    </tr>\n",
       "    <tr>\n",
       "      <th id=\"T_6438f_level0_row9\" class=\"row_heading level0 row9\" >NAME and adm3 query Google</th>\n",
       "      <td id=\"T_6438f_row9_col0\" class=\"data row9 col0\" >5288</td>\n",
       "      <td id=\"T_6438f_row9_col1\" class=\"data row9 col1\" >38.3%</td>\n",
       "    </tr>\n",
       "    <tr>\n",
       "      <th id=\"T_6438f_level0_row10\" class=\"row_heading level0 row10\" >NAME and adm3 query OSM</th>\n",
       "      <td id=\"T_6438f_row10_col0\" class=\"data row10 col0\" >335</td>\n",
       "      <td id=\"T_6438f_row10_col1\" class=\"data row10 col1\" >2.4%</td>\n",
       "    </tr>\n",
       "    <tr>\n",
       "      <th id=\"T_6438f_level0_row11\" class=\"row_heading level0 row11\" >NAME5 and adm3 query Bing</th>\n",
       "      <td id=\"T_6438f_row11_col0\" class=\"data row11 col0\" >31</td>\n",
       "      <td id=\"T_6438f_row11_col1\" class=\"data row11 col1\" >0.2%</td>\n",
       "    </tr>\n",
       "    <tr>\n",
       "      <th id=\"T_6438f_level0_row12\" class=\"row_heading level0 row12\" >NAME5 and adm3 query Google</th>\n",
       "      <td id=\"T_6438f_row12_col0\" class=\"data row12 col0\" >234</td>\n",
       "      <td id=\"T_6438f_row12_col1\" class=\"data row12 col1\" >1.7%</td>\n",
       "    </tr>\n",
       "    <tr>\n",
       "      <th id=\"T_6438f_level0_row13\" class=\"row_heading level0 row13\" >NAME5 and adm3 query OSM</th>\n",
       "      <td id=\"T_6438f_row13_col0\" class=\"data row13 col0\" >92</td>\n",
       "      <td id=\"T_6438f_row13_col1\" class=\"data row13 col1\" >0.7%</td>\n",
       "    </tr>\n",
       "    <tr>\n",
       "      <th id=\"T_6438f_level0_row14\" class=\"row_heading level0 row14\" >orgunitlevel4 and adm1 query Bing</th>\n",
       "      <td id=\"T_6438f_row14_col0\" class=\"data row14 col0\" >36</td>\n",
       "      <td id=\"T_6438f_row14_col1\" class=\"data row14 col1\" >0.3%</td>\n",
       "    </tr>\n",
       "    <tr>\n",
       "      <th id=\"T_6438f_level0_row15\" class=\"row_heading level0 row15\" >orgunitlevel4 and adm1 query OSM</th>\n",
       "      <td id=\"T_6438f_row15_col0\" class=\"data row15 col0\" >60</td>\n",
       "      <td id=\"T_6438f_row15_col1\" class=\"data row15 col1\" >0.4%</td>\n",
       "    </tr>\n",
       "    <tr>\n",
       "      <th id=\"T_6438f_level0_row16\" class=\"row_heading level0 row16\" >orgunitlevel4 and adm2 query Bing</th>\n",
       "      <td id=\"T_6438f_row16_col0\" class=\"data row16 col0\" >160</td>\n",
       "      <td id=\"T_6438f_row16_col1\" class=\"data row16 col1\" >1.2%</td>\n",
       "    </tr>\n",
       "    <tr>\n",
       "      <th id=\"T_6438f_level0_row17\" class=\"row_heading level0 row17\" >orgunitlevel4 and adm2 query Google</th>\n",
       "      <td id=\"T_6438f_row17_col0\" class=\"data row17 col0\" >46</td>\n",
       "      <td id=\"T_6438f_row17_col1\" class=\"data row17 col1\" >0.3%</td>\n",
       "    </tr>\n",
       "    <tr>\n",
       "      <th id=\"T_6438f_level0_row18\" class=\"row_heading level0 row18\" >orgunitlevel4 and adm2 query OSM</th>\n",
       "      <td id=\"T_6438f_row18_col0\" class=\"data row18 col0\" >193</td>\n",
       "      <td id=\"T_6438f_row18_col1\" class=\"data row18 col1\" >1.4%</td>\n",
       "    </tr>\n",
       "    <tr>\n",
       "      <th id=\"T_6438f_level0_row19\" class=\"row_heading level0 row19\" >orgunitlevel4 query Google</th>\n",
       "      <td id=\"T_6438f_row19_col0\" class=\"data row19 col0\" >78</td>\n",
       "      <td id=\"T_6438f_row19_col1\" class=\"data row19 col1\" >0.6%</td>\n",
       "    </tr>\n",
       "    <tr>\n",
       "      <th id=\"T_6438f_level0_row20\" class=\"row_heading level0 row20\" >orgunitlevel4 query OSM</th>\n",
       "      <td id=\"T_6438f_row20_col0\" class=\"data row20 col0\" >9</td>\n",
       "      <td id=\"T_6438f_row20_col1\" class=\"data row20 col1\" >0.1%</td>\n",
       "    </tr>\n",
       "  </tbody>\n",
       "</table>\n"
      ],
      "text/plain": [
       "<pandas.io.formats.style.Styler at 0x7f1929865850>"
      ]
     },
     "execution_count": 112,
     "metadata": {},
     "output_type": "execute_result"
    }
   ],
   "source": [
    "report_geocoding(records)"
   ]
  },
  {
   "cell_type": "markdown",
   "metadata": {},
   "source": [
    "# Map and save results"
   ]
  },
  {
   "cell_type": "code",
   "execution_count": 113,
   "metadata": {},
   "outputs": [],
   "source": [
    "results = records.copy()"
   ]
  },
  {
   "cell_type": "code",
   "execution_count": 114,
   "metadata": {},
   "outputs": [
    {
     "data": {
      "text/plain": [
       "array(['NAME and adm3 query Google', 'NAME5 and adm3 query Google',\n",
       "       'Location from Health Sites IO and within admin 2',\n",
       "       'NAME and adm3 query OSM', 'NAME and adm3 query Bing',\n",
       "       'Location from Health Sites IO and within admin 1',\n",
       "       'NAME5 and adm3 query Bing', 'NAME5 and adm3 query OSM',\n",
       "       'orgunitlevel4 and adm2 query OSM', 'NAME and adm2 query Google',\n",
       "       'orgunitlevel4 query OSM', 'NAME and adm2 query Bing',\n",
       "       'NAME and adm1 query Bing', 'NAME and adm2 query OSM',\n",
       "       'District centroid', 'orgunitlevel4 and adm2 query Google',\n",
       "       'orgunitlevel4 and adm2 query Bing', 'NAME and adm1 query Google',\n",
       "       'orgunitlevel4 and adm1 query OSM', 'orgunitlevel4 query Google',\n",
       "       'orgunitlevel4 and adm1 query Bing'], dtype=object)"
      ]
     },
     "execution_count": 114,
     "metadata": {},
     "output_type": "execute_result"
    }
   ],
   "source": [
    "results.geocoding_method.unique()"
   ]
  },
  {
   "cell_type": "code",
   "execution_count": 133,
   "metadata": {},
   "outputs": [],
   "source": [
    "# facility name and adm 3\n",
    "results.loc[results.geocoding_method==\"NAME and adm3 query Bing\", \"geocoding_method\"] = \"orgunitlevel6 and adm3 query\"\n",
    "results.loc[results.geocoding_method==\"NAME and adm3 query OSM\", \"geocoding_method\"] = \"orgunitlevel6 and adm3 query\"\n",
    "results.loc[results.geocoding_method==\"NAME and adm3 query Google\", \"geocoding_method\"] = \"orgunitlevel6 and adm3 query\"\n",
    "\n",
    "# facility name and adm 2\n",
    "results.loc[results.geocoding_method==\"NAME and adm2 query Bing\", \"geocoding_method\"] = \"orgunitlevel6 and adm2 query\"\n",
    "results.loc[results.geocoding_method==\"NAME and adm2 query OSM\", \"geocoding_method\"] = \"orgunitlevel6 and adm2 query\"\n",
    "results.loc[results.geocoding_method==\"NAME and adm2 query Google\", \"geocoding_method\"] = \"orgunitlevel6 and adm2 query\"\n",
    "\n",
    "# facility name and adm 1\n",
    "results.loc[results.geocoding_method==\"NAME and adm1 query Bing\", \"geocoding_method\"] = \"orgunitlevel6 and adm1 query\"\n",
    "results.loc[results.geocoding_method==\"NAME and adm1 query OSM\", \"geocoding_method\"] = \"orgunitlevel6 and adm1 query\"\n",
    "results.loc[results.geocoding_method==\"NAME and adm1 query Google\", \"geocoding_method\"] = \"orgunitlevel6 and adm1 query\"\n",
    "\n",
    "# facility name and adm 3\n",
    "results.loc[results.geocoding_method==\"NAME5 and adm3 query Bing\", \"geocoding_method\"] = \"orgunitlevel5 and adm3 query\"\n",
    "results.loc[results.geocoding_method==\"NAME5 and adm3 query OSM\", \"geocoding_method\"] = \"orgunitlevel5 and adm3 query\"\n",
    "results.loc[results.geocoding_method==\"NAME5 and adm3 query Google\", \"geocoding_method\"] = \"orgunitlevel5 and adm3 query\"\n",
    "\n",
    "# facility name and adm 2\n",
    "results.loc[results.geocoding_method==\"NAME5 and adm2 query Bing\", \"geocoding_method\"] = \"orgunitlevel5 and adm2 query\"\n",
    "results.loc[results.geocoding_method==\"NAME5 and adm2 query OSM\", \"geocoding_method\"] = \"orgunitlevel5 and adm2 query\"\n",
    "results.loc[results.geocoding_method==\"NAME5 and adm2 query Google\", \"geocoding_method\"] = \"orgunitlevel5 and adm2 query\"\n",
    "\n",
    "# facility name and adm 1\n",
    "results.loc[results.geocoding_method==\"NAME5 and adm1 query Bing\", \"geocoding_method\"] = \"orgunitlevel5 and adm1 query\"\n",
    "results.loc[results.geocoding_method==\"NAME5 and adm1 query OSM\", \"geocoding_method\"] = \"orgunitlevel5 and adm1 query\"\n",
    "results.loc[results.geocoding_method==\"NAME5 and adm1 query Google\", \"geocoding_method\"] = \"orgunitlevel5 and adm1 query\"\n",
    "\n",
    "# adm 3 name\n",
    "results.loc[results.geocoding_method==\"orgunitlevel4 query Bing\", \"geocoding_method\"] = \"orgunitlevel4 query\"\n",
    "results.loc[results.geocoding_method==\"orgunitlevel4 query OSM\", \"geocoding_method\"] = \"orgunitlevel4 query\"\n",
    "results.loc[results.geocoding_method==\"orgunitlevel4 query Google\", \"geocoding_method\"] = \"orgunitlevel4 query\"\n",
    "\n",
    "# adm 3 name and adm2\n",
    "results.loc[results.geocoding_method==\"orgunitlevel4 and adm2 query Bing\", \"geocoding_method\"] = \"orgunitlevel4 and adm2 query\"\n",
    "results.loc[results.geocoding_method==\"orgunitlevel4 and adm2 query OSM\", \"geocoding_method\"] = \"orgunitlevel4 and adm2 query\"\n",
    "results.loc[results.geocoding_method==\"orgunitlevel4 and adm2 query Google\", \"geocoding_method\"] = \"orgunitlevel4 and adm2 query\"\n",
    "\n",
    "# adm 3 name and adm2\n",
    "results.loc[results.geocoding_method==\"orgunitlevel4 and adm1 query Bing\", \"geocoding_method\"] = \"orgunitlevel4 and adm1 query\"\n",
    "results.loc[results.geocoding_method==\"orgunitlevel4 and adm1 query OSM\", \"geocoding_method\"] = \"orgunitlevel4 and adm1 query\"\n",
    "results.loc[results.geocoding_method==\"orgunitlevel4 and adm1 query Google\", \"geocoding_method\"] = \"orgunitlevel4 and adm1 query\"\n",
    "\n",
    "# Centroid\n",
    "results.loc[results.geocoding_method==\"District centroid\", \"geocoding_method\"] = \"Adm3 centroid\""
   ]
  },
  {
   "cell_type": "code",
   "execution_count": 134,
   "metadata": {},
   "outputs": [
    {
     "data": {
      "text/html": [
       "<style type=\"text/css\">\n",
       "</style>\n",
       "<table id=\"T_78e48_\">\n",
       "  <thead>\n",
       "    <tr>\n",
       "      <th class=\"blank level0\" >&nbsp;</th>\n",
       "      <th class=\"col_heading level0 col0\" >count</th>\n",
       "      <th class=\"col_heading level0 col1\" >pct</th>\n",
       "    </tr>\n",
       "    <tr>\n",
       "      <th class=\"index_name level0\" >geocoding_method</th>\n",
       "      <th class=\"blank col0\" >&nbsp;</th>\n",
       "      <th class=\"blank col1\" >&nbsp;</th>\n",
       "    </tr>\n",
       "  </thead>\n",
       "  <tbody>\n",
       "    <tr>\n",
       "      <th id=\"T_78e48_level0_row0\" class=\"row_heading level0 row0\" >Adm3 centroid</th>\n",
       "      <td id=\"T_78e48_row0_col0\" class=\"data row0 col0\" >83</td>\n",
       "      <td id=\"T_78e48_row0_col1\" class=\"data row0 col1\" >0.6%</td>\n",
       "    </tr>\n",
       "    <tr>\n",
       "      <th id=\"T_78e48_level0_row1\" class=\"row_heading level0 row1\" >Location from Health Sites IO and within admin 1</th>\n",
       "      <td id=\"T_78e48_row1_col0\" class=\"data row1 col0\" >207</td>\n",
       "      <td id=\"T_78e48_row1_col1\" class=\"data row1 col1\" >1.5%</td>\n",
       "    </tr>\n",
       "    <tr>\n",
       "      <th id=\"T_78e48_level0_row2\" class=\"row_heading level0 row2\" >Location from Health Sites IO and within admin 2</th>\n",
       "      <td id=\"T_78e48_row2_col0\" class=\"data row2 col0\" >7</td>\n",
       "      <td id=\"T_78e48_row2_col1\" class=\"data row2 col1\" >0.1%</td>\n",
       "    </tr>\n",
       "    <tr>\n",
       "      <th id=\"T_78e48_level0_row3\" class=\"row_heading level0 row3\" >orgunitlevel4 and adm1 query</th>\n",
       "      <td id=\"T_78e48_row3_col0\" class=\"data row3 col0\" >96</td>\n",
       "      <td id=\"T_78e48_row3_col1\" class=\"data row3 col1\" >0.7%</td>\n",
       "    </tr>\n",
       "    <tr>\n",
       "      <th id=\"T_78e48_level0_row4\" class=\"row_heading level0 row4\" >orgunitlevel4 and adm2 query</th>\n",
       "      <td id=\"T_78e48_row4_col0\" class=\"data row4 col0\" >399</td>\n",
       "      <td id=\"T_78e48_row4_col1\" class=\"data row4 col1\" >2.9%</td>\n",
       "    </tr>\n",
       "    <tr>\n",
       "      <th id=\"T_78e48_level0_row5\" class=\"row_heading level0 row5\" >orgunitlevel4 query</th>\n",
       "      <td id=\"T_78e48_row5_col0\" class=\"data row5 col0\" >87</td>\n",
       "      <td id=\"T_78e48_row5_col1\" class=\"data row5 col1\" >0.6%</td>\n",
       "    </tr>\n",
       "    <tr>\n",
       "      <th id=\"T_78e48_level0_row6\" class=\"row_heading level0 row6\" >orgunitlevel5 and adm3 query</th>\n",
       "      <td id=\"T_78e48_row6_col0\" class=\"data row6 col0\" >357</td>\n",
       "      <td id=\"T_78e48_row6_col1\" class=\"data row6 col1\" >2.6%</td>\n",
       "    </tr>\n",
       "    <tr>\n",
       "      <th id=\"T_78e48_level0_row7\" class=\"row_heading level0 row7\" >orgunitlevel6 and adm1 query</th>\n",
       "      <td id=\"T_78e48_row7_col0\" class=\"data row7 col0\" >5</td>\n",
       "      <td id=\"T_78e48_row7_col1\" class=\"data row7 col1\" >0.0%</td>\n",
       "    </tr>\n",
       "    <tr>\n",
       "      <th id=\"T_78e48_level0_row8\" class=\"row_heading level0 row8\" >orgunitlevel6 and adm2 query</th>\n",
       "      <td id=\"T_78e48_row8_col0\" class=\"data row8 col0\" >151</td>\n",
       "      <td id=\"T_78e48_row8_col1\" class=\"data row8 col1\" >1.1%</td>\n",
       "    </tr>\n",
       "    <tr>\n",
       "      <th id=\"T_78e48_level0_row9\" class=\"row_heading level0 row9\" >orgunitlevel6 and adm3 query</th>\n",
       "      <td id=\"T_78e48_row9_col0\" class=\"data row9 col0\" >12420</td>\n",
       "      <td id=\"T_78e48_row9_col1\" class=\"data row9 col1\" >89.9%</td>\n",
       "    </tr>\n",
       "  </tbody>\n",
       "</table>\n"
      ],
      "text/plain": [
       "<pandas.io.formats.style.Styler at 0x7f1928553890>"
      ]
     },
     "execution_count": 134,
     "metadata": {},
     "output_type": "execute_result"
    }
   ],
   "source": [
    "report_geocoding(results)"
   ]
  },
  {
   "cell_type": "code",
   "execution_count": 135,
   "metadata": {},
   "outputs": [],
   "source": [
    "results.loc[:, \"geometry\"] = results.apply(lambda x: Point(x.longitude, x.latitude), axis=1)\n",
    "results = gpd.GeoDataFrame(results, geometry='geometry', crs='EPSG:4326')"
   ]
  },
  {
   "cell_type": "code",
   "execution_count": 136,
   "metadata": {},
   "outputs": [
    {
     "data": {
      "image/png": "[encoded data removed]",
      "text/plain": [
       "<Figure size 720x720 with 1 Axes>"
      ]
     },
     "metadata": {
      "needs_background": "light"
     },
     "output_type": "display_data"
    }
   ],
   "source": [
    "fig, ax = plt.subplots(1, 1, figsize=(10,10))\n",
    "geob3.boundary.plot(ax=ax, color='black', linewidth=1).set_axis_off()\n",
    "results.loc[results.geocoding_method!=\"None\"].plot(ax=ax, column='geocoding_method', edgecolor='white', markersize=50, alpha=0.75, legend=True)\n",
    "ctx.add_basemap(ax, source=ctx.providers.Stamen.Terrain, crs='EPSG:4326', zorder=-10)"
   ]
  },
  {
   "cell_type": "markdown",
   "metadata": {},
   "source": [
    "## Join attributes from adminsitrative polygons"
   ]
  },
  {
   "cell_type": "markdown",
   "metadata": {},
   "source": [
    "Join admin data back to results.  \n",
    "For adm3 features, use spatial join to geob3.  "
   ]
  },
  {
   "cell_type": "code",
   "execution_count": 137,
   "metadata": {},
   "outputs": [],
   "source": [
    "results2 = results.loc[~(results.longitude.isna())].copy()"
   ]
  },
  {
   "cell_type": "code",
   "execution_count": 138,
   "metadata": {},
   "outputs": [],
   "source": [
    "records_subset = records.loc[records.geocoding_method==\"None\"].copy()"
   ]
  },
  {
   "cell_type": "code",
   "execution_count": 139,
   "metadata": {},
   "outputs": [
    {
     "data": {
      "text/plain": [
       "0"
      ]
     },
     "execution_count": 139,
     "metadata": {},
     "output_type": "execute_result"
    }
   ],
   "source": [
    "len(records_subset)"
   ]
  },
  {
   "cell_type": "code",
   "execution_count": 140,
   "metadata": {},
   "outputs": [],
   "source": [
    "results2 = gpd.sjoin(results2, geob3[[\"shapeName\", \"shapeID\", \"geometry\"]], how='left', predicate='intersects')\n",
    "results2.drop('index_right', axis=1, inplace=True)"
   ]
  },
  {
   "cell_type": "code",
   "execution_count": 141,
   "metadata": {},
   "outputs": [],
   "source": [
    "results2.rename(\n",
    "    columns={\n",
    "        'shapeName':'geob_adm3',\n",
    "        'shapeID':'geob_adm3_id',\n",
    "    }, inplace=True)"
   ]
  },
  {
   "cell_type": "code",
   "execution_count": 142,
   "metadata": {},
   "outputs": [],
   "source": [
    "results2 = gpd.sjoin(results2, geob2[[\"shapeName\", \"shapeID\", \"geometry\"]], how='left', predicate='intersects')\n",
    "results2.drop('index_right', axis=1, inplace=True)"
   ]
  },
  {
   "cell_type": "code",
   "execution_count": 143,
   "metadata": {},
   "outputs": [],
   "source": [
    "results2.rename(\n",
    "    columns={\n",
    "        'shapeName':'geob_adm2',\n",
    "        'shapeID':'geob_adm2_id',\n",
    "    }, inplace=True)"
   ]
  },
  {
   "cell_type": "code",
   "execution_count": 144,
   "metadata": {},
   "outputs": [],
   "source": [
    "results2 = gpd.sjoin(results2, geob1[[\"shapeName\", \"shapeID\", \"geometry\"]], how='left', predicate='intersects')\n",
    "results2.drop('index_right', axis=1, inplace=True)"
   ]
  },
  {
   "cell_type": "code",
   "execution_count": 145,
   "metadata": {},
   "outputs": [],
   "source": [
    "results2.rename(\n",
    "    columns={\n",
    "        'shapeName':'geob_adm1',\n",
    "        'shapeID':'geob_adm1_id',\n",
    "    }, inplace=True)"
   ]
  },
  {
   "cell_type": "code",
   "execution_count": 146,
   "metadata": {},
   "outputs": [
    {
     "data": {
      "text/plain": [
       "(0, 0, 119)"
      ]
     },
     "execution_count": 146,
     "metadata": {},
     "output_type": "execute_result"
    }
   ],
   "source": [
    "results2.geob_adm3.isna().sum(), results2.geob_adm2.isna().sum(), results2.geob_adm1.isna().sum()"
   ]
  },
  {
   "cell_type": "code",
   "execution_count": 149,
   "metadata": {},
   "outputs": [],
   "source": [
    "results2.rename(\n",
    "    columns={\n",
    "        'adm1':'fuzzy_match_adm1',\n",
    "        'adm2':'fuzzy_match_adm2',\n",
    "        'adm3':'fuzzy_match_adm3'\n",
    "    }, inplace=True)"
   ]
  },
  {
   "cell_type": "code",
   "execution_count": 150,
   "metadata": {},
   "outputs": [],
   "source": [
    "results_final = results2.copy()"
   ]
  },
  {
   "cell_type": "code",
   "execution_count": 151,
   "metadata": {},
   "outputs": [],
   "source": [
    "# results_final = pd.concat([results2, records_subset])\n",
    "# results_final.sort_index(inplace=True)\n",
    "\n",
    "results_final.to_csv(join(output_dir, \"BGD_geocoding_1.24.23.csv\"))\n",
    "results_final.to_file(join(output_dir, \"BGD_geocoding_1.24.23.json\"), driver=\"GeoJSON\")"
   ]
  }
 ],
 "metadata": {
  "kernelspec": {
   "display_name": "GEO",
   "language": "python",
   "name": "geo"
  },
  "language_info": {
   "codemirror_mode": {
    "name": "ipython",
    "version": 3
   },
   "file_extension": ".py",
   "mimetype": "text/x-python",
   "name": "python",
   "nbconvert_exporter": "python",
   "pygments_lexer": "ipython3",
   "version": "3.7.6"
  },
  "toc": {
   "base_numbering": 1,
   "nav_menu": {
    "height": "146px",
    "width": "280px"
   },
   "number_sections": true,
   "sideBar": true,
   "skip_h1_title": false,
   "title_cell": "Geocoding Notebook - Bangladesh",
   "title_sidebar": "Contents",
   "toc_cell": true,
   "toc_position": {
    "height": "calc(100% - 180px)",
    "left": "10px",
    "top": "150px",
    "width": "405px"
   },
   "toc_section_display": true,
   "toc_window_display": true
  }
 },
 "nbformat": 4,
 "nbformat_minor": 2
}
