{
 "cells": [
  {
   "cell_type": "markdown",
   "metadata": {
    "toc": true
   },
   "source": [
    "<h1>Geocoding Notebook - Ghana<span class=\"tocSkip\"></span></h1>\n",
    "<div class=\"toc\"><ul class=\"toc-item\"><li><span><a href=\"#Packages-and-functions\" data-toc-modified-id=\"Packages-and-functions-1\"><span class=\"toc-item-num\">1&nbsp;&nbsp;</span>Packages and functions</a></span></li><li><span><a href=\"#Prepare-and-match-admin-boundary-data\" data-toc-modified-id=\"Prepare-and-match-admin-boundary-data-2\"><span class=\"toc-item-num\">2&nbsp;&nbsp;</span>Prepare and match admin boundary data</a></span><ul class=\"toc-item\"><li><span><a href=\"#Match-health-list-admin-names-to-shapefile-admin-names\" data-toc-modified-id=\"Match-health-list-admin-names-to-shapefile-admin-names-2.1\"><span class=\"toc-item-num\">2.1&nbsp;&nbsp;</span>Match health list admin names to shapefile admin names</a></span><ul class=\"toc-item\"><li><span><a href=\"#Match-orgunitlevel3-to-geoboundaries-Adm-2\" data-toc-modified-id=\"Match-orgunitlevel3-to-geoboundaries-Adm-2-2.1.1\"><span class=\"toc-item-num\">2.1.1&nbsp;&nbsp;</span>Match orgunitlevel3 to geoboundaries Adm 2</a></span></li><li><span><a href=\"#Match-orgunitlevel2-to-geo-Adm-1\" data-toc-modified-id=\"Match-orgunitlevel2-to-geo-Adm-1-2.1.2\"><span class=\"toc-item-num\">2.1.2&nbsp;&nbsp;</span>Match orgunitlevel2 to geo Adm 1</a></span></li></ul></li></ul></li><li><span><a href=\"#Match-to-locations-from-alternative-sources-based-on-facility-name\" data-toc-modified-id=\"Match-to-locations-from-alternative-sources-based-on-facility-name-3\"><span class=\"toc-item-num\">3&nbsp;&nbsp;</span>Match to locations from alternative sources based on facility name</a></span><ul class=\"toc-item\"><li><span><a href=\"#Health-Sites-IO\" data-toc-modified-id=\"Health-Sites-IO-3.1\"><span class=\"toc-item-num\">3.1&nbsp;&nbsp;</span>Health Sites IO</a></span></li><li><span><a href=\"#RHINoVision-Master-Facility-List-Decision-Support-System\" data-toc-modified-id=\"RHINoVision-Master-Facility-List-Decision-Support-System-3.2\"><span class=\"toc-item-num\">3.2&nbsp;&nbsp;</span>RHINoVision Master Facility List Decision Support System</a></span></li></ul></li><li><span><a href=\"#Geocoding-with-APIs\" data-toc-modified-id=\"Geocoding-with-APIs-4\"><span class=\"toc-item-num\">4&nbsp;&nbsp;</span>Geocoding with APIs</a></span><ul class=\"toc-item\"><li><span><a href=\"#Facility-name-and-admin-2-names\" data-toc-modified-id=\"Facility-name-and-admin-2-names-4.1\"><span class=\"toc-item-num\">4.1&nbsp;&nbsp;</span>Facility name and admin 2 names</a></span></li><li><span><a href=\"#Facility-name-and-admin-1-names\" data-toc-modified-id=\"Facility-name-and-admin-1-names-4.2\"><span class=\"toc-item-num\">4.2&nbsp;&nbsp;</span>Facility name and admin 1 names</a></span></li><li><span><a href=\"#Admin-2-names\" data-toc-modified-id=\"Admin-2-names-4.3\"><span class=\"toc-item-num\">4.3&nbsp;&nbsp;</span>Admin 2 names</a></span></li><li><span><a href=\"#Admin-2--and-admin-1-names\" data-toc-modified-id=\"Admin-2--and-admin-1-names-4.4\"><span class=\"toc-item-num\">4.4&nbsp;&nbsp;</span>Admin 2  and admin 1 names</a></span></li></ul></li><li><span><a href=\"#Map-and-save-results\" data-toc-modified-id=\"Map-and-save-results-5\"><span class=\"toc-item-num\">5&nbsp;&nbsp;</span>Map and save results</a></span><ul class=\"toc-item\"><li><span><a href=\"#Join-attributes-from-administrative-polygons\" data-toc-modified-id=\"Join-attributes-from-administrative-polygons-5.1\"><span class=\"toc-item-num\">5.1&nbsp;&nbsp;</span>Join attributes from administrative polygons</a></span></li></ul></li></ul></div>"
   ]
  },
  {
   "cell_type": "markdown",
   "metadata": {},
   "source": [
    "Version: January 27, 2023\n",
    "\n",
    "This notebook works with health facilities from the HMIS Database and attempts to geolocate them, by joining them to administrative shapefiles, other sources for health POI data, and running queries with geocoding APIs.\n",
    "\n",
    "**Data Sources**\n",
    "- Health facilities (hierarchy list)\n",
    "- Geoboundaries (Adm1 through 2)\n",
    "- Health Sites IO\n",
    "- RHINoVision Master Facility List Decision Support System"
   ]
  },
  {
   "cell_type": "markdown",
   "metadata": {},
   "source": [
    "# Packages and functions"
   ]
  },
  {
   "cell_type": "code",
   "execution_count": 1,
   "metadata": {},
   "outputs": [],
   "source": [
    "import os, sys\n",
    "import geopandas as gpd\n",
    "import pandas as pd\n",
    "from geopy.geocoders import GeoNames, Nominatim, Bing, GoogleV3\n",
    "from shapely.geometry import Point\n",
    "from tqdm import tqdm\n",
    "from thefuzz import fuzz\n",
    "from thefuzz import process\n",
    "import matplotlib.pyplot as plt\n",
    "from string import ascii_uppercase\n",
    "import contextily as ctx\n",
    "from os.path import join\n",
    "from dotenv import load_dotenv, find_dotenv"
   ]
  },
  {
   "cell_type": "code",
   "execution_count": 2,
   "metadata": {
    "code_folding": [
     0,
     16,
     32,
     58,
     74
    ]
   },
   "outputs": [],
   "source": [
    "def remove_words(data_frame, column_name, words_to_remove = ['community', 'clinic', 'centre', 'center', 'hospital', 'health', 'government']):\n",
    "    \"\"\" Remove words from strings in a specified column\n",
    "    \n",
    "    Args:\n",
    "        data_frame: Pandas data frame\n",
    "        column_name: Column name to remove words from\n",
    "        words_to_remove: List of words\n",
    "\n",
    "    Returns:\n",
    "        Removes words in place\n",
    "\n",
    "    \"\"\"\n",
    "    for word in words_to_remove:\n",
    "        data_frame[column_name] = data_frame[column_name].str.replace(word, \"\")\n",
    "    data_frame[column_name] = data_frame[column_name].str.strip()\n",
    "        \n",
    "def report_geocoding(records):\n",
    "    \"\"\" Report value counts and % from geocoding_method column.\n",
    "    \n",
    "    Args:\n",
    "        records: Pandas data frame\n",
    "\n",
    "    Returns:\n",
    "        Table with count stats \n",
    "    \"\"\"\n",
    "    table = records[['NAME', 'geocoding_method']].groupby('geocoding_method').count().rename(columns={'NAME':'count'})\n",
    "    table.loc[:, \"pct\"] = table/(table['count'].sum())\n",
    "    table = table.style.format({\n",
    "        'pct': '{:,.1%}'.format,\n",
    "    })\n",
    "    return(table)\n",
    "\n",
    "def match_name(name, list_names, min_score=0):\n",
    "    \"\"\" Uses fuzzy matching between one string and a list of candidate names.\n",
    "    \n",
    "    Args:\n",
    "        name: string\n",
    "        list_names: list of candidate names to match\n",
    "        min_score: minimum score allowed\n",
    "\n",
    "    Returns:\n",
    "        Returns name with the highest match, and match score\n",
    "        If no match is higher than min score, returns \"\" and -1\n",
    "    \"\"\"\n",
    "    # -1 score incase we don't get any matches\n",
    "    max_score = -1\n",
    "    # Returning empty name for no match as well\n",
    "    max_name = \"\"\n",
    "    # Iterating over all names in the other\n",
    "    for name2 in list_names:\n",
    "        #Finding fuzzy match score\n",
    "        score = fuzz.ratio(name, name2)\n",
    "        # Checking if we are above our threshold and have a better score\n",
    "        if (score > min_score) & (score > max_score):\n",
    "            max_name = name2\n",
    "            max_score = score\n",
    "    return (max_name, max_score)\n",
    "\n",
    "def match_to_closest(row, gdf, column='ADMIN2'):\n",
    "    \"\"\" Spatial join using closest distance algorithm.\n",
    "    \n",
    "    Args:\n",
    "        row: row from geo data frame\n",
    "        gdf: gdf with attributes to join\n",
    "        column: attribute to join\n",
    "\n",
    "    Returns:\n",
    "        Returns specified attribute of closest feature\n",
    "    \"\"\"\n",
    "    distances = [row.geometry.distance(pol) for pol in gdf.geometry]\n",
    "    min_id = np.argmin(distances)\n",
    "    closest = gdf.iloc[min_id]\n",
    "    return closest[column]\n",
    "\n",
    "def run_geocoding(idx, row, master_table, admin_area, components, country_code):\n",
    "    \"\"\"\n",
    "    Geocoding workflow to be applied to each row in a dataset\n",
    "    \n",
    "    Args:\n",
    "        idx: index\n",
    "        row: row with index and names to geocode\n",
    "        master_table: master table to store results\n",
    "        admin_area: gdf of admin area to ensure result falls within\n",
    "        components: list of names of attributes to use in query\n",
    "        country_code: two letter iso code\n",
    "    \n",
    "    Returns:\n",
    "        Stores geocoding results in master_table object\n",
    "    \"\"\"\n",
    "    admin_bounds = admin_area.bounds\n",
    "    bb = [(admin_bounds.iloc[0].miny, admin_bounds.iloc[0].minx), (admin_bounds.iloc[0].maxy, admin_bounds.iloc[0].maxx)]\n",
    "    method = ' and '.join(components)\n",
    "    items = [row[item] for item in components]\n",
    "    query = ', '.join(items)\n",
    "    \n",
    "    geocoding_result = None\n",
    "    geocoding_method = \"None\"\n",
    "    # Try Geocoding with OSM\n",
    "    try:\n",
    "        res = geolocator_osm.geocode(query, country_codes=country_code)\n",
    "        # if within admin\n",
    "        if admin_area.contains(Point(res.longitude,res.latitude)).values[0] == True:\n",
    "            geocoding_result = res\n",
    "            geocoding_method = f\"{method} query OSM\"\n",
    "        else:\n",
    "            raise Exception(\"OSM point not valid or not within polygon\")\n",
    "    except:\n",
    "        # Try Geocoding with Bing Maps\n",
    "        try:\n",
    "            res = geolocator_bing.geocode(query)\n",
    "            # if within admin\n",
    "            if admin_area.contains(Point(res.longitude,res.latitude)).values[0] == True:\n",
    "                geocoding_result = res\n",
    "                geocoding_method = f\"{method} query Bing\"\n",
    "            else:\n",
    "                raise Exception(\"Bing point not valid or not within polygon\")\n",
    "        except:\n",
    "            # Try Geocoding with Google\n",
    "            try:\n",
    "                res = geolocator_google.geocode(query = query, region = country_code, bounds = bb)\n",
    "                if res:\n",
    "                    # if within admin\n",
    "                    if admin_area.contains(Point(res.longitude,res.latitude)).values[0] == True:\n",
    "                        geocoding_result = res\n",
    "                        geocoding_method = f\"{method} query Google\"\n",
    "            except:\n",
    "                raise Exception(\"Google point not valid or not within polygon\")\n",
    "    \n",
    "    master_table.loc[idx, \"geocoding_method\"] = geocoding_method\n",
    "    if geocoding_result:\n",
    "        master_table.loc[idx, \"longitude\"] = res.longitude\n",
    "        master_table.loc[idx, \"latitude\"] = res.latitude"
   ]
  },
  {
   "cell_type": "code",
   "execution_count": 118,
   "metadata": {},
   "outputs": [],
   "source": [
    "iso3 = \"GHA\"\n",
    "country = \"Ghana\"\n",
    "input_dir = \"/home/public/Data/PROJECTS/Health\" \n",
    "output_dir = join(input_dir, \"output\", iso3)\n",
    "# if not os.path.exists(out_folder):\n",
    "#     os.mkdir(out_folder)"
   ]
  },
  {
   "cell_type": "markdown",
   "metadata": {},
   "source": [
    "# Prepare and match admin boundary data "
   ]
  },
  {
   "cell_type": "code",
   "execution_count": 4,
   "metadata": {},
   "outputs": [],
   "source": [
    "# only up to Admin 2 exists for Ghana\n",
    "#geob4 = gpd.read_file(f\"https://github.com/wmgeolab/geoBoundaries/raw/b7dd6a5/releaseData/gbOpen/{iso3}/ADM4/geoBoundaries-{iso3}-ADM4.geojson\")\n",
    "# geob3 = gpd.read_file(f\"https://github.com/wmgeolab/geoBoundaries/raw/b7dd6a5/releaseData/gbOpen/{iso3}/ADM3/geoBoundaries-{iso3}-ADM3.geojson\")\n",
    "geob2 = gpd.read_file(f\"https://github.com/wmgeolab/geoBoundaries/raw/b7dd6a5/releaseData/gbOpen/{iso3}/ADM2/geoBoundaries-{iso3}-ADM2.geojson\")\n",
    "geob1 = gpd.read_file(f\"https://github.com/wmgeolab/geoBoundaries/raw/b7dd6a5/releaseData/gbOpen/{iso3}/ADM1/geoBoundaries-{iso3}-ADM1.geojson\")\n",
    "#fews2 = gpd.read_file(join(input_dir, 'FEWS', 'SLE', 'SL_Admin2_2017.shp'))\n",
    "# hdx2 = gpd.read_file(join(input_dir, 'HDX', 'GHA', 'gha_admbnda_adm2_gss_20210308.shp'))\n",
    "# hdx1 = gpd.read_file(join(input_dir, 'HDX', 'GHA', 'gha_admbnda_adm1_gss_20210308.shp'))"
   ]
  },
  {
   "cell_type": "code",
   "execution_count": 5,
   "metadata": {},
   "outputs": [
    {
     "data": {
      "text/plain": [
       "Text(0.5, 1.0, '16 ADM1 boundaries')"
      ]
     },
     "execution_count": 5,
     "metadata": {},
     "output_type": "execute_result"
    },
    {
     "data": {
      "image/png": "[encoded data removed]",
      "text/plain": [
       "<Figure size 720x720 with 4 Axes>"
      ]
     },
     "metadata": {
      "needs_background": "light"
     },
     "output_type": "display_data"
    }
   ],
   "source": [
    "fig, ax = plt.subplots(2, 2, figsize=(10,10))\n",
    "# geob4.boundary.plot(ax=ax[0, 0], color='black', linewidth=0.5).set_axis_off()\n",
    "# ax[0, 0].set_title(f'{len(geob4)} ADM4 boundaries')\n",
    "# geob3.boundary.plot(ax=ax[0, 1], color='black', linewidth=1).set_axis_off()\n",
    "# ax[0, 1].set_title(f'{len(geob3)} ADM3 boundaries')\n",
    "geob2.boundary.plot(ax=ax[1, 0], color='black').set_axis_off()\n",
    "ax[1, 0].set_title(f'{len(geob2)} ADM2 boundaries')\n",
    "geob1.boundary.plot(ax=ax[1, 1], color='black').set_axis_off()\n",
    "ax[1, 1].set_title(f'{len(geob1)} ADM1 boundaries')\n",
    "# plt.axis('off')"
   ]
  },
  {
   "cell_type": "code",
   "execution_count": 6,
   "metadata": {},
   "outputs": [],
   "source": [
    "master_table = pd.read_csv(os.path.join(input_dir, \"tom_formatted\", \"hierarchy\", \"tom_edited_ghana_collapsed.csv\"), encoding='utf-8')"
   ]
  },
  {
   "cell_type": "code",
   "execution_count": 7,
   "metadata": {},
   "outputs": [
    {
     "data": {
      "text/html": [
       "<div>\n",
       "<style scoped>\n",
       "    .dataframe tbody tr th:only-of-type {\n",
       "        vertical-align: middle;\n",
       "    }\n",
       "\n",
       "    .dataframe tbody tr th {\n",
       "        vertical-align: top;\n",
       "    }\n",
       "\n",
       "    .dataframe thead th {\n",
       "        text-align: right;\n",
       "    }\n",
       "</style>\n",
       "<table border=\"1\" class=\"dataframe\">\n",
       "  <thead>\n",
       "    <tr style=\"text-align: right;\">\n",
       "      <th></th>\n",
       "      <th>orgunitlevel1</th>\n",
       "      <th>orgunitlevel2</th>\n",
       "      <th>orgunitlevel3</th>\n",
       "      <th>orgunitlevel4</th>\n",
       "      <th>orgunitlevel5</th>\n",
       "    </tr>\n",
       "  </thead>\n",
       "  <tbody>\n",
       "    <tr>\n",
       "      <th>0</th>\n",
       "      <td>Eastern</td>\n",
       "      <td>Abuakwa North</td>\n",
       "      <td>Kukurantumi</td>\n",
       "      <td>Esther Twum Maternity Home</td>\n",
       "      <td>Esther Twum Maternity Home</td>\n",
       "    </tr>\n",
       "    <tr>\n",
       "      <th>1</th>\n",
       "      <td>Eastern</td>\n",
       "      <td>Abuakwa North</td>\n",
       "      <td>Kukurantumi</td>\n",
       "      <td>Kukurantumi Apotosu</td>\n",
       "      <td>Kukurantumi Apotosu</td>\n",
       "    </tr>\n",
       "  </tbody>\n",
       "</table>\n",
       "</div>"
      ],
      "text/plain": [
       "  orgunitlevel1  orgunitlevel2 orgunitlevel3               orgunitlevel4  \\\n",
       "0       Eastern  Abuakwa North   Kukurantumi  Esther Twum Maternity Home   \n",
       "1       Eastern  Abuakwa North   Kukurantumi        Kukurantumi Apotosu    \n",
       "\n",
       "                orgunitlevel5  \n",
       "0  Esther Twum Maternity Home  \n",
       "1        Kukurantumi Apotosu   "
      ]
     },
     "execution_count": 7,
     "metadata": {},
     "output_type": "execute_result"
    }
   ],
   "source": [
    "master_table.head(2)"
   ]
  },
  {
   "cell_type": "code",
   "execution_count": 8,
   "metadata": {
    "scrolled": true
   },
   "outputs": [
    {
     "data": {
      "text/plain": [
       "10564"
      ]
     },
     "execution_count": 8,
     "metadata": {},
     "output_type": "execute_result"
    }
   ],
   "source": [
    "len(master_table)"
   ]
  },
  {
   "cell_type": "code",
   "execution_count": 9,
   "metadata": {},
   "outputs": [
    {
     "name": "stdout",
     "output_type": "stream",
     "text": [
      "Unique Level 2: 49\n",
      "Unique Level 3: 482\n",
      "Unique Level 4: 2487\n",
      "Unique Level 5: 9060\n"
     ]
    }
   ],
   "source": [
    "print(f\"Unique Level 2: {len(master_table.orgunitlevel2.unique())}\")\n",
    "print(f\"Unique Level 3: {len(master_table.orgunitlevel3.unique())}\")\n",
    "print(f\"Unique Level 4: {len(master_table.orgunitlevel4.unique())}\")\n",
    "print(f\"Unique Level 5: {len(master_table.orgunitlevel5.unique())}\")"
   ]
  },
  {
   "cell_type": "code",
   "execution_count": 10,
   "metadata": {},
   "outputs": [
    {
     "name": "stdout",
     "output_type": "stream",
     "text": [
      "Unique Geoboundaries Adm 1: 16\n",
      "Unique Geoboundaries Adm 2: 260\n"
     ]
    }
   ],
   "source": [
    "print(f\"Unique Geoboundaries Adm 1: {len(geob1)}\")\n",
    "print(f\"Unique Geoboundaries Adm 2: {len(geob2)}\")\n",
    "#print(f\"Unique Geoboundaries Adm 3: {len(geob3)}\")\n",
    "#print(f\"Unique Geoboundaries Adm 4: {len(geob4)}\")"
   ]
  },
  {
   "cell_type": "markdown",
   "metadata": {},
   "source": [
    "## Match health list admin names to shapefile admin names\n",
    "### Match orgunitlevel3 to geoboundaries Adm 2\n",
    "Try using fuzzy matching  "
   ]
  },
  {
   "cell_type": "code",
   "execution_count": 11,
   "metadata": {},
   "outputs": [],
   "source": [
    "level3_list = list(master_table.orgunitlevel3.unique())\n",
    "level3_list.sort()\n",
    "geob2_list = list(geob2.shapeName)\n",
    "geob2_list.sort()"
   ]
  },
  {
   "cell_type": "markdown",
   "metadata": {},
   "source": [
    "Print names one at a time for both datasets one letter at a time, and manually inspect"
   ]
  },
  {
   "cell_type": "code",
   "execution_count": 12,
   "metadata": {
    "scrolled": true
   },
   "outputs": [
    {
     "name": "stdout",
     "output_type": "stream",
     "text": [
      "Master list level 3\n",
      "\t['Abaam', 'Abamkrom', 'Abenase', 'Abenehease', 'Abetifi', 'Abiriw', 'Ablekuma Central', 'Ablekuma North', 'Ablekuma West', 'Aboabo', 'Abomasarefo', 'Abomosu', 'Abourso', 'Abuakwa North', 'Abuakwa South', 'Abura-Asebu-Kwamankese', 'Aburi', 'Accra Metro', 'Achiase', 'Ada East', 'Ada West', 'Adaklu', 'Adansi Akrofuom', 'Adansi Asokwa', 'Adansi North', 'Adansi South', 'Adawso', 'Adeiso', 'Adentan', 'Adjena Gyakiti', 'Adoagyiri', 'Aduasa', 'Adukrom', 'Adweso', 'Afadjato South', 'Afigya Kwabre North', 'Afigya Kwabre South', 'Afosu', 'Agavenya', 'Agogo (Eastern)', 'Agona East', 'Agona West', 'Agormanya', 'Agortime-Ziope', 'Agyata', 'Ahafo Ano North', 'Ahafo Ano South East', 'Ahafo Ano South West', 'Ahanta West', 'Ahomahomasu', 'Ajumako-Enyan-Essiam', 'Akanteng', 'Akateng', 'Akatsi North', 'Akatsi South', 'Akenkausu', 'Akim Swedru', 'Akoase', 'Akokoaso', 'Akorabo', 'Akosombo', 'Akote', 'Akrofufu', 'Akropong', 'Akropong (Eastern)', 'Akroso', 'Akuse', 'Akwadum', 'Akwamufie Apeguso', 'Akwapim North', 'Akwapim South', 'Akwasiho', 'Akwatia', 'Akyemansa', 'Amanase', 'Amanfrom', 'Amankwa', 'Amansie Central', 'Amansie South', 'Amansie West', 'Amuana Praso', 'Anamase', 'Ankoma', 'Anloga', 'Anum Apapam', 'Anum Boso', 'Anyaboni', 'Anyinam', 'Anyinase', 'Aowin', 'Apedwa', 'Aperade', 'Apinamang', 'Apoli', 'Apradang', 'Asafo (Eastern)', 'Asakraka', 'Asamankese', 'Asante Akim Central', 'Asante Akim North', 'Asante Akim South', 'Asante Mampong', 'Asanyansu', 'Asene', 'Asene Manso Akroso', 'Asesewa', 'Ashaiman', 'Asiakwa', 'Asikasu', 'Asikuma-Odoben-Brakwa', 'Asirebuso', 'Asitey', 'Asokore', 'Asokore Mampong', 'Asokwa', 'Assin Foso', 'Assin North', 'Assin South', 'Asuboa', 'Asuboi', 'Asuboni', 'Asunafo North', 'Asunafo South', 'Asuogyaman', 'Asuokaw', 'Asuom', 'Asuoso', 'Asutifi North', 'Asutifi South', 'Atebubu-Amanten', 'Atimpoku', 'Atiwa East', 'Atiwa West', 'Attiankama Nkwanta', 'Atwima Kwanwoma', 'Atwima Mponua', 'Atwima Nwabiagya', 'Atwima Nwabiagya North', 'Awenare', 'Aweregya', 'Aworasa', 'Awutu Senya', 'Awutu Senya East', 'Ayawaso Central', 'Ayawaso East', 'Ayawaso North', 'Ayawaso West', 'Ayekotse', 'Ayensuano', 'Ayirebi']\n",
      "Geoboundaries adm2\n",
      "\t['Ablekuma Central Municipal', 'Ablekuma North Municipal', 'Ablekuma West Municipal', 'Abuakwa North', 'Abuakwa South', 'Abura-asebu-kwamankese', 'Accra Metropolis', 'Achiase', 'Ada East', 'Ada West', 'Adaklu', 'Adansi Akrofuom', 'Adansi Asokwa', 'Adansi North', 'Adansi South', 'Adenta Municipal', 'Afadzato South', 'Afigya Kwabre North', 'Afigya Kwabre South', 'Agona East', 'Agona West Municipal', 'Agotime Ziope', 'Ahafo Ano North', 'Ahafo Ano South East', 'Ahafo Ano South West', 'Ahanta West Municipal', 'Ajumako-enyan-essiam', 'Akatsi North', 'Akatsi South', 'Akwapem North', 'Akwapem South', 'Akyem Mansa', 'Amansie Central', 'Amansie South', 'Amansie West', 'Anloga', 'Aowin', 'Asante Akim Central Municipal', 'Asante Akim North', 'Asante Akim South', 'Asene Akroso Manso', 'Ashaiman Municipal', 'Asikuma-odoben-brakwa', 'Asokore Mampong Municipal', 'Asokwa  Municipal', 'Assin Fosu', 'Assin North', 'Assin South', 'Asunafo North Municipal', 'Asunafo South', 'Asuogyaman', 'Asutifi North', 'Asutifi South', 'Atebubu Amantin', 'Atiwa East', 'Atiwa West', 'Atwima Kwanwoma', 'Atwima Mponua', 'Atwima Nwabiagya North', 'Atwima Nwabiagya South', 'Awutu Senya', 'Awutu Senya East', 'Ayawaso Central Municipal', 'Ayawaso East Municipal', 'Ayawaso North Municipal', 'Ayawaso West', 'Ayensuano']\n",
      "\n",
      "\n",
      "Master list level 3\n",
      "\t['Badukrom', 'Banda', 'Bawku Municipal', 'Bawku West', 'Begoro North', 'Begoro South', 'Bekwai', 'Bepong', 'Berekum', 'Berekum West', 'Berekuso', 'Bia East', 'Bia West', 'Biakoye', 'Bibiani-Anhwiaso-Bekwai', 'Binduri', 'Birim Central', 'Birim North', 'Birim South', 'Blue Diamond', 'Boadua', 'Bodi', 'Bole', 'Bolgatanga East', 'Bolgatanga Municipal', 'Bongo', 'Bosome Freho', 'Bosomtwe', 'Bosuso', 'Boti', 'Brekumanso', 'Brenase', 'Bruben', 'Builsa North', 'Builsa South', 'Bukunor', 'Bunkpurugu -Nakpanduri', 'Bunso']\n",
      "Geoboundaries adm2\n",
      "\t['Banda', 'Bawku Municipal', 'Bawku West', 'Bekwai Municipal', 'Berekum East Municipal', 'Berekum West', 'Bia East', 'Bia West', 'Biakoye', 'Bibiani-anhwiaso-bekwai Municipal', 'Binduri', 'Birim Central Municipal', 'Birim North', 'Birim South', 'Bodi', 'Bole', 'Bolga  East', 'Bolgatanga Municipal', 'Bongo', 'Bosome Freho', 'Bosomtwe', 'Builsa North', 'Builsa South', 'Bunkpurugu Nakpanduri']\n",
      "\n",
      "\n",
      "Master list level 3\n",
      "\t['Cape Coast', 'Cedikope Island', 'Central Gonja', 'Central Tongu', 'Chereponi', 'Coaltar']\n",
      "Geoboundaries adm2\n",
      "\t['Cape Coast Metropolitan', 'Central Gonja', 'Central Tongu', 'Chereponi']\n",
      "\n",
      "\n",
      "Master list level 3\n",
      "\t['Daffiama-Bussie-Issa', 'Danteng', 'Dedeso', 'Denkyembour', 'Densuano', 'Digya Island', 'Dim Sakabo', 'Djankrom', 'Dobro', 'Donkorkrom Central', 'Donkorkrom North', 'Donkorkrom South', 'Dorkrochiwa', 'Dormaa East', 'Dormaa Municipal', 'Dormaa West', 'Dwarf Island', 'Dwenase', 'Dzamam']\n",
      "Geoboundaries adm2\n",
      "\t['Daffiama Bussie Issa', 'Denkyembour', 'Dormaa East', 'Dormaa Municipal', 'Dormaa West']\n",
      "\n",
      "\n",
      "Master list level 3\n",
      "\t['East Gonja', 'East Mamprusi', 'Effia-Kwesimintsim', 'Effiduase (Eastern)', 'Efutu', 'Ehiamankyene', 'Ejisu', 'Ejura-Sekyedumase', 'Ekorso', 'Ekoso Quashie', 'Ekumfi', 'Ekye', 'Ellembelle', 'Enyiresi', 'Eshiem']\n",
      "Geoboundaries adm2\n",
      "\t['East Gonja Municipal', 'East Mamprusi', 'Effia Kwesimintsim Municipal', 'Effutu Municipal', 'Ejisu Municipal', 'Ejura-sekyedumase', 'Ekumfi', 'Ellembelle']\n",
      "\n",
      "\n",
      "Master list level 3\n",
      "\t['Faaso Battor', 'Fanteakwa North', 'Fanteakwa South', 'Forifori', 'Fotobi']\n",
      "Geoboundaries adm2\n",
      "\t['Fanteakwa North', 'Fanteakwa South']\n",
      "\n",
      "\n",
      "Master list level 3\n",
      "\t['GCD', 'Ga Central', 'Ga East', 'Ga North', 'Ga South', 'Ga West', 'Garu', 'Gomoa Central', 'Gomoa East', 'Gomoa West', 'Gushiegu']\n",
      "Geoboundaries adm2\n",
      "\t['Ga Central Municipal', 'Ga East', 'Ga North Municipal', 'Ga South Municipal', 'Ga West Municipal', 'Garu', 'Gomoa Central', 'Gomoa East', 'Gomoa West', 'Gushegu']\n",
      "\n",
      "\n",
      "Master list level 3\n",
      "\t['Ho', 'Ho West', 'Hohoe', 'Hweehwee']\n",
      "Geoboundaries adm2\n",
      "\t['Ho Municipal', 'Ho West', 'Hohoe Municipal']\n",
      "\n",
      "\n",
      "\n",
      "\n",
      "Master list level 3\n",
      "\t['Jamaica', 'Jaman North', 'Jaman South', 'Jasikan', 'Jejeti', 'Jirapa', 'Jomoro', 'Juaben', 'Juaboso', 'Jumapo']\n",
      "Geoboundaries adm2\n",
      "\t['Jaman North', 'Jaman South Municipal', 'Jasikan', 'Jirapa', 'Jomoro', 'Juaben Municipal', 'Juaboso']\n",
      "\n",
      "\n",
      "Master list level 3\n",
      "\t['Kade', 'Kadewaso', 'Kadjebi', 'Karaga', 'Kasena-Nankana', 'Kasena-Nankana West', 'Keta', 'Ketu North', 'Ketu South', 'Kibi', 'Kintampo North', 'Kintampo South', 'Kofi Pare', 'Koforidua 1', 'Koforidua 2', 'Komenda-Edna-Eguafo-Abirem', 'Korle-Klottey', 'Kotoso', 'Kpandai', 'Kpando', 'Kpone-Katamanso', 'Kpong', 'Krachi East', 'Krachi Nchumuru', 'Krachi West', 'Krowor', 'Kuano', 'Kukua', 'Kukurantumi', 'Kumasi', 'Kumbungu', 'Kwabeng', 'Kwabre East', 'Kwadaso', 'Kwaebibirem', 'Kwahu Afram Plains North', 'Kwahu Afram Plains South', 'Kwahu Amanfrom', 'Kwahu East', 'Kwahu Praso', 'Kwahu South', 'Kwahu Tafo', 'Kwahu West', 'Kwakyekrom', 'Kwasi Fante']\n",
      "Geoboundaries adm2\n",
      "\t['Kadjebi', 'Karaga', 'Kasena Nankana East', 'Kasena Nankana West', 'Keta Municipal', 'Ketu North', 'Ketu South', 'Kintampo North Municipal', 'Kintampo South', 'Komenda-edina-eguafo-abirem Municipal', 'Korle Klottey Municipal', 'Kpandai', 'Kpando Municipal', 'Kpone Katamanso', 'Krachi East Municipal', 'Krachi Nchumuru', 'Krachi West', 'Krowor Municipal', 'Kumasi Metropolitan', 'Kumbungu', 'Kwabre East', 'Kwadaso Municipal', 'Kwaebibirem', 'Kwahu Afram Plains North', 'Kwahu Afram Plains South', 'Kwahu East', 'Kwahu South', 'Kwahu West']\n",
      "\n",
      "\n",
      "Master list level 3\n",
      "\t['La-Dade-Kotopon', 'La-Nkwantanang-Madina', 'Lambussie', 'Larteh', 'Lawra', 'Ledzokuku', 'Lower Manya-Krobo']\n",
      "Geoboundaries adm2\n",
      "\t['La Dade-kotopon', 'La-nkwantanang-madina', 'Lambussie-karni', 'Lawra', 'Ledzokuku Municipal', 'Lower Manya']\n",
      "\n",
      "\n",
      "Master list level 3\n",
      "\t['Maase', 'Mame Krobo', 'Mampong (Akwapim)', 'Mamprugu-Moagduri', 'Mangoase', 'Manso (Eastern)', 'Marfo', 'Medical VIllage', 'Memchemfre', 'Mepom', 'Mfantsiman', 'Mion', 'Mpohor', 'Mpraeso']\n",
      "Geoboundaries adm2\n",
      "\t['Mampong Municipal', 'Mamprugu Moagduri', 'Mfantseman Municipal', 'Mion', 'Mpohor']\n",
      "\n",
      "\n",
      "Master list level 3\n",
      "\t['Nabdam', 'Nadowli-Kaleo', 'Nandom', 'Nankese', 'Nanton', 'Nanumba North', 'Nanumba South', 'New Abirem', 'New Jejeti', 'New Juaben North', 'New Juaben South', 'Ningo Prampram', 'Nkankama', 'Nkawkaw Amanfrom', 'Nkawkaw Central', 'Nkawkaw North', 'Nkawkaw South', 'Nkoranza North', 'Nkoranza South', 'Nkurakan', 'Nkwanta North', 'Nkwanta South', 'Nkwateng', 'Nkwatia', 'Nkyenenkyene', 'North Dayi', 'North Gonja', 'North Tongu', 'North-East Gonja', 'Nsawam', 'Nsawam-Adoagyiri', 'Nsutapong', 'Ntonaboma', 'Nyanoa', 'Nzema East']\n",
      "Geoboundaries adm2\n",
      "\t['Nabdam', 'Nadowli-kaleo', 'Nandom', 'Nanton', 'Nanumba North', 'Nanumba South', 'New Juaben North Municipal', 'New Juaben South Municipal', 'Ningo/prampram', 'Nkoranza North', 'Nkoranza South', 'Nkwanta North', 'Nkwanta South Municipal', 'North Dayi', 'North East Gonja', 'North Gonja', 'North Tongu', 'Nsawam Adoagyiri', 'Nzema East']\n",
      "\n",
      "\n",
      "Master list level 3\n",
      "\t['Oborpa', 'Obotwere', 'Obretema', 'Obuasi', 'Obuasi East', 'Oda New Town', 'Oda Nkwanta', 'Odumase (Eastern)', 'Odumkyere Darmang', 'Offinso', 'Offinso North', 'Ofoase (Eastern)', 'Oforikrom', 'Oframase', 'Okai Koi North', 'Okere', 'Okrakwadjo', 'Okumaning', 'Okurase', 'Old Estate', 'Old Tafo', 'Old Town', 'Osenase', 'Osiem', 'Osino', 'Osoroase', 'Otrokper', 'Otumi', 'Otwereso', 'Oyoko']\n",
      "Geoboundaries adm2\n",
      "\t['Obuasi East', 'Obuasi Municipal', 'Offinso Municipal', 'Offinso North', 'Oforikrom Municipal', 'Okaikwei North Municipal', 'Okere', 'Old Tafo Municipal']\n",
      "\n",
      "\n",
      "Master list level 3\n",
      "\t['Pabi', 'Pakro', 'Panpanso', 'Pepease', 'Pokrom', 'Pramkese', 'Prestea-Huni Valley', 'Pru', 'Pru West', 'Pusiga']\n",
      "Geoboundaries adm2\n",
      "\t['Prestea/huni Valley', 'Pru East', 'Pru West', 'Pusiga']\n",
      "\n",
      "\n",
      "\n",
      "\n",
      "\n",
      "\n",
      "Master list level 3\n",
      "\t['Saboba', 'Sabong Zongo', 'Sagnarigu', 'Samanhyia', 'Savelugu', 'Sawla-Tuna-Kalba', 'Sefwi-Akontombra', 'Sefwi-Wiawso', 'Sekesua', 'Sekondi-Takoradi', 'Sekyere', 'Sekyere Afram Plains', 'Sekyere Central', 'Sekyere East', 'Sekyere Kumawu', 'Sekyere South', 'Sempoa', 'Senchi', 'Sene East', 'Sene West', 'Shai-Osudoku', 'Shama', 'Sisiamang', 'Sissala East', 'Sissala West', 'Somanya East', 'Somanya West', 'South Dayi', 'South Tongu', 'Sra', 'Suaman', 'Suame', 'Subi', 'Suhum', 'Sunyani Municipal', 'Sunyani West', 'Supresu']\n",
      "Geoboundaries adm2\n",
      "\t['Saboba', 'Sagnerigu', 'Savelugu', 'Sawla-tuna-kalba', 'Sefwi Akontombra', 'Sefwi-wiawso', 'Sekondi Takoradi Metropolis', 'Sekyere Afram Plains North', 'Sekyere Central', 'Sekyere East', 'Sekyere Kumawu', 'Sekyere South', 'Sene East', 'Sene West', 'Shai Osudoku', 'Shama', 'Sissala East', 'Sissala West', 'South Dayi', 'South Tongu', 'Suaman', 'Suame Municipal', 'Suhum Municipal', 'Sunyani Municipal', 'Sunyani West']\n",
      "\n",
      "\n",
      "Master list level 3\n",
      "\t['Tafo', 'Tain', 'Takrowase', 'Takyiman', 'Talensi', 'Tamale', 'Tano North', 'Tano South', 'Tarkwa-Nsuaem', 'Tatale-Sangule', 'Teacher Mante', 'Tease', 'Techiman Municipal', 'Techiman North', 'Tema', 'Tema West', 'Tempane', 'Tinkong', 'Tolon', 'Topremang', 'Tsetsekpo', 'Tweapease (Eastern)', 'Twifo-Ati-Mokwa', 'Twifo-Hemang Lower Denkyira']\n",
      "Geoboundaries adm2\n",
      "\t['Tain', 'Talensi', 'Tamale Metropolitan', 'Tano North Municipal', 'Tano South Municipal', 'Tarkwa Nsuaem', 'Tatale Sanguli', 'Techiman Municipal', 'Techiman North', 'Tema Metropolitan', 'Tema West Municipal', 'Tempane', 'Tolon', 'Twifo Atti-morkwa', 'Twifo Hemang Lower Denkyira']\n",
      "\n",
      "\n",
      "Master list level 3\n",
      "\t['Upper Denkyira East', 'Upper Denkyira West', 'Upper Manya-Krobo', 'Upper West Akim']\n",
      "Geoboundaries adm2\n",
      "\t['Upper Denkyira East Municipal', 'Upper Denkyira West', 'Upper Manya', 'Upper West Akim']\n",
      "\n",
      "\n",
      "\n",
      "\n",
      "Master list level 3\n",
      "\t['Wa East', 'Wa Municipal', 'Wa West', 'Wassa Amenfi Central', 'Wassa Amenfi East', 'Wassa Amenfi West', 'Wassa East', 'Wawase', 'Weija-Gbawe', 'Wenchi', 'West Akim', 'West Gonja', 'West Mamprusi']\n",
      "Geoboundaries adm2\n",
      "\t['Wa East', 'Wa Municipal', 'Wa West', 'Wassa Amenfi Central', 'Wassa Amenfi East', 'Wassa Amenfi West', 'Wassa East', 'Weija Gbawe Municipal', 'Wenchi Municipal', 'West Akim', 'West Gonja', 'West Mamprusi Municipal']\n",
      "\n",
      "\n",
      "\n",
      "\n",
      "Master list level 3\n",
      "\t['Yendi', 'Yilo-Krobo', 'Yunyoo-Nasuan']\n",
      "Geoboundaries adm2\n",
      "\t['Yendi Municipal', 'Yilo Krobo', 'Yunyoo-nasuan']\n",
      "\n",
      "\n",
      "Master list level 3\n",
      "\t['Zabzugu', 'Zongo']\n",
      "Geoboundaries adm2\n",
      "\t['Zabzugu']\n",
      "\n",
      "\n"
     ]
    }
   ],
   "source": [
    "for letter in ascii_uppercase:\n",
    "    level3_sublist = [name for name in level3_list if name[0]==letter]\n",
    "    geob2_sublist = [name for name in geob2_list if name[0]==letter]\n",
    "\n",
    "    if len(level3_sublist)>0:\n",
    "        print(\"Master list level 3\")\n",
    "        print(\"\\t\"+str(level3_sublist))\n",
    "    if len(geob2_sublist) >0:\n",
    "        print(\"Geoboundaries adm2\")\n",
    "        print(\"\\t\"+str(geob2_sublist))\n",
    "        \n",
    "    print(\"\\n\")"
   ]
  },
  {
   "cell_type": "markdown",
   "metadata": {},
   "source": [
    "Manually adjust spellings of master health list to create more matches."
   ]
  },
  {
   "cell_type": "code",
   "execution_count": 13,
   "metadata": {},
   "outputs": [],
   "source": [
    "master_table.loc[:, \"orgunitlevel3_edit\"] = master_table.orgunitlevel3"
   ]
  },
  {
   "cell_type": "code",
   "execution_count": 14,
   "metadata": {},
   "outputs": [],
   "source": [
    "# # master_table.loc[master_table.orgunitlevel4 == \"Bo City\", \"orgunitlevel4_edit\"] = \"Bo Town\"\n",
    "# master_table.loc[master_table.orgunitlevel4 == \"Central 1 Zone\", \"orgunitlevel4_edit\"] = \"Central I\"\n",
    "# master_table.loc[master_table.orgunitlevel4 == \"Central 2 Zone\", \"orgunitlevel4_edit\"] = \"Central II\"\n",
    "# master_table.loc[master_table.orgunitlevel4 == \"East 1 Zone\", \"orgunitlevel4_edit\"] = \"East I\"\n",
    "# master_table.loc[master_table.orgunitlevel4 == \"East 2 Zone\", \"orgunitlevel4_edit\"] = \"East II\"\n",
    "# master_table.loc[master_table.orgunitlevel4 == \"East 3 Zone\", \"orgunitlevel4_edit\"] = \"East III\"\n",
    "# master_table.loc[master_table.orgunitlevel4 == \"West 1 Zone\", \"orgunitlevel4_edit\"] = \"West I\"\n",
    "# master_table.loc[master_table.orgunitlevel4 == \"West 2 Zone\", \"orgunitlevel4_edit\"] = \"West II\"\n",
    "# master_table.loc[master_table.orgunitlevel4 == \"West 3 Zone\", \"orgunitlevel4_edit\"] = \"West III\"\n",
    "# master_table.loc[master_table.orgunitlevel4 == \"Bagbwe\", \"orgunitlevel4_edit\"] = \"Bagbwe(Bagbe)\""
   ]
  },
  {
   "cell_type": "markdown",
   "metadata": {},
   "source": [
    "Remove key words that confuse matching algorithm"
   ]
  },
  {
   "cell_type": "code",
   "execution_count": 15,
   "metadata": {},
   "outputs": [],
   "source": [
    "remove_words(master_table, \"orgunitlevel3_edit\", ['Town', 'City', 'Urban', 'Zone', 'Municipal'])\n",
    "remove_words(geob2, \"shapeName\", ['Town', 'City', 'Urban', 'Zone', 'Municipal'])"
   ]
  },
  {
   "cell_type": "code",
   "execution_count": 16,
   "metadata": {},
   "outputs": [],
   "source": [
    "# level4_list = list(master_table.orgunitlevel4.unique())\n",
    "level3_list = list(master_table.orgunitlevel3_edit.unique())\n",
    "level3_list.sort()\n",
    "geob2_list = list(geob2.shapeName)\n",
    "geob2_list.sort()"
   ]
  },
  {
   "cell_type": "code",
   "execution_count": 17,
   "metadata": {
    "scrolled": true
   },
   "outputs": [],
   "source": [
    "# List for dicts for easy dataframe creation\n",
    "dict_list = []\n",
    "# iterating over orgunitlevel4_edit list\n",
    "for name in level3_list:\n",
    "    \n",
    "    # Use our method to find best match, we can set a threshold here\n",
    "    match = match_name(name, geob2_list, 30)\n",
    "\n",
    "    # New dict for storing data\n",
    "    dict_ = {}\n",
    "    dict_.update({\"name_level2\" : name})\n",
    "    dict_.update({\"name_geob2\" : match[0]})\n",
    "    dict_.update({\"score\" : match[1]})\n",
    "    dict_list.append(dict_)\n",
    "\n",
    "table_adm2 = pd.DataFrame(dict_list)\n",
    "table_adm2_matches = table_adm2[table_adm2.score >= 80].copy()"
   ]
  },
  {
   "cell_type": "code",
   "execution_count": 18,
   "metadata": {},
   "outputs": [
    {
     "data": {
      "text/plain": [
       "'51.87%'"
      ]
     },
     "execution_count": 18,
     "metadata": {},
     "output_type": "execute_result"
    }
   ],
   "source": [
    "matches_pct = (len(table_adm2_matches) / len(level3_list))\n",
    "'{:.2f}%'.format(matches_pct*100)"
   ]
  },
  {
   "cell_type": "code",
   "execution_count": 19,
   "metadata": {
    "scrolled": true
   },
   "outputs": [
    {
     "data": {
      "text/html": [
       "<div>\n",
       "<style scoped>\n",
       "    .dataframe tbody tr th:only-of-type {\n",
       "        vertical-align: middle;\n",
       "    }\n",
       "\n",
       "    .dataframe tbody tr th {\n",
       "        vertical-align: top;\n",
       "    }\n",
       "\n",
       "    .dataframe thead th {\n",
       "        text-align: right;\n",
       "    }\n",
       "</style>\n",
       "<table border=\"1\" class=\"dataframe\">\n",
       "  <thead>\n",
       "    <tr style=\"text-align: right;\">\n",
       "      <th></th>\n",
       "      <th>name_level2</th>\n",
       "      <th>name_geob2</th>\n",
       "      <th>score</th>\n",
       "    </tr>\n",
       "  </thead>\n",
       "  <tbody>\n",
       "    <tr>\n",
       "      <th>174</th>\n",
       "      <td>Bolgatanga East</td>\n",
       "      <td>Bolgatanga</td>\n",
       "      <td>80</td>\n",
       "    </tr>\n",
       "    <tr>\n",
       "      <th>259</th>\n",
       "      <td>Kadewaso</td>\n",
       "      <td>Kwadaso</td>\n",
       "      <td>80</td>\n",
       "    </tr>\n",
       "    <tr>\n",
       "      <th>481</th>\n",
       "      <td>Zongo</td>\n",
       "      <td>Bongo</td>\n",
       "      <td>80</td>\n",
       "    </tr>\n",
       "  </tbody>\n",
       "</table>\n",
       "</div>"
      ],
      "text/plain": [
       "         name_level2  name_geob2  score\n",
       "174  Bolgatanga East  Bolgatanga     80\n",
       "259         Kadewaso     Kwadaso     80\n",
       "481            Zongo       Bongo     80"
      ]
     },
     "execution_count": 19,
     "metadata": {},
     "output_type": "execute_result"
    }
   ],
   "source": [
    "# could save this list for someone to confirm matches manually\n",
    "# for now take input noting which ones should be dropped based on quick inspection\n",
    "table_adm2_matches.loc[table_adm2_matches.score<=80]"
   ]
  },
  {
   "cell_type": "code",
   "execution_count": 20,
   "metadata": {},
   "outputs": [],
   "source": [
    "# for idx, row in table_adm2_matches.loc[table_adm2_matches.score<=80].iterrows():\n",
    "#     print(row)\n",
    "#     print('\\n')\n",
    "    #drop_input = input(\"Drop? If no, leave blank: \")\n",
    "#     if len(drop_input)>0:\n",
    "#         table_adm2_matches.drop(idx, axis=0, inplace=True)"
   ]
  },
  {
   "cell_type": "code",
   "execution_count": 21,
   "metadata": {},
   "outputs": [
    {
     "data": {
      "text/plain": [
       "'51.87%'"
      ]
     },
     "execution_count": 21,
     "metadata": {},
     "output_type": "execute_result"
    }
   ],
   "source": [
    "matches_pct = (len(table_adm2_matches) / len(level3_list))\n",
    "'{:.2f}%'.format(matches_pct*100)"
   ]
  },
  {
   "cell_type": "markdown",
   "metadata": {},
   "source": [
    "### Match orgunitlevel2 to geo Adm 1"
   ]
  },
  {
   "cell_type": "code",
   "execution_count": 22,
   "metadata": {},
   "outputs": [],
   "source": [
    "master_table.loc[:, \"orgunitlevel2_edit\"] = master_table.orgunitlevel2"
   ]
  },
  {
   "cell_type": "code",
   "execution_count": 23,
   "metadata": {},
   "outputs": [],
   "source": [
    "# remove_words(geob2, \"admin2Name\", [\" City Council\", \" District Council\", \" Municipal Council\"])\n",
    "remove_words(master_table, \"orgunitlevel2_edit\", [\" District\"])\n",
    "remove_words(geob1, \"shapeName\", [\" City Council\", \" District Council\", \" Municipal Council\", \"Region\"])"
   ]
  },
  {
   "cell_type": "code",
   "execution_count": 24,
   "metadata": {
    "code_folding": []
   },
   "outputs": [],
   "source": [
    "level2_list = list(master_table.orgunitlevel2_edit.unique())\n",
    "level2_list.sort()\n",
    "geob1_list = list(geob1.shapeName)\n",
    "geob1_list.sort()"
   ]
  },
  {
   "cell_type": "markdown",
   "metadata": {},
   "source": [
    "Print names one at a time for both datasets one letter at a time, and manually inspect"
   ]
  },
  {
   "cell_type": "code",
   "execution_count": 25,
   "metadata": {
    "scrolled": true
   },
   "outputs": [
    {
     "name": "stdout",
     "output_type": "stream",
     "text": [
      "Master list level 2\n",
      "\t['Abuakwa North', 'Abuakwa South', 'Achiase', 'Ahafo', 'Akwapim North', 'Akwapim South', 'Akyemansa', 'Asene Manso Akroso', 'Ashanti', 'Asuogyaman', 'Atiwa East', 'Atiwa West', 'Ayensuano']\n",
      "Geoboundaries adm1\n",
      "\t['Ahafo', 'Ashanti']\n",
      "\n",
      "\n",
      "Master list level 2\n",
      "\t['Birim Central', 'Birim North', 'Birim South', 'Bono', 'Bono East']\n",
      "Geoboundaries adm1\n",
      "\t['Bono', 'Bono East']\n",
      "\n",
      "\n",
      "Master list level 2\n",
      "\t['Central']\n",
      "Geoboundaries adm1\n",
      "\t['Central']\n",
      "\n",
      "\n",
      "Master list level 2\n",
      "\t['Denkyembour']\n",
      "\n",
      "\n",
      "Master list level 2\n",
      "\t['Eastern']\n",
      "Geoboundaries adm1\n",
      "\t['Eastern']\n",
      "\n",
      "\n",
      "Master list level 2\n",
      "\t['Fanteakwa North', 'Fanteakwa South']\n",
      "\n",
      "\n",
      "Master list level 2\n",
      "\t['Greater Accra']\n",
      "Geoboundaries adm1\n",
      "\t['Greater Accra']\n",
      "\n",
      "\n",
      "\n",
      "\n",
      "\n",
      "\n",
      "\n",
      "\n",
      "Master list level 2\n",
      "\t['Kwaebibirem', 'Kwahu Afram Plains North', 'Kwahu Afram Plains South', 'Kwahu East', 'Kwahu South', 'Kwahu West']\n",
      "\n",
      "\n",
      "Master list level 2\n",
      "\t['Lower Manya-Krobo']\n",
      "\n",
      "\n",
      "\n",
      "\n",
      "Master list level 2\n",
      "\t['New Juaben North', 'New Juaben South', 'North East', 'Northern', 'Nsawam-Adoagyiri']\n",
      "Geoboundaries adm1\n",
      "\t['North East', 'Northern']\n",
      "\n",
      "\n",
      "Master list level 2\n",
      "\t['Okere', 'Oti']\n",
      "Geoboundaries adm1\n",
      "\t['Oti']\n",
      "\n",
      "\n",
      "\n",
      "\n",
      "\n",
      "\n",
      "\n",
      "\n",
      "Master list level 2\n",
      "\t['Savannah', 'Suhum']\n",
      "Geoboundaries adm1\n",
      "\t['Savannah']\n",
      "\n",
      "\n",
      "\n",
      "\n",
      "Master list level 2\n",
      "\t['Upper East', 'Upper Manya-Krobo', 'Upper West', 'Upper West Akim']\n",
      "Geoboundaries adm1\n",
      "\t['Upper East', 'Upper West']\n",
      "\n",
      "\n",
      "Master list level 2\n",
      "\t['Volta']\n",
      "Geoboundaries adm1\n",
      "\t['Volta']\n",
      "\n",
      "\n",
      "Master list level 2\n",
      "\t['West Akim', 'Western', 'Western North']\n",
      "Geoboundaries adm1\n",
      "\t['Western', 'Western North']\n",
      "\n",
      "\n",
      "\n",
      "\n",
      "Master list level 2\n",
      "\t['Yilo-Krobo']\n",
      "\n",
      "\n",
      "\n",
      "\n"
     ]
    }
   ],
   "source": [
    "for letter in ascii_uppercase:\n",
    "    level2_sublist = [name for name in level2_list if name[0]==letter]\n",
    "    geob1_sublist = [name for name in geob1_list if name[0]==letter]\n",
    "    if len(level2_sublist)>0:\n",
    "        print(\"Master list level 2\")\n",
    "        print(\"\\t\"+str(level2_sublist))\n",
    "    if len(geob1_sublist) > 0:\n",
    "        print(\"Geoboundaries adm1\")\n",
    "        print(\"\\t\"+str(geob1_sublist))\n",
    "    print(\"\\n\")"
   ]
  },
  {
   "cell_type": "code",
   "execution_count": 26,
   "metadata": {},
   "outputs": [],
   "source": [
    "# List for dicts for easy dataframe creation\n",
    "dict_list = []\n",
    "\n",
    "for name in level2_list:\n",
    "    \n",
    "    # Use our method to find best match, we can set a threshold here\n",
    "    match = match_name(name, geob1_list, 30)\n",
    "\n",
    "    # New dict for storing data\n",
    "    dict_ = {}\n",
    "    dict_.update({\"name_level1\" : name})\n",
    "    dict_.update({\"name_geob1\" : match[0]})\n",
    "    dict_.update({\"score\" : match[1]})\n",
    "    dict_list.append(dict_)\n",
    "\n",
    "table_adm1 = pd.DataFrame(dict_list)\n",
    "table_adm1_matches = table_adm1[table_adm1.score > 75]"
   ]
  },
  {
   "cell_type": "code",
   "execution_count": 27,
   "metadata": {},
   "outputs": [
    {
     "data": {
      "text/plain": [
       "'34.69%'"
      ]
     },
     "execution_count": 27,
     "metadata": {},
     "output_type": "execute_result"
    }
   ],
   "source": [
    "matches_pct = (len(table_adm1_matches) / len(level2_list))\n",
    "'{:.2f}%'.format(matches_pct*100)"
   ]
  },
  {
   "cell_type": "markdown",
   "metadata": {},
   "source": [
    "Loop through each row in master table, and add new attribute names (adm2 and adm1), if the names produced matches in the lookup tables"
   ]
  },
  {
   "cell_type": "code",
   "execution_count": 28,
   "metadata": {},
   "outputs": [],
   "source": [
    "master_table_copy = master_table.copy()"
   ]
  },
  {
   "cell_type": "code",
   "execution_count": 29,
   "metadata": {},
   "outputs": [
    {
     "data": {
      "text/html": [
       "<div>\n",
       "<style scoped>\n",
       "    .dataframe tbody tr th:only-of-type {\n",
       "        vertical-align: middle;\n",
       "    }\n",
       "\n",
       "    .dataframe tbody tr th {\n",
       "        vertical-align: top;\n",
       "    }\n",
       "\n",
       "    .dataframe thead th {\n",
       "        text-align: right;\n",
       "    }\n",
       "</style>\n",
       "<table border=\"1\" class=\"dataframe\">\n",
       "  <thead>\n",
       "    <tr style=\"text-align: right;\">\n",
       "      <th></th>\n",
       "      <th>orgunitlevel1</th>\n",
       "      <th>orgunitlevel2</th>\n",
       "      <th>orgunitlevel3</th>\n",
       "      <th>orgunitlevel4</th>\n",
       "      <th>orgunitlevel5</th>\n",
       "      <th>orgunitlevel3_edit</th>\n",
       "      <th>orgunitlevel2_edit</th>\n",
       "    </tr>\n",
       "  </thead>\n",
       "  <tbody>\n",
       "    <tr>\n",
       "      <th>0</th>\n",
       "      <td>Eastern</td>\n",
       "      <td>Abuakwa North</td>\n",
       "      <td>Kukurantumi</td>\n",
       "      <td>Esther Twum Maternity Home</td>\n",
       "      <td>Esther Twum Maternity Home</td>\n",
       "      <td>Kukurantumi</td>\n",
       "      <td>Abuakwa North</td>\n",
       "    </tr>\n",
       "    <tr>\n",
       "      <th>1</th>\n",
       "      <td>Eastern</td>\n",
       "      <td>Abuakwa North</td>\n",
       "      <td>Kukurantumi</td>\n",
       "      <td>Kukurantumi Apotosu</td>\n",
       "      <td>Kukurantumi Apotosu</td>\n",
       "      <td>Kukurantumi</td>\n",
       "      <td>Abuakwa North</td>\n",
       "    </tr>\n",
       "    <tr>\n",
       "      <th>2</th>\n",
       "      <td>Eastern</td>\n",
       "      <td>Abuakwa North</td>\n",
       "      <td>Kukurantumi</td>\n",
       "      <td>Kukurantumi</td>\n",
       "      <td>Kukurantumi</td>\n",
       "      <td>Kukurantumi</td>\n",
       "      <td>Abuakwa North</td>\n",
       "    </tr>\n",
       "    <tr>\n",
       "      <th>3</th>\n",
       "      <td>Eastern</td>\n",
       "      <td>Abuakwa North</td>\n",
       "      <td>Kukurantumi</td>\n",
       "      <td>Sokode Juaso</td>\n",
       "      <td>Sokode Juaso</td>\n",
       "      <td>Kukurantumi</td>\n",
       "      <td>Abuakwa North</td>\n",
       "    </tr>\n",
       "    <tr>\n",
       "      <th>4</th>\n",
       "      <td>Eastern</td>\n",
       "      <td>Abuakwa North</td>\n",
       "      <td>Kukurantumi</td>\n",
       "      <td>The Community Hospital (Kukurantumi)</td>\n",
       "      <td>The Community Hospital (Kukurantumi)</td>\n",
       "      <td>Kukurantumi</td>\n",
       "      <td>Abuakwa North</td>\n",
       "    </tr>\n",
       "    <tr>\n",
       "      <th>...</th>\n",
       "      <td>...</td>\n",
       "      <td>...</td>\n",
       "      <td>...</td>\n",
       "      <td>...</td>\n",
       "      <td>...</td>\n",
       "      <td>...</td>\n",
       "      <td>...</td>\n",
       "    </tr>\n",
       "    <tr>\n",
       "      <th>10559</th>\n",
       "      <td>Ghana</td>\n",
       "      <td>Western North</td>\n",
       "      <td>Suaman</td>\n",
       "      <td>Karlo</td>\n",
       "      <td>Karlo</td>\n",
       "      <td>Suaman</td>\n",
       "      <td>Western North</td>\n",
       "    </tr>\n",
       "    <tr>\n",
       "      <th>10560</th>\n",
       "      <td>Ghana</td>\n",
       "      <td>Western North</td>\n",
       "      <td>Suaman</td>\n",
       "      <td>Karlo</td>\n",
       "      <td>Kwabenakrom</td>\n",
       "      <td>Suaman</td>\n",
       "      <td>Western North</td>\n",
       "    </tr>\n",
       "    <tr>\n",
       "      <th>10561</th>\n",
       "      <td>Ghana</td>\n",
       "      <td>Western North</td>\n",
       "      <td>Suaman</td>\n",
       "      <td>Karlo</td>\n",
       "      <td>Sui-Ano</td>\n",
       "      <td>Suaman</td>\n",
       "      <td>Western North</td>\n",
       "    </tr>\n",
       "    <tr>\n",
       "      <th>10562</th>\n",
       "      <td>Ghana</td>\n",
       "      <td>Western North</td>\n",
       "      <td>Suaman</td>\n",
       "      <td>Kwasuo</td>\n",
       "      <td>Kwassuo</td>\n",
       "      <td>Suaman</td>\n",
       "      <td>Western North</td>\n",
       "    </tr>\n",
       "    <tr>\n",
       "      <th>10563</th>\n",
       "      <td>Ghana</td>\n",
       "      <td>Western North</td>\n",
       "      <td>Suaman</td>\n",
       "      <td>Kwasuo</td>\n",
       "      <td>Kwasuo-Bantama</td>\n",
       "      <td>Suaman</td>\n",
       "      <td>Western North</td>\n",
       "    </tr>\n",
       "  </tbody>\n",
       "</table>\n",
       "<p>10564 rows × 7 columns</p>\n",
       "</div>"
      ],
      "text/plain": [
       "      orgunitlevel1  orgunitlevel2 orgunitlevel3  \\\n",
       "0           Eastern  Abuakwa North   Kukurantumi   \n",
       "1           Eastern  Abuakwa North   Kukurantumi   \n",
       "2           Eastern  Abuakwa North   Kukurantumi   \n",
       "3           Eastern  Abuakwa North   Kukurantumi   \n",
       "4           Eastern  Abuakwa North   Kukurantumi   \n",
       "...             ...            ...           ...   \n",
       "10559         Ghana  Western North        Suaman   \n",
       "10560         Ghana  Western North        Suaman   \n",
       "10561         Ghana  Western North        Suaman   \n",
       "10562         Ghana  Western North        Suaman   \n",
       "10563         Ghana  Western North        Suaman   \n",
       "\n",
       "                              orgunitlevel4  \\\n",
       "0                Esther Twum Maternity Home   \n",
       "1                      Kukurantumi Apotosu    \n",
       "2                              Kukurantumi    \n",
       "3                             Sokode Juaso    \n",
       "4      The Community Hospital (Kukurantumi)   \n",
       "...                                     ...   \n",
       "10559                                 Karlo   \n",
       "10560                                 Karlo   \n",
       "10561                                 Karlo   \n",
       "10562                                Kwasuo   \n",
       "10563                                Kwasuo   \n",
       "\n",
       "                              orgunitlevel5 orgunitlevel3_edit  \\\n",
       "0                Esther Twum Maternity Home        Kukurantumi   \n",
       "1                      Kukurantumi Apotosu         Kukurantumi   \n",
       "2                              Kukurantumi         Kukurantumi   \n",
       "3                             Sokode Juaso         Kukurantumi   \n",
       "4      The Community Hospital (Kukurantumi)        Kukurantumi   \n",
       "...                                     ...                ...   \n",
       "10559                                Karlo              Suaman   \n",
       "10560                          Kwabenakrom              Suaman   \n",
       "10561                              Sui-Ano              Suaman   \n",
       "10562                              Kwassuo              Suaman   \n",
       "10563                       Kwasuo-Bantama              Suaman   \n",
       "\n",
       "      orgunitlevel2_edit  \n",
       "0          Abuakwa North  \n",
       "1          Abuakwa North  \n",
       "2          Abuakwa North  \n",
       "3          Abuakwa North  \n",
       "4          Abuakwa North  \n",
       "...                  ...  \n",
       "10559      Western North  \n",
       "10560      Western North  \n",
       "10561      Western North  \n",
       "10562      Western North  \n",
       "10563      Western North  \n",
       "\n",
       "[10564 rows x 7 columns]"
      ]
     },
     "execution_count": 29,
     "metadata": {},
     "output_type": "execute_result"
    }
   ],
   "source": [
    "master_table_copy"
   ]
  },
  {
   "cell_type": "code",
   "execution_count": 30,
   "metadata": {},
   "outputs": [],
   "source": [
    "for idx, row in master_table_copy.iterrows():\n",
    "    \n",
    "    if row.orgunitlevel3_edit in list(table_adm2_matches.name_level2):\n",
    "        \n",
    "        match = table_adm2_matches.loc[table_adm2_matches.name_level2==row.orgunitlevel3_edit, \"name_geob2\"].iloc[0]\n",
    "        master_table_copy.loc[idx, 'adm2'] = match\n",
    "        \n",
    "    if row.orgunitlevel2_edit in list(table_adm1_matches.name_level1):\n",
    "        \n",
    "        match = table_adm1_matches.loc[table_adm1_matches.name_level1==row.orgunitlevel2_edit, \"name_geob1\"].iloc[0]\n",
    "        master_table_copy.loc[idx, 'adm1'] = match"
   ]
  },
  {
   "cell_type": "code",
   "execution_count": 31,
   "metadata": {},
   "outputs": [
    {
     "data": {
      "text/plain": [
       "1774"
      ]
     },
     "execution_count": 31,
     "metadata": {},
     "output_type": "execute_result"
    }
   ],
   "source": [
    "master_table_copy.adm2.isna().sum()"
   ]
  },
  {
   "cell_type": "code",
   "execution_count": 32,
   "metadata": {},
   "outputs": [
    {
     "data": {
      "text/plain": [
       "1108"
      ]
     },
     "execution_count": 32,
     "metadata": {},
     "output_type": "execute_result"
    }
   ],
   "source": [
    "master_table_copy.adm1.isna().sum()"
   ]
  },
  {
   "cell_type": "code",
   "execution_count": 33,
   "metadata": {
    "scrolled": true
   },
   "outputs": [
    {
     "data": {
      "text/html": [
       "<div>\n",
       "<style scoped>\n",
       "    .dataframe tbody tr th:only-of-type {\n",
       "        vertical-align: middle;\n",
       "    }\n",
       "\n",
       "    .dataframe tbody tr th {\n",
       "        vertical-align: top;\n",
       "    }\n",
       "\n",
       "    .dataframe thead th {\n",
       "        text-align: right;\n",
       "    }\n",
       "</style>\n",
       "<table border=\"1\" class=\"dataframe\">\n",
       "  <thead>\n",
       "    <tr style=\"text-align: right;\">\n",
       "      <th></th>\n",
       "      <th>orgunitlevel1</th>\n",
       "      <th>orgunitlevel2</th>\n",
       "      <th>orgunitlevel3</th>\n",
       "      <th>orgunitlevel4</th>\n",
       "      <th>orgunitlevel5</th>\n",
       "      <th>orgunitlevel3_edit</th>\n",
       "      <th>orgunitlevel2_edit</th>\n",
       "      <th>adm2</th>\n",
       "      <th>adm1</th>\n",
       "    </tr>\n",
       "  </thead>\n",
       "  <tbody>\n",
       "    <tr>\n",
       "      <th>0</th>\n",
       "      <td>Eastern</td>\n",
       "      <td>Abuakwa North</td>\n",
       "      <td>Kukurantumi</td>\n",
       "      <td>Esther Twum Maternity Home</td>\n",
       "      <td>Esther Twum Maternity Home</td>\n",
       "      <td>Kukurantumi</td>\n",
       "      <td>Abuakwa North</td>\n",
       "      <td>NaN</td>\n",
       "      <td>NaN</td>\n",
       "    </tr>\n",
       "    <tr>\n",
       "      <th>1</th>\n",
       "      <td>Eastern</td>\n",
       "      <td>Abuakwa North</td>\n",
       "      <td>Kukurantumi</td>\n",
       "      <td>Kukurantumi Apotosu</td>\n",
       "      <td>Kukurantumi Apotosu</td>\n",
       "      <td>Kukurantumi</td>\n",
       "      <td>Abuakwa North</td>\n",
       "      <td>NaN</td>\n",
       "      <td>NaN</td>\n",
       "    </tr>\n",
       "  </tbody>\n",
       "</table>\n",
       "</div>"
      ],
      "text/plain": [
       "  orgunitlevel1  orgunitlevel2 orgunitlevel3               orgunitlevel4  \\\n",
       "0       Eastern  Abuakwa North   Kukurantumi  Esther Twum Maternity Home   \n",
       "1       Eastern  Abuakwa North   Kukurantumi        Kukurantumi Apotosu    \n",
       "\n",
       "                orgunitlevel5 orgunitlevel3_edit orgunitlevel2_edit adm2 adm1  \n",
       "0  Esther Twum Maternity Home        Kukurantumi      Abuakwa North  NaN  NaN  \n",
       "1        Kukurantumi Apotosu         Kukurantumi      Abuakwa North  NaN  NaN  "
      ]
     },
     "execution_count": 33,
     "metadata": {},
     "output_type": "execute_result"
    }
   ],
   "source": [
    "master_table_copy.head(2)"
   ]
  },
  {
   "cell_type": "markdown",
   "metadata": {},
   "source": [
    "# Match to locations from alternative sources based on facility name\n",
    "\n",
    "\n",
    "## Health Sites IO\n",
    "Import Health Sites from HealthSites.io  \n",
    "Health sites come in both a node and a way shapefile. You need to import both to get all the sites.  \n",
    "In QGIS, I created centroids from the ways then merged it with the points."
   ]
  },
  {
   "cell_type": "code",
   "execution_count": 34,
   "metadata": {},
   "outputs": [],
   "source": [
    "nodes_io = gpd.read_file(os.path.join(input_dir, \"healthsitesio\", \"GHA\", \"merged_GHA_healthsites.shp\"))"
   ]
  },
  {
   "cell_type": "code",
   "execution_count": 35,
   "metadata": {},
   "outputs": [],
   "source": [
    "nodes_io = nodes_io.loc[~nodes_io.name.isna()].copy()"
   ]
  },
  {
   "cell_type": "code",
   "execution_count": 36,
   "metadata": {},
   "outputs": [],
   "source": [
    "nodes_io['name'] = nodes_io['name'].str.lower()"
   ]
  },
  {
   "cell_type": "code",
   "execution_count": 37,
   "metadata": {},
   "outputs": [],
   "source": [
    "words_to_remove = ['community', 'clinic', 'centre', 'center', 'hospital', \n",
    "                   'health', 'government', 'maternity', 'home', 'cabinet', 'medical']"
   ]
  },
  {
   "cell_type": "code",
   "execution_count": 38,
   "metadata": {},
   "outputs": [],
   "source": [
    "records = master_table_copy.copy()\n",
    "records['NAME'] = records['orgunitlevel5'].str.lower()"
   ]
  },
  {
   "cell_type": "code",
   "execution_count": 39,
   "metadata": {},
   "outputs": [],
   "source": [
    "remove_words(nodes_io, 'name', words_to_remove)\n",
    "remove_words(records, 'NAME', words_to_remove)"
   ]
  },
  {
   "cell_type": "code",
   "execution_count": 40,
   "metadata": {},
   "outputs": [],
   "source": [
    "records['geocoding_method'] = \"None\""
   ]
  },
  {
   "cell_type": "code",
   "execution_count": 41,
   "metadata": {
    "scrolled": true
   },
   "outputs": [
    {
     "name": "stderr",
     "output_type": "stream",
     "text": [
      "44it [00:00, 212.19it/s]"
     ]
    },
    {
     "name": "stdout",
     "output_type": "stream",
     "text": [
      "anyinasin nyinahin\n",
      "new tafo new tafo\n",
      "kibi kibi\n"
     ]
    },
    {
     "name": "stderr",
     "output_type": "stream",
     "text": [
      "88it [00:00, 213.04it/s]"
     ]
    },
    {
     "name": "stdout",
     "output_type": "stream",
     "text": [
      "achiase achiase\n",
      "lab labs\n",
      "adawso adweso\n",
      "obosomase bodomase\n"
     ]
    },
    {
     "name": "stderr",
     "output_type": "stream",
     "text": [
      "200it [00:00, 216.29it/s]"
     ]
    },
    {
     "name": "stdout",
     "output_type": "stream",
     "text": [
      "anyinase aiyinase\n",
      "emmauel . emmanuel\n",
      "st theresa st. theresia\n",
      "eshiem esidem\n"
     ]
    },
    {
     "name": "stderr",
     "output_type": "stream",
     "text": [
      "244it [00:01, 218.04it/s]"
     ]
    },
    {
     "name": "stdout",
     "output_type": "stream",
     "text": [
      "adjena adenta\n",
      "adjena adenta\n",
      "boso aboso\n",
      "boso aboso\n"
     ]
    },
    {
     "name": "stderr",
     "output_type": "stream",
     "text": [
      "311it [00:01, 220.22it/s]"
     ]
    },
    {
     "name": "stdout",
     "output_type": "stream",
     "text": [
      "mampong mampong\n",
      "new jejeti new jejeti\n"
     ]
    },
    {
     "name": "stderr",
     "output_type": "stream",
     "text": [
      "357it [00:01, 214.61it/s]"
     ]
    },
    {
     "name": "stdout",
     "output_type": "stream",
     "text": [
      "otoase abotoase\n",
      "essam essiama\n",
      "epl epcl\n",
      "oda oda\n",
      "oda oda\n"
     ]
    },
    {
     "name": "stderr",
     "output_type": "stream",
     "text": [
      "424it [00:01, 215.72it/s]"
     ]
    },
    {
     "name": "stdout",
     "output_type": "stream",
     "text": [
      "okaikrom kwamikrom\n",
      "oforikrom kofikrom\n",
      "st dominic st.dominic\n",
      "boadua bodada\n",
      "abourso"
     ]
    },
    {
     "name": "stderr",
     "output_type": "stream",
     "text": [
      "470it [00:02, 219.67it/s]"
     ]
    },
    {
     "name": "stdout",
     "output_type": "stream",
     "text": [
      " aburaso\n",
      "nkankama nkwankwaa\n"
     ]
    },
    {
     "name": "stderr",
     "output_type": "stream",
     "text": [
      "561it [00:02, 222.68it/s]"
     ]
    },
    {
     "name": "stdout",
     "output_type": "stream",
     "text": [
      "holy rosary holy rosary\n",
      "asanyanso asanyansu\n"
     ]
    },
    {
     "name": "stderr",
     "output_type": "stream",
     "text": [
      "607it [00:02, 220.19it/s]"
     ]
    },
    {
     "name": "stdout",
     "output_type": "stream",
     "text": [
      "fosu osu\n",
      "ankoma anoma\n"
     ]
    },
    {
     "name": "stderr",
     "output_type": "stream",
     "text": [
      "653it [00:02, 220.49it/s]"
     ]
    },
    {
     "name": "stdout",
     "output_type": "stream",
     "text": [
      "asakraka asakraka\n",
      "atibie atibie\n",
      "adawso adweso\n"
     ]
    },
    {
     "name": "stderr",
     "output_type": "stream",
     "text": [
      "721it [00:03, 216.72it/s]"
     ]
    },
    {
     "name": "stdout",
     "output_type": "stream",
     "text": [
      "kenop care kenop care\n",
      "agyakwa agyakwa\n",
      "akuse akuse\n",
      "adome adidome\n",
      "kpong kpongka\n"
     ]
    },
    {
     "name": "stderr",
     "output_type": "stream",
     "text": [
      "788it [00:03, 216.76it/s]"
     ]
    },
    {
     "name": "stdout",
     "output_type": "stream",
     "text": [
      "atua atua\n",
      "atua atua\n",
      "mampong mampong\n",
      "asaman amasaman\n"
     ]
    },
    {
     "name": "stderr",
     "output_type": "stream",
     "text": [
      "831it [00:03, 206.80it/s]"
     ]
    },
    {
     "name": "stdout",
     "output_type": "stream",
     "text": [
      "adweso adweso\n",
      "adweso adweso\n",
      "anglican anglican\n",
      "dr. asomani dr asomani\n",
      "providence providence\n",
      "koforidua poly koforidua poly\n",
      "oman oman\n",
      "eastern regional eastern regional\n",
      "tanoso tanoso\n",
      "cosmos/damien cosmas- damien\n",
      "koforidua koforidua\n",
      "koforidua sda koforidua\n"
     ]
    },
    {
     "name": "stderr",
     "output_type": "stream",
     "text": [
      "921it [00:04, 217.51it/s]"
     ]
    },
    {
     "name": "stdout",
     "output_type": "stream",
     "text": [
      "newlands newlands\n",
      "abonse labone\n",
      "providence providence\n"
     ]
    },
    {
     "name": "stderr",
     "output_type": "stream",
     "text": [
      "987it [00:04, 214.25it/s]"
     ]
    },
    {
     "name": "stdout",
     "output_type": "stream",
     "text": [
      "okanta okanta\n",
      "suhum suhum\n",
      "sawa sawia\n",
      "asesewa asesewa\n",
      "asesewa asesewa\n"
     ]
    },
    {
     "name": "stderr",
     "output_type": "stream",
     "text": [
      "1032it [00:04, 216.51it/s]"
     ]
    },
    {
     "name": "stdout",
     "output_type": "stream",
     "text": [
      "kumikrom kwamikrom\n",
      "adeiso adeiso\n"
     ]
    },
    {
     "name": "stderr",
     "output_type": "stream",
     "text": [
      "1101it [00:05, 219.49it/s]"
     ]
    },
    {
     "name": "stdout",
     "output_type": "stream",
     "text": [
      "anum-asaman amasaman\n",
      "akpo vakpo\n",
      "wurapong dawurampong\n"
     ]
    },
    {
     "name": "stderr",
     "output_type": "stream",
     "text": [
      "1169it [00:05, 216.90it/s]"
     ]
    },
    {
     "name": "stdout",
     "output_type": "stream",
     "text": [
      "akrodie akrodie\n",
      "cross care cross care\n",
      "goaso municipal goaso municipal\n",
      "ahmadiyya muslim ahmadiyya muslim\n",
      "life care life  care\n"
     ]
    },
    {
     "name": "stderr",
     "output_type": "stream",
     "text": [
      "1235it [00:05, 206.74it/s]"
     ]
    },
    {
     "name": "stdout",
     "output_type": "stream",
     "text": [
      "star of hope star of hope\n",
      "achiase achiase\n",
      "cross care cross care\n"
     ]
    },
    {
     "name": "stderr",
     "output_type": "stream",
     "text": [
      "1302it [00:06, 209.99it/s]"
     ]
    },
    {
     "name": "stdout",
     "output_type": "stream",
     "text": [
      "apenemadi  compound apenamadi chips compound\n",
      "mankranho mankranso\n",
      "bomaa district bole district\n"
     ]
    },
    {
     "name": "stderr",
     "output_type": "stream",
     "text": [
      "1345it [00:06, 204.53it/s]"
     ]
    },
    {
     "name": "stdout",
     "output_type": "stream",
     "text": [
      "bechem bechem\n",
      "mansin  compound mansion chips compound\n",
      "st. joseph st. joseph's\n",
      "adaa  compound adaa chps compound\n",
      "asuboe  compound asuboi chips compound\n",
      "anomabo anoma\n"
     ]
    },
    {
     "name": "stderr",
     "output_type": "stream",
     "text": [
      "1389it [00:06, 209.54it/s]"
     ]
    },
    {
     "name": "stdout",
     "output_type": "stream",
     "text": [
      "anhwiaso ahwiaso\n"
     ]
    },
    {
     "name": "stderr",
     "output_type": "stream",
     "text": [
      "1456it [00:06, 211.17it/s]"
     ]
    },
    {
     "name": "stdout",
     "output_type": "stream",
     "text": [
      "aburaso aburaso\n",
      "amudurase samudure\n",
      "fountain enclave fountain care\n",
      "ashan ashan\n"
     ]
    },
    {
     "name": "stderr",
     "output_type": "stream",
     "text": [
      "1523it [00:07, 205.96it/s]"
     ]
    },
    {
     "name": "stdout",
     "output_type": "stream",
     "text": [
      "bomso bomso\n",
      "kodie akrodie\n",
      "anyinasuso anyinasuso\n",
      "anyinasuso anyinasuso\n"
     ]
    },
    {
     "name": "stderr",
     "output_type": "stream",
     "text": [
      "1589it [00:07, 193.68it/s]"
     ]
    },
    {
     "name": "stdout",
     "output_type": "stream",
     "text": [
      "st. edwards st. edward's\n",
      "abesewa asesewa\n",
      "mankranso mankranso\n",
      "mankranso mankranso\n",
      "nyameadom nyameadom\n",
      "achiase achiase\n"
     ]
    },
    {
     "name": "stderr",
     "output_type": "stream",
     "text": [
      "1648it [00:07, 182.82it/s]"
     ]
    },
    {
     "name": "stdout",
     "output_type": "stream",
     "text": [
      "hia shia\n",
      "abuakwaa abuakwa\n",
      "abuakwaa abuakwa\n",
      "kofihwikrom kofikrom\n"
     ]
    },
    {
     "name": "stderr",
     "output_type": "stream",
     "text": [
      "1690it [00:07, 193.52it/s]"
     ]
    },
    {
     "name": "stdout",
     "output_type": "stream",
     "text": [
      "achiase achiase\n",
      "abuoso aboso\n"
     ]
    },
    {
     "name": "stderr",
     "output_type": "stream",
     "text": [
      "1734it [00:08, 205.55it/s]"
     ]
    },
    {
     "name": "stdout",
     "output_type": "stream",
     "text": [
      "mother of god mother of god\n",
      "graham memorial grace memorial\n"
     ]
    },
    {
     "name": "stderr",
     "output_type": "stream",
     "text": [
      "1824it [00:08, 216.22it/s]"
     ]
    },
    {
     "name": "stdout",
     "output_type": "stream",
     "text": [
      "dampong darpong\n",
      "koikrom kofikrom\n"
     ]
    },
    {
     "name": "stderr",
     "output_type": "stream",
     "text": [
      "1914it [00:09, 219.27it/s]"
     ]
    },
    {
     "name": "stdout",
     "output_type": "stream",
     "text": [
      "mampong mampong\n"
     ]
    },
    {
     "name": "stderr",
     "output_type": "stream",
     "text": [
      "1959it [00:09, 213.58it/s]"
     ]
    },
    {
     "name": "stdout",
     "output_type": "stream",
     "text": [
      "providence providence\n",
      "garden city garden city\n",
      "roman catholic roman catholic\n"
     ]
    },
    {
     "name": "stderr",
     "output_type": "stream",
     "text": [
      "2025it [00:09, 206.41it/s]"
     ]
    },
    {
     "name": "stdout",
     "output_type": "stream",
     "text": [
      "garry marvin memorial gary marvin memorial\n",
      "maba mba\n",
      "samel samsel\n",
      "aburaso aburaso\n",
      "trinity specialist trust specialist\n"
     ]
    },
    {
     "name": "stderr",
     "output_type": "stream",
     "text": [
      "2067it [00:09, 195.79it/s]"
     ]
    },
    {
     "name": "stdout",
     "output_type": "stream",
     "text": [
      "anglican anglican\n",
      "kotokuom kotoku\n",
      "achiase achiase\n",
      "mother of john mother of god\n",
      "nyinahin nyinahin\n",
      "abuakwa abuakwa\n",
      "madonna  services dons  services\n"
     ]
    },
    {
     "name": "stderr",
     "output_type": "stream",
     "text": [
      "2127it [00:10, 196.10it/s]"
     ]
    },
    {
     "name": "stdout",
     "output_type": "stream",
     "text": [
      "asakrakra asakraka\n",
      "frimpong boateng frimpong boateng\n",
      "mount sinai mount sinai\n",
      "achiase achiase\n",
      "ahwene memorial ahwenie memorial\n"
     ]
    },
    {
     "name": "stderr",
     "output_type": "stream",
     "text": [
      "2170it [00:10, 202.33it/s]"
     ]
    },
    {
     "name": "stdout",
     "output_type": "stream",
     "text": [
      "bekwai municipal bekwai municipal\n",
      "bodoma bodomase\n",
      "akomaah memorial amoah memorial\n"
     ]
    },
    {
     "name": "stderr",
     "output_type": "stream",
     "text": [
      "2212it [00:10, 202.39it/s]"
     ]
    },
    {
     "name": "stdout",
     "output_type": "stream",
     "text": [
      "adeito adeiso\n",
      "richard fowle catholic richard fowler catholic\n",
      "anyinase aiyinase\n"
     ]
    },
    {
     "name": "stderr",
     "output_type": "stream",
     "text": [
      "2325it [00:11, 214.83it/s]"
     ]
    },
    {
     "name": "stdout",
     "output_type": "stream",
     "text": [
      "sanford sanford\n",
      "kwaso nkwaeso\n",
      "st. anthony anns st. anthony's\n",
      "st. anthony st. anthony's\n"
     ]
    },
    {
     "name": "stderr",
     "output_type": "stream",
     "text": [
      "2370it [00:11, 213.23it/s]"
     ]
    },
    {
     "name": "stdout",
     "output_type": "stream",
     "text": [
      " \n"
     ]
    },
    {
     "name": "stderr",
     "output_type": "stream",
     "text": [
      "2437it [00:11, 205.57it/s]"
     ]
    },
    {
     "name": "stdout",
     "output_type": "stream",
     "text": [
      "new koforidua koforidua\n",
      "atasamanso atasomanso\n",
      "atasomanso atasomanso\n",
      "asafo agyei asafo agyei\n",
      "champion divine champion divine\n",
      "new cross new cross\n"
     ]
    },
    {
     "name": "stderr",
     "output_type": "stream",
     "text": [
      "2480it [00:11, 203.24it/s]"
     ]
    },
    {
     "name": "stdout",
     "output_type": "stream",
     "text": [
      "metro metro\n",
      "suntreso suntreso\n",
      "abrafi memorial armah memorial\n",
      "presby presby\n",
      "three stones three stone\n"
     ]
    },
    {
     "name": "stderr",
     "output_type": "stream",
     "text": [
      "2522it [00:11, 201.11it/s]"
     ]
    },
    {
     "name": "stdout",
     "output_type": "stream",
     "text": [
      "mater dei mater dei\n",
      "west end west end\n",
      "komfo anokye teaching komfo anokye teaching\n"
     ]
    },
    {
     "name": "stderr",
     "output_type": "stream",
     "text": [
      "2565it [00:12, 203.67it/s]"
     ]
    },
    {
     "name": "stdout",
     "output_type": "stream",
     "text": [
      "aboaso aboso\n",
      "zion praise zion praise\n"
     ]
    },
    {
     "name": "stderr",
     "output_type": "stream",
     "text": [
      "2610it [00:12, 204.53it/s]"
     ]
    },
    {
     "name": "stdout",
     "output_type": "stream",
     "text": [
      "mamponteng mampong\n",
      "mamponteng mampong\n",
      "hope xchange hopexchange\n",
      "tiwaa memorial war memorial\n",
      "ruma specialist trust specialist\n",
      "tanoso tanoso\n",
      "tanoso tanoso\n"
     ]
    },
    {
     "name": "stderr",
     "output_type": "stream",
     "text": [
      "2675it [00:12, 204.89it/s]"
     ]
    },
    {
     "name": "stdout",
     "output_type": "stream",
     "text": [
      "st. john's st. joseph's\n",
      "brahabebome brahabebome\n",
      "emmanuel emmanuel\n"
     ]
    },
    {
     "name": "stderr",
     "output_type": "stream",
     "text": [
      "2718it [00:12, 203.39it/s]"
     ]
    },
    {
     "name": "stdout",
     "output_type": "stream",
     "text": [
      "twumwaa twumasiwaa\n",
      "koforidua koforidua\n",
      "anyinasuso sda anyinasuso\n",
      "offinso offinso\n",
      "akumadan akumadan\n"
     ]
    },
    {
     "name": "stderr",
     "output_type": "stream",
     "text": [
      "2782it [00:13, 199.06it/s]"
     ]
    },
    {
     "name": "stdout",
     "output_type": "stream",
     "text": [
      "nkwakwaa nkwankwaa\n",
      "nkwankwaa nkwankwaa\n",
      "mankramso mankranso\n",
      "nkenkaasu nkenkaasu\n",
      "florence florence\n",
      "ayeduase ayeduase\n",
      "ayeduase ayeduase\n"
     ]
    },
    {
     "name": "stderr",
     "output_type": "stream",
     "text": [
      "2823it [00:13, 185.49it/s]"
     ]
    },
    {
     "name": "stdout",
     "output_type": "stream",
     "text": [
      "bomso bomso\n",
      "bomso bomso\n",
      "adabraka adabraka\n",
      "amoah memorial amoah memorial\n",
      "holy rosary holy rosary\n",
      "power house power house\n",
      "omar omari\n",
      "tafo tafo\n",
      "central   annex central kasoa  - annex\n",
      "nizon memorial anthon memorial\n",
      "santan santa\n"
     ]
    },
    {
     "name": "stderr",
     "output_type": "stream",
     "text": [
      "2935it [00:14, 210.09it/s]"
     ]
    },
    {
     "name": "stdout",
     "output_type": "stream",
     "text": [
      "nkwankwaanua nkwankwaa\n",
      "westphalian westphalian\n",
      "bodomase bodomase\n"
     ]
    },
    {
     "name": "stderr",
     "output_type": "stream",
     "text": [
      "3002it [00:14, 214.08it/s]"
     ]
    },
    {
     "name": "stdout",
     "output_type": "stream",
     "text": [
      "bedomase bodomase\n",
      "kofikrom kofikrom\n"
     ]
    },
    {
     "name": "stderr",
     "output_type": "stream",
     "text": [
      "3046it [00:14, 206.57it/s]"
     ]
    },
    {
     "name": "stdout",
     "output_type": "stream",
     "text": [
      "ayiwa memorial war memorial\n",
      "ppag suame ppag suame\n",
      "anomangye specialty anomangye specialist\n",
      "kropo charity kropo charity\n",
      "tarkwa tarkwa\n",
      "boase daboase\n"
     ]
    },
    {
     "name": "stderr",
     "output_type": "stream",
     "text": [
      "3113it [00:14, 206.44it/s]"
     ]
    },
    {
     "name": "stdout",
     "output_type": "stream",
     "text": [
      "takoradi takoradi\n",
      "dormaa east district ada east district\n",
      "amasu ahamasu\n"
     ]
    },
    {
     "name": "stderr",
     "output_type": "stream",
     "text": [
      "3203it [00:15, 215.86it/s]"
     ]
    },
    {
     "name": "stdout",
     "output_type": "stream",
     "text": [
      "dormaa west district ada east district\n",
      "fountain care fountain care\n"
     ]
    },
    {
     "name": "stderr",
     "output_type": "stream",
     "text": [
      "3248it [00:15, 218.46it/s]"
     ]
    },
    {
     "name": "stdout",
     "output_type": "stream",
     "text": [
      "atuna atua\n"
     ]
    },
    {
     "name": "stderr",
     "output_type": "stream",
     "text": [
      "3317it [00:15, 219.58it/s]"
     ]
    },
    {
     "name": "stdout",
     "output_type": "stream",
     "text": [
      "atronie atronie\n",
      "atronie atronie\n",
      "atoase abotoase\n"
     ]
    },
    {
     "name": "stderr",
     "output_type": "stream",
     "text": [
      "3360it [00:16, 206.00it/s]"
     ]
    },
    {
     "name": "stdout",
     "output_type": "stream",
     "text": [
      "lane lane\n",
      "opoku opoku\n",
      "sunyani municipal hosp sunyani municipal\n",
      "jamesbert jamesbert\n",
      "cross care cross care\n",
      "agyinasie aiyinase\n"
     ]
    },
    {
     "name": "stderr",
     "output_type": "stream",
     "text": [
      "3402it [00:16, 200.82it/s]"
     ]
    },
    {
     "name": "stdout",
     "output_type": "stream",
     "text": [
      "addoe adidome\n",
      "st. anthony's st. anthony's\n",
      "tainso tanoso\n",
      "yabraso aburaso\n"
     ]
    },
    {
     "name": "stderr",
     "output_type": "stream",
     "text": [
      "3465it [00:16, 193.92it/s]"
     ]
    },
    {
     "name": "stdout",
     "output_type": "stream",
     "text": [
      "st. joseph st. joseph's\n",
      "boadan bodada\n",
      "emil memorial ami memorial\n",
      "wenchi enchi\n",
      "wenchi enchi\n"
     ]
    },
    {
     "name": "stderr",
     "output_type": "stream",
     "text": [
      "3532it [00:16, 209.65it/s]"
     ]
    },
    {
     "name": "stdout",
     "output_type": "stream",
     "text": [
      "fakwesi fakwasi\n",
      "kintampo municipal keta municipal\n"
     ]
    },
    {
     "name": "stderr",
     "output_type": "stream",
     "text": [
      "3599it [00:17, 208.38it/s]"
     ]
    },
    {
     "name": "stdout",
     "output_type": "stream",
     "text": [
      "dumso bethel dumso bethel chps\n",
      "kintampo south district kintampo south district\n",
      "amoako care city amoako  city\n"
     ]
    },
    {
     "name": "stderr",
     "output_type": "stream",
     "text": [
      "3706it [00:17, 208.45it/s]"
     ]
    },
    {
     "name": "stdout",
     "output_type": "stream",
     "text": [
      "our lady of fatima  care our lady of fatima\n"
     ]
    },
    {
     "name": "stderr",
     "output_type": "stream",
     "text": [
      "3773it [00:18, 211.83it/s]"
     ]
    },
    {
     "name": "stdout",
     "output_type": "stream",
     "text": [
      "nkwaeso nkwaeso\n",
      "amoako  city amoako  city\n",
      "bongroso bogoso\n"
     ]
    },
    {
     "name": "stderr",
     "output_type": "stream",
     "text": [
      "3817it [00:18, 213.58it/s]"
     ]
    },
    {
     "name": "stdout",
     "output_type": "stream",
     "text": [
      "abrefi women and children abrafi women and children\n",
      "krobo memorial otoo memorial\n"
     ]
    },
    {
     "name": "stderr",
     "output_type": "stream",
     "text": [
      "3862it [00:18, 209.08it/s]"
     ]
    },
    {
     "name": "stdout",
     "output_type": "stream",
     "text": [
      "abaka abuakwa\n",
      "tuakwa tarkwa\n",
      "nyamedom nyameadom\n",
      "aggrey memorial grace memorial\n",
      "moree moree\n"
     ]
    },
    {
     "name": "stderr",
     "output_type": "stream",
     "text": [
      "3950it [00:18, 212.87it/s]"
     ]
    },
    {
     "name": "stdout",
     "output_type": "stream",
     "text": [
      "ahamadiyya ahmadiyya\n",
      "st joseph st. joseph's\n",
      "essaman essiama\n",
      "yeboah yeboah\n"
     ]
    },
    {
     "name": "stderr",
     "output_type": "stream",
     "text": [
      "3994it [00:19, 208.56it/s]"
     ]
    },
    {
     "name": "stdout",
     "output_type": "stream",
     "text": [
      "ayinasu anyinasuso\n",
      "abaka abuakwa\n",
      "bosomase bodomase\n"
     ]
    },
    {
     "name": "stderr",
     "output_type": "stream",
     "text": [
      "4060it [00:19, 211.32it/s]"
     ]
    },
    {
     "name": "stdout",
     "output_type": "stream",
     "text": [
      "abesewa asesewa\n",
      "our lady of fatima our lady of fatima\n",
      "achiano chirano\n"
     ]
    },
    {
     "name": "stderr",
     "output_type": "stream",
     "text": [
      "4127it [00:19, 215.21it/s]"
     ]
    },
    {
     "name": "stdout",
     "output_type": "stream",
     "text": [
      "achiase achiase\n",
      "providence  & providence\n"
     ]
    },
    {
     "name": "stderr",
     "output_type": "stream",
     "text": [
      "4192it [00:20, 205.26it/s]"
     ]
    },
    {
     "name": "stdout",
     "output_type": "stream",
     "text": [
      "justab justab\n",
      "mother and child ssnit mother and child\n",
      "bethel bethel\n",
      "holy family holy family\n",
      "justab justab\n"
     ]
    },
    {
     "name": "stderr",
     "output_type": "stream",
     "text": [
      "4235it [00:20, 204.55it/s]"
     ]
    },
    {
     "name": "stdout",
     "output_type": "stream",
     "text": [
      "abura abura\n",
      "cape coast teaching cape coast teaching\n",
      "dis dis\n",
      "tantri tantri\n",
      "wghs ghs\n",
      "ola nola\n"
     ]
    },
    {
     "name": "stderr",
     "output_type": "stream",
     "text": [
      "4277it [00:20, 194.61it/s]"
     ]
    },
    {
     "name": "stdout",
     "output_type": "stream",
     "text": [
      "university university\n",
      "gyangyanadze gyangyazie\n",
      "university university\n",
      "winneba municipal wa municipal\n",
      "bethel bethel\n",
      "otoo memorial otoo memorial\n",
      "akwakrom kwamikrom\n",
      "ebuakwa abuakwa\n"
     ]
    },
    {
     "name": "stderr",
     "output_type": "stream",
     "text": [
      "4319it [00:20, 197.88it/s]"
     ]
    },
    {
     "name": "stdout",
     "output_type": "stream",
     "text": [
      "narkwa tarkwa\n",
      "aboso aboso\n",
      "ekwamkrom kwamikrom\n",
      "st gregory catholic st. gregory catholic\n"
     ]
    },
    {
     "name": "stderr",
     "output_type": "stream",
     "text": [
      "4361it [00:20, 201.15it/s]"
     ]
    },
    {
     "name": "stdout",
     "output_type": "stream",
     "text": [
      "nadom nandom\n",
      "roman trust roman trust\n",
      "nsuekyir nsuakyire\n",
      "debiso adeiso\n",
      "eshiem esidem\n"
     ]
    },
    {
     "name": "stderr",
     "output_type": "stream",
     "text": [
      "4403it [00:21, 195.97it/s]"
     ]
    },
    {
     "name": "stdout",
     "output_type": "stream",
     "text": [
      "tarkwa tarkwa\n",
      "dawurampong poly dawurampong\n",
      "abooso aboso\n",
      "elmina poly madina poly\n",
      "good shepherd royal good shepherd\n"
     ]
    },
    {
     "name": "stderr",
     "output_type": "stream",
     "text": [
      "4446it [00:21, 202.75it/s]"
     ]
    },
    {
     "name": "stdout",
     "output_type": "stream",
     "text": [
      "komenda komenda\n",
      "anomabo anoma\n",
      "peace peace\n",
      "st anthony st. anthony's\n"
     ]
    },
    {
     "name": "stderr",
     "output_type": "stream",
     "text": [
      "4510it [00:21, 202.56it/s]"
     ]
    },
    {
     "name": "stdout",
     "output_type": "stream",
     "text": [
      "abodom  compound abodom chps compound\n",
      "mampong mampong\n",
      "st florence st florence\n",
      "achiase achiase\n",
      "dunkwa municipal wa municipal\n"
     ]
    },
    {
     "name": "stderr",
     "output_type": "stream",
     "text": [
      "4553it [00:21, 204.56it/s]"
     ]
    },
    {
     "name": "stdout",
     "output_type": "stream",
     "text": [
      "st mark st. mark\n",
      "pentecost pentecost\n",
      "sda sda\n"
     ]
    },
    {
     "name": "stderr",
     "output_type": "stream",
     "text": [
      "4619it [00:22, 211.60it/s]"
     ]
    },
    {
     "name": "stdout",
     "output_type": "stream",
     "text": [
      "anyinasin nyinahin\n",
      "new tafo new tafo\n",
      "kibi kibi\n"
     ]
    },
    {
     "name": "stderr",
     "output_type": "stream",
     "text": [
      "4663it [00:22, 208.81it/s]"
     ]
    },
    {
     "name": "stdout",
     "output_type": "stream",
     "text": [
      "achiase achiase\n",
      "lab labs\n",
      "adawso adweso\n"
     ]
    },
    {
     "name": "stderr",
     "output_type": "stream",
     "text": [
      "4708it [00:22, 215.08it/s]"
     ]
    },
    {
     "name": "stdout",
     "output_type": "stream",
     "text": [
      "obosomase bodomase\n"
     ]
    },
    {
     "name": "stderr",
     "output_type": "stream",
     "text": [
      "4753it [00:22, 216.80it/s]"
     ]
    },
    {
     "name": "stdout",
     "output_type": "stream",
     "text": [
      "anyinase aiyinase\n",
      "st theresa st. theresia\n"
     ]
    },
    {
     "name": "stderr",
     "output_type": "stream",
     "text": [
      "4797it [00:22, 209.64it/s]"
     ]
    },
    {
     "name": "stdout",
     "output_type": "stream",
     "text": [
      "eshiem esidem\n",
      "adjena adenta\n",
      "adjena adenta\n",
      "boso aboso\n"
     ]
    },
    {
     "name": "stderr",
     "output_type": "stream",
     "text": [
      "4841it [00:23, 208.03it/s]"
     ]
    },
    {
     "name": "stdout",
     "output_type": "stream",
     "text": [
      "boso aboso\n",
      "mampong mampong\n",
      "new jejeti new jejeti\n"
     ]
    },
    {
     "name": "stderr",
     "output_type": "stream",
     "text": [
      "4929it [00:23, 206.53it/s]"
     ]
    },
    {
     "name": "stdout",
     "output_type": "stream",
     "text": [
      "otoase abotoase\n",
      "essam essiama\n",
      "epl epcl\n",
      "oda oda\n",
      "oda oda\n"
     ]
    },
    {
     "name": "stderr",
     "output_type": "stream",
     "text": [
      "4972it [00:23, 205.77it/s]"
     ]
    },
    {
     "name": "stdout",
     "output_type": "stream",
     "text": [
      "okaikrom kwamikrom\n",
      "oforikrom kofikrom\n",
      "st dominic st.dominic\n",
      "boadua bodada\n"
     ]
    },
    {
     "name": "stderr",
     "output_type": "stream",
     "text": [
      "5016it [00:24, 211.04it/s]"
     ]
    },
    {
     "name": "stdout",
     "output_type": "stream",
     "text": [
      "abourso aburaso\n",
      "nkankama nkwankwaa\n"
     ]
    },
    {
     "name": "stderr",
     "output_type": "stream",
     "text": [
      "5107it [00:24, 219.71it/s]"
     ]
    },
    {
     "name": "stdout",
     "output_type": "stream",
     "text": [
      "holy rosary holy rosary\n",
      "asanyanso asanyansu\n"
     ]
    },
    {
     "name": "stderr",
     "output_type": "stream",
     "text": [
      "5174it [00:24, 214.78it/s]"
     ]
    },
    {
     "name": "stdout",
     "output_type": "stream",
     "text": [
      "fosu osu\n",
      "ankoma anoma\n"
     ]
    },
    {
     "name": "stderr",
     "output_type": "stream",
     "text": [
      "5218it [00:24, 211.92it/s]"
     ]
    },
    {
     "name": "stdout",
     "output_type": "stream",
     "text": [
      "asakraka asakraka\n",
      "atibie atibie\n",
      "adawso adweso\n"
     ]
    },
    {
     "name": "stderr",
     "output_type": "stream",
     "text": [
      "5285it [00:25, 214.49it/s]"
     ]
    },
    {
     "name": "stdout",
     "output_type": "stream",
     "text": [
      "kenop care kenop care\n",
      "agyakwa agyakwa\n",
      "akuse akuse\n",
      "adome adidome\n",
      "kpong kpongka\n"
     ]
    },
    {
     "name": "stderr",
     "output_type": "stream",
     "text": [
      "5329it [00:25, 208.83it/s]"
     ]
    },
    {
     "name": "stdout",
     "output_type": "stream",
     "text": [
      "atua atua\n",
      "atua atua\n",
      "mampong mampong\n",
      "asaman amasaman\n"
     ]
    },
    {
     "name": "stderr",
     "output_type": "stream",
     "text": [
      "5373it [00:25, 203.84it/s]"
     ]
    },
    {
     "name": "stdout",
     "output_type": "stream",
     "text": [
      "adweso adweso\n",
      "adweso adweso\n",
      "anglican anglican\n",
      "dr. asomani dr asomani\n",
      "koforidua poly koforidua poly\n",
      "eastern regional eastern regional\n",
      "tanoso tanoso\n",
      "cosmos/damien cosmas- damien\n",
      "koforidua koforidua\n",
      "koforidua sda koforidua\n"
     ]
    },
    {
     "name": "stderr",
     "output_type": "stream",
     "text": [
      "5417it [00:25, 201.29it/s]"
     ]
    },
    {
     "name": "stdout",
     "output_type": "stream",
     "text": [
      "newlands newlands\n"
     ]
    },
    {
     "name": "stderr",
     "output_type": "stream",
     "text": [
      "5484it [00:26, 211.03it/s]"
     ]
    },
    {
     "name": "stdout",
     "output_type": "stream",
     "text": [
      "abonse labone\n",
      "providence providence\n"
     ]
    },
    {
     "name": "stderr",
     "output_type": "stream",
     "text": [
      "5528it [00:26, 209.13it/s]"
     ]
    },
    {
     "name": "stdout",
     "output_type": "stream",
     "text": [
      "okanta okanta\n",
      "suhum suhum\n",
      "sawa sawia\n",
      "asesewa asesewa\n",
      "asesewa asesewa\n"
     ]
    },
    {
     "name": "stderr",
     "output_type": "stream",
     "text": [
      "5595it [00:26, 216.98it/s]"
     ]
    },
    {
     "name": "stdout",
     "output_type": "stream",
     "text": [
      "adeiso adeiso\n"
     ]
    },
    {
     "name": "stderr",
     "output_type": "stream",
     "text": [
      "5662it [00:27, 213.43it/s]"
     ]
    },
    {
     "name": "stdout",
     "output_type": "stream",
     "text": [
      "anum-asaman amasaman\n",
      "akpo vakpo\n",
      "wurapong dawurampong\n"
     ]
    },
    {
     "name": "stderr",
     "output_type": "stream",
     "text": [
      "5729it [00:27, 208.35it/s]"
     ]
    },
    {
     "name": "stdout",
     "output_type": "stream",
     "text": [
      "barnor barnor\n",
      "new cross new cross\n",
      "fred pharmacy edpa pharmacy\n"
     ]
    },
    {
     "name": "stderr",
     "output_type": "stream",
     "text": [
      "5771it [00:27, 198.13it/s]"
     ]
    },
    {
     "name": "stdout",
     "output_type": "stream",
     "text": [
      "hanson memorial anthon memorial\n",
      "family family\n",
      "dansoman poly dansoman poly\n",
      "nyame adom nyameadom\n",
      "nyame adom nyameadom\n"
     ]
    },
    {
     "name": "stderr",
     "output_type": "stream",
     "text": [
      "5811it [00:27, 198.90it/s]"
     ]
    },
    {
     "name": "stdout",
     "output_type": "stream",
     "text": [
      "adwoa boatema memorial adowa boatemaa memorial\n",
      "faith evangelical mission faith evangelical mission\n",
      "korle-bu teaching korle bu teaching\n",
      "mamprobi mamprobi\n",
      "university of ghana  school university of ghana\n"
     ]
    },
    {
     "name": "stderr",
     "output_type": "stream",
     "text": [
      "5855it [00:28, 207.00it/s]"
     ]
    },
    {
     "name": "stdout",
     "output_type": "stream",
     "text": [
      "club road club road\n"
     ]
    },
    {
     "name": "stderr",
     "output_type": "stream",
     "text": [
      "5899it [00:28, 203.78it/s]"
     ]
    },
    {
     "name": "stdout",
     "output_type": "stream",
     "text": [
      "cocoa cocoa\n",
      "hobats hobats\n",
      "kaneshie poly kaneshie poly\n",
      "love lover\n",
      "ada  east district ada east district\n"
     ]
    },
    {
     "name": "stderr",
     "output_type": "stream",
     "text": [
      "5988it [00:28, 208.97it/s]"
     ]
    },
    {
     "name": "stdout",
     "output_type": "stream",
     "text": [
      "adenta adenta\n",
      "mother love mother love\n",
      "mother-love mother love\n",
      "st. john of god st. john of god\n"
     ]
    },
    {
     "name": "stderr",
     "output_type": "stream",
     "text": [
      "6032it [00:28, 197.51it/s]"
     ]
    },
    {
     "name": "stdout",
     "output_type": "stream",
     "text": [
      "hag hag\n",
      "rinat rinat\n",
      "marie stopes marie stopes\n",
      "middle east middle east\n",
      "st. bernard st. bernhard eye\n",
      "st mina st. mina\n",
      "st. mina st. mina\n",
      "general family general family\n"
     ]
    },
    {
     "name": "stderr",
     "output_type": "stream",
     "text": [
      "6074it [00:29, 200.99it/s]"
     ]
    },
    {
     "name": "stdout",
     "output_type": "stream",
     "text": [
      "afenyo memorial afenyo memorial\n",
      "okanta okanta\n",
      "mother of god mother of god\n",
      "nyame adom nyameadom\n"
     ]
    },
    {
     "name": "stderr",
     "output_type": "stream",
     "text": [
      "6116it [00:29, 199.34it/s]"
     ]
    },
    {
     "name": "stdout",
     "output_type": "stream",
     "text": [
      "mother love mother love\n",
      "ashaiman poly ashaiman poly\n",
      "darbem dar-bem\n",
      "st florence st florence\n",
      "anthon memorial anthon memorial\n"
     ]
    },
    {
     "name": "stderr",
     "output_type": "stream",
     "text": [
      "6157it [00:29, 194.23it/s]"
     ]
    },
    {
     "name": "stdout",
     "output_type": "stream",
     "text": [
      "anthon memorial  annex anthon memorial\n",
      "effan victory efan victory\n",
      "37 military 37 military\n",
      "gbc gbc\n",
      "gbc gbc\n",
      "new cross new cross\n",
      "redeem redeemer\n"
     ]
    },
    {
     "name": "stderr",
     "output_type": "stream",
     "text": [
      "6198it [00:29, 192.87it/s]"
     ]
    },
    {
     "name": "stdout",
     "output_type": "stream",
     "text": [
      "zak med zak-med\n",
      "maamobi general mamobi general\n",
      "acacia acacia\n",
      "bemuah royal bemuah royal\n",
      "emmanuel eye emmanuel eye\n",
      "mchenlys mchenly's\n",
      "obaatan pa women's obaatan pa womens\n",
      "quality care quality care\n",
      "save the nation's sight save the nation's sight\n"
     ]
    },
    {
     "name": "stderr",
     "output_type": "stream",
     "text": [
      "6238it [00:29, 181.98it/s]"
     ]
    },
    {
     "name": "stdout",
     "output_type": "stream",
     "text": [
      "university of ghana university of ghana\n",
      "yeboah yeboah\n",
      "airport women's airport womens\n",
      "claron  international claron  international\n",
      "net net\n",
      "nyaho nyaho\n",
      "dr amoah memorial amoah memorial\n"
     ]
    },
    {
     "name": "stderr",
     "output_type": "stream",
     "text": [
      "6304it [00:30, 197.60it/s]"
     ]
    },
    {
     "name": "stdout",
     "output_type": "stream",
     "text": [
      "walmart calmart\n",
      "agbogba agbogba\n",
      "ashongman 1 ashongman\n",
      "ashongman 2 ashongman\n",
      " \n"
     ]
    },
    {
     "name": "stderr",
     "output_type": "stream",
     "text": [
      "6344it [00:30, 182.95it/s]"
     ]
    },
    {
     "name": "stdout",
     "output_type": "stream",
     "text": [
      "van vane\n",
      "faith faith\n",
      "otobea memorial otoo memorial\n",
      "penbrose penbrose\n",
      "agbogba agbogba\n",
      "ashongman ashongman\n",
      "cedar cedars\n",
      "classic diagnostic and classic diagnostic &\n",
      "ga east municipal goaso municipal\n",
      "ghana atomic energy commission ghana atomic energy commission\n",
      "sam j sam j\n"
     ]
    },
    {
     "name": "stderr",
     "output_type": "stream",
     "text": [
      "6430it [00:30, 195.18it/s]"
     ]
    },
    {
     "name": "stdout",
     "output_type": "stream",
     "text": [
      "st. moses st moses\n",
      "bj bj\n",
      "providence specialist provident specialist\n",
      "tantra tantri\n",
      "accra west accra west\n",
      "all faith all faith\n",
      " \n"
     ]
    },
    {
     "name": "stderr",
     "output_type": "stream",
     "text": [
      "6494it [00:31, 189.83it/s]"
     ]
    },
    {
     "name": "stdout",
     "output_type": "stream",
     "text": [
      "amasaman amasaman\n",
      "ga west municipal goaso municipal\n",
      "edith edith's\n",
      "kotoku kotoku\n",
      "kotoku kotoku\n",
      "kotoku kotoku\n",
      "medie medline\n",
      "samsam samsam\n"
     ]
    },
    {
     "name": "stderr",
     "output_type": "stream",
     "text": [
      "6536it [00:31, 187.64it/s]"
     ]
    },
    {
     "name": "stdout",
     "output_type": "stream",
     "text": [
      "adabraka poly adabraka poly\n",
      "odorna odorna\n",
      "odorna odorna\n",
      "dua dua\n",
      "iran iran\n",
      "divine divine\n",
      "osu osu\n",
      "civil service civil service poly\n",
      "c & j medicare c&j medicare\n"
     ]
    },
    {
     "name": "stderr",
     "output_type": "stream",
     "text": [
      "6577it [00:31, 189.01it/s]"
     ]
    },
    {
     "name": "stdout",
     "output_type": "stream",
     "text": [
      "nyaho nyaho\n",
      "sic bob freeman sic bob freeman\n",
      "katamanso atasomanso\n",
      "katamanso atasomanso\n",
      "all care all care\n",
      "atlantis atlantis\n",
      "darkwa memorial armah memorial\n"
     ]
    },
    {
     "name": "stderr",
     "output_type": "stream",
     "text": [
      "6616it [00:31, 185.52it/s]"
     ]
    },
    {
     "name": "stdout",
     "output_type": "stream",
     "text": [
      "faith faith\n",
      "nanoman anoma\n",
      "valley view university valley view university\n",
      "general family general family\n",
      "lebanon lebanon\n"
     ]
    },
    {
     "name": "stderr",
     "output_type": "stream",
     "text": [
      "6657it [00:32, 193.04it/s]"
     ]
    },
    {
     "name": "stdout",
     "output_type": "stream",
     "text": [
      "crossroad crossroad\n",
      "danpong darpong\n",
      "efan victory efan victory\n",
      "lekma poly tema poly\n",
      "aboso aboso\n",
      "solice police\n"
     ]
    },
    {
     "name": "stderr",
     "output_type": "stream",
     "text": [
      "6698it [00:32, 195.17it/s]"
     ]
    },
    {
     "name": "stdout",
     "output_type": "stream",
     "text": [
      "akai house akai house\n",
      "la general la general\n",
      "danfa danfa\n",
      "divine divine\n",
      "greater grace greater grace\n",
      "pantang pantang\n"
     ]
    },
    {
     "name": "stderr",
     "output_type": "stream",
     "text": [
      "6738it [00:32, 190.89it/s]"
     ]
    },
    {
     "name": "stdout",
     "output_type": "stream",
     "text": [
      "pantang pantang\n",
      "pentecost pentecost\n",
      "vision vision\n",
      "esidem esidem\n",
      "pentecost pentecost\n",
      "north legon north legon\n",
      "presby presby\n"
     ]
    },
    {
     "name": "stderr",
     "output_type": "stream",
     "text": [
      "6779it [00:32, 183.27it/s]"
     ]
    },
    {
     "name": "stdout",
     "output_type": "stream",
     "text": [
      "lekma lekma\n",
      "lister lister\n",
      "manna mission manna mission\n",
      "bengazi bengali\n",
      "family family\n",
      "oak street the oak street\n",
      "afienya afienya\n",
      "eastwing eastwing\n",
      "omari omari\n"
     ]
    },
    {
     "name": "stderr",
     "output_type": "stream",
     "text": [
      "6861it [00:33, 192.68it/s]"
     ]
    },
    {
     "name": "stdout",
     "output_type": "stream",
     "text": [
      "emmanuel emmanuel\n",
      "opman opmann\n",
      "achimota achimota\n",
      "al ayar al-ayar\n",
      "al- ayar al-ayar\n"
     ]
    },
    {
     "name": "stderr",
     "output_type": "stream",
     "text": [
      "6923it [00:33, 196.74it/s]"
     ]
    },
    {
     "name": "stdout",
     "output_type": "stream",
     "text": [
      "meridian meridian\n",
      "port port\n",
      "bethel bethel\n",
      "caiquo caiquo\n",
      "narh-bita narh-bita\n",
      "tema new crystal new crystal\n",
      "bengali bengali\n",
      "rapha raphal\n"
     ]
    },
    {
     "name": "stderr",
     "output_type": "stream",
     "text": [
      "6963it [00:33, 187.29it/s]"
     ]
    },
    {
     "name": "stdout",
     "output_type": "stream",
     "text": [
      "tema general tema general\n",
      "tema women tema women's\n",
      "valco valco\n",
      "new crystal new crystal\n",
      "king david king david\n",
      "international maritime international opatic\n",
      "maldey maldey\n",
      "tema poly tema poly\n"
     ]
    },
    {
     "name": "stderr",
     "output_type": "stream",
     "text": [
      "7023it [00:34, 192.32it/s]"
     ]
    },
    {
     "name": "stdout",
     "output_type": "stream",
     "text": [
      "jubail specialist jubail specialist\n",
      "sakumono sakumono\n",
      "sakumono sakumono\n",
      "dora memorial grace memorial\n",
      "oblogo oblogo\n",
      "royal good shepherd royal good shepherd\n"
     ]
    },
    {
     "name": "stderr",
     "output_type": "stream",
     "text": [
      "7067it [00:34, 203.71it/s]"
     ]
    },
    {
     "name": "stdout",
     "output_type": "stream",
     "text": [
      "weija-gbawe municipal weija-gbawe municipal\n",
      "faith faith\n",
      "famisah amiah\n"
     ]
    },
    {
     "name": "stderr",
     "output_type": "stream",
     "text": [
      "7110it [00:34, 205.26it/s]"
     ]
    },
    {
     "name": "stdout",
     "output_type": "stream",
     "text": [
      "divine divine\n",
      "baptist baptist\n",
      "divine divine\n",
      "namoo namoo\n"
     ]
    },
    {
     "name": "stderr",
     "output_type": "stream",
     "text": [
      "7152it [00:34, 201.50it/s]"
     ]
    },
    {
     "name": "stdout",
     "output_type": "stream",
     "text": [
      "janga poly janga poly\n",
      "janga rch janga chps\n",
      "kpasenkpe kpasinkpe\n",
      "catholic family reproductive  project catholic family reproductive  program\n",
      "st. patrick's st patrick\n",
      "namongo namolgo\n"
     ]
    },
    {
     "name": "stderr",
     "output_type": "stream",
     "text": [
      "7195it [00:34, 204.37it/s]"
     ]
    },
    {
     "name": "stdout",
     "output_type": "stream",
     "text": [
      "gushiegu gushiegu\n",
      "kpatinga kpatia\n",
      "karaga district lawra district\n",
      "bagurugu bagurugu\n"
     ]
    },
    {
     "name": "stderr",
     "output_type": "stream",
     "text": [
      "7239it [00:35, 207.60it/s]"
     ]
    },
    {
     "name": "stdout",
     "output_type": "stream",
     "text": [
      "pishigu pishigu\n"
     ]
    },
    {
     "name": "stderr",
     "output_type": "stream",
     "text": [
      "7330it [00:35, 219.93it/s]"
     ]
    },
    {
     "name": "stdout",
     "output_type": "stream",
     "text": [
      "kpabia kpatia\n",
      "bimbilla  district zebilla district\n",
      "pusugu pusupu\n"
     ]
    },
    {
     "name": "stderr",
     "output_type": "stream",
     "text": [
      "7421it [00:35, 220.53it/s]"
     ]
    },
    {
     "name": "stdout",
     "output_type": "stream",
     "text": [
      "yashfah  services faith  services\n",
      "fulera fulera\n",
      "gurugu bagurugu\n"
     ]
    },
    {
     "name": "stderr",
     "output_type": "stream",
     "text": [
      "7465it [00:36, 207.12it/s]"
     ]
    },
    {
     "name": "stdout",
     "output_type": "stream",
     "text": [
      "tamale technical university tamale technical university\n",
      "god cares god cares\n",
      "tania specialist tizaa specialist\n",
      "emmanuel refuge emmanuel eye\n",
      "fuo fuo\n",
      "fuo fuo\n"
     ]
    },
    {
     "name": "stderr",
     "output_type": "stream",
     "text": [
      "7507it [00:36, 202.02it/s]"
     ]
    },
    {
     "name": "stdout",
     "output_type": "stream",
     "text": [
      "diare diare\n",
      "kpong kpongka\n",
      "savelugu district savelugu district\n",
      "rabito rabito\n"
     ]
    },
    {
     "name": "stderr",
     "output_type": "stream",
     "text": [
      "7550it [00:36, 203.32it/s]"
     ]
    },
    {
     "name": "stdout",
     "output_type": "stream",
     "text": [
      "tamale teaching tamale teaching\n",
      "tamale west tamale west\n",
      "kabsad scientific kabsad scientific\n"
     ]
    },
    {
     "name": "stderr",
     "output_type": "stream",
     "text": [
      "7594it [00:36, 211.31it/s]"
     ]
    },
    {
     "name": "stdout",
     "output_type": "stream",
     "text": [
      "nyankpala sankpala\n",
      "yendi yendi\n"
     ]
    },
    {
     "name": "stderr",
     "output_type": "stream",
     "text": [
      "7660it [00:37, 214.73it/s]"
     ]
    },
    {
     "name": "stdout",
     "output_type": "stream",
     "text": [
      "abotoase abotoase\n",
      "kwamikrom kwamikrom\n",
      "worawora worawora\n",
      "atonkor atorkor\n",
      "bodada bodada\n"
     ]
    },
    {
     "name": "stderr",
     "output_type": "stream",
     "text": [
      "7703it [00:37, 192.29it/s]"
     ]
    },
    {
     "name": "stdout",
     "output_type": "stream",
     "text": [
      "jasikan district jasikan district\n",
      "ahamansu ahamasu\n",
      "ahamansu ahamasu\n",
      "kponkpa kpongka\n",
      "poase cement poase cement\n",
      "poase cement poase cement\n",
      "st. mary theresa st mary theresa\n",
      "bethel bethel\n"
     ]
    },
    {
     "name": "stderr",
     "output_type": "stream",
     "text": [
      "7742it [00:37, 183.79it/s]"
     ]
    },
    {
     "name": "stdout",
     "output_type": "stream",
     "text": [
      "faith faith\n",
      "kadjebi kedjebi\n",
      "okanta okanta\n",
      "asukawkaw asukawkaw\n"
     ]
    },
    {
     "name": "stderr",
     "output_type": "stream",
     "text": [
      "7807it [00:37, 201.36it/s]"
     ]
    },
    {
     "name": "stdout",
     "output_type": "stream",
     "text": [
      "yariga nyariga\n",
      "st luke st. lukes\n"
     ]
    },
    {
     "name": "stderr",
     "output_type": "stream",
     "text": [
      "7850it [00:38, 206.31it/s]"
     ]
    },
    {
     "name": "stdout",
     "output_type": "stream",
     "text": [
      "kpassa kpassa\n",
      "kpassa kpassa\n",
      "pusupu pusupu\n",
      "nkwanta municipal nkwanta south municipal\n"
     ]
    },
    {
     "name": "stderr",
     "output_type": "stream",
     "text": [
      "7894it [00:38, 211.12it/s]"
     ]
    },
    {
     "name": "stdout",
     "output_type": "stream",
     "text": [
      "bole district bole district\n",
      "sankpala sankpala\n"
     ]
    },
    {
     "name": "stderr",
     "output_type": "stream",
     "text": [
      "7983it [00:38, 206.71it/s]"
     ]
    },
    {
     "name": "stdout",
     "output_type": "stream",
     "text": [
      "presby presby\n",
      "salaga district lawra district\n",
      "sakpalua sankpala\n"
     ]
    },
    {
     "name": "stderr",
     "output_type": "stream",
     "text": [
      "8050it [00:38, 210.99it/s]"
     ]
    },
    {
     "name": "stdout",
     "output_type": "stream",
     "text": [
      "busunu busunu\n",
      "larabanga larabanga\n"
     ]
    },
    {
     "name": "stderr",
     "output_type": "stream",
     "text": [
      "8165it [00:39, 216.78it/s]"
     ]
    },
    {
     "name": "stdout",
     "output_type": "stream",
     "text": [
      "atuba atua\n",
      "pologo oblogo\n",
      "zuarungu zuarungu\n"
     ]
    },
    {
     "name": "stderr",
     "output_type": "stream",
     "text": [
      "8231it [00:39, 210.22it/s]"
     ]
    },
    {
     "name": "stdout",
     "output_type": "stream",
     "text": [
      "nyariga nyariga\n",
      "afrikids - afrikids\n",
      "amiah amiah\n",
      "presby presby\n"
     ]
    },
    {
     "name": "stderr",
     "output_type": "stream",
     "text": [
      "8275it [00:40, 212.15it/s]"
     ]
    },
    {
     "name": "stdout",
     "output_type": "stream",
     "text": [
      "dua dua\n",
      "namoo namoo\n"
     ]
    },
    {
     "name": "stderr",
     "output_type": "stream",
     "text": [
      "8320it [00:40, 212.74it/s]"
     ]
    },
    {
     "name": "stdout",
     "output_type": "stream",
     "text": [
      "nyariga nyariga\n",
      "st. theresah st. theresia\n"
     ]
    },
    {
     "name": "stderr",
     "output_type": "stream",
     "text": [
      "8387it [00:40, 214.98it/s]"
     ]
    },
    {
     "name": "stdout",
     "output_type": "stream",
     "text": [
      "garu garu\n",
      "kpatua kpatia\n",
      "kologo oblogo\n"
     ]
    },
    {
     "name": "stderr",
     "output_type": "stream",
     "text": [
      "8432it [00:40, 216.59it/s]"
     ]
    },
    {
     "name": "stdout",
     "output_type": "stream",
     "text": [
      "war memorial war memorial\n"
     ]
    },
    {
     "name": "stderr",
     "output_type": "stream",
     "text": [
      "8500it [00:41, 212.58it/s]"
     ]
    },
    {
     "name": "stdout",
     "output_type": "stream",
     "text": [
      "gwaru garu\n",
      "busungu busunu\n",
      "ayamfoya memorial amoah memorial\n",
      "salifu memorial ami memorial\n"
     ]
    },
    {
     "name": "stderr",
     "output_type": "stream",
     "text": [
      "8544it [00:41, 209.51it/s]"
     ]
    },
    {
     "name": "stdout",
     "output_type": "stream",
     "text": [
      "nakom nako\n",
      "yariga nyariga\n",
      "namolgo namolgo\n",
      "shia shia\n"
     ]
    },
    {
     "name": "stderr",
     "output_type": "stream",
     "text": [
      "8587it [00:41, 206.96it/s]"
     ]
    },
    {
     "name": "stdout",
     "output_type": "stream",
     "text": [
      "talensi district talensi district\n",
      "kongo konongo\n",
      "rabito rabito\n"
     ]
    },
    {
     "name": "stderr",
     "output_type": "stream",
     "text": [
      "8654it [00:41, 209.66it/s]"
     ]
    },
    {
     "name": "stdout",
     "output_type": "stream",
     "text": [
      "hain poly ashaiman poly\n",
      "st. joseph's st. joseph's\n"
     ]
    },
    {
     "name": "stderr",
     "output_type": "stream",
     "text": [
      "8767it [00:42, 216.02it/s]"
     ]
    },
    {
     "name": "stdout",
     "output_type": "stream",
     "text": [
      "furo fuo\n",
      "jang jaang\n"
     ]
    },
    {
     "name": "stderr",
     "output_type": "stream",
     "text": [
      "8859it [00:42, 217.95it/s]"
     ]
    },
    {
     "name": "stdout",
     "output_type": "stream",
     "text": [
      "good shepherd royal good shepherd\n",
      "nandom nandom\n"
     ]
    },
    {
     "name": "stderr",
     "output_type": "stream",
     "text": [
      "8996it [00:43, 211.94it/s]"
     ]
    },
    {
     "name": "stdout",
     "output_type": "stream",
     "text": [
      "st. john's st. joseph's\n",
      "katua atua\n",
      "chasia charia\n",
      "charia charia\n"
     ]
    },
    {
     "name": "stderr",
     "output_type": "stream",
     "text": [
      "9063it [00:43, 214.77it/s]"
     ]
    },
    {
     "name": "stdout",
     "output_type": "stream",
     "text": [
      "wa municipal wa municipal\n",
      "poyentanga ponyentanga\n"
     ]
    },
    {
     "name": "stderr",
     "output_type": "stream",
     "text": [
      "9107it [00:43, 209.62it/s]"
     ]
    },
    {
     "name": "stdout",
     "output_type": "stream",
     "text": [
      "wa west district ada east district\n",
      "have have\n",
      "have have\n"
     ]
    },
    {
     "name": "stderr",
     "output_type": "stream",
     "text": [
      "9175it [00:44, 216.20it/s]"
     ]
    },
    {
     "name": "stdout",
     "output_type": "stream",
     "text": [
      "akatsi district akatsi district\n",
      "atorkor atorkor\n"
     ]
    },
    {
     "name": "stderr",
     "output_type": "stream",
     "text": [
      "9265it [00:44, 207.53it/s]"
     ]
    },
    {
     "name": "stdout",
     "output_type": "stream",
     "text": [
      "duga dua\n",
      "forsight foresight\n",
      "ho municipal ho municipal\n",
      "ho technical university tamale technical university\n",
      "volta regional volta regional\n",
      "shia shia\n"
     ]
    },
    {
     "name": "stderr",
     "output_type": "stream",
     "text": [
      "9307it [00:44, 197.36it/s]"
     ]
    },
    {
     "name": "stdout",
     "output_type": "stream",
     "text": [
      "gisela memorial nagel memorial\n",
      "ameco ameco\n",
      "vane vane\n",
      "kpedze  poly kpedze poly\n",
      "tsibu tsibu\n",
      "dzolokpuita dzolopuita\n",
      "st. francis st francis\n"
     ]
    },
    {
     "name": "stderr",
     "output_type": "stream",
     "text": [
      "9372it [00:45, 207.14it/s]"
     ]
    },
    {
     "name": "stdout",
     "output_type": "stream",
     "text": [
      "hohoe municipal hohoe municipal\n",
      "likpe bakua poly likpe bakua poly\n",
      "keta municipal keta municipal\n"
     ]
    },
    {
     "name": "stderr",
     "output_type": "stream",
     "text": [
      "9439it [00:45, 208.61it/s]"
     ]
    },
    {
     "name": "stdout",
     "output_type": "stream",
     "text": [
      "central aflao central aflao\n",
      "ketu south district ketu south district\n",
      "new hope new hope\n",
      "sape agbo memorial sape agbo memorial\n",
      "margret marquart catholic margret marquart catholic\n"
     ]
    },
    {
     "name": "stderr",
     "output_type": "stream",
     "text": [
      "9502it [00:45, 204.16it/s]"
     ]
    },
    {
     "name": "stdout",
     "output_type": "stream",
     "text": [
      "torkor atorkor\n",
      "anfoega catholic anfoega catholic\n",
      "botoku kotoku\n",
      "vakpo vakpo\n"
     ]
    },
    {
     "name": "stderr",
     "output_type": "stream",
     "text": [
      "9570it [00:46, 211.49it/s]"
     ]
    },
    {
     "name": "stdout",
     "output_type": "stream",
     "text": [
      "kpeve newtown kpeve new town\n",
      "wegbe kpalime wegbe kpalime\n",
      "peki peki\n"
     ]
    },
    {
     "name": "stderr",
     "output_type": "stream",
     "text": [
      "9614it [00:46, 207.32it/s]"
     ]
    },
    {
     "name": "stdout",
     "output_type": "stream",
     "text": [
      "comboni comboni\n",
      "sogakope district sogakope district\n",
      "abura abura\n",
      "abura abura\n"
     ]
    },
    {
     "name": "stderr",
     "output_type": "stream",
     "text": [
      "9681it [00:46, 209.74it/s]"
     ]
    },
    {
     "name": "stdout",
     "output_type": "stream",
     "text": [
      "family family\n",
      "new crystal new crystal\n",
      "takoradi technical university tamale technical university\n",
      "aiyinase aiyinase\n"
     ]
    },
    {
     "name": "stderr",
     "output_type": "stream",
     "text": [
      "9746it [00:46, 205.56it/s]"
     ]
    },
    {
     "name": "stdout",
     "output_type": "stream",
     "text": [
      "asanta santa\n",
      "esiama essiama\n",
      "kwasikrom kwamikrom\n",
      "elubo elubo\n",
      "frontier frontier\n",
      "half assini half-assini\n"
     ]
    },
    {
     "name": "stderr",
     "output_type": "stream",
     "text": [
      "9789it [00:47, 208.41it/s]"
     ]
    },
    {
     "name": "stdout",
     "output_type": "stream",
     "text": [
      "nzema baptist nzema baptist\n",
      "our lady of fatima our lady of fatima\n"
     ]
    },
    {
     "name": "stderr",
     "output_type": "stream",
     "text": [
      "9853it [00:47, 204.93it/s]"
     ]
    },
    {
     "name": "stdout",
     "output_type": "stream",
     "text": [
      "aboso aboso\n",
      "bogoso bogoso\n",
      "bogoso bogoso\n",
      "st edward st. edward's\n"
     ]
    },
    {
     "name": "stderr",
     "output_type": "stream",
     "text": [
      "9918it [00:47, 204.55it/s]"
     ]
    },
    {
     "name": "stdout",
     "output_type": "stream",
     "text": [
      "effia nkwanta regional effia nkwanta regional\n",
      "madamfo specialist madamfo specialist\n",
      "sanford sanford\n",
      "stratford stanford\n",
      "nagel memorial  sda nagel memorial\n",
      "st francis st francis\n"
     ]
    },
    {
     "name": "stderr",
     "output_type": "stream",
     "text": [
      "9960it [00:48, 192.37it/s]"
     ]
    },
    {
     "name": "stdout",
     "output_type": "stream",
     "text": [
      "dis dis\n",
      "international sos international mission\n",
      "port port\n",
      "tadi high street takoradi high street\n",
      "takoradi takoradi\n",
      "twin city twin city\n",
      "vra vra\n",
      "shama shama\n"
     ]
    },
    {
     "name": "stderr",
     "output_type": "stream",
     "text": [
      "10002it [00:48, 191.74it/s]"
     ]
    },
    {
     "name": "stdout",
     "output_type": "stream",
     "text": [
      "anyinase aiyinase\n",
      "sam jonna sam jonah\n",
      "tebrebe tebrebe\n",
      "divine divine\n",
      "gmc gmc\n",
      "ami memorial ami memorial\n",
      "brahabobom brahabebome\n"
     ]
    },
    {
     "name": "stderr",
     "output_type": "stream",
     "text": [
      "10063it [00:48, 189.08it/s]"
     ]
    },
    {
     "name": "stdout",
     "output_type": "stream",
     "text": [
      "rabboni christian rabboni christian\n",
      "redeemer redeemer\n",
      "tarkwa tarkwa\n",
      "tarkwa municipal wa municipal\n",
      "umat umat\n",
      "daboase daboase\n",
      "kofiekrom kofikrom\n"
     ]
    },
    {
     "name": "stderr",
     "output_type": "stream",
     "text": [
      "10126it [00:48, 197.28it/s]"
     ]
    },
    {
     "name": "stdout",
     "output_type": "stream",
     "text": [
      "st. mark st. mark\n",
      "wassa akropong govt wassa akropong\n",
      "dawurampong dawurampong\n",
      "bibianiha bibiani\n",
      "afiena afienya\n"
     ]
    },
    {
     "name": "stderr",
     "output_type": "stream",
     "text": [
      "10171it [00:49, 205.81it/s]"
     ]
    },
    {
     "name": "stdout",
     "output_type": "stream",
     "text": [
      "father thomas alan rooney memorial father thomas allan rooney memorial\n",
      "samartex samartex\n",
      "wassa dunkwa wassa dunkwa\n"
     ]
    },
    {
     "name": "stderr",
     "output_type": "stream",
     "text": [
      "10236it [00:49, 209.88it/s]"
     ]
    },
    {
     "name": "stdout",
     "output_type": "stream",
     "text": [
      "nsadweso adweso\n",
      "daboase daboase\n"
     ]
    },
    {
     "name": "stderr",
     "output_type": "stream",
     "text": [
      "10280it [00:49, 208.81it/s]"
     ]
    },
    {
     "name": "stdout",
     "output_type": "stream",
     "text": [
      "enchi enchi\n",
      "bongoso bogoso\n",
      "yonkofa yonkofa\n"
     ]
    },
    {
     "name": "stderr",
     "output_type": "stream",
     "text": [
      "10323it [00:49, 207.54it/s]"
     ]
    },
    {
     "name": "stdout",
     "output_type": "stream",
     "text": [
      "oforikrom kofikrom\n",
      "essam essiama\n",
      "kwamebikrom kwamikrom\n"
     ]
    },
    {
     "name": "stderr",
     "output_type": "stream",
     "text": [
      "10367it [00:50, 207.24it/s]"
     ]
    },
    {
     "name": "stdout",
     "output_type": "stream",
     "text": [
      "anhwiaso ahwiaso\n",
      "debiso adeiso\n",
      "green shield green shed\n",
      "sefwi bekwai sefwi bekwai\n",
      "daks daks\n"
     ]
    },
    {
     "name": "stderr",
     "output_type": "stream",
     "text": [
      "10409it [00:50, 199.88it/s]"
     ]
    },
    {
     "name": "stdout",
     "output_type": "stream",
     "text": [
      "divine love divine love\n",
      "kwamekrom kwamikrom\n",
      "anyinase aiyinase\n",
      "chirano chirano\n"
     ]
    },
    {
     "name": "stderr",
     "output_type": "stream",
     "text": [
      "10453it [00:50, 198.06it/s]"
     ]
    },
    {
     "name": "stdout",
     "output_type": "stream",
     "text": [
      "yeboah's yeboah\n",
      "topman opmann\n",
      "juaboso aboso\n",
      "kwawkrom kwamikrom\n",
      "eluibo elubo\n",
      "santase santa\n",
      "benchema bechem\n"
     ]
    },
    {
     "name": "stderr",
     "output_type": "stream",
     "text": [
      "10516it [00:50, 204.13it/s]"
     ]
    },
    {
     "name": "stdout",
     "output_type": "stream",
     "text": [
      "kofikrom kofikrom\n",
      "divine divine\n"
     ]
    },
    {
     "name": "stderr",
     "output_type": "stream",
     "text": [
      "10564it [00:51, 207.13it/s]"
     ]
    },
    {
     "name": "stdout",
     "output_type": "stream",
     "text": [
      "greenshield greenfield\n",
      "tanoso tanoso\n",
      "paboase daboase\n"
     ]
    },
    {
     "name": "stderr",
     "output_type": "stream",
     "text": [
      "\n"
     ]
    }
   ],
   "source": [
    "for idx, row in tqdm(records.iterrows()):\n",
    "    \n",
    "    # Check if there is another entry with location\n",
    "    match, score = match_name(row.NAME, list(nodes_io['name']), 80)\n",
    "#     match, score = match_name(row.name_concat, list(nodes_io.name_concat), 85)\n",
    "    \n",
    "    if score > 0:\n",
    "        print(row.NAME, match)\n",
    "        matching_row = nodes_io.loc[nodes_io['name']==match].copy()\n",
    "        res = matching_row.iloc[0]\n",
    "        \n",
    "        geocoded=False\n",
    "        if not pd.isna(row.adm2):\n",
    "            adm2 = geob2.loc[geob2['shapeName'] == row['adm2']].copy()\n",
    "            if adm2.contains(res.geometry).values[0] == True:\n",
    "                records.loc[idx, \"longitude\"] = res.geometry.x\n",
    "                records.loc[idx, \"latitude\"] = res.geometry.y\n",
    "                records.loc[idx, \"geocoding_method\"] = \"Location from Health Sites IO and within admin 2\"\n",
    "                geocoded=True\n",
    "        \n",
    "        if (geocoded==False) and (not pd.isna(row.adm1)):\n",
    "            adm1 = geob1.loc[geob1['shapeName'] == row['adm1']].copy()\n",
    "            if adm1.contains(res.geometry).values[0] == True:            \n",
    "                records.loc[idx, \"longitude\"] = res.geometry.x\n",
    "                records.loc[idx, \"latitude\"] = res.geometry.y\n",
    "                records.loc[idx, \"geocoding_method\"] = \"Location from Health Sites IO and within admin 1\"\n",
    "                geocoded=True\n",
    "                \n",
    "        if geocoded==False:\n",
    "            records.loc[idx, \"longitude\"] = res.geometry.x\n",
    "            records.loc[idx, \"latitude\"] = res.geometry.y\n",
    "            records.loc[idx, \"geocoding_method\"] = \"Location from Health Sites IO and without admin verification\""
   ]
  },
  {
   "cell_type": "code",
   "execution_count": 42,
   "metadata": {},
   "outputs": [
    {
     "data": {
      "text/html": [
       "<style type=\"text/css\">\n",
       "</style>\n",
       "<table id=\"T_fa262_\">\n",
       "  <thead>\n",
       "    <tr>\n",
       "      <th class=\"blank level0\" >&nbsp;</th>\n",
       "      <th class=\"col_heading level0 col0\" >count</th>\n",
       "      <th class=\"col_heading level0 col1\" >pct</th>\n",
       "    </tr>\n",
       "    <tr>\n",
       "      <th class=\"index_name level0\" >geocoding_method</th>\n",
       "      <th class=\"blank col0\" >&nbsp;</th>\n",
       "      <th class=\"blank col1\" >&nbsp;</th>\n",
       "    </tr>\n",
       "  </thead>\n",
       "  <tbody>\n",
       "    <tr>\n",
       "      <th id=\"T_fa262_level0_row0\" class=\"row_heading level0 row0\" >Location from Health Sites IO and within admin 1</th>\n",
       "      <td id=\"T_fa262_row0_col0\" class=\"data row0 col0\" >144</td>\n",
       "      <td id=\"T_fa262_row0_col1\" class=\"data row0 col1\" >1.4%</td>\n",
       "    </tr>\n",
       "    <tr>\n",
       "      <th id=\"T_fa262_level0_row1\" class=\"row_heading level0 row1\" >Location from Health Sites IO and within admin 2</th>\n",
       "      <td id=\"T_fa262_row1_col0\" class=\"data row1 col0\" >273</td>\n",
       "      <td id=\"T_fa262_row1_col1\" class=\"data row1 col1\" >2.6%</td>\n",
       "    </tr>\n",
       "    <tr>\n",
       "      <th id=\"T_fa262_level0_row2\" class=\"row_heading level0 row2\" >Location from Health Sites IO and without admin verification</th>\n",
       "      <td id=\"T_fa262_row2_col0\" class=\"data row2 col0\" >343</td>\n",
       "      <td id=\"T_fa262_row2_col1\" class=\"data row2 col1\" >3.2%</td>\n",
       "    </tr>\n",
       "    <tr>\n",
       "      <th id=\"T_fa262_level0_row3\" class=\"row_heading level0 row3\" >None</th>\n",
       "      <td id=\"T_fa262_row3_col0\" class=\"data row3 col0\" >9804</td>\n",
       "      <td id=\"T_fa262_row3_col1\" class=\"data row3 col1\" >92.8%</td>\n",
       "    </tr>\n",
       "  </tbody>\n",
       "</table>\n"
      ],
      "text/plain": [
       "<pandas.io.formats.style.Styler at 0x7f0f0dfbc8d0>"
      ]
     },
     "execution_count": 42,
     "metadata": {},
     "output_type": "execute_result"
    }
   ],
   "source": [
    "report_geocoding(records)"
   ]
  },
  {
   "cell_type": "markdown",
   "metadata": {},
   "source": [
    "## RHINoVision Master Facility List Decision Support System"
   ]
  },
  {
   "cell_type": "code",
   "execution_count": 43,
   "metadata": {},
   "outputs": [],
   "source": [
    "#rhino = pd.read_excel(os.path.join(input_dir, \"rhino\", \"00 SSA MFL (130219).xlsx\"), 0)\n",
    "rhino = pd.read_csv(os.path.join(input_dir, \"rhino\", \"00 SSA MFL (130219).csv\"))"
   ]
  },
  {
   "cell_type": "code",
   "execution_count": 44,
   "metadata": {},
   "outputs": [],
   "source": [
    "rhino = rhino.loc[rhino.Country==\"Ghana\"].copy()"
   ]
  },
  {
   "cell_type": "code",
   "execution_count": 45,
   "metadata": {},
   "outputs": [],
   "source": [
    "rhino['name'] = rhino['Facility name'].str.lower()"
   ]
  },
  {
   "cell_type": "code",
   "execution_count": 46,
   "metadata": {},
   "outputs": [],
   "source": [
    "remove_words(rhino, 'name')"
   ]
  },
  {
   "cell_type": "code",
   "execution_count": 47,
   "metadata": {},
   "outputs": [],
   "source": [
    "rhino.loc[:, \"geometry\"] = rhino.apply(lambda x: Point(x.Long, x.Lat), axis=1)\n",
    "rhino = gpd.GeoDataFrame(rhino, geometry='geometry', crs='EPSG:4326')"
   ]
  },
  {
   "cell_type": "code",
   "execution_count": 48,
   "metadata": {
    "scrolled": true
   },
   "outputs": [
    {
     "name": "stderr",
     "output_type": "stream",
     "text": [
      "35it [00:00, 175.45it/s]"
     ]
    },
    {
     "name": "stdout",
     "output_type": "stream",
     "text": [
      "asiedukrom adukrom\n",
      "mangoase mangoase\n",
      "akokoo akokoa\n",
      "apedwa apedwa\n",
      "adukrom adukrom\n",
      "asiakwa asiakwa\n",
      "sos isos\n"
     ]
    },
    {
     "name": "stderr",
     "output_type": "stream",
     "text": [
      "88it [00:00, 171.89it/s]"
     ]
    },
    {
     "name": "stdout",
     "output_type": "stream",
     "text": [
      "bomponso oponso\n",
      "akenkensu akenkenso\n",
      "anamase adamase\n",
      "aperade aprade\n",
      "anyinam anyinam\n",
      "aboabo aboabo\n",
      "kwamoso kwaso\n",
      "akropong akropong\n"
     ]
    },
    {
     "name": "stderr",
     "output_type": "stream",
     "text": [
      "123it [00:00, 171.76it/s]"
     ]
    },
    {
     "name": "stdout",
     "output_type": "stream",
     "text": [
      "larteh larteh\n",
      "besease bisease\n",
      "tetteh quarshie memorial tetteh quarshie memorial district\n",
      "amanfo manfo\n",
      "kom kom\n",
      "berekuso bereku\n"
     ]
    },
    {
     "name": "stderr",
     "output_type": "stream",
     "text": [
      "155it [00:00, 161.35it/s]"
     ]
    },
    {
     "name": "stdout",
     "output_type": "stream",
     "text": [
      "kitase kitare\n",
      "abaase abease\n",
      "pakro pakro\n",
      "pokrom pokukrom\n",
      "abenase abease\n",
      "gyaha gyaha\n",
      "adwafo edwafo\n",
      "akokoaso akokuaso\n"
     ]
    },
    {
     "name": "stderr",
     "output_type": "stream",
     "text": [
      "188it [00:01, 160.72it/s]"
     ]
    },
    {
     "name": "stdout",
     "output_type": "stream",
     "text": [
      "ayirebi ayirebi\n",
      "odumase odumase\n",
      "brenase brenase\n",
      "akyekrom anyekrom\n",
      "akroso akroso\n",
      "akroso akroso\n",
      "asuboa asuboi\n",
      "onomabo anomabo\n"
     ]
    },
    {
     "name": "stderr",
     "output_type": "stream",
     "text": [
      "225it [00:01, 171.87it/s]"
     ]
    },
    {
     "name": "stdout",
     "output_type": "stream",
     "text": [
      "badukrom adukrom\n",
      "manso manso\n",
      "manso manso\n",
      "odumase odumase\n",
      "aboasa aboaso\n",
      "akwamufie akwamufie\n",
      "akwamufie akwamufie\n"
     ]
    },
    {
     "name": "stderr",
     "output_type": "stream",
     "text": [
      "280it [00:01, 173.60it/s]"
     ]
    },
    {
     "name": "stdout",
     "output_type": "stream",
     "text": [
      "asikuma salvation army baa salvation army\n",
      "new akrade new takoradi\n",
      "anyinam anyinam\n"
     ]
    },
    {
     "name": "stderr",
     "output_type": "stream",
     "text": [
      "316it [00:01, 168.60it/s]"
     ]
    },
    {
     "name": "stdout",
     "output_type": "stream",
     "text": [
      "abekwase abease\n",
      "sekyere sekyere\n",
      "abomosu abomosu\n",
      "akrofufu akrofu\n",
      "bomaa bomaa\n",
      "aboabo aboabo\n",
      "asuboi asuboi\n",
      "mankrong mankrong\n"
     ]
    },
    {
     "name": "stderr",
     "output_type": "stream",
     "text": [
      "354it [00:02, 176.70it/s]"
     ]
    },
    {
     "name": "stdout",
     "output_type": "stream",
     "text": [
      "achiansa chiana\n",
      "aboabo aboabo\n",
      "mawuli / quarters gulbi  quarters\n"
     ]
    },
    {
     "name": "stderr",
     "output_type": "stream",
     "text": [
      "390it [00:02, 172.83it/s]"
     ]
    },
    {
     "name": "stdout",
     "output_type": "stream",
     "text": [
      "bramkrom kramokrom\n",
      "mamanso manso\n",
      "abodom abodom\n",
      "kuntunase akutuase\n",
      "st michaels st. micheal\n",
      "tweapease tweapease\n"
     ]
    },
    {
     "name": "stderr",
     "output_type": "stream",
     "text": [
      "427it [00:02, 174.48it/s]"
     ]
    },
    {
     "name": "stdout",
     "output_type": "stream",
     "text": [
      "akwatia nkwatia\n",
      "awusua wusuta\n",
      "domeabra domeabra\n",
      "sadams adamsu\n",
      "dwenease dwease\n",
      "takrowase takrowase\n",
      "dominase dominase\n"
     ]
    },
    {
     "name": "stderr",
     "output_type": "stream",
     "text": [
      "480it [00:02, 165.37it/s]"
     ]
    },
    {
     "name": "stdout",
     "output_type": "stream",
     "text": [
      "obuase obuasi\n",
      "abaase abease\n",
      "begoro salvation army baa salvation army\n",
      "bontrase bontrase\n",
      "bosuso bosuso\n",
      "bepoase bepoase\n",
      "ame zion a.m.e zion\n",
      "nsutam nsuta\n",
      "abodom abodom\n"
     ]
    },
    {
     "name": "stderr",
     "output_type": "stream",
     "text": [
      "514it [00:03, 163.72it/s]"
     ]
    },
    {
     "name": "stdout",
     "output_type": "stream",
     "text": [
      "asuom asuom\n",
      "pramkese pramkese\n",
      "subi subin\n",
      "abenaso benso\n",
      "mpeasem mempeasem\n",
      "techiman techimantia\n",
      "supom supomu\n"
     ]
    },
    {
     "name": "stderr",
     "output_type": "stream",
     "text": [
      "566it [00:03, 166.47it/s]"
     ]
    },
    {
     "name": "stdout",
     "output_type": "stream",
     "text": [
      "adukrom adukrom\n",
      "kayera mayera\n",
      "abotanso aboaso\n"
     ]
    },
    {
     "name": "stderr",
     "output_type": "stream",
     "text": [
      "603it [00:03, 167.90it/s]"
     ]
    },
    {
     "name": "stdout",
     "output_type": "stream",
     "text": [
      "bumpata bompata\n",
      "forifori fofori\n",
      "samanhyia manhyia\n",
      "tease central tamale central\n",
      "tease tease\n"
     ]
    },
    {
     "name": "stderr",
     "output_type": "stream",
     "text": [
      "639it [00:03, 169.57it/s]"
     ]
    },
    {
     "name": "stdout",
     "output_type": "stream",
     "text": [
      "bonkrase bontrase\n",
      "nkwatia nkwatia\n",
      "pepease pepease\n",
      "bepong bepong\n",
      "besease bisease\n",
      "kwahu praso presby kwahu praso presby\n",
      "sukwa sunkwa\n"
     ]
    },
    {
     "name": "stderr",
     "output_type": "stream",
     "text": [
      "673it [00:03, 166.70it/s]"
     ]
    },
    {
     "name": "stdout",
     "output_type": "stream",
     "text": [
      "mpraeso praso\n",
      "obo obo\n",
      "obomeng obomeng\n",
      "nkyenenkyene nkyenekyene\n",
      "kwahu jejeti kwahu jejeti\n"
     ]
    },
    {
     "name": "stderr",
     "output_type": "stream",
     "text": [
      "727it [00:04, 170.13it/s]"
     ]
    },
    {
     "name": "stdout",
     "output_type": "stream",
     "text": [
      "nkawkaw nsawkaw\n",
      "ampekrom ampenkro\n",
      "wawase wamase\n",
      "abanse abease\n",
      "akutue akutuase\n",
      "salom shalom\n"
     ]
    },
    {
     "name": "stderr",
     "output_type": "stream",
     "text": [
      "766it [00:04, 181.14it/s]"
     ]
    },
    {
     "name": "stdout",
     "output_type": "stream",
     "text": [
      "oborpa obopa\n",
      "damang damakung\n"
     ]
    },
    {
     "name": "stderr",
     "output_type": "stream",
     "text": [
      "808it [00:04, 188.21it/s]"
     ]
    },
    {
     "name": "stdout",
     "output_type": "stream",
     "text": [
      "jumapo jumapo\n",
      "abotanso aboaso\n",
      "densuano densuoano\n",
      "nyamekrom nyakrom\n"
     ]
    },
    {
     "name": "stderr",
     "output_type": "stream",
     "text": [
      "869it [00:05, 185.33it/s]"
     ]
    },
    {
     "name": "stdout",
     "output_type": "stream",
     "text": [
      "adoagyiri adoagire\n",
      "new life new life\n",
      "notre dame notre dame\n"
     ]
    },
    {
     "name": "stderr",
     "output_type": "stream",
     "text": [
      "925it [00:05, 170.72it/s]"
     ]
    },
    {
     "name": "stdout",
     "output_type": "stream",
     "text": [
      "abiriw abiriw\n",
      "abiriw abiriw\n",
      "adukrom adukrom\n",
      "kwamanteng amanteng\n",
      "amanfro manfo\n",
      "okrakwadjo okrakwadwo\n",
      "okrakwadjo okrakwadwo\n",
      "suhum district suhum  district\n"
     ]
    },
    {
     "name": "stderr",
     "output_type": "stream",
     "text": [
      "962it [00:05, 174.25it/s]"
     ]
    },
    {
     "name": "stdout",
     "output_type": "stream",
     "text": [
      "kukua kuka\n",
      "amanhyia manhyia\n"
     ]
    },
    {
     "name": "stderr",
     "output_type": "stream",
     "text": [
      "1002it [00:05, 174.53it/s]"
     ]
    },
    {
     "name": "stdout",
     "output_type": "stream",
     "text": [
      "bormase borae\n",
      "sekesua sekesua\n",
      "abesre abease\n",
      "amonkrom kramokrom\n",
      "tiokrom tikrom\n"
     ]
    },
    {
     "name": "stderr",
     "output_type": "stream",
     "text": [
      "1056it [00:06, 167.54it/s]"
     ]
    },
    {
     "name": "stdout",
     "output_type": "stream",
     "text": [
      "kofi asare kofiase\n",
      "akanteng amanteng\n",
      "krofofrom akrofrom\n",
      "abaase abease\n",
      "brekumanso brekumanso\n"
     ]
    },
    {
     "name": "stderr",
     "output_type": "stream",
     "text": [
      "1091it [00:06, 162.99it/s]"
     ]
    },
    {
     "name": "stdout",
     "output_type": "stream",
     "text": [
      "topease tease\n",
      "aprampramu prampram\n",
      "osenase osenase\n",
      "osuboi asuboi\n"
     ]
    },
    {
     "name": "stderr",
     "output_type": "stream",
     "text": [
      "1144it [00:06, 162.27it/s]"
     ]
    },
    {
     "name": "stdout",
     "output_type": "stream",
     "text": [
      "labolabo aboabo\n",
      "ogome torgome\n",
      "somanya somanya\n"
     ]
    },
    {
     "name": "stderr",
     "output_type": "stream",
     "text": [
      "1178it [00:06, 156.56it/s]"
     ]
    },
    {
     "name": "stdout",
     "output_type": "stream",
     "text": [
      "anyimaye anyinamae\n",
      "gyasikrom - gyasikrom\n",
      "abotanso aboaso\n",
      "ampenkro ampenkro\n",
      "church of pentecost church of pentecost\n",
      "dominase dominase\n",
      "bediako betiako\n"
     ]
    },
    {
     "name": "stderr",
     "output_type": "stream",
     "text": [
      "1210it [00:07, 153.55it/s]"
     ]
    },
    {
     "name": "stdout",
     "output_type": "stream",
     "text": [
      "abuom trabuom\n",
      "beposo beposo\n",
      "sankore sankore\n",
      "biaso bisaaso\n"
     ]
    },
    {
     "name": "stderr",
     "output_type": "stream",
     "text": [
      "1246it [00:07, 161.58it/s]"
     ]
    },
    {
     "name": "stdout",
     "output_type": "stream",
     "text": [
      "gyedu gyedu\n",
      "ntotroso ntobroso\n",
      "kenyasi kenyasi\n",
      "acherensua acherensua\n",
      "beposo beposo\n"
     ]
    },
    {
     "name": "stderr",
     "output_type": "stream",
     "text": [
      "1281it [00:07, 158.51it/s]"
     ]
    },
    {
     "name": "stdout",
     "output_type": "stream",
     "text": [
      "dadiesoaba dadiesoaba\n",
      "sienchem rural sienkyemu rural\n",
      "sunkwa sunkwa\n",
      "nkaseim nkasiem\n",
      "subreso subriso\n"
     ]
    },
    {
     "name": "stderr",
     "output_type": "stream",
     "text": [
      "1337it [00:07, 169.48it/s]"
     ]
    },
    {
     "name": "stdout",
     "output_type": "stream",
     "text": [
      "derma derma\n",
      "subriso subriso\n",
      "techimantia techimantia\n",
      "techimantia poly techimantia\n",
      "tweapease tweapease\n",
      "akrofuom akrofrom\n",
      "nkoransa nkoranza\n",
      "sikaman sikaman\n",
      "adamso adamsu\n",
      "ampunyase ampunyasi\n",
      "ampunyase ampunyasi\n",
      "wamasi jamasi\n",
      "aboabo aboabo\n"
     ]
    },
    {
     "name": "stderr",
     "output_type": "stream",
     "text": [
      "1372it [00:08, 154.17it/s]"
     ]
    },
    {
     "name": "stdout",
     "output_type": "stream",
     "text": [
      "aboabo1 aboabo\n",
      "fumso ketewa fumso-ketewa\n",
      "asokwa asokwa\n",
      "asokwa asokwa\n",
      "nyamekrom nyakrom\n",
      "fumso fumso\n",
      "fumso fumso\n"
     ]
    },
    {
     "name": "stderr",
     "output_type": "stream",
     "text": [
      "1403it [00:08, 146.20it/s]"
     ]
    },
    {
     "name": "stdout",
     "output_type": "stream",
     "text": [
      "akrokerri akrokerri\n",
      "akrokerrifie akrokerri\n",
      "fomena fomena\n",
      "fomena fomena\n",
      "kyekyewere kyekyewere\n",
      "patakro pakro\n",
      "akutreso akutreso\n",
      "akutreso akutreso\n",
      "subriso subriso\n"
     ]
    },
    {
     "name": "stderr",
     "output_type": "stream",
     "text": [
      "1433it [00:08, 140.87it/s]"
     ]
    },
    {
     "name": "stdout",
     "output_type": "stream",
     "text": [
      "ataase ataasi\n",
      "edwenase dwease\n",
      "kramokrom kramokrom\n",
      "nkranfo nkwanta nkrankwanta\n",
      "praso praso\n",
      "asamanya amanya\n",
      "ahenkro ahenkro\n",
      "ahenkro ahenkro\n"
     ]
    },
    {
     "name": "stderr",
     "output_type": "stream",
     "text": [
      "1463it [00:08, 139.02it/s]"
     ]
    },
    {
     "name": "stdout",
     "output_type": "stream",
     "text": [
      "kwamang kwamang\n",
      "abroma abromase\n",
      "adukro adukrom\n",
      "boamang boamang\n",
      "boamang boamang\n",
      "akom kom\n",
      "denase dwease\n",
      "banko banko\n",
      "tetrem tetrem\n",
      "aboabogya aboabogya\n",
      "aboabogya aboabogya\n",
      "wawase wamase\n"
     ]
    },
    {
     "name": "stderr",
     "output_type": "stream",
     "text": [
      "1491it [00:09, 133.36it/s]"
     ]
    },
    {
     "name": "stdout",
     "output_type": "stream",
     "text": [
      "afrancho afrancho\n",
      "krobo krobo\n",
      "kyekyere kyekyewere\n",
      "ankaase kaase\n",
      "ejuratia ejuratia\n",
      "methodist faith healing methodist faith healing district\n",
      "brofoyedru brofoyedru\n"
     ]
    },
    {
     "name": "stderr",
     "output_type": "stream",
     "text": [
      "1526it [00:09, 150.09it/s]"
     ]
    },
    {
     "name": "stdout",
     "output_type": "stream",
     "text": [
      "aduman oduman\n",
      "betiako betiako\n",
      "betiako betiako\n",
      "ankaase kaase\n",
      "achina chiana\n",
      "manfo manfo\n"
     ]
    },
    {
     "name": "stderr",
     "output_type": "stream",
     "text": [
      "1558it [00:09, 144.05it/s]"
     ]
    },
    {
     "name": "stdout",
     "output_type": "stream",
     "text": [
      "manfo manfo\n",
      "odumase odumase\n",
      "subriso subriso\n",
      "subriso subriso\n",
      "beposo beposo\n"
     ]
    },
    {
     "name": "stderr",
     "output_type": "stream",
     "text": [
      "1606it [00:09, 146.75it/s]"
     ]
    },
    {
     "name": "stdout",
     "output_type": "stream",
     "text": [
      "biemso biemso\n",
      "domeabra domeabra\n",
      "essienkyem essienkyem\n",
      "nsuta nsuta\n",
      "pokukrom pokukrom\n",
      "pokukrom pokukrom\n",
      "adukrom adukrom\n",
      "sabronum sabronum\n",
      "sabronum sabronum\n",
      "mpasaso mpasaso\n",
      "mpasaso mpasaso\n",
      "anitemfe anitemfe\n"
     ]
    },
    {
     "name": "stderr",
     "output_type": "stream",
     "text": [
      "\r",
      "1622it [00:09, 136.98it/s]"
     ]
    },
    {
     "name": "stdout",
     "output_type": "stream",
     "text": [
      "domeabra domeabra\n",
      "st. johns st. johns\n",
      "wioso wioso\n",
      "wioso wioso\n",
      "mile 14 mile 14\n",
      "mile 14 mile 14\n",
      "mile 18 mile 14\n",
      "akrofrom akrofrom\n"
     ]
    },
    {
     "name": "stderr",
     "output_type": "stream",
     "text": [
      "1673it [00:10, 148.70it/s]"
     ]
    },
    {
     "name": "stdout",
     "output_type": "stream",
     "text": [
      "krofrom akrofrom\n",
      "numereso numereso\n",
      "numereso numereso\n",
      "tweapease tweapease\n",
      "ankam ankam\n",
      "ankam ankam\n",
      "st. martin's catholic st. martin's catholic\n",
      "takorase takrowase\n"
     ]
    },
    {
     "name": "stderr",
     "output_type": "stream",
     "text": [
      "1707it [00:10, 152.21it/s]"
     ]
    },
    {
     "name": "stdout",
     "output_type": "stream",
     "text": [
      "aboaboso aboabo\n",
      "abodom abodom\n",
      "akropong akropong\n",
      "essuowin essuowin\n"
     ]
    },
    {
     "name": "stderr",
     "output_type": "stream",
     "text": [
      "1741it [00:10, 150.80it/s]"
     ]
    },
    {
     "name": "stdout",
     "output_type": "stream",
     "text": [
      "kyenkyenase nkyenekyene\n",
      "yawkrom nyakrom\n",
      "dwease dwease\n",
      "kramokrom kramokrom\n",
      "nsiakrom mensakrom\n",
      "praaso praaso\n",
      "odumase odumase\n"
     ]
    },
    {
     "name": "stderr",
     "output_type": "stream",
     "text": [
      "1775it [00:10, 146.16it/s]"
     ]
    },
    {
     "name": "stdout",
     "output_type": "stream",
     "text": [
      "bebome bebome\n",
      "hwidiem hwidiem\n",
      "new town new town\n",
      "akutuase akutuase\n",
      "amantena amanteng\n",
      "amantenaman amantenaman\n",
      "ananekrom ananekrom\n",
      "juansa juansa\n",
      "banka banka\n",
      "banka banka\n",
      "muranaim muranaim\n"
     ]
    },
    {
     "name": "stderr",
     "output_type": "stream",
     "text": [
      "1820it [00:11, 140.62it/s]"
     ]
    },
    {
     "name": "stdout",
     "output_type": "stream",
     "text": [
      "asuboa asuboi\n",
      "breku bereku\n",
      "bompata bompata\n",
      "nnadieso nnadieso\n",
      "praso praso\n",
      "juaso district juaso district\n",
      "morso morso\n",
      "morso morso\n",
      "komeso komeso\n",
      "komeso komeso\n"
     ]
    },
    {
     "name": "stderr",
     "output_type": "stream",
     "text": [
      "1850it [00:11, 142.12it/s]"
     ]
    },
    {
     "name": "stdout",
     "output_type": "stream",
     "text": [
      "nyakoma nyakrom\n",
      "obogu obogu\n",
      "bankame ankam\n",
      "dwendwenase dwendwenase\n",
      "ofoase ofoase\n",
      "adidwan adidwan\n",
      "woraso woraso\n",
      "asaam a asaam\n"
     ]
    },
    {
     "name": "stderr",
     "output_type": "stream",
     "text": [
      "1883it [00:11, 148.47it/s]"
     ]
    },
    {
     "name": "stdout",
     "output_type": "stream",
     "text": [
      "asaam asaam\n",
      "benim benim\n",
      "kofiase kofiase\n",
      "nkwanta nkwanta\n",
      "new town new town\n",
      "apaa sda apaa sda\n"
     ]
    },
    {
     "name": "stderr",
     "output_type": "stream",
     "text": [
      "1917it [00:11, 155.46it/s]"
     ]
    },
    {
     "name": "stdout",
     "output_type": "stream",
     "text": [
      "hwediem hwidiem\n",
      "kyekyewere kyekyewere\n",
      "new zongo new zongo\n"
     ]
    },
    {
     "name": "stderr",
     "output_type": "stream",
     "text": [
      "1971it [00:12, 161.23it/s]"
     ]
    },
    {
     "name": "stdout",
     "output_type": "stream",
     "text": [
      "allen allen\n",
      "kaase kaase\n",
      "kaase kaase\n"
     ]
    },
    {
     "name": "stderr",
     "output_type": "stream",
     "text": [
      "2006it [00:12, 163.25it/s]"
     ]
    },
    {
     "name": "stdout",
     "output_type": "stream",
     "text": [
      "ahenema kokoben ahenema kokoben\n",
      "ahenema kokoben ahenema kokoben\n",
      "brofoyedu brofoyedru\n",
      "krofofrom akrofrom\n",
      "nkoranza nkoranza\n",
      "aburaso methodist aburaso methodist\n",
      "foase foase\n",
      "foase foase\n"
     ]
    },
    {
     "name": "stderr",
     "output_type": "stream",
     "text": [
      "2040it [00:12, 143.55it/s]"
     ]
    },
    {
     "name": "stdout",
     "output_type": "stream",
     "text": [
      "traboum trabuom\n",
      "trabuom trabuom\n",
      "abotiaso aboaso\n",
      "afrancho afrancho\n",
      "kwanwoma kwanwoma\n",
      "kwanwoma kwanwoma\n",
      "trede trede\n",
      "trede trede\n",
      "bayerebon no.3 beyerebon no.5\n",
      "abasua abaasa\n",
      "mpasatia mpasatia\n"
     ]
    },
    {
     "name": "stderr",
     "output_type": "stream",
     "text": [
      "2077it [00:12, 159.45it/s]"
     ]
    },
    {
     "name": "stdout",
     "output_type": "stream",
     "text": [
      "agogoso agogo\n",
      "saakrom saakrom\n",
      "okyerekrom okyerko\n",
      "dadiase dadiase\n",
      "nerebehin nerebehi\n"
     ]
    },
    {
     "name": "stderr",
     "output_type": "stream",
     "text": [
      "2129it [00:13, 157.12it/s]"
     ]
    },
    {
     "name": "stdout",
     "output_type": "stream",
     "text": [
      "nkawie-toase nkawie/toase\n",
      "akropong akropong\n",
      "akropong akropong\n",
      "asuofua asuofua\n",
      "barekese barekese\n",
      "barekese barekese\n",
      "dabaa dabala\n"
     ]
    },
    {
     "name": "stderr",
     "output_type": "stream",
     "text": [
      "2164it [00:13, 156.77it/s]"
     ]
    },
    {
     "name": "stdout",
     "output_type": "stream",
     "text": [
      "brofoyedru brofoyedru\n",
      "new zongo new zongo\n",
      "adjamasu adamsu\n",
      "dominase dominase\n",
      "dominase sda dominase sda\n",
      "dadease dadiase\n",
      "kokofu general kokofu general\n"
     ]
    },
    {
     "name": "stderr",
     "output_type": "stream",
     "text": [
      "2196it [00:13, 150.02it/s]"
     ]
    },
    {
     "name": "stdout",
     "output_type": "stream",
     "text": [
      "abodom abodom\n",
      "gyasikrom gyasikrom\n",
      "kwaman kwamang\n",
      "asiwa asiwa\n",
      "asiwa asiwa\n",
      "brofoyedru brofoyedru\n",
      "ankaase kaase\n",
      "duase odumase\n",
      "dunkura dunkura\n"
     ]
    },
    {
     "name": "stderr",
     "output_type": "stream",
     "text": [
      "2228it [00:13, 143.43it/s]"
     ]
    },
    {
     "name": "stdout",
     "output_type": "stream",
     "text": [
      "abosamso aboaso\n",
      "nsutem nsuaem\n",
      "nancy powels nancy powel's\n",
      "beposo beposo\n",
      "brodekwano methodist brodekwanu methodist\n",
      "konkoma sda konkoma sda\n",
      "lake bosomtwe methodist lake bosomtwi methodist\n",
      "jachie jachie\n"
     ]
    },
    {
     "name": "stderr",
     "output_type": "stream",
     "text": [
      "2258it [00:14, 144.36it/s]"
     ]
    },
    {
     "name": "stdout",
     "output_type": "stream",
     "text": [
      "tetrefu tetrefu\n",
      "tetrefu tetrefu\n",
      "anyinatiase anyinase\n",
      "deduako jeduako\n",
      "nyameani methodist nyameani methodist\n",
      "nkwanta nkwanta\n"
     ]
    },
    {
     "name": "stderr",
     "output_type": "stream",
     "text": [
      "2288it [00:14, 138.28it/s]"
     ]
    },
    {
     "name": "stdout",
     "output_type": "stream",
     "text": [
      "oyoko oyoko\n",
      "pramso praso\n",
      "apromase apromase\n",
      "apromase apromase\n",
      "besease bisease\n",
      "domeabra domeabra\n",
      "ejisu ejisu\n",
      "global evangelical global evangelical mission\n"
     ]
    },
    {
     "name": "stderr",
     "output_type": "stream",
     "text": [
      "2340it [00:14, 153.82it/s]"
     ]
    },
    {
     "name": "stdout",
     "output_type": "stream",
     "text": [
      "tikrom tikrom\n",
      "tikrom tikrom\n",
      "abenase abease\n",
      "donyina doninga\n",
      "babaso aboaso\n",
      "kasim nkasiem\n"
     ]
    },
    {
     "name": "stderr",
     "output_type": "stream",
     "text": [
      "2372it [00:14, 152.26it/s]"
     ]
    },
    {
     "name": "stdout",
     "output_type": "stream",
     "text": [
      "mempeasem mempeasem\n",
      "dromankuma mankuma\n",
      "nkwanta nkwanta\n",
      "st. luke -kasei st. luke  kasei\n",
      "aframso aframso\n",
      "homako homako\n"
     ]
    },
    {
     "name": "stderr",
     "output_type": "stream",
     "text": [
      "2405it [00:15, 154.40it/s]"
     ]
    },
    {
     "name": "stdout",
     "output_type": "stream",
     "text": [
      "sekyedumase sekyedumase\n",
      "bomfa bomfa\n",
      "nobewam sda nobewam sda\n",
      "damang damakung\n",
      "nkwantanan nkwanta\n"
     ]
    },
    {
     "name": "stderr",
     "output_type": "stream",
     "text": [
      "2442it [00:15, 166.33it/s]"
     ]
    },
    {
     "name": "stdout",
     "output_type": "stream",
     "text": [
      "mpatsie matse\n",
      "anyinam anyinam\n"
     ]
    },
    {
     "name": "stderr",
     "output_type": "stream",
     "text": [
      "2478it [00:15, 160.04it/s]"
     ]
    },
    {
     "name": "stdout",
     "output_type": "stream",
     "text": [
      "amangoase mangoase\n",
      "lady of grace our lady of grace\n",
      "sepe buokrom sepe-buokrom\n",
      "sepe buokrom sepe-buokrom\n",
      "krofrom akrofrom\n"
     ]
    },
    {
     "name": "stderr",
     "output_type": "stream",
     "text": [
      "2514it [00:15, 167.82it/s]"
     ]
    },
    {
     "name": "stdout",
     "output_type": "stream",
     "text": [
      "manhyia manhyia\n",
      "patasi ataasi\n",
      "domenase dominase\n"
     ]
    },
    {
     "name": "stderr",
     "output_type": "stream",
     "text": [
      "2548it [00:15, 157.79it/s]"
     ]
    },
    {
     "name": "stdout",
     "output_type": "stream",
     "text": [
      "maternal and child maternal and child\n",
      "nsuase nsuaem\n",
      "asafo asafo\n",
      "dadiesoaba dadiesoaba\n",
      "stadium stadium\n",
      "adanwomase adamase\n"
     ]
    },
    {
     "name": "stderr",
     "output_type": "stream",
     "text": [
      "2580it [00:16, 153.49it/s]"
     ]
    },
    {
     "name": "stdout",
     "output_type": "stream",
     "text": [
      "asonomaso anwomaso\n",
      "abirem birem\n",
      "antoa antoa\n",
      "antoa antoa\n",
      "kenyase kenyasi\n",
      "bronum sabronum\n"
     ]
    },
    {
     "name": "stderr",
     "output_type": "stream",
     "text": [
      "2616it [00:16, 157.76it/s]"
     ]
    },
    {
     "name": "stdout",
     "output_type": "stream",
     "text": [
      "nwamase wamase\n",
      "apatrapa apatrapa\n",
      "apatrapa apatrapa\n",
      "kwadaso kwaso\n",
      "anyinam anyinam\n",
      "anyinam anyinam\n",
      "mensahkrom mensakrom\n"
     ]
    },
    {
     "name": "stderr",
     "output_type": "stream",
     "text": [
      "2651it [00:16, 157.80it/s]"
     ]
    },
    {
     "name": "stdout",
     "output_type": "stream",
     "text": [
      "nyameso nyamegyeso\n",
      "obuasi obuasi\n",
      "adaase adamase\n",
      "kunka kuka\n",
      "kunka kuka\n",
      "domeabra domeabra\n"
     ]
    },
    {
     "name": "stderr",
     "output_type": "stream",
     "text": [
      "2704it [00:16, 166.01it/s]"
     ]
    },
    {
     "name": "stdout",
     "output_type": "stream",
     "text": [
      "odumasi odumase\n",
      "abofour abofour\n",
      "asuboi asuboi\n",
      "kayera mayera\n",
      "baniekrom anyekrom\n",
      "bonsua bonsua\n",
      "bonsua bonsua\n"
     ]
    },
    {
     "name": "stderr",
     "output_type": "stream",
     "text": [
      "2756it [00:17, 164.25it/s]"
     ]
    },
    {
     "name": "stdout",
     "output_type": "stream",
     "text": [
      "st. patrick's catholic st. martin's catholic\n",
      "a.m.e. zion a.m.e zion\n",
      "nyinatase anyinase\n",
      "church of god  and church of god\n",
      "wawase wamase\n",
      "anloga anloga\n",
      "new life new life\n"
     ]
    },
    {
     "name": "stderr",
     "output_type": "stream",
     "text": [
      "2794it [00:17, 167.28it/s]"
     ]
    },
    {
     "name": "stdout",
     "output_type": "stream",
     "text": [
      "anwomaso anwomaso\n",
      "anwomaso anwomaso\n",
      "aprade aprade\n",
      "aprade aprade\n",
      "deduako jeduako\n",
      "kumasi church of christ church of christ\n"
     ]
    },
    {
     "name": "stderr",
     "output_type": "stream",
     "text": [
      "2835it [00:17, 183.69it/s]"
     ]
    },
    {
     "name": "stdout",
     "output_type": "stream",
     "text": [
      "shalom shalom\n",
      "anyinofi anyinofi\n",
      "drobonso droboso\n"
     ]
    },
    {
     "name": "stderr",
     "output_type": "stream",
     "text": [
      "\r",
      "2854it [00:17, 171.75it/s]"
     ]
    },
    {
     "name": "stdout",
     "output_type": "stream",
     "text": [
      "akoma akomade\n",
      "asubuasu asubuasu\n",
      "aframso aframso\n",
      "birem birem\n",
      "abodease abease\n",
      "atonsu atonsu\n",
      "jeduako jeduako\n",
      "kwamang kwamang\n",
      "abasua presby kwameasua presby\n",
      "asokwah asokwa\n",
      "beposo beposo\n"
     ]
    },
    {
     "name": "stderr",
     "output_type": "stream",
     "text": [
      "2906it [00:18, 155.25it/s]"
     ]
    },
    {
     "name": "stdout",
     "output_type": "stream",
     "text": [
      "nsuta nsuta\n",
      "oku catholic oku catholic\n",
      "akokoaso akokuaso\n",
      "oguaa oguaa\n",
      "banko banko\n"
     ]
    },
    {
     "name": "stderr",
     "output_type": "stream",
     "text": [
      "2939it [00:18, 148.96it/s]"
     ]
    },
    {
     "name": "stdout",
     "output_type": "stream",
     "text": [
      "bomeng obomeng\n",
      "sekyere sekyere\n",
      "sekyere sekyere\n",
      "abotanso aboaso\n",
      "pepease pepease\n",
      "asekyerewa sekyere\n",
      "oyoko oyoko\n",
      "woraso woraso\n"
     ]
    },
    {
     "name": "stderr",
     "output_type": "stream",
     "text": [
      "2972it [00:18, 156.61it/s]"
     ]
    },
    {
     "name": "stdout",
     "output_type": "stream",
     "text": [
      "woraso woraso\n",
      "agona agona\n",
      "asamang sda asamang sda\n",
      "boanim boanim\n",
      "jamasi jamasi\n",
      "domeabra domeabra\n",
      "kona kona\n"
     ]
    },
    {
     "name": "stderr",
     "output_type": "stream",
     "text": [
      "3005it [00:18, 156.73it/s]"
     ]
    },
    {
     "name": "stdout",
     "output_type": "stream",
     "text": [
      "sacred heart sacred heart\n",
      "wiamoase sda wiamoase sda\n"
     ]
    },
    {
     "name": "stderr",
     "output_type": "stream",
     "text": [
      "3046it [00:18, 166.27it/s]"
     ]
    },
    {
     "name": "stdout",
     "output_type": "stream",
     "text": [
      "bui rural bui rural\n",
      "sabiye sabiye\n",
      "berekum bereku\n",
      "senase osenase\n",
      "akrofro akrofrom\n"
     ]
    },
    {
     "name": "stderr",
     "output_type": "stream",
     "text": [
      "3098it [00:19, 160.41it/s]"
     ]
    },
    {
     "name": "stdout",
     "output_type": "stream",
     "text": [
      "jinjini jinijini\n",
      "koraso woraso\n",
      "dormaa akwamu dormaa akwamu\n",
      "kofibourkrom bofourkrom\n",
      "ampenkro ampenkro\n"
     ]
    },
    {
     "name": "stderr",
     "output_type": "stream",
     "text": [
      "3131it [00:19, 152.83it/s]"
     ]
    },
    {
     "name": "stdout",
     "output_type": "stream",
     "text": [
      "aboabo presby aboabo presby\n",
      "kwameasua presby kwameasua presby\n",
      "atensu atonsu\n",
      "badukrom adukrom\n"
     ]
    },
    {
     "name": "stderr",
     "output_type": "stream",
     "text": [
      "3163it [00:19, 152.69it/s]"
     ]
    },
    {
     "name": "stdout",
     "output_type": "stream",
     "text": [
      "tweapeasie tweapease\n",
      "krakrom kramokrom\n",
      "nkwantaso nkwanta\n",
      "brofoyebru brofoyedru\n"
     ]
    },
    {
     "name": "stderr",
     "output_type": "stream",
     "text": [
      "3195it [00:19, 150.61it/s]"
     ]
    },
    {
     "name": "stdout",
     "output_type": "stream",
     "text": [
      "kokoa akokoa\n",
      "buni buni\n",
      "goka goka\n",
      "kabile babile\n",
      "mayera mayera\n",
      "suma presby suma presby\n"
     ]
    },
    {
     "name": "stderr",
     "output_type": "stream",
     "text": [
      "3228it [00:20, 146.17it/s]"
     ]
    },
    {
     "name": "stdout",
     "output_type": "stream",
     "text": [
      "abirikasu abirikasu\n",
      "konfourkrom bofourkrom\n",
      "adamsu adamsu\n",
      "asare rural asare rural\n",
      "bodaa rural bodaa rural\n",
      "mpeasem mempeasem\n",
      "new town new town\n",
      "dwenem rural dwenem rural\n",
      "baano rural baano rural\n"
     ]
    },
    {
     "name": "stderr",
     "output_type": "stream",
     "text": [
      "3260it [00:20, 151.76it/s]"
     ]
    },
    {
     "name": "stdout",
     "output_type": "stream",
     "text": [
      "gonasua gonasua\n",
      "adiokor rural asuokor rural\n",
      "green hill green hill\n"
     ]
    },
    {
     "name": "stderr",
     "output_type": "stream",
     "text": [
      "3311it [00:20, 156.06it/s]"
     ]
    },
    {
     "name": "stdout",
     "output_type": "stream",
     "text": [
      "mereku bereku\n",
      "atuahenekrom atuahenekrom\n",
      "kotokrom kotokuom\n",
      "abonsuam bonsua\n",
      "akokorakwadwo okrakwadwo\n",
      "sunyani sda sunyani sda\n"
     ]
    },
    {
     "name": "stderr",
     "output_type": "stream",
     "text": [
      "3350it [00:20, 164.71it/s]"
     ]
    },
    {
     "name": "stdout",
     "output_type": "stream",
     "text": [
      "akuoko akokoa\n",
      "bofourkrom bofourkrom\n",
      "chiraa chiraa\n",
      "ampenkro ampenkro\n"
     ]
    },
    {
     "name": "stderr",
     "output_type": "stream",
     "text": [
      "3388it [00:21, 171.81it/s]"
     ]
    },
    {
     "name": "stdout",
     "output_type": "stream",
     "text": [
      "nsoatre nsoatre\n",
      "kwatire kwatire\n",
      "adamu adamsu\n",
      "akore sankore\n",
      "badu badu\n",
      "bepoayase bepoase\n",
      "debibi debibi\n",
      "debibi debibi\n"
     ]
    },
    {
     "name": "stderr",
     "output_type": "stream",
     "text": [
      "3423it [00:21, 156.95it/s]"
     ]
    },
    {
     "name": "stdout",
     "output_type": "stream",
     "text": [
      "menji menji\n",
      "nsawkaw nsawkaw\n",
      "kyekyewere kyekyewere\n",
      "nasana nasuan\n",
      "seikwa seikwa\n",
      "beposo beposo\n",
      "droboso droboso\n",
      "botenso benso\n",
      "nchiraa chiraa\n"
     ]
    },
    {
     "name": "stderr",
     "output_type": "stream",
     "text": [
      "3474it [00:21, 157.65it/s]"
     ]
    },
    {
     "name": "stdout",
     "output_type": "stream",
     "text": [
      "pramaso praaso\n",
      "subinso subinso\n",
      "ayigbe tanyigbe\n",
      "wenchi methodist wencgi methodist\n",
      "akokoa akokoa\n",
      "amanten amanteng\n"
     ]
    },
    {
     "name": "stderr",
     "output_type": "stream",
     "text": [
      "3508it [00:21, 161.82it/s]"
     ]
    },
    {
     "name": "stdout",
     "output_type": "stream",
     "text": [
      "aprade aprade\n",
      "mempeasem mempeasem\n",
      "kumfia kumfia\n"
     ]
    },
    {
     "name": "stderr",
     "output_type": "stream",
     "text": [
      "3560it [00:22, 165.03it/s]"
     ]
    },
    {
     "name": "stdout",
     "output_type": "stream",
     "text": [
      "annor asare annor asare\n",
      "fanyinama anyinamae\n",
      "new longoro new longoro\n"
     ]
    },
    {
     "name": "stderr",
     "output_type": "stream",
     "text": [
      "3597it [00:22, 170.45it/s]"
     ]
    },
    {
     "name": "stdout",
     "output_type": "stream",
     "text": [
      "apaaso praaso\n",
      "nkwanta nkwanta\n",
      "dromankese dromankese\n",
      "dromankuma mankuma\n",
      "sikaa sikaman\n"
     ]
    },
    {
     "name": "stderr",
     "output_type": "stream",
     "text": [
      "3632it [00:22, 154.45it/s]"
     ]
    },
    {
     "name": "stdout",
     "output_type": "stream",
     "text": [
      "bodom abodom\n",
      "yefri yefri\n",
      "akuma mankuma\n",
      "hwediem hwidiem\n",
      "akropong akropong\n",
      "asonkwaa asokwa\n",
      "salamkrom saakrom\n"
     ]
    },
    {
     "name": "stderr",
     "output_type": "stream",
     "text": [
      "3663it [00:22, 146.95it/s]"
     ]
    },
    {
     "name": "stdout",
     "output_type": "stream",
     "text": [
      "newtown newtown\n",
      "nkoranza nkoranza\n",
      "nyinaase anyinase\n",
      "nchamba chamba\n",
      "parambo parambo\n",
      "cherepo chereponi\n"
     ]
    },
    {
     "name": "stderr",
     "output_type": "stream",
     "text": [
      "3696it [00:23, 148.55it/s]"
     ]
    },
    {
     "name": "stdout",
     "output_type": "stream",
     "text": [
      "abease abease\n",
      "komfourkrom bofourkrom\n",
      "prang prang\n",
      "benim benim\n",
      "zabrama zabrama\n",
      "bassa bassa\n",
      "bassa bassa\n",
      "atrapa apatrapa\n"
     ]
    },
    {
     "name": "stderr",
     "output_type": "stream",
     "text": [
      "3747it [00:23, 159.11it/s]"
     ]
    },
    {
     "name": "stdout",
     "output_type": "stream",
     "text": [
      "kwame danso rch kwame danso\n",
      "sene district sene district\n",
      "mangoase mangoase\n",
      "nsuta nsuta\n"
     ]
    },
    {
     "name": "stderr",
     "output_type": "stream",
     "text": [
      "3800it [00:23, 160.65it/s]"
     ]
    },
    {
     "name": "stdout",
     "output_type": "stream",
     "text": [
      "denteso detieso\n",
      "station station\n",
      "anyinabirem anyinabrim\n",
      "opoku agyeman opoku agyeman\n",
      "akrofrom akrofrom\n",
      "aworowa aworowa\n"
     ]
    },
    {
     "name": "stderr",
     "output_type": "stream",
     "text": [
      "3833it [00:23, 152.88it/s]"
     ]
    },
    {
     "name": "stdout",
     "output_type": "stream",
     "text": [
      "buoyem buoyem\n",
      "krobo krobo\n",
      "abaase abease\n",
      "offuman offuman\n",
      "amangoase mangoase\n",
      "ankaase kaase\n",
      "domeabra domeabra\n",
      "tuobodom tuobodom\n"
     ]
    },
    {
     "name": "stderr",
     "output_type": "stream",
     "text": [
      "3866it [00:24, 155.98it/s]"
     ]
    },
    {
     "name": "stdout",
     "output_type": "stream",
     "text": [
      "abakrampa abakrampa\n",
      "nkwantanan nkwanta\n",
      "abura dunkwa district abura dunkwa district\n",
      "enyinabrim anyinabrim\n",
      "asuansi rural asuansi rural\n",
      "musunkwa sunkwa\n",
      "asafo asafo\n"
     ]
    },
    {
     "name": "stderr",
     "output_type": "stream",
     "text": [
      "3899it [00:24, 153.00it/s]"
     ]
    },
    {
     "name": "stdout",
     "output_type": "stream",
     "text": [
      "mansofo manfo\n",
      "mensakrom mensakrom\n",
      "salvation army poly salvation army\n",
      "kwanyako kwanyako\n",
      "suromanya somanya\n",
      "mankrong mankrong\n",
      "ofoase ofoase\n",
      "abodom abodom\n"
     ]
    },
    {
     "name": "stderr",
     "output_type": "stream",
     "text": [
      "3932it [00:24, 150.72it/s]"
     ]
    },
    {
     "name": "stdout",
     "output_type": "stream",
     "text": [
      "bobikuma bobikuma\n",
      "kwaman kwamang\n",
      "mansokwa asokwa\n",
      "nkum nkum\n",
      "nyakrom nyakrom\n",
      "adukrom adukrom\n"
     ]
    },
    {
     "name": "stderr",
     "output_type": "stream",
     "text": [
      "3966it [00:24, 153.71it/s]"
     ]
    },
    {
     "name": "stdout",
     "output_type": "stream",
     "text": [
      "abaasa abaasa\n",
      "enyan apaa enyan abaasa\n",
      "ajumako district ajumako district\n",
      "baa salvation army baa salvation army\n",
      "osedzi osedze\n",
      "salvation army salvation army\n",
      "techiman techimantia\n",
      "enyanmaim enyan-maim\n",
      "nkwantanum nkwantanum\n",
      "ekwamase wamase\n"
     ]
    },
    {
     "name": "stderr",
     "output_type": "stream",
     "text": [
      "4017it [00:25, 154.48it/s]"
     ]
    },
    {
     "name": "stdout",
     "output_type": "stream",
     "text": [
      "ankaase kaase\n",
      "bass bassa\n",
      "jamra jama\n",
      "our lady of grace our lady of grace\n",
      "nwomaso anwomaso\n",
      "brakwa brakwa\n",
      "odoben odoben\n"
     ]
    },
    {
     "name": "stderr",
     "output_type": "stream",
     "text": [
      "4050it [00:25, 157.59it/s]"
     ]
    },
    {
     "name": "stdout",
     "output_type": "stream",
     "text": [
      "akoti akoti\n",
      "subinso subinso\n",
      "atonsu atonsu\n",
      "dompim dompim\n"
     ]
    },
    {
     "name": "stderr",
     "output_type": "stream",
     "text": [
      "4082it [00:25, 153.98it/s]"
     ]
    },
    {
     "name": "stdout",
     "output_type": "stream",
     "text": [
      "amoakrom kramokrom\n",
      "bediadua bediadua\n",
      "ketukrom kutukrom\n",
      "assin praso assin praso\n",
      "akrofuom akrofrom\n",
      "anyinabrim anyinabrim\n",
      "jakai jakai\n"
     ]
    },
    {
     "name": "stderr",
     "output_type": "stream",
     "text": [
      "4114it [00:25, 146.31it/s]"
     ]
    },
    {
     "name": "stdout",
     "output_type": "stream",
     "text": [
      "manso manso\n",
      "homaho homako\n",
      "nsuta presby nsuta presby\n",
      "aboabo aboabo\n",
      "nuanua nungua\n",
      "ongwa ongwa\n",
      "akrampa abakrampa\n",
      "awutu awutu\n"
     ]
    },
    {
     "name": "stderr",
     "output_type": "stream",
     "text": [
      "4148it [00:26, 153.42it/s]"
     ]
    },
    {
     "name": "stdout",
     "output_type": "stream",
     "text": [
      "bontrase bontrase\n",
      "mangoase mangoase\n",
      "papaase prapamase\n",
      "gada gadza\n"
     ]
    },
    {
     "name": "stderr",
     "output_type": "stream",
     "text": [
      "4206it [00:26, 171.18it/s]"
     ]
    },
    {
     "name": "stdout",
     "output_type": "stream",
     "text": [
      "fathia fatima\n",
      "kasoa kasoa\n",
      "newtown newtown\n",
      "adisadel urban adisadel urban\n",
      "ankaful ansaful\n"
     ]
    },
    {
     "name": "stderr",
     "output_type": "stream",
     "text": [
      "4242it [00:26, 170.32it/s]"
     ]
    },
    {
     "name": "stdout",
     "output_type": "stream",
     "text": [
      "mpeasem mempeasem\n",
      "aged aged\n",
      "cape coast metropolitan cape coast metropolitan\n",
      "holy child holy child\n",
      "brofoyedur brofoyedru\n",
      "ansaful ansaful\n"
     ]
    },
    {
     "name": "stderr",
     "output_type": "stream",
     "text": [
      "4302it [00:26, 180.24it/s]"
     ]
    },
    {
     "name": "stdout",
     "output_type": "stream",
     "text": [
      "winneba winniba\n",
      "essuehyia essuehyia\n",
      "asokwa asokwa\n",
      "otuam otuam\n",
      "abasa abaasa\n",
      "manso manso\n"
     ]
    },
    {
     "name": "stderr",
     "output_type": "stream",
     "text": [
      "\r",
      "4321it [00:26, 164.03it/s]"
     ]
    },
    {
     "name": "stdout",
     "output_type": "stream",
     "text": [
      "nsuaem nsuaem\n",
      "obuasi obuasi\n",
      "buduatta buduatta\n",
      "dominase dominase\n",
      "odumase odumase\n",
      "buduburam rch buduburam\n",
      "nyanyano nyanyano\n"
     ]
    },
    {
     "name": "stderr",
     "output_type": "stream",
     "text": [
      "4356it [00:27, 161.70it/s]"
     ]
    },
    {
     "name": "stdout",
     "output_type": "stream",
     "text": [
      "ojobi ojobi\n",
      "okyereko okyerko\n",
      "potsin potsin\n",
      "ankamu ankam\n",
      "nkoransa nkoranza\n",
      "dago dago\n",
      "akropong akropong\n",
      "oguaa oguaa\n"
     ]
    },
    {
     "name": "stderr",
     "output_type": "stream",
     "text": [
      "4391it [00:27, 153.52it/s]"
     ]
    },
    {
     "name": "stdout",
     "output_type": "stream",
     "text": [
      "mankoadze mankoadze\n",
      "noguchi noguchi\n",
      "abaasa abaasa\n",
      "fomena fomena\n",
      "osedzie osedze\n",
      "agona agona\n",
      "berase abease\n"
     ]
    },
    {
     "name": "stderr",
     "output_type": "stream",
     "text": [
      "4429it [00:27, 163.24it/s]"
     ]
    },
    {
     "name": "stdout",
     "output_type": "stream",
     "text": [
      "besease bisease\n",
      "kissi kissi\n",
      "kormantse kormantse\n",
      "asafora asafo\n",
      "biriwa biriwa\n"
     ]
    },
    {
     "name": "stderr",
     "output_type": "stream",
     "text": [
      "4480it [00:27, 163.72it/s]"
     ]
    },
    {
     "name": "stdout",
     "output_type": "stream",
     "text": [
      "dominase dominase\n",
      "nkwanta nkwanta\n",
      "ankaful ansaful\n",
      "aboabo aboabo\n",
      "mokwa mokwa\n",
      "nyinase anyinase\n",
      "praso praso\n",
      "wamaso wamase\n",
      "frami frami\n"
     ]
    },
    {
     "name": "stderr",
     "output_type": "stream",
     "text": [
      "4515it [00:28, 157.44it/s]"
     ]
    },
    {
     "name": "stdout",
     "output_type": "stream",
     "text": [
      "st vincent st. vincent\n",
      "twapease tweapease\n",
      "nsutem nsuaem\n",
      "jukwa jukwa\n",
      "krobo krobo\n",
      "wawase wamase\n",
      "nkwanta nkwanta\n"
     ]
    },
    {
     "name": "stderr",
     "output_type": "stream",
     "text": [
      "4547it [00:28, 148.06it/s]"
     ]
    },
    {
     "name": "stdout",
     "output_type": "stream",
     "text": [
      "abudukrom adukrom\n",
      "kramokrom kramokrom\n",
      "kyekyewere kyekyewere\n",
      "atobiase atobiase\n",
      "oponso oponso\n",
      "pokukrom pokukrom\n",
      "besease bisease\n",
      "dominase dominase\n",
      "st andrews anglican st. marys anglican\n"
     ]
    },
    {
     "name": "stderr",
     "output_type": "stream",
     "text": [
      "4580it [00:28, 151.92it/s]"
     ]
    },
    {
     "name": "stdout",
     "output_type": "stream",
     "text": [
      "st. johns st. johns\n",
      "diaso diaso\n",
      "subin subin\n",
      "asiedukrom adukrom\n",
      "mangoase mangoase\n"
     ]
    },
    {
     "name": "stderr",
     "output_type": "stream",
     "text": [
      "4614it [00:28, 152.65it/s]"
     ]
    },
    {
     "name": "stdout",
     "output_type": "stream",
     "text": [
      "akokoo akokoa\n",
      "apedwa apedwa\n",
      "adukrom adukrom\n",
      "asiakwa asiakwa\n",
      "bomponso oponso\n"
     ]
    },
    {
     "name": "stderr",
     "output_type": "stream",
     "text": [
      "4651it [00:29, 156.70it/s]"
     ]
    },
    {
     "name": "stdout",
     "output_type": "stream",
     "text": [
      "akenkensu akenkenso\n",
      "anamase adamase\n",
      "aperade aprade\n",
      "anyinam anyinam\n",
      "aboabo aboabo\n",
      "kwamoso kwaso\n",
      "akropong akropong\n",
      "larteh larteh\n"
     ]
    },
    {
     "name": "stderr",
     "output_type": "stream",
     "text": [
      "4684it [00:29, 157.19it/s]"
     ]
    },
    {
     "name": "stdout",
     "output_type": "stream",
     "text": [
      "besease bisease\n",
      "tetteh quarshie memorial tetteh quarshie memorial district\n",
      "amanfo manfo\n",
      "kom kom\n",
      "berekuso bereku\n",
      "kitase kitare\n"
     ]
    },
    {
     "name": "stderr",
     "output_type": "stream",
     "text": [
      "4716it [00:29, 143.89it/s]"
     ]
    },
    {
     "name": "stdout",
     "output_type": "stream",
     "text": [
      "abaase abease\n",
      "pakro pakro\n",
      "pokrom pokukrom\n",
      "abenase abease\n",
      "gyaha gyaha\n",
      "adwafo edwafo\n",
      "akokoaso akokuaso\n",
      "ayirebi ayirebi\n"
     ]
    },
    {
     "name": "stderr",
     "output_type": "stream",
     "text": [
      "4761it [00:29, 144.05it/s]"
     ]
    },
    {
     "name": "stdout",
     "output_type": "stream",
     "text": [
      "odumase odumase\n",
      "brenase brenase\n",
      "akyekrom anyekrom\n",
      "akroso akroso\n",
      "akroso akroso\n",
      "asuboa asuboi\n",
      "onomabo anomabo\n"
     ]
    },
    {
     "name": "stderr",
     "output_type": "stream",
     "text": [
      "4795it [00:30, 153.77it/s]"
     ]
    },
    {
     "name": "stdout",
     "output_type": "stream",
     "text": [
      "badukrom adukrom\n",
      "manso manso\n",
      "manso manso\n",
      "odumase odumase\n",
      "aboasa aboaso\n",
      "akwamufie akwamufie\n",
      "akwamufie akwamufie\n"
     ]
    },
    {
     "name": "stderr",
     "output_type": "stream",
     "text": [
      "4830it [00:30, 162.24it/s]"
     ]
    },
    {
     "name": "stdout",
     "output_type": "stream",
     "text": [
      "asikuma salvation army baa salvation army\n",
      "new akrade new takoradi\n",
      "anyinam anyinam\n"
     ]
    },
    {
     "name": "stderr",
     "output_type": "stream",
     "text": [
      "4865it [00:30, 160.21it/s]"
     ]
    },
    {
     "name": "stdout",
     "output_type": "stream",
     "text": [
      "abekwase abease\n",
      "sekyere sekyere\n",
      "abomosu abomosu\n",
      "akrofufu akrofu\n",
      "bomaa bomaa\n",
      "aboabo aboabo\n",
      "asuboi asuboi\n",
      "mankrong mankrong\n"
     ]
    },
    {
     "name": "stderr",
     "output_type": "stream",
     "text": [
      "4920it [00:30, 168.51it/s]"
     ]
    },
    {
     "name": "stdout",
     "output_type": "stream",
     "text": [
      "achiansa chiana\n",
      "aboabo aboabo\n",
      "mawuli / quarters gulbi  quarters\n"
     ]
    },
    {
     "name": "stderr",
     "output_type": "stream",
     "text": [
      "4955it [00:31, 158.87it/s]"
     ]
    },
    {
     "name": "stdout",
     "output_type": "stream",
     "text": [
      "bramkrom kramokrom\n",
      "mamanso manso\n",
      "abodom abodom\n",
      "kuntunase akutuase\n",
      "st michaels st. micheal\n",
      "tweapease tweapease\n"
     ]
    },
    {
     "name": "stderr",
     "output_type": "stream",
     "text": [
      "4989it [00:31, 158.36it/s]"
     ]
    },
    {
     "name": "stdout",
     "output_type": "stream",
     "text": [
      "akwatia nkwatia\n",
      "awusua wusuta\n",
      "domeabra domeabra\n",
      "sadams adamsu\n",
      "dwenease dwease\n",
      "takrowase takrowase\n",
      "dominase dominase\n"
     ]
    },
    {
     "name": "stderr",
     "output_type": "stream",
     "text": [
      "5024it [00:31, 149.66it/s]"
     ]
    },
    {
     "name": "stdout",
     "output_type": "stream",
     "text": [
      "obuase obuasi\n",
      "abaase abease\n",
      "begoro salvation army baa salvation army\n",
      "bontrase bontrase\n",
      "bosuso bosuso\n",
      "bepoase bepoase\n",
      "ame zion a.m.e zion\n"
     ]
    },
    {
     "name": "stderr",
     "output_type": "stream",
     "text": [
      "5055it [00:31, 147.07it/s]"
     ]
    },
    {
     "name": "stdout",
     "output_type": "stream",
     "text": [
      "nsutam nsuta\n",
      "abodom abodom\n",
      "asuom asuom\n",
      "pramkese pramkese\n"
     ]
    },
    {
     "name": "stderr",
     "output_type": "stream",
     "text": [
      "5087it [00:31, 145.14it/s]"
     ]
    },
    {
     "name": "stdout",
     "output_type": "stream",
     "text": [
      "subi subin\n",
      "abenaso benso\n",
      "mpeasem mempeasem\n",
      "techiman techimantia\n",
      "supom supomu\n",
      "adukrom adukrom\n",
      "kayera mayera\n",
      "abotanso aboaso\n"
     ]
    },
    {
     "name": "stderr",
     "output_type": "stream",
     "text": [
      "5155it [00:32, 159.51it/s]"
     ]
    },
    {
     "name": "stdout",
     "output_type": "stream",
     "text": [
      "bumpata bompata\n",
      "forifori fofori\n",
      "samanhyia manhyia\n",
      "tease central tamale central\n",
      "tease tease\n"
     ]
    },
    {
     "name": "stderr",
     "output_type": "stream",
     "text": [
      "5189it [00:32, 160.49it/s]"
     ]
    },
    {
     "name": "stdout",
     "output_type": "stream",
     "text": [
      "bonkrase bontrase\n",
      "nkwatia nkwatia\n",
      "pepease pepease\n",
      "bepong bepong\n",
      "besease bisease\n",
      "kwahu praso presby kwahu praso presby\n"
     ]
    },
    {
     "name": "stderr",
     "output_type": "stream",
     "text": [
      "5222it [00:32, 154.51it/s]"
     ]
    },
    {
     "name": "stdout",
     "output_type": "stream",
     "text": [
      "sukwa sunkwa\n",
      "mpraeso praso\n",
      "obo obo\n",
      "obomeng obomeng\n",
      "nkyenenkyene nkyenekyene\n"
     ]
    },
    {
     "name": "stderr",
     "output_type": "stream",
     "text": [
      "5259it [00:33, 162.51it/s]"
     ]
    },
    {
     "name": "stdout",
     "output_type": "stream",
     "text": [
      "kwahu jejeti kwahu jejeti\n",
      "nkawkaw nsawkaw\n",
      "ampekrom ampenkro\n",
      "wawase wamase\n",
      "abanse abease\n"
     ]
    },
    {
     "name": "stderr",
     "output_type": "stream",
     "text": [
      "5315it [00:33, 175.33it/s]"
     ]
    },
    {
     "name": "stdout",
     "output_type": "stream",
     "text": [
      "akutue akutuase\n",
      "salom shalom\n",
      "oborpa obopa\n"
     ]
    },
    {
     "name": "stderr",
     "output_type": "stream",
     "text": [
      "5351it [00:33, 173.25it/s]"
     ]
    },
    {
     "name": "stdout",
     "output_type": "stream",
     "text": [
      "damang damakung\n",
      "jumapo jumapo\n",
      "abotanso aboaso\n",
      "densuano densuoano\n"
     ]
    },
    {
     "name": "stderr",
     "output_type": "stream",
     "text": [
      "5396it [00:33, 191.64it/s]"
     ]
    },
    {
     "name": "stdout",
     "output_type": "stream",
     "text": [
      "nyamekrom nyakrom\n",
      "adoagyiri adoagire\n",
      "new life new life\n",
      "notre dame notre dame\n"
     ]
    },
    {
     "name": "stderr",
     "output_type": "stream",
     "text": [
      "5472it [00:34, 162.14it/s]"
     ]
    },
    {
     "name": "stdout",
     "output_type": "stream",
     "text": [
      "abiriw abiriw\n",
      "abiriw abiriw\n",
      "adukrom adukrom\n",
      "kwamanteng amanteng\n",
      "amanfro manfo\n",
      "okrakwadjo okrakwadwo\n",
      "okrakwadjo okrakwadwo\n"
     ]
    },
    {
     "name": "stderr",
     "output_type": "stream",
     "text": [
      "5508it [00:34, 168.66it/s]"
     ]
    },
    {
     "name": "stdout",
     "output_type": "stream",
     "text": [
      "suhum district suhum  district\n",
      "kukua kuka\n",
      "amanhyia manhyia\n"
     ]
    },
    {
     "name": "stderr",
     "output_type": "stream",
     "text": [
      "5564it [00:34, 171.27it/s]"
     ]
    },
    {
     "name": "stdout",
     "output_type": "stream",
     "text": [
      "bormase borae\n",
      "sekesua sekesua\n",
      "abesre abease\n",
      "amonkrom kramokrom\n",
      "tiokrom tikrom\n"
     ]
    },
    {
     "name": "stderr",
     "output_type": "stream",
     "text": [
      "5616it [00:35, 158.81it/s]"
     ]
    },
    {
     "name": "stdout",
     "output_type": "stream",
     "text": [
      "akanteng amanteng\n",
      "krofofrom akrofrom\n",
      "abaase abease\n",
      "brekumanso brekumanso\n",
      "topease tease\n",
      "aprampramu prampram\n"
     ]
    },
    {
     "name": "stderr",
     "output_type": "stream",
     "text": [
      "5651it [00:35, 164.16it/s]"
     ]
    },
    {
     "name": "stdout",
     "output_type": "stream",
     "text": [
      "osenase osenase\n",
      "osuboi asuboi\n"
     ]
    },
    {
     "name": "stderr",
     "output_type": "stream",
     "text": [
      "5687it [00:35, 169.19it/s]"
     ]
    },
    {
     "name": "stdout",
     "output_type": "stream",
     "text": [
      "labolabo aboabo\n",
      "ogome torgome\n",
      "somanya somanya\n"
     ]
    },
    {
     "name": "stderr",
     "output_type": "stream",
     "text": [
      "5742it [00:35, 176.10it/s]"
     ]
    },
    {
     "name": "stdout",
     "output_type": "stream",
     "text": [
      "zamarama zambrama\n"
     ]
    },
    {
     "name": "stderr",
     "output_type": "stream",
     "text": [
      "5822it [00:36, 179.78it/s]"
     ]
    },
    {
     "name": "stdout",
     "output_type": "stream",
     "text": [
      "korle gonno poly korle-gonno poly\n",
      "sempe church of pentecost church of pentecost\n",
      "st. mary's shs st. mary's\n"
     ]
    },
    {
     "name": "stderr",
     "output_type": "stream",
     "text": [
      "5860it [00:36, 176.55it/s]"
     ]
    },
    {
     "name": "stdout",
     "output_type": "stream",
     "text": [
      "makola makola\n",
      "ussher poly ussher poly\n",
      "avenor church of christ church of christ\n"
     ]
    },
    {
     "name": "stderr",
     "output_type": "stream",
     "text": [
      "5918it [00:36, 173.20it/s]"
     ]
    },
    {
     "name": "stdout",
     "output_type": "stream",
     "text": [
      "ada ada\n",
      "elavanyo alavanyo\n",
      "bedeku bereku\n",
      "kasseh kasseh\n",
      "pediatorkope pediator kope\n",
      "anyaman anyamam\n"
     ]
    },
    {
     "name": "stderr",
     "output_type": "stream",
     "text": [
      "5953it [00:37, 163.61it/s]"
     ]
    },
    {
     "name": "stdout",
     "output_type": "stream",
     "text": [
      "bonikope bornikope\n",
      "afiadenyigba anlo-afiadenyigba\n",
      "koni koni\n",
      "oyoko oyoko\n"
     ]
    },
    {
     "name": "stderr",
     "output_type": "stream",
     "text": [
      "6033it [00:37, 188.08it/s]"
     ]
    },
    {
     "name": "stdout",
     "output_type": "stream",
     "text": [
      "nanakrom ananekrom\n"
     ]
    },
    {
     "name": "stderr",
     "output_type": "stream",
     "text": [
      "6114it [00:37, 193.20it/s]"
     ]
    },
    {
     "name": "stdout",
     "output_type": "stream",
     "text": [
      "new town new town\n"
     ]
    },
    {
     "name": "stderr",
     "output_type": "stream",
     "text": [
      "6176it [00:38, 193.96it/s]"
     ]
    },
    {
     "name": "stdout",
     "output_type": "stream",
     "text": [
      "anthon nanton\n",
      "nima nima\n",
      "st martins st martins\n"
     ]
    },
    {
     "name": "stderr",
     "output_type": "stream",
     "text": [
      "6223it [00:38, 203.52it/s]"
     ]
    },
    {
     "name": "stdout",
     "output_type": "stream",
     "text": [
      "asamoah samoa\n",
      "martins st martins\n",
      "amanda amanya\n",
      "mpeasem mempeasem\n",
      "salvation army salvation army\n",
      "abease abease\n"
     ]
    },
    {
     "name": "stderr",
     "output_type": "stream",
     "text": [
      "6283it [00:38, 183.21it/s]"
     ]
    },
    {
     "name": "stdout",
     "output_type": "stream",
     "text": [
      "anyaa anyamam\n"
     ]
    },
    {
     "name": "stderr",
     "output_type": "stream",
     "text": [
      "6322it [00:38, 185.15it/s]"
     ]
    },
    {
     "name": "stdout",
     "output_type": "stream",
     "text": [
      "abokobi abokobi\n",
      "china chiana\n"
     ]
    },
    {
     "name": "stderr",
     "output_type": "stream",
     "text": [
      "6433it [00:39, 193.25it/s]"
     ]
    },
    {
     "name": "stdout",
     "output_type": "stream",
     "text": [
      "st. johns st. johns\n",
      "dunkuna dunkura\n"
     ]
    },
    {
     "name": "stderr",
     "output_type": "stream",
     "text": [
      "6472it [00:39, 175.72it/s]"
     ]
    },
    {
     "name": "stdout",
     "output_type": "stream",
     "text": [
      "kokrobite kokrobite\n",
      "domeabra domeabra\n",
      "obom obom\n",
      "shallom shalom\n"
     ]
    },
    {
     "name": "stderr",
     "output_type": "stream",
     "text": [
      "6539it [00:40, 195.76it/s]"
     ]
    },
    {
     "name": "stdout",
     "output_type": "stream",
     "text": [
      "oduman oduman\n"
     ]
    },
    {
     "name": "stderr",
     "output_type": "stream",
     "text": [
      "6606it [00:40, 202.20it/s]"
     ]
    },
    {
     "name": "stdout",
     "output_type": "stream",
     "text": [
      "bediako betiako\n"
     ]
    },
    {
     "name": "stderr",
     "output_type": "stream",
     "text": [
      "6692it [00:40, 197.96it/s]"
     ]
    },
    {
     "name": "stdout",
     "output_type": "stream",
     "text": [
      "apaapa apatrapa\n",
      "ababio aboabo\n"
     ]
    },
    {
     "name": "stderr",
     "output_type": "stream",
     "text": [
      "6804it [00:41, 193.00it/s]"
     ]
    },
    {
     "name": "stdout",
     "output_type": "stream",
     "text": [
      "teshie teshie\n",
      "doron dorimon\n",
      "mobole mobile\n",
      "dawhenya dawhenya\n",
      "nyigbenya nyigbenya\n"
     ]
    },
    {
     "name": "stderr",
     "output_type": "stream",
     "text": [
      "6864it [00:41, 185.76it/s]"
     ]
    },
    {
     "name": "stdout",
     "output_type": "stream",
     "text": [
      "abofu abofour\n",
      "agomeda agomeda\n",
      "st andrews catholic st andrews catholic\n",
      "odumse odumase\n"
     ]
    },
    {
     "name": "stderr",
     "output_type": "stream",
     "text": [
      "6921it [00:42, 179.90it/s]"
     ]
    },
    {
     "name": "stdout",
     "output_type": "stream",
     "text": [
      "osudoku osudoku\n",
      "sacred heart sacred heart\n"
     ]
    },
    {
     "name": "stderr",
     "output_type": "stream",
     "text": [
      "7032it [00:42, 193.32it/s]"
     ]
    },
    {
     "name": "stdout",
     "output_type": "stream",
     "text": [
      "dalton dalon\n",
      "mallam demonstration mallam demonstration\n",
      "bunkpurugu bunkpurugu\n"
     ]
    },
    {
     "name": "stderr",
     "output_type": "stream",
     "text": [
      "7071it [00:42, 177.85it/s]"
     ]
    },
    {
     "name": "stdout",
     "output_type": "stream",
     "text": [
      "tigenga tinga\n",
      "chereponi chereponi\n",
      "chereponi chereponi\n",
      "wenchiki wenchiki\n",
      "gambaga gambaga\n",
      "gbintiri gbintiri\n"
     ]
    },
    {
     "name": "stderr",
     "output_type": "stream",
     "text": [
      "7108it [00:43, 170.14it/s]"
     ]
    },
    {
     "name": "stdout",
     "output_type": "stream",
     "text": [
      "langbesi presby langbinsi presby\n",
      "wundua awudua\n",
      "sakogu sakogu\n",
      "kubori kubori\n",
      "kubugu kunbungu\n",
      "katigre kwatire\n"
     ]
    },
    {
     "name": "stderr",
     "output_type": "stream",
     "text": [
      "7143it [00:43, 160.87it/s]"
     ]
    },
    {
     "name": "stdout",
     "output_type": "stream",
     "text": [
      "kunkwa sunkwa\n",
      "yagaba yagaba\n",
      "yikpabongo yikpabongo\n",
      "daboyah daboya\n",
      "guabuliga zuabulga\n",
      "our lady of roccio our  lady of rocio\n",
      "our lady of roccio our  lady of rocio\n",
      "walewale district walewale  district\n",
      "wulugu wulugu\n",
      "gbingbani gbingbani\n"
     ]
    },
    {
     "name": "stderr",
     "output_type": "stream",
     "text": [
      "7176it [00:43, 148.33it/s]"
     ]
    },
    {
     "name": "stdout",
     "output_type": "stream",
     "text": [
      "nasuan nasuan\n",
      "tuna tuna\n",
      "jimbale jimbale\n",
      "yunyoo yunyoo\n",
      "galwei galwei\n",
      "bulugu wulugu\n",
      "damankung damakung\n",
      "gushiegu district gushegu  district\n"
     ]
    },
    {
     "name": "stderr",
     "output_type": "stream",
     "text": [
      "7212it [00:43, 159.90it/s]"
     ]
    },
    {
     "name": "stdout",
     "output_type": "stream",
     "text": [
      "nabuli nabuli\n",
      "karaga karaga\n",
      "binduli binduri\n",
      "nakundugu kundugu\n"
     ]
    },
    {
     "name": "stderr",
     "output_type": "stream",
     "text": [
      "7246it [00:43, 161.07it/s]"
     ]
    },
    {
     "name": "stdout",
     "output_type": "stream",
     "text": [
      "tong tongo\n",
      "kitare kitare\n",
      "kpandai kpandai\n",
      "oti river oti river\n",
      "gulbi quarters gulbi  quarters\n"
     ]
    },
    {
     "name": "stderr",
     "output_type": "stream",
     "text": [
      "7279it [00:44, 147.71it/s]"
     ]
    },
    {
     "name": "stdout",
     "output_type": "stream",
     "text": [
      "lonto lonto\n",
      "sabonjida sabojida\n",
      "gbulung gbulun\n",
      "jakpahi jakai\n",
      "cheshegu cheshegu\n",
      "kumbungu kunbungu\n",
      "jimle jimle\n"
     ]
    },
    {
     "name": "stderr",
     "output_type": "stream",
     "text": [
      "7325it [00:44, 146.33it/s]"
     ]
    },
    {
     "name": "stdout",
     "output_type": "stream",
     "text": [
      "nanvili nanvilli\n",
      "dabogni dabogni\n",
      "kukpalgu kukpalgu\n",
      "sambu sambuli\n",
      "sang sang\n",
      "jana janga\n",
      "nanton nanton\n"
     ]
    },
    {
     "name": "stderr",
     "output_type": "stream",
     "text": [
      "7357it [00:44, 143.99it/s]"
     ]
    },
    {
     "name": "stdout",
     "output_type": "stream",
     "text": [
      "tampion tampion\n",
      "zoggu zoggu\n",
      "gambuga gambaga\n",
      "chamba chamba\n",
      "sabonjida sabojida\n",
      "lanja lanja\n",
      "makayili makayili\n",
      "nakpa nakpale\n"
     ]
    },
    {
     "name": "stderr",
     "output_type": "stream",
     "text": [
      "7388it [00:44, 144.95it/s]"
     ]
    },
    {
     "name": "stdout",
     "output_type": "stream",
     "text": [
      "lungni lungni\n",
      "kukuo kukuom\n",
      "nakpayili makayili\n",
      "natinga tinga\n",
      "pudua pudua\n",
      "wulensi wulensi\n",
      "kpalba kalba\n"
     ]
    },
    {
     "name": "stderr",
     "output_type": "stream",
     "text": [
      "7443it [00:45, 163.39it/s]"
     ]
    },
    {
     "name": "stdout",
     "output_type": "stream",
     "text": [
      "wapuli evangelical presbyterian wapuli evangelical presbyterian\n",
      "garizegu gariziegu\n",
      "kanvilli nanvilli\n",
      "kogni koni\n"
     ]
    },
    {
     "name": "stderr",
     "output_type": "stream",
     "text": [
      "7478it [00:45, 167.78it/s]"
     ]
    },
    {
     "name": "stdout",
     "output_type": "stream",
     "text": [
      "bagabaga bagabaga\n",
      "kalpohin kalpohini\n",
      "kalpohin kalpohini\n",
      "kalpohine kalpohini\n",
      "moglaa mogla\n",
      "pong tamale pong tamale\n"
     ]
    },
    {
     "name": "stderr",
     "output_type": "stream",
     "text": [
      "7531it [00:45, 162.93it/s]"
     ]
    },
    {
     "name": "stdout",
     "output_type": "stream",
     "text": [
      "banvim boanim\n",
      "bilpela bilpela\n",
      "kpanvo kpanvo\n",
      "sos isos\n",
      "nyohini nyohini\n",
      "tamale central tamale central\n",
      "tamale central tamale central\n",
      "tamale sda tamale sda\n",
      "lahagu lahagu\n",
      "newlife new life\n"
     ]
    },
    {
     "name": "stderr",
     "output_type": "stream",
     "text": [
      "7565it [00:45, 160.19it/s]"
     ]
    },
    {
     "name": "stdout",
     "output_type": "stream",
     "text": [
      "kandin kandin\n",
      "kpalbotabu kpalbutabu\n",
      "tatale tatale\n"
     ]
    },
    {
     "name": "stderr",
     "output_type": "stream",
     "text": [
      "7599it [00:46, 160.77it/s]"
     ]
    },
    {
     "name": "stdout",
     "output_type": "stream",
     "text": [
      "tolon tolon\n",
      "wantugu wantugu\n",
      "adibo adibo\n",
      "nkwanta nkwanta\n",
      "yendi church of christ church of christ\n"
     ]
    },
    {
     "name": "stderr",
     "output_type": "stream",
     "text": [
      "7633it [00:46, 160.89it/s]"
     ]
    },
    {
     "name": "stdout",
     "output_type": "stream",
     "text": [
      "yendi district yendi district\n",
      "kukpaligu kukpalgu\n",
      "nakpale nakpale\n",
      "takrabe takrabe\n"
     ]
    },
    {
     "name": "stderr",
     "output_type": "stream",
     "text": [
      "7669it [00:46, 159.00it/s]"
     ]
    },
    {
     "name": "stdout",
     "output_type": "stream",
     "text": [
      "adzamansu ahamansu\n",
      "nkonya wurupong nkonya wurupong\n",
      "amanya amanya\n",
      "akaa akaa\n",
      "baika baika\n",
      "dzolu dzolu\n",
      "new ayoma new ayoma\n",
      "old ayoma old ayoma\n",
      "teteman teteman\n",
      "atweneboanda atwereboana\n"
     ]
    },
    {
     "name": "stderr",
     "output_type": "stream",
     "text": [
      "7707it [00:46, 163.47it/s]"
     ]
    },
    {
     "name": "stdout",
     "output_type": "stream",
     "text": [
      "baglo baglo\n",
      "kute kute\n",
      "odumase odumase\n",
      "mempeasem mempeasem\n",
      "obuase obuasi\n",
      "dodo amanfrom dodo amanfrom\n",
      "dodo amanfrom south dodo amanfrom\n",
      "dzamlome dzamlome\n"
     ]
    },
    {
     "name": "stderr",
     "output_type": "stream",
     "text": [
      "7760it [00:47, 164.67it/s]"
     ]
    },
    {
     "name": "stdout",
     "output_type": "stream",
     "text": [
      "pampawie pampawie\n",
      "pampawie pampawie\n",
      "adumadum adumadum\n",
      "dormabin dormabin\n",
      "evangelical presbyterian dan moser dambai evangelical presbyterian  (dan mossar)\n",
      "monkrati monkra\n"
     ]
    },
    {
     "name": "stderr",
     "output_type": "stream",
     "text": [
      "7794it [00:47, 159.14it/s]"
     ]
    },
    {
     "name": "stdout",
     "output_type": "stream",
     "text": [
      "anyinamae anyinamae\n",
      "banda banda\n",
      "borae borae\n",
      "grubi grubi\n",
      "krachi west district krachi district\n",
      "nsuta nsuta\n",
      "ehiamankyene ehiamankyene\n",
      "ntewusae ntewusa\n",
      "aglakope agbakope\n"
     ]
    },
    {
     "name": "stderr",
     "output_type": "stream",
     "text": [
      "7828it [00:47, 156.91it/s]"
     ]
    },
    {
     "name": "stdout",
     "output_type": "stream",
     "text": [
      "aglakope agbakope\n",
      "monkra monkra\n",
      "osramanae osramani\n",
      "damanko damanko\n",
      "korni koni\n",
      "azua bazua\n",
      "tinjase tinjase\n",
      "tinjase tinjase\n",
      "bonakye bonakye\n"
     ]
    },
    {
     "name": "stderr",
     "output_type": "stream",
     "text": [
      "7860it [00:47, 144.37it/s]"
     ]
    },
    {
     "name": "stdout",
     "output_type": "stream",
     "text": [
      "bontibor bontibor\n",
      "brewaniase brewaniase\n",
      "obanda obanda\n",
      "keri keri\n",
      "kue kute\n",
      "nyambong nyambong\n",
      "dadiase dadiase\n",
      "madina urban elmina urban\n",
      "kecheibi kechebi\n",
      "tutukpene tutukpene\n",
      "bamboi bamboi\n",
      "catholic public catholic phc\n"
     ]
    },
    {
     "name": "stderr",
     "output_type": "stream",
     "text": [
      "7906it [00:48, 143.79it/s]"
     ]
    },
    {
     "name": "stdout",
     "output_type": "stream",
     "text": [
      "church of god church of god\n",
      "jama jama\n",
      "mandari mandari\n",
      "mankuma mankuma\n",
      "tinga tinga\n",
      "domeabra domeabra\n",
      "kusawgu kusawgu\n"
     ]
    },
    {
     "name": "stderr",
     "output_type": "stream",
     "text": [
      "7937it [00:48, 133.13it/s]"
     ]
    },
    {
     "name": "stdout",
     "output_type": "stream",
     "text": [
      "mpaha mpaha\n",
      "sheri sherigu\n",
      "chama chamba\n",
      "tulwei tuluwe\n",
      "yala yaala\n",
      "yapei yapei\n",
      "abrumase abromase\n",
      "akamade akomade\n",
      "buma buma\n",
      "bau badu\n",
      "kpembu kpembu\n",
      "katanga katanga\n"
     ]
    },
    {
     "name": "stderr",
     "output_type": "stream",
     "text": [
      "7969it [00:48, 144.09it/s]"
     ]
    },
    {
     "name": "stdout",
     "output_type": "stream",
     "text": [
      "kpembe kpembu\n",
      "catholic public catholic phc\n",
      "daboya daboya\n",
      "lingbinsi lingbinsi\n",
      "mankarigu mankarigu\n"
     ]
    },
    {
     "name": "stderr",
     "output_type": "stream",
     "text": [
      "8000it [00:48, 146.52it/s]"
     ]
    },
    {
     "name": "stdout",
     "output_type": "stream",
     "text": [
      "mempeasem mempeasem\n",
      "kpalbe kpalbe\n",
      "gbiniyiri gbintiri\n",
      "gindabuo gindabuo\n",
      "kalba kalba\n"
     ]
    },
    {
     "name": "stderr",
     "output_type": "stream",
     "text": [
      "8033it [00:49, 152.68it/s]"
     ]
    },
    {
     "name": "stdout",
     "output_type": "stream",
     "text": [
      "nakpala nyankpala\n",
      "donald richards donald richard\n",
      "tuna tuna\n",
      "mempeasem mempeasem\n",
      "damongo district damongo district\n"
     ]
    },
    {
     "name": "stderr",
     "output_type": "stream",
     "text": [
      "8067it [00:49, 156.89it/s]"
     ]
    },
    {
     "name": "stdout",
     "output_type": "stream",
     "text": [
      "mognori mognori\n",
      "kuka kuka\n",
      "mognori mognori\n"
     ]
    },
    {
     "name": "stderr",
     "output_type": "stream",
     "text": [
      "8102it [00:49, 155.30it/s]"
     ]
    },
    {
     "name": "stdout",
     "output_type": "stream",
     "text": [
      "binaba binaba\n",
      "gore goore\n",
      "gbantango gbantongo\n",
      "googo googo\n",
      "sapelliga sapelliga\n",
      "tanga katanga\n",
      "timonde timonde\n",
      "tonde timonde\n"
     ]
    },
    {
     "name": "stderr",
     "output_type": "stream",
     "text": [
      "8134it [00:49, 144.44it/s]"
     ]
    },
    {
     "name": "stdout",
     "output_type": "stream",
     "text": [
      "tilli tilli\n",
      "widnaba widnaba\n",
      "teshie teshie\n",
      "zongoire zongoire\n",
      "zongoire zongoire\n",
      "kukparigu kukpalgu\n",
      "bazua bazua\n",
      "bazua bazua\n"
     ]
    },
    {
     "name": "stderr",
     "output_type": "stream",
     "text": [
      "8164it [00:49, 144.60it/s]"
     ]
    },
    {
     "name": "stdout",
     "output_type": "stream",
     "text": [
      "binduri binduri\n",
      "binduri binduri\n",
      "goore goore\n",
      "kpalugu pwalugu\n",
      "gambibgo gambibgo\n",
      "katanga katanga\n",
      "dulugu wulugu\n",
      "zuarungu-moshie kunkua zuarungu-moshie\n"
     ]
    },
    {
     "name": "stderr",
     "output_type": "stream",
     "text": [
      "8195it [00:50, 148.16it/s]"
     ]
    },
    {
     "name": "stdout",
     "output_type": "stream",
     "text": [
      "zuarungu-moshie zuarungu-moshie\n",
      "kunkwa sunkwa\n",
      "madina madina\n",
      "sokabisi sokabisi\n",
      "kalbeo kaleo\n",
      "coronation coronation\n"
     ]
    },
    {
     "name": "stderr",
     "output_type": "stream",
     "text": [
      "8231it [00:50, 160.22it/s]"
     ]
    },
    {
     "name": "stdout",
     "output_type": "stream",
     "text": [
      "sherigu sherigu\n",
      "sumbrungu sumbrungu\n",
      "adaboya daboya\n",
      "anafobisi anafobisi\n",
      "anafobisi anafobisi\n"
     ]
    },
    {
     "name": "stderr",
     "output_type": "stream",
     "text": [
      "8282it [00:50, 154.87it/s]"
     ]
    },
    {
     "name": "stdout",
     "output_type": "stream",
     "text": [
      "lungu pelungu\n",
      "bongo soe bongo/soe\n",
      "sanabisi anafobisi\n",
      "abokobisi abokobi\n",
      "amanga amanya\n",
      "sikabisi sokabisi\n",
      "vea vea\n",
      "vea vea\n"
     ]
    },
    {
     "name": "stderr",
     "output_type": "stream",
     "text": [
      "8315it [00:50, 157.85it/s]"
     ]
    },
    {
     "name": "stdout",
     "output_type": "stream",
     "text": [
      "kanga katanga\n",
      "tarongo tongo\n",
      "chuchuliga chuchuliga\n"
     ]
    },
    {
     "name": "stderr",
     "output_type": "stream",
     "text": [
      "8349it [00:51, 154.37it/s]"
     ]
    },
    {
     "name": "stdout",
     "output_type": "stream",
     "text": [
      "kom kom\n",
      "doninga doninga\n",
      "baasa abaasa\n",
      "fumbisi fumbisi\n",
      "kanjarga kanjarga\n",
      "chansa chiana\n",
      "denugu denegu\n"
     ]
    },
    {
     "name": "stderr",
     "output_type": "stream",
     "text": [
      "8399it [00:51, 158.28it/s]"
     ]
    },
    {
     "name": "stdout",
     "output_type": "stream",
     "text": [
      "denugu denegu\n",
      "pialugu pwalugu\n",
      "songo songo\n",
      "worikambo worikambo\n",
      "biu st. martins st. martin's\n",
      "chaaba chamba\n",
      "sabisi sokabisi\n"
     ]
    },
    {
     "name": "stderr",
     "output_type": "stream",
     "text": [
      "8452it [00:51, 162.93it/s]"
     ]
    },
    {
     "name": "stdout",
     "output_type": "stream",
     "text": [
      "bonia boni\n",
      "chiana chiana\n",
      "kayoro kayoro\n"
     ]
    },
    {
     "name": "stderr",
     "output_type": "stream",
     "text": [
      "8488it [00:51, 160.12it/s]"
     ]
    },
    {
     "name": "stdout",
     "output_type": "stream",
     "text": [
      "mirigu sirigu\n",
      "boania boanim\n",
      "nakolo nakolo\n",
      "sakaa akaa\n",
      "paga paga\n",
      "nangodi nangodi\n"
     ]
    },
    {
     "name": "stderr",
     "output_type": "stream",
     "text": [
      "8523it [00:52, 164.28it/s]"
     ]
    },
    {
     "name": "stdout",
     "output_type": "stream",
     "text": [
      "pelungu pelungu\n",
      "bulugu wulugu\n",
      "kulungungu kulungungu\n",
      "zuabuliga zuabulga\n",
      "pusiga pusiga\n"
     ]
    },
    {
     "name": "stderr",
     "output_type": "stream",
     "text": [
      "8557it [00:52, 161.84it/s]"
     ]
    },
    {
     "name": "stdout",
     "output_type": "stream",
     "text": [
      "widana widana\n",
      "gorogo googo\n",
      "pwalugu pwalugu\n",
      "yinduri binduri\n",
      "nungu nungua\n"
     ]
    },
    {
     "name": "stderr",
     "output_type": "stream",
     "text": [
      "8591it [00:52, 161.27it/s]"
     ]
    },
    {
     "name": "stdout",
     "output_type": "stream",
     "text": [
      "winkongo winkogo\n",
      "akara akaa\n",
      "basyonde basyonde\n",
      "bugri bugri\n",
      "konkomadan konkoma sda\n"
     ]
    },
    {
     "name": "stderr",
     "output_type": "stream",
     "text": [
      "8625it [00:52, 159.76it/s]"
     ]
    },
    {
     "name": "stdout",
     "output_type": "stream",
     "text": [
      "woriyanga worinyanga\n",
      "bussie bussie\n",
      "daffiama daffiama\n",
      "fian fian\n",
      "issa issa\n",
      "kojokperi kojokpere\n",
      "duori duori\n"
     ]
    },
    {
     "name": "stderr",
     "output_type": "stream",
     "text": [
      "8660it [00:53, 163.49it/s]"
     ]
    },
    {
     "name": "stdout",
     "output_type": "stream",
     "text": [
      "naayiri baayiri\n",
      "sabuli sabuli\n",
      "somboro sombo\n",
      "tuggo tuggo\n",
      "ullo ullo\n",
      "yagha yagha\n",
      "billaw billaw\n"
     ]
    },
    {
     "name": "stderr",
     "output_type": "stream",
     "text": [
      "8710it [00:53, 153.09it/s]"
     ]
    },
    {
     "name": "stdout",
     "output_type": "stream",
     "text": [
      "hamile hamile\n",
      "nyambuli nabuli\n",
      "kukuo kukuom\n",
      "piina piina\n",
      "konsi koni\n",
      "samoa samoa\n",
      "babile babile\n"
     ]
    },
    {
     "name": "stderr",
     "output_type": "stream",
     "text": [
      "8743it [00:53, 152.01it/s]"
     ]
    },
    {
     "name": "stdout",
     "output_type": "stream",
     "text": [
      "boo boso\n",
      "dowine domwine\n",
      "eremon eremon\n",
      "lawra urban wa urban\n",
      "zambo zambo\n",
      "charikpong charikpong\n",
      "dapuori dapuori\n"
     ]
    },
    {
     "name": "stderr",
     "output_type": "stream",
     "text": [
      "8776it [00:53, 151.54it/s]"
     ]
    },
    {
     "name": "stdout",
     "output_type": "stream",
     "text": [
      "kpagdinga kpatinga\n",
      "gbankor banko\n",
      "kaleo kaleo\n",
      "nadowli district nadowli district\n",
      "nadowli subdistrict nadowli district\n",
      "nanvilli nanvilli\n",
      "sombo sombo\n"
     ]
    },
    {
     "name": "stderr",
     "output_type": "stream",
     "text": [
      "8808it [00:54, 150.96it/s]"
     ]
    },
    {
     "name": "stdout",
     "output_type": "stream",
     "text": [
      "takpo takpo\n",
      "gengenkpe gengenkpe\n",
      "gengenkpe gengenkpe\n",
      "ko poly ho poly\n"
     ]
    },
    {
     "name": "stderr",
     "output_type": "stream",
     "text": [
      "8845it [00:54, 153.36it/s]"
     ]
    },
    {
     "name": "stdout",
     "output_type": "stream",
     "text": [
      "ketuo ketuo\n",
      "ketuo ketuo\n",
      "kulfuo kulfuo\n",
      "kuroboi krobo\n",
      "kunchogu kunchogu\n",
      "pina piina\n",
      "nabugubelle nabugubelle\n"
     ]
    },
    {
     "name": "stderr",
     "output_type": "stream",
     "text": [
      "8894it [00:54, 157.24it/s]"
     ]
    },
    {
     "name": "stdout",
     "output_type": "stream",
     "text": [
      "koma kom\n",
      "nabulo nabulo\n",
      "stadium stadium\n",
      "bugubelle nabugubelle\n"
     ]
    },
    {
     "name": "stderr",
     "output_type": "stream",
     "text": [
      "8926it [00:54, 152.80it/s]"
     ]
    },
    {
     "name": "stdout",
     "output_type": "stream",
     "text": [
      "wallembelle wellembelle\n",
      "st. gerhard st. gerhard\n",
      "gwollu gwollu\n",
      "gwollu gwollu\n",
      "kandia kandin\n",
      "jeffisi jeffisi\n"
     ]
    },
    {
     "name": "stderr",
     "output_type": "stream",
     "text": [
      "8958it [00:54, 153.52it/s]"
     ]
    },
    {
     "name": "stdout",
     "output_type": "stream",
     "text": [
      "zini zini\n",
      "kataa katanga\n",
      "samuel seidu memorial samuel saidu memorial\n",
      "bulenga bulenga\n",
      "holomuni holomuni\n",
      "kundungu kundugu\n",
      "balayiri baayiri\n"
     ]
    },
    {
     "name": "stderr",
     "output_type": "stream",
     "text": [
      "8992it [00:55, 157.80it/s]"
     ]
    },
    {
     "name": "stdout",
     "output_type": "stream",
     "text": [
      "loggu loggu\n",
      "yaala yaala\n",
      "busa busa\n",
      "charingu charingu\n",
      "upper west regional upper west regional\n",
      "kambali kambali\n",
      "sombo sombo\n"
     ]
    },
    {
     "name": "stderr",
     "output_type": "stream",
     "text": [
      "9042it [00:55, 156.33it/s]"
     ]
    },
    {
     "name": "stdout",
     "output_type": "stream",
     "text": [
      "konta north konta north\n",
      "wa urban wa urban\n",
      "dorimon dorimon\n",
      "eggu eggu\n",
      "gurungu gurungu\n"
     ]
    },
    {
     "name": "stderr",
     "output_type": "stream",
     "text": [
      "9079it [00:55, 168.01it/s]"
     ]
    },
    {
     "name": "stdout",
     "output_type": "stream",
     "text": [
      "lassia tuolu lassia tuolu\n",
      "sofa (salvation army) baa salvation army\n"
     ]
    },
    {
     "name": "stderr",
     "output_type": "stream",
     "text": [
      "9113it [00:55, 145.51it/s]"
     ]
    },
    {
     "name": "stdout",
     "output_type": "stream",
     "text": [
      "nyagbo gagbefe nyagbo gagbefe\n",
      "nyagbo sroe nyangbo sroe\n",
      "leklebi duga leklebi duga\n",
      "leklebi kame leklebi kame\n",
      "liati soba liati soba\n",
      "logba alakpeti logba alakpeti\n",
      "logba tota logba tota\n",
      "logba vuinta logba vuinta\n",
      "tafi agome tafi agoeme\n",
      "tafi atome tafi agoeme\n",
      "ve golokwati ve golokwati\n",
      "goviefe agodome goviefe agodome\n",
      "goviefe todzi goviefe todzi\n",
      "kpeve kpeve\n"
     ]
    },
    {
     "name": "stderr",
     "output_type": "stream",
     "text": [
      "9143it [00:56, 139.66it/s]"
     ]
    },
    {
     "name": "stdout",
     "output_type": "stream",
     "text": [
      "menji menji\n",
      "keyime keyime\n",
      "keyime keyime\n",
      "wudzedeke wudzedeke\n",
      "kpetoe kpetoe\n",
      "kpetoe kpetoe\n",
      "ziope ziope\n",
      "ziope ziope\n",
      "ave-afiadenyigba anlo-afiadenyigba\n"
     ]
    },
    {
     "name": "stderr",
     "output_type": "stream",
     "text": [
      "9177it [00:56, 150.18it/s]"
     ]
    },
    {
     "name": "stdout",
     "output_type": "stream",
     "text": [
      "avenorpedo avenorpedo\n",
      "avenorpeme avenorpeme\n",
      "gefia gefia\n",
      "gornikorpe bornikope\n",
      "wute wute\n",
      "anloga anloga\n",
      "anyanui anyanui\n"
     ]
    },
    {
     "name": "stderr",
     "output_type": "stream",
     "text": [
      "9209it [00:56, 145.56it/s]"
     ]
    },
    {
     "name": "stdout",
     "output_type": "stream",
     "text": [
      "galo-sota galo-sota\n",
      "tregui tregui\n",
      "tegbi tegbi\n",
      "adidome district adidome district\n",
      "kpogadzi kpoviadzi\n",
      "avedo avedo\n",
      "kpoviadzi kpoviadzi\n",
      "mafi-sasekpe mafi sasekpe\n",
      "mafi-kumase mafi kumasi\n"
     ]
    },
    {
     "name": "stderr",
     "output_type": "stream",
     "text": [
      "9257it [00:56, 149.35it/s]"
     ]
    },
    {
     "name": "stdout",
     "output_type": "stream",
     "text": [
      "klefe klefe\n",
      "lume lume\n",
      "matse matse\n",
      "taviefe taviafe\n",
      "ho evangelical presbyterian ho evangelical presbyterian\n",
      "ho poly ho poly\n"
     ]
    },
    {
     "name": "stderr",
     "output_type": "stream",
     "text": [
      "9289it [00:57, 144.58it/s]"
     ]
    },
    {
     "name": "stdout",
     "output_type": "stream",
     "text": [
      "akoefe akoefe\n",
      "hodzo hodzoga\n",
      "kpenoe kpetoe\n",
      "atikpui atikpui\n",
      "nyive nyive\n",
      "tanyigbe tanyigbe\n",
      "tokokoe tokokoe\n",
      "akrofu akrofu\n",
      "abutia agorve abutia agove\n",
      "abutia kloe abutia kloe\n",
      "amedzofe amedzofe\n",
      "fume fume\n",
      "gbadzeme gbadzeme\n"
     ]
    },
    {
     "name": "stderr",
     "output_type": "stream",
     "text": [
      "9322it [00:57, 144.31it/s]"
     ]
    },
    {
     "name": "stdout",
     "output_type": "stream",
     "text": [
      "tsito tsito\n",
      "hlefi hlefi\n",
      "akome akomade\n",
      "dodome awuiasu dodome awiasu\n",
      "dodome teleafenu dodome teleafenu\n",
      "dzologbogame dzolo gbogame\n",
      "fodome ahor fodome ahor\n",
      "fodome helu fodome helu\n",
      "fodome hlorma fodome ahor\n",
      "wli central wli cenral\n",
      "wli todzi wli todzi\n",
      "akpafu adorkor akpafu adorkor\n",
      "akpafu mempeasem akpafu mempeasem\n",
      "akpafu odomi akpafu adomi\n"
     ]
    },
    {
     "name": "stderr",
     "output_type": "stream",
     "text": [
      "9356it [00:57, 151.59it/s]"
     ]
    },
    {
     "name": "stdout",
     "output_type": "stream",
     "text": [
      "gbi-wegbe gbi wegbe\n",
      "likpe abrani likpe abrani\n",
      "likpe bala likpe bala\n",
      "likpe kukurantumi likpe kukurntumi\n",
      "lolobi kumasi lolobi kumase\n",
      "anyako anyako\n",
      "asadame asadame\n",
      "atiavi atiavi\n"
     ]
    },
    {
     "name": "stderr",
     "output_type": "stream",
     "text": [
      "9405it [00:57, 154.35it/s]"
     ]
    },
    {
     "name": "stdout",
     "output_type": "stream",
     "text": [
      "tsiame tsiame\n",
      "afife afife\n",
      "devego devego\n",
      "tornu tokronu\n",
      "ohawu ohawu\n",
      "tadzewu tadzewu\n"
     ]
    },
    {
     "name": "stderr",
     "output_type": "stream",
     "text": [
      "9438it [00:58, 154.67it/s]"
     ]
    },
    {
     "name": "stdout",
     "output_type": "stream",
     "text": [
      "ehie ehie\n",
      "weta wheta\n",
      "beno benso\n",
      "akporkploe akporkploe\n",
      "dodorkope dordoekope\n",
      "klikor klikoor\n",
      "adina adina\n",
      "agavedze agavedzi\n"
     ]
    },
    {
     "name": "stderr",
     "output_type": "stream",
     "text": [
      "9472it [00:58, 155.98it/s]"
     ]
    },
    {
     "name": "stdout",
     "output_type": "stream",
     "text": [
      "blekusu blekusu\n",
      "agbozume agbozume\n",
      "atoklokope tokokoe\n",
      "agbenorxoe agbenorxoe\n",
      "gadza gadza\n",
      "kpando kpando\n",
      "kudzra kudzra\n",
      "aveme danyigba aveme danyigba\n",
      "sabadu sabadu\n",
      "tsyome sabadu tsyome sabadu\n"
     ]
    },
    {
     "name": "stderr",
     "output_type": "stream",
     "text": [
      "9504it [00:58, 154.07it/s]"
     ]
    },
    {
     "name": "stdout",
     "output_type": "stream",
     "text": [
      "awate awate\n",
      "tsrukpe tsrukpe\n",
      "wusuta wusuta\n",
      "dedukope dzelukope\n",
      "dorfor-adidome dofor adidome\n",
      "volo volo\n",
      "fodzoku fodzoku\n"
     ]
    },
    {
     "name": "stderr",
     "output_type": "stream",
     "text": [
      "9535it [00:58, 145.65it/s]"
     ]
    },
    {
     "name": "stdout",
     "output_type": "stream",
     "text": [
      "torgorme torgome\n",
      "avedzi agavedzi\n",
      "juapong juapong\n",
      "podoe podoe\n",
      "kpalime duga kpalime duga\n",
      "dzake dzake\n",
      "sanga sang\n",
      "adzokoe adzokoe\n"
     ]
    },
    {
     "name": "stderr",
     "output_type": "stream",
     "text": [
      "9569it [00:59, 146.95it/s]"
     ]
    },
    {
     "name": "stdout",
     "output_type": "stream",
     "text": [
      "dzemeni evangelical presbyterian dzemeni evangelical presbyterian church\n",
      "tsanakpe tsanakpe\n",
      "agorta agorta\n",
      "gamenu gamenu\n",
      "adutor adutor\n",
      "agbakope agbakope\n",
      "dabala dabala\n",
      "agbadzakope agbakope\n",
      "asidowui asidowui\n",
      "dordoekope dordoekope\n",
      "kua kuka\n"
     ]
    },
    {
     "name": "stderr",
     "output_type": "stream",
     "text": [
      "9621it [00:59, 158.96it/s]"
     ]
    },
    {
     "name": "stdout",
     "output_type": "stream",
     "text": [
      "kpotame kpotame\n",
      "tefle tefle\n",
      "agona agona\n",
      "apowa apowa\n",
      "apowa apowa\n",
      "egyam catholic egyam catholic\n"
     ]
    },
    {
     "name": "stderr",
     "output_type": "stream",
     "text": [
      "9654it [00:59, 159.02it/s]"
     ]
    },
    {
     "name": "stdout",
     "output_type": "stream",
     "text": [
      "busua busa\n",
      "princess town princesstown\n"
     ]
    },
    {
     "name": "stderr",
     "output_type": "stream",
     "text": [
      "9686it [00:59, 154.50it/s]"
     ]
    },
    {
     "name": "stdout",
     "output_type": "stream",
     "text": [
      "grace mission rci mission\n",
      "abiye sabiye\n",
      "st.george's st. george's\n"
     ]
    },
    {
     "name": "stderr",
     "output_type": "stream",
     "text": [
      "9738it [01:00, 163.41it/s]"
     ]
    },
    {
     "name": "stdout",
     "output_type": "stream",
     "text": [
      "akropong akropong\n",
      "asasetre asasetre\n",
      "ananekrom ananekrom\n",
      "nkroful nkroful\n",
      "ekabeku ekabeku\n",
      "twenen twenen\n"
     ]
    },
    {
     "name": "stderr",
     "output_type": "stream",
     "text": [
      "9775it [01:00, 167.26it/s]"
     ]
    },
    {
     "name": "stdout",
     "output_type": "stream",
     "text": [
      "new town new town\n",
      "samenye sameye\n",
      "tikobo no 2 tikobo no 2\n",
      "tikobo no 1 tikobo no 1\n",
      "adansi adansi\n",
      "adum banso adum bamso\n",
      "ampeasem mempeasem\n",
      "edumase odumase\n",
      "dominase dominase\n"
     ]
    },
    {
     "name": "stderr",
     "output_type": "stream",
     "text": [
      "9808it [01:00, 153.56it/s]"
     ]
    },
    {
     "name": "stdout",
     "output_type": "stream",
     "text": [
      "manso manso\n",
      "atwerebana atwereboana\n",
      "mpohor mpohor\n",
      "botokule botoku\n",
      "akango makango\n",
      "bamiankor bamiankor\n"
     ]
    },
    {
     "name": "stderr",
     "output_type": "stream",
     "text": [
      "9859it [01:00, 162.11it/s]"
     ]
    },
    {
     "name": "stdout",
     "output_type": "stream",
     "text": [
      "kutukrom kutukrom\n",
      "awudua awudua\n",
      "dumasi duasi\n",
      "bondaye bonakye\n",
      "damang damakung\n",
      "kyekyewere kyekyewere\n"
     ]
    },
    {
     "name": "stderr",
     "output_type": "stream",
     "text": [
      "\r",
      "9876it [01:00, 153.17it/s]"
     ]
    },
    {
     "name": "stdout",
     "output_type": "stream",
     "text": [
      "broni- nkwanta bonsu nkwanta\n",
      "himan himan\n",
      "huni valley huni valley\n",
      "yawkrom nyakrom\n",
      "bepoase bepoase\n",
      "prestea prestea\n",
      "prestea prestea\n",
      "holychild holy child\n"
     ]
    },
    {
     "name": "stderr",
     "output_type": "stream",
     "text": [
      "9978it [01:01, 170.11it/s]"
     ]
    },
    {
     "name": "stdout",
     "output_type": "stream",
     "text": [
      "new takoradi new takoradi\n",
      "anto antoa\n",
      "atwereboanda atwereboana\n",
      "beposo beposo\n",
      "dunkwa sunkwa\n",
      "supomu dunkwa supomu dunkwa\n",
      "benso benso\n",
      "dompim dompim\n"
     ]
    },
    {
     "name": "stderr",
     "output_type": "stream",
     "text": [
      "10015it [01:01, 172.74it/s]"
     ]
    },
    {
     "name": "stdout",
     "output_type": "stream",
     "text": [
      "badukrom adukrom\n",
      "iduapriem iduapriem\n",
      "new atuabo new atuabo\n",
      "senyakrom nyakrom\n",
      "simpa simpa\n"
     ]
    },
    {
     "name": "stderr",
     "output_type": "stream",
     "text": [
      "10059it [01:01, 162.96it/s]"
     ]
    },
    {
     "name": "stdout",
     "output_type": "stream",
     "text": [
      "adjakaa manso adjakaa manso\n",
      "adjakaa manso adjakaa manso\n",
      "juabo juabo\n",
      "juabo juabo\n",
      "agona camp agona camp\n",
      "ankasie nkasiem\n",
      "obeng obomeng\n",
      "akyekyere kyekyewere\n",
      "somprey somprey\n"
     ]
    },
    {
     "name": "stderr",
     "output_type": "stream",
     "text": [
      "10094it [01:02, 146.20it/s]"
     ]
    },
    {
     "name": "stdout",
     "output_type": "stream",
     "text": [
      "kyeikrom kwesikrom\n",
      "manso amenfi manso amenfi\n",
      "manso amenfi manso amenfi\n",
      "adanse adansi\n",
      "beposo beposo\n",
      "gyedua gyedu\n",
      "dadieso dadieso\n",
      "domeabra domeabra\n",
      "holy angels holy daniel's\n",
      "st george st. george's\n"
     ]
    },
    {
     "name": "stderr",
     "output_type": "stream",
     "text": [
      "10130it [01:02, 158.97it/s]"
     ]
    },
    {
     "name": "stdout",
     "output_type": "stream",
     "text": [
      "tieku atieku\n",
      "mansiso manso\n",
      "oppon valley oppon valley\n",
      "asankran breman asankran breman\n",
      "juantoa antoa\n",
      "odumase odumase\n",
      "asankran saa asankra saa\n"
     ]
    },
    {
     "name": "stderr",
     "output_type": "stream",
     "text": [
      "10181it [01:02, 158.43it/s]"
     ]
    },
    {
     "name": "stdout",
     "output_type": "stream",
     "text": [
      "abekoase abease\n",
      "berekum bereku\n",
      "bisaaso bisaaso\n",
      "gravel yard gravel yard\n",
      "simpa simpa\n"
     ]
    },
    {
     "name": "stderr",
     "output_type": "stream",
     "text": [
      "10216it [01:02, 154.38it/s]"
     ]
    },
    {
     "name": "stdout",
     "output_type": "stream",
     "text": [
      "ateiku atieku\n",
      "akutuase akutuase\n",
      "atobiase atobiase\n",
      "edwenase dwease\n",
      "aboaboso aboabo\n",
      "ahmadiyya mission ahmadiyya mission\n",
      "dompim dompim\n",
      "enyinabrim anyinabrim\n",
      "sekyere krobo sekyere krobo\n"
     ]
    },
    {
     "name": "stderr",
     "output_type": "stream",
     "text": [
      "10248it [01:03, 148.95it/s]"
     ]
    },
    {
     "name": "stdout",
     "output_type": "stream",
     "text": [
      "achimfo achimfo\n",
      "desueano densuoano\n",
      "papueso presby papueso presby\n",
      "akontombra nkwanta akontombra nkwanta\n",
      "ankaase kaase\n",
      "aquay allah acquai allah\n",
      "boinso boinso\n",
      "jema jema\n"
     ]
    },
    {
     "name": "stderr",
     "output_type": "stream",
     "text": [
      "10281it [01:03, 150.90it/s]"
     ]
    },
    {
     "name": "stdout",
     "output_type": "stream",
     "text": [
      "new gyasikrom gyasikrom\n",
      "amonie presby amonie presby\n",
      "nkwanta nkwanta\n",
      "sewum sewum\n",
      "asantekrom ananekrom\n",
      "yiwabra yiwabra\n",
      "asemnyinakrom asemnyinakrom\n",
      "alhajikrom phc alhajikrom phc\n",
      "amangoase mangoase\n",
      "kaase kaase\n"
     ]
    },
    {
     "name": "stderr",
     "output_type": "stream",
     "text": [
      "10334it [01:03, 157.65it/s]"
     ]
    },
    {
     "name": "stdout",
     "output_type": "stream",
     "text": [
      "mempeasem mempeasem\n",
      "st john of god (bia) annex st. john of god  annex\n",
      "kramokrom kramokrom\n",
      "yawmatwa church of pentecost church of pentecost\n",
      "aboduabo aboabo\n"
     ]
    },
    {
     "name": "stderr",
     "output_type": "stream",
     "text": [
      "10369it [01:03, 155.65it/s]"
     ]
    },
    {
     "name": "stdout",
     "output_type": "stream",
     "text": [
      "asawinso asawinso a\n",
      "atronsu atonsu\n",
      "mmerewa mmerewa\n",
      "ampenkrom ampenkro\n",
      "humjibre humjibre\n",
      "bassengele bassengele\n",
      "bibiani district bibiani  district\n"
     ]
    },
    {
     "name": "stderr",
     "output_type": "stream",
     "text": [
      "10422it [01:04, 154.95it/s]"
     ]
    },
    {
     "name": "stdout",
     "output_type": "stream",
     "text": [
      "st marks anglican st.marks anglican\n",
      "surano suiano\n",
      "amoaya amanya\n",
      "bokabo aboabo\n",
      "patakro pakro\n",
      "denchemuosue denchemoisue\n",
      "puakrom pakro\n",
      "suiano suiano\n",
      "eteso detieso\n",
      "aboboyaa aboabogya\n",
      "bonsu bonsu\n"
     ]
    },
    {
     "name": "stderr",
     "output_type": "stream",
     "text": [
      "10475it [01:04, 160.54it/s]"
     ]
    },
    {
     "name": "stdout",
     "output_type": "stream",
     "text": [
      "antobia antoa\n",
      "boinzan anglican boinzan anglican\n",
      "jj nkwanta nkwanta\n",
      "kofikrom sda kofikrom s.d.a.\n",
      "kantankrubo kantankrubo\n",
      "nyame ama nyame ama\n",
      "akontombra akontombra\n",
      "bokaso aboaso\n",
      "yamfo yamfo\n"
     ]
    },
    {
     "name": "stderr",
     "output_type": "stream",
     "text": [
      "\r",
      "10492it [01:04, 157.58it/s]"
     ]
    },
    {
     "name": "stdout",
     "output_type": "stream",
     "text": [
      "asantekrom ananekrom\n",
      "bopa obopa\n",
      "kramokrom kramokrom\n",
      "ackaakrom ackaakrom\n",
      "kojokrom kojokrom\n",
      "nsawora nsawora\n",
      "yawkrom nyakrom\n",
      "abrabra abrabra\n"
     ]
    },
    {
     "name": "stderr",
     "output_type": "stream",
     "text": [
      "10541it [01:05, 155.10it/s]"
     ]
    },
    {
     "name": "stdout",
     "output_type": "stream",
     "text": [
      "asawinso asawinso a\n",
      "asawinso sda asawinso s.d.a\n",
      "ahokwa asokwa\n",
      "domeabra domeabra\n",
      "dwenase dwease\n",
      "nyamegyeso nyamegyeso\n",
      "aboboyaa aboabogya\n",
      "amafie wamfie\n"
     ]
    },
    {
     "name": "stderr",
     "output_type": "stream",
     "text": [
      "10564it [01:05, 161.97it/s]"
     ]
    },
    {
     "name": "stdout",
     "output_type": "stream",
     "text": [
      "dadieso district kade district\n",
      "sui-ano suiano\n",
      "kwassuo kwaso\n"
     ]
    },
    {
     "name": "stderr",
     "output_type": "stream",
     "text": [
      "\n"
     ]
    }
   ],
   "source": [
    "for idx, row in tqdm(records.iterrows()):\n",
    "    \n",
    "    if row.geocoding_method==\"None\":\n",
    "        \n",
    "        # Check if there is another entry with location\n",
    "        match, score = match_name(row.NAME, list(rhino['name']), 80)\n",
    "\n",
    "        if score > 0:\n",
    "            print(row.NAME, match)\n",
    "            matching_row = rhino.loc[rhino['name']==match].copy()\n",
    "            res = matching_row.iloc[0]\n",
    "\n",
    "            geocoded=False\n",
    "            if not pd.isna(row.adm2):\n",
    "                adm2 = geob2.loc[geob2['shapeName'] == row['adm2']].copy()\n",
    "                if adm2.contains(res.geometry).values[0] == True:\n",
    "                    records.loc[idx, \"longitude\"] = res.geometry.x\n",
    "                    records.loc[idx, \"latitude\"] = res.geometry.y\n",
    "                    records.loc[idx, \"geocoding_method\"] = \"Location from Rhino Dataset and within admin 3\"\n",
    "                    records.loc[idx, \"source\"] = res[\"LL source\"]\n",
    "                    geocoded=True\n",
    "\n",
    "            if (geocoded==False) and (not pd.isna(row.adm1)):\n",
    "                adm1 = geob1.loc[geob1['shapeName'] == row['adm1']].copy()\n",
    "                if adm1.contains(res.geometry).values[0] == True:            \n",
    "                    records.loc[idx, \"longitude\"] = res.geometry.x\n",
    "                    records.loc[idx, \"latitude\"] = res.geometry.y\n",
    "                    records.loc[idx, \"geocoding_method\"] = \"Location from Rhino Dataset and within admin 2\"\n",
    "                    records.loc[idx, \"source\"] = res[\"LL source\"]\n",
    "                    geocoded=True\n",
    "\n",
    "            if geocoded==False:\n",
    "                records.loc[idx, \"longitude\"] = res.geometry.x\n",
    "                records.loc[idx, \"latitude\"] = res.geometry.y\n",
    "                records.loc[idx, \"geocoding_method\"] = \"Location from Rhino Dataset without admin verification\"\n",
    "                records.loc[idx, \"source\"] = res[\"LL source\"]\n",
    "            "
   ]
  },
  {
   "cell_type": "code",
   "execution_count": 49,
   "metadata": {},
   "outputs": [
    {
     "data": {
      "text/html": [
       "<style type=\"text/css\">\n",
       "</style>\n",
       "<table id=\"T_868f5_\">\n",
       "  <thead>\n",
       "    <tr>\n",
       "      <th class=\"blank level0\" >&nbsp;</th>\n",
       "      <th class=\"col_heading level0 col0\" >count</th>\n",
       "      <th class=\"col_heading level0 col1\" >pct</th>\n",
       "    </tr>\n",
       "    <tr>\n",
       "      <th class=\"index_name level0\" >geocoding_method</th>\n",
       "      <th class=\"blank col0\" >&nbsp;</th>\n",
       "      <th class=\"blank col1\" >&nbsp;</th>\n",
       "    </tr>\n",
       "  </thead>\n",
       "  <tbody>\n",
       "    <tr>\n",
       "      <th id=\"T_868f5_level0_row0\" class=\"row_heading level0 row0\" >Location from Health Sites IO and within admin 1</th>\n",
       "      <td id=\"T_868f5_row0_col0\" class=\"data row0 col0\" >144</td>\n",
       "      <td id=\"T_868f5_row0_col1\" class=\"data row0 col1\" >1.4%</td>\n",
       "    </tr>\n",
       "    <tr>\n",
       "      <th id=\"T_868f5_level0_row1\" class=\"row_heading level0 row1\" >Location from Health Sites IO and within admin 2</th>\n",
       "      <td id=\"T_868f5_row1_col0\" class=\"data row1 col0\" >273</td>\n",
       "      <td id=\"T_868f5_row1_col1\" class=\"data row1 col1\" >2.6%</td>\n",
       "    </tr>\n",
       "    <tr>\n",
       "      <th id=\"T_868f5_level0_row2\" class=\"row_heading level0 row2\" >Location from Health Sites IO and without admin verification</th>\n",
       "      <td id=\"T_868f5_row2_col0\" class=\"data row2 col0\" >343</td>\n",
       "      <td id=\"T_868f5_row2_col1\" class=\"data row2 col1\" >3.2%</td>\n",
       "    </tr>\n",
       "    <tr>\n",
       "      <th id=\"T_868f5_level0_row3\" class=\"row_heading level0 row3\" >Location from Rhino Dataset and within admin 2</th>\n",
       "      <td id=\"T_868f5_row3_col0\" class=\"data row3 col0\" >219</td>\n",
       "      <td id=\"T_868f5_row3_col1\" class=\"data row3 col1\" >2.1%</td>\n",
       "    </tr>\n",
       "    <tr>\n",
       "      <th id=\"T_868f5_level0_row4\" class=\"row_heading level0 row4\" >Location from Rhino Dataset and within admin 3</th>\n",
       "      <td id=\"T_868f5_row4_col0\" class=\"data row4 col0\" >696</td>\n",
       "      <td id=\"T_868f5_row4_col1\" class=\"data row4 col1\" >6.6%</td>\n",
       "    </tr>\n",
       "    <tr>\n",
       "      <th id=\"T_868f5_level0_row5\" class=\"row_heading level0 row5\" >Location from Rhino Dataset without admin verification</th>\n",
       "      <td id=\"T_868f5_row5_col0\" class=\"data row5 col0\" >683</td>\n",
       "      <td id=\"T_868f5_row5_col1\" class=\"data row5 col1\" >6.5%</td>\n",
       "    </tr>\n",
       "    <tr>\n",
       "      <th id=\"T_868f5_level0_row6\" class=\"row_heading level0 row6\" >None</th>\n",
       "      <td id=\"T_868f5_row6_col0\" class=\"data row6 col0\" >8206</td>\n",
       "      <td id=\"T_868f5_row6_col1\" class=\"data row6 col1\" >77.7%</td>\n",
       "    </tr>\n",
       "  </tbody>\n",
       "</table>\n"
      ],
      "text/plain": [
       "<pandas.io.formats.style.Styler at 0x7f0f0e770990>"
      ]
     },
     "execution_count": 49,
     "metadata": {},
     "output_type": "execute_result"
    }
   ],
   "source": [
    "report_geocoding(records)"
   ]
  },
  {
   "cell_type": "markdown",
   "metadata": {},
   "source": [
    "# Geocoding with APIs"
   ]
  },
  {
   "cell_type": "code",
   "execution_count": 50,
   "metadata": {},
   "outputs": [
    {
     "data": {
      "text/plain": [
       "True"
      ]
     },
     "execution_count": 50,
     "metadata": {},
     "output_type": "execute_result"
    }
   ],
   "source": [
    "from pathlib import Path \n",
    "env_path = Path(input_dir) / '.env'\n",
    "load_dotenv(dotenv_path=env_path)"
   ]
  },
  {
   "cell_type": "code",
   "execution_count": 51,
   "metadata": {},
   "outputs": [],
   "source": [
    "bing_key = os.environ.get(\"bing_key\")\n",
    "google_key = os.environ.get(\"google_key\")"
   ]
  },
  {
   "cell_type": "code",
   "execution_count": 52,
   "metadata": {},
   "outputs": [],
   "source": [
    "geolocator_osm = Nominatim(user_agent=\"health-equity\")\n",
    "geolocator_bing = Bing(api_key=bing_key)\n",
    "geolocator_google = GoogleV3(api_key=google_key)"
   ]
  },
  {
   "cell_type": "markdown",
   "metadata": {},
   "source": [
    "## Facility name and admin 2 names"
   ]
  },
  {
   "cell_type": "markdown",
   "metadata": {},
   "source": [
    "Geocode based on facility name (orgunitlevel5) + admin 2 name.  \n",
    "Check to make sure result falls within admin 2 polygon."
   ]
  },
  {
   "cell_type": "code",
   "execution_count": 53,
   "metadata": {},
   "outputs": [],
   "source": [
    "records_subset = records.loc[records.geocoding_method==\"None\"].copy()\n",
    "# only include trying to geocode rows that have an admin name that is matched to the Geoboundaries file\n",
    "records_subset = records_subset.loc[~records_subset.adm2.isna()].copy()"
   ]
  },
  {
   "cell_type": "code",
   "execution_count": 54,
   "metadata": {},
   "outputs": [
    {
     "data": {
      "text/plain": [
       "6788"
      ]
     },
     "execution_count": 54,
     "metadata": {},
     "output_type": "execute_result"
    }
   ],
   "source": [
    "len(records_subset)"
   ]
  },
  {
   "cell_type": "code",
   "execution_count": 55,
   "metadata": {},
   "outputs": [
    {
     "data": {
      "text/html": [
       "<div>\n",
       "<style scoped>\n",
       "    .dataframe tbody tr th:only-of-type {\n",
       "        vertical-align: middle;\n",
       "    }\n",
       "\n",
       "    .dataframe tbody tr th {\n",
       "        vertical-align: top;\n",
       "    }\n",
       "\n",
       "    .dataframe thead th {\n",
       "        text-align: right;\n",
       "    }\n",
       "</style>\n",
       "<table border=\"1\" class=\"dataframe\">\n",
       "  <thead>\n",
       "    <tr style=\"text-align: right;\">\n",
       "      <th></th>\n",
       "      <th>orgunitlevel1</th>\n",
       "      <th>orgunitlevel2</th>\n",
       "      <th>orgunitlevel3</th>\n",
       "      <th>orgunitlevel4</th>\n",
       "      <th>orgunitlevel5</th>\n",
       "      <th>orgunitlevel3_edit</th>\n",
       "      <th>orgunitlevel2_edit</th>\n",
       "      <th>adm2</th>\n",
       "      <th>adm1</th>\n",
       "      <th>NAME</th>\n",
       "      <th>geocoding_method</th>\n",
       "      <th>longitude</th>\n",
       "      <th>latitude</th>\n",
       "      <th>source</th>\n",
       "    </tr>\n",
       "  </thead>\n",
       "  <tbody>\n",
       "    <tr>\n",
       "      <th>60</th>\n",
       "      <td>Eastern</td>\n",
       "      <td>Achiase</td>\n",
       "      <td>Achiase</td>\n",
       "      <td>Achiase Junction</td>\n",
       "      <td>Achiase Junction</td>\n",
       "      <td>Achiase</td>\n",
       "      <td>Achiase</td>\n",
       "      <td>Achiase</td>\n",
       "      <td>NaN</td>\n",
       "      <td>achiase junction</td>\n",
       "      <td>None</td>\n",
       "      <td>NaN</td>\n",
       "      <td>NaN</td>\n",
       "      <td>NaN</td>\n",
       "    </tr>\n",
       "    <tr>\n",
       "      <th>61</th>\n",
       "      <td>Eastern</td>\n",
       "      <td>Achiase</td>\n",
       "      <td>Achiase</td>\n",
       "      <td>Agric</td>\n",
       "      <td>Agric</td>\n",
       "      <td>Achiase</td>\n",
       "      <td>Achiase</td>\n",
       "      <td>Achiase</td>\n",
       "      <td>NaN</td>\n",
       "      <td>agric</td>\n",
       "      <td>None</td>\n",
       "      <td>NaN</td>\n",
       "      <td>NaN</td>\n",
       "      <td>NaN</td>\n",
       "    </tr>\n",
       "  </tbody>\n",
       "</table>\n",
       "</div>"
      ],
      "text/plain": [
       "   orgunitlevel1 orgunitlevel2 orgunitlevel3      orgunitlevel4  \\\n",
       "60       Eastern       Achiase       Achiase  Achiase Junction    \n",
       "61       Eastern       Achiase       Achiase             Agric    \n",
       "\n",
       "        orgunitlevel5 orgunitlevel3_edit orgunitlevel2_edit     adm2 adm1  \\\n",
       "60  Achiase Junction             Achiase            Achiase  Achiase  NaN   \n",
       "61             Agric             Achiase            Achiase  Achiase  NaN   \n",
       "\n",
       "                NAME geocoding_method  longitude  latitude source  \n",
       "60  achiase junction             None        NaN       NaN    NaN  \n",
       "61             agric             None        NaN       NaN    NaN  "
      ]
     },
     "execution_count": 55,
     "metadata": {},
     "output_type": "execute_result"
    }
   ],
   "source": [
    "records_subset.head(2)"
   ]
  },
  {
   "cell_type": "code",
   "execution_count": 56,
   "metadata": {
    "code_folding": [],
    "scrolled": true
   },
   "outputs": [
    {
     "name": "stderr",
     "output_type": "stream",
     "text": [
      "6788it [1:00:54,  1.86it/s]\n"
     ]
    }
   ],
   "source": [
    "for idx, row in tqdm(records_subset.iterrows()):\n",
    "    adm2 = geob2.loc[geob2['shapeName'] == row['adm2']].copy()\n",
    "    run_geocoding(idx, row, records, adm2, ['NAME', 'adm2'], 'gh')"
   ]
  },
  {
   "cell_type": "code",
   "execution_count": 58,
   "metadata": {},
   "outputs": [
    {
     "data": {
      "text/html": [
       "<style type=\"text/css\">\n",
       "</style>\n",
       "<table id=\"T_94436_\">\n",
       "  <thead>\n",
       "    <tr>\n",
       "      <th class=\"blank level0\" >&nbsp;</th>\n",
       "      <th class=\"col_heading level0 col0\" >count</th>\n",
       "      <th class=\"col_heading level0 col1\" >pct</th>\n",
       "    </tr>\n",
       "    <tr>\n",
       "      <th class=\"index_name level0\" >geocoding_method</th>\n",
       "      <th class=\"blank col0\" >&nbsp;</th>\n",
       "      <th class=\"blank col1\" >&nbsp;</th>\n",
       "    </tr>\n",
       "  </thead>\n",
       "  <tbody>\n",
       "    <tr>\n",
       "      <th id=\"T_94436_level0_row0\" class=\"row_heading level0 row0\" >Location from Health Sites IO and within admin 1</th>\n",
       "      <td id=\"T_94436_row0_col0\" class=\"data row0 col0\" >144</td>\n",
       "      <td id=\"T_94436_row0_col1\" class=\"data row0 col1\" >1.4%</td>\n",
       "    </tr>\n",
       "    <tr>\n",
       "      <th id=\"T_94436_level0_row1\" class=\"row_heading level0 row1\" >Location from Health Sites IO and within admin 2</th>\n",
       "      <td id=\"T_94436_row1_col0\" class=\"data row1 col0\" >273</td>\n",
       "      <td id=\"T_94436_row1_col1\" class=\"data row1 col1\" >2.6%</td>\n",
       "    </tr>\n",
       "    <tr>\n",
       "      <th id=\"T_94436_level0_row2\" class=\"row_heading level0 row2\" >Location from Health Sites IO and without admin verification</th>\n",
       "      <td id=\"T_94436_row2_col0\" class=\"data row2 col0\" >343</td>\n",
       "      <td id=\"T_94436_row2_col1\" class=\"data row2 col1\" >3.2%</td>\n",
       "    </tr>\n",
       "    <tr>\n",
       "      <th id=\"T_94436_level0_row3\" class=\"row_heading level0 row3\" >Location from Rhino Dataset and within admin 2</th>\n",
       "      <td id=\"T_94436_row3_col0\" class=\"data row3 col0\" >219</td>\n",
       "      <td id=\"T_94436_row3_col1\" class=\"data row3 col1\" >2.1%</td>\n",
       "    </tr>\n",
       "    <tr>\n",
       "      <th id=\"T_94436_level0_row4\" class=\"row_heading level0 row4\" >Location from Rhino Dataset and within admin 3</th>\n",
       "      <td id=\"T_94436_row4_col0\" class=\"data row4 col0\" >696</td>\n",
       "      <td id=\"T_94436_row4_col1\" class=\"data row4 col1\" >6.6%</td>\n",
       "    </tr>\n",
       "    <tr>\n",
       "      <th id=\"T_94436_level0_row5\" class=\"row_heading level0 row5\" >Location from Rhino Dataset without admin verification</th>\n",
       "      <td id=\"T_94436_row5_col0\" class=\"data row5 col0\" >683</td>\n",
       "      <td id=\"T_94436_row5_col1\" class=\"data row5 col1\" >6.5%</td>\n",
       "    </tr>\n",
       "    <tr>\n",
       "      <th id=\"T_94436_level0_row6\" class=\"row_heading level0 row6\" >NAME and adm2 query Bing</th>\n",
       "      <td id=\"T_94436_row6_col0\" class=\"data row6 col0\" >1916</td>\n",
       "      <td id=\"T_94436_row6_col1\" class=\"data row6 col1\" >18.1%</td>\n",
       "    </tr>\n",
       "    <tr>\n",
       "      <th id=\"T_94436_level0_row7\" class=\"row_heading level0 row7\" >NAME and adm2 query Google</th>\n",
       "      <td id=\"T_94436_row7_col0\" class=\"data row7 col0\" >3388</td>\n",
       "      <td id=\"T_94436_row7_col1\" class=\"data row7 col1\" >32.1%</td>\n",
       "    </tr>\n",
       "    <tr>\n",
       "      <th id=\"T_94436_level0_row8\" class=\"row_heading level0 row8\" >NAME and adm2 query OSM</th>\n",
       "      <td id=\"T_94436_row8_col0\" class=\"data row8 col0\" >1017</td>\n",
       "      <td id=\"T_94436_row8_col1\" class=\"data row8 col1\" >9.6%</td>\n",
       "    </tr>\n",
       "    <tr>\n",
       "      <th id=\"T_94436_level0_row9\" class=\"row_heading level0 row9\" >None</th>\n",
       "      <td id=\"T_94436_row9_col0\" class=\"data row9 col0\" >1885</td>\n",
       "      <td id=\"T_94436_row9_col1\" class=\"data row9 col1\" >17.8%</td>\n",
       "    </tr>\n",
       "  </tbody>\n",
       "</table>\n"
      ],
      "text/plain": [
       "<pandas.io.formats.style.Styler at 0x7f0f0e97fd50>"
      ]
     },
     "execution_count": 58,
     "metadata": {},
     "output_type": "execute_result"
    }
   ],
   "source": [
    "report_geocoding(records)"
   ]
  },
  {
   "cell_type": "code",
   "execution_count": 59,
   "metadata": {},
   "outputs": [],
   "source": [
    "records_subset = records.loc[records.geocoding_method==\"None\"].copy()\n",
    "records_subset = records_subset.loc[~records_subset.adm2.isna()].copy()\n",
    "records_subset = records_subset.loc[~records_subset.adm1.isna()].copy()"
   ]
  },
  {
   "cell_type": "code",
   "execution_count": 60,
   "metadata": {},
   "outputs": [
    {
     "data": {
      "text/plain": [
       "462"
      ]
     },
     "execution_count": 60,
     "metadata": {},
     "output_type": "execute_result"
    }
   ],
   "source": [
    "len(records_subset)"
   ]
  },
  {
   "cell_type": "markdown",
   "metadata": {},
   "source": [
    "## Facility name and admin 1 names"
   ]
  },
  {
   "cell_type": "markdown",
   "metadata": {},
   "source": [
    "Geocode based on facility name (orgunitlevel5) + admin 1 name.  \n",
    "Check to make sure result falls within admin 2 polygon."
   ]
  },
  {
   "cell_type": "code",
   "execution_count": 61,
   "metadata": {},
   "outputs": [
    {
     "name": "stderr",
     "output_type": "stream",
     "text": [
      "462it [04:14,  1.81it/s]\n"
     ]
    }
   ],
   "source": [
    "for idx, row in tqdm(records_subset.iterrows()):\n",
    "    adm2 = geob2.loc[geob2['shapeName'] == row['adm2']].copy()\n",
    "    run_geocoding(idx, row, records, adm2, ['NAME', 'adm1'], 'gh')"
   ]
  },
  {
   "cell_type": "code",
   "execution_count": 64,
   "metadata": {},
   "outputs": [
    {
     "data": {
      "text/html": [
       "<style type=\"text/css\">\n",
       "</style>\n",
       "<table id=\"T_e4034_\">\n",
       "  <thead>\n",
       "    <tr>\n",
       "      <th class=\"blank level0\" >&nbsp;</th>\n",
       "      <th class=\"col_heading level0 col0\" >count</th>\n",
       "      <th class=\"col_heading level0 col1\" >pct</th>\n",
       "    </tr>\n",
       "    <tr>\n",
       "      <th class=\"index_name level0\" >geocoding_method</th>\n",
       "      <th class=\"blank col0\" >&nbsp;</th>\n",
       "      <th class=\"blank col1\" >&nbsp;</th>\n",
       "    </tr>\n",
       "  </thead>\n",
       "  <tbody>\n",
       "    <tr>\n",
       "      <th id=\"T_e4034_level0_row0\" class=\"row_heading level0 row0\" >Location from Health Sites IO and within admin 1</th>\n",
       "      <td id=\"T_e4034_row0_col0\" class=\"data row0 col0\" >144</td>\n",
       "      <td id=\"T_e4034_row0_col1\" class=\"data row0 col1\" >1.4%</td>\n",
       "    </tr>\n",
       "    <tr>\n",
       "      <th id=\"T_e4034_level0_row1\" class=\"row_heading level0 row1\" >Location from Health Sites IO and within admin 2</th>\n",
       "      <td id=\"T_e4034_row1_col0\" class=\"data row1 col0\" >273</td>\n",
       "      <td id=\"T_e4034_row1_col1\" class=\"data row1 col1\" >2.6%</td>\n",
       "    </tr>\n",
       "    <tr>\n",
       "      <th id=\"T_e4034_level0_row2\" class=\"row_heading level0 row2\" >Location from Health Sites IO and without admin verification</th>\n",
       "      <td id=\"T_e4034_row2_col0\" class=\"data row2 col0\" >343</td>\n",
       "      <td id=\"T_e4034_row2_col1\" class=\"data row2 col1\" >3.2%</td>\n",
       "    </tr>\n",
       "    <tr>\n",
       "      <th id=\"T_e4034_level0_row3\" class=\"row_heading level0 row3\" >Location from Rhino Dataset and within admin 2</th>\n",
       "      <td id=\"T_e4034_row3_col0\" class=\"data row3 col0\" >219</td>\n",
       "      <td id=\"T_e4034_row3_col1\" class=\"data row3 col1\" >2.1%</td>\n",
       "    </tr>\n",
       "    <tr>\n",
       "      <th id=\"T_e4034_level0_row4\" class=\"row_heading level0 row4\" >Location from Rhino Dataset and within admin 3</th>\n",
       "      <td id=\"T_e4034_row4_col0\" class=\"data row4 col0\" >696</td>\n",
       "      <td id=\"T_e4034_row4_col1\" class=\"data row4 col1\" >6.6%</td>\n",
       "    </tr>\n",
       "    <tr>\n",
       "      <th id=\"T_e4034_level0_row5\" class=\"row_heading level0 row5\" >Location from Rhino Dataset without admin verification</th>\n",
       "      <td id=\"T_e4034_row5_col0\" class=\"data row5 col0\" >683</td>\n",
       "      <td id=\"T_e4034_row5_col1\" class=\"data row5 col1\" >6.5%</td>\n",
       "    </tr>\n",
       "    <tr>\n",
       "      <th id=\"T_e4034_level0_row6\" class=\"row_heading level0 row6\" >NAME and adm1 query Bing</th>\n",
       "      <td id=\"T_e4034_row6_col0\" class=\"data row6 col0\" >8</td>\n",
       "      <td id=\"T_e4034_row6_col1\" class=\"data row6 col1\" >0.1%</td>\n",
       "    </tr>\n",
       "    <tr>\n",
       "      <th id=\"T_e4034_level0_row7\" class=\"row_heading level0 row7\" >NAME and adm1 query Google</th>\n",
       "      <td id=\"T_e4034_row7_col0\" class=\"data row7 col0\" >16</td>\n",
       "      <td id=\"T_e4034_row7_col1\" class=\"data row7 col1\" >0.2%</td>\n",
       "    </tr>\n",
       "    <tr>\n",
       "      <th id=\"T_e4034_level0_row8\" class=\"row_heading level0 row8\" >NAME and adm1 query OSM</th>\n",
       "      <td id=\"T_e4034_row8_col0\" class=\"data row8 col0\" >4</td>\n",
       "      <td id=\"T_e4034_row8_col1\" class=\"data row8 col1\" >0.0%</td>\n",
       "    </tr>\n",
       "    <tr>\n",
       "      <th id=\"T_e4034_level0_row9\" class=\"row_heading level0 row9\" >NAME and adm2 query Bing</th>\n",
       "      <td id=\"T_e4034_row9_col0\" class=\"data row9 col0\" >1916</td>\n",
       "      <td id=\"T_e4034_row9_col1\" class=\"data row9 col1\" >18.1%</td>\n",
       "    </tr>\n",
       "    <tr>\n",
       "      <th id=\"T_e4034_level0_row10\" class=\"row_heading level0 row10\" >NAME and adm2 query Google</th>\n",
       "      <td id=\"T_e4034_row10_col0\" class=\"data row10 col0\" >3388</td>\n",
       "      <td id=\"T_e4034_row10_col1\" class=\"data row10 col1\" >32.1%</td>\n",
       "    </tr>\n",
       "    <tr>\n",
       "      <th id=\"T_e4034_level0_row11\" class=\"row_heading level0 row11\" >NAME and adm2 query OSM</th>\n",
       "      <td id=\"T_e4034_row11_col0\" class=\"data row11 col0\" >1017</td>\n",
       "      <td id=\"T_e4034_row11_col1\" class=\"data row11 col1\" >9.6%</td>\n",
       "    </tr>\n",
       "    <tr>\n",
       "      <th id=\"T_e4034_level0_row12\" class=\"row_heading level0 row12\" >None</th>\n",
       "      <td id=\"T_e4034_row12_col0\" class=\"data row12 col0\" >1857</td>\n",
       "      <td id=\"T_e4034_row12_col1\" class=\"data row12 col1\" >17.6%</td>\n",
       "    </tr>\n",
       "  </tbody>\n",
       "</table>\n"
      ],
      "text/plain": [
       "<pandas.io.formats.style.Styler at 0x7f0fdc66c950>"
      ]
     },
     "execution_count": 64,
     "metadata": {},
     "output_type": "execute_result"
    }
   ],
   "source": [
    "report_geocoding(records)"
   ]
  },
  {
   "cell_type": "code",
   "execution_count": 65,
   "metadata": {},
   "outputs": [],
   "source": [
    "records_subset = records.loc[records.geocoding_method==\"None\"].copy()\n",
    "records_subset = records_subset.loc[~records_subset.adm2.isna()].copy()"
   ]
  },
  {
   "cell_type": "code",
   "execution_count": 66,
   "metadata": {},
   "outputs": [
    {
     "data": {
      "text/plain": [
       "439"
      ]
     },
     "execution_count": 66,
     "metadata": {},
     "output_type": "execute_result"
    }
   ],
   "source": [
    "len(records_subset)"
   ]
  },
  {
   "cell_type": "markdown",
   "metadata": {},
   "source": [
    "## Admin 2 names"
   ]
  },
  {
   "cell_type": "markdown",
   "metadata": {},
   "source": [
    "Geocode based on admin 2 name.  \n",
    "Check to make sure result falls within admin 2 polygon.  \n",
    "If no result use admin 2 centroid."
   ]
  },
  {
   "cell_type": "code",
   "execution_count": 67,
   "metadata": {},
   "outputs": [],
   "source": [
    "# drop duplicates\n",
    "orglev3_df = records_subset[['orgunitlevel3', 'orgunitlevel3_edit', 'adm2', 'orgunitlevel1']].drop_duplicates().copy()"
   ]
  },
  {
   "cell_type": "code",
   "execution_count": 68,
   "metadata": {},
   "outputs": [
    {
     "data": {
      "text/html": [
       "<div>\n",
       "<style scoped>\n",
       "    .dataframe tbody tr th:only-of-type {\n",
       "        vertical-align: middle;\n",
       "    }\n",
       "\n",
       "    .dataframe tbody tr th {\n",
       "        vertical-align: top;\n",
       "    }\n",
       "\n",
       "    .dataframe thead th {\n",
       "        text-align: right;\n",
       "    }\n",
       "</style>\n",
       "<table border=\"1\" class=\"dataframe\">\n",
       "  <thead>\n",
       "    <tr style=\"text-align: right;\">\n",
       "      <th></th>\n",
       "      <th>orgunitlevel3</th>\n",
       "      <th>orgunitlevel3_edit</th>\n",
       "      <th>adm2</th>\n",
       "      <th>orgunitlevel1</th>\n",
       "    </tr>\n",
       "  </thead>\n",
       "  <tbody>\n",
       "    <tr>\n",
       "      <th>840</th>\n",
       "      <td>Zongo</td>\n",
       "      <td>Zongo</td>\n",
       "      <td>Bongo</td>\n",
       "      <td>Eastern</td>\n",
       "    </tr>\n",
       "    <tr>\n",
       "      <th>1203</th>\n",
       "      <td>Asunafo South</td>\n",
       "      <td>Asunafo South</td>\n",
       "      <td>Asunafo South</td>\n",
       "      <td>Ghana</td>\n",
       "    </tr>\n",
       "  </tbody>\n",
       "</table>\n",
       "</div>"
      ],
      "text/plain": [
       "      orgunitlevel3 orgunitlevel3_edit           adm2 orgunitlevel1\n",
       "840           Zongo              Zongo          Bongo       Eastern\n",
       "1203  Asunafo South      Asunafo South  Asunafo South         Ghana"
      ]
     },
     "execution_count": 68,
     "metadata": {},
     "output_type": "execute_result"
    }
   ],
   "source": [
    "orglev3_df.head(2)"
   ]
  },
  {
   "cell_type": "code",
   "execution_count": 69,
   "metadata": {},
   "outputs": [
    {
     "data": {
      "text/plain": [
       "80"
      ]
     },
     "execution_count": 69,
     "metadata": {},
     "output_type": "execute_result"
    }
   ],
   "source": [
    "len(orglev3_df)"
   ]
  },
  {
   "cell_type": "code",
   "execution_count": 70,
   "metadata": {},
   "outputs": [
    {
     "name": "stderr",
     "output_type": "stream",
     "text": [
      "80it [00:48,  1.64it/s]\n"
     ]
    }
   ],
   "source": [
    "# geocode if result falls within admin 2 polygon\n",
    "for idx, row in tqdm(orglev3_df.iterrows()):\n",
    "    adm2 = geob2.loc[geob2['shapeName'] == row['adm2']].copy()\n",
    "    # updates orglev3_df (not the main records table)\n",
    "    run_geocoding(idx, row, orglev3_df, adm2, ['orgunitlevel3', 'orgunitlevel1'], 'gh')"
   ]
  },
  {
   "cell_type": "code",
   "execution_count": 71,
   "metadata": {},
   "outputs": [
    {
     "name": "stderr",
     "output_type": "stream",
     "text": [
      "80it [00:00, 634.35it/s]\n"
     ]
    }
   ],
   "source": [
    "# no result geocode using admin 2 centroid\n",
    "for idx, row in tqdm(orglev3_df.iterrows()):\n",
    "    #grab admin geometry\n",
    "    adm2 = geob2.loc[geob2['shapeName'] == row['adm2']].copy()\n",
    "    if row.geocoding_method==\"None\":\n",
    "        cent = adm2.geometry.representative_point().iloc[0]\n",
    "        orglev3_df.loc[idx, \"longitude\"] = cent.x\n",
    "        orglev3_df.loc[idx, \"latitude\"] = cent.y\n",
    "        orglev3_df.loc[idx, \"geocoding_method\"] = \"District centroid\""
   ]
  },
  {
   "cell_type": "code",
   "execution_count": 72,
   "metadata": {},
   "outputs": [
    {
     "data": {
      "text/plain": [
       "orgunitlevel3 and orgunitlevel1 query OSM       58\n",
       "orgunitlevel3 and orgunitlevel1 query Google    11\n",
       "District centroid                               10\n",
       "orgunitlevel3 and orgunitlevel1 query Bing       1\n",
       "Name: geocoding_method, dtype: int64"
      ]
     },
     "execution_count": 72,
     "metadata": {},
     "output_type": "execute_result"
    }
   ],
   "source": [
    "orglev3_df.geocoding_method.value_counts()"
   ]
  },
  {
   "cell_type": "code",
   "execution_count": 73,
   "metadata": {},
   "outputs": [
    {
     "name": "stderr",
     "output_type": "stream",
     "text": [
      "439it [00:00, 814.61it/s]\n"
     ]
    }
   ],
   "source": [
    "# update main records table\n",
    "for idx, row in tqdm(records_subset.iterrows()):\n",
    "    orglev3_geocoded = orglev3_df.loc[orglev3_df['orgunitlevel3']==row['orgunitlevel3']].iloc[0]    \n",
    "    records.loc[idx, \"longitude\"] = orglev3_geocoded.longitude\n",
    "    records.loc[idx, \"latitude\"] = orglev3_geocoded.latitude\n",
    "    records.loc[idx, \"geocoding_method\"] = orglev3_geocoded.geocoding_method"
   ]
  },
  {
   "cell_type": "code",
   "execution_count": 74,
   "metadata": {},
   "outputs": [
    {
     "data": {
      "text/html": [
       "<style type=\"text/css\">\n",
       "</style>\n",
       "<table id=\"T_b13c7_\">\n",
       "  <thead>\n",
       "    <tr>\n",
       "      <th class=\"blank level0\" >&nbsp;</th>\n",
       "      <th class=\"col_heading level0 col0\" >count</th>\n",
       "      <th class=\"col_heading level0 col1\" >pct</th>\n",
       "    </tr>\n",
       "    <tr>\n",
       "      <th class=\"index_name level0\" >geocoding_method</th>\n",
       "      <th class=\"blank col0\" >&nbsp;</th>\n",
       "      <th class=\"blank col1\" >&nbsp;</th>\n",
       "    </tr>\n",
       "  </thead>\n",
       "  <tbody>\n",
       "    <tr>\n",
       "      <th id=\"T_b13c7_level0_row0\" class=\"row_heading level0 row0\" >District centroid</th>\n",
       "      <td id=\"T_b13c7_row0_col0\" class=\"data row0 col0\" >150</td>\n",
       "      <td id=\"T_b13c7_row0_col1\" class=\"data row0 col1\" >1.4%</td>\n",
       "    </tr>\n",
       "    <tr>\n",
       "      <th id=\"T_b13c7_level0_row1\" class=\"row_heading level0 row1\" >Location from Health Sites IO and within admin 1</th>\n",
       "      <td id=\"T_b13c7_row1_col0\" class=\"data row1 col0\" >144</td>\n",
       "      <td id=\"T_b13c7_row1_col1\" class=\"data row1 col1\" >1.4%</td>\n",
       "    </tr>\n",
       "    <tr>\n",
       "      <th id=\"T_b13c7_level0_row2\" class=\"row_heading level0 row2\" >Location from Health Sites IO and within admin 2</th>\n",
       "      <td id=\"T_b13c7_row2_col0\" class=\"data row2 col0\" >273</td>\n",
       "      <td id=\"T_b13c7_row2_col1\" class=\"data row2 col1\" >2.6%</td>\n",
       "    </tr>\n",
       "    <tr>\n",
       "      <th id=\"T_b13c7_level0_row3\" class=\"row_heading level0 row3\" >Location from Health Sites IO and without admin verification</th>\n",
       "      <td id=\"T_b13c7_row3_col0\" class=\"data row3 col0\" >343</td>\n",
       "      <td id=\"T_b13c7_row3_col1\" class=\"data row3 col1\" >3.2%</td>\n",
       "    </tr>\n",
       "    <tr>\n",
       "      <th id=\"T_b13c7_level0_row4\" class=\"row_heading level0 row4\" >Location from Rhino Dataset and within admin 2</th>\n",
       "      <td id=\"T_b13c7_row4_col0\" class=\"data row4 col0\" >219</td>\n",
       "      <td id=\"T_b13c7_row4_col1\" class=\"data row4 col1\" >2.1%</td>\n",
       "    </tr>\n",
       "    <tr>\n",
       "      <th id=\"T_b13c7_level0_row5\" class=\"row_heading level0 row5\" >Location from Rhino Dataset and within admin 3</th>\n",
       "      <td id=\"T_b13c7_row5_col0\" class=\"data row5 col0\" >696</td>\n",
       "      <td id=\"T_b13c7_row5_col1\" class=\"data row5 col1\" >6.6%</td>\n",
       "    </tr>\n",
       "    <tr>\n",
       "      <th id=\"T_b13c7_level0_row6\" class=\"row_heading level0 row6\" >Location from Rhino Dataset without admin verification</th>\n",
       "      <td id=\"T_b13c7_row6_col0\" class=\"data row6 col0\" >683</td>\n",
       "      <td id=\"T_b13c7_row6_col1\" class=\"data row6 col1\" >6.5%</td>\n",
       "    </tr>\n",
       "    <tr>\n",
       "      <th id=\"T_b13c7_level0_row7\" class=\"row_heading level0 row7\" >NAME and adm1 query Bing</th>\n",
       "      <td id=\"T_b13c7_row7_col0\" class=\"data row7 col0\" >8</td>\n",
       "      <td id=\"T_b13c7_row7_col1\" class=\"data row7 col1\" >0.1%</td>\n",
       "    </tr>\n",
       "    <tr>\n",
       "      <th id=\"T_b13c7_level0_row8\" class=\"row_heading level0 row8\" >NAME and adm1 query Google</th>\n",
       "      <td id=\"T_b13c7_row8_col0\" class=\"data row8 col0\" >16</td>\n",
       "      <td id=\"T_b13c7_row8_col1\" class=\"data row8 col1\" >0.2%</td>\n",
       "    </tr>\n",
       "    <tr>\n",
       "      <th id=\"T_b13c7_level0_row9\" class=\"row_heading level0 row9\" >NAME and adm1 query OSM</th>\n",
       "      <td id=\"T_b13c7_row9_col0\" class=\"data row9 col0\" >4</td>\n",
       "      <td id=\"T_b13c7_row9_col1\" class=\"data row9 col1\" >0.0%</td>\n",
       "    </tr>\n",
       "    <tr>\n",
       "      <th id=\"T_b13c7_level0_row10\" class=\"row_heading level0 row10\" >NAME and adm2 query Bing</th>\n",
       "      <td id=\"T_b13c7_row10_col0\" class=\"data row10 col0\" >1916</td>\n",
       "      <td id=\"T_b13c7_row10_col1\" class=\"data row10 col1\" >18.1%</td>\n",
       "    </tr>\n",
       "    <tr>\n",
       "      <th id=\"T_b13c7_level0_row11\" class=\"row_heading level0 row11\" >NAME and adm2 query Google</th>\n",
       "      <td id=\"T_b13c7_row11_col0\" class=\"data row11 col0\" >3388</td>\n",
       "      <td id=\"T_b13c7_row11_col1\" class=\"data row11 col1\" >32.1%</td>\n",
       "    </tr>\n",
       "    <tr>\n",
       "      <th id=\"T_b13c7_level0_row12\" class=\"row_heading level0 row12\" >NAME and adm2 query OSM</th>\n",
       "      <td id=\"T_b13c7_row12_col0\" class=\"data row12 col0\" >1017</td>\n",
       "      <td id=\"T_b13c7_row12_col1\" class=\"data row12 col1\" >9.6%</td>\n",
       "    </tr>\n",
       "    <tr>\n",
       "      <th id=\"T_b13c7_level0_row13\" class=\"row_heading level0 row13\" >None</th>\n",
       "      <td id=\"T_b13c7_row13_col0\" class=\"data row13 col0\" >1418</td>\n",
       "      <td id=\"T_b13c7_row13_col1\" class=\"data row13 col1\" >13.4%</td>\n",
       "    </tr>\n",
       "    <tr>\n",
       "      <th id=\"T_b13c7_level0_row14\" class=\"row_heading level0 row14\" >orgunitlevel3 and orgunitlevel1 query Bing</th>\n",
       "      <td id=\"T_b13c7_row14_col0\" class=\"data row14 col0\" >18</td>\n",
       "      <td id=\"T_b13c7_row14_col1\" class=\"data row14 col1\" >0.2%</td>\n",
       "    </tr>\n",
       "    <tr>\n",
       "      <th id=\"T_b13c7_level0_row15\" class=\"row_heading level0 row15\" >orgunitlevel3 and orgunitlevel1 query Google</th>\n",
       "      <td id=\"T_b13c7_row15_col0\" class=\"data row15 col0\" >26</td>\n",
       "      <td id=\"T_b13c7_row15_col1\" class=\"data row15 col1\" >0.2%</td>\n",
       "    </tr>\n",
       "    <tr>\n",
       "      <th id=\"T_b13c7_level0_row16\" class=\"row_heading level0 row16\" >orgunitlevel3 and orgunitlevel1 query OSM</th>\n",
       "      <td id=\"T_b13c7_row16_col0\" class=\"data row16 col0\" >245</td>\n",
       "      <td id=\"T_b13c7_row16_col1\" class=\"data row16 col1\" >2.3%</td>\n",
       "    </tr>\n",
       "  </tbody>\n",
       "</table>\n"
      ],
      "text/plain": [
       "<pandas.io.formats.style.Styler at 0x7f0f0e770810>"
      ]
     },
     "execution_count": 74,
     "metadata": {},
     "output_type": "execute_result"
    }
   ],
   "source": [
    "report_geocoding(records)"
   ]
  },
  {
   "cell_type": "code",
   "execution_count": 85,
   "metadata": {},
   "outputs": [],
   "source": [
    "records_subset = records.loc[records.geocoding_method==\"None\"].copy()\n",
    "# records_subset = records_subset.loc[~records.adm2.isna()].copy()\n",
    "records_subset = records_subset.loc[~records.adm1.isna()].copy()"
   ]
  },
  {
   "cell_type": "code",
   "execution_count": 86,
   "metadata": {},
   "outputs": [
    {
     "data": {
      "text/plain": [
       "550"
      ]
     },
     "execution_count": 86,
     "metadata": {},
     "output_type": "execute_result"
    }
   ],
   "source": [
    "len(records_subset)"
   ]
  },
  {
   "cell_type": "markdown",
   "metadata": {},
   "source": [
    "## Admin 2  and admin 1 names"
   ]
  },
  {
   "cell_type": "markdown",
   "metadata": {},
   "source": [
    "Geocode based on admin 2 name and admin 1 name.    \n",
    "Check to make sure result falls within admin 1 polygon.  "
   ]
  },
  {
   "cell_type": "code",
   "execution_count": 87,
   "metadata": {},
   "outputs": [],
   "source": [
    "orglev3_df = records_subset[['orgunitlevel3', 'orgunitlevel3_edit', 'adm1', 'orgunitlevel1']].drop_duplicates().copy()"
   ]
  },
  {
   "cell_type": "code",
   "execution_count": 88,
   "metadata": {},
   "outputs": [
    {
     "data": {
      "text/plain": [
       "22"
      ]
     },
     "execution_count": 88,
     "metadata": {},
     "output_type": "execute_result"
    }
   ],
   "source": [
    "len(orglev3_df)"
   ]
  },
  {
   "cell_type": "code",
   "execution_count": 91,
   "metadata": {},
   "outputs": [
    {
     "name": "stderr",
     "output_type": "stream",
     "text": [
      "22it [00:11,  1.94it/s]\n"
     ]
    }
   ],
   "source": [
    "if len(orglev3_df) > 0:\n",
    "    for idx, row in tqdm(orglev3_df.iterrows()):\n",
    "        adm1 = geob1.loc[geob1['shapeName'] == row['adm1']].copy()\n",
    "        run_geocoding(idx, row, orglev3_df, adm1, ['orgunitlevel3', 'adm1'], 'gh')"
   ]
  },
  {
   "cell_type": "code",
   "execution_count": 92,
   "metadata": {},
   "outputs": [
    {
     "name": "stderr",
     "output_type": "stream",
     "text": [
      "550it [00:00, 804.34it/s]\n"
     ]
    }
   ],
   "source": [
    "for idx, row in tqdm(records_subset.iterrows()):\n",
    "    orglev3_geocoded = orglev3_df.loc[orglev3_df['orgunitlevel3']==row['orgunitlevel3']].iloc[0]    \n",
    "    records.loc[idx, \"longitude\"] = orglev3_geocoded.longitude\n",
    "    records.loc[idx, \"latitude\"] = orglev3_geocoded.latitude\n",
    "    records.loc[idx, \"geocoding_method\"] = orglev3_geocoded.geocoding_method"
   ]
  },
  {
   "cell_type": "code",
   "execution_count": 93,
   "metadata": {},
   "outputs": [
    {
     "data": {
      "text/html": [
       "<style type=\"text/css\">\n",
       "</style>\n",
       "<table id=\"T_13b95_\">\n",
       "  <thead>\n",
       "    <tr>\n",
       "      <th class=\"blank level0\" >&nbsp;</th>\n",
       "      <th class=\"col_heading level0 col0\" >count</th>\n",
       "      <th class=\"col_heading level0 col1\" >pct</th>\n",
       "    </tr>\n",
       "    <tr>\n",
       "      <th class=\"index_name level0\" >geocoding_method</th>\n",
       "      <th class=\"blank col0\" >&nbsp;</th>\n",
       "      <th class=\"blank col1\" >&nbsp;</th>\n",
       "    </tr>\n",
       "  </thead>\n",
       "  <tbody>\n",
       "    <tr>\n",
       "      <th id=\"T_13b95_level0_row0\" class=\"row_heading level0 row0\" >District centroid</th>\n",
       "      <td id=\"T_13b95_row0_col0\" class=\"data row0 col0\" >150</td>\n",
       "      <td id=\"T_13b95_row0_col1\" class=\"data row0 col1\" >1.4%</td>\n",
       "    </tr>\n",
       "    <tr>\n",
       "      <th id=\"T_13b95_level0_row1\" class=\"row_heading level0 row1\" >Location from Health Sites IO and within admin 1</th>\n",
       "      <td id=\"T_13b95_row1_col0\" class=\"data row1 col0\" >144</td>\n",
       "      <td id=\"T_13b95_row1_col1\" class=\"data row1 col1\" >1.4%</td>\n",
       "    </tr>\n",
       "    <tr>\n",
       "      <th id=\"T_13b95_level0_row2\" class=\"row_heading level0 row2\" >Location from Health Sites IO and within admin 2</th>\n",
       "      <td id=\"T_13b95_row2_col0\" class=\"data row2 col0\" >273</td>\n",
       "      <td id=\"T_13b95_row2_col1\" class=\"data row2 col1\" >2.6%</td>\n",
       "    </tr>\n",
       "    <tr>\n",
       "      <th id=\"T_13b95_level0_row3\" class=\"row_heading level0 row3\" >Location from Health Sites IO and without admin verification</th>\n",
       "      <td id=\"T_13b95_row3_col0\" class=\"data row3 col0\" >343</td>\n",
       "      <td id=\"T_13b95_row3_col1\" class=\"data row3 col1\" >3.2%</td>\n",
       "    </tr>\n",
       "    <tr>\n",
       "      <th id=\"T_13b95_level0_row4\" class=\"row_heading level0 row4\" >Location from Rhino Dataset and within admin 2</th>\n",
       "      <td id=\"T_13b95_row4_col0\" class=\"data row4 col0\" >219</td>\n",
       "      <td id=\"T_13b95_row4_col1\" class=\"data row4 col1\" >2.1%</td>\n",
       "    </tr>\n",
       "    <tr>\n",
       "      <th id=\"T_13b95_level0_row5\" class=\"row_heading level0 row5\" >Location from Rhino Dataset and within admin 3</th>\n",
       "      <td id=\"T_13b95_row5_col0\" class=\"data row5 col0\" >696</td>\n",
       "      <td id=\"T_13b95_row5_col1\" class=\"data row5 col1\" >6.6%</td>\n",
       "    </tr>\n",
       "    <tr>\n",
       "      <th id=\"T_13b95_level0_row6\" class=\"row_heading level0 row6\" >Location from Rhino Dataset without admin verification</th>\n",
       "      <td id=\"T_13b95_row6_col0\" class=\"data row6 col0\" >683</td>\n",
       "      <td id=\"T_13b95_row6_col1\" class=\"data row6 col1\" >6.5%</td>\n",
       "    </tr>\n",
       "    <tr>\n",
       "      <th id=\"T_13b95_level0_row7\" class=\"row_heading level0 row7\" >NAME and adm1 query Bing</th>\n",
       "      <td id=\"T_13b95_row7_col0\" class=\"data row7 col0\" >8</td>\n",
       "      <td id=\"T_13b95_row7_col1\" class=\"data row7 col1\" >0.1%</td>\n",
       "    </tr>\n",
       "    <tr>\n",
       "      <th id=\"T_13b95_level0_row8\" class=\"row_heading level0 row8\" >NAME and adm1 query Google</th>\n",
       "      <td id=\"T_13b95_row8_col0\" class=\"data row8 col0\" >16</td>\n",
       "      <td id=\"T_13b95_row8_col1\" class=\"data row8 col1\" >0.2%</td>\n",
       "    </tr>\n",
       "    <tr>\n",
       "      <th id=\"T_13b95_level0_row9\" class=\"row_heading level0 row9\" >NAME and adm1 query OSM</th>\n",
       "      <td id=\"T_13b95_row9_col0\" class=\"data row9 col0\" >4</td>\n",
       "      <td id=\"T_13b95_row9_col1\" class=\"data row9 col1\" >0.0%</td>\n",
       "    </tr>\n",
       "    <tr>\n",
       "      <th id=\"T_13b95_level0_row10\" class=\"row_heading level0 row10\" >NAME and adm2 query Bing</th>\n",
       "      <td id=\"T_13b95_row10_col0\" class=\"data row10 col0\" >1916</td>\n",
       "      <td id=\"T_13b95_row10_col1\" class=\"data row10 col1\" >18.1%</td>\n",
       "    </tr>\n",
       "    <tr>\n",
       "      <th id=\"T_13b95_level0_row11\" class=\"row_heading level0 row11\" >NAME and adm2 query Google</th>\n",
       "      <td id=\"T_13b95_row11_col0\" class=\"data row11 col0\" >3388</td>\n",
       "      <td id=\"T_13b95_row11_col1\" class=\"data row11 col1\" >32.1%</td>\n",
       "    </tr>\n",
       "    <tr>\n",
       "      <th id=\"T_13b95_level0_row12\" class=\"row_heading level0 row12\" >NAME and adm2 query OSM</th>\n",
       "      <td id=\"T_13b95_row12_col0\" class=\"data row12 col0\" >1017</td>\n",
       "      <td id=\"T_13b95_row12_col1\" class=\"data row12 col1\" >9.6%</td>\n",
       "    </tr>\n",
       "    <tr>\n",
       "      <th id=\"T_13b95_level0_row13\" class=\"row_heading level0 row13\" >None</th>\n",
       "      <td id=\"T_13b95_row13_col0\" class=\"data row13 col0\" >868</td>\n",
       "      <td id=\"T_13b95_row13_col1\" class=\"data row13 col1\" >8.2%</td>\n",
       "    </tr>\n",
       "    <tr>\n",
       "      <th id=\"T_13b95_level0_row14\" class=\"row_heading level0 row14\" >orgunitlevel3 and adm1 query Bing</th>\n",
       "      <td id=\"T_13b95_row14_col0\" class=\"data row14 col0\" >63</td>\n",
       "      <td id=\"T_13b95_row14_col1\" class=\"data row14 col1\" >0.6%</td>\n",
       "    </tr>\n",
       "    <tr>\n",
       "      <th id=\"T_13b95_level0_row15\" class=\"row_heading level0 row15\" >orgunitlevel3 and adm1 query Google</th>\n",
       "      <td id=\"T_13b95_row15_col0\" class=\"data row15 col0\" >30</td>\n",
       "      <td id=\"T_13b95_row15_col1\" class=\"data row15 col1\" >0.3%</td>\n",
       "    </tr>\n",
       "    <tr>\n",
       "      <th id=\"T_13b95_level0_row16\" class=\"row_heading level0 row16\" >orgunitlevel3 and adm1 query OSM</th>\n",
       "      <td id=\"T_13b95_row16_col0\" class=\"data row16 col0\" >457</td>\n",
       "      <td id=\"T_13b95_row16_col1\" class=\"data row16 col1\" >4.3%</td>\n",
       "    </tr>\n",
       "    <tr>\n",
       "      <th id=\"T_13b95_level0_row17\" class=\"row_heading level0 row17\" >orgunitlevel3 and orgunitlevel1 query Bing</th>\n",
       "      <td id=\"T_13b95_row17_col0\" class=\"data row17 col0\" >18</td>\n",
       "      <td id=\"T_13b95_row17_col1\" class=\"data row17 col1\" >0.2%</td>\n",
       "    </tr>\n",
       "    <tr>\n",
       "      <th id=\"T_13b95_level0_row18\" class=\"row_heading level0 row18\" >orgunitlevel3 and orgunitlevel1 query Google</th>\n",
       "      <td id=\"T_13b95_row18_col0\" class=\"data row18 col0\" >26</td>\n",
       "      <td id=\"T_13b95_row18_col1\" class=\"data row18 col1\" >0.2%</td>\n",
       "    </tr>\n",
       "    <tr>\n",
       "      <th id=\"T_13b95_level0_row19\" class=\"row_heading level0 row19\" >orgunitlevel3 and orgunitlevel1 query OSM</th>\n",
       "      <td id=\"T_13b95_row19_col0\" class=\"data row19 col0\" >245</td>\n",
       "      <td id=\"T_13b95_row19_col1\" class=\"data row19 col1\" >2.3%</td>\n",
       "    </tr>\n",
       "  </tbody>\n",
       "</table>\n"
      ],
      "text/plain": [
       "<pandas.io.formats.style.Styler at 0x7f0f0e755bd0>"
      ]
     },
     "execution_count": 93,
     "metadata": {},
     "output_type": "execute_result"
    }
   ],
   "source": [
    "report_geocoding(records)"
   ]
  },
  {
   "cell_type": "code",
   "execution_count": 94,
   "metadata": {},
   "outputs": [],
   "source": [
    "records_subset = records.loc[records.geocoding_method==\"None\"].copy()"
   ]
  },
  {
   "cell_type": "code",
   "execution_count": 121,
   "metadata": {},
   "outputs": [
    {
     "data": {
      "text/plain": [
       "868"
      ]
     },
     "execution_count": 121,
     "metadata": {},
     "output_type": "execute_result"
    }
   ],
   "source": [
    "len(records_subset)"
   ]
  },
  {
   "cell_type": "markdown",
   "metadata": {},
   "source": [
    "# Map and save results"
   ]
  },
  {
   "cell_type": "code",
   "execution_count": 96,
   "metadata": {},
   "outputs": [],
   "source": [
    "results = records.copy()"
   ]
  },
  {
   "cell_type": "code",
   "execution_count": 99,
   "metadata": {},
   "outputs": [
    {
     "data": {
      "text/plain": [
       "array(['None',\n",
       "       'Location from Health Sites IO and without admin verification',\n",
       "       'Location from Rhino Dataset without admin verification',\n",
       "       'Location from Health Sites IO and within admin 2',\n",
       "       'orgunitlevel5 and adm2 query', 'Adm2 centroid',\n",
       "       'orgunitlevel3 and adm1 query',\n",
       "       'Location from Rhino Dataset and within admin 3',\n",
       "       'orgunitlevel3 query',\n",
       "       'Location from Health Sites IO and within admin 1',\n",
       "       'Location from Rhino Dataset and within admin 2',\n",
       "       'orgunitlevel5 and adm1 query'], dtype=object)"
      ]
     },
     "execution_count": 99,
     "metadata": {},
     "output_type": "execute_result"
    }
   ],
   "source": [
    "results.geocoding_method.unique()"
   ]
  },
  {
   "cell_type": "code",
   "execution_count": 98,
   "metadata": {},
   "outputs": [],
   "source": [
    "# # Healthsites IO\n",
    "# results.loc[results.geocoding_method==\"Location from Health Sites IO and within admin 1\", \"geocoding_method\"] = \"Location from Health Sites IO\"\n",
    "# results.loc[results.geocoding_method==\"Location from Health Sites IO and within admin 2\", \"geocoding_method\"] = \"Location from Health Sites IO\"\n",
    "# results.loc[results.geocoding_method==\"Location from Health Sites IO and within admin 3\", \"geocoding_method\"] = \"Location from Health Sites IO\"\n",
    "\n",
    "# # Rhino Dataset\n",
    "# results.loc[results.geocoding_method==\"Location from Rhino Dataset and within admin 1\", \"geocoding_method\"] = \"Location from Rhino Dataset\"\n",
    "# results.loc[results.geocoding_method==\"Location from Rhino Dataset and within admin 2\", \"geocoding_method\"] = \"Location from Rhino Dataset\"\n",
    "# results.loc[results.geocoding_method==\"Location from Rhino Dataset and within admin 3\", \"geocoding_method\"] = \"Location from Rhino Dataset\"\n",
    "\n",
    "\n",
    "# facility name and adm 2\n",
    "results.loc[results.geocoding_method==\"NAME and adm2 query Bing\", \"geocoding_method\"] = \"orgunitlevel5 and adm2 query\"\n",
    "results.loc[results.geocoding_method==\"NAME and adm2 query OSM\", \"geocoding_method\"] = \"orgunitlevel5 and adm2 query\"\n",
    "results.loc[results.geocoding_method==\"NAME and adm2 query Google\", \"geocoding_method\"] = \"orgunitlevel5 and adm2 query\"\n",
    "\n",
    "# facility name and adm 1\n",
    "results.loc[results.geocoding_method==\"NAME and adm1 query Bing\", \"geocoding_method\"] = \"orgunitlevel5 and adm1 query\"\n",
    "results.loc[results.geocoding_method==\"NAME and adm1 query OSM\", \"geocoding_method\"] = \"orgunitlevel5 and adm1 query\"\n",
    "results.loc[results.geocoding_method==\"NAME and adm1 query Google\", \"geocoding_method\"] = \"orgunitlevel5 and adm1 query\"\n",
    "\n",
    "# adm 2 name\n",
    "results.loc[results.geocoding_method==\"orgunitlevel3 and orgunitlevel1 query Bing\", \"geocoding_method\"] = \"orgunitlevel3 query\"\n",
    "results.loc[results.geocoding_method==\"orgunitlevel3 and orgunitlevel1 query OSM\", \"geocoding_method\"] = \"orgunitlevel3 query\"\n",
    "results.loc[results.geocoding_method==\"orgunitlevel3 and orgunitlevel1 query Google\", \"geocoding_method\"] = \"orgunitlevel3 query\"\n",
    "\n",
    "# adm 2 name and adm1\n",
    "results.loc[results.geocoding_method==\"orgunitlevel3 and adm1 query Bing\", \"geocoding_method\"] = \"orgunitlevel3 and adm1 query\"\n",
    "results.loc[results.geocoding_method==\"orgunitlevel3 and adm1 query OSM\", \"geocoding_method\"] = \"orgunitlevel3 and adm1 query\"\n",
    "results.loc[results.geocoding_method==\"orgunitlevel3 and adm1 query Google\", \"geocoding_method\"] = \"orgunitlevel3 and adm1 query\"\n",
    "\n",
    "# Centroid\n",
    "results.loc[results.geocoding_method==\"District centroid\", \"geocoding_method\"] = \"Adm2 centroid\""
   ]
  },
  {
   "cell_type": "code",
   "execution_count": 100,
   "metadata": {
    "scrolled": false
   },
   "outputs": [
    {
     "data": {
      "text/html": [
       "<style type=\"text/css\">\n",
       "</style>\n",
       "<table id=\"T_035c6_\">\n",
       "  <thead>\n",
       "    <tr>\n",
       "      <th class=\"blank level0\" >&nbsp;</th>\n",
       "      <th class=\"col_heading level0 col0\" >count</th>\n",
       "      <th class=\"col_heading level0 col1\" >pct</th>\n",
       "    </tr>\n",
       "    <tr>\n",
       "      <th class=\"index_name level0\" >geocoding_method</th>\n",
       "      <th class=\"blank col0\" >&nbsp;</th>\n",
       "      <th class=\"blank col1\" >&nbsp;</th>\n",
       "    </tr>\n",
       "  </thead>\n",
       "  <tbody>\n",
       "    <tr>\n",
       "      <th id=\"T_035c6_level0_row0\" class=\"row_heading level0 row0\" >Adm2 centroid</th>\n",
       "      <td id=\"T_035c6_row0_col0\" class=\"data row0 col0\" >150</td>\n",
       "      <td id=\"T_035c6_row0_col1\" class=\"data row0 col1\" >1.4%</td>\n",
       "    </tr>\n",
       "    <tr>\n",
       "      <th id=\"T_035c6_level0_row1\" class=\"row_heading level0 row1\" >Location from Health Sites IO and within admin 1</th>\n",
       "      <td id=\"T_035c6_row1_col0\" class=\"data row1 col0\" >144</td>\n",
       "      <td id=\"T_035c6_row1_col1\" class=\"data row1 col1\" >1.4%</td>\n",
       "    </tr>\n",
       "    <tr>\n",
       "      <th id=\"T_035c6_level0_row2\" class=\"row_heading level0 row2\" >Location from Health Sites IO and within admin 2</th>\n",
       "      <td id=\"T_035c6_row2_col0\" class=\"data row2 col0\" >273</td>\n",
       "      <td id=\"T_035c6_row2_col1\" class=\"data row2 col1\" >2.6%</td>\n",
       "    </tr>\n",
       "    <tr>\n",
       "      <th id=\"T_035c6_level0_row3\" class=\"row_heading level0 row3\" >Location from Health Sites IO and without admin verification</th>\n",
       "      <td id=\"T_035c6_row3_col0\" class=\"data row3 col0\" >343</td>\n",
       "      <td id=\"T_035c6_row3_col1\" class=\"data row3 col1\" >3.2%</td>\n",
       "    </tr>\n",
       "    <tr>\n",
       "      <th id=\"T_035c6_level0_row4\" class=\"row_heading level0 row4\" >Location from Rhino Dataset and within admin 2</th>\n",
       "      <td id=\"T_035c6_row4_col0\" class=\"data row4 col0\" >219</td>\n",
       "      <td id=\"T_035c6_row4_col1\" class=\"data row4 col1\" >2.1%</td>\n",
       "    </tr>\n",
       "    <tr>\n",
       "      <th id=\"T_035c6_level0_row5\" class=\"row_heading level0 row5\" >Location from Rhino Dataset and within admin 3</th>\n",
       "      <td id=\"T_035c6_row5_col0\" class=\"data row5 col0\" >696</td>\n",
       "      <td id=\"T_035c6_row5_col1\" class=\"data row5 col1\" >6.6%</td>\n",
       "    </tr>\n",
       "    <tr>\n",
       "      <th id=\"T_035c6_level0_row6\" class=\"row_heading level0 row6\" >Location from Rhino Dataset without admin verification</th>\n",
       "      <td id=\"T_035c6_row6_col0\" class=\"data row6 col0\" >683</td>\n",
       "      <td id=\"T_035c6_row6_col1\" class=\"data row6 col1\" >6.5%</td>\n",
       "    </tr>\n",
       "    <tr>\n",
       "      <th id=\"T_035c6_level0_row7\" class=\"row_heading level0 row7\" >None</th>\n",
       "      <td id=\"T_035c6_row7_col0\" class=\"data row7 col0\" >868</td>\n",
       "      <td id=\"T_035c6_row7_col1\" class=\"data row7 col1\" >8.2%</td>\n",
       "    </tr>\n",
       "    <tr>\n",
       "      <th id=\"T_035c6_level0_row8\" class=\"row_heading level0 row8\" >orgunitlevel3 and adm1 query</th>\n",
       "      <td id=\"T_035c6_row8_col0\" class=\"data row8 col0\" >550</td>\n",
       "      <td id=\"T_035c6_row8_col1\" class=\"data row8 col1\" >5.2%</td>\n",
       "    </tr>\n",
       "    <tr>\n",
       "      <th id=\"T_035c6_level0_row9\" class=\"row_heading level0 row9\" >orgunitlevel3 query</th>\n",
       "      <td id=\"T_035c6_row9_col0\" class=\"data row9 col0\" >289</td>\n",
       "      <td id=\"T_035c6_row9_col1\" class=\"data row9 col1\" >2.7%</td>\n",
       "    </tr>\n",
       "    <tr>\n",
       "      <th id=\"T_035c6_level0_row10\" class=\"row_heading level0 row10\" >orgunitlevel5 and adm1 query</th>\n",
       "      <td id=\"T_035c6_row10_col0\" class=\"data row10 col0\" >28</td>\n",
       "      <td id=\"T_035c6_row10_col1\" class=\"data row10 col1\" >0.3%</td>\n",
       "    </tr>\n",
       "    <tr>\n",
       "      <th id=\"T_035c6_level0_row11\" class=\"row_heading level0 row11\" >orgunitlevel5 and adm2 query</th>\n",
       "      <td id=\"T_035c6_row11_col0\" class=\"data row11 col0\" >6321</td>\n",
       "      <td id=\"T_035c6_row11_col1\" class=\"data row11 col1\" >59.8%</td>\n",
       "    </tr>\n",
       "  </tbody>\n",
       "</table>\n"
      ],
      "text/plain": [
       "<pandas.io.formats.style.Styler at 0x7f0f0e8d1950>"
      ]
     },
     "execution_count": 100,
     "metadata": {},
     "output_type": "execute_result"
    }
   ],
   "source": [
    "report_geocoding(results)"
   ]
  },
  {
   "cell_type": "code",
   "execution_count": 101,
   "metadata": {},
   "outputs": [],
   "source": [
    "results.loc[:, \"geometry\"] = results.apply(lambda x: Point(x.longitude, x.latitude), axis=1)\n",
    "results = gpd.GeoDataFrame(results, geometry='geometry', crs='EPSG:4326')"
   ]
  },
  {
   "cell_type": "code",
   "execution_count": 102,
   "metadata": {},
   "outputs": [
    {
     "data": {
      "image/png": "[encoded data removed]",
      "text/plain": [
       "<Figure size 720x720 with 1 Axes>"
      ]
     },
     "metadata": {
      "needs_background": "light"
     },
     "output_type": "display_data"
    }
   ],
   "source": [
    "fig, ax = plt.subplots(1, 1, figsize=(10,10))\n",
    "geob2.boundary.plot(ax=ax, color='black', linewidth=1).set_axis_off()\n",
    "results.loc[results.geocoding_method!=\"None\"].plot(ax=ax, column='geocoding_method', edgecolor='white', markersize=50, alpha=0.75, legend=True)\n",
    "ctx.add_basemap(ax, source=ctx.providers.Stamen.Terrain, crs='EPSG:4326', zorder=-10)"
   ]
  },
  {
   "cell_type": "markdown",
   "metadata": {},
   "source": [
    "## Join attributes from administrative polygons"
   ]
  },
  {
   "cell_type": "markdown",
   "metadata": {},
   "source": [
    "Join admin data back to results.  \n",
    "For adm2 features, use spatial join to geob2.  "
   ]
  },
  {
   "cell_type": "code",
   "execution_count": 143,
   "metadata": {},
   "outputs": [],
   "source": [
    "results2 = results.loc[~(results.longitude.isna())].copy()"
   ]
  },
  {
   "cell_type": "code",
   "execution_count": null,
   "metadata": {},
   "outputs": [],
   "source": [
    "records_subset = records.loc[records.geocoding_method==\"None\"].copy()"
   ]
  },
  {
   "cell_type": "code",
   "execution_count": 145,
   "metadata": {},
   "outputs": [],
   "source": [
    "results2 = gpd.sjoin(results2, geob2[[\"shapeName\", \"shapeID\", \"geometry\"]], how='left', predicate='intersects')\n",
    "results2.drop('index_right', axis=1, inplace=True)"
   ]
  },
  {
   "cell_type": "code",
   "execution_count": 146,
   "metadata": {},
   "outputs": [],
   "source": [
    "results2.rename(\n",
    "    columns={\n",
    "        'shapeName':'geob_adm2',\n",
    "        'shapeID':'geob_adm2_id',\n",
    "    }, inplace=True)"
   ]
  },
  {
   "cell_type": "code",
   "execution_count": 147,
   "metadata": {},
   "outputs": [],
   "source": [
    "results2 = gpd.sjoin(results2, geob1[[\"shapeName\", \"shapeID\", \"geometry\"]], how='left', predicate='intersects')\n",
    "results2.drop('index_right', axis=1, inplace=True)"
   ]
  },
  {
   "cell_type": "code",
   "execution_count": 148,
   "metadata": {},
   "outputs": [
    {
     "data": {
      "text/plain": [
       "(0, 1)"
      ]
     },
     "execution_count": 148,
     "metadata": {},
     "output_type": "execute_result"
    }
   ],
   "source": [
    "results2.geob_adm2.isna().sum(), results2.shapeName.isna().sum()"
   ]
  },
  {
   "cell_type": "code",
   "execution_count": 149,
   "metadata": {},
   "outputs": [],
   "source": [
    "results2.rename(\n",
    "    columns={\n",
    "        'shapeName':'geob_adm1',\n",
    "        'shapeID':'geob_adm1_id',\n",
    "        'adm1':'fuzzy_match_adm1',\n",
    "        'adm2':'fuzzy_match_adm2'\n",
    "    }, inplace=True)"
   ]
  },
  {
   "cell_type": "code",
   "execution_count": 113,
   "metadata": {},
   "outputs": [],
   "source": [
    "#results2.to_file(join(output_dir, \"GHA_geocoding_1.27.23.json\"), driver='GeoJSON', index=True)"
   ]
  },
  {
   "cell_type": "code",
   "execution_count": 115,
   "metadata": {},
   "outputs": [],
   "source": [
    "# results2"
   ]
  },
  {
   "cell_type": "code",
   "execution_count": 150,
   "metadata": {},
   "outputs": [
    {
     "name": "stdout",
     "output_type": "stream",
     "text": [
      "10564\n",
      "9677\n"
     ]
    }
   ],
   "source": [
    "# FYI saving the results2, the results that were able to be geocoded\n",
    "print(len(results))\n",
    "print(len(results2))"
   ]
  },
  {
   "cell_type": "code",
   "execution_count": 151,
   "metadata": {},
   "outputs": [],
   "source": [
    "results_final = pd.concat([results2, records_subset])\n",
    "results_final.sort_index(inplace=True)\n",
    "results_final.to_csv(join(output_dir, \"GHA_geocoding_2.7.23.csv\"))\n",
    "results_final.to_file(join(output_dir, \"GHA_geocoding_2.7.23.json\"), driver=\"GeoJSON\")"
   ]
  }
 ],
 "metadata": {
  "kernelspec": {
   "display_name": "GEO",
   "language": "python",
   "name": "geo"
  },
  "language_info": {
   "codemirror_mode": {
    "name": "ipython",
    "version": 3
   },
   "file_extension": ".py",
   "mimetype": "text/x-python",
   "name": "python",
   "nbconvert_exporter": "python",
   "pygments_lexer": "ipython3",
   "version": "3.7.6"
  },
  "toc": {
   "base_numbering": 1,
   "nav_menu": {
    "height": "146px",
    "width": "280px"
   },
   "number_sections": true,
   "sideBar": true,
   "skip_h1_title": false,
   "title_cell": "Geocoding Notebook - Ghana",
   "title_sidebar": "Contents",
   "toc_cell": true,
   "toc_position": {
    "height": "789px",
    "left": "24px",
    "top": "111.125px",
    "width": "450px"
   },
   "toc_section_display": true,
   "toc_window_display": true
  }
 },
 "nbformat": 4,
 "nbformat_minor": 2
}
